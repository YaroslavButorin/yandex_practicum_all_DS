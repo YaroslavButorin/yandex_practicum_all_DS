{
  "cells": [
    {
      "cell_type": "markdown",
      "metadata": {
        "toc": true,
        "id": "rN3xloEvR1JA"
      },
      "source": [
        "<h1>Содержание<span class=\"tocSkip\"></span></h1>\n",
        "<div class=\"toc\"><ul class=\"toc-item\"><li><span><a href=\"#Подготовка\" data-toc-modified-id=\"Подготовка-1\"><span class=\"toc-item-num\">1&nbsp;&nbsp;</span>Подготовка</a></span></li><li><span><a href=\"#Обучение\" data-toc-modified-id=\"Обучение-2\"><span class=\"toc-item-num\">2&nbsp;&nbsp;</span>Обучение</a></span><ul class=\"toc-item\"><li><span><a href=\"#LogisticRegression\" data-toc-modified-id=\"LogisticRegression-2.1\"><span class=\"toc-item-num\">2.1&nbsp;&nbsp;</span>LogisticRegression</a></span><ul class=\"toc-item\"><li><span><a href=\"#Pipeline\" data-toc-modified-id=\"Pipeline-2.1.1\"><span class=\"toc-item-num\">2.1.1&nbsp;&nbsp;</span>Pipeline</a></span></li></ul></li><li><span><a href=\"#xgbClassifier\" data-toc-modified-id=\"xgbClassifier-2.2\"><span class=\"toc-item-num\">2.2&nbsp;&nbsp;</span>xgbClassifier</a></span></li><li><span><a href=\"#RandomForestClassifier\" data-toc-modified-id=\"RandomForestClassifier-2.3\"><span class=\"toc-item-num\">2.3&nbsp;&nbsp;</span>RandomForestClassifier</a></span></li></ul></li><li><span><a href=\"#Выводы\" data-toc-modified-id=\"Выводы-3\"><span class=\"toc-item-num\">3&nbsp;&nbsp;</span>Выводы</a></span></li><li><span><a href=\"#Чек-лист-проверки\" data-toc-modified-id=\"Чек-лист-проверки-4\"><span class=\"toc-item-num\">4&nbsp;&nbsp;</span>Чек-лист проверки</a></span></li></ul></div>"
      ]
    },
    {
      "cell_type": "markdown",
      "metadata": {
        "id": "JnYtHRtUR1JB"
      },
      "source": [
        "# Проект для «Викишоп»"
      ]
    },
    {
      "cell_type": "markdown",
      "metadata": {
        "id": "BvqG2q3WR1JC"
      },
      "source": [
        "Интернет-магазин «Викишоп» запускает новый сервис. Теперь пользователи могут редактировать и дополнять описания товаров, как в вики-сообществах. То есть клиенты предлагают свои правки и комментируют изменения других. Магазину нужен инструмент, который будет искать токсичные комментарии и отправлять их на модерацию. \n",
        "\n",
        "Обучите модель классифицировать комментарии на позитивные и негативные. В вашем распоряжении набор данных с разметкой о токсичности правок.\n",
        "\n",
        "Постройте модель со значением метрики качества *F1* не меньше 0.75. \n",
        "\n",
        "**Инструкция по выполнению проекта**\n",
        "\n",
        "1. Загрузите и подготовьте данные.\n",
        "2. Обучите разные модели. \n",
        "3. Сделайте выводы.\n",
        "\n",
        "Для выполнения проекта применять *BERT* необязательно, но вы можете попробовать.\n",
        "\n",
        "**Описание данных**\n",
        "\n",
        "Данные находятся в файле `toxic_comments.csv`. Столбец *text* в нём содержит текст комментария, а *toxic* — целевой признак."
      ]
    },
    {
      "cell_type": "code",
      "execution_count": null,
      "metadata": {
        "id": "Q3p1M6wQR1JE"
      },
      "outputs": [],
      "source": [
        "import pandas as pd\n",
        "import numpy as np\n",
        "import re\n",
        "from sklearn.model_selection import train_test_split\n",
        "from sklearn.model_selection import GridSearchCV\n",
        "from sklearn.metrics import f1_score\n",
        "from nltk.stem import WordNetLemmatizer\n",
        "from sklearn.feature_extraction.text import TfidfVectorizer\n",
        "from sklearn.feature_extraction.text import CountVectorizer\n",
        "from sklearn.feature_extraction.text import TfidfTransformer\n",
        "import nltk\n",
        "from nltk.corpus import stopwords\n",
        "from nltk.corpus import wordnet\n",
        "from sklearn.linear_model import LogisticRegression\n",
        "from sklearn.ensemble import RandomForestClassifier\n",
        "import lightgbm as lgb\n",
        "import xgboost as xgb\n",
        "import time"
      ]
    },
    {
      "cell_type": "markdown",
      "metadata": {
        "id": "CjbRgdG2R1JI"
      },
      "source": [
        "## Подготовка"
      ]
    },
    {
      "cell_type": "code",
      "execution_count": null,
      "metadata": {
        "id": "RZgylIyRR1JJ"
      },
      "outputs": [],
      "source": [
        "data = pd.read_csv('/datasets/toxic_comments.csv')"
      ]
    },
    {
      "cell_type": "code",
      "execution_count": null,
      "metadata": {
        "id": "wIDFGot9R1JJ",
        "outputId": "5806ec32-65ee-4f29-d698-06f07296d457"
      },
      "outputs": [
        {
          "name": "stdout",
          "output_type": "stream",
          "text": [
            "<class 'pandas.core.frame.DataFrame'>\n",
            "RangeIndex: 159571 entries, 0 to 159570\n",
            "Data columns (total 2 columns):\n",
            " #   Column  Non-Null Count   Dtype \n",
            "---  ------  --------------   ----- \n",
            " 0   text    159571 non-null  object\n",
            " 1   toxic   159571 non-null  int64 \n",
            "dtypes: int64(1), object(1)\n",
            "memory usage: 2.4+ MB\n"
          ]
        }
      ],
      "source": [
        "data.info()"
      ]
    },
    {
      "cell_type": "code",
      "execution_count": null,
      "metadata": {
        "scrolled": false,
        "id": "Gdgqyl1wR1JL",
        "outputId": "056963ba-b121-4827-9ad9-a367faccfdeb"
      },
      "outputs": [
        {
          "data": {
            "text/plain": [
              "0    143346\n",
              "1     16225\n",
              "Name: toxic, dtype: int64"
            ]
          },
          "execution_count": 5,
          "metadata": {},
          "output_type": "execute_result"
        }
      ],
      "source": [
        "data['toxic'].value_counts()"
      ]
    },
    {
      "cell_type": "markdown",
      "metadata": {
        "id": "VxVQU0WER1JM"
      },
      "source": [
        "Тут явно дисбаланс классов."
      ]
    },
    {
      "cell_type": "code",
      "execution_count": null,
      "metadata": {
        "id": "P4sbVM0BR1JN",
        "outputId": "680a9559-64fc-4a07-831f-0c4a5dd381be"
      },
      "outputs": [
        {
          "data": {
            "text/plain": [
              "\"Explanation\\nWhy the edits made under my username Hardcore Metallica Fan were reverted? They weren't vandalisms, just closure on some GAs after I voted at New York Dolls FAC. And please don't remove the template from the talk page since I'm retired now.89.205.38.27\""
            ]
          },
          "execution_count": 6,
          "metadata": {},
          "output_type": "execute_result"
        }
      ],
      "source": [
        "data['text'][0]"
      ]
    },
    {
      "cell_type": "markdown",
      "metadata": {
        "id": "KktrdTBxR1JN"
      },
      "source": [
        "Все на англ."
      ]
    },
    {
      "cell_type": "markdown",
      "metadata": {
        "id": "3OegWlFeR1JO"
      },
      "source": [
        "Лемматизирум текст и убираем перенос строки."
      ]
    },
    {
      "cell_type": "code",
      "execution_count": null,
      "metadata": {
        "scrolled": true,
        "id": "H6X6Zt-MR1JO",
        "outputId": "11395934-90ca-4a6b-d4d9-5785f5c25aee"
      },
      "outputs": [
        {
          "name": "stdout",
          "output_type": "stream",
          "text": [
            "\n",
            "\n",
            "Повторяющиеся строки : \n",
            " Empty DataFrame\n",
            "Columns: [text, toxic]\n",
            "Index: []\n"
          ]
        }
      ],
      "source": [
        "Dup_Rows = data[data.duplicated()]\n",
        "print(\"\\n\\nПовторяющиеся строки : \\n {}\".format(Dup_Rows))"
      ]
    },
    {
      "cell_type": "code",
      "execution_count": null,
      "metadata": {
        "scrolled": false,
        "id": "eLh86U-XR1JP",
        "outputId": "81eeed2f-1db4-4466-ca1e-26eb92bf98b1"
      },
      "outputs": [
        {
          "name": "stderr",
          "output_type": "stream",
          "text": [
            "[nltk_data] Downloading package averaged_perceptron_tagger to\n",
            "[nltk_data]     /home/jovyan/nltk_data...\n",
            "[nltk_data]   Unzipping taggers/averaged_perceptron_tagger.zip.\n"
          ]
        },
        {
          "data": {
            "text/plain": [
              "True"
            ]
          },
          "execution_count": 8,
          "metadata": {},
          "output_type": "execute_result"
        }
      ],
      "source": [
        "nltk.download('averaged_perceptron_tagger')"
      ]
    },
    {
      "cell_type": "code",
      "execution_count": null,
      "metadata": {
        "id": "6JjJxhFMR1JP"
      },
      "outputs": [],
      "source": [
        "def get_wordnet_pos(word):\n",
        "    \"\"\"Map POS tag to first character lemmatize() accepts\"\"\"\n",
        "    tag = nltk.pos_tag([word])[0][1][0].upper()\n",
        "    tag_dict = {\"J\": wordnet.ADJ,\n",
        "                \"N\": wordnet.NOUN,\n",
        "                \"V\": wordnet.VERB,\n",
        "                \"R\": wordnet.ADV}\n",
        "    return tag_dict.get(tag, wordnet.NOUN)"
      ]
    },
    {
      "cell_type": "code",
      "execution_count": null,
      "metadata": {
        "id": "m1oGRJl4R1JQ"
      },
      "outputs": [],
      "source": [
        "w_tokenizer = nltk.tokenize.WhitespaceTokenizer()\n",
        "lemmatizer = nltk.stem.WordNetLemmatizer()\n",
        "def lemmatize_text(text):\n",
        "    text = re.sub(r'[^\\w\\s]','',text)\n",
        "    #tokenize = w_tokenizer.tokenize(text)\n",
        "    pos = ([lemmatizer.lemmatize(w, get_wordnet_pos(w)) for w in nltk.word_tokenize(text)])\n",
        "    #return pos\n",
        "    return \" \".join(pos)"
      ]
    },
    {
      "cell_type": "code",
      "execution_count": null,
      "metadata": {
        "scrolled": true,
        "id": "i0M6LereR1JR"
      },
      "outputs": [],
      "source": [
        "#lemmatize_text('how are you?')"
      ]
    },
    {
      "cell_type": "code",
      "execution_count": null,
      "metadata": {
        "scrolled": true,
        "id": "Bp4oGK7sR1JR"
      },
      "outputs": [],
      "source": [
        "data['lemm_text'] = data['text'].apply(lemmatize_text)"
      ]
    },
    {
      "cell_type": "code",
      "execution_count": null,
      "metadata": {
        "scrolled": true,
        "id": "Yvs0sreSR1JS",
        "outputId": "e0d9f74a-9311-4253-b291-78b9c7c6e42b"
      },
      "outputs": [
        {
          "data": {
            "text/plain": [
              "0         Explanation Why the edits make under my userna...\n",
              "1         Daww He match this background colour Im seemin...\n",
              "2         Hey man Im really not try to edit war Its just...\n",
              "3         More I cant make any real suggestion on improv...\n",
              "4         You sir be my hero Any chance you remember wha...\n",
              "                                ...                        \n",
              "159566    And for the second time of ask when your view ...\n",
              "159567    You should be ashamed of yourself That be a ho...\n",
              "159568    Spitzer Umm there no actual article for prosti...\n",
              "159569    And it look like it be actually you who put on...\n",
              "159570    And I really dont think you understand I come ...\n",
              "Name: lemm_text, Length: 159571, dtype: object"
            ]
          },
          "execution_count": 13,
          "metadata": {},
          "output_type": "execute_result"
        }
      ],
      "source": [
        "data['lemm_text']"
      ]
    },
    {
      "cell_type": "code",
      "execution_count": null,
      "metadata": {
        "scrolled": true,
        "id": "TABFD88HR1JU",
        "outputId": "02ed73ce-0546-4ef0-c3ab-0d642ba549ef"
      },
      "outputs": [
        {
          "name": "stdout",
          "output_type": "stream",
          "text": [
            "Исходный текст: Hey man, I'm really not trying to edit war. It's just that this guy is constantly removing relevant information and talking to me through edits instead of my talk page. He seems to care more about the formatting than the actual info.\n",
            "Лемматизированный текст: Hey man Im really not try to edit war Its just that this guy be constantly remove relevant information and talk to me through edits instead of my talk page He seem to care more about the format than the actual info\n"
          ]
        }
      ],
      "source": [
        "print(\"Исходный текст:\", data['text'][2])\n",
        "print(\"Лемматизированный текст:\", data['lemm_text'][2])"
      ]
    },
    {
      "cell_type": "markdown",
      "metadata": {
        "id": "xsT3aM6TR1JU"
      },
      "source": [
        "Создадим корпус."
      ]
    },
    {
      "cell_type": "code",
      "execution_count": null,
      "metadata": {
        "id": "lvsKufy8R1JV"
      },
      "outputs": [],
      "source": [
        "corpus = list(data['lemm_text'])"
      ]
    },
    {
      "cell_type": "markdown",
      "metadata": {
        "id": "6fVaDznzR1JV"
      },
      "source": [
        "Загрузим стоп-слова."
      ]
    },
    {
      "cell_type": "markdown",
      "metadata": {
        "id": "dmBiUbd6R1JV"
      },
      "source": [
        "Создадим мешок слов."
      ]
    },
    {
      "cell_type": "code",
      "execution_count": null,
      "metadata": {
        "scrolled": true,
        "id": "OLAWjV50R1JV",
        "outputId": "bf2ea9c4-f216-47a6-893f-fa30b9b6bb43"
      },
      "outputs": [
        {
          "name": "stderr",
          "output_type": "stream",
          "text": [
            "[nltk_data] Downloading package stopwords to /home/jovyan/nltk_data...\n",
            "[nltk_data]   Unzipping corpora/stopwords.zip.\n"
          ]
        },
        {
          "data": {
            "text/plain": [
              "True"
            ]
          },
          "execution_count": 16,
          "metadata": {},
          "output_type": "execute_result"
        }
      ],
      "source": [
        "nltk.download('stopwords')"
      ]
    },
    {
      "cell_type": "code",
      "execution_count": null,
      "metadata": {
        "id": "4BK1AISRR1JW"
      },
      "outputs": [],
      "source": [
        "stop_words = set(stopwords.words('english'))"
      ]
    },
    {
      "cell_type": "markdown",
      "metadata": {
        "id": "ZFZ45i3tR1JW"
      },
      "source": [
        "Разделим данные на выборки"
      ]
    },
    {
      "cell_type": "code",
      "execution_count": null,
      "metadata": {
        "id": "C0PL5nJ3R1JW"
      },
      "outputs": [],
      "source": [
        "features = data['lemm_text']\n",
        "target = data['toxic']"
      ]
    },
    {
      "cell_type": "code",
      "execution_count": null,
      "metadata": {
        "id": "HbhWphZgR1JX"
      },
      "outputs": [],
      "source": [
        "features_train, features_valid, target_train, target_valid = train_test_split(features, target, test_size=0.25, random_state=12345) "
      ]
    },
    {
      "cell_type": "code",
      "execution_count": null,
      "metadata": {
        "id": "S5WK1VAmR1JY",
        "outputId": "72c86bd3-be70-4ee7-ec6b-5196bcdf1c93"
      },
      "outputs": [
        {
          "data": {
            "text/plain": [
              "111565    Ath Cliath section We have a bit of a problem ...\n",
              "8575      Sure thing By the way I have a new userbox tha...\n",
              "153402    We be in the same boat a Britannica which be a...\n",
              "65019     I have a look through the section on theology ...\n",
              "155787    Warren Commission Exhibit 746E the Chin It be ...\n",
              "                                ...                        \n",
              "109993    Gam keep your CRAP off my Talk Page Your KKK s...\n",
              "85412                               I correct what you list\n",
              "133249    hmm yes a I say I also watch the Emily Ruetear...\n",
              "130333                          kinda like miachael jackson\n",
              "77285     criterion for deletion Im just wonder what be ...\n",
              "Name: lemm_text, Length: 119678, dtype: object"
            ]
          },
          "execution_count": 20,
          "metadata": {},
          "output_type": "execute_result"
        }
      ],
      "source": [
        "features_train"
      ]
    },
    {
      "cell_type": "markdown",
      "metadata": {
        "id": "b7g7LsIVR1JZ"
      },
      "source": [
        "## Обучение"
      ]
    },
    {
      "cell_type": "code",
      "execution_count": null,
      "metadata": {
        "id": "MHPHCW0fR1JZ"
      },
      "outputs": [],
      "source": [
        "count_tf_idf = TfidfVectorizer(stop_words=stop_words)"
      ]
    },
    {
      "cell_type": "code",
      "execution_count": null,
      "metadata": {
        "id": "8ishYI9ZR1Ja"
      },
      "outputs": [],
      "source": [
        "tf_idf = count_tf_idf.fit_transform(features_train)\n",
        "train_tfidf = count_tf_idf.transform(features_train)\n",
        "test_tfidf = count_tf_idf.transform(features_valid)"
      ]
    },
    {
      "cell_type": "markdown",
      "metadata": {
        "id": "k84yP_2mR1Ja"
      },
      "source": [
        "### LogisticRegression"
      ]
    },
    {
      "cell_type": "markdown",
      "metadata": {
        "id": "SyZGZsNMR1Ja"
      },
      "source": [
        "#### Pipeline"
      ]
    },
    {
      "cell_type": "code",
      "execution_count": null,
      "metadata": {
        "id": "obC-If5YR1Jb",
        "outputId": "eb7cbdf8-eda7-4c8a-8a2b-f59908c361e0"
      },
      "outputs": [
        {
          "name": "stdout",
          "output_type": "stream",
          "text": [
            "Performing grid search...\n",
            "pipeline: ['vect', 'tfidf', 'LGR']\n",
            "parameters:\n",
            "{'LGR__C': [1, 10, 0.1]}\n",
            "Fitting 5 folds for each of 3 candidates, totalling 15 fits\n",
            "Best score: 0.950\n",
            "Best parameters set:\n",
            "\tLGR__C: 10\n"
          ]
        }
      ],
      "source": [
        "from sklearn.pipeline import Pipeline\n",
        "import time\n",
        "pipeline = Pipeline(\n",
        "    [\n",
        "        (\"vect\", CountVectorizer()),\n",
        "        (\"tfidf\", TfidfTransformer()),\n",
        "        (\"LGR\", LogisticRegression(class_weight='balanced',solver='lbfgs', max_iter=1000)),\n",
        "    ]\n",
        ")\n",
        "\n",
        "parameters = {'LGR__C': [1, 10, 0.1]}\n",
        "grid_search = GridSearchCV(pipeline, parameters, verbose=1)\n",
        "#print(grid_search.get_params().keys())\n",
        "print(\"Performing grid search...\")\n",
        "print(\"pipeline:\", [name for name, _ in pipeline.steps])\n",
        "print(\"parameters:\")\n",
        "print(parameters)\n",
        "\n",
        "grid_search.fit(features_train, target_train)\n",
        "\n",
        "predict = grid_search.predict(features_valid)\n",
        "f1 = f1_score(target_valid,predict)\n",
        "print(\"Best score: %0.3f\" % grid_search.best_score_)\n",
        "print(\"Best parameters set:\")\n",
        "best_parameters = grid_search.best_estimator_.get_params()\n",
        "for param_name in sorted(parameters.keys()):\n",
        "    print(\"\\t%s: %r\" % (param_name, best_parameters[param_name]))"
      ]
    },
    {
      "cell_type": "code",
      "execution_count": null,
      "metadata": {
        "id": "E3JWBL9LR1Jb",
        "outputId": "3133a727-e6b9-4fe6-bf70-6320dde3366a"
      },
      "outputs": [
        {
          "name": "stdout",
          "output_type": "stream",
          "text": [
            "0.7753465459961049\n"
          ]
        }
      ],
      "source": [
        "print(f1)"
      ]
    },
    {
      "cell_type": "markdown",
      "metadata": {
        "id": "nghamiFXR1Jc"
      },
      "source": [
        "С пайп лайном результат вышел даже лучше."
      ]
    },
    {
      "cell_type": "code",
      "execution_count": null,
      "metadata": {
        "scrolled": true,
        "id": "BSX5zx5CR1Jc"
      },
      "outputs": [],
      "source": [
        "def LogisticRegression_model():\n",
        "    model = LogisticRegression(class_weight='balanced',solver='lbfgs', max_iter=1000)\n",
        "    clf = GridSearchCV(model, {'C': [1, 10, 0.1]})            \n",
        "                                                                    \n",
        "    clf.fit(train_tfidf, target_train)\n",
        "    predict = clf.predict(test_tfidf)\n",
        "    f1 = f1_score(target_valid,predict)\n",
        "    print(f1)\n",
        "    print(clf.best_params_)"
      ]
    },
    {
      "cell_type": "code",
      "execution_count": null,
      "metadata": {
        "id": "SrAqjEjWR1Jd",
        "outputId": "d1a381cf-55a5-4a90-f31e-c37bfa521b10"
      },
      "outputs": [
        {
          "name": "stdout",
          "output_type": "stream",
          "text": [
            "0.7651221182378453\n",
            "{'C': 10}\n"
          ]
        }
      ],
      "source": [
        "LogisticRegression_model()"
      ]
    },
    {
      "cell_type": "markdown",
      "metadata": {
        "id": "iok3UCemR1Jd"
      },
      "source": [
        "После подбора параметра регуляризации и сбалансированного баланса классов получили F1 = 0.76 что удовлетворяет условиям задачи."
      ]
    },
    {
      "cell_type": "markdown",
      "metadata": {
        "id": "llD0oRwsR1Jf"
      },
      "source": [
        "### xgbClassifier"
      ]
    },
    {
      "cell_type": "code",
      "execution_count": null,
      "metadata": {
        "id": "YtBDO86ER1Jf"
      },
      "outputs": [],
      "source": [
        "def xgbClassifier_model():\n",
        "    model_xgb = xgb.XGBClassifier(booster='gbtree',use_label_encoder =False,eval_metric='mlogloss')\n",
        "    clf = GridSearchCV(model_xgb, {'max_depth': [1, 10, 1],\n",
        "                                    #'subsample':[0.5,0.9,0.1]\n",
        "                                    #'colsample_bytree':[0.5,0.9,0.1]\n",
        "                                    'n_estimators': [1, 50, 5]}, verbose=1,\n",
        "                                     scoring='f1')\n",
        "                                                                    \n",
        "    clf.fit(train_tfidf, target_train)\n",
        "    predict = clf.predict(test_tfidf)\n",
        "    f1 = f1_score(target_valid,predict)\n",
        "    print(f1)\n",
        "    print(clf.best_params_)"
      ]
    },
    {
      "cell_type": "code",
      "execution_count": null,
      "metadata": {
        "scrolled": true,
        "id": "YHp64eqsR1Jg",
        "outputId": "ab9bfa2e-0802-408c-d932-ddc885cbe94a"
      },
      "outputs": [
        {
          "name": "stdout",
          "output_type": "stream",
          "text": [
            "Fitting 5 folds for each of 9 candidates, totalling 45 fits\n",
            "0.7167819866307025\n",
            "{'max_depth': 10, 'n_estimators': 50}\n"
          ]
        }
      ],
      "source": [
        "xgbClassifier_model()"
      ]
    },
    {
      "cell_type": "markdown",
      "metadata": {
        "id": "qaI4BR6LR1Jg"
      },
      "source": [
        "Обучение было довольно долгим, библиотека градиентного бустинга дала результат в F1 = 0.71"
      ]
    },
    {
      "cell_type": "markdown",
      "metadata": {
        "id": "BRpcyr6WR1Jh"
      },
      "source": [
        "### RandomForestClassifier"
      ]
    },
    {
      "cell_type": "code",
      "execution_count": null,
      "metadata": {
        "id": "2gs3k82xR1Jh"
      },
      "outputs": [],
      "source": [
        "def RandomForestClassifier_model():\n",
        "    model_RF = RandomForestClassifier(random_state=12345)\n",
        "    clf = GridSearchCV(model_RF, {'max_depth': [1, 10, 1],\n",
        "                               'n_estimators': [1, 50, 5]}, verbose=1,\n",
        "                                scoring='f1')\n",
        "                                                                    \n",
        "    clf.fit(train_tfidf, target_train)\n",
        "    predict = clf.predict(test_tfidf)\n",
        "    f1 = f1_score(target_valid,predict)\n",
        "    print(f1)\n",
        "    print(clf.best_params_)"
      ]
    },
    {
      "cell_type": "code",
      "execution_count": null,
      "metadata": {
        "scrolled": true,
        "id": "Yd8guVTMR1Ji",
        "outputId": "9965fce0-d424-4cc9-cc6a-fc673fb7f198"
      },
      "outputs": [
        {
          "name": "stdout",
          "output_type": "stream",
          "text": [
            "Fitting 5 folds for each of 9 candidates, totalling 45 fits\n",
            "0.025949062950504566\n",
            "{'max_depth': 10, 'n_estimators': 1}\n"
          ]
        }
      ],
      "source": [
        "RandomForestClassifier_model()"
      ]
    },
    {
      "cell_type": "markdown",
      "metadata": {
        "id": "bMTOhCxwR1Jj"
      },
      "source": [
        "## Выводы"
      ]
    },
    {
      "cell_type": "markdown",
      "metadata": {
        "id": "60OCenNRR1Jk"
      },
      "source": [
        "Модели случайного леса и градиентного бустинга не подходят для задачи классификации текста, не выдают приемлимый результат. В нашей задаче лучше всего проявила себя модель LogisticRegression через pipeline."
      ]
    },
    {
      "cell_type": "markdown",
      "metadata": {
        "id": "e5M6mn8vR1Jl"
      },
      "source": [
        "## Чек-лист проверки"
      ]
    },
    {
      "cell_type": "markdown",
      "metadata": {
        "id": "hzWlknYJR1Jl"
      },
      "source": [
        "- [x]  Jupyter Notebook открыт\n",
        "- [x]  Весь код выполняется без ошибок\n",
        "- [x]  Ячейки с кодом расположены в порядке исполнения\n",
        "- [x]  Данные загружены и подготовлены\n",
        "- [x]  Модели обучены\n",
        "- [x]  Значение метрики *F1* не меньше 0.75\n",
        "- [x]  Выводы написаны"
      ]
    }
  ],
  "metadata": {
    "ExecuteTimeLog": [
      {
        "duration": 894,
        "start_time": "2022-08-14T04:45:28.146Z"
      },
      {
        "duration": 2194,
        "start_time": "2022-08-14T04:46:02.723Z"
      },
      {
        "duration": 15,
        "start_time": "2022-08-14T04:46:11.261Z"
      },
      {
        "duration": 5,
        "start_time": "2022-08-14T04:49:18.180Z"
      },
      {
        "duration": 33,
        "start_time": "2022-08-14T04:49:30.802Z"
      },
      {
        "duration": 718,
        "start_time": "2022-08-14T04:49:53.164Z"
      },
      {
        "duration": 92,
        "start_time": "2022-08-14T04:49:57.574Z"
      },
      {
        "duration": 6,
        "start_time": "2022-08-14T04:50:46.133Z"
      },
      {
        "duration": 1720,
        "start_time": "2022-08-14T04:59:50.774Z"
      },
      {
        "duration": 1027,
        "start_time": "2022-08-14T05:00:11.916Z"
      },
      {
        "duration": 2220,
        "start_time": "2022-08-14T05:00:12.946Z"
      },
      {
        "duration": 31,
        "start_time": "2022-08-14T05:00:15.167Z"
      },
      {
        "duration": 15,
        "start_time": "2022-08-14T05:00:15.199Z"
      },
      {
        "duration": 1685,
        "start_time": "2022-08-14T05:00:15.216Z"
      },
      {
        "duration": 45,
        "start_time": "2022-08-14T05:04:09.350Z"
      },
      {
        "duration": 6,
        "start_time": "2022-08-14T05:04:12.397Z"
      },
      {
        "duration": 988,
        "start_time": "2022-08-14T05:04:16.184Z"
      },
      {
        "duration": 2213,
        "start_time": "2022-08-14T05:04:17.174Z"
      },
      {
        "duration": 29,
        "start_time": "2022-08-14T05:04:19.388Z"
      },
      {
        "duration": 9,
        "start_time": "2022-08-14T05:04:19.419Z"
      },
      {
        "duration": 4,
        "start_time": "2022-08-14T05:04:24.759Z"
      },
      {
        "duration": 3,
        "start_time": "2022-08-14T05:07:38.560Z"
      },
      {
        "duration": 3,
        "start_time": "2022-08-14T05:08:08.510Z"
      },
      {
        "duration": 3,
        "start_time": "2022-08-14T05:08:09.230Z"
      },
      {
        "duration": 131,
        "start_time": "2022-08-14T05:08:45.681Z"
      },
      {
        "duration": 3,
        "start_time": "2022-08-14T05:08:51.690Z"
      },
      {
        "duration": 3,
        "start_time": "2022-08-14T05:08:52.030Z"
      },
      {
        "duration": 62,
        "start_time": "2022-08-14T05:09:40.383Z"
      },
      {
        "duration": 1267,
        "start_time": "2022-08-14T05:09:43.430Z"
      },
      {
        "duration": 11,
        "start_time": "2022-08-14T05:09:52.961Z"
      },
      {
        "duration": 2,
        "start_time": "2022-08-14T05:10:04.851Z"
      },
      {
        "duration": 13,
        "start_time": "2022-08-14T05:10:10.541Z"
      },
      {
        "duration": 3,
        "start_time": "2022-08-14T05:10:14.523Z"
      },
      {
        "duration": 717,
        "start_time": "2022-08-14T05:10:14.528Z"
      },
      {
        "duration": 31,
        "start_time": "2022-08-14T05:10:15.246Z"
      },
      {
        "duration": 7,
        "start_time": "2022-08-14T05:10:15.278Z"
      },
      {
        "duration": 4,
        "start_time": "2022-08-14T05:10:15.300Z"
      },
      {
        "duration": 5,
        "start_time": "2022-08-14T05:10:15.305Z"
      },
      {
        "duration": 5,
        "start_time": "2022-08-14T05:10:15.311Z"
      },
      {
        "duration": 29,
        "start_time": "2022-08-14T05:10:15.318Z"
      },
      {
        "duration": 0,
        "start_time": "2022-08-14T05:10:15.349Z"
      },
      {
        "duration": 1700,
        "start_time": "2022-08-14T05:14:03.446Z"
      },
      {
        "duration": 7,
        "start_time": "2022-08-14T05:14:05.148Z"
      },
      {
        "duration": 681,
        "start_time": "2022-08-14T05:14:14.027Z"
      },
      {
        "duration": 3,
        "start_time": "2022-08-14T05:14:25.068Z"
      },
      {
        "duration": 660,
        "start_time": "2022-08-14T05:14:25.073Z"
      },
      {
        "duration": 23,
        "start_time": "2022-08-14T05:14:25.735Z"
      },
      {
        "duration": 20,
        "start_time": "2022-08-14T05:14:25.759Z"
      },
      {
        "duration": 27,
        "start_time": "2022-08-14T05:14:25.780Z"
      },
      {
        "duration": 1041,
        "start_time": "2022-08-14T05:14:54.339Z"
      },
      {
        "duration": 2273,
        "start_time": "2022-08-14T05:14:55.382Z"
      },
      {
        "duration": 32,
        "start_time": "2022-08-14T05:14:57.657Z"
      },
      {
        "duration": 13,
        "start_time": "2022-08-14T05:14:57.692Z"
      },
      {
        "duration": 4,
        "start_time": "2022-08-14T05:14:57.707Z"
      },
      {
        "duration": 1782,
        "start_time": "2022-08-14T05:14:57.712Z"
      },
      {
        "duration": 3,
        "start_time": "2022-08-14T05:14:59.501Z"
      },
      {
        "duration": 5,
        "start_time": "2022-08-14T05:14:59.506Z"
      },
      {
        "duration": 789,
        "start_time": "2022-08-14T05:14:59.512Z"
      },
      {
        "duration": 85,
        "start_time": "2022-08-14T05:15:42.721Z"
      },
      {
        "duration": 724,
        "start_time": "2022-08-14T05:15:48.794Z"
      },
      {
        "duration": 684,
        "start_time": "2022-08-14T05:21:06.685Z"
      },
      {
        "duration": 3,
        "start_time": "2022-08-14T05:21:25.206Z"
      },
      {
        "duration": 662,
        "start_time": "2022-08-14T05:21:25.535Z"
      },
      {
        "duration": 3,
        "start_time": "2022-08-14T05:22:16.066Z"
      },
      {
        "duration": 736,
        "start_time": "2022-08-14T05:22:19.856Z"
      },
      {
        "duration": 4,
        "start_time": "2022-08-14T05:22:23.486Z"
      },
      {
        "duration": 741,
        "start_time": "2022-08-14T05:22:26.686Z"
      },
      {
        "duration": 3,
        "start_time": "2022-08-14T05:23:12.613Z"
      },
      {
        "duration": 768,
        "start_time": "2022-08-14T05:23:12.913Z"
      },
      {
        "duration": 3,
        "start_time": "2022-08-14T05:23:20.504Z"
      },
      {
        "duration": 795,
        "start_time": "2022-08-14T05:23:20.718Z"
      },
      {
        "duration": 4,
        "start_time": "2022-08-14T05:23:24.815Z"
      },
      {
        "duration": 737,
        "start_time": "2022-08-14T05:23:25.157Z"
      },
      {
        "duration": 3,
        "start_time": "2022-08-14T05:23:29.104Z"
      },
      {
        "duration": 780,
        "start_time": "2022-08-14T05:23:29.109Z"
      },
      {
        "duration": 35,
        "start_time": "2022-08-14T05:23:29.892Z"
      },
      {
        "duration": 34,
        "start_time": "2022-08-14T05:23:29.929Z"
      },
      {
        "duration": 11,
        "start_time": "2022-08-14T05:23:29.965Z"
      },
      {
        "duration": 42,
        "start_time": "2022-08-14T05:23:37.598Z"
      },
      {
        "duration": 1039,
        "start_time": "2022-08-14T05:23:40.553Z"
      },
      {
        "duration": 2257,
        "start_time": "2022-08-14T05:23:41.595Z"
      },
      {
        "duration": 42,
        "start_time": "2022-08-14T05:23:43.854Z"
      },
      {
        "duration": 11,
        "start_time": "2022-08-14T05:23:43.897Z"
      },
      {
        "duration": 4,
        "start_time": "2022-08-14T05:23:43.910Z"
      },
      {
        "duration": 1730,
        "start_time": "2022-08-14T05:23:43.916Z"
      },
      {
        "duration": 6,
        "start_time": "2022-08-14T05:23:45.647Z"
      },
      {
        "duration": 721,
        "start_time": "2022-08-14T05:23:45.655Z"
      },
      {
        "duration": 3,
        "start_time": "2022-08-14T05:23:46.378Z"
      },
      {
        "duration": 700,
        "start_time": "2022-08-14T05:23:46.383Z"
      },
      {
        "duration": 4,
        "start_time": "2022-08-14T05:27:50.738Z"
      },
      {
        "duration": 57,
        "start_time": "2022-08-14T05:27:51.058Z"
      },
      {
        "duration": 3,
        "start_time": "2022-08-14T05:27:58.548Z"
      },
      {
        "duration": 715,
        "start_time": "2022-08-14T05:27:58.871Z"
      },
      {
        "duration": 3,
        "start_time": "2022-08-14T05:28:08.787Z"
      },
      {
        "duration": 712,
        "start_time": "2022-08-14T05:28:08.792Z"
      },
      {
        "duration": 31,
        "start_time": "2022-08-14T05:28:09.506Z"
      },
      {
        "duration": 5,
        "start_time": "2022-08-14T05:28:09.539Z"
      },
      {
        "duration": 4,
        "start_time": "2022-08-14T05:28:09.545Z"
      },
      {
        "duration": 950,
        "start_time": "2022-08-14T05:28:59.958Z"
      },
      {
        "duration": 2312,
        "start_time": "2022-08-14T05:29:00.910Z"
      },
      {
        "duration": 33,
        "start_time": "2022-08-14T05:29:03.224Z"
      },
      {
        "duration": 10,
        "start_time": "2022-08-14T05:29:03.259Z"
      },
      {
        "duration": 4,
        "start_time": "2022-08-14T05:29:03.271Z"
      },
      {
        "duration": 1714,
        "start_time": "2022-08-14T05:29:03.276Z"
      },
      {
        "duration": 13,
        "start_time": "2022-08-14T05:29:04.992Z"
      },
      {
        "duration": 717,
        "start_time": "2022-08-14T05:29:05.007Z"
      },
      {
        "duration": 2,
        "start_time": "2022-08-14T05:29:05.726Z"
      },
      {
        "duration": 687,
        "start_time": "2022-08-14T05:29:05.730Z"
      },
      {
        "duration": 2,
        "start_time": "2022-08-14T05:30:41.860Z"
      },
      {
        "duration": 87,
        "start_time": "2022-08-14T05:30:42.230Z"
      },
      {
        "duration": 4,
        "start_time": "2022-08-14T05:30:47.978Z"
      },
      {
        "duration": 668,
        "start_time": "2022-08-14T05:30:48.339Z"
      },
      {
        "duration": 3,
        "start_time": "2022-08-14T05:30:53.742Z"
      },
      {
        "duration": 707,
        "start_time": "2022-08-14T05:30:53.746Z"
      },
      {
        "duration": 28,
        "start_time": "2022-08-14T05:30:54.455Z"
      },
      {
        "duration": 5,
        "start_time": "2022-08-14T05:30:54.484Z"
      },
      {
        "duration": 12,
        "start_time": "2022-08-14T05:30:54.490Z"
      },
      {
        "duration": 953,
        "start_time": "2022-08-14T05:31:07.410Z"
      },
      {
        "duration": 2244,
        "start_time": "2022-08-14T05:31:08.365Z"
      },
      {
        "duration": 35,
        "start_time": "2022-08-14T05:31:10.611Z"
      },
      {
        "duration": 11,
        "start_time": "2022-08-14T05:31:10.648Z"
      },
      {
        "duration": 3,
        "start_time": "2022-08-14T05:31:10.662Z"
      },
      {
        "duration": 1739,
        "start_time": "2022-08-14T05:31:10.667Z"
      },
      {
        "duration": 7,
        "start_time": "2022-08-14T05:31:12.408Z"
      },
      {
        "duration": 699,
        "start_time": "2022-08-14T05:31:12.417Z"
      },
      {
        "duration": 4,
        "start_time": "2022-08-14T05:31:13.118Z"
      },
      {
        "duration": 701,
        "start_time": "2022-08-14T05:31:13.123Z"
      },
      {
        "duration": 3,
        "start_time": "2022-08-14T05:31:50.490Z"
      },
      {
        "duration": 723,
        "start_time": "2022-08-14T05:31:50.701Z"
      },
      {
        "duration": 4,
        "start_time": "2022-08-14T05:32:45.012Z"
      },
      {
        "duration": 694,
        "start_time": "2022-08-14T05:32:45.450Z"
      },
      {
        "duration": 3,
        "start_time": "2022-08-14T05:32:58.952Z"
      },
      {
        "duration": 687,
        "start_time": "2022-08-14T05:32:59.270Z"
      },
      {
        "duration": 6,
        "start_time": "2022-08-14T05:33:14.270Z"
      },
      {
        "duration": 692,
        "start_time": "2022-08-14T05:33:14.461Z"
      },
      {
        "duration": 3,
        "start_time": "2022-08-14T05:33:37.770Z"
      },
      {
        "duration": 688,
        "start_time": "2022-08-14T05:33:38.060Z"
      },
      {
        "duration": 3,
        "start_time": "2022-08-14T05:33:45.680Z"
      },
      {
        "duration": 687,
        "start_time": "2022-08-14T05:33:45.870Z"
      },
      {
        "duration": 4,
        "start_time": "2022-08-14T05:34:36.992Z"
      },
      {
        "duration": 742,
        "start_time": "2022-08-14T05:34:37.200Z"
      },
      {
        "duration": 3,
        "start_time": "2022-08-14T05:34:42.841Z"
      },
      {
        "duration": 684,
        "start_time": "2022-08-14T05:34:43.270Z"
      },
      {
        "duration": 4,
        "start_time": "2022-08-14T05:35:13.010Z"
      },
      {
        "duration": 712,
        "start_time": "2022-08-14T05:35:13.201Z"
      },
      {
        "duration": 4,
        "start_time": "2022-08-14T05:35:32.261Z"
      },
      {
        "duration": 703,
        "start_time": "2022-08-14T05:35:32.471Z"
      },
      {
        "duration": 3,
        "start_time": "2022-08-14T05:35:46.241Z"
      },
      {
        "duration": 721,
        "start_time": "2022-08-14T05:35:46.420Z"
      },
      {
        "duration": 4,
        "start_time": "2022-08-14T05:35:51.901Z"
      },
      {
        "duration": 707,
        "start_time": "2022-08-14T05:35:52.072Z"
      },
      {
        "duration": 9,
        "start_time": "2022-08-14T05:42:31.305Z"
      },
      {
        "duration": 3,
        "start_time": "2022-08-14T05:42:53.285Z"
      },
      {
        "duration": 9268,
        "start_time": "2022-08-14T05:43:21.472Z"
      },
      {
        "duration": 218,
        "start_time": "2022-08-14T05:43:52.254Z"
      },
      {
        "duration": 170,
        "start_time": "2022-08-14T05:44:43.375Z"
      },
      {
        "duration": 3,
        "start_time": "2022-08-14T05:44:55.215Z"
      },
      {
        "duration": 357,
        "start_time": "2022-08-14T05:45:33.206Z"
      },
      {
        "duration": 4,
        "start_time": "2022-08-14T05:45:51.995Z"
      },
      {
        "duration": 5,
        "start_time": "2022-08-14T05:46:00.176Z"
      },
      {
        "duration": 3,
        "start_time": "2022-08-14T05:46:13.656Z"
      },
      {
        "duration": 14,
        "start_time": "2022-08-14T05:46:32.606Z"
      },
      {
        "duration": 8895,
        "start_time": "2022-08-14T05:46:32.948Z"
      },
      {
        "duration": 3,
        "start_time": "2022-08-14T05:48:47.716Z"
      },
      {
        "duration": 20,
        "start_time": "2022-08-14T05:48:47.876Z"
      },
      {
        "duration": 43,
        "start_time": "2022-08-14T05:49:04.630Z"
      },
      {
        "duration": 1208,
        "start_time": "2022-08-14T05:49:08.863Z"
      },
      {
        "duration": 2337,
        "start_time": "2022-08-14T05:49:10.074Z"
      },
      {
        "duration": 36,
        "start_time": "2022-08-14T05:49:12.413Z"
      },
      {
        "duration": 10,
        "start_time": "2022-08-14T05:49:12.450Z"
      },
      {
        "duration": 5,
        "start_time": "2022-08-14T05:49:12.462Z"
      },
      {
        "duration": 1760,
        "start_time": "2022-08-14T05:49:12.469Z"
      },
      {
        "duration": 10,
        "start_time": "2022-08-14T05:49:14.231Z"
      },
      {
        "duration": 767,
        "start_time": "2022-08-14T05:49:14.242Z"
      },
      {
        "duration": 132,
        "start_time": "2022-08-14T05:49:15.011Z"
      },
      {
        "duration": 8,
        "start_time": "2022-08-14T05:49:15.144Z"
      },
      {
        "duration": 10,
        "start_time": "2022-08-14T05:49:15.153Z"
      },
      {
        "duration": 42,
        "start_time": "2022-08-14T05:50:43.258Z"
      },
      {
        "duration": 1244,
        "start_time": "2022-08-14T05:50:46.732Z"
      },
      {
        "duration": 2274,
        "start_time": "2022-08-14T05:50:47.978Z"
      },
      {
        "duration": 34,
        "start_time": "2022-08-14T05:50:50.254Z"
      },
      {
        "duration": 16,
        "start_time": "2022-08-14T05:50:50.289Z"
      },
      {
        "duration": 5,
        "start_time": "2022-08-14T05:50:50.306Z"
      },
      {
        "duration": 1780,
        "start_time": "2022-08-14T05:50:50.312Z"
      },
      {
        "duration": 8,
        "start_time": "2022-08-14T05:50:52.094Z"
      },
      {
        "duration": 700,
        "start_time": "2022-08-14T05:50:52.103Z"
      },
      {
        "duration": 202,
        "start_time": "2022-08-14T05:50:52.805Z"
      },
      {
        "duration": 6,
        "start_time": "2022-08-14T05:50:53.009Z"
      },
      {
        "duration": 26,
        "start_time": "2022-08-14T05:50:53.017Z"
      },
      {
        "duration": 49,
        "start_time": "2022-08-14T05:54:01.289Z"
      },
      {
        "duration": 8,
        "start_time": "2022-08-14T05:54:01.559Z"
      },
      {
        "duration": 6,
        "start_time": "2022-08-14T05:54:03.477Z"
      },
      {
        "duration": 7,
        "start_time": "2022-08-14T05:54:05.318Z"
      },
      {
        "duration": 6,
        "start_time": "2022-08-14T05:54:05.489Z"
      },
      {
        "duration": 6,
        "start_time": "2022-08-14T05:54:05.642Z"
      },
      {
        "duration": 6,
        "start_time": "2022-08-14T05:54:05.778Z"
      },
      {
        "duration": 1206,
        "start_time": "2022-08-14T05:54:09.318Z"
      },
      {
        "duration": 2234,
        "start_time": "2022-08-14T05:54:10.526Z"
      },
      {
        "duration": 33,
        "start_time": "2022-08-14T05:54:12.761Z"
      },
      {
        "duration": 10,
        "start_time": "2022-08-14T05:54:12.796Z"
      },
      {
        "duration": 5,
        "start_time": "2022-08-14T05:54:12.807Z"
      },
      {
        "duration": 1716,
        "start_time": "2022-08-14T05:54:12.814Z"
      },
      {
        "duration": 6,
        "start_time": "2022-08-14T05:54:14.532Z"
      },
      {
        "duration": 711,
        "start_time": "2022-08-14T05:54:14.539Z"
      },
      {
        "duration": 154,
        "start_time": "2022-08-14T05:54:15.252Z"
      },
      {
        "duration": 6,
        "start_time": "2022-08-14T05:54:15.408Z"
      },
      {
        "duration": 3,
        "start_time": "2022-08-14T05:54:15.415Z"
      },
      {
        "duration": 1260,
        "start_time": "2022-08-14T05:54:49.495Z"
      },
      {
        "duration": 2222,
        "start_time": "2022-08-14T05:54:50.757Z"
      },
      {
        "duration": 34,
        "start_time": "2022-08-14T05:54:52.981Z"
      },
      {
        "duration": 19,
        "start_time": "2022-08-14T05:54:53.017Z"
      },
      {
        "duration": 7,
        "start_time": "2022-08-14T05:54:53.038Z"
      },
      {
        "duration": 1729,
        "start_time": "2022-08-14T05:54:53.047Z"
      },
      {
        "duration": 21,
        "start_time": "2022-08-14T05:54:54.778Z"
      },
      {
        "duration": 723,
        "start_time": "2022-08-14T05:54:54.801Z"
      },
      {
        "duration": 205,
        "start_time": "2022-08-14T05:54:55.527Z"
      },
      {
        "duration": 6,
        "start_time": "2022-08-14T05:54:55.734Z"
      },
      {
        "duration": 14,
        "start_time": "2022-08-14T05:54:55.742Z"
      },
      {
        "duration": 49,
        "start_time": "2022-08-14T05:56:20.587Z"
      },
      {
        "duration": 1281,
        "start_time": "2022-08-14T05:56:23.794Z"
      },
      {
        "duration": 2197,
        "start_time": "2022-08-14T05:56:25.077Z"
      },
      {
        "duration": 30,
        "start_time": "2022-08-14T05:56:27.276Z"
      },
      {
        "duration": 10,
        "start_time": "2022-08-14T05:56:27.308Z"
      },
      {
        "duration": 4,
        "start_time": "2022-08-14T05:56:27.319Z"
      },
      {
        "duration": 1701,
        "start_time": "2022-08-14T05:56:27.325Z"
      },
      {
        "duration": 23,
        "start_time": "2022-08-14T05:56:29.028Z"
      },
      {
        "duration": 79,
        "start_time": "2022-08-14T05:56:30.707Z"
      },
      {
        "duration": 3,
        "start_time": "2022-08-14T05:57:37.343Z"
      },
      {
        "duration": 42,
        "start_time": "2022-08-14T06:00:51.591Z"
      },
      {
        "duration": 1307,
        "start_time": "2022-08-14T06:00:59.842Z"
      },
      {
        "duration": 804,
        "start_time": "2022-08-14T06:01:01.151Z"
      },
      {
        "duration": 28,
        "start_time": "2022-08-14T06:01:01.956Z"
      },
      {
        "duration": 27,
        "start_time": "2022-08-14T06:01:01.987Z"
      },
      {
        "duration": 16,
        "start_time": "2022-08-14T06:01:02.016Z"
      },
      {
        "duration": 1759,
        "start_time": "2022-08-14T06:01:02.033Z"
      },
      {
        "duration": 22,
        "start_time": "2022-08-14T06:01:03.793Z"
      },
      {
        "duration": 70,
        "start_time": "2022-08-14T06:01:04.760Z"
      },
      {
        "duration": 9,
        "start_time": "2022-08-14T06:03:00.174Z"
      },
      {
        "duration": 3,
        "start_time": "2022-08-14T06:03:02.193Z"
      },
      {
        "duration": 1208,
        "start_time": "2022-08-14T06:03:41.458Z"
      },
      {
        "duration": 741,
        "start_time": "2022-08-14T06:03:42.668Z"
      },
      {
        "duration": 24,
        "start_time": "2022-08-14T06:03:43.411Z"
      },
      {
        "duration": 8,
        "start_time": "2022-08-14T06:03:43.437Z"
      },
      {
        "duration": 3,
        "start_time": "2022-08-14T06:03:43.447Z"
      },
      {
        "duration": 1703,
        "start_time": "2022-08-14T06:03:43.451Z"
      },
      {
        "duration": 6,
        "start_time": "2022-08-14T06:03:45.156Z"
      },
      {
        "duration": 1166,
        "start_time": "2022-08-14T06:38:41.630Z"
      },
      {
        "duration": 760,
        "start_time": "2022-08-14T06:38:42.799Z"
      },
      {
        "duration": 28,
        "start_time": "2022-08-14T06:38:43.561Z"
      },
      {
        "duration": 15,
        "start_time": "2022-08-14T06:38:43.590Z"
      },
      {
        "duration": 3,
        "start_time": "2022-08-14T06:38:43.608Z"
      },
      {
        "duration": 1742,
        "start_time": "2022-08-14T06:38:43.613Z"
      },
      {
        "duration": 8,
        "start_time": "2022-08-14T06:38:45.357Z"
      },
      {
        "duration": 393,
        "start_time": "2022-08-14T06:38:45.366Z"
      },
      {
        "duration": 3,
        "start_time": "2022-08-14T06:39:41.505Z"
      },
      {
        "duration": 1378,
        "start_time": "2022-08-14T09:36:53.876Z"
      },
      {
        "duration": 2223,
        "start_time": "2022-08-14T09:36:55.256Z"
      },
      {
        "duration": 28,
        "start_time": "2022-08-14T09:36:57.481Z"
      },
      {
        "duration": 10,
        "start_time": "2022-08-14T09:36:57.511Z"
      },
      {
        "duration": 11,
        "start_time": "2022-08-14T09:36:57.523Z"
      },
      {
        "duration": 1776,
        "start_time": "2022-08-14T09:36:57.536Z"
      },
      {
        "duration": 11,
        "start_time": "2022-08-14T09:36:59.313Z"
      },
      {
        "duration": 1201,
        "start_time": "2022-08-14T09:41:24.414Z"
      },
      {
        "duration": 2213,
        "start_time": "2022-08-14T09:41:25.617Z"
      },
      {
        "duration": 30,
        "start_time": "2022-08-14T09:41:27.832Z"
      },
      {
        "duration": 11,
        "start_time": "2022-08-14T09:41:27.864Z"
      },
      {
        "duration": 4,
        "start_time": "2022-08-14T09:41:27.877Z"
      },
      {
        "duration": 1675,
        "start_time": "2022-08-14T09:41:27.883Z"
      },
      {
        "duration": 6,
        "start_time": "2022-08-14T09:41:29.560Z"
      },
      {
        "duration": 46,
        "start_time": "2022-08-14T10:07:18.859Z"
      },
      {
        "duration": 1439,
        "start_time": "2022-08-14T10:07:25.001Z"
      },
      {
        "duration": 2302,
        "start_time": "2022-08-14T10:07:26.442Z"
      },
      {
        "duration": 34,
        "start_time": "2022-08-14T10:07:28.746Z"
      },
      {
        "duration": 11,
        "start_time": "2022-08-14T10:07:28.782Z"
      },
      {
        "duration": 8,
        "start_time": "2022-08-14T10:07:28.795Z"
      },
      {
        "duration": 1781,
        "start_time": "2022-08-14T10:07:28.805Z"
      },
      {
        "duration": 18,
        "start_time": "2022-08-14T10:07:30.588Z"
      },
      {
        "duration": 50,
        "start_time": "2022-08-14T10:08:30.450Z"
      },
      {
        "duration": 1290,
        "start_time": "2022-08-14T10:08:34.784Z"
      },
      {
        "duration": 2212,
        "start_time": "2022-08-14T10:08:36.076Z"
      },
      {
        "duration": 33,
        "start_time": "2022-08-14T10:08:38.290Z"
      },
      {
        "duration": 11,
        "start_time": "2022-08-14T10:08:38.325Z"
      },
      {
        "duration": 4,
        "start_time": "2022-08-14T10:08:38.338Z"
      },
      {
        "duration": 1768,
        "start_time": "2022-08-14T10:08:38.344Z"
      },
      {
        "duration": 9,
        "start_time": "2022-08-14T10:08:40.115Z"
      },
      {
        "duration": 7,
        "start_time": "2022-08-14T10:08:42.899Z"
      },
      {
        "duration": 4,
        "start_time": "2022-08-14T10:11:25.280Z"
      },
      {
        "duration": 845,
        "start_time": "2022-08-14T10:11:25.951Z"
      },
      {
        "duration": 147132,
        "start_time": "2022-08-14T10:11:41.850Z"
      },
      {
        "duration": 13,
        "start_time": "2022-08-14T10:14:17.101Z"
      },
      {
        "duration": 3,
        "start_time": "2022-08-14T10:16:35.583Z"
      },
      {
        "duration": 1348,
        "start_time": "2022-08-14T10:17:09.963Z"
      },
      {
        "duration": 2370,
        "start_time": "2022-08-14T10:17:11.313Z"
      },
      {
        "duration": 35,
        "start_time": "2022-08-14T10:17:13.685Z"
      },
      {
        "duration": 10,
        "start_time": "2022-08-14T10:17:13.721Z"
      },
      {
        "duration": 6,
        "start_time": "2022-08-14T10:17:13.732Z"
      },
      {
        "duration": 35,
        "start_time": "2022-08-14T10:17:13.740Z"
      },
      {
        "duration": 34,
        "start_time": "2022-08-14T10:17:26.904Z"
      },
      {
        "duration": 3,
        "start_time": "2022-08-14T11:24:43.508Z"
      },
      {
        "duration": 4,
        "start_time": "2022-08-14T11:25:31.508Z"
      },
      {
        "duration": 536,
        "start_time": "2022-08-14T11:25:33.258Z"
      },
      {
        "duration": 3,
        "start_time": "2022-08-14T11:25:42.087Z"
      },
      {
        "duration": 4,
        "start_time": "2022-08-14T11:26:00.798Z"
      },
      {
        "duration": 32240,
        "start_time": "2022-08-14T11:26:01.069Z"
      },
      {
        "duration": 9,
        "start_time": "2022-08-14T11:26:42.137Z"
      },
      {
        "duration": 4,
        "start_time": "2022-08-14T11:27:46.749Z"
      },
      {
        "duration": 29597,
        "start_time": "2022-08-14T11:27:47.528Z"
      },
      {
        "duration": 6,
        "start_time": "2022-08-14T11:28:19.528Z"
      },
      {
        "duration": 3,
        "start_time": "2022-08-14T11:28:24.498Z"
      },
      {
        "duration": 30097,
        "start_time": "2022-08-14T11:28:31.200Z"
      },
      {
        "duration": 5,
        "start_time": "2022-08-14T11:29:03.789Z"
      },
      {
        "duration": 4,
        "start_time": "2022-08-14T11:32:19.089Z"
      },
      {
        "duration": 1286,
        "start_time": "2022-08-15T05:26:56.670Z"
      },
      {
        "duration": 2275,
        "start_time": "2022-08-15T05:26:57.958Z"
      },
      {
        "duration": 33,
        "start_time": "2022-08-15T05:27:00.235Z"
      },
      {
        "duration": 11,
        "start_time": "2022-08-15T05:27:00.270Z"
      },
      {
        "duration": 6,
        "start_time": "2022-08-15T05:27:00.282Z"
      },
      {
        "duration": 11,
        "start_time": "2022-08-15T05:27:00.289Z"
      },
      {
        "duration": 31645,
        "start_time": "2022-08-15T05:27:00.302Z"
      },
      {
        "duration": 6,
        "start_time": "2022-08-15T05:27:31.949Z"
      },
      {
        "duration": 8,
        "start_time": "2022-08-15T05:27:31.957Z"
      },
      {
        "duration": 42,
        "start_time": "2022-08-15T05:27:31.967Z"
      },
      {
        "duration": 64,
        "start_time": "2022-08-15T05:27:32.010Z"
      },
      {
        "duration": 235,
        "start_time": "2022-08-15T05:29:28.583Z"
      },
      {
        "duration": 3,
        "start_time": "2022-08-15T05:29:29.637Z"
      },
      {
        "duration": 2,
        "start_time": "2022-08-15T05:29:30.846Z"
      },
      {
        "duration": 23740,
        "start_time": "2022-08-15T05:29:31.808Z"
      },
      {
        "duration": 5,
        "start_time": "2022-08-15T05:30:06.293Z"
      },
      {
        "duration": 2,
        "start_time": "2022-08-15T05:39:42.589Z"
      },
      {
        "duration": 4,
        "start_time": "2022-08-15T05:50:42.424Z"
      },
      {
        "duration": 732,
        "start_time": "2022-08-15T05:50:42.431Z"
      },
      {
        "duration": 38,
        "start_time": "2022-08-15T05:50:43.166Z"
      },
      {
        "duration": 6,
        "start_time": "2022-08-15T05:50:43.207Z"
      },
      {
        "duration": 8,
        "start_time": "2022-08-15T05:50:43.215Z"
      },
      {
        "duration": 229,
        "start_time": "2022-08-15T05:50:43.225Z"
      },
      {
        "duration": 4,
        "start_time": "2022-08-15T05:52:56.224Z"
      },
      {
        "duration": 794,
        "start_time": "2022-08-15T05:52:56.231Z"
      },
      {
        "duration": 31,
        "start_time": "2022-08-15T05:52:57.027Z"
      },
      {
        "duration": 5,
        "start_time": "2022-08-15T05:52:57.060Z"
      },
      {
        "duration": 20,
        "start_time": "2022-08-15T05:52:57.067Z"
      },
      {
        "duration": 208,
        "start_time": "2022-08-15T05:52:57.089Z"
      },
      {
        "duration": 4,
        "start_time": "2022-08-15T05:52:57.299Z"
      },
      {
        "duration": 30976,
        "start_time": "2022-08-15T05:52:57.304Z"
      },
      {
        "duration": 7,
        "start_time": "2022-08-15T05:53:28.283Z"
      },
      {
        "duration": 9,
        "start_time": "2022-08-15T05:53:28.292Z"
      },
      {
        "duration": 37,
        "start_time": "2022-08-15T05:53:28.303Z"
      },
      {
        "duration": 9,
        "start_time": "2022-08-15T05:53:28.342Z"
      },
      {
        "duration": 4,
        "start_time": "2022-08-15T05:53:28.353Z"
      },
      {
        "duration": 324,
        "start_time": "2022-08-15T05:53:28.358Z"
      },
      {
        "duration": 23050,
        "start_time": "2022-08-15T05:53:28.686Z"
      },
      {
        "duration": 5,
        "start_time": "2022-08-15T05:53:51.737Z"
      },
      {
        "duration": 7,
        "start_time": "2022-08-15T05:53:51.743Z"
      },
      {
        "duration": 43,
        "start_time": "2022-08-15T05:53:51.752Z"
      },
      {
        "duration": 5,
        "start_time": "2022-08-15T05:53:51.797Z"
      },
      {
        "duration": 3,
        "start_time": "2022-08-15T05:58:29.832Z"
      },
      {
        "duration": 738,
        "start_time": "2022-08-15T05:58:29.837Z"
      },
      {
        "duration": 27,
        "start_time": "2022-08-15T05:58:30.577Z"
      },
      {
        "duration": 5,
        "start_time": "2022-08-15T05:58:30.607Z"
      },
      {
        "duration": 31,
        "start_time": "2022-08-15T05:58:30.613Z"
      },
      {
        "duration": 228,
        "start_time": "2022-08-15T05:58:30.646Z"
      },
      {
        "duration": 3,
        "start_time": "2022-08-15T05:58:30.876Z"
      },
      {
        "duration": 31490,
        "start_time": "2022-08-15T05:58:30.888Z"
      },
      {
        "duration": 11,
        "start_time": "2022-08-15T05:59:02.379Z"
      },
      {
        "duration": 7,
        "start_time": "2022-08-15T05:59:02.393Z"
      },
      {
        "duration": 37,
        "start_time": "2022-08-15T05:59:02.402Z"
      },
      {
        "duration": 11,
        "start_time": "2022-08-15T05:59:02.440Z"
      },
      {
        "duration": 12,
        "start_time": "2022-08-15T05:59:02.452Z"
      },
      {
        "duration": 289,
        "start_time": "2022-08-15T05:59:02.465Z"
      },
      {
        "duration": 23361,
        "start_time": "2022-08-15T05:59:02.755Z"
      },
      {
        "duration": 5,
        "start_time": "2022-08-15T05:59:26.117Z"
      },
      {
        "duration": 6,
        "start_time": "2022-08-15T05:59:26.123Z"
      },
      {
        "duration": 31,
        "start_time": "2022-08-15T05:59:26.131Z"
      },
      {
        "duration": 4,
        "start_time": "2022-08-15T05:59:26.164Z"
      },
      {
        "duration": 23,
        "start_time": "2022-08-15T05:59:26.170Z"
      },
      {
        "duration": 140,
        "start_time": "2022-08-15T05:59:26.195Z"
      },
      {
        "duration": 14,
        "start_time": "2022-08-15T06:00:19.014Z"
      },
      {
        "duration": 3,
        "start_time": "2022-08-15T06:01:22.655Z"
      },
      {
        "duration": 12947,
        "start_time": "2022-08-15T06:01:23.304Z"
      },
      {
        "duration": 10,
        "start_time": "2022-08-15T06:08:01.631Z"
      },
      {
        "duration": 4,
        "start_time": "2022-08-15T06:08:16.903Z"
      },
      {
        "duration": 754,
        "start_time": "2022-08-15T06:08:16.910Z"
      },
      {
        "duration": 43,
        "start_time": "2022-08-15T06:08:17.666Z"
      },
      {
        "duration": 7,
        "start_time": "2022-08-15T06:08:17.711Z"
      },
      {
        "duration": 4,
        "start_time": "2022-08-15T06:08:17.719Z"
      },
      {
        "duration": 216,
        "start_time": "2022-08-15T06:08:17.724Z"
      },
      {
        "duration": 3,
        "start_time": "2022-08-15T06:08:17.942Z"
      },
      {
        "duration": 31315,
        "start_time": "2022-08-15T06:08:17.946Z"
      },
      {
        "duration": 5,
        "start_time": "2022-08-15T06:08:49.263Z"
      },
      {
        "duration": 16,
        "start_time": "2022-08-15T06:08:49.270Z"
      },
      {
        "duration": 33,
        "start_time": "2022-08-15T06:08:49.288Z"
      },
      {
        "duration": 10,
        "start_time": "2022-08-15T06:08:49.323Z"
      },
      {
        "duration": 6,
        "start_time": "2022-08-15T06:08:49.334Z"
      },
      {
        "duration": 299,
        "start_time": "2022-08-15T06:08:49.342Z"
      },
      {
        "duration": 23665,
        "start_time": "2022-08-15T06:08:49.643Z"
      },
      {
        "duration": 4,
        "start_time": "2022-08-15T06:09:13.310Z"
      },
      {
        "duration": 5,
        "start_time": "2022-08-15T06:09:13.316Z"
      },
      {
        "duration": 31,
        "start_time": "2022-08-15T06:09:13.322Z"
      },
      {
        "duration": 6,
        "start_time": "2022-08-15T06:09:13.355Z"
      },
      {
        "duration": 38,
        "start_time": "2022-08-15T06:09:13.363Z"
      },
      {
        "duration": 13020,
        "start_time": "2022-08-15T06:09:13.403Z"
      },
      {
        "duration": 43984,
        "start_time": "2022-08-15T06:09:26.425Z"
      },
      {
        "duration": 41922,
        "start_time": "2022-08-15T06:11:06.875Z"
      },
      {
        "duration": 71,
        "start_time": "2022-08-15T07:04:58.170Z"
      },
      {
        "duration": 136,
        "start_time": "2022-08-15T07:05:37.659Z"
      },
      {
        "duration": 3,
        "start_time": "2022-08-15T07:05:41.074Z"
      },
      {
        "duration": 3,
        "start_time": "2022-08-15T07:05:41.995Z"
      },
      {
        "duration": 43693,
        "start_time": "2022-08-15T07:05:49.106Z"
      },
      {
        "duration": 3,
        "start_time": "2022-08-15T07:09:42.993Z"
      },
      {
        "duration": 14,
        "start_time": "2022-08-15T07:09:44.063Z"
      },
      {
        "duration": 3,
        "start_time": "2022-08-15T07:09:54.000Z"
      },
      {
        "duration": 17,
        "start_time": "2022-08-15T07:09:54.448Z"
      },
      {
        "duration": 4,
        "start_time": "2022-08-15T07:10:18.760Z"
      },
      {
        "duration": 4,
        "start_time": "2022-08-15T07:10:22.729Z"
      },
      {
        "duration": 213676,
        "start_time": "2022-08-15T07:10:23.079Z"
      },
      {
        "duration": 4,
        "start_time": "2022-08-15T07:14:50.990Z"
      },
      {
        "duration": 2737151,
        "start_time": "2022-08-15T07:14:51.873Z"
      },
      {
        "duration": 4,
        "start_time": "2022-08-15T08:22:44.103Z"
      },
      {
        "duration": 15,
        "start_time": "2022-08-15T08:22:45.043Z"
      },
      {
        "duration": 4,
        "start_time": "2022-08-15T08:23:21.390Z"
      },
      {
        "duration": 12,
        "start_time": "2022-08-15T08:23:21.775Z"
      },
      {
        "duration": 4,
        "start_time": "2022-08-15T08:25:37.001Z"
      },
      {
        "duration": 5,
        "start_time": "2022-08-15T08:25:43.033Z"
      },
      {
        "duration": 4,
        "start_time": "2022-08-15T08:25:47.377Z"
      },
      {
        "duration": 14,
        "start_time": "2022-08-15T08:25:47.657Z"
      },
      {
        "duration": 5,
        "start_time": "2022-08-15T08:26:10.426Z"
      },
      {
        "duration": 14,
        "start_time": "2022-08-15T08:26:10.976Z"
      },
      {
        "duration": 38,
        "start_time": "2022-08-15T08:26:39.914Z"
      },
      {
        "duration": 4,
        "start_time": "2022-08-15T08:26:42.890Z"
      },
      {
        "duration": 75183,
        "start_time": "2022-08-15T08:26:43.210Z"
      },
      {
        "duration": 5,
        "start_time": "2022-08-15T08:31:28.742Z"
      },
      {
        "duration": 76214,
        "start_time": "2022-08-15T08:31:29.141Z"
      },
      {
        "duration": 5,
        "start_time": "2022-08-15T08:37:57.251Z"
      },
      {
        "duration": 73962,
        "start_time": "2022-08-15T08:37:58.266Z"
      },
      {
        "duration": 5,
        "start_time": "2022-08-15T08:56:29.919Z"
      },
      {
        "duration": 5,
        "start_time": "2022-08-15T09:06:37.290Z"
      },
      {
        "duration": 4,
        "start_time": "2022-08-15T09:07:27.115Z"
      },
      {
        "duration": 21,
        "start_time": "2022-08-15T09:26:34.971Z"
      },
      {
        "duration": 34267,
        "start_time": "2022-08-15T09:26:36.115Z"
      },
      {
        "duration": 3,
        "start_time": "2022-08-15T09:27:10.386Z"
      },
      {
        "duration": 99909,
        "start_time": "2022-08-15T09:27:10.391Z"
      },
      {
        "duration": 4,
        "start_time": "2022-08-15T09:29:09.414Z"
      },
      {
        "duration": 749,
        "start_time": "2022-08-15T09:29:09.419Z"
      },
      {
        "duration": 35,
        "start_time": "2022-08-15T09:29:10.170Z"
      },
      {
        "duration": 6,
        "start_time": "2022-08-15T09:29:10.207Z"
      },
      {
        "duration": 4,
        "start_time": "2022-08-15T09:29:10.214Z"
      },
      {
        "duration": 239,
        "start_time": "2022-08-15T09:29:10.220Z"
      },
      {
        "duration": 9,
        "start_time": "2022-08-15T09:29:10.461Z"
      },
      {
        "duration": 32196,
        "start_time": "2022-08-15T09:29:10.472Z"
      },
      {
        "duration": 5,
        "start_time": "2022-08-15T09:29:42.671Z"
      },
      {
        "duration": 3,
        "start_time": "2022-08-15T09:29:42.687Z"
      },
      {
        "duration": 36,
        "start_time": "2022-08-15T09:29:42.692Z"
      },
      {
        "duration": 209,
        "start_time": "2022-08-15T09:29:42.730Z"
      },
      {
        "duration": 4,
        "start_time": "2022-08-15T09:29:42.940Z"
      },
      {
        "duration": 290,
        "start_time": "2022-08-15T09:29:42.945Z"
      },
      {
        "duration": 25083,
        "start_time": "2022-08-15T09:29:43.237Z"
      },
      {
        "duration": 4,
        "start_time": "2022-08-15T09:30:08.322Z"
      },
      {
        "duration": 10,
        "start_time": "2022-08-15T09:30:08.327Z"
      },
      {
        "duration": 36,
        "start_time": "2022-08-15T09:30:08.339Z"
      },
      {
        "duration": 10,
        "start_time": "2022-08-15T09:30:08.377Z"
      },
      {
        "duration": 244,
        "start_time": "2022-08-15T09:30:08.388Z"
      },
      {
        "duration": 34112,
        "start_time": "2022-08-15T09:30:08.634Z"
      },
      {
        "duration": 3,
        "start_time": "2022-08-15T09:30:42.748Z"
      },
      {
        "duration": 100557,
        "start_time": "2022-08-15T09:30:42.753Z"
      },
      {
        "duration": 261,
        "start_time": "2022-08-15T09:33:13.248Z"
      },
      {
        "duration": 13419,
        "start_time": "2022-08-15T09:33:13.647Z"
      },
      {
        "duration": 3,
        "start_time": "2022-08-15T09:33:27.068Z"
      },
      {
        "duration": 45127,
        "start_time": "2022-08-15T09:33:27.073Z"
      },
      {
        "duration": 90,
        "start_time": "2022-08-15T09:47:33.214Z"
      },
      {
        "duration": 4,
        "start_time": "2022-08-15T09:47:43.019Z"
      },
      {
        "duration": 4,
        "start_time": "2022-08-15T09:47:46.467Z"
      },
      {
        "duration": 4,
        "start_time": "2022-08-15T09:50:56.678Z"
      },
      {
        "duration": 4,
        "start_time": "2022-08-15T09:50:58.197Z"
      },
      {
        "duration": 3,
        "start_time": "2022-08-15T09:51:56.919Z"
      },
      {
        "duration": 32833,
        "start_time": "2022-08-15T09:51:58.399Z"
      },
      {
        "duration": 12,
        "start_time": "2022-08-15T09:53:12.494Z"
      },
      {
        "duration": 4,
        "start_time": "2022-08-15T09:53:14.270Z"
      },
      {
        "duration": 4,
        "start_time": "2022-08-15T09:56:42.914Z"
      },
      {
        "duration": 3,
        "start_time": "2022-08-15T09:56:43.817Z"
      },
      {
        "duration": 34785,
        "start_time": "2022-08-15T09:56:44.834Z"
      },
      {
        "duration": 6,
        "start_time": "2022-08-15T09:58:00.371Z"
      },
      {
        "duration": 4,
        "start_time": "2022-08-15T09:58:02.970Z"
      },
      {
        "duration": 4,
        "start_time": "2022-08-15T09:59:44.943Z"
      },
      {
        "duration": 753,
        "start_time": "2022-08-15T09:59:44.949Z"
      },
      {
        "duration": 31,
        "start_time": "2022-08-15T09:59:45.704Z"
      },
      {
        "duration": 6,
        "start_time": "2022-08-15T09:59:45.737Z"
      },
      {
        "duration": 6,
        "start_time": "2022-08-15T09:59:45.745Z"
      },
      {
        "duration": 224,
        "start_time": "2022-08-15T09:59:45.753Z"
      },
      {
        "duration": 7,
        "start_time": "2022-08-15T09:59:45.980Z"
      },
      {
        "duration": 6,
        "start_time": "2022-08-15T09:59:45.989Z"
      },
      {
        "duration": 6,
        "start_time": "2022-08-15T09:59:45.998Z"
      },
      {
        "duration": 34288,
        "start_time": "2022-08-15T09:59:46.006Z"
      },
      {
        "duration": 6,
        "start_time": "2022-08-15T10:00:20.296Z"
      },
      {
        "duration": 10,
        "start_time": "2022-08-15T10:00:20.303Z"
      },
      {
        "duration": 37,
        "start_time": "2022-08-15T10:00:20.315Z"
      },
      {
        "duration": 9,
        "start_time": "2022-08-15T10:00:20.353Z"
      },
      {
        "duration": 5,
        "start_time": "2022-08-15T10:00:20.364Z"
      },
      {
        "duration": 350,
        "start_time": "2022-08-15T10:00:20.371Z"
      },
      {
        "duration": 24009,
        "start_time": "2022-08-15T10:00:20.722Z"
      },
      {
        "duration": 4,
        "start_time": "2022-08-15T10:00:44.732Z"
      },
      {
        "duration": 8,
        "start_time": "2022-08-15T10:00:44.738Z"
      },
      {
        "duration": 42,
        "start_time": "2022-08-15T10:00:44.747Z"
      },
      {
        "duration": 6,
        "start_time": "2022-08-15T10:00:44.791Z"
      },
      {
        "duration": 32,
        "start_time": "2022-08-15T10:00:44.798Z"
      },
      {
        "duration": 13039,
        "start_time": "2022-08-15T10:00:44.831Z"
      },
      {
        "duration": 3,
        "start_time": "2022-08-15T10:00:57.874Z"
      },
      {
        "duration": 58213,
        "start_time": "2022-08-15T10:00:57.887Z"
      },
      {
        "duration": 4,
        "start_time": "2022-08-15T10:10:27.999Z"
      },
      {
        "duration": 7,
        "start_time": "2022-08-15T10:10:29.286Z"
      },
      {
        "duration": 35864,
        "start_time": "2022-08-15T10:10:30.310Z"
      },
      {
        "duration": 6,
        "start_time": "2022-08-15T10:11:09.182Z"
      },
      {
        "duration": 4,
        "start_time": "2022-08-15T10:11:12.455Z"
      },
      {
        "duration": 4,
        "start_time": "2022-08-15T10:14:41.199Z"
      },
      {
        "duration": 766,
        "start_time": "2022-08-15T10:14:41.205Z"
      },
      {
        "duration": 38,
        "start_time": "2022-08-15T10:14:41.973Z"
      },
      {
        "duration": 6,
        "start_time": "2022-08-15T10:14:42.013Z"
      },
      {
        "duration": 6,
        "start_time": "2022-08-15T10:14:42.021Z"
      },
      {
        "duration": 230,
        "start_time": "2022-08-15T10:14:42.028Z"
      },
      {
        "duration": 2,
        "start_time": "2022-08-15T10:14:42.260Z"
      },
      {
        "duration": 9,
        "start_time": "2022-08-15T10:14:42.264Z"
      },
      {
        "duration": 12,
        "start_time": "2022-08-15T10:14:42.275Z"
      },
      {
        "duration": 36260,
        "start_time": "2022-08-15T10:14:42.301Z"
      },
      {
        "duration": 5,
        "start_time": "2022-08-15T10:15:18.563Z"
      },
      {
        "duration": 9,
        "start_time": "2022-08-15T10:15:18.570Z"
      },
      {
        "duration": 37,
        "start_time": "2022-08-15T10:15:18.587Z"
      },
      {
        "duration": 9,
        "start_time": "2022-08-15T10:15:18.626Z"
      },
      {
        "duration": 5,
        "start_time": "2022-08-15T10:15:18.636Z"
      },
      {
        "duration": 322,
        "start_time": "2022-08-15T10:15:18.643Z"
      },
      {
        "duration": 24935,
        "start_time": "2022-08-15T10:15:18.967Z"
      },
      {
        "duration": 4,
        "start_time": "2022-08-15T10:15:43.904Z"
      },
      {
        "duration": 7,
        "start_time": "2022-08-15T10:15:43.909Z"
      },
      {
        "duration": 36,
        "start_time": "2022-08-15T10:15:43.917Z"
      },
      {
        "duration": 7,
        "start_time": "2022-08-15T10:15:43.955Z"
      },
      {
        "duration": 55,
        "start_time": "2022-08-15T10:15:43.964Z"
      },
      {
        "duration": 13385,
        "start_time": "2022-08-15T10:15:44.021Z"
      },
      {
        "duration": 3,
        "start_time": "2022-08-15T10:15:57.408Z"
      },
      {
        "duration": 52497,
        "start_time": "2022-08-15T10:15:57.413Z"
      },
      {
        "duration": 4,
        "start_time": "2022-08-15T10:29:09.680Z"
      },
      {
        "duration": 79804,
        "start_time": "2022-08-15T10:29:10.168Z"
      },
      {
        "duration": 4,
        "start_time": "2022-08-15T10:31:58.612Z"
      },
      {
        "duration": 80681,
        "start_time": "2022-08-15T10:31:59.731Z"
      },
      {
        "duration": 240,
        "start_time": "2022-08-15T11:24:20.670Z"
      },
      {
        "duration": 4,
        "start_time": "2022-08-15T11:26:01.601Z"
      },
      {
        "duration": 44248,
        "start_time": "2022-08-15T11:26:03.078Z"
      },
      {
        "duration": 4,
        "start_time": "2022-08-15T11:31:20.697Z"
      },
      {
        "duration": 1664333,
        "start_time": "2022-08-15T11:31:21.678Z"
      },
      {
        "duration": 0,
        "start_time": "2022-08-15T11:59:06.016Z"
      },
      {
        "duration": 0,
        "start_time": "2022-08-15T11:59:06.017Z"
      },
      {
        "duration": 4,
        "start_time": "2022-08-15T11:59:08.047Z"
      },
      {
        "duration": 3,
        "start_time": "2022-08-15T11:59:09.478Z"
      },
      {
        "duration": 3,
        "start_time": "2022-08-15T11:59:30.176Z"
      },
      {
        "duration": 3,
        "start_time": "2022-08-15T11:59:32.107Z"
      },
      {
        "duration": 4,
        "start_time": "2022-08-15T11:59:37.136Z"
      },
      {
        "duration": 4,
        "start_time": "2022-08-15T12:00:14.537Z"
      },
      {
        "duration": 4,
        "start_time": "2022-08-15T12:01:29.124Z"
      },
      {
        "duration": 778,
        "start_time": "2022-08-15T12:01:29.130Z"
      },
      {
        "duration": 31,
        "start_time": "2022-08-15T12:01:29.911Z"
      },
      {
        "duration": 15,
        "start_time": "2022-08-15T12:01:29.944Z"
      },
      {
        "duration": 15,
        "start_time": "2022-08-15T12:01:29.960Z"
      },
      {
        "duration": 228,
        "start_time": "2022-08-15T12:01:29.977Z"
      },
      {
        "duration": 3,
        "start_time": "2022-08-15T12:01:30.207Z"
      },
      {
        "duration": 72,
        "start_time": "2022-08-15T12:01:30.212Z"
      },
      {
        "duration": 33213,
        "start_time": "2022-08-15T12:01:30.286Z"
      },
      {
        "duration": 6,
        "start_time": "2022-08-15T12:02:03.501Z"
      },
      {
        "duration": 7,
        "start_time": "2022-08-15T12:02:03.510Z"
      },
      {
        "duration": 39,
        "start_time": "2022-08-15T12:02:03.519Z"
      },
      {
        "duration": 198,
        "start_time": "2022-08-15T12:02:03.560Z"
      },
      {
        "duration": 4,
        "start_time": "2022-08-15T12:02:03.759Z"
      },
      {
        "duration": 304,
        "start_time": "2022-08-15T12:02:03.764Z"
      },
      {
        "duration": 24280,
        "start_time": "2022-08-15T12:02:04.070Z"
      },
      {
        "duration": 4,
        "start_time": "2022-08-15T12:02:28.352Z"
      },
      {
        "duration": 6,
        "start_time": "2022-08-15T12:02:28.358Z"
      },
      {
        "duration": 41,
        "start_time": "2022-08-15T12:02:28.366Z"
      },
      {
        "duration": 5,
        "start_time": "2022-08-15T12:02:28.409Z"
      },
      {
        "duration": 29,
        "start_time": "2022-08-15T12:02:28.416Z"
      },
      {
        "duration": 12909,
        "start_time": "2022-08-15T12:02:28.447Z"
      },
      {
        "duration": 4,
        "start_time": "2022-08-15T12:02:41.358Z"
      },
      {
        "duration": 57538,
        "start_time": "2022-08-15T12:02:41.364Z"
      },
      {
        "duration": 4,
        "start_time": "2022-08-15T12:03:38.904Z"
      },
      {
        "duration": 1547921,
        "start_time": "2022-08-15T12:03:38.909Z"
      },
      {
        "duration": 4,
        "start_time": "2022-08-15T12:29:26.832Z"
      },
      {
        "duration": 87244,
        "start_time": "2022-08-15T12:29:26.838Z"
      },
      {
        "duration": 5,
        "start_time": "2022-08-15T12:42:51.845Z"
      },
      {
        "duration": 44,
        "start_time": "2022-08-16T05:21:15.946Z"
      },
      {
        "duration": 1699,
        "start_time": "2022-08-16T05:21:23.682Z"
      },
      {
        "duration": 3139,
        "start_time": "2022-08-16T05:21:25.383Z"
      },
      {
        "duration": 31,
        "start_time": "2022-08-16T05:21:28.524Z"
      },
      {
        "duration": 10,
        "start_time": "2022-08-16T05:21:28.556Z"
      },
      {
        "duration": 4,
        "start_time": "2022-08-16T05:21:28.567Z"
      },
      {
        "duration": 212,
        "start_time": "2022-08-16T05:21:28.572Z"
      },
      {
        "duration": 4,
        "start_time": "2022-08-16T05:21:28.785Z"
      },
      {
        "duration": 123,
        "start_time": "2022-08-16T05:21:28.790Z"
      },
      {
        "duration": 3,
        "start_time": "2022-08-16T05:22:22.023Z"
      },
      {
        "duration": 693,
        "start_time": "2022-08-16T05:22:22.028Z"
      },
      {
        "duration": 26,
        "start_time": "2022-08-16T05:22:22.723Z"
      },
      {
        "duration": 7,
        "start_time": "2022-08-16T05:22:22.751Z"
      },
      {
        "duration": 6,
        "start_time": "2022-08-16T05:22:22.760Z"
      },
      {
        "duration": 210,
        "start_time": "2022-08-16T05:22:22.767Z"
      },
      {
        "duration": 487,
        "start_time": "2022-08-16T05:22:22.979Z"
      },
      {
        "duration": 4,
        "start_time": "2022-08-16T05:22:23.467Z"
      },
      {
        "duration": 3,
        "start_time": "2022-08-16T05:22:26.192Z"
      },
      {
        "duration": 89,
        "start_time": "2022-08-16T05:22:26.607Z"
      },
      {
        "duration": 4,
        "start_time": "2022-08-16T05:23:36.675Z"
      },
      {
        "duration": 25,
        "start_time": "2022-08-16T05:23:37.049Z"
      },
      {
        "duration": 3,
        "start_time": "2022-08-16T05:24:15.995Z"
      },
      {
        "duration": 4,
        "start_time": "2022-08-16T05:24:16.322Z"
      },
      {
        "duration": 19,
        "start_time": "2022-08-16T05:24:16.857Z"
      },
      {
        "duration": 3,
        "start_time": "2022-08-16T05:24:44.188Z"
      },
      {
        "duration": 4,
        "start_time": "2022-08-16T05:24:50.224Z"
      },
      {
        "duration": 650,
        "start_time": "2022-08-16T05:24:50.229Z"
      },
      {
        "duration": 33,
        "start_time": "2022-08-16T05:24:50.882Z"
      },
      {
        "duration": 6,
        "start_time": "2022-08-16T05:24:50.917Z"
      },
      {
        "duration": 6,
        "start_time": "2022-08-16T05:24:50.924Z"
      },
      {
        "duration": 217,
        "start_time": "2022-08-16T05:24:50.931Z"
      },
      {
        "duration": 10,
        "start_time": "2022-08-16T05:24:51.149Z"
      },
      {
        "duration": 6,
        "start_time": "2022-08-16T05:24:51.160Z"
      },
      {
        "duration": 6,
        "start_time": "2022-08-16T05:24:51.168Z"
      },
      {
        "duration": 1247,
        "start_time": "2022-08-16T05:24:51.175Z"
      },
      {
        "duration": 4,
        "start_time": "2022-08-16T05:25:29.396Z"
      },
      {
        "duration": 474386,
        "start_time": "2022-08-16T05:25:30.131Z"
      },
      {
        "duration": 3,
        "start_time": "2022-08-16T05:33:37.695Z"
      },
      {
        "duration": 5,
        "start_time": "2022-08-16T05:33:38.496Z"
      },
      {
        "duration": 1021487,
        "start_time": "2022-08-16T05:34:09.840Z"
      },
      {
        "duration": 4,
        "start_time": "2022-08-16T06:03:04.727Z"
      },
      {
        "duration": 5,
        "start_time": "2022-08-16T06:04:17.768Z"
      },
      {
        "duration": 31,
        "start_time": "2022-08-16T06:04:22.967Z"
      },
      {
        "duration": 142,
        "start_time": "2022-08-16T06:04:24.535Z"
      },
      {
        "duration": 3,
        "start_time": "2022-08-16T06:04:25.536Z"
      },
      {
        "duration": 3,
        "start_time": "2022-08-16T06:04:38.104Z"
      },
      {
        "duration": 19637,
        "start_time": "2022-08-16T06:04:38.859Z"
      },
      {
        "duration": 3,
        "start_time": "2022-08-16T06:04:58.498Z"
      },
      {
        "duration": 2,
        "start_time": "2022-08-16T06:30:56.920Z"
      },
      {
        "duration": 10,
        "start_time": "2022-08-16T06:30:57.607Z"
      },
      {
        "duration": 4,
        "start_time": "2022-08-16T06:31:01.915Z"
      },
      {
        "duration": 631,
        "start_time": "2022-08-16T06:31:01.920Z"
      },
      {
        "duration": 29,
        "start_time": "2022-08-16T06:31:02.553Z"
      },
      {
        "duration": 9,
        "start_time": "2022-08-16T06:31:02.583Z"
      },
      {
        "duration": 14,
        "start_time": "2022-08-16T06:31:02.594Z"
      },
      {
        "duration": 198,
        "start_time": "2022-08-16T06:31:02.610Z"
      },
      {
        "duration": 190,
        "start_time": "2022-08-16T06:31:02.809Z"
      },
      {
        "duration": 4,
        "start_time": "2022-08-16T06:31:03.001Z"
      },
      {
        "duration": 7,
        "start_time": "2022-08-16T06:31:03.006Z"
      },
      {
        "duration": 11,
        "start_time": "2022-08-16T06:31:03.014Z"
      },
      {
        "duration": 1025494,
        "start_time": "2022-08-16T06:31:03.027Z"
      },
      {
        "duration": 6,
        "start_time": "2022-08-16T06:48:08.522Z"
      },
      {
        "duration": 18,
        "start_time": "2022-08-16T06:48:08.530Z"
      },
      {
        "duration": 34,
        "start_time": "2022-08-16T06:48:08.550Z"
      },
      {
        "duration": 14,
        "start_time": "2022-08-16T06:48:08.586Z"
      },
      {
        "duration": 9,
        "start_time": "2022-08-16T06:48:08.601Z"
      },
      {
        "duration": 271,
        "start_time": "2022-08-16T06:48:08.612Z"
      },
      {
        "duration": 21961,
        "start_time": "2022-08-16T06:48:08.885Z"
      },
      {
        "duration": 4,
        "start_time": "2022-08-16T06:48:30.848Z"
      },
      {
        "duration": 20,
        "start_time": "2022-08-16T06:48:30.854Z"
      },
      {
        "duration": 49,
        "start_time": "2022-08-16T06:48:30.876Z"
      },
      {
        "duration": 7,
        "start_time": "2022-08-16T06:48:30.927Z"
      },
      {
        "duration": 23,
        "start_time": "2022-08-16T06:48:30.935Z"
      },
      {
        "duration": 13267,
        "start_time": "2022-08-16T06:48:30.960Z"
      },
      {
        "duration": 3,
        "start_time": "2022-08-16T08:54:50.992Z"
      },
      {
        "duration": 43951,
        "start_time": "2022-08-16T08:54:53.271Z"
      },
      {
        "duration": 4,
        "start_time": "2022-08-16T09:46:07.859Z"
      },
      {
        "duration": 50653,
        "start_time": "2022-08-16T09:46:08.363Z"
      },
      {
        "duration": 4,
        "start_time": "2022-08-16T10:15:48.177Z"
      },
      {
        "duration": 4,
        "start_time": "2022-08-16T10:15:54.232Z"
      },
      {
        "duration": 13,
        "start_time": "2022-08-16T10:15:55.289Z"
      },
      {
        "duration": 4,
        "start_time": "2022-08-16T10:15:59.514Z"
      },
      {
        "duration": 240030,
        "start_time": "2022-08-16T10:15:59.891Z"
      },
      {
        "duration": 4,
        "start_time": "2022-08-16T10:20:03.189Z"
      },
      {
        "duration": 1055132,
        "start_time": "2022-08-16T10:20:04.583Z"
      },
      {
        "duration": 3,
        "start_time": "2022-08-16T10:44:23.248Z"
      },
      {
        "duration": 1675,
        "start_time": "2022-08-17T09:46:45.243Z"
      },
      {
        "duration": 2320,
        "start_time": "2022-08-17T09:46:46.920Z"
      },
      {
        "duration": 26,
        "start_time": "2022-08-17T09:46:49.242Z"
      },
      {
        "duration": 9,
        "start_time": "2022-08-17T09:46:49.271Z"
      },
      {
        "duration": 3,
        "start_time": "2022-08-17T09:46:49.282Z"
      },
      {
        "duration": 248,
        "start_time": "2022-08-17T09:46:49.286Z"
      },
      {
        "duration": 703,
        "start_time": "2022-08-17T09:46:49.536Z"
      },
      {
        "duration": 4,
        "start_time": "2022-08-17T09:46:50.241Z"
      },
      {
        "duration": 10,
        "start_time": "2022-08-17T09:46:50.246Z"
      },
      {
        "duration": 4,
        "start_time": "2022-08-17T09:46:50.258Z"
      },
      {
        "duration": 1126265,
        "start_time": "2022-08-17T09:46:50.263Z"
      },
      {
        "duration": 6,
        "start_time": "2022-08-17T10:05:36.530Z"
      },
      {
        "duration": 7,
        "start_time": "2022-08-17T10:05:36.538Z"
      },
      {
        "duration": 33,
        "start_time": "2022-08-17T10:05:36.546Z"
      },
      {
        "duration": 174,
        "start_time": "2022-08-17T10:05:36.599Z"
      },
      {
        "duration": 4,
        "start_time": "2022-08-17T10:05:36.775Z"
      },
      {
        "duration": 4,
        "start_time": "2022-08-17T10:05:36.780Z"
      },
      {
        "duration": 20144,
        "start_time": "2022-08-17T10:05:36.785Z"
      },
      {
        "duration": 4,
        "start_time": "2022-08-17T10:05:56.931Z"
      },
      {
        "duration": 16,
        "start_time": "2022-08-17T10:05:56.937Z"
      },
      {
        "duration": 35,
        "start_time": "2022-08-17T10:05:56.955Z"
      },
      {
        "duration": 6,
        "start_time": "2022-08-17T10:05:56.992Z"
      },
      {
        "duration": 5,
        "start_time": "2022-08-17T10:05:57.000Z"
      },
      {
        "duration": 12548,
        "start_time": "2022-08-17T10:05:57.006Z"
      },
      {
        "duration": 4,
        "start_time": "2022-08-17T10:06:09.555Z"
      },
      {
        "duration": 1080738,
        "start_time": "2022-08-17T10:06:09.560Z"
      },
      {
        "duration": 5,
        "start_time": "2022-08-17T10:24:10.300Z"
      },
      {
        "duration": 380514,
        "start_time": "2022-08-17T10:24:10.309Z"
      },
      {
        "duration": 5,
        "start_time": "2022-08-17T10:50:09.562Z"
      },
      {
        "duration": 149364,
        "start_time": "2022-08-17T10:50:10.273Z"
      },
      {
        "duration": 15,
        "start_time": "2022-08-17T10:55:39.343Z"
      },
      {
        "duration": 166,
        "start_time": "2022-08-17T10:55:45.486Z"
      },
      {
        "duration": 17,
        "start_time": "2022-08-17T10:55:52.642Z"
      },
      {
        "duration": 4,
        "start_time": "2022-08-17T10:55:59.870Z"
      },
      {
        "duration": 146426,
        "start_time": "2022-08-17T10:56:00.605Z"
      },
      {
        "duration": 4,
        "start_time": "2022-08-17T11:31:50.377Z"
      },
      {
        "duration": 3461555,
        "start_time": "2022-08-17T11:31:50.769Z"
      },
      {
        "duration": 2361896,
        "start_time": "2022-08-17T12:29:34.721Z"
      },
      {
        "duration": 4,
        "start_time": "2022-08-17T13:23:52.884Z"
      },
      {
        "duration": 86068,
        "start_time": "2022-08-17T13:23:53.443Z"
      },
      {
        "duration": 985,
        "start_time": "2022-08-19T05:20:38.776Z"
      },
      {
        "duration": 644,
        "start_time": "2022-08-19T05:20:45.871Z"
      },
      {
        "duration": 3097,
        "start_time": "2022-08-19T05:20:46.518Z"
      },
      {
        "duration": 32,
        "start_time": "2022-08-19T05:20:49.616Z"
      },
      {
        "duration": 11,
        "start_time": "2022-08-19T05:20:49.650Z"
      },
      {
        "duration": 6,
        "start_time": "2022-08-19T05:20:49.662Z"
      },
      {
        "duration": 224,
        "start_time": "2022-08-19T05:20:49.669Z"
      },
      {
        "duration": 615,
        "start_time": "2022-08-19T05:20:49.895Z"
      },
      {
        "duration": 4,
        "start_time": "2022-08-19T05:20:50.511Z"
      },
      {
        "duration": 5,
        "start_time": "2022-08-19T05:20:50.516Z"
      },
      {
        "duration": 4,
        "start_time": "2022-08-19T05:20:50.524Z"
      },
      {
        "duration": 1053901,
        "start_time": "2022-08-19T05:20:50.530Z"
      },
      {
        "duration": 5,
        "start_time": "2022-08-19T05:38:24.433Z"
      },
      {
        "duration": 10,
        "start_time": "2022-08-19T05:38:24.440Z"
      },
      {
        "duration": 38,
        "start_time": "2022-08-19T05:38:24.452Z"
      },
      {
        "duration": 144,
        "start_time": "2022-08-19T05:38:24.492Z"
      },
      {
        "duration": 4,
        "start_time": "2022-08-19T05:38:24.638Z"
      },
      {
        "duration": 6,
        "start_time": "2022-08-19T05:38:24.643Z"
      },
      {
        "duration": 38,
        "start_time": "2022-08-19T05:38:24.650Z"
      },
      {
        "duration": 11,
        "start_time": "2022-08-19T05:38:24.690Z"
      },
      {
        "duration": 6,
        "start_time": "2022-08-19T05:38:24.702Z"
      },
      {
        "duration": 11775,
        "start_time": "2022-08-19T05:38:24.709Z"
      },
      {
        "duration": 60,
        "start_time": "2022-08-19T05:38:36.487Z"
      },
      {
        "duration": 4,
        "start_time": "2022-08-19T05:40:02.928Z"
      },
      {
        "duration": 3,
        "start_time": "2022-08-19T05:40:09.833Z"
      },
      {
        "duration": 12,
        "start_time": "2022-08-19T05:43:18.718Z"
      },
      {
        "duration": 13,
        "start_time": "2022-08-19T05:43:29.013Z"
      },
      {
        "duration": 4,
        "start_time": "2022-08-19T05:43:41.365Z"
      },
      {
        "duration": 12,
        "start_time": "2022-08-19T05:43:45.686Z"
      },
      {
        "duration": 14,
        "start_time": "2022-08-19T05:43:59.262Z"
      },
      {
        "duration": 14,
        "start_time": "2022-08-19T05:44:05.798Z"
      },
      {
        "duration": 43,
        "start_time": "2022-08-19T05:44:19.159Z"
      },
      {
        "duration": 38,
        "start_time": "2022-08-19T05:44:35.161Z"
      },
      {
        "duration": 36,
        "start_time": "2022-08-19T05:45:04.001Z"
      },
      {
        "duration": 15,
        "start_time": "2022-08-19T05:46:08.386Z"
      },
      {
        "duration": 12,
        "start_time": "2022-08-19T05:46:16.809Z"
      },
      {
        "duration": 48,
        "start_time": "2022-08-19T05:46:25.753Z"
      },
      {
        "duration": 38,
        "start_time": "2022-08-19T05:47:22.342Z"
      },
      {
        "duration": 38,
        "start_time": "2022-08-19T05:47:34.692Z"
      },
      {
        "duration": 324802,
        "start_time": "2022-08-19T05:48:00.117Z"
      },
      {
        "duration": 1175979,
        "start_time": "2022-08-19T05:53:29.494Z"
      },
      {
        "duration": 1191566,
        "start_time": "2022-08-19T06:31:28.408Z"
      },
      {
        "duration": 1242575,
        "start_time": "2022-08-19T06:58:13.914Z"
      },
      {
        "duration": 3,
        "start_time": "2022-08-19T07:21:02.625Z"
      }
    ],
    "kernelspec": {
      "display_name": "Python 3 (ipykernel)",
      "language": "python",
      "name": "python3"
    },
    "language_info": {
      "codemirror_mode": {
        "name": "ipython",
        "version": 3
      },
      "file_extension": ".py",
      "mimetype": "text/x-python",
      "name": "python",
      "nbconvert_exporter": "python",
      "pygments_lexer": "ipython3",
      "version": "3.9.5"
    },
    "toc": {
      "base_numbering": 1,
      "nav_menu": {},
      "number_sections": true,
      "sideBar": true,
      "skip_h1_title": true,
      "title_cell": "Содержание",
      "title_sidebar": "Contents",
      "toc_cell": true,
      "toc_position": {
        "height": "calc(100% - 180px)",
        "left": "10px",
        "top": "150px",
        "width": "302.391px"
      },
      "toc_section_display": true,
      "toc_window_display": false
    },
    "colab": {
      "provenance": []
    }
  },
  "nbformat": 4,
  "nbformat_minor": 0
}