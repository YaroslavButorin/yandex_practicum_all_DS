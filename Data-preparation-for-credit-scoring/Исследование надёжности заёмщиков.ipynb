{
  "metadata": {
    "ExecuteTimeLog": [
      {
        "duration": 24613,
        "start_time": "2022-03-15T17:04:55.469Z"
      },
      {
        "duration": 1420,
        "start_time": "2022-03-15T17:05:22.175Z"
      },
      {
        "duration": 1032,
        "start_time": "2022-03-15T17:05:26.007Z"
      },
      {
        "duration": 77,
        "start_time": "2022-03-15T17:06:08.505Z"
      },
      {
        "duration": 51,
        "start_time": "2022-03-15T17:13:38.679Z"
      },
      {
        "duration": 65,
        "start_time": "2022-03-15T17:13:47.869Z"
      },
      {
        "duration": 69,
        "start_time": "2022-03-15T17:13:54.926Z"
      },
      {
        "duration": 58,
        "start_time": "2022-03-15T17:13:54.997Z"
      },
      {
        "duration": 79,
        "start_time": "2022-03-15T17:19:00.690Z"
      },
      {
        "duration": 48,
        "start_time": "2022-03-15T17:19:09.310Z"
      },
      {
        "duration": 50,
        "start_time": "2022-03-15T17:19:19.079Z"
      },
      {
        "duration": 53,
        "start_time": "2022-03-15T17:19:23.380Z"
      },
      {
        "duration": 26,
        "start_time": "2022-03-15T17:19:41.951Z"
      },
      {
        "duration": 21,
        "start_time": "2022-03-15T17:19:52.220Z"
      },
      {
        "duration": 37,
        "start_time": "2022-03-15T17:20:10.720Z"
      },
      {
        "duration": 13,
        "start_time": "2022-03-15T17:22:24.080Z"
      },
      {
        "duration": 51,
        "start_time": "2022-03-15T17:23:14.331Z"
      },
      {
        "duration": 25,
        "start_time": "2022-03-15T17:23:24.163Z"
      },
      {
        "duration": 20,
        "start_time": "2022-03-15T17:24:00.512Z"
      },
      {
        "duration": 6,
        "start_time": "2022-03-15T17:24:24.254Z"
      },
      {
        "duration": 7,
        "start_time": "2022-03-15T17:24:25.822Z"
      },
      {
        "duration": 67,
        "start_time": "2022-03-15T17:24:37.831Z"
      },
      {
        "duration": 6,
        "start_time": "2022-03-15T17:24:37.900Z"
      },
      {
        "duration": 69,
        "start_time": "2022-03-15T17:24:49.368Z"
      },
      {
        "duration": 11,
        "start_time": "2022-03-15T17:24:49.440Z"
      },
      {
        "duration": 11,
        "start_time": "2022-03-15T17:25:04.382Z"
      },
      {
        "duration": 12,
        "start_time": "2022-03-15T17:25:07.681Z"
      },
      {
        "duration": 800,
        "start_time": "2022-03-15T17:25:14.883Z"
      },
      {
        "duration": 16,
        "start_time": "2022-03-15T17:25:15.687Z"
      },
      {
        "duration": 18,
        "start_time": "2022-03-15T17:25:22.664Z"
      },
      {
        "duration": 17,
        "start_time": "2022-03-15T17:26:23.309Z"
      },
      {
        "duration": 12,
        "start_time": "2022-03-15T17:27:10.983Z"
      },
      {
        "duration": 13,
        "start_time": "2022-03-15T17:30:42.246Z"
      },
      {
        "duration": 13,
        "start_time": "2022-03-15T17:30:46.275Z"
      },
      {
        "duration": 15,
        "start_time": "2022-03-15T17:32:02.679Z"
      },
      {
        "duration": 13,
        "start_time": "2022-03-15T17:32:18.396Z"
      },
      {
        "duration": 46,
        "start_time": "2022-03-15T17:52:54.356Z"
      },
      {
        "duration": 11,
        "start_time": "2022-03-15T18:21:22.666Z"
      },
      {
        "duration": 27,
        "start_time": "2022-03-15T18:21:37.456Z"
      },
      {
        "duration": 62,
        "start_time": "2022-03-15T18:23:16.923Z"
      },
      {
        "duration": 18,
        "start_time": "2022-03-15T18:23:16.988Z"
      },
      {
        "duration": 27,
        "start_time": "2022-03-15T18:23:17.009Z"
      },
      {
        "duration": 31,
        "start_time": "2022-03-15T18:25:14.738Z"
      },
      {
        "duration": 32,
        "start_time": "2022-03-15T18:25:34.827Z"
      },
      {
        "duration": 14,
        "start_time": "2022-03-15T18:25:56.278Z"
      },
      {
        "duration": 8,
        "start_time": "2022-03-15T18:26:07.788Z"
      },
      {
        "duration": 8,
        "start_time": "2022-03-15T18:43:57.386Z"
      },
      {
        "duration": 26,
        "start_time": "2022-03-15T18:44:04.405Z"
      },
      {
        "duration": 236,
        "start_time": "2022-03-15T19:05:48.365Z"
      },
      {
        "duration": 10,
        "start_time": "2022-03-15T19:05:58.233Z"
      },
      {
        "duration": 20,
        "start_time": "2022-03-15T19:06:16.800Z"
      },
      {
        "duration": 19,
        "start_time": "2022-03-15T19:06:20.070Z"
      },
      {
        "duration": 17,
        "start_time": "2022-03-15T19:06:39.805Z"
      },
      {
        "duration": 19,
        "start_time": "2022-03-15T19:07:10.435Z"
      },
      {
        "duration": 23,
        "start_time": "2022-03-15T19:07:16.249Z"
      },
      {
        "duration": 177,
        "start_time": "2022-03-15T19:16:24.958Z"
      },
      {
        "duration": 230,
        "start_time": "2022-03-15T19:17:44.975Z"
      },
      {
        "duration": 387,
        "start_time": "2022-03-15T19:18:06.140Z"
      },
      {
        "duration": 168,
        "start_time": "2022-03-15T19:18:48.829Z"
      },
      {
        "duration": 161,
        "start_time": "2022-03-15T19:19:38.229Z"
      },
      {
        "duration": 7,
        "start_time": "2022-03-15T19:19:40.849Z"
      },
      {
        "duration": 5,
        "start_time": "2022-03-15T19:19:46.560Z"
      },
      {
        "duration": 6,
        "start_time": "2022-03-15T19:20:12.596Z"
      },
      {
        "duration": 161,
        "start_time": "2022-03-15T19:20:23.620Z"
      },
      {
        "duration": 214,
        "start_time": "2022-03-15T19:20:29.270Z"
      },
      {
        "duration": 6,
        "start_time": "2022-03-15T19:20:56.108Z"
      },
      {
        "duration": 259,
        "start_time": "2022-03-15T19:21:18.030Z"
      },
      {
        "duration": 154,
        "start_time": "2022-03-15T19:21:22.975Z"
      },
      {
        "duration": 339,
        "start_time": "2022-03-15T19:22:08.899Z"
      },
      {
        "duration": 152,
        "start_time": "2022-03-15T19:22:48.840Z"
      },
      {
        "duration": 222,
        "start_time": "2022-03-15T19:22:52.977Z"
      },
      {
        "duration": 30,
        "start_time": "2022-03-15T19:24:19.181Z"
      },
      {
        "duration": 33,
        "start_time": "2022-03-15T19:24:33.201Z"
      },
      {
        "duration": 78,
        "start_time": "2022-03-15T19:28:47.716Z"
      },
      {
        "duration": 85,
        "start_time": "2022-03-15T19:28:53.613Z"
      },
      {
        "duration": 195,
        "start_time": "2022-03-15T19:30:08.052Z"
      },
      {
        "duration": 29,
        "start_time": "2022-03-15T19:30:13.655Z"
      },
      {
        "duration": 31,
        "start_time": "2022-03-15T19:30:22.144Z"
      },
      {
        "duration": 168,
        "start_time": "2022-03-15T19:30:27.643Z"
      },
      {
        "duration": 36,
        "start_time": "2022-03-15T19:30:33.072Z"
      },
      {
        "duration": 83,
        "start_time": "2022-03-15T19:32:29.324Z"
      },
      {
        "duration": 191,
        "start_time": "2022-03-15T19:33:10.285Z"
      },
      {
        "duration": 93,
        "start_time": "2022-03-15T19:33:23.356Z"
      },
      {
        "duration": 95,
        "start_time": "2022-03-15T19:33:34.124Z"
      },
      {
        "duration": 19,
        "start_time": "2022-03-15T19:34:00.355Z"
      },
      {
        "duration": 18,
        "start_time": "2022-03-15T19:34:09.196Z"
      },
      {
        "duration": 18,
        "start_time": "2022-03-15T19:34:29.195Z"
      },
      {
        "duration": 18,
        "start_time": "2022-03-15T19:34:31.094Z"
      },
      {
        "duration": 41,
        "start_time": "2022-03-15T19:34:35.245Z"
      },
      {
        "duration": 41,
        "start_time": "2022-03-15T19:34:37.275Z"
      },
      {
        "duration": 39,
        "start_time": "2022-03-15T19:34:38.605Z"
      },
      {
        "duration": 18,
        "start_time": "2022-03-15T19:34:41.854Z"
      },
      {
        "duration": 37,
        "start_time": "2022-03-15T19:35:42.400Z"
      },
      {
        "duration": 3652,
        "start_time": "2022-03-15T19:38:28.765Z"
      },
      {
        "duration": 22,
        "start_time": "2022-03-15T19:38:38.337Z"
      },
      {
        "duration": 20,
        "start_time": "2022-03-15T19:38:54.587Z"
      },
      {
        "duration": 18,
        "start_time": "2022-03-15T19:39:04.126Z"
      },
      {
        "duration": 21,
        "start_time": "2022-03-15T19:39:22.336Z"
      },
      {
        "duration": 17,
        "start_time": "2022-03-15T19:39:27.776Z"
      },
      {
        "duration": 43,
        "start_time": "2022-03-15T19:40:35.217Z"
      },
      {
        "duration": 291,
        "start_time": "2022-03-16T04:16:49.582Z"
      },
      {
        "duration": 686,
        "start_time": "2022-03-16T04:16:54.646Z"
      },
      {
        "duration": 15,
        "start_time": "2022-03-16T04:16:55.334Z"
      },
      {
        "duration": 6,
        "start_time": "2022-03-16T04:16:55.351Z"
      },
      {
        "duration": 8,
        "start_time": "2022-03-16T04:16:55.359Z"
      },
      {
        "duration": 36,
        "start_time": "2022-03-16T04:16:55.369Z"
      },
      {
        "duration": 22,
        "start_time": "2022-03-16T04:17:35.806Z"
      },
      {
        "duration": 50,
        "start_time": "2022-03-16T04:17:43.005Z"
      },
      {
        "duration": 287,
        "start_time": "2022-03-16T06:24:23.015Z"
      },
      {
        "duration": 864,
        "start_time": "2022-03-16T06:24:28.873Z"
      },
      {
        "duration": 17,
        "start_time": "2022-03-16T06:24:29.739Z"
      },
      {
        "duration": 6,
        "start_time": "2022-03-16T06:24:29.759Z"
      },
      {
        "duration": 5,
        "start_time": "2022-03-16T06:24:29.767Z"
      },
      {
        "duration": 63,
        "start_time": "2022-03-16T06:24:29.774Z"
      },
      {
        "duration": 57,
        "start_time": "2022-03-16T06:25:05.223Z"
      },
      {
        "duration": 40,
        "start_time": "2022-03-16T06:27:22.451Z"
      },
      {
        "duration": 40,
        "start_time": "2022-03-16T06:33:35.219Z"
      },
      {
        "duration": 38,
        "start_time": "2022-03-16T06:33:50.178Z"
      },
      {
        "duration": 39,
        "start_time": "2022-03-16T06:33:57.058Z"
      },
      {
        "duration": 42,
        "start_time": "2022-03-16T06:34:14.740Z"
      },
      {
        "duration": 59,
        "start_time": "2022-03-16T07:13:13.840Z"
      },
      {
        "duration": 102,
        "start_time": "2022-03-16T07:13:47.425Z"
      },
      {
        "duration": 75,
        "start_time": "2022-03-16T07:14:00.897Z"
      },
      {
        "duration": 52,
        "start_time": "2022-03-16T07:21:25.194Z"
      },
      {
        "duration": 36,
        "start_time": "2022-03-16T07:22:02.867Z"
      },
      {
        "duration": 40,
        "start_time": "2022-03-16T07:34:12.390Z"
      },
      {
        "duration": 59,
        "start_time": "2022-03-16T07:34:16.713Z"
      },
      {
        "duration": 21,
        "start_time": "2022-03-16T07:34:16.774Z"
      },
      {
        "duration": 7,
        "start_time": "2022-03-16T07:34:16.798Z"
      },
      {
        "duration": 11,
        "start_time": "2022-03-16T07:34:16.807Z"
      },
      {
        "duration": 35,
        "start_time": "2022-03-16T07:34:16.820Z"
      },
      {
        "duration": 36,
        "start_time": "2022-03-16T07:36:16.508Z"
      },
      {
        "duration": 324,
        "start_time": "2022-03-16T07:36:24.556Z"
      },
      {
        "duration": 310,
        "start_time": "2022-03-16T07:36:29.573Z"
      },
      {
        "duration": 40,
        "start_time": "2022-03-16T07:36:33.461Z"
      },
      {
        "duration": 299,
        "start_time": "2022-03-16T07:36:46.726Z"
      },
      {
        "duration": 36,
        "start_time": "2022-03-16T07:37:22.742Z"
      },
      {
        "duration": 34,
        "start_time": "2022-03-16T07:37:24.230Z"
      },
      {
        "duration": 44,
        "start_time": "2022-03-16T07:37:45.158Z"
      },
      {
        "duration": 36,
        "start_time": "2022-03-16T07:37:46.510Z"
      },
      {
        "duration": 287,
        "start_time": "2022-03-16T07:37:52.389Z"
      },
      {
        "duration": 346,
        "start_time": "2022-03-16T07:37:56.998Z"
      },
      {
        "duration": 272,
        "start_time": "2022-03-16T07:38:05.926Z"
      },
      {
        "duration": 48,
        "start_time": "2022-03-16T07:40:27.401Z"
      },
      {
        "duration": 336,
        "start_time": "2022-03-16T08:03:22.699Z"
      },
      {
        "duration": 39,
        "start_time": "2022-03-16T08:03:29.787Z"
      },
      {
        "duration": 55,
        "start_time": "2022-03-16T08:07:53.968Z"
      },
      {
        "duration": 36,
        "start_time": "2022-03-16T08:08:01.888Z"
      },
      {
        "duration": 61,
        "start_time": "2022-03-16T08:11:29.858Z"
      },
      {
        "duration": 52,
        "start_time": "2022-03-16T08:16:46.329Z"
      },
      {
        "duration": 51,
        "start_time": "2022-03-16T08:16:56.368Z"
      },
      {
        "duration": 37,
        "start_time": "2022-03-16T08:17:00.720Z"
      },
      {
        "duration": 56,
        "start_time": "2022-03-16T08:17:12.952Z"
      },
      {
        "duration": 23,
        "start_time": "2022-03-16T08:17:13.010Z"
      },
      {
        "duration": 11,
        "start_time": "2022-03-16T08:17:13.037Z"
      },
      {
        "duration": 8,
        "start_time": "2022-03-16T08:17:13.050Z"
      },
      {
        "duration": 52,
        "start_time": "2022-03-16T08:17:13.060Z"
      },
      {
        "duration": 71,
        "start_time": "2022-03-16T08:18:47.498Z"
      },
      {
        "duration": 97,
        "start_time": "2022-03-16T08:19:51.556Z"
      },
      {
        "duration": 149,
        "start_time": "2022-03-16T08:21:38.097Z"
      },
      {
        "duration": 116,
        "start_time": "2022-03-16T08:22:04.714Z"
      },
      {
        "duration": 148,
        "start_time": "2022-03-16T08:22:42.498Z"
      },
      {
        "duration": 151,
        "start_time": "2022-03-16T08:23:28.035Z"
      },
      {
        "duration": 110,
        "start_time": "2022-03-16T08:23:56.922Z"
      },
      {
        "duration": 56,
        "start_time": "2022-03-16T08:24:00.643Z"
      },
      {
        "duration": 24,
        "start_time": "2022-03-16T08:24:00.702Z"
      },
      {
        "duration": 26,
        "start_time": "2022-03-16T08:24:00.728Z"
      },
      {
        "duration": 23,
        "start_time": "2022-03-16T08:24:00.756Z"
      },
      {
        "duration": 192,
        "start_time": "2022-03-16T08:24:00.781Z"
      },
      {
        "duration": 120,
        "start_time": "2022-03-16T08:24:04.834Z"
      },
      {
        "duration": 131,
        "start_time": "2022-03-16T08:24:13.666Z"
      },
      {
        "duration": 5,
        "start_time": "2022-03-16T08:31:11.730Z"
      },
      {
        "duration": 13,
        "start_time": "2022-03-16T08:33:28.429Z"
      },
      {
        "duration": 10,
        "start_time": "2022-03-16T08:33:37.991Z"
      },
      {
        "duration": 10,
        "start_time": "2022-03-16T08:33:55.045Z"
      },
      {
        "duration": 14,
        "start_time": "2022-03-16T08:34:41.687Z"
      },
      {
        "duration": 255,
        "start_time": "2022-03-16T08:35:39.343Z"
      },
      {
        "duration": 329,
        "start_time": "2022-03-16T08:35:47.808Z"
      },
      {
        "duration": 21,
        "start_time": "2022-03-16T08:35:54.191Z"
      },
      {
        "duration": 677,
        "start_time": "2022-03-16T08:40:47.517Z"
      },
      {
        "duration": 756,
        "start_time": "2022-03-16T08:41:29.734Z"
      },
      {
        "duration": 765,
        "start_time": "2022-03-16T08:41:43.101Z"
      },
      {
        "duration": 9,
        "start_time": "2022-03-16T08:41:51.557Z"
      },
      {
        "duration": 28,
        "start_time": "2022-03-16T08:41:55.269Z"
      },
      {
        "duration": 11,
        "start_time": "2022-03-16T08:42:05.383Z"
      },
      {
        "duration": 12,
        "start_time": "2022-03-16T08:42:30.094Z"
      },
      {
        "duration": 13,
        "start_time": "2022-03-16T08:44:05.234Z"
      },
      {
        "duration": 82,
        "start_time": "2022-03-16T08:49:34.750Z"
      },
      {
        "duration": 118,
        "start_time": "2022-03-16T08:49:54.126Z"
      },
      {
        "duration": 14,
        "start_time": "2022-03-16T08:50:12.552Z"
      },
      {
        "duration": 24,
        "start_time": "2022-03-16T08:53:18.058Z"
      },
      {
        "duration": 23,
        "start_time": "2022-03-16T08:53:34.970Z"
      },
      {
        "duration": 26,
        "start_time": "2022-03-16T08:53:41.081Z"
      },
      {
        "duration": 24,
        "start_time": "2022-03-16T08:53:45.419Z"
      },
      {
        "duration": 30,
        "start_time": "2022-03-16T08:53:49.434Z"
      },
      {
        "duration": 31,
        "start_time": "2022-03-16T08:53:56.034Z"
      },
      {
        "duration": 25,
        "start_time": "2022-03-16T08:54:04.619Z"
      },
      {
        "duration": 24,
        "start_time": "2022-03-16T08:54:07.179Z"
      },
      {
        "duration": 23,
        "start_time": "2022-03-16T08:54:15.794Z"
      },
      {
        "duration": 33,
        "start_time": "2022-03-16T08:54:20.771Z"
      },
      {
        "duration": 24,
        "start_time": "2022-03-16T08:54:58.965Z"
      },
      {
        "duration": 36,
        "start_time": "2022-03-16T08:55:06.420Z"
      },
      {
        "duration": 33,
        "start_time": "2022-03-16T08:55:24.350Z"
      },
      {
        "duration": 102,
        "start_time": "2022-03-16T08:59:36.547Z"
      },
      {
        "duration": 59,
        "start_time": "2022-03-16T08:59:39.489Z"
      },
      {
        "duration": 15,
        "start_time": "2022-03-16T08:59:39.550Z"
      },
      {
        "duration": 19,
        "start_time": "2022-03-16T08:59:39.567Z"
      },
      {
        "duration": 17,
        "start_time": "2022-03-16T08:59:39.588Z"
      },
      {
        "duration": 108,
        "start_time": "2022-03-16T08:59:39.607Z"
      },
      {
        "duration": -835,
        "start_time": "2022-03-16T08:59:40.552Z"
      },
      {
        "duration": -838,
        "start_time": "2022-03-16T08:59:40.556Z"
      },
      {
        "duration": 132,
        "start_time": "2022-03-16T08:59:50.121Z"
      },
      {
        "duration": 342,
        "start_time": "2022-03-16T09:00:52.124Z"
      },
      {
        "duration": 130,
        "start_time": "2022-03-16T09:01:26.908Z"
      },
      {
        "duration": 21,
        "start_time": "2022-03-16T09:03:22.966Z"
      },
      {
        "duration": 267,
        "start_time": "2022-03-16T09:06:12.987Z"
      },
      {
        "duration": 290,
        "start_time": "2022-03-16T09:06:23.681Z"
      },
      {
        "duration": 282,
        "start_time": "2022-03-16T09:07:02.162Z"
      },
      {
        "duration": 277,
        "start_time": "2022-03-16T09:07:09.801Z"
      },
      {
        "duration": 278,
        "start_time": "2022-03-16T09:07:38.202Z"
      },
      {
        "duration": 246,
        "start_time": "2022-03-16T09:07:46.474Z"
      },
      {
        "duration": 277,
        "start_time": "2022-03-16T09:09:29.844Z"
      },
      {
        "duration": 253,
        "start_time": "2022-03-16T09:09:38.179Z"
      },
      {
        "duration": 83,
        "start_time": "2022-03-16T09:09:41.501Z"
      },
      {
        "duration": 11,
        "start_time": "2022-03-16T09:09:46.062Z"
      },
      {
        "duration": 11,
        "start_time": "2022-03-16T09:09:48.004Z"
      },
      {
        "duration": 14,
        "start_time": "2022-03-16T09:09:52.956Z"
      },
      {
        "duration": 15,
        "start_time": "2022-03-16T09:14:10.922Z"
      },
      {
        "duration": 36,
        "start_time": "2022-03-16T09:19:39.726Z"
      },
      {
        "duration": 38,
        "start_time": "2022-03-16T09:20:38.609Z"
      },
      {
        "duration": 86,
        "start_time": "2022-03-16T09:29:59.548Z"
      },
      {
        "duration": 17,
        "start_time": "2022-03-16T09:30:11.018Z"
      },
      {
        "duration": 19,
        "start_time": "2022-03-16T09:30:13.523Z"
      },
      {
        "duration": 58,
        "start_time": "2022-03-16T09:30:31.454Z"
      },
      {
        "duration": 17,
        "start_time": "2022-03-16T09:30:31.514Z"
      },
      {
        "duration": 8,
        "start_time": "2022-03-16T09:30:31.534Z"
      },
      {
        "duration": 15,
        "start_time": "2022-03-16T09:30:31.545Z"
      },
      {
        "duration": 144,
        "start_time": "2022-03-16T09:30:31.563Z"
      },
      {
        "duration": 20,
        "start_time": "2022-03-16T09:30:31.709Z"
      },
      {
        "duration": 41,
        "start_time": "2022-03-16T09:30:31.731Z"
      },
      {
        "duration": 40,
        "start_time": "2022-03-16T09:30:31.774Z"
      },
      {
        "duration": 16,
        "start_time": "2022-03-16T09:30:50.563Z"
      },
      {
        "duration": 276,
        "start_time": "2022-03-16T09:30:58.532Z"
      },
      {
        "duration": 264,
        "start_time": "2022-03-16T09:31:03.837Z"
      },
      {
        "duration": 15,
        "start_time": "2022-03-16T09:31:13.260Z"
      },
      {
        "duration": 21,
        "start_time": "2022-03-16T09:34:29.015Z"
      },
      {
        "duration": 275,
        "start_time": "2022-03-16T09:47:34.348Z"
      },
      {
        "duration": 264,
        "start_time": "2022-03-16T09:47:41.644Z"
      },
      {
        "duration": 22,
        "start_time": "2022-03-16T09:47:53.491Z"
      },
      {
        "duration": 25,
        "start_time": "2022-03-16T09:51:11.377Z"
      },
      {
        "duration": 5,
        "start_time": "2022-03-16T09:55:52.525Z"
      },
      {
        "duration": 15,
        "start_time": "2022-03-16T09:55:57.219Z"
      },
      {
        "duration": 53,
        "start_time": "2022-03-16T10:14:49.876Z"
      },
      {
        "duration": 18,
        "start_time": "2022-03-16T10:15:06.064Z"
      },
      {
        "duration": 14,
        "start_time": "2022-03-16T10:20:18.876Z"
      },
      {
        "duration": 13,
        "start_time": "2022-03-16T10:20:59.157Z"
      },
      {
        "duration": 15,
        "start_time": "2022-03-16T10:23:40.614Z"
      },
      {
        "duration": 260,
        "start_time": "2022-03-16T10:25:23.503Z"
      },
      {
        "duration": 251,
        "start_time": "2022-03-16T10:25:40.864Z"
      },
      {
        "duration": 316,
        "start_time": "2022-03-16T10:26:23.577Z"
      },
      {
        "duration": 14,
        "start_time": "2022-03-16T10:26:27.185Z"
      },
      {
        "duration": 682,
        "start_time": "2022-03-16T10:46:44.433Z"
      },
      {
        "duration": 15,
        "start_time": "2022-03-16T10:46:45.118Z"
      },
      {
        "duration": 9,
        "start_time": "2022-03-16T10:46:45.135Z"
      },
      {
        "duration": 4,
        "start_time": "2022-03-16T10:46:45.146Z"
      },
      {
        "duration": 1997,
        "start_time": "2022-03-16T10:46:45.152Z"
      },
      {
        "duration": -753,
        "start_time": "2022-03-16T10:46:47.904Z"
      },
      {
        "duration": -756,
        "start_time": "2022-03-16T10:46:47.908Z"
      },
      {
        "duration": -759,
        "start_time": "2022-03-16T10:46:47.912Z"
      },
      {
        "duration": 353,
        "start_time": "2022-03-16T10:47:10.332Z"
      },
      {
        "duration": 65,
        "start_time": "2022-03-16T10:47:39.915Z"
      },
      {
        "duration": 20,
        "start_time": "2022-03-16T10:47:39.983Z"
      },
      {
        "duration": 7,
        "start_time": "2022-03-16T10:47:40.005Z"
      },
      {
        "duration": 20,
        "start_time": "2022-03-16T10:47:40.014Z"
      },
      {
        "duration": 142,
        "start_time": "2022-03-16T10:47:40.036Z"
      },
      {
        "duration": 43,
        "start_time": "2022-03-16T10:47:40.180Z"
      },
      {
        "duration": 61,
        "start_time": "2022-03-16T10:47:40.226Z"
      },
      {
        "duration": 13,
        "start_time": "2022-03-16T10:47:40.302Z"
      },
      {
        "duration": 89,
        "start_time": "2022-03-16T10:49:20.358Z"
      },
      {
        "duration": 11,
        "start_time": "2022-03-16T10:49:26.158Z"
      },
      {
        "duration": 12,
        "start_time": "2022-03-16T10:49:49.263Z"
      },
      {
        "duration": 10,
        "start_time": "2022-03-16T10:49:58.374Z"
      },
      {
        "duration": 11,
        "start_time": "2022-03-16T10:50:01.374Z"
      },
      {
        "duration": 283,
        "start_time": "2022-03-16T10:52:59.666Z"
      },
      {
        "duration": 9,
        "start_time": "2022-03-16T10:53:11.107Z"
      },
      {
        "duration": 9,
        "start_time": "2022-03-16T10:53:13.105Z"
      },
      {
        "duration": 268,
        "start_time": "2022-03-16T10:53:19.914Z"
      },
      {
        "duration": 9,
        "start_time": "2022-03-16T10:53:51.955Z"
      },
      {
        "duration": 10,
        "start_time": "2022-03-16T10:53:55.763Z"
      },
      {
        "duration": 10,
        "start_time": "2022-03-16T10:54:01.098Z"
      },
      {
        "duration": 8,
        "start_time": "2022-03-16T10:54:15.010Z"
      },
      {
        "duration": 10,
        "start_time": "2022-03-16T10:54:20.810Z"
      },
      {
        "duration": 29,
        "start_time": "2022-03-16T11:28:14.372Z"
      },
      {
        "duration": 25,
        "start_time": "2022-03-16T11:28:15.901Z"
      },
      {
        "duration": 49,
        "start_time": "2022-03-16T11:28:20.780Z"
      },
      {
        "duration": 111,
        "start_time": "2022-03-16T11:28:35.342Z"
      },
      {
        "duration": 24,
        "start_time": "2022-03-16T11:28:38.860Z"
      },
      {
        "duration": 7,
        "start_time": "2022-03-16T11:28:57.301Z"
      },
      {
        "duration": 10,
        "start_time": "2022-03-16T11:30:06.831Z"
      },
      {
        "duration": 7,
        "start_time": "2022-03-16T11:33:32.659Z"
      },
      {
        "duration": 6,
        "start_time": "2022-03-16T11:33:36.299Z"
      },
      {
        "duration": 9,
        "start_time": "2022-03-16T11:33:41.068Z"
      },
      {
        "duration": 60,
        "start_time": "2022-03-16T11:34:42.258Z"
      },
      {
        "duration": 16,
        "start_time": "2022-03-16T11:34:42.319Z"
      },
      {
        "duration": 9,
        "start_time": "2022-03-16T11:34:42.337Z"
      },
      {
        "duration": 5,
        "start_time": "2022-03-16T11:34:42.348Z"
      },
      {
        "duration": 146,
        "start_time": "2022-03-16T11:34:42.355Z"
      },
      {
        "duration": 20,
        "start_time": "2022-03-16T11:34:42.503Z"
      },
      {
        "duration": 36,
        "start_time": "2022-03-16T11:34:42.525Z"
      },
      {
        "duration": 11,
        "start_time": "2022-03-16T11:34:42.564Z"
      },
      {
        "duration": 34,
        "start_time": "2022-03-16T11:42:46.279Z"
      },
      {
        "duration": 277,
        "start_time": "2022-03-16T11:43:01.112Z"
      },
      {
        "duration": 12,
        "start_time": "2022-03-16T11:43:45.161Z"
      },
      {
        "duration": 16,
        "start_time": "2022-03-16T11:54:01.326Z"
      },
      {
        "duration": 20,
        "start_time": "2022-03-16T11:55:44.025Z"
      },
      {
        "duration": 25,
        "start_time": "2022-03-16T11:57:11.945Z"
      },
      {
        "duration": 271,
        "start_time": "2022-03-16T11:58:58.683Z"
      },
      {
        "duration": 383,
        "start_time": "2022-03-16T11:59:15.363Z"
      },
      {
        "duration": 282,
        "start_time": "2022-03-16T11:59:23.540Z"
      },
      {
        "duration": 23,
        "start_time": "2022-03-16T11:59:32.445Z"
      },
      {
        "duration": 37,
        "start_time": "2022-03-16T12:01:45.065Z"
      },
      {
        "duration": 39,
        "start_time": "2022-03-16T12:31:10.868Z"
      },
      {
        "duration": 287,
        "start_time": "2022-03-16T12:31:39.693Z"
      },
      {
        "duration": 45,
        "start_time": "2022-03-16T12:33:42.687Z"
      },
      {
        "duration": 108,
        "start_time": "2022-03-16T12:48:11.593Z"
      },
      {
        "duration": 288,
        "start_time": "2022-03-16T12:48:30.561Z"
      },
      {
        "duration": 71,
        "start_time": "2022-03-16T12:49:07.873Z"
      },
      {
        "duration": 31,
        "start_time": "2022-03-16T12:49:53.546Z"
      },
      {
        "duration": 45,
        "start_time": "2022-03-16T12:51:34.709Z"
      },
      {
        "duration": 34,
        "start_time": "2022-03-16T12:53:45.464Z"
      },
      {
        "duration": 42,
        "start_time": "2022-03-16T12:55:16.289Z"
      },
      {
        "duration": 86,
        "start_time": "2022-03-16T12:55:49.837Z"
      },
      {
        "duration": 491,
        "start_time": "2022-03-16T12:56:00.066Z"
      },
      {
        "duration": 41,
        "start_time": "2022-03-16T12:56:04.971Z"
      },
      {
        "duration": 47,
        "start_time": "2022-03-16T12:59:13.942Z"
      },
      {
        "duration": -559,
        "start_time": "2022-03-16T13:13:36.012Z"
      },
      {
        "duration": -563,
        "start_time": "2022-03-16T13:13:36.017Z"
      },
      {
        "duration": -566,
        "start_time": "2022-03-16T13:13:36.021Z"
      },
      {
        "duration": -567,
        "start_time": "2022-03-16T13:13:36.023Z"
      },
      {
        "duration": -568,
        "start_time": "2022-03-16T13:13:36.025Z"
      },
      {
        "duration": -569,
        "start_time": "2022-03-16T13:13:36.027Z"
      },
      {
        "duration": -575,
        "start_time": "2022-03-16T13:13:36.034Z"
      },
      {
        "duration": -577,
        "start_time": "2022-03-16T13:13:36.037Z"
      },
      {
        "duration": -599,
        "start_time": "2022-03-16T13:13:49.128Z"
      },
      {
        "duration": 60,
        "start_time": "2022-03-16T13:13:54.782Z"
      },
      {
        "duration": 16,
        "start_time": "2022-03-16T13:13:54.845Z"
      },
      {
        "duration": 17,
        "start_time": "2022-03-16T13:13:54.863Z"
      },
      {
        "duration": 21,
        "start_time": "2022-03-16T13:13:54.882Z"
      },
      {
        "duration": 138,
        "start_time": "2022-03-16T13:13:54.905Z"
      },
      {
        "duration": 20,
        "start_time": "2022-03-16T13:13:55.045Z"
      },
      {
        "duration": 59,
        "start_time": "2022-03-16T13:13:55.066Z"
      },
      {
        "duration": 43,
        "start_time": "2022-03-16T13:13:55.128Z"
      },
      {
        "duration": 44,
        "start_time": "2022-03-16T13:14:43.578Z"
      },
      {
        "duration": -569,
        "start_time": "2022-03-16T13:14:53.798Z"
      },
      {
        "duration": 54,
        "start_time": "2022-03-16T13:14:57.321Z"
      },
      {
        "duration": 15,
        "start_time": "2022-03-16T13:14:57.377Z"
      },
      {
        "duration": 9,
        "start_time": "2022-03-16T13:14:57.394Z"
      },
      {
        "duration": 4,
        "start_time": "2022-03-16T13:14:57.406Z"
      },
      {
        "duration": 136,
        "start_time": "2022-03-16T13:14:57.411Z"
      },
      {
        "duration": 19,
        "start_time": "2022-03-16T13:14:57.549Z"
      },
      {
        "duration": 55,
        "start_time": "2022-03-16T13:14:57.569Z"
      },
      {
        "duration": 6975,
        "start_time": "2022-03-16T13:14:57.626Z"
      },
      {
        "duration": 6669,
        "start_time": "2022-03-16T13:15:19.603Z"
      },
      {
        "duration": -554,
        "start_time": "2022-03-16T13:15:33.584Z"
      },
      {
        "duration": -555,
        "start_time": "2022-03-16T13:15:33.586Z"
      },
      {
        "duration": -556,
        "start_time": "2022-03-16T13:15:33.588Z"
      },
      {
        "duration": -568,
        "start_time": "2022-03-16T13:15:33.601Z"
      },
      {
        "duration": -569,
        "start_time": "2022-03-16T13:15:33.603Z"
      },
      {
        "duration": -570,
        "start_time": "2022-03-16T13:15:33.605Z"
      },
      {
        "duration": -571,
        "start_time": "2022-03-16T13:15:33.607Z"
      },
      {
        "duration": -571,
        "start_time": "2022-03-16T13:15:33.609Z"
      },
      {
        "duration": -548,
        "start_time": "2022-03-16T13:15:42.874Z"
      },
      {
        "duration": 46,
        "start_time": "2022-03-16T13:15:43.586Z"
      },
      {
        "duration": 282,
        "start_time": "2022-03-16T13:31:58.560Z"
      },
      {
        "duration": 493,
        "start_time": "2022-03-16T13:32:25.688Z"
      },
      {
        "duration": 266,
        "start_time": "2022-03-16T13:33:27.329Z"
      },
      {
        "duration": 263,
        "start_time": "2022-03-16T13:33:38.577Z"
      },
      {
        "duration": 51,
        "start_time": "2022-03-16T13:33:48.089Z"
      },
      {
        "duration": -529,
        "start_time": "2022-03-16T13:34:19.878Z"
      },
      {
        "duration": -529,
        "start_time": "2022-03-16T13:34:19.880Z"
      },
      {
        "duration": -530,
        "start_time": "2022-03-16T13:34:19.883Z"
      },
      {
        "duration": -531,
        "start_time": "2022-03-16T13:34:19.886Z"
      },
      {
        "duration": -533,
        "start_time": "2022-03-16T13:34:19.889Z"
      },
      {
        "duration": -533,
        "start_time": "2022-03-16T13:34:19.891Z"
      },
      {
        "duration": -535,
        "start_time": "2022-03-16T13:34:19.894Z"
      },
      {
        "duration": -535,
        "start_time": "2022-03-16T13:34:19.896Z"
      },
      {
        "duration": 53,
        "start_time": "2022-03-16T13:34:28.193Z"
      },
      {
        "duration": 54,
        "start_time": "2022-03-16T13:34:36.811Z"
      },
      {
        "duration": 50,
        "start_time": "2022-03-16T13:34:48.883Z"
      },
      {
        "duration": 55,
        "start_time": "2022-03-16T13:34:53.787Z"
      },
      {
        "duration": 55,
        "start_time": "2022-03-16T13:36:26.790Z"
      },
      {
        "duration": 50,
        "start_time": "2022-03-16T13:36:46.413Z"
      },
      {
        "duration": 55,
        "start_time": "2022-03-16T13:36:56.548Z"
      },
      {
        "duration": -522,
        "start_time": "2022-03-16T13:37:27.042Z"
      },
      {
        "duration": -523,
        "start_time": "2022-03-16T13:37:27.045Z"
      },
      {
        "duration": -524,
        "start_time": "2022-03-16T13:37:27.047Z"
      },
      {
        "duration": -526,
        "start_time": "2022-03-16T13:37:27.051Z"
      },
      {
        "duration": -527,
        "start_time": "2022-03-16T13:37:27.054Z"
      },
      {
        "duration": -532,
        "start_time": "2022-03-16T13:37:27.061Z"
      },
      {
        "duration": -533,
        "start_time": "2022-03-16T13:37:27.063Z"
      },
      {
        "duration": -533,
        "start_time": "2022-03-16T13:37:27.065Z"
      },
      {
        "duration": 60,
        "start_time": "2022-03-16T13:37:33.241Z"
      },
      {
        "duration": 16,
        "start_time": "2022-03-16T13:37:33.302Z"
      },
      {
        "duration": 17,
        "start_time": "2022-03-16T13:37:33.320Z"
      },
      {
        "duration": 22,
        "start_time": "2022-03-16T13:37:33.339Z"
      },
      {
        "duration": 142,
        "start_time": "2022-03-16T13:37:33.364Z"
      },
      {
        "duration": 20,
        "start_time": "2022-03-16T13:37:33.508Z"
      },
      {
        "duration": 50,
        "start_time": "2022-03-16T13:37:33.529Z"
      },
      {
        "duration": 55,
        "start_time": "2022-03-16T13:37:33.582Z"
      },
      {
        "duration": -520,
        "start_time": "2022-03-16T13:37:53.740Z"
      },
      {
        "duration": 6491,
        "start_time": "2022-03-16T13:37:54.005Z"
      },
      {
        "duration": 6467,
        "start_time": "2022-03-16T13:38:48.161Z"
      },
      {
        "duration": 7346,
        "start_time": "2022-03-16T13:38:58.784Z"
      },
      {
        "duration": 6422,
        "start_time": "2022-03-16T13:39:12.848Z"
      },
      {
        "duration": -519,
        "start_time": "2022-03-16T13:39:44.314Z"
      },
      {
        "duration": 6423,
        "start_time": "2022-03-16T13:41:18.753Z"
      },
      {
        "duration": 7754,
        "start_time": "2022-03-16T13:41:26.379Z"
      },
      {
        "duration": -515,
        "start_time": "2022-03-16T13:43:01.450Z"
      },
      {
        "duration": 6986,
        "start_time": "2022-03-16T13:44:02.942Z"
      },
      {
        "duration": 273,
        "start_time": "2022-03-16T13:51:26.960Z"
      },
      {
        "duration": 7401,
        "start_time": "2022-03-16T13:51:39.599Z"
      },
      {
        "duration": -501,
        "start_time": "2022-03-16T13:52:42.231Z"
      },
      {
        "duration": 15,
        "start_time": "2022-03-16T13:52:45.824Z"
      },
      {
        "duration": 302,
        "start_time": "2022-03-16T13:53:06.833Z"
      },
      {
        "duration": 250,
        "start_time": "2022-03-16T15:22:46.788Z"
      },
      {
        "duration": 1163,
        "start_time": "2022-03-16T15:22:53.994Z"
      },
      {
        "duration": 17,
        "start_time": "2022-03-16T15:22:55.159Z"
      },
      {
        "duration": 10,
        "start_time": "2022-03-16T15:22:55.178Z"
      },
      {
        "duration": 4,
        "start_time": "2022-03-16T15:22:55.190Z"
      },
      {
        "duration": 138,
        "start_time": "2022-03-16T15:22:55.196Z"
      },
      {
        "duration": 294,
        "start_time": "2022-03-16T15:22:55.336Z"
      },
      {
        "duration": 25883,
        "start_time": "2022-03-16T15:22:29.749Z"
      },
      {
        "duration": 25880,
        "start_time": "2022-03-16T15:22:29.752Z"
      },
      {
        "duration": 11,
        "start_time": "2022-03-16T15:23:12.973Z"
      },
      {
        "duration": 16,
        "start_time": "2022-03-16T15:24:13.225Z"
      },
      {
        "duration": 13,
        "start_time": "2022-03-16T15:24:37.549Z"
      },
      {
        "duration": 15,
        "start_time": "2022-03-16T15:24:39.785Z"
      },
      {
        "duration": 14,
        "start_time": "2022-03-16T15:25:33.484Z"
      },
      {
        "duration": 56,
        "start_time": "2022-03-16T15:28:07.085Z"
      },
      {
        "duration": 39,
        "start_time": "2022-03-16T15:28:28.914Z"
      },
      {
        "duration": 16,
        "start_time": "2022-03-16T15:52:36.824Z"
      },
      {
        "duration": 279,
        "start_time": "2022-03-16T15:52:56.363Z"
      },
      {
        "duration": 18,
        "start_time": "2022-03-16T15:52:59.962Z"
      },
      {
        "duration": 17,
        "start_time": "2022-03-16T16:00:46.261Z"
      },
      {
        "duration": 19,
        "start_time": "2022-03-16T16:01:51.565Z"
      },
      {
        "duration": 25854,
        "start_time": "2022-03-16T16:02:42.737Z"
      },
      {
        "duration": 4585,
        "start_time": "2022-03-16T16:03:10.396Z"
      },
      {
        "duration": 221,
        "start_time": "2022-03-16T16:04:26.398Z"
      },
      {
        "duration": 244,
        "start_time": "2022-03-16T16:04:31.198Z"
      },
      {
        "duration": 4119,
        "start_time": "2022-03-16T16:05:22.267Z"
      },
      {
        "duration": 17,
        "start_time": "2022-03-16T16:05:35.359Z"
      },
      {
        "duration": 19,
        "start_time": "2022-03-16T16:09:03.047Z"
      },
      {
        "duration": 18,
        "start_time": "2022-03-16T16:09:07.880Z"
      },
      {
        "duration": 16,
        "start_time": "2022-03-16T16:09:16.201Z"
      },
      {
        "duration": 20,
        "start_time": "2022-03-16T16:09:21.767Z"
      },
      {
        "duration": 287,
        "start_time": "2022-03-16T16:11:03.940Z"
      },
      {
        "duration": 17,
        "start_time": "2022-03-16T16:11:15.952Z"
      },
      {
        "duration": 236,
        "start_time": "2022-03-16T16:12:21.564Z"
      },
      {
        "duration": 123,
        "start_time": "2022-03-16T16:12:27.286Z"
      },
      {
        "duration": 22,
        "start_time": "2022-03-16T16:12:41.370Z"
      },
      {
        "duration": 1175,
        "start_time": "2022-03-16T16:13:15.603Z"
      },
      {
        "duration": 78,
        "start_time": "2022-03-16T16:24:02.868Z"
      },
      {
        "duration": 20,
        "start_time": "2022-03-16T16:24:10.303Z"
      },
      {
        "duration": 15,
        "start_time": "2022-03-16T16:24:53.264Z"
      },
      {
        "duration": 16,
        "start_time": "2022-03-16T16:26:08.134Z"
      },
      {
        "duration": 19,
        "start_time": "2022-03-16T16:26:10.354Z"
      },
      {
        "duration": 16,
        "start_time": "2022-03-16T16:26:16.575Z"
      },
      {
        "duration": 18,
        "start_time": "2022-03-16T16:26:19.294Z"
      },
      {
        "duration": 16,
        "start_time": "2022-03-16T16:26:36.945Z"
      },
      {
        "duration": 17,
        "start_time": "2022-03-16T16:26:41.904Z"
      },
      {
        "duration": 17,
        "start_time": "2022-03-16T16:27:07.455Z"
      },
      {
        "duration": 15,
        "start_time": "2022-03-16T16:27:18.985Z"
      },
      {
        "duration": 298,
        "start_time": "2022-03-16T16:29:04.176Z"
      },
      {
        "duration": 277,
        "start_time": "2022-03-16T16:29:11.576Z"
      },
      {
        "duration": 238,
        "start_time": "2022-03-16T16:29:19.206Z"
      },
      {
        "duration": 17,
        "start_time": "2022-03-16T16:29:22.605Z"
      },
      {
        "duration": 18,
        "start_time": "2022-03-16T16:29:25.665Z"
      },
      {
        "duration": 226,
        "start_time": "2022-03-16T16:29:51.416Z"
      },
      {
        "duration": 25880,
        "start_time": "2022-03-16T16:30:06.244Z"
      },
      {
        "duration": 15,
        "start_time": "2022-03-16T16:32:06.548Z"
      },
      {
        "duration": 18,
        "start_time": "2022-03-16T16:32:19.027Z"
      },
      {
        "duration": 20,
        "start_time": "2022-03-16T16:32:22.993Z"
      },
      {
        "duration": 27,
        "start_time": "2022-03-16T16:33:26.267Z"
      },
      {
        "duration": 27,
        "start_time": "2022-03-16T16:33:29.650Z"
      },
      {
        "duration": 259,
        "start_time": "2022-03-16T16:33:49.177Z"
      },
      {
        "duration": 239,
        "start_time": "2022-03-16T16:34:56.628Z"
      },
      {
        "duration": 25,
        "start_time": "2022-03-16T16:36:30.300Z"
      },
      {
        "duration": 16,
        "start_time": "2022-03-16T16:45:54.914Z"
      },
      {
        "duration": 21,
        "start_time": "2022-03-16T16:46:25.664Z"
      },
      {
        "duration": 80,
        "start_time": "2022-03-16T17:19:27.587Z"
      },
      {
        "duration": 15,
        "start_time": "2022-03-16T17:19:36.178Z"
      },
      {
        "duration": 17,
        "start_time": "2022-03-16T17:19:39.128Z"
      },
      {
        "duration": 55,
        "start_time": "2022-03-16T17:19:45.842Z"
      },
      {
        "duration": 127,
        "start_time": "2022-03-16T17:19:45.899Z"
      },
      {
        "duration": 195,
        "start_time": "2022-03-16T17:19:46.029Z"
      },
      {
        "duration": 146,
        "start_time": "2022-03-16T17:19:46.226Z"
      },
      {
        "duration": 418,
        "start_time": "2022-03-16T17:19:46.374Z"
      },
      {
        "duration": 85,
        "start_time": "2022-03-16T17:19:46.795Z"
      },
      {
        "duration": 150,
        "start_time": "2022-03-16T17:19:46.882Z"
      },
      {
        "duration": 55,
        "start_time": "2022-03-16T17:19:47.034Z"
      },
      {
        "duration": 14,
        "start_time": "2022-03-16T17:19:57.864Z"
      },
      {
        "duration": 22,
        "start_time": "2022-03-16T17:20:08.876Z"
      },
      {
        "duration": 21,
        "start_time": "2022-03-16T17:22:34.537Z"
      },
      {
        "duration": 29,
        "start_time": "2022-03-16T17:23:04.197Z"
      },
      {
        "duration": 267,
        "start_time": "2022-03-16T17:23:08.996Z"
      },
      {
        "duration": 33,
        "start_time": "2022-03-16T17:23:11.828Z"
      },
      {
        "duration": 24,
        "start_time": "2022-03-16T17:25:15.470Z"
      },
      {
        "duration": 19,
        "start_time": "2022-03-16T17:25:23.199Z"
      },
      {
        "duration": 22,
        "start_time": "2022-03-16T17:25:26.508Z"
      },
      {
        "duration": 243,
        "start_time": "2022-03-16T17:25:31.579Z"
      },
      {
        "duration": 66,
        "start_time": "2022-03-16T17:25:38.419Z"
      },
      {
        "duration": 28,
        "start_time": "2022-03-16T17:25:42.169Z"
      },
      {
        "duration": 30,
        "start_time": "2022-03-16T17:25:58.456Z"
      },
      {
        "duration": 225,
        "start_time": "2022-03-16T17:26:12.358Z"
      },
      {
        "duration": 25,
        "start_time": "2022-03-16T17:26:15.808Z"
      },
      {
        "duration": 15,
        "start_time": "2022-03-16T17:46:19.718Z"
      },
      {
        "duration": 16,
        "start_time": "2022-03-16T17:46:21.815Z"
      },
      {
        "duration": 24,
        "start_time": "2022-03-16T17:46:25.326Z"
      },
      {
        "duration": 16,
        "start_time": "2022-03-16T17:52:59.840Z"
      },
      {
        "duration": 134,
        "start_time": "2022-03-16T18:17:55.679Z"
      },
      {
        "duration": 212,
        "start_time": "2022-03-16T18:18:12.601Z"
      },
      {
        "duration": 83,
        "start_time": "2022-03-16T18:19:53.110Z"
      },
      {
        "duration": 51,
        "start_time": "2022-03-16T18:20:22.140Z"
      },
      {
        "duration": 37,
        "start_time": "2022-03-16T18:20:42.549Z"
      },
      {
        "duration": 56,
        "start_time": "2022-03-16T18:20:47.287Z"
      },
      {
        "duration": 13,
        "start_time": "2022-03-16T18:20:47.345Z"
      },
      {
        "duration": 7,
        "start_time": "2022-03-16T18:20:47.360Z"
      },
      {
        "duration": 4,
        "start_time": "2022-03-16T18:20:47.369Z"
      },
      {
        "duration": 48,
        "start_time": "2022-03-16T18:20:47.375Z"
      },
      {
        "duration": 45,
        "start_time": "2022-03-16T18:20:47.425Z"
      },
      {
        "duration": 59,
        "start_time": "2022-03-16T18:20:47.473Z"
      },
      {
        "duration": 44,
        "start_time": "2022-03-16T18:20:47.536Z"
      },
      {
        "duration": 205,
        "start_time": "2022-03-16T18:21:12.610Z"
      },
      {
        "duration": 105,
        "start_time": "2022-03-16T18:21:19.650Z"
      },
      {
        "duration": 137,
        "start_time": "2022-03-16T18:21:35.620Z"
      },
      {
        "duration": 108,
        "start_time": "2022-03-16T18:23:06.372Z"
      },
      {
        "duration": 315,
        "start_time": "2022-03-16T18:23:22.110Z"
      },
      {
        "duration": 323,
        "start_time": "2022-03-16T18:23:32.492Z"
      },
      {
        "duration": 337,
        "start_time": "2022-03-16T18:23:38.151Z"
      },
      {
        "duration": 178,
        "start_time": "2022-03-16T18:23:43.135Z"
      },
      {
        "duration": 119,
        "start_time": "2022-03-16T18:23:49.052Z"
      },
      {
        "duration": 112,
        "start_time": "2022-03-16T18:24:03.705Z"
      },
      {
        "duration": 364,
        "start_time": "2022-03-16T18:24:08.072Z"
      },
      {
        "duration": 408,
        "start_time": "2022-03-16T18:24:11.862Z"
      },
      {
        "duration": 454,
        "start_time": "2022-03-16T18:25:16.131Z"
      },
      {
        "duration": 128,
        "start_time": "2022-03-16T18:25:23.961Z"
      },
      {
        "duration": 127,
        "start_time": "2022-03-16T18:26:07.824Z"
      },
      {
        "duration": 174,
        "start_time": "2022-03-16T18:26:13.195Z"
      },
      {
        "duration": 178,
        "start_time": "2022-03-16T18:28:55.556Z"
      },
      {
        "duration": 86,
        "start_time": "2022-03-16T18:29:40.597Z"
      },
      {
        "duration": 20,
        "start_time": "2022-03-16T18:29:40.686Z"
      },
      {
        "duration": 11,
        "start_time": "2022-03-16T18:29:40.709Z"
      },
      {
        "duration": 8,
        "start_time": "2022-03-16T18:29:40.722Z"
      },
      {
        "duration": 190,
        "start_time": "2022-03-16T18:29:40.764Z"
      },
      {
        "duration": 16,
        "start_time": "2022-03-16T18:29:40.956Z"
      },
      {
        "duration": 62,
        "start_time": "2022-03-16T18:29:40.974Z"
      },
      {
        "duration": 20,
        "start_time": "2022-03-16T18:29:41.063Z"
      },
      {
        "duration": 18,
        "start_time": "2022-03-16T18:31:13.524Z"
      },
      {
        "duration": 18,
        "start_time": "2022-03-16T18:31:29.012Z"
      },
      {
        "duration": 61,
        "start_time": "2022-03-16T18:31:32.022Z"
      },
      {
        "duration": 14,
        "start_time": "2022-03-16T18:31:32.085Z"
      },
      {
        "duration": 14,
        "start_time": "2022-03-16T18:31:32.101Z"
      },
      {
        "duration": 48,
        "start_time": "2022-03-16T18:31:32.118Z"
      },
      {
        "duration": 198,
        "start_time": "2022-03-16T18:31:32.168Z"
      },
      {
        "duration": 18,
        "start_time": "2022-03-16T18:31:32.369Z"
      },
      {
        "duration": 42,
        "start_time": "2022-03-16T18:31:32.389Z"
      },
      {
        "duration": 45,
        "start_time": "2022-03-16T18:31:32.433Z"
      },
      {
        "duration": 79,
        "start_time": "2022-03-16T18:32:14.459Z"
      },
      {
        "duration": 27,
        "start_time": "2022-03-16T18:32:14.541Z"
      },
      {
        "duration": 15,
        "start_time": "2022-03-16T18:32:14.571Z"
      },
      {
        "duration": 14,
        "start_time": "2022-03-16T18:32:14.589Z"
      },
      {
        "duration": 145,
        "start_time": "2022-03-16T18:32:14.605Z"
      },
      {
        "duration": 18,
        "start_time": "2022-03-16T18:32:14.752Z"
      },
      {
        "duration": 46,
        "start_time": "2022-03-16T18:32:14.771Z"
      },
      {
        "duration": 47,
        "start_time": "2022-03-16T18:32:14.819Z"
      },
      {
        "duration": 16,
        "start_time": "2022-03-16T18:41:43.450Z"
      },
      {
        "duration": 13,
        "start_time": "2022-03-16T18:42:19.029Z"
      },
      {
        "duration": 10,
        "start_time": "2022-03-16T18:43:58.619Z"
      },
      {
        "duration": 15,
        "start_time": "2022-03-16T18:46:17.232Z"
      },
      {
        "duration": 244,
        "start_time": "2022-03-16T18:46:48.082Z"
      },
      {
        "duration": 15,
        "start_time": "2022-03-16T18:46:55.420Z"
      },
      {
        "duration": 16,
        "start_time": "2022-03-16T18:48:30.144Z"
      },
      {
        "duration": 26,
        "start_time": "2022-03-16T18:48:40.101Z"
      },
      {
        "duration": 24,
        "start_time": "2022-03-16T18:49:32.612Z"
      },
      {
        "duration": 34,
        "start_time": "2022-03-16T18:49:35.275Z"
      },
      {
        "duration": 29,
        "start_time": "2022-03-16T18:49:46.793Z"
      },
      {
        "duration": 44,
        "start_time": "2022-03-16T18:52:30.193Z"
      },
      {
        "duration": 46,
        "start_time": "2022-03-16T19:09:21.250Z"
      },
      {
        "duration": 30,
        "start_time": "2022-03-16T19:10:08.080Z"
      },
      {
        "duration": 248,
        "start_time": "2022-03-16T19:43:05.344Z"
      },
      {
        "duration": 22,
        "start_time": "2022-03-16T19:43:27.814Z"
      },
      {
        "duration": 18,
        "start_time": "2022-03-16T19:43:49.892Z"
      },
      {
        "duration": 31,
        "start_time": "2022-03-16T19:43:57.224Z"
      },
      {
        "duration": 3,
        "start_time": "2022-03-16T19:47:34.916Z"
      },
      {
        "duration": 3,
        "start_time": "2022-03-16T19:47:36.494Z"
      },
      {
        "duration": 33,
        "start_time": "2022-03-16T19:48:43.787Z"
      },
      {
        "duration": 2,
        "start_time": "2022-03-16T19:55:18.545Z"
      },
      {
        "duration": 18,
        "start_time": "2022-03-16T19:57:36.251Z"
      },
      {
        "duration": 19,
        "start_time": "2022-03-16T20:09:00.914Z"
      },
      {
        "duration": 17,
        "start_time": "2022-03-16T20:18:48.997Z"
      },
      {
        "duration": 239,
        "start_time": "2022-03-16T20:19:17.239Z"
      },
      {
        "duration": 18,
        "start_time": "2022-03-16T20:19:21.668Z"
      },
      {
        "duration": 82,
        "start_time": "2022-03-16T20:22:55.758Z"
      },
      {
        "duration": 27,
        "start_time": "2022-03-16T20:22:55.843Z"
      },
      {
        "duration": 15,
        "start_time": "2022-03-16T20:22:55.873Z"
      },
      {
        "duration": 5,
        "start_time": "2022-03-16T20:22:55.890Z"
      },
      {
        "duration": 147,
        "start_time": "2022-03-16T20:22:55.897Z"
      },
      {
        "duration": 22,
        "start_time": "2022-03-16T20:22:56.046Z"
      },
      {
        "duration": 43,
        "start_time": "2022-03-16T20:22:56.070Z"
      },
      {
        "duration": 49,
        "start_time": "2022-03-16T20:22:56.116Z"
      },
      {
        "duration": 258,
        "start_time": "2022-03-16T20:22:56.167Z"
      },
      {
        "duration": 25973,
        "start_time": "2022-03-16T20:22:30.454Z"
      },
      {
        "duration": 25973,
        "start_time": "2022-03-16T20:22:30.455Z"
      },
      {
        "duration": 20,
        "start_time": "2022-03-16T20:23:21.225Z"
      },
      {
        "duration": 18,
        "start_time": "2022-03-16T20:23:54.640Z"
      },
      {
        "duration": 18,
        "start_time": "2022-03-16T20:24:00.228Z"
      },
      {
        "duration": 25981,
        "start_time": "2022-03-16T20:24:39.506Z"
      },
      {
        "duration": 228,
        "start_time": "2022-03-16T20:25:29.740Z"
      },
      {
        "duration": 22,
        "start_time": "2022-03-16T20:27:13.620Z"
      },
      {
        "duration": 22,
        "start_time": "2022-03-16T20:27:21.210Z"
      },
      {
        "duration": 251,
        "start_time": "2022-03-16T20:27:27.920Z"
      },
      {
        "duration": 24,
        "start_time": "2022-03-16T20:37:30.207Z"
      },
      {
        "duration": 20,
        "start_time": "2022-03-16T20:38:11.866Z"
      },
      {
        "duration": 18,
        "start_time": "2022-03-16T20:38:52.996Z"
      },
      {
        "duration": 14,
        "start_time": "2022-03-16T20:39:02.567Z"
      },
      {
        "duration": 21,
        "start_time": "2022-03-16T20:39:09.717Z"
      },
      {
        "duration": 15,
        "start_time": "2022-03-16T20:39:27.767Z"
      },
      {
        "duration": 59,
        "start_time": "2022-03-16T20:39:36.537Z"
      },
      {
        "duration": 52,
        "start_time": "2022-03-16T20:39:43.929Z"
      },
      {
        "duration": 38,
        "start_time": "2022-03-16T20:40:09.340Z"
      },
      {
        "duration": 18,
        "start_time": "2022-03-16T20:41:18.962Z"
      },
      {
        "duration": 17,
        "start_time": "2022-03-16T20:41:43.908Z"
      },
      {
        "duration": 18,
        "start_time": "2022-03-16T20:41:54.360Z"
      },
      {
        "duration": 310,
        "start_time": "2022-03-17T03:59:54.120Z"
      },
      {
        "duration": 608,
        "start_time": "2022-03-17T03:59:58.339Z"
      },
      {
        "duration": 13,
        "start_time": "2022-03-17T03:59:58.949Z"
      },
      {
        "duration": 14,
        "start_time": "2022-03-17T03:59:58.964Z"
      },
      {
        "duration": 3,
        "start_time": "2022-03-17T03:59:58.980Z"
      },
      {
        "duration": 105,
        "start_time": "2022-03-17T03:59:58.985Z"
      },
      {
        "duration": 8,
        "start_time": "2022-03-17T03:59:59.092Z"
      },
      {
        "duration": 32,
        "start_time": "2022-03-17T03:59:59.102Z"
      },
      {
        "duration": 334,
        "start_time": "2022-03-17T03:59:59.136Z"
      },
      {
        "duration": 26912,
        "start_time": "2022-03-17T03:59:32.560Z"
      },
      {
        "duration": 26912,
        "start_time": "2022-03-17T03:59:32.561Z"
      },
      {
        "duration": 26911,
        "start_time": "2022-03-17T03:59:32.563Z"
      },
      {
        "duration": 16,
        "start_time": "2022-03-17T04:00:15.053Z"
      },
      {
        "duration": 16,
        "start_time": "2022-03-17T04:01:57.595Z"
      },
      {
        "duration": 24,
        "start_time": "2022-03-17T05:18:16.131Z"
      },
      {
        "duration": 24,
        "start_time": "2022-03-17T05:19:55.981Z"
      },
      {
        "duration": 15,
        "start_time": "2022-03-17T05:27:45.234Z"
      },
      {
        "duration": 18,
        "start_time": "2022-03-17T05:28:08.146Z"
      },
      {
        "duration": 16,
        "start_time": "2022-03-17T05:28:10.490Z"
      },
      {
        "duration": 16,
        "start_time": "2022-03-17T05:28:11.987Z"
      },
      {
        "duration": 16,
        "start_time": "2022-03-17T05:28:14.733Z"
      },
      {
        "duration": 16,
        "start_time": "2022-03-17T05:28:16.667Z"
      },
      {
        "duration": 291,
        "start_time": "2022-03-17T05:59:23.475Z"
      },
      {
        "duration": 19,
        "start_time": "2022-03-17T05:59:32.148Z"
      },
      {
        "duration": 20,
        "start_time": "2022-03-17T06:00:50.566Z"
      },
      {
        "duration": 108,
        "start_time": "2022-03-17T06:01:22.984Z"
      },
      {
        "duration": 313,
        "start_time": "2022-03-17T06:01:27.631Z"
      },
      {
        "duration": 103,
        "start_time": "2022-03-17T06:01:40.825Z"
      },
      {
        "duration": 302,
        "start_time": "2022-03-17T06:01:57.624Z"
      },
      {
        "duration": 17,
        "start_time": "2022-03-17T06:52:41.885Z"
      },
      {
        "duration": 13,
        "start_time": "2022-03-17T10:29:23.030Z"
      },
      {
        "duration": 334,
        "start_time": "2022-03-17T10:30:04.558Z"
      },
      {
        "duration": 14,
        "start_time": "2022-03-17T10:30:10.741Z"
      },
      {
        "duration": 14,
        "start_time": "2022-03-17T10:30:12.237Z"
      },
      {
        "duration": 16,
        "start_time": "2022-03-17T10:30:18.574Z"
      },
      {
        "duration": 353,
        "start_time": "2022-03-17T10:34:54.563Z"
      },
      {
        "duration": 1194,
        "start_time": "2022-03-17T10:35:04.923Z"
      },
      {
        "duration": 45,
        "start_time": "2022-03-17T10:35:17.964Z"
      },
      {
        "duration": 76,
        "start_time": "2022-03-17T10:35:27.568Z"
      },
      {
        "duration": 18,
        "start_time": "2022-03-17T10:35:27.646Z"
      },
      {
        "duration": 72,
        "start_time": "2022-03-17T10:35:27.666Z"
      },
      {
        "duration": 5,
        "start_time": "2022-03-17T10:35:27.740Z"
      },
      {
        "duration": 112,
        "start_time": "2022-03-17T10:35:27.746Z"
      },
      {
        "duration": 11,
        "start_time": "2022-03-17T10:35:27.859Z"
      },
      {
        "duration": 45,
        "start_time": "2022-03-17T10:35:27.882Z"
      },
      {
        "duration": 22,
        "start_time": "2022-03-17T10:35:27.929Z"
      },
      {
        "duration": 43,
        "start_time": "2022-03-17T10:35:27.953Z"
      },
      {
        "duration": 20,
        "start_time": "2022-03-17T10:35:27.997Z"
      },
      {
        "duration": 22,
        "start_time": "2022-03-17T10:35:28.019Z"
      },
      {
        "duration": 61,
        "start_time": "2022-03-17T10:38:42.024Z"
      },
      {
        "duration": 45,
        "start_time": "2022-03-17T10:38:54.431Z"
      },
      {
        "duration": 10,
        "start_time": "2022-03-17T10:41:12.026Z"
      },
      {
        "duration": 58,
        "start_time": "2022-03-17T10:41:15.859Z"
      },
      {
        "duration": 9,
        "start_time": "2022-03-17T10:41:15.919Z"
      },
      {
        "duration": 10,
        "start_time": "2022-03-17T10:41:15.930Z"
      },
      {
        "duration": 347,
        "start_time": "2022-03-17T10:41:15.942Z"
      },
      {
        "duration": -768,
        "start_time": "2022-03-17T10:41:17.060Z"
      },
      {
        "duration": -770,
        "start_time": "2022-03-17T10:41:17.063Z"
      },
      {
        "duration": -772,
        "start_time": "2022-03-17T10:41:17.066Z"
      },
      {
        "duration": -775,
        "start_time": "2022-03-17T10:41:17.070Z"
      },
      {
        "duration": -778,
        "start_time": "2022-03-17T10:41:17.074Z"
      },
      {
        "duration": -785,
        "start_time": "2022-03-17T10:41:17.082Z"
      },
      {
        "duration": -788,
        "start_time": "2022-03-17T10:41:17.086Z"
      },
      {
        "duration": 14,
        "start_time": "2022-03-17T10:41:50.642Z"
      },
      {
        "duration": 12,
        "start_time": "2022-03-17T10:41:56.546Z"
      },
      {
        "duration": 17,
        "start_time": "2022-03-17T10:41:57.946Z"
      },
      {
        "duration": 20,
        "start_time": "2022-03-17T10:42:05.086Z"
      },
      {
        "duration": 13,
        "start_time": "2022-03-17T10:42:15.276Z"
      },
      {
        "duration": 43,
        "start_time": "2022-03-17T10:56:06.992Z"
      },
      {
        "duration": 96,
        "start_time": "2022-03-17T10:57:55.242Z"
      },
      {
        "duration": 44,
        "start_time": "2022-03-17T10:57:59.785Z"
      },
      {
        "duration": 43,
        "start_time": "2022-03-17T10:58:20.346Z"
      },
      {
        "duration": 77,
        "start_time": "2022-03-17T11:00:21.972Z"
      },
      {
        "duration": 79,
        "start_time": "2022-03-17T11:00:24.844Z"
      },
      {
        "duration": 94,
        "start_time": "2022-03-17T11:00:27.317Z"
      },
      {
        "duration": 63,
        "start_time": "2022-03-17T14:52:20.256Z"
      },
      {
        "duration": 71,
        "start_time": "2022-03-17T14:52:20.321Z"
      },
      {
        "duration": 8,
        "start_time": "2022-03-17T14:52:20.394Z"
      },
      {
        "duration": 281,
        "start_time": "2022-03-17T14:52:20.403Z"
      },
      {
        "duration": 27832,
        "start_time": "2022-03-17T14:51:52.853Z"
      },
      {
        "duration": 27832,
        "start_time": "2022-03-17T14:51:52.854Z"
      },
      {
        "duration": 27832,
        "start_time": "2022-03-17T14:51:52.855Z"
      },
      {
        "duration": 27831,
        "start_time": "2022-03-17T14:51:52.857Z"
      },
      {
        "duration": 27831,
        "start_time": "2022-03-17T14:51:52.858Z"
      },
      {
        "duration": 27831,
        "start_time": "2022-03-17T14:51:52.859Z"
      },
      {
        "duration": 27831,
        "start_time": "2022-03-17T14:51:52.860Z"
      },
      {
        "duration": 312,
        "start_time": "2022-03-17T14:53:33.136Z"
      },
      {
        "duration": 67,
        "start_time": "2022-03-17T14:53:36.249Z"
      },
      {
        "duration": 68,
        "start_time": "2022-03-17T14:53:44.489Z"
      },
      {
        "duration": 66,
        "start_time": "2022-03-17T14:54:18.179Z"
      },
      {
        "duration": 69,
        "start_time": "2022-03-17T14:55:02.648Z"
      },
      {
        "duration": 66,
        "start_time": "2022-03-17T14:57:29.193Z"
      },
      {
        "duration": 71,
        "start_time": "2022-03-17T14:58:38.848Z"
      },
      {
        "duration": 70,
        "start_time": "2022-03-17T14:59:08.728Z"
      },
      {
        "duration": 67,
        "start_time": "2022-03-17T14:59:27.402Z"
      },
      {
        "duration": 1193,
        "start_time": "2022-03-17T14:59:31.318Z"
      },
      {
        "duration": 65,
        "start_time": "2022-03-17T14:59:52.390Z"
      },
      {
        "duration": 67,
        "start_time": "2022-03-17T14:59:55.779Z"
      },
      {
        "duration": 68,
        "start_time": "2022-03-17T15:00:02.738Z"
      },
      {
        "duration": 67,
        "start_time": "2022-03-17T15:00:10.558Z"
      },
      {
        "duration": 347,
        "start_time": "2022-03-17T15:00:22.039Z"
      },
      {
        "duration": 64,
        "start_time": "2022-03-17T15:00:41.199Z"
      },
      {
        "duration": 64,
        "start_time": "2022-03-17T15:00:58.896Z"
      },
      {
        "duration": 69,
        "start_time": "2022-03-17T15:00:58.962Z"
      },
      {
        "duration": 312,
        "start_time": "2022-03-17T15:00:59.033Z"
      },
      {
        "duration": 27842,
        "start_time": "2022-03-17T15:00:31.505Z"
      },
      {
        "duration": 27842,
        "start_time": "2022-03-17T15:00:31.507Z"
      },
      {
        "duration": 27842,
        "start_time": "2022-03-17T15:00:31.508Z"
      },
      {
        "duration": 27842,
        "start_time": "2022-03-17T15:00:31.509Z"
      },
      {
        "duration": 27842,
        "start_time": "2022-03-17T15:00:31.510Z"
      },
      {
        "duration": 27842,
        "start_time": "2022-03-17T15:00:31.511Z"
      },
      {
        "duration": 27842,
        "start_time": "2022-03-17T15:00:31.512Z"
      },
      {
        "duration": 27841,
        "start_time": "2022-03-17T15:00:31.514Z"
      },
      {
        "duration": 11,
        "start_time": "2022-03-17T15:02:19.420Z"
      },
      {
        "duration": 66,
        "start_time": "2022-03-17T15:02:53.541Z"
      },
      {
        "duration": 80,
        "start_time": "2022-03-17T15:04:01.641Z"
      },
      {
        "duration": 89,
        "start_time": "2022-03-17T15:04:28.442Z"
      },
      {
        "duration": 317,
        "start_time": "2022-03-17T15:08:09.823Z"
      },
      {
        "duration": 309,
        "start_time": "2022-03-17T15:09:56.133Z"
      },
      {
        "duration": 330,
        "start_time": "2022-03-17T15:10:17.385Z"
      },
      {
        "duration": 314,
        "start_time": "2022-03-17T15:10:26.822Z"
      },
      {
        "duration": 304,
        "start_time": "2022-03-17T15:11:22.205Z"
      },
      {
        "duration": 70,
        "start_time": "2022-03-17T15:11:28.714Z"
      },
      {
        "duration": 65,
        "start_time": "2022-03-17T15:11:54.055Z"
      },
      {
        "duration": 300,
        "start_time": "2022-03-17T15:11:57.935Z"
      },
      {
        "duration": 301,
        "start_time": "2022-03-17T15:12:40.065Z"
      },
      {
        "duration": 298,
        "start_time": "2022-03-17T15:13:15.694Z"
      },
      {
        "duration": 104,
        "start_time": "2022-03-17T15:13:38.476Z"
      },
      {
        "duration": 97,
        "start_time": "2022-03-17T15:13:56.749Z"
      },
      {
        "duration": 320,
        "start_time": "2022-03-17T15:14:06.675Z"
      },
      {
        "duration": 306,
        "start_time": "2022-03-17T15:14:25.838Z"
      },
      {
        "duration": 366,
        "start_time": "2022-03-17T15:15:32.898Z"
      },
      {
        "duration": 61,
        "start_time": "2022-03-17T15:15:45.654Z"
      },
      {
        "duration": 74,
        "start_time": "2022-03-17T15:15:45.981Z"
      },
      {
        "duration": 28,
        "start_time": "2022-03-17T15:15:46.056Z"
      },
      {
        "duration": 297,
        "start_time": "2022-03-17T15:15:46.086Z"
      },
      {
        "duration": 27841,
        "start_time": "2022-03-17T15:15:18.544Z"
      },
      {
        "duration": 27840,
        "start_time": "2022-03-17T15:15:18.546Z"
      },
      {
        "duration": 27840,
        "start_time": "2022-03-17T15:15:18.547Z"
      },
      {
        "duration": 27840,
        "start_time": "2022-03-17T15:15:18.548Z"
      },
      {
        "duration": 27839,
        "start_time": "2022-03-17T15:15:18.550Z"
      },
      {
        "duration": 27839,
        "start_time": "2022-03-17T15:15:18.551Z"
      },
      {
        "duration": 27839,
        "start_time": "2022-03-17T15:15:18.552Z"
      },
      {
        "duration": 65,
        "start_time": "2022-03-17T15:16:16.497Z"
      },
      {
        "duration": 317,
        "start_time": "2022-03-17T15:16:21.079Z"
      },
      {
        "duration": 102,
        "start_time": "2022-03-17T15:16:37.430Z"
      },
      {
        "duration": 313,
        "start_time": "2022-03-17T15:16:53.115Z"
      },
      {
        "duration": 81,
        "start_time": "2022-03-17T15:17:11.256Z"
      },
      {
        "duration": 280,
        "start_time": "2022-03-17T15:18:59.076Z"
      },
      {
        "duration": 56,
        "start_time": "2022-03-17T15:19:02.302Z"
      },
      {
        "duration": 74,
        "start_time": "2022-03-17T15:19:02.360Z"
      },
      {
        "duration": 17,
        "start_time": "2022-03-17T15:19:02.435Z"
      },
      {
        "duration": 8,
        "start_time": "2022-03-17T15:19:02.454Z"
      },
      {
        "duration": 125,
        "start_time": "2022-03-17T15:19:02.463Z"
      },
      {
        "duration": 9,
        "start_time": "2022-03-17T15:19:02.590Z"
      },
      {
        "duration": 43,
        "start_time": "2022-03-17T15:19:02.600Z"
      },
      {
        "duration": 17,
        "start_time": "2022-03-17T15:19:02.645Z"
      },
      {
        "duration": 24,
        "start_time": "2022-03-17T15:19:02.665Z"
      },
      {
        "duration": 15,
        "start_time": "2022-03-17T15:19:02.691Z"
      },
      {
        "duration": 15,
        "start_time": "2022-03-17T15:19:02.707Z"
      },
      {
        "duration": 67,
        "start_time": "2022-03-17T15:19:42.568Z"
      },
      {
        "duration": 64,
        "start_time": "2022-03-17T15:19:49.697Z"
      },
      {
        "duration": 66,
        "start_time": "2022-03-17T15:19:52.437Z"
      },
      {
        "duration": 66,
        "start_time": "2022-03-17T15:19:58.698Z"
      },
      {
        "duration": 55,
        "start_time": "2022-03-17T15:26:52.064Z"
      },
      {
        "duration": 99,
        "start_time": "2022-03-17T15:26:52.121Z"
      },
      {
        "duration": 15,
        "start_time": "2022-03-17T15:26:52.222Z"
      },
      {
        "duration": 12,
        "start_time": "2022-03-17T15:26:52.239Z"
      },
      {
        "duration": 103,
        "start_time": "2022-03-17T15:26:52.252Z"
      },
      {
        "duration": 8,
        "start_time": "2022-03-17T15:26:52.357Z"
      },
      {
        "duration": 41,
        "start_time": "2022-03-17T15:26:52.367Z"
      },
      {
        "duration": 16,
        "start_time": "2022-03-17T15:26:52.410Z"
      },
      {
        "duration": 16,
        "start_time": "2022-03-17T15:26:52.427Z"
      },
      {
        "duration": 38,
        "start_time": "2022-03-17T15:26:52.444Z"
      },
      {
        "duration": 16,
        "start_time": "2022-03-17T15:26:52.483Z"
      },
      {
        "duration": 434,
        "start_time": "2022-03-18T06:08:02.080Z"
      },
      {
        "duration": 105,
        "start_time": "2022-03-18T06:08:02.516Z"
      },
      {
        "duration": 0,
        "start_time": "2022-03-18T06:08:02.623Z"
      },
      {
        "duration": 0,
        "start_time": "2022-03-18T06:08:02.633Z"
      },
      {
        "duration": 0,
        "start_time": "2022-03-18T06:08:02.634Z"
      },
      {
        "duration": 0,
        "start_time": "2022-03-18T06:08:02.635Z"
      },
      {
        "duration": 0,
        "start_time": "2022-03-18T06:08:02.636Z"
      },
      {
        "duration": 0,
        "start_time": "2022-03-18T06:08:02.637Z"
      },
      {
        "duration": 0,
        "start_time": "2022-03-18T06:08:02.638Z"
      },
      {
        "duration": 0,
        "start_time": "2022-03-18T06:08:02.640Z"
      },
      {
        "duration": 0,
        "start_time": "2022-03-18T06:08:02.641Z"
      },
      {
        "duration": 66,
        "start_time": "2022-03-18T06:08:33.085Z"
      },
      {
        "duration": 84,
        "start_time": "2022-03-18T06:08:33.153Z"
      },
      {
        "duration": 24,
        "start_time": "2022-03-18T06:08:33.239Z"
      },
      {
        "duration": 4,
        "start_time": "2022-03-18T06:08:33.265Z"
      },
      {
        "duration": 111,
        "start_time": "2022-03-18T06:08:33.270Z"
      },
      {
        "duration": 10,
        "start_time": "2022-03-18T06:08:33.383Z"
      },
      {
        "duration": 42,
        "start_time": "2022-03-18T06:08:33.394Z"
      },
      {
        "duration": 18,
        "start_time": "2022-03-18T06:08:33.438Z"
      },
      {
        "duration": 16,
        "start_time": "2022-03-18T06:08:33.458Z"
      },
      {
        "duration": 16,
        "start_time": "2022-03-18T06:08:33.476Z"
      },
      {
        "duration": 46,
        "start_time": "2022-03-18T06:08:33.493Z"
      },
      {
        "duration": 17,
        "start_time": "2022-03-18T06:09:05.286Z"
      },
      {
        "duration": 18,
        "start_time": "2022-03-18T06:09:10.867Z"
      },
      {
        "duration": 18,
        "start_time": "2022-03-18T06:09:14.843Z"
      },
      {
        "duration": 79,
        "start_time": "2022-03-18T07:19:40.662Z"
      },
      {
        "duration": 119,
        "start_time": "2022-03-18T07:19:49.014Z"
      },
      {
        "duration": 12,
        "start_time": "2022-03-18T07:20:04.479Z"
      },
      {
        "duration": 69,
        "start_time": "2022-03-18T07:20:07.428Z"
      },
      {
        "duration": 12,
        "start_time": "2022-03-18T07:20:07.499Z"
      },
      {
        "duration": 41,
        "start_time": "2022-03-18T07:20:07.512Z"
      },
      {
        "duration": 14,
        "start_time": "2022-03-18T07:20:07.555Z"
      },
      {
        "duration": 0,
        "start_time": "2022-03-18T07:20:07.570Z"
      },
      {
        "duration": 0,
        "start_time": "2022-03-18T07:20:07.572Z"
      },
      {
        "duration": 0,
        "start_time": "2022-03-18T07:20:07.573Z"
      },
      {
        "duration": 0,
        "start_time": "2022-03-18T07:20:07.574Z"
      },
      {
        "duration": 0,
        "start_time": "2022-03-18T07:20:07.575Z"
      },
      {
        "duration": 0,
        "start_time": "2022-03-18T07:20:07.576Z"
      },
      {
        "duration": 0,
        "start_time": "2022-03-18T07:20:07.577Z"
      },
      {
        "duration": 15,
        "start_time": "2022-03-18T07:20:40.760Z"
      },
      {
        "duration": 13,
        "start_time": "2022-03-18T07:20:45.542Z"
      },
      {
        "duration": 17,
        "start_time": "2022-03-18T07:20:53.766Z"
      },
      {
        "duration": 70,
        "start_time": "2022-03-18T07:28:14.904Z"
      },
      {
        "duration": 71,
        "start_time": "2022-03-18T07:28:17.224Z"
      },
      {
        "duration": 73,
        "start_time": "2022-03-18T07:28:24.288Z"
      },
      {
        "duration": 1306,
        "start_time": "2022-03-19T01:27:01.078Z"
      },
      {
        "duration": 0,
        "start_time": "2022-03-19T01:27:02.388Z"
      },
      {
        "duration": 0,
        "start_time": "2022-03-19T01:27:02.389Z"
      },
      {
        "duration": 0,
        "start_time": "2022-03-19T01:27:02.391Z"
      },
      {
        "duration": 0,
        "start_time": "2022-03-19T01:27:02.392Z"
      },
      {
        "duration": 0,
        "start_time": "2022-03-19T01:27:02.394Z"
      },
      {
        "duration": 0,
        "start_time": "2022-03-19T01:27:02.395Z"
      },
      {
        "duration": 0,
        "start_time": "2022-03-19T01:27:02.397Z"
      },
      {
        "duration": 0,
        "start_time": "2022-03-19T01:27:02.398Z"
      },
      {
        "duration": 0,
        "start_time": "2022-03-19T01:27:02.399Z"
      },
      {
        "duration": 0,
        "start_time": "2022-03-19T01:27:02.401Z"
      },
      {
        "duration": 0,
        "start_time": "2022-03-19T01:27:02.402Z"
      },
      {
        "duration": 83,
        "start_time": "2022-03-19T01:29:57.011Z"
      },
      {
        "duration": 77,
        "start_time": "2022-03-19T01:30:05.591Z"
      },
      {
        "duration": 25,
        "start_time": "2022-03-19T01:30:05.672Z"
      },
      {
        "duration": 0,
        "start_time": "2022-03-19T01:30:05.699Z"
      },
      {
        "duration": 0,
        "start_time": "2022-03-19T01:30:05.701Z"
      },
      {
        "duration": 0,
        "start_time": "2022-03-19T01:30:05.703Z"
      },
      {
        "duration": 0,
        "start_time": "2022-03-19T01:30:05.704Z"
      },
      {
        "duration": 0,
        "start_time": "2022-03-19T01:30:05.706Z"
      },
      {
        "duration": 0,
        "start_time": "2022-03-19T01:30:05.707Z"
      },
      {
        "duration": 0,
        "start_time": "2022-03-19T01:30:05.710Z"
      },
      {
        "duration": 0,
        "start_time": "2022-03-19T01:30:05.711Z"
      },
      {
        "duration": 0,
        "start_time": "2022-03-19T01:30:05.742Z"
      },
      {
        "duration": 0,
        "start_time": "2022-03-19T01:30:05.743Z"
      },
      {
        "duration": 19,
        "start_time": "2022-03-19T01:30:47.690Z"
      },
      {
        "duration": 0,
        "start_time": "2022-03-19T01:30:47.712Z"
      },
      {
        "duration": 0,
        "start_time": "2022-03-19T01:30:47.714Z"
      },
      {
        "duration": 0,
        "start_time": "2022-03-19T01:30:47.716Z"
      },
      {
        "duration": 0,
        "start_time": "2022-03-19T01:30:47.717Z"
      },
      {
        "duration": 0,
        "start_time": "2022-03-19T01:30:47.719Z"
      },
      {
        "duration": 0,
        "start_time": "2022-03-19T01:30:47.720Z"
      },
      {
        "duration": 0,
        "start_time": "2022-03-19T01:30:47.721Z"
      },
      {
        "duration": 0,
        "start_time": "2022-03-19T01:30:47.723Z"
      },
      {
        "duration": 0,
        "start_time": "2022-03-19T01:30:47.724Z"
      },
      {
        "duration": 0,
        "start_time": "2022-03-19T01:30:47.726Z"
      },
      {
        "duration": 0,
        "start_time": "2022-03-19T01:30:47.727Z"
      },
      {
        "duration": 20,
        "start_time": "2022-03-19T01:30:47.731Z"
      },
      {
        "duration": 4,
        "start_time": "2022-03-19T01:31:38.786Z"
      },
      {
        "duration": 4,
        "start_time": "2022-03-19T01:31:46.014Z"
      },
      {
        "duration": 107,
        "start_time": "2022-03-19T01:31:46.022Z"
      },
      {
        "duration": 169,
        "start_time": "2022-03-19T01:31:46.132Z"
      },
      {
        "duration": 44,
        "start_time": "2022-03-19T01:31:46.304Z"
      },
      {
        "duration": 7,
        "start_time": "2022-03-19T01:31:46.352Z"
      },
      {
        "duration": 45,
        "start_time": "2022-03-19T01:31:46.361Z"
      },
      {
        "duration": 34,
        "start_time": "2022-03-19T01:31:46.409Z"
      },
      {
        "duration": 19,
        "start_time": "2022-03-19T01:31:46.445Z"
      },
      {
        "duration": 126,
        "start_time": "2022-03-19T01:31:46.466Z"
      },
      {
        "duration": 298,
        "start_time": "2022-03-19T01:31:46.594Z"
      },
      {
        "duration": 310,
        "start_time": "2022-03-19T01:31:46.894Z"
      },
      {
        "duration": 264,
        "start_time": "2022-03-19T01:31:47.206Z"
      },
      {
        "duration": 359,
        "start_time": "2022-03-19T01:31:47.472Z"
      },
      {
        "duration": 266,
        "start_time": "2022-03-19T01:36:15.404Z"
      },
      {
        "duration": 197,
        "start_time": "2022-03-19T01:38:33.646Z"
      },
      {
        "duration": 103,
        "start_time": "2022-03-19T01:39:55.027Z"
      },
      {
        "duration": 110,
        "start_time": "2022-03-19T01:39:55.133Z"
      },
      {
        "duration": 20,
        "start_time": "2022-03-19T01:39:55.245Z"
      },
      {
        "duration": 6,
        "start_time": "2022-03-19T01:39:55.268Z"
      },
      {
        "duration": 42,
        "start_time": "2022-03-19T01:39:55.276Z"
      },
      {
        "duration": 14,
        "start_time": "2022-03-19T01:39:55.343Z"
      },
      {
        "duration": 17,
        "start_time": "2022-03-19T01:39:55.359Z"
      },
      {
        "duration": 128,
        "start_time": "2022-03-19T01:39:55.378Z"
      },
      {
        "duration": 285,
        "start_time": "2022-03-19T01:39:55.508Z"
      },
      {
        "duration": 302,
        "start_time": "2022-03-19T01:39:55.796Z"
      },
      {
        "duration": 256,
        "start_time": "2022-03-19T01:39:56.100Z"
      },
      {
        "duration": 310,
        "start_time": "2022-03-19T01:39:56.358Z"
      },
      {
        "duration": 116,
        "start_time": "2022-03-21T01:39:22.823Z"
      },
      {
        "duration": 813,
        "start_time": "2022-03-21T02:14:28.501Z"
      },
      {
        "duration": 54,
        "start_time": "2022-03-21T02:14:29.317Z"
      },
      {
        "duration": 30,
        "start_time": "2022-03-21T02:14:29.373Z"
      },
      {
        "duration": 4,
        "start_time": "2022-03-21T02:14:29.405Z"
      },
      {
        "duration": 95,
        "start_time": "2022-03-21T02:14:29.410Z"
      },
      {
        "duration": 95,
        "start_time": "2022-03-21T02:14:29.507Z"
      },
      {
        "duration": 0,
        "start_time": "2022-03-21T02:14:29.604Z"
      },
      {
        "duration": 0,
        "start_time": "2022-03-21T02:14:29.605Z"
      },
      {
        "duration": 0,
        "start_time": "2022-03-21T02:14:29.606Z"
      },
      {
        "duration": 0,
        "start_time": "2022-03-21T02:14:29.607Z"
      },
      {
        "duration": 0,
        "start_time": "2022-03-21T02:14:29.608Z"
      },
      {
        "duration": 0,
        "start_time": "2022-03-21T02:14:29.609Z"
      },
      {
        "duration": 32,
        "start_time": "2022-03-21T02:15:26.020Z"
      },
      {
        "duration": 90,
        "start_time": "2022-03-21T02:21:14.133Z"
      },
      {
        "duration": 27,
        "start_time": "2022-03-21T02:24:50.974Z"
      },
      {
        "duration": 25,
        "start_time": "2022-03-21T02:25:23.039Z"
      },
      {
        "duration": 121,
        "start_time": "2022-03-21T02:27:32.616Z"
      },
      {
        "duration": 114,
        "start_time": "2022-03-21T02:35:36.322Z"
      },
      {
        "duration": 712,
        "start_time": "2022-03-21T02:41:04.302Z"
      },
      {
        "duration": 60,
        "start_time": "2022-03-21T02:41:05.017Z"
      },
      {
        "duration": 35,
        "start_time": "2022-03-21T02:41:05.079Z"
      },
      {
        "duration": 4,
        "start_time": "2022-03-21T02:41:05.116Z"
      },
      {
        "duration": 75,
        "start_time": "2022-03-21T02:41:05.139Z"
      },
      {
        "duration": 99,
        "start_time": "2022-03-21T02:41:05.215Z"
      },
      {
        "duration": 0,
        "start_time": "2022-03-21T02:41:05.316Z"
      },
      {
        "duration": 0,
        "start_time": "2022-03-21T02:41:05.317Z"
      },
      {
        "duration": 0,
        "start_time": "2022-03-21T02:41:05.318Z"
      },
      {
        "duration": 0,
        "start_time": "2022-03-21T02:41:05.338Z"
      },
      {
        "duration": 0,
        "start_time": "2022-03-21T02:41:05.339Z"
      },
      {
        "duration": 0,
        "start_time": "2022-03-21T02:41:05.340Z"
      },
      {
        "duration": 121,
        "start_time": "2022-03-21T02:56:40.127Z"
      },
      {
        "duration": 34,
        "start_time": "2022-03-21T02:58:05.072Z"
      },
      {
        "duration": 90,
        "start_time": "2022-03-21T02:58:08.493Z"
      },
      {
        "duration": 164,
        "start_time": "2022-03-21T02:58:12.554Z"
      },
      {
        "duration": 117,
        "start_time": "2022-03-21T03:01:04.910Z"
      },
      {
        "duration": 172,
        "start_time": "2022-03-21T03:01:58.130Z"
      },
      {
        "duration": 49,
        "start_time": "2022-03-21T03:56:23.724Z"
      },
      {
        "duration": 868,
        "start_time": "2022-03-21T03:56:50.624Z"
      },
      {
        "duration": 18,
        "start_time": "2022-03-21T03:56:51.494Z"
      },
      {
        "duration": 9,
        "start_time": "2022-03-21T03:56:51.513Z"
      },
      {
        "duration": 12,
        "start_time": "2022-03-21T03:56:51.537Z"
      },
      {
        "duration": 15,
        "start_time": "2022-03-21T03:56:51.551Z"
      },
      {
        "duration": 13,
        "start_time": "2022-03-21T03:56:51.568Z"
      },
      {
        "duration": 58,
        "start_time": "2022-03-21T03:56:51.582Z"
      },
      {
        "duration": 5,
        "start_time": "2022-03-21T03:56:51.642Z"
      },
      {
        "duration": 93,
        "start_time": "2022-03-21T03:56:51.648Z"
      },
      {
        "duration": 57,
        "start_time": "2022-03-21T03:56:51.744Z"
      },
      {
        "duration": 0,
        "start_time": "2022-03-21T03:56:51.802Z"
      },
      {
        "duration": 0,
        "start_time": "2022-03-21T03:56:51.803Z"
      },
      {
        "duration": 0,
        "start_time": "2022-03-21T03:56:51.804Z"
      },
      {
        "duration": 0,
        "start_time": "2022-03-21T03:56:51.805Z"
      },
      {
        "duration": 0,
        "start_time": "2022-03-21T03:56:51.806Z"
      },
      {
        "duration": 0,
        "start_time": "2022-03-21T03:56:51.807Z"
      },
      {
        "duration": 25,
        "start_time": "2022-03-21T03:57:13.215Z"
      },
      {
        "duration": 2052,
        "start_time": "2022-03-21T03:57:19.634Z"
      },
      {
        "duration": 66,
        "start_time": "2022-03-21T03:57:34.295Z"
      },
      {
        "duration": 12,
        "start_time": "2022-03-21T03:57:36.294Z"
      },
      {
        "duration": 10,
        "start_time": "2022-03-21T03:57:44.438Z"
      },
      {
        "duration": 13,
        "start_time": "2022-03-21T03:57:50.588Z"
      },
      {
        "duration": 17,
        "start_time": "2022-03-21T03:58:07.087Z"
      },
      {
        "duration": 19,
        "start_time": "2022-03-21T03:58:08.754Z"
      },
      {
        "duration": 23,
        "start_time": "2022-03-21T03:58:23.244Z"
      },
      {
        "duration": 15,
        "start_time": "2022-03-21T03:58:42.434Z"
      },
      {
        "duration": 14,
        "start_time": "2022-03-21T03:58:47.964Z"
      },
      {
        "duration": 32,
        "start_time": "2022-03-21T03:59:07.514Z"
      },
      {
        "duration": 18,
        "start_time": "2022-03-21T04:00:33.952Z"
      },
      {
        "duration": 18,
        "start_time": "2022-03-21T04:00:41.717Z"
      },
      {
        "duration": 5,
        "start_time": "2022-03-21T04:00:49.057Z"
      },
      {
        "duration": 16,
        "start_time": "2022-03-21T04:00:54.315Z"
      },
      {
        "duration": 80,
        "start_time": "2022-03-21T04:00:57.377Z"
      },
      {
        "duration": 12,
        "start_time": "2022-03-21T04:00:57.459Z"
      },
      {
        "duration": 12,
        "start_time": "2022-03-21T04:00:57.473Z"
      },
      {
        "duration": 28,
        "start_time": "2022-03-21T04:00:57.486Z"
      },
      {
        "duration": 33,
        "start_time": "2022-03-21T04:00:57.515Z"
      },
      {
        "duration": 14,
        "start_time": "2022-03-21T04:00:57.549Z"
      },
      {
        "duration": 4,
        "start_time": "2022-03-21T04:00:57.565Z"
      },
      {
        "duration": 15,
        "start_time": "2022-03-21T04:00:57.572Z"
      },
      {
        "duration": 16,
        "start_time": "2022-03-21T04:00:57.589Z"
      },
      {
        "duration": 5,
        "start_time": "2022-03-21T04:00:57.638Z"
      },
      {
        "duration": 94,
        "start_time": "2022-03-21T04:00:57.644Z"
      },
      {
        "duration": 23,
        "start_time": "2022-03-21T04:00:57.740Z"
      },
      {
        "duration": 29,
        "start_time": "2022-03-21T04:00:57.765Z"
      },
      {
        "duration": 125,
        "start_time": "2022-03-21T04:00:57.796Z"
      },
      {
        "duration": 191,
        "start_time": "2022-03-21T04:00:57.923Z"
      },
      {
        "duration": 181,
        "start_time": "2022-03-21T04:00:58.116Z"
      },
      {
        "duration": 160,
        "start_time": "2022-03-21T04:00:58.299Z"
      },
      {
        "duration": 192,
        "start_time": "2022-03-21T04:00:58.461Z"
      },
      {
        "duration": 1945,
        "start_time": "2022-03-21T04:03:24.721Z"
      },
      {
        "duration": 113,
        "start_time": "2022-03-21T04:03:41.346Z"
      },
      {
        "duration": 2432,
        "start_time": "2022-03-21T04:03:59.808Z"
      },
      {
        "duration": 72,
        "start_time": "2022-03-21T04:04:04.246Z"
      },
      {
        "duration": 20,
        "start_time": "2022-03-21T04:04:04.320Z"
      },
      {
        "duration": 9,
        "start_time": "2022-03-21T04:04:04.342Z"
      },
      {
        "duration": 23,
        "start_time": "2022-03-21T04:04:04.353Z"
      },
      {
        "duration": 13,
        "start_time": "2022-03-21T04:04:04.378Z"
      },
      {
        "duration": 108,
        "start_time": "2022-03-21T04:04:04.393Z"
      },
      {
        "duration": 4,
        "start_time": "2022-03-21T04:04:04.503Z"
      },
      {
        "duration": 29,
        "start_time": "2022-03-21T04:04:04.508Z"
      },
      {
        "duration": 17,
        "start_time": "2022-03-21T04:04:04.539Z"
      },
      {
        "duration": 6,
        "start_time": "2022-03-21T04:04:04.558Z"
      },
      {
        "duration": 15,
        "start_time": "2022-03-21T04:04:04.566Z"
      },
      {
        "duration": 64,
        "start_time": "2022-03-21T04:04:04.582Z"
      },
      {
        "duration": 35,
        "start_time": "2022-03-21T04:04:04.647Z"
      },
      {
        "duration": 26,
        "start_time": "2022-03-21T04:04:04.684Z"
      },
      {
        "duration": 32,
        "start_time": "2022-03-21T04:04:04.739Z"
      },
      {
        "duration": 114,
        "start_time": "2022-03-21T04:04:04.773Z"
      },
      {
        "duration": 177,
        "start_time": "2022-03-21T04:04:04.890Z"
      },
      {
        "duration": 194,
        "start_time": "2022-03-21T04:04:05.069Z"
      },
      {
        "duration": 163,
        "start_time": "2022-03-21T04:04:05.265Z"
      },
      {
        "duration": 184,
        "start_time": "2022-03-21T04:04:05.431Z"
      },
      {
        "duration": 2100,
        "start_time": "2022-03-21T04:05:25.769Z"
      },
      {
        "duration": 77,
        "start_time": "2022-03-21T04:05:31.247Z"
      },
      {
        "duration": 13,
        "start_time": "2022-03-21T04:05:31.326Z"
      },
      {
        "duration": 39,
        "start_time": "2022-03-21T04:05:31.341Z"
      },
      {
        "duration": 56,
        "start_time": "2022-03-21T04:05:31.383Z"
      },
      {
        "duration": 29,
        "start_time": "2022-03-21T04:05:31.441Z"
      },
      {
        "duration": 24,
        "start_time": "2022-03-21T04:05:31.472Z"
      },
      {
        "duration": 37,
        "start_time": "2022-03-21T04:05:31.498Z"
      },
      {
        "duration": 45,
        "start_time": "2022-03-21T04:05:31.537Z"
      },
      {
        "duration": 33,
        "start_time": "2022-03-21T04:05:31.584Z"
      },
      {
        "duration": 29,
        "start_time": "2022-03-21T04:05:31.619Z"
      },
      {
        "duration": 40,
        "start_time": "2022-03-21T04:05:31.650Z"
      },
      {
        "duration": 71,
        "start_time": "2022-03-21T04:05:31.692Z"
      },
      {
        "duration": 43,
        "start_time": "2022-03-21T04:05:31.765Z"
      },
      {
        "duration": 17,
        "start_time": "2022-03-21T04:05:31.810Z"
      },
      {
        "duration": 31,
        "start_time": "2022-03-21T04:05:31.837Z"
      },
      {
        "duration": 54,
        "start_time": "2022-03-21T04:05:31.871Z"
      },
      {
        "duration": 99,
        "start_time": "2022-03-21T04:05:31.927Z"
      },
      {
        "duration": 178,
        "start_time": "2022-03-21T04:05:32.028Z"
      },
      {
        "duration": 186,
        "start_time": "2022-03-21T04:05:32.208Z"
      },
      {
        "duration": 160,
        "start_time": "2022-03-21T04:05:32.396Z"
      },
      {
        "duration": 173,
        "start_time": "2022-03-21T04:05:32.558Z"
      },
      {
        "duration": 17,
        "start_time": "2022-03-21T04:07:17.438Z"
      },
      {
        "duration": 16,
        "start_time": "2022-03-21T04:08:48.418Z"
      },
      {
        "duration": 20,
        "start_time": "2022-03-21T04:10:18.409Z"
      },
      {
        "duration": 36,
        "start_time": "2022-03-21T04:10:27.459Z"
      },
      {
        "duration": 75,
        "start_time": "2022-03-21T04:10:37.567Z"
      },
      {
        "duration": 14,
        "start_time": "2022-03-21T04:10:37.645Z"
      },
      {
        "duration": 11,
        "start_time": "2022-03-21T04:10:37.660Z"
      },
      {
        "duration": 23,
        "start_time": "2022-03-21T04:10:37.674Z"
      },
      {
        "duration": 56,
        "start_time": "2022-03-21T04:10:37.699Z"
      },
      {
        "duration": 22,
        "start_time": "2022-03-21T04:10:37.757Z"
      },
      {
        "duration": 5,
        "start_time": "2022-03-21T04:10:37.780Z"
      },
      {
        "duration": 19,
        "start_time": "2022-03-21T04:10:37.787Z"
      },
      {
        "duration": 48,
        "start_time": "2022-03-21T04:10:37.807Z"
      },
      {
        "duration": 5,
        "start_time": "2022-03-21T04:10:37.858Z"
      },
      {
        "duration": 17,
        "start_time": "2022-03-21T04:10:37.864Z"
      },
      {
        "duration": 73,
        "start_time": "2022-03-21T04:10:37.883Z"
      },
      {
        "duration": 32,
        "start_time": "2022-03-21T04:10:37.958Z"
      },
      {
        "duration": 14,
        "start_time": "2022-03-21T04:10:37.992Z"
      },
      {
        "duration": 38,
        "start_time": "2022-03-21T04:10:38.008Z"
      },
      {
        "duration": 50,
        "start_time": "2022-03-21T04:10:38.048Z"
      },
      {
        "duration": 91,
        "start_time": "2022-03-21T04:10:38.100Z"
      },
      {
        "duration": 174,
        "start_time": "2022-03-21T04:10:38.192Z"
      },
      {
        "duration": 187,
        "start_time": "2022-03-21T04:10:38.367Z"
      },
      {
        "duration": 160,
        "start_time": "2022-03-21T04:10:38.556Z"
      },
      {
        "duration": 250,
        "start_time": "2022-03-21T04:10:38.718Z"
      },
      {
        "duration": 33,
        "start_time": "2022-03-21T04:11:13.960Z"
      },
      {
        "duration": 25,
        "start_time": "2022-03-21T05:29:52.902Z"
      },
      {
        "duration": 24,
        "start_time": "2022-03-21T05:29:54.821Z"
      },
      {
        "duration": 27,
        "start_time": "2022-03-21T05:30:02.756Z"
      },
      {
        "duration": 24,
        "start_time": "2022-03-21T05:30:13.109Z"
      },
      {
        "duration": 16,
        "start_time": "2022-03-21T05:30:17.853Z"
      },
      {
        "duration": 15,
        "start_time": "2022-03-21T05:30:20.822Z"
      },
      {
        "duration": 13,
        "start_time": "2022-03-21T05:34:15.738Z"
      },
      {
        "duration": 103,
        "start_time": "2022-03-21T05:34:22.595Z"
      },
      {
        "duration": 6,
        "start_time": "2022-03-21T05:35:01.420Z"
      },
      {
        "duration": 74,
        "start_time": "2022-03-21T05:35:16.116Z"
      },
      {
        "duration": 15,
        "start_time": "2022-03-21T05:35:16.193Z"
      },
      {
        "duration": 35,
        "start_time": "2022-03-21T05:35:16.209Z"
      },
      {
        "duration": 38,
        "start_time": "2022-03-21T05:35:16.246Z"
      },
      {
        "duration": 37,
        "start_time": "2022-03-21T05:35:16.285Z"
      },
      {
        "duration": 18,
        "start_time": "2022-03-21T05:35:16.323Z"
      },
      {
        "duration": 12,
        "start_time": "2022-03-21T05:35:16.343Z"
      },
      {
        "duration": 22,
        "start_time": "2022-03-21T05:35:16.357Z"
      },
      {
        "duration": 31,
        "start_time": "2022-03-21T05:35:16.381Z"
      },
      {
        "duration": 8,
        "start_time": "2022-03-21T05:35:16.414Z"
      },
      {
        "duration": 50,
        "start_time": "2022-03-21T05:35:16.423Z"
      },
      {
        "duration": 90,
        "start_time": "2022-03-21T05:35:16.474Z"
      },
      {
        "duration": 31,
        "start_time": "2022-03-21T05:35:16.566Z"
      },
      {
        "duration": 15,
        "start_time": "2022-03-21T05:35:16.599Z"
      },
      {
        "duration": 31,
        "start_time": "2022-03-21T05:35:16.615Z"
      },
      {
        "duration": 36,
        "start_time": "2022-03-21T05:35:16.647Z"
      },
      {
        "duration": 108,
        "start_time": "2022-03-21T05:35:16.685Z"
      },
      {
        "duration": 172,
        "start_time": "2022-03-21T05:35:16.794Z"
      },
      {
        "duration": 184,
        "start_time": "2022-03-21T05:35:16.968Z"
      },
      {
        "duration": 158,
        "start_time": "2022-03-21T05:35:17.153Z"
      },
      {
        "duration": 180,
        "start_time": "2022-03-21T05:35:17.313Z"
      },
      {
        "duration": 13,
        "start_time": "2022-03-21T05:37:34.728Z"
      },
      {
        "duration": 12,
        "start_time": "2022-03-21T05:37:46.033Z"
      },
      {
        "duration": 69,
        "start_time": "2022-03-21T05:38:06.707Z"
      },
      {
        "duration": 12,
        "start_time": "2022-03-21T05:38:06.778Z"
      },
      {
        "duration": 9,
        "start_time": "2022-03-21T05:38:06.792Z"
      },
      {
        "duration": 48,
        "start_time": "2022-03-21T05:38:06.804Z"
      },
      {
        "duration": 17,
        "start_time": "2022-03-21T05:38:06.854Z"
      },
      {
        "duration": 15,
        "start_time": "2022-03-21T05:38:06.873Z"
      },
      {
        "duration": 545,
        "start_time": "2022-03-21T05:38:06.890Z"
      },
      {
        "duration": 15,
        "start_time": "2022-03-21T05:38:07.438Z"
      },
      {
        "duration": 19,
        "start_time": "2022-03-21T05:38:07.454Z"
      },
      {
        "duration": 5,
        "start_time": "2022-03-21T05:38:07.476Z"
      },
      {
        "duration": 17,
        "start_time": "2022-03-21T05:38:07.482Z"
      },
      {
        "duration": 76,
        "start_time": "2022-03-21T05:38:07.501Z"
      },
      {
        "duration": 33,
        "start_time": "2022-03-21T05:38:07.579Z"
      },
      {
        "duration": 36,
        "start_time": "2022-03-21T05:38:07.614Z"
      },
      {
        "duration": 12,
        "start_time": "2022-03-21T05:38:07.651Z"
      },
      {
        "duration": 38,
        "start_time": "2022-03-21T05:38:07.665Z"
      },
      {
        "duration": 125,
        "start_time": "2022-03-21T05:38:07.704Z"
      },
      {
        "duration": 173,
        "start_time": "2022-03-21T05:38:07.838Z"
      },
      {
        "duration": 191,
        "start_time": "2022-03-21T05:38:08.013Z"
      },
      {
        "duration": 158,
        "start_time": "2022-03-21T05:38:08.206Z"
      },
      {
        "duration": 181,
        "start_time": "2022-03-21T05:38:08.366Z"
      },
      {
        "duration": 10,
        "start_time": "2022-03-21T05:38:25.064Z"
      },
      {
        "duration": 7,
        "start_time": "2022-03-21T05:38:33.144Z"
      },
      {
        "duration": 8,
        "start_time": "2022-03-21T05:38:41.984Z"
      },
      {
        "duration": 7,
        "start_time": "2022-03-21T05:39:58.793Z"
      },
      {
        "duration": 11,
        "start_time": "2022-03-21T05:40:21.322Z"
      },
      {
        "duration": 16,
        "start_time": "2022-03-21T05:40:54.123Z"
      },
      {
        "duration": 16,
        "start_time": "2022-03-21T05:40:59.228Z"
      },
      {
        "duration": 6,
        "start_time": "2022-03-21T05:41:19.053Z"
      },
      {
        "duration": 17,
        "start_time": "2022-03-21T05:41:21.003Z"
      },
      {
        "duration": 71,
        "start_time": "2022-03-21T05:41:23.982Z"
      },
      {
        "duration": 12,
        "start_time": "2022-03-21T05:41:24.055Z"
      },
      {
        "duration": 9,
        "start_time": "2022-03-21T05:41:24.069Z"
      },
      {
        "duration": 33,
        "start_time": "2022-03-21T05:41:24.080Z"
      },
      {
        "duration": 36,
        "start_time": "2022-03-21T05:41:24.114Z"
      },
      {
        "duration": 15,
        "start_time": "2022-03-21T05:41:24.152Z"
      },
      {
        "duration": 5,
        "start_time": "2022-03-21T05:41:24.169Z"
      },
      {
        "duration": 16,
        "start_time": "2022-03-21T05:41:24.176Z"
      },
      {
        "duration": 45,
        "start_time": "2022-03-21T05:41:24.194Z"
      },
      {
        "duration": 5,
        "start_time": "2022-03-21T05:41:24.242Z"
      },
      {
        "duration": 16,
        "start_time": "2022-03-21T05:41:24.248Z"
      },
      {
        "duration": 75,
        "start_time": "2022-03-21T05:41:24.266Z"
      },
      {
        "duration": 33,
        "start_time": "2022-03-21T05:41:24.343Z"
      },
      {
        "duration": 15,
        "start_time": "2022-03-21T05:41:24.378Z"
      },
      {
        "duration": 12,
        "start_time": "2022-03-21T05:41:24.394Z"
      },
      {
        "duration": 60,
        "start_time": "2022-03-21T05:41:24.408Z"
      },
      {
        "duration": 100,
        "start_time": "2022-03-21T05:41:24.470Z"
      },
      {
        "duration": 168,
        "start_time": "2022-03-21T05:41:24.571Z"
      },
      {
        "duration": 180,
        "start_time": "2022-03-21T05:41:24.741Z"
      },
      {
        "duration": 237,
        "start_time": "2022-03-21T05:41:24.922Z"
      },
      {
        "duration": 180,
        "start_time": "2022-03-21T05:41:25.161Z"
      },
      {
        "duration": 7,
        "start_time": "2022-03-21T05:41:49.404Z"
      },
      {
        "duration": 70,
        "start_time": "2022-03-21T05:42:10.738Z"
      },
      {
        "duration": 12,
        "start_time": "2022-03-21T05:42:10.810Z"
      },
      {
        "duration": 24,
        "start_time": "2022-03-21T05:42:10.823Z"
      },
      {
        "duration": 24,
        "start_time": "2022-03-21T05:42:10.849Z"
      },
      {
        "duration": 15,
        "start_time": "2022-03-21T05:42:10.875Z"
      },
      {
        "duration": 14,
        "start_time": "2022-03-21T05:42:10.892Z"
      },
      {
        "duration": 6,
        "start_time": "2022-03-21T05:42:10.937Z"
      },
      {
        "duration": 15,
        "start_time": "2022-03-21T05:42:10.944Z"
      },
      {
        "duration": 18,
        "start_time": "2022-03-21T05:42:10.960Z"
      },
      {
        "duration": 5,
        "start_time": "2022-03-21T05:42:10.981Z"
      },
      {
        "duration": 14,
        "start_time": "2022-03-21T05:42:10.988Z"
      },
      {
        "duration": 78,
        "start_time": "2022-03-21T05:42:11.004Z"
      },
      {
        "duration": 54,
        "start_time": "2022-03-21T05:42:11.084Z"
      },
      {
        "duration": 15,
        "start_time": "2022-03-21T05:42:11.140Z"
      },
      {
        "duration": 12,
        "start_time": "2022-03-21T05:42:11.156Z"
      },
      {
        "duration": 34,
        "start_time": "2022-03-21T05:42:11.169Z"
      },
      {
        "duration": 116,
        "start_time": "2022-03-21T05:42:11.205Z"
      },
      {
        "duration": 166,
        "start_time": "2022-03-21T05:42:11.323Z"
      },
      {
        "duration": 178,
        "start_time": "2022-03-21T05:42:11.491Z"
      },
      {
        "duration": 153,
        "start_time": "2022-03-21T05:42:11.671Z"
      },
      {
        "duration": 172,
        "start_time": "2022-03-21T05:42:11.826Z"
      },
      {
        "duration": 66,
        "start_time": "2022-03-21T05:42:23.505Z"
      },
      {
        "duration": 12,
        "start_time": "2022-03-21T05:42:23.574Z"
      },
      {
        "duration": 9,
        "start_time": "2022-03-21T05:42:23.587Z"
      },
      {
        "duration": 52,
        "start_time": "2022-03-21T05:42:23.598Z"
      },
      {
        "duration": 15,
        "start_time": "2022-03-21T05:42:23.652Z"
      },
      {
        "duration": 13,
        "start_time": "2022-03-21T05:42:23.669Z"
      },
      {
        "duration": 5,
        "start_time": "2022-03-21T05:42:23.684Z"
      },
      {
        "duration": 13,
        "start_time": "2022-03-21T05:42:23.691Z"
      },
      {
        "duration": 18,
        "start_time": "2022-03-21T05:42:23.737Z"
      },
      {
        "duration": 5,
        "start_time": "2022-03-21T05:42:23.758Z"
      },
      {
        "duration": 18,
        "start_time": "2022-03-21T05:42:23.764Z"
      },
      {
        "duration": 67,
        "start_time": "2022-03-21T05:42:23.783Z"
      },
      {
        "duration": 30,
        "start_time": "2022-03-21T05:42:23.852Z"
      },
      {
        "duration": 14,
        "start_time": "2022-03-21T05:42:23.884Z"
      },
      {
        "duration": 38,
        "start_time": "2022-03-21T05:42:23.900Z"
      },
      {
        "duration": 34,
        "start_time": "2022-03-21T05:42:23.940Z"
      },
      {
        "duration": 110,
        "start_time": "2022-03-21T05:42:23.975Z"
      },
      {
        "duration": 170,
        "start_time": "2022-03-21T05:42:24.086Z"
      },
      {
        "duration": 178,
        "start_time": "2022-03-21T05:42:24.258Z"
      },
      {
        "duration": 152,
        "start_time": "2022-03-21T05:42:24.437Z"
      },
      {
        "duration": 176,
        "start_time": "2022-03-21T05:42:24.590Z"
      },
      {
        "duration": 16,
        "start_time": "2022-03-21T05:42:50.141Z"
      },
      {
        "duration": 20,
        "start_time": "2022-03-21T05:43:00.014Z"
      },
      {
        "duration": 22,
        "start_time": "2022-03-21T05:43:05.734Z"
      },
      {
        "duration": 67,
        "start_time": "2022-03-21T05:43:10.522Z"
      },
      {
        "duration": 13,
        "start_time": "2022-03-21T05:43:10.591Z"
      },
      {
        "duration": 33,
        "start_time": "2022-03-21T05:43:10.605Z"
      },
      {
        "duration": 23,
        "start_time": "2022-03-21T05:43:10.640Z"
      },
      {
        "duration": 16,
        "start_time": "2022-03-21T05:43:10.665Z"
      },
      {
        "duration": 15,
        "start_time": "2022-03-21T05:43:10.682Z"
      },
      {
        "duration": 46,
        "start_time": "2022-03-21T05:43:10.699Z"
      },
      {
        "duration": 16,
        "start_time": "2022-03-21T05:43:10.747Z"
      },
      {
        "duration": 17,
        "start_time": "2022-03-21T05:43:10.765Z"
      },
      {
        "duration": 4,
        "start_time": "2022-03-21T05:43:10.785Z"
      },
      {
        "duration": 17,
        "start_time": "2022-03-21T05:43:10.791Z"
      },
      {
        "duration": 44,
        "start_time": "2022-03-21T05:43:10.839Z"
      },
      {
        "duration": 53,
        "start_time": "2022-03-21T05:43:10.885Z"
      },
      {
        "duration": 15,
        "start_time": "2022-03-21T05:43:10.940Z"
      },
      {
        "duration": 13,
        "start_time": "2022-03-21T05:43:10.956Z"
      },
      {
        "duration": 40,
        "start_time": "2022-03-21T05:43:10.970Z"
      },
      {
        "duration": 115,
        "start_time": "2022-03-21T05:43:11.011Z"
      },
      {
        "duration": 177,
        "start_time": "2022-03-21T05:43:11.137Z"
      },
      {
        "duration": 246,
        "start_time": "2022-03-21T05:43:11.316Z"
      },
      {
        "duration": 155,
        "start_time": "2022-03-21T05:43:11.563Z"
      },
      {
        "duration": 174,
        "start_time": "2022-03-21T05:43:11.720Z"
      },
      {
        "duration": 14,
        "start_time": "2022-03-21T05:43:55.552Z"
      },
      {
        "duration": 145,
        "start_time": "2022-03-21T05:45:06.967Z"
      },
      {
        "duration": 128,
        "start_time": "2022-03-21T05:45:08.991Z"
      },
      {
        "duration": 114,
        "start_time": "2022-03-21T05:45:16.023Z"
      },
      {
        "duration": 65,
        "start_time": "2022-03-21T05:45:21.171Z"
      },
      {
        "duration": 12,
        "start_time": "2022-03-21T05:45:21.238Z"
      },
      {
        "duration": 10,
        "start_time": "2022-03-21T05:45:21.251Z"
      },
      {
        "duration": 23,
        "start_time": "2022-03-21T05:45:21.263Z"
      },
      {
        "duration": 15,
        "start_time": "2022-03-21T05:45:21.288Z"
      },
      {
        "duration": 45,
        "start_time": "2022-03-21T05:45:21.305Z"
      },
      {
        "duration": 13,
        "start_time": "2022-03-21T05:45:21.352Z"
      },
      {
        "duration": 14,
        "start_time": "2022-03-21T05:45:21.367Z"
      },
      {
        "duration": 16,
        "start_time": "2022-03-21T05:45:21.382Z"
      },
      {
        "duration": 101,
        "start_time": "2022-03-21T05:45:21.401Z"
      },
      {
        "duration": 0,
        "start_time": "2022-03-21T05:45:21.503Z"
      },
      {
        "duration": 0,
        "start_time": "2022-03-21T05:45:21.505Z"
      },
      {
        "duration": 0,
        "start_time": "2022-03-21T05:45:21.506Z"
      },
      {
        "duration": 0,
        "start_time": "2022-03-21T05:45:21.507Z"
      },
      {
        "duration": 0,
        "start_time": "2022-03-21T05:45:21.508Z"
      },
      {
        "duration": 0,
        "start_time": "2022-03-21T05:45:21.509Z"
      },
      {
        "duration": 0,
        "start_time": "2022-03-21T05:45:21.510Z"
      },
      {
        "duration": 0,
        "start_time": "2022-03-21T05:45:21.511Z"
      },
      {
        "duration": 0,
        "start_time": "2022-03-21T05:45:21.512Z"
      },
      {
        "duration": 0,
        "start_time": "2022-03-21T05:45:21.513Z"
      },
      {
        "duration": 0,
        "start_time": "2022-03-21T05:45:21.514Z"
      },
      {
        "duration": 0,
        "start_time": "2022-03-21T05:45:21.515Z"
      },
      {
        "duration": 68,
        "start_time": "2022-03-21T05:52:09.158Z"
      },
      {
        "duration": 16,
        "start_time": "2022-03-21T05:52:09.229Z"
      },
      {
        "duration": 12,
        "start_time": "2022-03-21T05:52:09.247Z"
      },
      {
        "duration": 27,
        "start_time": "2022-03-21T05:52:09.262Z"
      },
      {
        "duration": 51,
        "start_time": "2022-03-21T05:52:09.291Z"
      },
      {
        "duration": 16,
        "start_time": "2022-03-21T05:52:09.344Z"
      },
      {
        "duration": 14,
        "start_time": "2022-03-21T05:52:09.362Z"
      },
      {
        "duration": 17,
        "start_time": "2022-03-21T05:52:09.378Z"
      },
      {
        "duration": 47,
        "start_time": "2022-03-21T05:52:09.396Z"
      },
      {
        "duration": 4,
        "start_time": "2022-03-21T05:52:09.446Z"
      },
      {
        "duration": 15,
        "start_time": "2022-03-21T05:52:09.452Z"
      },
      {
        "duration": 69,
        "start_time": "2022-03-21T05:52:09.469Z"
      },
      {
        "duration": 36,
        "start_time": "2022-03-21T05:52:09.539Z"
      },
      {
        "duration": 15,
        "start_time": "2022-03-21T05:52:09.576Z"
      },
      {
        "duration": 12,
        "start_time": "2022-03-21T05:52:09.593Z"
      },
      {
        "duration": 64,
        "start_time": "2022-03-21T05:52:09.607Z"
      },
      {
        "duration": 107,
        "start_time": "2022-03-21T05:52:09.673Z"
      },
      {
        "duration": 179,
        "start_time": "2022-03-21T05:52:09.782Z"
      },
      {
        "duration": 192,
        "start_time": "2022-03-21T05:52:09.964Z"
      },
      {
        "duration": 157,
        "start_time": "2022-03-21T05:52:10.158Z"
      },
      {
        "duration": 170,
        "start_time": "2022-03-21T05:52:10.317Z"
      },
      {
        "duration": 73,
        "start_time": "2022-03-21T06:30:23.743Z"
      },
      {
        "duration": 12,
        "start_time": "2022-03-21T06:30:23.818Z"
      },
      {
        "duration": 13,
        "start_time": "2022-03-21T06:30:23.832Z"
      },
      {
        "duration": 22,
        "start_time": "2022-03-21T06:30:23.847Z"
      },
      {
        "duration": 15,
        "start_time": "2022-03-21T06:30:23.871Z"
      },
      {
        "duration": 13,
        "start_time": "2022-03-21T06:30:23.888Z"
      },
      {
        "duration": 15,
        "start_time": "2022-03-21T06:30:23.938Z"
      },
      {
        "duration": 16,
        "start_time": "2022-03-21T06:30:23.954Z"
      },
      {
        "duration": 16,
        "start_time": "2022-03-21T06:30:23.972Z"
      },
      {
        "duration": 4,
        "start_time": "2022-03-21T06:30:23.990Z"
      },
      {
        "duration": 45,
        "start_time": "2022-03-21T06:30:23.996Z"
      },
      {
        "duration": 44,
        "start_time": "2022-03-21T06:30:24.042Z"
      },
      {
        "duration": 49,
        "start_time": "2022-03-21T06:30:24.088Z"
      },
      {
        "duration": 15,
        "start_time": "2022-03-21T06:30:24.139Z"
      },
      {
        "duration": 11,
        "start_time": "2022-03-21T06:30:24.156Z"
      },
      {
        "duration": 42,
        "start_time": "2022-03-21T06:30:24.168Z"
      },
      {
        "duration": 109,
        "start_time": "2022-03-21T06:30:24.212Z"
      },
      {
        "duration": 161,
        "start_time": "2022-03-21T06:30:24.338Z"
      },
      {
        "duration": 177,
        "start_time": "2022-03-21T06:30:24.501Z"
      },
      {
        "duration": 159,
        "start_time": "2022-03-21T06:30:24.680Z"
      },
      {
        "duration": 185,
        "start_time": "2022-03-21T06:30:24.841Z"
      },
      {
        "duration": 88,
        "start_time": "2022-03-21T07:12:02.603Z"
      },
      {
        "duration": 12,
        "start_time": "2022-03-21T07:12:02.693Z"
      },
      {
        "duration": 10,
        "start_time": "2022-03-21T07:12:02.706Z"
      },
      {
        "duration": 42,
        "start_time": "2022-03-21T07:12:02.718Z"
      },
      {
        "duration": 15,
        "start_time": "2022-03-21T07:12:02.762Z"
      },
      {
        "duration": 13,
        "start_time": "2022-03-21T07:12:02.779Z"
      },
      {
        "duration": 47,
        "start_time": "2022-03-21T07:12:02.794Z"
      },
      {
        "duration": 16,
        "start_time": "2022-03-21T07:12:02.843Z"
      },
      {
        "duration": 108,
        "start_time": "2022-03-21T07:12:02.860Z"
      },
      {
        "duration": 4,
        "start_time": "2022-03-21T07:12:02.970Z"
      },
      {
        "duration": 17,
        "start_time": "2022-03-21T07:12:02.975Z"
      },
      {
        "duration": 65,
        "start_time": "2022-03-21T07:12:02.994Z"
      },
      {
        "duration": 32,
        "start_time": "2022-03-21T07:12:03.061Z"
      },
      {
        "duration": 16,
        "start_time": "2022-03-21T07:12:03.095Z"
      },
      {
        "duration": 14,
        "start_time": "2022-03-21T07:12:03.139Z"
      },
      {
        "duration": 38,
        "start_time": "2022-03-21T07:12:03.155Z"
      },
      {
        "duration": 110,
        "start_time": "2022-03-21T07:12:03.195Z"
      },
      {
        "duration": 174,
        "start_time": "2022-03-21T07:12:03.307Z"
      },
      {
        "duration": 188,
        "start_time": "2022-03-21T07:12:03.483Z"
      },
      {
        "duration": 157,
        "start_time": "2022-03-21T07:12:03.672Z"
      },
      {
        "duration": 175,
        "start_time": "2022-03-21T07:12:03.837Z"
      },
      {
        "duration": 68,
        "start_time": "2022-03-22T08:41:24.064Z"
      },
      {
        "duration": 13,
        "start_time": "2022-03-22T08:41:24.134Z"
      },
      {
        "duration": 11,
        "start_time": "2022-03-22T08:41:24.149Z"
      },
      {
        "duration": 25,
        "start_time": "2022-03-22T08:41:24.163Z"
      },
      {
        "duration": 17,
        "start_time": "2022-03-22T08:41:24.190Z"
      },
      {
        "duration": 41,
        "start_time": "2022-03-22T08:41:24.209Z"
      },
      {
        "duration": 15,
        "start_time": "2022-03-22T08:41:24.252Z"
      },
      {
        "duration": 18,
        "start_time": "2022-03-22T08:41:24.268Z"
      },
      {
        "duration": 51,
        "start_time": "2022-03-22T08:41:24.288Z"
      },
      {
        "duration": 10,
        "start_time": "2022-03-22T08:41:24.342Z"
      },
      {
        "duration": 24,
        "start_time": "2022-03-22T08:41:24.354Z"
      },
      {
        "duration": 65,
        "start_time": "2022-03-22T08:41:24.380Z"
      },
      {
        "duration": 34,
        "start_time": "2022-03-22T08:41:24.447Z"
      },
      {
        "duration": 17,
        "start_time": "2022-03-22T08:41:24.483Z"
      },
      {
        "duration": 40,
        "start_time": "2022-03-22T08:41:24.501Z"
      },
      {
        "duration": 40,
        "start_time": "2022-03-22T08:41:24.542Z"
      },
      {
        "duration": 114,
        "start_time": "2022-03-22T08:41:24.583Z"
      },
      {
        "duration": 190,
        "start_time": "2022-03-22T08:41:24.698Z"
      },
      {
        "duration": 195,
        "start_time": "2022-03-22T08:41:24.890Z"
      },
      {
        "duration": 238,
        "start_time": "2022-03-22T08:41:25.087Z"
      },
      {
        "duration": 186,
        "start_time": "2022-03-22T08:41:25.327Z"
      },
      {
        "duration": 68,
        "start_time": "2022-03-22T09:02:50.531Z"
      },
      {
        "duration": 13,
        "start_time": "2022-03-22T09:02:50.600Z"
      },
      {
        "duration": 30,
        "start_time": "2022-03-22T09:02:50.615Z"
      },
      {
        "duration": 50,
        "start_time": "2022-03-22T09:02:50.647Z"
      },
      {
        "duration": 39,
        "start_time": "2022-03-22T09:02:50.698Z"
      },
      {
        "duration": 28,
        "start_time": "2022-03-22T09:02:50.739Z"
      },
      {
        "duration": 46,
        "start_time": "2022-03-22T09:02:50.769Z"
      },
      {
        "duration": 38,
        "start_time": "2022-03-22T09:02:50.817Z"
      },
      {
        "duration": 24,
        "start_time": "2022-03-22T09:02:50.857Z"
      },
      {
        "duration": 12,
        "start_time": "2022-03-22T09:02:50.885Z"
      },
      {
        "duration": 52,
        "start_time": "2022-03-22T09:02:50.899Z"
      },
      {
        "duration": 78,
        "start_time": "2022-03-22T09:02:50.953Z"
      },
      {
        "duration": 35,
        "start_time": "2022-03-22T09:02:51.033Z"
      },
      {
        "duration": 18,
        "start_time": "2022-03-22T09:02:51.071Z"
      },
      {
        "duration": 15,
        "start_time": "2022-03-22T09:02:51.091Z"
      },
      {
        "duration": 61,
        "start_time": "2022-03-22T09:02:51.108Z"
      },
      {
        "duration": 112,
        "start_time": "2022-03-22T09:02:51.171Z"
      },
      {
        "duration": 170,
        "start_time": "2022-03-22T09:02:51.285Z"
      },
      {
        "duration": 179,
        "start_time": "2022-03-22T09:02:51.457Z"
      },
      {
        "duration": 150,
        "start_time": "2022-03-22T09:02:51.637Z"
      },
      {
        "duration": 173,
        "start_time": "2022-03-22T09:02:51.789Z"
      },
      {
        "duration": 420,
        "start_time": "2022-03-22T09:10:41.346Z"
      },
      {
        "duration": 295,
        "start_time": "2022-03-22T10:00:47.621Z"
      },
      {
        "duration": 47,
        "start_time": "2022-03-22T14:58:34.864Z"
      },
      {
        "duration": 1056,
        "start_time": "2022-03-22T15:00:07.399Z"
      },
      {
        "duration": 22,
        "start_time": "2022-03-22T15:00:08.458Z"
      },
      {
        "duration": 18,
        "start_time": "2022-03-22T15:00:08.482Z"
      },
      {
        "duration": 25,
        "start_time": "2022-03-22T15:00:08.502Z"
      },
      {
        "duration": 53,
        "start_time": "2022-03-22T15:00:08.530Z"
      },
      {
        "duration": 28,
        "start_time": "2022-03-22T15:00:08.585Z"
      },
      {
        "duration": 48,
        "start_time": "2022-03-22T15:00:08.615Z"
      },
      {
        "duration": 7,
        "start_time": "2022-03-22T15:00:08.666Z"
      },
      {
        "duration": 27,
        "start_time": "2022-03-22T15:00:08.675Z"
      },
      {
        "duration": 29,
        "start_time": "2022-03-22T15:00:08.704Z"
      },
      {
        "duration": 4,
        "start_time": "2022-03-22T15:00:08.735Z"
      },
      {
        "duration": 41,
        "start_time": "2022-03-22T15:00:08.741Z"
      },
      {
        "duration": 59,
        "start_time": "2022-03-22T15:00:08.784Z"
      },
      {
        "duration": 55,
        "start_time": "2022-03-22T15:00:08.846Z"
      },
      {
        "duration": 16,
        "start_time": "2022-03-22T15:00:08.902Z"
      },
      {
        "duration": 22,
        "start_time": "2022-03-22T15:00:08.919Z"
      },
      {
        "duration": 82,
        "start_time": "2022-03-22T15:00:08.942Z"
      },
      {
        "duration": 111,
        "start_time": "2022-03-22T15:00:09.026Z"
      },
      {
        "duration": 187,
        "start_time": "2022-03-22T15:00:09.139Z"
      },
      {
        "duration": 194,
        "start_time": "2022-03-22T15:00:09.328Z"
      },
      {
        "duration": 181,
        "start_time": "2022-03-22T15:00:09.524Z"
      },
      {
        "duration": 298,
        "start_time": "2022-03-22T15:00:09.707Z"
      },
      {
        "duration": 16,
        "start_time": "2022-03-22T15:01:18.571Z"
      },
      {
        "duration": 71,
        "start_time": "2022-03-22T15:01:24.164Z"
      },
      {
        "duration": 28,
        "start_time": "2022-03-22T15:01:24.237Z"
      },
      {
        "duration": 12,
        "start_time": "2022-03-22T15:01:24.267Z"
      },
      {
        "duration": 24,
        "start_time": "2022-03-22T15:01:24.281Z"
      },
      {
        "duration": 15,
        "start_time": "2022-03-22T15:01:24.307Z"
      },
      {
        "duration": 52,
        "start_time": "2022-03-22T15:01:24.324Z"
      },
      {
        "duration": 18,
        "start_time": "2022-03-22T15:01:24.378Z"
      },
      {
        "duration": 6,
        "start_time": "2022-03-22T15:01:24.397Z"
      },
      {
        "duration": 16,
        "start_time": "2022-03-22T15:01:24.405Z"
      },
      {
        "duration": 113,
        "start_time": "2022-03-22T15:01:24.424Z"
      },
      {
        "duration": 24,
        "start_time": "2022-03-22T15:01:24.539Z"
      },
      {
        "duration": 15,
        "start_time": "2022-03-22T15:01:24.564Z"
      },
      {
        "duration": 52,
        "start_time": "2022-03-22T15:01:24.581Z"
      },
      {
        "duration": 54,
        "start_time": "2022-03-22T15:01:24.635Z"
      },
      {
        "duration": 17,
        "start_time": "2022-03-22T15:01:24.691Z"
      },
      {
        "duration": 12,
        "start_time": "2022-03-22T15:01:24.710Z"
      },
      {
        "duration": 72,
        "start_time": "2022-03-22T15:01:24.724Z"
      },
      {
        "duration": 114,
        "start_time": "2022-03-22T15:01:24.798Z"
      },
      {
        "duration": 178,
        "start_time": "2022-03-22T15:01:24.914Z"
      },
      {
        "duration": 174,
        "start_time": "2022-03-22T15:01:25.094Z"
      },
      {
        "duration": 150,
        "start_time": "2022-03-22T15:01:25.270Z"
      },
      {
        "duration": 186,
        "start_time": "2022-03-22T15:01:25.422Z"
      },
      {
        "duration": 17,
        "start_time": "2022-03-22T15:02:17.341Z"
      },
      {
        "duration": 15,
        "start_time": "2022-03-22T15:02:19.694Z"
      },
      {
        "duration": 66,
        "start_time": "2022-03-22T15:02:57.235Z"
      },
      {
        "duration": 13,
        "start_time": "2022-03-22T15:02:57.303Z"
      },
      {
        "duration": 10,
        "start_time": "2022-03-22T15:02:57.317Z"
      },
      {
        "duration": 55,
        "start_time": "2022-03-22T15:02:57.329Z"
      },
      {
        "duration": 18,
        "start_time": "2022-03-22T15:02:57.386Z"
      },
      {
        "duration": 20,
        "start_time": "2022-03-22T15:02:57.407Z"
      },
      {
        "duration": 19,
        "start_time": "2022-03-22T15:02:57.463Z"
      },
      {
        "duration": 5,
        "start_time": "2022-03-22T15:02:57.484Z"
      },
      {
        "duration": 15,
        "start_time": "2022-03-22T15:02:57.491Z"
      },
      {
        "duration": 55,
        "start_time": "2022-03-22T15:02:57.509Z"
      },
      {
        "duration": 5,
        "start_time": "2022-03-22T15:02:57.566Z"
      },
      {
        "duration": 16,
        "start_time": "2022-03-22T15:02:57.572Z"
      },
      {
        "duration": 75,
        "start_time": "2022-03-22T15:02:57.590Z"
      },
      {
        "duration": 34,
        "start_time": "2022-03-22T15:02:57.668Z"
      },
      {
        "duration": 17,
        "start_time": "2022-03-22T15:02:57.704Z"
      },
      {
        "duration": 47,
        "start_time": "2022-03-22T15:02:57.722Z"
      },
      {
        "duration": 39,
        "start_time": "2022-03-22T15:02:57.770Z"
      },
      {
        "duration": 116,
        "start_time": "2022-03-22T15:02:57.810Z"
      },
      {
        "duration": 166,
        "start_time": "2022-03-22T15:02:57.928Z"
      },
      {
        "duration": 180,
        "start_time": "2022-03-22T15:02:58.096Z"
      },
      {
        "duration": 167,
        "start_time": "2022-03-22T15:02:58.278Z"
      },
      {
        "duration": 180,
        "start_time": "2022-03-22T15:02:58.447Z"
      },
      {
        "duration": 12,
        "start_time": "2022-03-22T15:06:13.430Z"
      },
      {
        "duration": 12,
        "start_time": "2022-03-22T15:09:30.704Z"
      },
      {
        "duration": 13,
        "start_time": "2022-03-22T15:10:28.514Z"
      },
      {
        "duration": 71,
        "start_time": "2022-03-22T15:10:32.406Z"
      },
      {
        "duration": 15,
        "start_time": "2022-03-22T15:10:32.480Z"
      },
      {
        "duration": 27,
        "start_time": "2022-03-22T15:10:32.497Z"
      },
      {
        "duration": 42,
        "start_time": "2022-03-22T15:10:32.525Z"
      },
      {
        "duration": 27,
        "start_time": "2022-03-22T15:10:32.569Z"
      },
      {
        "duration": 16,
        "start_time": "2022-03-22T15:10:32.597Z"
      },
      {
        "duration": 34,
        "start_time": "2022-03-22T15:10:32.614Z"
      },
      {
        "duration": 16,
        "start_time": "2022-03-22T15:10:32.650Z"
      },
      {
        "duration": 34,
        "start_time": "2022-03-22T15:10:32.667Z"
      },
      {
        "duration": 19,
        "start_time": "2022-03-22T15:10:32.703Z"
      },
      {
        "duration": 52,
        "start_time": "2022-03-22T15:10:32.724Z"
      },
      {
        "duration": 28,
        "start_time": "2022-03-22T15:10:32.779Z"
      },
      {
        "duration": 53,
        "start_time": "2022-03-22T15:10:32.808Z"
      },
      {
        "duration": 75,
        "start_time": "2022-03-22T15:10:32.863Z"
      },
      {
        "duration": 36,
        "start_time": "2022-03-22T15:10:32.940Z"
      },
      {
        "duration": 16,
        "start_time": "2022-03-22T15:10:32.979Z"
      },
      {
        "duration": 40,
        "start_time": "2022-03-22T15:10:32.996Z"
      },
      {
        "duration": 53,
        "start_time": "2022-03-22T15:10:33.038Z"
      },
      {
        "duration": 98,
        "start_time": "2022-03-22T15:10:33.093Z"
      },
      {
        "duration": 162,
        "start_time": "2022-03-22T15:10:33.193Z"
      },
      {
        "duration": 185,
        "start_time": "2022-03-22T15:10:33.356Z"
      },
      {
        "duration": 153,
        "start_time": "2022-03-22T15:10:33.543Z"
      },
      {
        "duration": 237,
        "start_time": "2022-03-22T15:10:33.698Z"
      },
      {
        "duration": 6,
        "start_time": "2022-03-22T15:11:29.946Z"
      },
      {
        "duration": 71,
        "start_time": "2022-03-22T15:11:57.131Z"
      },
      {
        "duration": 13,
        "start_time": "2022-03-22T15:11:57.203Z"
      },
      {
        "duration": 9,
        "start_time": "2022-03-22T15:11:57.218Z"
      },
      {
        "duration": 48,
        "start_time": "2022-03-22T15:11:57.229Z"
      },
      {
        "duration": 16,
        "start_time": "2022-03-22T15:11:57.279Z"
      },
      {
        "duration": 14,
        "start_time": "2022-03-22T15:11:57.296Z"
      },
      {
        "duration": 11,
        "start_time": "2022-03-22T15:11:57.312Z"
      },
      {
        "duration": 43,
        "start_time": "2022-03-22T15:11:57.325Z"
      },
      {
        "duration": 13,
        "start_time": "2022-03-22T15:11:57.370Z"
      },
      {
        "duration": 4,
        "start_time": "2022-03-22T15:11:57.387Z"
      },
      {
        "duration": 13,
        "start_time": "2022-03-22T15:11:57.393Z"
      },
      {
        "duration": 20,
        "start_time": "2022-03-22T15:11:57.408Z"
      },
      {
        "duration": 39,
        "start_time": "2022-03-22T15:11:57.432Z"
      },
      {
        "duration": 17,
        "start_time": "2022-03-22T15:11:57.473Z"
      },
      {
        "duration": 47,
        "start_time": "2022-03-22T15:11:57.492Z"
      },
      {
        "duration": 54,
        "start_time": "2022-03-22T15:11:57.540Z"
      },
      {
        "duration": 15,
        "start_time": "2022-03-22T15:11:57.595Z"
      },
      {
        "duration": 12,
        "start_time": "2022-03-22T15:11:57.612Z"
      },
      {
        "duration": 64,
        "start_time": "2022-03-22T15:11:57.625Z"
      },
      {
        "duration": 115,
        "start_time": "2022-03-22T15:11:57.690Z"
      },
      {
        "duration": 163,
        "start_time": "2022-03-22T15:11:57.806Z"
      },
      {
        "duration": 182,
        "start_time": "2022-03-22T15:11:57.971Z"
      },
      {
        "duration": 158,
        "start_time": "2022-03-22T15:11:58.162Z"
      },
      {
        "duration": 184,
        "start_time": "2022-03-22T15:11:58.321Z"
      },
      {
        "duration": 105,
        "start_time": "2022-03-22T15:15:01.592Z"
      },
      {
        "duration": 19,
        "start_time": "2022-03-22T15:15:01.699Z"
      },
      {
        "duration": 29,
        "start_time": "2022-03-22T15:15:01.720Z"
      },
      {
        "duration": 33,
        "start_time": "2022-03-22T15:15:01.751Z"
      },
      {
        "duration": 17,
        "start_time": "2022-03-22T15:15:01.785Z"
      },
      {
        "duration": 15,
        "start_time": "2022-03-22T15:15:01.804Z"
      },
      {
        "duration": 49,
        "start_time": "2022-03-22T15:15:01.821Z"
      },
      {
        "duration": 21,
        "start_time": "2022-03-22T15:15:01.872Z"
      },
      {
        "duration": 19,
        "start_time": "2022-03-22T15:15:01.895Z"
      },
      {
        "duration": 7,
        "start_time": "2022-03-22T15:15:01.917Z"
      },
      {
        "duration": 6,
        "start_time": "2022-03-22T15:15:01.926Z"
      },
      {
        "duration": 16,
        "start_time": "2022-03-22T15:15:01.933Z"
      },
      {
        "duration": 26,
        "start_time": "2022-03-22T15:15:01.951Z"
      },
      {
        "duration": 19,
        "start_time": "2022-03-22T15:15:01.979Z"
      },
      {
        "duration": 29,
        "start_time": "2022-03-22T15:15:02.000Z"
      },
      {
        "duration": 50,
        "start_time": "2022-03-22T15:15:02.031Z"
      },
      {
        "duration": 36,
        "start_time": "2022-03-22T15:15:02.083Z"
      },
      {
        "duration": 47,
        "start_time": "2022-03-22T15:15:02.121Z"
      },
      {
        "duration": 15,
        "start_time": "2022-03-22T15:15:02.170Z"
      },
      {
        "duration": 41,
        "start_time": "2022-03-22T15:15:02.187Z"
      },
      {
        "duration": 194,
        "start_time": "2022-03-22T15:15:02.231Z"
      },
      {
        "duration": 274,
        "start_time": "2022-03-22T15:15:02.427Z"
      },
      {
        "duration": 194,
        "start_time": "2022-03-22T15:15:02.703Z"
      },
      {
        "duration": 166,
        "start_time": "2022-03-22T15:15:02.900Z"
      },
      {
        "duration": 190,
        "start_time": "2022-03-22T15:15:03.068Z"
      },
      {
        "duration": 9,
        "start_time": "2022-03-22T15:15:55.417Z"
      },
      {
        "duration": 4,
        "start_time": "2022-03-22T15:17:11.537Z"
      },
      {
        "duration": 18,
        "start_time": "2022-03-22T15:18:42.137Z"
      },
      {
        "duration": 20,
        "start_time": "2022-03-22T15:19:26.138Z"
      },
      {
        "duration": 104,
        "start_time": "2022-03-22T15:19:28.624Z"
      },
      {
        "duration": 15,
        "start_time": "2022-03-22T15:19:28.731Z"
      },
      {
        "duration": 27,
        "start_time": "2022-03-22T15:19:28.748Z"
      },
      {
        "duration": 34,
        "start_time": "2022-03-22T15:19:28.778Z"
      },
      {
        "duration": 54,
        "start_time": "2022-03-22T15:19:28.814Z"
      },
      {
        "duration": 23,
        "start_time": "2022-03-22T15:19:28.871Z"
      },
      {
        "duration": 19,
        "start_time": "2022-03-22T15:19:28.897Z"
      },
      {
        "duration": 19,
        "start_time": "2022-03-22T15:19:28.918Z"
      },
      {
        "duration": 11,
        "start_time": "2022-03-22T15:19:28.964Z"
      },
      {
        "duration": 9,
        "start_time": "2022-03-22T15:19:28.979Z"
      },
      {
        "duration": 21,
        "start_time": "2022-03-22T15:19:28.990Z"
      },
      {
        "duration": 4,
        "start_time": "2022-03-22T15:19:29.013Z"
      },
      {
        "duration": 11,
        "start_time": "2022-03-22T15:19:29.063Z"
      },
      {
        "duration": 22,
        "start_time": "2022-03-22T15:19:29.077Z"
      },
      {
        "duration": 6,
        "start_time": "2022-03-22T15:19:29.100Z"
      },
      {
        "duration": 19,
        "start_time": "2022-03-22T15:19:29.108Z"
      },
      {
        "duration": 88,
        "start_time": "2022-03-22T15:19:29.129Z"
      },
      {
        "duration": 82,
        "start_time": "2022-03-22T15:19:29.219Z"
      },
      {
        "duration": 18,
        "start_time": "2022-03-22T15:19:29.304Z"
      },
      {
        "duration": 39,
        "start_time": "2022-03-22T15:19:29.324Z"
      },
      {
        "duration": 41,
        "start_time": "2022-03-22T15:19:29.365Z"
      },
      {
        "duration": 133,
        "start_time": "2022-03-22T15:19:29.408Z"
      },
      {
        "duration": 181,
        "start_time": "2022-03-22T15:19:29.543Z"
      },
      {
        "duration": 197,
        "start_time": "2022-03-22T15:19:29.726Z"
      },
      {
        "duration": 253,
        "start_time": "2022-03-22T15:19:29.925Z"
      },
      {
        "duration": 189,
        "start_time": "2022-03-22T15:19:30.179Z"
      },
      {
        "duration": 13,
        "start_time": "2022-03-22T15:23:03.355Z"
      },
      {
        "duration": 79,
        "start_time": "2022-03-22T15:23:07.374Z"
      },
      {
        "duration": 14,
        "start_time": "2022-03-22T15:23:07.455Z"
      },
      {
        "duration": 20,
        "start_time": "2022-03-22T15:23:07.471Z"
      },
      {
        "duration": 24,
        "start_time": "2022-03-22T15:23:07.493Z"
      },
      {
        "duration": 45,
        "start_time": "2022-03-22T15:23:07.518Z"
      },
      {
        "duration": 18,
        "start_time": "2022-03-22T15:23:07.565Z"
      },
      {
        "duration": 18,
        "start_time": "2022-03-22T15:23:07.584Z"
      },
      {
        "duration": 6,
        "start_time": "2022-03-22T15:23:07.604Z"
      },
      {
        "duration": 52,
        "start_time": "2022-03-22T15:23:07.612Z"
      },
      {
        "duration": 9,
        "start_time": "2022-03-22T15:23:07.667Z"
      },
      {
        "duration": 20,
        "start_time": "2022-03-22T15:23:07.678Z"
      },
      {
        "duration": 7,
        "start_time": "2022-03-22T15:23:07.700Z"
      },
      {
        "duration": 13,
        "start_time": "2022-03-22T15:23:07.709Z"
      },
      {
        "duration": 46,
        "start_time": "2022-03-22T15:23:07.724Z"
      },
      {
        "duration": 6,
        "start_time": "2022-03-22T15:23:07.772Z"
      },
      {
        "duration": 17,
        "start_time": "2022-03-22T15:23:07.780Z"
      },
      {
        "duration": 78,
        "start_time": "2022-03-22T15:23:07.799Z"
      },
      {
        "duration": 35,
        "start_time": "2022-03-22T15:23:07.879Z"
      },
      {
        "duration": 49,
        "start_time": "2022-03-22T15:23:07.916Z"
      },
      {
        "duration": 16,
        "start_time": "2022-03-22T15:23:07.967Z"
      },
      {
        "duration": 89,
        "start_time": "2022-03-22T15:23:07.985Z"
      },
      {
        "duration": 115,
        "start_time": "2022-03-22T15:23:08.077Z"
      },
      {
        "duration": 176,
        "start_time": "2022-03-22T15:23:08.194Z"
      },
      {
        "duration": 250,
        "start_time": "2022-03-22T15:23:08.372Z"
      },
      {
        "duration": 178,
        "start_time": "2022-03-22T15:23:08.624Z"
      },
      {
        "duration": 281,
        "start_time": "2022-03-22T15:23:08.805Z"
      },
      {
        "duration": 15,
        "start_time": "2022-03-22T15:26:05.571Z"
      },
      {
        "duration": 4,
        "start_time": "2022-03-22T15:26:12.155Z"
      },
      {
        "duration": 5,
        "start_time": "2022-03-22T15:26:25.232Z"
      },
      {
        "duration": 750,
        "start_time": "2022-03-22T15:26:32.020Z"
      },
      {
        "duration": 10,
        "start_time": "2022-03-22T15:27:46.954Z"
      },
      {
        "duration": 10,
        "start_time": "2022-03-22T15:28:00.294Z"
      },
      {
        "duration": 318,
        "start_time": "2022-03-22T15:28:34.891Z"
      },
      {
        "duration": 11,
        "start_time": "2022-03-22T15:28:37.803Z"
      },
      {
        "duration": 10,
        "start_time": "2022-03-22T15:28:42.102Z"
      },
      {
        "duration": 13,
        "start_time": "2022-03-22T15:29:01.364Z"
      },
      {
        "duration": 107,
        "start_time": "2022-03-22T15:29:53.745Z"
      },
      {
        "duration": 13,
        "start_time": "2022-03-22T15:29:53.862Z"
      },
      {
        "duration": 11,
        "start_time": "2022-03-22T15:29:53.876Z"
      },
      {
        "duration": 23,
        "start_time": "2022-03-22T15:29:53.888Z"
      },
      {
        "duration": 15,
        "start_time": "2022-03-22T15:29:53.913Z"
      },
      {
        "duration": 15,
        "start_time": "2022-03-22T15:29:53.963Z"
      },
      {
        "duration": 24,
        "start_time": "2022-03-22T15:29:53.980Z"
      },
      {
        "duration": 5,
        "start_time": "2022-03-22T15:29:54.006Z"
      },
      {
        "duration": 11,
        "start_time": "2022-03-22T15:29:54.013Z"
      },
      {
        "duration": 7,
        "start_time": "2022-03-22T15:29:54.026Z"
      },
      {
        "duration": 38,
        "start_time": "2022-03-22T15:29:54.035Z"
      },
      {
        "duration": 10,
        "start_time": "2022-03-22T15:29:54.074Z"
      },
      {
        "duration": 11,
        "start_time": "2022-03-22T15:29:54.085Z"
      },
      {
        "duration": 21,
        "start_time": "2022-03-22T15:29:54.098Z"
      },
      {
        "duration": 5,
        "start_time": "2022-03-22T15:29:54.121Z"
      },
      {
        "duration": 17,
        "start_time": "2022-03-22T15:29:54.163Z"
      },
      {
        "duration": 52,
        "start_time": "2022-03-22T15:29:54.182Z"
      },
      {
        "duration": 36,
        "start_time": "2022-03-22T15:29:54.264Z"
      },
      {
        "duration": 19,
        "start_time": "2022-03-22T15:29:54.302Z"
      },
      {
        "duration": 48,
        "start_time": "2022-03-22T15:29:54.323Z"
      },
      {
        "duration": 70,
        "start_time": "2022-03-22T15:29:54.373Z"
      },
      {
        "duration": 171,
        "start_time": "2022-03-22T15:29:54.445Z"
      },
      {
        "duration": 165,
        "start_time": "2022-03-22T15:29:54.618Z"
      },
      {
        "duration": 180,
        "start_time": "2022-03-22T15:29:54.785Z"
      },
      {
        "duration": 156,
        "start_time": "2022-03-22T15:29:54.966Z"
      },
      {
        "duration": 182,
        "start_time": "2022-03-22T15:29:55.124Z"
      },
      {
        "duration": 3,
        "start_time": "2022-03-22T15:30:16.952Z"
      },
      {
        "duration": 12,
        "start_time": "2022-03-22T15:30:27.102Z"
      },
      {
        "duration": 13,
        "start_time": "2022-03-22T15:30:58.932Z"
      },
      {
        "duration": 4,
        "start_time": "2022-03-22T15:31:28.923Z"
      },
      {
        "duration": 7,
        "start_time": "2022-03-22T15:32:26.973Z"
      },
      {
        "duration": 4,
        "start_time": "2022-03-22T15:32:28.753Z"
      },
      {
        "duration": 73,
        "start_time": "2022-03-22T15:32:32.480Z"
      },
      {
        "duration": 20,
        "start_time": "2022-03-22T15:32:32.562Z"
      },
      {
        "duration": 13,
        "start_time": "2022-03-22T15:32:32.584Z"
      },
      {
        "duration": 32,
        "start_time": "2022-03-22T15:32:32.600Z"
      },
      {
        "duration": 19,
        "start_time": "2022-03-22T15:32:32.663Z"
      },
      {
        "duration": 18,
        "start_time": "2022-03-22T15:32:32.684Z"
      },
      {
        "duration": 14,
        "start_time": "2022-03-22T15:32:32.704Z"
      },
      {
        "duration": 49,
        "start_time": "2022-03-22T15:32:32.720Z"
      },
      {
        "duration": 16,
        "start_time": "2022-03-22T15:32:32.771Z"
      },
      {
        "duration": 9,
        "start_time": "2022-03-22T15:32:32.791Z"
      },
      {
        "duration": 16,
        "start_time": "2022-03-22T15:32:32.801Z"
      },
      {
        "duration": 9,
        "start_time": "2022-03-22T15:32:32.819Z"
      },
      {
        "duration": 10,
        "start_time": "2022-03-22T15:32:32.862Z"
      },
      {
        "duration": 9,
        "start_time": "2022-03-22T15:32:32.874Z"
      },
      {
        "duration": 27,
        "start_time": "2022-03-22T15:32:32.885Z"
      },
      {
        "duration": 8,
        "start_time": "2022-03-22T15:32:32.914Z"
      },
      {
        "duration": 56,
        "start_time": "2022-03-22T15:32:32.923Z"
      },
      {
        "duration": 50,
        "start_time": "2022-03-22T15:32:32.980Z"
      },
      {
        "duration": 65,
        "start_time": "2022-03-22T15:32:33.033Z"
      },
      {
        "duration": 17,
        "start_time": "2022-03-22T15:32:33.099Z"
      },
      {
        "duration": 14,
        "start_time": "2022-03-22T15:32:33.118Z"
      },
      {
        "duration": 85,
        "start_time": "2022-03-22T15:32:33.133Z"
      },
      {
        "duration": 127,
        "start_time": "2022-03-22T15:32:33.219Z"
      },
      {
        "duration": 174,
        "start_time": "2022-03-22T15:32:33.362Z"
      },
      {
        "duration": 379,
        "start_time": "2022-03-22T15:32:33.538Z"
      },
      {
        "duration": 161,
        "start_time": "2022-03-22T15:32:33.920Z"
      },
      {
        "duration": 183,
        "start_time": "2022-03-22T15:32:34.083Z"
      },
      {
        "duration": 5,
        "start_time": "2022-03-22T15:45:28.548Z"
      },
      {
        "duration": 9,
        "start_time": "2022-03-22T15:47:21.979Z"
      },
      {
        "duration": 114,
        "start_time": "2022-03-22T15:47:24.874Z"
      },
      {
        "duration": 14,
        "start_time": "2022-03-22T15:47:24.989Z"
      },
      {
        "duration": 11,
        "start_time": "2022-03-22T15:47:25.004Z"
      },
      {
        "duration": 53,
        "start_time": "2022-03-22T15:47:25.018Z"
      },
      {
        "duration": 17,
        "start_time": "2022-03-22T15:47:25.072Z"
      },
      {
        "duration": 15,
        "start_time": "2022-03-22T15:47:25.090Z"
      },
      {
        "duration": 14,
        "start_time": "2022-03-22T15:47:25.106Z"
      },
      {
        "duration": 44,
        "start_time": "2022-03-22T15:47:25.122Z"
      },
      {
        "duration": 8,
        "start_time": "2022-03-22T15:47:25.168Z"
      },
      {
        "duration": 8,
        "start_time": "2022-03-22T15:47:25.179Z"
      },
      {
        "duration": 18,
        "start_time": "2022-03-22T15:47:25.189Z"
      },
      {
        "duration": 6,
        "start_time": "2022-03-22T15:47:25.208Z"
      },
      {
        "duration": 7,
        "start_time": "2022-03-22T15:47:25.216Z"
      },
      {
        "duration": 39,
        "start_time": "2022-03-22T15:47:25.224Z"
      },
      {
        "duration": 8,
        "start_time": "2022-03-22T15:47:25.265Z"
      },
      {
        "duration": 18,
        "start_time": "2022-03-22T15:47:25.274Z"
      },
      {
        "duration": 5,
        "start_time": "2022-03-22T15:47:25.294Z"
      },
      {
        "duration": 16,
        "start_time": "2022-03-22T15:47:25.300Z"
      },
      {
        "duration": 89,
        "start_time": "2022-03-22T15:47:25.318Z"
      },
      {
        "duration": 34,
        "start_time": "2022-03-22T15:47:25.408Z"
      },
      {
        "duration": 34,
        "start_time": "2022-03-22T15:47:25.444Z"
      },
      {
        "duration": 13,
        "start_time": "2022-03-22T15:47:25.479Z"
      },
      {
        "duration": 41,
        "start_time": "2022-03-22T15:47:25.494Z"
      },
      {
        "duration": 107,
        "start_time": "2022-03-22T15:47:25.562Z"
      },
      {
        "duration": 165,
        "start_time": "2022-03-22T15:47:25.671Z"
      },
      {
        "duration": 191,
        "start_time": "2022-03-22T15:47:25.838Z"
      },
      {
        "duration": 162,
        "start_time": "2022-03-22T15:47:26.031Z"
      },
      {
        "duration": 267,
        "start_time": "2022-03-22T15:47:26.196Z"
      },
      {
        "duration": 221,
        "start_time": "2022-03-22T15:48:33.543Z"
      },
      {
        "duration": 8,
        "start_time": "2022-03-22T15:48:53.731Z"
      },
      {
        "duration": 4,
        "start_time": "2022-03-22T15:53:41.752Z"
      },
      {
        "duration": 0,
        "start_time": "2022-03-22T15:54:34.093Z"
      },
      {
        "duration": 73,
        "start_time": "2022-03-22T15:54:40.826Z"
      },
      {
        "duration": 12,
        "start_time": "2022-03-22T15:54:40.902Z"
      },
      {
        "duration": 9,
        "start_time": "2022-03-22T15:54:40.916Z"
      },
      {
        "duration": 47,
        "start_time": "2022-03-22T15:54:40.926Z"
      },
      {
        "duration": 15,
        "start_time": "2022-03-22T15:54:40.976Z"
      },
      {
        "duration": 14,
        "start_time": "2022-03-22T15:54:40.992Z"
      },
      {
        "duration": 14,
        "start_time": "2022-03-22T15:54:41.008Z"
      },
      {
        "duration": 39,
        "start_time": "2022-03-22T15:54:41.024Z"
      },
      {
        "duration": 11,
        "start_time": "2022-03-22T15:54:41.064Z"
      },
      {
        "duration": 7,
        "start_time": "2022-03-22T15:54:41.076Z"
      },
      {
        "duration": 13,
        "start_time": "2022-03-22T15:54:41.084Z"
      },
      {
        "duration": 4,
        "start_time": "2022-03-22T15:54:41.099Z"
      },
      {
        "duration": 6,
        "start_time": "2022-03-22T15:54:41.105Z"
      },
      {
        "duration": 7,
        "start_time": "2022-03-22T15:54:41.114Z"
      },
      {
        "duration": 45,
        "start_time": "2022-03-22T15:54:41.122Z"
      },
      {
        "duration": 6,
        "start_time": "2022-03-22T15:54:41.169Z"
      },
      {
        "duration": 8,
        "start_time": "2022-03-22T15:54:41.176Z"
      },
      {
        "duration": 4,
        "start_time": "2022-03-22T15:54:41.186Z"
      },
      {
        "duration": 15,
        "start_time": "2022-03-22T15:54:41.192Z"
      },
      {
        "duration": 71,
        "start_time": "2022-03-22T15:54:41.209Z"
      },
      {
        "duration": 37,
        "start_time": "2022-03-22T15:54:41.281Z"
      },
      {
        "duration": 15,
        "start_time": "2022-03-22T15:54:41.320Z"
      },
      {
        "duration": 37,
        "start_time": "2022-03-22T15:54:41.336Z"
      },
      {
        "duration": 34,
        "start_time": "2022-03-22T15:54:41.375Z"
      },
      {
        "duration": 110,
        "start_time": "2022-03-22T15:54:41.410Z"
      },
      {
        "duration": 171,
        "start_time": "2022-03-22T15:54:41.521Z"
      },
      {
        "duration": 180,
        "start_time": "2022-03-22T15:54:41.693Z"
      },
      {
        "duration": 154,
        "start_time": "2022-03-22T15:54:41.874Z"
      },
      {
        "duration": 180,
        "start_time": "2022-03-22T15:54:42.030Z"
      },
      {
        "duration": 4438,
        "start_time": "2022-03-22T15:56:09.083Z"
      },
      {
        "duration": 0,
        "start_time": "2022-03-22T15:56:18.728Z"
      },
      {
        "duration": 0,
        "start_time": "2022-03-22T15:56:18.729Z"
      },
      {
        "duration": 0,
        "start_time": "2022-03-22T15:56:18.730Z"
      },
      {
        "duration": 0,
        "start_time": "2022-03-22T15:56:18.731Z"
      },
      {
        "duration": 0,
        "start_time": "2022-03-22T15:56:18.732Z"
      },
      {
        "duration": 0,
        "start_time": "2022-03-22T15:56:18.733Z"
      },
      {
        "duration": 0,
        "start_time": "2022-03-22T15:56:18.734Z"
      },
      {
        "duration": 0,
        "start_time": "2022-03-22T15:56:18.735Z"
      },
      {
        "duration": 0,
        "start_time": "2022-03-22T15:56:18.736Z"
      },
      {
        "duration": 0,
        "start_time": "2022-03-22T15:56:18.737Z"
      },
      {
        "duration": 0,
        "start_time": "2022-03-22T15:56:18.738Z"
      },
      {
        "duration": 0,
        "start_time": "2022-03-22T15:56:18.810Z"
      },
      {
        "duration": 0,
        "start_time": "2022-03-22T15:56:18.811Z"
      },
      {
        "duration": 0,
        "start_time": "2022-03-22T15:56:18.813Z"
      },
      {
        "duration": 0,
        "start_time": "2022-03-22T15:56:18.814Z"
      },
      {
        "duration": 0,
        "start_time": "2022-03-22T15:56:18.815Z"
      },
      {
        "duration": 0,
        "start_time": "2022-03-22T15:56:18.817Z"
      },
      {
        "duration": 0,
        "start_time": "2022-03-22T15:56:18.818Z"
      },
      {
        "duration": 0,
        "start_time": "2022-03-22T15:56:18.819Z"
      },
      {
        "duration": 0,
        "start_time": "2022-03-22T15:56:18.820Z"
      },
      {
        "duration": 0,
        "start_time": "2022-03-22T15:56:18.821Z"
      },
      {
        "duration": 0,
        "start_time": "2022-03-22T15:56:18.822Z"
      },
      {
        "duration": 0,
        "start_time": "2022-03-22T15:56:18.823Z"
      },
      {
        "duration": 0,
        "start_time": "2022-03-22T15:56:18.825Z"
      },
      {
        "duration": 0,
        "start_time": "2022-03-22T15:56:18.826Z"
      },
      {
        "duration": 0,
        "start_time": "2022-03-22T15:56:18.827Z"
      },
      {
        "duration": 0,
        "start_time": "2022-03-22T15:56:18.828Z"
      },
      {
        "duration": 0,
        "start_time": "2022-03-22T15:56:18.829Z"
      },
      {
        "duration": 0,
        "start_time": "2022-03-22T15:56:18.830Z"
      },
      {
        "duration": 5426,
        "start_time": "2022-03-22T15:56:24.022Z"
      },
      {
        "duration": 0,
        "start_time": "2022-03-22T15:56:46.987Z"
      },
      {
        "duration": 0,
        "start_time": "2022-03-22T15:56:46.988Z"
      },
      {
        "duration": 0,
        "start_time": "2022-03-22T15:56:46.989Z"
      },
      {
        "duration": 0,
        "start_time": "2022-03-22T15:56:46.990Z"
      },
      {
        "duration": 0,
        "start_time": "2022-03-22T15:56:46.991Z"
      },
      {
        "duration": 0,
        "start_time": "2022-03-22T15:56:46.992Z"
      },
      {
        "duration": 0,
        "start_time": "2022-03-22T15:56:46.993Z"
      },
      {
        "duration": 0,
        "start_time": "2022-03-22T15:56:46.994Z"
      },
      {
        "duration": 0,
        "start_time": "2022-03-22T15:56:46.995Z"
      },
      {
        "duration": 0,
        "start_time": "2022-03-22T15:56:46.996Z"
      },
      {
        "duration": 0,
        "start_time": "2022-03-22T15:56:46.997Z"
      },
      {
        "duration": 0,
        "start_time": "2022-03-22T15:56:46.998Z"
      },
      {
        "duration": 0,
        "start_time": "2022-03-22T15:56:46.999Z"
      },
      {
        "duration": 0,
        "start_time": "2022-03-22T15:56:47.000Z"
      },
      {
        "duration": 0,
        "start_time": "2022-03-22T15:56:47.002Z"
      },
      {
        "duration": 0,
        "start_time": "2022-03-22T15:56:47.003Z"
      },
      {
        "duration": 0,
        "start_time": "2022-03-22T15:56:47.004Z"
      },
      {
        "duration": 0,
        "start_time": "2022-03-22T15:56:47.005Z"
      },
      {
        "duration": 0,
        "start_time": "2022-03-22T15:56:47.006Z"
      },
      {
        "duration": 0,
        "start_time": "2022-03-22T15:56:47.007Z"
      },
      {
        "duration": 0,
        "start_time": "2022-03-22T15:56:47.008Z"
      },
      {
        "duration": 0,
        "start_time": "2022-03-22T15:56:47.009Z"
      },
      {
        "duration": 0,
        "start_time": "2022-03-22T15:56:47.010Z"
      },
      {
        "duration": 0,
        "start_time": "2022-03-22T15:56:47.012Z"
      },
      {
        "duration": 0,
        "start_time": "2022-03-22T15:56:47.013Z"
      },
      {
        "duration": 0,
        "start_time": "2022-03-22T15:56:47.014Z"
      },
      {
        "duration": 0,
        "start_time": "2022-03-22T15:56:47.015Z"
      },
      {
        "duration": 0,
        "start_time": "2022-03-22T15:56:47.016Z"
      },
      {
        "duration": 0,
        "start_time": "2022-03-22T15:56:47.017Z"
      },
      {
        "duration": 4722,
        "start_time": "2022-03-22T15:56:58.493Z"
      },
      {
        "duration": 71,
        "start_time": "2022-03-22T15:57:07.307Z"
      },
      {
        "duration": 13,
        "start_time": "2022-03-22T15:57:07.380Z"
      },
      {
        "duration": 10,
        "start_time": "2022-03-22T15:57:07.395Z"
      },
      {
        "duration": 24,
        "start_time": "2022-03-22T15:57:07.407Z"
      },
      {
        "duration": 47,
        "start_time": "2022-03-22T15:57:07.433Z"
      },
      {
        "duration": 16,
        "start_time": "2022-03-22T15:57:07.481Z"
      },
      {
        "duration": 13,
        "start_time": "2022-03-22T15:57:07.499Z"
      },
      {
        "duration": 8,
        "start_time": "2022-03-22T15:57:07.513Z"
      },
      {
        "duration": 45,
        "start_time": "2022-03-22T15:57:07.523Z"
      },
      {
        "duration": 7,
        "start_time": "2022-03-22T15:57:07.570Z"
      },
      {
        "duration": 15,
        "start_time": "2022-03-22T15:57:07.579Z"
      },
      {
        "duration": 7,
        "start_time": "2022-03-22T15:57:07.596Z"
      },
      {
        "duration": 8,
        "start_time": "2022-03-22T15:57:07.605Z"
      },
      {
        "duration": 14,
        "start_time": "2022-03-22T15:57:07.614Z"
      },
      {
        "duration": 8,
        "start_time": "2022-03-22T15:57:07.629Z"
      },
      {
        "duration": 27,
        "start_time": "2022-03-22T15:57:07.639Z"
      },
      {
        "duration": 71,
        "start_time": "2022-03-22T15:57:07.668Z"
      },
      {
        "duration": 25,
        "start_time": "2022-03-22T15:57:07.741Z"
      },
      {
        "duration": 23,
        "start_time": "2022-03-22T15:57:07.768Z"
      },
      {
        "duration": 49,
        "start_time": "2022-03-22T15:57:07.792Z"
      },
      {
        "duration": 51,
        "start_time": "2022-03-22T15:57:07.843Z"
      },
      {
        "duration": 16,
        "start_time": "2022-03-22T15:57:07.896Z"
      },
      {
        "duration": 13,
        "start_time": "2022-03-22T15:57:07.914Z"
      },
      {
        "duration": 64,
        "start_time": "2022-03-22T15:57:07.929Z"
      },
      {
        "duration": 114,
        "start_time": "2022-03-22T15:57:07.994Z"
      },
      {
        "duration": 172,
        "start_time": "2022-03-22T15:57:08.110Z"
      },
      {
        "duration": 184,
        "start_time": "2022-03-22T15:57:08.283Z"
      },
      {
        "duration": 160,
        "start_time": "2022-03-22T15:57:08.471Z"
      },
      {
        "duration": 177,
        "start_time": "2022-03-22T15:57:08.632Z"
      },
      {
        "duration": 1,
        "start_time": "2022-03-22T15:57:40.037Z"
      },
      {
        "duration": 72,
        "start_time": "2022-03-22T15:57:41.562Z"
      },
      {
        "duration": 13,
        "start_time": "2022-03-22T15:57:41.636Z"
      },
      {
        "duration": 20,
        "start_time": "2022-03-22T15:57:41.650Z"
      },
      {
        "duration": 23,
        "start_time": "2022-03-22T15:57:41.672Z"
      },
      {
        "duration": 16,
        "start_time": "2022-03-22T15:57:41.696Z"
      },
      {
        "duration": 15,
        "start_time": "2022-03-22T15:57:41.713Z"
      },
      {
        "duration": 13,
        "start_time": "2022-03-22T15:57:41.762Z"
      },
      {
        "duration": 6,
        "start_time": "2022-03-22T15:57:41.777Z"
      },
      {
        "duration": 9,
        "start_time": "2022-03-22T15:57:41.785Z"
      },
      {
        "duration": 7,
        "start_time": "2022-03-22T15:57:41.797Z"
      },
      {
        "duration": 13,
        "start_time": "2022-03-22T15:57:41.806Z"
      },
      {
        "duration": 4,
        "start_time": "2022-03-22T15:57:41.821Z"
      },
      {
        "duration": 37,
        "start_time": "2022-03-22T15:57:41.826Z"
      },
      {
        "duration": 9,
        "start_time": "2022-03-22T15:57:41.865Z"
      },
      {
        "duration": 9,
        "start_time": "2022-03-22T15:57:41.876Z"
      },
      {
        "duration": 5,
        "start_time": "2022-03-22T15:57:41.887Z"
      },
      {
        "duration": 13,
        "start_time": "2022-03-22T15:57:41.894Z"
      },
      {
        "duration": 4,
        "start_time": "2022-03-22T15:57:41.909Z"
      },
      {
        "duration": 17,
        "start_time": "2022-03-22T15:57:41.914Z"
      },
      {
        "duration": 49,
        "start_time": "2022-03-22T15:57:41.963Z"
      },
      {
        "duration": 55,
        "start_time": "2022-03-22T15:57:42.015Z"
      },
      {
        "duration": 18,
        "start_time": "2022-03-22T15:57:42.072Z"
      },
      {
        "duration": 14,
        "start_time": "2022-03-22T15:57:42.092Z"
      },
      {
        "duration": 62,
        "start_time": "2022-03-22T15:57:42.107Z"
      },
      {
        "duration": 97,
        "start_time": "2022-03-22T15:57:42.171Z"
      },
      {
        "duration": 208,
        "start_time": "2022-03-22T15:57:42.269Z"
      },
      {
        "duration": 179,
        "start_time": "2022-03-22T15:57:42.478Z"
      },
      {
        "duration": 161,
        "start_time": "2022-03-22T15:57:42.664Z"
      },
      {
        "duration": 181,
        "start_time": "2022-03-22T15:57:42.826Z"
      },
      {
        "duration": 4660,
        "start_time": "2022-03-22T16:01:00.666Z"
      },
      {
        "duration": 76,
        "start_time": "2022-03-22T16:01:08.836Z"
      },
      {
        "duration": 13,
        "start_time": "2022-03-22T16:01:08.914Z"
      },
      {
        "duration": 10,
        "start_time": "2022-03-22T16:01:08.928Z"
      },
      {
        "duration": 28,
        "start_time": "2022-03-22T16:01:08.964Z"
      },
      {
        "duration": 15,
        "start_time": "2022-03-22T16:01:08.994Z"
      },
      {
        "duration": 16,
        "start_time": "2022-03-22T16:01:09.011Z"
      },
      {
        "duration": 46,
        "start_time": "2022-03-22T16:01:09.029Z"
      },
      {
        "duration": 14,
        "start_time": "2022-03-22T16:01:09.077Z"
      },
      {
        "duration": 15,
        "start_time": "2022-03-22T16:01:09.093Z"
      },
      {
        "duration": 12,
        "start_time": "2022-03-22T16:01:09.111Z"
      },
      {
        "duration": 15,
        "start_time": "2022-03-22T16:01:09.125Z"
      },
      {
        "duration": 7,
        "start_time": "2022-03-22T16:01:09.141Z"
      },
      {
        "duration": 15,
        "start_time": "2022-03-22T16:01:09.149Z"
      },
      {
        "duration": 9,
        "start_time": "2022-03-22T16:01:09.166Z"
      },
      {
        "duration": 9,
        "start_time": "2022-03-22T16:01:09.177Z"
      },
      {
        "duration": 6,
        "start_time": "2022-03-22T16:01:09.187Z"
      },
      {
        "duration": 12,
        "start_time": "2022-03-22T16:01:09.195Z"
      },
      {
        "duration": 4,
        "start_time": "2022-03-22T16:01:09.209Z"
      },
      {
        "duration": 7,
        "start_time": "2022-03-22T16:01:09.214Z"
      },
      {
        "duration": 44,
        "start_time": "2022-03-22T16:01:09.223Z"
      },
      {
        "duration": 48,
        "start_time": "2022-03-22T16:01:09.270Z"
      },
      {
        "duration": 53,
        "start_time": "2022-03-22T16:01:09.319Z"
      },
      {
        "duration": 24,
        "start_time": "2022-03-22T16:01:09.374Z"
      },
      {
        "duration": 15,
        "start_time": "2022-03-22T16:01:09.400Z"
      },
      {
        "duration": 55,
        "start_time": "2022-03-22T16:01:09.416Z"
      },
      {
        "duration": 125,
        "start_time": "2022-03-22T16:01:09.474Z"
      },
      {
        "duration": 176,
        "start_time": "2022-03-22T16:01:09.601Z"
      },
      {
        "duration": 183,
        "start_time": "2022-03-22T16:01:09.780Z"
      },
      {
        "duration": 168,
        "start_time": "2022-03-22T16:01:09.965Z"
      },
      {
        "duration": 251,
        "start_time": "2022-03-22T16:01:10.135Z"
      },
      {
        "duration": 4071,
        "start_time": "2022-03-22T16:01:39.975Z"
      },
      {
        "duration": 785,
        "start_time": "2022-03-22T16:02:05.042Z"
      },
      {
        "duration": 16,
        "start_time": "2022-03-22T16:02:05.829Z"
      },
      {
        "duration": 19,
        "start_time": "2022-03-22T16:02:05.847Z"
      },
      {
        "duration": 24,
        "start_time": "2022-03-22T16:02:05.868Z"
      },
      {
        "duration": 15,
        "start_time": "2022-03-22T16:02:05.894Z"
      },
      {
        "duration": 15,
        "start_time": "2022-03-22T16:02:05.910Z"
      },
      {
        "duration": 43,
        "start_time": "2022-03-22T16:02:05.926Z"
      },
      {
        "duration": 5,
        "start_time": "2022-03-22T16:02:05.971Z"
      },
      {
        "duration": 14,
        "start_time": "2022-03-22T16:02:05.977Z"
      },
      {
        "duration": 7,
        "start_time": "2022-03-22T16:02:05.993Z"
      },
      {
        "duration": 18,
        "start_time": "2022-03-22T16:02:06.002Z"
      },
      {
        "duration": 11,
        "start_time": "2022-03-22T16:02:06.022Z"
      },
      {
        "duration": 29,
        "start_time": "2022-03-22T16:02:06.035Z"
      },
      {
        "duration": 8,
        "start_time": "2022-03-22T16:02:06.065Z"
      },
      {
        "duration": 12,
        "start_time": "2022-03-22T16:02:06.074Z"
      },
      {
        "duration": 6,
        "start_time": "2022-03-22T16:02:06.088Z"
      },
      {
        "duration": 15,
        "start_time": "2022-03-22T16:02:06.096Z"
      },
      {
        "duration": 4,
        "start_time": "2022-03-22T16:02:06.113Z"
      },
      {
        "duration": 7,
        "start_time": "2022-03-22T16:02:06.119Z"
      },
      {
        "duration": 45,
        "start_time": "2022-03-22T16:02:06.128Z"
      },
      {
        "duration": 46,
        "start_time": "2022-03-22T16:02:06.175Z"
      },
      {
        "duration": 42,
        "start_time": "2022-03-22T16:02:06.223Z"
      },
      {
        "duration": 14,
        "start_time": "2022-03-22T16:02:06.267Z"
      },
      {
        "duration": 17,
        "start_time": "2022-03-22T16:02:06.283Z"
      },
      {
        "duration": 36,
        "start_time": "2022-03-22T16:02:06.301Z"
      },
      {
        "duration": 107,
        "start_time": "2022-03-22T16:02:06.362Z"
      },
      {
        "duration": 174,
        "start_time": "2022-03-22T16:02:06.471Z"
      },
      {
        "duration": 178,
        "start_time": "2022-03-22T16:02:06.648Z"
      },
      {
        "duration": 152,
        "start_time": "2022-03-22T16:02:06.827Z"
      },
      {
        "duration": 178,
        "start_time": "2022-03-22T16:02:06.980Z"
      },
      {
        "duration": 3838,
        "start_time": "2022-03-22T16:05:57.769Z"
      },
      {
        "duration": 73,
        "start_time": "2022-03-22T16:06:32.818Z"
      },
      {
        "duration": 12,
        "start_time": "2022-03-22T16:06:32.893Z"
      },
      {
        "duration": 9,
        "start_time": "2022-03-22T16:06:32.906Z"
      },
      {
        "duration": 53,
        "start_time": "2022-03-22T16:06:32.917Z"
      },
      {
        "duration": 75,
        "start_time": "2022-03-22T16:06:32.971Z"
      },
      {
        "duration": 16,
        "start_time": "2022-03-22T16:06:33.063Z"
      },
      {
        "duration": 15,
        "start_time": "2022-03-22T16:06:33.081Z"
      },
      {
        "duration": 9,
        "start_time": "2022-03-22T16:06:33.098Z"
      },
      {
        "duration": 10,
        "start_time": "2022-03-22T16:06:33.108Z"
      },
      {
        "duration": 42,
        "start_time": "2022-03-22T16:06:33.121Z"
      },
      {
        "duration": 14,
        "start_time": "2022-03-22T16:06:33.165Z"
      },
      {
        "duration": 6,
        "start_time": "2022-03-22T16:06:33.180Z"
      },
      {
        "duration": 6,
        "start_time": "2022-03-22T16:06:33.187Z"
      },
      {
        "duration": 12,
        "start_time": "2022-03-22T16:06:33.195Z"
      },
      {
        "duration": 13,
        "start_time": "2022-03-22T16:06:33.208Z"
      },
      {
        "duration": 7,
        "start_time": "2022-03-22T16:06:33.223Z"
      },
      {
        "duration": 38,
        "start_time": "2022-03-22T16:06:33.232Z"
      },
      {
        "duration": 5,
        "start_time": "2022-03-22T16:06:33.271Z"
      },
      {
        "duration": 6,
        "start_time": "2022-03-22T16:06:33.277Z"
      },
      {
        "duration": 6,
        "start_time": "2022-03-22T16:06:33.285Z"
      },
      {
        "duration": 12,
        "start_time": "2022-03-22T16:06:33.293Z"
      },
      {
        "duration": 76,
        "start_time": "2022-03-22T16:06:33.306Z"
      },
      {
        "duration": 35,
        "start_time": "2022-03-22T16:06:33.383Z"
      },
      {
        "duration": 15,
        "start_time": "2022-03-22T16:06:33.420Z"
      },
      {
        "duration": 37,
        "start_time": "2022-03-22T16:06:33.437Z"
      },
      {
        "duration": 35,
        "start_time": "2022-03-22T16:06:33.476Z"
      },
      {
        "duration": 111,
        "start_time": "2022-03-22T16:06:33.512Z"
      },
      {
        "duration": 165,
        "start_time": "2022-03-22T16:06:33.626Z"
      },
      {
        "duration": 178,
        "start_time": "2022-03-22T16:06:33.792Z"
      },
      {
        "duration": 151,
        "start_time": "2022-03-22T16:06:33.972Z"
      },
      {
        "duration": 172,
        "start_time": "2022-03-22T16:06:34.125Z"
      },
      {
        "duration": 0,
        "start_time": "2022-03-22T16:07:11.967Z"
      },
      {
        "duration": 0,
        "start_time": "2022-03-22T16:07:11.969Z"
      },
      {
        "duration": 0,
        "start_time": "2022-03-22T16:07:11.970Z"
      },
      {
        "duration": 0,
        "start_time": "2022-03-22T16:07:11.971Z"
      },
      {
        "duration": 0,
        "start_time": "2022-03-22T16:07:11.972Z"
      },
      {
        "duration": 0,
        "start_time": "2022-03-22T16:07:11.973Z"
      },
      {
        "duration": 0,
        "start_time": "2022-03-22T16:07:11.974Z"
      },
      {
        "duration": 0,
        "start_time": "2022-03-22T16:07:11.975Z"
      },
      {
        "duration": 0,
        "start_time": "2022-03-22T16:07:11.976Z"
      },
      {
        "duration": 0,
        "start_time": "2022-03-22T16:07:11.977Z"
      },
      {
        "duration": 0,
        "start_time": "2022-03-22T16:07:11.978Z"
      },
      {
        "duration": 0,
        "start_time": "2022-03-22T16:07:11.979Z"
      },
      {
        "duration": 0,
        "start_time": "2022-03-22T16:07:11.979Z"
      },
      {
        "duration": 0,
        "start_time": "2022-03-22T16:07:11.980Z"
      },
      {
        "duration": 4467,
        "start_time": "2022-03-22T16:07:57.651Z"
      },
      {
        "duration": 89,
        "start_time": "2022-03-22T16:08:02.939Z"
      },
      {
        "duration": 39,
        "start_time": "2022-03-22T16:08:03.030Z"
      },
      {
        "duration": 22,
        "start_time": "2022-03-22T16:08:03.071Z"
      },
      {
        "duration": 28,
        "start_time": "2022-03-22T16:08:03.096Z"
      },
      {
        "duration": 38,
        "start_time": "2022-03-22T16:08:03.125Z"
      },
      {
        "duration": 17,
        "start_time": "2022-03-22T16:08:03.165Z"
      },
      {
        "duration": 15,
        "start_time": "2022-03-22T16:08:03.183Z"
      },
      {
        "duration": 6,
        "start_time": "2022-03-22T16:08:03.199Z"
      },
      {
        "duration": 16,
        "start_time": "2022-03-22T16:08:03.207Z"
      },
      {
        "duration": 9,
        "start_time": "2022-03-22T16:08:03.226Z"
      },
      {
        "duration": 14,
        "start_time": "2022-03-22T16:08:03.262Z"
      },
      {
        "duration": 14,
        "start_time": "2022-03-22T16:08:03.278Z"
      },
      {
        "duration": 10,
        "start_time": "2022-03-22T16:08:03.294Z"
      },
      {
        "duration": 13,
        "start_time": "2022-03-22T16:08:03.306Z"
      },
      {
        "duration": 12,
        "start_time": "2022-03-22T16:08:03.320Z"
      },
      {
        "duration": 9,
        "start_time": "2022-03-22T16:08:03.333Z"
      },
      {
        "duration": 26,
        "start_time": "2022-03-22T16:08:03.343Z"
      },
      {
        "duration": 4,
        "start_time": "2022-03-22T16:08:03.371Z"
      },
      {
        "duration": 19,
        "start_time": "2022-03-22T16:08:03.377Z"
      },
      {
        "duration": 18,
        "start_time": "2022-03-22T16:08:03.397Z"
      },
      {
        "duration": 13,
        "start_time": "2022-03-22T16:08:03.417Z"
      },
      {
        "duration": 11,
        "start_time": "2022-03-22T16:08:03.432Z"
      },
      {
        "duration": 24,
        "start_time": "2022-03-22T16:08:03.445Z"
      },
      {
        "duration": 53,
        "start_time": "2022-03-22T16:08:03.471Z"
      },
      {
        "duration": 51,
        "start_time": "2022-03-22T16:08:03.526Z"
      },
      {
        "duration": 17,
        "start_time": "2022-03-22T16:08:03.579Z"
      },
      {
        "duration": 13,
        "start_time": "2022-03-22T16:08:03.597Z"
      },
      {
        "duration": 60,
        "start_time": "2022-03-22T16:08:03.614Z"
      },
      {
        "duration": 111,
        "start_time": "2022-03-22T16:08:03.675Z"
      },
      {
        "duration": 169,
        "start_time": "2022-03-22T16:08:03.788Z"
      },
      {
        "duration": 182,
        "start_time": "2022-03-22T16:08:03.963Z"
      },
      {
        "duration": 170,
        "start_time": "2022-03-22T16:08:04.147Z"
      },
      {
        "duration": 174,
        "start_time": "2022-03-22T16:08:04.319Z"
      },
      {
        "duration": 36,
        "start_time": "2022-03-22T16:09:11.853Z"
      },
      {
        "duration": 73,
        "start_time": "2022-03-22T16:09:18.360Z"
      },
      {
        "duration": 31,
        "start_time": "2022-03-22T16:09:18.436Z"
      },
      {
        "duration": 11,
        "start_time": "2022-03-22T16:09:18.469Z"
      },
      {
        "duration": 25,
        "start_time": "2022-03-22T16:09:18.482Z"
      },
      {
        "duration": 17,
        "start_time": "2022-03-22T16:09:18.509Z"
      },
      {
        "duration": 16,
        "start_time": "2022-03-22T16:09:18.563Z"
      },
      {
        "duration": 14,
        "start_time": "2022-03-22T16:09:18.581Z"
      },
      {
        "duration": 8,
        "start_time": "2022-03-22T16:09:18.597Z"
      },
      {
        "duration": 8,
        "start_time": "2022-03-22T16:09:18.607Z"
      },
      {
        "duration": 7,
        "start_time": "2022-03-22T16:09:18.618Z"
      },
      {
        "duration": 12,
        "start_time": "2022-03-22T16:09:18.663Z"
      },
      {
        "duration": 7,
        "start_time": "2022-03-22T16:09:18.677Z"
      },
      {
        "duration": 6,
        "start_time": "2022-03-22T16:09:18.686Z"
      },
      {
        "duration": 10,
        "start_time": "2022-03-22T16:09:18.693Z"
      },
      {
        "duration": 9,
        "start_time": "2022-03-22T16:09:18.704Z"
      },
      {
        "duration": 6,
        "start_time": "2022-03-22T16:09:18.715Z"
      },
      {
        "duration": 12,
        "start_time": "2022-03-22T16:09:18.723Z"
      },
      {
        "duration": 5,
        "start_time": "2022-03-22T16:09:18.763Z"
      },
      {
        "duration": 14,
        "start_time": "2022-03-22T16:09:18.770Z"
      },
      {
        "duration": 7,
        "start_time": "2022-03-22T16:09:18.786Z"
      },
      {
        "duration": 6,
        "start_time": "2022-03-22T16:09:18.795Z"
      },
      {
        "duration": 75,
        "start_time": "2022-03-22T16:09:18.802Z"
      },
      {
        "duration": 32,
        "start_time": "2022-03-22T16:09:18.879Z"
      },
      {
        "duration": 15,
        "start_time": "2022-03-22T16:09:18.912Z"
      },
      {
        "duration": 34,
        "start_time": "2022-03-22T16:09:18.929Z"
      },
      {
        "duration": 34,
        "start_time": "2022-03-22T16:09:18.964Z"
      },
      {
        "duration": 107,
        "start_time": "2022-03-22T16:09:18.999Z"
      },
      {
        "duration": 160,
        "start_time": "2022-03-22T16:09:19.110Z"
      },
      {
        "duration": 175,
        "start_time": "2022-03-22T16:09:19.272Z"
      },
      {
        "duration": 153,
        "start_time": "2022-03-22T16:09:19.449Z"
      },
      {
        "duration": 242,
        "start_time": "2022-03-22T16:09:19.603Z"
      },
      {
        "duration": 21,
        "start_time": "2022-03-22T16:09:54.100Z"
      },
      {
        "duration": 48,
        "start_time": "2022-03-22T16:10:23.275Z"
      },
      {
        "duration": 739,
        "start_time": "2022-03-22T16:10:28.109Z"
      },
      {
        "duration": 14,
        "start_time": "2022-03-22T16:10:28.850Z"
      },
      {
        "duration": 9,
        "start_time": "2022-03-22T16:10:28.865Z"
      },
      {
        "duration": 24,
        "start_time": "2022-03-22T16:10:28.876Z"
      },
      {
        "duration": 15,
        "start_time": "2022-03-22T16:10:28.901Z"
      },
      {
        "duration": 19,
        "start_time": "2022-03-22T16:10:28.917Z"
      },
      {
        "duration": 14,
        "start_time": "2022-03-22T16:10:28.962Z"
      },
      {
        "duration": 7,
        "start_time": "2022-03-22T16:10:28.977Z"
      },
      {
        "duration": 12,
        "start_time": "2022-03-22T16:10:28.985Z"
      },
      {
        "duration": 6,
        "start_time": "2022-03-22T16:10:29.000Z"
      },
      {
        "duration": 15,
        "start_time": "2022-03-22T16:10:29.007Z"
      },
      {
        "duration": 5,
        "start_time": "2022-03-22T16:10:29.023Z"
      },
      {
        "duration": 33,
        "start_time": "2022-03-22T16:10:29.030Z"
      },
      {
        "duration": 12,
        "start_time": "2022-03-22T16:10:29.065Z"
      },
      {
        "duration": 8,
        "start_time": "2022-03-22T16:10:29.079Z"
      },
      {
        "duration": 5,
        "start_time": "2022-03-22T16:10:29.089Z"
      },
      {
        "duration": 13,
        "start_time": "2022-03-22T16:10:29.096Z"
      },
      {
        "duration": 5,
        "start_time": "2022-03-22T16:10:29.111Z"
      },
      {
        "duration": 45,
        "start_time": "2022-03-22T16:10:29.117Z"
      },
      {
        "duration": 6,
        "start_time": "2022-03-22T16:10:29.165Z"
      },
      {
        "duration": 8,
        "start_time": "2022-03-22T16:10:29.173Z"
      },
      {
        "duration": 22,
        "start_time": "2022-03-22T16:10:29.182Z"
      },
      {
        "duration": 33,
        "start_time": "2022-03-22T16:10:29.206Z"
      },
      {
        "duration": 36,
        "start_time": "2022-03-22T16:10:29.240Z"
      },
      {
        "duration": 13,
        "start_time": "2022-03-22T16:10:29.278Z"
      },
      {
        "duration": 34,
        "start_time": "2022-03-22T16:10:29.292Z"
      },
      {
        "duration": 122,
        "start_time": "2022-03-22T16:10:29.328Z"
      },
      {
        "duration": 180,
        "start_time": "2022-03-22T16:10:29.464Z"
      },
      {
        "duration": 187,
        "start_time": "2022-03-22T16:10:29.645Z"
      },
      {
        "duration": 161,
        "start_time": "2022-03-22T16:10:29.834Z"
      },
      {
        "duration": 186,
        "start_time": "2022-03-22T16:10:29.997Z"
      },
      {
        "duration": 20,
        "start_time": "2022-03-22T16:11:32.486Z"
      },
      {
        "duration": 17,
        "start_time": "2022-03-22T16:11:34.066Z"
      },
      {
        "duration": 6,
        "start_time": "2022-03-22T16:13:34.006Z"
      },
      {
        "duration": 23,
        "start_time": "2022-03-22T16:19:11.628Z"
      },
      {
        "duration": 17,
        "start_time": "2022-03-22T16:19:17.931Z"
      },
      {
        "duration": 22,
        "start_time": "2022-03-22T16:24:12.884Z"
      },
      {
        "duration": 37,
        "start_time": "2022-03-22T16:24:22.461Z"
      },
      {
        "duration": 5,
        "start_time": "2022-03-22T16:25:40.423Z"
      },
      {
        "duration": 12,
        "start_time": "2022-03-22T16:33:06.985Z"
      },
      {
        "duration": 79,
        "start_time": "2022-03-22T16:33:10.125Z"
      },
      {
        "duration": 13,
        "start_time": "2022-03-22T16:33:10.206Z"
      },
      {
        "duration": 5,
        "start_time": "2022-03-22T16:33:10.221Z"
      },
      {
        "duration": 41,
        "start_time": "2022-03-22T16:33:10.229Z"
      },
      {
        "duration": 101,
        "start_time": "2022-03-22T16:33:10.272Z"
      },
      {
        "duration": 18,
        "start_time": "2022-03-22T16:33:10.375Z"
      },
      {
        "duration": 16,
        "start_time": "2022-03-22T16:33:10.395Z"
      },
      {
        "duration": 50,
        "start_time": "2022-03-22T16:33:10.413Z"
      },
      {
        "duration": 7,
        "start_time": "2022-03-22T16:33:10.465Z"
      },
      {
        "duration": 15,
        "start_time": "2022-03-22T16:33:10.475Z"
      },
      {
        "duration": 7,
        "start_time": "2022-03-22T16:33:10.493Z"
      },
      {
        "duration": 14,
        "start_time": "2022-03-22T16:33:10.502Z"
      },
      {
        "duration": 7,
        "start_time": "2022-03-22T16:33:10.518Z"
      },
      {
        "duration": 37,
        "start_time": "2022-03-22T16:33:10.527Z"
      },
      {
        "duration": 7,
        "start_time": "2022-03-22T16:33:10.567Z"
      },
      {
        "duration": 13,
        "start_time": "2022-03-22T16:33:10.575Z"
      },
      {
        "duration": 6,
        "start_time": "2022-03-22T16:33:10.590Z"
      },
      {
        "duration": 16,
        "start_time": "2022-03-22T16:33:10.597Z"
      },
      {
        "duration": 5,
        "start_time": "2022-03-22T16:33:10.615Z"
      },
      {
        "duration": 43,
        "start_time": "2022-03-22T16:33:10.622Z"
      },
      {
        "duration": 10,
        "start_time": "2022-03-22T16:33:10.667Z"
      },
      {
        "duration": 10,
        "start_time": "2022-03-22T16:33:10.678Z"
      },
      {
        "duration": 25,
        "start_time": "2022-03-22T16:33:10.690Z"
      },
      {
        "duration": 20,
        "start_time": "2022-03-22T16:33:10.717Z"
      },
      {
        "duration": 37,
        "start_time": "2022-03-22T16:33:10.739Z"
      },
      {
        "duration": 17,
        "start_time": "2022-03-22T16:33:10.778Z"
      },
      {
        "duration": 14,
        "start_time": "2022-03-22T16:33:10.797Z"
      },
      {
        "duration": 56,
        "start_time": "2022-03-22T16:33:10.814Z"
      },
      {
        "duration": 5,
        "start_time": "2022-03-22T16:33:10.872Z"
      },
      {
        "duration": 88,
        "start_time": "2022-03-22T16:33:10.879Z"
      },
      {
        "duration": 16,
        "start_time": "2022-03-22T16:33:10.969Z"
      },
      {
        "duration": 167,
        "start_time": "2022-03-22T16:33:10.986Z"
      },
      {
        "duration": 176,
        "start_time": "2022-03-22T16:33:11.154Z"
      },
      {
        "duration": 156,
        "start_time": "2022-03-22T16:33:11.332Z"
      },
      {
        "duration": 176,
        "start_time": "2022-03-22T16:33:11.490Z"
      },
      {
        "duration": 10,
        "start_time": "2022-03-22T16:34:37.988Z"
      },
      {
        "duration": 69,
        "start_time": "2022-03-22T16:34:42.963Z"
      },
      {
        "duration": 32,
        "start_time": "2022-03-22T16:34:43.034Z"
      },
      {
        "duration": 4,
        "start_time": "2022-03-22T16:34:43.068Z"
      },
      {
        "duration": 9,
        "start_time": "2022-03-22T16:34:43.074Z"
      },
      {
        "duration": 23,
        "start_time": "2022-03-22T16:34:43.085Z"
      },
      {
        "duration": 16,
        "start_time": "2022-03-22T16:34:43.109Z"
      },
      {
        "duration": 48,
        "start_time": "2022-03-22T16:34:43.127Z"
      },
      {
        "duration": 12,
        "start_time": "2022-03-22T16:34:43.177Z"
      },
      {
        "duration": 8,
        "start_time": "2022-03-22T16:34:43.190Z"
      },
      {
        "duration": 8,
        "start_time": "2022-03-22T16:34:43.200Z"
      },
      {
        "duration": 6,
        "start_time": "2022-03-22T16:34:43.209Z"
      },
      {
        "duration": 12,
        "start_time": "2022-03-22T16:34:43.217Z"
      },
      {
        "duration": 4,
        "start_time": "2022-03-22T16:34:43.264Z"
      },
      {
        "duration": 8,
        "start_time": "2022-03-22T16:34:43.270Z"
      },
      {
        "duration": 12,
        "start_time": "2022-03-22T16:34:43.279Z"
      },
      {
        "duration": 8,
        "start_time": "2022-03-22T16:34:43.293Z"
      },
      {
        "duration": 7,
        "start_time": "2022-03-22T16:34:43.302Z"
      },
      {
        "duration": 11,
        "start_time": "2022-03-22T16:34:43.310Z"
      },
      {
        "duration": 40,
        "start_time": "2022-03-22T16:34:43.323Z"
      },
      {
        "duration": 11,
        "start_time": "2022-03-22T16:34:43.365Z"
      },
      {
        "duration": 12,
        "start_time": "2022-03-22T16:34:43.378Z"
      },
      {
        "duration": 5,
        "start_time": "2022-03-22T16:34:43.392Z"
      },
      {
        "duration": 23,
        "start_time": "2022-03-22T16:34:43.399Z"
      },
      {
        "duration": 39,
        "start_time": "2022-03-22T16:34:43.424Z"
      },
      {
        "duration": 23,
        "start_time": "2022-03-22T16:34:43.464Z"
      },
      {
        "duration": 17,
        "start_time": "2022-03-22T16:34:43.488Z"
      },
      {
        "duration": 13,
        "start_time": "2022-03-22T16:34:43.507Z"
      },
      {
        "duration": 62,
        "start_time": "2022-03-22T16:34:43.523Z"
      },
      {
        "duration": 5,
        "start_time": "2022-03-22T16:34:43.587Z"
      },
      {
        "duration": 84,
        "start_time": "2022-03-22T16:34:43.593Z"
      },
      {
        "duration": 15,
        "start_time": "2022-03-22T16:34:43.679Z"
      },
      {
        "duration": 160,
        "start_time": "2022-03-22T16:34:43.696Z"
      },
      {
        "duration": 178,
        "start_time": "2022-03-22T16:34:43.858Z"
      },
      {
        "duration": 155,
        "start_time": "2022-03-22T16:34:44.038Z"
      },
      {
        "duration": 174,
        "start_time": "2022-03-22T16:34:44.195Z"
      },
      {
        "duration": 10,
        "start_time": "2022-03-22T16:38:10.389Z"
      },
      {
        "duration": 71,
        "start_time": "2022-03-22T16:38:32.486Z"
      },
      {
        "duration": 11,
        "start_time": "2022-03-22T16:38:32.559Z"
      },
      {
        "duration": 5,
        "start_time": "2022-03-22T16:38:32.572Z"
      },
      {
        "duration": 11,
        "start_time": "2022-03-22T16:38:32.579Z"
      },
      {
        "duration": 28,
        "start_time": "2022-03-22T16:38:32.591Z"
      },
      {
        "duration": 15,
        "start_time": "2022-03-22T16:38:32.620Z"
      },
      {
        "duration": 15,
        "start_time": "2022-03-22T16:38:32.662Z"
      },
      {
        "duration": 14,
        "start_time": "2022-03-22T16:38:32.679Z"
      },
      {
        "duration": 4,
        "start_time": "2022-03-22T16:38:32.695Z"
      },
      {
        "duration": 10,
        "start_time": "2022-03-22T16:38:32.702Z"
      },
      {
        "duration": 7,
        "start_time": "2022-03-22T16:38:32.713Z"
      },
      {
        "duration": 45,
        "start_time": "2022-03-22T16:38:32.721Z"
      },
      {
        "duration": 7,
        "start_time": "2022-03-22T16:38:32.768Z"
      },
      {
        "duration": 10,
        "start_time": "2022-03-22T16:38:32.777Z"
      },
      {
        "duration": 12,
        "start_time": "2022-03-22T16:38:32.788Z"
      },
      {
        "duration": 10,
        "start_time": "2022-03-22T16:38:32.802Z"
      },
      {
        "duration": 8,
        "start_time": "2022-03-22T16:38:32.814Z"
      },
      {
        "duration": 12,
        "start_time": "2022-03-22T16:38:32.824Z"
      },
      {
        "duration": 26,
        "start_time": "2022-03-22T16:38:32.837Z"
      },
      {
        "duration": 11,
        "start_time": "2022-03-22T16:38:32.865Z"
      },
      {
        "duration": 10,
        "start_time": "2022-03-22T16:38:32.877Z"
      },
      {
        "duration": 8,
        "start_time": "2022-03-22T16:38:32.888Z"
      },
      {
        "duration": 21,
        "start_time": "2022-03-22T16:38:32.897Z"
      },
      {
        "duration": 17,
        "start_time": "2022-03-22T16:38:32.919Z"
      },
      {
        "duration": 39,
        "start_time": "2022-03-22T16:38:32.937Z"
      },
      {
        "duration": 15,
        "start_time": "2022-03-22T16:38:32.978Z"
      },
      {
        "duration": 13,
        "start_time": "2022-03-22T16:38:32.995Z"
      },
      {
        "duration": 59,
        "start_time": "2022-03-22T16:38:33.011Z"
      },
      {
        "duration": 5,
        "start_time": "2022-03-22T16:38:33.072Z"
      },
      {
        "duration": 89,
        "start_time": "2022-03-22T16:38:33.078Z"
      },
      {
        "duration": 17,
        "start_time": "2022-03-22T16:38:33.169Z"
      },
      {
        "duration": 169,
        "start_time": "2022-03-22T16:38:33.187Z"
      },
      {
        "duration": 177,
        "start_time": "2022-03-22T16:38:33.357Z"
      },
      {
        "duration": 147,
        "start_time": "2022-03-22T16:38:33.544Z"
      },
      {
        "duration": 250,
        "start_time": "2022-03-22T16:38:33.693Z"
      },
      {
        "duration": 17,
        "start_time": "2022-03-22T16:43:15.418Z"
      },
      {
        "duration": 16,
        "start_time": "2022-03-22T16:45:10.428Z"
      },
      {
        "duration": 12,
        "start_time": "2022-03-22T16:53:44.392Z"
      },
      {
        "duration": 12,
        "start_time": "2022-03-22T16:53:52.471Z"
      },
      {
        "duration": 75,
        "start_time": "2022-03-22T16:53:55.496Z"
      },
      {
        "duration": 11,
        "start_time": "2022-03-22T16:53:55.573Z"
      },
      {
        "duration": 4,
        "start_time": "2022-03-22T16:53:55.586Z"
      },
      {
        "duration": 11,
        "start_time": "2022-03-22T16:53:55.592Z"
      },
      {
        "duration": 25,
        "start_time": "2022-03-22T16:53:55.604Z"
      },
      {
        "duration": 40,
        "start_time": "2022-03-22T16:53:55.631Z"
      },
      {
        "duration": 14,
        "start_time": "2022-03-22T16:53:55.673Z"
      },
      {
        "duration": 13,
        "start_time": "2022-03-22T16:53:55.689Z"
      },
      {
        "duration": 10,
        "start_time": "2022-03-22T16:53:55.703Z"
      },
      {
        "duration": 9,
        "start_time": "2022-03-22T16:53:55.716Z"
      },
      {
        "duration": 6,
        "start_time": "2022-03-22T16:53:55.727Z"
      },
      {
        "duration": 13,
        "start_time": "2022-03-22T16:53:55.764Z"
      },
      {
        "duration": 5,
        "start_time": "2022-03-22T16:53:55.778Z"
      },
      {
        "duration": 5,
        "start_time": "2022-03-22T16:53:55.785Z"
      },
      {
        "duration": 7,
        "start_time": "2022-03-22T16:53:55.792Z"
      },
      {
        "duration": 7,
        "start_time": "2022-03-22T16:53:55.801Z"
      },
      {
        "duration": 7,
        "start_time": "2022-03-22T16:53:55.809Z"
      },
      {
        "duration": 46,
        "start_time": "2022-03-22T16:53:55.818Z"
      },
      {
        "duration": 4,
        "start_time": "2022-03-22T16:53:55.866Z"
      },
      {
        "duration": 13,
        "start_time": "2022-03-22T16:53:55.871Z"
      },
      {
        "duration": 5,
        "start_time": "2022-03-22T16:53:55.885Z"
      },
      {
        "duration": 4,
        "start_time": "2022-03-22T16:53:55.892Z"
      },
      {
        "duration": 20,
        "start_time": "2022-03-22T16:53:55.898Z"
      },
      {
        "duration": 48,
        "start_time": "2022-03-22T16:53:55.919Z"
      },
      {
        "duration": 18,
        "start_time": "2022-03-22T16:53:55.969Z"
      },
      {
        "duration": 16,
        "start_time": "2022-03-22T16:53:55.988Z"
      },
      {
        "duration": 14,
        "start_time": "2022-03-22T16:53:56.006Z"
      },
      {
        "duration": 69,
        "start_time": "2022-03-22T16:53:56.024Z"
      },
      {
        "duration": 5,
        "start_time": "2022-03-22T16:53:56.095Z"
      },
      {
        "duration": 91,
        "start_time": "2022-03-22T16:53:56.102Z"
      },
      {
        "duration": 15,
        "start_time": "2022-03-22T16:53:56.195Z"
      },
      {
        "duration": 171,
        "start_time": "2022-03-22T16:53:56.212Z"
      },
      {
        "duration": 179,
        "start_time": "2022-03-22T16:53:56.385Z"
      },
      {
        "duration": 149,
        "start_time": "2022-03-22T16:53:56.566Z"
      },
      {
        "duration": 275,
        "start_time": "2022-03-22T16:53:56.716Z"
      },
      {
        "duration": 615,
        "start_time": "2022-03-23T12:35:26.475Z"
      },
      {
        "duration": 237,
        "start_time": "2022-03-23T12:35:42.868Z"
      },
      {
        "duration": 254,
        "start_time": "2022-03-23T12:36:57.201Z"
      },
      {
        "duration": 205,
        "start_time": "2022-03-23T12:38:31.927Z"
      },
      {
        "duration": 216,
        "start_time": "2022-03-23T12:41:05.828Z"
      },
      {
        "duration": 250,
        "start_time": "2022-03-23T12:43:13.274Z"
      }
    ],
    "colab": {
      "collapsed_sections": [],
      "name": "e3abef98-ad76-487c-bc5c-ea7abab266d2.ipynb",
      "provenance": []
    },
    "kernelspec": {
      "name": "python",
      "display_name": "Python (Pyodide)",
      "language": "python"
    },
    "language_info": {
      "codemirror_mode": {
        "name": "python",
        "version": 3
      },
      "file_extension": ".py",
      "mimetype": "text/x-python",
      "name": "python",
      "nbconvert_exporter": "python",
      "pygments_lexer": "ipython3",
      "version": "3.8"
    },
    "toc": {
      "base_numbering": 1,
      "nav_menu": {
        "height": "294px",
        "width": "468px"
      },
      "number_sections": true,
      "sideBar": true,
      "skip_h1_title": true,
      "title_cell": "Table of Contents",
      "title_sidebar": "Contents",
      "toc_cell": false,
      "toc_position": {},
      "toc_section_display": true,
      "toc_window_display": true
    }
  },
  "nbformat_minor": 5,
  "nbformat": 4,
  "cells": [
    {
      "cell_type": "markdown",
      "source": "# Исследование надежности заемщиков.",
      "metadata": {
        "id": "986ec216"
      },
      "id": "986ec216"
    },
    {
      "cell_type": "markdown",
      "source": "# Описание проекта\nЗаказчик — кредитный отдел банка. Нужно разобраться, влияет ли семейное положение и количество детей клиента на факт погашения кредита в срок. Входные данные от банка — статистика о платёжеспособности клиентов.\nРезультаты исследования будут учтены при построении модели кредитного скоринга — специальной системы, которая оценивает способность потенциального заёмщика вернуть кредит банку.",
      "metadata": {},
      "id": "d1a3d12b-6d5f-409c-8c60-a142f7604627"
    },
    {
      "cell_type": "markdown",
      "source": "### Шаг 1. Обзор данных",
      "metadata": {
        "id": "3fa277fc"
      },
      "id": "3fa277fc"
    },
    {
      "cell_type": "code",
      "source": "import pandas as pd\nimport matplotlib.pyplot as plt\n\ndf = pd.read_csv('/datasets/data.csv')\nprint(df.info())",
      "metadata": {
        "colab": {
          "base_uri": "https://localhost:8080/"
        },
        "id": "8d8ab9ce",
        "outputId": "0542ab53-de67-45e2-ebfa-79f35dc5928b",
        "scrolled": true,
        "trusted": true
      },
      "execution_count": null,
      "outputs": [],
      "id": "8d8ab9ce"
    },
    {
      "cell_type": "markdown",
      "source": "### Шаг 2.1 Заполнение пропусков",
      "metadata": {
        "id": "d744c441"
      },
      "id": "d744c441"
    },
    {
      "cell_type": "markdown",
      "source": "Пропущенные значения в total_income и days_employed\nВ двух колонках доля пропусков 10%\nЕсли взять вместо медианы среднюю то будет смещение в одну из сторон. \nПропуски возможно из за людей которые не поделились информацией о доходе и стаже.\nПропуска заполнил медианой по каждой категории.",
      "metadata": {
        "id": "f44f38d8"
      },
      "id": "f44f38d8"
    },
    {
      "cell_type": "code",
      "source": "total_nan = df.isna().sum() * 100 / len(df) \ndisplay(total_nan.sort_values()) # Процент пропусков по коллонкам",
      "metadata": {
        "colab": {
          "base_uri": "https://localhost:8080/",
          "height": 624
        },
        "id": "b4b919f1",
        "outputId": "dc70d63c-f6eb-4f0e-ac56-18facc228891"
      },
      "execution_count": 154,
      "outputs": [
        {
          "output_type": "display_data",
          "data": {
            "text/plain": [
              "children             0.000000\n",
              "dob_years            0.000000\n",
              "education            0.000000\n",
              "education_id         0.000000\n",
              "family_status        0.000000\n",
              "family_status_id     0.000000\n",
              "gender               0.000000\n",
              "income_type          0.000000\n",
              "debt                 0.000000\n",
              "purpose              0.000000\n",
              "days_employed       10.099884\n",
              "total_income        10.099884\n",
              "dtype: float64"
            ]
          },
          "metadata": {}
        }
      ],
      "id": "b4b919f1"
    },
    {
      "cell_type": "markdown",
      "source": "Видим процент отсутвующих значений в 2х колонках. Заменяем их времено на 0.",
      "metadata": {},
      "id": "7465693c"
    },
    {
      "cell_type": "code",
      "source": "df['days_employed'] = df['days_employed'].fillna(0) # заполняем пропуски 0 в колонке \"days_employed\"\ndf['total_income'] = df['total_income'].fillna(0) # заполняем пропуски 0 в колонке \"total_income\"",
      "metadata": {},
      "execution_count": 155,
      "outputs": [],
      "id": "9d5703c1"
    },
    {
      "cell_type": "markdown",
      "source": "Теперь считаем все важные для исследования колонки с нулем.",
      "metadata": {},
      "id": "4a2bbbd1"
    },
    {
      "cell_type": "code",
      "source": "#Считаем все пропуски\ncount_zeros_employed = (df[df['days_employed'] == 0])['days_employed'].count().sum()\nprint('До обработки значений NaN или \"0\" в колонке \"days_employed\" :',count_zeros_employed)\ncount_zeros_income = (df[df['total_income'] == 0])['total_income'].count().sum()\nprint('До обработки значений NaN или \"0\" в колонке \"total_income\" :',count_zeros_income)\ncount_zeros_age = (df[df['dob_years'] == 0])['dob_years'].count().sum()\nprint('До обработки значений \"0\" в колонке \"dob_years\" :',count_zeros_age,'\\n')",
      "metadata": {},
      "execution_count": 156,
      "outputs": [
        {
          "name": "stdout",
          "output_type": "stream",
          "text": "До обработки значений NaN или \"0\" в колонке \"days_employed\" : 2174\n\nДо обработки значений NaN или \"0\" в колонке \"total_income\" : 2174\n\nДо обработки значений \"0\" в колонке \"dob_years\" : 101 \n\n\n"
        }
      ],
      "id": "ce9c2ebb"
    },
    {
      "cell_type": "markdown",
      "source": "Как видим колличество не маленькое. Лучшем решением будет создать 3 датафрейма сгрупированных по income_type для того чтобы получить медианы группы для каждой колонки.",
      "metadata": {},
      "id": "1382befe"
    },
    {
      "cell_type": "code",
      "source": "#Создаем 3 датафрейма из каждой групировки\nprint('Получаем таблицы с медианами')\nemployed_medians = pd.DataFrame(df.groupby('income_type')['days_employed'].median()) # Медианы по days_employed\nincome_medians = pd.DataFrame(df.groupby('income_type')['total_income'].median()) # Медианы по total_income\nage_medians = pd.DataFrame(df.groupby('income_type')['dob_years'].median()) # Медианы по dob_years\ndisplay(employed_medians,income_medians,age_medians)\n",
      "metadata": {},
      "execution_count": 157,
      "outputs": [
        {
          "name": "stdout",
          "output_type": "stream",
          "text": "Получаем таблицы с медианами\n"
        },
        {
          "output_type": "display_data",
          "data": {
            "text/html": [
              "<div>\n",
              "<style scoped>\n",
              "    .dataframe tbody tr th:only-of-type {\n",
              "        vertical-align: middle;\n",
              "    }\n",
              "\n",
              "    .dataframe tbody tr th {\n",
              "        vertical-align: top;\n",
              "    }\n",
              "\n",
              "    .dataframe thead th {\n",
              "        text-align: right;\n",
              "    }\n",
              "</style>\n",
              "<table border=\"1\" class=\"dataframe\">\n",
              "  <thead>\n",
              "    <tr style=\"text-align: right;\">\n",
              "      <th></th>\n",
              "      <th>days_employed</th>\n",
              "    </tr>\n",
              "    <tr>\n",
              "      <th>income_type</th>\n",
              "      <th></th>\n",
              "    </tr>\n",
              "  </thead>\n",
              "  <tbody>\n",
              "    <tr>\n",
              "      <th>безработный</th>\n",
              "      <td>366413.652744</td>\n",
              "    </tr>\n",
              "    <tr>\n",
              "      <th>в декрете</th>\n",
              "      <td>-3296.759962</td>\n",
              "    </tr>\n",
              "    <tr>\n",
              "      <th>госслужащий</th>\n",
              "      <td>-2385.358043</td>\n",
              "    </tr>\n",
              "    <tr>\n",
              "      <th>компаньон</th>\n",
              "      <td>-1311.128244</td>\n",
              "    </tr>\n",
              "    <tr>\n",
              "      <th>пенсионер</th>\n",
              "      <td>360505.668544</td>\n",
              "    </tr>\n",
              "    <tr>\n",
              "      <th>предприниматель</th>\n",
              "      <td>-260.424042</td>\n",
              "    </tr>\n",
              "    <tr>\n",
              "      <th>сотрудник</th>\n",
              "      <td>-1360.363902</td>\n",
              "    </tr>\n",
              "    <tr>\n",
              "      <th>студент</th>\n",
              "      <td>-578.751554</td>\n",
              "    </tr>\n",
              "  </tbody>\n",
              "</table>\n",
              "</div>"
            ],
            "text/plain": [
              "                 days_employed\n",
              "income_type                   \n",
              "безработный      366413.652744\n",
              "в декрете         -3296.759962\n",
              "госслужащий       -2385.358043\n",
              "компаньон         -1311.128244\n",
              "пенсионер        360505.668544\n",
              "предприниматель    -260.424042\n",
              "сотрудник         -1360.363902\n",
              "студент            -578.751554"
            ]
          },
          "metadata": {}
        },
        {
          "output_type": "display_data",
          "data": {
            "text/html": [
              "<div>\n",
              "<style scoped>\n",
              "    .dataframe tbody tr th:only-of-type {\n",
              "        vertical-align: middle;\n",
              "    }\n",
              "\n",
              "    .dataframe tbody tr th {\n",
              "        vertical-align: top;\n",
              "    }\n",
              "\n",
              "    .dataframe thead th {\n",
              "        text-align: right;\n",
              "    }\n",
              "</style>\n",
              "<table border=\"1\" class=\"dataframe\">\n",
              "  <thead>\n",
              "    <tr style=\"text-align: right;\">\n",
              "      <th></th>\n",
              "      <th>total_income</th>\n",
              "    </tr>\n",
              "    <tr>\n",
              "      <th>income_type</th>\n",
              "      <th></th>\n",
              "    </tr>\n",
              "  </thead>\n",
              "  <tbody>\n",
              "    <tr>\n",
              "      <th>безработный</th>\n",
              "      <td>131339.751676</td>\n",
              "    </tr>\n",
              "    <tr>\n",
              "      <th>в декрете</th>\n",
              "      <td>53829.130729</td>\n",
              "    </tr>\n",
              "    <tr>\n",
              "      <th>госслужащий</th>\n",
              "      <td>139034.452386</td>\n",
              "    </tr>\n",
              "    <tr>\n",
              "      <th>компаньон</th>\n",
              "      <td>162401.351555</td>\n",
              "    </tr>\n",
              "    <tr>\n",
              "      <th>пенсионер</th>\n",
              "      <td>110179.690761</td>\n",
              "    </tr>\n",
              "    <tr>\n",
              "      <th>предприниматель</th>\n",
              "      <td>249581.572474</td>\n",
              "    </tr>\n",
              "    <tr>\n",
              "      <th>сотрудник</th>\n",
              "      <td>133546.457238</td>\n",
              "    </tr>\n",
              "    <tr>\n",
              "      <th>студент</th>\n",
              "      <td>98201.625314</td>\n",
              "    </tr>\n",
              "  </tbody>\n",
              "</table>\n",
              "</div>"
            ],
            "text/plain": [
              "                  total_income\n",
              "income_type                   \n",
              "безработный      131339.751676\n",
              "в декрете         53829.130729\n",
              "госслужащий      139034.452386\n",
              "компаньон        162401.351555\n",
              "пенсионер        110179.690761\n",
              "предприниматель  249581.572474\n",
              "сотрудник        133546.457238\n",
              "студент           98201.625314"
            ]
          },
          "metadata": {}
        },
        {
          "output_type": "display_data",
          "data": {
            "text/html": [
              "<div>\n",
              "<style scoped>\n",
              "    .dataframe tbody tr th:only-of-type {\n",
              "        vertical-align: middle;\n",
              "    }\n",
              "\n",
              "    .dataframe tbody tr th {\n",
              "        vertical-align: top;\n",
              "    }\n",
              "\n",
              "    .dataframe thead th {\n",
              "        text-align: right;\n",
              "    }\n",
              "</style>\n",
              "<table border=\"1\" class=\"dataframe\">\n",
              "  <thead>\n",
              "    <tr style=\"text-align: right;\">\n",
              "      <th></th>\n",
              "      <th>dob_years</th>\n",
              "    </tr>\n",
              "    <tr>\n",
              "      <th>income_type</th>\n",
              "      <th></th>\n",
              "    </tr>\n",
              "  </thead>\n",
              "  <tbody>\n",
              "    <tr>\n",
              "      <th>безработный</th>\n",
              "      <td>38.0</td>\n",
              "    </tr>\n",
              "    <tr>\n",
              "      <th>в декрете</th>\n",
              "      <td>39.0</td>\n",
              "    </tr>\n",
              "    <tr>\n",
              "      <th>госслужащий</th>\n",
              "      <td>40.0</td>\n",
              "    </tr>\n",
              "    <tr>\n",
              "      <th>компаньон</th>\n",
              "      <td>39.0</td>\n",
              "    </tr>\n",
              "    <tr>\n",
              "      <th>пенсионер</th>\n",
              "      <td>60.0</td>\n",
              "    </tr>\n",
              "    <tr>\n",
              "      <th>предприниматель</th>\n",
              "      <td>42.5</td>\n",
              "    </tr>\n",
              "    <tr>\n",
              "      <th>сотрудник</th>\n",
              "      <td>39.0</td>\n",
              "    </tr>\n",
              "    <tr>\n",
              "      <th>студент</th>\n",
              "      <td>22.0</td>\n",
              "    </tr>\n",
              "  </tbody>\n",
              "</table>\n",
              "</div>"
            ],
            "text/plain": [
              "                 dob_years\n",
              "income_type               \n",
              "безработный           38.0\n",
              "в декрете             39.0\n",
              "госслужащий           40.0\n",
              "компаньон             39.0\n",
              "пенсионер             60.0\n",
              "предприниматель       42.5\n",
              "сотрудник             39.0\n",
              "студент               22.0"
            ]
          },
          "metadata": {}
        }
      ],
      "id": "fc0b7647"
    },
    {
      "cell_type": "markdown",
      "source": "Создаем функцию замены где в циклах для каждого датафрейма с медианой проходимся по строкам и делаем замену в основном датафрейме.",
      "metadata": {},
      "id": "7df3ec80"
    },
    {
      "cell_type": "code",
      "source": "def replace_zeros(column,wrong,correct):\n    df[column] = df[column].replace(wrong,correct)\nfor median in employed_medians.iterrows():\n    replace_zeros(column='days_employed',wrong=0,correct = int(median[1]))\nfor median in income_medians.iterrows():\n    replace_zeros(column='total_income',wrong=0,correct =int(median[1]))\nfor median in age_medians.iterrows():\n    replace_zeros(column='dob_years',wrong=0,correct = int(median[1]))",
      "metadata": {},
      "execution_count": 158,
      "outputs": [],
      "id": "1032fe83"
    },
    {
      "cell_type": "markdown",
      "source": "Теперь смотрим финальный результат чтобы нулей и пропусков больше нигде не осталось.",
      "metadata": {},
      "id": "bd956790"
    },
    {
      "cell_type": "code",
      "source": "count_zeros_employed = (df['days_employed'].isna()).sum()\nprint('После обработки значений \"0\" в колонке \"days_employed\" :',count_zeros_employed)\ncount_zeros_income = (df['total_income'].isna()).sum()\nprint('После обработки значений \"0\" в колонке \"total_income\" :',count_zeros_income)\ncount_zeros_age = (df['dob_years'].isna()).sum()\nprint('После обработки значений \"0\" в колонке \"dob_years\" :',count_zeros_age)\ntotal_nan_final = df.isna().sum() * 100 / len(df)\ndisplay(total_nan_final.sort_values()) ",
      "metadata": {},
      "execution_count": 159,
      "outputs": [
        {
          "name": "stdout",
          "output_type": "stream",
          "text": "После обработки значений \"0\" в колонке \"days_employed\" : 0\n\nПосле обработки значений \"0\" в колонке \"total_income\" : 0\n\nПосле обработки значений \"0\" в колонке \"dob_years\" : 0\n"
        },
        {
          "output_type": "display_data",
          "data": {
            "text/plain": [
              "children            0.0\n",
              "days_employed       0.0\n",
              "dob_years           0.0\n",
              "education           0.0\n",
              "education_id        0.0\n",
              "family_status       0.0\n",
              "family_status_id    0.0\n",
              "gender              0.0\n",
              "income_type         0.0\n",
              "debt                0.0\n",
              "total_income        0.0\n",
              "purpose             0.0\n",
              "dtype: float64"
            ]
          },
          "metadata": {}
        }
      ],
      "id": "3764bf78"
    },
    {
      "cell_type": "markdown",
      "source": "### Шаг 2.2 Проверка данных на аномалии и исправления.",
      "metadata": {
        "id": "cb4f63c8"
      },
      "id": "cb4f63c8"
    },
    {
      "cell_type": "markdown",
      "source": "Проверяем каждый из параметров для ответов на вопросы.\n<br>Есть ли зависимость между количеством детей и возвратом кредита в срок?\n<br>Есть ли зависимость между семейным положением и возвратом кредита в срок?\n<br>Есть ли зависимость между уровнем дохода и возвратом кредита в срок?\n<br>Как разные цели кредита влияют на его возврат в срок?",
      "metadata": {
        "id": "fd3080cd"
      },
      "id": "fd3080cd"
    },
    {
      "cell_type": "markdown",
      "source": "<b>Параметр №1 df['children']</b>",
      "metadata": {},
      "id": "317c9e8c"
    },
    {
      "cell_type": "code",
      "source": "print(df['children'].unique())\ndisplay(df.tail(5))",
      "metadata": {
        "colab": {
          "base_uri": "https://localhost:8080/",
          "height": 415
        },
        "id": "5c241521",
        "outputId": "c3f1eb27-d302-4c48-b828-f4793e1f771a"
      },
      "execution_count": 160,
      "outputs": [
        {
          "name": "stdout",
          "output_type": "stream",
          "text": "[ 1  0  3  2 -1  4 20  5]\n"
        },
        {
          "output_type": "display_data",
          "data": {
            "text/html": [
              "<div>\n",
              "<style scoped>\n",
              "    .dataframe tbody tr th:only-of-type {\n",
              "        vertical-align: middle;\n",
              "    }\n",
              "\n",
              "    .dataframe tbody tr th {\n",
              "        vertical-align: top;\n",
              "    }\n",
              "\n",
              "    .dataframe thead th {\n",
              "        text-align: right;\n",
              "    }\n",
              "</style>\n",
              "<table border=\"1\" class=\"dataframe\">\n",
              "  <thead>\n",
              "    <tr style=\"text-align: right;\">\n",
              "      <th></th>\n",
              "      <th>children</th>\n",
              "      <th>days_employed</th>\n",
              "      <th>dob_years</th>\n",
              "      <th>education</th>\n",
              "      <th>education_id</th>\n",
              "      <th>family_status</th>\n",
              "      <th>family_status_id</th>\n",
              "      <th>gender</th>\n",
              "      <th>income_type</th>\n",
              "      <th>debt</th>\n",
              "      <th>total_income</th>\n",
              "      <th>purpose</th>\n",
              "    </tr>\n",
              "  </thead>\n",
              "  <tbody>\n",
              "    <tr>\n",
              "      <th>21520</th>\n",
              "      <td>1</td>\n",
              "      <td>-4529.316663</td>\n",
              "      <td>43</td>\n",
              "      <td>среднее</td>\n",
              "      <td>1</td>\n",
              "      <td>гражданский брак</td>\n",
              "      <td>1</td>\n",
              "      <td>F</td>\n",
              "      <td>компаньон</td>\n",
              "      <td>0</td>\n",
              "      <td>224791.862382</td>\n",
              "      <td>операции с жильем</td>\n",
              "    </tr>\n",
              "    <tr>\n",
              "      <th>21521</th>\n",
              "      <td>0</td>\n",
              "      <td>343937.404131</td>\n",
              "      <td>67</td>\n",
              "      <td>среднее</td>\n",
              "      <td>1</td>\n",
              "      <td>женат / замужем</td>\n",
              "      <td>0</td>\n",
              "      <td>F</td>\n",
              "      <td>пенсионер</td>\n",
              "      <td>0</td>\n",
              "      <td>155999.806512</td>\n",
              "      <td>сделка с автомобилем</td>\n",
              "    </tr>\n",
              "    <tr>\n",
              "      <th>21522</th>\n",
              "      <td>1</td>\n",
              "      <td>-2113.346888</td>\n",
              "      <td>38</td>\n",
              "      <td>среднее</td>\n",
              "      <td>1</td>\n",
              "      <td>гражданский брак</td>\n",
              "      <td>1</td>\n",
              "      <td>M</td>\n",
              "      <td>сотрудник</td>\n",
              "      <td>1</td>\n",
              "      <td>89672.561153</td>\n",
              "      <td>недвижимость</td>\n",
              "    </tr>\n",
              "    <tr>\n",
              "      <th>21523</th>\n",
              "      <td>3</td>\n",
              "      <td>-3112.481705</td>\n",
              "      <td>38</td>\n",
              "      <td>среднее</td>\n",
              "      <td>1</td>\n",
              "      <td>женат / замужем</td>\n",
              "      <td>0</td>\n",
              "      <td>M</td>\n",
              "      <td>сотрудник</td>\n",
              "      <td>1</td>\n",
              "      <td>244093.050500</td>\n",
              "      <td>на покупку своего автомобиля</td>\n",
              "    </tr>\n",
              "    <tr>\n",
              "      <th>21524</th>\n",
              "      <td>2</td>\n",
              "      <td>-1984.507589</td>\n",
              "      <td>40</td>\n",
              "      <td>среднее</td>\n",
              "      <td>1</td>\n",
              "      <td>женат / замужем</td>\n",
              "      <td>0</td>\n",
              "      <td>F</td>\n",
              "      <td>сотрудник</td>\n",
              "      <td>0</td>\n",
              "      <td>82047.418899</td>\n",
              "      <td>на покупку автомобиля</td>\n",
              "    </tr>\n",
              "  </tbody>\n",
              "</table>\n",
              "</div>"
            ],
            "text/plain": [
              "       children  days_employed  dob_years education  education_id  \\\n",
              "21520         1   -4529.316663         43   среднее             1   \n",
              "21521         0  343937.404131         67   среднее             1   \n",
              "21522         1   -2113.346888         38   среднее             1   \n",
              "21523         3   -3112.481705         38   среднее             1   \n",
              "21524         2   -1984.507589         40   среднее             1   \n",
              "\n",
              "          family_status  family_status_id gender income_type  debt  \\\n",
              "21520  гражданский брак                 1      F   компаньон     0   \n",
              "21521   женат / замужем                 0      F   пенсионер     0   \n",
              "21522  гражданский брак                 1      M   сотрудник     1   \n",
              "21523   женат / замужем                 0      M   сотрудник     1   \n",
              "21524   женат / замужем                 0      F   сотрудник     0   \n",
              "\n",
              "        total_income                       purpose  \n",
              "21520  224791.862382             операции с жильем  \n",
              "21521  155999.806512          сделка с автомобилем  \n",
              "21522   89672.561153                  недвижимость  \n",
              "21523  244093.050500  на покупку своего автомобиля  \n",
              "21524   82047.418899         на покупку автомобиля  "
            ]
          },
          "metadata": {}
        }
      ],
      "id": "5c241521"
    },
    {
      "cell_type": "markdown",
      "source": "Присутвуют отрицательные значения и необычное колличество детей 20",
      "metadata": {},
      "id": "2cadccce"
    },
    {
      "cell_type": "code",
      "source": "print('Отрицательные значения возможно ошибка при записи.')\nprint('Процент от всей таблицы где число детей указано как \"20\":',df[df['children']==20]['children'].count().sum() * 100 / len(df))",
      "metadata": {
        "trusted": true
      },
      "execution_count": null,
      "outputs": [],
      "id": "24ef58e0"
    },
    {
      "cell_type": "markdown",
      "source": "Так как строк с 20ю детьми меньше 1% то для более чистого анализа их лучше удалить",
      "metadata": {},
      "id": "12fc9910-e977-4b11-8cda-155746b3b252"
    },
    {
      "cell_type": "code",
      "source": "df['children'] = abs(df['children'])\ndf = df.drop(df[df['children'] == 20].index).reset_index(drop=True) ",
      "metadata": {},
      "execution_count": 162,
      "outputs": [],
      "id": "6586ac6c"
    },
    {
      "cell_type": "code",
      "source": "print('Строк с 20 детьми осталось',df[df['children'] == 20]['children'].count().sum())\nprint('Строк с отрицательным колличеством осталось',df[df['children'] < 0]['children'].count().sum())\nprint(df['children'].unique())",
      "metadata": {},
      "execution_count": 163,
      "outputs": [
        {
          "name": "stdout",
          "output_type": "stream",
          "text": "Строк с 20 детьми осталось 0\n\nСтрок с отрицательным колличеством осталось 0\n\n[1 0 3 2 4 5]\n"
        }
      ],
      "id": "a9aa9068"
    },
    {
      "cell_type": "markdown",
      "source": "<b>Параметр №2 df['days_employed']</b>",
      "metadata": {},
      "id": "05a4b111"
    },
    {
      "cell_type": "code",
      "source": "display(df.head(10))",
      "metadata": {},
      "execution_count": 164,
      "outputs": [
        {
          "output_type": "display_data",
          "data": {
            "text/html": [
              "<div>\n",
              "<style scoped>\n",
              "    .dataframe tbody tr th:only-of-type {\n",
              "        vertical-align: middle;\n",
              "    }\n",
              "\n",
              "    .dataframe tbody tr th {\n",
              "        vertical-align: top;\n",
              "    }\n",
              "\n",
              "    .dataframe thead th {\n",
              "        text-align: right;\n",
              "    }\n",
              "</style>\n",
              "<table border=\"1\" class=\"dataframe\">\n",
              "  <thead>\n",
              "    <tr style=\"text-align: right;\">\n",
              "      <th></th>\n",
              "      <th>children</th>\n",
              "      <th>days_employed</th>\n",
              "      <th>dob_years</th>\n",
              "      <th>education</th>\n",
              "      <th>education_id</th>\n",
              "      <th>family_status</th>\n",
              "      <th>family_status_id</th>\n",
              "      <th>gender</th>\n",
              "      <th>income_type</th>\n",
              "      <th>debt</th>\n",
              "      <th>total_income</th>\n",
              "      <th>purpose</th>\n",
              "    </tr>\n",
              "  </thead>\n",
              "  <tbody>\n",
              "    <tr>\n",
              "      <th>0</th>\n",
              "      <td>1</td>\n",
              "      <td>-8437.673028</td>\n",
              "      <td>42</td>\n",
              "      <td>высшее</td>\n",
              "      <td>0</td>\n",
              "      <td>женат / замужем</td>\n",
              "      <td>0</td>\n",
              "      <td>F</td>\n",
              "      <td>сотрудник</td>\n",
              "      <td>0</td>\n",
              "      <td>253875.639453</td>\n",
              "      <td>покупка жилья</td>\n",
              "    </tr>\n",
              "    <tr>\n",
              "      <th>1</th>\n",
              "      <td>1</td>\n",
              "      <td>-4024.803754</td>\n",
              "      <td>36</td>\n",
              "      <td>среднее</td>\n",
              "      <td>1</td>\n",
              "      <td>женат / замужем</td>\n",
              "      <td>0</td>\n",
              "      <td>F</td>\n",
              "      <td>сотрудник</td>\n",
              "      <td>0</td>\n",
              "      <td>112080.014102</td>\n",
              "      <td>приобретение автомобиля</td>\n",
              "    </tr>\n",
              "    <tr>\n",
              "      <th>2</th>\n",
              "      <td>0</td>\n",
              "      <td>-5623.422610</td>\n",
              "      <td>33</td>\n",
              "      <td>Среднее</td>\n",
              "      <td>1</td>\n",
              "      <td>женат / замужем</td>\n",
              "      <td>0</td>\n",
              "      <td>M</td>\n",
              "      <td>сотрудник</td>\n",
              "      <td>0</td>\n",
              "      <td>145885.952297</td>\n",
              "      <td>покупка жилья</td>\n",
              "    </tr>\n",
              "    <tr>\n",
              "      <th>3</th>\n",
              "      <td>3</td>\n",
              "      <td>-4124.747207</td>\n",
              "      <td>32</td>\n",
              "      <td>среднее</td>\n",
              "      <td>1</td>\n",
              "      <td>женат / замужем</td>\n",
              "      <td>0</td>\n",
              "      <td>M</td>\n",
              "      <td>сотрудник</td>\n",
              "      <td>0</td>\n",
              "      <td>267628.550329</td>\n",
              "      <td>дополнительное образование</td>\n",
              "    </tr>\n",
              "    <tr>\n",
              "      <th>4</th>\n",
              "      <td>0</td>\n",
              "      <td>340266.072047</td>\n",
              "      <td>53</td>\n",
              "      <td>среднее</td>\n",
              "      <td>1</td>\n",
              "      <td>гражданский брак</td>\n",
              "      <td>1</td>\n",
              "      <td>F</td>\n",
              "      <td>пенсионер</td>\n",
              "      <td>0</td>\n",
              "      <td>158616.077870</td>\n",
              "      <td>сыграть свадьбу</td>\n",
              "    </tr>\n",
              "    <tr>\n",
              "      <th>5</th>\n",
              "      <td>0</td>\n",
              "      <td>-926.185831</td>\n",
              "      <td>27</td>\n",
              "      <td>высшее</td>\n",
              "      <td>0</td>\n",
              "      <td>гражданский брак</td>\n",
              "      <td>1</td>\n",
              "      <td>M</td>\n",
              "      <td>компаньон</td>\n",
              "      <td>0</td>\n",
              "      <td>255763.565419</td>\n",
              "      <td>покупка жилья</td>\n",
              "    </tr>\n",
              "    <tr>\n",
              "      <th>6</th>\n",
              "      <td>0</td>\n",
              "      <td>-2879.202052</td>\n",
              "      <td>43</td>\n",
              "      <td>высшее</td>\n",
              "      <td>0</td>\n",
              "      <td>женат / замужем</td>\n",
              "      <td>0</td>\n",
              "      <td>F</td>\n",
              "      <td>компаньон</td>\n",
              "      <td>0</td>\n",
              "      <td>240525.971920</td>\n",
              "      <td>операции с жильем</td>\n",
              "    </tr>\n",
              "    <tr>\n",
              "      <th>7</th>\n",
              "      <td>0</td>\n",
              "      <td>-152.779569</td>\n",
              "      <td>50</td>\n",
              "      <td>СРЕДНЕЕ</td>\n",
              "      <td>1</td>\n",
              "      <td>женат / замужем</td>\n",
              "      <td>0</td>\n",
              "      <td>M</td>\n",
              "      <td>сотрудник</td>\n",
              "      <td>0</td>\n",
              "      <td>135823.934197</td>\n",
              "      <td>образование</td>\n",
              "    </tr>\n",
              "    <tr>\n",
              "      <th>8</th>\n",
              "      <td>2</td>\n",
              "      <td>-6929.865299</td>\n",
              "      <td>35</td>\n",
              "      <td>ВЫСШЕЕ</td>\n",
              "      <td>0</td>\n",
              "      <td>гражданский брак</td>\n",
              "      <td>1</td>\n",
              "      <td>F</td>\n",
              "      <td>сотрудник</td>\n",
              "      <td>0</td>\n",
              "      <td>95856.832424</td>\n",
              "      <td>на проведение свадьбы</td>\n",
              "    </tr>\n",
              "    <tr>\n",
              "      <th>9</th>\n",
              "      <td>0</td>\n",
              "      <td>-2188.756445</td>\n",
              "      <td>41</td>\n",
              "      <td>среднее</td>\n",
              "      <td>1</td>\n",
              "      <td>женат / замужем</td>\n",
              "      <td>0</td>\n",
              "      <td>M</td>\n",
              "      <td>сотрудник</td>\n",
              "      <td>0</td>\n",
              "      <td>144425.938277</td>\n",
              "      <td>покупка жилья для семьи</td>\n",
              "    </tr>\n",
              "  </tbody>\n",
              "</table>\n",
              "</div>"
            ],
            "text/plain": [
              "   children  days_employed  dob_years education  education_id  \\\n",
              "0         1   -8437.673028         42    высшее             0   \n",
              "1         1   -4024.803754         36   среднее             1   \n",
              "2         0   -5623.422610         33   Среднее             1   \n",
              "3         3   -4124.747207         32   среднее             1   \n",
              "4         0  340266.072047         53   среднее             1   \n",
              "5         0    -926.185831         27    высшее             0   \n",
              "6         0   -2879.202052         43    высшее             0   \n",
              "7         0    -152.779569         50   СРЕДНЕЕ             1   \n",
              "8         2   -6929.865299         35    ВЫСШЕЕ             0   \n",
              "9         0   -2188.756445         41   среднее             1   \n",
              "\n",
              "      family_status  family_status_id gender income_type  debt   total_income  \\\n",
              "0   женат / замужем                 0      F   сотрудник     0  253875.639453   \n",
              "1   женат / замужем                 0      F   сотрудник     0  112080.014102   \n",
              "2   женат / замужем                 0      M   сотрудник     0  145885.952297   \n",
              "3   женат / замужем                 0      M   сотрудник     0  267628.550329   \n",
              "4  гражданский брак                 1      F   пенсионер     0  158616.077870   \n",
              "5  гражданский брак                 1      M   компаньон     0  255763.565419   \n",
              "6   женат / замужем                 0      F   компаньон     0  240525.971920   \n",
              "7   женат / замужем                 0      M   сотрудник     0  135823.934197   \n",
              "8  гражданский брак                 1      F   сотрудник     0   95856.832424   \n",
              "9   женат / замужем                 0      M   сотрудник     0  144425.938277   \n",
              "\n",
              "                      purpose  \n",
              "0               покупка жилья  \n",
              "1     приобретение автомобиля  \n",
              "2               покупка жилья  \n",
              "3  дополнительное образование  \n",
              "4             сыграть свадьбу  \n",
              "5               покупка жилья  \n",
              "6           операции с жильем  \n",
              "7                 образование  \n",
              "8       на проведение свадьбы  \n",
              "9     покупка жилья для семьи  "
            ]
          },
          "metadata": {}
        }
      ],
      "id": "da8b0275"
    },
    {
      "cell_type": "markdown",
      "source": "Присутвуют опять же отрицательные значения. Возможно ошибка при расчете.",
      "metadata": {},
      "id": "cbef1af0"
    },
    {
      "cell_type": "code",
      "source": "df['days_employed'] = abs(df['days_employed'])",
      "metadata": {},
      "execution_count": 165,
      "outputs": [],
      "id": "9835edf6"
    },
    {
      "cell_type": "code",
      "source": "print('Строк с отрицательным колличеством осталось',df[df['days_employed'] < 0]['days_employed'].count().sum())",
      "metadata": {},
      "execution_count": 166,
      "outputs": [
        {
          "name": "stdout",
          "output_type": "stream",
          "text": "Строк с отрицательным колличеством осталось 0\n"
        }
      ],
      "id": "0caba05b"
    },
    {
      "cell_type": "markdown",
      "source": "<b>Параметр №3 df['gender']</b>",
      "metadata": {},
      "id": "5fecd43a"
    },
    {
      "cell_type": "code",
      "source": "print(df['gender'].unique())\nprint('Строк с значением XNA',df[df['gender'] == 'XNA']['gender'].count().sum())",
      "metadata": {},
      "execution_count": 167,
      "outputs": [
        {
          "name": "stdout",
          "output_type": "stream",
          "text": "['F' 'M' 'XNA']\n\nСтрок с значением XNA 1\n"
        }
      ],
      "id": "223ef00e"
    },
    {
      "cell_type": "markdown",
      "source": "Строка одна по этому для чистоты исследования удалим ее.",
      "metadata": {},
      "id": "a48a8b5d"
    },
    {
      "cell_type": "code",
      "source": "df = df.drop(df[df['gender'] == 'XNA'].index).reset_index(drop=True) # некорректный пол тоже удалим",
      "metadata": {},
      "execution_count": 168,
      "outputs": [],
      "id": "cc7cda21"
    },
    {
      "cell_type": "code",
      "source": "print('Строк с полом \"XNA\" осталось',df[df['gender'] == 'XNA']['gender'].count().sum())",
      "metadata": {},
      "execution_count": 169,
      "outputs": [
        {
          "name": "stdout",
          "output_type": "stream",
          "text": "Строк с полом \"XNA\" осталось 0\n"
        }
      ],
      "id": "1159aeb0"
    },
    {
      "cell_type": "markdown",
      "source": "<b>Параметр №4 df['family_status']</b>",
      "metadata": {},
      "id": "b998a708"
    },
    {
      "cell_type": "code",
      "source": "print(df['family_status'].unique())\ngb = df.groupby('family_status')['income_type'].count()\ngb",
      "metadata": {},
      "execution_count": 170,
      "outputs": [
        {
          "name": "stdout",
          "output_type": "stream",
          "text": "['женат / замужем' 'гражданский брак' 'вдовец / вдова' 'в разводе'\n\n 'Не женат / не замужем']\n"
        },
        {
          "execution_count": 170,
          "output_type": "execute_result",
          "data": {
            "text/plain": [
              "family_status\n",
              "Не женат / не замужем     2804\n",
              "в разводе                 1193\n",
              "вдовец / вдова             956\n",
              "гражданский брак          4164\n",
              "женат / замужем          12331\n",
              "Name: income_type, dtype: int64"
            ]
          },
          "metadata": {}
        }
      ],
      "id": "01885a8e"
    },
    {
      "cell_type": "markdown",
      "source": "Аномалий не обнаружено.",
      "metadata": {},
      "id": "8460de27"
    },
    {
      "cell_type": "markdown",
      "source": "<b>Параметр №5 df['education']</b>",
      "metadata": {},
      "id": "5807fec3"
    },
    {
      "cell_type": "code",
      "source": "print('Cмотрим уникальные значения столбца\"education\"',df['education'].unique())",
      "metadata": {},
      "execution_count": 171,
      "outputs": [
        {
          "name": "stdout",
          "output_type": "stream",
          "text": "Cмотрим уникальные значения столбца\"education\" ['высшее' 'среднее' 'Среднее' 'СРЕДНЕЕ' 'ВЫСШЕЕ' 'неоконченное высшее'\n\n 'начальное' 'Высшее' 'НЕОКОНЧЕННОЕ ВЫСШЕЕ' 'Неоконченное высшее'\n\n 'НАЧАЛЬНОЕ' 'Начальное' 'Ученая степень' 'УЧЕНАЯ СТЕПЕНЬ'\n\n 'ученая степень']\n"
        }
      ],
      "id": "100e74ae"
    },
    {
      "cell_type": "markdown",
      "source": "Видим что в колонке есть значения записаные в разных регистрах, для удаления дубликатов необходимо привести все к одному регистру.",
      "metadata": {},
      "id": "168a4127"
    },
    {
      "cell_type": "code",
      "source": "df['education'] = df['education'].str.lower()",
      "metadata": {},
      "execution_count": 172,
      "outputs": [],
      "id": "bba42f33"
    },
    {
      "cell_type": "code",
      "source": "print('Вновь смотрим уникальные значения столбца\"education\"',df['education'].unique())",
      "metadata": {},
      "execution_count": 173,
      "outputs": [
        {
          "name": "stdout",
          "output_type": "stream",
          "text": "Вновь смотрим уникальные значения столбца\"education\" ['высшее' 'среднее' 'неоконченное высшее' 'начальное' 'ученая степень']\n"
        }
      ],
      "id": "4527ecbb"
    },
    {
      "cell_type": "markdown",
      "source": "### Шаг 2.3. Изменение типов данных.",
      "metadata": {
        "id": "0e0374f1"
      },
      "id": "0e0374f1"
    },
    {
      "cell_type": "code",
      "source": "df['days_employed'] = df['days_employed'].astype('int')\ndf['total_income'] = df['total_income'].astype('int')",
      "metadata": {
        "id": "f53907fc"
      },
      "execution_count": 174,
      "outputs": [],
      "id": "f53907fc"
    },
    {
      "cell_type": "markdown",
      "source": "### Шаг 2.4. Удаление дубликатов.",
      "metadata": {
        "id": "ca5b9d5f"
      },
      "id": "ca5b9d5f"
    },
    {
      "cell_type": "code",
      "source": "print('Колличество дубликатов до обработки',len(df)-len(df.drop_duplicates()))",
      "metadata": {},
      "execution_count": 175,
      "outputs": [
        {
          "name": "stdout",
          "output_type": "stream",
          "text": "Колличество дубликатов до обработки 71\n"
        }
      ],
      "id": "c3f86b99"
    },
    {
      "cell_type": "code",
      "source": "df = df.drop_duplicates().reset_index(drop=True)",
      "metadata": {},
      "execution_count": 176,
      "outputs": [],
      "id": "02ad5730"
    },
    {
      "cell_type": "code",
      "source": "print('Колличество дубликатов после обработки:',len(df)-len(df.drop_duplicates()))",
      "metadata": {},
      "execution_count": 177,
      "outputs": [
        {
          "name": "stdout",
          "output_type": "stream",
          "text": "Колличество дубликатов после обработки: 0\n"
        }
      ],
      "id": "d4762562"
    },
    {
      "cell_type": "markdown",
      "source": "### Шаг 2.5. Формирование дополнительных датафреймов словарей, декомпозиция исходного датафрейма.",
      "metadata": {
        "id": "bb7cdd25"
      },
      "id": "bb7cdd25"
    },
    {
      "cell_type": "code",
      "source": "print('Формируем дополнительные датафреймы')\neducation_cat = pd.DataFrame({'education': df['education'].unique(), 'education_id': df['education_id'].unique()})\nfamily_status_cat = pd.DataFrame({'family_status': df['family_status'].unique(), 'family_status_id': df['family_status_id'].unique()})\ndisplay(education_cat.head(10),family_status_cat.head(10))",
      "metadata": {
        "colab": {
          "base_uri": "https://localhost:8080/",
          "height": 741
        },
        "id": "1c38e1f5",
        "outputId": "ea2cab08-78b7-4a29-df68-740676c3287c"
      },
      "execution_count": 178,
      "outputs": [
        {
          "name": "stdout",
          "output_type": "stream",
          "text": "Формируем дополнительные датафреймы\n"
        },
        {
          "output_type": "display_data",
          "data": {
            "text/html": [
              "<div>\n",
              "<style scoped>\n",
              "    .dataframe tbody tr th:only-of-type {\n",
              "        vertical-align: middle;\n",
              "    }\n",
              "\n",
              "    .dataframe tbody tr th {\n",
              "        vertical-align: top;\n",
              "    }\n",
              "\n",
              "    .dataframe thead th {\n",
              "        text-align: right;\n",
              "    }\n",
              "</style>\n",
              "<table border=\"1\" class=\"dataframe\">\n",
              "  <thead>\n",
              "    <tr style=\"text-align: right;\">\n",
              "      <th></th>\n",
              "      <th>education</th>\n",
              "      <th>education_id</th>\n",
              "    </tr>\n",
              "  </thead>\n",
              "  <tbody>\n",
              "    <tr>\n",
              "      <th>0</th>\n",
              "      <td>высшее</td>\n",
              "      <td>0</td>\n",
              "    </tr>\n",
              "    <tr>\n",
              "      <th>1</th>\n",
              "      <td>среднее</td>\n",
              "      <td>1</td>\n",
              "    </tr>\n",
              "    <tr>\n",
              "      <th>2</th>\n",
              "      <td>неоконченное высшее</td>\n",
              "      <td>2</td>\n",
              "    </tr>\n",
              "    <tr>\n",
              "      <th>3</th>\n",
              "      <td>начальное</td>\n",
              "      <td>3</td>\n",
              "    </tr>\n",
              "    <tr>\n",
              "      <th>4</th>\n",
              "      <td>ученая степень</td>\n",
              "      <td>4</td>\n",
              "    </tr>\n",
              "  </tbody>\n",
              "</table>\n",
              "</div>"
            ],
            "text/plain": [
              "             education  education_id\n",
              "0               высшее             0\n",
              "1              среднее             1\n",
              "2  неоконченное высшее             2\n",
              "3            начальное             3\n",
              "4       ученая степень             4"
            ]
          },
          "metadata": {}
        },
        {
          "output_type": "display_data",
          "data": {
            "text/html": [
              "<div>\n",
              "<style scoped>\n",
              "    .dataframe tbody tr th:only-of-type {\n",
              "        vertical-align: middle;\n",
              "    }\n",
              "\n",
              "    .dataframe tbody tr th {\n",
              "        vertical-align: top;\n",
              "    }\n",
              "\n",
              "    .dataframe thead th {\n",
              "        text-align: right;\n",
              "    }\n",
              "</style>\n",
              "<table border=\"1\" class=\"dataframe\">\n",
              "  <thead>\n",
              "    <tr style=\"text-align: right;\">\n",
              "      <th></th>\n",
              "      <th>family_status</th>\n",
              "      <th>family_status_id</th>\n",
              "    </tr>\n",
              "  </thead>\n",
              "  <tbody>\n",
              "    <tr>\n",
              "      <th>0</th>\n",
              "      <td>женат / замужем</td>\n",
              "      <td>0</td>\n",
              "    </tr>\n",
              "    <tr>\n",
              "      <th>1</th>\n",
              "      <td>гражданский брак</td>\n",
              "      <td>1</td>\n",
              "    </tr>\n",
              "    <tr>\n",
              "      <th>2</th>\n",
              "      <td>вдовец / вдова</td>\n",
              "      <td>2</td>\n",
              "    </tr>\n",
              "    <tr>\n",
              "      <th>3</th>\n",
              "      <td>в разводе</td>\n",
              "      <td>3</td>\n",
              "    </tr>\n",
              "    <tr>\n",
              "      <th>4</th>\n",
              "      <td>Не женат / не замужем</td>\n",
              "      <td>4</td>\n",
              "    </tr>\n",
              "  </tbody>\n",
              "</table>\n",
              "</div>"
            ],
            "text/plain": [
              "           family_status  family_status_id\n",
              "0        женат / замужем                 0\n",
              "1       гражданский брак                 1\n",
              "2         вдовец / вдова                 2\n",
              "3              в разводе                 3\n",
              "4  Не женат / не замужем                 4"
            ]
          },
          "metadata": {}
        }
      ],
      "id": "1c38e1f5"
    },
    {
      "cell_type": "code",
      "source": "print('Удаляем лишнии колонки')\ndf = df.drop(columns=['education','family_status']) \ndisplay(df.head(10))",
      "metadata": {},
      "execution_count": 179,
      "outputs": [
        {
          "name": "stdout",
          "output_type": "stream",
          "text": "Удаляем лишнии колонки\n"
        },
        {
          "output_type": "display_data",
          "data": {
            "text/html": [
              "<div>\n",
              "<style scoped>\n",
              "    .dataframe tbody tr th:only-of-type {\n",
              "        vertical-align: middle;\n",
              "    }\n",
              "\n",
              "    .dataframe tbody tr th {\n",
              "        vertical-align: top;\n",
              "    }\n",
              "\n",
              "    .dataframe thead th {\n",
              "        text-align: right;\n",
              "    }\n",
              "</style>\n",
              "<table border=\"1\" class=\"dataframe\">\n",
              "  <thead>\n",
              "    <tr style=\"text-align: right;\">\n",
              "      <th></th>\n",
              "      <th>children</th>\n",
              "      <th>days_employed</th>\n",
              "      <th>dob_years</th>\n",
              "      <th>education_id</th>\n",
              "      <th>family_status_id</th>\n",
              "      <th>gender</th>\n",
              "      <th>income_type</th>\n",
              "      <th>debt</th>\n",
              "      <th>total_income</th>\n",
              "      <th>purpose</th>\n",
              "    </tr>\n",
              "  </thead>\n",
              "  <tbody>\n",
              "    <tr>\n",
              "      <th>0</th>\n",
              "      <td>1</td>\n",
              "      <td>8437</td>\n",
              "      <td>42</td>\n",
              "      <td>0</td>\n",
              "      <td>0</td>\n",
              "      <td>F</td>\n",
              "      <td>сотрудник</td>\n",
              "      <td>0</td>\n",
              "      <td>253875</td>\n",
              "      <td>покупка жилья</td>\n",
              "    </tr>\n",
              "    <tr>\n",
              "      <th>1</th>\n",
              "      <td>1</td>\n",
              "      <td>4024</td>\n",
              "      <td>36</td>\n",
              "      <td>1</td>\n",
              "      <td>0</td>\n",
              "      <td>F</td>\n",
              "      <td>сотрудник</td>\n",
              "      <td>0</td>\n",
              "      <td>112080</td>\n",
              "      <td>приобретение автомобиля</td>\n",
              "    </tr>\n",
              "    <tr>\n",
              "      <th>2</th>\n",
              "      <td>0</td>\n",
              "      <td>5623</td>\n",
              "      <td>33</td>\n",
              "      <td>1</td>\n",
              "      <td>0</td>\n",
              "      <td>M</td>\n",
              "      <td>сотрудник</td>\n",
              "      <td>0</td>\n",
              "      <td>145885</td>\n",
              "      <td>покупка жилья</td>\n",
              "    </tr>\n",
              "    <tr>\n",
              "      <th>3</th>\n",
              "      <td>3</td>\n",
              "      <td>4124</td>\n",
              "      <td>32</td>\n",
              "      <td>1</td>\n",
              "      <td>0</td>\n",
              "      <td>M</td>\n",
              "      <td>сотрудник</td>\n",
              "      <td>0</td>\n",
              "      <td>267628</td>\n",
              "      <td>дополнительное образование</td>\n",
              "    </tr>\n",
              "    <tr>\n",
              "      <th>4</th>\n",
              "      <td>0</td>\n",
              "      <td>340266</td>\n",
              "      <td>53</td>\n",
              "      <td>1</td>\n",
              "      <td>1</td>\n",
              "      <td>F</td>\n",
              "      <td>пенсионер</td>\n",
              "      <td>0</td>\n",
              "      <td>158616</td>\n",
              "      <td>сыграть свадьбу</td>\n",
              "    </tr>\n",
              "    <tr>\n",
              "      <th>5</th>\n",
              "      <td>0</td>\n",
              "      <td>926</td>\n",
              "      <td>27</td>\n",
              "      <td>0</td>\n",
              "      <td>1</td>\n",
              "      <td>M</td>\n",
              "      <td>компаньон</td>\n",
              "      <td>0</td>\n",
              "      <td>255763</td>\n",
              "      <td>покупка жилья</td>\n",
              "    </tr>\n",
              "    <tr>\n",
              "      <th>6</th>\n",
              "      <td>0</td>\n",
              "      <td>2879</td>\n",
              "      <td>43</td>\n",
              "      <td>0</td>\n",
              "      <td>0</td>\n",
              "      <td>F</td>\n",
              "      <td>компаньон</td>\n",
              "      <td>0</td>\n",
              "      <td>240525</td>\n",
              "      <td>операции с жильем</td>\n",
              "    </tr>\n",
              "    <tr>\n",
              "      <th>7</th>\n",
              "      <td>0</td>\n",
              "      <td>152</td>\n",
              "      <td>50</td>\n",
              "      <td>1</td>\n",
              "      <td>0</td>\n",
              "      <td>M</td>\n",
              "      <td>сотрудник</td>\n",
              "      <td>0</td>\n",
              "      <td>135823</td>\n",
              "      <td>образование</td>\n",
              "    </tr>\n",
              "    <tr>\n",
              "      <th>8</th>\n",
              "      <td>2</td>\n",
              "      <td>6929</td>\n",
              "      <td>35</td>\n",
              "      <td>0</td>\n",
              "      <td>1</td>\n",
              "      <td>F</td>\n",
              "      <td>сотрудник</td>\n",
              "      <td>0</td>\n",
              "      <td>95856</td>\n",
              "      <td>на проведение свадьбы</td>\n",
              "    </tr>\n",
              "    <tr>\n",
              "      <th>9</th>\n",
              "      <td>0</td>\n",
              "      <td>2188</td>\n",
              "      <td>41</td>\n",
              "      <td>1</td>\n",
              "      <td>0</td>\n",
              "      <td>M</td>\n",
              "      <td>сотрудник</td>\n",
              "      <td>0</td>\n",
              "      <td>144425</td>\n",
              "      <td>покупка жилья для семьи</td>\n",
              "    </tr>\n",
              "  </tbody>\n",
              "</table>\n",
              "</div>"
            ],
            "text/plain": [
              "   children  days_employed  dob_years  education_id  family_status_id gender  \\\n",
              "0         1           8437         42             0                 0      F   \n",
              "1         1           4024         36             1                 0      F   \n",
              "2         0           5623         33             1                 0      M   \n",
              "3         3           4124         32             1                 0      M   \n",
              "4         0         340266         53             1                 1      F   \n",
              "5         0            926         27             0                 1      M   \n",
              "6         0           2879         43             0                 0      F   \n",
              "7         0            152         50             1                 0      M   \n",
              "8         2           6929         35             0                 1      F   \n",
              "9         0           2188         41             1                 0      M   \n",
              "\n",
              "  income_type  debt  total_income                     purpose  \n",
              "0   сотрудник     0        253875               покупка жилья  \n",
              "1   сотрудник     0        112080     приобретение автомобиля  \n",
              "2   сотрудник     0        145885               покупка жилья  \n",
              "3   сотрудник     0        267628  дополнительное образование  \n",
              "4   пенсионер     0        158616             сыграть свадьбу  \n",
              "5   компаньон     0        255763               покупка жилья  \n",
              "6   компаньон     0        240525           операции с жильем  \n",
              "7   сотрудник     0        135823                 образование  \n",
              "8   сотрудник     0         95856       на проведение свадьбы  \n",
              "9   сотрудник     0        144425     покупка жилья для семьи  "
            ]
          },
          "metadata": {}
        }
      ],
      "id": "0a3b591a"
    },
    {
      "cell_type": "markdown",
      "source": "### Шаг 2.6. Категоризация дохода.",
      "metadata": {
        "id": "cf70aa74"
      },
      "id": "cf70aa74"
    },
    {
      "cell_type": "code",
      "source": "df.loc[(df['total_income']<=30000,'total_income_category')] = 'E'\ndf.loc[(df['total_income']>=30001)&(df['total_income']<=50000),'total_income_category'] = 'D'\ndf.loc[(df['total_income']>=50001)&(df['total_income']<=200000),'total_income_category'] = 'C'\ndf.loc[(df['total_income']>=200001)&(df['total_income']<=1000000),'total_income_category'] = 'B'\ndf.loc[(df['total_income']>=1000001),'total_income_category'] = 'A'\nprint('Категории дохода \"total_income_category\":',df['total_income_category'].sort_values().unique())\ndisplay(df)",
      "metadata": {
        "colab": {
          "base_uri": "https://localhost:8080/",
          "height": 223
        },
        "id": "4a99dbfb",
        "outputId": "48bdf5cf-6868-4067-8f47-cd86930feef2"
      },
      "execution_count": 180,
      "outputs": [
        {
          "name": "stdout",
          "output_type": "stream",
          "text": "Категории дохода \"total_income_category\": ['A' 'B' 'C' 'D' 'E']\n"
        },
        {
          "output_type": "display_data",
          "data": {
            "text/html": [
              "<div>\n",
              "<style scoped>\n",
              "    .dataframe tbody tr th:only-of-type {\n",
              "        vertical-align: middle;\n",
              "    }\n",
              "\n",
              "    .dataframe tbody tr th {\n",
              "        vertical-align: top;\n",
              "    }\n",
              "\n",
              "    .dataframe thead th {\n",
              "        text-align: right;\n",
              "    }\n",
              "</style>\n",
              "<table border=\"1\" class=\"dataframe\">\n",
              "  <thead>\n",
              "    <tr style=\"text-align: right;\">\n",
              "      <th></th>\n",
              "      <th>children</th>\n",
              "      <th>days_employed</th>\n",
              "      <th>dob_years</th>\n",
              "      <th>education_id</th>\n",
              "      <th>family_status_id</th>\n",
              "      <th>gender</th>\n",
              "      <th>income_type</th>\n",
              "      <th>debt</th>\n",
              "      <th>total_income</th>\n",
              "      <th>purpose</th>\n",
              "      <th>total_income_category</th>\n",
              "    </tr>\n",
              "  </thead>\n",
              "  <tbody>\n",
              "    <tr>\n",
              "      <th>0</th>\n",
              "      <td>1</td>\n",
              "      <td>8437</td>\n",
              "      <td>42</td>\n",
              "      <td>0</td>\n",
              "      <td>0</td>\n",
              "      <td>F</td>\n",
              "      <td>сотрудник</td>\n",
              "      <td>0</td>\n",
              "      <td>253875</td>\n",
              "      <td>покупка жилья</td>\n",
              "      <td>B</td>\n",
              "    </tr>\n",
              "    <tr>\n",
              "      <th>1</th>\n",
              "      <td>1</td>\n",
              "      <td>4024</td>\n",
              "      <td>36</td>\n",
              "      <td>1</td>\n",
              "      <td>0</td>\n",
              "      <td>F</td>\n",
              "      <td>сотрудник</td>\n",
              "      <td>0</td>\n",
              "      <td>112080</td>\n",
              "      <td>приобретение автомобиля</td>\n",
              "      <td>C</td>\n",
              "    </tr>\n",
              "    <tr>\n",
              "      <th>2</th>\n",
              "      <td>0</td>\n",
              "      <td>5623</td>\n",
              "      <td>33</td>\n",
              "      <td>1</td>\n",
              "      <td>0</td>\n",
              "      <td>M</td>\n",
              "      <td>сотрудник</td>\n",
              "      <td>0</td>\n",
              "      <td>145885</td>\n",
              "      <td>покупка жилья</td>\n",
              "      <td>C</td>\n",
              "    </tr>\n",
              "    <tr>\n",
              "      <th>3</th>\n",
              "      <td>3</td>\n",
              "      <td>4124</td>\n",
              "      <td>32</td>\n",
              "      <td>1</td>\n",
              "      <td>0</td>\n",
              "      <td>M</td>\n",
              "      <td>сотрудник</td>\n",
              "      <td>0</td>\n",
              "      <td>267628</td>\n",
              "      <td>дополнительное образование</td>\n",
              "      <td>B</td>\n",
              "    </tr>\n",
              "    <tr>\n",
              "      <th>4</th>\n",
              "      <td>0</td>\n",
              "      <td>340266</td>\n",
              "      <td>53</td>\n",
              "      <td>1</td>\n",
              "      <td>1</td>\n",
              "      <td>F</td>\n",
              "      <td>пенсионер</td>\n",
              "      <td>0</td>\n",
              "      <td>158616</td>\n",
              "      <td>сыграть свадьбу</td>\n",
              "      <td>C</td>\n",
              "    </tr>\n",
              "    <tr>\n",
              "      <th>...</th>\n",
              "      <td>...</td>\n",
              "      <td>...</td>\n",
              "      <td>...</td>\n",
              "      <td>...</td>\n",
              "      <td>...</td>\n",
              "      <td>...</td>\n",
              "      <td>...</td>\n",
              "      <td>...</td>\n",
              "      <td>...</td>\n",
              "      <td>...</td>\n",
              "      <td>...</td>\n",
              "    </tr>\n",
              "    <tr>\n",
              "      <th>21372</th>\n",
              "      <td>1</td>\n",
              "      <td>4529</td>\n",
              "      <td>43</td>\n",
              "      <td>1</td>\n",
              "      <td>1</td>\n",
              "      <td>F</td>\n",
              "      <td>компаньон</td>\n",
              "      <td>0</td>\n",
              "      <td>224791</td>\n",
              "      <td>операции с жильем</td>\n",
              "      <td>B</td>\n",
              "    </tr>\n",
              "    <tr>\n",
              "      <th>21373</th>\n",
              "      <td>0</td>\n",
              "      <td>343937</td>\n",
              "      <td>67</td>\n",
              "      <td>1</td>\n",
              "      <td>0</td>\n",
              "      <td>F</td>\n",
              "      <td>пенсионер</td>\n",
              "      <td>0</td>\n",
              "      <td>155999</td>\n",
              "      <td>сделка с автомобилем</td>\n",
              "      <td>C</td>\n",
              "    </tr>\n",
              "    <tr>\n",
              "      <th>21374</th>\n",
              "      <td>1</td>\n",
              "      <td>2113</td>\n",
              "      <td>38</td>\n",
              "      <td>1</td>\n",
              "      <td>1</td>\n",
              "      <td>M</td>\n",
              "      <td>сотрудник</td>\n",
              "      <td>1</td>\n",
              "      <td>89672</td>\n",
              "      <td>недвижимость</td>\n",
              "      <td>C</td>\n",
              "    </tr>\n",
              "    <tr>\n",
              "      <th>21375</th>\n",
              "      <td>3</td>\n",
              "      <td>3112</td>\n",
              "      <td>38</td>\n",
              "      <td>1</td>\n",
              "      <td>0</td>\n",
              "      <td>M</td>\n",
              "      <td>сотрудник</td>\n",
              "      <td>1</td>\n",
              "      <td>244093</td>\n",
              "      <td>на покупку своего автомобиля</td>\n",
              "      <td>B</td>\n",
              "    </tr>\n",
              "    <tr>\n",
              "      <th>21376</th>\n",
              "      <td>2</td>\n",
              "      <td>1984</td>\n",
              "      <td>40</td>\n",
              "      <td>1</td>\n",
              "      <td>0</td>\n",
              "      <td>F</td>\n",
              "      <td>сотрудник</td>\n",
              "      <td>0</td>\n",
              "      <td>82047</td>\n",
              "      <td>на покупку автомобиля</td>\n",
              "      <td>C</td>\n",
              "    </tr>\n",
              "  </tbody>\n",
              "</table>\n",
              "<p>21377 rows × 11 columns</p>\n",
              "</div>"
            ],
            "text/plain": [
              "       children  days_employed  dob_years  education_id  family_status_id  \\\n",
              "0             1           8437         42             0                 0   \n",
              "1             1           4024         36             1                 0   \n",
              "2             0           5623         33             1                 0   \n",
              "3             3           4124         32             1                 0   \n",
              "4             0         340266         53             1                 1   \n",
              "...         ...            ...        ...           ...               ...   \n",
              "21372         1           4529         43             1                 1   \n",
              "21373         0         343937         67             1                 0   \n",
              "21374         1           2113         38             1                 1   \n",
              "21375         3           3112         38             1                 0   \n",
              "21376         2           1984         40             1                 0   \n",
              "\n",
              "      gender income_type  debt  total_income                       purpose  \\\n",
              "0          F   сотрудник     0        253875                 покупка жилья   \n",
              "1          F   сотрудник     0        112080       приобретение автомобиля   \n",
              "2          M   сотрудник     0        145885                 покупка жилья   \n",
              "3          M   сотрудник     0        267628    дополнительное образование   \n",
              "4          F   пенсионер     0        158616               сыграть свадьбу   \n",
              "...      ...         ...   ...           ...                           ...   \n",
              "21372      F   компаньон     0        224791             операции с жильем   \n",
              "21373      F   пенсионер     0        155999          сделка с автомобилем   \n",
              "21374      M   сотрудник     1         89672                  недвижимость   \n",
              "21375      M   сотрудник     1        244093  на покупку своего автомобиля   \n",
              "21376      F   сотрудник     0         82047         на покупку автомобиля   \n",
              "\n",
              "      total_income_category  \n",
              "0                         B  \n",
              "1                         C  \n",
              "2                         C  \n",
              "3                         B  \n",
              "4                         C  \n",
              "...                     ...  \n",
              "21372                     B  \n",
              "21373                     C  \n",
              "21374                     C  \n",
              "21375                     B  \n",
              "21376                     C  \n",
              "\n",
              "[21377 rows x 11 columns]"
            ]
          },
          "metadata": {}
        }
      ],
      "id": "4a99dbfb"
    },
    {
      "cell_type": "markdown",
      "source": "### Шаг 2.7. Категоризация целей кредита.",
      "metadata": {
        "id": "4cbb99fc"
      },
      "id": "4cbb99fc"
    },
    {
      "cell_type": "code",
      "source": "print('Сортируем и смотрим все возможные значения колонки \"purpose\"',sorted(df['purpose'].unique()),'\\n')",
      "metadata": {
        "colab": {
          "base_uri": "https://localhost:8080/",
          "height": 295
        },
        "id": "mGo8_Os4LIXl",
        "outputId": "4c2740e2-10be-4a41-b18e-062f4a73ebe4"
      },
      "execution_count": 181,
      "outputs": [
        {
          "name": "stdout",
          "output_type": "stream",
          "text": "Сортируем и смотрим все возможные значения колонки \"purpose\" ['автомобили', 'автомобиль', 'высшее образование', 'дополнительное образование', 'жилье', 'заняться высшим образованием', 'заняться образованием', 'на покупку автомобиля', 'на покупку подержанного автомобиля', 'на покупку своего автомобиля', 'на проведение свадьбы', 'недвижимость', 'образование', 'операции с жильем', 'операции с коммерческой недвижимостью', 'операции с недвижимостью', 'операции со своей недвижимостью', 'покупка жилой недвижимости', 'покупка жилья', 'покупка жилья для сдачи', 'покупка жилья для семьи', 'покупка коммерческой недвижимости', 'покупка недвижимости', 'покупка своего жилья', 'получение высшего образования', 'получение дополнительного образования', 'получение образования', 'приобретение автомобиля', 'профильное образование', 'ремонт жилью', 'свадьба', 'свой автомобиль', 'сделка с автомобилем', 'сделка с подержанным автомобилем', 'строительство жилой недвижимости', 'строительство недвижимости', 'строительство собственной недвижимости', 'сыграть свадьбу'] \n\n\n"
        }
      ],
      "id": "mGo8_Os4LIXl"
    },
    {
      "cell_type": "markdown",
      "source": "Из уникальных значений видим что многие цели повторяются просто по разному записаны, по этому категоризируем их объеденив их 4 разных категории.",
      "metadata": {},
      "id": "27691d7f"
    },
    {
      "cell_type": "code",
      "source": "df.loc[df['purpose'].str.contains('автомобил', case=False), 'purpose_category'] = 'операции с автомобилем'\ndf.loc[df['purpose'].str.contains('образован', case=False), 'purpose_category'] = 'получение образования'\ndf.loc[df['purpose'].str.contains('недвижимос|жиль', case=False), 'purpose_category'] = 'операции с недвижимостью'\ndf.loc[df['purpose'].str.contains('свадьб', case=False), 'purpose_category'] = 'проведение свадьбы'",
      "metadata": {},
      "execution_count": 182,
      "outputs": [],
      "id": "4042443b"
    },
    {
      "cell_type": "code",
      "source": "print('После обработки получаем следующие категории дохода:',df['purpose_category'].sort_values().unique())",
      "metadata": {},
      "execution_count": 183,
      "outputs": [
        {
          "name": "stdout",
          "output_type": "stream",
          "text": "После обработки получаем следующие категории дохода: ['операции с автомобилем' 'операции с недвижимостью'\n\n 'получение образования' 'проведение свадьбы']\n"
        }
      ],
      "id": "8287e937"
    },
    {
      "cell_type": "markdown",
      "source": "### Ответы на вопросы.",
      "metadata": {
        "id": "e33d094c"
      },
      "id": "e33d094c"
    },
    {
      "cell_type": "markdown",
      "source": "##### Вопрос 1: Есть ли зависимость между количеством детей и возвратом кредита в срок?  -",
      "metadata": {
        "id": "eec79f9f"
      },
      "id": "eec79f9f"
    },
    {
      "cell_type": "code",
      "source": "pivot_table = df.pivot_table(index='children', columns='debt',aggfunc='size',fill_value = 0)\npivot_table = pivot_table.rename(columns = {0:'Без задолжности %',1:'C задолжностью %'})\npivot_table['Всего'] = pivot_table['Без задолжности %'] + pivot_table['C задолжностью %'] \npivot_table['Без задолжности %'] = pd.to_numeric((pivot_table['Без задолжности %'] / pivot_table['Всего']) * 100).astype(float).round(1) \npivot_table['C задолжностью %'] = pd.to_numeric((pivot_table['C задолжностью %'] / pivot_table['Всего']) * 100).astype(float).round(1) \npivot_table = pivot_table.sort_values('children', ascending=True)\npivot_table.plot(use_index=True, y=['C задолжностью %'],kind='bar',figsize=(15, 5),sort_columns=True)\ndisplay(pivot_table)\n",
      "metadata": {
        "colab": {
          "base_uri": "https://localhost:8080/",
          "height": 582
        },
        "id": "gOdGqHUd0ujR",
        "outputId": "f64acb1c-536c-49d9-c3f1-eddf4805b90b"
      },
      "execution_count": 184,
      "outputs": [
        {
          "output_type": "display_data",
          "data": {
            "text/html": [
              "<div>\n",
              "<style scoped>\n",
              "    .dataframe tbody tr th:only-of-type {\n",
              "        vertical-align: middle;\n",
              "    }\n",
              "\n",
              "    .dataframe tbody tr th {\n",
              "        vertical-align: top;\n",
              "    }\n",
              "\n",
              "    .dataframe thead th {\n",
              "        text-align: right;\n",
              "    }\n",
              "</style>\n",
              "<table border=\"1\" class=\"dataframe\">\n",
              "  <thead>\n",
              "    <tr style=\"text-align: right;\">\n",
              "      <th>debt</th>\n",
              "      <th>Без задолжности %</th>\n",
              "      <th>C задолжностью %</th>\n",
              "      <th>Всего</th>\n",
              "    </tr>\n",
              "    <tr>\n",
              "      <th>children</th>\n",
              "      <th></th>\n",
              "      <th></th>\n",
              "      <th></th>\n",
              "    </tr>\n",
              "  </thead>\n",
              "  <tbody>\n",
              "    <tr>\n",
              "      <th>0</th>\n",
              "      <td>92.5</td>\n",
              "      <td>7.5</td>\n",
              "      <td>14090</td>\n",
              "    </tr>\n",
              "    <tr>\n",
              "      <th>1</th>\n",
              "      <td>90.8</td>\n",
              "      <td>9.2</td>\n",
              "      <td>4855</td>\n",
              "    </tr>\n",
              "    <tr>\n",
              "      <th>2</th>\n",
              "      <td>90.5</td>\n",
              "      <td>9.5</td>\n",
              "      <td>2052</td>\n",
              "    </tr>\n",
              "    <tr>\n",
              "      <th>3</th>\n",
              "      <td>91.8</td>\n",
              "      <td>8.2</td>\n",
              "      <td>330</td>\n",
              "    </tr>\n",
              "    <tr>\n",
              "      <th>4</th>\n",
              "      <td>90.2</td>\n",
              "      <td>9.8</td>\n",
              "      <td>41</td>\n",
              "    </tr>\n",
              "    <tr>\n",
              "      <th>5</th>\n",
              "      <td>100.0</td>\n",
              "      <td>0.0</td>\n",
              "      <td>9</td>\n",
              "    </tr>\n",
              "  </tbody>\n",
              "</table>\n",
              "</div>"
            ],
            "text/plain": [
              "debt      Без задолжности %  C задолжностью %  Всего\n",
              "children                                            \n",
              "0                      92.5               7.5  14090\n",
              "1                      90.8               9.2   4855\n",
              "2                      90.5               9.5   2052\n",
              "3                      91.8               8.2    330\n",
              "4                      90.2               9.8     41\n",
              "5                     100.0               0.0      9"
            ]
          },
          "metadata": {}
        },
        {
          "output_type": "display_data",
          "data": {
            "image/png": "[encoded data removed]",
            "text/plain": [
              "<Figure size 1080x360 with 1 Axes>"
            ]
          },
          "metadata": {
            "needs_background": "light"
          }
        }
      ],
      "id": "gOdGqHUd0ujR"
    },
    {
      "cell_type": "markdown",
      "source": "Таблица pivot_table - показывает чем больше детей тем меньше желающих взять кредит и просрочить его, если судить по колличеству людей которое резко уменьшается после появления очередного ребёнка. \nИнтересен тот факт что люди с 3мя детьми реже просрочивают кредиты чем те  у кого 1 или 2 ребёнка, но скорее всего это связано с колличеством таких людей. В целом дети повышают шанс невыплаты кредита на 1,6% судя по разнице в проценте между наличием и отсутвием ребёнка. В среднем задолжность у всех у кого есть дети 9.1%, у кого их нет 7,5%  7.5-9.1 = 1.6%.",
      "metadata": {
        "id": "c3c8d9df"
      },
      "id": "c3c8d9df"
    },
    {
      "cell_type": "markdown",
      "source": "Вывод о том что чем больше детей тем меньше желающих взять кредит исходит от уменьшения количества строк в колонке \"всего\" тобиш самих людей. Только самые отчаенные будут брать кредиты когда у них больше 2 ребёнка. Так как это доп расходы. Соответвено об этом и говорит колонка потому что таких людей очень мало. А если они и есть то у них самый большой % невозврата 9.8%. При любом количестве детей % невозврата в любом случае выше чем без детей.",
      "metadata": {},
      "id": "9fead479-e8dc-455a-994f-9e50d5524ebd"
    },
    {
      "cell_type": "markdown",
      "source": "##### Вопрос 2: Есть ли зависимость между семейным положением и возвратом кредита в срок?",
      "metadata": {
        "id": "cc201b03"
      },
      "id": "cc201b03"
    },
    {
      "cell_type": "code",
      "source": "\npivot_table = df.pivot_table(index='family_status_id', columns='debt',aggfunc='size',fill_value = 0)\npivot_table = pivot_table.merge(family_status_cat,on='family_status_id')\npivot_table = pivot_table.rename(columns = {0:'Без задолжности %',1:'C задолжностью %'})\npivot_table['Всего'] = pivot_table['Без задолжности %'] + pivot_table['C задолжностью %'] \npivot_table['Без задолжности %'] = pd.to_numeric((pivot_table['Без задолжности %'] / pivot_table['Всего']) * 100).astype(float).round(1) \npivot_table['C задолжностью %'] = pd.to_numeric((pivot_table['C задолжностью %'] / pivot_table['Всего']) * 100).astype(float).round(1)\npivot_table = pivot_table.sort_values('C задолжностью %', ascending=True) \npivot_table.plot(x ='family_status', y=['C задолжностью %'],kind='bar',figsize=(15, 5),)\ndisplay(pivot_table)\n",
      "metadata": {
        "colab": {
          "base_uri": "https://localhost:8080/",
          "height": 637
        },
        "id": "04befd30",
        "outputId": "017baad6-a0d4-4cea-cbe9-42d74a96e504"
      },
      "execution_count": 185,
      "outputs": [
        {
          "output_type": "display_data",
          "data": {
            "text/html": [
              "<div>\n",
              "<style scoped>\n",
              "    .dataframe tbody tr th:only-of-type {\n",
              "        vertical-align: middle;\n",
              "    }\n",
              "\n",
              "    .dataframe tbody tr th {\n",
              "        vertical-align: top;\n",
              "    }\n",
              "\n",
              "    .dataframe thead th {\n",
              "        text-align: right;\n",
              "    }\n",
              "</style>\n",
              "<table border=\"1\" class=\"dataframe\">\n",
              "  <thead>\n",
              "    <tr style=\"text-align: right;\">\n",
              "      <th></th>\n",
              "      <th>family_status_id</th>\n",
              "      <th>Без задолжности %</th>\n",
              "      <th>C задолжностью %</th>\n",
              "      <th>family_status</th>\n",
              "      <th>Всего</th>\n",
              "    </tr>\n",
              "  </thead>\n",
              "  <tbody>\n",
              "    <tr>\n",
              "      <th>2</th>\n",
              "      <td>2</td>\n",
              "      <td>93.4</td>\n",
              "      <td>6.6</td>\n",
              "      <td>вдовец / вдова</td>\n",
              "      <td>955</td>\n",
              "    </tr>\n",
              "    <tr>\n",
              "      <th>3</th>\n",
              "      <td>3</td>\n",
              "      <td>93.0</td>\n",
              "      <td>7.0</td>\n",
              "      <td>в разводе</td>\n",
              "      <td>1193</td>\n",
              "    </tr>\n",
              "    <tr>\n",
              "      <th>0</th>\n",
              "      <td>0</td>\n",
              "      <td>92.4</td>\n",
              "      <td>7.6</td>\n",
              "      <td>женат / замужем</td>\n",
              "      <td>12290</td>\n",
              "    </tr>\n",
              "    <tr>\n",
              "      <th>1</th>\n",
              "      <td>1</td>\n",
              "      <td>90.7</td>\n",
              "      <td>9.3</td>\n",
              "      <td>гражданский брак</td>\n",
              "      <td>4138</td>\n",
              "    </tr>\n",
              "    <tr>\n",
              "      <th>4</th>\n",
              "      <td>4</td>\n",
              "      <td>90.3</td>\n",
              "      <td>9.7</td>\n",
              "      <td>Не женат / не замужем</td>\n",
              "      <td>2801</td>\n",
              "    </tr>\n",
              "  </tbody>\n",
              "</table>\n",
              "</div>"
            ],
            "text/plain": [
              "   family_status_id  Без задолжности %  C задолжностью %  \\\n",
              "2                 2               93.4               6.6   \n",
              "3                 3               93.0               7.0   \n",
              "0                 0               92.4               7.6   \n",
              "1                 1               90.7               9.3   \n",
              "4                 4               90.3               9.7   \n",
              "\n",
              "           family_status  Всего  \n",
              "2         вдовец / вдова    955  \n",
              "3              в разводе   1193  \n",
              "0        женат / замужем  12290  \n",
              "1       гражданский брак   4138  \n",
              "4  Не женат / не замужем   2801  "
            ]
          },
          "metadata": {}
        },
        {
          "output_type": "display_data",
          "data": {
            "image/png": "[encoded data removed]",
            "text/plain": [
              "<Figure size 1080x360 with 1 Axes>"
            ]
          },
          "metadata": {
            "needs_background": "light"
          }
        }
      ],
      "id": "04befd30"
    },
    {
      "cell_type": "markdown",
      "source": "Все тоже самое. Данные не сильно отличаются во всех категориях. Зависимости нет. В категории вдовец / вдова\tменьше всего должников. в Не женат / не замужем\tбольше всего людей с задолжностью.\nДанные отфильтрованы по % с должниками.",
      "metadata": {
        "id": "14fa290e"
      },
      "id": "14fa290e"
    },
    {
      "cell_type": "markdown",
      "source": "##### Вопрос 3: Есть ли зависимость между уровнем дохода и возвратом кредита в срок?\n\n0–30000 — 'E';\n30001–50000 — 'D';\n50001–200000 — 'C';\n200001–1000000 — 'B';\n1000001 и выше — 'A'.",
      "metadata": {
        "id": "e0c584ef"
      },
      "id": "e0c584ef"
    },
    {
      "cell_type": "code",
      "source": "pivot_table = df.pivot_table(index='total_income_category', columns='debt',aggfunc='size',fill_value = 0)\npivot_table = pivot_table.rename(columns = {0:'Без задолжности %',1:'C задолжностью %'})\npivot_table['Всего'] = pivot_table['Без задолжности %'] + pivot_table['C задолжностью %'] \npivot_table['Без задолжности %'] = pd.to_numeric((pivot_table['Без задолжности %'] / pivot_table['Всего']) * 100).astype(float).round(1) \npivot_table['C задолжностью %'] = pd.to_numeric((pivot_table['C задолжностью %'] / pivot_table['Всего']) * 100).astype(float).round(1) \npivot_table = pivot_table.sort_values('C задолжностью %', ascending=True)\npivot_table.plot(use_index=True,y=[1],kind='bar',figsize=(15, 5), legend=True)\ndisplay(pivot_table)",
      "metadata": {
        "colab": {
          "base_uri": "https://localhost:8080/",
          "height": 553
        },
        "id": "32327929",
        "outputId": "e6643190-be30-43c8-d741-20191f138d70"
      },
      "execution_count": 186,
      "outputs": [
        {
          "output_type": "display_data",
          "data": {
            "text/html": [
              "<div>\n",
              "<style scoped>\n",
              "    .dataframe tbody tr th:only-of-type {\n",
              "        vertical-align: middle;\n",
              "    }\n",
              "\n",
              "    .dataframe tbody tr th {\n",
              "        vertical-align: top;\n",
              "    }\n",
              "\n",
              "    .dataframe thead th {\n",
              "        text-align: right;\n",
              "    }\n",
              "</style>\n",
              "<table border=\"1\" class=\"dataframe\">\n",
              "  <thead>\n",
              "    <tr style=\"text-align: right;\">\n",
              "      <th>debt</th>\n",
              "      <th>Без задолжности %</th>\n",
              "      <th>C задолжностью %</th>\n",
              "      <th>Всего</th>\n",
              "    </tr>\n",
              "    <tr>\n",
              "      <th>total_income_category</th>\n",
              "      <th></th>\n",
              "      <th></th>\n",
              "      <th></th>\n",
              "    </tr>\n",
              "  </thead>\n",
              "  <tbody>\n",
              "    <tr>\n",
              "      <th>D</th>\n",
              "      <td>94.0</td>\n",
              "      <td>6.0</td>\n",
              "      <td>350</td>\n",
              "    </tr>\n",
              "    <tr>\n",
              "      <th>B</th>\n",
              "      <td>92.9</td>\n",
              "      <td>7.1</td>\n",
              "      <td>5020</td>\n",
              "    </tr>\n",
              "    <tr>\n",
              "      <th>A</th>\n",
              "      <td>92.0</td>\n",
              "      <td>8.0</td>\n",
              "      <td>25</td>\n",
              "    </tr>\n",
              "    <tr>\n",
              "      <th>C</th>\n",
              "      <td>91.5</td>\n",
              "      <td>8.5</td>\n",
              "      <td>15960</td>\n",
              "    </tr>\n",
              "    <tr>\n",
              "      <th>E</th>\n",
              "      <td>90.9</td>\n",
              "      <td>9.1</td>\n",
              "      <td>22</td>\n",
              "    </tr>\n",
              "  </tbody>\n",
              "</table>\n",
              "</div>"
            ],
            "text/plain": [
              "debt                   Без задолжности %  C задолжностью %  Всего\n",
              "total_income_category                                            \n",
              "D                                   94.0               6.0    350\n",
              "B                                   92.9               7.1   5020\n",
              "A                                   92.0               8.0     25\n",
              "C                                   91.5               8.5  15960\n",
              "E                                   90.9               9.1     22"
            ]
          },
          "metadata": {}
        },
        {
          "output_type": "display_data",
          "data": {
            "image/png": "[encoded data removed]",
            "text/plain": [
              "<Figure size 1080x360 with 1 Axes>"
            ]
          },
          "metadata": {
            "needs_background": "light"
          }
        }
      ],
      "id": "32327929"
    },
    {
      "cell_type": "markdown",
      "source": "У категории 'A' и 'E' практически одинаковое соотношение.\nЗависимости нет. Богатым(А) почти настолько же не нужен кредит как бедным (E). Самый низкий процент должников в категории D.",
      "metadata": {
        "id": "de498253"
      },
      "id": "de498253"
    },
    {
      "cell_type": "markdown",
      "source": "##### Вопрос 3: Как разные цели кредита влияют на его возврат в срок?\n",
      "metadata": {
        "id": "4dbe5bd6"
      },
      "id": "4dbe5bd6"
    },
    {
      "cell_type": "code",
      "source": "pivot_table = df.pivot_table(index='purpose_category', columns='debt',aggfunc='size',fill_value = 0)\npivot_table = pivot_table.rename(columns = {0:'Без задолжности %',1:'C задолжностью %'})\npivot_table['total'] = pivot_table['Без задолжности %'] + pivot_table['C задолжностью %'] \npivot_table['Без задолжности %'] = pd.to_numeric((pivot_table['Без задолжности %'] / pivot_table['total']) * 100).astype(float).round(1) \npivot_table['C задолжностью %'] = pd.to_numeric((pivot_table['C задолжностью %'] / pivot_table['total']) * 100).astype(float).round(1) \npivot_table = pivot_table.sort_values('C задолжностью %', ascending=True)\npivot_table.plot(use_index=True, y=['C задолжностью %'],kind='bar',figsize=(15, 5))\ndisplay(pivot_table)",
      "metadata": {
        "colab": {
          "base_uri": "https://localhost:8080/",
          "height": 662
        },
        "id": "3c27a9ba",
        "outputId": "71144663-c219-464f-df2f-bf3aeaab96e9"
      },
      "execution_count": 187,
      "outputs": [
        {
          "output_type": "display_data",
          "data": {
            "text/html": [
              "<div>\n",
              "<style scoped>\n",
              "    .dataframe tbody tr th:only-of-type {\n",
              "        vertical-align: middle;\n",
              "    }\n",
              "\n",
              "    .dataframe tbody tr th {\n",
              "        vertical-align: top;\n",
              "    }\n",
              "\n",
              "    .dataframe thead th {\n",
              "        text-align: right;\n",
              "    }\n",
              "</style>\n",
              "<table border=\"1\" class=\"dataframe\">\n",
              "  <thead>\n",
              "    <tr style=\"text-align: right;\">\n",
              "      <th>debt</th>\n",
              "      <th>Без задолжности %</th>\n",
              "      <th>C задолжностью %</th>\n",
              "      <th>total</th>\n",
              "    </tr>\n",
              "    <tr>\n",
              "      <th>purpose_category</th>\n",
              "      <th></th>\n",
              "      <th></th>\n",
              "      <th></th>\n",
              "    </tr>\n",
              "  </thead>\n",
              "  <tbody>\n",
              "    <tr>\n",
              "      <th>операции с недвижимостью</th>\n",
              "      <td>92.8</td>\n",
              "      <td>7.2</td>\n",
              "      <td>10774</td>\n",
              "    </tr>\n",
              "    <tr>\n",
              "      <th>проведение свадьбы</th>\n",
              "      <td>92.1</td>\n",
              "      <td>7.9</td>\n",
              "      <td>2315</td>\n",
              "    </tr>\n",
              "    <tr>\n",
              "      <th>получение образования</th>\n",
              "      <td>90.8</td>\n",
              "      <td>9.2</td>\n",
              "      <td>3998</td>\n",
              "    </tr>\n",
              "    <tr>\n",
              "      <th>операции с автомобилем</th>\n",
              "      <td>90.7</td>\n",
              "      <td>9.3</td>\n",
              "      <td>4290</td>\n",
              "    </tr>\n",
              "  </tbody>\n",
              "</table>\n",
              "</div>"
            ],
            "text/plain": [
              "debt                      Без задолжности %  C задолжностью %  total\n",
              "purpose_category                                                    \n",
              "операции с недвижимостью               92.8               7.2  10774\n",
              "проведение свадьбы                     92.1               7.9   2315\n",
              "получение образования                  90.8               9.2   3998\n",
              "операции с автомобилем                 90.7               9.3   4290"
            ]
          },
          "metadata": {}
        },
        {
          "output_type": "display_data",
          "data": {
            "image/png": "[encoded data removed]",
            "text/plain": [
              "<Figure size 1080x360 with 1 Axes>"
            ]
          },
          "metadata": {
            "needs_background": "light"
          }
        }
      ],
      "id": "3c27a9ba"
    },
    {
      "cell_type": "markdown",
      "source": "На операциях с недвижимостью больше всего заемщиков и самый маленький %  должников.",
      "metadata": {
        "id": "470801d8"
      },
      "id": "470801d8"
    },
    {
      "cell_type": "markdown",
      "source": "## Общий вывод:",
      "metadata": {
        "id": "905dbf47"
      },
      "id": "905dbf47"
    },
    {
      "cell_type": "markdown",
      "source": "Идеальный заёмщик это человек без детей, в разводе или вдовец, зарабатывающий 30001–50000 — 'D' берущий кредит на операции с недвижимостью.\nОбщий риск я думаю что можно расчитать следующим образом = children[%]+family_status_id[%]+total_income_category[%]+purpose_category[%] / Ко-во параметров(4)\nДля идеального заёмщика это будет = 6,8% что не вернёт кредит.\nВообщем все вопросы можно разделить на отдельные df и потом их объеденить например на разных листах и уже основываясь на этих данных писать скоринг. Можно ещё и возраст разбить по категориям.",
      "metadata": {
        "id": "08cc7590"
      },
      "id": "08cc7590"
    },
    {
      "cell_type": "code",
      "source": "",
      "metadata": {},
      "execution_count": null,
      "outputs": [],
      "id": "10fc021a"
    }
  ]
}