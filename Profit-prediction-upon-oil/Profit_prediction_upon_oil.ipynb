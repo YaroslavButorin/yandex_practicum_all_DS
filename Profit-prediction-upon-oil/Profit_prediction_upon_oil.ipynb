{
  "cells": [
    {
      "cell_type": "markdown",
      "metadata": {
        "id": "azqL3bqiJALG"
      },
      "source": [
        "# Выбор локации для скважины"
      ]
    },
    {
      "cell_type": "markdown",
      "metadata": {
        "id": "ICBmiUFnJALH"
      },
      "source": [
        "Допустим, вы работаете в добывающей компании «ГлавРосГосНефть». Нужно решить, где бурить новую скважину.\n",
        "\n",
        "Вам предоставлены пробы нефти в трёх регионах: в каждом 10 000 месторождений, где измерили качество нефти и объём её запасов. Постройте модель машинного обучения, которая поможет определить регион, где добыча принесёт наибольшую прибыль. Проанализируйте возможную прибыль и риски техникой *Bootstrap.*\n",
        "\n",
        "Шаги для выбора локации:\n",
        "\n",
        "- В избранном регионе ищут месторождения, для каждого определяют значения признаков;\n",
        "- Строят модель и оценивают объём запасов;\n",
        "- Выбирают месторождения с самым высокими оценками значений. Количество месторождений зависит от бюджета компании и стоимости разработки одной скважины;\n",
        "- Прибыль равна суммарной прибыли отобранных месторождений."
      ]
    },
    {
      "cell_type": "markdown",
      "metadata": {
        "id": "pkFX2nFdJALI"
      },
      "source": [
        "## Загрузка и подготовка данных"
      ]
    },
    {
      "cell_type": "code",
      "execution_count": null,
      "metadata": {
        "id": "ZgtUhDQXJALJ"
      },
      "outputs": [],
      "source": [
        "import pandas as pd\n",
        "import numpy as np\n",
        "from sklearn.tree import DecisionTreeClassifier\n",
        "from sklearn.model_selection import train_test_split\n",
        "from sklearn.preprocessing import StandardScaler\n",
        "from sklearn.preprocessing import OrdinalEncoder\n",
        "from sklearn.ensemble import RandomForestClassifier\n",
        "from sklearn.linear_model import LogisticRegression\n",
        "from sklearn.linear_model import LinearRegression\n",
        "from scipy import stats as st\n",
        "from sklearn.metrics import mean_squared_error\n",
        "from sklearn.metrics import f1_score\n",
        "from sklearn.metrics import recall_score\n",
        "from sklearn.metrics import precision_score\n",
        "from sklearn.metrics import accuracy_score\n",
        "from sklearn.metrics import confusion_matrix, ConfusionMatrixDisplay\n",
        "from sklearn.metrics import roc_curve\n",
        "from sklearn.metrics import roc_auc_score\n",
        "from sklearn.dummy import DummyClassifier\n",
        "from sklearn.utils import shuffle"
      ]
    },
    {
      "cell_type": "code",
      "execution_count": null,
      "metadata": {
        "id": "PJ8JZ3WTJALK"
      },
      "outputs": [],
      "source": [
        "df_0 = pd.read_csv('/datasets/geo_data_0.csv')\n",
        "df_1 = pd.read_csv('/datasets/geo_data_1.csv')\n",
        "df_2 = pd.read_csv('/datasets/geo_data_2.csv')"
      ]
    },
    {
      "cell_type": "code",
      "execution_count": null,
      "metadata": {
        "scrolled": true,
        "id": "HEI7QRnLJALL",
        "outputId": "c8066b3c-e50e-4237-f3b5-899b34cb74c7"
      },
      "outputs": [
        {
          "name": "stdout",
          "output_type": "stream",
          "text": [
            "<class 'pandas.core.frame.DataFrame'>\n",
            "RangeIndex: 100000 entries, 0 to 99999\n",
            "Data columns (total 5 columns):\n",
            " #   Column   Non-Null Count   Dtype  \n",
            "---  ------   --------------   -----  \n",
            " 0   id       100000 non-null  object \n",
            " 1   f0       100000 non-null  float64\n",
            " 2   f1       100000 non-null  float64\n",
            " 3   f2       100000 non-null  float64\n",
            " 4   product  100000 non-null  float64\n",
            "dtypes: float64(4), object(1)\n",
            "memory usage: 3.8+ MB\n"
          ]
        }
      ],
      "source": [
        "df_0.info()"
      ]
    },
    {
      "cell_type": "code",
      "execution_count": null,
      "metadata": {
        "id": "_g4Y08x_JALM",
        "outputId": "2c7371f4-dd79-4462-e614-bed4c4de5ed4"
      },
      "outputs": [
        {
          "data": {
            "text/html": [
              "<div>\n",
              "<style scoped>\n",
              "    .dataframe tbody tr th:only-of-type {\n",
              "        vertical-align: middle;\n",
              "    }\n",
              "\n",
              "    .dataframe tbody tr th {\n",
              "        vertical-align: top;\n",
              "    }\n",
              "\n",
              "    .dataframe thead th {\n",
              "        text-align: right;\n",
              "    }\n",
              "</style>\n",
              "<table border=\"1\" class=\"dataframe\">\n",
              "  <thead>\n",
              "    <tr style=\"text-align: right;\">\n",
              "      <th></th>\n",
              "      <th>id</th>\n",
              "      <th>f0</th>\n",
              "      <th>f1</th>\n",
              "      <th>f2</th>\n",
              "      <th>product</th>\n",
              "    </tr>\n",
              "  </thead>\n",
              "  <tbody>\n",
              "    <tr>\n",
              "      <th>0</th>\n",
              "      <td>txEyH</td>\n",
              "      <td>0.705745</td>\n",
              "      <td>-0.497823</td>\n",
              "      <td>1.221170</td>\n",
              "      <td>105.280062</td>\n",
              "    </tr>\n",
              "    <tr>\n",
              "      <th>1</th>\n",
              "      <td>2acmU</td>\n",
              "      <td>1.334711</td>\n",
              "      <td>-0.340164</td>\n",
              "      <td>4.365080</td>\n",
              "      <td>73.037750</td>\n",
              "    </tr>\n",
              "    <tr>\n",
              "      <th>2</th>\n",
              "      <td>409Wp</td>\n",
              "      <td>1.022732</td>\n",
              "      <td>0.151990</td>\n",
              "      <td>1.419926</td>\n",
              "      <td>85.265647</td>\n",
              "    </tr>\n",
              "    <tr>\n",
              "      <th>3</th>\n",
              "      <td>iJLyR</td>\n",
              "      <td>-0.032172</td>\n",
              "      <td>0.139033</td>\n",
              "      <td>2.978566</td>\n",
              "      <td>168.620776</td>\n",
              "    </tr>\n",
              "    <tr>\n",
              "      <th>4</th>\n",
              "      <td>Xdl7t</td>\n",
              "      <td>1.988431</td>\n",
              "      <td>0.155413</td>\n",
              "      <td>4.751769</td>\n",
              "      <td>154.036647</td>\n",
              "    </tr>\n",
              "  </tbody>\n",
              "</table>\n",
              "</div>"
            ],
            "text/plain": [
              "      id        f0        f1        f2     product\n",
              "0  txEyH  0.705745 -0.497823  1.221170  105.280062\n",
              "1  2acmU  1.334711 -0.340164  4.365080   73.037750\n",
              "2  409Wp  1.022732  0.151990  1.419926   85.265647\n",
              "3  iJLyR -0.032172  0.139033  2.978566  168.620776\n",
              "4  Xdl7t  1.988431  0.155413  4.751769  154.036647"
            ]
          },
          "execution_count": 85,
          "metadata": {},
          "output_type": "execute_result"
        }
      ],
      "source": [
        "df_0.head()"
      ]
    },
    {
      "cell_type": "code",
      "execution_count": null,
      "metadata": {
        "scrolled": true,
        "id": "zgfqYTb0JALN",
        "outputId": "6e64eb9a-bb13-4d31-dede-ab0f510387df"
      },
      "outputs": [
        {
          "name": "stdout",
          "output_type": "stream",
          "text": [
            "<class 'pandas.core.frame.DataFrame'>\n",
            "RangeIndex: 100000 entries, 0 to 99999\n",
            "Data columns (total 5 columns):\n",
            " #   Column   Non-Null Count   Dtype  \n",
            "---  ------   --------------   -----  \n",
            " 0   id       100000 non-null  object \n",
            " 1   f0       100000 non-null  float64\n",
            " 2   f1       100000 non-null  float64\n",
            " 3   f2       100000 non-null  float64\n",
            " 4   product  100000 non-null  float64\n",
            "dtypes: float64(4), object(1)\n",
            "memory usage: 3.8+ MB\n"
          ]
        }
      ],
      "source": [
        "df_1.info()"
      ]
    },
    {
      "cell_type": "code",
      "execution_count": null,
      "metadata": {
        "scrolled": true,
        "id": "GiDjuH6eJALO",
        "outputId": "43390f5c-a7c3-4992-bd4d-5e274b774137"
      },
      "outputs": [
        {
          "name": "stdout",
          "output_type": "stream",
          "text": [
            "<class 'pandas.core.frame.DataFrame'>\n",
            "RangeIndex: 100000 entries, 0 to 99999\n",
            "Data columns (total 5 columns):\n",
            " #   Column   Non-Null Count   Dtype  \n",
            "---  ------   --------------   -----  \n",
            " 0   id       100000 non-null  object \n",
            " 1   f0       100000 non-null  float64\n",
            " 2   f1       100000 non-null  float64\n",
            " 3   f2       100000 non-null  float64\n",
            " 4   product  100000 non-null  float64\n",
            "dtypes: float64(4), object(1)\n",
            "memory usage: 3.8+ MB\n"
          ]
        }
      ],
      "source": [
        "df_2.info()"
      ]
    },
    {
      "cell_type": "markdown",
      "metadata": {
        "id": "uUd3ckRXJALP"
      },
      "source": [
        "## Обучение и проверка модели"
      ]
    },
    {
      "cell_type": "markdown",
      "metadata": {
        "id": "nyE5sPm0JALP"
      },
      "source": [
        "Так как регионы никак не названы я дам им кодовые имена для того чтобы было легче структурировать проект и ориентироваться.\n",
        "<br> <b>Центр \n",
        "<br> Юг\n",
        "<br> Север"
      ]
    },
    {
      "cell_type": "code",
      "execution_count": null,
      "metadata": {
        "id": "kCZdrxyPJALQ"
      },
      "outputs": [],
      "source": [
        "def LinearRegression_func(features_train,target_train,features_valid,target_valid):\n",
        "    model = LinearRegression()\n",
        "    model.fit(features_train,target_train)\n",
        "    predictions_valid = model.predict(features_valid)\n",
        "    df = pd.DataFrame(features_valid)\n",
        "    df['model.predict'] = predictions_valid\n",
        "    df = pd.merge(target_valid,df[['model.predict']],how = 'left',left_index = True, right_index = True)\n",
        "    return [predictions_valid,model,df]"
      ]
    },
    {
      "cell_type": "markdown",
      "metadata": {
        "id": "kMoreDXtJALQ"
      },
      "source": [
        "### Центр"
      ]
    },
    {
      "cell_type": "code",
      "execution_count": null,
      "metadata": {
        "scrolled": true,
        "id": "_PJePc6PJALQ",
        "outputId": "7b661435-084d-4bc7-8a86-45d922066ee1"
      },
      "outputs": [
        {
          "data": {
            "text/html": [
              "<div>\n",
              "<style scoped>\n",
              "    .dataframe tbody tr th:only-of-type {\n",
              "        vertical-align: middle;\n",
              "    }\n",
              "\n",
              "    .dataframe tbody tr th {\n",
              "        vertical-align: top;\n",
              "    }\n",
              "\n",
              "    .dataframe thead th {\n",
              "        text-align: right;\n",
              "    }\n",
              "</style>\n",
              "<table border=\"1\" class=\"dataframe\">\n",
              "  <thead>\n",
              "    <tr style=\"text-align: right;\">\n",
              "      <th></th>\n",
              "      <th>id</th>\n",
              "      <th>f0</th>\n",
              "      <th>f1</th>\n",
              "      <th>f2</th>\n",
              "      <th>product</th>\n",
              "    </tr>\n",
              "  </thead>\n",
              "  <tbody>\n",
              "    <tr>\n",
              "      <th>0</th>\n",
              "      <td>txEyH</td>\n",
              "      <td>0.705745</td>\n",
              "      <td>-0.497823</td>\n",
              "      <td>1.221170</td>\n",
              "      <td>105.280062</td>\n",
              "    </tr>\n",
              "    <tr>\n",
              "      <th>1</th>\n",
              "      <td>2acmU</td>\n",
              "      <td>1.334711</td>\n",
              "      <td>-0.340164</td>\n",
              "      <td>4.365080</td>\n",
              "      <td>73.037750</td>\n",
              "    </tr>\n",
              "    <tr>\n",
              "      <th>2</th>\n",
              "      <td>409Wp</td>\n",
              "      <td>1.022732</td>\n",
              "      <td>0.151990</td>\n",
              "      <td>1.419926</td>\n",
              "      <td>85.265647</td>\n",
              "    </tr>\n",
              "    <tr>\n",
              "      <th>3</th>\n",
              "      <td>iJLyR</td>\n",
              "      <td>-0.032172</td>\n",
              "      <td>0.139033</td>\n",
              "      <td>2.978566</td>\n",
              "      <td>168.620776</td>\n",
              "    </tr>\n",
              "    <tr>\n",
              "      <th>4</th>\n",
              "      <td>Xdl7t</td>\n",
              "      <td>1.988431</td>\n",
              "      <td>0.155413</td>\n",
              "      <td>4.751769</td>\n",
              "      <td>154.036647</td>\n",
              "    </tr>\n",
              "  </tbody>\n",
              "</table>\n",
              "</div>"
            ],
            "text/plain": [
              "      id        f0        f1        f2     product\n",
              "0  txEyH  0.705745 -0.497823  1.221170  105.280062\n",
              "1  2acmU  1.334711 -0.340164  4.365080   73.037750\n",
              "2  409Wp  1.022732  0.151990  1.419926   85.265647\n",
              "3  iJLyR -0.032172  0.139033  2.978566  168.620776\n",
              "4  Xdl7t  1.988431  0.155413  4.751769  154.036647"
            ]
          },
          "execution_count": 89,
          "metadata": {},
          "output_type": "execute_result"
        }
      ],
      "source": [
        "df_0.head()"
      ]
    },
    {
      "cell_type": "code",
      "execution_count": null,
      "metadata": {
        "id": "gpz5abFgJALR"
      },
      "outputs": [],
      "source": [
        "features = df_0.drop(['product','id'], axis=1)\n",
        "target = df_0['product']"
      ]
    },
    {
      "cell_type": "code",
      "execution_count": null,
      "metadata": {
        "id": "fluWIrIBJALR"
      },
      "outputs": [],
      "source": [
        "features_train, features_valid, target_train, target_valid = train_test_split(features,target, test_size=0.25, random_state=12345)"
      ]
    },
    {
      "cell_type": "code",
      "execution_count": null,
      "metadata": {
        "scrolled": true,
        "id": "3phQm56ZJALS",
        "outputId": "de7f176e-32ed-4510-b918-7b6e9f145565"
      },
      "outputs": [
        {
          "name": "stdout",
          "output_type": "stream",
          "text": [
            "RMSE = 37.5794217150813\n",
            "Cредний запас предсказанного сырья  92.59256778438035\n"
          ]
        }
      ],
      "source": [
        "model_center = LinearRegression_func(features_train,target_train,features_valid,target_valid)\n",
        "mse = mean_squared_error(target_valid, model_center[0])\n",
        "mean_center = model_center[0].mean()\n",
        "print(\"RMSE =\", mse ** 0.5)\n",
        "print('Cредний запас предсказанного сырья ',mean_center)"
      ]
    },
    {
      "cell_type": "code",
      "execution_count": null,
      "metadata": {
        "id": "5Eps21-YJALS",
        "outputId": "768cba5d-6117-45ce-9f79-cdcc16b5a282"
      },
      "outputs": [
        {
          "data": {
            "text/html": [
              "<div>\n",
              "<style scoped>\n",
              "    .dataframe tbody tr th:only-of-type {\n",
              "        vertical-align: middle;\n",
              "    }\n",
              "\n",
              "    .dataframe tbody tr th {\n",
              "        vertical-align: top;\n",
              "    }\n",
              "\n",
              "    .dataframe thead th {\n",
              "        text-align: right;\n",
              "    }\n",
              "</style>\n",
              "<table border=\"1\" class=\"dataframe\">\n",
              "  <thead>\n",
              "    <tr style=\"text-align: right;\">\n",
              "      <th></th>\n",
              "      <th>product</th>\n",
              "      <th>model.predict</th>\n",
              "    </tr>\n",
              "  </thead>\n",
              "  <tbody>\n",
              "    <tr>\n",
              "      <th>71751</th>\n",
              "      <td>10.038645</td>\n",
              "      <td>95.894952</td>\n",
              "    </tr>\n",
              "    <tr>\n",
              "      <th>80493</th>\n",
              "      <td>114.551489</td>\n",
              "      <td>77.572583</td>\n",
              "    </tr>\n",
              "    <tr>\n",
              "      <th>2655</th>\n",
              "      <td>132.603635</td>\n",
              "      <td>77.892640</td>\n",
              "    </tr>\n",
              "    <tr>\n",
              "      <th>53233</th>\n",
              "      <td>169.072125</td>\n",
              "      <td>90.175134</td>\n",
              "    </tr>\n",
              "    <tr>\n",
              "      <th>91141</th>\n",
              "      <td>122.325180</td>\n",
              "      <td>70.510088</td>\n",
              "    </tr>\n",
              "    <tr>\n",
              "      <th>...</th>\n",
              "      <td>...</td>\n",
              "      <td>...</td>\n",
              "    </tr>\n",
              "    <tr>\n",
              "      <th>12581</th>\n",
              "      <td>170.116726</td>\n",
              "      <td>103.037104</td>\n",
              "    </tr>\n",
              "    <tr>\n",
              "      <th>18456</th>\n",
              "      <td>93.632175</td>\n",
              "      <td>85.403255</td>\n",
              "    </tr>\n",
              "    <tr>\n",
              "      <th>73035</th>\n",
              "      <td>127.352259</td>\n",
              "      <td>61.509833</td>\n",
              "    </tr>\n",
              "    <tr>\n",
              "      <th>63834</th>\n",
              "      <td>99.782700</td>\n",
              "      <td>118.180397</td>\n",
              "    </tr>\n",
              "    <tr>\n",
              "      <th>43558</th>\n",
              "      <td>177.821022</td>\n",
              "      <td>118.169392</td>\n",
              "    </tr>\n",
              "  </tbody>\n",
              "</table>\n",
              "<p>25000 rows × 2 columns</p>\n",
              "</div>"
            ],
            "text/plain": [
              "          product  model.predict\n",
              "71751   10.038645      95.894952\n",
              "80493  114.551489      77.572583\n",
              "2655   132.603635      77.892640\n",
              "53233  169.072125      90.175134\n",
              "91141  122.325180      70.510088\n",
              "...           ...            ...\n",
              "12581  170.116726     103.037104\n",
              "18456   93.632175      85.403255\n",
              "73035  127.352259      61.509833\n",
              "63834   99.782700     118.180397\n",
              "43558  177.821022     118.169392\n",
              "\n",
              "[25000 rows x 2 columns]"
            ]
          },
          "execution_count": 93,
          "metadata": {},
          "output_type": "execute_result"
        }
      ],
      "source": [
        "model_center[2]"
      ]
    },
    {
      "cell_type": "markdown",
      "metadata": {
        "id": "S-dQMASkJALT"
      },
      "source": [
        "### Юг"
      ]
    },
    {
      "cell_type": "code",
      "execution_count": null,
      "metadata": {
        "id": "vOwWDQNMJALT"
      },
      "outputs": [],
      "source": [
        "features = df_1.drop(['product','id'], axis=1)\n",
        "target = df_1['product']"
      ]
    },
    {
      "cell_type": "code",
      "execution_count": null,
      "metadata": {
        "id": "bDhQ1c8oJALU"
      },
      "outputs": [],
      "source": [
        "features_train, features_valid, target_train, target_valid = train_test_split(features,target, test_size=0.25, random_state=12345)"
      ]
    },
    {
      "cell_type": "code",
      "execution_count": null,
      "metadata": {
        "id": "Og5G2ROFJALU",
        "outputId": "6506844e-79d7-4413-d3a1-cf7a99448a2a"
      },
      "outputs": [
        {
          "name": "stdout",
          "output_type": "stream",
          "text": [
            "RMSE = 0.893099286775617\n",
            "Cредний запас предсказанного сырья 68.728546895446\n"
          ]
        }
      ],
      "source": [
        "model_south = LinearRegression_func(features_train,target_train,features_valid,target_valid)\n",
        "mse = mean_squared_error(target_valid, model_south[0])\n",
        "mean_south = model_south[0].mean()\n",
        "print(\"RMSE =\", mse ** 0.5)\n",
        "print('Cредний запас предсказанного сырья',mean_south)"
      ]
    },
    {
      "cell_type": "markdown",
      "metadata": {
        "id": "3nv_fVMCJALV"
      },
      "source": [
        "### Север"
      ]
    },
    {
      "cell_type": "code",
      "execution_count": null,
      "metadata": {
        "id": "e_Y_5qXZJALV"
      },
      "outputs": [],
      "source": [
        "features = df_2.drop(['product','id'], axis=1)\n",
        "target = df_2['product']"
      ]
    },
    {
      "cell_type": "code",
      "execution_count": null,
      "metadata": {
        "id": "mKCNZgH8JALV"
      },
      "outputs": [],
      "source": [
        "features_train, features_valid, target_train, target_valid = train_test_split(features,target, test_size=0.25, random_state=12345)"
      ]
    },
    {
      "cell_type": "code",
      "execution_count": null,
      "metadata": {
        "scrolled": true,
        "id": "hjpNspT2JALW",
        "outputId": "e70925c6-eeed-4de4-b7d3-b0807705c581"
      },
      "outputs": [
        {
          "name": "stdout",
          "output_type": "stream",
          "text": [
            "RMSE = 40.02970873393434\n",
            "Cредний запас предсказанного сырья 94.96504596800489\n"
          ]
        }
      ],
      "source": [
        "model_nort = LinearRegression_func(features_train,target_train,features_valid,target_valid)\n",
        "mse = mean_squared_error(target_valid, model_nort[0])\n",
        "mean_nort = model_nort[0].mean()\n",
        "print(\"RMSE =\", mse ** 0.5)\n",
        "print('Cредний запас предсказанного сырья',mean_nort)"
      ]
    },
    {
      "cell_type": "code",
      "execution_count": null,
      "metadata": {
        "id": "EwrGzekPJALW",
        "outputId": "4f6a246c-b7a8-47a5-e5dc-3b3670c99d40"
      },
      "outputs": [
        {
          "data": {
            "text/html": [
              "<div>\n",
              "<style scoped>\n",
              "    .dataframe tbody tr th:only-of-type {\n",
              "        vertical-align: middle;\n",
              "    }\n",
              "\n",
              "    .dataframe tbody tr th {\n",
              "        vertical-align: top;\n",
              "    }\n",
              "\n",
              "    .dataframe thead th {\n",
              "        text-align: right;\n",
              "    }\n",
              "</style>\n",
              "<table border=\"1\" class=\"dataframe\">\n",
              "  <thead>\n",
              "    <tr style=\"text-align: right;\">\n",
              "      <th></th>\n",
              "      <th>product</th>\n",
              "      <th>model.predict</th>\n",
              "    </tr>\n",
              "  </thead>\n",
              "  <tbody>\n",
              "    <tr>\n",
              "      <th>71751</th>\n",
              "      <td>61.212375</td>\n",
              "      <td>93.599633</td>\n",
              "    </tr>\n",
              "    <tr>\n",
              "      <th>80493</th>\n",
              "      <td>41.850118</td>\n",
              "      <td>75.105159</td>\n",
              "    </tr>\n",
              "    <tr>\n",
              "      <th>2655</th>\n",
              "      <td>57.776581</td>\n",
              "      <td>90.066809</td>\n",
              "    </tr>\n",
              "    <tr>\n",
              "      <th>53233</th>\n",
              "      <td>100.053761</td>\n",
              "      <td>105.162375</td>\n",
              "    </tr>\n",
              "    <tr>\n",
              "      <th>91141</th>\n",
              "      <td>109.897122</td>\n",
              "      <td>115.303310</td>\n",
              "    </tr>\n",
              "    <tr>\n",
              "      <th>...</th>\n",
              "      <td>...</td>\n",
              "      <td>...</td>\n",
              "    </tr>\n",
              "    <tr>\n",
              "      <th>12581</th>\n",
              "      <td>28.492402</td>\n",
              "      <td>78.765887</td>\n",
              "    </tr>\n",
              "    <tr>\n",
              "      <th>18456</th>\n",
              "      <td>21.431303</td>\n",
              "      <td>95.603394</td>\n",
              "    </tr>\n",
              "    <tr>\n",
              "      <th>73035</th>\n",
              "      <td>125.487229</td>\n",
              "      <td>99.407281</td>\n",
              "    </tr>\n",
              "    <tr>\n",
              "      <th>63834</th>\n",
              "      <td>99.422903</td>\n",
              "      <td>77.779912</td>\n",
              "    </tr>\n",
              "    <tr>\n",
              "      <th>43558</th>\n",
              "      <td>127.445075</td>\n",
              "      <td>129.032417</td>\n",
              "    </tr>\n",
              "  </tbody>\n",
              "</table>\n",
              "<p>25000 rows × 2 columns</p>\n",
              "</div>"
            ],
            "text/plain": [
              "          product  model.predict\n",
              "71751   61.212375      93.599633\n",
              "80493   41.850118      75.105159\n",
              "2655    57.776581      90.066809\n",
              "53233  100.053761     105.162375\n",
              "91141  109.897122     115.303310\n",
              "...           ...            ...\n",
              "12581   28.492402      78.765887\n",
              "18456   21.431303      95.603394\n",
              "73035  125.487229      99.407281\n",
              "63834   99.422903      77.779912\n",
              "43558  127.445075     129.032417\n",
              "\n",
              "[25000 rows x 2 columns]"
            ]
          },
          "execution_count": 100,
          "metadata": {},
          "output_type": "execute_result"
        }
      ],
      "source": [
        "model_nort[2]"
      ]
    },
    {
      "cell_type": "markdown",
      "metadata": {
        "id": "42lDZpOGJALX"
      },
      "source": [
        "## Вывод"
      ]
    },
    {
      "cell_type": "markdown",
      "metadata": {
        "id": "dJmuDSKxJALX"
      },
      "source": [
        "Наибольшие запасы нефти находятся в северном регионе. Самая лучшая модель получилась на южном регионе."
      ]
    },
    {
      "cell_type": "markdown",
      "metadata": {
        "id": "0tT_8MNrJALY"
      },
      "source": [
        "## Подготовка к расчёту прибыли"
      ]
    },
    {
      "cell_type": "markdown",
      "metadata": {
        "id": "_X09BE_bJALY"
      },
      "source": [
        "<br> Бюджет на разработку скважин в регионе — 10 млрд рублей.\n",
        "3.2. Рассчитайте достаточный объём сырья для безубыточной разработки новой скважины. Сравните полученный объём сырья со средним запасом в каждом регионе."
      ]
    },
    {
      "cell_type": "markdown",
      "metadata": {
        "id": "LuVPDai1JALZ"
      },
      "source": [
        "Подготовьтесь к расчёту прибыли:\n",
        "3.1. Все ключевые значения для расчётов сохраните в отдельных переменных.\n",
        "3.2. Рассчитайте достаточный объём сырья для безубыточной разработки новой скважины. Сравните полученный объём сырья со средним запасом в каждом регионе.\n",
        "3.3. Напишите выводы по этапу подготовки расчёта прибыли."
      ]
    },
    {
      "cell_type": "markdown",
      "metadata": {
        "id": "TESNHRhuJALZ"
      },
      "source": [
        "При разведке региона исследуют 500 точек, из которых с помощью машинного обучения выбирают 200 лучших для разработки."
      ]
    },
    {
      "cell_type": "code",
      "execution_count": null,
      "metadata": {
        "id": "4oJP0OcBJALa"
      },
      "outputs": [],
      "source": [
        "budget = 10000000000\n",
        "barrel_price = 450000\n",
        "research_points = 500\n",
        "count_of_wells = 200\n",
        "price_one_well = budget / count_of_wells\n",
        "break_even_barrel = price_one_well / barrel_price"
      ]
    },
    {
      "cell_type": "code",
      "execution_count": null,
      "metadata": {
        "scrolled": true,
        "id": "MKbovf-pJALb",
        "outputId": "1ccf7b75-19a3-4490-acee-cdbf076a20bb"
      },
      "outputs": [
        {
          "name": "stdout",
          "output_type": "stream",
          "text": [
            "Стоимость разработки одной скважины: 50000000.0\n",
            "Достаточный объём сырья для безубыточной разработки новой скважины: 111.11111111111111\n"
          ]
        }
      ],
      "source": [
        "print('Стоимость разработки одной скважины:',price_one_well)\n",
        "print('Достаточный объём сырья для безубыточной разработки новой скважины:',break_even_barrel)"
      ]
    },
    {
      "cell_type": "markdown",
      "metadata": {
        "id": "CbO-ICyvJALc"
      },
      "source": [
        "## подготовка DF"
      ]
    },
    {
      "cell_type": "code",
      "execution_count": null,
      "metadata": {
        "id": "kF0IGaB_JALc"
      },
      "outputs": [],
      "source": [
        "center = pd.DataFrame(model_center[0]).rename({0: 'predict'}, axis=1)\n",
        "center['profit'] = center['predict'] * barrel_price"
      ]
    },
    {
      "cell_type": "code",
      "execution_count": null,
      "metadata": {
        "id": "6GPlf-9vJALc"
      },
      "outputs": [],
      "source": [
        "south = pd.DataFrame(model_south[0]).rename({0: 'predict'}, axis=1)\n",
        "south['profit'] = south['predict'] * barrel_price"
      ]
    },
    {
      "cell_type": "code",
      "execution_count": null,
      "metadata": {
        "id": "-IgbrHOiJALd"
      },
      "outputs": [],
      "source": [
        "nort = pd.DataFrame(model_nort[0]).rename({0: 'predict'}, axis=1)\n",
        "nort['profit'] = nort['predict'] * barrel_price"
      ]
    },
    {
      "cell_type": "markdown",
      "metadata": {
        "id": "-2ans6pcJALd"
      },
      "source": [
        "Средний объем сырья для безубыточной разработки новой скважины выше чем средние предсказаные значения во всех 3х регионах."
      ]
    },
    {
      "cell_type": "markdown",
      "metadata": {
        "id": "6qRiBY0nJALg"
      },
      "source": [
        "## Расчёт прибыли и рисков "
      ]
    },
    {
      "cell_type": "code",
      "execution_count": null,
      "metadata": {
        "id": "jypJLhviJALh"
      },
      "outputs": [],
      "source": [
        "def bootstrap(sample,by,profit):\n",
        "    global budget\n",
        "    state = np.random.RandomState(12345)\n",
        "\n",
        "    values = []\n",
        "    for i in range(1000):\n",
        "        subsample = sample.sample(n=research_points, replace=True, random_state=state)\n",
        "        max_pred = subsample.sort_values(by=by,ascending=False)[:200]\n",
        "        income = (max_pred[profit].sum() - budget)/1_000_000_000\n",
        "        values.append(income)\n",
        "\n",
        "    values = pd.Series(values)\n",
        "    \n",
        "    lower = values.quantile(0.025)\n",
        "    upper = values.quantile(0.975)\n",
        "    loss = values[values<0]\n",
        "    mean = values.mean()\n",
        "    print(\"Вероятность убытков: {:.2%}\".format(loss.count()/len(values)))\n",
        "    print(\"Средняя прибыль: {:.6f} млрд.руб.\".format(mean))\n",
        "    print(\"Максимальный убыток:\", loss.min())\n",
        "    print(\"Максимальная прибыль:\", values.max())\n",
        "    print(\"2,5%-квантиль: {:.6f} млрд.руб.\".format(lower))\n",
        "    print(\"97,5%-квантиль: {:.6f} млрд.руб.\".format(upper))\n",
        "    confidence_interval =  st.t.interval(0.95, len(values)-1,values.mean(),values.sem())\n",
        "    print('Доверительный интервал для средней прибыли:',confidence_interval)"
      ]
    },
    {
      "cell_type": "markdown",
      "metadata": {
        "id": "_u3cmadrJALj"
      },
      "source": [
        "### Центр"
      ]
    },
    {
      "cell_type": "code",
      "execution_count": null,
      "metadata": {
        "scrolled": true,
        "id": "CaMb7VuaJALj",
        "outputId": "3b53c21d-5284-4486-e8b6-46a1a3fdf202"
      },
      "outputs": [
        {
          "name": "stdout",
          "output_type": "stream",
          "text": [
            "Cуммарный объем нефти: 2314814.194609509\n",
            "Суммарная прибыль: 1041.666388 млрд.руб.\n"
          ]
        }
      ],
      "source": [
        "print('Cуммарный объем нефти:',center['predict'].sum())\n",
        "print(\"Суммарная прибыль: {:.6f} млрд.руб.\".format(center['profit'].sum()/1_000_000_000))"
      ]
    },
    {
      "cell_type": "code",
      "execution_count": null,
      "metadata": {
        "scrolled": true,
        "id": "7GaoEuQOJALk",
        "outputId": "5f476d28-778c-48c8-e7b1-0f90b6a57421"
      },
      "outputs": [
        {
          "name": "stdout",
          "output_type": "stream",
          "text": [
            "Вероятность убытков: 0.10%\n",
            "Средняя прибыль: 0.358026 млрд.руб.\n",
            "Максимальный убыток: -0.03594562527695465\n",
            "Максимальная прибыль: 0.7147915596554832\n",
            "2,5%-квантиль: 0.140137 млрд.руб.\n",
            "97,5%-квантиль: 0.598877 млрд.руб.\n",
            "Доверительный интервал для средней прибыли: (0.3510026953834777, 0.3650494130332078)\n"
          ]
        }
      ],
      "source": [
        "bootstrap(center,'predict','profit')"
      ]
    },
    {
      "cell_type": "code",
      "execution_count": null,
      "metadata": {
        "id": "c802e-WHJALl"
      },
      "outputs": [],
      "source": [
        "top200_center = model_center[2]"
      ]
    },
    {
      "cell_type": "code",
      "execution_count": null,
      "metadata": {
        "id": "8S30bdFzJALm"
      },
      "outputs": [],
      "source": [
        "model_center[2]['real_profit'] = model_center[2]['product'] * barrel_price\n",
        "model_center[2]['predict_profit'] = model_center[2]['model.predict'] * barrel_price"
      ]
    },
    {
      "cell_type": "code",
      "execution_count": null,
      "metadata": {
        "id": "DKN9UMoOJALm"
      },
      "outputs": [],
      "source": [
        "top_200_compare = model_center[2].sort_values(by=\"model.predict\",ascending=False)[:200]"
      ]
    },
    {
      "cell_type": "code",
      "execution_count": null,
      "metadata": {
        "id": "Se4zbDTCJALm",
        "outputId": "4e5d141b-031c-4f9c-a88d-7a14c1eee566"
      },
      "outputs": [
        {
          "name": "stdout",
          "output_type": "stream",
          "text": [
            "Средняя прибыль на реальных данных 66604130.215699255\n",
            "Средняя прибыль на предсказаных данных 69980244.38732564\n",
            "Разница 4.824381796868729\n"
          ]
        }
      ],
      "source": [
        "print('Средняя прибыль на реальных данных',top_200_compare['real_profit'].mean())\n",
        "print('Средняя прибыль на предсказаных данных',top_200_compare['predict_profit'].mean())\n",
        "print('Разница',(abs(top_200_compare['real_profit'].mean() - top_200_compare['predict_profit'].mean()) / top_200_compare['predict_profit'].mean()) * 100)"
      ]
    },
    {
      "cell_type": "markdown",
      "metadata": {
        "id": "V6qc0zbdJALn"
      },
      "source": [
        "### Юг"
      ]
    },
    {
      "cell_type": "code",
      "execution_count": null,
      "metadata": {
        "id": "RbmsSutmJALn",
        "outputId": "9e0af66e-4e76-4d6a-d503-e7908aa84f91"
      },
      "outputs": [
        {
          "name": "stdout",
          "output_type": "stream",
          "text": [
            "Cуммарный объем нефти: 2314814.194609509\n",
            "Суммарная прибыль: 773.196153 млрд.руб.\n"
          ]
        }
      ],
      "source": [
        "print('Cуммарный объем нефти:',center['predict'].sum())\n",
        "print(\"Суммарная прибыль: {:.6f} млрд.руб.\".format(south['profit'].sum()/1_000_000_000))"
      ]
    },
    {
      "cell_type": "code",
      "execution_count": null,
      "metadata": {
        "scrolled": true,
        "id": "JdHOrhQIJALn",
        "outputId": "a6e157eb-761b-45c8-82cf-01d017c8487b"
      },
      "outputs": [
        {
          "name": "stdout",
          "output_type": "stream",
          "text": [
            "Вероятность убытков: 1.60%\n",
            "Средняя прибыль: 0.453812 млрд.руб.\n",
            "Максимальный убыток: -0.1904326921374626\n",
            "Максимальная прибыль: 1.1575713624147033\n",
            "2,5%-квантиль: 0.032883 млрд.руб.\n",
            "97,5%-квантиль: 0.854562 млрд.руб.\n",
            "Доверительный интервал для средней прибыли: (0.44087967534869893, 0.4667435445435573)\n"
          ]
        }
      ],
      "source": [
        "bootstrap(south,'predict','profit')"
      ]
    },
    {
      "cell_type": "code",
      "execution_count": null,
      "metadata": {
        "id": "QNtd4TEXJALo"
      },
      "outputs": [],
      "source": [
        "top200_south = model_south[2]"
      ]
    },
    {
      "cell_type": "code",
      "execution_count": null,
      "metadata": {
        "id": "G6chG1WqJALo"
      },
      "outputs": [],
      "source": [
        "model_south[2]['real_profit'] = model_south[2]['product'] * barrel_price\n",
        "model_south[2]['predict_profit'] = model_south[2]['model.predict'] * barrel_price"
      ]
    },
    {
      "cell_type": "code",
      "execution_count": null,
      "metadata": {
        "id": "Et7jrv9YJALo"
      },
      "outputs": [],
      "source": [
        "top_200_compare = model_south[2].sort_values(by=\"model.predict\",ascending=False)[:200]"
      ]
    },
    {
      "cell_type": "code",
      "execution_count": null,
      "metadata": {
        "id": "56dYxGu3JALo",
        "outputId": "c17d81d2-f9ca-4dd4-b39f-2ee92808d220"
      },
      "outputs": [
        {
          "name": "stdout",
          "output_type": "stream",
          "text": [
            "Средняя прибыль на реальных данных 62075433.48340753\n",
            "Средняя прибыль на предсказаных данных 62428560.25986771\n",
            "Разница 0.5656493998744252\n"
          ]
        }
      ],
      "source": [
        "print('Средняя прибыль на реальных данных',top_200_compare['real_profit'].mean())\n",
        "print('Средняя прибыль на предсказаных данных',top_200_compare['predict_profit'].mean())\n",
        "print('Разница',(abs(top_200_compare['real_profit'].mean() - top_200_compare['predict_profit'].mean()) / top_200_compare['predict_profit'].mean()) * 100)"
      ]
    },
    {
      "cell_type": "markdown",
      "metadata": {
        "id": "WWhHTVoqJALp"
      },
      "source": [
        "### Север"
      ]
    },
    {
      "cell_type": "code",
      "execution_count": null,
      "metadata": {
        "id": "WCq_WBAPJALp",
        "outputId": "8a0d1b64-1343-4cf7-bfc7-70883152294e"
      },
      "outputs": [
        {
          "name": "stdout",
          "output_type": "stream",
          "text": [
            "Cуммарный объем нефти: 2374126.1492001223\n",
            "Суммарная прибыль: 1068.356767 млрд.руб.\n"
          ]
        }
      ],
      "source": [
        "print('Cуммарный объем нефти:',nort['predict'].sum())\n",
        "print(\"Суммарная прибыль: {:.6f} млрд.руб.\".format(nort['profit'].sum()/1_000_000_000))"
      ]
    },
    {
      "cell_type": "code",
      "execution_count": null,
      "metadata": {
        "scrolled": true,
        "id": "N5oLea9NJALp",
        "outputId": "4a9e7fff-896e-423d-dee2-be8682ed1b66"
      },
      "outputs": [
        {
          "name": "stdout",
          "output_type": "stream",
          "text": [
            "Вероятность убытков: 0.20%\n",
            "Средняя прибыль: 0.281466 млрд.руб.\n",
            "Максимальный убыток: -0.08082157587162972\n",
            "Максимальная прибыль: 0.5716362675222549\n",
            "2,5%-квантиль: 0.092098 млрд.руб.\n",
            "97,5%-квантиль: 0.478527 млрд.руб.\n",
            "Доверительный интервал для средней прибыли: (0.2751573749522779, 0.2877750209299048)\n"
          ]
        }
      ],
      "source": [
        "bootstrap(nort,'predict','profit')"
      ]
    },
    {
      "cell_type": "code",
      "execution_count": null,
      "metadata": {
        "id": "S2FyT1mVJALq"
      },
      "outputs": [],
      "source": [
        "top200_nort = model_nort[2]"
      ]
    },
    {
      "cell_type": "code",
      "execution_count": null,
      "metadata": {
        "id": "HZT1XqzEJALq"
      },
      "outputs": [],
      "source": [
        "model_nort[2]['real_profit'] = model_nort[2]['product'] * barrel_price\n",
        "model_nort[2]['predict_profit'] = model_nort[2]['model.predict'] * barrel_price"
      ]
    },
    {
      "cell_type": "code",
      "execution_count": null,
      "metadata": {
        "id": "UgxAG5J5JALq"
      },
      "outputs": [],
      "source": [
        "top_200_compare = model_nort[2].sort_values(by=\"model.predict\",ascending=False)[:200]"
      ]
    },
    {
      "cell_type": "code",
      "execution_count": null,
      "metadata": {
        "id": "V40mpfDvJALr",
        "outputId": "1fee0a16-ac0b-488c-c86e-f088cbbcb2d0"
      },
      "outputs": [
        {
          "name": "stdout",
          "output_type": "stream",
          "text": [
            "Средняя прибыль на реальных данных 63551749.817999154\n",
            "Средняя прибыль на предсказаных данных 66608771.98121629\n",
            "Разница 4.589518876101209\n"
          ]
        }
      ],
      "source": [
        "print('Средняя прибыль на реальных данных',top_200_compare['real_profit'].mean())\n",
        "print('Средняя прибыль на предсказаных данных',top_200_compare['predict_profit'].mean())\n",
        "print('Разница',(abs(top_200_compare['real_profit'].mean() - top_200_compare['predict_profit'].mean()) / top_200_compare['predict_profit'].mean()) * 100)"
      ]
    },
    {
      "cell_type": "markdown",
      "metadata": {
        "id": "6myARuaIJALr"
      },
      "source": [
        "#### настоящие данные"
      ]
    },
    {
      "cell_type": "code",
      "execution_count": null,
      "metadata": {
        "id": "MPLl851OJALr"
      },
      "outputs": [],
      "source": [
        "df_0['profit'] = df_0['product'] * barrel_price\n",
        "df_0 = df_0.rename(columns={\"product\": \"predict\"})"
      ]
    },
    {
      "cell_type": "code",
      "execution_count": null,
      "metadata": {
        "id": "OyRIWk1GJALs"
      },
      "outputs": [],
      "source": [
        "df_1['profit'] = df_1['product'] * barrel_price\n",
        "df_1 = df_1.rename(columns={\"product\": \"predict\"})"
      ]
    },
    {
      "cell_type": "code",
      "execution_count": null,
      "metadata": {
        "id": "qr7kW_U1JALs"
      },
      "outputs": [],
      "source": [
        "df_2['profit'] = df_2['product'] * barrel_price\n",
        "df_2 = df_2.rename(columns={\"product\": \"predict\"})"
      ]
    },
    {
      "cell_type": "code",
      "execution_count": null,
      "metadata": {
        "scrolled": true,
        "id": "Pn_BgRJbJALs",
        "outputId": "72c3ee21-d455-4617-dc43-2ffd9cc76c5d"
      },
      "outputs": [
        {
          "name": "stdout",
          "output_type": "stream",
          "text": [
            "Вероятность убытков: 6.90%\n",
            "Средняя прибыль: 0.396165 млрд.руб.\n",
            "Максимальный убыток: -0.3695671193500767\n",
            "Максимальная прибыль: 1.3492668656302222\n",
            "2,5%-квантиль: -0.111216 млрд.руб.\n",
            "97,5%-квантиль: 0.909767 млрд.руб.\n",
            "Доверительный интервал для средней прибыли: (0.37962031514797256, 0.41270965445676966)\n"
          ]
        }
      ],
      "source": [
        "bootstrap(top200_center,'model.predict','real_profit')"
      ]
    },
    {
      "cell_type": "code",
      "execution_count": null,
      "metadata": {
        "id": "Ax3kJErmJALt",
        "outputId": "632a5034-0f7f-464f-bba5-9dbd3012659d"
      },
      "outputs": [
        {
          "name": "stdout",
          "output_type": "stream",
          "text": [
            "Вероятность убытков: 1.50%\n",
            "Средняя прибыль: 0.456045 млрд.руб.\n",
            "Максимальный убыток: -0.1922681091210556\n",
            "Максимальная прибыль: 1.1540472794043521\n",
            "2,5%-квантиль: 0.033821 млрд.руб.\n",
            "97,5%-квантиль: 0.852289 млрд.руб.\n",
            "Доверительный интервал для средней прибыли: (0.44314724866390154, 0.46894296290942206)\n"
          ]
        }
      ],
      "source": [
        "bootstrap(top200_south,'model.predict','real_profit')"
      ]
    },
    {
      "cell_type": "code",
      "execution_count": null,
      "metadata": {
        "id": "-pHaXdMeJALt",
        "outputId": "461935e2-e4ae-48b3-ebdc-c62478251e6c"
      },
      "outputs": [
        {
          "name": "stdout",
          "output_type": "stream",
          "text": [
            "Вероятность убытков: 7.60%\n",
            "Средняя прибыль: 0.404404 млрд.руб.\n",
            "Максимальный убыток: -0.4178569542016144\n",
            "Максимальная прибыль: 1.3305932187701168\n",
            "2,5%-квантиль: -0.163350 млрд.руб.\n",
            "97,5%-квантиль: 0.950360 млрд.руб.\n",
            "Доверительный интервал для средней прибыли: (0.38744579747128044, 0.4213619356654332)\n"
          ]
        }
      ],
      "source": [
        "bootstrap(top200_nort,'model.predict','real_profit')"
      ]
    },
    {
      "cell_type": "markdown",
      "metadata": {
        "id": "7CXxHA7RJALt"
      },
      "source": [
        "### Вывод"
      ]
    },
    {
      "cell_type": "markdown",
      "metadata": {
        "id": "hIUtwOqyJALu"
      },
      "source": [
        "Лидер по предсказанной прибыли северный регион. Учитываю метод бутстрапа самая высокая средняя прибыль в южном регионе где и самый большой риск убытков относительно других регионов, но в целом относительно не высок. Лучший регион для добычи ЮГ. <br>НО если не гнаться за прибылью то самый оптимальный регион это Центр, лучшее соотношение риск/Средняя прибыль.\n",
        "Самый лучший показатель средней прибыли по региону на реальных данных это центр. <br>Самый точный прогноз по средней прибыли в регионе ЮГ."
      ]
    },
    {
      "cell_type": "markdown",
      "metadata": {
        "id": "TG5VAqLYJALu"
      },
      "source": [
        "По настоящим данным, наимболее привлекательный регион север. Нулевой риск, наибольшая средняя прибыль. Минимальная средняя прибыль по настоящим данным это ЮГ. А так же там есть небольшой риск убытков 1.5%"
      ]
    },
    {
      "cell_type": "markdown",
      "metadata": {
        "id": "tllJa8DcJAL0"
      },
      "source": [
        "Резюмируя выше выводы, на основании анализа реальных данных и предсказаний могу сделать вывод что лучший регион для разработки это ЮГ. Наибольшая средняя прибыль, небольшой риск относительно двух других регионов."
      ]
    },
    {
      "cell_type": "markdown",
      "metadata": {
        "id": "mn0KaY9LJAL1"
      },
      "source": [
        "## Чек-лист готовности проекта"
      ]
    },
    {
      "cell_type": "markdown",
      "metadata": {
        "id": "zWe9uIfGJAL1"
      },
      "source": [
        "- [x]  Jupyter Notebook открыт\n",
        "- [x]  Весь код выполняется без ошибок\n",
        "- [x]  Ячейки с кодом расположены в порядке исполнения\n",
        "- [x]  Выполнен шаг 1: данные подготовлены\n",
        "- [x]  Выполнен шаг 2: модели обучены и проверены\n",
        "    - [x]  Данные корректно разбиты на обучающую и валидационную выборки\n",
        "    - [x]  Модели обучены, предсказания сделаны\n",
        "    - [x]  Предсказания и правильные ответы на валидационной выборке сохранены\n",
        "    - [x]  На экране напечатаны результаты\n",
        "    - [x]  Сделаны выводы\n",
        "- [x]  Выполнен шаг 3: проведена подготовка к расчёту прибыли\n",
        "    - [x]  Для всех ключевых значений созданы константы Python\n",
        "    - [x]  Посчитано минимальное среднее количество продукта в месторождениях региона, достаточное для разработки\n",
        "    - [x]  По предыдущему пункту сделаны выводы\n",
        "    - [x]  Написана функция расчёта прибыли\n",
        "- [X]  Выполнен шаг 4: посчитаны риски и прибыль\n",
        "    - [x]  Проведена процедура *Bootstrap*\n",
        "    - [x]  Все параметры бутстрепа соответствуют условию\n",
        "    - [x]  Найдены все нужные величины\n",
        "    - [x]  Предложен регион для разработки месторождения\n",
        "    - [x]  Выбор региона обоснован"
      ]
    }
  ],
  "metadata": {
    "ExecuteTimeLog": [
      {
        "duration": 1185,
        "start_time": "2022-06-17T05:23:19.598Z"
      },
      {
        "duration": 38,
        "start_time": "2022-06-17T05:24:30.354Z"
      },
      {
        "duration": 1156,
        "start_time": "2022-06-17T05:25:17.405Z"
      },
      {
        "duration": 33,
        "start_time": "2022-06-17T05:25:24.955Z"
      },
      {
        "duration": 15,
        "start_time": "2022-06-17T05:25:34.655Z"
      },
      {
        "duration": 18,
        "start_time": "2022-06-17T05:25:44.658Z"
      },
      {
        "duration": 21,
        "start_time": "2022-06-17T05:30:03.793Z"
      },
      {
        "duration": 13,
        "start_time": "2022-06-17T05:47:16.810Z"
      },
      {
        "duration": 141,
        "start_time": "2022-06-17T05:48:48.648Z"
      },
      {
        "duration": 43,
        "start_time": "2022-06-17T05:48:51.725Z"
      },
      {
        "duration": 5,
        "start_time": "2022-06-17T05:48:59.992Z"
      },
      {
        "duration": 17,
        "start_time": "2022-06-17T05:49:11.042Z"
      },
      {
        "duration": 6,
        "start_time": "2022-06-17T05:49:17.651Z"
      },
      {
        "duration": 11,
        "start_time": "2022-06-17T05:49:23.642Z"
      },
      {
        "duration": 12,
        "start_time": "2022-06-17T05:49:28.745Z"
      },
      {
        "duration": 5,
        "start_time": "2022-06-17T05:50:51.600Z"
      },
      {
        "duration": 35,
        "start_time": "2022-06-17T05:50:51.927Z"
      },
      {
        "duration": 10,
        "start_time": "2022-06-17T05:50:54.454Z"
      },
      {
        "duration": 60,
        "start_time": "2022-06-17T05:51:32.025Z"
      },
      {
        "duration": 4,
        "start_time": "2022-06-17T05:55:23.453Z"
      },
      {
        "duration": 6,
        "start_time": "2022-06-17T05:57:53.890Z"
      },
      {
        "duration": 13,
        "start_time": "2022-06-17T05:59:42.950Z"
      },
      {
        "duration": 7,
        "start_time": "2022-06-17T06:00:00.203Z"
      },
      {
        "duration": 1308,
        "start_time": "2022-06-17T06:00:00.212Z"
      },
      {
        "duration": 35,
        "start_time": "2022-06-17T06:00:01.523Z"
      },
      {
        "duration": 55,
        "start_time": "2022-06-17T06:00:01.562Z"
      },
      {
        "duration": 227,
        "start_time": "2022-06-17T06:00:01.620Z"
      },
      {
        "duration": 84,
        "start_time": "2022-06-17T06:00:01.850Z"
      },
      {
        "duration": 42,
        "start_time": "2022-06-17T06:00:01.938Z"
      },
      {
        "duration": 16,
        "start_time": "2022-06-17T06:00:01.983Z"
      },
      {
        "duration": 90,
        "start_time": "2022-06-17T06:00:02.002Z"
      },
      {
        "duration": 146,
        "start_time": "2022-06-17T06:00:02.095Z"
      },
      {
        "duration": 26,
        "start_time": "2022-06-17T06:00:18.822Z"
      },
      {
        "duration": 16,
        "start_time": "2022-06-17T06:00:20.588Z"
      },
      {
        "duration": 6,
        "start_time": "2022-06-17T06:00:24.049Z"
      },
      {
        "duration": 23,
        "start_time": "2022-06-17T06:00:31.405Z"
      },
      {
        "duration": 6,
        "start_time": "2022-06-17T06:00:33.270Z"
      },
      {
        "duration": 5,
        "start_time": "2022-06-17T06:00:35.406Z"
      },
      {
        "duration": 83,
        "start_time": "2022-06-17T06:03:52.561Z"
      },
      {
        "duration": 14,
        "start_time": "2022-06-17T06:04:19.700Z"
      },
      {
        "duration": 8,
        "start_time": "2022-06-17T06:04:23.202Z"
      },
      {
        "duration": 5,
        "start_time": "2022-06-17T06:04:31.011Z"
      },
      {
        "duration": 5,
        "start_time": "2022-06-17T06:04:34.707Z"
      },
      {
        "duration": 81,
        "start_time": "2022-06-17T06:04:44.953Z"
      },
      {
        "duration": 18,
        "start_time": "2022-06-17T06:04:51.479Z"
      },
      {
        "duration": 15,
        "start_time": "2022-06-17T06:04:57.083Z"
      },
      {
        "duration": 29,
        "start_time": "2022-06-17T06:05:00.639Z"
      },
      {
        "duration": 27,
        "start_time": "2022-06-17T06:15:51.482Z"
      },
      {
        "duration": 12,
        "start_time": "2022-06-17T06:19:16.877Z"
      },
      {
        "duration": 25,
        "start_time": "2022-06-17T07:10:48.514Z"
      },
      {
        "duration": 116,
        "start_time": "2022-06-17T07:10:54.313Z"
      },
      {
        "duration": 15,
        "start_time": "2022-06-17T07:10:56.082Z"
      },
      {
        "duration": 93,
        "start_time": "2022-06-17T07:10:56.307Z"
      },
      {
        "duration": 34,
        "start_time": "2022-06-17T07:11:02.258Z"
      },
      {
        "duration": 4,
        "start_time": "2022-06-17T07:15:51.488Z"
      },
      {
        "duration": 6,
        "start_time": "2022-06-17T07:15:58.795Z"
      },
      {
        "duration": 13,
        "start_time": "2022-06-17T07:15:58.990Z"
      },
      {
        "duration": 90,
        "start_time": "2022-06-17T07:16:05.655Z"
      },
      {
        "duration": 18,
        "start_time": "2022-06-17T07:16:07.499Z"
      },
      {
        "duration": 4,
        "start_time": "2022-06-17T07:16:08.317Z"
      },
      {
        "duration": 10,
        "start_time": "2022-06-17T07:16:08.488Z"
      },
      {
        "duration": 19,
        "start_time": "2022-06-17T07:16:08.712Z"
      },
      {
        "duration": 5,
        "start_time": "2022-06-17T07:16:32.186Z"
      },
      {
        "duration": 22,
        "start_time": "2022-06-17T07:16:35.654Z"
      },
      {
        "duration": 26,
        "start_time": "2022-06-17T07:16:40.522Z"
      },
      {
        "duration": 12,
        "start_time": "2022-06-17T07:16:42.979Z"
      },
      {
        "duration": 93,
        "start_time": "2022-06-17T07:16:43.170Z"
      },
      {
        "duration": 19,
        "start_time": "2022-06-17T07:16:44.946Z"
      },
      {
        "duration": 14,
        "start_time": "2022-06-17T07:16:45.098Z"
      },
      {
        "duration": 32,
        "start_time": "2022-06-17T07:16:45.209Z"
      },
      {
        "duration": 5,
        "start_time": "2022-06-17T07:17:05.976Z"
      },
      {
        "duration": 1229,
        "start_time": "2022-06-17T07:17:05.983Z"
      },
      {
        "duration": 21,
        "start_time": "2022-06-17T07:17:07.214Z"
      },
      {
        "duration": 48,
        "start_time": "2022-06-17T07:17:07.242Z"
      },
      {
        "duration": 32,
        "start_time": "2022-06-17T07:17:07.293Z"
      },
      {
        "duration": 37,
        "start_time": "2022-06-17T07:17:07.327Z"
      },
      {
        "duration": 8,
        "start_time": "2022-06-17T07:17:07.366Z"
      },
      {
        "duration": 35,
        "start_time": "2022-06-17T07:17:07.376Z"
      },
      {
        "duration": 4,
        "start_time": "2022-06-17T07:17:07.414Z"
      },
      {
        "duration": 13,
        "start_time": "2022-06-17T07:17:07.420Z"
      },
      {
        "duration": 55,
        "start_time": "2022-06-17T07:17:07.438Z"
      },
      {
        "duration": 160,
        "start_time": "2022-06-17T07:17:07.495Z"
      },
      {
        "duration": 13,
        "start_time": "2022-06-17T07:17:07.665Z"
      },
      {
        "duration": 15,
        "start_time": "2022-06-17T07:17:07.682Z"
      },
      {
        "duration": 40,
        "start_time": "2022-06-17T07:17:07.699Z"
      },
      {
        "duration": 14,
        "start_time": "2022-06-17T07:17:07.745Z"
      },
      {
        "duration": 127,
        "start_time": "2022-06-17T07:17:07.762Z"
      },
      {
        "duration": 40,
        "start_time": "2022-06-17T07:17:07.891Z"
      },
      {
        "duration": 15,
        "start_time": "2022-06-17T07:28:41.897Z"
      },
      {
        "duration": 19,
        "start_time": "2022-06-17T07:30:44.699Z"
      },
      {
        "duration": 34,
        "start_time": "2022-06-17T07:30:59.924Z"
      },
      {
        "duration": 14,
        "start_time": "2022-06-17T07:31:10.057Z"
      },
      {
        "duration": 514,
        "start_time": "2022-06-17T07:31:10.075Z"
      },
      {
        "duration": 15,
        "start_time": "2022-06-17T07:31:10.590Z"
      },
      {
        "duration": 20,
        "start_time": "2022-06-17T07:31:10.608Z"
      },
      {
        "duration": 56,
        "start_time": "2022-06-17T07:31:10.630Z"
      },
      {
        "duration": 17,
        "start_time": "2022-06-17T07:31:10.687Z"
      },
      {
        "duration": 4,
        "start_time": "2022-06-17T07:31:10.706Z"
      },
      {
        "duration": 80,
        "start_time": "2022-06-17T07:31:10.712Z"
      },
      {
        "duration": 6,
        "start_time": "2022-06-17T07:31:10.795Z"
      },
      {
        "duration": 6,
        "start_time": "2022-06-17T07:31:10.802Z"
      },
      {
        "duration": 15,
        "start_time": "2022-06-17T07:31:10.810Z"
      },
      {
        "duration": 61,
        "start_time": "2022-06-17T07:31:10.826Z"
      },
      {
        "duration": 9,
        "start_time": "2022-06-17T07:31:10.932Z"
      },
      {
        "duration": 103,
        "start_time": "2022-06-17T07:31:10.946Z"
      },
      {
        "duration": 46,
        "start_time": "2022-06-17T07:31:11.051Z"
      },
      {
        "duration": 35,
        "start_time": "2022-06-17T07:31:11.099Z"
      },
      {
        "duration": 156,
        "start_time": "2022-06-17T07:31:11.137Z"
      },
      {
        "duration": 40,
        "start_time": "2022-06-17T07:31:11.295Z"
      },
      {
        "duration": 4,
        "start_time": "2022-06-17T08:22:46.184Z"
      },
      {
        "duration": 4,
        "start_time": "2022-06-17T08:25:31.755Z"
      },
      {
        "duration": 3,
        "start_time": "2022-06-17T08:38:08.951Z"
      },
      {
        "duration": 5,
        "start_time": "2022-06-17T08:38:23.282Z"
      },
      {
        "duration": 76,
        "start_time": "2022-06-17T08:47:46.456Z"
      },
      {
        "duration": 103,
        "start_time": "2022-06-17T08:48:19.629Z"
      },
      {
        "duration": 33,
        "start_time": "2022-06-17T08:48:45.587Z"
      },
      {
        "duration": 31,
        "start_time": "2022-06-17T08:48:53.447Z"
      },
      {
        "duration": 101,
        "start_time": "2022-06-17T08:59:53.934Z"
      },
      {
        "duration": 16,
        "start_time": "2022-06-17T09:01:40.522Z"
      },
      {
        "duration": 10,
        "start_time": "2022-06-17T09:01:41.982Z"
      },
      {
        "duration": 14,
        "start_time": "2022-06-17T09:01:42.144Z"
      },
      {
        "duration": 16,
        "start_time": "2022-06-17T09:01:46.378Z"
      },
      {
        "duration": 601,
        "start_time": "2022-06-17T09:01:46.399Z"
      },
      {
        "duration": 32,
        "start_time": "2022-06-17T09:01:47.002Z"
      },
      {
        "duration": 26,
        "start_time": "2022-06-17T09:01:47.039Z"
      },
      {
        "duration": 51,
        "start_time": "2022-06-17T09:01:47.068Z"
      },
      {
        "duration": 70,
        "start_time": "2022-06-17T09:01:47.121Z"
      },
      {
        "duration": 3,
        "start_time": "2022-06-17T09:01:47.193Z"
      },
      {
        "duration": 26,
        "start_time": "2022-06-17T09:01:47.198Z"
      },
      {
        "duration": 87,
        "start_time": "2022-06-17T09:01:47.226Z"
      },
      {
        "duration": 65,
        "start_time": "2022-06-17T09:01:47.315Z"
      },
      {
        "duration": 55,
        "start_time": "2022-06-17T09:01:47.383Z"
      },
      {
        "duration": 22,
        "start_time": "2022-06-17T09:01:47.445Z"
      },
      {
        "duration": 66,
        "start_time": "2022-06-17T09:01:47.540Z"
      },
      {
        "duration": 36,
        "start_time": "2022-06-17T09:01:47.609Z"
      },
      {
        "duration": 157,
        "start_time": "2022-06-17T09:01:47.647Z"
      },
      {
        "duration": 19,
        "start_time": "2022-06-17T09:01:47.805Z"
      },
      {
        "duration": 76,
        "start_time": "2022-06-17T09:01:47.826Z"
      },
      {
        "duration": 123,
        "start_time": "2022-06-17T09:01:47.907Z"
      },
      {
        "duration": 50,
        "start_time": "2022-06-17T09:01:48.038Z"
      },
      {
        "duration": 14,
        "start_time": "2022-06-17T09:02:15.723Z"
      },
      {
        "duration": 11,
        "start_time": "2022-06-17T09:02:20.179Z"
      },
      {
        "duration": 11,
        "start_time": "2022-06-17T09:02:30.804Z"
      },
      {
        "duration": 9,
        "start_time": "2022-06-17T09:02:40.387Z"
      },
      {
        "duration": 11,
        "start_time": "2022-06-17T09:02:47.573Z"
      },
      {
        "duration": 9,
        "start_time": "2022-06-17T09:02:51.565Z"
      },
      {
        "duration": 6,
        "start_time": "2022-06-17T09:03:18.965Z"
      },
      {
        "duration": 7,
        "start_time": "2022-06-17T09:03:20.762Z"
      },
      {
        "duration": 5,
        "start_time": "2022-06-17T09:03:24.692Z"
      },
      {
        "duration": 17,
        "start_time": "2022-06-17T09:03:37.144Z"
      },
      {
        "duration": 6,
        "start_time": "2022-06-17T09:03:47.774Z"
      },
      {
        "duration": 5,
        "start_time": "2022-06-17T09:03:52.774Z"
      },
      {
        "duration": 10,
        "start_time": "2022-06-17T09:04:12.677Z"
      },
      {
        "duration": 6,
        "start_time": "2022-06-17T09:04:26.893Z"
      },
      {
        "duration": 3,
        "start_time": "2022-06-17T09:11:42.418Z"
      },
      {
        "duration": 4,
        "start_time": "2022-06-17T09:11:48.466Z"
      },
      {
        "duration": 3,
        "start_time": "2022-06-17T09:12:37.171Z"
      },
      {
        "duration": 5,
        "start_time": "2022-06-17T09:12:40.866Z"
      },
      {
        "duration": 5,
        "start_time": "2022-06-17T09:13:45.204Z"
      },
      {
        "duration": 2,
        "start_time": "2022-06-17T09:16:10.392Z"
      },
      {
        "duration": 8,
        "start_time": "2022-06-17T09:16:13.258Z"
      },
      {
        "duration": 9,
        "start_time": "2022-06-17T09:26:51.024Z"
      },
      {
        "duration": 5,
        "start_time": "2022-06-17T09:29:31.323Z"
      },
      {
        "duration": 4,
        "start_time": "2022-06-17T09:29:31.611Z"
      },
      {
        "duration": 4,
        "start_time": "2022-06-17T09:30:35.854Z"
      },
      {
        "duration": 6,
        "start_time": "2022-06-17T09:30:38.123Z"
      },
      {
        "duration": 4,
        "start_time": "2022-06-17T09:37:42.404Z"
      },
      {
        "duration": 6,
        "start_time": "2022-06-17T09:47:22.568Z"
      },
      {
        "duration": 11,
        "start_time": "2022-06-17T09:47:43.913Z"
      },
      {
        "duration": 3,
        "start_time": "2022-06-17T09:47:48.778Z"
      },
      {
        "duration": 10,
        "start_time": "2022-06-17T09:47:52.201Z"
      },
      {
        "duration": 11,
        "start_time": "2022-06-17T09:48:06.045Z"
      },
      {
        "duration": 3,
        "start_time": "2022-06-17T09:49:09.602Z"
      },
      {
        "duration": 4,
        "start_time": "2022-06-17T09:49:43.362Z"
      },
      {
        "duration": 6,
        "start_time": "2022-06-17T09:49:47.810Z"
      },
      {
        "duration": 6,
        "start_time": "2022-06-17T09:51:19.116Z"
      },
      {
        "duration": 11,
        "start_time": "2022-06-17T09:51:21.654Z"
      },
      {
        "duration": 26,
        "start_time": "2022-06-17T09:51:33.259Z"
      },
      {
        "duration": 17,
        "start_time": "2022-06-17T09:51:40.842Z"
      },
      {
        "duration": 3,
        "start_time": "2022-06-17T09:51:43.478Z"
      },
      {
        "duration": 8,
        "start_time": "2022-06-17T09:52:21.756Z"
      },
      {
        "duration": 9,
        "start_time": "2022-06-17T09:53:12.181Z"
      },
      {
        "duration": 5,
        "start_time": "2022-06-17T09:53:14.126Z"
      },
      {
        "duration": 3,
        "start_time": "2022-06-17T09:53:14.479Z"
      },
      {
        "duration": 5,
        "start_time": "2022-06-17T09:53:31.117Z"
      },
      {
        "duration": 7,
        "start_time": "2022-06-17T09:56:16.356Z"
      },
      {
        "duration": 3,
        "start_time": "2022-06-17T09:56:27.178Z"
      },
      {
        "duration": 3,
        "start_time": "2022-06-17T09:56:27.504Z"
      },
      {
        "duration": 4,
        "start_time": "2022-06-17T09:56:45.321Z"
      },
      {
        "duration": 5,
        "start_time": "2022-06-17T10:06:16.986Z"
      },
      {
        "duration": 12,
        "start_time": "2022-06-17T10:06:41.271Z"
      },
      {
        "duration": 5,
        "start_time": "2022-06-17T10:07:01.905Z"
      },
      {
        "duration": 13,
        "start_time": "2022-06-17T10:07:25.844Z"
      },
      {
        "duration": 7,
        "start_time": "2022-06-17T10:07:45.671Z"
      },
      {
        "duration": 5,
        "start_time": "2022-06-17T10:07:53.594Z"
      },
      {
        "duration": 5,
        "start_time": "2022-06-17T10:07:55.009Z"
      },
      {
        "duration": 4,
        "start_time": "2022-06-17T10:08:18.075Z"
      },
      {
        "duration": 52,
        "start_time": "2022-06-17T10:46:28.601Z"
      },
      {
        "duration": 11,
        "start_time": "2022-06-17T10:46:37.359Z"
      },
      {
        "duration": 9,
        "start_time": "2022-06-17T10:47:03.658Z"
      },
      {
        "duration": 6,
        "start_time": "2022-06-17T10:47:06.752Z"
      },
      {
        "duration": 448,
        "start_time": "2022-06-17T10:47:06.760Z"
      },
      {
        "duration": 23,
        "start_time": "2022-06-17T10:47:07.210Z"
      },
      {
        "duration": 18,
        "start_time": "2022-06-17T10:47:07.234Z"
      },
      {
        "duration": 24,
        "start_time": "2022-06-17T10:47:07.258Z"
      },
      {
        "duration": 16,
        "start_time": "2022-06-17T10:47:07.283Z"
      },
      {
        "duration": 5,
        "start_time": "2022-06-17T10:47:07.301Z"
      },
      {
        "duration": 34,
        "start_time": "2022-06-17T10:47:07.308Z"
      },
      {
        "duration": 23,
        "start_time": "2022-06-17T10:47:07.344Z"
      },
      {
        "duration": 13,
        "start_time": "2022-06-17T10:47:07.369Z"
      },
      {
        "duration": 14,
        "start_time": "2022-06-17T10:47:07.383Z"
      },
      {
        "duration": 137,
        "start_time": "2022-06-17T10:47:07.399Z"
      },
      {
        "duration": 36,
        "start_time": "2022-06-17T10:47:07.537Z"
      },
      {
        "duration": 16,
        "start_time": "2022-06-17T10:47:07.577Z"
      },
      {
        "duration": 41,
        "start_time": "2022-06-17T10:47:07.594Z"
      },
      {
        "duration": 128,
        "start_time": "2022-06-17T10:47:07.640Z"
      },
      {
        "duration": 15,
        "start_time": "2022-06-17T10:47:07.769Z"
      },
      {
        "duration": 145,
        "start_time": "2022-06-17T10:47:07.786Z"
      },
      {
        "duration": 26,
        "start_time": "2022-06-17T10:47:07.939Z"
      },
      {
        "duration": 12,
        "start_time": "2022-06-17T10:47:07.966Z"
      },
      {
        "duration": 12,
        "start_time": "2022-06-17T10:47:07.980Z"
      },
      {
        "duration": 17,
        "start_time": "2022-06-17T10:47:07.993Z"
      },
      {
        "duration": 0,
        "start_time": "2022-06-17T10:47:08.012Z"
      },
      {
        "duration": 0,
        "start_time": "2022-06-17T10:47:08.014Z"
      },
      {
        "duration": 12,
        "start_time": "2022-06-17T10:48:55.451Z"
      },
      {
        "duration": 5,
        "start_time": "2022-06-17T10:48:59.178Z"
      },
      {
        "duration": 7,
        "start_time": "2022-06-17T10:49:15.801Z"
      },
      {
        "duration": 56,
        "start_time": "2022-06-17T10:50:25.727Z"
      },
      {
        "duration": 9,
        "start_time": "2022-06-17T10:50:44.512Z"
      },
      {
        "duration": 11,
        "start_time": "2022-06-17T10:53:00.037Z"
      },
      {
        "duration": 11,
        "start_time": "2022-06-17T11:42:04.296Z"
      },
      {
        "duration": 13,
        "start_time": "2022-06-17T11:42:19.784Z"
      },
      {
        "duration": 5,
        "start_time": "2022-06-17T11:42:31.217Z"
      },
      {
        "duration": 7,
        "start_time": "2022-06-17T11:42:34.385Z"
      },
      {
        "duration": 420,
        "start_time": "2022-06-17T11:42:34.394Z"
      },
      {
        "duration": 19,
        "start_time": "2022-06-17T11:42:34.819Z"
      },
      {
        "duration": 18,
        "start_time": "2022-06-17T11:42:34.841Z"
      },
      {
        "duration": 26,
        "start_time": "2022-06-17T11:42:34.861Z"
      },
      {
        "duration": 18,
        "start_time": "2022-06-17T11:42:34.889Z"
      },
      {
        "duration": 23,
        "start_time": "2022-06-17T11:42:34.909Z"
      },
      {
        "duration": 15,
        "start_time": "2022-06-17T11:42:34.933Z"
      },
      {
        "duration": 10,
        "start_time": "2022-06-17T11:42:34.950Z"
      },
      {
        "duration": 13,
        "start_time": "2022-06-17T11:42:34.962Z"
      },
      {
        "duration": 58,
        "start_time": "2022-06-17T11:42:34.977Z"
      },
      {
        "duration": 95,
        "start_time": "2022-06-17T11:42:35.038Z"
      },
      {
        "duration": 15,
        "start_time": "2022-06-17T11:42:35.135Z"
      },
      {
        "duration": 83,
        "start_time": "2022-06-17T11:42:35.152Z"
      },
      {
        "duration": 92,
        "start_time": "2022-06-17T11:42:35.238Z"
      },
      {
        "duration": 28,
        "start_time": "2022-06-17T11:42:35.333Z"
      },
      {
        "duration": 76,
        "start_time": "2022-06-17T11:42:35.363Z"
      },
      {
        "duration": 90,
        "start_time": "2022-06-17T11:42:35.441Z"
      },
      {
        "duration": 11,
        "start_time": "2022-06-17T11:42:35.533Z"
      },
      {
        "duration": 6,
        "start_time": "2022-06-17T11:42:35.546Z"
      },
      {
        "duration": 8,
        "start_time": "2022-06-17T11:42:35.553Z"
      },
      {
        "duration": 10,
        "start_time": "2022-06-17T11:42:35.563Z"
      },
      {
        "duration": 1320,
        "start_time": "2022-06-17T11:42:35.627Z"
      },
      {
        "duration": 7,
        "start_time": "2022-06-17T11:42:36.950Z"
      },
      {
        "duration": 13,
        "start_time": "2022-06-17T11:42:36.958Z"
      },
      {
        "duration": 3,
        "start_time": "2022-06-17T11:44:52.523Z"
      },
      {
        "duration": 4,
        "start_time": "2022-06-17T11:44:53.478Z"
      },
      {
        "duration": 7,
        "start_time": "2022-06-17T11:44:54.802Z"
      },
      {
        "duration": 9,
        "start_time": "2022-06-17T11:46:04.939Z"
      },
      {
        "duration": 5,
        "start_time": "2022-06-17T11:46:06.044Z"
      },
      {
        "duration": 14,
        "start_time": "2022-06-17T11:46:06.254Z"
      },
      {
        "duration": 1206,
        "start_time": "2022-06-17T11:46:14.012Z"
      },
      {
        "duration": 12,
        "start_time": "2022-06-17T11:46:15.219Z"
      },
      {
        "duration": 681,
        "start_time": "2022-06-17T11:46:26.081Z"
      },
      {
        "duration": 718,
        "start_time": "2022-06-17T11:46:38.926Z"
      },
      {
        "duration": 4,
        "start_time": "2022-06-17T11:50:32.023Z"
      },
      {
        "duration": 7,
        "start_time": "2022-06-17T11:50:39.864Z"
      },
      {
        "duration": 679,
        "start_time": "2022-06-17T11:51:04.077Z"
      },
      {
        "duration": 6,
        "start_time": "2022-06-17T11:51:06.104Z"
      },
      {
        "duration": 10,
        "start_time": "2022-06-17T11:51:21.384Z"
      },
      {
        "duration": 9,
        "start_time": "2022-06-17T12:06:06.475Z"
      },
      {
        "duration": 7,
        "start_time": "2022-06-17T12:06:25.515Z"
      },
      {
        "duration": 692,
        "start_time": "2022-06-17T12:06:39.270Z"
      },
      {
        "duration": 10,
        "start_time": "2022-06-17T12:07:02.098Z"
      },
      {
        "duration": 7,
        "start_time": "2022-06-17T12:14:51.856Z"
      },
      {
        "duration": 6,
        "start_time": "2022-06-17T12:14:53.999Z"
      },
      {
        "duration": 5,
        "start_time": "2022-06-17T12:14:57.201Z"
      },
      {
        "duration": 406,
        "start_time": "2022-06-17T12:14:57.208Z"
      },
      {
        "duration": 20,
        "start_time": "2022-06-17T12:14:57.616Z"
      },
      {
        "duration": 9,
        "start_time": "2022-06-17T12:14:57.638Z"
      },
      {
        "duration": 27,
        "start_time": "2022-06-17T12:14:57.649Z"
      },
      {
        "duration": 17,
        "start_time": "2022-06-17T12:14:57.678Z"
      },
      {
        "duration": 17,
        "start_time": "2022-06-17T12:14:57.697Z"
      },
      {
        "duration": 39,
        "start_time": "2022-06-17T12:14:57.718Z"
      },
      {
        "duration": 25,
        "start_time": "2022-06-17T12:14:57.759Z"
      },
      {
        "duration": 42,
        "start_time": "2022-06-17T12:14:57.787Z"
      },
      {
        "duration": 97,
        "start_time": "2022-06-17T12:14:57.830Z"
      },
      {
        "duration": 10,
        "start_time": "2022-06-17T12:14:57.930Z"
      },
      {
        "duration": 119,
        "start_time": "2022-06-17T12:14:57.942Z"
      },
      {
        "duration": 64,
        "start_time": "2022-06-17T12:14:58.064Z"
      },
      {
        "duration": 104,
        "start_time": "2022-06-17T12:14:58.130Z"
      },
      {
        "duration": 32,
        "start_time": "2022-06-17T12:14:58.235Z"
      },
      {
        "duration": 19,
        "start_time": "2022-06-17T12:14:58.269Z"
      },
      {
        "duration": 156,
        "start_time": "2022-06-17T12:14:58.290Z"
      },
      {
        "duration": 47,
        "start_time": "2022-06-17T12:14:58.448Z"
      },
      {
        "duration": 21,
        "start_time": "2022-06-17T12:14:58.497Z"
      },
      {
        "duration": 32,
        "start_time": "2022-06-17T12:14:58.520Z"
      },
      {
        "duration": 30,
        "start_time": "2022-06-17T12:14:58.554Z"
      },
      {
        "duration": 735,
        "start_time": "2022-06-17T12:14:58.586Z"
      },
      {
        "duration": 7,
        "start_time": "2022-06-17T12:14:59.327Z"
      },
      {
        "duration": 22,
        "start_time": "2022-06-17T12:14:59.336Z"
      },
      {
        "duration": 8,
        "start_time": "2022-06-17T12:15:23.208Z"
      },
      {
        "duration": 720,
        "start_time": "2022-06-17T12:15:24.615Z"
      },
      {
        "duration": 720,
        "start_time": "2022-06-17T12:15:28.944Z"
      },
      {
        "duration": 6,
        "start_time": "2022-06-17T12:23:50.214Z"
      },
      {
        "duration": 5,
        "start_time": "2022-06-17T12:27:21.777Z"
      },
      {
        "duration": 670,
        "start_time": "2022-06-17T12:27:38.097Z"
      },
      {
        "duration": 5,
        "start_time": "2022-06-17T12:27:48.410Z"
      },
      {
        "duration": 750,
        "start_time": "2022-06-17T12:27:50.472Z"
      },
      {
        "duration": 754,
        "start_time": "2022-06-17T12:28:01.777Z"
      },
      {
        "duration": 720,
        "start_time": "2022-06-17T12:28:16.746Z"
      },
      {
        "duration": 7,
        "start_time": "2022-06-17T12:28:42.344Z"
      },
      {
        "duration": 420,
        "start_time": "2022-06-17T12:28:42.353Z"
      },
      {
        "duration": 16,
        "start_time": "2022-06-17T12:28:42.774Z"
      },
      {
        "duration": 9,
        "start_time": "2022-06-17T12:28:42.792Z"
      },
      {
        "duration": 30,
        "start_time": "2022-06-17T12:28:42.803Z"
      },
      {
        "duration": 14,
        "start_time": "2022-06-17T12:28:42.835Z"
      },
      {
        "duration": 3,
        "start_time": "2022-06-17T12:28:42.851Z"
      },
      {
        "duration": 24,
        "start_time": "2022-06-17T12:28:42.856Z"
      },
      {
        "duration": 14,
        "start_time": "2022-06-17T12:28:42.881Z"
      },
      {
        "duration": 12,
        "start_time": "2022-06-17T12:28:42.897Z"
      },
      {
        "duration": 23,
        "start_time": "2022-06-17T12:28:42.911Z"
      },
      {
        "duration": 5,
        "start_time": "2022-06-17T12:28:42.936Z"
      },
      {
        "duration": 202,
        "start_time": "2022-06-17T12:28:42.943Z"
      },
      {
        "duration": 81,
        "start_time": "2022-06-17T12:28:43.148Z"
      },
      {
        "duration": 6,
        "start_time": "2022-06-17T12:28:43.232Z"
      },
      {
        "duration": 102,
        "start_time": "2022-06-17T12:28:43.240Z"
      },
      {
        "duration": 17,
        "start_time": "2022-06-17T12:28:43.344Z"
      },
      {
        "duration": 68,
        "start_time": "2022-06-17T12:28:43.363Z"
      },
      {
        "duration": 96,
        "start_time": "2022-06-17T12:28:43.433Z"
      },
      {
        "duration": 8,
        "start_time": "2022-06-17T12:28:43.531Z"
      },
      {
        "duration": 8,
        "start_time": "2022-06-17T12:28:43.540Z"
      },
      {
        "duration": 10,
        "start_time": "2022-06-17T12:28:43.549Z"
      },
      {
        "duration": 9,
        "start_time": "2022-06-17T12:28:43.560Z"
      },
      {
        "duration": 745,
        "start_time": "2022-06-17T12:28:43.571Z"
      },
      {
        "duration": 12,
        "start_time": "2022-06-17T12:28:44.319Z"
      },
      {
        "duration": 732,
        "start_time": "2022-06-17T12:28:44.334Z"
      },
      {
        "duration": 7,
        "start_time": "2022-06-17T12:28:45.068Z"
      },
      {
        "duration": 677,
        "start_time": "2022-06-17T12:28:45.076Z"
      },
      {
        "duration": 5,
        "start_time": "2022-06-17T12:50:27.137Z"
      },
      {
        "duration": 417,
        "start_time": "2022-06-17T12:50:27.143Z"
      },
      {
        "duration": 14,
        "start_time": "2022-06-17T12:50:27.565Z"
      },
      {
        "duration": 9,
        "start_time": "2022-06-17T12:50:27.580Z"
      },
      {
        "duration": 16,
        "start_time": "2022-06-17T12:50:27.592Z"
      },
      {
        "duration": 16,
        "start_time": "2022-06-17T12:50:27.626Z"
      },
      {
        "duration": 3,
        "start_time": "2022-06-17T12:50:27.644Z"
      },
      {
        "duration": 11,
        "start_time": "2022-06-17T12:50:27.649Z"
      },
      {
        "duration": 7,
        "start_time": "2022-06-17T12:50:27.662Z"
      },
      {
        "duration": 17,
        "start_time": "2022-06-17T12:50:27.671Z"
      },
      {
        "duration": 41,
        "start_time": "2022-06-17T12:50:27.691Z"
      },
      {
        "duration": 96,
        "start_time": "2022-06-17T12:50:27.735Z"
      },
      {
        "duration": 20,
        "start_time": "2022-06-17T12:50:27.833Z"
      },
      {
        "duration": 91,
        "start_time": "2022-06-17T12:50:27.855Z"
      },
      {
        "duration": 6,
        "start_time": "2022-06-17T12:50:28.029Z"
      },
      {
        "duration": 103,
        "start_time": "2022-06-17T12:50:28.037Z"
      },
      {
        "duration": 14,
        "start_time": "2022-06-17T12:50:28.141Z"
      },
      {
        "duration": 3,
        "start_time": "2022-06-17T12:50:28.158Z"
      },
      {
        "duration": 99,
        "start_time": "2022-06-17T12:50:28.229Z"
      },
      {
        "duration": 4,
        "start_time": "2022-06-17T12:50:28.330Z"
      },
      {
        "duration": 8,
        "start_time": "2022-06-17T12:50:28.335Z"
      },
      {
        "duration": 9,
        "start_time": "2022-06-17T12:50:28.344Z"
      },
      {
        "duration": 7,
        "start_time": "2022-06-17T12:50:28.354Z"
      },
      {
        "duration": 720,
        "start_time": "2022-06-17T12:50:28.363Z"
      },
      {
        "duration": 8,
        "start_time": "2022-06-17T12:50:29.084Z"
      },
      {
        "duration": 724,
        "start_time": "2022-06-17T12:50:29.094Z"
      },
      {
        "duration": 10,
        "start_time": "2022-06-17T12:50:29.820Z"
      },
      {
        "duration": 777,
        "start_time": "2022-06-17T12:50:29.832Z"
      },
      {
        "duration": 75,
        "start_time": "2022-06-19T06:28:58.642Z"
      },
      {
        "duration": 1394,
        "start_time": "2022-06-19T06:29:02.083Z"
      },
      {
        "duration": 1330,
        "start_time": "2022-06-19T06:29:03.480Z"
      },
      {
        "duration": 31,
        "start_time": "2022-06-19T06:29:04.812Z"
      },
      {
        "duration": 41,
        "start_time": "2022-06-19T06:29:04.849Z"
      },
      {
        "duration": 39,
        "start_time": "2022-06-19T06:29:04.894Z"
      },
      {
        "duration": 26,
        "start_time": "2022-06-19T06:29:04.935Z"
      },
      {
        "duration": 50,
        "start_time": "2022-06-19T06:29:04.965Z"
      },
      {
        "duration": 61,
        "start_time": "2022-06-19T06:29:05.017Z"
      },
      {
        "duration": 22,
        "start_time": "2022-06-19T06:29:05.080Z"
      },
      {
        "duration": 63,
        "start_time": "2022-06-19T06:29:05.104Z"
      },
      {
        "duration": 78,
        "start_time": "2022-06-19T06:29:05.170Z"
      },
      {
        "duration": 73,
        "start_time": "2022-06-19T06:29:05.255Z"
      },
      {
        "duration": 51,
        "start_time": "2022-06-19T06:29:05.331Z"
      },
      {
        "duration": 65,
        "start_time": "2022-06-19T06:29:05.387Z"
      },
      {
        "duration": 75,
        "start_time": "2022-06-19T06:29:05.460Z"
      },
      {
        "duration": 49,
        "start_time": "2022-06-19T06:29:05.537Z"
      },
      {
        "duration": 43,
        "start_time": "2022-06-19T06:29:05.590Z"
      },
      {
        "duration": 20,
        "start_time": "2022-06-19T06:29:05.637Z"
      },
      {
        "duration": 111,
        "start_time": "2022-06-19T06:29:05.661Z"
      },
      {
        "duration": 10,
        "start_time": "2022-06-19T06:29:05.774Z"
      },
      {
        "duration": 15,
        "start_time": "2022-06-19T06:29:05.787Z"
      },
      {
        "duration": 20,
        "start_time": "2022-06-19T06:29:05.804Z"
      },
      {
        "duration": 47,
        "start_time": "2022-06-19T06:29:05.827Z"
      },
      {
        "duration": 1036,
        "start_time": "2022-06-19T06:29:05.876Z"
      },
      {
        "duration": 16,
        "start_time": "2022-06-19T06:29:06.915Z"
      },
      {
        "duration": 951,
        "start_time": "2022-06-19T06:29:06.933Z"
      },
      {
        "duration": 10,
        "start_time": "2022-06-19T06:29:07.886Z"
      },
      {
        "duration": 837,
        "start_time": "2022-06-19T06:29:07.898Z"
      },
      {
        "duration": 944,
        "start_time": "2022-06-19T06:29:25.899Z"
      },
      {
        "duration": 6,
        "start_time": "2022-06-19T06:30:53.294Z"
      },
      {
        "duration": 10,
        "start_time": "2022-06-19T06:33:50.887Z"
      },
      {
        "duration": 598,
        "start_time": "2022-06-19T06:33:50.900Z"
      },
      {
        "duration": 32,
        "start_time": "2022-06-19T06:33:51.500Z"
      },
      {
        "duration": 21,
        "start_time": "2022-06-19T06:33:51.545Z"
      },
      {
        "duration": 41,
        "start_time": "2022-06-19T06:33:51.568Z"
      },
      {
        "duration": 16,
        "start_time": "2022-06-19T06:33:51.612Z"
      },
      {
        "duration": 17,
        "start_time": "2022-06-19T06:33:51.631Z"
      },
      {
        "duration": 26,
        "start_time": "2022-06-19T06:33:51.650Z"
      },
      {
        "duration": 9,
        "start_time": "2022-06-19T06:33:51.678Z"
      },
      {
        "duration": 21,
        "start_time": "2022-06-19T06:33:51.690Z"
      },
      {
        "duration": 125,
        "start_time": "2022-06-19T06:33:51.714Z"
      },
      {
        "duration": 25,
        "start_time": "2022-06-19T06:33:51.847Z"
      },
      {
        "duration": 62,
        "start_time": "2022-06-19T06:33:51.876Z"
      },
      {
        "duration": 108,
        "start_time": "2022-06-19T06:33:51.941Z"
      },
      {
        "duration": 68,
        "start_time": "2022-06-19T06:33:52.058Z"
      },
      {
        "duration": 44,
        "start_time": "2022-06-19T06:33:52.129Z"
      },
      {
        "duration": 156,
        "start_time": "2022-06-19T06:33:52.175Z"
      },
      {
        "duration": 36,
        "start_time": "2022-06-19T06:33:52.336Z"
      },
      {
        "duration": 13,
        "start_time": "2022-06-19T06:33:52.375Z"
      },
      {
        "duration": 19,
        "start_time": "2022-06-19T06:33:52.391Z"
      },
      {
        "duration": 17,
        "start_time": "2022-06-19T06:33:52.412Z"
      },
      {
        "duration": 48,
        "start_time": "2022-06-19T06:33:52.431Z"
      },
      {
        "duration": 14,
        "start_time": "2022-06-19T06:33:52.481Z"
      },
      {
        "duration": 1070,
        "start_time": "2022-06-19T06:33:52.497Z"
      },
      {
        "duration": 12,
        "start_time": "2022-06-19T06:33:53.571Z"
      },
      {
        "duration": 1070,
        "start_time": "2022-06-19T06:33:53.585Z"
      },
      {
        "duration": 33,
        "start_time": "2022-06-19T06:33:54.657Z"
      },
      {
        "duration": 1119,
        "start_time": "2022-06-19T06:33:54.695Z"
      },
      {
        "duration": 10,
        "start_time": "2022-06-19T06:36:54.855Z"
      },
      {
        "duration": 6,
        "start_time": "2022-06-19T06:36:55.209Z"
      },
      {
        "duration": 9,
        "start_time": "2022-06-19T06:36:55.563Z"
      },
      {
        "duration": 87,
        "start_time": "2022-06-19T06:36:55.909Z"
      },
      {
        "duration": 9,
        "start_time": "2022-06-19T06:37:06.320Z"
      },
      {
        "duration": 795,
        "start_time": "2022-06-19T06:37:07.880Z"
      },
      {
        "duration": 5,
        "start_time": "2022-06-19T06:37:20.158Z"
      },
      {
        "duration": 765,
        "start_time": "2022-06-19T06:37:21.499Z"
      },
      {
        "duration": 11,
        "start_time": "2022-06-19T06:37:38.920Z"
      },
      {
        "duration": 4,
        "start_time": "2022-06-19T06:37:39.659Z"
      },
      {
        "duration": 10,
        "start_time": "2022-06-19T06:37:39.850Z"
      },
      {
        "duration": 13,
        "start_time": "2022-06-19T06:37:40.191Z"
      },
      {
        "duration": 5,
        "start_time": "2022-06-19T06:37:52.599Z"
      },
      {
        "duration": 7,
        "start_time": "2022-06-19T06:37:53.041Z"
      },
      {
        "duration": 7,
        "start_time": "2022-06-19T06:37:53.199Z"
      },
      {
        "duration": 530,
        "start_time": "2022-06-19T06:37:53.657Z"
      },
      {
        "duration": 5,
        "start_time": "2022-06-19T06:38:12.069Z"
      },
      {
        "duration": 5,
        "start_time": "2022-06-19T06:38:13.171Z"
      },
      {
        "duration": 6,
        "start_time": "2022-06-19T06:38:13.480Z"
      },
      {
        "duration": 14,
        "start_time": "2022-06-19T06:38:14.169Z"
      },
      {
        "duration": 7,
        "start_time": "2022-06-19T06:38:19.941Z"
      },
      {
        "duration": 9,
        "start_time": "2022-06-19T06:38:20.342Z"
      },
      {
        "duration": 12,
        "start_time": "2022-06-19T06:38:20.473Z"
      },
      {
        "duration": 24,
        "start_time": "2022-06-19T06:38:20.619Z"
      },
      {
        "duration": 5,
        "start_time": "2022-06-19T06:38:51.810Z"
      },
      {
        "duration": 7,
        "start_time": "2022-06-19T06:38:52.251Z"
      },
      {
        "duration": 8,
        "start_time": "2022-06-19T06:38:52.453Z"
      },
      {
        "duration": 910,
        "start_time": "2022-06-19T06:38:52.779Z"
      },
      {
        "duration": 11,
        "start_time": "2022-06-19T06:38:59.653Z"
      },
      {
        "duration": 5,
        "start_time": "2022-06-19T06:39:00.491Z"
      },
      {
        "duration": 11,
        "start_time": "2022-06-19T06:39:00.761Z"
      },
      {
        "duration": 911,
        "start_time": "2022-06-19T06:39:00.999Z"
      },
      {
        "duration": 5,
        "start_time": "2022-06-19T06:39:07.180Z"
      },
      {
        "duration": 5,
        "start_time": "2022-06-19T06:39:07.590Z"
      },
      {
        "duration": 14,
        "start_time": "2022-06-19T06:39:07.756Z"
      },
      {
        "duration": 792,
        "start_time": "2022-06-19T06:39:08.080Z"
      },
      {
        "duration": 8,
        "start_time": "2022-06-19T06:40:21.593Z"
      },
      {
        "duration": 6,
        "start_time": "2022-06-19T06:40:23.043Z"
      },
      {
        "duration": 9,
        "start_time": "2022-06-19T06:40:23.222Z"
      },
      {
        "duration": 1233,
        "start_time": "2022-06-19T06:40:23.714Z"
      },
      {
        "duration": 8,
        "start_time": "2022-06-19T06:40:30.869Z"
      },
      {
        "duration": 7,
        "start_time": "2022-06-19T06:40:31.313Z"
      },
      {
        "duration": 8,
        "start_time": "2022-06-19T06:40:31.507Z"
      },
      {
        "duration": 1292,
        "start_time": "2022-06-19T06:40:31.900Z"
      },
      {
        "duration": 15,
        "start_time": "2022-06-19T06:40:42.324Z"
      },
      {
        "duration": 7,
        "start_time": "2022-06-19T06:40:43.180Z"
      },
      {
        "duration": 6,
        "start_time": "2022-06-19T06:40:43.405Z"
      },
      {
        "duration": 892,
        "start_time": "2022-06-19T06:40:43.794Z"
      },
      {
        "duration": 6,
        "start_time": "2022-06-19T06:40:55.514Z"
      },
      {
        "duration": 6,
        "start_time": "2022-06-19T06:40:56.046Z"
      },
      {
        "duration": 8,
        "start_time": "2022-06-19T06:40:56.273Z"
      },
      {
        "duration": 1144,
        "start_time": "2022-06-19T06:40:56.556Z"
      },
      {
        "duration": 6,
        "start_time": "2022-06-19T06:41:10.973Z"
      },
      {
        "duration": 7,
        "start_time": "2022-06-19T06:41:11.344Z"
      },
      {
        "duration": 9,
        "start_time": "2022-06-19T06:41:11.752Z"
      },
      {
        "duration": 14,
        "start_time": "2022-06-19T06:41:12.073Z"
      },
      {
        "duration": 8,
        "start_time": "2022-06-19T06:41:51.224Z"
      },
      {
        "duration": 10,
        "start_time": "2022-06-19T06:41:52.154Z"
      },
      {
        "duration": 6,
        "start_time": "2022-06-19T06:41:52.485Z"
      },
      {
        "duration": 451,
        "start_time": "2022-06-19T06:41:52.814Z"
      },
      {
        "duration": 7,
        "start_time": "2022-06-19T06:42:27.362Z"
      },
      {
        "duration": 4,
        "start_time": "2022-06-19T06:42:27.849Z"
      },
      {
        "duration": 8,
        "start_time": "2022-06-19T06:42:28.007Z"
      },
      {
        "duration": 498,
        "start_time": "2022-06-19T06:42:28.298Z"
      },
      {
        "duration": 7,
        "start_time": "2022-06-19T06:42:53.206Z"
      },
      {
        "duration": 5,
        "start_time": "2022-06-19T06:42:53.696Z"
      },
      {
        "duration": 8,
        "start_time": "2022-06-19T06:42:53.877Z"
      },
      {
        "duration": 544,
        "start_time": "2022-06-19T06:42:54.170Z"
      },
      {
        "duration": 6,
        "start_time": "2022-06-19T06:46:37.812Z"
      },
      {
        "duration": 14,
        "start_time": "2022-06-19T06:46:39.021Z"
      },
      {
        "duration": 8,
        "start_time": "2022-06-19T06:46:39.445Z"
      },
      {
        "duration": 462,
        "start_time": "2022-06-19T06:46:39.902Z"
      },
      {
        "duration": 4,
        "start_time": "2022-06-19T06:50:16.416Z"
      },
      {
        "duration": 4,
        "start_time": "2022-06-19T06:50:17.415Z"
      },
      {
        "duration": 11,
        "start_time": "2022-06-19T06:50:17.748Z"
      },
      {
        "duration": 445,
        "start_time": "2022-06-19T06:50:17.949Z"
      },
      {
        "duration": 447,
        "start_time": "2022-06-19T06:51:21.816Z"
      },
      {
        "duration": 454,
        "start_time": "2022-06-19T06:51:29.365Z"
      },
      {
        "duration": 3,
        "start_time": "2022-06-19T06:53:24.178Z"
      },
      {
        "duration": 13,
        "start_time": "2022-06-19T06:53:24.661Z"
      },
      {
        "duration": 18,
        "start_time": "2022-06-19T06:53:25.266Z"
      },
      {
        "duration": 5,
        "start_time": "2022-06-19T06:53:35.056Z"
      },
      {
        "duration": 4,
        "start_time": "2022-06-19T06:53:40.418Z"
      },
      {
        "duration": 5,
        "start_time": "2022-06-19T06:53:41.709Z"
      },
      {
        "duration": 5,
        "start_time": "2022-06-19T06:53:42.518Z"
      },
      {
        "duration": 5,
        "start_time": "2022-06-19T06:53:45.098Z"
      },
      {
        "duration": 4,
        "start_time": "2022-06-19T06:53:50.897Z"
      },
      {
        "duration": 5,
        "start_time": "2022-06-19T06:53:52.291Z"
      },
      {
        "duration": 3,
        "start_time": "2022-06-19T06:54:17.198Z"
      },
      {
        "duration": 5,
        "start_time": "2022-06-19T06:54:17.572Z"
      },
      {
        "duration": 6,
        "start_time": "2022-06-19T06:54:18.149Z"
      },
      {
        "duration": 4,
        "start_time": "2022-06-19T06:55:02.590Z"
      },
      {
        "duration": 9,
        "start_time": "2022-06-19T06:55:02.848Z"
      },
      {
        "duration": 5,
        "start_time": "2022-06-19T06:55:03.409Z"
      },
      {
        "duration": 3,
        "start_time": "2022-06-19T06:55:27.919Z"
      },
      {
        "duration": 5,
        "start_time": "2022-06-19T06:55:28.479Z"
      },
      {
        "duration": 4,
        "start_time": "2022-06-19T06:55:29.499Z"
      },
      {
        "duration": 3,
        "start_time": "2022-06-19T06:55:40.600Z"
      },
      {
        "duration": 5,
        "start_time": "2022-06-19T06:55:40.819Z"
      },
      {
        "duration": 5,
        "start_time": "2022-06-19T06:55:41.319Z"
      },
      {
        "duration": 4,
        "start_time": "2022-06-19T06:57:41.692Z"
      },
      {
        "duration": 3,
        "start_time": "2022-06-19T06:57:43.792Z"
      },
      {
        "duration": 7,
        "start_time": "2022-06-19T06:57:44.042Z"
      },
      {
        "duration": 6,
        "start_time": "2022-06-19T06:57:44.511Z"
      },
      {
        "duration": 8,
        "start_time": "2022-06-19T06:58:10.464Z"
      },
      {
        "duration": 6,
        "start_time": "2022-06-19T06:58:40.824Z"
      },
      {
        "duration": 544,
        "start_time": "2022-06-19T06:58:40.836Z"
      },
      {
        "duration": 22,
        "start_time": "2022-06-19T06:58:41.383Z"
      },
      {
        "duration": 15,
        "start_time": "2022-06-19T06:58:41.406Z"
      },
      {
        "duration": 63,
        "start_time": "2022-06-19T06:58:41.422Z"
      },
      {
        "duration": 14,
        "start_time": "2022-06-19T06:58:41.488Z"
      },
      {
        "duration": 5,
        "start_time": "2022-06-19T06:58:41.504Z"
      },
      {
        "duration": 70,
        "start_time": "2022-06-19T06:58:41.511Z"
      },
      {
        "duration": 17,
        "start_time": "2022-06-19T06:58:41.584Z"
      },
      {
        "duration": 61,
        "start_time": "2022-06-19T06:58:41.602Z"
      },
      {
        "duration": 21,
        "start_time": "2022-06-19T06:58:41.667Z"
      },
      {
        "duration": 132,
        "start_time": "2022-06-19T06:58:41.737Z"
      },
      {
        "duration": 27,
        "start_time": "2022-06-19T06:58:41.870Z"
      },
      {
        "duration": 33,
        "start_time": "2022-06-19T06:58:41.898Z"
      },
      {
        "duration": 122,
        "start_time": "2022-06-19T06:58:41.943Z"
      },
      {
        "duration": 30,
        "start_time": "2022-06-19T06:58:42.067Z"
      },
      {
        "duration": 36,
        "start_time": "2022-06-19T06:58:42.098Z"
      },
      {
        "duration": 94,
        "start_time": "2022-06-19T06:58:42.136Z"
      },
      {
        "duration": 50,
        "start_time": "2022-06-19T06:58:42.232Z"
      },
      {
        "duration": 25,
        "start_time": "2022-06-19T06:58:42.283Z"
      },
      {
        "duration": 45,
        "start_time": "2022-06-19T06:58:42.310Z"
      },
      {
        "duration": 35,
        "start_time": "2022-06-19T06:58:42.358Z"
      },
      {
        "duration": 74,
        "start_time": "2022-06-19T06:58:42.395Z"
      },
      {
        "duration": 430,
        "start_time": "2022-06-19T06:58:42.471Z"
      },
      {
        "duration": 7,
        "start_time": "2022-06-19T06:58:42.903Z"
      },
      {
        "duration": 433,
        "start_time": "2022-06-19T06:58:42.911Z"
      },
      {
        "duration": 8,
        "start_time": "2022-06-19T06:58:43.356Z"
      },
      {
        "duration": 479,
        "start_time": "2022-06-19T06:58:43.366Z"
      },
      {
        "duration": 6,
        "start_time": "2022-06-19T06:59:49.614Z"
      },
      {
        "duration": 208,
        "start_time": "2022-06-19T07:00:02.664Z"
      },
      {
        "duration": 6,
        "start_time": "2022-06-19T07:00:05.453Z"
      },
      {
        "duration": 51,
        "start_time": "2022-06-19T07:00:33.014Z"
      },
      {
        "duration": 7,
        "start_time": "2022-06-19T07:00:35.055Z"
      },
      {
        "duration": 10,
        "start_time": "2022-06-19T07:01:19.868Z"
      },
      {
        "duration": 5,
        "start_time": "2022-06-19T07:01:33.914Z"
      },
      {
        "duration": 5,
        "start_time": "2022-06-19T07:02:39.576Z"
      },
      {
        "duration": 6,
        "start_time": "2022-06-19T07:03:50.306Z"
      },
      {
        "duration": 6,
        "start_time": "2022-06-19T07:04:05.876Z"
      },
      {
        "duration": 6,
        "start_time": "2022-06-19T07:04:11.851Z"
      },
      {
        "duration": 497,
        "start_time": "2022-06-19T07:04:11.862Z"
      },
      {
        "duration": 20,
        "start_time": "2022-06-19T07:04:12.367Z"
      },
      {
        "duration": 9,
        "start_time": "2022-06-19T07:04:12.389Z"
      },
      {
        "duration": 22,
        "start_time": "2022-06-19T07:04:12.401Z"
      },
      {
        "duration": 27,
        "start_time": "2022-06-19T07:04:12.425Z"
      },
      {
        "duration": 28,
        "start_time": "2022-06-19T07:04:12.454Z"
      },
      {
        "duration": 11,
        "start_time": "2022-06-19T07:04:12.484Z"
      },
      {
        "duration": 21,
        "start_time": "2022-06-19T07:04:12.497Z"
      },
      {
        "duration": 55,
        "start_time": "2022-06-19T07:04:12.520Z"
      },
      {
        "duration": 16,
        "start_time": "2022-06-19T07:04:12.577Z"
      },
      {
        "duration": 154,
        "start_time": "2022-06-19T07:04:12.596Z"
      },
      {
        "duration": 30,
        "start_time": "2022-06-19T07:04:12.752Z"
      },
      {
        "duration": 21,
        "start_time": "2022-06-19T07:04:12.785Z"
      },
      {
        "duration": 40,
        "start_time": "2022-06-19T07:04:12.808Z"
      },
      {
        "duration": 130,
        "start_time": "2022-06-19T07:04:12.850Z"
      },
      {
        "duration": 14,
        "start_time": "2022-06-19T07:04:12.982Z"
      },
      {
        "duration": 62,
        "start_time": "2022-06-19T07:04:12.998Z"
      },
      {
        "duration": 112,
        "start_time": "2022-06-19T07:04:13.062Z"
      },
      {
        "duration": 14,
        "start_time": "2022-06-19T07:04:13.176Z"
      },
      {
        "duration": 23,
        "start_time": "2022-06-19T07:04:13.192Z"
      },
      {
        "duration": 53,
        "start_time": "2022-06-19T07:04:13.217Z"
      },
      {
        "duration": 20,
        "start_time": "2022-06-19T07:04:13.272Z"
      },
      {
        "duration": 488,
        "start_time": "2022-06-19T07:04:13.294Z"
      },
      {
        "duration": 8,
        "start_time": "2022-06-19T07:04:13.784Z"
      },
      {
        "duration": 521,
        "start_time": "2022-06-19T07:04:13.794Z"
      },
      {
        "duration": 17,
        "start_time": "2022-06-19T07:04:14.317Z"
      },
      {
        "duration": 614,
        "start_time": "2022-06-19T07:04:14.336Z"
      },
      {
        "duration": 4,
        "start_time": "2022-06-19T07:04:44.076Z"
      },
      {
        "duration": 7,
        "start_time": "2022-06-19T07:04:44.272Z"
      },
      {
        "duration": 8,
        "start_time": "2022-06-19T07:04:44.888Z"
      },
      {
        "duration": 5,
        "start_time": "2022-06-19T07:04:50.752Z"
      },
      {
        "duration": 5,
        "start_time": "2022-06-19T07:04:50.997Z"
      },
      {
        "duration": 5,
        "start_time": "2022-06-19T07:04:51.678Z"
      },
      {
        "duration": 4,
        "start_time": "2022-06-19T07:04:53.802Z"
      },
      {
        "duration": 15,
        "start_time": "2022-06-19T07:04:53.809Z"
      },
      {
        "duration": 6,
        "start_time": "2022-06-19T07:04:54.297Z"
      },
      {
        "duration": 13,
        "start_time": "2022-06-19T07:05:01.376Z"
      },
      {
        "duration": 11,
        "start_time": "2022-06-19T07:05:01.626Z"
      },
      {
        "duration": 4,
        "start_time": "2022-06-19T07:05:02.616Z"
      },
      {
        "duration": 4,
        "start_time": "2022-06-19T07:05:26.797Z"
      },
      {
        "duration": 7,
        "start_time": "2022-06-19T07:05:27.078Z"
      },
      {
        "duration": 9,
        "start_time": "2022-06-19T07:05:27.685Z"
      },
      {
        "duration": 5,
        "start_time": "2022-06-19T07:05:43.381Z"
      },
      {
        "duration": 6,
        "start_time": "2022-06-19T07:05:44.080Z"
      },
      {
        "duration": 6,
        "start_time": "2022-06-19T07:06:29.117Z"
      },
      {
        "duration": 501,
        "start_time": "2022-06-19T07:06:32.184Z"
      },
      {
        "duration": 10,
        "start_time": "2022-06-19T07:06:37.973Z"
      },
      {
        "duration": 563,
        "start_time": "2022-06-19T07:06:38.170Z"
      },
      {
        "duration": 9,
        "start_time": "2022-06-19T07:09:37.781Z"
      },
      {
        "duration": 8,
        "start_time": "2022-06-19T07:10:19.445Z"
      },
      {
        "duration": 7,
        "start_time": "2022-06-19T07:10:19.649Z"
      },
      {
        "duration": 5,
        "start_time": "2022-06-19T07:10:20.199Z"
      },
      {
        "duration": 6,
        "start_time": "2022-06-19T07:10:26.900Z"
      },
      {
        "duration": 7,
        "start_time": "2022-06-19T07:10:27.173Z"
      },
      {
        "duration": 7,
        "start_time": "2022-06-19T07:11:00.266Z"
      },
      {
        "duration": 6,
        "start_time": "2022-06-19T07:11:00.767Z"
      },
      {
        "duration": 5,
        "start_time": "2022-06-19T07:11:01.474Z"
      },
      {
        "duration": 5,
        "start_time": "2022-06-19T07:11:04.010Z"
      },
      {
        "duration": 5,
        "start_time": "2022-06-19T07:11:05.420Z"
      },
      {
        "duration": 4,
        "start_time": "2022-06-19T07:11:46.092Z"
      },
      {
        "duration": 6,
        "start_time": "2022-06-19T07:11:46.291Z"
      },
      {
        "duration": 23,
        "start_time": "2022-06-19T07:11:47.021Z"
      },
      {
        "duration": 5,
        "start_time": "2022-06-19T07:12:00.620Z"
      },
      {
        "duration": 6,
        "start_time": "2022-06-19T07:12:00.782Z"
      },
      {
        "duration": 20,
        "start_time": "2022-06-19T07:12:01.242Z"
      },
      {
        "duration": 6,
        "start_time": "2022-06-19T07:12:23.654Z"
      },
      {
        "duration": 9,
        "start_time": "2022-06-19T07:12:23.854Z"
      },
      {
        "duration": 14,
        "start_time": "2022-06-19T07:12:24.280Z"
      },
      {
        "duration": 11,
        "start_time": "2022-06-19T07:12:38.569Z"
      },
      {
        "duration": 9,
        "start_time": "2022-06-19T07:12:38.863Z"
      },
      {
        "duration": 14,
        "start_time": "2022-06-19T07:12:39.362Z"
      },
      {
        "duration": 20,
        "start_time": "2022-06-19T07:12:56.021Z"
      },
      {
        "duration": 8,
        "start_time": "2022-06-19T07:12:57.654Z"
      },
      {
        "duration": 13,
        "start_time": "2022-06-19T07:12:57.850Z"
      },
      {
        "duration": 6,
        "start_time": "2022-06-19T07:12:58.271Z"
      },
      {
        "duration": 8,
        "start_time": "2022-06-19T07:13:11.712Z"
      },
      {
        "duration": 489,
        "start_time": "2022-06-19T07:13:19.120Z"
      },
      {
        "duration": 20,
        "start_time": "2022-06-19T07:13:25.452Z"
      },
      {
        "duration": 436,
        "start_time": "2022-06-19T07:13:28.361Z"
      },
      {
        "duration": 46,
        "start_time": "2022-06-19T07:16:51.689Z"
      },
      {
        "duration": 27,
        "start_time": "2022-06-19T07:17:26.753Z"
      },
      {
        "duration": 6,
        "start_time": "2022-06-19T07:18:15.168Z"
      },
      {
        "duration": 4,
        "start_time": "2022-06-19T07:18:17.308Z"
      },
      {
        "duration": 5,
        "start_time": "2022-06-19T07:18:17.512Z"
      },
      {
        "duration": 8,
        "start_time": "2022-06-19T07:18:18.058Z"
      },
      {
        "duration": 11,
        "start_time": "2022-06-19T07:18:20.958Z"
      },
      {
        "duration": 486,
        "start_time": "2022-06-19T07:18:21.249Z"
      },
      {
        "duration": 4,
        "start_time": "2022-06-19T07:18:47.799Z"
      },
      {
        "duration": 13,
        "start_time": "2022-06-19T07:19:01.988Z"
      },
      {
        "duration": 42,
        "start_time": "2022-06-19T07:19:27.878Z"
      },
      {
        "duration": 54,
        "start_time": "2022-06-19T07:20:03.098Z"
      },
      {
        "duration": 43,
        "start_time": "2022-06-19T07:20:32.072Z"
      },
      {
        "duration": 44,
        "start_time": "2022-06-19T07:20:35.748Z"
      },
      {
        "duration": 38,
        "start_time": "2022-06-19T07:23:11.475Z"
      },
      {
        "duration": 467,
        "start_time": "2022-06-19T07:23:18.920Z"
      },
      {
        "duration": 6,
        "start_time": "2022-06-19T07:23:30.911Z"
      },
      {
        "duration": 553,
        "start_time": "2022-06-19T07:23:30.920Z"
      },
      {
        "duration": 21,
        "start_time": "2022-06-19T07:23:31.475Z"
      },
      {
        "duration": 41,
        "start_time": "2022-06-19T07:23:31.498Z"
      },
      {
        "duration": 85,
        "start_time": "2022-06-19T07:23:31.541Z"
      },
      {
        "duration": 65,
        "start_time": "2022-06-19T07:23:31.627Z"
      },
      {
        "duration": 5,
        "start_time": "2022-06-19T07:23:31.694Z"
      },
      {
        "duration": 36,
        "start_time": "2022-06-19T07:23:31.702Z"
      },
      {
        "duration": 47,
        "start_time": "2022-06-19T07:23:31.740Z"
      },
      {
        "duration": 29,
        "start_time": "2022-06-19T07:23:31.789Z"
      },
      {
        "duration": 63,
        "start_time": "2022-06-19T07:23:31.819Z"
      },
      {
        "duration": 203,
        "start_time": "2022-06-19T07:23:31.885Z"
      },
      {
        "duration": 14,
        "start_time": "2022-06-19T07:23:32.090Z"
      },
      {
        "duration": 20,
        "start_time": "2022-06-19T07:23:32.108Z"
      },
      {
        "duration": 152,
        "start_time": "2022-06-19T07:23:32.141Z"
      },
      {
        "duration": 43,
        "start_time": "2022-06-19T07:23:32.302Z"
      },
      {
        "duration": 81,
        "start_time": "2022-06-19T07:23:32.347Z"
      },
      {
        "duration": 162,
        "start_time": "2022-06-19T07:23:32.432Z"
      },
      {
        "duration": 28,
        "start_time": "2022-06-19T07:23:32.595Z"
      },
      {
        "duration": 68,
        "start_time": "2022-06-19T07:23:32.626Z"
      },
      {
        "duration": 28,
        "start_time": "2022-06-19T07:23:32.696Z"
      },
      {
        "duration": 49,
        "start_time": "2022-06-19T07:23:32.729Z"
      },
      {
        "duration": 27,
        "start_time": "2022-06-19T07:23:32.780Z"
      },
      {
        "duration": 577,
        "start_time": "2022-06-19T07:23:32.809Z"
      },
      {
        "duration": 428,
        "start_time": "2022-06-19T07:23:33.390Z"
      },
      {
        "duration": 41,
        "start_time": "2022-06-19T07:23:33.821Z"
      },
      {
        "duration": 1181,
        "start_time": "2022-06-19T07:23:33.871Z"
      },
      {
        "duration": 19,
        "start_time": "2022-06-19T07:23:35.055Z"
      },
      {
        "duration": 708,
        "start_time": "2022-06-19T07:23:35.079Z"
      },
      {
        "duration": 8,
        "start_time": "2022-06-19T07:25:54.381Z"
      },
      {
        "duration": 615,
        "start_time": "2022-06-19T07:25:54.391Z"
      },
      {
        "duration": 32,
        "start_time": "2022-06-19T07:25:55.009Z"
      },
      {
        "duration": 43,
        "start_time": "2022-06-19T07:25:55.045Z"
      },
      {
        "duration": 23,
        "start_time": "2022-06-19T07:25:55.090Z"
      },
      {
        "duration": 20,
        "start_time": "2022-06-19T07:25:55.115Z"
      },
      {
        "duration": 33,
        "start_time": "2022-06-19T07:25:55.142Z"
      },
      {
        "duration": 16,
        "start_time": "2022-06-19T07:25:55.178Z"
      },
      {
        "duration": 9,
        "start_time": "2022-06-19T07:25:55.196Z"
      },
      {
        "duration": 33,
        "start_time": "2022-06-19T07:25:55.208Z"
      },
      {
        "duration": 94,
        "start_time": "2022-06-19T07:25:55.242Z"
      },
      {
        "duration": 10,
        "start_time": "2022-06-19T07:25:55.338Z"
      },
      {
        "duration": 53,
        "start_time": "2022-06-19T07:25:55.426Z"
      },
      {
        "duration": 18,
        "start_time": "2022-06-19T07:25:55.482Z"
      },
      {
        "duration": 92,
        "start_time": "2022-06-19T07:25:55.538Z"
      },
      {
        "duration": 36,
        "start_time": "2022-06-19T07:25:55.636Z"
      },
      {
        "duration": 15,
        "start_time": "2022-06-19T07:25:55.674Z"
      },
      {
        "duration": 38,
        "start_time": "2022-06-19T07:25:55.691Z"
      },
      {
        "duration": 149,
        "start_time": "2022-06-19T07:25:55.731Z"
      },
      {
        "duration": 8,
        "start_time": "2022-06-19T07:25:55.882Z"
      },
      {
        "duration": 13,
        "start_time": "2022-06-19T07:25:55.891Z"
      },
      {
        "duration": 16,
        "start_time": "2022-06-19T07:25:55.906Z"
      },
      {
        "duration": 55,
        "start_time": "2022-06-19T07:25:55.925Z"
      },
      {
        "duration": 494,
        "start_time": "2022-06-19T07:25:55.982Z"
      },
      {
        "duration": 511,
        "start_time": "2022-06-19T07:25:56.478Z"
      },
      {
        "duration": 9,
        "start_time": "2022-06-19T07:25:56.991Z"
      },
      {
        "duration": 1106,
        "start_time": "2022-06-19T07:25:57.034Z"
      },
      {
        "duration": 12,
        "start_time": "2022-06-19T07:25:58.142Z"
      },
      {
        "duration": 662,
        "start_time": "2022-06-19T07:25:58.155Z"
      },
      {
        "duration": 4,
        "start_time": "2022-06-19T07:26:28.900Z"
      },
      {
        "duration": 5,
        "start_time": "2022-06-19T07:27:06.181Z"
      },
      {
        "duration": 5,
        "start_time": "2022-06-19T07:27:09.402Z"
      },
      {
        "duration": 13,
        "start_time": "2022-06-19T07:27:15.353Z"
      },
      {
        "duration": 4,
        "start_time": "2022-06-19T07:27:18.113Z"
      },
      {
        "duration": 57,
        "start_time": "2022-06-19T07:27:23.221Z"
      },
      {
        "duration": 510,
        "start_time": "2022-06-19T07:27:28.972Z"
      },
      {
        "duration": 459,
        "start_time": "2022-06-19T07:27:44.371Z"
      },
      {
        "duration": 133,
        "start_time": "2022-06-19T07:27:56.512Z"
      },
      {
        "duration": 95,
        "start_time": "2022-06-19T07:28:00.991Z"
      },
      {
        "duration": 4,
        "start_time": "2022-06-19T07:28:04.912Z"
      },
      {
        "duration": 19,
        "start_time": "2022-06-19T07:28:21.185Z"
      },
      {
        "duration": 5,
        "start_time": "2022-06-19T07:28:26.054Z"
      },
      {
        "duration": 11,
        "start_time": "2022-06-19T07:28:37.281Z"
      },
      {
        "duration": 6,
        "start_time": "2022-06-19T07:28:43.611Z"
      },
      {
        "duration": 5,
        "start_time": "2022-06-19T07:28:46.443Z"
      },
      {
        "duration": 5,
        "start_time": "2022-06-19T07:28:49.810Z"
      },
      {
        "duration": 36,
        "start_time": "2022-06-19T07:29:28.268Z"
      },
      {
        "duration": 7,
        "start_time": "2022-06-19T07:29:31.562Z"
      },
      {
        "duration": 4,
        "start_time": "2022-06-19T07:29:34.302Z"
      },
      {
        "duration": 8,
        "start_time": "2022-06-19T07:29:34.466Z"
      },
      {
        "duration": 10,
        "start_time": "2022-06-19T07:29:34.949Z"
      },
      {
        "duration": 5,
        "start_time": "2022-06-19T07:29:50.312Z"
      },
      {
        "duration": 9,
        "start_time": "2022-06-19T07:30:01.611Z"
      },
      {
        "duration": 13,
        "start_time": "2022-06-19T07:30:06.721Z"
      },
      {
        "duration": 7,
        "start_time": "2022-06-19T07:30:43.264Z"
      },
      {
        "duration": 6,
        "start_time": "2022-06-19T07:36:29.804Z"
      },
      {
        "duration": 8,
        "start_time": "2022-06-19T07:36:32.463Z"
      },
      {
        "duration": 8,
        "start_time": "2022-06-19T07:36:37.657Z"
      },
      {
        "duration": 491,
        "start_time": "2022-06-19T07:36:38.022Z"
      },
      {
        "duration": 6,
        "start_time": "2022-06-19T07:37:00.914Z"
      },
      {
        "duration": 5,
        "start_time": "2022-06-19T07:37:02.393Z"
      },
      {
        "duration": 7,
        "start_time": "2022-06-19T07:37:03.093Z"
      },
      {
        "duration": 458,
        "start_time": "2022-06-19T07:37:05.194Z"
      },
      {
        "duration": 10,
        "start_time": "2022-06-19T07:37:36.245Z"
      },
      {
        "duration": 7,
        "start_time": "2022-06-19T07:37:37.904Z"
      },
      {
        "duration": 8,
        "start_time": "2022-06-19T07:37:38.885Z"
      },
      {
        "duration": 515,
        "start_time": "2022-06-19T07:37:39.243Z"
      },
      {
        "duration": 10,
        "start_time": "2022-06-19T07:39:38.264Z"
      },
      {
        "duration": 11,
        "start_time": "2022-06-19T07:39:38.965Z"
      },
      {
        "duration": 14,
        "start_time": "2022-06-19T07:39:39.895Z"
      },
      {
        "duration": 12,
        "start_time": "2022-06-19T07:40:02.486Z"
      },
      {
        "duration": 5,
        "start_time": "2022-06-19T07:40:04.266Z"
      },
      {
        "duration": 12,
        "start_time": "2022-06-19T07:40:04.429Z"
      },
      {
        "duration": 14,
        "start_time": "2022-06-19T07:40:05.048Z"
      },
      {
        "duration": 3,
        "start_time": "2022-06-19T07:40:45.285Z"
      },
      {
        "duration": 6,
        "start_time": "2022-06-19T07:40:45.515Z"
      },
      {
        "duration": 14,
        "start_time": "2022-06-19T07:40:46.095Z"
      },
      {
        "duration": 5,
        "start_time": "2022-06-19T07:40:56.466Z"
      },
      {
        "duration": 5,
        "start_time": "2022-06-19T07:40:56.816Z"
      },
      {
        "duration": 19,
        "start_time": "2022-06-19T07:40:57.315Z"
      },
      {
        "duration": 3,
        "start_time": "2022-06-19T07:41:43.596Z"
      },
      {
        "duration": 5,
        "start_time": "2022-06-19T07:41:43.786Z"
      },
      {
        "duration": 26,
        "start_time": "2022-06-19T07:41:44.315Z"
      },
      {
        "duration": 3,
        "start_time": "2022-06-19T07:42:04.917Z"
      },
      {
        "duration": 13,
        "start_time": "2022-06-19T07:42:05.226Z"
      },
      {
        "duration": 14,
        "start_time": "2022-06-19T07:42:05.660Z"
      },
      {
        "duration": 5,
        "start_time": "2022-06-19T07:42:09.064Z"
      },
      {
        "duration": 423,
        "start_time": "2022-06-19T07:42:09.071Z"
      },
      {
        "duration": 15,
        "start_time": "2022-06-19T07:42:09.496Z"
      },
      {
        "duration": 31,
        "start_time": "2022-06-19T07:42:09.513Z"
      },
      {
        "duration": 52,
        "start_time": "2022-06-19T07:42:09.550Z"
      },
      {
        "duration": 18,
        "start_time": "2022-06-19T07:42:09.604Z"
      },
      {
        "duration": 54,
        "start_time": "2022-06-19T07:42:09.624Z"
      },
      {
        "duration": 18,
        "start_time": "2022-06-19T07:42:09.680Z"
      },
      {
        "duration": 9,
        "start_time": "2022-06-19T07:42:09.700Z"
      },
      {
        "duration": 29,
        "start_time": "2022-06-19T07:42:09.711Z"
      },
      {
        "duration": 58,
        "start_time": "2022-06-19T07:42:09.743Z"
      },
      {
        "duration": 183,
        "start_time": "2022-06-19T07:42:09.804Z"
      },
      {
        "duration": 21,
        "start_time": "2022-06-19T07:42:09.989Z"
      },
      {
        "duration": 42,
        "start_time": "2022-06-19T07:42:10.013Z"
      },
      {
        "duration": 124,
        "start_time": "2022-06-19T07:42:10.059Z"
      },
      {
        "duration": 18,
        "start_time": "2022-06-19T07:42:10.185Z"
      },
      {
        "duration": 61,
        "start_time": "2022-06-19T07:42:10.205Z"
      },
      {
        "duration": 202,
        "start_time": "2022-06-19T07:42:10.268Z"
      },
      {
        "duration": 9,
        "start_time": "2022-06-19T07:42:10.473Z"
      },
      {
        "duration": 9,
        "start_time": "2022-06-19T07:42:10.483Z"
      },
      {
        "duration": 70,
        "start_time": "2022-06-19T07:42:10.494Z"
      },
      {
        "duration": 32,
        "start_time": "2022-06-19T07:42:10.566Z"
      },
      {
        "duration": 11,
        "start_time": "2022-06-19T07:42:10.601Z"
      },
      {
        "duration": 467,
        "start_time": "2022-06-19T07:42:10.614Z"
      },
      {
        "duration": 11,
        "start_time": "2022-06-19T07:42:11.083Z"
      },
      {
        "duration": 7,
        "start_time": "2022-06-19T07:42:11.096Z"
      },
      {
        "duration": 507,
        "start_time": "2022-06-19T07:42:11.105Z"
      },
      {
        "duration": 24,
        "start_time": "2022-06-19T07:42:11.614Z"
      },
      {
        "duration": 56,
        "start_time": "2022-06-19T07:42:11.639Z"
      },
      {
        "duration": 486,
        "start_time": "2022-06-19T07:42:11.697Z"
      },
      {
        "duration": 9,
        "start_time": "2022-06-19T07:45:47.367Z"
      },
      {
        "duration": 6,
        "start_time": "2022-06-19T07:45:49.756Z"
      },
      {
        "duration": 478,
        "start_time": "2022-06-19T07:45:49.764Z"
      },
      {
        "duration": 29,
        "start_time": "2022-06-19T07:45:50.244Z"
      },
      {
        "duration": 24,
        "start_time": "2022-06-19T07:45:50.276Z"
      },
      {
        "duration": 32,
        "start_time": "2022-06-19T07:45:50.302Z"
      },
      {
        "duration": 20,
        "start_time": "2022-06-19T07:45:50.336Z"
      },
      {
        "duration": 51,
        "start_time": "2022-06-19T07:45:50.358Z"
      },
      {
        "duration": 14,
        "start_time": "2022-06-19T07:45:50.411Z"
      },
      {
        "duration": 50,
        "start_time": "2022-06-19T07:45:50.427Z"
      },
      {
        "duration": 19,
        "start_time": "2022-06-19T07:45:50.480Z"
      },
      {
        "duration": 34,
        "start_time": "2022-06-19T07:45:50.500Z"
      },
      {
        "duration": 96,
        "start_time": "2022-06-19T07:45:50.536Z"
      },
      {
        "duration": 51,
        "start_time": "2022-06-19T07:45:50.633Z"
      },
      {
        "duration": 18,
        "start_time": "2022-06-19T07:45:50.686Z"
      },
      {
        "duration": 137,
        "start_time": "2022-06-19T07:45:50.706Z"
      },
      {
        "duration": 44,
        "start_time": "2022-06-19T07:45:50.845Z"
      },
      {
        "duration": 42,
        "start_time": "2022-06-19T07:45:50.891Z"
      },
      {
        "duration": 8,
        "start_time": "2022-06-19T07:45:50.937Z"
      },
      {
        "duration": 133,
        "start_time": "2022-06-19T07:45:50.947Z"
      },
      {
        "duration": 8,
        "start_time": "2022-06-19T07:45:51.082Z"
      },
      {
        "duration": 12,
        "start_time": "2022-06-19T07:45:51.091Z"
      },
      {
        "duration": 15,
        "start_time": "2022-06-19T07:45:51.104Z"
      },
      {
        "duration": 10,
        "start_time": "2022-06-19T07:45:51.121Z"
      },
      {
        "duration": 543,
        "start_time": "2022-06-19T07:45:51.157Z"
      },
      {
        "duration": 12,
        "start_time": "2022-06-19T07:45:51.702Z"
      },
      {
        "duration": 23,
        "start_time": "2022-06-19T07:45:51.715Z"
      },
      {
        "duration": 487,
        "start_time": "2022-06-19T07:45:51.747Z"
      },
      {
        "duration": 12,
        "start_time": "2022-06-19T07:45:52.237Z"
      },
      {
        "duration": 53,
        "start_time": "2022-06-19T07:45:52.251Z"
      },
      {
        "duration": 475,
        "start_time": "2022-06-19T07:45:52.312Z"
      },
      {
        "duration": 5,
        "start_time": "2022-06-19T07:46:35.687Z"
      },
      {
        "duration": 15,
        "start_time": "2022-06-19T07:46:36.153Z"
      },
      {
        "duration": 7,
        "start_time": "2022-06-19T07:46:36.687Z"
      },
      {
        "duration": 22,
        "start_time": "2022-06-19T07:46:37.234Z"
      },
      {
        "duration": 25,
        "start_time": "2022-06-19T07:46:44.649Z"
      },
      {
        "duration": 12,
        "start_time": "2022-06-19T07:47:53.451Z"
      },
      {
        "duration": 13,
        "start_time": "2022-06-19T07:47:53.887Z"
      },
      {
        "duration": 8,
        "start_time": "2022-06-19T07:47:54.088Z"
      },
      {
        "duration": 602,
        "start_time": "2022-06-19T07:47:54.279Z"
      },
      {
        "duration": 5,
        "start_time": "2022-06-19T07:48:45.589Z"
      },
      {
        "duration": 14,
        "start_time": "2022-06-19T07:48:46.189Z"
      },
      {
        "duration": 6,
        "start_time": "2022-06-19T07:48:46.499Z"
      },
      {
        "duration": 16,
        "start_time": "2022-06-19T07:48:47.108Z"
      },
      {
        "duration": 6,
        "start_time": "2022-06-19T07:48:55.209Z"
      },
      {
        "duration": 12,
        "start_time": "2022-06-19T07:48:55.578Z"
      },
      {
        "duration": 11,
        "start_time": "2022-06-19T07:48:55.743Z"
      },
      {
        "duration": 488,
        "start_time": "2022-06-19T07:48:56.018Z"
      },
      {
        "duration": 7,
        "start_time": "2022-06-19T07:50:54.162Z"
      },
      {
        "duration": 544,
        "start_time": "2022-06-19T07:50:54.173Z"
      },
      {
        "duration": 38,
        "start_time": "2022-06-19T07:50:54.719Z"
      },
      {
        "duration": 38,
        "start_time": "2022-06-19T07:50:54.759Z"
      },
      {
        "duration": 35,
        "start_time": "2022-06-19T07:50:54.800Z"
      },
      {
        "duration": 66,
        "start_time": "2022-06-19T07:50:54.837Z"
      },
      {
        "duration": 3,
        "start_time": "2022-06-19T07:50:54.905Z"
      },
      {
        "duration": 15,
        "start_time": "2022-06-19T07:50:54.910Z"
      },
      {
        "duration": 36,
        "start_time": "2022-06-19T07:50:54.928Z"
      },
      {
        "duration": 15,
        "start_time": "2022-06-19T07:50:54.966Z"
      },
      {
        "duration": 65,
        "start_time": "2022-06-19T07:50:54.983Z"
      },
      {
        "duration": 73,
        "start_time": "2022-06-19T07:50:55.058Z"
      },
      {
        "duration": 44,
        "start_time": "2022-06-19T07:50:55.133Z"
      },
      {
        "duration": 53,
        "start_time": "2022-06-19T07:50:55.181Z"
      },
      {
        "duration": 10,
        "start_time": "2022-06-19T07:50:55.238Z"
      },
      {
        "duration": 120,
        "start_time": "2022-06-19T07:50:55.255Z"
      },
      {
        "duration": 64,
        "start_time": "2022-06-19T07:50:55.377Z"
      },
      {
        "duration": 7,
        "start_time": "2022-06-19T07:50:55.443Z"
      },
      {
        "duration": 110,
        "start_time": "2022-06-19T07:50:55.454Z"
      },
      {
        "duration": 4,
        "start_time": "2022-06-19T07:50:55.567Z"
      },
      {
        "duration": 8,
        "start_time": "2022-06-19T07:50:55.573Z"
      },
      {
        "duration": 23,
        "start_time": "2022-06-19T07:50:55.583Z"
      },
      {
        "duration": 18,
        "start_time": "2022-06-19T07:50:55.608Z"
      },
      {
        "duration": 527,
        "start_time": "2022-06-19T07:50:55.630Z"
      },
      {
        "duration": 12,
        "start_time": "2022-06-19T07:50:56.159Z"
      },
      {
        "duration": 15,
        "start_time": "2022-06-19T07:50:56.173Z"
      },
      {
        "duration": 516,
        "start_time": "2022-06-19T07:50:56.190Z"
      },
      {
        "duration": 11,
        "start_time": "2022-06-19T07:50:56.707Z"
      },
      {
        "duration": 45,
        "start_time": "2022-06-19T07:50:56.720Z"
      },
      {
        "duration": 446,
        "start_time": "2022-06-19T07:50:56.767Z"
      },
      {
        "duration": 6,
        "start_time": "2022-06-19T07:51:56.392Z"
      },
      {
        "duration": 11,
        "start_time": "2022-06-19T07:51:56.910Z"
      },
      {
        "duration": 9,
        "start_time": "2022-06-19T07:51:57.147Z"
      },
      {
        "duration": 453,
        "start_time": "2022-06-19T07:51:57.400Z"
      },
      {
        "duration": 6,
        "start_time": "2022-06-19T07:52:38.973Z"
      },
      {
        "duration": 429,
        "start_time": "2022-06-19T07:52:38.981Z"
      },
      {
        "duration": 20,
        "start_time": "2022-06-19T07:52:39.412Z"
      },
      {
        "duration": 36,
        "start_time": "2022-06-19T07:52:39.435Z"
      },
      {
        "duration": 21,
        "start_time": "2022-06-19T07:52:39.475Z"
      },
      {
        "duration": 14,
        "start_time": "2022-06-19T07:52:39.498Z"
      },
      {
        "duration": 10,
        "start_time": "2022-06-19T07:52:39.514Z"
      },
      {
        "duration": 53,
        "start_time": "2022-06-19T07:52:39.525Z"
      },
      {
        "duration": 21,
        "start_time": "2022-06-19T07:52:39.580Z"
      },
      {
        "duration": 15,
        "start_time": "2022-06-19T07:52:39.603Z"
      },
      {
        "duration": 27,
        "start_time": "2022-06-19T07:52:39.620Z"
      },
      {
        "duration": 123,
        "start_time": "2022-06-19T07:52:39.649Z"
      },
      {
        "duration": 14,
        "start_time": "2022-06-19T07:52:39.774Z"
      },
      {
        "duration": 143,
        "start_time": "2022-06-19T07:52:39.791Z"
      },
      {
        "duration": 82,
        "start_time": "2022-06-19T07:52:39.945Z"
      },
      {
        "duration": 67,
        "start_time": "2022-06-19T07:52:40.029Z"
      },
      {
        "duration": 34,
        "start_time": "2022-06-19T07:52:40.098Z"
      },
      {
        "duration": 130,
        "start_time": "2022-06-19T07:52:40.134Z"
      },
      {
        "duration": 15,
        "start_time": "2022-06-19T07:52:40.266Z"
      },
      {
        "duration": 13,
        "start_time": "2022-06-19T07:52:40.283Z"
      },
      {
        "duration": 11,
        "start_time": "2022-06-19T07:52:40.298Z"
      },
      {
        "duration": 27,
        "start_time": "2022-06-19T07:52:40.311Z"
      },
      {
        "duration": 30,
        "start_time": "2022-06-19T07:52:40.341Z"
      },
      {
        "duration": 449,
        "start_time": "2022-06-19T07:52:40.373Z"
      },
      {
        "duration": 14,
        "start_time": "2022-06-19T07:52:40.826Z"
      },
      {
        "duration": 24,
        "start_time": "2022-06-19T07:52:40.842Z"
      },
      {
        "duration": 475,
        "start_time": "2022-06-19T07:52:40.868Z"
      },
      {
        "duration": 21,
        "start_time": "2022-06-19T07:52:41.347Z"
      },
      {
        "duration": 15,
        "start_time": "2022-06-19T07:52:41.371Z"
      },
      {
        "duration": 497,
        "start_time": "2022-06-19T07:52:41.389Z"
      },
      {
        "duration": 4,
        "start_time": "2022-06-19T08:00:10.265Z"
      },
      {
        "duration": 6,
        "start_time": "2022-06-19T08:00:10.854Z"
      },
      {
        "duration": 21,
        "start_time": "2022-06-19T08:00:11.450Z"
      },
      {
        "duration": 18,
        "start_time": "2022-06-19T08:00:24.356Z"
      },
      {
        "duration": 8,
        "start_time": "2022-06-19T08:00:26.847Z"
      },
      {
        "duration": 5,
        "start_time": "2022-06-19T08:00:26.868Z"
      },
      {
        "duration": 16,
        "start_time": "2022-06-19T08:00:27.327Z"
      },
      {
        "duration": 9,
        "start_time": "2022-06-19T08:05:13.850Z"
      },
      {
        "duration": 15,
        "start_time": "2022-06-19T08:05:14.649Z"
      },
      {
        "duration": 12,
        "start_time": "2022-06-19T08:05:15.144Z"
      },
      {
        "duration": 30,
        "start_time": "2022-06-19T08:05:15.527Z"
      },
      {
        "duration": 5,
        "start_time": "2022-06-19T08:05:31.668Z"
      },
      {
        "duration": 11,
        "start_time": "2022-06-19T08:05:32.256Z"
      },
      {
        "duration": 7,
        "start_time": "2022-06-19T08:05:32.552Z"
      },
      {
        "duration": 16,
        "start_time": "2022-06-19T08:05:33.027Z"
      },
      {
        "duration": 8,
        "start_time": "2022-06-19T08:06:33.141Z"
      },
      {
        "duration": 12,
        "start_time": "2022-06-19T08:06:33.659Z"
      },
      {
        "duration": 9,
        "start_time": "2022-06-19T08:06:33.957Z"
      },
      {
        "duration": 34,
        "start_time": "2022-06-19T08:06:34.445Z"
      },
      {
        "duration": 6,
        "start_time": "2022-06-19T08:06:50.408Z"
      },
      {
        "duration": 11,
        "start_time": "2022-06-19T08:06:50.977Z"
      },
      {
        "duration": 8,
        "start_time": "2022-06-19T08:06:51.239Z"
      },
      {
        "duration": 16,
        "start_time": "2022-06-19T08:06:51.687Z"
      },
      {
        "duration": 6,
        "start_time": "2022-06-19T08:06:58.777Z"
      },
      {
        "duration": 15,
        "start_time": "2022-06-19T08:06:59.157Z"
      },
      {
        "duration": 7,
        "start_time": "2022-06-19T08:06:59.317Z"
      },
      {
        "duration": 466,
        "start_time": "2022-06-19T08:06:59.528Z"
      },
      {
        "duration": 6,
        "start_time": "2022-06-19T08:07:48.381Z"
      },
      {
        "duration": 493,
        "start_time": "2022-06-19T08:07:50.155Z"
      },
      {
        "duration": 11,
        "start_time": "2022-06-19T08:08:50.668Z"
      },
      {
        "duration": 15,
        "start_time": "2022-06-19T08:08:51.377Z"
      },
      {
        "duration": 8,
        "start_time": "2022-06-19T08:08:51.579Z"
      },
      {
        "duration": 728,
        "start_time": "2022-06-19T08:08:51.978Z"
      },
      {
        "duration": 6,
        "start_time": "2022-06-19T08:08:58.178Z"
      },
      {
        "duration": 14,
        "start_time": "2022-06-19T08:08:58.767Z"
      },
      {
        "duration": 7,
        "start_time": "2022-06-19T08:08:58.998Z"
      },
      {
        "duration": 476,
        "start_time": "2022-06-19T08:08:59.587Z"
      },
      {
        "duration": 13,
        "start_time": "2022-06-19T08:09:08.075Z"
      },
      {
        "duration": 20,
        "start_time": "2022-06-19T08:09:08.608Z"
      },
      {
        "duration": 13,
        "start_time": "2022-06-19T08:09:08.819Z"
      },
      {
        "duration": 614,
        "start_time": "2022-06-19T08:09:09.141Z"
      },
      {
        "duration": 11,
        "start_time": "2022-06-19T08:10:00.555Z"
      },
      {
        "duration": 8,
        "start_time": "2022-06-19T08:10:04.220Z"
      },
      {
        "duration": 12,
        "start_time": "2022-06-19T08:10:08.177Z"
      },
      {
        "duration": 9,
        "start_time": "2022-06-19T08:10:10.709Z"
      },
      {
        "duration": 6,
        "start_time": "2022-06-19T08:10:26.865Z"
      },
      {
        "duration": 5,
        "start_time": "2022-06-19T08:15:51.413Z"
      },
      {
        "duration": 4,
        "start_time": "2022-06-19T08:15:53.768Z"
      },
      {
        "duration": 20,
        "start_time": "2022-06-19T08:16:04.962Z"
      },
      {
        "duration": 429,
        "start_time": "2022-06-19T08:16:12.582Z"
      },
      {
        "duration": 4,
        "start_time": "2022-06-19T08:17:53.552Z"
      },
      {
        "duration": 9,
        "start_time": "2022-06-19T08:17:57.455Z"
      },
      {
        "duration": 14,
        "start_time": "2022-06-19T08:18:07.407Z"
      },
      {
        "duration": 10,
        "start_time": "2022-06-19T08:19:13.824Z"
      },
      {
        "duration": 9,
        "start_time": "2022-06-19T08:19:15.390Z"
      },
      {
        "duration": 5,
        "start_time": "2022-06-19T08:19:16.762Z"
      },
      {
        "duration": 12,
        "start_time": "2022-06-19T08:19:16.952Z"
      },
      {
        "duration": 6,
        "start_time": "2022-06-19T08:19:20.955Z"
      },
      {
        "duration": 16,
        "start_time": "2022-06-19T08:19:21.454Z"
      },
      {
        "duration": 4,
        "start_time": "2022-06-19T08:19:38.674Z"
      },
      {
        "duration": 8,
        "start_time": "2022-06-19T08:19:39.063Z"
      },
      {
        "duration": 5,
        "start_time": "2022-06-19T08:19:58.817Z"
      },
      {
        "duration": 4,
        "start_time": "2022-06-19T08:20:05.194Z"
      },
      {
        "duration": 4,
        "start_time": "2022-06-19T08:20:26.376Z"
      },
      {
        "duration": 4,
        "start_time": "2022-06-19T08:20:29.493Z"
      },
      {
        "duration": 5,
        "start_time": "2022-06-19T08:20:29.657Z"
      },
      {
        "duration": 4,
        "start_time": "2022-06-19T08:20:29.804Z"
      },
      {
        "duration": 9,
        "start_time": "2022-06-19T08:20:30.613Z"
      },
      {
        "duration": 9,
        "start_time": "2022-06-19T08:20:33.565Z"
      },
      {
        "duration": 12,
        "start_time": "2022-06-19T08:20:36.313Z"
      },
      {
        "duration": 6,
        "start_time": "2022-06-19T08:24:30.904Z"
      },
      {
        "duration": 6,
        "start_time": "2022-06-19T08:24:31.165Z"
      },
      {
        "duration": 6,
        "start_time": "2022-06-19T08:24:31.395Z"
      },
      {
        "duration": 17,
        "start_time": "2022-06-19T08:24:34.531Z"
      },
      {
        "duration": 9,
        "start_time": "2022-06-19T08:26:10.606Z"
      },
      {
        "duration": 9,
        "start_time": "2022-06-19T08:26:39.357Z"
      },
      {
        "duration": 6,
        "start_time": "2022-06-19T08:27:47.955Z"
      },
      {
        "duration": 17,
        "start_time": "2022-06-19T08:28:03.127Z"
      },
      {
        "duration": 11,
        "start_time": "2022-06-19T08:28:35.448Z"
      },
      {
        "duration": 6,
        "start_time": "2022-06-19T08:29:18.497Z"
      },
      {
        "duration": 17,
        "start_time": "2022-06-19T08:29:20.164Z"
      },
      {
        "duration": 582,
        "start_time": "2022-06-19T08:29:20.996Z"
      },
      {
        "duration": 6,
        "start_time": "2022-06-19T08:29:24.395Z"
      },
      {
        "duration": 585,
        "start_time": "2022-06-19T08:29:24.404Z"
      },
      {
        "duration": 24,
        "start_time": "2022-06-19T08:29:24.991Z"
      },
      {
        "duration": 92,
        "start_time": "2022-06-19T08:29:25.016Z"
      },
      {
        "duration": 108,
        "start_time": "2022-06-19T08:29:25.111Z"
      },
      {
        "duration": 75,
        "start_time": "2022-06-19T08:29:25.222Z"
      },
      {
        "duration": 14,
        "start_time": "2022-06-19T08:29:25.300Z"
      },
      {
        "duration": 85,
        "start_time": "2022-06-19T08:29:25.316Z"
      },
      {
        "duration": 11,
        "start_time": "2022-06-19T08:29:25.403Z"
      },
      {
        "duration": 19,
        "start_time": "2022-06-19T08:29:25.416Z"
      },
      {
        "duration": 66,
        "start_time": "2022-06-19T08:29:25.438Z"
      },
      {
        "duration": 6,
        "start_time": "2022-06-19T08:29:25.507Z"
      },
      {
        "duration": 146,
        "start_time": "2022-06-19T08:29:25.525Z"
      },
      {
        "duration": 85,
        "start_time": "2022-06-19T08:29:25.677Z"
      },
      {
        "duration": 79,
        "start_time": "2022-06-19T08:29:25.770Z"
      },
      {
        "duration": 43,
        "start_time": "2022-06-19T08:29:25.858Z"
      },
      {
        "duration": 128,
        "start_time": "2022-06-19T08:29:25.903Z"
      },
      {
        "duration": 6,
        "start_time": "2022-06-19T08:29:26.036Z"
      },
      {
        "duration": 52,
        "start_time": "2022-06-19T08:29:26.050Z"
      },
      {
        "duration": 12,
        "start_time": "2022-06-19T08:29:26.105Z"
      },
      {
        "duration": 37,
        "start_time": "2022-06-19T08:29:26.120Z"
      },
      {
        "duration": 29,
        "start_time": "2022-06-19T08:29:26.160Z"
      },
      {
        "duration": 14,
        "start_time": "2022-06-19T08:29:26.191Z"
      },
      {
        "duration": 10,
        "start_time": "2022-06-19T08:29:26.207Z"
      },
      {
        "duration": 8,
        "start_time": "2022-06-19T08:29:26.221Z"
      },
      {
        "duration": 61,
        "start_time": "2022-06-19T08:29:26.231Z"
      },
      {
        "duration": 49,
        "start_time": "2022-06-19T08:29:26.294Z"
      },
      {
        "duration": 0,
        "start_time": "2022-06-19T08:29:26.345Z"
      },
      {
        "duration": 0,
        "start_time": "2022-06-19T08:29:26.346Z"
      },
      {
        "duration": 0,
        "start_time": "2022-06-19T08:29:26.348Z"
      },
      {
        "duration": 0,
        "start_time": "2022-06-19T08:29:26.349Z"
      },
      {
        "duration": 0,
        "start_time": "2022-06-19T08:29:26.350Z"
      },
      {
        "duration": 0,
        "start_time": "2022-06-19T08:29:26.351Z"
      },
      {
        "duration": 9,
        "start_time": "2022-06-19T08:30:43.861Z"
      },
      {
        "duration": 12,
        "start_time": "2022-06-19T08:30:56.167Z"
      },
      {
        "duration": 13,
        "start_time": "2022-06-19T08:30:58.096Z"
      },
      {
        "duration": 17,
        "start_time": "2022-06-19T08:31:49.566Z"
      },
      {
        "duration": 5,
        "start_time": "2022-06-19T08:32:21.707Z"
      },
      {
        "duration": 7,
        "start_time": "2022-06-19T08:32:40.547Z"
      },
      {
        "duration": 7,
        "start_time": "2022-06-19T08:32:45.347Z"
      },
      {
        "duration": 15,
        "start_time": "2022-06-19T08:32:45.552Z"
      },
      {
        "duration": 6,
        "start_time": "2022-06-19T08:32:52.197Z"
      },
      {
        "duration": 5,
        "start_time": "2022-06-19T08:33:56.867Z"
      },
      {
        "duration": 5,
        "start_time": "2022-06-19T08:33:57.366Z"
      },
      {
        "duration": 7,
        "start_time": "2022-06-19T08:33:57.667Z"
      },
      {
        "duration": 8,
        "start_time": "2022-06-19T08:33:58.179Z"
      },
      {
        "duration": 16,
        "start_time": "2022-06-19T08:34:05.110Z"
      },
      {
        "duration": 7,
        "start_time": "2022-06-19T08:34:14.669Z"
      },
      {
        "duration": 5,
        "start_time": "2022-06-19T08:34:15.186Z"
      },
      {
        "duration": 8,
        "start_time": "2022-06-19T08:34:15.460Z"
      },
      {
        "duration": 1624,
        "start_time": "2022-06-19T08:34:15.877Z"
      },
      {
        "duration": 7,
        "start_time": "2022-06-19T08:34:44.462Z"
      },
      {
        "duration": 6,
        "start_time": "2022-06-19T08:34:45.294Z"
      },
      {
        "duration": 11,
        "start_time": "2022-06-19T08:34:45.303Z"
      },
      {
        "duration": 780,
        "start_time": "2022-06-19T08:34:45.628Z"
      },
      {
        "duration": 768,
        "start_time": "2022-06-19T08:35:00.488Z"
      },
      {
        "duration": 920,
        "start_time": "2022-06-19T08:35:11.346Z"
      },
      {
        "duration": 11,
        "start_time": "2022-06-19T08:35:45.880Z"
      },
      {
        "duration": 19,
        "start_time": "2022-06-19T08:35:46.345Z"
      },
      {
        "duration": 17,
        "start_time": "2022-06-19T08:35:46.490Z"
      },
      {
        "duration": 1146,
        "start_time": "2022-06-19T08:35:46.650Z"
      },
      {
        "duration": 5,
        "start_time": "2022-06-19T08:35:47.799Z"
      },
      {
        "duration": 41,
        "start_time": "2022-06-19T08:35:47.807Z"
      },
      {
        "duration": 945,
        "start_time": "2022-06-19T08:35:47.851Z"
      },
      {
        "duration": 5,
        "start_time": "2022-06-19T08:35:48.803Z"
      },
      {
        "duration": 12,
        "start_time": "2022-06-19T08:35:48.810Z"
      },
      {
        "duration": 1027,
        "start_time": "2022-06-19T08:35:48.881Z"
      },
      {
        "duration": 7,
        "start_time": "2022-06-19T08:49:14.521Z"
      },
      {
        "duration": 511,
        "start_time": "2022-06-19T08:49:14.534Z"
      },
      {
        "duration": 22,
        "start_time": "2022-06-19T08:49:15.047Z"
      },
      {
        "duration": 22,
        "start_time": "2022-06-19T08:49:15.071Z"
      },
      {
        "duration": 24,
        "start_time": "2022-06-19T08:49:15.096Z"
      },
      {
        "duration": 25,
        "start_time": "2022-06-19T08:49:15.122Z"
      },
      {
        "duration": 20,
        "start_time": "2022-06-19T08:49:15.152Z"
      },
      {
        "duration": 17,
        "start_time": "2022-06-19T08:49:15.174Z"
      },
      {
        "duration": 9,
        "start_time": "2022-06-19T08:49:15.192Z"
      },
      {
        "duration": 24,
        "start_time": "2022-06-19T08:49:15.203Z"
      },
      {
        "duration": 39,
        "start_time": "2022-06-19T08:49:15.231Z"
      },
      {
        "duration": 98,
        "start_time": "2022-06-19T08:49:15.330Z"
      },
      {
        "duration": 32,
        "start_time": "2022-06-19T08:49:15.433Z"
      },
      {
        "duration": 16,
        "start_time": "2022-06-19T08:49:15.468Z"
      },
      {
        "duration": 52,
        "start_time": "2022-06-19T08:49:15.485Z"
      },
      {
        "duration": 133,
        "start_time": "2022-06-19T08:49:15.541Z"
      },
      {
        "duration": 18,
        "start_time": "2022-06-19T08:49:15.677Z"
      },
      {
        "duration": 134,
        "start_time": "2022-06-19T08:49:15.698Z"
      },
      {
        "duration": 29,
        "start_time": "2022-06-19T08:49:15.834Z"
      },
      {
        "duration": 11,
        "start_time": "2022-06-19T08:49:15.865Z"
      },
      {
        "duration": 8,
        "start_time": "2022-06-19T08:49:15.878Z"
      },
      {
        "duration": 6,
        "start_time": "2022-06-19T08:49:15.888Z"
      },
      {
        "duration": 8,
        "start_time": "2022-06-19T08:49:15.896Z"
      },
      {
        "duration": 7,
        "start_time": "2022-06-19T08:49:15.906Z"
      },
      {
        "duration": 6,
        "start_time": "2022-06-19T08:49:15.915Z"
      },
      {
        "duration": 35,
        "start_time": "2022-06-19T08:49:15.923Z"
      },
      {
        "duration": 807,
        "start_time": "2022-06-19T08:49:15.960Z"
      },
      {
        "duration": 5,
        "start_time": "2022-06-19T08:49:16.769Z"
      },
      {
        "duration": 11,
        "start_time": "2022-06-19T08:49:16.776Z"
      },
      {
        "duration": 784,
        "start_time": "2022-06-19T08:49:16.789Z"
      },
      {
        "duration": 5,
        "start_time": "2022-06-19T08:49:17.575Z"
      },
      {
        "duration": 8,
        "start_time": "2022-06-19T08:49:17.581Z"
      },
      {
        "duration": 814,
        "start_time": "2022-06-19T08:49:17.590Z"
      },
      {
        "duration": 9,
        "start_time": "2022-06-19T08:50:09.422Z"
      },
      {
        "duration": 700,
        "start_time": "2022-06-19T08:50:12.022Z"
      },
      {
        "duration": 722,
        "start_time": "2022-06-19T08:56:25.557Z"
      },
      {
        "duration": 10,
        "start_time": "2022-06-19T08:56:56.978Z"
      },
      {
        "duration": 780,
        "start_time": "2022-06-19T08:56:59.331Z"
      },
      {
        "duration": 759,
        "start_time": "2022-06-19T09:00:33.262Z"
      },
      {
        "duration": 6,
        "start_time": "2022-06-19T09:01:09.572Z"
      },
      {
        "duration": 5,
        "start_time": "2022-06-19T09:05:30.501Z"
      },
      {
        "duration": 463,
        "start_time": "2022-06-19T09:05:30.509Z"
      },
      {
        "duration": 15,
        "start_time": "2022-06-19T09:05:30.974Z"
      },
      {
        "duration": 9,
        "start_time": "2022-06-19T09:05:30.991Z"
      },
      {
        "duration": 34,
        "start_time": "2022-06-19T09:05:31.003Z"
      },
      {
        "duration": 37,
        "start_time": "2022-06-19T09:05:31.038Z"
      },
      {
        "duration": 11,
        "start_time": "2022-06-19T09:05:31.077Z"
      },
      {
        "duration": 19,
        "start_time": "2022-06-19T09:05:31.089Z"
      },
      {
        "duration": 70,
        "start_time": "2022-06-19T09:05:31.110Z"
      },
      {
        "duration": 76,
        "start_time": "2022-06-19T09:05:31.182Z"
      },
      {
        "duration": 72,
        "start_time": "2022-06-19T09:05:31.260Z"
      },
      {
        "duration": 126,
        "start_time": "2022-06-19T09:05:31.343Z"
      },
      {
        "duration": 18,
        "start_time": "2022-06-19T09:05:31.471Z"
      },
      {
        "duration": 62,
        "start_time": "2022-06-19T09:05:31.492Z"
      },
      {
        "duration": 103,
        "start_time": "2022-06-19T09:05:31.561Z"
      },
      {
        "duration": 15,
        "start_time": "2022-06-19T09:05:31.666Z"
      },
      {
        "duration": 80,
        "start_time": "2022-06-19T09:05:31.683Z"
      },
      {
        "duration": 160,
        "start_time": "2022-06-19T09:05:31.768Z"
      },
      {
        "duration": 68,
        "start_time": "2022-06-19T09:05:31.929Z"
      },
      {
        "duration": 65,
        "start_time": "2022-06-19T09:05:31.999Z"
      },
      {
        "duration": 10,
        "start_time": "2022-06-19T09:05:32.066Z"
      },
      {
        "duration": 7,
        "start_time": "2022-06-19T09:05:32.078Z"
      },
      {
        "duration": 12,
        "start_time": "2022-06-19T09:05:32.087Z"
      },
      {
        "duration": 70,
        "start_time": "2022-06-19T09:05:32.100Z"
      },
      {
        "duration": 14,
        "start_time": "2022-06-19T09:05:32.172Z"
      },
      {
        "duration": 749,
        "start_time": "2022-06-19T09:05:32.188Z"
      },
      {
        "duration": 15,
        "start_time": "2022-06-19T09:05:32.941Z"
      },
      {
        "duration": 762,
        "start_time": "2022-06-19T09:05:32.959Z"
      },
      {
        "duration": 12,
        "start_time": "2022-06-19T09:05:33.732Z"
      },
      {
        "duration": 804,
        "start_time": "2022-06-19T09:05:33.755Z"
      },
      {
        "duration": 1100,
        "start_time": "2022-06-19T09:10:51.502Z"
      },
      {
        "duration": 490,
        "start_time": "2022-06-19T09:10:52.604Z"
      },
      {
        "duration": 31,
        "start_time": "2022-06-19T09:10:53.096Z"
      },
      {
        "duration": 34,
        "start_time": "2022-06-19T09:10:53.130Z"
      },
      {
        "duration": 15,
        "start_time": "2022-06-19T09:10:53.167Z"
      },
      {
        "duration": 15,
        "start_time": "2022-06-19T09:10:53.184Z"
      },
      {
        "duration": 4,
        "start_time": "2022-06-19T09:10:53.200Z"
      },
      {
        "duration": 37,
        "start_time": "2022-06-19T09:10:53.206Z"
      },
      {
        "duration": 25,
        "start_time": "2022-06-19T09:10:53.252Z"
      },
      {
        "duration": 17,
        "start_time": "2022-06-19T09:10:53.279Z"
      },
      {
        "duration": 41,
        "start_time": "2022-06-19T09:10:53.298Z"
      },
      {
        "duration": 9,
        "start_time": "2022-06-19T09:10:53.341Z"
      },
      {
        "duration": 36,
        "start_time": "2022-06-19T09:10:53.435Z"
      },
      {
        "duration": 15,
        "start_time": "2022-06-19T09:10:53.474Z"
      },
      {
        "duration": 56,
        "start_time": "2022-06-19T09:10:53.491Z"
      },
      {
        "duration": 95,
        "start_time": "2022-06-19T09:10:53.552Z"
      },
      {
        "duration": 24,
        "start_time": "2022-06-19T09:10:53.655Z"
      },
      {
        "duration": 126,
        "start_time": "2022-06-19T09:10:53.733Z"
      },
      {
        "duration": 11,
        "start_time": "2022-06-19T09:10:53.861Z"
      },
      {
        "duration": 15,
        "start_time": "2022-06-19T09:10:53.873Z"
      },
      {
        "duration": 7,
        "start_time": "2022-06-19T09:10:53.890Z"
      },
      {
        "duration": 8,
        "start_time": "2022-06-19T09:10:53.899Z"
      },
      {
        "duration": 8,
        "start_time": "2022-06-19T09:10:53.908Z"
      },
      {
        "duration": 46,
        "start_time": "2022-06-19T09:10:53.918Z"
      },
      {
        "duration": 903,
        "start_time": "2022-06-19T09:10:53.966Z"
      },
      {
        "duration": 20,
        "start_time": "2022-06-19T09:10:54.873Z"
      },
      {
        "duration": 778,
        "start_time": "2022-06-19T09:10:54.895Z"
      },
      {
        "duration": 5,
        "start_time": "2022-06-19T09:10:55.675Z"
      },
      {
        "duration": 766,
        "start_time": "2022-06-19T09:10:55.682Z"
      },
      {
        "duration": 2063,
        "start_time": "2022-06-19T20:36:54.129Z"
      },
      {
        "duration": 799,
        "start_time": "2022-06-19T20:36:56.194Z"
      },
      {
        "duration": 18,
        "start_time": "2022-06-19T20:36:56.995Z"
      },
      {
        "duration": 16,
        "start_time": "2022-06-19T20:36:57.016Z"
      },
      {
        "duration": 15,
        "start_time": "2022-06-19T20:36:57.034Z"
      },
      {
        "duration": 45,
        "start_time": "2022-06-19T20:36:57.050Z"
      },
      {
        "duration": 3,
        "start_time": "2022-06-19T20:36:57.097Z"
      },
      {
        "duration": 13,
        "start_time": "2022-06-19T20:36:57.102Z"
      },
      {
        "duration": 6,
        "start_time": "2022-06-19T20:36:57.117Z"
      },
      {
        "duration": 14,
        "start_time": "2022-06-19T20:36:57.125Z"
      },
      {
        "duration": 56,
        "start_time": "2022-06-19T20:36:57.141Z"
      },
      {
        "duration": 9,
        "start_time": "2022-06-19T20:36:57.199Z"
      },
      {
        "duration": 13,
        "start_time": "2022-06-19T20:36:57.295Z"
      },
      {
        "duration": 15,
        "start_time": "2022-06-19T20:36:57.310Z"
      },
      {
        "duration": 69,
        "start_time": "2022-06-19T20:36:57.327Z"
      },
      {
        "duration": 115,
        "start_time": "2022-06-19T20:36:57.398Z"
      },
      {
        "duration": 14,
        "start_time": "2022-06-19T20:36:57.515Z"
      },
      {
        "duration": 164,
        "start_time": "2022-06-19T20:36:57.532Z"
      },
      {
        "duration": 9,
        "start_time": "2022-06-19T20:36:57.698Z"
      },
      {
        "duration": 9,
        "start_time": "2022-06-19T20:36:57.709Z"
      },
      {
        "duration": 7,
        "start_time": "2022-06-19T20:36:57.720Z"
      },
      {
        "duration": 8,
        "start_time": "2022-06-19T20:36:57.729Z"
      },
      {
        "duration": 6,
        "start_time": "2022-06-19T20:36:57.739Z"
      },
      {
        "duration": 10,
        "start_time": "2022-06-19T20:36:57.747Z"
      },
      {
        "duration": 736,
        "start_time": "2022-06-19T20:36:57.758Z"
      },
      {
        "duration": 5,
        "start_time": "2022-06-19T20:36:58.495Z"
      },
      {
        "duration": 801,
        "start_time": "2022-06-19T20:36:58.502Z"
      },
      {
        "duration": 5,
        "start_time": "2022-06-19T20:36:59.305Z"
      },
      {
        "duration": 695,
        "start_time": "2022-06-19T20:36:59.311Z"
      },
      {
        "duration": 11,
        "start_time": "2022-06-19T20:37:01.696Z"
      },
      {
        "duration": 15,
        "start_time": "2022-06-19T20:37:12.428Z"
      },
      {
        "duration": 1156,
        "start_time": "2022-06-20T13:28:13.611Z"
      },
      {
        "duration": 2330,
        "start_time": "2022-06-20T13:28:14.771Z"
      },
      {
        "duration": 17,
        "start_time": "2022-06-20T13:28:17.103Z"
      },
      {
        "duration": 58,
        "start_time": "2022-06-20T13:28:17.122Z"
      },
      {
        "duration": 30,
        "start_time": "2022-06-20T13:28:17.183Z"
      },
      {
        "duration": 61,
        "start_time": "2022-06-20T13:28:17.215Z"
      },
      {
        "duration": 8,
        "start_time": "2022-06-20T13:28:17.278Z"
      },
      {
        "duration": 40,
        "start_time": "2022-06-20T13:28:17.287Z"
      },
      {
        "duration": 41,
        "start_time": "2022-06-20T13:28:17.329Z"
      },
      {
        "duration": 41,
        "start_time": "2022-06-20T13:28:17.371Z"
      },
      {
        "duration": 53,
        "start_time": "2022-06-20T13:28:17.414Z"
      },
      {
        "duration": 172,
        "start_time": "2022-06-20T13:28:17.468Z"
      },
      {
        "duration": 48,
        "start_time": "2022-06-20T13:28:17.643Z"
      },
      {
        "duration": 39,
        "start_time": "2022-06-20T13:28:17.695Z"
      },
      {
        "duration": 134,
        "start_time": "2022-06-20T13:28:17.736Z"
      },
      {
        "duration": 21,
        "start_time": "2022-06-20T13:28:17.871Z"
      },
      {
        "duration": 36,
        "start_time": "2022-06-20T13:28:17.894Z"
      },
      {
        "duration": 30,
        "start_time": "2022-06-20T13:28:17.932Z"
      },
      {
        "duration": 47,
        "start_time": "2022-06-20T13:28:18.030Z"
      },
      {
        "duration": 20,
        "start_time": "2022-06-20T13:28:18.078Z"
      },
      {
        "duration": 11,
        "start_time": "2022-06-20T13:28:18.099Z"
      },
      {
        "duration": 10,
        "start_time": "2022-06-20T13:28:18.111Z"
      },
      {
        "duration": 7,
        "start_time": "2022-06-20T13:28:18.122Z"
      },
      {
        "duration": 39,
        "start_time": "2022-06-20T13:28:18.130Z"
      },
      {
        "duration": 746,
        "start_time": "2022-06-20T13:28:18.171Z"
      },
      {
        "duration": 17,
        "start_time": "2022-06-20T13:28:18.919Z"
      },
      {
        "duration": 739,
        "start_time": "2022-06-20T13:28:18.938Z"
      },
      {
        "duration": 5,
        "start_time": "2022-06-20T13:28:19.678Z"
      },
      {
        "duration": 701,
        "start_time": "2022-06-20T13:28:19.684Z"
      },
      {
        "duration": 134,
        "start_time": "2022-06-20T13:44:21.107Z"
      },
      {
        "duration": 10,
        "start_time": "2022-06-20T13:45:06.703Z"
      },
      {
        "duration": 14,
        "start_time": "2022-06-20T13:46:43.931Z"
      },
      {
        "duration": 6,
        "start_time": "2022-06-20T13:46:46.070Z"
      },
      {
        "duration": 563,
        "start_time": "2022-06-20T13:46:46.079Z"
      },
      {
        "duration": 24,
        "start_time": "2022-06-20T13:46:46.644Z"
      },
      {
        "duration": 12,
        "start_time": "2022-06-20T13:46:46.672Z"
      },
      {
        "duration": 19,
        "start_time": "2022-06-20T13:46:46.686Z"
      },
      {
        "duration": 32,
        "start_time": "2022-06-20T13:46:46.707Z"
      },
      {
        "duration": 36,
        "start_time": "2022-06-20T13:46:46.741Z"
      },
      {
        "duration": 13,
        "start_time": "2022-06-20T13:46:46.779Z"
      },
      {
        "duration": 8,
        "start_time": "2022-06-20T13:46:46.796Z"
      },
      {
        "duration": 17,
        "start_time": "2022-06-20T13:46:46.806Z"
      },
      {
        "duration": 52,
        "start_time": "2022-06-20T13:46:46.825Z"
      },
      {
        "duration": 127,
        "start_time": "2022-06-20T13:46:46.936Z"
      },
      {
        "duration": 21,
        "start_time": "2022-06-20T13:46:47.066Z"
      },
      {
        "duration": 21,
        "start_time": "2022-06-20T13:46:47.088Z"
      },
      {
        "duration": 8,
        "start_time": "2022-06-20T13:46:47.133Z"
      },
      {
        "duration": 127,
        "start_time": "2022-06-20T13:46:47.144Z"
      },
      {
        "duration": 17,
        "start_time": "2022-06-20T13:46:47.273Z"
      },
      {
        "duration": 141,
        "start_time": "2022-06-20T13:46:47.292Z"
      },
      {
        "duration": 36,
        "start_time": "2022-06-20T13:46:47.440Z"
      },
      {
        "duration": 11,
        "start_time": "2022-06-20T13:46:47.478Z"
      },
      {
        "duration": 7,
        "start_time": "2022-06-20T13:46:47.491Z"
      },
      {
        "duration": 11,
        "start_time": "2022-06-20T13:46:47.499Z"
      },
      {
        "duration": 5,
        "start_time": "2022-06-20T13:46:47.512Z"
      },
      {
        "duration": 13,
        "start_time": "2022-06-20T13:46:47.520Z"
      },
      {
        "duration": 855,
        "start_time": "2022-06-20T13:46:47.535Z"
      },
      {
        "duration": 4,
        "start_time": "2022-06-20T13:46:48.392Z"
      },
      {
        "duration": 823,
        "start_time": "2022-06-20T13:46:48.398Z"
      },
      {
        "duration": 7,
        "start_time": "2022-06-20T13:46:49.223Z"
      },
      {
        "duration": 860,
        "start_time": "2022-06-20T13:46:49.232Z"
      },
      {
        "duration": 18,
        "start_time": "2022-06-20T13:46:50.094Z"
      },
      {
        "duration": 5,
        "start_time": "2022-06-20T13:47:50.420Z"
      },
      {
        "duration": 478,
        "start_time": "2022-06-20T13:47:50.427Z"
      },
      {
        "duration": 13,
        "start_time": "2022-06-20T13:47:50.907Z"
      },
      {
        "duration": 15,
        "start_time": "2022-06-20T13:47:50.922Z"
      },
      {
        "duration": 41,
        "start_time": "2022-06-20T13:47:50.939Z"
      },
      {
        "duration": 15,
        "start_time": "2022-06-20T13:47:50.981Z"
      },
      {
        "duration": 6,
        "start_time": "2022-06-20T13:47:50.998Z"
      },
      {
        "duration": 17,
        "start_time": "2022-06-20T13:47:51.006Z"
      },
      {
        "duration": 31,
        "start_time": "2022-06-20T13:47:51.028Z"
      },
      {
        "duration": 18,
        "start_time": "2022-06-20T13:47:51.061Z"
      },
      {
        "duration": 70,
        "start_time": "2022-06-20T13:47:51.083Z"
      },
      {
        "duration": 76,
        "start_time": "2022-06-20T13:47:51.156Z"
      },
      {
        "duration": 37,
        "start_time": "2022-06-20T13:47:51.239Z"
      },
      {
        "duration": 19,
        "start_time": "2022-06-20T13:47:51.278Z"
      },
      {
        "duration": 105,
        "start_time": "2022-06-20T13:47:51.329Z"
      },
      {
        "duration": 39,
        "start_time": "2022-06-20T13:47:51.435Z"
      },
      {
        "duration": 13,
        "start_time": "2022-06-20T13:47:51.476Z"
      },
      {
        "duration": 43,
        "start_time": "2022-06-20T13:47:51.492Z"
      },
      {
        "duration": 121,
        "start_time": "2022-06-20T13:47:51.537Z"
      },
      {
        "duration": 13,
        "start_time": "2022-06-20T13:47:51.660Z"
      },
      {
        "duration": 8,
        "start_time": "2022-06-20T13:47:51.675Z"
      },
      {
        "duration": 6,
        "start_time": "2022-06-20T13:47:51.684Z"
      },
      {
        "duration": 10,
        "start_time": "2022-06-20T13:47:51.691Z"
      },
      {
        "duration": 11,
        "start_time": "2022-06-20T13:47:51.703Z"
      },
      {
        "duration": 763,
        "start_time": "2022-06-20T13:47:51.715Z"
      },
      {
        "duration": 5,
        "start_time": "2022-06-20T13:47:52.480Z"
      },
      {
        "duration": 837,
        "start_time": "2022-06-20T13:47:52.486Z"
      },
      {
        "duration": 10,
        "start_time": "2022-06-20T13:47:53.325Z"
      },
      {
        "duration": 900,
        "start_time": "2022-06-20T13:47:53.340Z"
      },
      {
        "duration": 1098,
        "start_time": "2022-06-20T13:47:54.245Z"
      },
      {
        "duration": 12,
        "start_time": "2022-06-20T13:48:21.362Z"
      },
      {
        "duration": 1124,
        "start_time": "2022-06-20T13:48:24.226Z"
      },
      {
        "duration": 1324,
        "start_time": "2022-06-20T13:49:40.116Z"
      },
      {
        "duration": 462,
        "start_time": "2022-06-20T13:49:41.443Z"
      },
      {
        "duration": 18,
        "start_time": "2022-06-20T13:49:41.907Z"
      },
      {
        "duration": 37,
        "start_time": "2022-06-20T13:49:41.927Z"
      },
      {
        "duration": 29,
        "start_time": "2022-06-20T13:49:41.966Z"
      },
      {
        "duration": 18,
        "start_time": "2022-06-20T13:49:41.997Z"
      },
      {
        "duration": 3,
        "start_time": "2022-06-20T13:49:42.017Z"
      },
      {
        "duration": 20,
        "start_time": "2022-06-20T13:49:42.022Z"
      },
      {
        "duration": 38,
        "start_time": "2022-06-20T13:49:42.043Z"
      },
      {
        "duration": 14,
        "start_time": "2022-06-20T13:49:42.084Z"
      },
      {
        "duration": 50,
        "start_time": "2022-06-20T13:49:42.099Z"
      },
      {
        "duration": 16,
        "start_time": "2022-06-20T13:49:42.153Z"
      },
      {
        "duration": 111,
        "start_time": "2022-06-20T13:49:42.174Z"
      },
      {
        "duration": 20,
        "start_time": "2022-06-20T13:49:42.289Z"
      },
      {
        "duration": 11,
        "start_time": "2022-06-20T13:49:42.332Z"
      },
      {
        "duration": 141,
        "start_time": "2022-06-20T13:49:42.348Z"
      },
      {
        "duration": 16,
        "start_time": "2022-06-20T13:49:42.491Z"
      },
      {
        "duration": 19,
        "start_time": "2022-06-20T13:49:42.509Z"
      },
      {
        "duration": 35,
        "start_time": "2022-06-20T13:49:42.535Z"
      },
      {
        "duration": 106,
        "start_time": "2022-06-20T13:49:42.574Z"
      },
      {
        "duration": 11,
        "start_time": "2022-06-20T13:49:42.682Z"
      },
      {
        "duration": 11,
        "start_time": "2022-06-20T13:49:42.695Z"
      },
      {
        "duration": 12,
        "start_time": "2022-06-20T13:49:42.708Z"
      },
      {
        "duration": 34,
        "start_time": "2022-06-20T13:49:42.723Z"
      },
      {
        "duration": 941,
        "start_time": "2022-06-20T13:49:42.759Z"
      },
      {
        "duration": 6,
        "start_time": "2022-06-20T13:49:43.708Z"
      },
      {
        "duration": 887,
        "start_time": "2022-06-20T13:49:43.716Z"
      },
      {
        "duration": 5,
        "start_time": "2022-06-20T13:49:44.605Z"
      },
      {
        "duration": 928,
        "start_time": "2022-06-20T13:49:44.612Z"
      },
      {
        "duration": 132,
        "start_time": "2022-06-20T13:49:45.542Z"
      },
      {
        "duration": 840,
        "start_time": "2022-06-20T13:50:18.425Z"
      },
      {
        "duration": 4,
        "start_time": "2022-06-20T13:50:49.616Z"
      },
      {
        "duration": 464,
        "start_time": "2022-06-20T13:50:49.623Z"
      },
      {
        "duration": 13,
        "start_time": "2022-06-20T13:50:50.089Z"
      },
      {
        "duration": 8,
        "start_time": "2022-06-20T13:50:50.104Z"
      },
      {
        "duration": 28,
        "start_time": "2022-06-20T13:50:50.114Z"
      },
      {
        "duration": 20,
        "start_time": "2022-06-20T13:50:50.143Z"
      },
      {
        "duration": 3,
        "start_time": "2022-06-20T13:50:50.165Z"
      },
      {
        "duration": 12,
        "start_time": "2022-06-20T13:50:50.170Z"
      },
      {
        "duration": 9,
        "start_time": "2022-06-20T13:50:50.185Z"
      },
      {
        "duration": 34,
        "start_time": "2022-06-20T13:50:50.196Z"
      },
      {
        "duration": 112,
        "start_time": "2022-06-20T13:50:50.234Z"
      },
      {
        "duration": 89,
        "start_time": "2022-06-20T13:50:50.349Z"
      },
      {
        "duration": 38,
        "start_time": "2022-06-20T13:50:50.440Z"
      },
      {
        "duration": 53,
        "start_time": "2022-06-20T13:50:50.479Z"
      },
      {
        "duration": 6,
        "start_time": "2022-06-20T13:50:50.534Z"
      },
      {
        "duration": 100,
        "start_time": "2022-06-20T13:50:50.544Z"
      },
      {
        "duration": 31,
        "start_time": "2022-06-20T13:50:50.646Z"
      },
      {
        "duration": 54,
        "start_time": "2022-06-20T13:50:50.679Z"
      },
      {
        "duration": 115,
        "start_time": "2022-06-20T13:50:50.744Z"
      },
      {
        "duration": 17,
        "start_time": "2022-06-20T13:50:50.861Z"
      },
      {
        "duration": 9,
        "start_time": "2022-06-20T13:50:50.880Z"
      },
      {
        "duration": 9,
        "start_time": "2022-06-20T13:50:50.891Z"
      },
      {
        "duration": 10,
        "start_time": "2022-06-20T13:50:50.902Z"
      },
      {
        "duration": 9,
        "start_time": "2022-06-20T13:50:50.916Z"
      },
      {
        "duration": 781,
        "start_time": "2022-06-20T13:50:50.927Z"
      },
      {
        "duration": 4,
        "start_time": "2022-06-20T13:50:51.710Z"
      },
      {
        "duration": 743,
        "start_time": "2022-06-20T13:50:51.729Z"
      },
      {
        "duration": 5,
        "start_time": "2022-06-20T13:50:52.474Z"
      },
      {
        "duration": 840,
        "start_time": "2022-06-20T13:50:52.480Z"
      },
      {
        "duration": 31,
        "start_time": "2022-06-20T13:50:53.322Z"
      },
      {
        "duration": 4,
        "start_time": "2022-06-20T13:51:36.677Z"
      },
      {
        "duration": 892,
        "start_time": "2022-06-20T13:51:36.912Z"
      },
      {
        "duration": 16,
        "start_time": "2022-06-20T13:51:46.030Z"
      },
      {
        "duration": 8,
        "start_time": "2022-06-20T13:51:47.855Z"
      },
      {
        "duration": 963,
        "start_time": "2022-06-20T13:51:48.423Z"
      },
      {
        "duration": 11,
        "start_time": "2022-06-20T13:52:21.782Z"
      },
      {
        "duration": 5,
        "start_time": "2022-06-20T13:52:27.476Z"
      },
      {
        "duration": 432,
        "start_time": "2022-06-20T13:52:27.483Z"
      },
      {
        "duration": 26,
        "start_time": "2022-06-20T13:52:27.917Z"
      },
      {
        "duration": 13,
        "start_time": "2022-06-20T13:52:27.946Z"
      },
      {
        "duration": 25,
        "start_time": "2022-06-20T13:52:27.965Z"
      },
      {
        "duration": 12,
        "start_time": "2022-06-20T13:52:27.991Z"
      },
      {
        "duration": 4,
        "start_time": "2022-06-20T13:52:28.005Z"
      },
      {
        "duration": 26,
        "start_time": "2022-06-20T13:52:28.011Z"
      },
      {
        "duration": 38,
        "start_time": "2022-06-20T13:52:28.041Z"
      },
      {
        "duration": 14,
        "start_time": "2022-06-20T13:52:28.081Z"
      },
      {
        "duration": 47,
        "start_time": "2022-06-20T13:52:28.096Z"
      },
      {
        "duration": 5,
        "start_time": "2022-06-20T13:52:28.145Z"
      },
      {
        "duration": 124,
        "start_time": "2022-06-20T13:52:28.153Z"
      },
      {
        "duration": 14,
        "start_time": "2022-06-20T13:52:28.278Z"
      },
      {
        "duration": 16,
        "start_time": "2022-06-20T13:52:28.335Z"
      },
      {
        "duration": 114,
        "start_time": "2022-06-20T13:52:28.361Z"
      },
      {
        "duration": 14,
        "start_time": "2022-06-20T13:52:28.476Z"
      },
      {
        "duration": 72,
        "start_time": "2022-06-20T13:52:28.492Z"
      },
      {
        "duration": 105,
        "start_time": "2022-06-20T13:52:28.567Z"
      },
      {
        "duration": 8,
        "start_time": "2022-06-20T13:52:28.673Z"
      },
      {
        "duration": 11,
        "start_time": "2022-06-20T13:52:28.683Z"
      },
      {
        "duration": 6,
        "start_time": "2022-06-20T13:52:28.695Z"
      },
      {
        "duration": 8,
        "start_time": "2022-06-20T13:52:28.702Z"
      },
      {
        "duration": 8,
        "start_time": "2022-06-20T13:52:28.713Z"
      },
      {
        "duration": 867,
        "start_time": "2022-06-20T13:52:28.722Z"
      },
      {
        "duration": 5,
        "start_time": "2022-06-20T13:52:29.591Z"
      },
      {
        "duration": 837,
        "start_time": "2022-06-20T13:52:29.597Z"
      },
      {
        "duration": 5,
        "start_time": "2022-06-20T13:52:30.436Z"
      },
      {
        "duration": 880,
        "start_time": "2022-06-20T13:52:30.443Z"
      },
      {
        "duration": 18,
        "start_time": "2022-06-20T13:52:31.324Z"
      },
      {
        "duration": 1132,
        "start_time": "2022-06-20T13:53:04.780Z"
      },
      {
        "duration": 483,
        "start_time": "2022-06-20T13:53:05.914Z"
      },
      {
        "duration": 17,
        "start_time": "2022-06-20T13:53:06.399Z"
      },
      {
        "duration": 20,
        "start_time": "2022-06-20T13:53:06.429Z"
      },
      {
        "duration": 25,
        "start_time": "2022-06-20T13:53:06.452Z"
      },
      {
        "duration": 14,
        "start_time": "2022-06-20T13:53:06.479Z"
      },
      {
        "duration": 4,
        "start_time": "2022-06-20T13:53:06.495Z"
      },
      {
        "duration": 33,
        "start_time": "2022-06-20T13:53:06.501Z"
      },
      {
        "duration": 5,
        "start_time": "2022-06-20T13:53:06.536Z"
      },
      {
        "duration": 46,
        "start_time": "2022-06-20T13:53:06.544Z"
      },
      {
        "duration": 51,
        "start_time": "2022-06-20T13:53:06.592Z"
      },
      {
        "duration": 23,
        "start_time": "2022-06-20T13:53:06.645Z"
      },
      {
        "duration": 40,
        "start_time": "2022-06-20T13:53:06.733Z"
      },
      {
        "duration": 15,
        "start_time": "2022-06-20T13:53:06.775Z"
      },
      {
        "duration": 44,
        "start_time": "2022-06-20T13:53:06.792Z"
      },
      {
        "duration": 130,
        "start_time": "2022-06-20T13:53:06.838Z"
      },
      {
        "duration": 15,
        "start_time": "2022-06-20T13:53:06.970Z"
      },
      {
        "duration": 46,
        "start_time": "2022-06-20T13:53:06.986Z"
      },
      {
        "duration": 135,
        "start_time": "2022-06-20T13:53:07.033Z"
      },
      {
        "duration": 14,
        "start_time": "2022-06-20T13:53:07.170Z"
      },
      {
        "duration": 20,
        "start_time": "2022-06-20T13:53:07.186Z"
      },
      {
        "duration": 17,
        "start_time": "2022-06-20T13:53:07.208Z"
      },
      {
        "duration": 45,
        "start_time": "2022-06-20T13:53:07.227Z"
      },
      {
        "duration": 33,
        "start_time": "2022-06-20T13:53:07.274Z"
      },
      {
        "duration": 802,
        "start_time": "2022-06-20T13:53:07.309Z"
      },
      {
        "duration": 4,
        "start_time": "2022-06-20T13:53:08.113Z"
      },
      {
        "duration": 807,
        "start_time": "2022-06-20T13:53:08.118Z"
      },
      {
        "duration": 7,
        "start_time": "2022-06-20T13:53:08.930Z"
      },
      {
        "duration": 794,
        "start_time": "2022-06-20T13:53:08.939Z"
      },
      {
        "duration": 5,
        "start_time": "2022-06-20T13:53:09.738Z"
      },
      {
        "duration": 14,
        "start_time": "2022-06-20T13:53:38.354Z"
      },
      {
        "duration": 775,
        "start_time": "2022-06-20T13:54:02.570Z"
      },
      {
        "duration": 7,
        "start_time": "2022-06-20T13:54:57.952Z"
      },
      {
        "duration": 5,
        "start_time": "2022-06-20T13:54:58.986Z"
      },
      {
        "duration": 737,
        "start_time": "2022-06-20T13:54:59.261Z"
      },
      {
        "duration": 5,
        "start_time": "2022-06-20T13:56:04.369Z"
      },
      {
        "duration": 435,
        "start_time": "2022-06-20T13:56:04.376Z"
      },
      {
        "duration": 19,
        "start_time": "2022-06-20T13:56:04.813Z"
      },
      {
        "duration": 26,
        "start_time": "2022-06-20T13:56:04.834Z"
      },
      {
        "duration": 19,
        "start_time": "2022-06-20T13:56:04.862Z"
      },
      {
        "duration": 12,
        "start_time": "2022-06-20T13:56:04.883Z"
      },
      {
        "duration": 2,
        "start_time": "2022-06-20T13:56:04.897Z"
      },
      {
        "duration": 16,
        "start_time": "2022-06-20T13:56:04.901Z"
      },
      {
        "duration": 14,
        "start_time": "2022-06-20T13:56:04.919Z"
      },
      {
        "duration": 33,
        "start_time": "2022-06-20T13:56:04.934Z"
      },
      {
        "duration": 13,
        "start_time": "2022-06-20T13:56:04.969Z"
      },
      {
        "duration": 51,
        "start_time": "2022-06-20T13:56:04.984Z"
      },
      {
        "duration": 127,
        "start_time": "2022-06-20T13:56:05.041Z"
      },
      {
        "duration": 24,
        "start_time": "2022-06-20T13:56:05.170Z"
      },
      {
        "duration": 68,
        "start_time": "2022-06-20T13:56:05.197Z"
      },
      {
        "duration": 39,
        "start_time": "2022-06-20T13:56:05.330Z"
      },
      {
        "duration": 16,
        "start_time": "2022-06-20T13:56:05.371Z"
      },
      {
        "duration": 40,
        "start_time": "2022-06-20T13:56:05.395Z"
      },
      {
        "duration": 4,
        "start_time": "2022-06-20T13:56:05.439Z"
      },
      {
        "duration": 90,
        "start_time": "2022-06-20T13:56:05.448Z"
      },
      {
        "duration": 19,
        "start_time": "2022-06-20T13:56:05.540Z"
      },
      {
        "duration": 11,
        "start_time": "2022-06-20T13:56:05.560Z"
      },
      {
        "duration": 20,
        "start_time": "2022-06-20T13:56:05.572Z"
      },
      {
        "duration": 6,
        "start_time": "2022-06-20T13:56:05.594Z"
      },
      {
        "duration": 9,
        "start_time": "2022-06-20T13:56:05.602Z"
      },
      {
        "duration": 900,
        "start_time": "2022-06-20T13:56:05.612Z"
      },
      {
        "duration": 5,
        "start_time": "2022-06-20T13:56:06.514Z"
      },
      {
        "duration": 879,
        "start_time": "2022-06-20T13:56:06.521Z"
      },
      {
        "duration": 4,
        "start_time": "2022-06-20T13:56:07.402Z"
      },
      {
        "duration": 784,
        "start_time": "2022-06-20T13:56:07.408Z"
      },
      {
        "duration": 2,
        "start_time": "2022-06-20T13:56:08.193Z"
      },
      {
        "duration": 4,
        "start_time": "2022-06-20T13:56:11.086Z"
      },
      {
        "duration": 414,
        "start_time": "2022-06-20T13:56:11.117Z"
      },
      {
        "duration": 20,
        "start_time": "2022-06-20T13:56:11.532Z"
      },
      {
        "duration": 22,
        "start_time": "2022-06-20T13:56:11.553Z"
      },
      {
        "duration": 45,
        "start_time": "2022-06-20T13:56:11.577Z"
      },
      {
        "duration": 18,
        "start_time": "2022-06-20T13:56:11.624Z"
      },
      {
        "duration": 25,
        "start_time": "2022-06-20T13:56:11.644Z"
      },
      {
        "duration": 25,
        "start_time": "2022-06-20T13:56:11.671Z"
      },
      {
        "duration": 19,
        "start_time": "2022-06-20T13:56:11.698Z"
      },
      {
        "duration": 55,
        "start_time": "2022-06-20T13:56:11.719Z"
      },
      {
        "duration": 22,
        "start_time": "2022-06-20T13:56:11.777Z"
      },
      {
        "duration": 162,
        "start_time": "2022-06-20T13:56:11.801Z"
      },
      {
        "duration": 19,
        "start_time": "2022-06-20T13:56:11.964Z"
      },
      {
        "duration": 41,
        "start_time": "2022-06-20T13:56:11.984Z"
      },
      {
        "duration": 137,
        "start_time": "2022-06-20T13:56:12.029Z"
      },
      {
        "duration": 26,
        "start_time": "2022-06-20T13:56:12.168Z"
      },
      {
        "duration": 35,
        "start_time": "2022-06-20T13:56:12.197Z"
      },
      {
        "duration": 97,
        "start_time": "2022-06-20T13:56:12.234Z"
      },
      {
        "duration": 44,
        "start_time": "2022-06-20T13:56:12.333Z"
      },
      {
        "duration": 24,
        "start_time": "2022-06-20T13:56:12.378Z"
      },
      {
        "duration": 8,
        "start_time": "2022-06-20T13:56:12.404Z"
      },
      {
        "duration": 54,
        "start_time": "2022-06-20T13:56:12.414Z"
      },
      {
        "duration": 19,
        "start_time": "2022-06-20T13:56:12.470Z"
      },
      {
        "duration": 10,
        "start_time": "2022-06-20T13:56:12.490Z"
      },
      {
        "duration": 16,
        "start_time": "2022-06-20T13:56:12.502Z"
      },
      {
        "duration": 819,
        "start_time": "2022-06-20T13:56:12.520Z"
      },
      {
        "duration": 6,
        "start_time": "2022-06-20T13:56:13.340Z"
      },
      {
        "duration": 769,
        "start_time": "2022-06-20T13:56:13.348Z"
      },
      {
        "duration": 14,
        "start_time": "2022-06-20T13:56:14.119Z"
      },
      {
        "duration": 778,
        "start_time": "2022-06-20T13:56:14.135Z"
      },
      {
        "duration": 2,
        "start_time": "2022-06-20T13:56:14.915Z"
      },
      {
        "duration": 1068,
        "start_time": "2022-06-21T03:35:23.567Z"
      },
      {
        "duration": 773,
        "start_time": "2022-06-21T03:35:24.637Z"
      },
      {
        "duration": 17,
        "start_time": "2022-06-21T03:35:25.412Z"
      },
      {
        "duration": 14,
        "start_time": "2022-06-21T03:35:25.431Z"
      },
      {
        "duration": 14,
        "start_time": "2022-06-21T03:35:25.447Z"
      },
      {
        "duration": 13,
        "start_time": "2022-06-21T03:35:25.462Z"
      },
      {
        "duration": 3,
        "start_time": "2022-06-21T03:35:25.476Z"
      },
      {
        "duration": 12,
        "start_time": "2022-06-21T03:35:25.480Z"
      },
      {
        "duration": 34,
        "start_time": "2022-06-21T03:35:25.493Z"
      },
      {
        "duration": 13,
        "start_time": "2022-06-21T03:35:25.529Z"
      },
      {
        "duration": 85,
        "start_time": "2022-06-21T03:35:25.544Z"
      },
      {
        "duration": 96,
        "start_time": "2022-06-21T03:35:25.632Z"
      },
      {
        "duration": 14,
        "start_time": "2022-06-21T03:35:25.730Z"
      },
      {
        "duration": 15,
        "start_time": "2022-06-21T03:35:25.746Z"
      },
      {
        "duration": 75,
        "start_time": "2022-06-21T03:35:25.763Z"
      },
      {
        "duration": 14,
        "start_time": "2022-06-21T03:35:25.928Z"
      },
      {
        "duration": 20,
        "start_time": "2022-06-21T03:35:25.944Z"
      },
      {
        "duration": 63,
        "start_time": "2022-06-21T03:35:25.966Z"
      },
      {
        "duration": 103,
        "start_time": "2022-06-21T03:35:26.031Z"
      },
      {
        "duration": 8,
        "start_time": "2022-06-21T03:35:26.136Z"
      },
      {
        "duration": 5,
        "start_time": "2022-06-21T03:35:26.145Z"
      },
      {
        "duration": 8,
        "start_time": "2022-06-21T03:35:26.151Z"
      },
      {
        "duration": 6,
        "start_time": "2022-06-21T03:35:26.161Z"
      },
      {
        "duration": 11,
        "start_time": "2022-06-21T03:35:26.168Z"
      },
      {
        "duration": 686,
        "start_time": "2022-06-21T03:35:26.181Z"
      },
      {
        "duration": 5,
        "start_time": "2022-06-21T03:35:26.869Z"
      },
      {
        "duration": 659,
        "start_time": "2022-06-21T03:35:26.876Z"
      },
      {
        "duration": 4,
        "start_time": "2022-06-21T03:35:27.537Z"
      },
      {
        "duration": 646,
        "start_time": "2022-06-21T03:35:27.543Z"
      },
      {
        "duration": 2,
        "start_time": "2022-06-21T03:35:28.191Z"
      },
      {
        "duration": 629,
        "start_time": "2022-06-21T03:38:47.059Z"
      },
      {
        "duration": 6,
        "start_time": "2022-06-21T03:39:04.458Z"
      },
      {
        "duration": 633,
        "start_time": "2022-06-21T03:39:08.319Z"
      },
      {
        "duration": 4,
        "start_time": "2022-06-21T03:39:12.902Z"
      },
      {
        "duration": 379,
        "start_time": "2022-06-21T03:39:12.907Z"
      },
      {
        "duration": 13,
        "start_time": "2022-06-21T03:39:13.288Z"
      },
      {
        "duration": 8,
        "start_time": "2022-06-21T03:39:13.303Z"
      },
      {
        "duration": 23,
        "start_time": "2022-06-21T03:39:13.313Z"
      },
      {
        "duration": 12,
        "start_time": "2022-06-21T03:39:13.338Z"
      },
      {
        "duration": 3,
        "start_time": "2022-06-21T03:39:13.351Z"
      },
      {
        "duration": 12,
        "start_time": "2022-06-21T03:39:13.355Z"
      },
      {
        "duration": 7,
        "start_time": "2022-06-21T03:39:13.368Z"
      },
      {
        "duration": 12,
        "start_time": "2022-06-21T03:39:13.376Z"
      },
      {
        "duration": 42,
        "start_time": "2022-06-21T03:39:13.389Z"
      },
      {
        "duration": 95,
        "start_time": "2022-06-21T03:39:13.433Z"
      },
      {
        "duration": 13,
        "start_time": "2022-06-21T03:39:13.530Z"
      },
      {
        "duration": 15,
        "start_time": "2022-06-21T03:39:13.546Z"
      },
      {
        "duration": 67,
        "start_time": "2022-06-21T03:39:13.562Z"
      },
      {
        "duration": 108,
        "start_time": "2022-06-21T03:39:13.631Z"
      },
      {
        "duration": 14,
        "start_time": "2022-06-21T03:39:13.741Z"
      },
      {
        "duration": 71,
        "start_time": "2022-06-21T03:39:13.758Z"
      },
      {
        "duration": 102,
        "start_time": "2022-06-21T03:39:13.832Z"
      },
      {
        "duration": 8,
        "start_time": "2022-06-21T03:39:13.935Z"
      },
      {
        "duration": 9,
        "start_time": "2022-06-21T03:39:13.944Z"
      },
      {
        "duration": 6,
        "start_time": "2022-06-21T03:39:13.954Z"
      },
      {
        "duration": 6,
        "start_time": "2022-06-21T03:39:13.961Z"
      },
      {
        "duration": 11,
        "start_time": "2022-06-21T03:39:13.968Z"
      },
      {
        "duration": 649,
        "start_time": "2022-06-21T03:39:13.980Z"
      },
      {
        "duration": 4,
        "start_time": "2022-06-21T03:39:14.631Z"
      },
      {
        "duration": 683,
        "start_time": "2022-06-21T03:39:14.637Z"
      },
      {
        "duration": 6,
        "start_time": "2022-06-21T03:39:15.322Z"
      },
      {
        "duration": 618,
        "start_time": "2022-06-21T03:39:15.330Z"
      },
      {
        "duration": 2,
        "start_time": "2022-06-21T03:39:15.949Z"
      },
      {
        "duration": 94,
        "start_time": "2022-06-21T03:39:37.870Z"
      },
      {
        "duration": 16,
        "start_time": "2022-06-21T03:39:48.070Z"
      },
      {
        "duration": 27,
        "start_time": "2022-06-21T03:40:46.268Z"
      },
      {
        "duration": 18,
        "start_time": "2022-06-21T03:41:00.140Z"
      },
      {
        "duration": 18,
        "start_time": "2022-06-21T03:41:02.730Z"
      },
      {
        "duration": 933,
        "start_time": "2022-06-21T03:41:09.761Z"
      },
      {
        "duration": 13,
        "start_time": "2022-06-21T03:41:34.499Z"
      },
      {
        "duration": 10,
        "start_time": "2022-06-21T03:43:30.688Z"
      },
      {
        "duration": 800,
        "start_time": "2022-06-21T03:43:45.051Z"
      },
      {
        "duration": 704,
        "start_time": "2022-06-21T03:43:55.832Z"
      },
      {
        "duration": 12,
        "start_time": "2022-06-21T03:44:18.121Z"
      },
      {
        "duration": 1042,
        "start_time": "2022-06-21T03:48:32.774Z"
      },
      {
        "duration": 403,
        "start_time": "2022-06-21T03:48:33.819Z"
      },
      {
        "duration": 16,
        "start_time": "2022-06-21T03:48:34.224Z"
      },
      {
        "duration": 25,
        "start_time": "2022-06-21T03:48:34.242Z"
      },
      {
        "duration": 23,
        "start_time": "2022-06-21T03:48:34.268Z"
      },
      {
        "duration": 26,
        "start_time": "2022-06-21T03:48:34.292Z"
      },
      {
        "duration": 7,
        "start_time": "2022-06-21T03:48:34.320Z"
      },
      {
        "duration": 23,
        "start_time": "2022-06-21T03:48:34.329Z"
      },
      {
        "duration": 24,
        "start_time": "2022-06-21T03:48:34.353Z"
      },
      {
        "duration": 34,
        "start_time": "2022-06-21T03:48:34.380Z"
      },
      {
        "duration": 25,
        "start_time": "2022-06-21T03:48:34.416Z"
      },
      {
        "duration": 90,
        "start_time": "2022-06-21T03:48:34.443Z"
      },
      {
        "duration": 101,
        "start_time": "2022-06-21T03:48:34.535Z"
      },
      {
        "duration": 15,
        "start_time": "2022-06-21T03:48:34.639Z"
      },
      {
        "duration": 75,
        "start_time": "2022-06-21T03:48:34.656Z"
      },
      {
        "duration": 116,
        "start_time": "2022-06-21T03:48:34.733Z"
      },
      {
        "duration": 81,
        "start_time": "2022-06-21T03:48:34.851Z"
      },
      {
        "duration": 4,
        "start_time": "2022-06-21T03:48:34.934Z"
      },
      {
        "duration": 97,
        "start_time": "2022-06-21T03:48:34.940Z"
      },
      {
        "duration": 12,
        "start_time": "2022-06-21T03:48:35.040Z"
      },
      {
        "duration": 6,
        "start_time": "2022-06-21T03:48:35.054Z"
      },
      {
        "duration": 9,
        "start_time": "2022-06-21T03:48:35.062Z"
      },
      {
        "duration": 9,
        "start_time": "2022-06-21T03:48:35.074Z"
      },
      {
        "duration": 7,
        "start_time": "2022-06-21T03:48:35.127Z"
      },
      {
        "duration": 735,
        "start_time": "2022-06-21T03:48:35.136Z"
      },
      {
        "duration": 6,
        "start_time": "2022-06-21T03:48:35.872Z"
      },
      {
        "duration": 683,
        "start_time": "2022-06-21T03:48:35.879Z"
      },
      {
        "duration": 5,
        "start_time": "2022-06-21T03:48:36.567Z"
      },
      {
        "duration": 683,
        "start_time": "2022-06-21T03:48:36.574Z"
      },
      {
        "duration": 7,
        "start_time": "2022-06-21T03:48:37.259Z"
      },
      {
        "duration": 11,
        "start_time": "2022-06-21T03:48:37.268Z"
      },
      {
        "duration": 8,
        "start_time": "2022-06-21T03:48:37.281Z"
      },
      {
        "duration": 1029,
        "start_time": "2022-06-21T03:48:37.291Z"
      },
      {
        "duration": 946,
        "start_time": "2022-06-21T03:48:51.831Z"
      },
      {
        "duration": 922,
        "start_time": "2022-06-21T03:48:53.050Z"
      },
      {
        "duration": 46,
        "start_time": "2022-06-21T08:25:55.084Z"
      },
      {
        "duration": 1143,
        "start_time": "2022-06-21T08:25:59.232Z"
      },
      {
        "duration": 767,
        "start_time": "2022-06-21T08:26:00.377Z"
      },
      {
        "duration": 18,
        "start_time": "2022-06-21T08:26:01.146Z"
      },
      {
        "duration": 38,
        "start_time": "2022-06-21T08:26:01.166Z"
      },
      {
        "duration": 93,
        "start_time": "2022-06-21T08:26:01.206Z"
      },
      {
        "duration": 25,
        "start_time": "2022-06-21T08:26:01.301Z"
      },
      {
        "duration": 9,
        "start_time": "2022-06-21T08:26:01.328Z"
      },
      {
        "duration": 23,
        "start_time": "2022-06-21T08:26:01.339Z"
      },
      {
        "duration": 24,
        "start_time": "2022-06-21T08:26:01.363Z"
      },
      {
        "duration": 26,
        "start_time": "2022-06-21T08:26:01.390Z"
      },
      {
        "duration": 34,
        "start_time": "2022-06-21T08:26:01.418Z"
      },
      {
        "duration": 78,
        "start_time": "2022-06-21T08:26:01.454Z"
      },
      {
        "duration": 116,
        "start_time": "2022-06-21T08:26:01.535Z"
      },
      {
        "duration": 75,
        "start_time": "2022-06-21T08:26:01.652Z"
      },
      {
        "duration": 110,
        "start_time": "2022-06-21T08:26:01.729Z"
      },
      {
        "duration": 43,
        "start_time": "2022-06-21T08:26:01.840Z"
      },
      {
        "duration": 20,
        "start_time": "2022-06-21T08:26:01.884Z"
      },
      {
        "duration": 127,
        "start_time": "2022-06-21T08:26:01.906Z"
      },
      {
        "duration": 23,
        "start_time": "2022-06-21T08:26:02.035Z"
      },
      {
        "duration": 19,
        "start_time": "2022-06-21T08:26:02.060Z"
      },
      {
        "duration": 10,
        "start_time": "2022-06-21T08:26:02.081Z"
      },
      {
        "duration": 14,
        "start_time": "2022-06-21T08:26:02.093Z"
      },
      {
        "duration": 25,
        "start_time": "2022-06-21T08:26:02.108Z"
      },
      {
        "duration": 13,
        "start_time": "2022-06-21T08:26:02.134Z"
      },
      {
        "duration": 17,
        "start_time": "2022-06-21T08:26:02.149Z"
      },
      {
        "duration": 698,
        "start_time": "2022-06-21T08:26:02.168Z"
      },
      {
        "duration": 5,
        "start_time": "2022-06-21T08:26:02.868Z"
      },
      {
        "duration": 657,
        "start_time": "2022-06-21T08:26:02.877Z"
      },
      {
        "duration": 5,
        "start_time": "2022-06-21T08:26:03.536Z"
      },
      {
        "duration": 667,
        "start_time": "2022-06-21T08:26:03.543Z"
      },
      {
        "duration": 15,
        "start_time": "2022-06-21T08:26:04.211Z"
      },
      {
        "duration": 10,
        "start_time": "2022-06-21T08:26:04.227Z"
      },
      {
        "duration": 13,
        "start_time": "2022-06-21T08:26:04.239Z"
      },
      {
        "duration": 1053,
        "start_time": "2022-06-21T08:26:04.254Z"
      },
      {
        "duration": 970,
        "start_time": "2022-06-21T08:26:05.309Z"
      },
      {
        "duration": 957,
        "start_time": "2022-06-21T08:26:06.280Z"
      },
      {
        "duration": 6,
        "start_time": "2022-06-21T08:27:00.568Z"
      },
      {
        "duration": 10,
        "start_time": "2022-06-21T08:27:34.670Z"
      },
      {
        "duration": 10,
        "start_time": "2022-06-21T08:29:05.297Z"
      },
      {
        "duration": 63,
        "start_time": "2022-06-21T08:46:32.038Z"
      },
      {
        "duration": 10,
        "start_time": "2022-06-21T08:48:25.728Z"
      },
      {
        "duration": 10,
        "start_time": "2022-06-21T08:48:39.464Z"
      },
      {
        "duration": 6,
        "start_time": "2022-06-21T08:50:52.137Z"
      },
      {
        "duration": 12,
        "start_time": "2022-06-21T08:50:52.520Z"
      },
      {
        "duration": 11,
        "start_time": "2022-06-21T08:51:07.666Z"
      },
      {
        "duration": 13,
        "start_time": "2022-06-21T08:51:08.073Z"
      },
      {
        "duration": 9,
        "start_time": "2022-06-21T08:51:22.914Z"
      },
      {
        "duration": 5,
        "start_time": "2022-06-21T08:51:36.697Z"
      },
      {
        "duration": 13,
        "start_time": "2022-06-21T08:51:36.954Z"
      },
      {
        "duration": 3,
        "start_time": "2022-06-21T08:53:09.682Z"
      },
      {
        "duration": 10,
        "start_time": "2022-06-21T08:53:13.738Z"
      },
      {
        "duration": 14,
        "start_time": "2022-06-21T08:53:14.058Z"
      },
      {
        "duration": 13,
        "start_time": "2022-06-21T08:53:27.858Z"
      },
      {
        "duration": 9,
        "start_time": "2022-06-21T08:53:41.611Z"
      },
      {
        "duration": 11,
        "start_time": "2022-06-21T08:54:12.004Z"
      },
      {
        "duration": 13,
        "start_time": "2022-06-21T08:54:12.883Z"
      },
      {
        "duration": 13,
        "start_time": "2022-06-21T08:54:16.507Z"
      },
      {
        "duration": 14,
        "start_time": "2022-06-21T08:54:17.163Z"
      },
      {
        "duration": 5,
        "start_time": "2022-06-21T08:55:30.580Z"
      },
      {
        "duration": 16,
        "start_time": "2022-06-21T08:55:34.460Z"
      },
      {
        "duration": 11,
        "start_time": "2022-06-21T08:55:51.844Z"
      },
      {
        "duration": 13,
        "start_time": "2022-06-21T08:55:52.243Z"
      },
      {
        "duration": 12,
        "start_time": "2022-06-21T08:56:02.062Z"
      },
      {
        "duration": 14,
        "start_time": "2022-06-21T08:56:02.213Z"
      },
      {
        "duration": 15,
        "start_time": "2022-06-21T08:58:44.181Z"
      },
      {
        "duration": 8,
        "start_time": "2022-06-21T08:59:40.791Z"
      },
      {
        "duration": 12,
        "start_time": "2022-06-21T09:00:41.047Z"
      },
      {
        "duration": 8,
        "start_time": "2022-06-21T09:00:42.167Z"
      },
      {
        "duration": 21,
        "start_time": "2022-06-21T09:00:50.095Z"
      },
      {
        "duration": 4,
        "start_time": "2022-06-21T09:00:58.392Z"
      },
      {
        "duration": 13,
        "start_time": "2022-06-21T09:00:59.511Z"
      },
      {
        "duration": 3,
        "start_time": "2022-06-21T09:01:14.186Z"
      },
      {
        "duration": 19,
        "start_time": "2022-06-21T09:01:14.600Z"
      },
      {
        "duration": 3,
        "start_time": "2022-06-21T09:01:19.447Z"
      },
      {
        "duration": 14,
        "start_time": "2022-06-21T09:01:19.896Z"
      },
      {
        "duration": 11,
        "start_time": "2022-06-21T09:02:56.704Z"
      },
      {
        "duration": 5,
        "start_time": "2022-06-21T09:03:00.281Z"
      },
      {
        "duration": 282,
        "start_time": "2022-06-21T09:03:00.504Z"
      },
      {
        "duration": 4,
        "start_time": "2022-06-21T09:03:03.305Z"
      },
      {
        "duration": 14,
        "start_time": "2022-06-21T09:03:05.657Z"
      },
      {
        "duration": 16,
        "start_time": "2022-06-21T09:03:59.818Z"
      },
      {
        "duration": 80,
        "start_time": "2022-06-21T09:04:05.722Z"
      },
      {
        "duration": 59,
        "start_time": "2022-06-21T09:04:10.913Z"
      },
      {
        "duration": 85,
        "start_time": "2022-06-21T09:04:14.202Z"
      },
      {
        "duration": 12,
        "start_time": "2022-06-21T09:04:41.865Z"
      },
      {
        "duration": 73,
        "start_time": "2022-06-21T09:04:47.635Z"
      },
      {
        "duration": 14,
        "start_time": "2022-06-21T09:04:50.801Z"
      },
      {
        "duration": 15,
        "start_time": "2022-06-21T09:04:54.483Z"
      },
      {
        "duration": 181,
        "start_time": "2022-06-21T09:05:19.732Z"
      },
      {
        "duration": 15,
        "start_time": "2022-06-21T09:06:05.714Z"
      },
      {
        "duration": 13,
        "start_time": "2022-06-21T09:06:13.779Z"
      },
      {
        "duration": 156,
        "start_time": "2022-06-21T09:08:20.653Z"
      },
      {
        "duration": 164,
        "start_time": "2022-06-21T09:08:26.423Z"
      },
      {
        "duration": 174,
        "start_time": "2022-06-21T09:08:33.779Z"
      },
      {
        "duration": 199,
        "start_time": "2022-06-21T09:08:51.141Z"
      },
      {
        "duration": 186,
        "start_time": "2022-06-21T09:08:56.181Z"
      },
      {
        "duration": 190,
        "start_time": "2022-06-21T09:08:59.589Z"
      },
      {
        "duration": 188,
        "start_time": "2022-06-21T09:09:29.917Z"
      },
      {
        "duration": 177,
        "start_time": "2022-06-21T09:14:55.073Z"
      },
      {
        "duration": 5,
        "start_time": "2022-06-21T09:16:24.563Z"
      },
      {
        "duration": 13,
        "start_time": "2022-06-21T09:16:24.986Z"
      },
      {
        "duration": 14,
        "start_time": "2022-06-21T09:16:25.514Z"
      },
      {
        "duration": 179,
        "start_time": "2022-06-21T09:16:27.683Z"
      },
      {
        "duration": 9,
        "start_time": "2022-06-21T09:18:40.071Z"
      },
      {
        "duration": 11,
        "start_time": "2022-06-21T09:18:45.981Z"
      },
      {
        "duration": 5,
        "start_time": "2022-06-21T09:19:03.679Z"
      },
      {
        "duration": 389,
        "start_time": "2022-06-21T09:19:03.686Z"
      },
      {
        "duration": 15,
        "start_time": "2022-06-21T09:19:04.077Z"
      },
      {
        "duration": 8,
        "start_time": "2022-06-21T09:19:04.094Z"
      },
      {
        "duration": 25,
        "start_time": "2022-06-21T09:19:04.104Z"
      },
      {
        "duration": 13,
        "start_time": "2022-06-21T09:19:04.130Z"
      },
      {
        "duration": 3,
        "start_time": "2022-06-21T09:19:04.144Z"
      },
      {
        "duration": 14,
        "start_time": "2022-06-21T09:19:04.149Z"
      },
      {
        "duration": 13,
        "start_time": "2022-06-21T09:19:04.165Z"
      },
      {
        "duration": 17,
        "start_time": "2022-06-21T09:19:04.179Z"
      },
      {
        "duration": 33,
        "start_time": "2022-06-21T09:19:04.198Z"
      },
      {
        "duration": 98,
        "start_time": "2022-06-21T09:19:04.233Z"
      },
      {
        "duration": 98,
        "start_time": "2022-06-21T09:19:04.334Z"
      },
      {
        "duration": 18,
        "start_time": "2022-06-21T09:19:04.434Z"
      },
      {
        "duration": 179,
        "start_time": "2022-06-21T09:19:04.454Z"
      },
      {
        "duration": 22,
        "start_time": "2022-06-21T09:19:04.635Z"
      },
      {
        "duration": 69,
        "start_time": "2022-06-21T09:19:04.659Z"
      },
      {
        "duration": 105,
        "start_time": "2022-06-21T09:19:04.730Z"
      },
      {
        "duration": 20,
        "start_time": "2022-06-21T09:19:04.837Z"
      },
      {
        "duration": 13,
        "start_time": "2022-06-21T09:19:04.859Z"
      },
      {
        "duration": 6,
        "start_time": "2022-06-21T09:19:04.874Z"
      },
      {
        "duration": 7,
        "start_time": "2022-06-21T09:19:04.881Z"
      },
      {
        "duration": 10,
        "start_time": "2022-06-21T09:19:04.889Z"
      },
      {
        "duration": 19,
        "start_time": "2022-06-21T09:19:04.900Z"
      },
      {
        "duration": 13,
        "start_time": "2022-06-21T09:19:04.921Z"
      },
      {
        "duration": 9,
        "start_time": "2022-06-21T09:19:04.935Z"
      },
      {
        "duration": 14,
        "start_time": "2022-06-21T09:19:04.946Z"
      },
      {
        "duration": 18,
        "start_time": "2022-06-21T09:19:04.962Z"
      },
      {
        "duration": 204,
        "start_time": "2022-06-21T09:19:04.984Z"
      },
      {
        "duration": 9,
        "start_time": "2022-06-21T09:19:05.190Z"
      },
      {
        "duration": 14,
        "start_time": "2022-06-21T09:19:05.201Z"
      },
      {
        "duration": 17,
        "start_time": "2022-06-21T09:19:05.216Z"
      },
      {
        "duration": 668,
        "start_time": "2022-06-21T09:19:05.234Z"
      },
      {
        "duration": 5,
        "start_time": "2022-06-21T09:19:05.903Z"
      },
      {
        "duration": 661,
        "start_time": "2022-06-21T09:19:05.910Z"
      },
      {
        "duration": 4,
        "start_time": "2022-06-21T09:19:06.573Z"
      },
      {
        "duration": 628,
        "start_time": "2022-06-21T09:19:06.579Z"
      },
      {
        "duration": 21,
        "start_time": "2022-06-21T09:19:07.209Z"
      },
      {
        "duration": 9,
        "start_time": "2022-06-21T09:19:07.232Z"
      },
      {
        "duration": 9,
        "start_time": "2022-06-21T09:19:07.243Z"
      },
      {
        "duration": 1012,
        "start_time": "2022-06-21T09:19:07.254Z"
      },
      {
        "duration": 929,
        "start_time": "2022-06-21T09:19:08.268Z"
      },
      {
        "duration": 922,
        "start_time": "2022-06-21T09:19:09.198Z"
      },
      {
        "duration": 15,
        "start_time": "2022-06-21T09:25:01.478Z"
      },
      {
        "duration": 10,
        "start_time": "2022-06-21T09:25:50.105Z"
      },
      {
        "duration": 4,
        "start_time": "2022-06-21T09:26:24.786Z"
      },
      {
        "duration": 10,
        "start_time": "2022-06-21T09:26:28.009Z"
      },
      {
        "duration": 17,
        "start_time": "2022-06-21T09:26:41.122Z"
      },
      {
        "duration": 77,
        "start_time": "2022-06-21T09:27:35.995Z"
      },
      {
        "duration": 13,
        "start_time": "2022-06-21T09:27:42.068Z"
      },
      {
        "duration": 14,
        "start_time": "2022-06-21T09:28:26.349Z"
      },
      {
        "duration": 9,
        "start_time": "2022-06-21T09:28:40.388Z"
      },
      {
        "duration": 12,
        "start_time": "2022-06-21T09:28:50.084Z"
      },
      {
        "duration": 180,
        "start_time": "2022-06-21T09:29:00.383Z"
      },
      {
        "duration": 181,
        "start_time": "2022-06-21T09:29:09.715Z"
      },
      {
        "duration": 235,
        "start_time": "2022-06-21T09:29:31.580Z"
      },
      {
        "duration": 223,
        "start_time": "2022-06-21T09:29:35.971Z"
      },
      {
        "duration": 17,
        "start_time": "2022-06-21T09:31:04.285Z"
      },
      {
        "duration": 14,
        "start_time": "2022-06-21T09:31:15.632Z"
      },
      {
        "duration": 9,
        "start_time": "2022-06-21T09:31:38.006Z"
      },
      {
        "duration": 10,
        "start_time": "2022-06-21T09:31:40.133Z"
      },
      {
        "duration": 177,
        "start_time": "2022-06-21T09:31:42.509Z"
      },
      {
        "duration": 16,
        "start_time": "2022-06-21T09:33:06.054Z"
      },
      {
        "duration": 199,
        "start_time": "2022-06-21T09:33:13.878Z"
      },
      {
        "duration": 171,
        "start_time": "2022-06-21T09:33:42.653Z"
      },
      {
        "duration": 189,
        "start_time": "2022-06-21T09:33:54.919Z"
      },
      {
        "duration": 172,
        "start_time": "2022-06-21T09:35:15.553Z"
      },
      {
        "duration": 7,
        "start_time": "2022-06-21T09:35:18.592Z"
      },
      {
        "duration": 188,
        "start_time": "2022-06-21T09:35:22.919Z"
      },
      {
        "duration": 22,
        "start_time": "2022-06-21T09:35:23.109Z"
      },
      {
        "duration": 187,
        "start_time": "2022-06-21T09:35:33.240Z"
      },
      {
        "duration": 16,
        "start_time": "2022-06-21T09:35:34.166Z"
      },
      {
        "duration": 11,
        "start_time": "2022-06-21T09:37:00.361Z"
      },
      {
        "duration": 30,
        "start_time": "2022-06-21T09:37:04.329Z"
      },
      {
        "duration": 16,
        "start_time": "2022-06-21T09:37:10.665Z"
      },
      {
        "duration": 9,
        "start_time": "2022-06-21T09:37:22.066Z"
      },
      {
        "duration": 15,
        "start_time": "2022-06-21T09:37:22.586Z"
      },
      {
        "duration": 26,
        "start_time": "2022-06-21T09:37:32.930Z"
      },
      {
        "duration": 15,
        "start_time": "2022-06-21T09:37:33.466Z"
      },
      {
        "duration": 27,
        "start_time": "2022-06-21T09:38:30.995Z"
      },
      {
        "duration": 22,
        "start_time": "2022-06-21T09:38:34.394Z"
      },
      {
        "duration": 174,
        "start_time": "2022-06-21T09:38:48.671Z"
      },
      {
        "duration": 28,
        "start_time": "2022-06-21T09:38:49.098Z"
      },
      {
        "duration": 14,
        "start_time": "2022-06-21T09:38:49.451Z"
      },
      {
        "duration": 13,
        "start_time": "2022-06-21T09:39:23.765Z"
      },
      {
        "duration": 16,
        "start_time": "2022-06-21T09:39:33.875Z"
      },
      {
        "duration": 7,
        "start_time": "2022-06-21T09:40:00.707Z"
      },
      {
        "duration": 18,
        "start_time": "2022-06-21T09:40:01.252Z"
      },
      {
        "duration": 160,
        "start_time": "2022-06-21T09:40:11.691Z"
      },
      {
        "duration": 9,
        "start_time": "2022-06-21T09:40:11.948Z"
      },
      {
        "duration": 17,
        "start_time": "2022-06-21T09:40:12.268Z"
      },
      {
        "duration": 5,
        "start_time": "2022-06-21T09:40:17.107Z"
      },
      {
        "duration": 18,
        "start_time": "2022-06-21T09:40:17.395Z"
      },
      {
        "duration": 190,
        "start_time": "2022-06-21T09:40:22.883Z"
      },
      {
        "duration": 35,
        "start_time": "2022-06-21T09:40:23.670Z"
      },
      {
        "duration": 20,
        "start_time": "2022-06-21T09:40:24.499Z"
      },
      {
        "duration": 14,
        "start_time": "2022-06-21T09:40:28.403Z"
      },
      {
        "duration": 14,
        "start_time": "2022-06-21T09:40:28.964Z"
      },
      {
        "duration": 16,
        "start_time": "2022-06-21T09:41:09.429Z"
      },
      {
        "duration": 10,
        "start_time": "2022-06-21T09:41:37.431Z"
      },
      {
        "duration": 17,
        "start_time": "2022-06-21T09:41:50.685Z"
      },
      {
        "duration": 186,
        "start_time": "2022-06-21T09:42:00.893Z"
      },
      {
        "duration": 4,
        "start_time": "2022-06-21T09:42:01.100Z"
      },
      {
        "duration": 9,
        "start_time": "2022-06-21T09:42:01.501Z"
      },
      {
        "duration": 4,
        "start_time": "2022-06-21T09:42:20.574Z"
      },
      {
        "duration": 3,
        "start_time": "2022-06-21T09:42:22.012Z"
      },
      {
        "duration": 16,
        "start_time": "2022-06-21T09:42:24.767Z"
      },
      {
        "duration": 3,
        "start_time": "2022-06-21T09:42:28.268Z"
      },
      {
        "duration": 3,
        "start_time": "2022-06-21T09:42:28.444Z"
      },
      {
        "duration": 13,
        "start_time": "2022-06-21T09:42:28.606Z"
      },
      {
        "duration": 6,
        "start_time": "2022-06-21T09:42:31.132Z"
      },
      {
        "duration": 529,
        "start_time": "2022-06-21T09:42:31.140Z"
      },
      {
        "duration": 14,
        "start_time": "2022-06-21T09:42:31.671Z"
      },
      {
        "duration": 14,
        "start_time": "2022-06-21T09:42:31.686Z"
      },
      {
        "duration": 54,
        "start_time": "2022-06-21T09:42:31.701Z"
      },
      {
        "duration": 41,
        "start_time": "2022-06-21T09:42:31.756Z"
      },
      {
        "duration": 14,
        "start_time": "2022-06-21T09:42:31.798Z"
      },
      {
        "duration": 49,
        "start_time": "2022-06-21T09:42:31.814Z"
      },
      {
        "duration": 13,
        "start_time": "2022-06-21T09:42:31.865Z"
      },
      {
        "duration": 68,
        "start_time": "2022-06-21T09:42:31.880Z"
      },
      {
        "duration": 76,
        "start_time": "2022-06-21T09:42:31.950Z"
      },
      {
        "duration": 101,
        "start_time": "2022-06-21T09:42:32.028Z"
      },
      {
        "duration": 17,
        "start_time": "2022-06-21T09:42:32.131Z"
      },
      {
        "duration": 26,
        "start_time": "2022-06-21T09:42:32.150Z"
      },
      {
        "duration": 6,
        "start_time": "2022-06-21T09:42:32.228Z"
      },
      {
        "duration": 104,
        "start_time": "2022-06-21T09:42:32.237Z"
      },
      {
        "duration": 17,
        "start_time": "2022-06-21T09:42:32.343Z"
      },
      {
        "duration": 4,
        "start_time": "2022-06-21T09:42:32.428Z"
      },
      {
        "duration": 99,
        "start_time": "2022-06-21T09:42:32.436Z"
      },
      {
        "duration": 16,
        "start_time": "2022-06-21T09:42:32.537Z"
      },
      {
        "duration": 8,
        "start_time": "2022-06-21T09:42:32.554Z"
      },
      {
        "duration": 12,
        "start_time": "2022-06-21T09:42:32.563Z"
      },
      {
        "duration": 12,
        "start_time": "2022-06-21T09:42:32.577Z"
      },
      {
        "duration": 6,
        "start_time": "2022-06-21T09:42:32.592Z"
      },
      {
        "duration": 18,
        "start_time": "2022-06-21T09:42:32.599Z"
      },
      {
        "duration": 12,
        "start_time": "2022-06-21T09:42:32.619Z"
      },
      {
        "duration": 19,
        "start_time": "2022-06-21T09:42:32.632Z"
      },
      {
        "duration": 149,
        "start_time": "2022-06-21T09:42:32.653Z"
      },
      {
        "duration": 10,
        "start_time": "2022-06-21T09:42:32.804Z"
      },
      {
        "duration": 0,
        "start_time": "2022-06-21T09:42:32.815Z"
      },
      {
        "duration": 0,
        "start_time": "2022-06-21T09:42:32.817Z"
      },
      {
        "duration": 0,
        "start_time": "2022-06-21T09:42:32.826Z"
      },
      {
        "duration": 0,
        "start_time": "2022-06-21T09:42:32.827Z"
      },
      {
        "duration": 0,
        "start_time": "2022-06-21T09:42:32.829Z"
      },
      {
        "duration": 0,
        "start_time": "2022-06-21T09:42:32.830Z"
      },
      {
        "duration": 0,
        "start_time": "2022-06-21T09:42:32.830Z"
      },
      {
        "duration": 0,
        "start_time": "2022-06-21T09:42:32.831Z"
      },
      {
        "duration": 0,
        "start_time": "2022-06-21T09:42:32.832Z"
      },
      {
        "duration": 0,
        "start_time": "2022-06-21T09:42:32.833Z"
      },
      {
        "duration": 0,
        "start_time": "2022-06-21T09:42:32.834Z"
      },
      {
        "duration": 0,
        "start_time": "2022-06-21T09:42:32.835Z"
      },
      {
        "duration": 0,
        "start_time": "2022-06-21T09:42:32.836Z"
      },
      {
        "duration": 0,
        "start_time": "2022-06-21T09:42:32.837Z"
      },
      {
        "duration": 21,
        "start_time": "2022-06-21T09:43:03.981Z"
      },
      {
        "duration": 13,
        "start_time": "2022-06-21T09:43:22.749Z"
      },
      {
        "duration": 156,
        "start_time": "2022-06-21T09:43:26.573Z"
      },
      {
        "duration": 11,
        "start_time": "2022-06-21T09:43:29.261Z"
      },
      {
        "duration": 7,
        "start_time": "2022-06-21T09:43:36.086Z"
      },
      {
        "duration": 161,
        "start_time": "2022-06-21T09:43:45.974Z"
      },
      {
        "duration": 16,
        "start_time": "2022-06-21T09:43:46.781Z"
      },
      {
        "duration": 14,
        "start_time": "2022-06-21T09:44:44.848Z"
      },
      {
        "duration": 18,
        "start_time": "2022-06-21T09:44:45.343Z"
      },
      {
        "duration": 15,
        "start_time": "2022-06-21T09:45:37.567Z"
      },
      {
        "duration": 19,
        "start_time": "2022-06-21T09:45:37.735Z"
      },
      {
        "duration": 73,
        "start_time": "2022-06-21T09:45:47.935Z"
      },
      {
        "duration": 17,
        "start_time": "2022-06-21T09:45:48.168Z"
      },
      {
        "duration": 46,
        "start_time": "2022-06-21T09:45:55.337Z"
      },
      {
        "duration": 14,
        "start_time": "2022-06-21T09:45:57.572Z"
      },
      {
        "duration": 16,
        "start_time": "2022-06-21T09:45:59.432Z"
      },
      {
        "duration": 185,
        "start_time": "2022-06-21T09:47:26.401Z"
      },
      {
        "duration": 8,
        "start_time": "2022-06-21T09:47:27.753Z"
      },
      {
        "duration": 194,
        "start_time": "2022-06-21T09:47:37.721Z"
      },
      {
        "duration": 7,
        "start_time": "2022-06-21T09:47:38.841Z"
      },
      {
        "duration": 15,
        "start_time": "2022-06-21T09:47:45.714Z"
      },
      {
        "duration": 17,
        "start_time": "2022-06-21T09:47:47.225Z"
      },
      {
        "duration": 8,
        "start_time": "2022-06-21T09:48:49.107Z"
      },
      {
        "duration": 4,
        "start_time": "2022-06-21T09:48:53.153Z"
      },
      {
        "duration": 15,
        "start_time": "2022-06-21T09:49:00.081Z"
      },
      {
        "duration": 18,
        "start_time": "2022-06-21T09:49:00.269Z"
      },
      {
        "duration": 12,
        "start_time": "2022-06-21T09:49:34.890Z"
      },
      {
        "duration": 3,
        "start_time": "2022-06-21T09:49:43.218Z"
      },
      {
        "duration": 16,
        "start_time": "2022-06-21T09:49:43.442Z"
      },
      {
        "duration": 13,
        "start_time": "2022-06-21T09:49:48.034Z"
      },
      {
        "duration": 3,
        "start_time": "2022-06-21T09:49:51.297Z"
      },
      {
        "duration": 13,
        "start_time": "2022-06-21T09:49:51.490Z"
      },
      {
        "duration": 27,
        "start_time": "2022-06-21T09:50:22.618Z"
      },
      {
        "duration": 27,
        "start_time": "2022-06-21T09:50:22.827Z"
      },
      {
        "duration": 20,
        "start_time": "2022-06-21T09:51:07.283Z"
      },
      {
        "duration": 20,
        "start_time": "2022-06-21T09:51:07.477Z"
      },
      {
        "duration": 5,
        "start_time": "2022-06-21T09:51:25.463Z"
      },
      {
        "duration": 360,
        "start_time": "2022-06-21T09:51:25.469Z"
      },
      {
        "duration": 14,
        "start_time": "2022-06-21T09:51:25.831Z"
      },
      {
        "duration": 8,
        "start_time": "2022-06-21T09:51:25.847Z"
      },
      {
        "duration": 19,
        "start_time": "2022-06-21T09:51:25.857Z"
      },
      {
        "duration": 12,
        "start_time": "2022-06-21T09:51:25.878Z"
      },
      {
        "duration": 2,
        "start_time": "2022-06-21T09:51:25.892Z"
      },
      {
        "duration": 32,
        "start_time": "2022-06-21T09:51:25.896Z"
      },
      {
        "duration": 8,
        "start_time": "2022-06-21T09:51:25.929Z"
      },
      {
        "duration": 21,
        "start_time": "2022-06-21T09:51:25.938Z"
      },
      {
        "duration": 69,
        "start_time": "2022-06-21T09:51:25.962Z"
      },
      {
        "duration": 94,
        "start_time": "2022-06-21T09:51:26.033Z"
      },
      {
        "duration": 14,
        "start_time": "2022-06-21T09:51:26.129Z"
      },
      {
        "duration": 15,
        "start_time": "2022-06-21T09:51:26.145Z"
      },
      {
        "duration": 101,
        "start_time": "2022-06-21T09:51:26.228Z"
      },
      {
        "duration": 14,
        "start_time": "2022-06-21T09:51:26.330Z"
      },
      {
        "duration": 16,
        "start_time": "2022-06-21T09:51:26.346Z"
      },
      {
        "duration": 98,
        "start_time": "2022-06-21T09:51:26.428Z"
      },
      {
        "duration": 3,
        "start_time": "2022-06-21T09:51:26.528Z"
      },
      {
        "duration": 7,
        "start_time": "2022-06-21T09:51:26.533Z"
      },
      {
        "duration": 6,
        "start_time": "2022-06-21T09:51:26.541Z"
      },
      {
        "duration": 12,
        "start_time": "2022-06-21T09:51:26.548Z"
      },
      {
        "duration": 13,
        "start_time": "2022-06-21T09:51:26.561Z"
      },
      {
        "duration": 14,
        "start_time": "2022-06-21T09:51:26.575Z"
      },
      {
        "duration": 10,
        "start_time": "2022-06-21T09:51:26.591Z"
      },
      {
        "duration": 4,
        "start_time": "2022-06-21T09:51:26.602Z"
      },
      {
        "duration": 27,
        "start_time": "2022-06-21T09:51:26.607Z"
      },
      {
        "duration": 5,
        "start_time": "2022-06-21T09:51:26.636Z"
      },
      {
        "duration": 34,
        "start_time": "2022-06-21T09:51:26.645Z"
      },
      {
        "duration": 18,
        "start_time": "2022-06-21T09:51:26.681Z"
      },
      {
        "duration": 10,
        "start_time": "2022-06-21T09:51:26.701Z"
      },
      {
        "duration": 0,
        "start_time": "2022-06-21T09:51:26.727Z"
      },
      {
        "duration": 0,
        "start_time": "2022-06-21T09:51:26.728Z"
      },
      {
        "duration": 0,
        "start_time": "2022-06-21T09:51:26.729Z"
      },
      {
        "duration": 0,
        "start_time": "2022-06-21T09:51:26.730Z"
      },
      {
        "duration": 0,
        "start_time": "2022-06-21T09:51:26.731Z"
      },
      {
        "duration": 0,
        "start_time": "2022-06-21T09:51:26.732Z"
      },
      {
        "duration": 0,
        "start_time": "2022-06-21T09:51:26.734Z"
      },
      {
        "duration": 0,
        "start_time": "2022-06-21T09:51:26.735Z"
      },
      {
        "duration": 0,
        "start_time": "2022-06-21T09:51:26.737Z"
      },
      {
        "duration": 0,
        "start_time": "2022-06-21T09:51:26.738Z"
      },
      {
        "duration": 0,
        "start_time": "2022-06-21T09:51:26.739Z"
      },
      {
        "duration": 0,
        "start_time": "2022-06-21T09:51:26.740Z"
      },
      {
        "duration": 0,
        "start_time": "2022-06-21T09:51:26.741Z"
      },
      {
        "duration": 0,
        "start_time": "2022-06-21T09:51:26.742Z"
      },
      {
        "duration": 13,
        "start_time": "2022-06-21T09:51:47.836Z"
      },
      {
        "duration": 11,
        "start_time": "2022-06-21T09:52:11.006Z"
      },
      {
        "duration": 17,
        "start_time": "2022-06-21T09:52:14.086Z"
      },
      {
        "duration": 18,
        "start_time": "2022-06-21T09:52:33.125Z"
      },
      {
        "duration": 9,
        "start_time": "2022-06-21T09:56:39.100Z"
      },
      {
        "duration": 6,
        "start_time": "2022-06-21T09:56:43.102Z"
      },
      {
        "duration": 381,
        "start_time": "2022-06-21T09:56:43.110Z"
      },
      {
        "duration": 14,
        "start_time": "2022-06-21T09:56:43.492Z"
      },
      {
        "duration": 12,
        "start_time": "2022-06-21T09:56:43.508Z"
      },
      {
        "duration": 12,
        "start_time": "2022-06-21T09:56:43.526Z"
      },
      {
        "duration": 12,
        "start_time": "2022-06-21T09:56:43.540Z"
      },
      {
        "duration": 3,
        "start_time": "2022-06-21T09:56:43.554Z"
      },
      {
        "duration": 26,
        "start_time": "2022-06-21T09:56:43.558Z"
      },
      {
        "duration": 7,
        "start_time": "2022-06-21T09:56:43.586Z"
      },
      {
        "duration": 14,
        "start_time": "2022-06-21T09:56:43.594Z"
      },
      {
        "duration": 217,
        "start_time": "2022-06-21T09:56:43.610Z"
      },
      {
        "duration": 9,
        "start_time": "2022-06-21T09:56:43.829Z"
      },
      {
        "duration": 0,
        "start_time": "2022-06-21T09:56:43.839Z"
      },
      {
        "duration": 0,
        "start_time": "2022-06-21T09:56:43.841Z"
      },
      {
        "duration": 0,
        "start_time": "2022-06-21T09:56:43.842Z"
      },
      {
        "duration": 0,
        "start_time": "2022-06-21T09:56:43.843Z"
      },
      {
        "duration": 0,
        "start_time": "2022-06-21T09:56:43.844Z"
      },
      {
        "duration": 0,
        "start_time": "2022-06-21T09:56:43.846Z"
      },
      {
        "duration": 0,
        "start_time": "2022-06-21T09:56:43.847Z"
      },
      {
        "duration": 0,
        "start_time": "2022-06-21T09:56:43.848Z"
      },
      {
        "duration": 0,
        "start_time": "2022-06-21T09:56:43.849Z"
      },
      {
        "duration": 0,
        "start_time": "2022-06-21T09:56:43.850Z"
      },
      {
        "duration": 0,
        "start_time": "2022-06-21T09:56:43.851Z"
      },
      {
        "duration": 0,
        "start_time": "2022-06-21T09:56:43.852Z"
      },
      {
        "duration": 0,
        "start_time": "2022-06-21T09:56:43.854Z"
      },
      {
        "duration": 0,
        "start_time": "2022-06-21T09:56:43.854Z"
      },
      {
        "duration": 0,
        "start_time": "2022-06-21T09:56:43.856Z"
      },
      {
        "duration": 0,
        "start_time": "2022-06-21T09:56:43.857Z"
      },
      {
        "duration": 0,
        "start_time": "2022-06-21T09:56:43.858Z"
      },
      {
        "duration": 0,
        "start_time": "2022-06-21T09:56:43.859Z"
      },
      {
        "duration": 0,
        "start_time": "2022-06-21T09:56:43.860Z"
      },
      {
        "duration": 0,
        "start_time": "2022-06-21T09:56:43.861Z"
      },
      {
        "duration": 0,
        "start_time": "2022-06-21T09:56:43.862Z"
      },
      {
        "duration": 0,
        "start_time": "2022-06-21T09:56:43.863Z"
      },
      {
        "duration": 0,
        "start_time": "2022-06-21T09:56:43.864Z"
      },
      {
        "duration": 0,
        "start_time": "2022-06-21T09:56:43.865Z"
      },
      {
        "duration": 11,
        "start_time": "2022-06-21T09:56:51.338Z"
      },
      {
        "duration": 4,
        "start_time": "2022-06-21T09:58:01.494Z"
      },
      {
        "duration": 13,
        "start_time": "2022-06-21T09:58:04.577Z"
      },
      {
        "duration": 4,
        "start_time": "2022-06-21T09:58:07.724Z"
      },
      {
        "duration": 10,
        "start_time": "2022-06-21T09:58:08.093Z"
      },
      {
        "duration": 5,
        "start_time": "2022-06-21T09:58:08.267Z"
      },
      {
        "duration": 11,
        "start_time": "2022-06-21T09:58:08.573Z"
      },
      {
        "duration": 88,
        "start_time": "2022-06-21T09:58:08.837Z"
      },
      {
        "duration": 8,
        "start_time": "2022-06-21T09:58:09.373Z"
      },
      {
        "duration": 3,
        "start_time": "2022-06-21T09:58:17.845Z"
      },
      {
        "duration": 8,
        "start_time": "2022-06-21T09:58:18.181Z"
      },
      {
        "duration": 4,
        "start_time": "2022-06-21T09:58:18.365Z"
      },
      {
        "duration": 10,
        "start_time": "2022-06-21T09:58:18.887Z"
      },
      {
        "duration": 15,
        "start_time": "2022-06-21T09:58:19.077Z"
      },
      {
        "duration": 10,
        "start_time": "2022-06-21T09:58:19.273Z"
      },
      {
        "duration": 4,
        "start_time": "2022-06-21T09:59:11.200Z"
      },
      {
        "duration": 9,
        "start_time": "2022-06-21T09:59:11.613Z"
      },
      {
        "duration": 4,
        "start_time": "2022-06-21T09:59:11.855Z"
      },
      {
        "duration": 11,
        "start_time": "2022-06-21T09:59:12.237Z"
      },
      {
        "duration": 15,
        "start_time": "2022-06-21T09:59:13.846Z"
      },
      {
        "duration": 12,
        "start_time": "2022-06-21T09:59:14.215Z"
      },
      {
        "duration": 4,
        "start_time": "2022-06-21T10:01:23.074Z"
      },
      {
        "duration": 10,
        "start_time": "2022-06-21T10:01:23.474Z"
      },
      {
        "duration": 4,
        "start_time": "2022-06-21T10:01:23.682Z"
      },
      {
        "duration": 12,
        "start_time": "2022-06-21T10:01:23.891Z"
      },
      {
        "duration": 85,
        "start_time": "2022-06-21T10:01:24.449Z"
      },
      {
        "duration": 10,
        "start_time": "2022-06-21T10:01:24.721Z"
      },
      {
        "duration": 4,
        "start_time": "2022-06-21T10:01:36.417Z"
      },
      {
        "duration": 9,
        "start_time": "2022-06-21T10:01:37.008Z"
      },
      {
        "duration": 5,
        "start_time": "2022-06-21T10:01:37.184Z"
      },
      {
        "duration": 12,
        "start_time": "2022-06-21T10:01:37.345Z"
      },
      {
        "duration": 106,
        "start_time": "2022-06-21T10:01:37.522Z"
      },
      {
        "duration": 11,
        "start_time": "2022-06-21T10:01:37.729Z"
      },
      {
        "duration": 11,
        "start_time": "2022-06-21T10:01:52.645Z"
      },
      {
        "duration": 5,
        "start_time": "2022-06-21T10:01:53.474Z"
      },
      {
        "duration": 11,
        "start_time": "2022-06-21T10:01:53.888Z"
      },
      {
        "duration": 9,
        "start_time": "2022-06-21T10:01:54.081Z"
      },
      {
        "duration": 6,
        "start_time": "2022-06-21T10:02:01.379Z"
      },
      {
        "duration": 14,
        "start_time": "2022-06-21T10:02:01.578Z"
      },
      {
        "duration": 9,
        "start_time": "2022-06-21T10:02:01.921Z"
      },
      {
        "duration": 85,
        "start_time": "2022-06-21T10:02:10.740Z"
      },
      {
        "duration": 30,
        "start_time": "2022-06-21T10:02:14.658Z"
      },
      {
        "duration": 4,
        "start_time": "2022-06-21T10:02:16.626Z"
      },
      {
        "duration": 11,
        "start_time": "2022-06-21T10:02:16.800Z"
      },
      {
        "duration": 25,
        "start_time": "2022-06-21T10:02:17.010Z"
      },
      {
        "duration": 11,
        "start_time": "2022-06-21T10:02:29.283Z"
      },
      {
        "duration": 10,
        "start_time": "2022-06-21T10:03:10.748Z"
      },
      {
        "duration": 4,
        "start_time": "2022-06-21T10:06:23.591Z"
      },
      {
        "duration": 12,
        "start_time": "2022-06-21T10:06:27.478Z"
      },
      {
        "duration": 3,
        "start_time": "2022-06-21T10:07:14.730Z"
      },
      {
        "duration": 12,
        "start_time": "2022-06-21T10:07:23.832Z"
      },
      {
        "duration": 4,
        "start_time": "2022-06-21T10:08:00.714Z"
      },
      {
        "duration": 13,
        "start_time": "2022-06-21T10:08:01.144Z"
      },
      {
        "duration": 5,
        "start_time": "2022-06-21T10:08:07.112Z"
      },
      {
        "duration": 17,
        "start_time": "2022-06-21T10:08:07.471Z"
      },
      {
        "duration": 6,
        "start_time": "2022-06-21T10:08:21.136Z"
      },
      {
        "duration": 18,
        "start_time": "2022-06-21T10:08:21.344Z"
      },
      {
        "duration": 4,
        "start_time": "2022-06-21T10:08:27.872Z"
      },
      {
        "duration": 4,
        "start_time": "2022-06-21T10:08:29.904Z"
      },
      {
        "duration": 17,
        "start_time": "2022-06-21T10:08:30.193Z"
      },
      {
        "duration": 4,
        "start_time": "2022-06-21T10:08:41.077Z"
      },
      {
        "duration": 386,
        "start_time": "2022-06-21T10:08:41.083Z"
      },
      {
        "duration": 15,
        "start_time": "2022-06-21T10:08:41.471Z"
      },
      {
        "duration": 9,
        "start_time": "2022-06-21T10:08:41.488Z"
      },
      {
        "duration": 29,
        "start_time": "2022-06-21T10:08:41.499Z"
      },
      {
        "duration": 13,
        "start_time": "2022-06-21T10:08:41.530Z"
      },
      {
        "duration": 4,
        "start_time": "2022-06-21T10:08:41.545Z"
      },
      {
        "duration": 20,
        "start_time": "2022-06-21T10:08:41.551Z"
      },
      {
        "duration": 8,
        "start_time": "2022-06-21T10:08:41.573Z"
      },
      {
        "duration": 13,
        "start_time": "2022-06-21T10:08:41.583Z"
      },
      {
        "duration": 42,
        "start_time": "2022-06-21T10:08:41.598Z"
      },
      {
        "duration": 105,
        "start_time": "2022-06-21T10:08:41.727Z"
      },
      {
        "duration": 8,
        "start_time": "2022-06-21T10:08:41.833Z"
      },
      {
        "duration": 11,
        "start_time": "2022-06-21T10:08:41.844Z"
      },
      {
        "duration": 75,
        "start_time": "2022-06-21T10:08:41.856Z"
      },
      {
        "duration": 95,
        "start_time": "2022-06-21T10:08:41.934Z"
      },
      {
        "duration": 13,
        "start_time": "2022-06-21T10:08:42.031Z"
      },
      {
        "duration": 83,
        "start_time": "2022-06-21T10:08:42.045Z"
      },
      {
        "duration": 99,
        "start_time": "2022-06-21T10:08:42.130Z"
      },
      {
        "duration": 2,
        "start_time": "2022-06-21T10:08:42.231Z"
      },
      {
        "duration": 16,
        "start_time": "2022-06-21T10:08:42.235Z"
      },
      {
        "duration": 14,
        "start_time": "2022-06-21T10:08:42.252Z"
      },
      {
        "duration": 10,
        "start_time": "2022-06-21T10:08:42.267Z"
      },
      {
        "duration": 13,
        "start_time": "2022-06-21T10:08:42.278Z"
      },
      {
        "duration": 12,
        "start_time": "2022-06-21T10:08:42.293Z"
      },
      {
        "duration": 12,
        "start_time": "2022-06-21T10:08:42.306Z"
      },
      {
        "duration": 642,
        "start_time": "2022-06-21T10:08:42.320Z"
      },
      {
        "duration": 4,
        "start_time": "2022-06-21T10:08:42.963Z"
      },
      {
        "duration": 32,
        "start_time": "2022-06-21T10:08:42.969Z"
      },
      {
        "duration": 10,
        "start_time": "2022-06-21T10:08:43.003Z"
      },
      {
        "duration": 632,
        "start_time": "2022-06-21T10:08:43.014Z"
      },
      {
        "duration": 4,
        "start_time": "2022-06-21T10:08:43.648Z"
      },
      {
        "duration": 641,
        "start_time": "2022-06-21T10:08:43.654Z"
      },
      {
        "duration": 9,
        "start_time": "2022-06-21T10:08:44.297Z"
      },
      {
        "duration": 22,
        "start_time": "2022-06-21T10:08:44.307Z"
      },
      {
        "duration": 7,
        "start_time": "2022-06-21T10:08:44.330Z"
      },
      {
        "duration": 1015,
        "start_time": "2022-06-21T10:08:44.339Z"
      },
      {
        "duration": 916,
        "start_time": "2022-06-21T10:08:45.356Z"
      },
      {
        "duration": 942,
        "start_time": "2022-06-21T10:08:46.274Z"
      },
      {
        "duration": 13,
        "start_time": "2022-06-21T10:10:16.877Z"
      },
      {
        "duration": 4,
        "start_time": "2022-06-21T10:10:32.684Z"
      },
      {
        "duration": 14,
        "start_time": "2022-06-21T10:10:33.080Z"
      },
      {
        "duration": 4,
        "start_time": "2022-06-21T10:10:43.780Z"
      },
      {
        "duration": 6,
        "start_time": "2022-06-21T10:10:43.938Z"
      },
      {
        "duration": 10,
        "start_time": "2022-06-21T10:10:47.450Z"
      },
      {
        "duration": 7,
        "start_time": "2022-06-21T10:11:06.282Z"
      },
      {
        "duration": 7,
        "start_time": "2022-06-21T10:11:06.506Z"
      },
      {
        "duration": 11,
        "start_time": "2022-06-21T10:11:06.715Z"
      },
      {
        "duration": 4,
        "start_time": "2022-06-21T10:12:17.437Z"
      },
      {
        "duration": 4,
        "start_time": "2022-06-21T10:12:34.674Z"
      },
      {
        "duration": 4,
        "start_time": "2022-06-21T10:12:48.177Z"
      },
      {
        "duration": 51,
        "start_time": "2022-06-21T10:13:29.968Z"
      },
      {
        "duration": 5,
        "start_time": "2022-06-21T10:13:30.269Z"
      },
      {
        "duration": 6,
        "start_time": "2022-06-21T10:13:30.673Z"
      },
      {
        "duration": 767,
        "start_time": "2022-06-21T10:13:31.022Z"
      },
      {
        "duration": 3,
        "start_time": "2022-06-21T10:13:33.318Z"
      },
      {
        "duration": 6,
        "start_time": "2022-06-21T10:13:33.577Z"
      },
      {
        "duration": 6,
        "start_time": "2022-06-21T10:13:33.979Z"
      },
      {
        "duration": 977,
        "start_time": "2022-06-21T10:13:34.246Z"
      },
      {
        "duration": 1310,
        "start_time": "2022-06-21T10:13:37.214Z"
      },
      {
        "duration": 6,
        "start_time": "2022-06-21T10:13:44.885Z"
      },
      {
        "duration": 7,
        "start_time": "2022-06-21T10:13:45.061Z"
      },
      {
        "duration": 4,
        "start_time": "2022-06-21T10:13:45.212Z"
      },
      {
        "duration": 54,
        "start_time": "2022-06-21T10:13:48.769Z"
      },
      {
        "duration": 6,
        "start_time": "2022-06-21T10:13:48.988Z"
      },
      {
        "duration": 4,
        "start_time": "2022-06-21T10:13:51.271Z"
      },
      {
        "duration": 4,
        "start_time": "2022-06-21T10:13:51.525Z"
      },
      {
        "duration": 7,
        "start_time": "2022-06-21T10:13:51.812Z"
      },
      {
        "duration": 5,
        "start_time": "2022-06-21T10:13:52.181Z"
      },
      {
        "duration": 3,
        "start_time": "2022-06-21T10:15:10.183Z"
      },
      {
        "duration": 5,
        "start_time": "2022-06-21T10:15:10.360Z"
      },
      {
        "duration": 7,
        "start_time": "2022-06-21T10:15:10.543Z"
      },
      {
        "duration": 4,
        "start_time": "2022-06-21T10:15:10.943Z"
      },
      {
        "duration": 6,
        "start_time": "2022-06-21T10:16:58.721Z"
      },
      {
        "duration": 6,
        "start_time": "2022-06-21T10:17:20.443Z"
      },
      {
        "duration": 6,
        "start_time": "2022-06-21T10:17:43.489Z"
      },
      {
        "duration": 7,
        "start_time": "2022-06-21T10:17:54.579Z"
      },
      {
        "duration": 5,
        "start_time": "2022-06-21T10:17:58.014Z"
      },
      {
        "duration": 406,
        "start_time": "2022-06-21T10:17:58.021Z"
      },
      {
        "duration": 16,
        "start_time": "2022-06-21T10:17:58.429Z"
      },
      {
        "duration": 10,
        "start_time": "2022-06-21T10:17:58.447Z"
      },
      {
        "duration": 95,
        "start_time": "2022-06-21T10:17:58.459Z"
      },
      {
        "duration": 13,
        "start_time": "2022-06-21T10:17:58.555Z"
      },
      {
        "duration": 4,
        "start_time": "2022-06-21T10:17:58.570Z"
      },
      {
        "duration": 15,
        "start_time": "2022-06-21T10:17:58.575Z"
      },
      {
        "duration": 8,
        "start_time": "2022-06-21T10:17:58.592Z"
      },
      {
        "duration": 29,
        "start_time": "2022-06-21T10:17:58.601Z"
      },
      {
        "duration": 21,
        "start_time": "2022-06-21T10:17:58.633Z"
      },
      {
        "duration": 104,
        "start_time": "2022-06-21T10:17:58.727Z"
      },
      {
        "duration": 19,
        "start_time": "2022-06-21T10:17:58.833Z"
      },
      {
        "duration": 15,
        "start_time": "2022-06-21T10:17:58.854Z"
      },
      {
        "duration": 57,
        "start_time": "2022-06-21T10:17:58.871Z"
      },
      {
        "duration": 6,
        "start_time": "2022-06-21T10:17:58.930Z"
      },
      {
        "duration": 23,
        "start_time": "2022-06-21T10:17:59.027Z"
      },
      {
        "duration": 80,
        "start_time": "2022-06-21T10:17:59.051Z"
      },
      {
        "duration": 94,
        "start_time": "2022-06-21T10:17:59.133Z"
      },
      {
        "duration": 14,
        "start_time": "2022-06-21T10:17:59.229Z"
      },
      {
        "duration": 8,
        "start_time": "2022-06-21T10:17:59.244Z"
      },
      {
        "duration": 8,
        "start_time": "2022-06-21T10:17:59.253Z"
      },
      {
        "duration": 7,
        "start_time": "2022-06-21T10:17:59.262Z"
      },
      {
        "duration": 8,
        "start_time": "2022-06-21T10:17:59.271Z"
      },
      {
        "duration": 12,
        "start_time": "2022-06-21T10:17:59.280Z"
      },
      {
        "duration": 10,
        "start_time": "2022-06-21T10:17:59.294Z"
      },
      {
        "duration": 624,
        "start_time": "2022-06-21T10:17:59.305Z"
      },
      {
        "duration": 3,
        "start_time": "2022-06-21T10:17:59.930Z"
      },
      {
        "duration": 14,
        "start_time": "2022-06-21T10:17:59.936Z"
      },
      {
        "duration": 11,
        "start_time": "2022-06-21T10:17:59.951Z"
      },
      {
        "duration": 5,
        "start_time": "2022-06-21T10:17:59.964Z"
      },
      {
        "duration": 7,
        "start_time": "2022-06-21T10:17:59.970Z"
      },
      {
        "duration": 660,
        "start_time": "2022-06-21T10:17:59.979Z"
      },
      {
        "duration": 2,
        "start_time": "2022-06-21T10:18:00.641Z"
      },
      {
        "duration": 22,
        "start_time": "2022-06-21T10:18:00.644Z"
      },
      {
        "duration": 24,
        "start_time": "2022-06-21T10:18:00.668Z"
      },
      {
        "duration": 22,
        "start_time": "2022-06-21T10:18:00.694Z"
      },
      {
        "duration": 28,
        "start_time": "2022-06-21T10:18:00.718Z"
      },
      {
        "duration": 673,
        "start_time": "2022-06-21T10:18:00.747Z"
      },
      {
        "duration": 5,
        "start_time": "2022-06-21T10:18:01.422Z"
      },
      {
        "duration": 45,
        "start_time": "2022-06-21T10:18:01.428Z"
      },
      {
        "duration": 82,
        "start_time": "2022-06-21T10:18:01.475Z"
      },
      {
        "duration": 60,
        "start_time": "2022-06-21T10:18:01.558Z"
      },
      {
        "duration": 43,
        "start_time": "2022-06-21T10:18:01.620Z"
      },
      {
        "duration": 37,
        "start_time": "2022-06-21T10:18:01.664Z"
      },
      {
        "duration": 40,
        "start_time": "2022-06-21T10:18:01.703Z"
      },
      {
        "duration": 967,
        "start_time": "2022-06-21T10:18:01.745Z"
      },
      {
        "duration": 905,
        "start_time": "2022-06-21T10:18:02.713Z"
      },
      {
        "duration": 1001,
        "start_time": "2022-06-21T10:18:03.619Z"
      },
      {
        "duration": 12,
        "start_time": "2022-06-21T10:21:36.029Z"
      },
      {
        "duration": 2616,
        "start_time": "2022-06-21T18:05:25.919Z"
      },
      {
        "duration": 884,
        "start_time": "2022-06-21T18:05:28.537Z"
      },
      {
        "duration": 20,
        "start_time": "2022-06-21T18:05:29.423Z"
      },
      {
        "duration": 17,
        "start_time": "2022-06-21T18:05:29.446Z"
      },
      {
        "duration": 23,
        "start_time": "2022-06-21T18:05:29.467Z"
      },
      {
        "duration": 15,
        "start_time": "2022-06-21T18:05:29.492Z"
      },
      {
        "duration": 5,
        "start_time": "2022-06-21T18:05:29.509Z"
      },
      {
        "duration": 14,
        "start_time": "2022-06-21T18:05:29.516Z"
      },
      {
        "duration": 7,
        "start_time": "2022-06-21T18:05:29.532Z"
      },
      {
        "duration": 14,
        "start_time": "2022-06-21T18:05:29.576Z"
      },
      {
        "duration": 93,
        "start_time": "2022-06-21T18:05:29.593Z"
      },
      {
        "duration": 102,
        "start_time": "2022-06-21T18:05:29.688Z"
      },
      {
        "duration": 6,
        "start_time": "2022-06-21T18:05:29.792Z"
      },
      {
        "duration": 15,
        "start_time": "2022-06-21T18:05:29.799Z"
      },
      {
        "duration": 66,
        "start_time": "2022-06-21T18:05:29.816Z"
      },
      {
        "duration": 92,
        "start_time": "2022-06-21T18:05:29.884Z"
      },
      {
        "duration": 21,
        "start_time": "2022-06-21T18:05:29.979Z"
      },
      {
        "duration": 78,
        "start_time": "2022-06-21T18:05:30.002Z"
      },
      {
        "duration": 107,
        "start_time": "2022-06-21T18:05:30.082Z"
      },
      {
        "duration": 7,
        "start_time": "2022-06-21T18:05:30.191Z"
      },
      {
        "duration": 17,
        "start_time": "2022-06-21T18:05:30.200Z"
      },
      {
        "duration": 13,
        "start_time": "2022-06-21T18:05:30.218Z"
      },
      {
        "duration": 9,
        "start_time": "2022-06-21T18:05:30.232Z"
      },
      {
        "duration": 10,
        "start_time": "2022-06-21T18:05:30.243Z"
      },
      {
        "duration": 32,
        "start_time": "2022-06-21T18:05:30.255Z"
      },
      {
        "duration": 13,
        "start_time": "2022-06-21T18:05:30.288Z"
      },
      {
        "duration": 780,
        "start_time": "2022-06-21T18:05:30.302Z"
      },
      {
        "duration": 3,
        "start_time": "2022-06-21T18:05:31.086Z"
      },
      {
        "duration": 38,
        "start_time": "2022-06-21T18:05:31.091Z"
      },
      {
        "duration": 15,
        "start_time": "2022-06-21T18:05:31.130Z"
      },
      {
        "duration": 12,
        "start_time": "2022-06-21T18:05:31.147Z"
      },
      {
        "duration": 30,
        "start_time": "2022-06-21T18:05:31.161Z"
      },
      {
        "duration": 759,
        "start_time": "2022-06-21T18:05:31.193Z"
      },
      {
        "duration": 3,
        "start_time": "2022-06-21T18:05:31.954Z"
      },
      {
        "duration": 23,
        "start_time": "2022-06-21T18:05:31.959Z"
      },
      {
        "duration": 8,
        "start_time": "2022-06-21T18:05:31.984Z"
      },
      {
        "duration": 6,
        "start_time": "2022-06-21T18:05:31.994Z"
      },
      {
        "duration": 8,
        "start_time": "2022-06-21T18:05:32.002Z"
      },
      {
        "duration": 734,
        "start_time": "2022-06-21T18:05:32.012Z"
      },
      {
        "duration": 3,
        "start_time": "2022-06-21T18:05:32.747Z"
      },
      {
        "duration": 25,
        "start_time": "2022-06-21T18:05:32.751Z"
      },
      {
        "duration": 8,
        "start_time": "2022-06-21T18:05:32.781Z"
      },
      {
        "duration": 6,
        "start_time": "2022-06-21T18:05:32.790Z"
      },
      {
        "duration": 15,
        "start_time": "2022-06-21T18:05:32.797Z"
      },
      {
        "duration": 9,
        "start_time": "2022-06-21T18:05:32.814Z"
      },
      {
        "duration": 20,
        "start_time": "2022-06-21T18:05:32.824Z"
      },
      {
        "duration": 1134,
        "start_time": "2022-06-21T18:05:32.846Z"
      },
      {
        "duration": 1106,
        "start_time": "2022-06-21T18:05:33.982Z"
      },
      {
        "duration": 1122,
        "start_time": "2022-06-21T18:05:35.089Z"
      },
      {
        "duration": 9,
        "start_time": "2022-06-21T20:13:07.139Z"
      },
      {
        "duration": 18,
        "start_time": "2022-06-21T20:13:49.358Z"
      },
      {
        "duration": 5,
        "start_time": "2022-06-21T20:13:52.195Z"
      },
      {
        "duration": 4,
        "start_time": "2022-06-21T20:13:53.830Z"
      },
      {
        "duration": 8,
        "start_time": "2022-06-21T20:14:03.439Z"
      },
      {
        "duration": 10,
        "start_time": "2022-06-21T20:14:05.647Z"
      },
      {
        "duration": 13,
        "start_time": "2022-06-21T20:21:25.192Z"
      },
      {
        "duration": 9,
        "start_time": "2022-06-21T20:21:54.398Z"
      },
      {
        "duration": 8,
        "start_time": "2022-06-21T20:21:57.985Z"
      },
      {
        "duration": 11,
        "start_time": "2022-06-21T20:29:17.788Z"
      },
      {
        "duration": 13,
        "start_time": "2022-06-21T20:29:32.449Z"
      },
      {
        "duration": 13,
        "start_time": "2022-06-21T20:29:48.217Z"
      },
      {
        "duration": 1226,
        "start_time": "2022-06-22T03:35:20.338Z"
      },
      {
        "duration": 908,
        "start_time": "2022-06-22T03:35:21.566Z"
      },
      {
        "duration": 22,
        "start_time": "2022-06-22T03:35:22.477Z"
      },
      {
        "duration": 19,
        "start_time": "2022-06-22T03:35:22.502Z"
      },
      {
        "duration": 16,
        "start_time": "2022-06-22T03:35:22.524Z"
      },
      {
        "duration": 14,
        "start_time": "2022-06-22T03:35:22.543Z"
      },
      {
        "duration": 5,
        "start_time": "2022-06-22T03:35:22.559Z"
      },
      {
        "duration": 25,
        "start_time": "2022-06-22T03:35:22.566Z"
      },
      {
        "duration": 10,
        "start_time": "2022-06-22T03:35:22.593Z"
      },
      {
        "duration": 15,
        "start_time": "2022-06-22T03:35:22.628Z"
      },
      {
        "duration": 189,
        "start_time": "2022-06-22T03:35:22.645Z"
      },
      {
        "duration": 12,
        "start_time": "2022-06-22T03:35:22.836Z"
      },
      {
        "duration": 12,
        "start_time": "2022-06-22T03:35:22.850Z"
      },
      {
        "duration": 21,
        "start_time": "2022-06-22T03:35:22.866Z"
      },
      {
        "duration": 237,
        "start_time": "2022-06-22T03:35:22.890Z"
      },
      {
        "duration": 6,
        "start_time": "2022-06-22T03:35:23.129Z"
      },
      {
        "duration": 29,
        "start_time": "2022-06-22T03:35:23.137Z"
      },
      {
        "duration": 83,
        "start_time": "2022-06-22T03:35:23.167Z"
      },
      {
        "duration": 15,
        "start_time": "2022-06-22T03:35:23.329Z"
      },
      {
        "duration": 80,
        "start_time": "2022-06-22T03:35:23.347Z"
      },
      {
        "duration": 14,
        "start_time": "2022-06-22T03:35:23.430Z"
      },
      {
        "duration": 17,
        "start_time": "2022-06-22T03:35:23.445Z"
      },
      {
        "duration": 10,
        "start_time": "2022-06-22T03:35:23.464Z"
      },
      {
        "duration": 10,
        "start_time": "2022-06-22T03:35:23.475Z"
      },
      {
        "duration": 6,
        "start_time": "2022-06-22T03:35:23.488Z"
      },
      {
        "duration": 14,
        "start_time": "2022-06-22T03:35:23.496Z"
      },
      {
        "duration": 769,
        "start_time": "2022-06-22T03:35:23.512Z"
      },
      {
        "duration": 4,
        "start_time": "2022-06-22T03:35:24.283Z"
      },
      {
        "duration": 20,
        "start_time": "2022-06-22T03:35:24.289Z"
      },
      {
        "duration": 13,
        "start_time": "2022-06-22T03:35:24.311Z"
      },
      {
        "duration": 17,
        "start_time": "2022-06-22T03:35:24.327Z"
      },
      {
        "duration": 31,
        "start_time": "2022-06-22T03:35:24.346Z"
      },
      {
        "duration": 739,
        "start_time": "2022-06-22T03:35:24.380Z"
      },
      {
        "duration": 7,
        "start_time": "2022-06-22T03:35:25.121Z"
      },
      {
        "duration": 13,
        "start_time": "2022-06-22T03:35:25.131Z"
      },
      {
        "duration": 9,
        "start_time": "2022-06-22T03:35:25.146Z"
      },
      {
        "duration": 6,
        "start_time": "2022-06-22T03:35:25.158Z"
      },
      {
        "duration": 22,
        "start_time": "2022-06-22T03:35:25.165Z"
      },
      {
        "duration": 751,
        "start_time": "2022-06-22T03:35:25.189Z"
      },
      {
        "duration": 3,
        "start_time": "2022-06-22T03:35:25.942Z"
      },
      {
        "duration": 7,
        "start_time": "2022-06-22T03:35:25.948Z"
      },
      {
        "duration": 13,
        "start_time": "2022-06-22T03:35:25.956Z"
      },
      {
        "duration": 7,
        "start_time": "2022-06-22T03:35:25.971Z"
      },
      {
        "duration": 21,
        "start_time": "2022-06-22T03:35:25.980Z"
      },
      {
        "duration": 10,
        "start_time": "2022-06-22T03:35:26.026Z"
      },
      {
        "duration": 10,
        "start_time": "2022-06-22T03:35:26.038Z"
      },
      {
        "duration": 10,
        "start_time": "2022-06-22T03:35:26.050Z"
      },
      {
        "duration": 1164,
        "start_time": "2022-06-22T03:35:26.062Z"
      },
      {
        "duration": 1061,
        "start_time": "2022-06-22T03:35:27.227Z"
      },
      {
        "duration": 1022,
        "start_time": "2022-06-22T03:35:28.291Z"
      },
      {
        "duration": 106,
        "start_time": "2022-06-22T03:35:54.500Z"
      },
      {
        "duration": 0,
        "start_time": "2022-06-22T03:35:54.608Z"
      },
      {
        "duration": 9,
        "start_time": "2022-06-22T03:36:45.460Z"
      },
      {
        "duration": 6,
        "start_time": "2022-06-22T03:36:48.350Z"
      },
      {
        "duration": 7,
        "start_time": "2022-06-22T03:36:49.509Z"
      },
      {
        "duration": 728,
        "start_time": "2022-06-22T03:36:49.840Z"
      },
      {
        "duration": 672,
        "start_time": "2022-06-22T03:37:29.509Z"
      },
      {
        "duration": 7,
        "start_time": "2022-06-22T03:37:54.319Z"
      },
      {
        "duration": 10,
        "start_time": "2022-06-22T03:39:06.972Z"
      },
      {
        "duration": 4,
        "start_time": "2022-06-22T03:39:10.933Z"
      },
      {
        "duration": 476,
        "start_time": "2022-06-22T03:39:10.939Z"
      },
      {
        "duration": 21,
        "start_time": "2022-06-22T03:39:11.417Z"
      },
      {
        "duration": 12,
        "start_time": "2022-06-22T03:39:11.439Z"
      },
      {
        "duration": 24,
        "start_time": "2022-06-22T03:39:11.454Z"
      },
      {
        "duration": 15,
        "start_time": "2022-06-22T03:39:11.479Z"
      },
      {
        "duration": 4,
        "start_time": "2022-06-22T03:39:11.496Z"
      },
      {
        "duration": 10,
        "start_time": "2022-06-22T03:39:11.527Z"
      },
      {
        "duration": 7,
        "start_time": "2022-06-22T03:39:11.538Z"
      },
      {
        "duration": 13,
        "start_time": "2022-06-22T03:39:11.546Z"
      },
      {
        "duration": 168,
        "start_time": "2022-06-22T03:39:11.561Z"
      },
      {
        "duration": 12,
        "start_time": "2022-06-22T03:39:11.731Z"
      },
      {
        "duration": 81,
        "start_time": "2022-06-22T03:39:11.746Z"
      },
      {
        "duration": 10,
        "start_time": "2022-06-22T03:39:11.831Z"
      },
      {
        "duration": 91,
        "start_time": "2022-06-22T03:39:11.843Z"
      },
      {
        "duration": 96,
        "start_time": "2022-06-22T03:39:11.936Z"
      },
      {
        "duration": 13,
        "start_time": "2022-06-22T03:39:12.034Z"
      },
      {
        "duration": 180,
        "start_time": "2022-06-22T03:39:12.049Z"
      },
      {
        "duration": 12,
        "start_time": "2022-06-22T03:39:12.231Z"
      },
      {
        "duration": 5,
        "start_time": "2022-06-22T03:39:12.246Z"
      },
      {
        "duration": 9,
        "start_time": "2022-06-22T03:39:12.253Z"
      },
      {
        "duration": 10,
        "start_time": "2022-06-22T03:39:12.263Z"
      },
      {
        "duration": 6,
        "start_time": "2022-06-22T03:39:12.327Z"
      },
      {
        "duration": 8,
        "start_time": "2022-06-22T03:39:12.335Z"
      },
      {
        "duration": 6,
        "start_time": "2022-06-22T03:39:12.345Z"
      },
      {
        "duration": 7,
        "start_time": "2022-06-22T03:39:12.352Z"
      },
      {
        "duration": 699,
        "start_time": "2022-06-22T03:39:12.361Z"
      },
      {
        "duration": 3,
        "start_time": "2022-06-22T03:39:13.062Z"
      },
      {
        "duration": 14,
        "start_time": "2022-06-22T03:39:13.067Z"
      },
      {
        "duration": 8,
        "start_time": "2022-06-22T03:39:13.083Z"
      },
      {
        "duration": 7,
        "start_time": "2022-06-22T03:39:13.094Z"
      },
      {
        "duration": 28,
        "start_time": "2022-06-22T03:39:13.104Z"
      },
      {
        "duration": 737,
        "start_time": "2022-06-22T03:39:13.134Z"
      },
      {
        "duration": 3,
        "start_time": "2022-06-22T03:39:13.873Z"
      },
      {
        "duration": 13,
        "start_time": "2022-06-22T03:39:13.879Z"
      },
      {
        "duration": 15,
        "start_time": "2022-06-22T03:39:13.894Z"
      },
      {
        "duration": 20,
        "start_time": "2022-06-22T03:39:13.911Z"
      },
      {
        "duration": 8,
        "start_time": "2022-06-22T03:39:13.934Z"
      },
      {
        "duration": 712,
        "start_time": "2022-06-22T03:39:13.944Z"
      },
      {
        "duration": 3,
        "start_time": "2022-06-22T03:39:14.658Z"
      },
      {
        "duration": 7,
        "start_time": "2022-06-22T03:39:14.664Z"
      },
      {
        "duration": 11,
        "start_time": "2022-06-22T03:39:14.673Z"
      },
      {
        "duration": 5,
        "start_time": "2022-06-22T03:39:14.686Z"
      },
      {
        "duration": 35,
        "start_time": "2022-06-22T03:39:14.693Z"
      },
      {
        "duration": 12,
        "start_time": "2022-06-22T03:39:14.730Z"
      },
      {
        "duration": 14,
        "start_time": "2022-06-22T03:39:14.744Z"
      },
      {
        "duration": 10,
        "start_time": "2022-06-22T03:39:14.760Z"
      },
      {
        "duration": 759,
        "start_time": "2022-06-22T03:39:14.772Z"
      },
      {
        "duration": 9,
        "start_time": "2022-06-22T03:39:15.533Z"
      },
      {
        "duration": 0,
        "start_time": "2022-06-22T03:39:15.544Z"
      },
      {
        "duration": 49,
        "start_time": "2022-06-22T03:39:32.143Z"
      },
      {
        "duration": 722,
        "start_time": "2022-06-22T03:39:36.971Z"
      },
      {
        "duration": 668,
        "start_time": "2022-06-22T03:39:50.833Z"
      },
      {
        "duration": 2634,
        "start_time": "2022-06-22T17:09:15.093Z"
      },
      {
        "duration": 711,
        "start_time": "2022-06-22T17:09:17.728Z"
      },
      {
        "duration": 18,
        "start_time": "2022-06-22T17:09:18.440Z"
      },
      {
        "duration": 24,
        "start_time": "2022-06-22T17:09:18.460Z"
      },
      {
        "duration": 28,
        "start_time": "2022-06-22T17:09:18.487Z"
      },
      {
        "duration": 20,
        "start_time": "2022-06-22T17:09:18.517Z"
      },
      {
        "duration": 18,
        "start_time": "2022-06-22T17:09:18.538Z"
      },
      {
        "duration": 23,
        "start_time": "2022-06-22T17:09:18.558Z"
      },
      {
        "duration": 23,
        "start_time": "2022-06-22T17:09:18.582Z"
      },
      {
        "duration": 36,
        "start_time": "2022-06-22T17:09:18.606Z"
      },
      {
        "duration": 26,
        "start_time": "2022-06-22T17:09:18.644Z"
      },
      {
        "duration": 207,
        "start_time": "2022-06-22T17:09:18.672Z"
      },
      {
        "duration": 29,
        "start_time": "2022-06-22T17:09:18.881Z"
      },
      {
        "duration": 32,
        "start_time": "2022-06-22T17:09:18.915Z"
      },
      {
        "duration": 118,
        "start_time": "2022-06-22T17:09:18.950Z"
      },
      {
        "duration": 111,
        "start_time": "2022-06-22T17:09:19.070Z"
      },
      {
        "duration": 30,
        "start_time": "2022-06-22T17:09:19.182Z"
      },
      {
        "duration": 55,
        "start_time": "2022-06-22T17:09:19.214Z"
      },
      {
        "duration": 104,
        "start_time": "2022-06-22T17:09:19.271Z"
      },
      {
        "duration": 17,
        "start_time": "2022-06-22T17:09:19.377Z"
      },
      {
        "duration": 19,
        "start_time": "2022-06-22T17:09:19.396Z"
      },
      {
        "duration": 20,
        "start_time": "2022-06-22T17:09:19.416Z"
      },
      {
        "duration": 13,
        "start_time": "2022-06-22T17:09:19.438Z"
      },
      {
        "duration": 30,
        "start_time": "2022-06-22T17:09:19.453Z"
      },
      {
        "duration": 11,
        "start_time": "2022-06-22T17:09:19.485Z"
      },
      {
        "duration": 18,
        "start_time": "2022-06-22T17:09:19.498Z"
      },
      {
        "duration": 710,
        "start_time": "2022-06-22T17:09:19.518Z"
      },
      {
        "duration": 3,
        "start_time": "2022-06-22T17:09:20.229Z"
      },
      {
        "duration": 25,
        "start_time": "2022-06-22T17:09:20.233Z"
      },
      {
        "duration": 8,
        "start_time": "2022-06-22T17:09:20.260Z"
      },
      {
        "duration": 20,
        "start_time": "2022-06-22T17:09:20.270Z"
      },
      {
        "duration": 25,
        "start_time": "2022-06-22T17:09:20.292Z"
      },
      {
        "duration": 700,
        "start_time": "2022-06-22T17:09:20.319Z"
      },
      {
        "duration": 3,
        "start_time": "2022-06-22T17:09:21.021Z"
      },
      {
        "duration": 26,
        "start_time": "2022-06-22T17:09:21.025Z"
      },
      {
        "duration": 23,
        "start_time": "2022-06-22T17:09:21.053Z"
      },
      {
        "duration": 22,
        "start_time": "2022-06-22T17:09:21.078Z"
      },
      {
        "duration": 40,
        "start_time": "2022-06-22T17:09:21.101Z"
      },
      {
        "duration": 667,
        "start_time": "2022-06-22T17:09:21.143Z"
      },
      {
        "duration": 2,
        "start_time": "2022-06-22T17:09:21.812Z"
      },
      {
        "duration": 32,
        "start_time": "2022-06-22T17:09:21.817Z"
      },
      {
        "duration": 12,
        "start_time": "2022-06-22T17:09:21.851Z"
      },
      {
        "duration": 16,
        "start_time": "2022-06-22T17:09:21.865Z"
      },
      {
        "duration": 41,
        "start_time": "2022-06-22T17:09:21.883Z"
      },
      {
        "duration": 24,
        "start_time": "2022-06-22T17:09:21.926Z"
      },
      {
        "duration": 11,
        "start_time": "2022-06-22T17:09:21.952Z"
      },
      {
        "duration": 707,
        "start_time": "2022-06-22T17:09:21.964Z"
      },
      {
        "duration": 668,
        "start_time": "2022-06-22T17:09:22.673Z"
      },
      {
        "duration": 677,
        "start_time": "2022-06-22T17:09:23.342Z"
      },
      {
        "duration": 11,
        "start_time": "2022-06-22T17:11:07.145Z"
      },
      {
        "duration": 116,
        "start_time": "2022-06-22T17:11:37.104Z"
      },
      {
        "duration": 665,
        "start_time": "2022-06-22T17:11:42.739Z"
      },
      {
        "duration": 14,
        "start_time": "2022-06-22T17:11:43.732Z"
      },
      {
        "duration": 13,
        "start_time": "2022-06-22T17:11:44.234Z"
      },
      {
        "duration": 719,
        "start_time": "2022-06-22T17:11:47.271Z"
      },
      {
        "duration": 666,
        "start_time": "2022-06-22T17:11:50.043Z"
      },
      {
        "duration": 11,
        "start_time": "2022-06-22T17:13:04.037Z"
      },
      {
        "duration": 762,
        "start_time": "2022-06-22T17:13:18.899Z"
      },
      {
        "duration": 682,
        "start_time": "2022-06-22T17:13:28.037Z"
      },
      {
        "duration": 746,
        "start_time": "2022-06-22T17:13:28.721Z"
      },
      {
        "duration": 722,
        "start_time": "2022-06-22T17:13:36.539Z"
      },
      {
        "duration": 634,
        "start_time": "2022-06-22T17:13:39.485Z"
      },
      {
        "duration": 636,
        "start_time": "2022-06-22T17:13:40.121Z"
      },
      {
        "duration": 749,
        "start_time": "2022-06-22T17:13:40.759Z"
      },
      {
        "duration": 12,
        "start_time": "2022-06-22T17:15:37.521Z"
      },
      {
        "duration": 50,
        "start_time": "2022-06-22T19:10:18.990Z"
      },
      {
        "duration": 1163,
        "start_time": "2022-06-22T19:10:21.248Z"
      },
      {
        "duration": 1721,
        "start_time": "2022-06-22T19:10:22.413Z"
      },
      {
        "duration": 17,
        "start_time": "2022-06-22T19:10:24.136Z"
      },
      {
        "duration": 16,
        "start_time": "2022-06-22T19:10:24.155Z"
      },
      {
        "duration": 15,
        "start_time": "2022-06-22T19:10:24.173Z"
      },
      {
        "duration": 14,
        "start_time": "2022-06-22T19:10:24.190Z"
      },
      {
        "duration": 3,
        "start_time": "2022-06-22T19:10:24.206Z"
      },
      {
        "duration": 37,
        "start_time": "2022-06-22T19:10:24.211Z"
      },
      {
        "duration": 7,
        "start_time": "2022-06-22T19:10:24.249Z"
      },
      {
        "duration": 14,
        "start_time": "2022-06-22T19:10:24.257Z"
      },
      {
        "duration": 73,
        "start_time": "2022-06-22T19:10:24.273Z"
      },
      {
        "duration": 102,
        "start_time": "2022-06-22T19:10:24.348Z"
      },
      {
        "duration": 6,
        "start_time": "2022-06-22T19:10:24.452Z"
      },
      {
        "duration": 13,
        "start_time": "2022-06-22T19:10:24.461Z"
      },
      {
        "duration": 70,
        "start_time": "2022-06-22T19:10:24.476Z"
      },
      {
        "duration": 98,
        "start_time": "2022-06-22T19:10:24.548Z"
      },
      {
        "duration": 17,
        "start_time": "2022-06-22T19:10:24.647Z"
      },
      {
        "duration": 77,
        "start_time": "2022-06-22T19:10:24.665Z"
      },
      {
        "duration": 102,
        "start_time": "2022-06-22T19:10:24.744Z"
      },
      {
        "duration": 3,
        "start_time": "2022-06-22T19:10:24.848Z"
      },
      {
        "duration": 8,
        "start_time": "2022-06-22T19:10:24.852Z"
      },
      {
        "duration": 7,
        "start_time": "2022-06-22T19:10:24.862Z"
      },
      {
        "duration": 5,
        "start_time": "2022-06-22T19:10:24.871Z"
      },
      {
        "duration": 9,
        "start_time": "2022-06-22T19:10:24.877Z"
      },
      {
        "duration": 74,
        "start_time": "2022-06-22T19:10:24.887Z"
      },
      {
        "duration": 0,
        "start_time": "2022-06-22T19:10:24.963Z"
      },
      {
        "duration": 0,
        "start_time": "2022-06-22T19:10:24.964Z"
      },
      {
        "duration": 0,
        "start_time": "2022-06-22T19:10:24.965Z"
      },
      {
        "duration": 0,
        "start_time": "2022-06-22T19:10:24.966Z"
      },
      {
        "duration": 0,
        "start_time": "2022-06-22T19:10:24.968Z"
      },
      {
        "duration": 0,
        "start_time": "2022-06-22T19:10:24.969Z"
      },
      {
        "duration": 0,
        "start_time": "2022-06-22T19:10:24.970Z"
      },
      {
        "duration": 0,
        "start_time": "2022-06-22T19:10:24.971Z"
      },
      {
        "duration": 0,
        "start_time": "2022-06-22T19:10:24.971Z"
      },
      {
        "duration": 0,
        "start_time": "2022-06-22T19:10:24.972Z"
      },
      {
        "duration": 0,
        "start_time": "2022-06-22T19:10:24.973Z"
      },
      {
        "duration": 0,
        "start_time": "2022-06-22T19:10:24.974Z"
      },
      {
        "duration": 0,
        "start_time": "2022-06-22T19:10:24.975Z"
      },
      {
        "duration": 0,
        "start_time": "2022-06-22T19:10:24.976Z"
      },
      {
        "duration": 0,
        "start_time": "2022-06-22T19:10:24.977Z"
      },
      {
        "duration": 0,
        "start_time": "2022-06-22T19:10:24.978Z"
      },
      {
        "duration": 0,
        "start_time": "2022-06-22T19:10:24.979Z"
      },
      {
        "duration": 0,
        "start_time": "2022-06-22T19:10:24.980Z"
      },
      {
        "duration": 0,
        "start_time": "2022-06-22T19:10:24.981Z"
      },
      {
        "duration": 0,
        "start_time": "2022-06-22T19:10:24.982Z"
      },
      {
        "duration": 0,
        "start_time": "2022-06-22T19:10:24.983Z"
      },
      {
        "duration": 0,
        "start_time": "2022-06-22T19:10:24.984Z"
      },
      {
        "duration": 0,
        "start_time": "2022-06-22T19:10:24.985Z"
      },
      {
        "duration": 0,
        "start_time": "2022-06-22T19:10:24.986Z"
      },
      {
        "duration": 0,
        "start_time": "2022-06-22T19:10:24.987Z"
      },
      {
        "duration": 0,
        "start_time": "2022-06-22T19:10:24.988Z"
      },
      {
        "duration": 5,
        "start_time": "2022-06-22T19:10:36.569Z"
      },
      {
        "duration": 384,
        "start_time": "2022-06-22T19:10:36.576Z"
      },
      {
        "duration": 24,
        "start_time": "2022-06-22T19:10:36.962Z"
      },
      {
        "duration": 20,
        "start_time": "2022-06-22T19:10:36.988Z"
      },
      {
        "duration": 39,
        "start_time": "2022-06-22T19:10:37.011Z"
      },
      {
        "duration": 18,
        "start_time": "2022-06-22T19:10:37.052Z"
      },
      {
        "duration": 5,
        "start_time": "2022-06-22T19:10:37.071Z"
      },
      {
        "duration": 24,
        "start_time": "2022-06-22T19:10:37.077Z"
      },
      {
        "duration": 19,
        "start_time": "2022-06-22T19:10:37.103Z"
      },
      {
        "duration": 18,
        "start_time": "2022-06-22T19:10:37.123Z"
      },
      {
        "duration": 19,
        "start_time": "2022-06-22T19:10:37.143Z"
      },
      {
        "duration": 103,
        "start_time": "2022-06-22T19:10:37.243Z"
      },
      {
        "duration": 5,
        "start_time": "2022-06-22T19:10:37.348Z"
      },
      {
        "duration": 23,
        "start_time": "2022-06-22T19:10:37.356Z"
      },
      {
        "duration": 68,
        "start_time": "2022-06-22T19:10:37.381Z"
      },
      {
        "duration": 96,
        "start_time": "2022-06-22T19:10:37.451Z"
      },
      {
        "duration": 13,
        "start_time": "2022-06-22T19:10:37.549Z"
      },
      {
        "duration": 79,
        "start_time": "2022-06-22T19:10:37.564Z"
      },
      {
        "duration": 101,
        "start_time": "2022-06-22T19:10:37.645Z"
      },
      {
        "duration": 7,
        "start_time": "2022-06-22T19:10:37.748Z"
      },
      {
        "duration": 6,
        "start_time": "2022-06-22T19:10:37.757Z"
      },
      {
        "duration": 8,
        "start_time": "2022-06-22T19:10:37.765Z"
      },
      {
        "duration": 12,
        "start_time": "2022-06-22T19:10:37.775Z"
      },
      {
        "duration": 7,
        "start_time": "2022-06-22T19:10:37.789Z"
      },
      {
        "duration": 7,
        "start_time": "2022-06-22T19:10:37.798Z"
      },
      {
        "duration": 8,
        "start_time": "2022-06-22T19:10:37.807Z"
      },
      {
        "duration": 779,
        "start_time": "2022-06-22T19:10:37.817Z"
      },
      {
        "duration": 2,
        "start_time": "2022-06-22T19:10:38.598Z"
      },
      {
        "duration": 10,
        "start_time": "2022-06-22T19:10:38.602Z"
      },
      {
        "duration": 6,
        "start_time": "2022-06-22T19:10:38.614Z"
      },
      {
        "duration": 22,
        "start_time": "2022-06-22T19:10:38.622Z"
      },
      {
        "duration": 7,
        "start_time": "2022-06-22T19:10:38.646Z"
      },
      {
        "duration": 725,
        "start_time": "2022-06-22T19:10:38.655Z"
      },
      {
        "duration": 2,
        "start_time": "2022-06-22T19:10:39.382Z"
      },
      {
        "duration": 15,
        "start_time": "2022-06-22T19:10:39.385Z"
      },
      {
        "duration": 6,
        "start_time": "2022-06-22T19:10:39.402Z"
      },
      {
        "duration": 9,
        "start_time": "2022-06-22T19:10:39.410Z"
      },
      {
        "duration": 24,
        "start_time": "2022-06-22T19:10:39.421Z"
      },
      {
        "duration": 7,
        "start_time": "2022-06-22T19:10:39.447Z"
      },
      {
        "duration": 766,
        "start_time": "2022-06-22T19:10:39.455Z"
      },
      {
        "duration": 3,
        "start_time": "2022-06-22T19:10:40.225Z"
      },
      {
        "duration": 15,
        "start_time": "2022-06-22T19:10:40.230Z"
      },
      {
        "duration": 8,
        "start_time": "2022-06-22T19:10:40.246Z"
      },
      {
        "duration": 6,
        "start_time": "2022-06-22T19:10:40.256Z"
      },
      {
        "duration": 12,
        "start_time": "2022-06-22T19:10:40.263Z"
      },
      {
        "duration": 10,
        "start_time": "2022-06-22T19:10:40.277Z"
      },
      {
        "duration": 10,
        "start_time": "2022-06-22T19:10:40.288Z"
      },
      {
        "duration": 773,
        "start_time": "2022-06-22T19:10:40.300Z"
      },
      {
        "duration": 739,
        "start_time": "2022-06-22T19:10:41.075Z"
      },
      {
        "duration": 745,
        "start_time": "2022-06-22T19:10:41.815Z"
      },
      {
        "duration": 11,
        "start_time": "2022-06-22T19:12:44.017Z"
      },
      {
        "duration": 3,
        "start_time": "2022-06-22T19:12:54.378Z"
      },
      {
        "duration": 747,
        "start_time": "2022-06-22T19:13:11.647Z"
      },
      {
        "duration": 688,
        "start_time": "2022-06-22T19:13:15.069Z"
      },
      {
        "duration": 760,
        "start_time": "2022-06-22T19:13:17.887Z"
      },
      {
        "duration": 5,
        "start_time": "2022-06-22T19:13:23.243Z"
      },
      {
        "duration": 379,
        "start_time": "2022-06-22T19:13:23.250Z"
      },
      {
        "duration": 14,
        "start_time": "2022-06-22T19:13:23.631Z"
      },
      {
        "duration": 18,
        "start_time": "2022-06-22T19:13:23.646Z"
      },
      {
        "duration": 17,
        "start_time": "2022-06-22T19:13:23.666Z"
      },
      {
        "duration": 15,
        "start_time": "2022-06-22T19:13:23.685Z"
      },
      {
        "duration": 13,
        "start_time": "2022-06-22T19:13:23.701Z"
      },
      {
        "duration": 28,
        "start_time": "2022-06-22T19:13:23.716Z"
      },
      {
        "duration": 7,
        "start_time": "2022-06-22T19:13:23.746Z"
      },
      {
        "duration": 18,
        "start_time": "2022-06-22T19:13:23.755Z"
      },
      {
        "duration": 70,
        "start_time": "2022-06-22T19:13:23.775Z"
      },
      {
        "duration": 102,
        "start_time": "2022-06-22T19:13:23.846Z"
      },
      {
        "duration": 5,
        "start_time": "2022-06-22T19:13:23.950Z"
      },
      {
        "duration": 14,
        "start_time": "2022-06-22T19:13:23.958Z"
      },
      {
        "duration": 72,
        "start_time": "2022-06-22T19:13:23.974Z"
      },
      {
        "duration": 94,
        "start_time": "2022-06-22T19:13:24.048Z"
      },
      {
        "duration": 13,
        "start_time": "2022-06-22T19:13:24.144Z"
      },
      {
        "duration": 85,
        "start_time": "2022-06-22T19:13:24.159Z"
      },
      {
        "duration": 105,
        "start_time": "2022-06-22T19:13:24.246Z"
      },
      {
        "duration": 9,
        "start_time": "2022-06-22T19:13:24.353Z"
      },
      {
        "duration": 9,
        "start_time": "2022-06-22T19:13:24.363Z"
      },
      {
        "duration": 9,
        "start_time": "2022-06-22T19:13:24.374Z"
      },
      {
        "duration": 10,
        "start_time": "2022-06-22T19:13:24.385Z"
      },
      {
        "duration": 8,
        "start_time": "2022-06-22T19:13:24.396Z"
      },
      {
        "duration": 6,
        "start_time": "2022-06-22T19:13:24.406Z"
      },
      {
        "duration": 10,
        "start_time": "2022-06-22T19:13:24.413Z"
      },
      {
        "duration": 725,
        "start_time": "2022-06-22T19:13:24.424Z"
      },
      {
        "duration": 3,
        "start_time": "2022-06-22T19:13:25.151Z"
      },
      {
        "duration": 13,
        "start_time": "2022-06-22T19:13:25.155Z"
      },
      {
        "duration": 7,
        "start_time": "2022-06-22T19:13:25.170Z"
      },
      {
        "duration": 5,
        "start_time": "2022-06-22T19:13:25.179Z"
      },
      {
        "duration": 10,
        "start_time": "2022-06-22T19:13:25.186Z"
      },
      {
        "duration": 748,
        "start_time": "2022-06-22T19:13:25.198Z"
      },
      {
        "duration": 3,
        "start_time": "2022-06-22T19:13:25.947Z"
      },
      {
        "duration": 11,
        "start_time": "2022-06-22T19:13:25.951Z"
      },
      {
        "duration": 7,
        "start_time": "2022-06-22T19:13:25.964Z"
      },
      {
        "duration": 5,
        "start_time": "2022-06-22T19:13:25.973Z"
      },
      {
        "duration": 5,
        "start_time": "2022-06-22T19:13:25.980Z"
      },
      {
        "duration": 681,
        "start_time": "2022-06-22T19:13:25.987Z"
      },
      {
        "duration": 4,
        "start_time": "2022-06-22T19:13:26.670Z"
      },
      {
        "duration": 19,
        "start_time": "2022-06-22T19:13:26.679Z"
      },
      {
        "duration": 8,
        "start_time": "2022-06-22T19:13:26.700Z"
      },
      {
        "duration": 10,
        "start_time": "2022-06-22T19:13:26.711Z"
      },
      {
        "duration": 20,
        "start_time": "2022-06-22T19:13:26.723Z"
      },
      {
        "duration": 14,
        "start_time": "2022-06-22T19:13:26.746Z"
      },
      {
        "duration": 8,
        "start_time": "2022-06-22T19:13:26.762Z"
      },
      {
        "duration": 763,
        "start_time": "2022-06-22T19:13:26.772Z"
      },
      {
        "duration": 723,
        "start_time": "2022-06-22T19:13:27.537Z"
      },
      {
        "duration": 675,
        "start_time": "2022-06-22T19:13:28.262Z"
      }
    ],
    "kernelspec": {
      "display_name": "Python 3 (ipykernel)",
      "language": "python",
      "name": "python3"
    },
    "language_info": {
      "codemirror_mode": {
        "name": "ipython",
        "version": 3
      },
      "file_extension": ".py",
      "mimetype": "text/x-python",
      "name": "python",
      "nbconvert_exporter": "python",
      "pygments_lexer": "ipython3",
      "version": "3.9.5"
    },
    "toc": {
      "base_numbering": 1,
      "nav_menu": {
        "height": "117px",
        "width": "242px"
      },
      "number_sections": true,
      "sideBar": true,
      "skip_h1_title": true,
      "title_cell": "Table of Contents",
      "title_sidebar": "Contents",
      "toc_cell": false,
      "toc_position": {
        "height": "calc(100% - 180px)",
        "left": "10px",
        "top": "150px",
        "width": "254.391px"
      },
      "toc_section_display": true,
      "toc_window_display": true
    },
    "colab": {
      "provenance": []
    }
  },
  "nbformat": 4,
  "nbformat_minor": 0
}