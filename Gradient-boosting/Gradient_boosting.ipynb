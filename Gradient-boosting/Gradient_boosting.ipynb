{
  "cells": [
    {
      "cell_type": "markdown",
      "metadata": {
        "id": "DzTjjk-EoKTC"
      },
      "source": [
        "# Определение стоимости автомобилей"
      ]
    },
    {
      "cell_type": "markdown",
      "metadata": {
        "id": "FBhUDk6VoKTE"
      },
      "source": [
        "Сервис по продаже автомобилей с пробегом «Не бит, не крашен» разрабатывает приложение для привлечения новых клиентов. В нём можно быстро узнать рыночную стоимость своего автомобиля. В вашем распоряжении исторические данные: технические характеристики, комплектации и цены автомобилей. Вам нужно построить модель для определения стоимости. \n",
        "\n",
        "Заказчику важны:\n",
        "\n",
        "- качество предсказания;\n",
        "- скорость предсказания;\n",
        "- время обучения."
      ]
    },
    {
      "cell_type": "code",
      "execution_count": null,
      "metadata": {
        "id": "kOabT0JcoKTF"
      },
      "outputs": [],
      "source": [
        "import pandas as pd\n",
        "import seaborn as sns\n",
        "import time\n",
        "import matplotlib.pyplot as plt\n",
        "from sklearn.model_selection import GridSearchCV\n",
        "from sklearn.model_selection import train_test_split\n",
        "from sklearn.linear_model import LinearRegression\n",
        "from sklearn.metrics import mean_squared_error\n",
        "from sklearn.preprocessing import StandardScaler\n",
        "import lightgbm as lgb\n",
        "import xgboost as xgb"
      ]
    },
    {
      "cell_type": "markdown",
      "metadata": {
        "id": "Y-IuMIJKoKTK"
      },
      "source": [
        "## Подготовка данных"
      ]
    },
    {
      "cell_type": "code",
      "execution_count": null,
      "metadata": {
        "scrolled": false,
        "id": "2pQ3-v6UoKTK",
        "outputId": "023b57cf-40dc-4ff7-a945-aaf8eda75084"
      },
      "outputs": [
        {
          "name": "stdout",
          "output_type": "stream",
          "text": [
            "<class 'pandas.core.frame.DataFrame'>\n",
            "RangeIndex: 354369 entries, 0 to 354368\n",
            "Data columns (total 16 columns):\n",
            " #   Column             Non-Null Count   Dtype \n",
            "---  ------             --------------   ----- \n",
            " 0   DateCrawled        354369 non-null  object\n",
            " 1   Price              354369 non-null  int64 \n",
            " 2   VehicleType        316879 non-null  object\n",
            " 3   RegistrationYear   354369 non-null  int64 \n",
            " 4   Gearbox            334536 non-null  object\n",
            " 5   Power              354369 non-null  int64 \n",
            " 6   Model              334664 non-null  object\n",
            " 7   Kilometer          354369 non-null  int64 \n",
            " 8   RegistrationMonth  354369 non-null  int64 \n",
            " 9   FuelType           321474 non-null  object\n",
            " 10  Brand              354369 non-null  object\n",
            " 11  NotRepaired        283215 non-null  object\n",
            " 12  DateCreated        354369 non-null  object\n",
            " 13  NumberOfPictures   354369 non-null  int64 \n",
            " 14  PostalCode         354369 non-null  int64 \n",
            " 15  LastSeen           354369 non-null  object\n",
            "dtypes: int64(7), object(9)\n",
            "memory usage: 43.3+ MB\n"
          ]
        }
      ],
      "source": [
        "data = pd.read_csv('/datasets/autos.csv')\n",
        "data.info()"
      ]
    },
    {
      "cell_type": "code",
      "execution_count": null,
      "metadata": {
        "id": "s7b7OjCzoKTM",
        "outputId": "dcfb3d86-4218-4d2b-a7d2-9b4e3a241eb4"
      },
      "outputs": [
        {
          "data": {
            "text/html": [
              "<div>\n",
              "<style scoped>\n",
              "    .dataframe tbody tr th:only-of-type {\n",
              "        vertical-align: middle;\n",
              "    }\n",
              "\n",
              "    .dataframe tbody tr th {\n",
              "        vertical-align: top;\n",
              "    }\n",
              "\n",
              "    .dataframe thead th {\n",
              "        text-align: right;\n",
              "    }\n",
              "</style>\n",
              "<table border=\"1\" class=\"dataframe\">\n",
              "  <thead>\n",
              "    <tr style=\"text-align: right;\">\n",
              "      <th></th>\n",
              "      <th>DateCrawled</th>\n",
              "      <th>Price</th>\n",
              "      <th>VehicleType</th>\n",
              "      <th>RegistrationYear</th>\n",
              "      <th>Gearbox</th>\n",
              "      <th>Power</th>\n",
              "      <th>Model</th>\n",
              "      <th>Kilometer</th>\n",
              "      <th>RegistrationMonth</th>\n",
              "      <th>FuelType</th>\n",
              "      <th>Brand</th>\n",
              "      <th>NotRepaired</th>\n",
              "      <th>DateCreated</th>\n",
              "      <th>NumberOfPictures</th>\n",
              "      <th>PostalCode</th>\n",
              "      <th>LastSeen</th>\n",
              "    </tr>\n",
              "  </thead>\n",
              "  <tbody>\n",
              "    <tr>\n",
              "      <th>0</th>\n",
              "      <td>2016-03-24 11:52:17</td>\n",
              "      <td>480</td>\n",
              "      <td>NaN</td>\n",
              "      <td>1993</td>\n",
              "      <td>manual</td>\n",
              "      <td>0</td>\n",
              "      <td>golf</td>\n",
              "      <td>150000</td>\n",
              "      <td>0</td>\n",
              "      <td>petrol</td>\n",
              "      <td>volkswagen</td>\n",
              "      <td>NaN</td>\n",
              "      <td>2016-03-24 00:00:00</td>\n",
              "      <td>0</td>\n",
              "      <td>70435</td>\n",
              "      <td>2016-04-07 03:16:57</td>\n",
              "    </tr>\n",
              "    <tr>\n",
              "      <th>1</th>\n",
              "      <td>2016-03-24 10:58:45</td>\n",
              "      <td>18300</td>\n",
              "      <td>coupe</td>\n",
              "      <td>2011</td>\n",
              "      <td>manual</td>\n",
              "      <td>190</td>\n",
              "      <td>NaN</td>\n",
              "      <td>125000</td>\n",
              "      <td>5</td>\n",
              "      <td>gasoline</td>\n",
              "      <td>audi</td>\n",
              "      <td>yes</td>\n",
              "      <td>2016-03-24 00:00:00</td>\n",
              "      <td>0</td>\n",
              "      <td>66954</td>\n",
              "      <td>2016-04-07 01:46:50</td>\n",
              "    </tr>\n",
              "    <tr>\n",
              "      <th>2</th>\n",
              "      <td>2016-03-14 12:52:21</td>\n",
              "      <td>9800</td>\n",
              "      <td>suv</td>\n",
              "      <td>2004</td>\n",
              "      <td>auto</td>\n",
              "      <td>163</td>\n",
              "      <td>grand</td>\n",
              "      <td>125000</td>\n",
              "      <td>8</td>\n",
              "      <td>gasoline</td>\n",
              "      <td>jeep</td>\n",
              "      <td>NaN</td>\n",
              "      <td>2016-03-14 00:00:00</td>\n",
              "      <td>0</td>\n",
              "      <td>90480</td>\n",
              "      <td>2016-04-05 12:47:46</td>\n",
              "    </tr>\n",
              "    <tr>\n",
              "      <th>3</th>\n",
              "      <td>2016-03-17 16:54:04</td>\n",
              "      <td>1500</td>\n",
              "      <td>small</td>\n",
              "      <td>2001</td>\n",
              "      <td>manual</td>\n",
              "      <td>75</td>\n",
              "      <td>golf</td>\n",
              "      <td>150000</td>\n",
              "      <td>6</td>\n",
              "      <td>petrol</td>\n",
              "      <td>volkswagen</td>\n",
              "      <td>no</td>\n",
              "      <td>2016-03-17 00:00:00</td>\n",
              "      <td>0</td>\n",
              "      <td>91074</td>\n",
              "      <td>2016-03-17 17:40:17</td>\n",
              "    </tr>\n",
              "    <tr>\n",
              "      <th>4</th>\n",
              "      <td>2016-03-31 17:25:20</td>\n",
              "      <td>3600</td>\n",
              "      <td>small</td>\n",
              "      <td>2008</td>\n",
              "      <td>manual</td>\n",
              "      <td>69</td>\n",
              "      <td>fabia</td>\n",
              "      <td>90000</td>\n",
              "      <td>7</td>\n",
              "      <td>gasoline</td>\n",
              "      <td>skoda</td>\n",
              "      <td>no</td>\n",
              "      <td>2016-03-31 00:00:00</td>\n",
              "      <td>0</td>\n",
              "      <td>60437</td>\n",
              "      <td>2016-04-06 10:17:21</td>\n",
              "    </tr>\n",
              "    <tr>\n",
              "      <th>5</th>\n",
              "      <td>2016-04-04 17:36:23</td>\n",
              "      <td>650</td>\n",
              "      <td>sedan</td>\n",
              "      <td>1995</td>\n",
              "      <td>manual</td>\n",
              "      <td>102</td>\n",
              "      <td>3er</td>\n",
              "      <td>150000</td>\n",
              "      <td>10</td>\n",
              "      <td>petrol</td>\n",
              "      <td>bmw</td>\n",
              "      <td>yes</td>\n",
              "      <td>2016-04-04 00:00:00</td>\n",
              "      <td>0</td>\n",
              "      <td>33775</td>\n",
              "      <td>2016-04-06 19:17:07</td>\n",
              "    </tr>\n",
              "    <tr>\n",
              "      <th>6</th>\n",
              "      <td>2016-04-01 20:48:51</td>\n",
              "      <td>2200</td>\n",
              "      <td>convertible</td>\n",
              "      <td>2004</td>\n",
              "      <td>manual</td>\n",
              "      <td>109</td>\n",
              "      <td>2_reihe</td>\n",
              "      <td>150000</td>\n",
              "      <td>8</td>\n",
              "      <td>petrol</td>\n",
              "      <td>peugeot</td>\n",
              "      <td>no</td>\n",
              "      <td>2016-04-01 00:00:00</td>\n",
              "      <td>0</td>\n",
              "      <td>67112</td>\n",
              "      <td>2016-04-05 18:18:39</td>\n",
              "    </tr>\n",
              "    <tr>\n",
              "      <th>7</th>\n",
              "      <td>2016-03-21 18:54:38</td>\n",
              "      <td>0</td>\n",
              "      <td>sedan</td>\n",
              "      <td>1980</td>\n",
              "      <td>manual</td>\n",
              "      <td>50</td>\n",
              "      <td>other</td>\n",
              "      <td>40000</td>\n",
              "      <td>7</td>\n",
              "      <td>petrol</td>\n",
              "      <td>volkswagen</td>\n",
              "      <td>no</td>\n",
              "      <td>2016-03-21 00:00:00</td>\n",
              "      <td>0</td>\n",
              "      <td>19348</td>\n",
              "      <td>2016-03-25 16:47:58</td>\n",
              "    </tr>\n",
              "    <tr>\n",
              "      <th>8</th>\n",
              "      <td>2016-04-04 23:42:13</td>\n",
              "      <td>14500</td>\n",
              "      <td>bus</td>\n",
              "      <td>2014</td>\n",
              "      <td>manual</td>\n",
              "      <td>125</td>\n",
              "      <td>c_max</td>\n",
              "      <td>30000</td>\n",
              "      <td>8</td>\n",
              "      <td>petrol</td>\n",
              "      <td>ford</td>\n",
              "      <td>NaN</td>\n",
              "      <td>2016-04-04 00:00:00</td>\n",
              "      <td>0</td>\n",
              "      <td>94505</td>\n",
              "      <td>2016-04-04 23:42:13</td>\n",
              "    </tr>\n",
              "    <tr>\n",
              "      <th>9</th>\n",
              "      <td>2016-03-17 10:53:50</td>\n",
              "      <td>999</td>\n",
              "      <td>small</td>\n",
              "      <td>1998</td>\n",
              "      <td>manual</td>\n",
              "      <td>101</td>\n",
              "      <td>golf</td>\n",
              "      <td>150000</td>\n",
              "      <td>0</td>\n",
              "      <td>NaN</td>\n",
              "      <td>volkswagen</td>\n",
              "      <td>NaN</td>\n",
              "      <td>2016-03-17 00:00:00</td>\n",
              "      <td>0</td>\n",
              "      <td>27472</td>\n",
              "      <td>2016-03-31 17:17:06</td>\n",
              "    </tr>\n",
              "  </tbody>\n",
              "</table>\n",
              "</div>"
            ],
            "text/plain": [
              "           DateCrawled  Price  VehicleType  RegistrationYear Gearbox  Power  \\\n",
              "0  2016-03-24 11:52:17    480          NaN              1993  manual      0   \n",
              "1  2016-03-24 10:58:45  18300        coupe              2011  manual    190   \n",
              "2  2016-03-14 12:52:21   9800          suv              2004    auto    163   \n",
              "3  2016-03-17 16:54:04   1500        small              2001  manual     75   \n",
              "4  2016-03-31 17:25:20   3600        small              2008  manual     69   \n",
              "5  2016-04-04 17:36:23    650        sedan              1995  manual    102   \n",
              "6  2016-04-01 20:48:51   2200  convertible              2004  manual    109   \n",
              "7  2016-03-21 18:54:38      0        sedan              1980  manual     50   \n",
              "8  2016-04-04 23:42:13  14500          bus              2014  manual    125   \n",
              "9  2016-03-17 10:53:50    999        small              1998  manual    101   \n",
              "\n",
              "     Model  Kilometer  RegistrationMonth  FuelType       Brand NotRepaired  \\\n",
              "0     golf     150000                  0    petrol  volkswagen         NaN   \n",
              "1      NaN     125000                  5  gasoline        audi         yes   \n",
              "2    grand     125000                  8  gasoline        jeep         NaN   \n",
              "3     golf     150000                  6    petrol  volkswagen          no   \n",
              "4    fabia      90000                  7  gasoline       skoda          no   \n",
              "5      3er     150000                 10    petrol         bmw         yes   \n",
              "6  2_reihe     150000                  8    petrol     peugeot          no   \n",
              "7    other      40000                  7    petrol  volkswagen          no   \n",
              "8    c_max      30000                  8    petrol        ford         NaN   \n",
              "9     golf     150000                  0       NaN  volkswagen         NaN   \n",
              "\n",
              "           DateCreated  NumberOfPictures  PostalCode             LastSeen  \n",
              "0  2016-03-24 00:00:00                 0       70435  2016-04-07 03:16:57  \n",
              "1  2016-03-24 00:00:00                 0       66954  2016-04-07 01:46:50  \n",
              "2  2016-03-14 00:00:00                 0       90480  2016-04-05 12:47:46  \n",
              "3  2016-03-17 00:00:00                 0       91074  2016-03-17 17:40:17  \n",
              "4  2016-03-31 00:00:00                 0       60437  2016-04-06 10:17:21  \n",
              "5  2016-04-04 00:00:00                 0       33775  2016-04-06 19:17:07  \n",
              "6  2016-04-01 00:00:00                 0       67112  2016-04-05 18:18:39  \n",
              "7  2016-03-21 00:00:00                 0       19348  2016-03-25 16:47:58  \n",
              "8  2016-04-04 00:00:00                 0       94505  2016-04-04 23:42:13  \n",
              "9  2016-03-17 00:00:00                 0       27472  2016-03-31 17:17:06  "
            ]
          },
          "execution_count": 46,
          "metadata": {},
          "output_type": "execute_result"
        }
      ],
      "source": [
        "data.head(10)"
      ]
    },
    {
      "cell_type": "markdown",
      "metadata": {
        "id": "rhnyLGuJoKTO"
      },
      "source": [
        "<ul><li><em>DateCrawled</em> — дата скачивания анкеты из базы</li><li><em>VehicleType</em> — тип автомобильного кузова</li><li><em>RegistrationYear</em> — год регистрации автомобиля</li><li><em>Gearbox</em> — тип коробки передач</li><li><em>Power</em> — мощность (л. с.)</li><li><em>Model</em> — модель автомобиля</li><li><em>Kilometer</em> — пробег (км)</li><li><em>RegistrationMonth</em> — месяц регистрации автомобиля</li><li><em>FuelType</em> — тип топлива</li><li><em>Brand</em> — марка автомобиля</li><li><em>NotRepaired</em> — была машина в ремонте или нет</li><li><em>DateCreated</em> — дата создания анкеты</li><li><em>NumberOfPictures</em> — количество фотографий автомобиля</li><li><em>PostalCode</em> — почтовый индекс владельца анкеты (пользователя)</li><li><em>LastSeen</em> — дата последней активности пользователя</li></ul>"
      ]
    },
    {
      "cell_type": "markdown",
      "metadata": {
        "id": "dqne43u7oKTP"
      },
      "source": [
        "Некоторые колонки имеют неверный тип."
      ]
    },
    {
      "cell_type": "markdown",
      "metadata": {
        "id": "EjNOeDX-oKTR"
      },
      "source": [
        "## Фильтрация данных."
      ]
    },
    {
      "cell_type": "markdown",
      "metadata": {
        "id": "7F4mme19oKTS"
      },
      "source": [
        "Уберём сразу не нужные нам колонки."
      ]
    },
    {
      "cell_type": "code",
      "execution_count": null,
      "metadata": {
        "id": "vYRuWwGIoKTS"
      },
      "outputs": [],
      "source": [
        "data.drop(['LastSeen','PostalCode','NumberOfPictures','PostalCode'], axis=1, inplace=True)"
      ]
    },
    {
      "cell_type": "code",
      "execution_count": null,
      "metadata": {
        "scrolled": true,
        "id": "yxcDbDKLoKTT",
        "outputId": "6945af07-0e06-4710-a1f4-93779e1164fa"
      },
      "outputs": [
        {
          "data": {
            "text/html": [
              "<div>\n",
              "<style scoped>\n",
              "    .dataframe tbody tr th:only-of-type {\n",
              "        vertical-align: middle;\n",
              "    }\n",
              "\n",
              "    .dataframe tbody tr th {\n",
              "        vertical-align: top;\n",
              "    }\n",
              "\n",
              "    .dataframe thead th {\n",
              "        text-align: right;\n",
              "    }\n",
              "</style>\n",
              "<table border=\"1\" class=\"dataframe\">\n",
              "  <thead>\n",
              "    <tr style=\"text-align: right;\">\n",
              "      <th></th>\n",
              "      <th>DateCrawled</th>\n",
              "      <th>Price</th>\n",
              "      <th>VehicleType</th>\n",
              "      <th>RegistrationYear</th>\n",
              "      <th>Gearbox</th>\n",
              "      <th>Power</th>\n",
              "      <th>Model</th>\n",
              "      <th>Kilometer</th>\n",
              "      <th>RegistrationMonth</th>\n",
              "      <th>FuelType</th>\n",
              "      <th>Brand</th>\n",
              "      <th>NotRepaired</th>\n",
              "      <th>DateCreated</th>\n",
              "    </tr>\n",
              "  </thead>\n",
              "  <tbody>\n",
              "    <tr>\n",
              "      <th>0</th>\n",
              "      <td>2016-03-24 11:52:17</td>\n",
              "      <td>480</td>\n",
              "      <td>NaN</td>\n",
              "      <td>1993</td>\n",
              "      <td>manual</td>\n",
              "      <td>0</td>\n",
              "      <td>golf</td>\n",
              "      <td>150000</td>\n",
              "      <td>0</td>\n",
              "      <td>petrol</td>\n",
              "      <td>volkswagen</td>\n",
              "      <td>NaN</td>\n",
              "      <td>2016-03-24 00:00:00</td>\n",
              "    </tr>\n",
              "    <tr>\n",
              "      <th>1</th>\n",
              "      <td>2016-03-24 10:58:45</td>\n",
              "      <td>18300</td>\n",
              "      <td>coupe</td>\n",
              "      <td>2011</td>\n",
              "      <td>manual</td>\n",
              "      <td>190</td>\n",
              "      <td>NaN</td>\n",
              "      <td>125000</td>\n",
              "      <td>5</td>\n",
              "      <td>gasoline</td>\n",
              "      <td>audi</td>\n",
              "      <td>yes</td>\n",
              "      <td>2016-03-24 00:00:00</td>\n",
              "    </tr>\n",
              "    <tr>\n",
              "      <th>2</th>\n",
              "      <td>2016-03-14 12:52:21</td>\n",
              "      <td>9800</td>\n",
              "      <td>suv</td>\n",
              "      <td>2004</td>\n",
              "      <td>auto</td>\n",
              "      <td>163</td>\n",
              "      <td>grand</td>\n",
              "      <td>125000</td>\n",
              "      <td>8</td>\n",
              "      <td>gasoline</td>\n",
              "      <td>jeep</td>\n",
              "      <td>NaN</td>\n",
              "      <td>2016-03-14 00:00:00</td>\n",
              "    </tr>\n",
              "    <tr>\n",
              "      <th>3</th>\n",
              "      <td>2016-03-17 16:54:04</td>\n",
              "      <td>1500</td>\n",
              "      <td>small</td>\n",
              "      <td>2001</td>\n",
              "      <td>manual</td>\n",
              "      <td>75</td>\n",
              "      <td>golf</td>\n",
              "      <td>150000</td>\n",
              "      <td>6</td>\n",
              "      <td>petrol</td>\n",
              "      <td>volkswagen</td>\n",
              "      <td>no</td>\n",
              "      <td>2016-03-17 00:00:00</td>\n",
              "    </tr>\n",
              "    <tr>\n",
              "      <th>4</th>\n",
              "      <td>2016-03-31 17:25:20</td>\n",
              "      <td>3600</td>\n",
              "      <td>small</td>\n",
              "      <td>2008</td>\n",
              "      <td>manual</td>\n",
              "      <td>69</td>\n",
              "      <td>fabia</td>\n",
              "      <td>90000</td>\n",
              "      <td>7</td>\n",
              "      <td>gasoline</td>\n",
              "      <td>skoda</td>\n",
              "      <td>no</td>\n",
              "      <td>2016-03-31 00:00:00</td>\n",
              "    </tr>\n",
              "    <tr>\n",
              "      <th>5</th>\n",
              "      <td>2016-04-04 17:36:23</td>\n",
              "      <td>650</td>\n",
              "      <td>sedan</td>\n",
              "      <td>1995</td>\n",
              "      <td>manual</td>\n",
              "      <td>102</td>\n",
              "      <td>3er</td>\n",
              "      <td>150000</td>\n",
              "      <td>10</td>\n",
              "      <td>petrol</td>\n",
              "      <td>bmw</td>\n",
              "      <td>yes</td>\n",
              "      <td>2016-04-04 00:00:00</td>\n",
              "    </tr>\n",
              "    <tr>\n",
              "      <th>6</th>\n",
              "      <td>2016-04-01 20:48:51</td>\n",
              "      <td>2200</td>\n",
              "      <td>convertible</td>\n",
              "      <td>2004</td>\n",
              "      <td>manual</td>\n",
              "      <td>109</td>\n",
              "      <td>2_reihe</td>\n",
              "      <td>150000</td>\n",
              "      <td>8</td>\n",
              "      <td>petrol</td>\n",
              "      <td>peugeot</td>\n",
              "      <td>no</td>\n",
              "      <td>2016-04-01 00:00:00</td>\n",
              "    </tr>\n",
              "    <tr>\n",
              "      <th>7</th>\n",
              "      <td>2016-03-21 18:54:38</td>\n",
              "      <td>0</td>\n",
              "      <td>sedan</td>\n",
              "      <td>1980</td>\n",
              "      <td>manual</td>\n",
              "      <td>50</td>\n",
              "      <td>other</td>\n",
              "      <td>40000</td>\n",
              "      <td>7</td>\n",
              "      <td>petrol</td>\n",
              "      <td>volkswagen</td>\n",
              "      <td>no</td>\n",
              "      <td>2016-03-21 00:00:00</td>\n",
              "    </tr>\n",
              "    <tr>\n",
              "      <th>8</th>\n",
              "      <td>2016-04-04 23:42:13</td>\n",
              "      <td>14500</td>\n",
              "      <td>bus</td>\n",
              "      <td>2014</td>\n",
              "      <td>manual</td>\n",
              "      <td>125</td>\n",
              "      <td>c_max</td>\n",
              "      <td>30000</td>\n",
              "      <td>8</td>\n",
              "      <td>petrol</td>\n",
              "      <td>ford</td>\n",
              "      <td>NaN</td>\n",
              "      <td>2016-04-04 00:00:00</td>\n",
              "    </tr>\n",
              "    <tr>\n",
              "      <th>9</th>\n",
              "      <td>2016-03-17 10:53:50</td>\n",
              "      <td>999</td>\n",
              "      <td>small</td>\n",
              "      <td>1998</td>\n",
              "      <td>manual</td>\n",
              "      <td>101</td>\n",
              "      <td>golf</td>\n",
              "      <td>150000</td>\n",
              "      <td>0</td>\n",
              "      <td>NaN</td>\n",
              "      <td>volkswagen</td>\n",
              "      <td>NaN</td>\n",
              "      <td>2016-03-17 00:00:00</td>\n",
              "    </tr>\n",
              "  </tbody>\n",
              "</table>\n",
              "</div>"
            ],
            "text/plain": [
              "           DateCrawled  Price  VehicleType  RegistrationYear Gearbox  Power  \\\n",
              "0  2016-03-24 11:52:17    480          NaN              1993  manual      0   \n",
              "1  2016-03-24 10:58:45  18300        coupe              2011  manual    190   \n",
              "2  2016-03-14 12:52:21   9800          suv              2004    auto    163   \n",
              "3  2016-03-17 16:54:04   1500        small              2001  manual     75   \n",
              "4  2016-03-31 17:25:20   3600        small              2008  manual     69   \n",
              "5  2016-04-04 17:36:23    650        sedan              1995  manual    102   \n",
              "6  2016-04-01 20:48:51   2200  convertible              2004  manual    109   \n",
              "7  2016-03-21 18:54:38      0        sedan              1980  manual     50   \n",
              "8  2016-04-04 23:42:13  14500          bus              2014  manual    125   \n",
              "9  2016-03-17 10:53:50    999        small              1998  manual    101   \n",
              "\n",
              "     Model  Kilometer  RegistrationMonth  FuelType       Brand NotRepaired  \\\n",
              "0     golf     150000                  0    petrol  volkswagen         NaN   \n",
              "1      NaN     125000                  5  gasoline        audi         yes   \n",
              "2    grand     125000                  8  gasoline        jeep         NaN   \n",
              "3     golf     150000                  6    petrol  volkswagen          no   \n",
              "4    fabia      90000                  7  gasoline       skoda          no   \n",
              "5      3er     150000                 10    petrol         bmw         yes   \n",
              "6  2_reihe     150000                  8    petrol     peugeot          no   \n",
              "7    other      40000                  7    petrol  volkswagen          no   \n",
              "8    c_max      30000                  8    petrol        ford         NaN   \n",
              "9     golf     150000                  0       NaN  volkswagen         NaN   \n",
              "\n",
              "           DateCreated  \n",
              "0  2016-03-24 00:00:00  \n",
              "1  2016-03-24 00:00:00  \n",
              "2  2016-03-14 00:00:00  \n",
              "3  2016-03-17 00:00:00  \n",
              "4  2016-03-31 00:00:00  \n",
              "5  2016-04-04 00:00:00  \n",
              "6  2016-04-01 00:00:00  \n",
              "7  2016-03-21 00:00:00  \n",
              "8  2016-04-04 00:00:00  \n",
              "9  2016-03-17 00:00:00  "
            ]
          },
          "execution_count": 48,
          "metadata": {},
          "output_type": "execute_result"
        }
      ],
      "source": [
        "data.head(10)"
      ]
    },
    {
      "cell_type": "code",
      "execution_count": null,
      "metadata": {
        "id": "OnO4FFO8oKTU",
        "outputId": "04497186-9117-4d1c-b309-071e430c1b57"
      },
      "outputs": [
        {
          "data": {
            "text/plain": [
              "Text(0.5, 0, 'Фичи')"
            ]
          },
          "execution_count": 49,
          "metadata": {},
          "output_type": "execute_result"
        },
        {
          "data": {
            "image/png": "[encoded data removed]",
            "text/plain": [
              "<Figure size 720x288 with 1 Axes>"
            ]
          },
          "metadata": {
            "needs_background": "light"
          },
          "output_type": "display_data"
        }
      ],
      "source": [
        "plt.figure(figsize=(10,4))\n",
        "sns.boxplot(data=data)\n",
        "plt.title('Ящик с усами', fontsize=15)\n",
        "plt.xlabel('Фичи', fontsize=12)"
      ]
    },
    {
      "cell_type": "code",
      "execution_count": null,
      "metadata": {
        "id": "3X7-_07_oKTV",
        "outputId": "b783903d-f35e-4fb5-a50f-72638470b3ce"
      },
      "outputs": [
        {
          "data": {
            "text/plain": [
              "<AxesSubplot:>"
            ]
          },
          "execution_count": 50,
          "metadata": {},
          "output_type": "execute_result"
        },
        {
          "data": {
            "image/png": "[encoded data removed]",
            "text/plain": [
              "<Figure size 360x360 with 1 Axes>"
            ]
          },
          "metadata": {
            "needs_background": "light"
          },
          "output_type": "display_data"
        }
      ],
      "source": [
        "plt.figure(figsize=(5,5))\n",
        "sns.boxplot(data=data['Price'])"
      ]
    },
    {
      "cell_type": "code",
      "execution_count": null,
      "metadata": {
        "id": "gVss35pZoKTV",
        "outputId": "485cd943-e3e6-4081-c084-76fa43f7960c"
      },
      "outputs": [
        {
          "data": {
            "text/plain": [
              "10772"
            ]
          },
          "execution_count": 51,
          "metadata": {},
          "output_type": "execute_result"
        }
      ],
      "source": [
        "len(data['Price'].loc[data['Price'] == 0])"
      ]
    },
    {
      "cell_type": "markdown",
      "metadata": {
        "id": "0tXvQULjoKTW"
      },
      "source": [
        "Почти 11 тысяч строк с нулвой ценой."
      ]
    },
    {
      "cell_type": "code",
      "execution_count": null,
      "metadata": {
        "id": "hI3UUmNpoKTX",
        "outputId": "07aa3227-a62d-4c53-f033-bbade8c994bb"
      },
      "outputs": [
        {
          "data": {
            "text/plain": [
              "3.0397692800442475"
            ]
          },
          "execution_count": 52,
          "metadata": {},
          "output_type": "execute_result"
        }
      ],
      "source": [
        "len(data['Price'].loc[data['Price'] == 0])/ len(data) *100"
      ]
    },
    {
      "cell_type": "markdown",
      "metadata": {
        "id": "gHM4bzb3oKTY"
      },
      "source": [
        "Всего 3% данных с нулевым целевым признаком. Уберём эти строки."
      ]
    },
    {
      "cell_type": "code",
      "execution_count": null,
      "metadata": {
        "scrolled": true,
        "id": "mdjK4ILZoKTZ"
      },
      "outputs": [],
      "source": [
        "data = data.drop(data[data.Price <= 0].index)"
      ]
    },
    {
      "cell_type": "code",
      "execution_count": null,
      "metadata": {
        "scrolled": false,
        "id": "GT9_K7A_oKTZ",
        "outputId": "14b8a4af-e71b-416e-e0b5-b5aa3bd9721b"
      },
      "outputs": [
        {
          "data": {
            "text/plain": [
              "0"
            ]
          },
          "execution_count": 54,
          "metadata": {},
          "output_type": "execute_result"
        }
      ],
      "source": [
        "len(data['Price'].loc[data['Price'] == 0])"
      ]
    },
    {
      "cell_type": "code",
      "execution_count": null,
      "metadata": {
        "scrolled": true,
        "id": "ZeCy6aUyoKTa",
        "outputId": "d3d0b36f-ecdd-455a-fc0f-7a4cdd69361c"
      },
      "outputs": [
        {
          "data": {
            "text/plain": [
              "0        36360\n",
              "1           27\n",
              "2            9\n",
              "3            9\n",
              "4           30\n",
              "         ...  \n",
              "17932        1\n",
              "19208        1\n",
              "19211        1\n",
              "19312        1\n",
              "20000        1\n",
              "Name: Power, Length: 701, dtype: int64"
            ]
          },
          "execution_count": 55,
          "metadata": {},
          "output_type": "execute_result"
        }
      ],
      "source": [
        "data['Power'].value_counts().sort_index()"
      ]
    },
    {
      "cell_type": "code",
      "execution_count": null,
      "metadata": {
        "scrolled": true,
        "id": "S7mKs09_oKTb",
        "outputId": "e78e0e3e-a07d-4eac-9296-1ef1a2d14026"
      },
      "outputs": [
        {
          "data": {
            "text/plain": [
              "10.58216457070347"
            ]
          },
          "execution_count": 56,
          "metadata": {},
          "output_type": "execute_result"
        }
      ],
      "source": [
        "len(data['Power'].loc[data['Power'] == 0])/ len(data) *100"
      ]
    },
    {
      "cell_type": "markdown",
      "metadata": {
        "id": "2oakWF6MoKTb"
      },
      "source": [
        "Думаю можно удалить эти 10% "
      ]
    },
    {
      "cell_type": "code",
      "execution_count": null,
      "metadata": {
        "id": "3g2xB_XzoKTc"
      },
      "outputs": [],
      "source": [
        "data = data.drop(data[data.Power <= 0].index)"
      ]
    },
    {
      "cell_type": "code",
      "execution_count": null,
      "metadata": {
        "id": "nFmgKe1koKTc",
        "outputId": "f7a927e0-776a-4d33-821a-c567d5dfe7d8"
      },
      "outputs": [
        {
          "data": {
            "text/plain": [
              "'2016-03-05 14:06:22'"
            ]
          },
          "execution_count": 58,
          "metadata": {},
          "output_type": "execute_result"
        }
      ],
      "source": [
        "data['DateCrawled'].min()"
      ]
    },
    {
      "cell_type": "code",
      "execution_count": null,
      "metadata": {
        "scrolled": true,
        "id": "-nC7t2CpoKTc",
        "outputId": "c8622394-4d6b-4ce1-8604-242ff3a3c51b"
      },
      "outputs": [
        {
          "data": {
            "text/plain": [
              "array([1000, 1234, 1400, 1500, 1600, 1800, 1910, 1923, 1927, 1928, 1929,\n",
              "       1930, 1931, 1932, 1933, 1935, 1936, 1937, 1938, 1940, 1941, 1942,\n",
              "       1943, 1944, 1945, 1947, 1948, 1949, 1950, 1951, 1952, 1953, 1954,\n",
              "       1955, 1956, 1957, 1958, 1959, 1960, 1961, 1962, 1963, 1964, 1965,\n",
              "       1966, 1967, 1968, 1969, 1970, 1971, 1972, 1973, 1974, 1975, 1976,\n",
              "       1977, 1978, 1979, 1980, 1981, 1982, 1983, 1984, 1985, 1986, 1987,\n",
              "       1988, 1989, 1990, 1991, 1992, 1993, 1994, 1995, 1996, 1997, 1998,\n",
              "       1999, 2000, 2001, 2002, 2003, 2004, 2005, 2006, 2007, 2008, 2009,\n",
              "       2010, 2011, 2012, 2013, 2014, 2015, 2016, 2017, 2018, 2019, 2800,\n",
              "       2900, 3000, 4000, 4500, 4800, 5000, 5911, 6000, 6500, 8000, 8200,\n",
              "       9999])"
            ]
          },
          "execution_count": 59,
          "metadata": {},
          "output_type": "execute_result"
        }
      ],
      "source": [
        "data['RegistrationYear'].sort_values().unique()#.value_counts().sort_index()"
      ]
    },
    {
      "cell_type": "code",
      "execution_count": null,
      "metadata": {
        "id": "WtbILqnKoKTd"
      },
      "outputs": [],
      "source": [
        "data = data.drop(data[(data.RegistrationYear < 1910)&(data.RegistrationYear > 2016)].index)"
      ]
    },
    {
      "cell_type": "code",
      "execution_count": null,
      "metadata": {
        "scrolled": true,
        "id": "vv0k8VLQoKTd",
        "outputId": "6b7f637d-858a-40d6-fc90-2727d5479018"
      },
      "outputs": [
        {
          "data": {
            "text/plain": [
              "array([1000, 1234, 1400, 1500, 1600, 1800, 1910, 1923, 1927, 1928, 1929,\n",
              "       1930, 1931, 1932, 1933, 1935, 1936, 1937, 1938, 1940, 1941, 1942,\n",
              "       1943, 1944, 1945, 1947, 1948, 1949, 1950, 1951, 1952, 1953, 1954,\n",
              "       1955, 1956, 1957, 1958, 1959, 1960, 1961, 1962, 1963, 1964, 1965,\n",
              "       1966, 1967, 1968, 1969, 1970, 1971, 1972, 1973, 1974, 1975, 1976,\n",
              "       1977, 1978, 1979, 1980, 1981, 1982, 1983, 1984, 1985, 1986, 1987,\n",
              "       1988, 1989, 1990, 1991, 1992, 1993, 1994, 1995, 1996, 1997, 1998,\n",
              "       1999, 2000, 2001, 2002, 2003, 2004, 2005, 2006, 2007, 2008, 2009,\n",
              "       2010, 2011, 2012, 2013, 2014, 2015, 2016, 2017, 2018, 2019, 2800,\n",
              "       2900, 3000, 4000, 4500, 4800, 5000, 5911, 6000, 6500, 8000, 8200,\n",
              "       9999])"
            ]
          },
          "execution_count": 61,
          "metadata": {},
          "output_type": "execute_result"
        }
      ],
      "source": [
        "data['RegistrationYear'].sort_values().unique()"
      ]
    },
    {
      "cell_type": "markdown",
      "metadata": {
        "id": "VVm5GkkAoKTe"
      },
      "source": [
        "### дубликаты"
      ]
    },
    {
      "cell_type": "code",
      "execution_count": null,
      "metadata": {
        "id": "I-2rtMf9oKTe",
        "outputId": "bac9fa16-a725-4fcd-97ac-97081cfa5f69"
      },
      "outputs": [
        {
          "name": "stdout",
          "output_type": "stream",
          "text": [
            "\n",
            "\n",
            "Повторяющиеся строки : \n",
            "                 DateCrawled  Price VehicleType  RegistrationYear Gearbox  \\\n",
            "116439  2016-03-22 21:58:18   1500       sedan              2001  manual   \n",
            "149164  2016-03-07 12:00:46  10000       wagon              2013  manual   \n",
            "169498  2016-03-15 02:02:43   1600       coupe              1995  manual   \n",
            "171088  2016-03-08 18:42:48   1799       coupe              1999    auto   \n",
            "179521  2016-03-19 13:36:23   8750       small              2012  manual   \n",
            "209732  2016-04-02 10:43:57   1990       coupe              2000  manual   \n",
            "216300  2016-03-21 19:46:53  15299       sedan              2004    auto   \n",
            "231258  2016-03-28 00:56:10   1000       small              2002  manual   \n",
            "232438  2016-03-22 01:51:32   2000       sedan              1999  manual   \n",
            "254900  2016-03-13 17:06:23   9000       coupe              2005    auto   \n",
            "255297  2016-03-19 20:54:35   1450       small              2001  manual   \n",
            "258109  2016-04-03 09:01:15   4699       coupe              2003    auto   \n",
            "265290  2016-03-28 04:02:58   8500       sedan              2003    auto   \n",
            "270999  2016-03-21 10:41:52  10850       wagon              2011  manual   \n",
            "280012  2016-03-23 19:49:39   1300       small              2001  manual   \n",
            "281155  2016-03-08 14:45:27   1200       sedan              1999  manual   \n",
            "296415  2016-03-27 07:36:24   6299         suv              2005  manual   \n",
            "301041  2016-04-06 07:25:35   8500       coupe              1991    auto   \n",
            "303629  2016-03-05 14:13:35    800       wagon              1997  manual   \n",
            "318343  2016-03-24 19:37:21   9500       other              1979    auto   \n",
            "324379  2016-03-21 14:49:04  10000       wagon              2013  manual   \n",
            "325651  2016-03-18 18:46:15   1999       wagon              2001  manual   \n",
            "330552  2016-03-18 00:25:27   6650       wagon              2005  manual   \n",
            "344575  2016-03-06 11:48:38  10000       wagon              2013  manual   \n",
            "353057  2016-03-05 14:16:07   9500       small              2013  manual   \n",
            "\n",
            "        Power      Model  Kilometer  RegistrationMonth  FuelType  \\\n",
            "116439    116      stilo     150000                 11  gasoline   \n",
            "149164    184       golf      60000                  7  gasoline   \n",
            "169498    139      other     150000                  6    petrol   \n",
            "171088    193        clk      20000                  7    petrol   \n",
            "179521     69       polo      40000                  8    petrol   \n",
            "209732    125      other     150000                  6    petrol   \n",
            "216300    367   c_klasse     150000                  9    petrol   \n",
            "231258     83      other     150000                  1    petrol   \n",
            "232438    150        3er     150000                 11    petrol   \n",
            "254900    218  crossfire      60000                  3    petrol   \n",
            "255297    107       clio     150000                 12    petrol   \n",
            "258109    218        clk     125000                  6    petrol   \n",
            "265290    218        5er     150000                  6  gasoline   \n",
            "270999    122    octavia      80000                  5    petrol   \n",
            "280012     75     twingo     150000                  8    petrol   \n",
            "281155     75       golf     150000                 11    petrol   \n",
            "296415    141     tucson      60000                  8    petrol   \n",
            "301041    220   e_klasse     150000                  7    petrol   \n",
            "303629     90       golf     150000                  1  gasoline   \n",
            "318343    156      other     150000                  2    petrol   \n",
            "324379    184       golf      60000                  2  gasoline   \n",
            "325651    131     passat     150000                  7  gasoline   \n",
            "330552    140         a6      90000                 12  gasoline   \n",
            "344575    184       golf      60000                  7  gasoline   \n",
            "353057    105      ibiza      40000                  5    petrol   \n",
            "\n",
            "                Brand NotRepaired          DateCreated  \n",
            "116439           fiat          no  2016-03-22 00:00:00  \n",
            "149164     volkswagen          no  2016-03-07 00:00:00  \n",
            "169498           fiat          no  2016-03-15 00:00:00  \n",
            "171088  mercedes_benz          no  2016-03-08 00:00:00  \n",
            "179521     volkswagen          no  2016-03-19 00:00:00  \n",
            "209732           ford          no  2016-04-02 00:00:00  \n",
            "216300  mercedes_benz          no  2016-03-21 00:00:00  \n",
            "231258         suzuki          no  2016-03-28 00:00:00  \n",
            "232438            bmw          no  2016-03-22 00:00:00  \n",
            "254900       chrysler          no  2016-03-13 00:00:00  \n",
            "255297        renault          no  2016-03-19 00:00:00  \n",
            "258109  mercedes_benz         yes  2016-04-03 00:00:00  \n",
            "265290            bmw          no  2016-03-28 00:00:00  \n",
            "270999          skoda          no  2016-03-21 00:00:00  \n",
            "280012        renault          no  2016-03-23 00:00:00  \n",
            "281155     volkswagen          no  2016-03-08 00:00:00  \n",
            "296415        hyundai          no  2016-03-27 00:00:00  \n",
            "301041  mercedes_benz          no  2016-04-06 00:00:00  \n",
            "303629     volkswagen          no  2016-03-03 00:00:00  \n",
            "318343  mercedes_benz          no  2016-03-24 00:00:00  \n",
            "324379     volkswagen          no  2016-03-21 00:00:00  \n",
            "325651     volkswagen          no  2016-03-18 00:00:00  \n",
            "330552           audi          no  2016-03-17 00:00:00  \n",
            "344575     volkswagen          no  2016-03-06 00:00:00  \n",
            "353057           seat          no  2016-03-04 00:00:00  \n"
          ]
        }
      ],
      "source": [
        "Dup_Rows = data[data.duplicated()]\n",
        "print(\"\\n\\nПовторяющиеся строки : \\n {}\".format(Dup_Rows))"
      ]
    },
    {
      "cell_type": "code",
      "execution_count": null,
      "metadata": {
        "id": "Gg_iNIUcoKTe"
      },
      "outputs": [],
      "source": [
        "data.drop_duplicates(inplace = True)"
      ]
    },
    {
      "cell_type": "code",
      "execution_count": null,
      "metadata": {
        "scrolled": true,
        "id": "vkCVXGhroKTf",
        "outputId": "b31addcd-6a2b-4db9-f10b-1435b3ef04eb"
      },
      "outputs": [
        {
          "name": "stdout",
          "output_type": "stream",
          "text": [
            "\n",
            "\n",
            "Повторяющиеся строки : \n",
            " Empty DataFrame\n",
            "Columns: [DateCrawled, Price, VehicleType, RegistrationYear, Gearbox, Power, Model, Kilometer, RegistrationMonth, FuelType, Brand, NotRepaired, DateCreated]\n",
            "Index: []\n"
          ]
        }
      ],
      "source": [
        "Dup_Rows = data[data.duplicated()]\n",
        "print(\"\\n\\nПовторяющиеся строки : \\n {}\".format(Dup_Rows))"
      ]
    },
    {
      "cell_type": "code",
      "execution_count": null,
      "metadata": {
        "id": "7LZOk1qfoKTf",
        "outputId": "995a554a-7aaa-4797-c7e0-1d56d27826db"
      },
      "outputs": [
        {
          "data": {
            "text/plain": [
              "array(['100', '145', '147', '156', '159', '1_reihe', '1er', '200',\n",
              "       '2_reihe', '300c', '3_reihe', '3er', '4_reihe', '500', '5_reihe',\n",
              "       '5er', '601', '6_reihe', '6er', '7er', '80', '850', '90', '900',\n",
              "       '9000', '911', 'a1', 'a2', 'a3', 'a4', 'a5', 'a6', 'a8',\n",
              "       'a_klasse', 'accord', 'agila', 'alhambra', 'almera', 'altea',\n",
              "       'amarok', 'antara', 'arosa', 'astra', 'auris', 'avensis', 'aveo',\n",
              "       'aygo', 'b_klasse', 'b_max', 'beetle', 'berlingo', 'bora',\n",
              "       'boxster', 'bravo', 'c1', 'c2', 'c3', 'c4', 'c5', 'c_klasse',\n",
              "       'c_max', 'c_reihe', 'caddy', 'calibra', 'captiva', 'carisma',\n",
              "       'carnival', 'cayenne', 'cc', 'ceed', 'charade', 'cherokee',\n",
              "       'citigo', 'civic', 'cl', 'clio', 'clk', 'clubman', 'colt', 'combo',\n",
              "       'cooper', 'cordoba', 'corolla', 'corsa', 'cr_reihe', 'croma',\n",
              "       'crossfire', 'cuore', 'cx_reihe', 'defender', 'delta', 'discovery',\n",
              "       'doblo', 'ducato', 'duster', 'e_klasse', 'elefantino', 'eos',\n",
              "       'escort', 'espace', 'exeo', 'fabia', 'fiesta', 'focus', 'forester',\n",
              "       'forfour', 'fortwo', 'fox', 'freelander', 'fusion', 'g_klasse',\n",
              "       'galant', 'galaxy', 'getz', 'gl', 'glk', 'golf', 'grand', 'i3',\n",
              "       'i_reihe', 'ibiza', 'impreza', 'insignia', 'jazz', 'jetta',\n",
              "       'jimny', 'juke', 'justy', 'ka', 'kadett', 'kaefer', 'kalina',\n",
              "       'kalos', 'kangoo', 'kappa', 'kuga', 'laguna', 'lancer', 'lanos',\n",
              "       'legacy', 'leon', 'lodgy', 'logan', 'lupo', 'lybra', 'm_klasse',\n",
              "       'm_reihe', 'materia', 'matiz', 'megane', 'meriva', 'micra', 'mii',\n",
              "       'modus', 'mondeo', 'move', 'musa', 'mustang', 'mx_reihe', 'navara',\n",
              "       'niva', 'note', 'nubira', 'octavia', 'omega', 'one', 'other',\n",
              "       'outlander', 'pajero', 'panda', 'passat', 'phaeton', 'picanto',\n",
              "       'polo', 'primera', 'ptcruiser', 'punto', 'q3', 'q5', 'q7',\n",
              "       'qashqai', 'r19', 'range_rover', 'range_rover_evoque',\n",
              "       'range_rover_sport', 'rangerover', 'rav', 'rio', 'roadster',\n",
              "       'roomster', 'rx_reihe', 's60', 's_klasse', 's_max', 's_type',\n",
              "       'samara', 'sandero', 'santa', 'scenic', 'scirocco', 'seicento',\n",
              "       'serie_2', 'serie_3', 'sharan', 'signum', 'sirion', 'sl', 'slk',\n",
              "       'sorento', 'spark', 'spider', 'sportage', 'sprinter', 'stilo',\n",
              "       'superb', 'swift', 'terios', 'tigra', 'tiguan', 'toledo',\n",
              "       'touareg', 'touran', 'transit', 'transporter', 'tt', 'tucson',\n",
              "       'twingo', 'up', 'v40', 'v50', 'v60', 'v70', 'v_klasse', 'vectra',\n",
              "       'verso', 'viano', 'vito', 'vivaro', 'voyager', 'wrangler',\n",
              "       'x_reihe', 'x_trail', 'x_type', 'xc_reihe', 'yaris', 'yeti',\n",
              "       'ypsilon', 'z_reihe', 'zafira', nan], dtype=object)"
            ]
          },
          "execution_count": 65,
          "metadata": {},
          "output_type": "execute_result"
        }
      ],
      "source": [
        "data['Model'].sort_values().unique()"
      ]
    },
    {
      "cell_type": "code",
      "execution_count": null,
      "metadata": {
        "id": "5-V11d22oKTf",
        "outputId": "6ea02f65-bbb6-4fd0-86c1-aed35af549d2"
      },
      "outputs": [
        {
          "data": {
            "text/plain": [
              "69"
            ]
          },
          "execution_count": 66,
          "metadata": {},
          "output_type": "execute_result"
        }
      ],
      "source": [
        "len(data['Model'].loc[data['Model'] == 'range_rover'])"
      ]
    },
    {
      "cell_type": "code",
      "execution_count": null,
      "metadata": {
        "id": "Xu7UlKtgoKTg",
        "outputId": "d9b8068d-a2d9-4781-d4c8-23f9202c382e"
      },
      "outputs": [
        {
          "data": {
            "text/plain": [
              "3"
            ]
          },
          "execution_count": 67,
          "metadata": {},
          "output_type": "execute_result"
        }
      ],
      "source": [
        "len(data['Model'].loc[data['Model'] == 'rangerover']) "
      ]
    },
    {
      "cell_type": "code",
      "execution_count": null,
      "metadata": {
        "id": "sCtSLHn8oKTg"
      },
      "outputs": [],
      "source": [
        "data.loc[data['Model'] == 'rangerover','Model'] = 'range_rover'"
      ]
    },
    {
      "cell_type": "code",
      "execution_count": null,
      "metadata": {
        "scrolled": true,
        "id": "gqMV0hsdoKTh",
        "outputId": "8f12db3c-d119-43ed-9a18-cfe74eb1e167"
      },
      "outputs": [
        {
          "data": {
            "text/plain": [
              "0"
            ]
          },
          "execution_count": 69,
          "metadata": {},
          "output_type": "execute_result"
        }
      ],
      "source": [
        "len(data['Model'].loc[data['Model'] == 'rangerover']) "
      ]
    },
    {
      "cell_type": "code",
      "execution_count": null,
      "metadata": {
        "id": "HmKeLhwQoKTh"
      },
      "outputs": [],
      "source": [
        "data.drop(['DateCrawled','DateCreated'], axis=1, inplace=True)"
      ]
    },
    {
      "cell_type": "markdown",
      "metadata": {
        "id": "CWU7Fvk3oKTj"
      },
      "source": [
        "### Кодирование данных"
      ]
    },
    {
      "cell_type": "code",
      "execution_count": null,
      "metadata": {
        "id": "txSKxUm7oKTk"
      },
      "outputs": [],
      "source": [
        "data = pd.get_dummies(data, drop_first=True)"
      ]
    },
    {
      "cell_type": "code",
      "execution_count": null,
      "metadata": {
        "id": "NYm0toSJoKTk",
        "outputId": "338df0fa-7447-48e9-a189-77801ae9b299"
      },
      "outputs": [
        {
          "data": {
            "text/html": [
              "<div>\n",
              "<style scoped>\n",
              "    .dataframe tbody tr th:only-of-type {\n",
              "        vertical-align: middle;\n",
              "    }\n",
              "\n",
              "    .dataframe tbody tr th {\n",
              "        vertical-align: top;\n",
              "    }\n",
              "\n",
              "    .dataframe thead th {\n",
              "        text-align: right;\n",
              "    }\n",
              "</style>\n",
              "<table border=\"1\" class=\"dataframe\">\n",
              "  <thead>\n",
              "    <tr style=\"text-align: right;\">\n",
              "      <th></th>\n",
              "      <th>Price</th>\n",
              "      <th>RegistrationYear</th>\n",
              "      <th>Power</th>\n",
              "      <th>Kilometer</th>\n",
              "      <th>RegistrationMonth</th>\n",
              "      <th>VehicleType_convertible</th>\n",
              "      <th>VehicleType_coupe</th>\n",
              "      <th>VehicleType_other</th>\n",
              "      <th>VehicleType_sedan</th>\n",
              "      <th>VehicleType_small</th>\n",
              "      <th>...</th>\n",
              "      <th>Brand_skoda</th>\n",
              "      <th>Brand_smart</th>\n",
              "      <th>Brand_sonstige_autos</th>\n",
              "      <th>Brand_subaru</th>\n",
              "      <th>Brand_suzuki</th>\n",
              "      <th>Brand_toyota</th>\n",
              "      <th>Brand_trabant</th>\n",
              "      <th>Brand_volkswagen</th>\n",
              "      <th>Brand_volvo</th>\n",
              "      <th>NotRepaired_yes</th>\n",
              "    </tr>\n",
              "  </thead>\n",
              "  <tbody>\n",
              "    <tr>\n",
              "      <th>1</th>\n",
              "      <td>18300</td>\n",
              "      <td>2011</td>\n",
              "      <td>190</td>\n",
              "      <td>125000</td>\n",
              "      <td>5</td>\n",
              "      <td>0</td>\n",
              "      <td>1</td>\n",
              "      <td>0</td>\n",
              "      <td>0</td>\n",
              "      <td>0</td>\n",
              "      <td>...</td>\n",
              "      <td>0</td>\n",
              "      <td>0</td>\n",
              "      <td>0</td>\n",
              "      <td>0</td>\n",
              "      <td>0</td>\n",
              "      <td>0</td>\n",
              "      <td>0</td>\n",
              "      <td>0</td>\n",
              "      <td>0</td>\n",
              "      <td>1</td>\n",
              "    </tr>\n",
              "    <tr>\n",
              "      <th>2</th>\n",
              "      <td>9800</td>\n",
              "      <td>2004</td>\n",
              "      <td>163</td>\n",
              "      <td>125000</td>\n",
              "      <td>8</td>\n",
              "      <td>0</td>\n",
              "      <td>0</td>\n",
              "      <td>0</td>\n",
              "      <td>0</td>\n",
              "      <td>0</td>\n",
              "      <td>...</td>\n",
              "      <td>0</td>\n",
              "      <td>0</td>\n",
              "      <td>0</td>\n",
              "      <td>0</td>\n",
              "      <td>0</td>\n",
              "      <td>0</td>\n",
              "      <td>0</td>\n",
              "      <td>0</td>\n",
              "      <td>0</td>\n",
              "      <td>0</td>\n",
              "    </tr>\n",
              "    <tr>\n",
              "      <th>3</th>\n",
              "      <td>1500</td>\n",
              "      <td>2001</td>\n",
              "      <td>75</td>\n",
              "      <td>150000</td>\n",
              "      <td>6</td>\n",
              "      <td>0</td>\n",
              "      <td>0</td>\n",
              "      <td>0</td>\n",
              "      <td>0</td>\n",
              "      <td>1</td>\n",
              "      <td>...</td>\n",
              "      <td>0</td>\n",
              "      <td>0</td>\n",
              "      <td>0</td>\n",
              "      <td>0</td>\n",
              "      <td>0</td>\n",
              "      <td>0</td>\n",
              "      <td>0</td>\n",
              "      <td>1</td>\n",
              "      <td>0</td>\n",
              "      <td>0</td>\n",
              "    </tr>\n",
              "    <tr>\n",
              "      <th>4</th>\n",
              "      <td>3600</td>\n",
              "      <td>2008</td>\n",
              "      <td>69</td>\n",
              "      <td>90000</td>\n",
              "      <td>7</td>\n",
              "      <td>0</td>\n",
              "      <td>0</td>\n",
              "      <td>0</td>\n",
              "      <td>0</td>\n",
              "      <td>1</td>\n",
              "      <td>...</td>\n",
              "      <td>1</td>\n",
              "      <td>0</td>\n",
              "      <td>0</td>\n",
              "      <td>0</td>\n",
              "      <td>0</td>\n",
              "      <td>0</td>\n",
              "      <td>0</td>\n",
              "      <td>0</td>\n",
              "      <td>0</td>\n",
              "      <td>0</td>\n",
              "    </tr>\n",
              "    <tr>\n",
              "      <th>5</th>\n",
              "      <td>650</td>\n",
              "      <td>1995</td>\n",
              "      <td>102</td>\n",
              "      <td>150000</td>\n",
              "      <td>10</td>\n",
              "      <td>0</td>\n",
              "      <td>0</td>\n",
              "      <td>0</td>\n",
              "      <td>1</td>\n",
              "      <td>0</td>\n",
              "      <td>...</td>\n",
              "      <td>0</td>\n",
              "      <td>0</td>\n",
              "      <td>0</td>\n",
              "      <td>0</td>\n",
              "      <td>0</td>\n",
              "      <td>0</td>\n",
              "      <td>0</td>\n",
              "      <td>0</td>\n",
              "      <td>0</td>\n",
              "      <td>1</td>\n",
              "    </tr>\n",
              "    <tr>\n",
              "      <th>...</th>\n",
              "      <td>...</td>\n",
              "      <td>...</td>\n",
              "      <td>...</td>\n",
              "      <td>...</td>\n",
              "      <td>...</td>\n",
              "      <td>...</td>\n",
              "      <td>...</td>\n",
              "      <td>...</td>\n",
              "      <td>...</td>\n",
              "      <td>...</td>\n",
              "      <td>...</td>\n",
              "      <td>...</td>\n",
              "      <td>...</td>\n",
              "      <td>...</td>\n",
              "      <td>...</td>\n",
              "      <td>...</td>\n",
              "      <td>...</td>\n",
              "      <td>...</td>\n",
              "      <td>...</td>\n",
              "      <td>...</td>\n",
              "      <td>...</td>\n",
              "    </tr>\n",
              "    <tr>\n",
              "      <th>354361</th>\n",
              "      <td>5250</td>\n",
              "      <td>2016</td>\n",
              "      <td>150</td>\n",
              "      <td>150000</td>\n",
              "      <td>12</td>\n",
              "      <td>0</td>\n",
              "      <td>0</td>\n",
              "      <td>0</td>\n",
              "      <td>0</td>\n",
              "      <td>0</td>\n",
              "      <td>...</td>\n",
              "      <td>0</td>\n",
              "      <td>0</td>\n",
              "      <td>0</td>\n",
              "      <td>0</td>\n",
              "      <td>0</td>\n",
              "      <td>0</td>\n",
              "      <td>0</td>\n",
              "      <td>0</td>\n",
              "      <td>0</td>\n",
              "      <td>0</td>\n",
              "    </tr>\n",
              "    <tr>\n",
              "      <th>354362</th>\n",
              "      <td>3200</td>\n",
              "      <td>2004</td>\n",
              "      <td>225</td>\n",
              "      <td>150000</td>\n",
              "      <td>5</td>\n",
              "      <td>0</td>\n",
              "      <td>0</td>\n",
              "      <td>0</td>\n",
              "      <td>1</td>\n",
              "      <td>0</td>\n",
              "      <td>...</td>\n",
              "      <td>0</td>\n",
              "      <td>0</td>\n",
              "      <td>0</td>\n",
              "      <td>0</td>\n",
              "      <td>0</td>\n",
              "      <td>0</td>\n",
              "      <td>0</td>\n",
              "      <td>0</td>\n",
              "      <td>0</td>\n",
              "      <td>1</td>\n",
              "    </tr>\n",
              "    <tr>\n",
              "      <th>354366</th>\n",
              "      <td>1199</td>\n",
              "      <td>2000</td>\n",
              "      <td>101</td>\n",
              "      <td>125000</td>\n",
              "      <td>3</td>\n",
              "      <td>1</td>\n",
              "      <td>0</td>\n",
              "      <td>0</td>\n",
              "      <td>0</td>\n",
              "      <td>0</td>\n",
              "      <td>...</td>\n",
              "      <td>0</td>\n",
              "      <td>1</td>\n",
              "      <td>0</td>\n",
              "      <td>0</td>\n",
              "      <td>0</td>\n",
              "      <td>0</td>\n",
              "      <td>0</td>\n",
              "      <td>0</td>\n",
              "      <td>0</td>\n",
              "      <td>0</td>\n",
              "    </tr>\n",
              "    <tr>\n",
              "      <th>354367</th>\n",
              "      <td>9200</td>\n",
              "      <td>1996</td>\n",
              "      <td>102</td>\n",
              "      <td>150000</td>\n",
              "      <td>3</td>\n",
              "      <td>0</td>\n",
              "      <td>0</td>\n",
              "      <td>0</td>\n",
              "      <td>0</td>\n",
              "      <td>0</td>\n",
              "      <td>...</td>\n",
              "      <td>0</td>\n",
              "      <td>0</td>\n",
              "      <td>0</td>\n",
              "      <td>0</td>\n",
              "      <td>0</td>\n",
              "      <td>0</td>\n",
              "      <td>0</td>\n",
              "      <td>1</td>\n",
              "      <td>0</td>\n",
              "      <td>0</td>\n",
              "    </tr>\n",
              "    <tr>\n",
              "      <th>354368</th>\n",
              "      <td>3400</td>\n",
              "      <td>2002</td>\n",
              "      <td>100</td>\n",
              "      <td>150000</td>\n",
              "      <td>6</td>\n",
              "      <td>0</td>\n",
              "      <td>0</td>\n",
              "      <td>0</td>\n",
              "      <td>0</td>\n",
              "      <td>0</td>\n",
              "      <td>...</td>\n",
              "      <td>0</td>\n",
              "      <td>0</td>\n",
              "      <td>0</td>\n",
              "      <td>0</td>\n",
              "      <td>0</td>\n",
              "      <td>0</td>\n",
              "      <td>0</td>\n",
              "      <td>1</td>\n",
              "      <td>0</td>\n",
              "      <td>0</td>\n",
              "    </tr>\n",
              "  </tbody>\n",
              "</table>\n",
              "<p>307212 rows × 306 columns</p>\n",
              "</div>"
            ],
            "text/plain": [
              "        Price  RegistrationYear  Power  Kilometer  RegistrationMonth  \\\n",
              "1       18300              2011    190     125000                  5   \n",
              "2        9800              2004    163     125000                  8   \n",
              "3        1500              2001     75     150000                  6   \n",
              "4        3600              2008     69      90000                  7   \n",
              "5         650              1995    102     150000                 10   \n",
              "...       ...               ...    ...        ...                ...   \n",
              "354361   5250              2016    150     150000                 12   \n",
              "354362   3200              2004    225     150000                  5   \n",
              "354366   1199              2000    101     125000                  3   \n",
              "354367   9200              1996    102     150000                  3   \n",
              "354368   3400              2002    100     150000                  6   \n",
              "\n",
              "        VehicleType_convertible  VehicleType_coupe  VehicleType_other  \\\n",
              "1                             0                  1                  0   \n",
              "2                             0                  0                  0   \n",
              "3                             0                  0                  0   \n",
              "4                             0                  0                  0   \n",
              "5                             0                  0                  0   \n",
              "...                         ...                ...                ...   \n",
              "354361                        0                  0                  0   \n",
              "354362                        0                  0                  0   \n",
              "354366                        1                  0                  0   \n",
              "354367                        0                  0                  0   \n",
              "354368                        0                  0                  0   \n",
              "\n",
              "        VehicleType_sedan  VehicleType_small  ...  Brand_skoda  Brand_smart  \\\n",
              "1                       0                  0  ...            0            0   \n",
              "2                       0                  0  ...            0            0   \n",
              "3                       0                  1  ...            0            0   \n",
              "4                       0                  1  ...            1            0   \n",
              "5                       1                  0  ...            0            0   \n",
              "...                   ...                ...  ...          ...          ...   \n",
              "354361                  0                  0  ...            0            0   \n",
              "354362                  1                  0  ...            0            0   \n",
              "354366                  0                  0  ...            0            1   \n",
              "354367                  0                  0  ...            0            0   \n",
              "354368                  0                  0  ...            0            0   \n",
              "\n",
              "        Brand_sonstige_autos  Brand_subaru  Brand_suzuki  Brand_toyota  \\\n",
              "1                          0             0             0             0   \n",
              "2                          0             0             0             0   \n",
              "3                          0             0             0             0   \n",
              "4                          0             0             0             0   \n",
              "5                          0             0             0             0   \n",
              "...                      ...           ...           ...           ...   \n",
              "354361                     0             0             0             0   \n",
              "354362                     0             0             0             0   \n",
              "354366                     0             0             0             0   \n",
              "354367                     0             0             0             0   \n",
              "354368                     0             0             0             0   \n",
              "\n",
              "        Brand_trabant  Brand_volkswagen  Brand_volvo  NotRepaired_yes  \n",
              "1                   0                 0            0                1  \n",
              "2                   0                 0            0                0  \n",
              "3                   0                 1            0                0  \n",
              "4                   0                 0            0                0  \n",
              "5                   0                 0            0                1  \n",
              "...               ...               ...          ...              ...  \n",
              "354361              0                 0            0                0  \n",
              "354362              0                 0            0                1  \n",
              "354366              0                 0            0                0  \n",
              "354367              0                 1            0                0  \n",
              "354368              0                 1            0                0  \n",
              "\n",
              "[307212 rows x 306 columns]"
            ]
          },
          "execution_count": 72,
          "metadata": {},
          "output_type": "execute_result"
        }
      ],
      "source": [
        "data"
      ]
    },
    {
      "cell_type": "markdown",
      "metadata": {
        "id": "FKyvo3iUoKTl"
      },
      "source": [
        "## Обучение моделей"
      ]
    },
    {
      "cell_type": "markdown",
      "metadata": {
        "id": "Qn-UNrT5oKTl"
      },
      "source": [
        "### Простая линейная регрессия."
      ]
    },
    {
      "cell_type": "markdown",
      "metadata": {
        "id": "NZ-W9g1NoKTl"
      },
      "source": [
        "Разделим на выборки."
      ]
    },
    {
      "cell_type": "code",
      "execution_count": null,
      "metadata": {
        "id": "hrjjRL9XoKTl"
      },
      "outputs": [],
      "source": [
        "target = data['Price']\n",
        "features = data.drop(['Price'] , axis=1)"
      ]
    },
    {
      "cell_type": "code",
      "execution_count": null,
      "metadata": {
        "id": "m696QOK1oKTm"
      },
      "outputs": [],
      "source": [
        "features_train, features_valid, target_train, target_valid = train_test_split(features, target, test_size=0.25, random_state=12345) "
      ]
    },
    {
      "cell_type": "markdown",
      "metadata": {
        "id": "KCGFuKzSoKTn"
      },
      "source": [
        "### Масштабирование"
      ]
    },
    {
      "cell_type": "code",
      "execution_count": null,
      "metadata": {
        "id": "5FnC4RPsoKTn"
      },
      "outputs": [],
      "source": [
        "numeric = ['Power','Kilometer']"
      ]
    },
    {
      "cell_type": "code",
      "execution_count": null,
      "metadata": {
        "id": "M6CxgGsooKTn",
        "outputId": "c283e34f-42bb-4dfc-ef14-c830aee1ae1c"
      },
      "outputs": [
        {
          "data": {
            "text/plain": [
              "StandardScaler()"
            ]
          },
          "execution_count": 76,
          "metadata": {},
          "output_type": "execute_result"
        }
      ],
      "source": [
        "scaler = StandardScaler()\n",
        "scaler.fit(features_train[numeric])"
      ]
    },
    {
      "cell_type": "code",
      "execution_count": null,
      "metadata": {
        "id": "8CHj51RfoKTo"
      },
      "outputs": [],
      "source": [
        "pd.options.mode.chained_assignment = None\n",
        "features_train[numeric] = scaler.transform(features_train[numeric])\n",
        "features_valid[numeric] = scaler.transform(features_valid[numeric]) "
      ]
    },
    {
      "cell_type": "code",
      "execution_count": null,
      "metadata": {
        "id": "7FiabR5joKTo"
      },
      "outputs": [],
      "source": [
        "def linear(feature,target,test_target):\n",
        "    model = LinearRegression()\n",
        "    model.fit(feature, target)\n",
        "    \n",
        "    start = time.time()\n",
        "    predict = model.predict(features_valid)\n",
        "    end = time.time()\n",
        "    print('Время предсказания',end - start)\n",
        "    \n",
        "    RMSE = mean_squared_error(target_valid, predict)**0.5\n",
        "    print('RMSE',RMSE)\n",
        "    #return[model,predict]"
      ]
    },
    {
      "cell_type": "code",
      "execution_count": null,
      "metadata": {
        "scrolled": true,
        "id": "KfBOwMOIoKTp",
        "outputId": "4bbc899f-f9ec-4556-fea6-ce76bd5ad55d"
      },
      "outputs": [
        {
          "name": "stdout",
          "output_type": "stream",
          "text": [
            "Время предсказания 0.19575715065002441\n",
            "RMSE 3184.0839460139027\n",
            "CPU times: user 16.6 s, sys: 5.89 s, total: 22.5 s\n",
            "Wall time: 22.5 s\n"
          ]
        }
      ],
      "source": [
        "%%time\n",
        "linear(features_train,target_train,target_valid)"
      ]
    },
    {
      "cell_type": "markdown",
      "metadata": {
        "id": "uuQq1mZCoKTq"
      },
      "source": [
        "RMSE 3206 - это нам не подходит. Едем дальше."
      ]
    },
    {
      "cell_type": "markdown",
      "metadata": {
        "id": "oQI7_GJAoKTq"
      },
      "source": [
        "RMSE 3184 - после скалирования"
      ]
    },
    {
      "cell_type": "markdown",
      "metadata": {
        "id": "iX-yvVhLoKTr"
      },
      "source": [
        "### XGBoost"
      ]
    },
    {
      "cell_type": "code",
      "execution_count": null,
      "metadata": {
        "id": "ATE3Y9GvoKTr"
      },
      "outputs": [],
      "source": [
        "def XGBRegressor(feature,target,test_target):\n",
        "    model = xgb.XGBRegressor(n_estimators=10,max_depth=7)\n",
        "    model.fit(feature, target)\n",
        "    start = time.time()\n",
        "    predict = model.predict(features_valid)\n",
        "    end = time.time()\n",
        "    print('Время предсказания',end - start)\n",
        "    RMSE = mean_squared_error(target_valid, predict)**0.5\n",
        "    print('RMSE',RMSE)"
      ]
    },
    {
      "cell_type": "code",
      "execution_count": null,
      "metadata": {
        "scrolled": false,
        "id": "_EyKhaczoKTs",
        "outputId": "2ceb538e-fa78-42e4-92d7-c9527761f716"
      },
      "outputs": [
        {
          "name": "stdout",
          "output_type": "stream",
          "text": [
            "Время предсказания 0.8863637447357178\n",
            "RMSE 1845.5444837614139\n",
            "CPU times: user 58.3 s, sys: 759 ms, total: 59.1 s\n",
            "Wall time: 59.1 s\n"
          ]
        }
      ],
      "source": [
        "%%time\n",
        "XGBRegressor(features_train,target_train,target_valid)"
      ]
    },
    {
      "cell_type": "markdown",
      "metadata": {
        "id": "9A-7J7LPoKTs"
      },
      "source": [
        "RMSE 1899.0097913587113 - Что выполняет условия задачи, а так же на обучение затрачено меньше минуты."
      ]
    },
    {
      "cell_type": "markdown",
      "metadata": {
        "id": "XpVxgQKCoKTs"
      },
      "source": [
        "RMSE 1845.5444837614139 - после скалирования, Время предсказания 0.88"
      ]
    },
    {
      "cell_type": "markdown",
      "metadata": {
        "id": "xW3JTptjoKTt"
      },
      "source": [
        "### LightGBM"
      ]
    },
    {
      "cell_type": "code",
      "execution_count": null,
      "metadata": {
        "id": "ldey7CYGoKTt"
      },
      "outputs": [],
      "source": [
        "def LGBMRegressor(feature,target,test_target):\n",
        "    model = lgb.LGBMRegressor()\n",
        "    clf = GridSearchCV(model, {'max_depth': [1, 10, 1],\n",
        "                               'n_estimators': [1, 50, 5]}, verbose=1,\n",
        "                                scoring='neg_root_mean_squared_error')\n",
        "                                                                    \n",
        "    clf.fit(feature, target)\n",
        "    predict = clf.predict(features_valid)\n",
        "    \n",
        "    RMSE = mean_squared_error(target_valid, predict)**0.5\n",
        "    print('RMSE',RMSE)\n",
        "    print(clf.best_score_)\n",
        "    print(clf.best_params_)"
      ]
    },
    {
      "cell_type": "code",
      "execution_count": null,
      "metadata": {
        "id": "bOmoBwQloKTu",
        "outputId": "b01b5d14-3426-47d7-9e4a-adae2e205682"
      },
      "outputs": [
        {
          "name": "stdout",
          "output_type": "stream",
          "text": [
            "Fitting 5 folds for each of 9 candidates, totalling 45 fits\n",
            "RMSE 1856.8793773661555\n",
            "0.8294714914262407\n",
            "{'max_depth': 10, 'n_estimators': 50}\n",
            "CPU times: user 23min 51s, sys: 29.8 s, total: 24min 21s\n",
            "Wall time: 24min 30s\n"
          ]
        }
      ],
      "source": [
        "%%time\n",
        "LGBMRegressor(features_train,target_train,target_valid)"
      ]
    },
    {
      "cell_type": "markdown",
      "metadata": {
        "id": "yFqG3O4WoKTv"
      },
      "source": [
        "C аналогичными настройками LightGBM выдает RMSE 2678.299401101266."
      ]
    },
    {
      "cell_type": "markdown",
      "metadata": {
        "id": "L3SwjU0yoKTv"
      },
      "source": [
        "{'max_depth': 10, 'n_estimators': 50} - лучшие параметры. но это не предел"
      ]
    },
    {
      "cell_type": "code",
      "execution_count": null,
      "metadata": {
        "id": "1W2VKs8voKTv"
      },
      "outputs": [],
      "source": [
        "def LGBMRegressor_2(feature,target,test_target):\n",
        "    model = lgb.LGBMRegressor()  \n",
        "    model.fit(feature, target)\n",
        "    start = time.time()\n",
        "    predict = model.predict(features_valid)\n",
        "    end = time.time()\n",
        "    print('Время предсказания',end - start)\n",
        "    \n",
        "    RMSE = mean_squared_error(target_valid, predict)**0.5\n",
        "    print('RMSE',RMSE)"
      ]
    },
    {
      "cell_type": "code",
      "execution_count": null,
      "metadata": {
        "id": "NTLWJou6oKTw",
        "outputId": "3137b5b6-7ded-4cfc-995e-c47acfbe3a4e"
      },
      "outputs": [
        {
          "name": "stdout",
          "output_type": "stream",
          "text": [
            "Время предсказания 0.9983413219451904\n",
            "RMSE 1713.8153336215935\n",
            "CPU times: user 25.2 s, sys: 648 ms, total: 25.8 s\n",
            "Wall time: 26.1 s\n"
          ]
        }
      ],
      "source": [
        "%%time\n",
        "LGBMRegressor_2(features_train,target_train,target_valid)"
      ]
    },
    {
      "cell_type": "markdown",
      "metadata": {
        "id": "lsQQ9BKSoKTw"
      },
      "source": [
        "C дефолтными настрйоками GridSearchCV результат RMSE 1766.5249646852487"
      ]
    },
    {
      "cell_type": "markdown",
      "metadata": {
        "id": "IAe4HfvwoKTw"
      },
      "source": [
        "RMSE 1713 - после скалирования, Время предсказания 0.99"
      ]
    },
    {
      "cell_type": "markdown",
      "metadata": {
        "id": "MbHfsSD3oKTx"
      },
      "source": [
        "## Анализ моделей"
      ]
    },
    {
      "cell_type": "markdown",
      "metadata": {
        "id": "LSkIorseoKTx"
      },
      "source": [
        "<table class=\"iksweb\">\n",
        "\t<tbody>\n",
        "\t\t<tr>\n",
        "\t\t\t<td>Модель</td>\n",
        "\t\t\t<td>Время предсказания</td>\n",
        "\t\t\t<td>Время обучения</td>\n",
        "            <td>RMSE</td>\n",
        "\t\t</tr>\n",
        "\t\t<tr>\n",
        "\t\t\t<td>LinearRegression</td>\n",
        "\t\t\t<td>0.19</td>\n",
        "\t\t\t<td>22.5</td>\n",
        "            <td>3184</td>\n",
        "\t\t</tr>\n",
        "        <tr>\n",
        "\t\t\t<td>XGBRegressor</td>\n",
        "\t\t\t<td>0.88</td>\n",
        "\t\t\t<td>59.1</td>\n",
        "            <td>1845</td>\n",
        "\t\t</tr>\n",
        "        <tr>\n",
        "\t\t\t<td>LGBMRegressor</td>\n",
        "\t\t\t<td>0.99</td>\n",
        "\t\t\t<td>26.1</td>\n",
        "            <td>1713</td>\n",
        "\t\t</tr>"
      ]
    },
    {
      "cell_type": "markdown",
      "metadata": {
        "id": "zukv9-l7oKTx"
      },
      "source": [
        "## Вывод"
      ]
    },
    {
      "cell_type": "markdown",
      "metadata": {
        "id": "fyro7rQWoKTy"
      },
      "source": [
        "Скалирование положительно сказалось на всех нужных параметрах. Лучшая модель LGBMRegressor время предсказания меньше 1 сек, обучение 26,1 сек, самый лучший результат по RMSE"
      ]
    }
  ],
  "metadata": {
    "ExecuteTimeLog": [
      {
        "duration": 371,
        "start_time": "2022-07-25T10:06:27.768Z"
      },
      {
        "duration": 1102,
        "start_time": "2022-07-25T10:06:44.256Z"
      },
      {
        "duration": 840,
        "start_time": "2022-07-25T10:06:49.385Z"
      },
      {
        "duration": 797,
        "start_time": "2022-07-25T10:07:12.522Z"
      },
      {
        "duration": 63,
        "start_time": "2022-07-25T10:07:19.864Z"
      },
      {
        "duration": 935,
        "start_time": "2022-07-25T10:07:22.334Z"
      },
      {
        "duration": 20,
        "start_time": "2022-07-25T10:12:36.309Z"
      },
      {
        "duration": 27,
        "start_time": "2022-07-25T10:20:31.157Z"
      },
      {
        "duration": 62,
        "start_time": "2022-07-25T10:20:38.156Z"
      },
      {
        "duration": 15,
        "start_time": "2022-07-25T10:20:41.220Z"
      },
      {
        "duration": 9,
        "start_time": "2022-07-25T10:20:41.444Z"
      },
      {
        "duration": 2,
        "start_time": "2022-07-25T10:20:44.670Z"
      },
      {
        "duration": 1016,
        "start_time": "2022-07-25T10:20:44.676Z"
      },
      {
        "duration": 17,
        "start_time": "2022-07-25T10:20:45.694Z"
      },
      {
        "duration": 21,
        "start_time": "2022-07-25T10:20:45.729Z"
      },
      {
        "duration": 13,
        "start_time": "2022-07-25T10:20:45.753Z"
      },
      {
        "duration": 8,
        "start_time": "2022-07-25T10:20:59.037Z"
      },
      {
        "duration": 18,
        "start_time": "2022-07-25T10:21:05.318Z"
      },
      {
        "duration": 6,
        "start_time": "2022-07-25T10:21:05.542Z"
      },
      {
        "duration": 3,
        "start_time": "2022-07-25T10:21:07.980Z"
      },
      {
        "duration": 952,
        "start_time": "2022-07-25T10:21:07.984Z"
      },
      {
        "duration": 16,
        "start_time": "2022-07-25T10:21:08.938Z"
      },
      {
        "duration": 36,
        "start_time": "2022-07-25T10:21:08.956Z"
      },
      {
        "duration": 27,
        "start_time": "2022-07-25T10:21:08.994Z"
      },
      {
        "duration": 20,
        "start_time": "2022-07-25T10:22:41.534Z"
      },
      {
        "duration": 998,
        "start_time": "2022-07-25T10:25:57.768Z"
      },
      {
        "duration": 3,
        "start_time": "2022-07-25T10:26:00.358Z"
      },
      {
        "duration": 1003,
        "start_time": "2022-07-25T10:26:00.363Z"
      },
      {
        "duration": 15,
        "start_time": "2022-07-25T10:26:01.368Z"
      },
      {
        "duration": 28,
        "start_time": "2022-07-25T10:26:01.386Z"
      },
      {
        "duration": 64,
        "start_time": "2022-07-25T10:26:01.416Z"
      },
      {
        "duration": 2,
        "start_time": "2022-07-25T10:26:13.199Z"
      },
      {
        "duration": 989,
        "start_time": "2022-07-25T10:26:14.694Z"
      },
      {
        "duration": 13,
        "start_time": "2022-07-25T10:26:15.685Z"
      },
      {
        "duration": 31,
        "start_time": "2022-07-25T10:26:17.204Z"
      },
      {
        "duration": 18,
        "start_time": "2022-07-25T10:26:17.246Z"
      },
      {
        "duration": 12,
        "start_time": "2022-07-25T10:26:35.762Z"
      },
      {
        "duration": 18,
        "start_time": "2022-07-25T10:26:37.055Z"
      },
      {
        "duration": 11,
        "start_time": "2022-07-25T10:26:37.199Z"
      },
      {
        "duration": 3,
        "start_time": "2022-07-25T10:26:42.018Z"
      },
      {
        "duration": 940,
        "start_time": "2022-07-25T10:26:42.028Z"
      },
      {
        "duration": 13,
        "start_time": "2022-07-25T10:26:42.971Z"
      },
      {
        "duration": 18,
        "start_time": "2022-07-25T10:26:42.986Z"
      },
      {
        "duration": 22,
        "start_time": "2022-07-25T10:26:43.023Z"
      },
      {
        "duration": 15,
        "start_time": "2022-07-25T10:26:43.047Z"
      },
      {
        "duration": 608,
        "start_time": "2022-07-25T10:27:37.680Z"
      },
      {
        "duration": 651,
        "start_time": "2022-07-25T10:27:45.777Z"
      },
      {
        "duration": 605,
        "start_time": "2022-07-25T10:27:53.553Z"
      },
      {
        "duration": 610,
        "start_time": "2022-07-25T10:28:32.698Z"
      },
      {
        "duration": 574,
        "start_time": "2022-07-25T10:28:40.402Z"
      },
      {
        "duration": 1234,
        "start_time": "2022-07-25T10:29:34.859Z"
      },
      {
        "duration": 160,
        "start_time": "2022-07-25T10:29:43.020Z"
      },
      {
        "duration": 14,
        "start_time": "2022-07-25T10:29:56.179Z"
      },
      {
        "duration": 275,
        "start_time": "2022-07-25T10:30:01.564Z"
      },
      {
        "duration": 176,
        "start_time": "2022-07-25T10:30:07.460Z"
      },
      {
        "duration": 181,
        "start_time": "2022-07-25T10:30:46.589Z"
      },
      {
        "duration": 76,
        "start_time": "2022-07-25T10:32:00.222Z"
      },
      {
        "duration": 9,
        "start_time": "2022-07-25T10:32:04.063Z"
      },
      {
        "duration": 6,
        "start_time": "2022-07-25T10:32:20.255Z"
      },
      {
        "duration": 5,
        "start_time": "2022-07-25T10:34:48.322Z"
      },
      {
        "duration": 9,
        "start_time": "2022-07-25T10:34:53.218Z"
      },
      {
        "duration": 6,
        "start_time": "2022-07-25T10:35:01.988Z"
      },
      {
        "duration": 5,
        "start_time": "2022-07-25T10:35:26.093Z"
      },
      {
        "duration": 6,
        "start_time": "2022-07-25T10:35:40.562Z"
      },
      {
        "duration": 9,
        "start_time": "2022-07-25T10:35:43.629Z"
      },
      {
        "duration": 53,
        "start_time": "2022-07-25T10:36:36.621Z"
      },
      {
        "duration": 54,
        "start_time": "2022-07-25T10:36:42.237Z"
      },
      {
        "duration": 6,
        "start_time": "2022-07-25T10:36:52.509Z"
      },
      {
        "duration": 2,
        "start_time": "2022-07-25T10:36:54.983Z"
      },
      {
        "duration": 952,
        "start_time": "2022-07-25T10:36:54.987Z"
      },
      {
        "duration": 13,
        "start_time": "2022-07-25T10:36:55.941Z"
      },
      {
        "duration": 21,
        "start_time": "2022-07-25T10:36:55.956Z"
      },
      {
        "duration": 11,
        "start_time": "2022-07-25T10:36:55.979Z"
      },
      {
        "duration": 623,
        "start_time": "2022-07-25T10:36:55.992Z"
      },
      {
        "duration": 176,
        "start_time": "2022-07-25T10:36:56.617Z"
      },
      {
        "duration": 7,
        "start_time": "2022-07-25T10:36:56.794Z"
      },
      {
        "duration": 12,
        "start_time": "2022-07-25T10:36:56.803Z"
      },
      {
        "duration": 61,
        "start_time": "2022-07-25T10:36:56.816Z"
      },
      {
        "duration": 5,
        "start_time": "2022-07-25T10:36:56.879Z"
      },
      {
        "duration": 33,
        "start_time": "2022-07-25T10:37:04.142Z"
      },
      {
        "duration": 3,
        "start_time": "2022-07-25T10:37:06.647Z"
      },
      {
        "duration": 1137,
        "start_time": "2022-07-25T10:37:06.652Z"
      },
      {
        "duration": 15,
        "start_time": "2022-07-25T10:37:07.791Z"
      },
      {
        "duration": 33,
        "start_time": "2022-07-25T10:37:07.808Z"
      },
      {
        "duration": 12,
        "start_time": "2022-07-25T10:37:07.843Z"
      },
      {
        "duration": 636,
        "start_time": "2022-07-25T10:37:07.857Z"
      },
      {
        "duration": 152,
        "start_time": "2022-07-25T10:37:08.495Z"
      },
      {
        "duration": 5,
        "start_time": "2022-07-25T10:37:08.649Z"
      },
      {
        "duration": 31,
        "start_time": "2022-07-25T10:37:08.656Z"
      },
      {
        "duration": 47,
        "start_time": "2022-07-25T10:37:08.688Z"
      },
      {
        "duration": 11,
        "start_time": "2022-07-25T10:37:08.736Z"
      },
      {
        "duration": 9,
        "start_time": "2022-07-25T10:38:15.854Z"
      },
      {
        "duration": 47,
        "start_time": "2022-07-25T10:38:22.233Z"
      },
      {
        "duration": 5,
        "start_time": "2022-07-25T10:38:23.454Z"
      },
      {
        "duration": 3,
        "start_time": "2022-07-25T10:38:25.537Z"
      },
      {
        "duration": 937,
        "start_time": "2022-07-25T10:38:25.542Z"
      },
      {
        "duration": 15,
        "start_time": "2022-07-25T10:38:26.480Z"
      },
      {
        "duration": 32,
        "start_time": "2022-07-25T10:38:26.497Z"
      },
      {
        "duration": 17,
        "start_time": "2022-07-25T10:38:26.532Z"
      },
      {
        "duration": 624,
        "start_time": "2022-07-25T10:38:26.551Z"
      },
      {
        "duration": 193,
        "start_time": "2022-07-25T10:38:27.177Z"
      },
      {
        "duration": 7,
        "start_time": "2022-07-25T10:38:27.373Z"
      },
      {
        "duration": 11,
        "start_time": "2022-07-25T10:38:27.383Z"
      },
      {
        "duration": 56,
        "start_time": "2022-07-25T10:38:27.396Z"
      },
      {
        "duration": 8,
        "start_time": "2022-07-25T10:38:27.455Z"
      },
      {
        "duration": 11,
        "start_time": "2022-07-25T10:38:39.903Z"
      },
      {
        "duration": 331,
        "start_time": "2022-07-25T10:41:59.741Z"
      },
      {
        "duration": 15,
        "start_time": "2022-07-25T10:44:46.782Z"
      },
      {
        "duration": 85,
        "start_time": "2022-07-25T10:44:59.622Z"
      },
      {
        "duration": 17,
        "start_time": "2022-07-25T10:45:04.461Z"
      },
      {
        "duration": 18,
        "start_time": "2022-07-25T10:45:08.977Z"
      },
      {
        "duration": 24,
        "start_time": "2022-07-25T10:45:50.366Z"
      },
      {
        "duration": 22,
        "start_time": "2022-07-25T11:38:42.916Z"
      },
      {
        "duration": 1384,
        "start_time": "2022-07-25T11:39:50.770Z"
      },
      {
        "duration": 3,
        "start_time": "2022-07-25T11:40:10.748Z"
      },
      {
        "duration": 932,
        "start_time": "2022-07-25T11:40:21.985Z"
      },
      {
        "duration": 3,
        "start_time": "2022-07-25T11:40:28.277Z"
      },
      {
        "duration": 13,
        "start_time": "2022-07-25T11:40:28.282Z"
      },
      {
        "duration": 935,
        "start_time": "2022-07-25T11:40:28.297Z"
      },
      {
        "duration": 15,
        "start_time": "2022-07-25T11:40:29.234Z"
      },
      {
        "duration": 25,
        "start_time": "2022-07-25T11:40:29.251Z"
      },
      {
        "duration": 16,
        "start_time": "2022-07-25T11:40:29.278Z"
      },
      {
        "duration": 603,
        "start_time": "2022-07-25T11:40:29.296Z"
      },
      {
        "duration": 152,
        "start_time": "2022-07-25T11:40:29.901Z"
      },
      {
        "duration": 8,
        "start_time": "2022-07-25T11:40:30.055Z"
      },
      {
        "duration": 7,
        "start_time": "2022-07-25T11:40:30.065Z"
      },
      {
        "duration": 61,
        "start_time": "2022-07-25T11:40:30.074Z"
      },
      {
        "duration": 6,
        "start_time": "2022-07-25T11:40:30.136Z"
      },
      {
        "duration": 30,
        "start_time": "2022-07-25T11:40:30.144Z"
      },
      {
        "duration": 91,
        "start_time": "2022-07-25T11:40:30.175Z"
      },
      {
        "duration": 4,
        "start_time": "2022-07-25T12:27:11.254Z"
      },
      {
        "duration": 200,
        "start_time": "2022-07-25T12:27:36.648Z"
      },
      {
        "duration": 3,
        "start_time": "2022-07-25T12:38:16.076Z"
      },
      {
        "duration": 4,
        "start_time": "2022-07-25T12:54:42.120Z"
      },
      {
        "duration": 19,
        "start_time": "2022-07-25T12:56:19.383Z"
      },
      {
        "duration": 5,
        "start_time": "2022-07-25T12:56:26.830Z"
      },
      {
        "duration": 1041,
        "start_time": "2022-07-25T12:56:26.838Z"
      },
      {
        "duration": 15,
        "start_time": "2022-07-25T12:56:27.881Z"
      },
      {
        "duration": 34,
        "start_time": "2022-07-25T12:56:27.897Z"
      },
      {
        "duration": 14,
        "start_time": "2022-07-25T12:56:27.935Z"
      },
      {
        "duration": 599,
        "start_time": "2022-07-25T12:56:27.951Z"
      },
      {
        "duration": 153,
        "start_time": "2022-07-25T12:56:28.552Z"
      },
      {
        "duration": 5,
        "start_time": "2022-07-25T12:56:28.707Z"
      },
      {
        "duration": 7,
        "start_time": "2022-07-25T12:56:28.724Z"
      },
      {
        "duration": 41,
        "start_time": "2022-07-25T12:56:28.733Z"
      },
      {
        "duration": 5,
        "start_time": "2022-07-25T12:56:28.776Z"
      },
      {
        "duration": 21,
        "start_time": "2022-07-25T12:56:28.783Z"
      },
      {
        "duration": 0,
        "start_time": "2022-07-25T12:56:28.823Z"
      },
      {
        "duration": 0,
        "start_time": "2022-07-25T12:56:28.825Z"
      },
      {
        "duration": 0,
        "start_time": "2022-07-25T12:56:28.827Z"
      },
      {
        "duration": 0,
        "start_time": "2022-07-25T12:56:28.829Z"
      },
      {
        "duration": 0,
        "start_time": "2022-07-25T12:56:28.830Z"
      },
      {
        "duration": 919,
        "start_time": "2022-07-25T13:05:10.264Z"
      },
      {
        "duration": 860,
        "start_time": "2022-07-25T13:05:14.482Z"
      },
      {
        "duration": 40,
        "start_time": "2022-07-25T13:05:17.562Z"
      },
      {
        "duration": 220,
        "start_time": "2022-07-25T13:05:54.475Z"
      },
      {
        "duration": 334,
        "start_time": "2022-07-25T13:05:55.274Z"
      },
      {
        "duration": 3,
        "start_time": "2022-07-25T13:05:56.054Z"
      },
      {
        "duration": 30875,
        "start_time": "2022-07-25T13:05:56.965Z"
      },
      {
        "duration": 4,
        "start_time": "2022-07-25T13:07:08.231Z"
      },
      {
        "duration": 983,
        "start_time": "2022-07-25T13:07:08.238Z"
      },
      {
        "duration": 15,
        "start_time": "2022-07-25T13:07:09.223Z"
      },
      {
        "duration": 20,
        "start_time": "2022-07-25T13:07:09.239Z"
      },
      {
        "duration": 12,
        "start_time": "2022-07-25T13:07:09.261Z"
      },
      {
        "duration": 582,
        "start_time": "2022-07-25T13:07:09.275Z"
      },
      {
        "duration": 239,
        "start_time": "2022-07-25T13:07:09.859Z"
      },
      {
        "duration": 7,
        "start_time": "2022-07-25T13:07:10.100Z"
      },
      {
        "duration": 19,
        "start_time": "2022-07-25T13:07:10.109Z"
      },
      {
        "duration": 31,
        "start_time": "2022-07-25T13:07:10.130Z"
      },
      {
        "duration": 6,
        "start_time": "2022-07-25T13:07:10.163Z"
      },
      {
        "duration": 822,
        "start_time": "2022-07-25T13:07:10.171Z"
      },
      {
        "duration": 216,
        "start_time": "2022-07-25T13:07:10.995Z"
      },
      {
        "duration": 317,
        "start_time": "2022-07-25T13:07:11.213Z"
      },
      {
        "duration": 3,
        "start_time": "2022-07-25T13:07:11.533Z"
      },
      {
        "duration": 28087,
        "start_time": "2022-07-25T13:07:11.538Z"
      },
      {
        "duration": 0,
        "start_time": "2022-07-25T13:07:39.626Z"
      },
      {
        "duration": 3,
        "start_time": "2022-07-25T13:08:00.629Z"
      },
      {
        "duration": 28996,
        "start_time": "2022-07-25T13:08:01.333Z"
      },
      {
        "duration": 42,
        "start_time": "2022-07-25T13:17:34.515Z"
      },
      {
        "duration": 5,
        "start_time": "2022-07-25T13:18:54.092Z"
      },
      {
        "duration": 27721,
        "start_time": "2022-07-25T13:19:03.908Z"
      },
      {
        "duration": 3,
        "start_time": "2022-07-25T13:23:30.176Z"
      },
      {
        "duration": 29859,
        "start_time": "2022-07-25T13:23:31.068Z"
      },
      {
        "duration": 121,
        "start_time": "2022-07-25T13:47:41.401Z"
      },
      {
        "duration": 4,
        "start_time": "2022-07-25T13:51:13.396Z"
      },
      {
        "duration": 60,
        "start_time": "2022-07-25T13:51:14.509Z"
      },
      {
        "duration": 4,
        "start_time": "2022-07-25T13:51:42.348Z"
      },
      {
        "duration": 898,
        "start_time": "2022-07-25T13:51:42.354Z"
      },
      {
        "duration": 15,
        "start_time": "2022-07-25T13:51:43.254Z"
      },
      {
        "duration": 23,
        "start_time": "2022-07-25T13:51:43.271Z"
      },
      {
        "duration": 29,
        "start_time": "2022-07-25T13:51:43.296Z"
      },
      {
        "duration": 625,
        "start_time": "2022-07-25T13:51:43.327Z"
      },
      {
        "duration": 173,
        "start_time": "2022-07-25T13:51:43.954Z"
      },
      {
        "duration": 6,
        "start_time": "2022-07-25T13:51:44.129Z"
      },
      {
        "duration": 15,
        "start_time": "2022-07-25T13:51:44.137Z"
      },
      {
        "duration": 44,
        "start_time": "2022-07-25T13:51:44.153Z"
      },
      {
        "duration": 6,
        "start_time": "2022-07-25T13:51:44.199Z"
      },
      {
        "duration": 873,
        "start_time": "2022-07-25T13:51:44.224Z"
      },
      {
        "duration": 48,
        "start_time": "2022-07-25T13:51:45.099Z"
      },
      {
        "duration": 216,
        "start_time": "2022-07-25T13:51:45.149Z"
      },
      {
        "duration": 311,
        "start_time": "2022-07-25T13:51:45.367Z"
      },
      {
        "duration": 4,
        "start_time": "2022-07-25T13:51:45.680Z"
      },
      {
        "duration": 30840,
        "start_time": "2022-07-25T13:51:45.686Z"
      },
      {
        "duration": 94,
        "start_time": "2022-07-25T13:52:16.530Z"
      },
      {
        "duration": 65,
        "start_time": "2022-07-25T13:52:16.626Z"
      },
      {
        "duration": 3,
        "start_time": "2022-07-25T13:53:32.247Z"
      },
      {
        "duration": 4,
        "start_time": "2022-07-25T13:53:40.618Z"
      },
      {
        "duration": 902,
        "start_time": "2022-07-25T13:53:40.624Z"
      },
      {
        "duration": 15,
        "start_time": "2022-07-25T13:53:41.528Z"
      },
      {
        "duration": 20,
        "start_time": "2022-07-25T13:53:41.545Z"
      },
      {
        "duration": 14,
        "start_time": "2022-07-25T13:53:41.567Z"
      },
      {
        "duration": 689,
        "start_time": "2022-07-25T13:53:41.583Z"
      },
      {
        "duration": 178,
        "start_time": "2022-07-25T13:53:42.274Z"
      },
      {
        "duration": 5,
        "start_time": "2022-07-25T13:53:42.454Z"
      },
      {
        "duration": 9,
        "start_time": "2022-07-25T13:53:42.461Z"
      },
      {
        "duration": 59,
        "start_time": "2022-07-25T13:53:42.471Z"
      },
      {
        "duration": 5,
        "start_time": "2022-07-25T13:53:42.533Z"
      },
      {
        "duration": 877,
        "start_time": "2022-07-25T13:53:42.539Z"
      },
      {
        "duration": 44,
        "start_time": "2022-07-25T13:53:43.417Z"
      },
      {
        "duration": 224,
        "start_time": "2022-07-25T13:53:43.463Z"
      },
      {
        "duration": 347,
        "start_time": "2022-07-25T13:53:43.688Z"
      },
      {
        "duration": 3,
        "start_time": "2022-07-25T13:53:44.037Z"
      },
      {
        "duration": 30081,
        "start_time": "2022-07-25T13:53:44.042Z"
      },
      {
        "duration": 4,
        "start_time": "2022-07-25T13:54:14.124Z"
      },
      {
        "duration": 1745,
        "start_time": "2022-07-26T05:52:55.037Z"
      },
      {
        "duration": 108,
        "start_time": "2022-07-26T05:52:56.784Z"
      },
      {
        "duration": 0,
        "start_time": "2022-07-26T05:52:56.895Z"
      },
      {
        "duration": 0,
        "start_time": "2022-07-26T05:52:56.896Z"
      },
      {
        "duration": 0,
        "start_time": "2022-07-26T05:52:56.897Z"
      },
      {
        "duration": 0,
        "start_time": "2022-07-26T05:52:56.899Z"
      },
      {
        "duration": 0,
        "start_time": "2022-07-26T05:52:56.900Z"
      },
      {
        "duration": 0,
        "start_time": "2022-07-26T05:52:56.901Z"
      },
      {
        "duration": 0,
        "start_time": "2022-07-26T05:52:56.903Z"
      },
      {
        "duration": 0,
        "start_time": "2022-07-26T05:52:56.904Z"
      },
      {
        "duration": 0,
        "start_time": "2022-07-26T05:52:56.905Z"
      },
      {
        "duration": 0,
        "start_time": "2022-07-26T05:52:56.924Z"
      },
      {
        "duration": 0,
        "start_time": "2022-07-26T05:52:56.925Z"
      },
      {
        "duration": 0,
        "start_time": "2022-07-26T05:52:56.926Z"
      },
      {
        "duration": 0,
        "start_time": "2022-07-26T05:52:56.928Z"
      },
      {
        "duration": 0,
        "start_time": "2022-07-26T05:52:56.929Z"
      },
      {
        "duration": 0,
        "start_time": "2022-07-26T05:52:56.930Z"
      },
      {
        "duration": 0,
        "start_time": "2022-07-26T05:52:56.933Z"
      },
      {
        "duration": 0,
        "start_time": "2022-07-26T05:52:56.935Z"
      },
      {
        "duration": 3,
        "start_time": "2022-07-26T05:53:26.918Z"
      },
      {
        "duration": 1253,
        "start_time": "2022-07-26T05:53:26.926Z"
      },
      {
        "duration": 18,
        "start_time": "2022-07-26T05:53:28.181Z"
      },
      {
        "duration": 37,
        "start_time": "2022-07-26T05:53:28.200Z"
      },
      {
        "duration": 35,
        "start_time": "2022-07-26T05:53:28.239Z"
      },
      {
        "duration": 638,
        "start_time": "2022-07-26T05:53:28.276Z"
      },
      {
        "duration": 202,
        "start_time": "2022-07-26T05:53:28.916Z"
      },
      {
        "duration": 8,
        "start_time": "2022-07-26T05:53:29.123Z"
      },
      {
        "duration": 17,
        "start_time": "2022-07-26T05:53:29.133Z"
      },
      {
        "duration": 91,
        "start_time": "2022-07-26T05:53:29.152Z"
      },
      {
        "duration": 5,
        "start_time": "2022-07-26T05:53:29.245Z"
      },
      {
        "duration": 926,
        "start_time": "2022-07-26T05:53:29.252Z"
      },
      {
        "duration": 49,
        "start_time": "2022-07-26T05:53:30.180Z"
      },
      {
        "duration": 219,
        "start_time": "2022-07-26T05:53:30.231Z"
      },
      {
        "duration": 343,
        "start_time": "2022-07-26T05:53:30.453Z"
      },
      {
        "duration": 4,
        "start_time": "2022-07-26T05:53:30.798Z"
      },
      {
        "duration": 22122,
        "start_time": "2022-07-26T05:53:30.803Z"
      },
      {
        "duration": 3,
        "start_time": "2022-07-26T05:53:52.927Z"
      },
      {
        "duration": 1501,
        "start_time": "2022-07-26T06:54:55.912Z"
      },
      {
        "duration": 945,
        "start_time": "2022-07-26T06:54:57.415Z"
      },
      {
        "duration": 19,
        "start_time": "2022-07-26T06:54:58.362Z"
      },
      {
        "duration": 40,
        "start_time": "2022-07-26T06:54:58.383Z"
      },
      {
        "duration": 12,
        "start_time": "2022-07-26T06:54:58.425Z"
      },
      {
        "duration": 660,
        "start_time": "2022-07-26T06:54:58.439Z"
      },
      {
        "duration": 174,
        "start_time": "2022-07-26T06:54:59.101Z"
      },
      {
        "duration": 7,
        "start_time": "2022-07-26T06:54:59.277Z"
      },
      {
        "duration": 18,
        "start_time": "2022-07-26T06:54:59.286Z"
      },
      {
        "duration": 52,
        "start_time": "2022-07-26T06:54:59.306Z"
      },
      {
        "duration": 6,
        "start_time": "2022-07-26T06:54:59.360Z"
      },
      {
        "duration": 925,
        "start_time": "2022-07-26T06:54:59.368Z"
      },
      {
        "duration": 48,
        "start_time": "2022-07-26T06:55:00.294Z"
      },
      {
        "duration": 220,
        "start_time": "2022-07-26T06:55:00.344Z"
      },
      {
        "duration": 359,
        "start_time": "2022-07-26T06:55:00.566Z"
      },
      {
        "duration": 4,
        "start_time": "2022-07-26T06:55:00.928Z"
      },
      {
        "duration": 29490,
        "start_time": "2022-07-26T06:55:00.934Z"
      },
      {
        "duration": 133,
        "start_time": "2022-07-26T06:55:30.426Z"
      },
      {
        "duration": 0,
        "start_time": "2022-07-26T06:55:30.561Z"
      },
      {
        "duration": 3,
        "start_time": "2022-07-26T06:55:43.982Z"
      },
      {
        "duration": 29110,
        "start_time": "2022-07-26T06:55:44.820Z"
      },
      {
        "duration": 78619,
        "start_time": "2022-07-26T06:56:28.318Z"
      },
      {
        "duration": 3,
        "start_time": "2022-07-26T07:02:22.623Z"
      },
      {
        "duration": 4,
        "start_time": "2022-07-26T07:02:43.278Z"
      },
      {
        "duration": 37365,
        "start_time": "2022-07-26T07:02:51.560Z"
      },
      {
        "duration": 4,
        "start_time": "2022-07-26T07:07:01.093Z"
      },
      {
        "duration": 4,
        "start_time": "2022-07-26T07:17:22.131Z"
      },
      {
        "duration": 198371,
        "start_time": "2022-07-26T07:17:27.769Z"
      },
      {
        "duration": 5,
        "start_time": "2022-07-26T07:25:36.870Z"
      },
      {
        "duration": 294123,
        "start_time": "2022-07-26T07:25:39.717Z"
      },
      {
        "duration": 4,
        "start_time": "2022-07-26T07:32:31.742Z"
      },
      {
        "duration": 384361,
        "start_time": "2022-07-26T07:32:32.431Z"
      },
      {
        "duration": 4,
        "start_time": "2022-07-26T07:40:13.758Z"
      },
      {
        "duration": 1470162,
        "start_time": "2022-07-26T07:40:14.880Z"
      },
      {
        "duration": 5,
        "start_time": "2022-07-26T08:13:58.654Z"
      },
      {
        "duration": 4,
        "start_time": "2022-07-26T08:14:32.970Z"
      },
      {
        "duration": 329463,
        "start_time": "2022-07-26T08:14:33.577Z"
      },
      {
        "duration": 5,
        "start_time": "2022-07-26T08:20:59.010Z"
      },
      {
        "duration": 258574,
        "start_time": "2022-07-26T08:21:00.049Z"
      },
      {
        "duration": 58,
        "start_time": "2022-07-26T08:28:49.441Z"
      },
      {
        "duration": 68,
        "start_time": "2022-07-26T12:05:02.139Z"
      },
      {
        "duration": 2165,
        "start_time": "2022-07-26T12:05:05.993Z"
      },
      {
        "duration": 3879,
        "start_time": "2022-07-26T12:05:08.161Z"
      },
      {
        "duration": 23,
        "start_time": "2022-07-26T12:05:12.053Z"
      },
      {
        "duration": 47,
        "start_time": "2022-07-26T12:05:12.078Z"
      },
      {
        "duration": 53,
        "start_time": "2022-07-26T12:05:12.127Z"
      },
      {
        "duration": 794,
        "start_time": "2022-07-26T12:05:12.183Z"
      },
      {
        "duration": 178,
        "start_time": "2022-07-26T12:05:12.979Z"
      },
      {
        "duration": 8,
        "start_time": "2022-07-26T12:05:13.159Z"
      },
      {
        "duration": 7,
        "start_time": "2022-07-26T12:05:13.169Z"
      },
      {
        "duration": 78,
        "start_time": "2022-07-26T12:05:13.178Z"
      },
      {
        "duration": 6,
        "start_time": "2022-07-26T12:05:13.258Z"
      },
      {
        "duration": 1687,
        "start_time": "2022-07-26T12:05:17.872Z"
      },
      {
        "duration": 8,
        "start_time": "2022-07-26T12:05:28.298Z"
      },
      {
        "duration": 176,
        "start_time": "2022-07-26T12:05:51.458Z"
      },
      {
        "duration": 11,
        "start_time": "2022-07-26T12:06:27.066Z"
      },
      {
        "duration": 50,
        "start_time": "2022-07-26T12:06:31.106Z"
      },
      {
        "duration": 13,
        "start_time": "2022-07-26T12:07:05.141Z"
      },
      {
        "duration": 11,
        "start_time": "2022-07-26T12:07:08.060Z"
      },
      {
        "duration": 10,
        "start_time": "2022-07-26T12:07:26.556Z"
      },
      {
        "duration": 7,
        "start_time": "2022-07-26T12:08:04.662Z"
      },
      {
        "duration": 7,
        "start_time": "2022-07-26T12:08:19.445Z"
      },
      {
        "duration": 36,
        "start_time": "2022-07-26T12:18:35.041Z"
      },
      {
        "duration": 18,
        "start_time": "2022-07-26T12:18:48.523Z"
      },
      {
        "duration": 11,
        "start_time": "2022-07-26T12:19:06.582Z"
      },
      {
        "duration": 66,
        "start_time": "2022-07-26T12:19:09.339Z"
      },
      {
        "duration": 45,
        "start_time": "2022-07-26T12:19:17.424Z"
      },
      {
        "duration": 15,
        "start_time": "2022-07-26T12:19:30.541Z"
      },
      {
        "duration": 9,
        "start_time": "2022-07-26T12:19:51.563Z"
      },
      {
        "duration": 32,
        "start_time": "2022-07-26T12:20:02.003Z"
      },
      {
        "duration": 26,
        "start_time": "2022-07-26T12:20:04.843Z"
      },
      {
        "duration": 14,
        "start_time": "2022-07-26T12:20:08.741Z"
      },
      {
        "duration": 61,
        "start_time": "2022-07-26T12:23:32.033Z"
      },
      {
        "duration": 7,
        "start_time": "2022-07-26T12:23:35.374Z"
      },
      {
        "duration": 3,
        "start_time": "2022-07-26T12:23:40.878Z"
      },
      {
        "duration": 1370,
        "start_time": "2022-07-26T12:23:40.883Z"
      },
      {
        "duration": 22,
        "start_time": "2022-07-26T12:23:42.256Z"
      },
      {
        "duration": 52,
        "start_time": "2022-07-26T12:23:42.281Z"
      },
      {
        "duration": 16,
        "start_time": "2022-07-26T12:23:42.336Z"
      },
      {
        "duration": 796,
        "start_time": "2022-07-26T12:23:42.354Z"
      },
      {
        "duration": 294,
        "start_time": "2022-07-26T12:23:43.152Z"
      },
      {
        "duration": 8,
        "start_time": "2022-07-26T12:23:43.448Z"
      },
      {
        "duration": 8,
        "start_time": "2022-07-26T12:23:43.458Z"
      },
      {
        "duration": 61,
        "start_time": "2022-07-26T12:23:43.468Z"
      },
      {
        "duration": 7,
        "start_time": "2022-07-26T12:23:43.534Z"
      },
      {
        "duration": 12,
        "start_time": "2022-07-26T12:23:43.542Z"
      },
      {
        "duration": 6,
        "start_time": "2022-07-26T12:23:43.555Z"
      },
      {
        "duration": 80,
        "start_time": "2022-07-26T12:23:43.563Z"
      },
      {
        "duration": 13,
        "start_time": "2022-07-26T12:24:20.641Z"
      },
      {
        "duration": 111,
        "start_time": "2022-07-26T12:24:38.338Z"
      },
      {
        "duration": 11,
        "start_time": "2022-07-26T12:24:41.209Z"
      },
      {
        "duration": 13,
        "start_time": "2022-07-26T12:25:05.890Z"
      },
      {
        "duration": 18,
        "start_time": "2022-07-26T12:25:09.410Z"
      },
      {
        "duration": 23,
        "start_time": "2022-07-26T12:25:11.829Z"
      },
      {
        "duration": 14,
        "start_time": "2022-07-26T12:25:16.267Z"
      },
      {
        "duration": 32,
        "start_time": "2022-07-26T12:25:19.226Z"
      },
      {
        "duration": 4,
        "start_time": "2022-07-26T12:33:03.481Z"
      },
      {
        "duration": 1127,
        "start_time": "2022-07-26T12:33:03.488Z"
      },
      {
        "duration": 23,
        "start_time": "2022-07-26T12:33:04.618Z"
      },
      {
        "duration": 24,
        "start_time": "2022-07-26T12:33:04.644Z"
      },
      {
        "duration": 16,
        "start_time": "2022-07-26T12:33:04.670Z"
      },
      {
        "duration": 841,
        "start_time": "2022-07-26T12:33:04.688Z"
      },
      {
        "duration": 197,
        "start_time": "2022-07-26T12:33:05.531Z"
      },
      {
        "duration": 7,
        "start_time": "2022-07-26T12:33:05.731Z"
      },
      {
        "duration": 11,
        "start_time": "2022-07-26T12:33:05.740Z"
      },
      {
        "duration": 96,
        "start_time": "2022-07-26T12:33:05.753Z"
      },
      {
        "duration": 7,
        "start_time": "2022-07-26T12:33:05.851Z"
      },
      {
        "duration": 16,
        "start_time": "2022-07-26T12:33:05.859Z"
      },
      {
        "duration": 6,
        "start_time": "2022-07-26T12:33:05.878Z"
      },
      {
        "duration": 95,
        "start_time": "2022-07-26T12:33:05.886Z"
      },
      {
        "duration": 47,
        "start_time": "2022-07-26T12:33:05.983Z"
      },
      {
        "duration": 23,
        "start_time": "2022-07-26T12:49:23.478Z"
      },
      {
        "duration": 27,
        "start_time": "2022-07-26T12:49:39.943Z"
      },
      {
        "duration": 41,
        "start_time": "2022-07-26T12:49:43.333Z"
      },
      {
        "duration": 28,
        "start_time": "2022-07-26T12:49:46.839Z"
      },
      {
        "duration": 129,
        "start_time": "2022-07-26T12:54:00.178Z"
      },
      {
        "duration": 37,
        "start_time": "2022-07-26T12:54:07.602Z"
      },
      {
        "duration": 4,
        "start_time": "2022-07-26T12:54:47.267Z"
      },
      {
        "duration": 68,
        "start_time": "2022-07-26T12:57:38.357Z"
      },
      {
        "duration": 27,
        "start_time": "2022-07-26T12:57:38.884Z"
      },
      {
        "duration": 328,
        "start_time": "2022-07-26T13:00:06.430Z"
      },
      {
        "duration": 337,
        "start_time": "2022-07-26T13:01:49.901Z"
      },
      {
        "duration": 306,
        "start_time": "2022-07-26T13:01:59.131Z"
      },
      {
        "duration": 26,
        "start_time": "2022-07-26T13:03:09.406Z"
      },
      {
        "duration": 12,
        "start_time": "2022-07-26T13:03:13.807Z"
      },
      {
        "duration": 23,
        "start_time": "2022-07-26T13:03:18.030Z"
      },
      {
        "duration": 34,
        "start_time": "2022-07-26T13:03:28.958Z"
      },
      {
        "duration": 42,
        "start_time": "2022-07-26T13:03:31.955Z"
      },
      {
        "duration": 11,
        "start_time": "2022-07-26T13:03:35.878Z"
      },
      {
        "duration": 14,
        "start_time": "2022-07-26T13:03:42.055Z"
      },
      {
        "duration": 303,
        "start_time": "2022-07-26T13:03:48.647Z"
      },
      {
        "duration": 10,
        "start_time": "2022-07-26T13:17:53.769Z"
      },
      {
        "duration": 10,
        "start_time": "2022-07-26T13:17:57.569Z"
      },
      {
        "duration": 20,
        "start_time": "2022-07-26T13:18:03.634Z"
      },
      {
        "duration": 36,
        "start_time": "2022-07-26T13:18:17.011Z"
      },
      {
        "duration": 21,
        "start_time": "2022-07-26T13:19:37.023Z"
      },
      {
        "duration": 951,
        "start_time": "2022-07-26T13:19:41.450Z"
      },
      {
        "duration": 23,
        "start_time": "2022-07-26T13:21:10.260Z"
      },
      {
        "duration": 43,
        "start_time": "2022-07-26T13:21:15.892Z"
      },
      {
        "duration": 38,
        "start_time": "2022-07-26T13:29:45.803Z"
      },
      {
        "duration": 15,
        "start_time": "2022-07-26T13:30:34.478Z"
      },
      {
        "duration": 19,
        "start_time": "2022-07-26T13:30:39.667Z"
      },
      {
        "duration": 3,
        "start_time": "2022-07-26T13:32:42.846Z"
      },
      {
        "duration": 5,
        "start_time": "2022-07-26T13:32:47.038Z"
      },
      {
        "duration": 1155,
        "start_time": "2022-07-26T13:32:47.045Z"
      },
      {
        "duration": 24,
        "start_time": "2022-07-26T13:32:48.202Z"
      },
      {
        "duration": 39,
        "start_time": "2022-07-26T13:32:48.228Z"
      },
      {
        "duration": 15,
        "start_time": "2022-07-26T13:32:48.269Z"
      },
      {
        "duration": 860,
        "start_time": "2022-07-26T13:32:48.286Z"
      },
      {
        "duration": 188,
        "start_time": "2022-07-26T13:32:49.148Z"
      },
      {
        "duration": 9,
        "start_time": "2022-07-26T13:32:49.337Z"
      },
      {
        "duration": 16,
        "start_time": "2022-07-26T13:32:49.347Z"
      },
      {
        "duration": 56,
        "start_time": "2022-07-26T13:32:49.367Z"
      },
      {
        "duration": 6,
        "start_time": "2022-07-26T13:32:49.425Z"
      },
      {
        "duration": 24,
        "start_time": "2022-07-26T13:32:49.433Z"
      },
      {
        "duration": 9,
        "start_time": "2022-07-26T13:32:49.459Z"
      },
      {
        "duration": 86,
        "start_time": "2022-07-26T13:32:49.470Z"
      },
      {
        "duration": 28,
        "start_time": "2022-07-26T13:32:49.558Z"
      },
      {
        "duration": 54,
        "start_time": "2022-07-26T13:32:49.587Z"
      },
      {
        "duration": 60,
        "start_time": "2022-07-26T13:32:49.643Z"
      },
      {
        "duration": 44,
        "start_time": "2022-07-26T13:32:49.705Z"
      },
      {
        "duration": 329,
        "start_time": "2022-07-26T13:32:49.751Z"
      },
      {
        "duration": 382,
        "start_time": "2022-07-26T13:32:50.082Z"
      },
      {
        "duration": 312,
        "start_time": "2022-07-26T13:32:50.466Z"
      },
      {
        "duration": 340,
        "start_time": "2022-07-26T13:32:50.780Z"
      },
      {
        "duration": 31,
        "start_time": "2022-07-26T13:32:51.122Z"
      },
      {
        "duration": 21,
        "start_time": "2022-07-26T13:32:51.155Z"
      },
      {
        "duration": 41,
        "start_time": "2022-07-26T13:32:51.178Z"
      },
      {
        "duration": 39,
        "start_time": "2022-07-26T13:32:51.221Z"
      },
      {
        "duration": 28,
        "start_time": "2022-07-26T13:32:51.263Z"
      },
      {
        "duration": 830,
        "start_time": "2022-07-26T13:32:51.295Z"
      },
      {
        "duration": 47,
        "start_time": "2022-07-26T13:32:52.140Z"
      },
      {
        "duration": 196,
        "start_time": "2022-07-26T13:32:52.189Z"
      },
      {
        "duration": 334,
        "start_time": "2022-07-26T13:32:52.387Z"
      },
      {
        "duration": 8,
        "start_time": "2022-07-26T13:32:52.727Z"
      },
      {
        "duration": 20,
        "start_time": "2022-07-26T13:32:52.740Z"
      },
      {
        "duration": 5,
        "start_time": "2022-07-26T13:33:14.894Z"
      },
      {
        "duration": 3,
        "start_time": "2022-07-26T13:34:15.184Z"
      },
      {
        "duration": 14,
        "start_time": "2022-07-26T13:34:25.584Z"
      },
      {
        "duration": 13,
        "start_time": "2022-07-26T13:34:57.658Z"
      },
      {
        "duration": 3,
        "start_time": "2022-07-26T13:35:00.479Z"
      },
      {
        "duration": 14,
        "start_time": "2022-07-26T13:35:00.768Z"
      },
      {
        "duration": 120,
        "start_time": "2022-07-26T13:35:03.192Z"
      },
      {
        "duration": 125,
        "start_time": "2022-07-26T13:38:14.366Z"
      },
      {
        "duration": 4,
        "start_time": "2022-07-26T13:38:46.452Z"
      },
      {
        "duration": 83048,
        "start_time": "2022-07-26T13:38:47.076Z"
      },
      {
        "duration": 43,
        "start_time": "2022-07-26T13:43:39.305Z"
      },
      {
        "duration": 4,
        "start_time": "2022-07-26T13:45:24.654Z"
      },
      {
        "duration": 2090,
        "start_time": "2022-07-26T13:45:24.660Z"
      },
      {
        "duration": 15,
        "start_time": "2022-07-26T13:45:26.752Z"
      },
      {
        "duration": 25,
        "start_time": "2022-07-26T13:45:26.769Z"
      },
      {
        "duration": 20,
        "start_time": "2022-07-26T13:45:26.813Z"
      },
      {
        "duration": 892,
        "start_time": "2022-07-26T13:45:26.835Z"
      },
      {
        "duration": 207,
        "start_time": "2022-07-26T13:45:27.729Z"
      },
      {
        "duration": 9,
        "start_time": "2022-07-26T13:45:27.938Z"
      },
      {
        "duration": 14,
        "start_time": "2022-07-26T13:45:27.950Z"
      },
      {
        "duration": 89,
        "start_time": "2022-07-26T13:45:27.965Z"
      },
      {
        "duration": 7,
        "start_time": "2022-07-26T13:45:28.058Z"
      },
      {
        "duration": 18,
        "start_time": "2022-07-26T13:45:28.067Z"
      },
      {
        "duration": 7,
        "start_time": "2022-07-26T13:45:28.087Z"
      },
      {
        "duration": 95,
        "start_time": "2022-07-26T13:45:28.096Z"
      },
      {
        "duration": 53,
        "start_time": "2022-07-26T13:45:28.193Z"
      },
      {
        "duration": 47,
        "start_time": "2022-07-26T13:45:28.247Z"
      },
      {
        "duration": 70,
        "start_time": "2022-07-26T13:45:28.296Z"
      },
      {
        "duration": 48,
        "start_time": "2022-07-26T13:45:28.368Z"
      },
      {
        "duration": 357,
        "start_time": "2022-07-26T13:45:28.417Z"
      },
      {
        "duration": 390,
        "start_time": "2022-07-26T13:45:28.775Z"
      },
      {
        "duration": 313,
        "start_time": "2022-07-26T13:45:29.167Z"
      },
      {
        "duration": 357,
        "start_time": "2022-07-26T13:45:29.482Z"
      },
      {
        "duration": 21,
        "start_time": "2022-07-26T13:45:29.842Z"
      },
      {
        "duration": 22,
        "start_time": "2022-07-26T13:45:29.865Z"
      },
      {
        "duration": 51,
        "start_time": "2022-07-26T13:45:29.889Z"
      },
      {
        "duration": 24,
        "start_time": "2022-07-26T13:45:29.942Z"
      },
      {
        "duration": 24,
        "start_time": "2022-07-26T13:45:29.967Z"
      },
      {
        "duration": 1815,
        "start_time": "2022-07-26T13:45:29.993Z"
      },
      {
        "duration": 54,
        "start_time": "2022-07-26T13:45:31.812Z"
      },
      {
        "duration": 1157,
        "start_time": "2022-07-26T13:45:31.868Z"
      },
      {
        "duration": 419,
        "start_time": "2022-07-26T13:45:33.026Z"
      },
      {
        "duration": 3,
        "start_time": "2022-07-26T13:45:33.446Z"
      },
      {
        "duration": 17,
        "start_time": "2022-07-26T13:45:33.451Z"
      },
      {
        "duration": 131,
        "start_time": "2022-07-26T13:45:33.470Z"
      },
      {
        "duration": 4,
        "start_time": "2022-07-26T13:45:33.603Z"
      },
      {
        "duration": 77411,
        "start_time": "2022-07-26T13:45:33.608Z"
      },
      {
        "duration": 10,
        "start_time": "2022-07-27T05:17:29.289Z"
      },
      {
        "duration": 46,
        "start_time": "2022-07-27T05:23:35.056Z"
      },
      {
        "duration": 1895,
        "start_time": "2022-07-27T05:26:51.531Z"
      },
      {
        "duration": 2973,
        "start_time": "2022-07-27T05:26:53.428Z"
      },
      {
        "duration": 29,
        "start_time": "2022-07-27T05:26:56.403Z"
      },
      {
        "duration": 39,
        "start_time": "2022-07-27T05:26:56.434Z"
      },
      {
        "duration": 15,
        "start_time": "2022-07-27T05:26:56.475Z"
      },
      {
        "duration": 765,
        "start_time": "2022-07-27T05:26:56.492Z"
      },
      {
        "duration": 160,
        "start_time": "2022-07-27T05:26:57.259Z"
      },
      {
        "duration": 8,
        "start_time": "2022-07-27T05:26:57.421Z"
      },
      {
        "duration": 5,
        "start_time": "2022-07-27T05:26:57.431Z"
      },
      {
        "duration": 73,
        "start_time": "2022-07-27T05:26:57.439Z"
      },
      {
        "duration": 5,
        "start_time": "2022-07-27T05:26:57.514Z"
      },
      {
        "duration": 12,
        "start_time": "2022-07-27T05:26:57.521Z"
      },
      {
        "duration": 7,
        "start_time": "2022-07-27T05:26:57.535Z"
      },
      {
        "duration": 100,
        "start_time": "2022-07-27T05:26:57.543Z"
      },
      {
        "duration": 27,
        "start_time": "2022-07-27T05:26:57.645Z"
      },
      {
        "duration": 46,
        "start_time": "2022-07-27T05:26:57.674Z"
      },
      {
        "duration": 89,
        "start_time": "2022-07-27T05:26:57.722Z"
      },
      {
        "duration": 30,
        "start_time": "2022-07-27T05:26:57.814Z"
      },
      {
        "duration": 380,
        "start_time": "2022-07-27T05:26:57.846Z"
      },
      {
        "duration": 371,
        "start_time": "2022-07-27T05:26:58.228Z"
      },
      {
        "duration": 312,
        "start_time": "2022-07-27T05:26:58.602Z"
      },
      {
        "duration": 265,
        "start_time": "2022-07-27T05:26:58.915Z"
      },
      {
        "duration": 29,
        "start_time": "2022-07-27T05:26:59.182Z"
      },
      {
        "duration": 40,
        "start_time": "2022-07-27T05:26:59.214Z"
      },
      {
        "duration": 26,
        "start_time": "2022-07-27T05:26:59.256Z"
      },
      {
        "duration": 27,
        "start_time": "2022-07-27T05:26:59.284Z"
      },
      {
        "duration": 27,
        "start_time": "2022-07-27T05:26:59.313Z"
      },
      {
        "duration": 824,
        "start_time": "2022-07-27T05:26:59.344Z"
      },
      {
        "duration": 45,
        "start_time": "2022-07-27T05:27:00.169Z"
      },
      {
        "duration": 199,
        "start_time": "2022-07-27T05:27:00.215Z"
      },
      {
        "duration": 288,
        "start_time": "2022-07-27T05:27:00.415Z"
      },
      {
        "duration": 5,
        "start_time": "2022-07-27T05:27:00.705Z"
      },
      {
        "duration": 21,
        "start_time": "2022-07-27T05:27:00.711Z"
      },
      {
        "duration": 105,
        "start_time": "2022-07-27T05:27:00.734Z"
      },
      {
        "duration": 4,
        "start_time": "2022-07-27T05:27:00.840Z"
      },
      {
        "duration": 26369,
        "start_time": "2022-07-27T05:27:00.846Z"
      },
      {
        "duration": 3,
        "start_time": "2022-07-27T05:27:27.309Z"
      },
      {
        "duration": 14,
        "start_time": "2022-07-27T05:27:27.314Z"
      },
      {
        "duration": 52176,
        "start_time": "2022-07-27T05:27:27.329Z"
      },
      {
        "duration": 138,
        "start_time": "2022-07-27T05:28:19.507Z"
      },
      {
        "duration": 3,
        "start_time": "2022-07-27T05:28:31.354Z"
      },
      {
        "duration": 5,
        "start_time": "2022-07-27T05:32:38.854Z"
      },
      {
        "duration": 1012,
        "start_time": "2022-07-27T05:32:38.861Z"
      },
      {
        "duration": 15,
        "start_time": "2022-07-27T05:32:39.875Z"
      },
      {
        "duration": 37,
        "start_time": "2022-07-27T05:32:39.891Z"
      },
      {
        "duration": 14,
        "start_time": "2022-07-27T05:32:39.930Z"
      },
      {
        "duration": 740,
        "start_time": "2022-07-27T05:32:39.946Z"
      },
      {
        "duration": 161,
        "start_time": "2022-07-27T05:32:40.687Z"
      },
      {
        "duration": 6,
        "start_time": "2022-07-27T05:32:40.850Z"
      },
      {
        "duration": 11,
        "start_time": "2022-07-27T05:32:40.857Z"
      },
      {
        "duration": 62,
        "start_time": "2022-07-27T05:32:40.869Z"
      },
      {
        "duration": 5,
        "start_time": "2022-07-27T05:32:40.934Z"
      },
      {
        "duration": 16,
        "start_time": "2022-07-27T05:32:40.941Z"
      },
      {
        "duration": 7,
        "start_time": "2022-07-27T05:32:40.959Z"
      },
      {
        "duration": 98,
        "start_time": "2022-07-27T05:32:40.968Z"
      },
      {
        "duration": 26,
        "start_time": "2022-07-27T05:32:41.067Z"
      },
      {
        "duration": 38,
        "start_time": "2022-07-27T05:32:41.096Z"
      },
      {
        "duration": 53,
        "start_time": "2022-07-27T05:32:41.136Z"
      },
      {
        "duration": 44,
        "start_time": "2022-07-27T05:32:41.191Z"
      },
      {
        "duration": 398,
        "start_time": "2022-07-27T05:32:41.237Z"
      },
      {
        "duration": 382,
        "start_time": "2022-07-27T05:32:41.638Z"
      },
      {
        "duration": 287,
        "start_time": "2022-07-27T05:32:42.023Z"
      },
      {
        "duration": 290,
        "start_time": "2022-07-27T05:32:42.312Z"
      },
      {
        "duration": 21,
        "start_time": "2022-07-27T05:32:42.603Z"
      },
      {
        "duration": 22,
        "start_time": "2022-07-27T05:32:42.626Z"
      },
      {
        "duration": 34,
        "start_time": "2022-07-27T05:32:42.650Z"
      },
      {
        "duration": 31,
        "start_time": "2022-07-27T05:32:42.686Z"
      },
      {
        "duration": 23,
        "start_time": "2022-07-27T05:32:42.719Z"
      },
      {
        "duration": 789,
        "start_time": "2022-07-27T05:32:42.743Z"
      },
      {
        "duration": 38,
        "start_time": "2022-07-27T05:32:43.536Z"
      },
      {
        "duration": 207,
        "start_time": "2022-07-27T05:32:43.576Z"
      },
      {
        "duration": 292,
        "start_time": "2022-07-27T05:32:43.785Z"
      },
      {
        "duration": 3,
        "start_time": "2022-07-27T05:32:44.079Z"
      },
      {
        "duration": 27,
        "start_time": "2022-07-27T05:32:44.083Z"
      },
      {
        "duration": 100,
        "start_time": "2022-07-27T05:32:44.112Z"
      },
      {
        "duration": 4,
        "start_time": "2022-07-27T05:32:44.215Z"
      },
      {
        "duration": 22496,
        "start_time": "2022-07-27T05:32:44.220Z"
      },
      {
        "duration": 5,
        "start_time": "2022-07-27T05:33:53.003Z"
      },
      {
        "duration": 59225,
        "start_time": "2022-07-27T05:33:56.786Z"
      },
      {
        "duration": 4,
        "start_time": "2022-07-27T05:41:14.924Z"
      },
      {
        "duration": 26142,
        "start_time": "2022-07-27T05:41:17.476Z"
      }
    ],
    "kernelspec": {
      "display_name": "Python 3 (ipykernel)",
      "language": "python",
      "name": "python3"
    },
    "language_info": {
      "codemirror_mode": {
        "name": "ipython",
        "version": 3
      },
      "file_extension": ".py",
      "mimetype": "text/x-python",
      "name": "python",
      "nbconvert_exporter": "python",
      "pygments_lexer": "ipython3",
      "version": "3.9.5"
    },
    "toc": {
      "base_numbering": 1,
      "nav_menu": {},
      "number_sections": true,
      "sideBar": true,
      "skip_h1_title": true,
      "title_cell": "Table of Contents",
      "title_sidebar": "Contents",
      "toc_cell": false,
      "toc_position": {},
      "toc_section_display": true,
      "toc_window_display": false
    },
    "colab": {
      "provenance": []
    }
  },
  "nbformat": 4,
  "nbformat_minor": 0
}