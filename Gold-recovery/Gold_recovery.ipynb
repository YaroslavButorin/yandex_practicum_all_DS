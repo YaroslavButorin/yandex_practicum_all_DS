{
  "cells": [
    {
      "cell_type": "markdown",
      "metadata": {
        "toc": true,
        "id": "jh7SKcvcSX1v"
      },
      "source": [
        "<h1>Содержание<span class=\"tocSkip\"></span></h1>\n",
        "<div class=\"toc\"><ul class=\"toc-item\"><li><span><a href=\"#Подготовка-данных\" data-toc-modified-id=\"Подготовка-данных-1\"><span class=\"toc-item-num\">1&nbsp;&nbsp;</span>Подготовка данных</a></span><ul class=\"toc-item\"><li><span><a href=\"#признаки,-недоступные-в-тестовой-выборке\" data-toc-modified-id=\"признаки,-недоступные-в-тестовой-выборке-1.1\"><span class=\"toc-item-num\">1.1&nbsp;&nbsp;</span>признаки, недоступные в тестовой выборке</a></span></li></ul></li><li><span><a href=\"#Анализ-данных\" data-toc-modified-id=\"Анализ-данных-2\"><span class=\"toc-item-num\">2&nbsp;&nbsp;</span>Анализ данных</a></span><ul class=\"toc-item\"><li><span><a href=\"#Исследовано-изменение-концентрации-элементов-на-каждом-этапе\" data-toc-modified-id=\"Исследовано-изменение-концентрации-элементов-на-каждом-этапе-2.1\"><span class=\"toc-item-num\">2.1&nbsp;&nbsp;</span>Исследовано изменение концентрации элементов на каждом этапе</a></span></li><li><span><a href=\"#Вывод\" data-toc-modified-id=\"Вывод-2.2\"><span class=\"toc-item-num\">2.2&nbsp;&nbsp;</span>Вывод</a></span></li></ul></li><li><span><a href=\"#Модель\" data-toc-modified-id=\"Модель-3\"><span class=\"toc-item-num\">3&nbsp;&nbsp;</span>Модель</a></span><ul class=\"toc-item\"><li><span><a href=\"#Линейная-регрессия\" data-toc-modified-id=\"Линейная-регрессия-3.1\"><span class=\"toc-item-num\">3.1&nbsp;&nbsp;</span>Линейная регрессия</a></span></li><li><span><a href=\"#Дерево-решений\" data-toc-modified-id=\"Дерево-решений-3.2\"><span class=\"toc-item-num\">3.2&nbsp;&nbsp;</span>Дерево решений</a></span></li><li><span><a href=\"#Случайный-лес\" data-toc-modified-id=\"Случайный-лес-3.3\"><span class=\"toc-item-num\">3.3&nbsp;&nbsp;</span>Случайный лес</a></span><ul class=\"toc-item\"><li><span><a href=\"#проверка-на-лучшей-модели-на-тестовой-выборке.\" data-toc-modified-id=\"проверка-на-лучшей-модели-на-тестовой-выборке.-3.3.1\"><span class=\"toc-item-num\">3.3.1&nbsp;&nbsp;</span>проверка на лучшей модели на тестовой выборке.</a></span></li></ul></li><li><span><a href=\"#сравнение-с-контрастной-моделью\" data-toc-modified-id=\"сравнение-с-контрастной-моделью-3.4\"><span class=\"toc-item-num\">3.4&nbsp;&nbsp;</span>сравнение с контрастной моделью</a></span></li></ul></li><li><span><a href=\"#Вывод.\" data-toc-modified-id=\"Вывод.-4\"><span class=\"toc-item-num\">4&nbsp;&nbsp;</span>Вывод.</a></span></li><li><span><a href=\"#Чек-лист-готовности-проекта\" data-toc-modified-id=\"Чек-лист-готовности-проекта-5\"><span class=\"toc-item-num\">5&nbsp;&nbsp;</span>Чек-лист готовности проекта</a></span></li></ul></div>"
      ]
    },
    {
      "cell_type": "markdown",
      "metadata": {
        "id": "InXV4ZNQSX1y"
      },
      "source": [
        "# Восстановление золота из руды"
      ]
    },
    {
      "cell_type": "markdown",
      "metadata": {
        "id": "h_B8_t0LSX1z"
      },
      "source": [
        "Подготовьте прототип модели машинного обучения для «Цифры». Компания разрабатывает решения для эффективной работы промышленных предприятий.\n",
        "\n",
        "Модель должна предсказать коэффициент восстановления золота из золотосодержащей руды. Используйте данные с параметрами добычи и очистки. \n",
        "\n",
        "Модель поможет оптимизировать производство, чтобы не запускать предприятие с убыточными характеристиками.\n",
        "\n",
        "Вам нужно:\n",
        "\n",
        "1. Подготовить данные;\n",
        "2. Провести исследовательский анализ данных;\n",
        "3. Построить и обучить модель.\n",
        "\n",
        "Чтобы выполнить проект, обращайтесь к библиотекам *pandas*, *matplotlib* и *sklearn.* Вам поможет их документация."
      ]
    },
    {
      "cell_type": "markdown",
      "metadata": {
        "id": "ClKj7NYXSX11"
      },
      "source": [
        "<b>Технологический процесс</b>\n",
        "<br>Rougher feed — исходное сырье\n",
        "<br>Rougher additions (или reagent additions) — флотационные реагенты: Xanthate, Sulphate, Depressant\n",
        "<br>Xanthate **— ксантогенат (промотер, или активатор флотации);\n",
        "<br>Sulphate — сульфат (на данном производстве сульфид натрия);\n",
        "<br>Depressant — депрессант (силикат натрия).\n",
        "<br>Rougher process (англ. «грубый процесс») — флотация\n",
        "<br>Rougher tails — отвальные хвосты\n",
        "<br>Float banks — флотационная установка\n",
        "<br>Cleaner process — очистка\n",
        "<br>Rougher Au — черновой концентрат золота\n",
        "<br>Final Au — финальный концентрат золота"
      ]
    },
    {
      "cell_type": "markdown",
      "metadata": {
        "id": "dYLc1xZNSX13"
      },
      "source": [
        "<b>Параметры этапов</b>\n",
        "<br>air amount — объём воздуха\n",
        "<br>fluid levels — уровень жидкости\n",
        "<br>feed size — размер гранул сырья\n",
        "<br>feed rate — скорость подачи"
      ]
    },
    {
      "cell_type": "markdown",
      "metadata": {
        "id": "fCvqjyaSSX15"
      },
      "source": [
        "## Подготовка данных"
      ]
    },
    {
      "cell_type": "code",
      "execution_count": null,
      "metadata": {
        "id": "DId9awnESX17"
      },
      "outputs": [],
      "source": [
        "import pandas as pd\n",
        "import numpy as np\n",
        "import matplotlib.pyplot as plt\n",
        "import seaborn as sns\n",
        "from collections import defaultdict\n",
        "from sklearn.tree import DecisionTreeClassifier\n",
        "from sklearn.model_selection import train_test_split\n",
        "from sklearn.preprocessing import StandardScaler\n",
        "from sklearn.preprocessing import OrdinalEncoder\n",
        "from sklearn.ensemble import RandomForestClassifier\n",
        "from sklearn.ensemble import RandomForestRegressor\n",
        "from sklearn.tree import DecisionTreeRegressor\n",
        "from sklearn.linear_model import LogisticRegression\n",
        "from sklearn.linear_model import LinearRegression\n",
        "from sklearn.model_selection import GridSearchCV, cross_val_score, train_test_split, KFold, TimeSeriesSplit\n",
        "from scipy import stats as st\n",
        "from sklearn.metrics import mean_squared_error\n",
        "from sklearn.metrics import make_scorer\n",
        "from sklearn.metrics import mean_absolute_error\n",
        "from sklearn.metrics import f1_score\n",
        "from sklearn.metrics import recall_score\n",
        "from sklearn.metrics import precision_score\n",
        "from sklearn.metrics import accuracy_score\n",
        "from sklearn.metrics import confusion_matrix, ConfusionMatrixDisplay\n",
        "from sklearn.metrics import roc_curve\n",
        "from sklearn.metrics import roc_auc_score\n",
        "from sklearn.dummy import DummyClassifier\n",
        "from sklearn.dummy import DummyRegressor\n",
        "from sklearn.utils import shuffle\n",
        "\n",
        "import warnings\n",
        "warnings.filterwarnings('ignore')"
      ]
    },
    {
      "cell_type": "code",
      "execution_count": null,
      "metadata": {
        "id": "C3-IbV7ySX2A"
      },
      "outputs": [],
      "source": [
        "data = pd.read_csv('/datasets/gold_recovery_full_new.csv')  # — исходные данные."
      ]
    },
    {
      "cell_type": "code",
      "execution_count": null,
      "metadata": {
        "id": "M-EMJHLxSX2B"
      },
      "outputs": [],
      "source": [
        "train = pd.read_csv('/datasets/gold_recovery_train_new.csv')  # — обучающая выборка;\n",
        "test = pd.read_csv('/datasets/gold_recovery_test_new.csv')  # — тестовая выборка;"
      ]
    },
    {
      "cell_type": "code",
      "execution_count": null,
      "metadata": {
        "id": "6EaB5kXRSX2C"
      },
      "outputs": [],
      "source": [
        "def conver_date(df):\n",
        "    for d in df:\n",
        "        d['date'] =  pd.to_datetime(d['date'])\n",
        "conver_date([data,train,test])"
      ]
    },
    {
      "cell_type": "markdown",
      "metadata": {
        "id": "z6axH9LuSX2D"
      },
      "source": [
        "<img src=\"https://pictures.s3.yandex.net/resources/viruchka_1576238830.jpg\">|"
      ]
    },
    {
      "cell_type": "markdown",
      "metadata": {
        "id": "488qvKC1SX2E"
      },
      "source": [
        "<img src=\"https://pictures.s3.yandex.net/resources/Recovery_1576238822.jpg\">|\n",
        "Формула для себя)\n",
        "<br>C — доля золота в концентрате после флотации/очистки;\n",
        "<br>F — доля золота в сырье/концентрате до флотации/очистки;\n",
        "<br>T — доля золота в отвальных хвостах после флотации/очистки."
      ]
    },
    {
      "cell_type": "code",
      "execution_count": null,
      "metadata": {
        "scrolled": true,
        "id": "No0vxi9ASX2E",
        "outputId": "58dc5fc9-4242-4bae-c2fa-596baec93a28"
      },
      "outputs": [
        {
          "data": {
            "text/plain": [
              "0        87.107763\n",
              "1        86.843261\n",
              "2        86.842308\n",
              "3        87.226430\n",
              "4        86.688794\n",
              "           ...    \n",
              "14144    89.574376\n",
              "14145    87.724007\n",
              "14146    88.890579\n",
              "14147    89.858126\n",
              "14148    89.514960\n",
              "Name: recovery, Length: 14149, dtype: float64"
            ]
          },
          "execution_count": 106,
          "metadata": {},
          "output_type": "execute_result"
        }
      ],
      "source": [
        "train['recovery'] = (train['rougher.output.concentrate_au'] * (train['rougher.input.feed_au'] - train['rougher.output.tail_au'])) / (train['rougher.input.feed_au'] * (train['rougher.output.concentrate_au'] - train['rougher.output.tail_au'])) * 100\n",
        "train['recovery']"
      ]
    },
    {
      "cell_type": "code",
      "execution_count": null,
      "metadata": {
        "id": "D6ZfYM5vSX2G",
        "outputId": "9100f3fd-1c23-4c09-aaab-03d71474038b"
      },
      "outputs": [
        {
          "data": {
            "text/plain": [
              "0        87.107763\n",
              "1        86.843261\n",
              "2        86.842308\n",
              "3        87.226430\n",
              "4        86.688794\n",
              "           ...    \n",
              "14144    89.574376\n",
              "14145    87.724007\n",
              "14146    88.890579\n",
              "14147    89.858126\n",
              "14148    89.514960\n",
              "Name: rougher.output.recovery, Length: 14149, dtype: float64"
            ]
          },
          "execution_count": 107,
          "metadata": {},
          "output_type": "execute_result"
        }
      ],
      "source": [
        "train['rougher.output.recovery']"
      ]
    },
    {
      "cell_type": "code",
      "execution_count": null,
      "metadata": {
        "scrolled": true,
        "id": "WEzlHa-_SX2H",
        "outputId": "77017990-6128-4f20-97eb-81f2d6949671"
      },
      "outputs": [
        {
          "name": "stdout",
          "output_type": "stream",
          "text": [
            "MAE: 9.73512347450521e-15\n"
          ]
        }
      ],
      "source": [
        "print('MAE:',mean_absolute_error(train['rougher.output.recovery'], train['recovery']))"
      ]
    },
    {
      "cell_type": "markdown",
      "metadata": {
        "id": "Oavouz4JSX2I"
      },
      "source": [
        "Совпадает."
      ]
    },
    {
      "cell_type": "markdown",
      "metadata": {
        "id": "L_vca0PISX2J"
      },
      "source": [
        "### признаки, недоступные в тестовой выборке"
      ]
    },
    {
      "cell_type": "code",
      "execution_count": null,
      "metadata": {
        "id": "Uhhsdkq5SX2J"
      },
      "outputs": [],
      "source": [
        "train_cols = train.columns\n",
        "test_cols = test.columns"
      ]
    },
    {
      "cell_type": "code",
      "execution_count": null,
      "metadata": {
        "id": "U33LSvhsSX2K"
      },
      "outputs": [],
      "source": [
        "not_in_test = train.loc[:, ~train.columns.isin(test_cols)]"
      ]
    },
    {
      "cell_type": "code",
      "execution_count": null,
      "metadata": {
        "id": "GIvX3ZpkSX2K",
        "outputId": "d925c977-40a4-4ece-a9ab-865847256ccf"
      },
      "outputs": [
        {
          "data": {
            "text/plain": [
              "35"
            ]
          },
          "execution_count": 111,
          "metadata": {},
          "output_type": "execute_result"
        }
      ],
      "source": [
        "not_in_test.columns.sort_values().value_counts().sum()"
      ]
    },
    {
      "cell_type": "markdown",
      "metadata": {
        "id": "YL5JPW0qSX2L"
      },
      "source": [
        "Список недоступных параметров в тестовый выборке:"
      ]
    },
    {
      "cell_type": "code",
      "execution_count": null,
      "metadata": {
        "id": "DT7hTCnpSX2L",
        "outputId": "7cae7c3e-79b5-4fcd-a6ae-5edd90308b9e"
      },
      "outputs": [
        {
          "data": {
            "text/plain": [
              "['final.output.concentrate_ag',\n",
              " 'final.output.concentrate_pb',\n",
              " 'final.output.concentrate_sol',\n",
              " 'final.output.concentrate_au',\n",
              " 'final.output.recovery',\n",
              " 'final.output.tail_ag',\n",
              " 'final.output.tail_pb',\n",
              " 'final.output.tail_sol',\n",
              " 'final.output.tail_au',\n",
              " 'primary_cleaner.output.concentrate_ag',\n",
              " 'primary_cleaner.output.concentrate_pb',\n",
              " 'primary_cleaner.output.concentrate_sol',\n",
              " 'primary_cleaner.output.concentrate_au',\n",
              " 'primary_cleaner.output.tail_ag',\n",
              " 'primary_cleaner.output.tail_pb',\n",
              " 'primary_cleaner.output.tail_sol',\n",
              " 'primary_cleaner.output.tail_au',\n",
              " 'rougher.calculation.sulfate_to_au_concentrate',\n",
              " 'rougher.calculation.floatbank10_sulfate_to_au_feed',\n",
              " 'rougher.calculation.floatbank11_sulfate_to_au_feed',\n",
              " 'rougher.calculation.au_pb_ratio',\n",
              " 'rougher.output.concentrate_ag',\n",
              " 'rougher.output.concentrate_pb',\n",
              " 'rougher.output.concentrate_sol',\n",
              " 'rougher.output.concentrate_au',\n",
              " 'rougher.output.recovery',\n",
              " 'rougher.output.tail_ag',\n",
              " 'rougher.output.tail_pb',\n",
              " 'rougher.output.tail_sol',\n",
              " 'rougher.output.tail_au',\n",
              " 'secondary_cleaner.output.tail_ag',\n",
              " 'secondary_cleaner.output.tail_pb',\n",
              " 'secondary_cleaner.output.tail_sol',\n",
              " 'secondary_cleaner.output.tail_au',\n",
              " 'recovery']"
            ]
          },
          "execution_count": 112,
          "metadata": {},
          "output_type": "execute_result"
        }
      ],
      "source": [
        "not_in_test.columns.tolist()"
      ]
    },
    {
      "cell_type": "markdown",
      "metadata": {
        "id": "nbcN93cfSX2M"
      },
      "source": [
        "В основном это параметры продукта output, и характеристики. 34 признака исключая проверочное recovery. Можно предположить что тестовая выборка собраная уже из конечного результата где процессы уже произошли и имеется некий результат. Целевые переменные так же недоступны нам в тестовой выборке.\n",
        "\n",
        "<br>Характеристики недоступные в тестовой выборке:\n",
        "<br> 'rougher.calculation.sulfate_to_au_concentrate',\n",
        "<br> 'rougher.calculation.floatbank10_sulfate_to_au_feed',\n",
        "<br> 'rougher.calculation.floatbank11_sulfate_to_au_feed',\n",
        "<br> 'rougher.calculation.au_pb_ratio',\n",
        "\n",
        "<br> предполагаю что это расчетные значения элементов."
      ]
    },
    {
      "cell_type": "markdown",
      "metadata": {
        "id": "rEfkRCtfSX2P"
      },
      "source": [
        "## Анализ данных"
      ]
    },
    {
      "cell_type": "markdown",
      "metadata": {
        "id": "A_pceotjSX2P"
      },
      "source": [
        "### Исследовано изменение концентрации элементов на каждом этапе"
      ]
    },
    {
      "cell_type": "markdown",
      "metadata": {
        "id": "nzxl-63gSX2Q"
      },
      "source": [
        "<br>rougher — флотация\n",
        "<br>primary_cleaner — первичная очистка\n",
        "<br>secondary_cleaner — вторичная очистка\n",
        "<br>final — финальные характеристики\n",
        "\n",
        "<br>Xanthate **— ксантогенат (промотер, или активатор флотации);\n",
        "<br>Sulphate — сульфат (на данном производстве сульфид натрия);\n",
        "<br>Depressant — депрессант (силикат натрия)."
      ]
    },
    {
      "cell_type": "markdown",
      "metadata": {
        "id": "GEmI0-sGSX2Q"
      },
      "source": [
        "<br>ag  - Серебро́ \n",
        "<br>au - Зо́лото \n",
        "<br>pb - Свине́ц \n",
        "<br>sol - Cульфат натрия"
      ]
    },
    {
      "cell_type": "code",
      "execution_count": null,
      "metadata": {
        "id": "lwUm04C-SX2R"
      },
      "outputs": [],
      "source": [
        "list_elem = {'ag':'Cеребро','au':'Золото','pb':'Свинец','sol':'Cульфат натрия'}"
      ]
    },
    {
      "cell_type": "code",
      "execution_count": null,
      "metadata": {
        "id": "xEjwypObSX2R"
      },
      "outputs": [],
      "source": [
        "element = [col for col in data.columns if 'input.feed_' in col]"
      ]
    },
    {
      "cell_type": "code",
      "execution_count": null,
      "metadata": {
        "scrolled": true,
        "id": "ueln7v5BSX2R",
        "outputId": "99aea787-9ab5-4579-f7e3-25bf5dd973e6"
      },
      "outputs": [
        {
          "data": {
            "image/png": "[encoded data removed]",
            "text/plain": [
              "<Figure size 1080x432 with 1 Axes>"
            ]
          },
          "metadata": {
            "needs_background": "light"
          },
          "output_type": "display_data"
        },
        {
          "data": {
            "image/png": "[encoded data removed]",
            "text/plain": [
              "<Figure size 1080x432 with 1 Axes>"
            ]
          },
          "metadata": {
            "needs_background": "light"
          },
          "output_type": "display_data"
        },
        {
          "data": {
            "image/png": "[encoded data removed]",
            "text/plain": [
              "<Figure size 1080x432 with 1 Axes>"
            ]
          },
          "metadata": {
            "needs_background": "light"
          },
          "output_type": "display_data"
        },
        {
          "data": {
            "image/png": "[encoded data removed]",
            "text/plain": [
              "<Figure size 1080x432 with 1 Axes>"
            ]
          },
          "metadata": {
            "needs_background": "light"
          },
          "output_type": "display_data"
        }
      ],
      "source": [
        "for keys,val in list_elem.items():\n",
        "    input_rou = [col for col in data.columns if 'input.feed_'+keys in col]\n",
        "    element = [col for col in data if col.endswith('concentrate_'+keys)] + input_rou\n",
        "    element = pd.DataFrame(data[element].mean()).rename(columns={0: keys})#.T\n",
        "    plt.figure(figsize=(15,6))\n",
        "    plt.title('изменение концентрации элементов на каждом этапе:'+val,fontsize=15)\n",
        "    sns.barplot(x=element.index, y=element[keys])\n",
        "    #sns.distplot(element)"
      ]
    },
    {
      "cell_type": "markdown",
      "metadata": {
        "id": "DZETNoT-SX2S"
      },
      "source": [
        "На каждом из этапов золото становится больше что логично. Так же свинца становится больше, вероятно это связано с процессом очистки. Серебро и сульфат уменьшается к финальной стадии."
      ]
    },
    {
      "cell_type": "code",
      "execution_count": null,
      "metadata": {
        "scrolled": true,
        "id": "RC34YK-2SX2S",
        "outputId": "24618f15-de6e-47ae-a7b0-75126b104485"
      },
      "outputs": [
        {
          "data": {
            "image/png": "[encoded data removed]",
            "text/plain": [
              "<Figure size 720x288 with 1 Axes>"
            ]
          },
          "metadata": {
            "needs_background": "light"
          },
          "output_type": "display_data"
        },
        {
          "data": {
            "image/png": "[encoded data removed]",
            "text/plain": [
              "<Figure size 720x288 with 1 Axes>"
            ]
          },
          "metadata": {
            "needs_background": "light"
          },
          "output_type": "display_data"
        },
        {
          "data": {
            "image/png": "[encoded data removed]",
            "text/plain": [
              "<Figure size 720x288 with 1 Axes>"
            ]
          },
          "metadata": {
            "needs_background": "light"
          },
          "output_type": "display_data"
        },
        {
          "data": {
            "image/png": "[encoded data removed]",
            "text/plain": [
              "<Figure size 720x288 with 1 Axes>"
            ]
          },
          "metadata": {
            "needs_background": "light"
          },
          "output_type": "display_data"
        },
        {
          "data": {
            "image/png": "[encoded data removed]",
            "text/plain": [
              "<Figure size 720x288 with 1 Axes>"
            ]
          },
          "metadata": {
            "needs_background": "light"
          },
          "output_type": "display_data"
        },
        {
          "data": {
            "image/png": "[encoded data removed]",
            "text/plain": [
              "<Figure size 720x288 with 1 Axes>"
            ]
          },
          "metadata": {
            "needs_background": "light"
          },
          "output_type": "display_data"
        },
        {
          "data": {
            "image/png": "[encoded data removed]",
            "text/plain": [
              "<Figure size 720x288 with 1 Axes>"
            ]
          },
          "metadata": {
            "needs_background": "light"
          },
          "output_type": "display_data"
        },
        {
          "data": {
            "image/png": "[encoded data removed]",
            "text/plain": [
              "<Figure size 720x288 with 1 Axes>"
            ]
          },
          "metadata": {
            "needs_background": "light"
          },
          "output_type": "display_data"
        },
        {
          "data": {
            "image/png": "[encoded data removed]",
            "text/plain": [
              "<Figure size 720x288 with 1 Axes>"
            ]
          },
          "metadata": {
            "needs_background": "light"
          },
          "output_type": "display_data"
        },
        {
          "data": {
            "image/png": "[encoded data removed]",
            "text/plain": [
              "<Figure size 720x288 with 1 Axes>"
            ]
          },
          "metadata": {
            "needs_background": "light"
          },
          "output_type": "display_data"
        },
        {
          "data": {
            "image/png": "[encoded data removed]",
            "text/plain": [
              "<Figure size 720x288 with 1 Axes>"
            ]
          },
          "metadata": {
            "needs_background": "light"
          },
          "output_type": "display_data"
        },
        {
          "data": {
            "image/png": "[encoded data removed]",
            "text/plain": [
              "<Figure size 720x288 with 1 Axes>"
            ]
          },
          "metadata": {
            "needs_background": "light"
          },
          "output_type": "display_data"
        }
      ],
      "source": [
        "for keys,val in list_elem.items(): \n",
        "    element = [col for col in data if col.endswith('concentrate_'+keys)]\n",
        "    element = pd.DataFrame(data[element])\n",
        "    for col in element.columns:\n",
        "        plt.figure(figsize=(10,4))\n",
        "        plt.title(col)\n",
        "        element[col].hist(bins=100,range=(0, 50))"
      ]
    },
    {
      "cell_type": "markdown",
      "metadata": {
        "id": "_sp9jOi3SX2T"
      },
      "source": [
        "В финальной стадии остается больше всего свинца и золота. Есть пики в около нулей которые следует удалить."
      ]
    },
    {
      "cell_type": "code",
      "execution_count": null,
      "metadata": {
        "scrolled": true,
        "id": "0xT6GlSbSX2T"
      },
      "outputs": [],
      "source": [
        "elems = []\n",
        "for keys,val in list_elem.items(): \n",
        "    element = [col for col in train if col.endswith('concentrate_'+keys)]\n",
        "    elems.append(element)\n",
        "elems = [x for xs in elems for x in xs]"
      ]
    },
    {
      "cell_type": "code",
      "execution_count": null,
      "metadata": {
        "scrolled": true,
        "id": "mkrYsb9uSX2U",
        "outputId": "adbdb37b-252d-49dc-8770-2ab7acd867e0"
      },
      "outputs": [
        {
          "data": {
            "image/png": "[encoded data removed]",
            "text/plain": [
              "<Figure size 720x288 with 1 Axes>"
            ]
          },
          "metadata": {
            "needs_background": "light"
          },
          "output_type": "display_data"
        },
        {
          "data": {
            "image/png": "[encoded data removed]",
            "text/plain": [
              "<Figure size 720x288 with 1 Axes>"
            ]
          },
          "metadata": {
            "needs_background": "light"
          },
          "output_type": "display_data"
        },
        {
          "data": {
            "image/png": "[encoded data removed]",
            "text/plain": [
              "<Figure size 720x288 with 1 Axes>"
            ]
          },
          "metadata": {
            "needs_background": "light"
          },
          "output_type": "display_data"
        },
        {
          "data": {
            "image/png": "[encoded data removed]",
            "text/plain": [
              "<Figure size 720x288 with 1 Axes>"
            ]
          },
          "metadata": {
            "needs_background": "light"
          },
          "output_type": "display_data"
        },
        {
          "data": {
            "image/png": "[encoded data removed]",
            "text/plain": [
              "<Figure size 720x288 with 1 Axes>"
            ]
          },
          "metadata": {
            "needs_background": "light"
          },
          "output_type": "display_data"
        },
        {
          "data": {
            "image/png": "[encoded data removed]",
            "text/plain": [
              "<Figure size 720x288 with 1 Axes>"
            ]
          },
          "metadata": {
            "needs_background": "light"
          },
          "output_type": "display_data"
        },
        {
          "data": {
            "image/png": "[encoded data removed]",
            "text/plain": [
              "<Figure size 720x288 with 1 Axes>"
            ]
          },
          "metadata": {
            "needs_background": "light"
          },
          "output_type": "display_data"
        },
        {
          "data": {
            "image/png": "[encoded data removed]",
            "text/plain": [
              "<Figure size 720x288 with 1 Axes>"
            ]
          },
          "metadata": {
            "needs_background": "light"
          },
          "output_type": "display_data"
        },
        {
          "data": {
            "image/png": "[encoded data removed]",
            "text/plain": [
              "<Figure size 720x288 with 1 Axes>"
            ]
          },
          "metadata": {
            "needs_background": "light"
          },
          "output_type": "display_data"
        },
        {
          "data": {
            "image/png": "[encoded data removed]",
            "text/plain": [
              "<Figure size 720x288 with 1 Axes>"
            ]
          },
          "metadata": {
            "needs_background": "light"
          },
          "output_type": "display_data"
        },
        {
          "data": {
            "image/png": "[encoded data removed]",
            "text/plain": [
              "<Figure size 720x288 with 1 Axes>"
            ]
          },
          "metadata": {
            "needs_background": "light"
          },
          "output_type": "display_data"
        },
        {
          "data": {
            "image/png": "[encoded data removed]",
            "text/plain": [
              "<Figure size 720x288 with 1 Axes>"
            ]
          },
          "metadata": {
            "needs_background": "light"
          },
          "output_type": "display_data"
        }
      ],
      "source": [
        "for elem in elems:\n",
        "    train = train.drop(train[train[elem] < 1].index,axis=0)\n",
        "    plt.figure(figsize=(10,4))\n",
        "    plt.title(col)\n",
        "    train[elem].hist(bins=100,range=(0, 50))"
      ]
    },
    {
      "cell_type": "markdown",
      "metadata": {
        "id": "e32A8NwZSX2U"
      },
      "source": [
        "Все ровно выбросов нет."
      ]
    },
    {
      "cell_type": "code",
      "execution_count": null,
      "metadata": {
        "id": "Nonm6dkISX2W"
      },
      "outputs": [],
      "source": [
        "size = [col for col in data if col.endswith('size')]"
      ]
    },
    {
      "cell_type": "code",
      "execution_count": null,
      "metadata": {
        "id": "vYYoSJ2SSX2W",
        "outputId": "7ffbdac4-5fd1-4b30-c76f-5c2362898069"
      },
      "outputs": [
        {
          "data": {
            "image/png": "[encoded data removed]",
            "text/plain": [
              "<Figure size 720x432 with 1 Axes>"
            ]
          },
          "metadata": {
            "needs_background": "light"
          },
          "output_type": "display_data"
        }
      ],
      "source": [
        "fig = plt.figure(figsize = (10,6))\n",
        "sns.distplot(train[size[0]][:],hist=False, rug=True)\n",
        "sns.distplot(test[size[0]][:10],hist=False, rug=True)\n",
        "plt.show()"
      ]
    },
    {
      "cell_type": "markdown",
      "metadata": {
        "id": "nXrUIbi8SX2X"
      },
      "source": [
        "На стадии первичной очистки распределения размеров гранул практически идентичны."
      ]
    },
    {
      "cell_type": "code",
      "execution_count": null,
      "metadata": {
        "scrolled": false,
        "id": "7yqv5x3ZSX2Y",
        "outputId": "ca8aa0ba-95cd-43ac-f9bd-581602e6704f"
      },
      "outputs": [
        {
          "data": {
            "text/plain": [
              "<AxesSubplot:xlabel='rougher.input.feed_size', ylabel='Density'>"
            ]
          },
          "execution_count": 121,
          "metadata": {},
          "output_type": "execute_result"
        },
        {
          "data": {
            "image/png": "[encoded data removed]",
            "text/plain": [
              "<Figure size 720x432 with 1 Axes>"
            ]
          },
          "metadata": {
            "needs_background": "light"
          },
          "output_type": "display_data"
        }
      ],
      "source": [
        "fig = plt.figure(figsize = (10,6))\n",
        "sns.distplot(train[size[1]][:100], hist=False, rug=True)\n",
        "sns.distplot(test[size[1]][:100], hist=False, rug=True)"
      ]
    },
    {
      "cell_type": "markdown",
      "metadata": {
        "id": "MO79Vbu0SX2Z"
      },
      "source": [
        "На исходной стадии стадии в тестовой выборке распределенние размеров гранул сырья смещено в лево, Находится в диапазоне 40-60, в тренеровочной выборке распределение в целом можно назвать нормальным."
      ]
    },
    {
      "cell_type": "code",
      "execution_count": null,
      "metadata": {
        "id": "RS4AnFxOSX2a"
      },
      "outputs": [],
      "source": [
        "data['Суммарная концентрация всех вещевств на стадиях.rougher.input'] = data.loc[:, ['rougher.input.feed_au',\n",
        "                            'rougher.input.feed_ag',\n",
        "                            'rougher.input.feed_pb',\n",
        "                            'rougher.input.feed_sol']].sum(axis=1)\n",
        "data['Суммарная концентрация всех вещевств на стадиях.rougher'] = data.loc[:, ['rougher.output.concentrate_au',\n",
        "                            'rougher.output.concentrate_ag',\n",
        "                            'rougher.output.concentrate_pb',\n",
        "                            'rougher.output.concentrate_sol']].sum(axis=1)\n",
        "data['Суммарная концентрация всех вещевств на стадиях.primary_cleaner'] = data.loc[:, ['primary_cleaner.output.concentrate_au',\n",
        "                           'primary_cleaner.output.concentrate_ag',\n",
        "                           'primary_cleaner.output.concentrate_pb',\n",
        "                           'primary_cleaner.output.concentrate_sol']].sum(axis=1)\n",
        "data['Суммарная концентрация всех вещевств на стадиях.final'] = data.loc[:, ['final.output.concentrate_au',\n",
        "                           'final.output.concentrate_ag',\n",
        "                           'final.output.concentrate_pb',\n",
        "                           'final.output.concentrate_sol']].sum(axis=1)"
      ]
    },
    {
      "cell_type": "code",
      "execution_count": null,
      "metadata": {
        "id": "7qkCj541SX2a",
        "outputId": "d01a9580-0695-4af4-9cf1-46a50edc776a"
      },
      "outputs": [
        {
          "data": {
            "text/plain": [
              "<AxesSubplot:xlabel='Суммарная концентрация всех вещевств на стадиях.final', ylabel='Density'>"
            ]
          },
          "execution_count": 123,
          "metadata": {},
          "output_type": "execute_result"
        },
        {
          "data": {
            "image/png": "[encoded data removed]",
            "text/plain": [
              "<Figure size 864x504 with 4 Axes>"
            ]
          },
          "metadata": {
            "needs_background": "light"
          },
          "output_type": "display_data"
        }
      ],
      "source": [
        "f, axes = plt.subplots(2, 2, figsize=(12, 7), sharex=False)\n",
        "sns.distplot(data['Суммарная концентрация всех вещевств на стадиях.rougher.input'], color=\"green\", ax=axes[0, 0])#.set_title(\"rougher.input.feed\")\n",
        "sns.distplot(data['Суммарная концентрация всех вещевств на стадиях.primary_cleaner'], color=\"blue\", ax=axes[1, 1])#.set_title(\"primary_cleaner.output.concentrate\")\n",
        "sns.distplot(data['Суммарная концентрация всех вещевств на стадиях.rougher'], color=\"blue\", ax=axes[0, 1])#.set_title(\"rougher.output.concentrate\")\n",
        "sns.distplot(data['Суммарная концентрация всех вещевств на стадиях.final'], color=\"pink\", ax=axes[1, 0])#.set_title(\"final.output.concentrate\")"
      ]
    },
    {
      "cell_type": "markdown",
      "metadata": {
        "id": "JSVDyYpxSX2b"
      },
      "source": [
        "В суммарной концентрации всех вещевств так же видны пики около нуля."
      ]
    },
    {
      "cell_type": "markdown",
      "metadata": {
        "id": "L9kel3nvSX2c"
      },
      "source": [
        "### Вывод "
      ]
    },
    {
      "cell_type": "markdown",
      "metadata": {
        "id": "YbV04ZOJSX2c"
      },
      "source": [
        "Данные из выборок сильно отличаются по колличеству данных но общая картина одинакова, до обработки размер гранулл находится в диапазоне от 40 до 80. После обработки размер гранул до 10. Выбросы из тренеровочной выборки убраны."
      ]
    },
    {
      "cell_type": "markdown",
      "metadata": {
        "id": "wUBYdPdXSX2h"
      },
      "source": [
        "## Модель"
      ]
    },
    {
      "cell_type": "code",
      "execution_count": null,
      "metadata": {
        "id": "sccuJKpiSX2h"
      },
      "outputs": [],
      "source": [
        "#target_rougher = 'rougher.output.recovery'\n",
        "#target_final = 'final.output.recovery'"
      ]
    },
    {
      "cell_type": "markdown",
      "metadata": {
        "id": "SHTqQa9ZSX2i"
      },
      "source": [
        "Уберём из обучающей выборки колонки которых нет в тестовой."
      ]
    },
    {
      "cell_type": "code",
      "execution_count": null,
      "metadata": {
        "scrolled": true,
        "id": "4EGvHLyBSX2i"
      },
      "outputs": [],
      "source": [
        "not_in_test_remove = not_in_test.columns.tolist()\n",
        "not_in_test_remove.remove('rougher.output.recovery')\n",
        "not_in_test_remove.remove('final.output.recovery')"
      ]
    },
    {
      "cell_type": "markdown",
      "metadata": {
        "id": "a5A9LrZ7SX2i"
      },
      "source": [
        "а так же уберём дату она не имеет значения."
      ]
    },
    {
      "cell_type": "code",
      "execution_count": null,
      "metadata": {
        "id": "QoY1iIu4SX2j"
      },
      "outputs": [],
      "source": [
        "for remove in not_in_test_remove:\n",
        "    train = train.drop(remove,axis=1)\n",
        "train = train.drop('date',axis=1)\n",
        "#test = test.drop('date',axis=1)"
      ]
    },
    {
      "cell_type": "markdown",
      "metadata": {
        "id": "c2lEh4JQSX2j"
      },
      "source": [
        "Заполним пропуски в данных ближайшими значениями."
      ]
    },
    {
      "cell_type": "code",
      "execution_count": null,
      "metadata": {
        "id": "egGE7sL0SX2j"
      },
      "outputs": [],
      "source": [
        "for data in (train, test, data):\n",
        "    data.fillna(method='ffill', inplace=True)"
      ]
    },
    {
      "cell_type": "markdown",
      "metadata": {
        "id": "-C4C2kseSX2k"
      },
      "source": [
        "Строим функции"
      ]
    },
    {
      "cell_type": "code",
      "execution_count": null,
      "metadata": {
        "id": "vZFgz0BGSX2k"
      },
      "outputs": [],
      "source": [
        "def sMAPE(target,predict):\n",
        "    smape = 100/len(target)*np.sum((2*np.abs(predict-target)/(np.abs(target)+np.abs(predict))))\n",
        "    return smape"
      ]
    },
    {
      "cell_type": "code",
      "execution_count": null,
      "metadata": {
        "id": "qNivMhQYSX2l"
      },
      "outputs": [],
      "source": [
        "def end_smape(smape_rougher, smape_final):\n",
        "    final_smape = (smape_rougher * 0.25) + (smape_final * 0.75)\n",
        "    return final_smape"
      ]
    },
    {
      "cell_type": "code",
      "execution_count": null,
      "metadata": {
        "id": "X6aTnme_SX2l"
      },
      "outputs": [],
      "source": [
        "# def get_cv_scores(model, target, features):\n",
        "#     my_scorer = make_scorer(sMAPE,greater_is_better=False)    \n",
        "#     scores = cross_val_score(model,features,target,cv=5,scoring=my_scorer)\n",
        "#     return scores.mean()"
      ]
    },
    {
      "cell_type": "code",
      "execution_count": null,
      "metadata": {
        "scrolled": true,
        "id": "X23o8wCKSX2m"
      },
      "outputs": [],
      "source": [
        "#my_scorer = make_scorer(sMAPE,greater_is_better=True)"
      ]
    },
    {
      "cell_type": "code",
      "execution_count": null,
      "metadata": {
        "id": "ee7IkYUYSX2q"
      },
      "outputs": [],
      "source": [
        "#фьюч тренеровочной\n",
        "feature = train.drop(['rougher.output.recovery', 'final.output.recovery'], axis=1)\n",
        "\n",
        "#таргеты тренеровочной\n",
        "target_rougher = train['rougher.output.recovery']\n",
        "target_final = train['final.output.recovery']"
      ]
    },
    {
      "cell_type": "markdown",
      "metadata": {
        "id": "lGa2Mi61SX2q"
      },
      "source": [
        "Присоеденим таргеты к тестовой выборке."
      ]
    },
    {
      "cell_type": "code",
      "execution_count": null,
      "metadata": {
        "id": "xXs1vNbRSX2q"
      },
      "outputs": [],
      "source": [
        "test = test.merge(data[['rougher.output.recovery', 'final.output.recovery','date']], on='date')\n",
        "test = test.drop('date',axis=1)"
      ]
    },
    {
      "cell_type": "code",
      "execution_count": null,
      "metadata": {
        "id": "AJFhfvu8SX2r"
      },
      "outputs": [],
      "source": [
        "#фьюч тестовой\n",
        "test_feature = test.drop(['rougher.output.recovery', 'final.output.recovery'], axis=1)\n",
        "#таргеты тестовой\n",
        "test_target_rougher = test['rougher.output.recovery']\n",
        "test_target_final = test['final.output.recovery']"
      ]
    },
    {
      "cell_type": "markdown",
      "metadata": {
        "id": "YPxBfh6ZSX2s"
      },
      "source": [
        "### Линейная регрессия"
      ]
    },
    {
      "cell_type": "code",
      "execution_count": null,
      "metadata": {
        "scrolled": false,
        "id": "NyAI0kzvSX2s"
      },
      "outputs": [],
      "source": [
        "def linear(feature,target,test_target):\n",
        "    model = LinearRegression()\n",
        "    #model.fit(feature, target)\n",
        "    #recovery_predicted = model.predict(test_feature)\n",
        "    \n",
        "    my_scorer = make_scorer(sMAPE,greater_is_better=False)\n",
        "    scores = cross_val_score(model, feature, target, cv=5,scoring=my_scorer) \n",
        "    final_score = pd.Series(scores).mean()\n",
        "    \n",
        "    #smape = get_cv_scores(model, target, feature) #sMAPE(test_target,recovery_predicted),\n",
        "    return [model,final_score]"
      ]
    },
    {
      "cell_type": "code",
      "execution_count": null,
      "metadata": {
        "scrolled": false,
        "id": "VOlqTJGNSX2t"
      },
      "outputs": [],
      "source": [
        "rougher = linear(feature,target_rougher,test_target_rougher)[1]\n",
        "final = linear(feature,target_final,test_target_final)[1]"
      ]
    },
    {
      "cell_type": "code",
      "execution_count": null,
      "metadata": {
        "scrolled": true,
        "id": "Sts6xpjoSX2t",
        "outputId": "9382547a-b48f-4c44-aaf2-65997dcf8310"
      },
      "outputs": [
        {
          "data": {
            "text/plain": [
              "10.089253813875892"
            ]
          },
          "execution_count": 137,
          "metadata": {},
          "output_type": "execute_result"
        }
      ],
      "source": [
        "end_smape(rougher,final)*-1"
      ]
    },
    {
      "cell_type": "markdown",
      "metadata": {
        "id": "sUwxzz2jSX2v"
      },
      "source": [
        "### Дерево решений"
      ]
    },
    {
      "cell_type": "code",
      "execution_count": null,
      "metadata": {
        "id": "GHrFW35OSX2v"
      },
      "outputs": [],
      "source": [
        "def DecisionTree(feature,target,test_target):\n",
        "    d = defaultdict(list)\n",
        "    for depth in range(2, 16):\n",
        "        model = DecisionTreeRegressor(max_depth=depth, random_state=12345)\n",
        "\n",
        "        my_scorer = make_scorer(sMAPE,greater_is_better=False)\n",
        "        scores = cross_val_score(model, feature, target, cv=5,scoring=my_scorer) \n",
        "        final_score = pd.Series(scores).mean()\n",
        "        \n",
        "        d['depth'].append(depth)\n",
        "        d['final_score'].append(final_score)\n",
        "    df = pd.DataFrame(d).sort_values(by='final_score')\n",
        "    return df #[final_score,sMAPE(test_target,recovery_predicted)]"
      ]
    },
    {
      "cell_type": "code",
      "execution_count": null,
      "metadata": {
        "id": "Fqhc3FroSX2w"
      },
      "outputs": [],
      "source": [
        "rougher = DecisionTree(feature,target_rougher,test_target_rougher)\n",
        "final = DecisionTree(feature,target_final,test_target_final)"
      ]
    },
    {
      "cell_type": "code",
      "execution_count": null,
      "metadata": {
        "id": "9tUCH0olSX2w",
        "outputId": "64ac6229-ece9-4aca-a7f4-fdb2e3fab9a0"
      },
      "outputs": [
        {
          "data": {
            "text/plain": [
              "9.338303830614823"
            ]
          },
          "execution_count": 140,
          "metadata": {},
          "output_type": "execute_result"
        }
      ],
      "source": [
        "end_smape(rougher['final_score'].iloc[0],final['final_score'].iloc[-1])*-1"
      ]
    },
    {
      "cell_type": "markdown",
      "metadata": {
        "id": "HoWbvCdiSX2y"
      },
      "source": [
        "### Случайный лес"
      ]
    },
    {
      "cell_type": "code",
      "execution_count": null,
      "metadata": {
        "id": "vubmTE3RSX2z"
      },
      "outputs": [],
      "source": [
        "def RandomForest(feature,target):\n",
        "    d = defaultdict(list)\n",
        "    for depth in range(2,10):\n",
        "        for estim in range(1, 20):\n",
        "            model = RandomForestRegressor(max_depth=depth,n_estimators=estim, random_state=12345)\n",
        "\n",
        "\n",
        "            my_scorer = make_scorer(sMAPE,greater_is_better=False)\n",
        "            scores = cross_val_score(model, feature, target, cv=5, scoring=my_scorer) \n",
        "            final_score = pd.Series(scores).mean()\n",
        "\n",
        "            d['estim'].append(estim)\n",
        "            d['final_score'].append(final_score)\n",
        "            d['depth'].append(depth)\n",
        "\n",
        "    df = pd.DataFrame(d).sort_values(by='final_score')\n",
        "    return df"
      ]
    },
    {
      "cell_type": "code",
      "execution_count": null,
      "metadata": {
        "id": "mcg-Oq-QSX2z"
      },
      "outputs": [],
      "source": [
        "rougher = RandomForest(feature,target_rougher)\n",
        "final = RandomForest(feature,target_final)"
      ]
    },
    {
      "cell_type": "code",
      "execution_count": null,
      "metadata": {
        "id": "gcFGHInVSX21",
        "outputId": "8412eeff-6017-468e-c768-0445559ab4b2"
      },
      "outputs": [
        {
          "data": {
            "text/plain": [
              "8.27932852987632"
            ]
          },
          "execution_count": 143,
          "metadata": {},
          "output_type": "execute_result"
        }
      ],
      "source": [
        "end_smape(rougher['final_score'].iloc[-1],final['final_score'].iloc[-1])*-1"
      ]
    },
    {
      "cell_type": "markdown",
      "metadata": {
        "id": "24snIhWGSX21"
      },
      "source": [
        "#### проверка на лучшей модели на тестовой выборке."
      ]
    },
    {
      "cell_type": "code",
      "execution_count": null,
      "metadata": {
        "id": "WC_r0mwESX21"
      },
      "outputs": [],
      "source": [
        "def RandomForestTest(feature,target,test_feature,test_target):\n",
        "    from collections import defaultdict\n",
        "    test_dict = defaultdict(list)\n",
        "\n",
        "    model = RandomForestRegressor(max_depth=3, n_estimators=18, random_state=12345)\n",
        "    \n",
        "    model.fit(feature, target)\n",
        "    \n",
        "    recovery_predicted = model.predict(test_feature)\n",
        "\n",
        "    test_dict['smape'].append(sMAPE(test_target, recovery_predicted))\n",
        "\n",
        "    df = pd.DataFrame(test_dict)\n",
        "    return df"
      ]
    },
    {
      "cell_type": "code",
      "execution_count": null,
      "metadata": {
        "id": "790uj3eKSX22"
      },
      "outputs": [],
      "source": [
        "rougher = RandomForestTest(feature,target_rougher,test_feature,test_target_rougher)\n",
        "final = RandomForestTest(feature,target_final,test_feature,test_target_final)"
      ]
    },
    {
      "cell_type": "code",
      "execution_count": null,
      "metadata": {
        "id": "cD-vDHyLSX22",
        "outputId": "a809740c-a972-459a-eb66-0204927f1523"
      },
      "outputs": [
        {
          "data": {
            "text/plain": [
              "9.385847485937264"
            ]
          },
          "execution_count": 146,
          "metadata": {},
          "output_type": "execute_result"
        }
      ],
      "source": [
        "end_smape(rougher['smape'][0],final['smape'][0])"
      ]
    },
    {
      "cell_type": "markdown",
      "metadata": {
        "id": "fgEn0KnuSX22"
      },
      "source": [
        "### сравнение с контрастной моделью"
      ]
    },
    {
      "cell_type": "code",
      "execution_count": null,
      "metadata": {
        "id": "I5ut9thVSX23"
      },
      "outputs": [],
      "source": [
        "def dummy(feature, target,test_feature):\n",
        "    dummy_r = DummyRegressor(strategy='mean')\n",
        "    dummy_r.fit(feature, target)\n",
        "    predict_test = dummy_r.predict(test_feature)\n",
        "    return predict_test"
      ]
    },
    {
      "cell_type": "code",
      "execution_count": null,
      "metadata": {
        "scrolled": false,
        "id": "hQ6aU4FWSX25"
      },
      "outputs": [],
      "source": [
        "rougher = dummy(feature,target_rougher,test_feature)\n",
        "final = dummy(feature,target_final,test_feature)"
      ]
    },
    {
      "cell_type": "code",
      "execution_count": null,
      "metadata": {
        "id": "XeERFPFZSX26"
      },
      "outputs": [],
      "source": [
        "rougher_smape_dummy = sMAPE(test_target_rougher,rougher)"
      ]
    },
    {
      "cell_type": "code",
      "execution_count": null,
      "metadata": {
        "id": "sc8q2Nx_SX26"
      },
      "outputs": [],
      "source": [
        "final_smape_dummy = sMAPE(test_target_final,final)"
      ]
    },
    {
      "cell_type": "code",
      "execution_count": null,
      "metadata": {
        "scrolled": false,
        "id": "bD0HDmq4SX26",
        "outputId": "1b356979-708f-4941-c196-f70827f96a6e"
      },
      "outputs": [
        {
          "data": {
            "text/plain": [
              "9.813874851296696"
            ]
          },
          "execution_count": 151,
          "metadata": {},
          "output_type": "execute_result"
        }
      ],
      "source": [
        "end_smape(rougher_smape_dummy,final_smape_dummy)"
      ]
    },
    {
      "cell_type": "markdown",
      "metadata": {
        "id": "mJMO8EqlSX27"
      },
      "source": [
        "## Вывод."
      ]
    },
    {
      "cell_type": "markdown",
      "metadata": {
        "id": "1Sa49MZDSX27"
      },
      "source": [
        "Наилучшая модель случайный лес она показала самую низкую метрику smape, она ниже чем у контрастной модели."
      ]
    },
    {
      "cell_type": "markdown",
      "metadata": {
        "id": "FMca_emySX3D"
      },
      "source": [
        "## Чек-лист готовности проекта"
      ]
    },
    {
      "cell_type": "markdown",
      "metadata": {
        "id": "sNtu3Ag7SX3D"
      },
      "source": [
        "- [x]  Jupyter Notebook открыт\n",
        "- [x]  Весь код выполняется без ошибок\n",
        "- [x]  Ячейки с кодом расположены в порядке выполнения\n",
        "- [x]  Выполнен шаг 1: данные подготовлены\n",
        "    - [x]  Проверена формула вычисления эффективности обогащения\n",
        "    - [x]  Проанализированы признаки, недоступные в тестовой выборке\n",
        "    - [x]  Проведена предобработка данных\n",
        "- [x]  Выполнен шаг 2: данные проанализированы\n",
        "    - [x]  Исследовано изменение концентрации элементов на каждом этапе\n",
        "    - [x]  Проанализированы распределения размеров гранул на обучающей и тестовой выборках\n",
        "    - [x]  Исследованы суммарные концентрации\n",
        "- [x]  Выполнен шаг 3: построена модель прогнозирования\n",
        "    - [x]  Написана функция для вычисления итогового *sMAPE*\n",
        "    - [x]  Обучено и проверено несколько моделей\n",
        "    - [x]  Выбрана лучшая модель, её качество проверено на тестовой выборке"
      ]
    },
    {
      "cell_type": "code",
      "execution_count": null,
      "metadata": {
        "id": "80C8bkt9SX3G"
      },
      "outputs": [],
      "source": []
    }
  ],
  "metadata": {
    "ExecuteTimeLog": [
      {
        "duration": 1174,
        "start_time": "2022-06-24T17:54:52.079Z"
      },
      {
        "duration": 157,
        "start_time": "2022-06-24T17:56:26.631Z"
      },
      {
        "duration": 5,
        "start_time": "2022-06-24T17:56:29.183Z"
      },
      {
        "duration": 40,
        "start_time": "2022-06-24T17:56:29.413Z"
      },
      {
        "duration": 1981,
        "start_time": "2022-06-24T17:57:15.313Z"
      },
      {
        "duration": 1425,
        "start_time": "2022-06-24T17:57:18.669Z"
      },
      {
        "duration": 37,
        "start_time": "2022-06-24T17:58:09.632Z"
      },
      {
        "duration": 14,
        "start_time": "2022-06-24T17:59:00.985Z"
      },
      {
        "duration": 20,
        "start_time": "2022-06-24T17:59:21.544Z"
      },
      {
        "duration": 9,
        "start_time": "2022-06-24T18:03:09.992Z"
      },
      {
        "duration": 8,
        "start_time": "2022-06-24T18:03:13.792Z"
      },
      {
        "duration": 18,
        "start_time": "2022-06-24T18:03:17.896Z"
      },
      {
        "duration": 17,
        "start_time": "2022-06-24T18:03:23.590Z"
      },
      {
        "duration": 34,
        "start_time": "2022-06-24T18:03:26.745Z"
      },
      {
        "duration": 22,
        "start_time": "2022-06-24T18:03:46.798Z"
      },
      {
        "duration": 3,
        "start_time": "2022-06-24T18:05:23.188Z"
      },
      {
        "duration": 19,
        "start_time": "2022-06-24T18:06:33.348Z"
      },
      {
        "duration": 3,
        "start_time": "2022-06-24T18:06:35.348Z"
      },
      {
        "duration": 17,
        "start_time": "2022-06-24T18:06:35.582Z"
      },
      {
        "duration": 27,
        "start_time": "2022-06-24T18:06:40.517Z"
      },
      {
        "duration": 16,
        "start_time": "2022-06-24T18:06:45.415Z"
      },
      {
        "duration": 15,
        "start_time": "2022-06-24T18:06:51.319Z"
      },
      {
        "duration": 14,
        "start_time": "2022-06-24T18:06:52.897Z"
      },
      {
        "duration": 80,
        "start_time": "2022-06-24T18:06:59.113Z"
      },
      {
        "duration": 25,
        "start_time": "2022-06-24T18:10:45.931Z"
      },
      {
        "duration": 8,
        "start_time": "2022-06-24T18:10:52.312Z"
      },
      {
        "duration": 8,
        "start_time": "2022-06-24T18:10:59.993Z"
      },
      {
        "duration": 19,
        "start_time": "2022-06-24T18:11:09.420Z"
      },
      {
        "duration": 19,
        "start_time": "2022-06-24T18:11:20.104Z"
      },
      {
        "duration": 15,
        "start_time": "2022-06-24T18:11:24.219Z"
      },
      {
        "duration": 13,
        "start_time": "2022-06-24T18:11:34.093Z"
      },
      {
        "duration": 13,
        "start_time": "2022-06-24T18:11:49.177Z"
      },
      {
        "duration": 14,
        "start_time": "2022-06-24T18:18:41.933Z"
      },
      {
        "duration": 10,
        "start_time": "2022-06-24T18:18:47.802Z"
      },
      {
        "duration": 26,
        "start_time": "2022-06-24T18:24:31.226Z"
      },
      {
        "duration": 123,
        "start_time": "2022-06-24T18:26:52.093Z"
      },
      {
        "duration": 2,
        "start_time": "2022-06-24T18:27:02.255Z"
      },
      {
        "duration": 4,
        "start_time": "2022-06-24T18:27:05.135Z"
      },
      {
        "duration": 9,
        "start_time": "2022-06-24T18:27:20.936Z"
      },
      {
        "duration": 7,
        "start_time": "2022-06-24T18:27:21.174Z"
      },
      {
        "duration": 11,
        "start_time": "2022-06-24T18:27:24.516Z"
      },
      {
        "duration": 15,
        "start_time": "2022-06-24T18:27:27.655Z"
      },
      {
        "duration": 2,
        "start_time": "2022-06-24T18:28:45.986Z"
      },
      {
        "duration": 40,
        "start_time": "2022-06-24T18:28:49.456Z"
      },
      {
        "duration": 26,
        "start_time": "2022-06-24T18:29:38.827Z"
      },
      {
        "duration": 6,
        "start_time": "2022-06-24T18:33:40.009Z"
      },
      {
        "duration": 65,
        "start_time": "2022-06-24T18:37:42.829Z"
      },
      {
        "duration": 5,
        "start_time": "2022-06-24T18:39:26.473Z"
      },
      {
        "duration": 12,
        "start_time": "2022-06-24T18:45:36.913Z"
      },
      {
        "duration": 3,
        "start_time": "2022-06-24T18:45:40.734Z"
      },
      {
        "duration": 4,
        "start_time": "2022-06-24T18:45:44.074Z"
      },
      {
        "duration": 3,
        "start_time": "2022-06-24T18:45:49.243Z"
      },
      {
        "duration": 4,
        "start_time": "2022-06-24T18:45:49.822Z"
      },
      {
        "duration": 11,
        "start_time": "2022-06-24T18:46:07.676Z"
      },
      {
        "duration": 4,
        "start_time": "2022-06-24T18:46:10.244Z"
      },
      {
        "duration": 2,
        "start_time": "2022-06-24T18:46:20.354Z"
      },
      {
        "duration": 3,
        "start_time": "2022-06-24T18:46:21.284Z"
      },
      {
        "duration": 3,
        "start_time": "2022-06-24T18:48:24.781Z"
      },
      {
        "duration": 3,
        "start_time": "2022-06-24T18:48:25.844Z"
      },
      {
        "duration": 2,
        "start_time": "2022-06-24T18:55:15.814Z"
      },
      {
        "duration": 4,
        "start_time": "2022-06-24T18:55:36.658Z"
      },
      {
        "duration": 3,
        "start_time": "2022-06-24T18:55:39.018Z"
      },
      {
        "duration": 3,
        "start_time": "2022-06-24T18:55:41.537Z"
      },
      {
        "duration": 2,
        "start_time": "2022-06-24T18:55:45.678Z"
      },
      {
        "duration": 3,
        "start_time": "2022-06-24T18:55:46.498Z"
      },
      {
        "duration": 15,
        "start_time": "2022-06-24T18:56:13.859Z"
      },
      {
        "duration": 3,
        "start_time": "2022-06-24T18:56:22.827Z"
      },
      {
        "duration": 11,
        "start_time": "2022-06-24T18:56:36.880Z"
      },
      {
        "duration": 3,
        "start_time": "2022-06-24T18:57:06.297Z"
      },
      {
        "duration": 5,
        "start_time": "2022-06-24T18:57:07.707Z"
      },
      {
        "duration": 3,
        "start_time": "2022-06-24T18:57:30.099Z"
      },
      {
        "duration": 3,
        "start_time": "2022-06-24T18:57:30.319Z"
      },
      {
        "duration": 3,
        "start_time": "2022-06-24T18:57:36.508Z"
      },
      {
        "duration": 3,
        "start_time": "2022-06-24T18:57:36.698Z"
      },
      {
        "duration": 3,
        "start_time": "2022-06-24T18:57:42.445Z"
      },
      {
        "duration": 4,
        "start_time": "2022-06-24T18:57:43.448Z"
      },
      {
        "duration": 3,
        "start_time": "2022-06-24T18:57:47.237Z"
      },
      {
        "duration": 4,
        "start_time": "2022-06-24T18:57:48.100Z"
      },
      {
        "duration": 2,
        "start_time": "2022-06-24T19:05:20.109Z"
      },
      {
        "duration": 5,
        "start_time": "2022-06-24T19:06:16.572Z"
      },
      {
        "duration": 11,
        "start_time": "2022-06-24T19:06:22.964Z"
      },
      {
        "duration": 6,
        "start_time": "2022-06-24T19:06:39.842Z"
      },
      {
        "duration": 110,
        "start_time": "2022-06-24T19:06:46.463Z"
      },
      {
        "duration": 5,
        "start_time": "2022-06-24T19:06:49.233Z"
      },
      {
        "duration": 5,
        "start_time": "2022-06-24T19:06:50.674Z"
      },
      {
        "duration": 5,
        "start_time": "2022-06-24T19:06:53.953Z"
      },
      {
        "duration": 5,
        "start_time": "2022-06-24T19:07:00.123Z"
      },
      {
        "duration": 6,
        "start_time": "2022-06-24T19:07:00.422Z"
      },
      {
        "duration": 5,
        "start_time": "2022-06-24T19:07:05.604Z"
      },
      {
        "duration": 3,
        "start_time": "2022-06-24T19:07:09.896Z"
      },
      {
        "duration": 8,
        "start_time": "2022-06-24T19:09:36.167Z"
      },
      {
        "duration": 5,
        "start_time": "2022-06-24T19:09:41.515Z"
      },
      {
        "duration": 6,
        "start_time": "2022-06-24T19:09:54.744Z"
      },
      {
        "duration": 201,
        "start_time": "2022-06-24T19:12:18.945Z"
      },
      {
        "duration": 4,
        "start_time": "2022-06-24T19:15:42.622Z"
      },
      {
        "duration": 5,
        "start_time": "2022-06-24T19:15:54.577Z"
      },
      {
        "duration": 6,
        "start_time": "2022-06-24T19:16:03.026Z"
      },
      {
        "duration": 6,
        "start_time": "2022-06-24T19:17:36.410Z"
      },
      {
        "duration": 5,
        "start_time": "2022-06-24T19:18:04.248Z"
      },
      {
        "duration": 6,
        "start_time": "2022-06-24T19:18:04.718Z"
      },
      {
        "duration": 10,
        "start_time": "2022-06-24T19:18:07.248Z"
      },
      {
        "duration": 7,
        "start_time": "2022-06-24T19:18:07.689Z"
      },
      {
        "duration": 7,
        "start_time": "2022-06-24T19:18:08.017Z"
      },
      {
        "duration": 9,
        "start_time": "2022-06-24T19:18:25.598Z"
      },
      {
        "duration": 6,
        "start_time": "2022-06-24T19:18:28.919Z"
      },
      {
        "duration": 5,
        "start_time": "2022-06-24T19:18:39.208Z"
      },
      {
        "duration": 8,
        "start_time": "2022-06-24T19:18:43.738Z"
      },
      {
        "duration": 5,
        "start_time": "2022-06-24T19:20:41.901Z"
      },
      {
        "duration": 345,
        "start_time": "2022-06-24T19:20:43.509Z"
      },
      {
        "duration": 327,
        "start_time": "2022-06-24T19:20:43.856Z"
      },
      {
        "duration": 13,
        "start_time": "2022-06-24T19:20:44.184Z"
      },
      {
        "duration": 5,
        "start_time": "2022-06-24T19:20:44.319Z"
      },
      {
        "duration": 8,
        "start_time": "2022-06-24T19:20:45.329Z"
      },
      {
        "duration": 8,
        "start_time": "2022-06-24T19:20:46.158Z"
      },
      {
        "duration": 55,
        "start_time": "2022-06-24T19:21:32.239Z"
      },
      {
        "duration": 5,
        "start_time": "2022-06-24T19:21:36.019Z"
      },
      {
        "duration": 13,
        "start_time": "2022-06-24T19:29:11.853Z"
      },
      {
        "duration": 44,
        "start_time": "2022-06-26T06:40:39.645Z"
      },
      {
        "duration": 1053,
        "start_time": "2022-06-26T06:40:42.995Z"
      },
      {
        "duration": 1861,
        "start_time": "2022-06-26T06:40:44.050Z"
      },
      {
        "duration": 1208,
        "start_time": "2022-06-26T06:40:45.913Z"
      },
      {
        "duration": 12,
        "start_time": "2022-06-26T06:40:47.123Z"
      },
      {
        "duration": 19,
        "start_time": "2022-06-26T06:40:47.137Z"
      },
      {
        "duration": 5,
        "start_time": "2022-06-26T06:40:47.158Z"
      },
      {
        "duration": 7,
        "start_time": "2022-06-26T06:40:47.164Z"
      },
      {
        "duration": 74,
        "start_time": "2022-06-26T06:40:47.172Z"
      },
      {
        "duration": 3,
        "start_time": "2022-06-26T06:40:59.582Z"
      },
      {
        "duration": 5,
        "start_time": "2022-06-26T06:41:02.113Z"
      },
      {
        "duration": 3,
        "start_time": "2022-06-26T06:41:15.643Z"
      },
      {
        "duration": 4,
        "start_time": "2022-06-26T06:41:19.134Z"
      },
      {
        "duration": 53,
        "start_time": "2022-06-26T06:43:21.500Z"
      },
      {
        "duration": 14,
        "start_time": "2022-06-26T06:46:54.052Z"
      },
      {
        "duration": 3,
        "start_time": "2022-06-26T06:46:56.185Z"
      },
      {
        "duration": 17,
        "start_time": "2022-06-26T06:47:14.752Z"
      },
      {
        "duration": 4,
        "start_time": "2022-06-26T06:47:14.957Z"
      },
      {
        "duration": 21,
        "start_time": "2022-06-26T06:47:19.427Z"
      },
      {
        "duration": 7,
        "start_time": "2022-06-26T06:54:34.378Z"
      },
      {
        "duration": 30,
        "start_time": "2022-06-26T06:54:37.252Z"
      },
      {
        "duration": 5,
        "start_time": "2022-06-26T06:54:47.084Z"
      },
      {
        "duration": 8,
        "start_time": "2022-06-26T06:57:19.501Z"
      },
      {
        "duration": 4,
        "start_time": "2022-06-26T06:57:19.769Z"
      },
      {
        "duration": 5,
        "start_time": "2022-06-26T06:57:22.847Z"
      },
      {
        "duration": 4,
        "start_time": "2022-06-26T06:57:23.183Z"
      },
      {
        "duration": 26,
        "start_time": "2022-06-26T06:57:37.751Z"
      },
      {
        "duration": 5,
        "start_time": "2022-06-26T06:59:55.751Z"
      },
      {
        "duration": 11,
        "start_time": "2022-06-26T07:03:32.850Z"
      },
      {
        "duration": 7,
        "start_time": "2022-06-26T07:03:35.065Z"
      },
      {
        "duration": 3,
        "start_time": "2022-06-26T07:11:12.614Z"
      },
      {
        "duration": 4,
        "start_time": "2022-06-26T07:22:10.270Z"
      },
      {
        "duration": 24,
        "start_time": "2022-06-26T07:28:06.836Z"
      },
      {
        "duration": 3,
        "start_time": "2022-06-26T07:49:46.604Z"
      },
      {
        "duration": 5,
        "start_time": "2022-06-26T07:49:52.443Z"
      },
      {
        "duration": 17,
        "start_time": "2022-06-26T07:50:17.773Z"
      },
      {
        "duration": 17,
        "start_time": "2022-06-26T07:50:46.944Z"
      },
      {
        "duration": 14,
        "start_time": "2022-06-26T07:51:12.225Z"
      },
      {
        "duration": 12,
        "start_time": "2022-06-26T07:51:13.875Z"
      },
      {
        "duration": 12,
        "start_time": "2022-06-26T07:51:21.254Z"
      },
      {
        "duration": 11,
        "start_time": "2022-06-26T07:51:24.227Z"
      },
      {
        "duration": 12,
        "start_time": "2022-06-26T07:51:26.404Z"
      },
      {
        "duration": 3,
        "start_time": "2022-06-26T07:52:07.166Z"
      },
      {
        "duration": 9,
        "start_time": "2022-06-26T07:52:09.115Z"
      },
      {
        "duration": 430,
        "start_time": "2022-06-26T07:52:29.236Z"
      },
      {
        "duration": 360,
        "start_time": "2022-06-26T07:52:29.669Z"
      },
      {
        "duration": 334,
        "start_time": "2022-06-26T07:52:30.030Z"
      },
      {
        "duration": 3,
        "start_time": "2022-06-26T07:52:30.367Z"
      },
      {
        "duration": 30,
        "start_time": "2022-06-26T07:52:30.372Z"
      },
      {
        "duration": 40,
        "start_time": "2022-06-26T07:52:30.403Z"
      },
      {
        "duration": 8,
        "start_time": "2022-06-26T07:52:30.494Z"
      },
      {
        "duration": 6,
        "start_time": "2022-06-26T07:52:30.723Z"
      },
      {
        "duration": 3,
        "start_time": "2022-06-26T07:52:31.375Z"
      },
      {
        "duration": 14,
        "start_time": "2022-06-26T07:52:31.625Z"
      },
      {
        "duration": 4,
        "start_time": "2022-06-26T07:52:31.925Z"
      },
      {
        "duration": 4,
        "start_time": "2022-06-26T07:52:34.114Z"
      },
      {
        "duration": 32,
        "start_time": "2022-06-26T07:52:34.604Z"
      },
      {
        "duration": 58,
        "start_time": "2022-06-26T07:52:59.034Z"
      },
      {
        "duration": 389,
        "start_time": "2022-06-26T07:53:00.858Z"
      },
      {
        "duration": 411,
        "start_time": "2022-06-26T07:53:01.249Z"
      },
      {
        "duration": 3,
        "start_time": "2022-06-26T07:53:01.663Z"
      },
      {
        "duration": 76,
        "start_time": "2022-06-26T07:53:01.670Z"
      },
      {
        "duration": 12,
        "start_time": "2022-06-26T07:53:02.704Z"
      },
      {
        "duration": 6,
        "start_time": "2022-06-26T07:53:02.947Z"
      },
      {
        "duration": 5,
        "start_time": "2022-06-26T07:53:03.114Z"
      },
      {
        "duration": 2,
        "start_time": "2022-06-26T07:53:03.904Z"
      },
      {
        "duration": 9,
        "start_time": "2022-06-26T07:53:04.167Z"
      },
      {
        "duration": 5,
        "start_time": "2022-06-26T07:53:04.325Z"
      },
      {
        "duration": 3,
        "start_time": "2022-06-26T07:53:06.135Z"
      },
      {
        "duration": 18,
        "start_time": "2022-06-26T07:53:06.507Z"
      },
      {
        "duration": 16,
        "start_time": "2022-06-26T07:53:18.186Z"
      },
      {
        "duration": 11,
        "start_time": "2022-06-26T07:54:19.902Z"
      },
      {
        "duration": 4,
        "start_time": "2022-06-26T07:54:29.047Z"
      },
      {
        "duration": 11,
        "start_time": "2022-06-26T07:54:35.795Z"
      },
      {
        "duration": 11,
        "start_time": "2022-06-26T07:54:38.336Z"
      },
      {
        "duration": 61,
        "start_time": "2022-06-26T07:55:19.185Z"
      },
      {
        "duration": 58,
        "start_time": "2022-06-26T07:55:23.556Z"
      },
      {
        "duration": 15,
        "start_time": "2022-06-26T07:55:26.135Z"
      },
      {
        "duration": 375,
        "start_time": "2022-06-26T07:56:03.936Z"
      },
      {
        "duration": 1410,
        "start_time": "2022-06-26T07:56:51.232Z"
      },
      {
        "duration": 372,
        "start_time": "2022-06-26T07:56:52.644Z"
      },
      {
        "duration": 344,
        "start_time": "2022-06-26T07:56:53.017Z"
      },
      {
        "duration": 2,
        "start_time": "2022-06-26T07:56:53.362Z"
      },
      {
        "duration": 17,
        "start_time": "2022-06-26T07:56:53.366Z"
      },
      {
        "duration": 12,
        "start_time": "2022-06-26T07:56:53.384Z"
      },
      {
        "duration": 4,
        "start_time": "2022-06-26T07:56:53.398Z"
      },
      {
        "duration": 5,
        "start_time": "2022-06-26T07:56:53.426Z"
      },
      {
        "duration": 5,
        "start_time": "2022-06-26T07:56:53.432Z"
      },
      {
        "duration": 17,
        "start_time": "2022-06-26T07:56:53.438Z"
      },
      {
        "duration": 5,
        "start_time": "2022-06-26T07:56:53.456Z"
      },
      {
        "duration": 17,
        "start_time": "2022-06-26T07:56:53.462Z"
      },
      {
        "duration": 117,
        "start_time": "2022-06-26T07:56:53.481Z"
      },
      {
        "duration": 0,
        "start_time": "2022-06-26T07:56:53.600Z"
      },
      {
        "duration": 76,
        "start_time": "2022-06-26T07:57:30.010Z"
      },
      {
        "duration": 12,
        "start_time": "2022-06-26T07:57:33.819Z"
      },
      {
        "duration": 11,
        "start_time": "2022-06-26T07:57:42.340Z"
      },
      {
        "duration": 16,
        "start_time": "2022-06-26T07:57:50.811Z"
      },
      {
        "duration": 17,
        "start_time": "2022-06-26T07:57:58.610Z"
      },
      {
        "duration": 19,
        "start_time": "2022-06-26T07:58:00.332Z"
      },
      {
        "duration": 11,
        "start_time": "2022-06-26T07:58:00.539Z"
      },
      {
        "duration": 12,
        "start_time": "2022-06-26T07:58:15.990Z"
      },
      {
        "duration": 768,
        "start_time": "2022-06-26T07:58:37.250Z"
      },
      {
        "duration": 115,
        "start_time": "2022-06-26T07:58:56.230Z"
      },
      {
        "duration": 8,
        "start_time": "2022-06-26T07:59:02.981Z"
      },
      {
        "duration": 1365,
        "start_time": "2022-06-26T08:00:32.485Z"
      },
      {
        "duration": 353,
        "start_time": "2022-06-26T08:00:33.852Z"
      },
      {
        "duration": 317,
        "start_time": "2022-06-26T08:00:34.206Z"
      },
      {
        "duration": 2,
        "start_time": "2022-06-26T08:00:34.525Z"
      },
      {
        "duration": 30,
        "start_time": "2022-06-26T08:00:34.529Z"
      },
      {
        "duration": 30,
        "start_time": "2022-06-26T08:00:34.561Z"
      },
      {
        "duration": 56,
        "start_time": "2022-06-26T08:00:34.593Z"
      },
      {
        "duration": 36,
        "start_time": "2022-06-26T08:00:34.651Z"
      },
      {
        "duration": 29,
        "start_time": "2022-06-26T08:00:34.689Z"
      },
      {
        "duration": 44,
        "start_time": "2022-06-26T08:00:34.720Z"
      },
      {
        "duration": 20,
        "start_time": "2022-06-26T08:00:34.765Z"
      },
      {
        "duration": 47,
        "start_time": "2022-06-26T08:00:34.787Z"
      },
      {
        "duration": 36,
        "start_time": "2022-06-26T08:00:34.836Z"
      },
      {
        "duration": 125,
        "start_time": "2022-06-26T08:00:34.874Z"
      },
      {
        "duration": 0,
        "start_time": "2022-06-26T08:00:35.001Z"
      },
      {
        "duration": 12,
        "start_time": "2022-06-26T08:01:28.783Z"
      },
      {
        "duration": 6931,
        "start_time": "2022-06-26T08:01:38.202Z"
      },
      {
        "duration": 7,
        "start_time": "2022-06-26T08:03:29.425Z"
      },
      {
        "duration": 140,
        "start_time": "2022-06-26T08:03:37.062Z"
      },
      {
        "duration": 14,
        "start_time": "2022-06-26T08:03:40.236Z"
      },
      {
        "duration": 12,
        "start_time": "2022-06-26T08:03:43.174Z"
      },
      {
        "duration": 8,
        "start_time": "2022-06-26T08:03:46.894Z"
      },
      {
        "duration": 17,
        "start_time": "2022-06-26T08:04:37.754Z"
      },
      {
        "duration": 7,
        "start_time": "2022-06-26T08:05:02.015Z"
      },
      {
        "duration": 13,
        "start_time": "2022-06-26T08:05:04.074Z"
      },
      {
        "duration": 6,
        "start_time": "2022-06-26T08:05:07.324Z"
      },
      {
        "duration": 6,
        "start_time": "2022-06-26T08:05:09.814Z"
      },
      {
        "duration": 5,
        "start_time": "2022-06-26T08:05:19.966Z"
      },
      {
        "duration": 9,
        "start_time": "2022-06-26T08:05:23.585Z"
      },
      {
        "duration": 143,
        "start_time": "2022-06-26T08:05:40.945Z"
      },
      {
        "duration": 129,
        "start_time": "2022-06-26T08:05:50.956Z"
      },
      {
        "duration": 123,
        "start_time": "2022-06-26T08:05:55.015Z"
      },
      {
        "duration": 133,
        "start_time": "2022-06-26T08:05:59.995Z"
      },
      {
        "duration": 132,
        "start_time": "2022-06-26T08:06:03.185Z"
      },
      {
        "duration": 118,
        "start_time": "2022-06-26T08:06:43.156Z"
      },
      {
        "duration": 9,
        "start_time": "2022-06-26T08:08:54.669Z"
      },
      {
        "duration": 3,
        "start_time": "2022-06-26T08:08:55.774Z"
      },
      {
        "duration": 26,
        "start_time": "2022-06-26T08:08:55.976Z"
      },
      {
        "duration": 4,
        "start_time": "2022-06-26T08:09:03.346Z"
      },
      {
        "duration": 26,
        "start_time": "2022-06-26T08:09:03.637Z"
      },
      {
        "duration": 133,
        "start_time": "2022-06-26T08:09:11.362Z"
      },
      {
        "duration": 4,
        "start_time": "2022-06-26T08:10:21.887Z"
      },
      {
        "duration": 344,
        "start_time": "2022-06-26T08:10:22.067Z"
      },
      {
        "duration": 4,
        "start_time": "2022-06-26T08:10:38.402Z"
      },
      {
        "duration": 119,
        "start_time": "2022-06-26T08:10:38.677Z"
      },
      {
        "duration": 4,
        "start_time": "2022-06-26T08:11:07.787Z"
      },
      {
        "duration": 4,
        "start_time": "2022-06-26T08:11:08.690Z"
      },
      {
        "duration": 122,
        "start_time": "2022-06-26T08:11:09.067Z"
      },
      {
        "duration": 474,
        "start_time": "2022-06-26T08:11:27.678Z"
      },
      {
        "duration": 4,
        "start_time": "2022-06-26T08:12:13.418Z"
      },
      {
        "duration": 26,
        "start_time": "2022-06-26T08:12:18.669Z"
      },
      {
        "duration": 9,
        "start_time": "2022-06-26T08:12:20.661Z"
      },
      {
        "duration": 492,
        "start_time": "2022-06-26T08:12:24.998Z"
      },
      {
        "duration": 5,
        "start_time": "2022-06-26T08:12:57.329Z"
      },
      {
        "duration": 842,
        "start_time": "2022-06-26T08:12:59.368Z"
      },
      {
        "duration": 6,
        "start_time": "2022-06-26T08:13:30.780Z"
      },
      {
        "duration": 361,
        "start_time": "2022-06-26T08:13:32.369Z"
      },
      {
        "duration": 5,
        "start_time": "2022-06-26T08:13:39.848Z"
      },
      {
        "duration": 726,
        "start_time": "2022-06-26T08:13:41.460Z"
      },
      {
        "duration": 6,
        "start_time": "2022-06-26T08:14:12.019Z"
      },
      {
        "duration": 278,
        "start_time": "2022-06-26T08:14:12.569Z"
      },
      {
        "duration": 5,
        "start_time": "2022-06-26T08:14:40.339Z"
      },
      {
        "duration": 268,
        "start_time": "2022-06-26T08:14:40.710Z"
      },
      {
        "duration": 5,
        "start_time": "2022-06-26T08:14:50.809Z"
      },
      {
        "duration": 457,
        "start_time": "2022-06-26T08:14:51.590Z"
      },
      {
        "duration": 5,
        "start_time": "2022-06-26T08:15:56.480Z"
      },
      {
        "duration": 5,
        "start_time": "2022-06-26T08:15:59.742Z"
      },
      {
        "duration": 275,
        "start_time": "2022-06-26T08:16:01.960Z"
      },
      {
        "duration": 4,
        "start_time": "2022-06-26T08:16:13.060Z"
      },
      {
        "duration": 322,
        "start_time": "2022-06-26T08:16:13.380Z"
      },
      {
        "duration": 4,
        "start_time": "2022-06-26T08:16:55.061Z"
      },
      {
        "duration": 31,
        "start_time": "2022-06-26T08:16:55.231Z"
      },
      {
        "duration": 4,
        "start_time": "2022-06-26T08:17:00.690Z"
      },
      {
        "duration": 24,
        "start_time": "2022-06-26T08:17:00.863Z"
      },
      {
        "duration": 4,
        "start_time": "2022-06-26T08:17:05.932Z"
      },
      {
        "duration": 25,
        "start_time": "2022-06-26T08:17:06.092Z"
      },
      {
        "duration": 4,
        "start_time": "2022-06-26T08:17:11.700Z"
      },
      {
        "duration": 456,
        "start_time": "2022-06-26T08:17:12.150Z"
      },
      {
        "duration": 4,
        "start_time": "2022-06-26T08:21:48.062Z"
      },
      {
        "duration": 1418,
        "start_time": "2022-06-26T08:21:48.512Z"
      },
      {
        "duration": 3,
        "start_time": "2022-06-26T08:23:17.327Z"
      },
      {
        "duration": 16,
        "start_time": "2022-06-26T08:23:17.843Z"
      },
      {
        "duration": 3,
        "start_time": "2022-06-26T08:23:23.914Z"
      },
      {
        "duration": 18,
        "start_time": "2022-06-26T08:23:24.083Z"
      },
      {
        "duration": 4,
        "start_time": "2022-06-26T08:23:42.294Z"
      },
      {
        "duration": 251,
        "start_time": "2022-06-26T08:23:42.450Z"
      },
      {
        "duration": 4,
        "start_time": "2022-06-26T08:23:52.984Z"
      },
      {
        "duration": 1449,
        "start_time": "2022-06-26T08:23:53.154Z"
      },
      {
        "duration": 4,
        "start_time": "2022-06-26T08:24:04.344Z"
      },
      {
        "duration": 675,
        "start_time": "2022-06-26T08:24:04.604Z"
      },
      {
        "duration": 50,
        "start_time": "2022-06-26T08:24:35.975Z"
      },
      {
        "duration": 694,
        "start_time": "2022-06-26T08:24:36.943Z"
      },
      {
        "duration": 4,
        "start_time": "2022-06-26T08:24:44.144Z"
      },
      {
        "duration": 239,
        "start_time": "2022-06-26T08:24:44.313Z"
      },
      {
        "duration": 3,
        "start_time": "2022-06-26T08:25:51.725Z"
      },
      {
        "duration": 468,
        "start_time": "2022-06-26T08:25:51.925Z"
      },
      {
        "duration": 4,
        "start_time": "2022-06-26T08:26:34.744Z"
      },
      {
        "duration": 578,
        "start_time": "2022-06-26T08:26:35.154Z"
      },
      {
        "duration": 4,
        "start_time": "2022-06-26T08:27:09.465Z"
      },
      {
        "duration": 9027,
        "start_time": "2022-06-26T08:27:09.906Z"
      },
      {
        "duration": 5,
        "start_time": "2022-06-26T08:27:44.585Z"
      },
      {
        "duration": 11,
        "start_time": "2022-06-26T08:27:45.295Z"
      },
      {
        "duration": 10,
        "start_time": "2022-06-26T08:27:48.185Z"
      },
      {
        "duration": 4,
        "start_time": "2022-06-26T08:27:52.855Z"
      },
      {
        "duration": 9,
        "start_time": "2022-06-26T08:27:53.335Z"
      },
      {
        "duration": 11,
        "start_time": "2022-06-26T08:28:00.215Z"
      },
      {
        "duration": 13,
        "start_time": "2022-06-26T08:28:01.702Z"
      },
      {
        "duration": 11,
        "start_time": "2022-06-26T08:28:10.354Z"
      },
      {
        "duration": 9,
        "start_time": "2022-06-26T08:28:10.755Z"
      },
      {
        "duration": 23,
        "start_time": "2022-06-26T08:28:17.425Z"
      },
      {
        "duration": 4,
        "start_time": "2022-06-26T08:29:26.392Z"
      },
      {
        "duration": 11,
        "start_time": "2022-06-26T08:29:26.656Z"
      },
      {
        "duration": 27,
        "start_time": "2022-06-26T08:29:30.305Z"
      },
      {
        "duration": 27,
        "start_time": "2022-06-26T08:29:32.278Z"
      },
      {
        "duration": 33,
        "start_time": "2022-06-26T08:29:35.766Z"
      },
      {
        "duration": 10,
        "start_time": "2022-06-26T08:30:44.718Z"
      },
      {
        "duration": 12,
        "start_time": "2022-06-26T08:30:48.628Z"
      },
      {
        "duration": 17,
        "start_time": "2022-06-26T08:30:48.897Z"
      },
      {
        "duration": 11,
        "start_time": "2022-06-26T08:32:12.926Z"
      },
      {
        "duration": 11,
        "start_time": "2022-06-26T08:32:15.108Z"
      },
      {
        "duration": 10,
        "start_time": "2022-06-26T08:32:34.860Z"
      },
      {
        "duration": 13,
        "start_time": "2022-06-26T08:32:35.277Z"
      },
      {
        "duration": 11,
        "start_time": "2022-06-26T08:32:37.546Z"
      },
      {
        "duration": 13,
        "start_time": "2022-06-26T08:32:43.017Z"
      },
      {
        "duration": 13,
        "start_time": "2022-06-26T08:32:52.349Z"
      },
      {
        "duration": 13,
        "start_time": "2022-06-26T08:33:01.490Z"
      },
      {
        "duration": 3,
        "start_time": "2022-06-26T08:33:04.438Z"
      },
      {
        "duration": 11,
        "start_time": "2022-06-26T08:33:04.617Z"
      },
      {
        "duration": 12,
        "start_time": "2022-06-26T08:33:05.477Z"
      },
      {
        "duration": 10,
        "start_time": "2022-06-26T08:33:11.947Z"
      },
      {
        "duration": 10,
        "start_time": "2022-06-26T08:33:23.799Z"
      },
      {
        "duration": 5,
        "start_time": "2022-06-26T08:33:29.358Z"
      },
      {
        "duration": 388,
        "start_time": "2022-06-26T08:33:29.365Z"
      },
      {
        "duration": 349,
        "start_time": "2022-06-26T08:33:29.754Z"
      },
      {
        "duration": 3,
        "start_time": "2022-06-26T08:33:30.104Z"
      },
      {
        "duration": 27,
        "start_time": "2022-06-26T08:33:30.109Z"
      },
      {
        "duration": 25,
        "start_time": "2022-06-26T08:33:30.137Z"
      },
      {
        "duration": 10,
        "start_time": "2022-06-26T08:33:30.164Z"
      },
      {
        "duration": 20,
        "start_time": "2022-06-26T08:33:30.175Z"
      },
      {
        "duration": 23,
        "start_time": "2022-06-26T08:33:30.196Z"
      },
      {
        "duration": 28,
        "start_time": "2022-06-26T08:33:30.221Z"
      },
      {
        "duration": 7,
        "start_time": "2022-06-26T08:33:30.250Z"
      },
      {
        "duration": 37,
        "start_time": "2022-06-26T08:33:30.259Z"
      },
      {
        "duration": 31,
        "start_time": "2022-06-26T08:33:30.298Z"
      },
      {
        "duration": 9,
        "start_time": "2022-06-26T08:33:30.332Z"
      },
      {
        "duration": 21,
        "start_time": "2022-06-26T08:33:30.343Z"
      },
      {
        "duration": 26,
        "start_time": "2022-06-26T08:34:20.474Z"
      },
      {
        "duration": 15,
        "start_time": "2022-06-26T08:34:27.658Z"
      },
      {
        "duration": 17,
        "start_time": "2022-06-26T08:34:29.408Z"
      },
      {
        "duration": 17,
        "start_time": "2022-06-26T08:34:33.398Z"
      },
      {
        "duration": 30,
        "start_time": "2022-06-26T08:34:36.358Z"
      },
      {
        "duration": 32,
        "start_time": "2022-06-26T08:34:46.069Z"
      },
      {
        "duration": 11,
        "start_time": "2022-06-26T08:34:46.338Z"
      },
      {
        "duration": 29,
        "start_time": "2022-06-26T08:35:35.008Z"
      },
      {
        "duration": 28,
        "start_time": "2022-06-26T08:35:44.210Z"
      },
      {
        "duration": 33,
        "start_time": "2022-06-26T08:35:58.616Z"
      },
      {
        "duration": 40,
        "start_time": "2022-06-26T08:36:04.621Z"
      },
      {
        "duration": 198,
        "start_time": "2022-06-26T08:37:04.140Z"
      },
      {
        "duration": 46,
        "start_time": "2022-06-26T08:37:09.660Z"
      },
      {
        "duration": 51,
        "start_time": "2022-06-26T08:37:14.159Z"
      },
      {
        "duration": 44,
        "start_time": "2022-06-26T08:37:18.242Z"
      },
      {
        "duration": 32,
        "start_time": "2022-06-26T08:39:15.121Z"
      },
      {
        "duration": 18,
        "start_time": "2022-06-26T08:39:34.200Z"
      },
      {
        "duration": 502,
        "start_time": "2022-06-26T08:40:52.272Z"
      },
      {
        "duration": 481,
        "start_time": "2022-06-26T08:40:57.453Z"
      },
      {
        "duration": 500,
        "start_time": "2022-06-26T08:41:16.303Z"
      },
      {
        "duration": 3,
        "start_time": "2022-06-26T08:42:40.831Z"
      },
      {
        "duration": 613,
        "start_time": "2022-06-26T08:42:41.633Z"
      },
      {
        "duration": 4,
        "start_time": "2022-06-26T08:42:46.541Z"
      },
      {
        "duration": 643,
        "start_time": "2022-06-26T08:42:47.071Z"
      },
      {
        "duration": 6,
        "start_time": "2022-06-26T08:42:55.283Z"
      },
      {
        "duration": 387,
        "start_time": "2022-06-26T08:42:55.291Z"
      },
      {
        "duration": 322,
        "start_time": "2022-06-26T08:42:55.679Z"
      },
      {
        "duration": 2,
        "start_time": "2022-06-26T08:42:56.003Z"
      },
      {
        "duration": 22,
        "start_time": "2022-06-26T08:42:56.008Z"
      },
      {
        "duration": 10,
        "start_time": "2022-06-26T08:42:56.032Z"
      },
      {
        "duration": 8,
        "start_time": "2022-06-26T08:42:56.044Z"
      },
      {
        "duration": 6,
        "start_time": "2022-06-26T08:42:56.054Z"
      },
      {
        "duration": 5,
        "start_time": "2022-06-26T08:42:56.061Z"
      },
      {
        "duration": 23,
        "start_time": "2022-06-26T08:42:56.068Z"
      },
      {
        "duration": 5,
        "start_time": "2022-06-26T08:42:56.093Z"
      },
      {
        "duration": 27,
        "start_time": "2022-06-26T08:42:56.100Z"
      },
      {
        "duration": 529,
        "start_time": "2022-06-26T08:42:56.129Z"
      },
      {
        "duration": 13,
        "start_time": "2022-06-26T08:42:56.661Z"
      },
      {
        "duration": 4,
        "start_time": "2022-06-26T08:42:56.676Z"
      },
      {
        "duration": 15,
        "start_time": "2022-06-26T08:43:15.573Z"
      },
      {
        "duration": 15,
        "start_time": "2022-06-26T08:43:36.461Z"
      },
      {
        "duration": 47,
        "start_time": "2022-06-26T08:43:42.402Z"
      },
      {
        "duration": 3,
        "start_time": "2022-06-26T08:43:47.815Z"
      },
      {
        "duration": 3,
        "start_time": "2022-06-26T08:43:51.972Z"
      },
      {
        "duration": 5,
        "start_time": "2022-06-26T08:43:58.226Z"
      },
      {
        "duration": 4,
        "start_time": "2022-06-26T08:43:58.412Z"
      },
      {
        "duration": 16,
        "start_time": "2022-06-26T08:43:58.782Z"
      },
      {
        "duration": 16,
        "start_time": "2022-06-26T08:44:23.262Z"
      },
      {
        "duration": 16,
        "start_time": "2022-06-26T08:44:23.577Z"
      },
      {
        "duration": 1668,
        "start_time": "2022-06-26T08:44:31.242Z"
      },
      {
        "duration": 0,
        "start_time": "2022-06-26T08:44:32.913Z"
      },
      {
        "duration": 530,
        "start_time": "2022-06-26T08:44:48.302Z"
      },
      {
        "duration": 136,
        "start_time": "2022-06-26T08:45:04.293Z"
      },
      {
        "duration": 532,
        "start_time": "2022-06-26T08:45:22.363Z"
      },
      {
        "duration": 1364,
        "start_time": "2022-06-26T08:45:31.382Z"
      },
      {
        "duration": 1045,
        "start_time": "2022-06-26T08:45:41.873Z"
      },
      {
        "duration": 1284,
        "start_time": "2022-06-26T08:45:51.202Z"
      },
      {
        "duration": 579,
        "start_time": "2022-06-26T08:45:58.813Z"
      },
      {
        "duration": 565,
        "start_time": "2022-06-26T08:46:33.783Z"
      },
      {
        "duration": 77,
        "start_time": "2022-06-26T08:49:34.245Z"
      },
      {
        "duration": 555,
        "start_time": "2022-06-26T08:49:56.315Z"
      },
      {
        "duration": 601,
        "start_time": "2022-06-26T08:50:10.465Z"
      },
      {
        "duration": 723,
        "start_time": "2022-06-26T08:50:20.834Z"
      },
      {
        "duration": 685,
        "start_time": "2022-06-26T08:51:01.105Z"
      },
      {
        "duration": 581,
        "start_time": "2022-06-26T08:51:03.475Z"
      },
      {
        "duration": 47,
        "start_time": "2022-06-26T08:51:13.245Z"
      },
      {
        "duration": 591,
        "start_time": "2022-06-26T08:51:20.908Z"
      },
      {
        "duration": 577,
        "start_time": "2022-06-26T08:51:40.174Z"
      },
      {
        "duration": 699,
        "start_time": "2022-06-26T08:51:55.466Z"
      },
      {
        "duration": 629,
        "start_time": "2022-06-26T08:51:57.725Z"
      },
      {
        "duration": 13,
        "start_time": "2022-06-26T08:54:29.176Z"
      },
      {
        "duration": 13,
        "start_time": "2022-06-26T08:54:33.296Z"
      },
      {
        "duration": 17,
        "start_time": "2022-06-26T08:55:05.675Z"
      },
      {
        "duration": 16,
        "start_time": "2022-06-26T08:56:57.818Z"
      },
      {
        "duration": 625,
        "start_time": "2022-06-26T08:57:00.528Z"
      },
      {
        "duration": 527,
        "start_time": "2022-06-26T08:58:55.677Z"
      },
      {
        "duration": 4,
        "start_time": "2022-06-26T09:21:38.577Z"
      },
      {
        "duration": 465,
        "start_time": "2022-06-26T09:22:05.468Z"
      },
      {
        "duration": 479,
        "start_time": "2022-06-26T09:22:17.516Z"
      },
      {
        "duration": 30,
        "start_time": "2022-06-26T09:23:05.197Z"
      },
      {
        "duration": 761,
        "start_time": "2022-06-26T09:23:27.289Z"
      },
      {
        "duration": 3,
        "start_time": "2022-06-26T09:23:59.941Z"
      },
      {
        "duration": 2,
        "start_time": "2022-06-26T09:24:03.909Z"
      },
      {
        "duration": 4,
        "start_time": "2022-06-26T09:24:06.998Z"
      },
      {
        "duration": 5,
        "start_time": "2022-06-26T09:24:17.997Z"
      },
      {
        "duration": 4,
        "start_time": "2022-06-26T09:24:19.308Z"
      },
      {
        "duration": 4,
        "start_time": "2022-06-26T09:25:15.248Z"
      },
      {
        "duration": 11,
        "start_time": "2022-06-26T09:25:25.308Z"
      },
      {
        "duration": 12,
        "start_time": "2022-06-26T09:25:47.848Z"
      },
      {
        "duration": 48,
        "start_time": "2022-06-26T09:27:00.189Z"
      },
      {
        "duration": 10,
        "start_time": "2022-06-26T09:27:05.289Z"
      },
      {
        "duration": 9,
        "start_time": "2022-06-26T09:27:11.319Z"
      },
      {
        "duration": 12,
        "start_time": "2022-06-26T09:27:23.619Z"
      },
      {
        "duration": 246,
        "start_time": "2022-06-26T09:29:10.141Z"
      },
      {
        "duration": 128,
        "start_time": "2022-06-26T09:29:15.780Z"
      },
      {
        "duration": 243,
        "start_time": "2022-06-26T09:29:18.521Z"
      },
      {
        "duration": 134,
        "start_time": "2022-06-26T09:29:24.500Z"
      },
      {
        "duration": 265,
        "start_time": "2022-06-26T09:29:26.974Z"
      },
      {
        "duration": 382,
        "start_time": "2022-06-26T09:31:56.491Z"
      },
      {
        "duration": 477,
        "start_time": "2022-06-26T09:38:15.125Z"
      },
      {
        "duration": 346,
        "start_time": "2022-06-26T09:38:21.895Z"
      },
      {
        "duration": 246,
        "start_time": "2022-06-26T09:38:26.994Z"
      },
      {
        "duration": 348,
        "start_time": "2022-06-26T09:38:32.955Z"
      },
      {
        "duration": 2972,
        "start_time": "2022-06-26T09:39:05.724Z"
      },
      {
        "duration": 698,
        "start_time": "2022-06-26T09:39:22.796Z"
      },
      {
        "duration": 202,
        "start_time": "2022-06-26T09:39:39.195Z"
      },
      {
        "duration": 176,
        "start_time": "2022-06-26T09:39:47.897Z"
      },
      {
        "duration": 189,
        "start_time": "2022-06-26T09:39:50.506Z"
      },
      {
        "duration": 184,
        "start_time": "2022-06-26T09:39:52.864Z"
      },
      {
        "duration": 429,
        "start_time": "2022-06-26T09:39:55.885Z"
      },
      {
        "duration": 300,
        "start_time": "2022-06-26T09:39:59.985Z"
      },
      {
        "duration": 209,
        "start_time": "2022-06-26T09:40:03.604Z"
      },
      {
        "duration": 383,
        "start_time": "2022-06-26T09:40:06.046Z"
      },
      {
        "duration": 438,
        "start_time": "2022-06-26T09:41:26.675Z"
      },
      {
        "duration": 462,
        "start_time": "2022-06-26T09:41:47.946Z"
      },
      {
        "duration": 11,
        "start_time": "2022-06-26T09:42:12.646Z"
      },
      {
        "duration": 480,
        "start_time": "2022-06-26T09:42:17.526Z"
      },
      {
        "duration": 204,
        "start_time": "2022-06-26T09:42:54.807Z"
      },
      {
        "duration": 214,
        "start_time": "2022-06-26T09:43:01.168Z"
      },
      {
        "duration": 488,
        "start_time": "2022-06-26T09:43:12.147Z"
      },
      {
        "duration": 210,
        "start_time": "2022-06-26T09:43:22.886Z"
      },
      {
        "duration": 716,
        "start_time": "2022-06-26T09:44:09.267Z"
      },
      {
        "duration": 3,
        "start_time": "2022-06-26T09:47:44.820Z"
      },
      {
        "duration": 4,
        "start_time": "2022-06-26T09:47:55.987Z"
      },
      {
        "duration": 51,
        "start_time": "2022-06-26T09:48:10.978Z"
      },
      {
        "duration": 189,
        "start_time": "2022-06-26T09:48:19.789Z"
      },
      {
        "duration": 224,
        "start_time": "2022-06-26T09:48:31.358Z"
      },
      {
        "duration": 453,
        "start_time": "2022-06-26T09:48:50.819Z"
      },
      {
        "duration": 142,
        "start_time": "2022-06-26T09:50:10.959Z"
      },
      {
        "duration": 385,
        "start_time": "2022-06-26T09:51:03.610Z"
      },
      {
        "duration": 202,
        "start_time": "2022-06-26T09:51:22.499Z"
      },
      {
        "duration": 264,
        "start_time": "2022-06-26T09:51:31.890Z"
      },
      {
        "duration": 421,
        "start_time": "2022-06-26T09:51:54.730Z"
      },
      {
        "duration": 442,
        "start_time": "2022-06-26T09:52:02.241Z"
      },
      {
        "duration": 853,
        "start_time": "2022-06-26T09:53:04.980Z"
      },
      {
        "duration": 548,
        "start_time": "2022-06-26T09:53:15.860Z"
      },
      {
        "duration": 529,
        "start_time": "2022-06-26T09:53:19.600Z"
      },
      {
        "duration": 564,
        "start_time": "2022-06-26T09:53:24.221Z"
      },
      {
        "duration": 879,
        "start_time": "2022-06-26T09:53:56.491Z"
      },
      {
        "duration": 555,
        "start_time": "2022-06-26T09:54:01.702Z"
      },
      {
        "duration": 690,
        "start_time": "2022-06-26T09:54:16.841Z"
      },
      {
        "duration": 547,
        "start_time": "2022-06-26T09:54:29.170Z"
      },
      {
        "duration": 172,
        "start_time": "2022-06-26T09:54:33.391Z"
      },
      {
        "duration": 844,
        "start_time": "2022-06-26T09:54:39.713Z"
      },
      {
        "duration": 181,
        "start_time": "2022-06-26T09:54:40.570Z"
      },
      {
        "duration": 507,
        "start_time": "2022-06-26T09:54:46.232Z"
      },
      {
        "duration": 134,
        "start_time": "2022-06-26T10:00:00.775Z"
      },
      {
        "duration": 831,
        "start_time": "2022-06-26T10:00:28.979Z"
      },
      {
        "duration": 15,
        "start_time": "2022-06-26T10:00:31.583Z"
      },
      {
        "duration": 13,
        "start_time": "2022-06-26T10:00:34.424Z"
      },
      {
        "duration": 885,
        "start_time": "2022-06-26T10:00:38.713Z"
      },
      {
        "duration": 140,
        "start_time": "2022-06-26T10:00:42.494Z"
      },
      {
        "duration": 115,
        "start_time": "2022-06-26T10:00:54.883Z"
      },
      {
        "duration": 110,
        "start_time": "2022-06-26T10:01:00.793Z"
      },
      {
        "duration": 546,
        "start_time": "2022-06-26T10:23:47.093Z"
      },
      {
        "duration": 166,
        "start_time": "2022-06-26T10:24:06.163Z"
      },
      {
        "duration": 550,
        "start_time": "2022-06-26T10:24:10.004Z"
      },
      {
        "duration": 580,
        "start_time": "2022-06-26T10:24:16.884Z"
      },
      {
        "duration": 512,
        "start_time": "2022-06-26T10:24:35.153Z"
      },
      {
        "duration": 110,
        "start_time": "2022-06-26T10:30:10.785Z"
      },
      {
        "duration": 158,
        "start_time": "2022-06-26T10:30:13.897Z"
      },
      {
        "duration": 679,
        "start_time": "2022-06-26T10:31:18.738Z"
      },
      {
        "duration": 23,
        "start_time": "2022-06-26T10:31:24.707Z"
      },
      {
        "duration": 386,
        "start_time": "2022-06-26T10:31:35.577Z"
      },
      {
        "duration": 20,
        "start_time": "2022-06-26T10:32:06.898Z"
      },
      {
        "duration": 18,
        "start_time": "2022-06-26T10:32:16.356Z"
      },
      {
        "duration": 19,
        "start_time": "2022-06-26T10:32:19.776Z"
      },
      {
        "duration": 21,
        "start_time": "2022-06-26T10:32:35.399Z"
      },
      {
        "duration": 892,
        "start_time": "2022-06-26T10:32:45.490Z"
      },
      {
        "duration": 527,
        "start_time": "2022-06-26T10:32:52.427Z"
      },
      {
        "duration": 430,
        "start_time": "2022-06-26T10:33:03.908Z"
      },
      {
        "duration": 416,
        "start_time": "2022-06-26T10:33:40.397Z"
      },
      {
        "duration": 812,
        "start_time": "2022-06-26T10:36:44.780Z"
      },
      {
        "duration": 36,
        "start_time": "2022-06-26T10:37:11.453Z"
      },
      {
        "duration": 1512,
        "start_time": "2022-06-26T10:37:23.720Z"
      },
      {
        "duration": 1088,
        "start_time": "2022-06-26T10:37:55.252Z"
      },
      {
        "duration": 903,
        "start_time": "2022-06-26T10:38:27.281Z"
      },
      {
        "duration": 32,
        "start_time": "2022-06-26T10:38:55.042Z"
      },
      {
        "duration": 30,
        "start_time": "2022-06-26T10:39:08.361Z"
      },
      {
        "duration": 4,
        "start_time": "2022-06-26T10:39:19.912Z"
      },
      {
        "duration": 34,
        "start_time": "2022-06-26T10:39:22.605Z"
      },
      {
        "duration": 20,
        "start_time": "2022-06-26T10:39:44.381Z"
      },
      {
        "duration": 61,
        "start_time": "2022-06-26T10:40:07.992Z"
      },
      {
        "duration": 18,
        "start_time": "2022-06-26T10:40:10.431Z"
      },
      {
        "duration": 1188,
        "start_time": "2022-06-26T10:40:32.741Z"
      },
      {
        "duration": 2,
        "start_time": "2022-06-26T10:55:28.557Z"
      },
      {
        "duration": 505,
        "start_time": "2022-06-26T10:55:50.966Z"
      },
      {
        "duration": 12,
        "start_time": "2022-06-26T10:59:49.888Z"
      },
      {
        "duration": 3172,
        "start_time": "2022-06-26T11:00:11.839Z"
      },
      {
        "duration": 3374,
        "start_time": "2022-06-26T11:01:15.069Z"
      },
      {
        "duration": 3288,
        "start_time": "2022-06-26T11:01:30.560Z"
      },
      {
        "duration": 4,
        "start_time": "2022-06-26T11:05:23.663Z"
      },
      {
        "duration": 3,
        "start_time": "2022-06-26T11:05:40.371Z"
      },
      {
        "duration": 4,
        "start_time": "2022-06-26T11:05:45.884Z"
      },
      {
        "duration": 9,
        "start_time": "2022-06-26T11:05:48.113Z"
      },
      {
        "duration": 3,
        "start_time": "2022-06-26T11:05:50.072Z"
      },
      {
        "duration": 5,
        "start_time": "2022-06-26T11:05:50.301Z"
      },
      {
        "duration": 5,
        "start_time": "2022-06-26T11:05:50.631Z"
      },
      {
        "duration": 12,
        "start_time": "2022-06-26T11:07:18.422Z"
      },
      {
        "duration": 12,
        "start_time": "2022-06-26T11:07:22.808Z"
      },
      {
        "duration": 3,
        "start_time": "2022-06-26T11:07:33.982Z"
      },
      {
        "duration": 366,
        "start_time": "2022-06-26T11:07:34.542Z"
      },
      {
        "duration": 368,
        "start_time": "2022-06-26T11:07:37.842Z"
      },
      {
        "duration": 24,
        "start_time": "2022-06-26T11:07:40.823Z"
      },
      {
        "duration": 357,
        "start_time": "2022-06-26T11:07:46.601Z"
      },
      {
        "duration": 23,
        "start_time": "2022-06-26T11:07:47.393Z"
      },
      {
        "duration": 407,
        "start_time": "2022-06-26T11:07:51.413Z"
      },
      {
        "duration": 26,
        "start_time": "2022-06-26T11:07:52.152Z"
      },
      {
        "duration": 2731,
        "start_time": "2022-06-26T11:09:28.343Z"
      },
      {
        "duration": 656,
        "start_time": "2022-06-26T11:09:31.076Z"
      },
      {
        "duration": 3418,
        "start_time": "2022-06-26T11:10:14.974Z"
      },
      {
        "duration": 3434,
        "start_time": "2022-06-26T11:10:33.987Z"
      },
      {
        "duration": 717,
        "start_time": "2022-06-26T11:12:39.554Z"
      },
      {
        "duration": 857,
        "start_time": "2022-06-26T11:12:54.626Z"
      },
      {
        "duration": 3193,
        "start_time": "2022-06-26T11:13:02.535Z"
      },
      {
        "duration": 3253,
        "start_time": "2022-06-26T11:13:51.005Z"
      },
      {
        "duration": 2835,
        "start_time": "2022-06-26T11:14:01.035Z"
      },
      {
        "duration": 3371,
        "start_time": "2022-06-26T11:14:24.227Z"
      },
      {
        "duration": 5,
        "start_time": "2022-06-26T11:14:30.634Z"
      },
      {
        "duration": 3,
        "start_time": "2022-06-26T11:14:34.554Z"
      },
      {
        "duration": 3624,
        "start_time": "2022-06-26T11:15:13.475Z"
      },
      {
        "duration": 3585,
        "start_time": "2022-06-26T11:15:24.666Z"
      },
      {
        "duration": 2999,
        "start_time": "2022-06-26T11:15:48.307Z"
      },
      {
        "duration": 4183,
        "start_time": "2022-06-26T11:17:00.466Z"
      },
      {
        "duration": 95,
        "start_time": "2022-06-26T12:52:56.297Z"
      },
      {
        "duration": 2544,
        "start_time": "2022-06-26T12:52:59.419Z"
      },
      {
        "duration": 2994,
        "start_time": "2022-06-26T12:53:01.966Z"
      },
      {
        "duration": 1892,
        "start_time": "2022-06-26T12:53:04.962Z"
      },
      {
        "duration": 5,
        "start_time": "2022-06-26T12:53:06.863Z"
      },
      {
        "duration": 29,
        "start_time": "2022-06-26T12:53:06.870Z"
      },
      {
        "duration": 20,
        "start_time": "2022-06-26T12:53:06.901Z"
      },
      {
        "duration": 60,
        "start_time": "2022-06-26T12:53:06.924Z"
      },
      {
        "duration": 13,
        "start_time": "2022-06-26T12:53:06.987Z"
      },
      {
        "duration": 13,
        "start_time": "2022-06-26T12:53:07.002Z"
      },
      {
        "duration": 68,
        "start_time": "2022-06-26T12:53:07.019Z"
      },
      {
        "duration": 20,
        "start_time": "2022-06-26T12:53:07.089Z"
      },
      {
        "duration": 7,
        "start_time": "2022-06-26T12:53:07.112Z"
      },
      {
        "duration": 833,
        "start_time": "2022-06-26T12:53:07.120Z"
      },
      {
        "duration": 4104,
        "start_time": "2022-06-26T12:53:07.955Z"
      },
      {
        "duration": 5857,
        "start_time": "2022-06-26T12:53:12.061Z"
      },
      {
        "duration": 0,
        "start_time": "2022-06-26T12:53:17.920Z"
      },
      {
        "duration": 0,
        "start_time": "2022-06-26T12:53:17.924Z"
      },
      {
        "duration": 0,
        "start_time": "2022-06-26T12:53:17.925Z"
      },
      {
        "duration": 0,
        "start_time": "2022-06-26T12:53:17.926Z"
      },
      {
        "duration": 0,
        "start_time": "2022-06-26T12:53:17.927Z"
      },
      {
        "duration": 0,
        "start_time": "2022-06-26T12:53:17.929Z"
      },
      {
        "duration": 0,
        "start_time": "2022-06-26T12:53:17.930Z"
      },
      {
        "duration": 0,
        "start_time": "2022-06-26T12:53:17.931Z"
      },
      {
        "duration": 0,
        "start_time": "2022-06-26T12:53:17.933Z"
      },
      {
        "duration": 5460,
        "start_time": "2022-06-26T12:53:48.403Z"
      },
      {
        "duration": 4622,
        "start_time": "2022-06-26T12:54:23.068Z"
      },
      {
        "duration": 25,
        "start_time": "2022-06-26T12:56:58.621Z"
      },
      {
        "duration": 13,
        "start_time": "2022-06-26T12:57:11.194Z"
      },
      {
        "duration": 22,
        "start_time": "2022-06-26T12:57:23.449Z"
      },
      {
        "duration": 17,
        "start_time": "2022-06-26T12:58:27.141Z"
      },
      {
        "duration": 17,
        "start_time": "2022-06-26T12:59:25.263Z"
      },
      {
        "duration": 47,
        "start_time": "2022-06-26T13:00:50.650Z"
      },
      {
        "duration": 20,
        "start_time": "2022-06-26T13:01:02.767Z"
      },
      {
        "duration": 4560,
        "start_time": "2022-06-26T13:01:06.656Z"
      },
      {
        "duration": 18,
        "start_time": "2022-06-26T13:01:55.919Z"
      },
      {
        "duration": 4829,
        "start_time": "2022-06-26T13:01:57.467Z"
      },
      {
        "duration": 12,
        "start_time": "2022-06-26T13:02:12.096Z"
      },
      {
        "duration": 5137,
        "start_time": "2022-06-26T13:02:16.386Z"
      },
      {
        "duration": 20,
        "start_time": "2022-06-26T13:03:30.777Z"
      },
      {
        "duration": 5,
        "start_time": "2022-06-26T13:03:41.167Z"
      },
      {
        "duration": 12,
        "start_time": "2022-06-26T13:03:45.809Z"
      },
      {
        "duration": 9,
        "start_time": "2022-06-26T13:03:49.477Z"
      },
      {
        "duration": 18,
        "start_time": "2022-06-26T13:04:04.189Z"
      },
      {
        "duration": 21,
        "start_time": "2022-06-26T13:05:29.078Z"
      },
      {
        "duration": 28,
        "start_time": "2022-06-26T13:06:10.489Z"
      },
      {
        "duration": 20,
        "start_time": "2022-06-26T13:06:23.374Z"
      },
      {
        "duration": 13,
        "start_time": "2022-06-26T13:06:37.887Z"
      },
      {
        "duration": 6070,
        "start_time": "2022-06-26T13:06:54.696Z"
      },
      {
        "duration": 22,
        "start_time": "2022-06-26T13:08:40.504Z"
      },
      {
        "duration": 13,
        "start_time": "2022-06-26T13:08:50.872Z"
      },
      {
        "duration": 8,
        "start_time": "2022-06-26T13:09:42.207Z"
      },
      {
        "duration": 10,
        "start_time": "2022-06-26T13:09:46.576Z"
      },
      {
        "duration": 31,
        "start_time": "2022-06-26T13:09:58.465Z"
      },
      {
        "duration": 16,
        "start_time": "2022-06-26T13:10:50.682Z"
      },
      {
        "duration": 16,
        "start_time": "2022-06-26T13:11:08.985Z"
      },
      {
        "duration": 56,
        "start_time": "2022-06-26T13:11:14.087Z"
      },
      {
        "duration": 14,
        "start_time": "2022-06-26T13:11:40.407Z"
      },
      {
        "duration": 19,
        "start_time": "2022-06-26T13:11:45.517Z"
      },
      {
        "duration": 21,
        "start_time": "2022-06-26T13:12:01.585Z"
      },
      {
        "duration": 19,
        "start_time": "2022-06-26T13:12:11.487Z"
      },
      {
        "duration": 12,
        "start_time": "2022-06-26T13:12:15.206Z"
      },
      {
        "duration": 4126,
        "start_time": "2022-06-26T13:12:16.285Z"
      },
      {
        "duration": 165,
        "start_time": "2022-06-26T13:12:20.413Z"
      },
      {
        "duration": 15,
        "start_time": "2022-06-26T13:12:45.269Z"
      },
      {
        "duration": 18,
        "start_time": "2022-06-26T13:12:51.164Z"
      },
      {
        "duration": 16,
        "start_time": "2022-06-26T13:12:56.378Z"
      },
      {
        "duration": 18,
        "start_time": "2022-06-26T13:13:10.668Z"
      },
      {
        "duration": 17,
        "start_time": "2022-06-26T13:13:17.277Z"
      },
      {
        "duration": 22,
        "start_time": "2022-06-26T13:13:45.397Z"
      },
      {
        "duration": 19,
        "start_time": "2022-06-26T13:13:51.259Z"
      },
      {
        "duration": 25,
        "start_time": "2022-06-26T13:14:09.517Z"
      },
      {
        "duration": 20,
        "start_time": "2022-06-26T13:30:51.168Z"
      },
      {
        "duration": 20,
        "start_time": "2022-06-26T13:32:19.477Z"
      },
      {
        "duration": 45,
        "start_time": "2022-06-26T13:32:28.509Z"
      },
      {
        "duration": 41,
        "start_time": "2022-06-26T13:32:36.393Z"
      },
      {
        "duration": 26,
        "start_time": "2022-06-26T13:33:50.763Z"
      },
      {
        "duration": 36,
        "start_time": "2022-06-26T13:33:58.319Z"
      },
      {
        "duration": 88,
        "start_time": "2022-06-26T13:34:05.621Z"
      },
      {
        "duration": 17,
        "start_time": "2022-06-26T13:34:36.858Z"
      },
      {
        "duration": 12756,
        "start_time": "2022-06-26T13:35:10.412Z"
      },
      {
        "duration": 1162,
        "start_time": "2022-06-26T13:36:08.782Z"
      },
      {
        "duration": 961,
        "start_time": "2022-06-26T13:36:20.957Z"
      },
      {
        "duration": 1027,
        "start_time": "2022-06-26T13:36:28.978Z"
      },
      {
        "duration": 1059,
        "start_time": "2022-06-26T13:36:45.985Z"
      },
      {
        "duration": 1080,
        "start_time": "2022-06-26T13:36:59.081Z"
      },
      {
        "duration": 1833,
        "start_time": "2022-06-26T13:37:13.713Z"
      },
      {
        "duration": 1017,
        "start_time": "2022-06-26T13:39:12.861Z"
      },
      {
        "duration": 4162,
        "start_time": "2022-06-26T13:40:45.662Z"
      },
      {
        "duration": 10288,
        "start_time": "2022-06-26T13:41:15.675Z"
      },
      {
        "duration": 11116,
        "start_time": "2022-06-26T13:42:00.281Z"
      },
      {
        "duration": 10466,
        "start_time": "2022-06-26T13:42:49.867Z"
      },
      {
        "duration": 10215,
        "start_time": "2022-06-26T13:43:12.167Z"
      },
      {
        "duration": 1377,
        "start_time": "2022-06-26T13:43:53.535Z"
      },
      {
        "duration": 21,
        "start_time": "2022-06-26T13:43:57.942Z"
      },
      {
        "duration": 7,
        "start_time": "2022-06-26T13:44:48.960Z"
      },
      {
        "duration": 29,
        "start_time": "2022-06-26T13:45:32.757Z"
      },
      {
        "duration": 17,
        "start_time": "2022-06-26T13:46:10.268Z"
      },
      {
        "duration": 6,
        "start_time": "2022-06-26T13:46:29.172Z"
      },
      {
        "duration": 17,
        "start_time": "2022-06-26T13:46:42.576Z"
      },
      {
        "duration": 22,
        "start_time": "2022-06-26T13:46:47.159Z"
      },
      {
        "duration": 17,
        "start_time": "2022-06-26T13:47:29.168Z"
      },
      {
        "duration": 11,
        "start_time": "2022-06-26T13:47:32.292Z"
      },
      {
        "duration": 5,
        "start_time": "2022-06-26T13:47:38.277Z"
      },
      {
        "duration": 13,
        "start_time": "2022-06-26T13:47:58.864Z"
      },
      {
        "duration": 12,
        "start_time": "2022-06-26T13:48:01.974Z"
      },
      {
        "duration": 1345,
        "start_time": "2022-06-26T13:48:04.174Z"
      },
      {
        "duration": 0,
        "start_time": "2022-06-26T13:48:05.521Z"
      },
      {
        "duration": 5,
        "start_time": "2022-06-26T13:48:11.777Z"
      },
      {
        "duration": 463,
        "start_time": "2022-06-26T13:48:11.784Z"
      },
      {
        "duration": 452,
        "start_time": "2022-06-26T13:48:12.249Z"
      },
      {
        "duration": 3,
        "start_time": "2022-06-26T13:48:12.704Z"
      },
      {
        "duration": 80,
        "start_time": "2022-06-26T13:48:12.709Z"
      },
      {
        "duration": 10,
        "start_time": "2022-06-26T13:48:12.792Z"
      },
      {
        "duration": 10,
        "start_time": "2022-06-26T13:48:12.805Z"
      },
      {
        "duration": 22,
        "start_time": "2022-06-26T13:48:12.818Z"
      },
      {
        "duration": 55,
        "start_time": "2022-06-26T13:48:12.843Z"
      },
      {
        "duration": 15,
        "start_time": "2022-06-26T13:48:12.901Z"
      },
      {
        "duration": 70,
        "start_time": "2022-06-26T13:48:12.919Z"
      },
      {
        "duration": 11,
        "start_time": "2022-06-26T13:48:12.991Z"
      },
      {
        "duration": 1007,
        "start_time": "2022-06-26T13:48:13.004Z"
      },
      {
        "duration": 4252,
        "start_time": "2022-06-26T13:48:14.015Z"
      },
      {
        "duration": 10527,
        "start_time": "2022-06-26T13:48:18.269Z"
      },
      {
        "duration": 7,
        "start_time": "2022-06-26T13:48:28.798Z"
      },
      {
        "duration": 28,
        "start_time": "2022-06-26T13:48:28.806Z"
      },
      {
        "duration": 47,
        "start_time": "2022-06-26T13:48:28.835Z"
      },
      {
        "duration": 794,
        "start_time": "2022-06-26T13:48:28.884Z"
      },
      {
        "duration": 34,
        "start_time": "2022-06-26T13:48:29.682Z"
      },
      {
        "duration": 11,
        "start_time": "2022-06-26T13:48:29.726Z"
      },
      {
        "duration": 49,
        "start_time": "2022-06-26T13:48:29.739Z"
      },
      {
        "duration": 0,
        "start_time": "2022-06-26T13:48:29.792Z"
      },
      {
        "duration": 0,
        "start_time": "2022-06-26T13:48:29.793Z"
      },
      {
        "duration": 0,
        "start_time": "2022-06-26T13:48:29.795Z"
      },
      {
        "duration": 0,
        "start_time": "2022-06-26T13:48:29.796Z"
      },
      {
        "duration": 12,
        "start_time": "2022-06-26T13:48:35.759Z"
      },
      {
        "duration": 8,
        "start_time": "2022-06-26T13:49:49.275Z"
      },
      {
        "duration": 176,
        "start_time": "2022-06-26T13:49:55.114Z"
      },
      {
        "duration": 0,
        "start_time": "2022-06-26T13:49:55.292Z"
      },
      {
        "duration": 12,
        "start_time": "2022-06-26T13:51:25.275Z"
      },
      {
        "duration": 22,
        "start_time": "2022-06-26T13:51:33.664Z"
      },
      {
        "duration": 104,
        "start_time": "2022-06-26T13:51:47.670Z"
      },
      {
        "duration": 15,
        "start_time": "2022-06-26T13:51:51.374Z"
      },
      {
        "duration": 4,
        "start_time": "2022-06-26T13:56:16.005Z"
      },
      {
        "duration": 2,
        "start_time": "2022-06-26T13:56:28.367Z"
      },
      {
        "duration": 11,
        "start_time": "2022-06-26T13:56:32.327Z"
      },
      {
        "duration": 4,
        "start_time": "2022-06-26T13:56:40.965Z"
      },
      {
        "duration": 7,
        "start_time": "2022-06-26T13:56:44.176Z"
      },
      {
        "duration": 8,
        "start_time": "2022-06-26T13:56:45.775Z"
      },
      {
        "duration": 12,
        "start_time": "2022-06-26T13:56:49.297Z"
      },
      {
        "duration": 3,
        "start_time": "2022-06-26T13:56:55.897Z"
      },
      {
        "duration": 10,
        "start_time": "2022-06-26T13:56:56.877Z"
      },
      {
        "duration": 3,
        "start_time": "2022-06-26T13:56:57.084Z"
      },
      {
        "duration": 7,
        "start_time": "2022-06-26T13:56:57.675Z"
      },
      {
        "duration": 8,
        "start_time": "2022-06-26T13:57:01.205Z"
      },
      {
        "duration": 14,
        "start_time": "2022-06-26T13:57:06.775Z"
      },
      {
        "duration": 4,
        "start_time": "2022-06-26T13:57:21.585Z"
      },
      {
        "duration": 7,
        "start_time": "2022-06-26T13:57:25.873Z"
      },
      {
        "duration": 8,
        "start_time": "2022-06-26T13:57:36.216Z"
      },
      {
        "duration": 1440,
        "start_time": "2022-06-26T13:58:05.269Z"
      },
      {
        "duration": 0,
        "start_time": "2022-06-26T13:58:06.711Z"
      },
      {
        "duration": 6,
        "start_time": "2022-06-26T13:58:15.483Z"
      },
      {
        "duration": 487,
        "start_time": "2022-06-26T13:58:15.491Z"
      },
      {
        "duration": 468,
        "start_time": "2022-06-26T13:58:15.983Z"
      },
      {
        "duration": 7,
        "start_time": "2022-06-26T13:58:16.459Z"
      },
      {
        "duration": 46,
        "start_time": "2022-06-26T13:58:16.475Z"
      },
      {
        "duration": 61,
        "start_time": "2022-06-26T13:58:16.523Z"
      },
      {
        "duration": 16,
        "start_time": "2022-06-26T13:58:16.586Z"
      },
      {
        "duration": 9,
        "start_time": "2022-06-26T13:58:16.605Z"
      },
      {
        "duration": 25,
        "start_time": "2022-06-26T13:58:16.616Z"
      },
      {
        "duration": 50,
        "start_time": "2022-06-26T13:58:16.643Z"
      },
      {
        "duration": 6,
        "start_time": "2022-06-26T13:58:16.695Z"
      },
      {
        "duration": 9,
        "start_time": "2022-06-26T13:58:16.703Z"
      },
      {
        "duration": 1568,
        "start_time": "2022-06-26T13:58:16.714Z"
      },
      {
        "duration": 3874,
        "start_time": "2022-06-26T13:58:18.287Z"
      },
      {
        "duration": 18,
        "start_time": "2022-06-26T13:58:22.168Z"
      },
      {
        "duration": 15,
        "start_time": "2022-06-26T13:58:22.192Z"
      },
      {
        "duration": 8,
        "start_time": "2022-06-26T13:58:22.209Z"
      },
      {
        "duration": 246,
        "start_time": "2022-06-26T13:58:22.220Z"
      },
      {
        "duration": 0,
        "start_time": "2022-06-26T13:58:22.470Z"
      },
      {
        "duration": 0,
        "start_time": "2022-06-26T13:58:22.471Z"
      },
      {
        "duration": 6,
        "start_time": "2022-06-26T13:58:42.806Z"
      },
      {
        "duration": 601,
        "start_time": "2022-06-26T13:58:42.814Z"
      },
      {
        "duration": 389,
        "start_time": "2022-06-26T13:58:43.418Z"
      },
      {
        "duration": 6,
        "start_time": "2022-06-26T13:58:43.808Z"
      },
      {
        "duration": 31,
        "start_time": "2022-06-26T13:58:43.817Z"
      },
      {
        "duration": 33,
        "start_time": "2022-06-26T13:58:43.850Z"
      },
      {
        "duration": 7,
        "start_time": "2022-06-26T13:58:43.885Z"
      },
      {
        "duration": 10,
        "start_time": "2022-06-26T13:58:43.894Z"
      },
      {
        "duration": 3,
        "start_time": "2022-06-26T13:58:43.906Z"
      },
      {
        "duration": 10,
        "start_time": "2022-06-26T13:58:43.911Z"
      },
      {
        "duration": 20,
        "start_time": "2022-06-26T13:58:43.929Z"
      },
      {
        "duration": 33,
        "start_time": "2022-06-26T13:58:43.951Z"
      },
      {
        "duration": 1121,
        "start_time": "2022-06-26T13:58:43.987Z"
      },
      {
        "duration": 4,
        "start_time": "2022-06-26T13:58:45.110Z"
      },
      {
        "duration": 49,
        "start_time": "2022-06-26T13:58:45.125Z"
      },
      {
        "duration": 12,
        "start_time": "2022-06-26T13:58:45.176Z"
      },
      {
        "duration": 8,
        "start_time": "2022-06-26T13:58:45.190Z"
      },
      {
        "duration": 197,
        "start_time": "2022-06-26T13:58:45.199Z"
      },
      {
        "duration": 0,
        "start_time": "2022-06-26T13:58:45.397Z"
      },
      {
        "duration": 0,
        "start_time": "2022-06-26T13:58:45.399Z"
      },
      {
        "duration": 8,
        "start_time": "2022-06-26T14:04:31.565Z"
      },
      {
        "duration": 9,
        "start_time": "2022-06-26T14:04:37.665Z"
      },
      {
        "duration": 425,
        "start_time": "2022-06-26T14:04:37.676Z"
      },
      {
        "duration": 405,
        "start_time": "2022-06-26T14:04:38.103Z"
      },
      {
        "duration": 2,
        "start_time": "2022-06-26T14:04:38.510Z"
      },
      {
        "duration": 27,
        "start_time": "2022-06-26T14:04:38.514Z"
      },
      {
        "duration": 50,
        "start_time": "2022-06-26T14:04:38.546Z"
      },
      {
        "duration": 16,
        "start_time": "2022-06-26T14:04:38.598Z"
      },
      {
        "duration": 62,
        "start_time": "2022-06-26T14:04:38.616Z"
      },
      {
        "duration": 4,
        "start_time": "2022-06-26T14:04:38.680Z"
      },
      {
        "duration": 14,
        "start_time": "2022-06-26T14:04:38.685Z"
      },
      {
        "duration": 9,
        "start_time": "2022-06-26T14:04:38.701Z"
      },
      {
        "duration": 39,
        "start_time": "2022-06-26T14:04:38.711Z"
      },
      {
        "duration": 1043,
        "start_time": "2022-06-26T14:04:38.753Z"
      },
      {
        "duration": 4029,
        "start_time": "2022-06-26T14:04:39.800Z"
      },
      {
        "duration": 7,
        "start_time": "2022-06-26T14:04:43.832Z"
      },
      {
        "duration": 52,
        "start_time": "2022-06-26T14:04:43.846Z"
      },
      {
        "duration": 8,
        "start_time": "2022-06-26T14:04:43.900Z"
      },
      {
        "duration": 194,
        "start_time": "2022-06-26T14:04:43.909Z"
      },
      {
        "duration": 0,
        "start_time": "2022-06-26T14:04:44.104Z"
      },
      {
        "duration": 0,
        "start_time": "2022-06-26T14:04:44.106Z"
      },
      {
        "duration": 3712,
        "start_time": "2022-06-26T14:07:04.255Z"
      },
      {
        "duration": 19,
        "start_time": "2022-06-26T14:13:06.461Z"
      },
      {
        "duration": 1115,
        "start_time": "2022-06-26T14:13:08.561Z"
      },
      {
        "duration": 141,
        "start_time": "2022-06-26T17:33:34.314Z"
      },
      {
        "duration": 137,
        "start_time": "2022-06-26T17:33:39.456Z"
      },
      {
        "duration": 8,
        "start_time": "2022-06-26T17:34:44.373Z"
      },
      {
        "duration": 137,
        "start_time": "2022-06-26T17:34:55.810Z"
      },
      {
        "duration": 4,
        "start_time": "2022-06-26T17:35:00.415Z"
      },
      {
        "duration": 139,
        "start_time": "2022-06-26T17:35:01.564Z"
      },
      {
        "duration": 4,
        "start_time": "2022-06-26T17:36:40.914Z"
      },
      {
        "duration": 6,
        "start_time": "2022-06-26T17:36:48.535Z"
      },
      {
        "duration": 555,
        "start_time": "2022-06-26T17:36:48.543Z"
      },
      {
        "duration": 892,
        "start_time": "2022-06-26T17:36:49.100Z"
      },
      {
        "duration": 3,
        "start_time": "2022-06-26T17:36:49.994Z"
      },
      {
        "duration": 20,
        "start_time": "2022-06-26T17:36:49.999Z"
      },
      {
        "duration": 10,
        "start_time": "2022-06-26T17:36:50.021Z"
      },
      {
        "duration": 6,
        "start_time": "2022-06-26T17:36:50.032Z"
      },
      {
        "duration": 11,
        "start_time": "2022-06-26T17:36:50.040Z"
      },
      {
        "duration": 4,
        "start_time": "2022-06-26T17:36:50.053Z"
      },
      {
        "duration": 15,
        "start_time": "2022-06-26T17:36:50.059Z"
      },
      {
        "duration": 4,
        "start_time": "2022-06-26T17:36:50.076Z"
      },
      {
        "duration": 8,
        "start_time": "2022-06-26T17:36:50.082Z"
      },
      {
        "duration": 805,
        "start_time": "2022-06-26T17:36:50.092Z"
      },
      {
        "duration": 3454,
        "start_time": "2022-06-26T17:36:50.900Z"
      },
      {
        "duration": 3,
        "start_time": "2022-06-26T17:36:54.356Z"
      },
      {
        "duration": 9,
        "start_time": "2022-06-26T17:36:54.361Z"
      },
      {
        "duration": 579,
        "start_time": "2022-06-26T17:36:54.371Z"
      },
      {
        "duration": 4,
        "start_time": "2022-06-26T17:36:54.953Z"
      },
      {
        "duration": 743,
        "start_time": "2022-06-26T17:37:18.128Z"
      },
      {
        "duration": 443,
        "start_time": "2022-06-26T17:37:28.835Z"
      },
      {
        "duration": 449,
        "start_time": "2022-06-26T17:37:35.712Z"
      },
      {
        "duration": 652,
        "start_time": "2022-06-26T17:37:43.736Z"
      },
      {
        "duration": 524,
        "start_time": "2022-06-26T17:38:13.710Z"
      },
      {
        "duration": 7,
        "start_time": "2022-06-27T06:51:30.102Z"
      },
      {
        "duration": 40,
        "start_time": "2022-06-27T07:06:27.564Z"
      },
      {
        "duration": 1718,
        "start_time": "2022-06-27T07:06:30.964Z"
      },
      {
        "duration": 2590,
        "start_time": "2022-06-27T07:06:32.684Z"
      },
      {
        "duration": 3098,
        "start_time": "2022-06-27T07:06:35.275Z"
      },
      {
        "duration": 3,
        "start_time": "2022-06-27T07:06:38.375Z"
      },
      {
        "duration": 17,
        "start_time": "2022-06-27T07:06:38.381Z"
      },
      {
        "duration": 18,
        "start_time": "2022-06-27T07:06:38.399Z"
      },
      {
        "duration": 12,
        "start_time": "2022-06-27T07:06:38.419Z"
      },
      {
        "duration": 29,
        "start_time": "2022-06-27T07:06:38.436Z"
      },
      {
        "duration": 8,
        "start_time": "2022-06-27T07:06:38.467Z"
      },
      {
        "duration": 20,
        "start_time": "2022-06-27T07:06:38.477Z"
      },
      {
        "duration": 4,
        "start_time": "2022-06-27T07:06:38.498Z"
      },
      {
        "duration": 5,
        "start_time": "2022-06-27T07:06:38.503Z"
      },
      {
        "duration": 941,
        "start_time": "2022-06-27T07:06:38.509Z"
      },
      {
        "duration": 3665,
        "start_time": "2022-06-27T07:06:39.453Z"
      },
      {
        "duration": 5,
        "start_time": "2022-06-27T07:06:43.120Z"
      },
      {
        "duration": 47,
        "start_time": "2022-06-27T07:06:43.131Z"
      },
      {
        "duration": 589,
        "start_time": "2022-06-27T07:06:43.179Z"
      },
      {
        "duration": 895,
        "start_time": "2022-06-27T07:06:43.770Z"
      },
      {
        "duration": 3,
        "start_time": "2022-06-27T07:06:44.666Z"
      },
      {
        "duration": 122,
        "start_time": "2022-06-27T07:06:44.671Z"
      },
      {
        "duration": 0,
        "start_time": "2022-06-27T07:06:44.796Z"
      },
      {
        "duration": 5,
        "start_time": "2022-06-27T07:08:59.595Z"
      },
      {
        "duration": 1667,
        "start_time": "2022-06-27T07:09:13.500Z"
      },
      {
        "duration": 4,
        "start_time": "2022-06-27T07:09:19.964Z"
      },
      {
        "duration": 9,
        "start_time": "2022-06-27T07:09:30.084Z"
      },
      {
        "duration": 14,
        "start_time": "2022-06-27T07:09:35.308Z"
      },
      {
        "duration": 10,
        "start_time": "2022-06-27T07:10:11.245Z"
      },
      {
        "duration": 9,
        "start_time": "2022-06-27T07:10:14.213Z"
      },
      {
        "duration": 14,
        "start_time": "2022-06-27T07:10:17.046Z"
      },
      {
        "duration": 17,
        "start_time": "2022-06-27T07:10:18.843Z"
      },
      {
        "duration": 5,
        "start_time": "2022-06-27T07:10:20.709Z"
      },
      {
        "duration": 12,
        "start_time": "2022-06-27T07:10:42.956Z"
      },
      {
        "duration": 6,
        "start_time": "2022-06-27T07:10:45.349Z"
      },
      {
        "duration": 7,
        "start_time": "2022-06-27T07:11:12.358Z"
      },
      {
        "duration": 6,
        "start_time": "2022-06-27T07:11:17.192Z"
      },
      {
        "duration": 6,
        "start_time": "2022-06-27T07:11:21.376Z"
      },
      {
        "duration": 7,
        "start_time": "2022-06-27T07:11:27.550Z"
      },
      {
        "duration": 6,
        "start_time": "2022-06-27T07:11:37.471Z"
      },
      {
        "duration": 7,
        "start_time": "2022-06-27T07:13:19.847Z"
      },
      {
        "duration": 8,
        "start_time": "2022-06-27T07:13:22.866Z"
      },
      {
        "duration": 5,
        "start_time": "2022-06-27T07:13:51.587Z"
      },
      {
        "duration": 4,
        "start_time": "2022-06-27T07:53:23.418Z"
      },
      {
        "duration": 4,
        "start_time": "2022-06-27T07:55:43.983Z"
      },
      {
        "duration": 8,
        "start_time": "2022-06-27T07:55:49.927Z"
      },
      {
        "duration": 4,
        "start_time": "2022-06-27T07:56:06.014Z"
      },
      {
        "duration": 5,
        "start_time": "2022-06-27T07:56:17.598Z"
      },
      {
        "duration": 4,
        "start_time": "2022-06-27T07:56:19.774Z"
      },
      {
        "duration": 5,
        "start_time": "2022-06-27T07:56:49.087Z"
      },
      {
        "duration": 1917,
        "start_time": "2022-06-27T07:57:38.712Z"
      },
      {
        "duration": 1672,
        "start_time": "2022-06-27T07:57:59.663Z"
      },
      {
        "duration": 1742,
        "start_time": "2022-06-27T07:58:14.249Z"
      },
      {
        "duration": 6,
        "start_time": "2022-06-27T07:58:35.660Z"
      },
      {
        "duration": 405,
        "start_time": "2022-06-27T07:58:35.668Z"
      },
      {
        "duration": 337,
        "start_time": "2022-06-27T07:58:36.081Z"
      },
      {
        "duration": 2,
        "start_time": "2022-06-27T07:58:36.420Z"
      },
      {
        "duration": 64,
        "start_time": "2022-06-27T07:58:36.424Z"
      },
      {
        "duration": 21,
        "start_time": "2022-06-27T07:58:36.491Z"
      },
      {
        "duration": 7,
        "start_time": "2022-06-27T07:58:36.514Z"
      },
      {
        "duration": 67,
        "start_time": "2022-06-27T07:58:36.523Z"
      },
      {
        "duration": 15,
        "start_time": "2022-06-27T07:58:36.592Z"
      },
      {
        "duration": 30,
        "start_time": "2022-06-27T07:58:36.609Z"
      },
      {
        "duration": 41,
        "start_time": "2022-06-27T07:58:36.644Z"
      },
      {
        "duration": 6,
        "start_time": "2022-06-27T07:58:36.687Z"
      },
      {
        "duration": 899,
        "start_time": "2022-06-27T07:58:36.696Z"
      },
      {
        "duration": 3683,
        "start_time": "2022-06-27T07:58:37.597Z"
      },
      {
        "duration": 4,
        "start_time": "2022-06-27T07:58:41.283Z"
      },
      {
        "duration": 22,
        "start_time": "2022-06-27T07:58:41.289Z"
      },
      {
        "duration": 78,
        "start_time": "2022-06-27T07:58:41.312Z"
      },
      {
        "duration": 0,
        "start_time": "2022-06-27T07:58:41.393Z"
      },
      {
        "duration": 0,
        "start_time": "2022-06-27T07:58:41.394Z"
      },
      {
        "duration": 0,
        "start_time": "2022-06-27T07:58:41.396Z"
      },
      {
        "duration": 0,
        "start_time": "2022-06-27T07:58:41.397Z"
      },
      {
        "duration": 0,
        "start_time": "2022-06-27T07:58:41.399Z"
      },
      {
        "duration": 0,
        "start_time": "2022-06-27T07:58:41.400Z"
      },
      {
        "duration": 0,
        "start_time": "2022-06-27T07:58:41.401Z"
      },
      {
        "duration": 20,
        "start_time": "2022-06-27T07:59:25.249Z"
      },
      {
        "duration": 20,
        "start_time": "2022-06-27T07:59:37.613Z"
      },
      {
        "duration": 26,
        "start_time": "2022-06-27T07:59:46.951Z"
      },
      {
        "duration": 27,
        "start_time": "2022-06-27T07:59:48.663Z"
      },
      {
        "duration": 4,
        "start_time": "2022-06-27T08:00:38.581Z"
      },
      {
        "duration": 4,
        "start_time": "2022-06-27T08:00:57.862Z"
      },
      {
        "duration": 4,
        "start_time": "2022-06-27T08:00:58.093Z"
      },
      {
        "duration": 4,
        "start_time": "2022-06-27T08:01:25.486Z"
      },
      {
        "duration": 18,
        "start_time": "2022-06-27T08:03:52.200Z"
      },
      {
        "duration": 17,
        "start_time": "2022-06-27T08:04:10.965Z"
      },
      {
        "duration": 16,
        "start_time": "2022-06-27T08:04:26.025Z"
      },
      {
        "duration": 12,
        "start_time": "2022-06-27T08:04:33.054Z"
      },
      {
        "duration": 5,
        "start_time": "2022-06-27T08:04:59.377Z"
      },
      {
        "duration": 392,
        "start_time": "2022-06-27T08:04:59.384Z"
      },
      {
        "duration": 362,
        "start_time": "2022-06-27T08:04:59.778Z"
      },
      {
        "duration": 2,
        "start_time": "2022-06-27T08:05:00.142Z"
      },
      {
        "duration": 33,
        "start_time": "2022-06-27T08:05:00.146Z"
      },
      {
        "duration": 10,
        "start_time": "2022-06-27T08:05:00.181Z"
      },
      {
        "duration": 7,
        "start_time": "2022-06-27T08:05:00.193Z"
      },
      {
        "duration": 9,
        "start_time": "2022-06-27T08:05:00.202Z"
      },
      {
        "duration": 9,
        "start_time": "2022-06-27T08:05:00.213Z"
      },
      {
        "duration": 46,
        "start_time": "2022-06-27T08:05:00.223Z"
      },
      {
        "duration": 5,
        "start_time": "2022-06-27T08:05:00.272Z"
      },
      {
        "duration": 9,
        "start_time": "2022-06-27T08:05:00.279Z"
      },
      {
        "duration": 812,
        "start_time": "2022-06-27T08:05:00.289Z"
      },
      {
        "duration": 3406,
        "start_time": "2022-06-27T08:05:01.103Z"
      },
      {
        "duration": 4,
        "start_time": "2022-06-27T08:05:04.511Z"
      },
      {
        "duration": 27,
        "start_time": "2022-06-27T08:05:04.517Z"
      },
      {
        "duration": 24,
        "start_time": "2022-06-27T08:05:04.546Z"
      },
      {
        "duration": 0,
        "start_time": "2022-06-27T08:05:04.572Z"
      },
      {
        "duration": 0,
        "start_time": "2022-06-27T08:05:04.573Z"
      },
      {
        "duration": 0,
        "start_time": "2022-06-27T08:05:04.575Z"
      },
      {
        "duration": 0,
        "start_time": "2022-06-27T08:05:04.576Z"
      },
      {
        "duration": 0,
        "start_time": "2022-06-27T08:05:04.577Z"
      },
      {
        "duration": 0,
        "start_time": "2022-06-27T08:05:04.578Z"
      },
      {
        "duration": 0,
        "start_time": "2022-06-27T08:05:04.579Z"
      },
      {
        "duration": 13,
        "start_time": "2022-06-27T08:06:25.075Z"
      },
      {
        "duration": 20,
        "start_time": "2022-06-27T08:09:30.794Z"
      },
      {
        "duration": 31,
        "start_time": "2022-06-27T08:09:55.585Z"
      },
      {
        "duration": 37,
        "start_time": "2022-06-27T08:10:17.218Z"
      },
      {
        "duration": 21,
        "start_time": "2022-06-27T08:10:22.339Z"
      },
      {
        "duration": 16,
        "start_time": "2022-06-27T08:12:14.192Z"
      },
      {
        "duration": 17,
        "start_time": "2022-06-27T08:12:21.375Z"
      },
      {
        "duration": 14,
        "start_time": "2022-06-27T08:12:48.007Z"
      },
      {
        "duration": 21,
        "start_time": "2022-06-27T08:13:57.842Z"
      },
      {
        "duration": 6,
        "start_time": "2022-06-27T08:14:18.398Z"
      },
      {
        "duration": 11,
        "start_time": "2022-06-27T08:14:21.450Z"
      },
      {
        "duration": 19,
        "start_time": "2022-06-27T08:14:27.283Z"
      },
      {
        "duration": 58,
        "start_time": "2022-06-27T08:14:56.516Z"
      },
      {
        "duration": 5,
        "start_time": "2022-06-27T08:15:01.854Z"
      },
      {
        "duration": 61,
        "start_time": "2022-06-27T08:15:04.706Z"
      },
      {
        "duration": 3315,
        "start_time": "2022-06-27T08:15:44.107Z"
      },
      {
        "duration": 4260,
        "start_time": "2022-06-27T08:15:59.025Z"
      },
      {
        "duration": 1238,
        "start_time": "2022-06-27T08:16:03.287Z"
      },
      {
        "duration": 366,
        "start_time": "2022-06-27T08:16:04.530Z"
      },
      {
        "duration": 2,
        "start_time": "2022-06-27T08:16:04.898Z"
      },
      {
        "duration": 25,
        "start_time": "2022-06-27T08:16:04.901Z"
      },
      {
        "duration": 27,
        "start_time": "2022-06-27T08:16:04.938Z"
      },
      {
        "duration": 9,
        "start_time": "2022-06-27T08:16:04.967Z"
      },
      {
        "duration": 7,
        "start_time": "2022-06-27T08:16:04.978Z"
      },
      {
        "duration": 6,
        "start_time": "2022-06-27T08:16:04.987Z"
      },
      {
        "duration": 17,
        "start_time": "2022-06-27T08:16:04.995Z"
      },
      {
        "duration": 5,
        "start_time": "2022-06-27T08:16:05.014Z"
      },
      {
        "duration": 35,
        "start_time": "2022-06-27T08:16:05.022Z"
      },
      {
        "duration": 854,
        "start_time": "2022-06-27T08:16:05.059Z"
      },
      {
        "duration": 3369,
        "start_time": "2022-06-27T08:16:05.915Z"
      },
      {
        "duration": 4,
        "start_time": "2022-06-27T08:16:09.286Z"
      },
      {
        "duration": 13,
        "start_time": "2022-06-27T08:16:09.292Z"
      },
      {
        "duration": 68,
        "start_time": "2022-06-27T08:16:09.306Z"
      },
      {
        "duration": 3620,
        "start_time": "2022-06-27T08:16:09.376Z"
      },
      {
        "duration": 2,
        "start_time": "2022-06-27T08:16:12.998Z"
      },
      {
        "duration": 12,
        "start_time": "2022-06-27T08:16:13.002Z"
      },
      {
        "duration": 17,
        "start_time": "2022-06-27T08:16:13.015Z"
      },
      {
        "duration": 303,
        "start_time": "2022-06-27T08:16:13.034Z"
      },
      {
        "duration": 0,
        "start_time": "2022-06-27T08:16:13.339Z"
      },
      {
        "duration": 0,
        "start_time": "2022-06-27T08:16:13.341Z"
      },
      {
        "duration": 0,
        "start_time": "2022-06-27T08:16:13.343Z"
      },
      {
        "duration": 0,
        "start_time": "2022-06-27T08:16:13.344Z"
      },
      {
        "duration": 2341,
        "start_time": "2022-06-27T08:16:51.774Z"
      },
      {
        "duration": 2218,
        "start_time": "2022-06-27T08:17:02.494Z"
      },
      {
        "duration": 3324,
        "start_time": "2022-06-27T08:17:35.280Z"
      },
      {
        "duration": 8,
        "start_time": "2022-06-27T08:17:49.790Z"
      },
      {
        "duration": 14,
        "start_time": "2022-06-27T08:17:52.021Z"
      },
      {
        "duration": 5,
        "start_time": "2022-06-27T08:18:04.180Z"
      },
      {
        "duration": 6,
        "start_time": "2022-06-27T08:18:07.803Z"
      },
      {
        "duration": 410,
        "start_time": "2022-06-27T08:18:07.811Z"
      },
      {
        "duration": 368,
        "start_time": "2022-06-27T08:18:08.224Z"
      },
      {
        "duration": 2,
        "start_time": "2022-06-27T08:18:08.595Z"
      },
      {
        "duration": 19,
        "start_time": "2022-06-27T08:18:08.599Z"
      },
      {
        "duration": 36,
        "start_time": "2022-06-27T08:18:08.619Z"
      },
      {
        "duration": 9,
        "start_time": "2022-06-27T08:18:08.657Z"
      },
      {
        "duration": 7,
        "start_time": "2022-06-27T08:18:08.667Z"
      },
      {
        "duration": 6,
        "start_time": "2022-06-27T08:18:08.676Z"
      },
      {
        "duration": 11,
        "start_time": "2022-06-27T08:18:08.685Z"
      },
      {
        "duration": 6,
        "start_time": "2022-06-27T08:18:08.698Z"
      },
      {
        "duration": 11,
        "start_time": "2022-06-27T08:18:08.705Z"
      },
      {
        "duration": 1046,
        "start_time": "2022-06-27T08:18:08.717Z"
      },
      {
        "duration": 3247,
        "start_time": "2022-06-27T08:18:09.764Z"
      },
      {
        "duration": 4,
        "start_time": "2022-06-27T08:18:13.012Z"
      },
      {
        "duration": 34,
        "start_time": "2022-06-27T08:18:13.026Z"
      },
      {
        "duration": 43,
        "start_time": "2022-06-27T08:18:13.062Z"
      },
      {
        "duration": 155,
        "start_time": "2022-06-27T08:18:13.107Z"
      },
      {
        "duration": 0,
        "start_time": "2022-06-27T08:18:13.264Z"
      },
      {
        "duration": 1,
        "start_time": "2022-06-27T08:18:13.265Z"
      },
      {
        "duration": 0,
        "start_time": "2022-06-27T08:18:13.267Z"
      },
      {
        "duration": 0,
        "start_time": "2022-06-27T08:18:13.268Z"
      },
      {
        "duration": 0,
        "start_time": "2022-06-27T08:18:13.269Z"
      },
      {
        "duration": 0,
        "start_time": "2022-06-27T08:18:13.270Z"
      },
      {
        "duration": 0,
        "start_time": "2022-06-27T08:18:13.272Z"
      },
      {
        "duration": 0,
        "start_time": "2022-06-27T08:18:13.273Z"
      },
      {
        "duration": 46,
        "start_time": "2022-06-27T08:19:03.342Z"
      },
      {
        "duration": 117,
        "start_time": "2022-06-27T08:19:04.198Z"
      },
      {
        "duration": 335,
        "start_time": "2022-06-27T08:19:29.661Z"
      },
      {
        "duration": 117,
        "start_time": "2022-06-27T08:19:34.460Z"
      },
      {
        "duration": 145,
        "start_time": "2022-06-27T08:19:36.013Z"
      },
      {
        "duration": 19478,
        "start_time": "2022-06-27T08:24:20.771Z"
      },
      {
        "duration": 2687,
        "start_time": "2022-06-27T08:28:12.605Z"
      },
      {
        "duration": 3,
        "start_time": "2022-06-27T08:28:33.885Z"
      },
      {
        "duration": 3474,
        "start_time": "2022-06-27T08:28:40.091Z"
      },
      {
        "duration": 4,
        "start_time": "2022-06-27T09:13:20.286Z"
      },
      {
        "duration": 3,
        "start_time": "2022-06-27T09:13:38.270Z"
      },
      {
        "duration": 1340,
        "start_time": "2022-06-27T09:13:38.462Z"
      },
      {
        "duration": 549,
        "start_time": "2022-06-27T09:13:39.804Z"
      },
      {
        "duration": 4,
        "start_time": "2022-06-27T09:43:04.417Z"
      },
      {
        "duration": 5,
        "start_time": "2022-06-27T09:43:30.346Z"
      },
      {
        "duration": 7,
        "start_time": "2022-06-27T09:43:30.553Z"
      },
      {
        "duration": 4,
        "start_time": "2022-06-27T09:43:30.761Z"
      },
      {
        "duration": 5,
        "start_time": "2022-06-27T10:20:34.450Z"
      },
      {
        "duration": 1662,
        "start_time": "2022-06-27T10:23:50.056Z"
      },
      {
        "duration": 9,
        "start_time": "2022-06-27T10:23:57.336Z"
      },
      {
        "duration": 10,
        "start_time": "2022-06-27T10:24:10.850Z"
      },
      {
        "duration": 1498,
        "start_time": "2022-06-27T10:24:15.287Z"
      },
      {
        "duration": 1666,
        "start_time": "2022-06-27T10:24:27.437Z"
      },
      {
        "duration": 27,
        "start_time": "2022-06-27T11:47:49.754Z"
      },
      {
        "duration": 4,
        "start_time": "2022-06-27T11:48:40.059Z"
      },
      {
        "duration": 5,
        "start_time": "2022-06-27T11:50:00.250Z"
      },
      {
        "duration": 11,
        "start_time": "2022-06-27T11:51:18.778Z"
      },
      {
        "duration": 17,
        "start_time": "2022-06-27T11:51:34.825Z"
      },
      {
        "duration": 7,
        "start_time": "2022-06-27T11:51:43.747Z"
      },
      {
        "duration": 10,
        "start_time": "2022-06-27T11:51:55.194Z"
      },
      {
        "duration": 3,
        "start_time": "2022-06-27T11:52:00.586Z"
      },
      {
        "duration": 39,
        "start_time": "2022-06-27T11:52:04.028Z"
      },
      {
        "duration": 3,
        "start_time": "2022-06-27T11:52:36.308Z"
      },
      {
        "duration": 4,
        "start_time": "2022-06-27T11:52:40.061Z"
      },
      {
        "duration": 2,
        "start_time": "2022-06-27T11:53:00.412Z"
      },
      {
        "duration": 10,
        "start_time": "2022-06-27T11:53:07.962Z"
      },
      {
        "duration": 12,
        "start_time": "2022-06-27T11:54:35.820Z"
      },
      {
        "duration": 9,
        "start_time": "2022-06-27T11:54:49.468Z"
      },
      {
        "duration": 2,
        "start_time": "2022-06-27T11:54:49.662Z"
      },
      {
        "duration": 2,
        "start_time": "2022-06-27T11:54:53.380Z"
      },
      {
        "duration": 9,
        "start_time": "2022-06-27T11:54:53.795Z"
      },
      {
        "duration": 3,
        "start_time": "2022-06-27T11:55:02.261Z"
      },
      {
        "duration": 3,
        "start_time": "2022-06-27T11:55:04.572Z"
      },
      {
        "duration": 4,
        "start_time": "2022-06-27T11:55:05.050Z"
      },
      {
        "duration": 4,
        "start_time": "2022-06-27T11:55:05.357Z"
      },
      {
        "duration": 20,
        "start_time": "2022-06-27T11:55:50.552Z"
      },
      {
        "duration": 14,
        "start_time": "2022-06-27T11:56:24.375Z"
      },
      {
        "duration": 53,
        "start_time": "2022-06-27T11:56:31.662Z"
      },
      {
        "duration": 34,
        "start_time": "2022-06-27T11:56:34.710Z"
      },
      {
        "duration": 5,
        "start_time": "2022-06-27T11:57:14.304Z"
      },
      {
        "duration": 4,
        "start_time": "2022-06-27T11:57:26.278Z"
      },
      {
        "duration": 6,
        "start_time": "2022-06-27T11:57:36.358Z"
      },
      {
        "duration": 2,
        "start_time": "2022-06-27T11:57:52.150Z"
      },
      {
        "duration": 3,
        "start_time": "2022-06-27T11:57:56.466Z"
      },
      {
        "duration": 61,
        "start_time": "2022-06-27T11:58:04.527Z"
      },
      {
        "duration": 1627,
        "start_time": "2022-06-27T11:58:04.878Z"
      },
      {
        "duration": 28,
        "start_time": "2022-06-27T12:00:01.481Z"
      },
      {
        "duration": 15,
        "start_time": "2022-06-27T12:00:03.104Z"
      },
      {
        "duration": 3,
        "start_time": "2022-06-27T12:00:06.504Z"
      },
      {
        "duration": 3,
        "start_time": "2022-06-27T12:00:06.903Z"
      },
      {
        "duration": 13,
        "start_time": "2022-06-27T12:00:07.776Z"
      },
      {
        "duration": 27,
        "start_time": "2022-06-27T12:00:08.577Z"
      },
      {
        "duration": 7,
        "start_time": "2022-06-27T12:00:10.654Z"
      },
      {
        "duration": 400,
        "start_time": "2022-06-27T12:00:10.663Z"
      },
      {
        "duration": 371,
        "start_time": "2022-06-27T12:00:11.065Z"
      },
      {
        "duration": 22,
        "start_time": "2022-06-27T12:00:11.438Z"
      },
      {
        "duration": 28,
        "start_time": "2022-06-27T12:00:11.462Z"
      },
      {
        "duration": 18,
        "start_time": "2022-06-27T12:00:11.492Z"
      },
      {
        "duration": 43,
        "start_time": "2022-06-27T12:00:11.511Z"
      },
      {
        "duration": 27,
        "start_time": "2022-06-27T12:00:11.556Z"
      },
      {
        "duration": 36,
        "start_time": "2022-06-27T12:00:11.585Z"
      },
      {
        "duration": 33,
        "start_time": "2022-06-27T12:00:11.623Z"
      },
      {
        "duration": 16,
        "start_time": "2022-06-27T12:00:11.658Z"
      },
      {
        "duration": 933,
        "start_time": "2022-06-27T12:00:11.676Z"
      },
      {
        "duration": 3175,
        "start_time": "2022-06-27T12:00:12.611Z"
      },
      {
        "duration": 3,
        "start_time": "2022-06-27T12:00:15.789Z"
      },
      {
        "duration": 3848,
        "start_time": "2022-06-27T12:00:15.794Z"
      },
      {
        "duration": 3,
        "start_time": "2022-06-27T12:00:19.644Z"
      },
      {
        "duration": 592,
        "start_time": "2022-06-27T12:00:19.649Z"
      },
      {
        "duration": 525,
        "start_time": "2022-06-27T12:00:20.242Z"
      },
      {
        "duration": 3,
        "start_time": "2022-06-27T12:00:20.768Z"
      },
      {
        "duration": 9,
        "start_time": "2022-06-27T12:00:20.779Z"
      },
      {
        "duration": 61,
        "start_time": "2022-06-27T12:00:20.790Z"
      },
      {
        "duration": 44,
        "start_time": "2022-06-27T12:00:20.853Z"
      },
      {
        "duration": 4,
        "start_time": "2022-06-27T12:00:20.899Z"
      },
      {
        "duration": 104,
        "start_time": "2022-06-27T12:00:20.904Z"
      },
      {
        "duration": 0,
        "start_time": "2022-06-27T12:00:21.010Z"
      },
      {
        "duration": 0,
        "start_time": "2022-06-27T12:00:21.011Z"
      },
      {
        "duration": 0,
        "start_time": "2022-06-27T12:00:21.013Z"
      },
      {
        "duration": 5,
        "start_time": "2022-06-27T12:11:33.269Z"
      },
      {
        "duration": 6,
        "start_time": "2022-06-27T12:11:34.956Z"
      },
      {
        "duration": 25,
        "start_time": "2022-06-27T12:11:39.194Z"
      },
      {
        "duration": 148,
        "start_time": "2022-06-27T12:11:56.144Z"
      },
      {
        "duration": 4,
        "start_time": "2022-06-27T12:12:04.045Z"
      },
      {
        "duration": 5,
        "start_time": "2022-06-27T12:13:05.085Z"
      },
      {
        "duration": 27,
        "start_time": "2022-06-27T12:13:08.146Z"
      },
      {
        "duration": 10,
        "start_time": "2022-06-27T12:16:40.786Z"
      },
      {
        "duration": 5,
        "start_time": "2022-06-27T12:16:43.786Z"
      },
      {
        "duration": 28,
        "start_time": "2022-06-27T12:16:44.425Z"
      },
      {
        "duration": 12,
        "start_time": "2022-06-27T12:16:45.913Z"
      },
      {
        "duration": 17,
        "start_time": "2022-06-27T12:16:50.283Z"
      },
      {
        "duration": 6,
        "start_time": "2022-06-27T12:16:53.781Z"
      },
      {
        "duration": 393,
        "start_time": "2022-06-27T12:16:53.789Z"
      },
      {
        "duration": 345,
        "start_time": "2022-06-27T12:16:54.185Z"
      },
      {
        "duration": 24,
        "start_time": "2022-06-27T12:16:54.532Z"
      },
      {
        "duration": 11,
        "start_time": "2022-06-27T12:16:54.559Z"
      },
      {
        "duration": 8,
        "start_time": "2022-06-27T12:16:54.572Z"
      },
      {
        "duration": 8,
        "start_time": "2022-06-27T12:16:54.581Z"
      },
      {
        "duration": 4,
        "start_time": "2022-06-27T12:16:54.591Z"
      },
      {
        "duration": 16,
        "start_time": "2022-06-27T12:16:54.596Z"
      },
      {
        "duration": 28,
        "start_time": "2022-06-27T12:16:54.614Z"
      },
      {
        "duration": 10,
        "start_time": "2022-06-27T12:16:54.644Z"
      },
      {
        "duration": 837,
        "start_time": "2022-06-27T12:16:54.658Z"
      },
      {
        "duration": 3837,
        "start_time": "2022-06-27T12:16:55.496Z"
      },
      {
        "duration": 8,
        "start_time": "2022-06-27T12:16:59.336Z"
      },
      {
        "duration": 3105,
        "start_time": "2022-06-27T12:16:59.352Z"
      },
      {
        "duration": 3,
        "start_time": "2022-06-27T12:17:02.460Z"
      },
      {
        "duration": 614,
        "start_time": "2022-06-27T12:17:02.465Z"
      },
      {
        "duration": 589,
        "start_time": "2022-06-27T12:17:03.081Z"
      },
      {
        "duration": 2,
        "start_time": "2022-06-27T12:17:03.672Z"
      },
      {
        "duration": 11,
        "start_time": "2022-06-27T12:17:03.676Z"
      },
      {
        "duration": 78,
        "start_time": "2022-06-27T12:17:03.689Z"
      },
      {
        "duration": 3,
        "start_time": "2022-06-27T12:17:03.769Z"
      },
      {
        "duration": 5,
        "start_time": "2022-06-27T12:17:03.774Z"
      },
      {
        "duration": 6,
        "start_time": "2022-06-27T12:17:03.781Z"
      },
      {
        "duration": 11,
        "start_time": "2022-06-27T12:17:03.788Z"
      },
      {
        "duration": 15,
        "start_time": "2022-06-27T12:17:03.800Z"
      },
      {
        "duration": 0,
        "start_time": "2022-06-27T12:17:03.817Z"
      },
      {
        "duration": 0,
        "start_time": "2022-06-27T12:17:03.828Z"
      },
      {
        "duration": 0,
        "start_time": "2022-06-27T12:17:03.829Z"
      },
      {
        "duration": 5,
        "start_time": "2022-06-27T12:19:49.783Z"
      },
      {
        "duration": 403,
        "start_time": "2022-06-27T12:19:49.954Z"
      },
      {
        "duration": 346,
        "start_time": "2022-06-27T12:19:50.359Z"
      },
      {
        "duration": 12,
        "start_time": "2022-06-27T12:19:50.707Z"
      },
      {
        "duration": 7,
        "start_time": "2022-06-27T12:19:52.352Z"
      },
      {
        "duration": 371,
        "start_time": "2022-06-27T12:19:52.360Z"
      },
      {
        "duration": 340,
        "start_time": "2022-06-27T12:19:52.732Z"
      },
      {
        "duration": 14,
        "start_time": "2022-06-27T12:19:53.074Z"
      },
      {
        "duration": 13,
        "start_time": "2022-06-27T12:19:53.089Z"
      },
      {
        "duration": 5,
        "start_time": "2022-06-27T12:19:53.103Z"
      },
      {
        "duration": 21,
        "start_time": "2022-06-27T12:19:53.109Z"
      },
      {
        "duration": 6,
        "start_time": "2022-06-27T12:19:53.134Z"
      },
      {
        "duration": 32,
        "start_time": "2022-06-27T12:19:53.149Z"
      },
      {
        "duration": 17,
        "start_time": "2022-06-27T12:19:53.185Z"
      },
      {
        "duration": 7,
        "start_time": "2022-06-27T12:19:53.204Z"
      },
      {
        "duration": 1645,
        "start_time": "2022-06-27T12:19:53.212Z"
      },
      {
        "duration": 3137,
        "start_time": "2022-06-27T12:19:54.860Z"
      },
      {
        "duration": 3,
        "start_time": "2022-06-27T12:19:57.999Z"
      },
      {
        "duration": 3877,
        "start_time": "2022-06-27T12:19:58.003Z"
      },
      {
        "duration": 4,
        "start_time": "2022-06-27T12:20:01.882Z"
      },
      {
        "duration": 669,
        "start_time": "2022-06-27T12:20:01.888Z"
      },
      {
        "duration": 548,
        "start_time": "2022-06-27T12:20:02.559Z"
      },
      {
        "duration": 3,
        "start_time": "2022-06-27T12:20:03.108Z"
      },
      {
        "duration": 12,
        "start_time": "2022-06-27T12:20:03.112Z"
      },
      {
        "duration": 87,
        "start_time": "2022-06-27T12:20:03.132Z"
      },
      {
        "duration": 39,
        "start_time": "2022-06-27T12:20:03.221Z"
      },
      {
        "duration": 10,
        "start_time": "2022-06-27T12:20:03.261Z"
      },
      {
        "duration": 7,
        "start_time": "2022-06-27T12:20:03.273Z"
      },
      {
        "duration": 10,
        "start_time": "2022-06-27T12:20:03.281Z"
      },
      {
        "duration": 986,
        "start_time": "2022-06-27T12:20:03.293Z"
      },
      {
        "duration": 0,
        "start_time": "2022-06-27T12:20:04.281Z"
      },
      {
        "duration": 0,
        "start_time": "2022-06-27T12:20:04.282Z"
      },
      {
        "duration": 0,
        "start_time": "2022-06-27T12:20:04.283Z"
      },
      {
        "duration": 5,
        "start_time": "2022-06-27T12:21:22.977Z"
      },
      {
        "duration": 6,
        "start_time": "2022-06-27T12:21:26.217Z"
      },
      {
        "duration": 443,
        "start_time": "2022-06-27T12:21:26.226Z"
      },
      {
        "duration": 370,
        "start_time": "2022-06-27T12:21:26.671Z"
      },
      {
        "duration": 17,
        "start_time": "2022-06-27T12:21:27.049Z"
      },
      {
        "duration": 8,
        "start_time": "2022-06-27T12:21:27.068Z"
      },
      {
        "duration": 7,
        "start_time": "2022-06-27T12:21:27.078Z"
      },
      {
        "duration": 7,
        "start_time": "2022-06-27T12:21:27.086Z"
      },
      {
        "duration": 5,
        "start_time": "2022-06-27T12:21:27.094Z"
      },
      {
        "duration": 15,
        "start_time": "2022-06-27T12:21:27.101Z"
      },
      {
        "duration": 11,
        "start_time": "2022-06-27T12:21:27.119Z"
      },
      {
        "duration": 30,
        "start_time": "2022-06-27T12:21:27.133Z"
      },
      {
        "duration": 774,
        "start_time": "2022-06-27T12:21:27.165Z"
      },
      {
        "duration": 3020,
        "start_time": "2022-06-27T12:21:27.943Z"
      },
      {
        "duration": 4,
        "start_time": "2022-06-27T12:21:30.965Z"
      },
      {
        "duration": 3944,
        "start_time": "2022-06-27T12:21:30.971Z"
      },
      {
        "duration": 11,
        "start_time": "2022-06-27T12:21:34.916Z"
      },
      {
        "duration": 596,
        "start_time": "2022-06-27T12:21:34.928Z"
      },
      {
        "duration": 593,
        "start_time": "2022-06-27T12:21:35.531Z"
      },
      {
        "duration": 8,
        "start_time": "2022-06-27T12:21:36.132Z"
      },
      {
        "duration": 16,
        "start_time": "2022-06-27T12:21:36.147Z"
      },
      {
        "duration": 65,
        "start_time": "2022-06-27T12:21:36.165Z"
      },
      {
        "duration": 32,
        "start_time": "2022-06-27T12:21:36.235Z"
      },
      {
        "duration": 31,
        "start_time": "2022-06-27T12:21:36.269Z"
      },
      {
        "duration": 44,
        "start_time": "2022-06-27T12:21:36.301Z"
      },
      {
        "duration": 26,
        "start_time": "2022-06-27T12:21:36.347Z"
      },
      {
        "duration": 27,
        "start_time": "2022-06-27T12:21:36.374Z"
      },
      {
        "duration": 13,
        "start_time": "2022-06-27T12:35:49.672Z"
      },
      {
        "duration": 64,
        "start_time": "2022-06-27T12:35:50.776Z"
      },
      {
        "duration": 1790,
        "start_time": "2022-06-27T12:35:58.670Z"
      },
      {
        "duration": 373,
        "start_time": "2022-06-27T12:36:00.462Z"
      },
      {
        "duration": 333,
        "start_time": "2022-06-27T12:36:00.837Z"
      },
      {
        "duration": 21,
        "start_time": "2022-06-27T12:36:01.172Z"
      },
      {
        "duration": 23,
        "start_time": "2022-06-27T12:36:01.195Z"
      },
      {
        "duration": 9,
        "start_time": "2022-06-27T12:36:01.228Z"
      },
      {
        "duration": 39,
        "start_time": "2022-06-27T12:36:01.242Z"
      },
      {
        "duration": 14,
        "start_time": "2022-06-27T12:36:01.283Z"
      },
      {
        "duration": 32,
        "start_time": "2022-06-27T12:36:01.298Z"
      },
      {
        "duration": 44,
        "start_time": "2022-06-27T12:36:01.334Z"
      },
      {
        "duration": 21,
        "start_time": "2022-06-27T12:36:01.380Z"
      },
      {
        "duration": 898,
        "start_time": "2022-06-27T12:36:01.403Z"
      },
      {
        "duration": 3434,
        "start_time": "2022-06-27T12:36:02.303Z"
      },
      {
        "duration": 5,
        "start_time": "2022-06-27T12:36:05.739Z"
      },
      {
        "duration": 3588,
        "start_time": "2022-06-27T12:36:05.746Z"
      },
      {
        "duration": 3,
        "start_time": "2022-06-27T12:36:09.336Z"
      },
      {
        "duration": 550,
        "start_time": "2022-06-27T12:36:09.341Z"
      },
      {
        "duration": 578,
        "start_time": "2022-06-27T12:36:09.893Z"
      },
      {
        "duration": 3,
        "start_time": "2022-06-27T12:36:10.473Z"
      },
      {
        "duration": 5,
        "start_time": "2022-06-27T12:36:10.478Z"
      },
      {
        "duration": 81,
        "start_time": "2022-06-27T12:36:10.485Z"
      },
      {
        "duration": 5,
        "start_time": "2022-06-27T12:36:10.568Z"
      },
      {
        "duration": 5,
        "start_time": "2022-06-27T12:36:10.575Z"
      },
      {
        "duration": 5,
        "start_time": "2022-06-27T12:36:10.581Z"
      },
      {
        "duration": 7,
        "start_time": "2022-06-27T12:36:10.588Z"
      },
      {
        "duration": 8,
        "start_time": "2022-06-27T12:36:10.597Z"
      },
      {
        "duration": 67,
        "start_time": "2022-06-27T13:26:45.068Z"
      },
      {
        "duration": 20,
        "start_time": "2022-06-27T13:26:46.820Z"
      },
      {
        "duration": 1675,
        "start_time": "2022-06-27T13:26:54.961Z"
      },
      {
        "duration": 471,
        "start_time": "2022-06-27T13:26:56.638Z"
      },
      {
        "duration": 375,
        "start_time": "2022-06-27T13:26:57.111Z"
      },
      {
        "duration": 17,
        "start_time": "2022-06-27T13:26:57.488Z"
      },
      {
        "duration": 26,
        "start_time": "2022-06-27T13:26:57.508Z"
      },
      {
        "duration": 29,
        "start_time": "2022-06-27T13:26:57.537Z"
      },
      {
        "duration": 9,
        "start_time": "2022-06-27T13:26:57.568Z"
      },
      {
        "duration": 3,
        "start_time": "2022-06-27T13:26:57.579Z"
      },
      {
        "duration": 16,
        "start_time": "2022-06-27T13:26:57.584Z"
      },
      {
        "duration": 6,
        "start_time": "2022-06-27T13:26:57.603Z"
      },
      {
        "duration": 4,
        "start_time": "2022-06-27T13:26:57.611Z"
      },
      {
        "duration": 979,
        "start_time": "2022-06-27T13:26:57.617Z"
      },
      {
        "duration": 3796,
        "start_time": "2022-06-27T13:26:58.598Z"
      },
      {
        "duration": 4,
        "start_time": "2022-06-27T13:27:02.396Z"
      },
      {
        "duration": 3874,
        "start_time": "2022-06-27T13:27:02.402Z"
      },
      {
        "duration": 4,
        "start_time": "2022-06-27T13:27:06.278Z"
      },
      {
        "duration": 724,
        "start_time": "2022-06-27T13:27:06.283Z"
      },
      {
        "duration": 771,
        "start_time": "2022-06-27T13:27:07.010Z"
      },
      {
        "duration": 4,
        "start_time": "2022-06-27T13:27:07.783Z"
      },
      {
        "duration": 14,
        "start_time": "2022-06-27T13:27:07.789Z"
      },
      {
        "duration": 81,
        "start_time": "2022-06-27T13:27:07.805Z"
      },
      {
        "duration": 5,
        "start_time": "2022-06-27T13:27:07.888Z"
      },
      {
        "duration": 9,
        "start_time": "2022-06-27T13:27:07.895Z"
      },
      {
        "duration": 18,
        "start_time": "2022-06-27T13:27:07.906Z"
      },
      {
        "duration": 47,
        "start_time": "2022-06-27T13:27:07.931Z"
      },
      {
        "duration": 9,
        "start_time": "2022-06-27T13:27:07.980Z"
      },
      {
        "duration": 29,
        "start_time": "2022-06-27T13:27:11.884Z"
      },
      {
        "duration": 3,
        "start_time": "2022-06-27T13:36:35.070Z"
      },
      {
        "duration": 4,
        "start_time": "2022-06-27T13:36:35.405Z"
      },
      {
        "duration": 15,
        "start_time": "2022-06-27T18:24:43.042Z"
      },
      {
        "duration": 70,
        "start_time": "2022-06-27T18:24:44.677Z"
      },
      {
        "duration": 1809,
        "start_time": "2022-06-27T18:24:50.213Z"
      },
      {
        "duration": 1884,
        "start_time": "2022-06-27T18:24:52.025Z"
      },
      {
        "duration": 1577,
        "start_time": "2022-06-27T18:24:53.911Z"
      },
      {
        "duration": 17,
        "start_time": "2022-06-27T18:24:55.490Z"
      },
      {
        "duration": 17,
        "start_time": "2022-06-27T18:24:55.510Z"
      },
      {
        "duration": 6,
        "start_time": "2022-06-27T18:24:55.529Z"
      },
      {
        "duration": 10,
        "start_time": "2022-06-27T18:24:55.536Z"
      },
      {
        "duration": 22,
        "start_time": "2022-06-27T18:24:55.548Z"
      },
      {
        "duration": 16,
        "start_time": "2022-06-27T18:24:55.572Z"
      },
      {
        "duration": 6,
        "start_time": "2022-06-27T18:24:55.590Z"
      },
      {
        "duration": 10,
        "start_time": "2022-06-27T18:24:55.598Z"
      },
      {
        "duration": 974,
        "start_time": "2022-06-27T18:24:55.610Z"
      },
      {
        "duration": 4106,
        "start_time": "2022-06-27T18:24:56.585Z"
      },
      {
        "duration": 4,
        "start_time": "2022-06-27T18:25:00.694Z"
      },
      {
        "duration": 4059,
        "start_time": "2022-06-27T18:25:00.700Z"
      },
      {
        "duration": 3,
        "start_time": "2022-06-27T18:25:04.762Z"
      },
      {
        "duration": 682,
        "start_time": "2022-06-27T18:25:04.767Z"
      },
      {
        "duration": 736,
        "start_time": "2022-06-27T18:25:05.451Z"
      },
      {
        "duration": 4,
        "start_time": "2022-06-27T18:25:06.189Z"
      },
      {
        "duration": 7,
        "start_time": "2022-06-27T18:25:06.195Z"
      },
      {
        "duration": 88,
        "start_time": "2022-06-27T18:25:06.204Z"
      },
      {
        "duration": 8,
        "start_time": "2022-06-27T18:25:06.294Z"
      },
      {
        "duration": 4,
        "start_time": "2022-06-27T18:25:06.304Z"
      },
      {
        "duration": 9,
        "start_time": "2022-06-27T18:25:06.310Z"
      },
      {
        "duration": 21,
        "start_time": "2022-06-27T18:25:06.321Z"
      },
      {
        "duration": 5,
        "start_time": "2022-06-27T18:26:12.373Z"
      },
      {
        "duration": 59405,
        "start_time": "2022-06-27T18:26:13.490Z"
      },
      {
        "duration": 3,
        "start_time": "2022-06-27T18:28:33.361Z"
      },
      {
        "duration": 4,
        "start_time": "2022-06-27T18:28:41.178Z"
      },
      {
        "duration": 27,
        "start_time": "2022-06-27T18:28:41.656Z"
      },
      {
        "duration": 0,
        "start_time": "2022-06-27T18:29:36.435Z"
      },
      {
        "duration": 0,
        "start_time": "2022-06-27T18:29:36.436Z"
      },
      {
        "duration": 17,
        "start_time": "2022-06-27T18:33:48.837Z"
      },
      {
        "duration": 105,
        "start_time": "2022-06-27T18:34:24.276Z"
      },
      {
        "duration": 4,
        "start_time": "2022-06-27T18:34:28.135Z"
      },
      {
        "duration": 18,
        "start_time": "2022-06-27T18:34:29.034Z"
      },
      {
        "duration": 7,
        "start_time": "2022-06-27T18:34:34.311Z"
      },
      {
        "duration": 369,
        "start_time": "2022-06-27T18:34:34.321Z"
      },
      {
        "duration": 321,
        "start_time": "2022-06-27T18:34:34.693Z"
      },
      {
        "duration": 14,
        "start_time": "2022-06-27T18:34:35.016Z"
      },
      {
        "duration": 11,
        "start_time": "2022-06-27T18:34:35.033Z"
      },
      {
        "duration": 5,
        "start_time": "2022-06-27T18:34:35.045Z"
      },
      {
        "duration": 9,
        "start_time": "2022-06-27T18:34:35.052Z"
      },
      {
        "duration": 7,
        "start_time": "2022-06-27T18:34:35.063Z"
      },
      {
        "duration": 14,
        "start_time": "2022-06-27T18:34:35.071Z"
      },
      {
        "duration": 6,
        "start_time": "2022-06-27T18:34:35.086Z"
      },
      {
        "duration": 6,
        "start_time": "2022-06-27T18:34:35.094Z"
      },
      {
        "duration": 1070,
        "start_time": "2022-06-27T18:34:35.101Z"
      },
      {
        "duration": 3526,
        "start_time": "2022-06-27T18:34:36.173Z"
      },
      {
        "duration": 5,
        "start_time": "2022-06-27T18:34:39.702Z"
      },
      {
        "duration": 3575,
        "start_time": "2022-06-27T18:34:39.709Z"
      },
      {
        "duration": 2,
        "start_time": "2022-06-27T18:34:43.286Z"
      },
      {
        "duration": 618,
        "start_time": "2022-06-27T18:34:43.290Z"
      },
      {
        "duration": 878,
        "start_time": "2022-06-27T18:34:43.910Z"
      },
      {
        "duration": 2,
        "start_time": "2022-06-27T18:34:44.790Z"
      },
      {
        "duration": 11,
        "start_time": "2022-06-27T18:34:44.794Z"
      },
      {
        "duration": 86,
        "start_time": "2022-06-27T18:34:44.807Z"
      },
      {
        "duration": 5,
        "start_time": "2022-06-27T18:34:44.895Z"
      },
      {
        "duration": 5,
        "start_time": "2022-06-27T18:34:44.901Z"
      },
      {
        "duration": 7,
        "start_time": "2022-06-27T18:34:44.908Z"
      },
      {
        "duration": 6,
        "start_time": "2022-06-27T18:34:44.917Z"
      },
      {
        "duration": 21,
        "start_time": "2022-06-27T18:34:44.924Z"
      },
      {
        "duration": 54383,
        "start_time": "2022-06-27T18:34:44.947Z"
      },
      {
        "duration": 0,
        "start_time": "2022-06-27T18:35:39.332Z"
      },
      {
        "duration": 0,
        "start_time": "2022-06-27T18:35:39.341Z"
      },
      {
        "duration": 0,
        "start_time": "2022-06-27T18:35:39.342Z"
      },
      {
        "duration": 4,
        "start_time": "2022-06-27T18:36:36.535Z"
      },
      {
        "duration": 22,
        "start_time": "2022-06-27T18:36:37.129Z"
      },
      {
        "duration": 55173,
        "start_time": "2022-06-27T18:36:39.055Z"
      },
      {
        "duration": 6,
        "start_time": "2022-06-27T18:37:40.702Z"
      },
      {
        "duration": 366,
        "start_time": "2022-06-27T18:37:40.711Z"
      },
      {
        "duration": 322,
        "start_time": "2022-06-27T18:37:41.079Z"
      },
      {
        "duration": 15,
        "start_time": "2022-06-27T18:37:41.402Z"
      },
      {
        "duration": 17,
        "start_time": "2022-06-27T18:37:41.420Z"
      },
      {
        "duration": 8,
        "start_time": "2022-06-27T18:37:41.439Z"
      },
      {
        "duration": 8,
        "start_time": "2022-06-27T18:37:41.448Z"
      },
      {
        "duration": 6,
        "start_time": "2022-06-27T18:37:41.457Z"
      },
      {
        "duration": 13,
        "start_time": "2022-06-27T18:37:41.465Z"
      },
      {
        "duration": 6,
        "start_time": "2022-06-27T18:37:41.480Z"
      },
      {
        "duration": 7,
        "start_time": "2022-06-27T18:37:41.487Z"
      },
      {
        "duration": 838,
        "start_time": "2022-06-27T18:37:41.496Z"
      },
      {
        "duration": 3518,
        "start_time": "2022-06-27T18:37:42.336Z"
      },
      {
        "duration": 3,
        "start_time": "2022-06-27T18:37:45.859Z"
      },
      {
        "duration": 3526,
        "start_time": "2022-06-27T18:37:45.864Z"
      },
      {
        "duration": 3,
        "start_time": "2022-06-27T18:37:49.392Z"
      },
      {
        "duration": 594,
        "start_time": "2022-06-27T18:37:49.397Z"
      },
      {
        "duration": 876,
        "start_time": "2022-06-27T18:37:49.993Z"
      },
      {
        "duration": 3,
        "start_time": "2022-06-27T18:37:50.871Z"
      },
      {
        "duration": 8,
        "start_time": "2022-06-27T18:37:50.875Z"
      },
      {
        "duration": 84,
        "start_time": "2022-06-27T18:37:50.885Z"
      },
      {
        "duration": 6,
        "start_time": "2022-06-27T18:37:50.971Z"
      },
      {
        "duration": 3,
        "start_time": "2022-06-27T18:37:50.979Z"
      },
      {
        "duration": 7,
        "start_time": "2022-06-27T18:37:50.984Z"
      },
      {
        "duration": 17,
        "start_time": "2022-06-27T18:37:50.993Z"
      },
      {
        "duration": 11,
        "start_time": "2022-06-27T18:37:51.013Z"
      },
      {
        "duration": 54728,
        "start_time": "2022-06-27T18:37:51.026Z"
      },
      {
        "duration": 0,
        "start_time": "2022-06-27T18:38:45.757Z"
      },
      {
        "duration": 0,
        "start_time": "2022-06-27T18:38:45.759Z"
      },
      {
        "duration": 0,
        "start_time": "2022-06-27T18:38:45.760Z"
      },
      {
        "duration": 33,
        "start_time": "2022-06-27T18:42:10.489Z"
      },
      {
        "duration": 6,
        "start_time": "2022-06-27T18:42:17.760Z"
      },
      {
        "duration": 16,
        "start_time": "2022-06-27T19:13:40.958Z"
      },
      {
        "duration": 7,
        "start_time": "2022-06-27T19:13:52.627Z"
      },
      {
        "duration": 405,
        "start_time": "2022-06-27T19:13:52.636Z"
      },
      {
        "duration": 350,
        "start_time": "2022-06-27T19:13:53.043Z"
      },
      {
        "duration": 15,
        "start_time": "2022-06-27T19:13:53.395Z"
      },
      {
        "duration": 11,
        "start_time": "2022-06-27T19:13:53.412Z"
      },
      {
        "duration": 6,
        "start_time": "2022-06-27T19:13:53.424Z"
      },
      {
        "duration": 19,
        "start_time": "2022-06-27T19:13:53.442Z"
      },
      {
        "duration": 8,
        "start_time": "2022-06-27T19:13:53.463Z"
      },
      {
        "duration": 15,
        "start_time": "2022-06-27T19:13:53.473Z"
      },
      {
        "duration": 5,
        "start_time": "2022-06-27T19:13:53.491Z"
      },
      {
        "duration": 4,
        "start_time": "2022-06-27T19:13:53.498Z"
      },
      {
        "duration": 887,
        "start_time": "2022-06-27T19:13:53.504Z"
      },
      {
        "duration": 3676,
        "start_time": "2022-06-27T19:13:54.393Z"
      },
      {
        "duration": 4,
        "start_time": "2022-06-27T19:13:58.072Z"
      },
      {
        "duration": 3630,
        "start_time": "2022-06-27T19:13:58.078Z"
      },
      {
        "duration": 3,
        "start_time": "2022-06-27T19:14:01.709Z"
      },
      {
        "duration": 926,
        "start_time": "2022-06-27T19:14:01.714Z"
      },
      {
        "duration": 623,
        "start_time": "2022-06-27T19:14:02.648Z"
      },
      {
        "duration": 2,
        "start_time": "2022-06-27T19:14:03.273Z"
      },
      {
        "duration": 8,
        "start_time": "2022-06-27T19:14:03.277Z"
      },
      {
        "duration": 90,
        "start_time": "2022-06-27T19:14:03.287Z"
      },
      {
        "duration": 17,
        "start_time": "2022-06-27T19:14:03.378Z"
      },
      {
        "duration": 4,
        "start_time": "2022-06-27T19:14:03.397Z"
      },
      {
        "duration": 7,
        "start_time": "2022-06-27T19:14:03.403Z"
      },
      {
        "duration": 11,
        "start_time": "2022-06-27T19:14:03.413Z"
      },
      {
        "duration": 75,
        "start_time": "2022-06-28T09:16:37.438Z"
      },
      {
        "duration": 2002,
        "start_time": "2022-06-28T09:16:42.140Z"
      },
      {
        "duration": 768,
        "start_time": "2022-06-28T09:16:44.144Z"
      },
      {
        "duration": 1319,
        "start_time": "2022-06-28T09:16:44.914Z"
      },
      {
        "duration": 14,
        "start_time": "2022-06-28T09:16:46.237Z"
      },
      {
        "duration": 31,
        "start_time": "2022-06-28T09:16:46.253Z"
      },
      {
        "duration": 28,
        "start_time": "2022-06-28T09:16:46.286Z"
      },
      {
        "duration": 13,
        "start_time": "2022-06-28T09:16:46.316Z"
      },
      {
        "duration": 5,
        "start_time": "2022-06-28T09:16:46.331Z"
      },
      {
        "duration": 19,
        "start_time": "2022-06-28T09:16:46.338Z"
      },
      {
        "duration": 21,
        "start_time": "2022-06-28T09:16:46.360Z"
      },
      {
        "duration": 19,
        "start_time": "2022-06-28T09:16:46.386Z"
      },
      {
        "duration": 870,
        "start_time": "2022-06-28T09:16:46.408Z"
      },
      {
        "duration": 3446,
        "start_time": "2022-06-28T09:16:47.285Z"
      },
      {
        "duration": 6,
        "start_time": "2022-06-28T09:16:50.733Z"
      },
      {
        "duration": 3863,
        "start_time": "2022-06-28T09:16:50.740Z"
      },
      {
        "duration": 3,
        "start_time": "2022-06-28T09:16:54.605Z"
      },
      {
        "duration": 618,
        "start_time": "2022-06-28T09:16:54.609Z"
      },
      {
        "duration": 610,
        "start_time": "2022-06-28T09:16:55.229Z"
      },
      {
        "duration": 3,
        "start_time": "2022-06-28T09:16:55.841Z"
      },
      {
        "duration": 62,
        "start_time": "2022-06-28T09:16:55.846Z"
      },
      {
        "duration": 83,
        "start_time": "2022-06-28T09:16:55.910Z"
      },
      {
        "duration": 54,
        "start_time": "2022-06-28T09:16:55.995Z"
      },
      {
        "duration": 39,
        "start_time": "2022-06-28T09:16:56.051Z"
      },
      {
        "duration": 42,
        "start_time": "2022-06-28T09:16:56.092Z"
      },
      {
        "duration": 70,
        "start_time": "2022-06-28T09:16:56.136Z"
      },
      {
        "duration": 730,
        "start_time": "2022-06-28T09:16:56.208Z"
      },
      {
        "duration": 0,
        "start_time": "2022-06-28T09:16:56.940Z"
      },
      {
        "duration": 1,
        "start_time": "2022-06-28T09:16:56.941Z"
      },
      {
        "duration": 36,
        "start_time": "2022-06-28T09:18:02.293Z"
      },
      {
        "duration": 15,
        "start_time": "2022-06-28T09:19:26.690Z"
      },
      {
        "duration": 1155,
        "start_time": "2022-06-28T09:19:46.687Z"
      },
      {
        "duration": 24,
        "start_time": "2022-06-28T09:20:29.013Z"
      },
      {
        "duration": 7,
        "start_time": "2022-06-28T09:20:33.506Z"
      },
      {
        "duration": 421,
        "start_time": "2022-06-28T09:20:33.515Z"
      },
      {
        "duration": 361,
        "start_time": "2022-06-28T09:20:33.938Z"
      },
      {
        "duration": 19,
        "start_time": "2022-06-28T09:20:34.301Z"
      },
      {
        "duration": 11,
        "start_time": "2022-06-28T09:20:34.323Z"
      },
      {
        "duration": 8,
        "start_time": "2022-06-28T09:20:34.336Z"
      },
      {
        "duration": 46,
        "start_time": "2022-06-28T09:20:34.346Z"
      },
      {
        "duration": 4,
        "start_time": "2022-06-28T09:20:34.395Z"
      },
      {
        "duration": 14,
        "start_time": "2022-06-28T09:20:34.401Z"
      },
      {
        "duration": 6,
        "start_time": "2022-06-28T09:20:34.416Z"
      },
      {
        "duration": 8,
        "start_time": "2022-06-28T09:20:34.424Z"
      },
      {
        "duration": 1095,
        "start_time": "2022-06-28T09:20:34.434Z"
      },
      {
        "duration": 3410,
        "start_time": "2022-06-28T09:20:35.532Z"
      },
      {
        "duration": 4,
        "start_time": "2022-06-28T09:20:38.943Z"
      },
      {
        "duration": 3529,
        "start_time": "2022-06-28T09:20:38.949Z"
      },
      {
        "duration": 7,
        "start_time": "2022-06-28T09:20:42.483Z"
      },
      {
        "duration": 615,
        "start_time": "2022-06-28T09:20:42.498Z"
      },
      {
        "duration": 935,
        "start_time": "2022-06-28T09:20:43.116Z"
      },
      {
        "duration": 5,
        "start_time": "2022-06-28T09:20:44.054Z"
      },
      {
        "duration": 39,
        "start_time": "2022-06-28T09:20:44.067Z"
      },
      {
        "duration": 74,
        "start_time": "2022-06-28T09:20:44.109Z"
      },
      {
        "duration": 31,
        "start_time": "2022-06-28T09:20:44.187Z"
      },
      {
        "duration": 10,
        "start_time": "2022-06-28T09:20:44.220Z"
      },
      {
        "duration": 14,
        "start_time": "2022-06-28T09:20:44.232Z"
      },
      {
        "duration": 17,
        "start_time": "2022-06-28T09:20:44.249Z"
      },
      {
        "duration": 196,
        "start_time": "2022-06-28T09:20:44.275Z"
      },
      {
        "duration": 0,
        "start_time": "2022-06-28T09:20:44.479Z"
      },
      {
        "duration": 0,
        "start_time": "2022-06-28T09:20:44.483Z"
      },
      {
        "duration": 40,
        "start_time": "2022-06-28T09:23:36.180Z"
      },
      {
        "duration": 5,
        "start_time": "2022-06-28T09:26:21.689Z"
      },
      {
        "duration": 9,
        "start_time": "2022-06-28T09:26:26.285Z"
      },
      {
        "duration": 589,
        "start_time": "2022-06-28T09:26:26.297Z"
      },
      {
        "duration": 343,
        "start_time": "2022-06-28T09:26:26.890Z"
      },
      {
        "duration": 13,
        "start_time": "2022-06-28T09:26:27.234Z"
      },
      {
        "duration": 23,
        "start_time": "2022-06-28T09:26:27.250Z"
      },
      {
        "duration": 34,
        "start_time": "2022-06-28T09:26:27.279Z"
      },
      {
        "duration": 11,
        "start_time": "2022-06-28T09:26:27.315Z"
      },
      {
        "duration": 8,
        "start_time": "2022-06-28T09:26:27.328Z"
      },
      {
        "duration": 32,
        "start_time": "2022-06-28T09:26:27.338Z"
      },
      {
        "duration": 28,
        "start_time": "2022-06-28T09:26:27.374Z"
      },
      {
        "duration": 11,
        "start_time": "2022-06-28T09:26:27.404Z"
      },
      {
        "duration": 844,
        "start_time": "2022-06-28T09:26:27.417Z"
      },
      {
        "duration": 3297,
        "start_time": "2022-06-28T09:26:28.264Z"
      },
      {
        "duration": 5,
        "start_time": "2022-06-28T09:26:31.564Z"
      },
      {
        "duration": 3322,
        "start_time": "2022-06-28T09:26:31.571Z"
      },
      {
        "duration": 4,
        "start_time": "2022-06-28T09:26:34.895Z"
      },
      {
        "duration": 576,
        "start_time": "2022-06-28T09:26:34.901Z"
      },
      {
        "duration": 805,
        "start_time": "2022-06-28T09:26:35.479Z"
      },
      {
        "duration": 2,
        "start_time": "2022-06-28T09:26:36.286Z"
      },
      {
        "duration": 15,
        "start_time": "2022-06-28T09:26:36.291Z"
      },
      {
        "duration": 0,
        "start_time": "2022-06-28T09:26:36.308Z"
      },
      {
        "duration": 0,
        "start_time": "2022-06-28T09:26:36.309Z"
      },
      {
        "duration": 0,
        "start_time": "2022-06-28T09:26:36.310Z"
      },
      {
        "duration": 0,
        "start_time": "2022-06-28T09:26:36.311Z"
      },
      {
        "duration": 0,
        "start_time": "2022-06-28T09:26:36.313Z"
      },
      {
        "duration": 0,
        "start_time": "2022-06-28T09:26:36.314Z"
      },
      {
        "duration": 0,
        "start_time": "2022-06-28T09:26:36.315Z"
      },
      {
        "duration": 0,
        "start_time": "2022-06-28T09:26:36.316Z"
      },
      {
        "duration": 3,
        "start_time": "2022-06-28T09:30:43.002Z"
      },
      {
        "duration": 73,
        "start_time": "2022-06-28T09:30:44.913Z"
      },
      {
        "duration": 27,
        "start_time": "2022-06-28T09:30:45.890Z"
      },
      {
        "duration": 4,
        "start_time": "2022-06-28T09:30:46.809Z"
      },
      {
        "duration": 3,
        "start_time": "2022-06-28T09:30:47.241Z"
      },
      {
        "duration": 6,
        "start_time": "2022-06-28T09:30:48.780Z"
      },
      {
        "duration": 1235,
        "start_time": "2022-06-28T09:30:52.330Z"
      },
      {
        "duration": 1028,
        "start_time": "2022-06-28T09:34:05.924Z"
      },
      {
        "duration": 1101,
        "start_time": "2022-06-28T09:34:14.235Z"
      },
      {
        "duration": 36,
        "start_time": "2022-06-28T09:34:20.863Z"
      },
      {
        "duration": 12,
        "start_time": "2022-06-28T09:34:30.092Z"
      },
      {
        "duration": 6,
        "start_time": "2022-06-28T09:34:32.514Z"
      },
      {
        "duration": 5,
        "start_time": "2022-06-28T09:34:38.427Z"
      },
      {
        "duration": 6,
        "start_time": "2022-06-28T09:34:48.575Z"
      },
      {
        "duration": 10,
        "start_time": "2022-06-28T09:35:52.541Z"
      },
      {
        "duration": 3,
        "start_time": "2022-06-28T09:35:56.744Z"
      },
      {
        "duration": 7,
        "start_time": "2022-06-28T09:35:57.271Z"
      },
      {
        "duration": 6,
        "start_time": "2022-06-28T09:35:57.875Z"
      },
      {
        "duration": 234,
        "start_time": "2022-06-28T09:41:51.224Z"
      },
      {
        "duration": 1385,
        "start_time": "2022-06-28T09:52:44.762Z"
      },
      {
        "duration": 1021,
        "start_time": "2022-06-28T09:52:48.962Z"
      },
      {
        "duration": 939,
        "start_time": "2022-06-28T09:53:10.017Z"
      },
      {
        "duration": 8,
        "start_time": "2022-06-28T09:53:12.891Z"
      },
      {
        "duration": 488,
        "start_time": "2022-06-28T09:53:12.901Z"
      },
      {
        "duration": 327,
        "start_time": "2022-06-28T09:53:13.391Z"
      },
      {
        "duration": 15,
        "start_time": "2022-06-28T09:53:13.721Z"
      },
      {
        "duration": 34,
        "start_time": "2022-06-28T09:53:13.739Z"
      },
      {
        "duration": 21,
        "start_time": "2022-06-28T09:53:13.775Z"
      },
      {
        "duration": 8,
        "start_time": "2022-06-28T09:53:13.799Z"
      },
      {
        "duration": 7,
        "start_time": "2022-06-28T09:53:13.809Z"
      },
      {
        "duration": 12,
        "start_time": "2022-06-28T09:53:13.819Z"
      },
      {
        "duration": 7,
        "start_time": "2022-06-28T09:53:13.833Z"
      },
      {
        "duration": 6,
        "start_time": "2022-06-28T09:53:13.842Z"
      },
      {
        "duration": 851,
        "start_time": "2022-06-28T09:53:13.850Z"
      },
      {
        "duration": 3700,
        "start_time": "2022-06-28T09:53:14.704Z"
      },
      {
        "duration": 6,
        "start_time": "2022-06-28T09:53:18.406Z"
      },
      {
        "duration": 3509,
        "start_time": "2022-06-28T09:53:18.414Z"
      },
      {
        "duration": 3,
        "start_time": "2022-06-28T09:53:21.925Z"
      },
      {
        "duration": 892,
        "start_time": "2022-06-28T09:53:21.931Z"
      },
      {
        "duration": 636,
        "start_time": "2022-06-28T09:53:22.826Z"
      },
      {
        "duration": 4,
        "start_time": "2022-06-28T09:53:23.465Z"
      },
      {
        "duration": 20,
        "start_time": "2022-06-28T09:53:23.470Z"
      },
      {
        "duration": 73,
        "start_time": "2022-06-28T09:53:23.492Z"
      },
      {
        "duration": 953,
        "start_time": "2022-06-28T09:53:23.569Z"
      },
      {
        "duration": 0,
        "start_time": "2022-06-28T09:53:24.524Z"
      },
      {
        "duration": 0,
        "start_time": "2022-06-28T09:53:24.526Z"
      },
      {
        "duration": 0,
        "start_time": "2022-06-28T09:53:24.527Z"
      },
      {
        "duration": 0,
        "start_time": "2022-06-28T09:53:24.528Z"
      },
      {
        "duration": 0,
        "start_time": "2022-06-28T09:53:24.530Z"
      },
      {
        "duration": 0,
        "start_time": "2022-06-28T09:53:24.531Z"
      },
      {
        "duration": 17,
        "start_time": "2022-06-28T09:53:43.879Z"
      },
      {
        "duration": 47,
        "start_time": "2022-06-28T09:53:47.764Z"
      },
      {
        "duration": 28,
        "start_time": "2022-06-28T09:53:55.381Z"
      },
      {
        "duration": 5,
        "start_time": "2022-06-28T09:56:56.326Z"
      },
      {
        "duration": 5,
        "start_time": "2022-06-28T09:57:03.495Z"
      },
      {
        "duration": 6,
        "start_time": "2022-06-28T09:58:15.977Z"
      },
      {
        "duration": 14,
        "start_time": "2022-06-28T09:58:19.582Z"
      },
      {
        "duration": 7,
        "start_time": "2022-06-28T09:58:23.910Z"
      },
      {
        "duration": 3,
        "start_time": "2022-06-28T09:58:44.378Z"
      },
      {
        "duration": 3,
        "start_time": "2022-06-28T09:58:46.310Z"
      },
      {
        "duration": 5,
        "start_time": "2022-06-28T10:00:25.683Z"
      },
      {
        "duration": 5,
        "start_time": "2022-06-28T10:00:31.320Z"
      },
      {
        "duration": 7,
        "start_time": "2022-06-28T10:01:03.432Z"
      },
      {
        "duration": 19,
        "start_time": "2022-06-28T10:01:42.921Z"
      },
      {
        "duration": 9,
        "start_time": "2022-06-28T10:01:46.771Z"
      },
      {
        "duration": 5,
        "start_time": "2022-06-28T10:01:54.713Z"
      },
      {
        "duration": 20,
        "start_time": "2022-06-28T10:01:55.384Z"
      },
      {
        "duration": 7,
        "start_time": "2022-06-28T10:02:07.186Z"
      },
      {
        "duration": 468,
        "start_time": "2022-06-28T10:02:07.197Z"
      },
      {
        "duration": 389,
        "start_time": "2022-06-28T10:02:07.668Z"
      },
      {
        "duration": 22,
        "start_time": "2022-06-28T10:02:08.063Z"
      },
      {
        "duration": 13,
        "start_time": "2022-06-28T10:02:08.087Z"
      },
      {
        "duration": 8,
        "start_time": "2022-06-28T10:02:08.103Z"
      },
      {
        "duration": 9,
        "start_time": "2022-06-28T10:02:08.113Z"
      },
      {
        "duration": 7,
        "start_time": "2022-06-28T10:02:08.124Z"
      },
      {
        "duration": 13,
        "start_time": "2022-06-28T10:02:08.132Z"
      },
      {
        "duration": 7,
        "start_time": "2022-06-28T10:02:08.159Z"
      },
      {
        "duration": 21,
        "start_time": "2022-06-28T10:02:08.168Z"
      },
      {
        "duration": 869,
        "start_time": "2022-06-28T10:02:08.191Z"
      },
      {
        "duration": 3462,
        "start_time": "2022-06-28T10:02:09.066Z"
      },
      {
        "duration": 7,
        "start_time": "2022-06-28T10:02:12.530Z"
      },
      {
        "duration": 3666,
        "start_time": "2022-06-28T10:02:12.540Z"
      },
      {
        "duration": 2,
        "start_time": "2022-06-28T10:02:16.209Z"
      },
      {
        "duration": 605,
        "start_time": "2022-06-28T10:02:16.213Z"
      },
      {
        "duration": 1056,
        "start_time": "2022-06-28T10:02:16.820Z"
      },
      {
        "duration": 2,
        "start_time": "2022-06-28T10:02:17.878Z"
      },
      {
        "duration": 28,
        "start_time": "2022-06-28T10:02:17.883Z"
      },
      {
        "duration": 86,
        "start_time": "2022-06-28T10:02:17.914Z"
      },
      {
        "duration": 22,
        "start_time": "2022-06-28T10:02:18.005Z"
      },
      {
        "duration": 9,
        "start_time": "2022-06-28T10:02:18.029Z"
      },
      {
        "duration": 5,
        "start_time": "2022-06-28T10:02:18.040Z"
      },
      {
        "duration": 10,
        "start_time": "2022-06-28T10:02:18.047Z"
      },
      {
        "duration": 3,
        "start_time": "2022-06-28T10:02:33.227Z"
      },
      {
        "duration": 9,
        "start_time": "2022-06-28T10:02:33.641Z"
      },
      {
        "duration": 6,
        "start_time": "2022-06-28T10:02:34.649Z"
      },
      {
        "duration": 72,
        "start_time": "2022-06-28T10:03:55.837Z"
      },
      {
        "duration": 7,
        "start_time": "2022-06-28T10:04:02.499Z"
      },
      {
        "duration": 473,
        "start_time": "2022-06-28T10:04:02.509Z"
      },
      {
        "duration": 501,
        "start_time": "2022-06-28T10:04:02.985Z"
      },
      {
        "duration": 16,
        "start_time": "2022-06-28T10:04:03.489Z"
      },
      {
        "duration": 9,
        "start_time": "2022-06-28T10:04:03.507Z"
      },
      {
        "duration": 23,
        "start_time": "2022-06-28T10:04:03.518Z"
      },
      {
        "duration": 40,
        "start_time": "2022-06-28T10:04:03.544Z"
      },
      {
        "duration": 11,
        "start_time": "2022-06-28T10:04:03.586Z"
      },
      {
        "duration": 12,
        "start_time": "2022-06-28T10:04:03.602Z"
      },
      {
        "duration": 8,
        "start_time": "2022-06-28T10:04:03.616Z"
      },
      {
        "duration": 10,
        "start_time": "2022-06-28T10:04:03.626Z"
      },
      {
        "duration": 918,
        "start_time": "2022-06-28T10:04:03.638Z"
      },
      {
        "duration": 3834,
        "start_time": "2022-06-28T10:04:04.559Z"
      },
      {
        "duration": 5,
        "start_time": "2022-06-28T10:04:08.396Z"
      },
      {
        "duration": 3741,
        "start_time": "2022-06-28T10:04:08.403Z"
      },
      {
        "duration": 4,
        "start_time": "2022-06-28T10:04:12.145Z"
      },
      {
        "duration": 730,
        "start_time": "2022-06-28T10:04:12.150Z"
      },
      {
        "duration": 641,
        "start_time": "2022-06-28T10:04:12.881Z"
      },
      {
        "duration": 3,
        "start_time": "2022-06-28T10:04:13.524Z"
      },
      {
        "duration": 21,
        "start_time": "2022-06-28T10:04:13.528Z"
      },
      {
        "duration": 74,
        "start_time": "2022-06-28T10:04:13.551Z"
      },
      {
        "duration": 9,
        "start_time": "2022-06-28T10:04:13.627Z"
      },
      {
        "duration": 17,
        "start_time": "2022-06-28T10:04:13.639Z"
      },
      {
        "duration": 37,
        "start_time": "2022-06-28T10:04:13.660Z"
      },
      {
        "duration": 7,
        "start_time": "2022-06-28T10:04:13.700Z"
      },
      {
        "duration": 17,
        "start_time": "2022-06-28T10:04:13.709Z"
      },
      {
        "duration": 10,
        "start_time": "2022-06-28T10:04:13.728Z"
      },
      {
        "duration": 35,
        "start_time": "2022-06-28T10:04:13.741Z"
      },
      {
        "duration": 12,
        "start_time": "2022-06-28T10:04:13.779Z"
      },
      {
        "duration": 10,
        "start_time": "2022-06-28T10:04:13.793Z"
      },
      {
        "duration": 66,
        "start_time": "2022-06-28T10:04:13.805Z"
      },
      {
        "duration": 0,
        "start_time": "2022-06-28T10:04:13.875Z"
      },
      {
        "duration": 7,
        "start_time": "2022-06-28T10:04:19.012Z"
      },
      {
        "duration": 179,
        "start_time": "2022-06-28T10:04:21.180Z"
      },
      {
        "duration": 337,
        "start_time": "2022-06-28T10:04:23.020Z"
      },
      {
        "duration": 6,
        "start_time": "2022-06-28T10:04:45.916Z"
      },
      {
        "duration": 272,
        "start_time": "2022-06-28T10:04:54.118Z"
      },
      {
        "duration": 3,
        "start_time": "2022-06-28T10:06:58.648Z"
      },
      {
        "duration": 5,
        "start_time": "2022-06-28T10:06:59.030Z"
      },
      {
        "duration": 7,
        "start_time": "2022-06-28T10:06:59.815Z"
      },
      {
        "duration": 27,
        "start_time": "2022-06-28T10:07:05.744Z"
      },
      {
        "duration": 3,
        "start_time": "2022-06-28T10:31:26.605Z"
      },
      {
        "duration": 3,
        "start_time": "2022-06-28T10:31:26.796Z"
      },
      {
        "duration": 7,
        "start_time": "2022-06-28T10:31:27.187Z"
      },
      {
        "duration": 475,
        "start_time": "2022-06-28T10:31:28.094Z"
      },
      {
        "duration": 17,
        "start_time": "2022-06-28T10:31:29.006Z"
      },
      {
        "duration": 473,
        "start_time": "2022-06-28T10:33:07.900Z"
      },
      {
        "duration": 110,
        "start_time": "2022-06-28T10:33:08.387Z"
      },
      {
        "duration": 3,
        "start_time": "2022-06-28T10:34:56.640Z"
      },
      {
        "duration": 4,
        "start_time": "2022-06-28T10:34:56.867Z"
      },
      {
        "duration": 5,
        "start_time": "2022-06-28T10:34:57.224Z"
      },
      {
        "duration": 645,
        "start_time": "2022-06-28T10:34:58.025Z"
      },
      {
        "duration": 20,
        "start_time": "2022-06-28T10:34:58.891Z"
      },
      {
        "duration": 42,
        "start_time": "2022-06-28T10:37:01.444Z"
      },
      {
        "duration": 3,
        "start_time": "2022-06-28T10:42:10.103Z"
      },
      {
        "duration": 3,
        "start_time": "2022-06-28T10:42:11.198Z"
      },
      {
        "duration": 6,
        "start_time": "2022-06-28T10:42:11.577Z"
      },
      {
        "duration": 153,
        "start_time": "2022-06-28T10:42:14.535Z"
      },
      {
        "duration": 268,
        "start_time": "2022-06-28T10:42:14.890Z"
      },
      {
        "duration": 425,
        "start_time": "2022-06-28T10:43:00.880Z"
      },
      {
        "duration": 472,
        "start_time": "2022-06-28T11:35:40.591Z"
      },
      {
        "duration": 395,
        "start_time": "2022-06-28T11:35:41.071Z"
      },
      {
        "duration": 24,
        "start_time": "2022-06-28T11:38:06.956Z"
      },
      {
        "duration": 760,
        "start_time": "2022-06-28T11:38:26.812Z"
      },
      {
        "duration": 828,
        "start_time": "2022-06-28T11:38:37.369Z"
      },
      {
        "duration": 248,
        "start_time": "2022-06-28T11:38:41.106Z"
      },
      {
        "duration": 189,
        "start_time": "2022-06-28T11:54:30.623Z"
      },
      {
        "duration": 6,
        "start_time": "2022-06-28T11:54:31.410Z"
      },
      {
        "duration": 222,
        "start_time": "2022-06-28T12:06:29.389Z"
      },
      {
        "duration": 176,
        "start_time": "2022-06-28T12:06:31.004Z"
      },
      {
        "duration": 405,
        "start_time": "2022-06-28T12:06:31.201Z"
      },
      {
        "duration": 4,
        "start_time": "2022-06-28T13:17:38.156Z"
      },
      {
        "duration": 901,
        "start_time": "2022-06-28T13:17:41.253Z"
      },
      {
        "duration": 11,
        "start_time": "2022-06-28T13:18:05.653Z"
      },
      {
        "duration": 7,
        "start_time": "2022-06-28T13:20:13.453Z"
      },
      {
        "duration": 9,
        "start_time": "2022-06-28T13:20:24.653Z"
      },
      {
        "duration": 10,
        "start_time": "2022-06-28T13:20:41.652Z"
      },
      {
        "duration": 1013,
        "start_time": "2022-06-28T13:23:39.953Z"
      },
      {
        "duration": 0,
        "start_time": "2022-06-28T13:23:41.053Z"
      },
      {
        "duration": 1700,
        "start_time": "2022-06-28T13:24:32.654Z"
      },
      {
        "duration": 499,
        "start_time": "2022-06-28T13:25:01.652Z"
      },
      {
        "duration": 600,
        "start_time": "2022-06-28T13:25:31.153Z"
      },
      {
        "duration": 5,
        "start_time": "2022-06-28T13:25:32.753Z"
      },
      {
        "duration": 9,
        "start_time": "2022-06-28T13:25:40.053Z"
      },
      {
        "duration": 7,
        "start_time": "2022-06-28T13:28:07.754Z"
      },
      {
        "duration": 303,
        "start_time": "2022-06-28T13:28:24.152Z"
      },
      {
        "duration": 8,
        "start_time": "2022-06-28T13:28:24.851Z"
      },
      {
        "duration": 700,
        "start_time": "2022-06-28T13:32:18.953Z"
      },
      {
        "duration": 134,
        "start_time": "2022-06-28T15:27:06.628Z"
      },
      {
        "duration": 40,
        "start_time": "2022-06-28T15:27:15.181Z"
      },
      {
        "duration": 1746,
        "start_time": "2022-06-28T15:27:20.517Z"
      },
      {
        "duration": 563,
        "start_time": "2022-06-28T15:27:22.264Z"
      },
      {
        "duration": 1384,
        "start_time": "2022-06-28T15:27:22.829Z"
      },
      {
        "duration": 13,
        "start_time": "2022-06-28T15:27:24.215Z"
      },
      {
        "duration": 12,
        "start_time": "2022-06-28T15:27:24.230Z"
      },
      {
        "duration": 6,
        "start_time": "2022-06-28T15:27:24.243Z"
      },
      {
        "duration": 17,
        "start_time": "2022-06-28T15:27:24.250Z"
      },
      {
        "duration": 19,
        "start_time": "2022-06-28T15:27:24.269Z"
      },
      {
        "duration": 24,
        "start_time": "2022-06-28T15:27:24.289Z"
      },
      {
        "duration": 5,
        "start_time": "2022-06-28T15:27:24.315Z"
      },
      {
        "duration": 4,
        "start_time": "2022-06-28T15:31:34.821Z"
      },
      {
        "duration": 90,
        "start_time": "2022-06-28T15:39:42.814Z"
      },
      {
        "duration": 6,
        "start_time": "2022-06-28T15:39:47.040Z"
      },
      {
        "duration": 2,
        "start_time": "2022-06-28T15:39:52.044Z"
      },
      {
        "duration": 613,
        "start_time": "2022-06-28T15:39:52.524Z"
      },
      {
        "duration": 520,
        "start_time": "2022-06-28T15:39:58.844Z"
      },
      {
        "duration": 202,
        "start_time": "2022-06-28T15:42:00.437Z"
      },
      {
        "duration": 127,
        "start_time": "2022-06-28T15:42:09.008Z"
      },
      {
        "duration": 462,
        "start_time": "2022-06-28T15:42:44.035Z"
      },
      {
        "duration": 459,
        "start_time": "2022-06-28T15:44:28.228Z"
      },
      {
        "duration": 12,
        "start_time": "2022-06-28T15:44:32.026Z"
      },
      {
        "duration": 13,
        "start_time": "2022-06-28T15:44:44.106Z"
      },
      {
        "duration": 8,
        "start_time": "2022-06-28T15:44:46.837Z"
      },
      {
        "duration": 63,
        "start_time": "2022-06-28T15:45:39.219Z"
      },
      {
        "duration": 13,
        "start_time": "2022-06-28T15:45:41.417Z"
      },
      {
        "duration": 5,
        "start_time": "2022-06-28T15:45:46.688Z"
      },
      {
        "duration": 57,
        "start_time": "2022-06-28T15:46:07.497Z"
      },
      {
        "duration": 18,
        "start_time": "2022-06-28T15:46:11.447Z"
      },
      {
        "duration": 14,
        "start_time": "2022-06-28T15:46:18.627Z"
      },
      {
        "duration": 7,
        "start_time": "2022-06-28T15:46:19.297Z"
      },
      {
        "duration": 6,
        "start_time": "2022-06-28T15:46:22.397Z"
      },
      {
        "duration": 11,
        "start_time": "2022-06-28T15:46:24.367Z"
      },
      {
        "duration": 6,
        "start_time": "2022-06-28T15:46:25.440Z"
      },
      {
        "duration": 15,
        "start_time": "2022-06-28T15:47:07.498Z"
      },
      {
        "duration": 8,
        "start_time": "2022-06-28T15:47:11.366Z"
      },
      {
        "duration": 1134,
        "start_time": "2022-06-28T15:47:18.587Z"
      },
      {
        "duration": 590,
        "start_time": "2022-06-28T15:47:58.465Z"
      },
      {
        "duration": 2052,
        "start_time": "2022-06-28T15:48:39.615Z"
      },
      {
        "duration": 147,
        "start_time": "2022-06-28T15:48:54.350Z"
      },
      {
        "duration": 586,
        "start_time": "2022-06-28T15:49:40.499Z"
      },
      {
        "duration": 5,
        "start_time": "2022-06-28T15:51:46.991Z"
      },
      {
        "duration": 16,
        "start_time": "2022-06-28T15:54:36.065Z"
      },
      {
        "duration": 163,
        "start_time": "2022-06-28T15:54:43.966Z"
      },
      {
        "duration": 95,
        "start_time": "2022-06-28T15:55:13.242Z"
      },
      {
        "duration": 153,
        "start_time": "2022-06-28T15:55:22.533Z"
      },
      {
        "duration": 488,
        "start_time": "2022-06-28T15:55:34.266Z"
      },
      {
        "duration": 144,
        "start_time": "2022-06-28T15:55:48.982Z"
      },
      {
        "duration": 59,
        "start_time": "2022-06-28T15:55:53.743Z"
      },
      {
        "duration": 482,
        "start_time": "2022-06-28T15:55:57.432Z"
      },
      {
        "duration": 516,
        "start_time": "2022-06-28T15:56:07.314Z"
      },
      {
        "duration": 561,
        "start_time": "2022-06-28T15:56:47.467Z"
      },
      {
        "duration": 6,
        "start_time": "2022-06-28T15:57:08.212Z"
      },
      {
        "duration": 3,
        "start_time": "2022-06-28T15:57:18.913Z"
      },
      {
        "duration": 4,
        "start_time": "2022-06-28T15:57:19.939Z"
      },
      {
        "duration": 3,
        "start_time": "2022-06-28T15:57:38.294Z"
      },
      {
        "duration": 3,
        "start_time": "2022-06-28T15:57:38.794Z"
      },
      {
        "duration": 36,
        "start_time": "2022-06-28T15:57:43.693Z"
      },
      {
        "duration": 5,
        "start_time": "2022-06-28T15:57:51.208Z"
      },
      {
        "duration": 440,
        "start_time": "2022-06-28T15:57:51.215Z"
      },
      {
        "duration": 322,
        "start_time": "2022-06-28T15:57:51.659Z"
      },
      {
        "duration": 14,
        "start_time": "2022-06-28T15:57:51.983Z"
      },
      {
        "duration": 9,
        "start_time": "2022-06-28T15:57:52.000Z"
      },
      {
        "duration": 15,
        "start_time": "2022-06-28T15:57:52.011Z"
      },
      {
        "duration": 8,
        "start_time": "2022-06-28T15:57:52.027Z"
      },
      {
        "duration": 7,
        "start_time": "2022-06-28T15:57:52.036Z"
      },
      {
        "duration": 16,
        "start_time": "2022-06-28T15:57:52.044Z"
      },
      {
        "duration": 5,
        "start_time": "2022-06-28T15:57:52.062Z"
      },
      {
        "duration": 7,
        "start_time": "2022-06-28T15:57:52.068Z"
      },
      {
        "duration": 7,
        "start_time": "2022-06-28T15:57:52.077Z"
      },
      {
        "duration": 5,
        "start_time": "2022-06-28T15:57:52.086Z"
      },
      {
        "duration": 48,
        "start_time": "2022-06-28T15:57:52.093Z"
      },
      {
        "duration": 5,
        "start_time": "2022-06-28T15:58:01.923Z"
      },
      {
        "duration": 864,
        "start_time": "2022-06-28T15:58:46.313Z"
      },
      {
        "duration": 994,
        "start_time": "2022-06-28T15:58:57.335Z"
      },
      {
        "duration": 1044,
        "start_time": "2022-06-28T15:59:00.403Z"
      },
      {
        "duration": 6,
        "start_time": "2022-06-28T15:59:46.874Z"
      },
      {
        "duration": 2,
        "start_time": "2022-06-28T15:59:55.884Z"
      },
      {
        "duration": 3,
        "start_time": "2022-06-28T15:59:57.904Z"
      },
      {
        "duration": 5,
        "start_time": "2022-06-28T16:00:16.505Z"
      },
      {
        "duration": 4,
        "start_time": "2022-06-28T16:00:24.904Z"
      },
      {
        "duration": 3,
        "start_time": "2022-06-28T16:00:27.834Z"
      },
      {
        "duration": 29,
        "start_time": "2022-06-28T16:00:28.211Z"
      },
      {
        "duration": 3,
        "start_time": "2022-06-28T16:00:28.614Z"
      },
      {
        "duration": 504,
        "start_time": "2022-06-28T16:02:39.936Z"
      },
      {
        "duration": 457,
        "start_time": "2022-06-28T16:02:46.787Z"
      },
      {
        "duration": 8,
        "start_time": "2022-06-28T16:03:28.928Z"
      },
      {
        "duration": 4,
        "start_time": "2022-06-28T16:03:35.926Z"
      },
      {
        "duration": 28,
        "start_time": "2022-06-28T16:03:36.539Z"
      },
      {
        "duration": 5,
        "start_time": "2022-06-28T16:03:37.427Z"
      },
      {
        "duration": 1640,
        "start_time": "2022-06-28T16:04:14.268Z"
      },
      {
        "duration": 549,
        "start_time": "2022-06-28T16:04:24.467Z"
      },
      {
        "duration": 713,
        "start_time": "2022-06-28T16:05:05.180Z"
      },
      {
        "duration": 547,
        "start_time": "2022-06-28T16:05:08.270Z"
      },
      {
        "duration": 512,
        "start_time": "2022-06-28T16:05:50.897Z"
      },
      {
        "duration": 562,
        "start_time": "2022-06-28T16:06:24.827Z"
      },
      {
        "duration": 3,
        "start_time": "2022-06-28T16:28:56.628Z"
      },
      {
        "duration": 503,
        "start_time": "2022-06-28T16:28:56.928Z"
      },
      {
        "duration": 653,
        "start_time": "2022-06-28T16:29:02.598Z"
      },
      {
        "duration": 112,
        "start_time": "2022-06-28T16:44:19.445Z"
      },
      {
        "duration": 709,
        "start_time": "2022-06-28T16:48:01.448Z"
      },
      {
        "duration": 603,
        "start_time": "2022-06-28T16:48:06.427Z"
      },
      {
        "duration": 11,
        "start_time": "2022-06-28T17:00:14.742Z"
      },
      {
        "duration": 1005,
        "start_time": "2022-06-28T17:00:42.932Z"
      },
      {
        "duration": 11,
        "start_time": "2022-06-28T17:03:04.105Z"
      },
      {
        "duration": 870,
        "start_time": "2022-06-28T17:03:27.156Z"
      },
      {
        "duration": 280,
        "start_time": "2022-06-28T17:03:43.469Z"
      },
      {
        "duration": 362,
        "start_time": "2022-06-28T17:04:07.325Z"
      },
      {
        "duration": 279,
        "start_time": "2022-06-28T17:04:16.404Z"
      },
      {
        "duration": 4,
        "start_time": "2022-06-28T17:04:37.686Z"
      },
      {
        "duration": 260,
        "start_time": "2022-06-28T17:04:47.328Z"
      },
      {
        "duration": 454,
        "start_time": "2022-06-28T17:05:11.137Z"
      },
      {
        "duration": 267,
        "start_time": "2022-06-28T17:05:13.394Z"
      },
      {
        "duration": 264,
        "start_time": "2022-06-28T17:05:26.603Z"
      },
      {
        "duration": 3,
        "start_time": "2022-06-28T17:05:38.370Z"
      },
      {
        "duration": 3,
        "start_time": "2022-06-28T17:05:41.170Z"
      },
      {
        "duration": 303,
        "start_time": "2022-06-28T17:05:43.126Z"
      },
      {
        "duration": 379,
        "start_time": "2022-06-28T17:06:56.897Z"
      },
      {
        "duration": 256,
        "start_time": "2022-06-28T17:07:04.838Z"
      },
      {
        "duration": 280,
        "start_time": "2022-06-28T17:07:07.315Z"
      },
      {
        "duration": 2,
        "start_time": "2022-06-28T17:07:33.447Z"
      },
      {
        "duration": 13,
        "start_time": "2022-06-28T17:10:30.479Z"
      },
      {
        "duration": 256,
        "start_time": "2022-06-28T17:11:03.439Z"
      },
      {
        "duration": 87,
        "start_time": "2022-06-28T17:11:08.517Z"
      },
      {
        "duration": 321,
        "start_time": "2022-06-28T17:11:12.377Z"
      },
      {
        "duration": 279,
        "start_time": "2022-06-28T17:11:20.359Z"
      },
      {
        "duration": 344,
        "start_time": "2022-06-28T17:13:39.457Z"
      },
      {
        "duration": 203,
        "start_time": "2022-06-28T17:19:51.170Z"
      },
      {
        "duration": 60,
        "start_time": "2022-06-28T17:20:08.531Z"
      },
      {
        "duration": 6,
        "start_time": "2022-06-28T17:20:10.880Z"
      },
      {
        "duration": 560,
        "start_time": "2022-06-28T17:20:55.721Z"
      },
      {
        "duration": 680,
        "start_time": "2022-06-28T17:21:00.131Z"
      },
      {
        "duration": 730,
        "start_time": "2022-06-28T17:21:07.301Z"
      },
      {
        "duration": 542,
        "start_time": "2022-06-28T17:21:13.053Z"
      },
      {
        "duration": 277,
        "start_time": "2022-06-28T17:21:17.191Z"
      },
      {
        "duration": 701,
        "start_time": "2022-06-28T17:21:21.771Z"
      },
      {
        "duration": 569,
        "start_time": "2022-06-28T17:21:35.221Z"
      },
      {
        "duration": 48,
        "start_time": "2022-06-29T05:30:46.092Z"
      },
      {
        "duration": 1458,
        "start_time": "2022-06-29T05:30:50.625Z"
      },
      {
        "duration": 535,
        "start_time": "2022-06-29T05:30:52.085Z"
      },
      {
        "duration": 876,
        "start_time": "2022-06-29T05:30:52.622Z"
      },
      {
        "duration": 13,
        "start_time": "2022-06-29T05:30:53.499Z"
      },
      {
        "duration": 17,
        "start_time": "2022-06-29T05:30:53.513Z"
      },
      {
        "duration": 4,
        "start_time": "2022-06-29T05:30:53.532Z"
      },
      {
        "duration": 12,
        "start_time": "2022-06-29T05:30:53.538Z"
      },
      {
        "duration": 7,
        "start_time": "2022-06-29T05:30:53.551Z"
      },
      {
        "duration": 15,
        "start_time": "2022-06-29T05:30:53.560Z"
      },
      {
        "duration": 4,
        "start_time": "2022-06-29T05:30:53.578Z"
      },
      {
        "duration": 8,
        "start_time": "2022-06-29T05:30:53.583Z"
      },
      {
        "duration": 5,
        "start_time": "2022-06-29T05:30:53.592Z"
      },
      {
        "duration": 5,
        "start_time": "2022-06-29T05:30:53.599Z"
      },
      {
        "duration": 47,
        "start_time": "2022-06-29T05:30:53.605Z"
      },
      {
        "duration": 3,
        "start_time": "2022-06-29T05:30:53.654Z"
      },
      {
        "duration": 569,
        "start_time": "2022-06-29T05:30:53.659Z"
      },
      {
        "duration": 3110,
        "start_time": "2022-06-29T05:30:54.230Z"
      },
      {
        "duration": 4,
        "start_time": "2022-06-29T05:30:57.342Z"
      },
      {
        "duration": 3272,
        "start_time": "2022-06-29T05:30:57.352Z"
      },
      {
        "duration": 2,
        "start_time": "2022-06-29T05:31:00.626Z"
      },
      {
        "duration": 50,
        "start_time": "2022-06-29T05:31:00.630Z"
      },
      {
        "duration": 35,
        "start_time": "2022-06-29T05:31:00.682Z"
      },
      {
        "duration": 595,
        "start_time": "2022-06-29T05:31:00.719Z"
      },
      {
        "duration": 289,
        "start_time": "2022-06-29T05:31:01.316Z"
      },
      {
        "duration": 2,
        "start_time": "2022-06-29T05:31:01.607Z"
      },
      {
        "duration": 17,
        "start_time": "2022-06-29T05:31:01.611Z"
      },
      {
        "duration": 34,
        "start_time": "2022-06-29T05:31:01.630Z"
      },
      {
        "duration": 66,
        "start_time": "2022-06-29T05:31:01.666Z"
      },
      {
        "duration": 23,
        "start_time": "2022-06-29T05:31:01.734Z"
      },
      {
        "duration": 34,
        "start_time": "2022-06-29T05:31:01.759Z"
      },
      {
        "duration": 22,
        "start_time": "2022-06-29T05:31:01.794Z"
      },
      {
        "duration": 30,
        "start_time": "2022-06-29T05:31:01.817Z"
      },
      {
        "duration": 307,
        "start_time": "2022-06-29T05:31:01.849Z"
      },
      {
        "duration": 359,
        "start_time": "2022-06-29T05:31:02.159Z"
      },
      {
        "duration": 270,
        "start_time": "2022-06-29T05:31:19.464Z"
      },
      {
        "duration": 543,
        "start_time": "2022-06-29T05:36:43.073Z"
      },
      {
        "duration": 4,
        "start_time": "2022-06-29T05:37:32.465Z"
      },
      {
        "duration": 19,
        "start_time": "2022-06-29T05:37:55.751Z"
      },
      {
        "duration": 15,
        "start_time": "2022-06-29T05:44:10.283Z"
      },
      {
        "duration": 11,
        "start_time": "2022-06-29T05:44:32.849Z"
      },
      {
        "duration": 10,
        "start_time": "2022-06-29T05:45:40.363Z"
      },
      {
        "duration": 4,
        "start_time": "2022-06-29T05:45:47.386Z"
      },
      {
        "duration": 4,
        "start_time": "2022-06-29T05:46:03.421Z"
      },
      {
        "duration": 6,
        "start_time": "2022-06-29T05:46:25.770Z"
      },
      {
        "duration": 337,
        "start_time": "2022-06-29T05:46:25.777Z"
      },
      {
        "duration": 311,
        "start_time": "2022-06-29T05:46:26.115Z"
      },
      {
        "duration": 14,
        "start_time": "2022-06-29T05:46:26.428Z"
      },
      {
        "duration": 32,
        "start_time": "2022-06-29T05:46:26.444Z"
      },
      {
        "duration": 6,
        "start_time": "2022-06-29T05:46:26.479Z"
      },
      {
        "duration": 9,
        "start_time": "2022-06-29T05:46:26.488Z"
      },
      {
        "duration": 9,
        "start_time": "2022-06-29T05:46:26.499Z"
      },
      {
        "duration": 16,
        "start_time": "2022-06-29T05:46:26.511Z"
      },
      {
        "duration": 6,
        "start_time": "2022-06-29T05:46:26.528Z"
      },
      {
        "duration": 5,
        "start_time": "2022-06-29T05:46:26.536Z"
      },
      {
        "duration": 9,
        "start_time": "2022-06-29T05:46:26.543Z"
      },
      {
        "duration": 3,
        "start_time": "2022-06-29T05:46:26.553Z"
      },
      {
        "duration": 32,
        "start_time": "2022-06-29T05:46:26.558Z"
      },
      {
        "duration": 4,
        "start_time": "2022-06-29T05:46:26.591Z"
      },
      {
        "duration": 573,
        "start_time": "2022-06-29T05:46:26.596Z"
      },
      {
        "duration": 3128,
        "start_time": "2022-06-29T05:46:27.171Z"
      },
      {
        "duration": 3,
        "start_time": "2022-06-29T05:46:30.301Z"
      },
      {
        "duration": 3256,
        "start_time": "2022-06-29T05:46:30.305Z"
      },
      {
        "duration": 3,
        "start_time": "2022-06-29T05:46:33.563Z"
      },
      {
        "duration": 7,
        "start_time": "2022-06-29T05:46:33.568Z"
      },
      {
        "duration": 8,
        "start_time": "2022-06-29T05:46:33.577Z"
      },
      {
        "duration": 636,
        "start_time": "2022-06-29T05:46:33.587Z"
      },
      {
        "duration": 307,
        "start_time": "2022-06-29T05:46:34.226Z"
      },
      {
        "duration": 37,
        "start_time": "2022-06-29T05:46:34.534Z"
      },
      {
        "duration": 7,
        "start_time": "2022-06-29T05:46:38.549Z"
      },
      {
        "duration": 14,
        "start_time": "2022-06-29T05:46:40.955Z"
      },
      {
        "duration": 30,
        "start_time": "2022-06-29T05:46:43.292Z"
      },
      {
        "duration": 28,
        "start_time": "2022-06-29T05:47:30.197Z"
      },
      {
        "duration": 22,
        "start_time": "2022-06-29T05:47:36.445Z"
      },
      {
        "duration": 31,
        "start_time": "2022-06-29T05:47:38.151Z"
      },
      {
        "duration": 1073,
        "start_time": "2022-06-29T05:50:19.915Z"
      },
      {
        "duration": 4,
        "start_time": "2022-06-29T05:51:20.348Z"
      },
      {
        "duration": 3,
        "start_time": "2022-06-29T05:51:26.347Z"
      },
      {
        "duration": 3,
        "start_time": "2022-06-29T05:51:28.818Z"
      },
      {
        "duration": 3,
        "start_time": "2022-06-29T05:51:29.490Z"
      },
      {
        "duration": 29,
        "start_time": "2022-06-29T05:51:42.787Z"
      },
      {
        "duration": 5,
        "start_time": "2022-06-29T05:52:01.996Z"
      },
      {
        "duration": 31,
        "start_time": "2022-06-29T06:01:39.137Z"
      },
      {
        "duration": 5,
        "start_time": "2022-06-29T06:02:27.938Z"
      },
      {
        "duration": 6,
        "start_time": "2022-06-29T06:02:31.385Z"
      },
      {
        "duration": 5,
        "start_time": "2022-06-29T06:02:33.274Z"
      },
      {
        "duration": 5,
        "start_time": "2022-06-29T06:02:58.660Z"
      },
      {
        "duration": 20,
        "start_time": "2022-06-29T06:02:59.107Z"
      },
      {
        "duration": 4,
        "start_time": "2022-06-29T06:03:01.458Z"
      },
      {
        "duration": 13,
        "start_time": "2022-06-29T06:03:19.707Z"
      },
      {
        "duration": 29,
        "start_time": "2022-06-29T06:03:22.699Z"
      },
      {
        "duration": 12,
        "start_time": "2022-06-29T06:03:37.431Z"
      },
      {
        "duration": 315,
        "start_time": "2022-06-29T06:03:41.619Z"
      },
      {
        "duration": 540,
        "start_time": "2022-06-29T06:03:52.740Z"
      },
      {
        "duration": 306,
        "start_time": "2022-06-29T06:04:13.685Z"
      },
      {
        "duration": 11,
        "start_time": "2022-06-29T06:08:45.955Z"
      },
      {
        "duration": 5,
        "start_time": "2022-06-29T06:08:59.823Z"
      },
      {
        "duration": 335,
        "start_time": "2022-06-29T06:08:59.830Z"
      },
      {
        "duration": 301,
        "start_time": "2022-06-29T06:09:00.167Z"
      },
      {
        "duration": 14,
        "start_time": "2022-06-29T06:09:00.470Z"
      },
      {
        "duration": 12,
        "start_time": "2022-06-29T06:09:00.486Z"
      },
      {
        "duration": 8,
        "start_time": "2022-06-29T06:09:00.499Z"
      },
      {
        "duration": 11,
        "start_time": "2022-06-29T06:09:00.509Z"
      },
      {
        "duration": 6,
        "start_time": "2022-06-29T06:09:00.522Z"
      },
      {
        "duration": 23,
        "start_time": "2022-06-29T06:09:00.529Z"
      },
      {
        "duration": 6,
        "start_time": "2022-06-29T06:09:00.553Z"
      },
      {
        "duration": 9,
        "start_time": "2022-06-29T06:09:00.561Z"
      },
      {
        "duration": 7,
        "start_time": "2022-06-29T06:09:00.572Z"
      },
      {
        "duration": 22,
        "start_time": "2022-06-29T06:09:00.580Z"
      },
      {
        "duration": 36,
        "start_time": "2022-06-29T06:09:00.604Z"
      },
      {
        "duration": 4,
        "start_time": "2022-06-29T06:09:00.641Z"
      },
      {
        "duration": 594,
        "start_time": "2022-06-29T06:09:00.651Z"
      },
      {
        "duration": 3344,
        "start_time": "2022-06-29T06:09:01.252Z"
      },
      {
        "duration": 4,
        "start_time": "2022-06-29T06:09:04.598Z"
      },
      {
        "duration": 3217,
        "start_time": "2022-06-29T06:09:04.603Z"
      },
      {
        "duration": 3,
        "start_time": "2022-06-29T06:09:07.822Z"
      },
      {
        "duration": 8,
        "start_time": "2022-06-29T06:09:07.826Z"
      },
      {
        "duration": 18,
        "start_time": "2022-06-29T06:09:07.835Z"
      },
      {
        "duration": 760,
        "start_time": "2022-06-29T06:09:07.854Z"
      },
      {
        "duration": 314,
        "start_time": "2022-06-29T06:09:08.616Z"
      },
      {
        "duration": 44,
        "start_time": "2022-06-29T06:09:08.932Z"
      },
      {
        "duration": 1379,
        "start_time": "2022-06-29T07:09:44.436Z"
      },
      {
        "duration": 1326,
        "start_time": "2022-06-29T07:09:53.701Z"
      },
      {
        "duration": 21,
        "start_time": "2022-06-29T07:09:56.502Z"
      },
      {
        "duration": 1460,
        "start_time": "2022-06-29T07:09:57.965Z"
      },
      {
        "duration": 6,
        "start_time": "2022-06-29T07:12:55.039Z"
      },
      {
        "duration": 361,
        "start_time": "2022-06-29T07:12:55.047Z"
      },
      {
        "duration": 292,
        "start_time": "2022-06-29T07:12:55.410Z"
      },
      {
        "duration": 13,
        "start_time": "2022-06-29T07:12:55.704Z"
      },
      {
        "duration": 10,
        "start_time": "2022-06-29T07:12:55.719Z"
      },
      {
        "duration": 5,
        "start_time": "2022-06-29T07:12:55.730Z"
      },
      {
        "duration": 5,
        "start_time": "2022-06-29T07:12:55.752Z"
      },
      {
        "duration": 5,
        "start_time": "2022-06-29T07:12:55.759Z"
      },
      {
        "duration": 19,
        "start_time": "2022-06-29T07:12:55.774Z"
      },
      {
        "duration": 6,
        "start_time": "2022-06-29T07:12:55.795Z"
      },
      {
        "duration": 4,
        "start_time": "2022-06-29T07:12:55.804Z"
      },
      {
        "duration": 4,
        "start_time": "2022-06-29T07:12:55.810Z"
      },
      {
        "duration": 6,
        "start_time": "2022-06-29T07:12:55.816Z"
      },
      {
        "duration": 43,
        "start_time": "2022-06-29T07:12:55.823Z"
      },
      {
        "duration": 5,
        "start_time": "2022-06-29T07:12:55.868Z"
      },
      {
        "duration": 609,
        "start_time": "2022-06-29T07:12:55.875Z"
      },
      {
        "duration": 3252,
        "start_time": "2022-06-29T07:12:56.486Z"
      },
      {
        "duration": 4,
        "start_time": "2022-06-29T07:12:59.740Z"
      },
      {
        "duration": 3199,
        "start_time": "2022-06-29T07:12:59.745Z"
      },
      {
        "duration": 2,
        "start_time": "2022-06-29T07:13:02.952Z"
      },
      {
        "duration": 11,
        "start_time": "2022-06-29T07:13:02.956Z"
      },
      {
        "duration": 12,
        "start_time": "2022-06-29T07:13:02.968Z"
      },
      {
        "duration": 751,
        "start_time": "2022-06-29T07:13:02.981Z"
      },
      {
        "duration": 347,
        "start_time": "2022-06-29T07:13:03.734Z"
      },
      {
        "duration": 33,
        "start_time": "2022-06-29T07:13:04.083Z"
      },
      {
        "duration": 1465,
        "start_time": "2022-06-29T07:13:04.118Z"
      },
      {
        "duration": 689,
        "start_time": "2022-06-29T07:13:40.339Z"
      },
      {
        "duration": 1001,
        "start_time": "2022-06-29T07:13:44.241Z"
      },
      {
        "duration": 769,
        "start_time": "2022-06-29T07:14:01.642Z"
      },
      {
        "duration": 969,
        "start_time": "2022-06-29T07:14:04.787Z"
      },
      {
        "duration": 690,
        "start_time": "2022-06-29T07:14:35.948Z"
      },
      {
        "duration": 962,
        "start_time": "2022-06-29T07:14:49.980Z"
      },
      {
        "duration": 1491,
        "start_time": "2022-06-29T07:15:16.219Z"
      },
      {
        "duration": 20,
        "start_time": "2022-06-29T07:16:41.063Z"
      },
      {
        "duration": 1358,
        "start_time": "2022-06-29T07:16:41.935Z"
      },
      {
        "duration": 1346,
        "start_time": "2022-06-29T07:17:18.245Z"
      },
      {
        "duration": 1492,
        "start_time": "2022-06-29T07:17:30.824Z"
      },
      {
        "duration": 57,
        "start_time": "2022-06-29T07:18:22.169Z"
      },
      {
        "duration": 1309,
        "start_time": "2022-06-29T07:18:27.608Z"
      },
      {
        "duration": 191,
        "start_time": "2022-06-29T07:18:53.050Z"
      },
      {
        "duration": 192,
        "start_time": "2022-06-29T07:19:00.696Z"
      },
      {
        "duration": 1532,
        "start_time": "2022-06-29T07:19:04.392Z"
      },
      {
        "duration": 1512,
        "start_time": "2022-06-29T07:20:45.104Z"
      },
      {
        "duration": 4,
        "start_time": "2022-06-29T07:27:08.913Z"
      },
      {
        "duration": 4,
        "start_time": "2022-06-29T07:27:12.801Z"
      },
      {
        "duration": 2,
        "start_time": "2022-06-29T07:27:26.083Z"
      },
      {
        "duration": 4,
        "start_time": "2022-06-29T07:27:26.932Z"
      },
      {
        "duration": 22,
        "start_time": "2022-06-29T07:28:36.320Z"
      },
      {
        "duration": 1782,
        "start_time": "2022-06-29T07:29:08.918Z"
      },
      {
        "duration": 1906,
        "start_time": "2022-06-29T07:29:22.493Z"
      },
      {
        "duration": 1695,
        "start_time": "2022-06-29T07:29:50.020Z"
      },
      {
        "duration": 1724,
        "start_time": "2022-06-29T07:30:05.165Z"
      },
      {
        "duration": 1900,
        "start_time": "2022-06-29T07:30:25.445Z"
      },
      {
        "duration": 0,
        "start_time": "2022-06-29T07:30:27.351Z"
      },
      {
        "duration": 1243,
        "start_time": "2022-06-29T07:30:27.646Z"
      },
      {
        "duration": 24,
        "start_time": "2022-06-29T07:30:43.101Z"
      },
      {
        "duration": 1751,
        "start_time": "2022-06-29T07:30:43.246Z"
      },
      {
        "duration": 4,
        "start_time": "2022-06-29T07:42:24.800Z"
      },
      {
        "duration": 70,
        "start_time": "2022-06-29T07:46:55.423Z"
      },
      {
        "duration": 3,
        "start_time": "2022-06-29T07:46:57.439Z"
      },
      {
        "duration": 47,
        "start_time": "2022-06-29T07:46:57.881Z"
      },
      {
        "duration": 69,
        "start_time": "2022-06-29T07:47:13.824Z"
      },
      {
        "duration": 58,
        "start_time": "2022-06-29T07:47:20.327Z"
      },
      {
        "duration": 4,
        "start_time": "2022-06-29T07:47:28.890Z"
      },
      {
        "duration": 265,
        "start_time": "2022-06-29T07:47:53.448Z"
      },
      {
        "duration": 2,
        "start_time": "2022-06-29T07:47:56.382Z"
      },
      {
        "duration": 11,
        "start_time": "2022-06-29T07:57:30.130Z"
      },
      {
        "duration": 7,
        "start_time": "2022-06-29T07:58:16.284Z"
      },
      {
        "duration": 6,
        "start_time": "2022-06-29T07:58:41.578Z"
      },
      {
        "duration": 315,
        "start_time": "2022-06-29T07:58:41.586Z"
      },
      {
        "duration": 311,
        "start_time": "2022-06-29T07:58:41.903Z"
      },
      {
        "duration": 18,
        "start_time": "2022-06-29T07:58:42.216Z"
      },
      {
        "duration": 26,
        "start_time": "2022-06-29T07:58:42.237Z"
      },
      {
        "duration": 14,
        "start_time": "2022-06-29T07:58:42.265Z"
      },
      {
        "duration": 9,
        "start_time": "2022-06-29T07:58:42.281Z"
      },
      {
        "duration": 7,
        "start_time": "2022-06-29T07:58:42.292Z"
      },
      {
        "duration": 16,
        "start_time": "2022-06-29T07:58:42.301Z"
      },
      {
        "duration": 5,
        "start_time": "2022-06-29T07:58:42.319Z"
      },
      {
        "duration": 6,
        "start_time": "2022-06-29T07:58:42.326Z"
      },
      {
        "duration": 6,
        "start_time": "2022-06-29T07:58:42.333Z"
      },
      {
        "duration": 4,
        "start_time": "2022-06-29T07:58:42.353Z"
      },
      {
        "duration": 659,
        "start_time": "2022-06-29T07:58:42.358Z"
      },
      {
        "duration": 3345,
        "start_time": "2022-06-29T07:58:43.019Z"
      },
      {
        "duration": 4,
        "start_time": "2022-06-29T07:58:46.365Z"
      },
      {
        "duration": 3351,
        "start_time": "2022-06-29T07:58:46.371Z"
      },
      {
        "duration": 632,
        "start_time": "2022-06-29T07:58:49.724Z"
      },
      {
        "duration": 366,
        "start_time": "2022-06-29T07:58:50.359Z"
      },
      {
        "duration": 57,
        "start_time": "2022-06-29T07:58:50.727Z"
      },
      {
        "duration": 2003,
        "start_time": "2022-06-29T07:58:50.785Z"
      },
      {
        "duration": 3,
        "start_time": "2022-06-29T07:58:52.789Z"
      },
      {
        "duration": 10,
        "start_time": "2022-06-29T07:58:52.793Z"
      },
      {
        "duration": 62,
        "start_time": "2022-06-29T07:58:52.805Z"
      },
      {
        "duration": 16,
        "start_time": "2022-06-29T07:58:52.870Z"
      },
      {
        "duration": 3,
        "start_time": "2022-06-29T07:58:52.888Z"
      },
      {
        "duration": 10,
        "start_time": "2022-06-29T07:58:52.893Z"
      },
      {
        "duration": 11,
        "start_time": "2022-06-29T07:58:52.905Z"
      },
      {
        "duration": 0,
        "start_time": "2022-06-29T07:58:52.918Z"
      },
      {
        "duration": 0,
        "start_time": "2022-06-29T07:58:52.919Z"
      },
      {
        "duration": 0,
        "start_time": "2022-06-29T07:58:52.921Z"
      },
      {
        "duration": 12,
        "start_time": "2022-06-29T07:59:22.539Z"
      },
      {
        "duration": 4,
        "start_time": "2022-06-29T07:59:23.891Z"
      },
      {
        "duration": 11,
        "start_time": "2022-06-29T07:59:24.154Z"
      },
      {
        "duration": 3,
        "start_time": "2022-06-29T07:59:42.012Z"
      },
      {
        "duration": 30,
        "start_time": "2022-06-29T08:10:39.741Z"
      },
      {
        "duration": 14,
        "start_time": "2022-06-29T08:11:14.918Z"
      },
      {
        "duration": 7,
        "start_time": "2022-06-29T08:11:23.544Z"
      },
      {
        "duration": 300,
        "start_time": "2022-06-29T08:11:23.554Z"
      },
      {
        "duration": 319,
        "start_time": "2022-06-29T08:11:23.856Z"
      },
      {
        "duration": 14,
        "start_time": "2022-06-29T08:11:24.177Z"
      },
      {
        "duration": 11,
        "start_time": "2022-06-29T08:11:24.193Z"
      },
      {
        "duration": 9,
        "start_time": "2022-06-29T08:11:24.205Z"
      },
      {
        "duration": 6,
        "start_time": "2022-06-29T08:11:24.215Z"
      },
      {
        "duration": 7,
        "start_time": "2022-06-29T08:11:24.223Z"
      },
      {
        "duration": 28,
        "start_time": "2022-06-29T08:11:24.232Z"
      },
      {
        "duration": 6,
        "start_time": "2022-06-29T08:11:24.262Z"
      },
      {
        "duration": 6,
        "start_time": "2022-06-29T08:11:24.270Z"
      },
      {
        "duration": 8,
        "start_time": "2022-06-29T08:11:24.278Z"
      },
      {
        "duration": 9,
        "start_time": "2022-06-29T08:11:24.287Z"
      },
      {
        "duration": 604,
        "start_time": "2022-06-29T08:11:24.297Z"
      },
      {
        "duration": 3315,
        "start_time": "2022-06-29T08:11:24.903Z"
      },
      {
        "duration": 3,
        "start_time": "2022-06-29T08:11:28.219Z"
      },
      {
        "duration": 3415,
        "start_time": "2022-06-29T08:11:28.224Z"
      },
      {
        "duration": 606,
        "start_time": "2022-06-29T08:11:31.640Z"
      },
      {
        "duration": 391,
        "start_time": "2022-06-29T08:11:32.252Z"
      },
      {
        "duration": 51,
        "start_time": "2022-06-29T08:11:32.645Z"
      },
      {
        "duration": 1701,
        "start_time": "2022-06-29T08:11:32.698Z"
      },
      {
        "duration": 2,
        "start_time": "2022-06-29T08:11:34.400Z"
      },
      {
        "duration": 26,
        "start_time": "2022-06-29T08:11:34.404Z"
      },
      {
        "duration": 77,
        "start_time": "2022-06-29T08:11:34.432Z"
      },
      {
        "duration": 19,
        "start_time": "2022-06-29T08:11:34.511Z"
      },
      {
        "duration": 3,
        "start_time": "2022-06-29T08:11:34.532Z"
      },
      {
        "duration": 44,
        "start_time": "2022-06-29T08:11:34.536Z"
      },
      {
        "duration": 34,
        "start_time": "2022-06-29T08:11:34.582Z"
      },
      {
        "duration": 41,
        "start_time": "2022-06-29T08:11:34.617Z"
      },
      {
        "duration": 29,
        "start_time": "2022-06-29T08:11:49.885Z"
      },
      {
        "duration": 31,
        "start_time": "2022-06-29T08:41:51.645Z"
      },
      {
        "duration": 926,
        "start_time": "2022-06-29T08:43:14.958Z"
      },
      {
        "duration": 11,
        "start_time": "2022-06-29T08:44:31.138Z"
      },
      {
        "duration": 17,
        "start_time": "2022-06-29T08:44:40.352Z"
      },
      {
        "duration": 15,
        "start_time": "2022-06-29T08:44:56.257Z"
      },
      {
        "duration": 16,
        "start_time": "2022-06-29T08:45:17.545Z"
      },
      {
        "duration": 12,
        "start_time": "2022-06-29T08:45:39.033Z"
      },
      {
        "duration": 55,
        "start_time": "2022-06-29T08:45:48.394Z"
      },
      {
        "duration": 11,
        "start_time": "2022-06-29T08:45:51.105Z"
      },
      {
        "duration": 11,
        "start_time": "2022-06-29T08:45:56.112Z"
      },
      {
        "duration": 13,
        "start_time": "2022-06-29T08:46:03.584Z"
      },
      {
        "duration": 16,
        "start_time": "2022-06-29T08:46:51.754Z"
      },
      {
        "duration": 14,
        "start_time": "2022-06-29T08:47:29.915Z"
      },
      {
        "duration": 6,
        "start_time": "2022-06-29T08:47:34.198Z"
      },
      {
        "duration": 355,
        "start_time": "2022-06-29T08:47:34.206Z"
      },
      {
        "duration": 308,
        "start_time": "2022-06-29T08:47:34.563Z"
      },
      {
        "duration": 14,
        "start_time": "2022-06-29T08:47:34.873Z"
      },
      {
        "duration": 21,
        "start_time": "2022-06-29T08:47:34.889Z"
      },
      {
        "duration": 6,
        "start_time": "2022-06-29T08:47:34.912Z"
      },
      {
        "duration": 9,
        "start_time": "2022-06-29T08:47:34.919Z"
      },
      {
        "duration": 8,
        "start_time": "2022-06-29T08:47:34.930Z"
      },
      {
        "duration": 17,
        "start_time": "2022-06-29T08:47:34.940Z"
      },
      {
        "duration": 6,
        "start_time": "2022-06-29T08:47:34.959Z"
      },
      {
        "duration": 17,
        "start_time": "2022-06-29T08:47:34.966Z"
      },
      {
        "duration": 10,
        "start_time": "2022-06-29T08:47:34.984Z"
      },
      {
        "duration": 7,
        "start_time": "2022-06-29T08:47:34.995Z"
      },
      {
        "duration": 634,
        "start_time": "2022-06-29T08:47:35.003Z"
      },
      {
        "duration": 3565,
        "start_time": "2022-06-29T08:47:35.638Z"
      },
      {
        "duration": 4,
        "start_time": "2022-06-29T08:47:39.205Z"
      },
      {
        "duration": 3468,
        "start_time": "2022-06-29T08:47:39.210Z"
      },
      {
        "duration": 552,
        "start_time": "2022-06-29T08:47:42.680Z"
      },
      {
        "duration": 312,
        "start_time": "2022-06-29T08:47:43.234Z"
      },
      {
        "duration": 42,
        "start_time": "2022-06-29T08:47:43.552Z"
      },
      {
        "duration": 1676,
        "start_time": "2022-06-29T08:47:43.596Z"
      },
      {
        "duration": 3,
        "start_time": "2022-06-29T08:47:45.274Z"
      },
      {
        "duration": 11,
        "start_time": "2022-06-29T08:47:45.279Z"
      },
      {
        "duration": 75,
        "start_time": "2022-06-29T08:47:45.294Z"
      },
      {
        "duration": 29,
        "start_time": "2022-06-29T08:47:45.371Z"
      },
      {
        "duration": 4,
        "start_time": "2022-06-29T08:47:45.403Z"
      },
      {
        "duration": 14,
        "start_time": "2022-06-29T08:47:45.408Z"
      },
      {
        "duration": 6,
        "start_time": "2022-06-29T08:47:45.423Z"
      },
      {
        "duration": 10,
        "start_time": "2022-06-29T08:47:45.430Z"
      },
      {
        "duration": 15,
        "start_time": "2022-06-29T08:47:47.594Z"
      },
      {
        "duration": 29,
        "start_time": "2022-06-29T08:47:55.379Z"
      },
      {
        "duration": 15,
        "start_time": "2022-06-29T08:48:00.618Z"
      },
      {
        "duration": 41,
        "start_time": "2022-06-29T08:48:15.642Z"
      },
      {
        "duration": 988,
        "start_time": "2022-06-29T08:48:48.388Z"
      },
      {
        "duration": 14,
        "start_time": "2022-06-29T08:48:56.636Z"
      },
      {
        "duration": 35,
        "start_time": "2022-06-29T08:49:07.095Z"
      },
      {
        "duration": 10,
        "start_time": "2022-06-29T08:49:19.612Z"
      },
      {
        "duration": 6,
        "start_time": "2022-06-29T08:49:29.148Z"
      },
      {
        "duration": 6,
        "start_time": "2022-06-29T08:49:38.195Z"
      },
      {
        "duration": 12,
        "start_time": "2022-06-29T08:50:48.886Z"
      },
      {
        "duration": 27,
        "start_time": "2022-06-29T08:50:53.653Z"
      },
      {
        "duration": 169,
        "start_time": "2022-06-29T09:13:58.490Z"
      },
      {
        "duration": 4,
        "start_time": "2022-06-29T09:15:11.308Z"
      },
      {
        "duration": 4,
        "start_time": "2022-06-29T09:15:24.285Z"
      },
      {
        "duration": 28,
        "start_time": "2022-06-29T09:15:47.496Z"
      },
      {
        "duration": 28,
        "start_time": "2022-06-29T09:15:54.831Z"
      },
      {
        "duration": 24,
        "start_time": "2022-06-29T09:15:59.638Z"
      },
      {
        "duration": 26,
        "start_time": "2022-06-29T09:16:04.526Z"
      },
      {
        "duration": 26,
        "start_time": "2022-06-29T09:16:09.974Z"
      },
      {
        "duration": 36,
        "start_time": "2022-06-29T09:16:17.094Z"
      },
      {
        "duration": 26,
        "start_time": "2022-06-29T09:16:47.615Z"
      },
      {
        "duration": 5,
        "start_time": "2022-06-29T09:16:52.580Z"
      },
      {
        "duration": 25,
        "start_time": "2022-06-29T09:17:00.144Z"
      },
      {
        "duration": 25,
        "start_time": "2022-06-29T09:17:06.821Z"
      },
      {
        "duration": 12,
        "start_time": "2022-06-29T09:17:28.135Z"
      },
      {
        "duration": 14,
        "start_time": "2022-06-29T09:18:29.980Z"
      },
      {
        "duration": 15,
        "start_time": "2022-06-29T09:18:41.927Z"
      },
      {
        "duration": 14,
        "start_time": "2022-06-29T09:18:49.009Z"
      },
      {
        "duration": 14,
        "start_time": "2022-06-29T09:18:56.679Z"
      },
      {
        "duration": 14,
        "start_time": "2022-06-29T09:19:00.185Z"
      },
      {
        "duration": 16,
        "start_time": "2022-06-29T09:19:02.181Z"
      },
      {
        "duration": 5,
        "start_time": "2022-06-29T09:19:07.826Z"
      },
      {
        "duration": 318,
        "start_time": "2022-06-29T09:19:07.834Z"
      },
      {
        "duration": 284,
        "start_time": "2022-06-29T09:19:08.154Z"
      },
      {
        "duration": 13,
        "start_time": "2022-06-29T09:19:08.439Z"
      },
      {
        "duration": 13,
        "start_time": "2022-06-29T09:19:08.454Z"
      },
      {
        "duration": 7,
        "start_time": "2022-06-29T09:19:08.469Z"
      },
      {
        "duration": 5,
        "start_time": "2022-06-29T09:19:08.477Z"
      },
      {
        "duration": 4,
        "start_time": "2022-06-29T09:19:08.484Z"
      },
      {
        "duration": 9,
        "start_time": "2022-06-29T09:19:08.492Z"
      },
      {
        "duration": 6,
        "start_time": "2022-06-29T09:19:08.503Z"
      },
      {
        "duration": 6,
        "start_time": "2022-06-29T09:19:08.510Z"
      },
      {
        "duration": 36,
        "start_time": "2022-06-29T09:19:08.517Z"
      },
      {
        "duration": 8,
        "start_time": "2022-06-29T09:19:08.554Z"
      },
      {
        "duration": 569,
        "start_time": "2022-06-29T09:19:08.563Z"
      },
      {
        "duration": 3335,
        "start_time": "2022-06-29T09:19:09.134Z"
      },
      {
        "duration": 3,
        "start_time": "2022-06-29T09:19:12.471Z"
      },
      {
        "duration": 3486,
        "start_time": "2022-06-29T09:19:12.475Z"
      },
      {
        "duration": 654,
        "start_time": "2022-06-29T09:19:15.963Z"
      },
      {
        "duration": 328,
        "start_time": "2022-06-29T09:19:16.618Z"
      },
      {
        "duration": 36,
        "start_time": "2022-06-29T09:19:16.952Z"
      },
      {
        "duration": 1643,
        "start_time": "2022-06-29T09:19:16.990Z"
      },
      {
        "duration": 3,
        "start_time": "2022-06-29T09:19:18.634Z"
      },
      {
        "duration": 8,
        "start_time": "2022-06-29T09:19:18.638Z"
      },
      {
        "duration": 54,
        "start_time": "2022-06-29T09:19:18.653Z"
      },
      {
        "duration": 14,
        "start_time": "2022-06-29T09:19:18.709Z"
      },
      {
        "duration": 3,
        "start_time": "2022-06-29T09:19:18.725Z"
      },
      {
        "duration": 25,
        "start_time": "2022-06-29T09:19:18.729Z"
      },
      {
        "duration": 4,
        "start_time": "2022-06-29T09:19:18.756Z"
      },
      {
        "duration": 8,
        "start_time": "2022-06-29T09:19:18.762Z"
      },
      {
        "duration": 13,
        "start_time": "2022-06-29T09:19:18.771Z"
      },
      {
        "duration": 27,
        "start_time": "2022-06-29T09:19:52.383Z"
      },
      {
        "duration": 28,
        "start_time": "2022-06-29T09:20:05.929Z"
      },
      {
        "duration": 33,
        "start_time": "2022-06-29T09:20:34.529Z"
      },
      {
        "duration": 29,
        "start_time": "2022-06-29T09:20:41.049Z"
      },
      {
        "duration": 3,
        "start_time": "2022-06-29T09:24:43.308Z"
      },
      {
        "duration": 4,
        "start_time": "2022-06-29T09:24:43.947Z"
      },
      {
        "duration": 6,
        "start_time": "2022-06-29T09:24:44.379Z"
      },
      {
        "duration": 5,
        "start_time": "2022-06-29T09:24:45.691Z"
      },
      {
        "duration": 5,
        "start_time": "2022-06-29T09:24:56.311Z"
      },
      {
        "duration": 352,
        "start_time": "2022-06-29T09:24:56.318Z"
      },
      {
        "duration": 306,
        "start_time": "2022-06-29T09:24:56.672Z"
      },
      {
        "duration": 14,
        "start_time": "2022-06-29T09:24:56.980Z"
      },
      {
        "duration": 19,
        "start_time": "2022-06-29T09:24:56.997Z"
      },
      {
        "duration": 8,
        "start_time": "2022-06-29T09:24:57.018Z"
      },
      {
        "duration": 10,
        "start_time": "2022-06-29T09:24:57.028Z"
      },
      {
        "duration": 3,
        "start_time": "2022-06-29T09:24:57.055Z"
      },
      {
        "duration": 15,
        "start_time": "2022-06-29T09:24:57.059Z"
      },
      {
        "duration": 6,
        "start_time": "2022-06-29T09:24:57.075Z"
      },
      {
        "duration": 14,
        "start_time": "2022-06-29T09:24:57.083Z"
      },
      {
        "duration": 12,
        "start_time": "2022-06-29T09:24:57.099Z"
      },
      {
        "duration": 6,
        "start_time": "2022-06-29T09:24:57.113Z"
      },
      {
        "duration": 627,
        "start_time": "2022-06-29T09:24:57.121Z"
      },
      {
        "duration": 3584,
        "start_time": "2022-06-29T09:24:57.751Z"
      },
      {
        "duration": 4,
        "start_time": "2022-06-29T09:25:01.337Z"
      },
      {
        "duration": 3794,
        "start_time": "2022-06-29T09:25:01.342Z"
      },
      {
        "duration": 590,
        "start_time": "2022-06-29T09:25:05.138Z"
      },
      {
        "duration": 305,
        "start_time": "2022-06-29T09:25:05.730Z"
      },
      {
        "duration": 42,
        "start_time": "2022-06-29T09:25:06.037Z"
      },
      {
        "duration": 1717,
        "start_time": "2022-06-29T09:25:06.081Z"
      },
      {
        "duration": 2,
        "start_time": "2022-06-29T09:25:07.800Z"
      },
      {
        "duration": 7,
        "start_time": "2022-06-29T09:25:07.804Z"
      },
      {
        "duration": 65,
        "start_time": "2022-06-29T09:25:07.813Z"
      },
      {
        "duration": 17,
        "start_time": "2022-06-29T09:25:07.880Z"
      },
      {
        "duration": 4,
        "start_time": "2022-06-29T09:25:07.898Z"
      },
      {
        "duration": 6,
        "start_time": "2022-06-29T09:25:07.903Z"
      },
      {
        "duration": 11,
        "start_time": "2022-06-29T09:25:07.910Z"
      },
      {
        "duration": 7,
        "start_time": "2022-06-29T09:25:07.924Z"
      },
      {
        "duration": 25,
        "start_time": "2022-06-29T09:25:07.932Z"
      },
      {
        "duration": 28,
        "start_time": "2022-06-29T09:25:07.959Z"
      },
      {
        "duration": 3,
        "start_time": "2022-06-29T09:25:07.988Z"
      },
      {
        "duration": 7,
        "start_time": "2022-06-29T09:25:07.992Z"
      },
      {
        "duration": 11,
        "start_time": "2022-06-29T09:25:08.001Z"
      },
      {
        "duration": 6,
        "start_time": "2022-06-29T09:25:08.013Z"
      },
      {
        "duration": 4,
        "start_time": "2022-06-29T09:25:48.129Z"
      },
      {
        "duration": 5,
        "start_time": "2022-06-29T09:25:52.196Z"
      },
      {
        "duration": 4,
        "start_time": "2022-06-29T09:25:59.108Z"
      },
      {
        "duration": 5,
        "start_time": "2022-06-29T09:25:59.798Z"
      },
      {
        "duration": 4,
        "start_time": "2022-06-29T09:26:00.851Z"
      },
      {
        "duration": 2,
        "start_time": "2022-06-29T09:26:17.901Z"
      },
      {
        "duration": 5,
        "start_time": "2022-06-29T09:26:18.156Z"
      },
      {
        "duration": 6,
        "start_time": "2022-06-29T09:26:18.396Z"
      },
      {
        "duration": 5,
        "start_time": "2022-06-29T09:26:19.197Z"
      },
      {
        "duration": 3,
        "start_time": "2022-06-29T09:26:20.533Z"
      },
      {
        "duration": 4,
        "start_time": "2022-06-29T09:26:20.709Z"
      },
      {
        "duration": 5,
        "start_time": "2022-06-29T09:26:20.890Z"
      },
      {
        "duration": 2,
        "start_time": "2022-06-29T09:27:21.518Z"
      },
      {
        "duration": 3,
        "start_time": "2022-06-29T09:27:21.694Z"
      },
      {
        "duration": 5,
        "start_time": "2022-06-29T09:27:21.901Z"
      },
      {
        "duration": 5,
        "start_time": "2022-06-29T09:27:24.325Z"
      },
      {
        "duration": 6,
        "start_time": "2022-06-29T09:27:24.646Z"
      },
      {
        "duration": 3,
        "start_time": "2022-06-29T09:27:28.293Z"
      },
      {
        "duration": 6,
        "start_time": "2022-06-29T09:27:28.687Z"
      },
      {
        "duration": 4,
        "start_time": "2022-06-29T09:27:29.509Z"
      },
      {
        "duration": 4,
        "start_time": "2022-06-29T09:27:54.982Z"
      },
      {
        "duration": 4,
        "start_time": "2022-06-29T09:27:56.665Z"
      },
      {
        "duration": 4,
        "start_time": "2022-06-29T09:27:56.822Z"
      },
      {
        "duration": 3,
        "start_time": "2022-06-29T09:27:58.414Z"
      },
      {
        "duration": 4,
        "start_time": "2022-06-29T09:27:58.525Z"
      },
      {
        "duration": 4,
        "start_time": "2022-06-29T09:27:58.654Z"
      },
      {
        "duration": 26,
        "start_time": "2022-06-29T09:28:13.808Z"
      },
      {
        "duration": 4,
        "start_time": "2022-06-29T09:28:23.632Z"
      },
      {
        "duration": 187,
        "start_time": "2022-06-29T09:29:05.966Z"
      },
      {
        "duration": 5,
        "start_time": "2022-06-29T09:30:18.415Z"
      },
      {
        "duration": 193,
        "start_time": "2022-06-29T09:30:25.659Z"
      },
      {
        "duration": 273,
        "start_time": "2022-06-29T09:30:32.896Z"
      },
      {
        "duration": 4,
        "start_time": "2022-06-29T09:31:07.508Z"
      },
      {
        "duration": 6,
        "start_time": "2022-06-29T09:31:16.353Z"
      },
      {
        "duration": 1548,
        "start_time": "2022-06-29T09:41:03.710Z"
      },
      {
        "duration": 1546,
        "start_time": "2022-06-29T09:41:19.409Z"
      },
      {
        "duration": 1490,
        "start_time": "2022-06-29T09:41:49.373Z"
      },
      {
        "duration": 15,
        "start_time": "2022-06-29T09:43:10.147Z"
      },
      {
        "duration": 16,
        "start_time": "2022-06-29T09:43:14.707Z"
      },
      {
        "duration": 6,
        "start_time": "2022-06-29T09:43:17.085Z"
      },
      {
        "duration": 15,
        "start_time": "2022-06-29T09:43:17.222Z"
      },
      {
        "duration": 4,
        "start_time": "2022-06-29T09:43:17.827Z"
      },
      {
        "duration": 8,
        "start_time": "2022-06-29T09:43:23.506Z"
      },
      {
        "duration": 353,
        "start_time": "2022-06-29T09:43:23.517Z"
      },
      {
        "duration": 292,
        "start_time": "2022-06-29T09:43:23.872Z"
      },
      {
        "duration": 15,
        "start_time": "2022-06-29T09:43:24.166Z"
      },
      {
        "duration": 12,
        "start_time": "2022-06-29T09:43:24.182Z"
      },
      {
        "duration": 6,
        "start_time": "2022-06-29T09:43:24.195Z"
      },
      {
        "duration": 7,
        "start_time": "2022-06-29T09:43:24.203Z"
      },
      {
        "duration": 5,
        "start_time": "2022-06-29T09:43:24.211Z"
      },
      {
        "duration": 15,
        "start_time": "2022-06-29T09:43:24.219Z"
      },
      {
        "duration": 5,
        "start_time": "2022-06-29T09:43:24.236Z"
      },
      {
        "duration": 6,
        "start_time": "2022-06-29T09:43:24.256Z"
      },
      {
        "duration": 8,
        "start_time": "2022-06-29T09:43:24.267Z"
      },
      {
        "duration": 9,
        "start_time": "2022-06-29T09:43:24.276Z"
      },
      {
        "duration": 583,
        "start_time": "2022-06-29T09:43:24.286Z"
      },
      {
        "duration": 3594,
        "start_time": "2022-06-29T09:43:24.871Z"
      },
      {
        "duration": 5,
        "start_time": "2022-06-29T09:43:28.467Z"
      },
      {
        "duration": 3562,
        "start_time": "2022-06-29T09:43:28.474Z"
      },
      {
        "duration": 626,
        "start_time": "2022-06-29T09:43:32.038Z"
      },
      {
        "duration": 357,
        "start_time": "2022-06-29T09:43:32.666Z"
      },
      {
        "duration": 45,
        "start_time": "2022-06-29T09:43:33.025Z"
      },
      {
        "duration": 1704,
        "start_time": "2022-06-29T09:43:33.072Z"
      },
      {
        "duration": 2,
        "start_time": "2022-06-29T09:43:34.778Z"
      },
      {
        "duration": 8,
        "start_time": "2022-06-29T09:43:34.781Z"
      },
      {
        "duration": 71,
        "start_time": "2022-06-29T09:43:34.792Z"
      },
      {
        "duration": 22,
        "start_time": "2022-06-29T09:43:34.865Z"
      },
      {
        "duration": 3,
        "start_time": "2022-06-29T09:43:34.889Z"
      },
      {
        "duration": 12,
        "start_time": "2022-06-29T09:43:34.894Z"
      },
      {
        "duration": 16,
        "start_time": "2022-06-29T09:43:34.908Z"
      },
      {
        "duration": 9,
        "start_time": "2022-06-29T09:43:34.925Z"
      },
      {
        "duration": 12,
        "start_time": "2022-06-29T09:43:34.936Z"
      },
      {
        "duration": 8,
        "start_time": "2022-06-29T09:43:34.950Z"
      },
      {
        "duration": 5,
        "start_time": "2022-06-29T09:45:03.753Z"
      },
      {
        "duration": 5,
        "start_time": "2022-06-29T09:46:43.134Z"
      },
      {
        "duration": 4,
        "start_time": "2022-06-29T09:55:06.180Z"
      },
      {
        "duration": 12,
        "start_time": "2022-06-29T09:55:56.550Z"
      },
      {
        "duration": 6,
        "start_time": "2022-06-29T09:56:04.772Z"
      },
      {
        "duration": 338,
        "start_time": "2022-06-29T09:56:04.782Z"
      },
      {
        "duration": 364,
        "start_time": "2022-06-29T09:56:05.122Z"
      },
      {
        "duration": 13,
        "start_time": "2022-06-29T09:56:05.487Z"
      },
      {
        "duration": 23,
        "start_time": "2022-06-29T09:56:05.501Z"
      },
      {
        "duration": 8,
        "start_time": "2022-06-29T09:56:05.527Z"
      },
      {
        "duration": 18,
        "start_time": "2022-06-29T09:56:05.537Z"
      },
      {
        "duration": 11,
        "start_time": "2022-06-29T09:56:05.565Z"
      },
      {
        "duration": 14,
        "start_time": "2022-06-29T09:56:05.577Z"
      },
      {
        "duration": 5,
        "start_time": "2022-06-29T09:56:05.593Z"
      },
      {
        "duration": 19,
        "start_time": "2022-06-29T09:56:05.599Z"
      },
      {
        "duration": 8,
        "start_time": "2022-06-29T09:56:05.620Z"
      },
      {
        "duration": 8,
        "start_time": "2022-06-29T09:56:05.630Z"
      },
      {
        "duration": 586,
        "start_time": "2022-06-29T09:56:05.640Z"
      },
      {
        "duration": 3450,
        "start_time": "2022-06-29T09:56:06.229Z"
      },
      {
        "duration": 3,
        "start_time": "2022-06-29T09:56:09.681Z"
      },
      {
        "duration": 3591,
        "start_time": "2022-06-29T09:56:09.685Z"
      },
      {
        "duration": 655,
        "start_time": "2022-06-29T09:56:13.278Z"
      },
      {
        "duration": 394,
        "start_time": "2022-06-29T09:56:13.936Z"
      },
      {
        "duration": 53,
        "start_time": "2022-06-29T09:56:14.331Z"
      },
      {
        "duration": 1685,
        "start_time": "2022-06-29T09:56:14.385Z"
      },
      {
        "duration": 3,
        "start_time": "2022-06-29T09:56:16.072Z"
      },
      {
        "duration": 39,
        "start_time": "2022-06-29T09:56:16.076Z"
      },
      {
        "duration": 83,
        "start_time": "2022-06-29T09:56:16.116Z"
      },
      {
        "duration": 38,
        "start_time": "2022-06-29T09:56:16.200Z"
      },
      {
        "duration": 8,
        "start_time": "2022-06-29T09:56:16.240Z"
      },
      {
        "duration": 37,
        "start_time": "2022-06-29T09:56:16.251Z"
      },
      {
        "duration": 35,
        "start_time": "2022-06-29T09:56:16.291Z"
      },
      {
        "duration": 34,
        "start_time": "2022-06-29T09:56:16.328Z"
      },
      {
        "duration": 45,
        "start_time": "2022-06-29T09:56:16.365Z"
      },
      {
        "duration": 21,
        "start_time": "2022-06-29T09:56:16.412Z"
      },
      {
        "duration": 12,
        "start_time": "2022-06-29T09:56:16.434Z"
      },
      {
        "duration": 5,
        "start_time": "2022-06-29T09:58:07.569Z"
      },
      {
        "duration": 172,
        "start_time": "2022-06-29T09:58:07.990Z"
      },
      {
        "duration": 3,
        "start_time": "2022-06-29T09:59:25.010Z"
      },
      {
        "duration": 59,
        "start_time": "2022-06-29T09:59:25.809Z"
      },
      {
        "duration": 5,
        "start_time": "2022-06-29T09:59:56.490Z"
      },
      {
        "duration": 779,
        "start_time": "2022-06-29T09:59:56.985Z"
      },
      {
        "duration": 5,
        "start_time": "2022-06-29T10:00:06.184Z"
      },
      {
        "duration": 3597,
        "start_time": "2022-06-29T10:00:06.616Z"
      },
      {
        "duration": 4,
        "start_time": "2022-06-29T10:01:00.078Z"
      },
      {
        "duration": 5,
        "start_time": "2022-06-29T10:01:06.921Z"
      },
      {
        "duration": 4,
        "start_time": "2022-06-29T10:01:07.736Z"
      },
      {
        "duration": 2906,
        "start_time": "2022-06-29T10:01:08.025Z"
      },
      {
        "duration": 4,
        "start_time": "2022-06-29T10:02:33.236Z"
      },
      {
        "duration": 6,
        "start_time": "2022-06-29T10:02:41.865Z"
      },
      {
        "duration": 86,
        "start_time": "2022-06-29T10:02:44.795Z"
      },
      {
        "duration": 2453,
        "start_time": "2022-06-29T10:02:45.916Z"
      },
      {
        "duration": 58,
        "start_time": "2022-06-29T10:03:18.674Z"
      },
      {
        "duration": 4,
        "start_time": "2022-06-29T10:03:26.421Z"
      },
      {
        "duration": 2658,
        "start_time": "2022-06-29T10:03:27.140Z"
      },
      {
        "duration": 5,
        "start_time": "2022-06-29T10:04:28.492Z"
      },
      {
        "duration": 4,
        "start_time": "2022-06-29T10:04:29.340Z"
      },
      {
        "duration": 2398,
        "start_time": "2022-06-29T10:04:29.581Z"
      },
      {
        "duration": 52,
        "start_time": "2022-06-29T10:05:43.406Z"
      },
      {
        "duration": 2340,
        "start_time": "2022-06-29T10:05:59.695Z"
      },
      {
        "duration": 5,
        "start_time": "2022-06-29T10:06:16.476Z"
      },
      {
        "duration": 27,
        "start_time": "2022-06-29T10:06:21.191Z"
      },
      {
        "duration": 1669,
        "start_time": "2022-06-29T10:07:29.185Z"
      },
      {
        "duration": 4,
        "start_time": "2022-06-29T10:09:46.089Z"
      },
      {
        "duration": 1520,
        "start_time": "2022-06-29T10:10:48.833Z"
      },
      {
        "duration": 1715,
        "start_time": "2022-06-29T10:11:18.739Z"
      },
      {
        "duration": 1946,
        "start_time": "2022-06-29T10:16:17.319Z"
      },
      {
        "duration": 4,
        "start_time": "2022-06-29T10:16:25.294Z"
      },
      {
        "duration": 1599,
        "start_time": "2022-06-29T10:16:25.459Z"
      },
      {
        "duration": 4,
        "start_time": "2022-06-29T10:17:50.895Z"
      },
      {
        "duration": 2,
        "start_time": "2022-06-29T10:17:54.023Z"
      },
      {
        "duration": 1852,
        "start_time": "2022-06-29T10:19:48.208Z"
      },
      {
        "duration": 9,
        "start_time": "2022-06-29T10:20:16.145Z"
      },
      {
        "duration": 1606,
        "start_time": "2022-06-29T10:20:18.849Z"
      },
      {
        "duration": 1645,
        "start_time": "2022-06-29T10:20:21.113Z"
      },
      {
        "duration": 3,
        "start_time": "2022-06-29T10:20:23.745Z"
      },
      {
        "duration": 3,
        "start_time": "2022-06-29T10:20:28.289Z"
      },
      {
        "duration": 3,
        "start_time": "2022-06-29T10:20:31.381Z"
      },
      {
        "duration": 3,
        "start_time": "2022-06-29T10:20:39.988Z"
      },
      {
        "duration": 3,
        "start_time": "2022-06-29T10:20:44.373Z"
      },
      {
        "duration": 1823,
        "start_time": "2022-06-29T10:20:57.332Z"
      },
      {
        "duration": 2175,
        "start_time": "2022-06-29T10:21:13.891Z"
      },
      {
        "duration": 5,
        "start_time": "2022-06-29T10:21:17.699Z"
      },
      {
        "duration": 1879,
        "start_time": "2022-06-29T10:21:18.081Z"
      },
      {
        "duration": 3985,
        "start_time": "2022-06-29T10:21:55.778Z"
      },
      {
        "duration": 1928,
        "start_time": "2022-06-29T10:22:20.530Z"
      },
      {
        "duration": 5,
        "start_time": "2022-06-29T10:22:29.300Z"
      },
      {
        "duration": 2328,
        "start_time": "2022-06-29T10:22:29.538Z"
      },
      {
        "duration": 2595,
        "start_time": "2022-06-29T10:22:31.868Z"
      },
      {
        "duration": 4028,
        "start_time": "2022-06-29T10:22:39.235Z"
      },
      {
        "duration": 1995,
        "start_time": "2022-06-29T10:22:58.565Z"
      },
      {
        "duration": 2006,
        "start_time": "2022-06-29T10:23:05.251Z"
      },
      {
        "duration": 4455,
        "start_time": "2022-06-29T10:26:16.703Z"
      },
      {
        "duration": 6,
        "start_time": "2022-06-29T10:26:29.544Z"
      },
      {
        "duration": 378,
        "start_time": "2022-06-29T10:26:29.552Z"
      },
      {
        "duration": 347,
        "start_time": "2022-06-29T10:26:29.932Z"
      },
      {
        "duration": 13,
        "start_time": "2022-06-29T10:26:30.281Z"
      },
      {
        "duration": 70,
        "start_time": "2022-06-29T10:26:30.296Z"
      },
      {
        "duration": 34,
        "start_time": "2022-06-29T10:26:30.368Z"
      },
      {
        "duration": 27,
        "start_time": "2022-06-29T10:26:30.404Z"
      },
      {
        "duration": 35,
        "start_time": "2022-06-29T10:26:30.433Z"
      },
      {
        "duration": 42,
        "start_time": "2022-06-29T10:26:30.470Z"
      },
      {
        "duration": 26,
        "start_time": "2022-06-29T10:26:30.513Z"
      },
      {
        "duration": 39,
        "start_time": "2022-06-29T10:26:30.542Z"
      },
      {
        "duration": 52,
        "start_time": "2022-06-29T10:26:30.583Z"
      },
      {
        "duration": 69,
        "start_time": "2022-06-29T10:26:30.637Z"
      },
      {
        "duration": 665,
        "start_time": "2022-06-29T10:26:30.708Z"
      },
      {
        "duration": 3591,
        "start_time": "2022-06-29T10:26:31.376Z"
      },
      {
        "duration": 3,
        "start_time": "2022-06-29T10:26:34.969Z"
      },
      {
        "duration": 3827,
        "start_time": "2022-06-29T10:26:34.974Z"
      },
      {
        "duration": 627,
        "start_time": "2022-06-29T10:26:38.803Z"
      },
      {
        "duration": 335,
        "start_time": "2022-06-29T10:26:39.432Z"
      },
      {
        "duration": 45,
        "start_time": "2022-06-29T10:26:39.769Z"
      },
      {
        "duration": 1744,
        "start_time": "2022-06-29T10:26:39.816Z"
      },
      {
        "duration": 4,
        "start_time": "2022-06-29T10:26:41.561Z"
      },
      {
        "duration": 13,
        "start_time": "2022-06-29T10:26:41.566Z"
      },
      {
        "duration": 66,
        "start_time": "2022-06-29T10:26:41.581Z"
      },
      {
        "duration": 38,
        "start_time": "2022-06-29T10:26:41.649Z"
      },
      {
        "duration": 4,
        "start_time": "2022-06-29T10:26:41.688Z"
      },
      {
        "duration": 13,
        "start_time": "2022-06-29T10:26:41.694Z"
      },
      {
        "duration": 18,
        "start_time": "2022-06-29T10:26:41.709Z"
      },
      {
        "duration": 17,
        "start_time": "2022-06-29T10:26:41.731Z"
      },
      {
        "duration": 57,
        "start_time": "2022-06-29T10:26:41.750Z"
      },
      {
        "duration": 14,
        "start_time": "2022-06-29T10:26:41.809Z"
      },
      {
        "duration": 20,
        "start_time": "2022-06-29T10:26:41.825Z"
      },
      {
        "duration": 2407,
        "start_time": "2022-06-29T10:26:41.847Z"
      },
      {
        "duration": 2290,
        "start_time": "2022-06-29T10:26:44.268Z"
      },
      {
        "duration": 4896,
        "start_time": "2022-06-29T10:26:46.562Z"
      },
      {
        "duration": 8,
        "start_time": "2022-06-29T10:27:02.950Z"
      },
      {
        "duration": 2377,
        "start_time": "2022-06-29T10:27:20.677Z"
      },
      {
        "duration": 2410,
        "start_time": "2022-06-29T10:27:23.056Z"
      },
      {
        "duration": 3,
        "start_time": "2022-06-29T10:27:26.127Z"
      },
      {
        "duration": 3,
        "start_time": "2022-06-29T10:27:58.216Z"
      },
      {
        "duration": 3,
        "start_time": "2022-06-29T10:28:06.695Z"
      },
      {
        "duration": 4,
        "start_time": "2022-06-29T10:28:08.689Z"
      },
      {
        "duration": 1958,
        "start_time": "2022-06-29T10:28:11.807Z"
      },
      {
        "duration": 2095,
        "start_time": "2022-06-29T10:28:13.767Z"
      },
      {
        "duration": 1794,
        "start_time": "2022-06-29T10:28:19.965Z"
      },
      {
        "duration": 1734,
        "start_time": "2022-06-29T10:28:26.527Z"
      },
      {
        "duration": 3,
        "start_time": "2022-06-29T10:29:59.144Z"
      },
      {
        "duration": 4,
        "start_time": "2022-06-29T10:30:18.233Z"
      },
      {
        "duration": 1928,
        "start_time": "2022-06-29T10:33:46.252Z"
      },
      {
        "duration": 4149,
        "start_time": "2022-06-29T10:33:55.221Z"
      },
      {
        "duration": 4079,
        "start_time": "2022-06-29T10:34:00.589Z"
      },
      {
        "duration": 4,
        "start_time": "2022-06-29T10:34:04.670Z"
      },
      {
        "duration": 3,
        "start_time": "2022-06-29T10:36:33.673Z"
      },
      {
        "duration": 3992,
        "start_time": "2022-06-29T10:36:33.973Z"
      },
      {
        "duration": 4,
        "start_time": "2022-06-29T10:36:37.970Z"
      },
      {
        "duration": 5,
        "start_time": "2022-06-29T10:54:33.586Z"
      },
      {
        "duration": 3142,
        "start_time": "2022-06-29T10:54:33.810Z"
      },
      {
        "duration": 15,
        "start_time": "2022-06-29T10:54:36.954Z"
      },
      {
        "duration": 67,
        "start_time": "2022-06-29T10:58:45.899Z"
      },
      {
        "duration": 6,
        "start_time": "2022-06-29T10:59:11.133Z"
      },
      {
        "duration": 6,
        "start_time": "2022-06-29T10:59:19.865Z"
      },
      {
        "duration": 327,
        "start_time": "2022-06-29T10:59:19.874Z"
      },
      {
        "duration": 303,
        "start_time": "2022-06-29T10:59:20.203Z"
      },
      {
        "duration": 13,
        "start_time": "2022-06-29T10:59:20.508Z"
      },
      {
        "duration": 9,
        "start_time": "2022-06-29T10:59:20.524Z"
      },
      {
        "duration": 28,
        "start_time": "2022-06-29T10:59:20.535Z"
      },
      {
        "duration": 7,
        "start_time": "2022-06-29T10:59:20.565Z"
      },
      {
        "duration": 21,
        "start_time": "2022-06-29T10:59:20.575Z"
      },
      {
        "duration": 18,
        "start_time": "2022-06-29T10:59:20.597Z"
      },
      {
        "duration": 13,
        "start_time": "2022-06-29T10:59:20.617Z"
      },
      {
        "duration": 11,
        "start_time": "2022-06-29T10:59:20.633Z"
      },
      {
        "duration": 25,
        "start_time": "2022-06-29T10:59:20.646Z"
      },
      {
        "duration": 16,
        "start_time": "2022-06-29T10:59:20.673Z"
      },
      {
        "duration": 581,
        "start_time": "2022-06-29T10:59:20.691Z"
      },
      {
        "duration": 3647,
        "start_time": "2022-06-29T10:59:21.274Z"
      },
      {
        "duration": 4,
        "start_time": "2022-06-29T10:59:24.923Z"
      },
      {
        "duration": 3139,
        "start_time": "2022-06-29T10:59:24.929Z"
      },
      {
        "duration": 574,
        "start_time": "2022-06-29T10:59:28.070Z"
      },
      {
        "duration": 299,
        "start_time": "2022-06-29T10:59:28.645Z"
      },
      {
        "duration": 54,
        "start_time": "2022-06-29T10:59:28.945Z"
      },
      {
        "duration": 1772,
        "start_time": "2022-06-29T10:59:29.001Z"
      },
      {
        "duration": 3,
        "start_time": "2022-06-29T10:59:30.774Z"
      },
      {
        "duration": 25,
        "start_time": "2022-06-29T10:59:30.779Z"
      },
      {
        "duration": 83,
        "start_time": "2022-06-29T10:59:30.805Z"
      },
      {
        "duration": 28,
        "start_time": "2022-06-29T10:59:30.889Z"
      },
      {
        "duration": 6,
        "start_time": "2022-06-29T10:59:30.919Z"
      },
      {
        "duration": 38,
        "start_time": "2022-06-29T10:59:30.927Z"
      },
      {
        "duration": 9,
        "start_time": "2022-06-29T10:59:30.967Z"
      },
      {
        "duration": 15,
        "start_time": "2022-06-29T10:59:30.979Z"
      },
      {
        "duration": 26,
        "start_time": "2022-06-29T10:59:30.995Z"
      },
      {
        "duration": 5,
        "start_time": "2022-06-29T10:59:31.023Z"
      },
      {
        "duration": 33,
        "start_time": "2022-06-29T10:59:31.030Z"
      },
      {
        "duration": 4495,
        "start_time": "2022-06-29T10:59:31.065Z"
      },
      {
        "duration": 93,
        "start_time": "2022-06-29T10:59:35.568Z"
      },
      {
        "duration": 10,
        "start_time": "2022-06-29T10:59:35.672Z"
      },
      {
        "duration": 81,
        "start_time": "2022-06-29T10:59:35.684Z"
      },
      {
        "duration": 4,
        "start_time": "2022-06-29T10:59:57.558Z"
      },
      {
        "duration": 16,
        "start_time": "2022-06-29T11:00:25.310Z"
      },
      {
        "duration": 13,
        "start_time": "2022-06-29T11:00:57.578Z"
      },
      {
        "duration": 5,
        "start_time": "2022-06-29T11:01:12.313Z"
      },
      {
        "duration": 6,
        "start_time": "2022-06-29T11:01:20.244Z"
      },
      {
        "duration": 347,
        "start_time": "2022-06-29T11:01:20.252Z"
      },
      {
        "duration": 292,
        "start_time": "2022-06-29T11:01:20.600Z"
      },
      {
        "duration": 13,
        "start_time": "2022-06-29T11:01:20.894Z"
      },
      {
        "duration": 16,
        "start_time": "2022-06-29T11:01:20.909Z"
      },
      {
        "duration": 5,
        "start_time": "2022-06-29T11:01:20.927Z"
      },
      {
        "duration": 16,
        "start_time": "2022-06-29T11:01:20.933Z"
      },
      {
        "duration": 15,
        "start_time": "2022-06-29T11:01:20.950Z"
      },
      {
        "duration": 17,
        "start_time": "2022-06-29T11:01:20.967Z"
      },
      {
        "duration": 5,
        "start_time": "2022-06-29T11:01:20.986Z"
      },
      {
        "duration": 13,
        "start_time": "2022-06-29T11:01:20.992Z"
      },
      {
        "duration": 15,
        "start_time": "2022-06-29T11:01:21.006Z"
      },
      {
        "duration": 12,
        "start_time": "2022-06-29T11:01:21.022Z"
      },
      {
        "duration": 560,
        "start_time": "2022-06-29T11:01:21.036Z"
      },
      {
        "duration": 3501,
        "start_time": "2022-06-29T11:01:21.597Z"
      },
      {
        "duration": 3,
        "start_time": "2022-06-29T11:01:25.100Z"
      },
      {
        "duration": 3397,
        "start_time": "2022-06-29T11:01:25.105Z"
      },
      {
        "duration": 626,
        "start_time": "2022-06-29T11:01:28.504Z"
      },
      {
        "duration": 314,
        "start_time": "2022-06-29T11:01:29.132Z"
      },
      {
        "duration": 43,
        "start_time": "2022-06-29T11:01:29.447Z"
      },
      {
        "duration": 1672,
        "start_time": "2022-06-29T11:01:29.491Z"
      },
      {
        "duration": 2,
        "start_time": "2022-06-29T11:01:31.165Z"
      },
      {
        "duration": 35,
        "start_time": "2022-06-29T11:01:31.169Z"
      },
      {
        "duration": 111,
        "start_time": "2022-06-29T11:01:31.208Z"
      },
      {
        "duration": 44,
        "start_time": "2022-06-29T11:01:31.321Z"
      },
      {
        "duration": 8,
        "start_time": "2022-06-29T11:01:31.367Z"
      },
      {
        "duration": 17,
        "start_time": "2022-06-29T11:01:31.376Z"
      },
      {
        "duration": 31,
        "start_time": "2022-06-29T11:01:31.394Z"
      },
      {
        "duration": 28,
        "start_time": "2022-06-29T11:01:31.426Z"
      },
      {
        "duration": 71,
        "start_time": "2022-06-29T11:01:31.456Z"
      },
      {
        "duration": 19,
        "start_time": "2022-06-29T11:01:31.529Z"
      },
      {
        "duration": 19,
        "start_time": "2022-06-29T11:01:31.550Z"
      },
      {
        "duration": 2987,
        "start_time": "2022-06-29T11:01:31.570Z"
      },
      {
        "duration": 94,
        "start_time": "2022-06-29T11:01:34.559Z"
      },
      {
        "duration": 10,
        "start_time": "2022-06-29T11:01:34.655Z"
      },
      {
        "duration": 13,
        "start_time": "2022-06-29T11:01:34.666Z"
      },
      {
        "duration": 17,
        "start_time": "2022-06-29T11:01:40.408Z"
      },
      {
        "duration": 4,
        "start_time": "2022-06-29T11:01:51.007Z"
      },
      {
        "duration": 14,
        "start_time": "2022-06-29T11:01:51.551Z"
      },
      {
        "duration": 4,
        "start_time": "2022-06-29T11:02:53.705Z"
      },
      {
        "duration": 16,
        "start_time": "2022-06-29T11:02:55.024Z"
      },
      {
        "duration": 5,
        "start_time": "2022-06-29T11:50:22.296Z"
      },
      {
        "duration": 3,
        "start_time": "2022-06-29T11:50:25.664Z"
      },
      {
        "duration": 6,
        "start_time": "2022-06-29T11:50:25.967Z"
      },
      {
        "duration": 20,
        "start_time": "2022-06-29T11:50:26.921Z"
      },
      {
        "duration": 13,
        "start_time": "2022-06-29T11:51:44.583Z"
      },
      {
        "duration": 166,
        "start_time": "2022-06-29T11:52:50.011Z"
      },
      {
        "duration": 4,
        "start_time": "2022-06-29T11:52:50.905Z"
      },
      {
        "duration": 14,
        "start_time": "2022-06-29T11:52:51.591Z"
      },
      {
        "duration": 177,
        "start_time": "2022-06-29T11:53:06.003Z"
      },
      {
        "duration": 3,
        "start_time": "2022-06-29T11:53:21.709Z"
      },
      {
        "duration": 6,
        "start_time": "2022-06-29T11:53:27.843Z"
      },
      {
        "duration": 34588,
        "start_time": "2022-06-29T11:53:29.139Z"
      },
      {
        "duration": 10,
        "start_time": "2022-06-29T11:54:09.652Z"
      },
      {
        "duration": 5,
        "start_time": "2022-06-29T11:54:42.799Z"
      },
      {
        "duration": 34189,
        "start_time": "2022-06-29T11:54:43.211Z"
      },
      {
        "duration": 8,
        "start_time": "2022-06-29T11:55:27.718Z"
      },
      {
        "duration": 35222,
        "start_time": "2022-06-29T12:04:14.123Z"
      },
      {
        "duration": 0,
        "start_time": "2022-06-29T12:04:49.347Z"
      },
      {
        "duration": 33923,
        "start_time": "2022-06-29T12:04:57.088Z"
      },
      {
        "duration": 8,
        "start_time": "2022-06-29T12:05:42.923Z"
      },
      {
        "duration": 17,
        "start_time": "2022-06-29T12:05:49.251Z"
      },
      {
        "duration": 58,
        "start_time": "2022-06-29T12:05:55.465Z"
      },
      {
        "duration": 5,
        "start_time": "2022-06-29T12:05:57.335Z"
      },
      {
        "duration": 4,
        "start_time": "2022-06-29T12:05:59.940Z"
      },
      {
        "duration": 5,
        "start_time": "2022-06-29T12:06:04.397Z"
      },
      {
        "duration": 4,
        "start_time": "2022-06-29T12:06:11.969Z"
      },
      {
        "duration": 16,
        "start_time": "2022-06-29T12:06:14.747Z"
      },
      {
        "duration": 4,
        "start_time": "2022-06-29T12:08:21.911Z"
      },
      {
        "duration": 4,
        "start_time": "2022-06-29T12:08:24.989Z"
      },
      {
        "duration": 4,
        "start_time": "2022-06-29T12:08:29.065Z"
      },
      {
        "duration": 73347,
        "start_time": "2022-06-29T12:10:25.623Z"
      },
      {
        "duration": 5,
        "start_time": "2022-06-29T12:12:16.928Z"
      },
      {
        "duration": 4,
        "start_time": "2022-06-29T12:21:52.913Z"
      },
      {
        "duration": 234351,
        "start_time": "2022-06-29T12:22:01.596Z"
      },
      {
        "duration": 2,
        "start_time": "2022-06-29T12:26:26.365Z"
      },
      {
        "duration": 3,
        "start_time": "2022-06-29T12:26:28.116Z"
      },
      {
        "duration": 5,
        "start_time": "2022-06-29T12:26:41.908Z"
      },
      {
        "duration": 236798,
        "start_time": "2022-06-29T12:26:42.524Z"
      },
      {
        "duration": 9,
        "start_time": "2022-06-29T12:59:18.918Z"
      },
      {
        "duration": 14,
        "start_time": "2022-06-29T12:59:40.416Z"
      },
      {
        "duration": 241027,
        "start_time": "2022-06-29T12:59:42.587Z"
      },
      {
        "duration": 5,
        "start_time": "2022-06-29T13:03:59.211Z"
      },
      {
        "duration": 3,
        "start_time": "2022-06-29T13:15:28.709Z"
      },
      {
        "duration": 4,
        "start_time": "2022-06-29T13:16:01.653Z"
      },
      {
        "duration": 6,
        "start_time": "2022-06-29T13:17:54.166Z"
      },
      {
        "duration": 3025,
        "start_time": "2022-06-29T13:17:55.830Z"
      },
      {
        "duration": 4,
        "start_time": "2022-06-29T13:18:23.542Z"
      },
      {
        "duration": 4043,
        "start_time": "2022-06-29T13:18:23.909Z"
      },
      {
        "duration": 4,
        "start_time": "2022-06-29T13:18:29.054Z"
      },
      {
        "duration": 4,
        "start_time": "2022-06-29T13:25:49.772Z"
      },
      {
        "duration": 1521,
        "start_time": "2022-06-29T13:25:50.012Z"
      },
      {
        "duration": 5,
        "start_time": "2022-06-29T13:27:55.305Z"
      },
      {
        "duration": 214,
        "start_time": "2022-06-29T13:27:55.542Z"
      },
      {
        "duration": 3,
        "start_time": "2022-06-29T13:28:05.670Z"
      },
      {
        "duration": 3061,
        "start_time": "2022-06-29T13:28:05.894Z"
      },
      {
        "duration": 4,
        "start_time": "2022-06-29T13:29:06.022Z"
      },
      {
        "duration": 1274,
        "start_time": "2022-06-29T13:29:06.485Z"
      },
      {
        "duration": 3055,
        "start_time": "2022-06-29T13:29:28.502Z"
      },
      {
        "duration": 4,
        "start_time": "2022-06-29T13:29:36.336Z"
      },
      {
        "duration": 1850,
        "start_time": "2022-06-29T13:29:47.695Z"
      },
      {
        "duration": 0,
        "start_time": "2022-06-29T13:29:49.547Z"
      },
      {
        "duration": 2143,
        "start_time": "2022-06-29T13:30:38.681Z"
      },
      {
        "duration": 3,
        "start_time": "2022-06-29T13:31:23.769Z"
      },
      {
        "duration": 3102,
        "start_time": "2022-06-29T13:31:24.457Z"
      },
      {
        "duration": 5,
        "start_time": "2022-06-29T13:31:28.856Z"
      },
      {
        "duration": 4,
        "start_time": "2022-06-29T13:34:36.403Z"
      },
      {
        "duration": 7,
        "start_time": "2022-06-29T16:14:59.871Z"
      },
      {
        "duration": 5,
        "start_time": "2022-06-29T16:15:28.093Z"
      },
      {
        "duration": 3,
        "start_time": "2022-06-29T16:15:39.291Z"
      },
      {
        "duration": 1618,
        "start_time": "2022-06-29T16:15:43.626Z"
      },
      {
        "duration": 497,
        "start_time": "2022-06-29T16:15:45.246Z"
      },
      {
        "duration": 872,
        "start_time": "2022-06-29T16:15:45.745Z"
      },
      {
        "duration": 13,
        "start_time": "2022-06-29T16:15:46.618Z"
      },
      {
        "duration": 12,
        "start_time": "2022-06-29T16:15:46.633Z"
      },
      {
        "duration": 5,
        "start_time": "2022-06-29T16:15:46.646Z"
      },
      {
        "duration": 6,
        "start_time": "2022-06-29T16:15:46.652Z"
      },
      {
        "duration": 5,
        "start_time": "2022-06-29T16:15:46.659Z"
      },
      {
        "duration": 16,
        "start_time": "2022-06-29T16:15:46.666Z"
      },
      {
        "duration": 5,
        "start_time": "2022-06-29T16:15:46.683Z"
      },
      {
        "duration": 6,
        "start_time": "2022-06-29T16:15:46.690Z"
      },
      {
        "duration": 4,
        "start_time": "2022-06-29T16:15:46.697Z"
      },
      {
        "duration": 4,
        "start_time": "2022-06-29T16:15:46.703Z"
      },
      {
        "duration": 542,
        "start_time": "2022-06-29T16:15:46.709Z"
      },
      {
        "duration": 2633,
        "start_time": "2022-06-29T16:15:47.252Z"
      },
      {
        "duration": 4,
        "start_time": "2022-06-29T16:15:49.887Z"
      },
      {
        "duration": 2677,
        "start_time": "2022-06-29T16:15:49.893Z"
      },
      {
        "duration": 100,
        "start_time": "2022-06-29T16:15:52.571Z"
      },
      {
        "duration": 0,
        "start_time": "2022-06-29T16:15:52.673Z"
      },
      {
        "duration": 0,
        "start_time": "2022-06-29T16:15:52.674Z"
      },
      {
        "duration": 0,
        "start_time": "2022-06-29T16:15:52.675Z"
      },
      {
        "duration": 0,
        "start_time": "2022-06-29T16:15:52.676Z"
      },
      {
        "duration": 0,
        "start_time": "2022-06-29T16:15:52.677Z"
      },
      {
        "duration": 0,
        "start_time": "2022-06-29T16:15:52.677Z"
      },
      {
        "duration": 0,
        "start_time": "2022-06-29T16:15:52.678Z"
      },
      {
        "duration": 0,
        "start_time": "2022-06-29T16:15:52.679Z"
      },
      {
        "duration": 0,
        "start_time": "2022-06-29T16:15:52.680Z"
      },
      {
        "duration": 0,
        "start_time": "2022-06-29T16:15:52.680Z"
      },
      {
        "duration": 0,
        "start_time": "2022-06-29T16:15:52.681Z"
      },
      {
        "duration": 0,
        "start_time": "2022-06-29T16:15:52.682Z"
      },
      {
        "duration": 0,
        "start_time": "2022-06-29T16:15:52.683Z"
      },
      {
        "duration": 0,
        "start_time": "2022-06-29T16:15:52.684Z"
      },
      {
        "duration": 0,
        "start_time": "2022-06-29T16:15:52.684Z"
      },
      {
        "duration": 5,
        "start_time": "2022-06-29T16:16:16.146Z"
      },
      {
        "duration": 306,
        "start_time": "2022-06-29T16:16:16.153Z"
      },
      {
        "duration": 284,
        "start_time": "2022-06-29T16:16:16.460Z"
      },
      {
        "duration": 11,
        "start_time": "2022-06-29T16:16:16.746Z"
      },
      {
        "duration": 10,
        "start_time": "2022-06-29T16:16:16.759Z"
      },
      {
        "duration": 5,
        "start_time": "2022-06-29T16:16:16.770Z"
      },
      {
        "duration": 4,
        "start_time": "2022-06-29T16:16:16.777Z"
      },
      {
        "duration": 5,
        "start_time": "2022-06-29T16:16:16.782Z"
      },
      {
        "duration": 12,
        "start_time": "2022-06-29T16:16:16.788Z"
      },
      {
        "duration": 5,
        "start_time": "2022-06-29T16:16:16.802Z"
      },
      {
        "duration": 6,
        "start_time": "2022-06-29T16:16:16.808Z"
      },
      {
        "duration": 5,
        "start_time": "2022-06-29T16:16:16.815Z"
      },
      {
        "duration": 30,
        "start_time": "2022-06-29T16:16:16.821Z"
      },
      {
        "duration": 478,
        "start_time": "2022-06-29T16:16:16.852Z"
      },
      {
        "duration": 2678,
        "start_time": "2022-06-29T16:16:17.331Z"
      },
      {
        "duration": 3,
        "start_time": "2022-06-29T16:16:20.010Z"
      },
      {
        "duration": 2620,
        "start_time": "2022-06-29T16:16:20.014Z"
      },
      {
        "duration": 16,
        "start_time": "2022-06-29T16:16:22.635Z"
      },
      {
        "duration": 0,
        "start_time": "2022-06-29T16:16:22.653Z"
      },
      {
        "duration": 0,
        "start_time": "2022-06-29T16:16:22.654Z"
      },
      {
        "duration": 0,
        "start_time": "2022-06-29T16:16:22.655Z"
      },
      {
        "duration": 0,
        "start_time": "2022-06-29T16:16:22.656Z"
      },
      {
        "duration": 0,
        "start_time": "2022-06-29T16:16:22.657Z"
      },
      {
        "duration": 0,
        "start_time": "2022-06-29T16:16:22.658Z"
      },
      {
        "duration": 0,
        "start_time": "2022-06-29T16:16:22.659Z"
      },
      {
        "duration": 0,
        "start_time": "2022-06-29T16:16:22.660Z"
      },
      {
        "duration": 0,
        "start_time": "2022-06-29T16:16:22.660Z"
      },
      {
        "duration": 0,
        "start_time": "2022-06-29T16:16:22.661Z"
      },
      {
        "duration": 0,
        "start_time": "2022-06-29T16:16:22.662Z"
      },
      {
        "duration": 0,
        "start_time": "2022-06-29T16:16:22.663Z"
      },
      {
        "duration": 0,
        "start_time": "2022-06-29T16:16:22.664Z"
      },
      {
        "duration": 0,
        "start_time": "2022-06-29T16:16:22.665Z"
      },
      {
        "duration": 0,
        "start_time": "2022-06-29T16:16:22.666Z"
      },
      {
        "duration": 8,
        "start_time": "2022-06-29T16:16:26.153Z"
      },
      {
        "duration": 4,
        "start_time": "2022-06-29T16:16:27.743Z"
      },
      {
        "duration": 9,
        "start_time": "2022-06-29T16:16:27.982Z"
      },
      {
        "duration": 5,
        "start_time": "2022-06-29T16:16:35.976Z"
      },
      {
        "duration": 292,
        "start_time": "2022-06-29T16:16:35.983Z"
      },
      {
        "duration": 265,
        "start_time": "2022-06-29T16:16:36.276Z"
      },
      {
        "duration": 12,
        "start_time": "2022-06-29T16:16:36.543Z"
      },
      {
        "duration": 13,
        "start_time": "2022-06-29T16:16:36.556Z"
      },
      {
        "duration": 4,
        "start_time": "2022-06-29T16:16:36.570Z"
      },
      {
        "duration": 4,
        "start_time": "2022-06-29T16:16:36.576Z"
      },
      {
        "duration": 4,
        "start_time": "2022-06-29T16:16:36.581Z"
      },
      {
        "duration": 10,
        "start_time": "2022-06-29T16:16:36.586Z"
      },
      {
        "duration": 4,
        "start_time": "2022-06-29T16:16:36.598Z"
      },
      {
        "duration": 4,
        "start_time": "2022-06-29T16:16:36.604Z"
      },
      {
        "duration": 3,
        "start_time": "2022-06-29T16:16:36.610Z"
      },
      {
        "duration": 4,
        "start_time": "2022-06-29T16:16:36.614Z"
      },
      {
        "duration": 500,
        "start_time": "2022-06-29T16:16:36.619Z"
      },
      {
        "duration": 2684,
        "start_time": "2022-06-29T16:16:37.121Z"
      },
      {
        "duration": 3,
        "start_time": "2022-06-29T16:16:39.807Z"
      },
      {
        "duration": 2746,
        "start_time": "2022-06-29T16:16:39.811Z"
      },
      {
        "duration": 11,
        "start_time": "2022-06-29T16:16:42.559Z"
      },
      {
        "duration": 0,
        "start_time": "2022-06-29T16:16:42.571Z"
      },
      {
        "duration": 0,
        "start_time": "2022-06-29T16:16:42.572Z"
      },
      {
        "duration": 0,
        "start_time": "2022-06-29T16:16:42.573Z"
      },
      {
        "duration": 0,
        "start_time": "2022-06-29T16:16:42.574Z"
      },
      {
        "duration": 0,
        "start_time": "2022-06-29T16:16:42.575Z"
      },
      {
        "duration": 0,
        "start_time": "2022-06-29T16:16:42.576Z"
      },
      {
        "duration": 0,
        "start_time": "2022-06-29T16:16:42.577Z"
      },
      {
        "duration": 0,
        "start_time": "2022-06-29T16:16:42.577Z"
      },
      {
        "duration": 0,
        "start_time": "2022-06-29T16:16:42.578Z"
      },
      {
        "duration": 0,
        "start_time": "2022-06-29T16:16:42.579Z"
      },
      {
        "duration": 0,
        "start_time": "2022-06-29T16:16:42.580Z"
      },
      {
        "duration": 0,
        "start_time": "2022-06-29T16:16:42.581Z"
      },
      {
        "duration": 0,
        "start_time": "2022-06-29T16:16:42.582Z"
      },
      {
        "duration": 0,
        "start_time": "2022-06-29T16:16:42.583Z"
      },
      {
        "duration": 0,
        "start_time": "2022-06-29T16:16:42.584Z"
      },
      {
        "duration": 0,
        "start_time": "2022-06-29T16:16:42.585Z"
      },
      {
        "duration": 0,
        "start_time": "2022-06-29T16:16:42.585Z"
      },
      {
        "duration": 0,
        "start_time": "2022-06-29T16:16:42.586Z"
      },
      {
        "duration": 0,
        "start_time": "2022-06-29T16:16:42.587Z"
      },
      {
        "duration": 0,
        "start_time": "2022-06-29T16:16:42.588Z"
      },
      {
        "duration": 0,
        "start_time": "2022-06-29T16:16:42.589Z"
      },
      {
        "duration": 0,
        "start_time": "2022-06-29T16:16:42.590Z"
      },
      {
        "duration": 8,
        "start_time": "2022-06-29T16:17:34.914Z"
      },
      {
        "duration": 2,
        "start_time": "2022-06-29T16:18:03.844Z"
      },
      {
        "duration": 4,
        "start_time": "2022-06-29T16:18:13.076Z"
      },
      {
        "duration": 3,
        "start_time": "2022-06-29T16:18:14.394Z"
      },
      {
        "duration": 3,
        "start_time": "2022-06-29T16:18:14.674Z"
      },
      {
        "duration": 3,
        "start_time": "2022-06-29T16:18:21.344Z"
      },
      {
        "duration": 542,
        "start_time": "2022-06-29T16:18:21.654Z"
      },
      {
        "duration": 291,
        "start_time": "2022-06-29T16:18:24.913Z"
      },
      {
        "duration": 38,
        "start_time": "2022-06-29T16:18:26.075Z"
      },
      {
        "duration": 1793,
        "start_time": "2022-06-29T16:18:26.474Z"
      },
      {
        "duration": 2,
        "start_time": "2022-06-29T16:18:32.745Z"
      },
      {
        "duration": 3,
        "start_time": "2022-06-29T16:18:33.293Z"
      },
      {
        "duration": 51,
        "start_time": "2022-06-29T16:18:33.813Z"
      },
      {
        "duration": 17,
        "start_time": "2022-06-29T16:18:34.384Z"
      },
      {
        "duration": 3,
        "start_time": "2022-06-29T16:18:35.923Z"
      },
      {
        "duration": 3,
        "start_time": "2022-06-29T16:18:36.734Z"
      },
      {
        "duration": 3,
        "start_time": "2022-06-29T16:18:37.410Z"
      },
      {
        "duration": 5,
        "start_time": "2022-06-29T16:18:39.117Z"
      },
      {
        "duration": 11,
        "start_time": "2022-06-29T16:18:39.683Z"
      },
      {
        "duration": 5,
        "start_time": "2022-06-29T16:18:39.913Z"
      },
      {
        "duration": 4,
        "start_time": "2022-06-29T16:18:40.935Z"
      },
      {
        "duration": 4,
        "start_time": "2022-06-29T16:19:11.444Z"
      },
      {
        "duration": 6022,
        "start_time": "2022-06-29T16:19:11.835Z"
      },
      {
        "duration": 3095,
        "start_time": "2022-06-29T16:19:17.859Z"
      },
      {
        "duration": 4,
        "start_time": "2022-06-29T16:19:25.055Z"
      },
      {
        "duration": 4,
        "start_time": "2022-06-29T16:19:44.124Z"
      },
      {
        "duration": 5196,
        "start_time": "2022-06-29T16:21:54.258Z"
      },
      {
        "duration": 2,
        "start_time": "2022-06-29T16:22:20.586Z"
      },
      {
        "duration": 4,
        "start_time": "2022-06-29T16:22:24.805Z"
      },
      {
        "duration": 4,
        "start_time": "2022-06-29T16:26:00.277Z"
      },
      {
        "duration": 105523,
        "start_time": "2022-06-29T16:26:02.467Z"
      },
      {
        "duration": 4,
        "start_time": "2022-06-29T16:28:11.427Z"
      },
      {
        "duration": 5,
        "start_time": "2022-06-29T16:28:19.969Z"
      },
      {
        "duration": 201492,
        "start_time": "2022-06-29T16:28:22.149Z"
      },
      {
        "duration": 4,
        "start_time": "2022-06-29T16:32:04.221Z"
      },
      {
        "duration": 364124,
        "start_time": "2022-06-29T16:32:05.029Z"
      },
      {
        "duration": 4,
        "start_time": "2022-06-29T16:38:09.155Z"
      },
      {
        "duration": 1404,
        "start_time": "2022-06-30T05:05:37.549Z"
      },
      {
        "duration": 57,
        "start_time": "2022-06-30T05:17:30.886Z"
      },
      {
        "duration": 6,
        "start_time": "2022-06-30T05:17:35.976Z"
      },
      {
        "duration": 518,
        "start_time": "2022-06-30T05:17:35.984Z"
      },
      {
        "duration": 888,
        "start_time": "2022-06-30T05:17:36.504Z"
      },
      {
        "duration": 14,
        "start_time": "2022-06-30T05:17:37.394Z"
      },
      {
        "duration": 15,
        "start_time": "2022-06-30T05:17:37.410Z"
      },
      {
        "duration": 4,
        "start_time": "2022-06-30T05:17:37.427Z"
      },
      {
        "duration": 8,
        "start_time": "2022-06-30T05:17:37.433Z"
      },
      {
        "duration": 2,
        "start_time": "2022-06-30T05:17:37.451Z"
      },
      {
        "duration": 26,
        "start_time": "2022-06-30T05:17:37.454Z"
      },
      {
        "duration": 6,
        "start_time": "2022-06-30T05:17:37.482Z"
      },
      {
        "duration": 8,
        "start_time": "2022-06-30T05:17:37.491Z"
      },
      {
        "duration": 11,
        "start_time": "2022-06-30T05:17:37.501Z"
      },
      {
        "duration": 9,
        "start_time": "2022-06-30T05:17:37.513Z"
      },
      {
        "duration": 587,
        "start_time": "2022-06-30T05:17:37.523Z"
      },
      {
        "duration": 2990,
        "start_time": "2022-06-30T05:17:38.113Z"
      },
      {
        "duration": 4,
        "start_time": "2022-06-30T05:17:41.104Z"
      },
      {
        "duration": 3100,
        "start_time": "2022-06-30T05:17:41.109Z"
      },
      {
        "duration": 3,
        "start_time": "2022-06-30T05:17:44.210Z"
      },
      {
        "duration": 608,
        "start_time": "2022-06-30T05:17:44.214Z"
      },
      {
        "duration": 302,
        "start_time": "2022-06-30T05:17:44.824Z"
      },
      {
        "duration": 51,
        "start_time": "2022-06-30T05:17:45.127Z"
      },
      {
        "duration": 1650,
        "start_time": "2022-06-30T05:17:45.180Z"
      },
      {
        "duration": 2,
        "start_time": "2022-06-30T05:17:46.832Z"
      },
      {
        "duration": 8,
        "start_time": "2022-06-30T05:17:46.836Z"
      },
      {
        "duration": 56,
        "start_time": "2022-06-30T05:17:46.851Z"
      },
      {
        "duration": 20,
        "start_time": "2022-06-30T05:17:46.909Z"
      },
      {
        "duration": 21,
        "start_time": "2022-06-30T05:17:46.931Z"
      },
      {
        "duration": 8,
        "start_time": "2022-06-30T05:17:46.954Z"
      },
      {
        "duration": 4,
        "start_time": "2022-06-30T05:17:46.965Z"
      },
      {
        "duration": 20,
        "start_time": "2022-06-30T05:17:46.970Z"
      },
      {
        "duration": 31,
        "start_time": "2022-06-30T05:17:46.992Z"
      },
      {
        "duration": 14,
        "start_time": "2022-06-30T05:17:47.025Z"
      },
      {
        "duration": 20,
        "start_time": "2022-06-30T05:17:47.041Z"
      },
      {
        "duration": 5589,
        "start_time": "2022-06-30T05:17:47.063Z"
      },
      {
        "duration": 97,
        "start_time": "2022-06-30T05:17:52.655Z"
      },
      {
        "duration": 4,
        "start_time": "2022-06-30T05:17:52.754Z"
      },
      {
        "duration": 112446,
        "start_time": "2022-06-30T05:17:52.759Z"
      },
      {
        "duration": 4,
        "start_time": "2022-06-30T05:19:45.206Z"
      },
      {
        "duration": 7,
        "start_time": "2022-06-30T05:19:45.212Z"
      },
      {
        "duration": 366128,
        "start_time": "2022-06-30T05:19:45.220Z"
      },
      {
        "duration": 4,
        "start_time": "2022-06-30T05:25:51.349Z"
      },
      {
        "duration": 4,
        "start_time": "2022-06-30T05:27:20.128Z"
      },
      {
        "duration": 111,
        "start_time": "2022-06-30T05:27:22.958Z"
      },
      {
        "duration": 3,
        "start_time": "2022-06-30T05:28:22.936Z"
      },
      {
        "duration": 20,
        "start_time": "2022-06-30T05:28:23.624Z"
      },
      {
        "duration": 3,
        "start_time": "2022-06-30T05:28:57.336Z"
      },
      {
        "duration": 18,
        "start_time": "2022-06-30T05:28:57.840Z"
      },
      {
        "duration": 8,
        "start_time": "2022-06-30T05:30:24.731Z"
      },
      {
        "duration": 3,
        "start_time": "2022-06-30T05:31:26.622Z"
      },
      {
        "duration": 16,
        "start_time": "2022-06-30T05:32:13.085Z"
      },
      {
        "duration": 4,
        "start_time": "2022-06-30T05:32:15.236Z"
      },
      {
        "duration": 16,
        "start_time": "2022-06-30T05:32:15.492Z"
      },
      {
        "duration": 9,
        "start_time": "2022-06-30T05:34:18.802Z"
      },
      {
        "duration": 3,
        "start_time": "2022-06-30T05:34:20.272Z"
      },
      {
        "duration": 16,
        "start_time": "2022-06-30T05:34:20.432Z"
      },
      {
        "duration": 2339,
        "start_time": "2022-06-30T06:30:52.398Z"
      },
      {
        "duration": 2035,
        "start_time": "2022-06-30T06:30:54.739Z"
      },
      {
        "duration": 1784,
        "start_time": "2022-06-30T06:30:56.776Z"
      },
      {
        "duration": 12,
        "start_time": "2022-06-30T06:30:58.563Z"
      },
      {
        "duration": 56,
        "start_time": "2022-06-30T06:30:58.577Z"
      },
      {
        "duration": 5,
        "start_time": "2022-06-30T06:30:58.635Z"
      },
      {
        "duration": 6,
        "start_time": "2022-06-30T06:30:58.641Z"
      },
      {
        "duration": 4,
        "start_time": "2022-06-30T06:30:58.648Z"
      },
      {
        "duration": 75,
        "start_time": "2022-06-30T06:30:58.654Z"
      },
      {
        "duration": 5,
        "start_time": "2022-06-30T06:30:58.732Z"
      },
      {
        "duration": 5,
        "start_time": "2022-06-30T06:30:58.739Z"
      },
      {
        "duration": 6,
        "start_time": "2022-06-30T06:30:58.746Z"
      },
      {
        "duration": 5,
        "start_time": "2022-06-30T06:30:58.753Z"
      },
      {
        "duration": 1187,
        "start_time": "2022-06-30T06:30:58.759Z"
      },
      {
        "duration": 6627,
        "start_time": "2022-06-30T06:30:59.947Z"
      },
      {
        "duration": 5,
        "start_time": "2022-06-30T06:31:06.628Z"
      },
      {
        "duration": 6297,
        "start_time": "2022-06-30T06:31:06.635Z"
      },
      {
        "duration": 3,
        "start_time": "2022-06-30T06:31:12.933Z"
      },
      {
        "duration": 827,
        "start_time": "2022-06-30T06:31:12.937Z"
      },
      {
        "duration": 504,
        "start_time": "2022-06-30T06:31:13.765Z"
      },
      {
        "duration": 98,
        "start_time": "2022-06-30T06:31:14.271Z"
      },
      {
        "duration": 2603,
        "start_time": "2022-06-30T06:31:14.371Z"
      },
      {
        "duration": 3,
        "start_time": "2022-06-30T06:31:17.029Z"
      },
      {
        "duration": 9,
        "start_time": "2022-06-30T06:31:17.033Z"
      },
      {
        "duration": 110,
        "start_time": "2022-06-30T06:31:17.044Z"
      },
      {
        "duration": 90,
        "start_time": "2022-06-30T06:31:17.156Z"
      },
      {
        "duration": 3,
        "start_time": "2022-06-30T06:31:17.248Z"
      },
      {
        "duration": 6,
        "start_time": "2022-06-30T06:31:17.255Z"
      },
      {
        "duration": 6,
        "start_time": "2022-06-30T06:31:17.262Z"
      },
      {
        "duration": 65,
        "start_time": "2022-06-30T06:31:17.270Z"
      },
      {
        "duration": 15,
        "start_time": "2022-06-30T06:31:17.336Z"
      },
      {
        "duration": 4,
        "start_time": "2022-06-30T06:31:17.353Z"
      },
      {
        "duration": 6,
        "start_time": "2022-06-30T06:31:17.359Z"
      },
      {
        "duration": 5863,
        "start_time": "2022-06-30T06:31:17.366Z"
      },
      {
        "duration": 4,
        "start_time": "2022-06-30T06:31:23.231Z"
      },
      {
        "duration": 95,
        "start_time": "2022-06-30T06:31:23.236Z"
      },
      {
        "duration": 232698,
        "start_time": "2022-06-30T06:31:23.332Z"
      },
      {
        "duration": 5,
        "start_time": "2022-06-30T06:35:16.032Z"
      },
      {
        "duration": 16,
        "start_time": "2022-06-30T06:35:16.039Z"
      },
      {
        "duration": 808789,
        "start_time": "2022-06-30T06:35:16.057Z"
      },
      {
        "duration": 5,
        "start_time": "2022-06-30T06:48:44.847Z"
      },
      {
        "duration": 5,
        "start_time": "2022-06-30T06:48:44.853Z"
      },
      {
        "duration": 73,
        "start_time": "2022-06-30T06:48:44.860Z"
      },
      {
        "duration": 14,
        "start_time": "2022-06-30T06:54:32.415Z"
      },
      {
        "duration": 4,
        "start_time": "2022-06-30T06:54:37.669Z"
      },
      {
        "duration": 160,
        "start_time": "2022-07-01T05:35:06.768Z"
      },
      {
        "duration": 39,
        "start_time": "2022-07-01T05:58:00.803Z"
      },
      {
        "duration": 1493,
        "start_time": "2022-07-01T05:58:27.291Z"
      },
      {
        "duration": 2184,
        "start_time": "2022-07-01T05:58:28.785Z"
      },
      {
        "duration": 1634,
        "start_time": "2022-07-01T05:58:30.971Z"
      },
      {
        "duration": 15,
        "start_time": "2022-07-01T05:58:32.608Z"
      },
      {
        "duration": 15,
        "start_time": "2022-07-01T05:58:32.625Z"
      },
      {
        "duration": 4,
        "start_time": "2022-07-01T05:58:32.642Z"
      },
      {
        "duration": 12,
        "start_time": "2022-07-01T05:58:32.648Z"
      },
      {
        "duration": 7,
        "start_time": "2022-07-01T05:58:32.662Z"
      },
      {
        "duration": 21,
        "start_time": "2022-07-01T05:58:32.670Z"
      },
      {
        "duration": 5,
        "start_time": "2022-07-01T05:58:32.693Z"
      },
      {
        "duration": 6,
        "start_time": "2022-07-01T05:58:32.700Z"
      },
      {
        "duration": 4,
        "start_time": "2022-07-01T05:58:32.707Z"
      },
      {
        "duration": 16,
        "start_time": "2022-07-01T05:58:32.713Z"
      },
      {
        "duration": 609,
        "start_time": "2022-07-01T05:58:32.731Z"
      },
      {
        "duration": 3172,
        "start_time": "2022-07-01T05:58:33.342Z"
      },
      {
        "duration": 4,
        "start_time": "2022-07-01T05:58:36.515Z"
      },
      {
        "duration": 3062,
        "start_time": "2022-07-01T05:58:36.520Z"
      },
      {
        "duration": 2,
        "start_time": "2022-07-01T05:58:39.583Z"
      },
      {
        "duration": 604,
        "start_time": "2022-07-01T05:58:39.587Z"
      },
      {
        "duration": 326,
        "start_time": "2022-07-01T05:58:40.193Z"
      },
      {
        "duration": 51,
        "start_time": "2022-07-01T05:58:40.520Z"
      },
      {
        "duration": 1663,
        "start_time": "2022-07-01T05:58:40.573Z"
      },
      {
        "duration": 2,
        "start_time": "2022-07-01T05:58:42.237Z"
      },
      {
        "duration": 6,
        "start_time": "2022-07-01T05:58:42.241Z"
      },
      {
        "duration": 55,
        "start_time": "2022-07-01T05:58:42.248Z"
      },
      {
        "duration": 36,
        "start_time": "2022-07-01T05:58:42.305Z"
      },
      {
        "duration": 4,
        "start_time": "2022-07-01T05:58:42.343Z"
      },
      {
        "duration": 4,
        "start_time": "2022-07-01T05:58:42.349Z"
      },
      {
        "duration": 5,
        "start_time": "2022-07-01T05:58:42.355Z"
      },
      {
        "duration": 5,
        "start_time": "2022-07-01T05:58:42.362Z"
      },
      {
        "duration": 9,
        "start_time": "2022-07-01T05:58:42.369Z"
      },
      {
        "duration": 16,
        "start_time": "2022-07-01T05:58:42.379Z"
      },
      {
        "duration": 4,
        "start_time": "2022-07-01T05:58:42.397Z"
      },
      {
        "duration": 9,
        "start_time": "2022-07-01T05:58:42.402Z"
      },
      {
        "duration": 5921,
        "start_time": "2022-07-01T05:58:42.413Z"
      },
      {
        "duration": 5,
        "start_time": "2022-07-01T05:58:48.336Z"
      },
      {
        "duration": 95,
        "start_time": "2022-07-01T05:58:48.343Z"
      },
      {
        "duration": 121324,
        "start_time": "2022-07-01T05:58:48.439Z"
      },
      {
        "duration": 6,
        "start_time": "2022-07-01T06:00:49.765Z"
      },
      {
        "duration": 12,
        "start_time": "2022-07-01T06:00:49.773Z"
      },
      {
        "duration": 407612,
        "start_time": "2022-07-01T06:00:49.786Z"
      },
      {
        "duration": 4,
        "start_time": "2022-07-01T06:07:37.400Z"
      },
      {
        "duration": 5,
        "start_time": "2022-07-01T06:07:37.405Z"
      },
      {
        "duration": 32,
        "start_time": "2022-07-01T06:07:37.412Z"
      },
      {
        "duration": 3,
        "start_time": "2022-07-01T06:58:52.672Z"
      },
      {
        "duration": 2,
        "start_time": "2022-07-01T06:59:09.561Z"
      },
      {
        "duration": 4,
        "start_time": "2022-07-01T07:00:49.852Z"
      },
      {
        "duration": 3998,
        "start_time": "2022-07-01T07:00:53.835Z"
      },
      {
        "duration": 4,
        "start_time": "2022-07-01T07:01:55.781Z"
      },
      {
        "duration": 6,
        "start_time": "2022-07-01T07:02:00.174Z"
      },
      {
        "duration": 5,
        "start_time": "2022-07-01T07:32:44.249Z"
      },
      {
        "duration": 1664,
        "start_time": "2022-07-01T07:32:44.893Z"
      },
      {
        "duration": 0,
        "start_time": "2022-07-01T07:32:46.558Z"
      },
      {
        "duration": 1573,
        "start_time": "2022-07-01T07:33:16.466Z"
      },
      {
        "duration": 4,
        "start_time": "2022-07-01T07:33:23.030Z"
      },
      {
        "duration": 2963,
        "start_time": "2022-07-01T07:33:23.266Z"
      },
      {
        "duration": 5,
        "start_time": "2022-07-01T07:33:43.639Z"
      },
      {
        "duration": 4,
        "start_time": "2022-07-01T07:33:49.527Z"
      },
      {
        "duration": 5,
        "start_time": "2022-07-01T07:33:53.546Z"
      },
      {
        "duration": 2632,
        "start_time": "2022-07-01T07:33:53.799Z"
      },
      {
        "duration": 5,
        "start_time": "2022-07-01T07:33:56.433Z"
      },
      {
        "duration": 3,
        "start_time": "2022-07-01T07:42:25.270Z"
      },
      {
        "duration": 12,
        "start_time": "2022-07-01T07:42:25.722Z"
      },
      {
        "duration": 3,
        "start_time": "2022-07-01T07:42:41.060Z"
      },
      {
        "duration": 2612,
        "start_time": "2022-07-01T07:42:41.619Z"
      },
      {
        "duration": 4,
        "start_time": "2022-07-01T07:42:51.986Z"
      },
      {
        "duration": 4,
        "start_time": "2022-07-01T07:42:55.244Z"
      },
      {
        "duration": 5,
        "start_time": "2022-07-01T07:44:29.902Z"
      },
      {
        "duration": 104030,
        "start_time": "2022-07-01T07:44:33.342Z"
      },
      {
        "duration": 5,
        "start_time": "2022-07-01T07:46:41.001Z"
      },
      {
        "duration": 104630,
        "start_time": "2022-07-01T07:46:43.096Z"
      },
      {
        "duration": 5,
        "start_time": "2022-07-01T07:48:27.730Z"
      },
      {
        "duration": 4,
        "start_time": "2022-07-01T07:49:02.259Z"
      },
      {
        "duration": 25928,
        "start_time": "2022-07-01T07:49:02.674Z"
      },
      {
        "duration": 5,
        "start_time": "2022-07-01T07:49:52.724Z"
      },
      {
        "duration": 55569,
        "start_time": "2022-07-01T07:49:52.948Z"
      },
      {
        "duration": 1468,
        "start_time": "2022-07-01T08:05:33.612Z"
      },
      {
        "duration": 5,
        "start_time": "2022-07-01T08:06:27.738Z"
      },
      {
        "duration": 184085,
        "start_time": "2022-07-01T08:06:38.755Z"
      },
      {
        "duration": 4,
        "start_time": "2022-07-01T08:09:42.842Z"
      },
      {
        "duration": 4,
        "start_time": "2022-07-01T08:14:27.661Z"
      },
      {
        "duration": 6,
        "start_time": "2022-07-01T08:14:55.755Z"
      },
      {
        "duration": 179081,
        "start_time": "2022-07-01T08:14:57.203Z"
      },
      {
        "duration": 5,
        "start_time": "2022-07-01T08:18:44.483Z"
      },
      {
        "duration": 3,
        "start_time": "2022-07-01T08:31:06.378Z"
      },
      {
        "duration": 39,
        "start_time": "2022-07-01T08:31:06.886Z"
      },
      {
        "duration": 3,
        "start_time": "2022-07-01T08:31:23.216Z"
      },
      {
        "duration": 9,
        "start_time": "2022-07-01T08:43:31.371Z"
      },
      {
        "duration": 6,
        "start_time": "2022-07-01T08:43:36.155Z"
      },
      {
        "duration": 187847,
        "start_time": "2022-07-01T08:43:36.699Z"
      },
      {
        "duration": 5,
        "start_time": "2022-07-01T08:46:44.548Z"
      },
      {
        "duration": 12,
        "start_time": "2022-07-01T08:48:26.583Z"
      },
      {
        "duration": 14,
        "start_time": "2022-07-01T08:49:14.866Z"
      },
      {
        "duration": 12,
        "start_time": "2022-07-01T08:49:38.506Z"
      },
      {
        "duration": 4,
        "start_time": "2022-07-01T08:55:55.609Z"
      },
      {
        "duration": 4,
        "start_time": "2022-07-01T08:56:52.426Z"
      },
      {
        "duration": 11,
        "start_time": "2022-07-01T08:57:06.594Z"
      },
      {
        "duration": 4,
        "start_time": "2022-07-01T08:57:08.082Z"
      },
      {
        "duration": 13,
        "start_time": "2022-07-01T08:57:08.563Z"
      },
      {
        "duration": 6,
        "start_time": "2022-07-01T08:57:17.826Z"
      },
      {
        "duration": 9,
        "start_time": "2022-07-01T08:57:18.194Z"
      },
      {
        "duration": 19,
        "start_time": "2022-07-01T08:57:30.106Z"
      },
      {
        "duration": 7,
        "start_time": "2022-07-01T08:57:35.482Z"
      },
      {
        "duration": 2188,
        "start_time": "2022-07-01T08:57:36.143Z"
      },
      {
        "duration": 4,
        "start_time": "2022-07-01T08:59:21.718Z"
      },
      {
        "duration": 4,
        "start_time": "2022-07-01T09:02:04.616Z"
      },
      {
        "duration": 2604,
        "start_time": "2022-07-01T09:02:04.816Z"
      },
      {
        "duration": 4,
        "start_time": "2022-07-01T09:02:29.373Z"
      },
      {
        "duration": 4460,
        "start_time": "2022-07-01T09:02:29.608Z"
      },
      {
        "duration": 15,
        "start_time": "2022-07-01T09:02:45.600Z"
      },
      {
        "duration": 8,
        "start_time": "2022-07-01T09:02:53.017Z"
      },
      {
        "duration": 7,
        "start_time": "2022-07-01T09:02:57.488Z"
      },
      {
        "duration": 6,
        "start_time": "2022-07-01T09:03:09.105Z"
      },
      {
        "duration": 4,
        "start_time": "2022-07-01T09:05:43.555Z"
      },
      {
        "duration": 50,
        "start_time": "2022-07-01T09:05:44.002Z"
      },
      {
        "duration": 5,
        "start_time": "2022-07-01T09:05:44.405Z"
      },
      {
        "duration": 6,
        "start_time": "2022-07-01T15:28:55.550Z"
      },
      {
        "duration": 350,
        "start_time": "2022-07-01T15:28:55.558Z"
      },
      {
        "duration": 378,
        "start_time": "2022-07-01T15:28:55.910Z"
      },
      {
        "duration": 12,
        "start_time": "2022-07-01T15:28:56.290Z"
      },
      {
        "duration": 11,
        "start_time": "2022-07-01T15:28:56.304Z"
      },
      {
        "duration": 5,
        "start_time": "2022-07-01T15:28:56.316Z"
      },
      {
        "duration": 12,
        "start_time": "2022-07-01T15:28:56.322Z"
      },
      {
        "duration": 4,
        "start_time": "2022-07-01T15:28:56.335Z"
      },
      {
        "duration": 12,
        "start_time": "2022-07-01T15:28:56.341Z"
      },
      {
        "duration": 5,
        "start_time": "2022-07-01T15:28:56.355Z"
      },
      {
        "duration": 9,
        "start_time": "2022-07-01T15:28:56.361Z"
      },
      {
        "duration": 8,
        "start_time": "2022-07-01T15:28:56.371Z"
      },
      {
        "duration": 3,
        "start_time": "2022-07-01T15:28:56.381Z"
      },
      {
        "duration": 4,
        "start_time": "2022-07-01T15:28:56.385Z"
      },
      {
        "duration": 639,
        "start_time": "2022-07-01T15:28:56.391Z"
      },
      {
        "duration": 3412,
        "start_time": "2022-07-01T15:28:57.032Z"
      },
      {
        "duration": 6,
        "start_time": "2022-07-01T15:29:00.447Z"
      },
      {
        "duration": 3550,
        "start_time": "2022-07-01T15:29:00.455Z"
      },
      {
        "duration": 3,
        "start_time": "2022-07-01T15:29:04.007Z"
      },
      {
        "duration": 594,
        "start_time": "2022-07-01T15:29:04.011Z"
      },
      {
        "duration": 344,
        "start_time": "2022-07-01T15:29:04.607Z"
      },
      {
        "duration": 47,
        "start_time": "2022-07-01T15:29:04.954Z"
      },
      {
        "duration": 2206,
        "start_time": "2022-07-01T15:29:05.003Z"
      },
      {
        "duration": 4,
        "start_time": "2022-07-01T15:29:07.211Z"
      },
      {
        "duration": 8,
        "start_time": "2022-07-01T15:55:10.785Z"
      },
      {
        "duration": 1852,
        "start_time": "2022-07-01T15:55:33.977Z"
      },
      {
        "duration": 5,
        "start_time": "2022-07-01T15:55:43.606Z"
      },
      {
        "duration": 6,
        "start_time": "2022-07-01T15:55:48.521Z"
      },
      {
        "duration": 9,
        "start_time": "2022-07-02T09:31:01.450Z"
      },
      {
        "duration": 1712,
        "start_time": "2022-07-02T09:32:17.642Z"
      },
      {
        "duration": 1966,
        "start_time": "2022-07-02T09:32:19.357Z"
      },
      {
        "duration": 1651,
        "start_time": "2022-07-02T09:32:21.325Z"
      },
      {
        "duration": 19,
        "start_time": "2022-07-02T09:32:22.979Z"
      },
      {
        "duration": 14,
        "start_time": "2022-07-02T09:32:22.999Z"
      },
      {
        "duration": 6,
        "start_time": "2022-07-02T09:32:23.015Z"
      },
      {
        "duration": 8,
        "start_time": "2022-07-02T09:32:23.023Z"
      },
      {
        "duration": 10,
        "start_time": "2022-07-02T09:32:23.032Z"
      },
      {
        "duration": 19,
        "start_time": "2022-07-02T09:32:23.043Z"
      },
      {
        "duration": 5,
        "start_time": "2022-07-02T09:32:23.066Z"
      },
      {
        "duration": 8,
        "start_time": "2022-07-02T09:32:23.073Z"
      },
      {
        "duration": 9,
        "start_time": "2022-07-02T09:32:23.083Z"
      },
      {
        "duration": 8,
        "start_time": "2022-07-02T09:32:23.094Z"
      },
      {
        "duration": 649,
        "start_time": "2022-07-02T09:32:23.104Z"
      },
      {
        "duration": 3465,
        "start_time": "2022-07-02T09:32:23.755Z"
      },
      {
        "duration": 4,
        "start_time": "2022-07-02T09:32:27.222Z"
      },
      {
        "duration": 3702,
        "start_time": "2022-07-02T09:32:27.227Z"
      },
      {
        "duration": 11,
        "start_time": "2022-07-02T09:32:30.931Z"
      },
      {
        "duration": 605,
        "start_time": "2022-07-02T09:32:30.944Z"
      },
      {
        "duration": 378,
        "start_time": "2022-07-02T09:32:31.551Z"
      },
      {
        "duration": 63,
        "start_time": "2022-07-02T09:32:31.931Z"
      },
      {
        "duration": 1787,
        "start_time": "2022-07-02T09:32:31.996Z"
      },
      {
        "duration": 2,
        "start_time": "2022-07-02T09:32:33.786Z"
      },
      {
        "duration": 7,
        "start_time": "2022-07-02T09:32:33.790Z"
      },
      {
        "duration": 67,
        "start_time": "2022-07-02T09:32:33.798Z"
      },
      {
        "duration": 23,
        "start_time": "2022-07-02T09:32:33.867Z"
      },
      {
        "duration": 3,
        "start_time": "2022-07-02T09:32:33.892Z"
      },
      {
        "duration": 9,
        "start_time": "2022-07-02T09:32:33.898Z"
      },
      {
        "duration": 4,
        "start_time": "2022-07-02T09:32:33.909Z"
      },
      {
        "duration": 5,
        "start_time": "2022-07-02T09:32:33.915Z"
      },
      {
        "duration": 21,
        "start_time": "2022-07-02T09:32:33.922Z"
      },
      {
        "duration": 16,
        "start_time": "2022-07-02T09:32:33.945Z"
      },
      {
        "duration": 5,
        "start_time": "2022-07-02T09:32:33.963Z"
      },
      {
        "duration": 9,
        "start_time": "2022-07-02T09:32:33.969Z"
      },
      {
        "duration": 2863,
        "start_time": "2022-07-02T09:32:33.980Z"
      },
      {
        "duration": 5,
        "start_time": "2022-07-02T09:32:36.844Z"
      },
      {
        "duration": 17,
        "start_time": "2022-07-02T09:32:36.851Z"
      },
      {
        "duration": 57550,
        "start_time": "2022-07-02T09:32:36.870Z"
      },
      {
        "duration": 5,
        "start_time": "2022-07-02T09:33:34.422Z"
      },
      {
        "duration": 16,
        "start_time": "2022-07-02T09:33:34.429Z"
      },
      {
        "duration": 718,
        "start_time": "2022-07-02T09:33:34.447Z"
      },
      {
        "duration": 0,
        "start_time": "2022-07-02T09:33:35.167Z"
      },
      {
        "duration": 0,
        "start_time": "2022-07-02T09:33:35.168Z"
      },
      {
        "duration": 0,
        "start_time": "2022-07-02T09:33:35.170Z"
      },
      {
        "duration": 0,
        "start_time": "2022-07-02T09:33:35.171Z"
      },
      {
        "duration": 1,
        "start_time": "2022-07-02T09:33:35.173Z"
      },
      {
        "duration": 0,
        "start_time": "2022-07-02T09:33:35.175Z"
      },
      {
        "duration": 0,
        "start_time": "2022-07-02T09:33:35.176Z"
      },
      {
        "duration": 0,
        "start_time": "2022-07-02T09:33:35.178Z"
      },
      {
        "duration": 0,
        "start_time": "2022-07-02T09:33:35.179Z"
      },
      {
        "duration": 6,
        "start_time": "2022-07-02T09:37:24.968Z"
      },
      {
        "duration": 194942,
        "start_time": "2022-07-02T09:37:25.274Z"
      },
      {
        "duration": 4,
        "start_time": "2022-07-02T09:40:47.577Z"
      },
      {
        "duration": 5,
        "start_time": "2022-07-02T09:41:06.085Z"
      },
      {
        "duration": 6,
        "start_time": "2022-07-02T09:42:36.808Z"
      },
      {
        "duration": 4616,
        "start_time": "2022-07-02T09:42:37.189Z"
      },
      {
        "duration": 8,
        "start_time": "2022-07-02T09:42:41.807Z"
      },
      {
        "duration": 9,
        "start_time": "2022-07-02T09:42:41.816Z"
      },
      {
        "duration": 16,
        "start_time": "2022-07-02T09:42:41.827Z"
      },
      {
        "duration": 1373,
        "start_time": "2022-07-02T09:43:13.037Z"
      },
      {
        "duration": 1354,
        "start_time": "2022-07-02T09:43:20.536Z"
      },
      {
        "duration": 9,
        "start_time": "2022-07-02T09:43:32.590Z"
      },
      {
        "duration": 8,
        "start_time": "2022-07-02T09:43:38.488Z"
      },
      {
        "duration": 10,
        "start_time": "2022-07-02T09:43:47.089Z"
      },
      {
        "duration": 8,
        "start_time": "2022-07-02T09:43:51.685Z"
      },
      {
        "duration": 1334,
        "start_time": "2022-07-02T09:43:56.280Z"
      },
      {
        "duration": 8,
        "start_time": "2022-07-02T09:43:59.555Z"
      },
      {
        "duration": 6,
        "start_time": "2022-07-02T09:44:30.329Z"
      },
      {
        "duration": 370,
        "start_time": "2022-07-02T09:44:30.337Z"
      },
      {
        "duration": 317,
        "start_time": "2022-07-02T09:44:30.709Z"
      },
      {
        "duration": 14,
        "start_time": "2022-07-02T09:44:31.028Z"
      },
      {
        "duration": 11,
        "start_time": "2022-07-02T09:44:31.044Z"
      },
      {
        "duration": 6,
        "start_time": "2022-07-02T09:44:31.057Z"
      },
      {
        "duration": 8,
        "start_time": "2022-07-02T09:44:31.065Z"
      },
      {
        "duration": 4,
        "start_time": "2022-07-02T09:44:31.075Z"
      },
      {
        "duration": 17,
        "start_time": "2022-07-02T09:44:31.081Z"
      },
      {
        "duration": 5,
        "start_time": "2022-07-02T09:44:31.100Z"
      },
      {
        "duration": 7,
        "start_time": "2022-07-02T09:44:31.106Z"
      },
      {
        "duration": 8,
        "start_time": "2022-07-02T09:44:31.114Z"
      },
      {
        "duration": 3,
        "start_time": "2022-07-02T09:44:31.142Z"
      },
      {
        "duration": 617,
        "start_time": "2022-07-02T09:44:31.147Z"
      },
      {
        "duration": 3447,
        "start_time": "2022-07-02T09:44:31.766Z"
      },
      {
        "duration": 3,
        "start_time": "2022-07-02T09:44:35.215Z"
      },
      {
        "duration": 3608,
        "start_time": "2022-07-02T09:44:35.220Z"
      },
      {
        "duration": 3,
        "start_time": "2022-07-02T09:44:38.830Z"
      },
      {
        "duration": 592,
        "start_time": "2022-07-02T09:44:38.841Z"
      },
      {
        "duration": 380,
        "start_time": "2022-07-02T09:44:39.435Z"
      },
      {
        "duration": 52,
        "start_time": "2022-07-02T09:44:39.817Z"
      },
      {
        "duration": 1921,
        "start_time": "2022-07-02T09:44:39.871Z"
      },
      {
        "duration": 2,
        "start_time": "2022-07-02T09:44:41.793Z"
      },
      {
        "duration": 7,
        "start_time": "2022-07-02T09:44:41.797Z"
      },
      {
        "duration": 71,
        "start_time": "2022-07-02T09:44:41.806Z"
      },
      {
        "duration": 17,
        "start_time": "2022-07-02T09:44:41.878Z"
      },
      {
        "duration": 3,
        "start_time": "2022-07-02T09:44:41.897Z"
      },
      {
        "duration": 3,
        "start_time": "2022-07-02T09:44:41.904Z"
      },
      {
        "duration": 5,
        "start_time": "2022-07-02T09:44:41.909Z"
      },
      {
        "duration": 6,
        "start_time": "2022-07-02T09:44:41.915Z"
      },
      {
        "duration": 6,
        "start_time": "2022-07-02T09:44:41.942Z"
      },
      {
        "duration": 18,
        "start_time": "2022-07-02T09:44:41.950Z"
      },
      {
        "duration": 5,
        "start_time": "2022-07-02T09:44:41.969Z"
      },
      {
        "duration": 7,
        "start_time": "2022-07-02T09:44:41.976Z"
      },
      {
        "duration": 2958,
        "start_time": "2022-07-02T09:44:41.985Z"
      },
      {
        "duration": 8,
        "start_time": "2022-07-02T09:44:44.945Z"
      },
      {
        "duration": 90,
        "start_time": "2022-07-02T09:44:44.954Z"
      },
      {
        "duration": 56929,
        "start_time": "2022-07-02T09:44:45.046Z"
      },
      {
        "duration": 4,
        "start_time": "2022-07-02T09:45:41.977Z"
      },
      {
        "duration": 5,
        "start_time": "2022-07-02T09:45:41.983Z"
      },
      {
        "duration": 196917,
        "start_time": "2022-07-02T09:45:41.990Z"
      },
      {
        "duration": 5,
        "start_time": "2022-07-02T09:48:58.910Z"
      },
      {
        "duration": 9,
        "start_time": "2022-07-02T09:48:58.917Z"
      },
      {
        "duration": 4615,
        "start_time": "2022-07-02T09:48:58.928Z"
      },
      {
        "duration": 6,
        "start_time": "2022-07-02T09:49:03.545Z"
      },
      {
        "duration": 10,
        "start_time": "2022-07-02T09:49:03.553Z"
      },
      {
        "duration": 5,
        "start_time": "2022-07-02T09:49:03.565Z"
      },
      {
        "duration": 4,
        "start_time": "2022-07-02T09:49:03.572Z"
      },
      {
        "duration": 65,
        "start_time": "2022-07-02T09:49:03.577Z"
      },
      {
        "duration": 10,
        "start_time": "2022-07-02T09:49:27.976Z"
      },
      {
        "duration": 10,
        "start_time": "2022-07-02T09:49:31.778Z"
      },
      {
        "duration": 4,
        "start_time": "2022-07-02T09:49:36.918Z"
      },
      {
        "duration": 5,
        "start_time": "2022-07-02T09:49:41.775Z"
      },
      {
        "duration": 4,
        "start_time": "2022-07-02T09:50:21.708Z"
      },
      {
        "duration": 5,
        "start_time": "2022-07-02T09:50:27.946Z"
      },
      {
        "duration": 4,
        "start_time": "2022-07-02T09:50:42.828Z"
      },
      {
        "duration": 56384,
        "start_time": "2022-07-02T09:50:56.689Z"
      },
      {
        "duration": 8,
        "start_time": "2022-07-02T09:52:01.058Z"
      },
      {
        "duration": 1681,
        "start_time": "2022-07-02T09:52:19.509Z"
      },
      {
        "duration": 1679,
        "start_time": "2022-07-02T09:52:21.961Z"
      },
      {
        "duration": 8,
        "start_time": "2022-07-02T09:52:25.862Z"
      },
      {
        "duration": 1253,
        "start_time": "2022-07-02T09:52:42.760Z"
      },
      {
        "duration": 8,
        "start_time": "2022-07-02T09:52:48.311Z"
      },
      {
        "duration": 8,
        "start_time": "2022-07-02T09:52:52.791Z"
      },
      {
        "duration": 8,
        "start_time": "2022-07-02T09:52:56.439Z"
      },
      {
        "duration": 8,
        "start_time": "2022-07-02T09:53:01.399Z"
      },
      {
        "duration": 8,
        "start_time": "2022-07-02T09:53:05.741Z"
      },
      {
        "duration": 9,
        "start_time": "2022-07-02T09:53:08.258Z"
      },
      {
        "duration": 6,
        "start_time": "2022-07-02T09:53:11.109Z"
      },
      {
        "duration": 8,
        "start_time": "2022-07-02T09:53:13.959Z"
      },
      {
        "duration": 8,
        "start_time": "2022-07-02T09:53:21.969Z"
      },
      {
        "duration": 1401,
        "start_time": "2022-07-02T09:53:35.940Z"
      },
      {
        "duration": 1257,
        "start_time": "2022-07-02T09:53:42.542Z"
      },
      {
        "duration": 1273,
        "start_time": "2022-07-02T09:53:53.690Z"
      },
      {
        "duration": 6,
        "start_time": "2022-07-02T09:54:11.492Z"
      },
      {
        "duration": 6,
        "start_time": "2022-07-02T09:54:28.264Z"
      },
      {
        "duration": 5,
        "start_time": "2022-07-02T09:54:43.492Z"
      },
      {
        "duration": 4,
        "start_time": "2022-07-02T09:54:49.184Z"
      },
      {
        "duration": 5,
        "start_time": "2022-07-02T09:55:01.170Z"
      },
      {
        "duration": 5,
        "start_time": "2022-07-02T09:55:16.323Z"
      },
      {
        "duration": 8,
        "start_time": "2022-07-02T09:55:27.890Z"
      },
      {
        "duration": 5,
        "start_time": "2022-07-02T09:55:58.580Z"
      },
      {
        "duration": 5,
        "start_time": "2022-07-02T09:56:06.980Z"
      },
      {
        "duration": 8,
        "start_time": "2022-07-02T09:56:44.599Z"
      },
      {
        "duration": 7,
        "start_time": "2022-07-02T09:56:57.977Z"
      },
      {
        "duration": 6,
        "start_time": "2022-07-02T09:57:00.510Z"
      },
      {
        "duration": 4,
        "start_time": "2022-07-02T09:57:03.796Z"
      },
      {
        "duration": 6,
        "start_time": "2022-07-02T09:57:06.989Z"
      },
      {
        "duration": 1445,
        "start_time": "2022-07-02T09:57:13.110Z"
      },
      {
        "duration": 6,
        "start_time": "2022-07-02T09:57:25.201Z"
      },
      {
        "duration": 5,
        "start_time": "2022-07-02T09:57:30.561Z"
      },
      {
        "duration": 5,
        "start_time": "2022-07-02T09:57:35.213Z"
      },
      {
        "duration": 5,
        "start_time": "2022-07-02T09:57:52.212Z"
      },
      {
        "duration": 4,
        "start_time": "2022-07-02T09:58:07.061Z"
      },
      {
        "duration": 6,
        "start_time": "2022-07-02T09:58:10.190Z"
      },
      {
        "duration": 5,
        "start_time": "2022-07-02T09:58:19.021Z"
      },
      {
        "duration": 4,
        "start_time": "2022-07-02T09:58:32.961Z"
      },
      {
        "duration": 1286,
        "start_time": "2022-07-02T09:58:52.100Z"
      },
      {
        "duration": 8,
        "start_time": "2022-07-02T09:58:59.492Z"
      },
      {
        "duration": 5,
        "start_time": "2022-07-02T09:59:12.971Z"
      },
      {
        "duration": 6,
        "start_time": "2022-07-02T09:59:23.905Z"
      },
      {
        "duration": 364,
        "start_time": "2022-07-02T09:59:23.914Z"
      },
      {
        "duration": 328,
        "start_time": "2022-07-02T09:59:24.280Z"
      },
      {
        "duration": 13,
        "start_time": "2022-07-02T09:59:24.610Z"
      },
      {
        "duration": 10,
        "start_time": "2022-07-02T09:59:24.625Z"
      },
      {
        "duration": 7,
        "start_time": "2022-07-02T09:59:24.637Z"
      },
      {
        "duration": 4,
        "start_time": "2022-07-02T09:59:24.645Z"
      },
      {
        "duration": 3,
        "start_time": "2022-07-02T09:59:24.651Z"
      },
      {
        "duration": 15,
        "start_time": "2022-07-02T09:59:24.656Z"
      },
      {
        "duration": 4,
        "start_time": "2022-07-02T09:59:24.673Z"
      },
      {
        "duration": 5,
        "start_time": "2022-07-02T09:59:24.679Z"
      },
      {
        "duration": 4,
        "start_time": "2022-07-02T09:59:24.686Z"
      },
      {
        "duration": 5,
        "start_time": "2022-07-02T09:59:24.691Z"
      },
      {
        "duration": 628,
        "start_time": "2022-07-02T09:59:24.699Z"
      },
      {
        "duration": 3571,
        "start_time": "2022-07-02T09:59:25.329Z"
      },
      {
        "duration": 4,
        "start_time": "2022-07-02T09:59:28.901Z"
      },
      {
        "duration": 3400,
        "start_time": "2022-07-02T09:59:28.907Z"
      },
      {
        "duration": 3,
        "start_time": "2022-07-02T09:59:32.309Z"
      },
      {
        "duration": 621,
        "start_time": "2022-07-02T09:59:32.314Z"
      },
      {
        "duration": 601,
        "start_time": "2022-07-02T09:59:32.941Z"
      },
      {
        "duration": 47,
        "start_time": "2022-07-02T09:59:33.543Z"
      },
      {
        "duration": 1788,
        "start_time": "2022-07-02T09:59:33.592Z"
      },
      {
        "duration": 2,
        "start_time": "2022-07-02T09:59:35.381Z"
      },
      {
        "duration": 8,
        "start_time": "2022-07-02T09:59:35.385Z"
      },
      {
        "duration": 71,
        "start_time": "2022-07-02T09:59:35.394Z"
      },
      {
        "duration": 17,
        "start_time": "2022-07-02T09:59:35.467Z"
      },
      {
        "duration": 3,
        "start_time": "2022-07-02T09:59:35.486Z"
      },
      {
        "duration": 8,
        "start_time": "2022-07-02T09:59:35.491Z"
      },
      {
        "duration": 5,
        "start_time": "2022-07-02T09:59:35.500Z"
      },
      {
        "duration": 7,
        "start_time": "2022-07-02T09:59:35.507Z"
      },
      {
        "duration": 26,
        "start_time": "2022-07-02T09:59:35.516Z"
      },
      {
        "duration": 17,
        "start_time": "2022-07-02T09:59:35.543Z"
      },
      {
        "duration": 4,
        "start_time": "2022-07-02T09:59:35.562Z"
      },
      {
        "duration": 9,
        "start_time": "2022-07-02T09:59:35.568Z"
      },
      {
        "duration": 2763,
        "start_time": "2022-07-02T09:59:35.579Z"
      },
      {
        "duration": 5,
        "start_time": "2022-07-02T09:59:38.344Z"
      },
      {
        "duration": 98,
        "start_time": "2022-07-02T09:59:38.351Z"
      },
      {
        "duration": 56282,
        "start_time": "2022-07-02T09:59:38.451Z"
      },
      {
        "duration": 10,
        "start_time": "2022-07-02T10:00:34.735Z"
      },
      {
        "duration": 13,
        "start_time": "2022-07-02T10:00:34.747Z"
      },
      {
        "duration": 194866,
        "start_time": "2022-07-02T10:00:34.764Z"
      },
      {
        "duration": 5,
        "start_time": "2022-07-02T10:04:01.792Z"
      },
      {
        "duration": 11,
        "start_time": "2022-07-02T10:04:08.100Z"
      },
      {
        "duration": 9,
        "start_time": "2022-07-02T10:04:14.161Z"
      },
      {
        "duration": 4,
        "start_time": "2022-07-02T10:04:57.156Z"
      },
      {
        "duration": 4673,
        "start_time": "2022-07-02T10:05:00.472Z"
      },
      {
        "duration": 7,
        "start_time": "2022-07-02T10:06:53.864Z"
      },
      {
        "duration": 5,
        "start_time": "2022-07-02T10:07:00.311Z"
      },
      {
        "duration": 4,
        "start_time": "2022-07-02T10:07:06.331Z"
      },
      {
        "duration": 4,
        "start_time": "2022-07-02T10:07:09.851Z"
      },
      {
        "duration": 4,
        "start_time": "2022-07-02T10:08:02.790Z"
      },
      {
        "duration": 46,
        "start_time": "2022-07-02T10:08:04.789Z"
      },
      {
        "duration": 4,
        "start_time": "2022-07-02T10:08:05.961Z"
      },
      {
        "duration": 4,
        "start_time": "2022-07-02T10:08:14.356Z"
      },
      {
        "duration": 5,
        "start_time": "2022-07-02T10:13:43.580Z"
      },
      {
        "duration": 5,
        "start_time": "2022-07-02T10:13:46.814Z"
      },
      {
        "duration": 4,
        "start_time": "2022-07-02T10:14:40.338Z"
      },
      {
        "duration": 4,
        "start_time": "2022-07-02T10:14:54.713Z"
      },
      {
        "duration": 6,
        "start_time": "2022-07-02T10:15:35.547Z"
      },
      {
        "duration": 361,
        "start_time": "2022-07-02T10:15:35.556Z"
      },
      {
        "duration": 305,
        "start_time": "2022-07-02T10:15:35.918Z"
      },
      {
        "duration": 14,
        "start_time": "2022-07-02T10:15:36.225Z"
      },
      {
        "duration": 12,
        "start_time": "2022-07-02T10:15:36.241Z"
      },
      {
        "duration": 6,
        "start_time": "2022-07-02T10:15:36.255Z"
      },
      {
        "duration": 11,
        "start_time": "2022-07-02T10:15:36.263Z"
      },
      {
        "duration": 6,
        "start_time": "2022-07-02T10:15:36.276Z"
      },
      {
        "duration": 12,
        "start_time": "2022-07-02T10:15:36.285Z"
      },
      {
        "duration": 6,
        "start_time": "2022-07-02T10:15:36.299Z"
      },
      {
        "duration": 6,
        "start_time": "2022-07-02T10:15:36.307Z"
      },
      {
        "duration": 5,
        "start_time": "2022-07-02T10:15:36.315Z"
      },
      {
        "duration": 23,
        "start_time": "2022-07-02T10:15:36.322Z"
      },
      {
        "duration": 699,
        "start_time": "2022-07-02T10:15:36.347Z"
      },
      {
        "duration": 3460,
        "start_time": "2022-07-02T10:15:37.047Z"
      },
      {
        "duration": 4,
        "start_time": "2022-07-02T10:15:40.509Z"
      },
      {
        "duration": 3685,
        "start_time": "2022-07-02T10:15:40.514Z"
      },
      {
        "duration": 2,
        "start_time": "2022-07-02T10:15:44.201Z"
      },
      {
        "duration": 641,
        "start_time": "2022-07-02T10:15:44.205Z"
      },
      {
        "duration": 384,
        "start_time": "2022-07-02T10:15:44.848Z"
      },
      {
        "duration": 53,
        "start_time": "2022-07-02T10:15:45.234Z"
      },
      {
        "duration": 1878,
        "start_time": "2022-07-02T10:15:45.289Z"
      },
      {
        "duration": 3,
        "start_time": "2022-07-02T10:15:47.170Z"
      },
      {
        "duration": 4,
        "start_time": "2022-07-02T10:15:47.178Z"
      },
      {
        "duration": 98,
        "start_time": "2022-07-02T10:15:47.184Z"
      },
      {
        "duration": 22,
        "start_time": "2022-07-02T10:15:47.284Z"
      },
      {
        "duration": 4,
        "start_time": "2022-07-02T10:15:47.308Z"
      },
      {
        "duration": 10,
        "start_time": "2022-07-02T10:15:47.314Z"
      },
      {
        "duration": 21,
        "start_time": "2022-07-02T10:15:47.326Z"
      },
      {
        "duration": 5,
        "start_time": "2022-07-02T10:15:47.349Z"
      },
      {
        "duration": 20,
        "start_time": "2022-07-02T10:15:47.356Z"
      },
      {
        "duration": 19,
        "start_time": "2022-07-02T10:15:47.378Z"
      },
      {
        "duration": 5,
        "start_time": "2022-07-02T10:15:47.399Z"
      },
      {
        "duration": 15,
        "start_time": "2022-07-02T10:15:47.406Z"
      },
      {
        "duration": 2719,
        "start_time": "2022-07-02T10:15:47.423Z"
      },
      {
        "duration": 4,
        "start_time": "2022-07-02T10:15:50.144Z"
      },
      {
        "duration": 92,
        "start_time": "2022-07-02T10:15:50.150Z"
      },
      {
        "duration": 57390,
        "start_time": "2022-07-02T10:15:50.244Z"
      },
      {
        "duration": 7,
        "start_time": "2022-07-02T10:16:47.636Z"
      },
      {
        "duration": 9,
        "start_time": "2022-07-02T10:16:47.645Z"
      },
      {
        "duration": 199534,
        "start_time": "2022-07-02T10:16:47.656Z"
      },
      {
        "duration": 10,
        "start_time": "2022-07-02T10:20:07.192Z"
      },
      {
        "duration": 10,
        "start_time": "2022-07-02T10:20:07.205Z"
      },
      {
        "duration": 27,
        "start_time": "2022-07-02T10:20:07.217Z"
      },
      {
        "duration": 13,
        "start_time": "2022-07-02T10:20:07.246Z"
      },
      {
        "duration": 4943,
        "start_time": "2022-07-02T10:20:07.262Z"
      },
      {
        "duration": 5,
        "start_time": "2022-07-02T10:20:12.207Z"
      },
      {
        "duration": 4,
        "start_time": "2022-07-02T10:29:57.466Z"
      },
      {
        "duration": 3,
        "start_time": "2022-07-02T10:31:56.025Z"
      },
      {
        "duration": 6,
        "start_time": "2022-07-02T10:31:56.754Z"
      },
      {
        "duration": 5,
        "start_time": "2022-07-02T10:32:02.978Z"
      },
      {
        "duration": 5,
        "start_time": "2022-07-02T10:32:03.364Z"
      },
      {
        "duration": 394,
        "start_time": "2022-07-02T10:33:05.105Z"
      },
      {
        "duration": 2115,
        "start_time": "2022-07-02T10:34:09.646Z"
      },
      {
        "duration": 8,
        "start_time": "2022-07-02T10:34:15.685Z"
      },
      {
        "duration": 64,
        "start_time": "2022-07-02T10:35:36.889Z"
      },
      {
        "duration": 1812,
        "start_time": "2022-07-02T10:36:02.782Z"
      },
      {
        "duration": 1910,
        "start_time": "2022-07-02T10:36:04.596Z"
      },
      {
        "duration": 1626,
        "start_time": "2022-07-02T10:36:06.507Z"
      },
      {
        "duration": 14,
        "start_time": "2022-07-02T10:36:08.135Z"
      },
      {
        "duration": 17,
        "start_time": "2022-07-02T10:36:08.151Z"
      },
      {
        "duration": 6,
        "start_time": "2022-07-02T10:36:08.169Z"
      },
      {
        "duration": 7,
        "start_time": "2022-07-02T10:36:08.177Z"
      },
      {
        "duration": 6,
        "start_time": "2022-07-02T10:36:08.186Z"
      },
      {
        "duration": 17,
        "start_time": "2022-07-02T10:36:08.194Z"
      },
      {
        "duration": 5,
        "start_time": "2022-07-02T10:36:08.213Z"
      },
      {
        "duration": 23,
        "start_time": "2022-07-02T10:36:08.220Z"
      },
      {
        "duration": 9,
        "start_time": "2022-07-02T10:36:08.244Z"
      },
      {
        "duration": 6,
        "start_time": "2022-07-02T10:36:08.255Z"
      },
      {
        "duration": 628,
        "start_time": "2022-07-02T10:36:08.263Z"
      },
      {
        "duration": 3324,
        "start_time": "2022-07-02T10:36:08.893Z"
      },
      {
        "duration": 5,
        "start_time": "2022-07-02T10:36:12.220Z"
      },
      {
        "duration": 3516,
        "start_time": "2022-07-02T10:36:12.226Z"
      },
      {
        "duration": 3,
        "start_time": "2022-07-02T10:36:15.743Z"
      },
      {
        "duration": 577,
        "start_time": "2022-07-02T10:36:15.748Z"
      },
      {
        "duration": 425,
        "start_time": "2022-07-02T10:36:16.327Z"
      },
      {
        "duration": 49,
        "start_time": "2022-07-02T10:36:16.755Z"
      },
      {
        "duration": 1765,
        "start_time": "2022-07-02T10:36:16.806Z"
      },
      {
        "duration": 3,
        "start_time": "2022-07-02T10:36:18.573Z"
      },
      {
        "duration": 17,
        "start_time": "2022-07-02T10:36:18.577Z"
      },
      {
        "duration": 66,
        "start_time": "2022-07-02T10:36:18.596Z"
      },
      {
        "duration": 28,
        "start_time": "2022-07-02T10:36:18.664Z"
      },
      {
        "duration": 3,
        "start_time": "2022-07-02T10:36:18.694Z"
      },
      {
        "duration": 6,
        "start_time": "2022-07-02T10:36:18.701Z"
      },
      {
        "duration": 9,
        "start_time": "2022-07-02T10:36:18.709Z"
      },
      {
        "duration": 19,
        "start_time": "2022-07-02T10:36:18.719Z"
      },
      {
        "duration": 12,
        "start_time": "2022-07-02T10:36:18.740Z"
      },
      {
        "duration": 119,
        "start_time": "2022-07-02T10:36:18.754Z"
      },
      {
        "duration": 77,
        "start_time": "2022-07-02T10:36:18.875Z"
      },
      {
        "duration": 6,
        "start_time": "2022-07-02T10:36:18.954Z"
      },
      {
        "duration": 4884,
        "start_time": "2022-07-02T10:36:18.961Z"
      },
      {
        "duration": 7,
        "start_time": "2022-07-02T10:36:23.847Z"
      },
      {
        "duration": 103,
        "start_time": "2022-07-02T10:36:23.857Z"
      },
      {
        "duration": 56732,
        "start_time": "2022-07-02T10:36:23.962Z"
      },
      {
        "duration": 5,
        "start_time": "2022-07-02T10:37:20.696Z"
      },
      {
        "duration": 7,
        "start_time": "2022-07-02T10:37:20.702Z"
      },
      {
        "duration": 197601,
        "start_time": "2022-07-02T10:37:20.711Z"
      },
      {
        "duration": 5,
        "start_time": "2022-07-02T10:40:38.314Z"
      },
      {
        "duration": 6,
        "start_time": "2022-07-02T10:40:38.320Z"
      },
      {
        "duration": 4663,
        "start_time": "2022-07-02T10:40:38.327Z"
      },
      {
        "duration": 12,
        "start_time": "2022-07-02T10:40:42.991Z"
      },
      {
        "duration": 7,
        "start_time": "2022-07-02T10:40:43.007Z"
      },
      {
        "duration": 6,
        "start_time": "2022-07-02T10:40:43.016Z"
      },
      {
        "duration": 49,
        "start_time": "2022-07-02T10:40:54.944Z"
      },
      {
        "duration": 6,
        "start_time": "2022-07-02T10:40:58.065Z"
      },
      {
        "duration": 6,
        "start_time": "2022-07-02T10:40:58.282Z"
      },
      {
        "duration": 1616,
        "start_time": "2022-07-02T10:41:05.908Z"
      },
      {
        "duration": 1901,
        "start_time": "2022-07-02T10:41:07.526Z"
      },
      {
        "duration": 1592,
        "start_time": "2022-07-02T10:41:09.429Z"
      },
      {
        "duration": 14,
        "start_time": "2022-07-02T10:41:11.024Z"
      },
      {
        "duration": 13,
        "start_time": "2022-07-02T10:41:11.039Z"
      },
      {
        "duration": 5,
        "start_time": "2022-07-02T10:41:11.054Z"
      },
      {
        "duration": 8,
        "start_time": "2022-07-02T10:41:11.061Z"
      },
      {
        "duration": 3,
        "start_time": "2022-07-02T10:41:11.071Z"
      },
      {
        "duration": 21,
        "start_time": "2022-07-02T10:41:11.076Z"
      },
      {
        "duration": 6,
        "start_time": "2022-07-02T10:41:11.099Z"
      },
      {
        "duration": 9,
        "start_time": "2022-07-02T10:41:11.106Z"
      },
      {
        "duration": 220,
        "start_time": "2022-07-02T10:41:11.116Z"
      },
      {
        "duration": 6,
        "start_time": "2022-07-02T10:41:11.338Z"
      },
      {
        "duration": 627,
        "start_time": "2022-07-02T10:41:11.346Z"
      },
      {
        "duration": 3553,
        "start_time": "2022-07-02T10:41:11.975Z"
      },
      {
        "duration": 13,
        "start_time": "2022-07-02T10:41:15.529Z"
      },
      {
        "duration": 3483,
        "start_time": "2022-07-02T10:41:15.544Z"
      },
      {
        "duration": 3,
        "start_time": "2022-07-02T10:41:19.029Z"
      },
      {
        "duration": 610,
        "start_time": "2022-07-02T10:41:19.034Z"
      },
      {
        "duration": 364,
        "start_time": "2022-07-02T10:41:19.646Z"
      },
      {
        "duration": 55,
        "start_time": "2022-07-02T10:41:20.012Z"
      },
      {
        "duration": 1734,
        "start_time": "2022-07-02T10:41:20.069Z"
      },
      {
        "duration": 2,
        "start_time": "2022-07-02T10:41:21.805Z"
      },
      {
        "duration": 7,
        "start_time": "2022-07-02T10:41:21.809Z"
      },
      {
        "duration": 71,
        "start_time": "2022-07-02T10:41:21.817Z"
      },
      {
        "duration": 28,
        "start_time": "2022-07-02T10:41:21.890Z"
      },
      {
        "duration": 4,
        "start_time": "2022-07-02T10:41:21.919Z"
      },
      {
        "duration": 3,
        "start_time": "2022-07-02T10:41:21.926Z"
      },
      {
        "duration": 2,
        "start_time": "2022-07-02T10:41:21.941Z"
      },
      {
        "duration": 6,
        "start_time": "2022-07-02T10:41:21.945Z"
      },
      {
        "duration": 7,
        "start_time": "2022-07-02T10:41:21.952Z"
      },
      {
        "duration": 16,
        "start_time": "2022-07-02T10:41:21.961Z"
      },
      {
        "duration": 4,
        "start_time": "2022-07-02T10:41:21.978Z"
      },
      {
        "duration": 4,
        "start_time": "2022-07-02T10:41:21.984Z"
      },
      {
        "duration": 2855,
        "start_time": "2022-07-02T10:41:21.990Z"
      },
      {
        "duration": 8,
        "start_time": "2022-07-02T10:41:24.847Z"
      },
      {
        "duration": 7,
        "start_time": "2022-07-02T10:41:24.942Z"
      },
      {
        "duration": 57985,
        "start_time": "2022-07-02T10:41:24.952Z"
      },
      {
        "duration": 6,
        "start_time": "2022-07-02T10:42:22.939Z"
      },
      {
        "duration": 19,
        "start_time": "2022-07-02T10:42:22.947Z"
      },
      {
        "duration": 195884,
        "start_time": "2022-07-02T10:42:22.968Z"
      },
      {
        "duration": 5,
        "start_time": "2022-07-02T10:45:38.853Z"
      },
      {
        "duration": 11,
        "start_time": "2022-07-02T10:45:38.860Z"
      },
      {
        "duration": 4660,
        "start_time": "2022-07-02T10:45:38.873Z"
      },
      {
        "duration": 7,
        "start_time": "2022-07-02T10:45:43.536Z"
      },
      {
        "duration": 10,
        "start_time": "2022-07-02T10:45:43.544Z"
      },
      {
        "duration": 11,
        "start_time": "2022-07-02T10:45:43.556Z"
      },
      {
        "duration": 2110,
        "start_time": "2022-07-02T10:45:43.569Z"
      },
      {
        "duration": 7,
        "start_time": "2022-07-02T10:45:45.681Z"
      },
      {
        "duration": 8,
        "start_time": "2022-07-02T10:45:45.690Z"
      },
      {
        "duration": 100,
        "start_time": "2022-07-02T10:45:45.700Z"
      },
      {
        "duration": 8,
        "start_time": "2022-07-02T10:48:36.848Z"
      },
      {
        "duration": 5,
        "start_time": "2022-07-02T10:48:40.780Z"
      },
      {
        "duration": 6,
        "start_time": "2022-07-02T10:48:41.309Z"
      },
      {
        "duration": 5,
        "start_time": "2022-07-02T10:48:46.116Z"
      },
      {
        "duration": 475,
        "start_time": "2022-07-02T10:49:48.331Z"
      },
      {
        "duration": 11,
        "start_time": "2022-07-02T10:50:22.643Z"
      },
      {
        "duration": 4,
        "start_time": "2022-07-02T10:50:50.822Z"
      },
      {
        "duration": 5,
        "start_time": "2022-07-02T10:50:54.901Z"
      },
      {
        "duration": 4,
        "start_time": "2022-07-02T10:51:26.272Z"
      },
      {
        "duration": 5,
        "start_time": "2022-07-02T10:51:44.281Z"
      },
      {
        "duration": 5,
        "start_time": "2022-07-02T10:51:47.252Z"
      },
      {
        "duration": 4,
        "start_time": "2022-07-02T10:51:49.002Z"
      },
      {
        "duration": 4,
        "start_time": "2022-07-02T15:40:57.205Z"
      },
      {
        "duration": 544252,
        "start_time": "2022-07-02T15:41:11.500Z"
      },
      {
        "duration": 4,
        "start_time": "2022-07-02T15:50:15.754Z"
      },
      {
        "duration": 1443,
        "start_time": "2022-07-02T15:57:32.662Z"
      },
      {
        "duration": 332,
        "start_time": "2022-07-02T15:57:34.107Z"
      },
      {
        "duration": 310,
        "start_time": "2022-07-02T15:57:34.440Z"
      },
      {
        "duration": 13,
        "start_time": "2022-07-02T15:57:34.752Z"
      },
      {
        "duration": 15,
        "start_time": "2022-07-02T15:57:34.767Z"
      },
      {
        "duration": 6,
        "start_time": "2022-07-02T15:57:34.784Z"
      },
      {
        "duration": 6,
        "start_time": "2022-07-02T15:57:34.791Z"
      },
      {
        "duration": 5,
        "start_time": "2022-07-02T15:57:34.799Z"
      },
      {
        "duration": 26,
        "start_time": "2022-07-02T15:57:34.805Z"
      },
      {
        "duration": 5,
        "start_time": "2022-07-02T15:57:34.834Z"
      },
      {
        "duration": 18,
        "start_time": "2022-07-02T15:57:34.840Z"
      },
      {
        "duration": 7,
        "start_time": "2022-07-02T15:57:34.860Z"
      },
      {
        "duration": 7,
        "start_time": "2022-07-02T15:57:34.868Z"
      },
      {
        "duration": 584,
        "start_time": "2022-07-02T15:57:34.877Z"
      },
      {
        "duration": 3057,
        "start_time": "2022-07-02T15:57:35.463Z"
      },
      {
        "duration": 3,
        "start_time": "2022-07-02T15:57:38.522Z"
      },
      {
        "duration": 2930,
        "start_time": "2022-07-02T15:57:38.529Z"
      },
      {
        "duration": 2,
        "start_time": "2022-07-02T15:57:41.461Z"
      },
      {
        "duration": 615,
        "start_time": "2022-07-02T15:57:41.465Z"
      },
      {
        "duration": 304,
        "start_time": "2022-07-02T15:57:42.082Z"
      },
      {
        "duration": 50,
        "start_time": "2022-07-02T15:57:42.388Z"
      },
      {
        "duration": 1664,
        "start_time": "2022-07-02T15:57:42.440Z"
      },
      {
        "duration": 2,
        "start_time": "2022-07-02T15:57:44.106Z"
      },
      {
        "duration": 4,
        "start_time": "2022-07-02T15:57:44.110Z"
      },
      {
        "duration": 59,
        "start_time": "2022-07-02T15:57:44.116Z"
      },
      {
        "duration": 20,
        "start_time": "2022-07-02T15:57:44.177Z"
      },
      {
        "duration": 2,
        "start_time": "2022-07-02T15:57:44.199Z"
      },
      {
        "duration": 10,
        "start_time": "2022-07-02T15:57:44.205Z"
      },
      {
        "duration": 8,
        "start_time": "2022-07-02T15:57:44.216Z"
      },
      {
        "duration": 6,
        "start_time": "2022-07-02T15:57:44.229Z"
      },
      {
        "duration": 9,
        "start_time": "2022-07-02T15:57:44.236Z"
      },
      {
        "duration": 16,
        "start_time": "2022-07-02T15:57:44.246Z"
      },
      {
        "duration": 4,
        "start_time": "2022-07-02T15:57:44.263Z"
      },
      {
        "duration": 7,
        "start_time": "2022-07-02T15:57:44.268Z"
      },
      {
        "duration": 2560,
        "start_time": "2022-07-02T15:57:44.276Z"
      },
      {
        "duration": 94,
        "start_time": "2022-07-02T15:57:46.838Z"
      },
      {
        "duration": 7,
        "start_time": "2022-07-02T15:57:46.934Z"
      },
      {
        "duration": 50321,
        "start_time": "2022-07-02T15:57:47.028Z"
      },
      {
        "duration": 7,
        "start_time": "2022-07-02T15:58:37.351Z"
      },
      {
        "duration": 16,
        "start_time": "2022-07-02T15:58:37.360Z"
      },
      {
        "duration": 176555,
        "start_time": "2022-07-02T15:58:37.378Z"
      },
      {
        "duration": 4,
        "start_time": "2022-07-02T16:01:33.935Z"
      },
      {
        "duration": 7,
        "start_time": "2022-07-02T16:01:33.940Z"
      },
      {
        "duration": 4155,
        "start_time": "2022-07-02T16:01:33.948Z"
      },
      {
        "duration": 4,
        "start_time": "2022-07-02T16:01:38.105Z"
      },
      {
        "duration": 7,
        "start_time": "2022-07-02T16:01:38.110Z"
      },
      {
        "duration": 12,
        "start_time": "2022-07-02T16:01:38.119Z"
      },
      {
        "duration": 6,
        "start_time": "2022-07-02T16:01:38.132Z"
      },
      {
        "duration": 7,
        "start_time": "2022-07-02T16:01:38.139Z"
      },
      {
        "duration": 7,
        "start_time": "2022-07-02T16:01:38.148Z"
      },
      {
        "duration": 1745,
        "start_time": "2022-07-03T08:53:35.920Z"
      },
      {
        "duration": 1856,
        "start_time": "2022-07-03T08:53:37.667Z"
      },
      {
        "duration": 1548,
        "start_time": "2022-07-03T08:53:39.525Z"
      },
      {
        "duration": 15,
        "start_time": "2022-07-03T08:53:41.075Z"
      },
      {
        "duration": 16,
        "start_time": "2022-07-03T08:53:41.092Z"
      },
      {
        "duration": 5,
        "start_time": "2022-07-03T08:53:41.110Z"
      },
      {
        "duration": 7,
        "start_time": "2022-07-03T08:53:41.116Z"
      },
      {
        "duration": 4,
        "start_time": "2022-07-03T08:53:41.125Z"
      },
      {
        "duration": 18,
        "start_time": "2022-07-03T08:53:41.131Z"
      },
      {
        "duration": 5,
        "start_time": "2022-07-03T08:53:41.152Z"
      },
      {
        "duration": 6,
        "start_time": "2022-07-03T08:53:41.159Z"
      },
      {
        "duration": 5,
        "start_time": "2022-07-03T08:53:41.167Z"
      },
      {
        "duration": 4,
        "start_time": "2022-07-03T08:53:41.174Z"
      },
      {
        "duration": 661,
        "start_time": "2022-07-03T08:53:41.180Z"
      },
      {
        "duration": 3416,
        "start_time": "2022-07-03T08:53:41.843Z"
      },
      {
        "duration": 4,
        "start_time": "2022-07-03T08:53:45.262Z"
      },
      {
        "duration": 3527,
        "start_time": "2022-07-03T08:53:45.268Z"
      },
      {
        "duration": 3,
        "start_time": "2022-07-03T08:53:48.797Z"
      },
      {
        "duration": 616,
        "start_time": "2022-07-03T08:53:48.802Z"
      },
      {
        "duration": 315,
        "start_time": "2022-07-03T08:53:49.420Z"
      },
      {
        "duration": 44,
        "start_time": "2022-07-03T08:53:49.742Z"
      },
      {
        "duration": 1780,
        "start_time": "2022-07-03T08:53:49.788Z"
      },
      {
        "duration": 3,
        "start_time": "2022-07-03T08:53:51.569Z"
      },
      {
        "duration": 7,
        "start_time": "2022-07-03T08:53:51.574Z"
      },
      {
        "duration": 69,
        "start_time": "2022-07-03T08:53:51.582Z"
      },
      {
        "duration": 23,
        "start_time": "2022-07-03T08:53:51.653Z"
      },
      {
        "duration": 3,
        "start_time": "2022-07-03T08:53:51.678Z"
      },
      {
        "duration": 3,
        "start_time": "2022-07-03T08:53:51.685Z"
      },
      {
        "duration": 5,
        "start_time": "2022-07-03T08:53:51.689Z"
      },
      {
        "duration": 7,
        "start_time": "2022-07-03T08:53:51.696Z"
      },
      {
        "duration": 12,
        "start_time": "2022-07-03T08:53:51.705Z"
      },
      {
        "duration": 31,
        "start_time": "2022-07-03T08:53:51.718Z"
      },
      {
        "duration": 4,
        "start_time": "2022-07-03T08:53:51.751Z"
      },
      {
        "duration": 9,
        "start_time": "2022-07-03T08:53:51.756Z"
      },
      {
        "duration": 2275,
        "start_time": "2022-07-03T08:53:51.767Z"
      },
      {
        "duration": 5,
        "start_time": "2022-07-03T08:53:54.043Z"
      },
      {
        "duration": 10,
        "start_time": "2022-07-03T08:53:54.050Z"
      },
      {
        "duration": 56442,
        "start_time": "2022-07-03T08:53:54.061Z"
      },
      {
        "duration": 4,
        "start_time": "2022-07-03T08:54:50.505Z"
      },
      {
        "duration": 78,
        "start_time": "2022-07-03T08:54:50.511Z"
      },
      {
        "duration": 0,
        "start_time": "2022-07-03T08:54:50.590Z"
      },
      {
        "duration": 0,
        "start_time": "2022-07-03T08:54:50.592Z"
      },
      {
        "duration": 0,
        "start_time": "2022-07-03T08:54:50.593Z"
      },
      {
        "duration": 0,
        "start_time": "2022-07-03T08:54:50.594Z"
      },
      {
        "duration": 0,
        "start_time": "2022-07-03T08:54:50.595Z"
      },
      {
        "duration": 0,
        "start_time": "2022-07-03T08:54:50.596Z"
      },
      {
        "duration": 0,
        "start_time": "2022-07-03T08:54:50.597Z"
      },
      {
        "duration": 0,
        "start_time": "2022-07-03T08:54:50.598Z"
      },
      {
        "duration": 0,
        "start_time": "2022-07-03T08:54:50.599Z"
      },
      {
        "duration": 0,
        "start_time": "2022-07-03T08:54:50.600Z"
      },
      {
        "duration": 7,
        "start_time": "2022-07-03T08:55:15.082Z"
      },
      {
        "duration": 418,
        "start_time": "2022-07-03T08:55:15.092Z"
      },
      {
        "duration": 337,
        "start_time": "2022-07-03T08:55:15.512Z"
      },
      {
        "duration": 14,
        "start_time": "2022-07-03T08:55:15.851Z"
      },
      {
        "duration": 9,
        "start_time": "2022-07-03T08:55:15.868Z"
      },
      {
        "duration": 7,
        "start_time": "2022-07-03T08:55:15.879Z"
      },
      {
        "duration": 9,
        "start_time": "2022-07-03T08:55:15.888Z"
      },
      {
        "duration": 5,
        "start_time": "2022-07-03T08:55:15.899Z"
      },
      {
        "duration": 13,
        "start_time": "2022-07-03T08:55:15.906Z"
      },
      {
        "duration": 6,
        "start_time": "2022-07-03T08:55:15.942Z"
      },
      {
        "duration": 8,
        "start_time": "2022-07-03T08:55:15.950Z"
      },
      {
        "duration": 7,
        "start_time": "2022-07-03T08:55:15.959Z"
      },
      {
        "duration": 5,
        "start_time": "2022-07-03T08:55:15.968Z"
      },
      {
        "duration": 659,
        "start_time": "2022-07-03T08:55:15.977Z"
      },
      {
        "duration": 3508,
        "start_time": "2022-07-03T08:55:16.641Z"
      },
      {
        "duration": 3,
        "start_time": "2022-07-03T08:55:20.151Z"
      },
      {
        "duration": 3429,
        "start_time": "2022-07-03T08:55:20.156Z"
      },
      {
        "duration": 4,
        "start_time": "2022-07-03T08:55:23.587Z"
      },
      {
        "duration": 633,
        "start_time": "2022-07-03T08:55:23.592Z"
      },
      {
        "duration": 309,
        "start_time": "2022-07-03T08:55:24.226Z"
      },
      {
        "duration": 41,
        "start_time": "2022-07-03T08:55:24.542Z"
      },
      {
        "duration": 1698,
        "start_time": "2022-07-03T08:55:24.584Z"
      },
      {
        "duration": 3,
        "start_time": "2022-07-03T08:55:26.283Z"
      },
      {
        "duration": 7,
        "start_time": "2022-07-03T08:55:26.288Z"
      },
      {
        "duration": 69,
        "start_time": "2022-07-03T08:55:26.296Z"
      },
      {
        "duration": 24,
        "start_time": "2022-07-03T08:55:26.366Z"
      },
      {
        "duration": 3,
        "start_time": "2022-07-03T08:55:26.392Z"
      },
      {
        "duration": 16,
        "start_time": "2022-07-03T08:55:26.397Z"
      },
      {
        "duration": 9,
        "start_time": "2022-07-03T08:55:26.415Z"
      },
      {
        "duration": 21,
        "start_time": "2022-07-03T08:55:26.425Z"
      },
      {
        "duration": 14,
        "start_time": "2022-07-03T08:55:26.448Z"
      },
      {
        "duration": 31,
        "start_time": "2022-07-03T08:55:26.463Z"
      },
      {
        "duration": 7,
        "start_time": "2022-07-03T08:55:26.496Z"
      },
      {
        "duration": 15,
        "start_time": "2022-07-03T08:55:26.505Z"
      },
      {
        "duration": 3124,
        "start_time": "2022-07-03T08:55:26.522Z"
      },
      {
        "duration": 4,
        "start_time": "2022-07-03T08:55:29.648Z"
      },
      {
        "duration": 10,
        "start_time": "2022-07-03T08:55:29.743Z"
      },
      {
        "duration": 58333,
        "start_time": "2022-07-03T08:55:29.843Z"
      },
      {
        "duration": 6,
        "start_time": "2022-07-03T08:56:28.178Z"
      },
      {
        "duration": 16,
        "start_time": "2022-07-03T08:56:28.185Z"
      },
      {
        "duration": 1509,
        "start_time": "2022-07-03T10:06:02.865Z"
      },
      {
        "duration": 7,
        "start_time": "2022-07-03T10:06:17.569Z"
      },
      {
        "duration": 372,
        "start_time": "2022-07-03T10:06:17.578Z"
      },
      {
        "duration": 312,
        "start_time": "2022-07-03T10:06:17.951Z"
      },
      {
        "duration": 13,
        "start_time": "2022-07-03T10:06:18.264Z"
      },
      {
        "duration": 12,
        "start_time": "2022-07-03T10:06:18.280Z"
      },
      {
        "duration": 5,
        "start_time": "2022-07-03T10:06:18.293Z"
      },
      {
        "duration": 5,
        "start_time": "2022-07-03T10:06:18.300Z"
      },
      {
        "duration": 3,
        "start_time": "2022-07-03T10:06:18.306Z"
      },
      {
        "duration": 41,
        "start_time": "2022-07-03T10:06:18.310Z"
      },
      {
        "duration": 5,
        "start_time": "2022-07-03T10:06:18.352Z"
      },
      {
        "duration": 6,
        "start_time": "2022-07-03T10:06:18.359Z"
      },
      {
        "duration": 5,
        "start_time": "2022-07-03T10:06:18.366Z"
      },
      {
        "duration": 4,
        "start_time": "2022-07-03T10:06:18.373Z"
      },
      {
        "duration": 634,
        "start_time": "2022-07-03T10:06:18.380Z"
      },
      {
        "duration": 3352,
        "start_time": "2022-07-03T10:06:19.016Z"
      },
      {
        "duration": 4,
        "start_time": "2022-07-03T10:06:22.369Z"
      },
      {
        "duration": 4482,
        "start_time": "2022-07-03T10:06:22.375Z"
      },
      {
        "duration": 3,
        "start_time": "2022-07-03T10:06:26.860Z"
      },
      {
        "duration": 560,
        "start_time": "2022-07-03T10:06:26.866Z"
      },
      {
        "duration": 384,
        "start_time": "2022-07-03T10:06:27.427Z"
      },
      {
        "duration": 54,
        "start_time": "2022-07-03T10:06:27.813Z"
      },
      {
        "duration": 1705,
        "start_time": "2022-07-03T10:06:27.869Z"
      },
      {
        "duration": 3,
        "start_time": "2022-07-03T10:06:29.576Z"
      },
      {
        "duration": 6,
        "start_time": "2022-07-03T10:06:29.580Z"
      },
      {
        "duration": 74,
        "start_time": "2022-07-03T10:06:29.587Z"
      },
      {
        "duration": 26,
        "start_time": "2022-07-03T10:06:29.664Z"
      },
      {
        "duration": 4,
        "start_time": "2022-07-03T10:06:29.692Z"
      },
      {
        "duration": 7,
        "start_time": "2022-07-03T10:06:29.697Z"
      },
      {
        "duration": 5,
        "start_time": "2022-07-03T10:06:29.706Z"
      },
      {
        "duration": 5,
        "start_time": "2022-07-03T10:06:29.712Z"
      },
      {
        "duration": 23,
        "start_time": "2022-07-03T10:06:29.719Z"
      },
      {
        "duration": 16,
        "start_time": "2022-07-03T10:06:29.744Z"
      },
      {
        "duration": 4,
        "start_time": "2022-07-03T10:06:29.762Z"
      },
      {
        "duration": 7,
        "start_time": "2022-07-03T10:06:29.768Z"
      },
      {
        "duration": 2668,
        "start_time": "2022-07-03T10:06:29.777Z"
      },
      {
        "duration": 94,
        "start_time": "2022-07-03T10:06:32.449Z"
      },
      {
        "duration": 9,
        "start_time": "2022-07-03T10:06:32.546Z"
      },
      {
        "duration": 57235,
        "start_time": "2022-07-03T10:06:32.557Z"
      },
      {
        "duration": 6,
        "start_time": "2022-07-03T10:07:29.794Z"
      },
      {
        "duration": 10,
        "start_time": "2022-07-03T10:07:29.801Z"
      },
      {
        "duration": 101,
        "start_time": "2022-07-03T10:07:29.814Z"
      },
      {
        "duration": 0,
        "start_time": "2022-07-03T10:07:29.917Z"
      },
      {
        "duration": 0,
        "start_time": "2022-07-03T10:07:29.918Z"
      },
      {
        "duration": 0,
        "start_time": "2022-07-03T10:07:29.919Z"
      },
      {
        "duration": 0,
        "start_time": "2022-07-03T10:07:29.920Z"
      },
      {
        "duration": 0,
        "start_time": "2022-07-03T10:07:29.921Z"
      },
      {
        "duration": 0,
        "start_time": "2022-07-03T10:07:29.923Z"
      },
      {
        "duration": 0,
        "start_time": "2022-07-03T10:07:29.924Z"
      },
      {
        "duration": 0,
        "start_time": "2022-07-03T10:07:29.925Z"
      },
      {
        "duration": 0,
        "start_time": "2022-07-03T10:07:29.926Z"
      },
      {
        "duration": 0,
        "start_time": "2022-07-03T10:07:29.927Z"
      },
      {
        "duration": 0,
        "start_time": "2022-07-03T10:07:29.928Z"
      },
      {
        "duration": 1820,
        "start_time": "2022-08-22T09:07:31.729Z"
      },
      {
        "duration": 642,
        "start_time": "2022-08-22T09:07:33.552Z"
      },
      {
        "duration": 1401,
        "start_time": "2022-08-22T09:07:34.196Z"
      },
      {
        "duration": 17,
        "start_time": "2022-08-22T09:07:35.600Z"
      },
      {
        "duration": 23,
        "start_time": "2022-08-22T09:07:35.619Z"
      },
      {
        "duration": 8,
        "start_time": "2022-08-22T09:07:35.644Z"
      },
      {
        "duration": 13,
        "start_time": "2022-08-22T09:07:35.654Z"
      },
      {
        "duration": 6,
        "start_time": "2022-08-22T09:07:35.670Z"
      },
      {
        "duration": 22,
        "start_time": "2022-08-22T09:07:35.678Z"
      },
      {
        "duration": 6,
        "start_time": "2022-08-22T09:07:35.705Z"
      },
      {
        "duration": 10,
        "start_time": "2022-08-22T09:07:35.712Z"
      },
      {
        "duration": 4,
        "start_time": "2022-08-22T09:07:35.724Z"
      },
      {
        "duration": 5,
        "start_time": "2022-08-22T09:07:35.730Z"
      },
      {
        "duration": 762,
        "start_time": "2022-08-22T09:07:35.737Z"
      },
      {
        "duration": 3836,
        "start_time": "2022-08-22T09:07:36.501Z"
      },
      {
        "duration": 4,
        "start_time": "2022-08-22T09:07:40.339Z"
      },
      {
        "duration": 3860,
        "start_time": "2022-08-22T09:07:40.345Z"
      },
      {
        "duration": 3,
        "start_time": "2022-08-22T09:07:44.207Z"
      },
      {
        "duration": 667,
        "start_time": "2022-08-22T09:07:44.212Z"
      },
      {
        "duration": 410,
        "start_time": "2022-08-22T09:07:44.881Z"
      },
      {
        "duration": 46,
        "start_time": "2022-08-22T09:07:45.293Z"
      },
      {
        "duration": 1720,
        "start_time": "2022-08-22T09:07:45.341Z"
      },
      {
        "duration": 2,
        "start_time": "2022-08-22T09:07:47.063Z"
      },
      {
        "duration": 16,
        "start_time": "2022-08-22T09:07:47.067Z"
      },
      {
        "duration": 88,
        "start_time": "2022-08-22T09:07:47.085Z"
      },
      {
        "duration": 35,
        "start_time": "2022-08-22T09:07:47.175Z"
      },
      {
        "duration": 3,
        "start_time": "2022-08-22T09:07:47.212Z"
      },
      {
        "duration": 19,
        "start_time": "2022-08-22T09:07:47.219Z"
      },
      {
        "duration": 17,
        "start_time": "2022-08-22T09:07:47.240Z"
      },
      {
        "duration": 25,
        "start_time": "2022-08-22T09:07:47.258Z"
      },
      {
        "duration": 26,
        "start_time": "2022-08-22T09:07:47.285Z"
      },
      {
        "duration": 31,
        "start_time": "2022-08-22T09:07:47.312Z"
      },
      {
        "duration": 11,
        "start_time": "2022-08-22T09:07:47.345Z"
      },
      {
        "duration": 32,
        "start_time": "2022-08-22T09:07:47.357Z"
      },
      {
        "duration": 3307,
        "start_time": "2022-08-22T09:07:47.390Z"
      },
      {
        "duration": 7,
        "start_time": "2022-08-22T09:07:50.700Z"
      },
      {
        "duration": 84,
        "start_time": "2022-08-22T09:07:50.710Z"
      },
      {
        "duration": 62510,
        "start_time": "2022-08-22T09:07:50.796Z"
      },
      {
        "duration": 6,
        "start_time": "2022-08-22T09:08:53.308Z"
      },
      {
        "duration": 16,
        "start_time": "2022-08-22T09:08:53.315Z"
      },
      {
        "duration": 7,
        "start_time": "2022-08-22T10:33:36.699Z"
      },
      {
        "duration": 470,
        "start_time": "2022-08-22T10:33:36.709Z"
      },
      {
        "duration": 354,
        "start_time": "2022-08-22T10:33:37.182Z"
      },
      {
        "duration": 17,
        "start_time": "2022-08-22T10:33:37.538Z"
      },
      {
        "duration": 16,
        "start_time": "2022-08-22T10:33:37.557Z"
      },
      {
        "duration": 18,
        "start_time": "2022-08-22T10:33:37.575Z"
      },
      {
        "duration": 6,
        "start_time": "2022-08-22T10:33:37.594Z"
      },
      {
        "duration": 11,
        "start_time": "2022-08-22T10:33:37.601Z"
      },
      {
        "duration": 14,
        "start_time": "2022-08-22T10:33:37.613Z"
      },
      {
        "duration": 6,
        "start_time": "2022-08-22T10:33:37.628Z"
      },
      {
        "duration": 7,
        "start_time": "2022-08-22T10:33:37.637Z"
      },
      {
        "duration": 7,
        "start_time": "2022-08-22T10:33:37.646Z"
      },
      {
        "duration": 8,
        "start_time": "2022-08-22T10:33:37.655Z"
      },
      {
        "duration": 918,
        "start_time": "2022-08-22T10:33:37.664Z"
      },
      {
        "duration": 3534,
        "start_time": "2022-08-22T10:33:38.584Z"
      },
      {
        "duration": 4,
        "start_time": "2022-08-22T10:33:42.120Z"
      },
      {
        "duration": 3626,
        "start_time": "2022-08-22T10:33:42.126Z"
      },
      {
        "duration": 4,
        "start_time": "2022-08-22T10:33:45.754Z"
      },
      {
        "duration": 744,
        "start_time": "2022-08-22T10:33:45.759Z"
      },
      {
        "duration": 420,
        "start_time": "2022-08-22T10:33:46.505Z"
      },
      {
        "duration": 49,
        "start_time": "2022-08-22T10:33:46.928Z"
      },
      {
        "duration": 2081,
        "start_time": "2022-08-22T10:33:46.979Z"
      },
      {
        "duration": 3,
        "start_time": "2022-08-22T10:33:49.063Z"
      },
      {
        "duration": 12,
        "start_time": "2022-08-22T10:33:49.067Z"
      },
      {
        "duration": 78,
        "start_time": "2022-08-22T10:33:49.081Z"
      },
      {
        "duration": 21,
        "start_time": "2022-08-22T10:33:49.161Z"
      },
      {
        "duration": 4,
        "start_time": "2022-08-22T10:33:49.192Z"
      },
      {
        "duration": 7,
        "start_time": "2022-08-22T10:33:49.197Z"
      },
      {
        "duration": 3,
        "start_time": "2022-08-22T10:33:49.207Z"
      },
      {
        "duration": 5,
        "start_time": "2022-08-22T10:33:49.212Z"
      },
      {
        "duration": 8,
        "start_time": "2022-08-22T10:33:49.219Z"
      },
      {
        "duration": 17,
        "start_time": "2022-08-22T10:33:49.229Z"
      },
      {
        "duration": 7,
        "start_time": "2022-08-22T10:33:49.248Z"
      },
      {
        "duration": 8,
        "start_time": "2022-08-22T10:33:49.256Z"
      },
      {
        "duration": 3333,
        "start_time": "2022-08-22T10:33:49.266Z"
      },
      {
        "duration": 88,
        "start_time": "2022-08-22T10:33:52.607Z"
      },
      {
        "duration": 94,
        "start_time": "2022-08-22T10:33:52.698Z"
      },
      {
        "duration": 62009,
        "start_time": "2022-08-22T10:33:52.794Z"
      },
      {
        "duration": 6,
        "start_time": "2022-08-22T10:34:54.805Z"
      },
      {
        "duration": 21,
        "start_time": "2022-08-22T10:34:54.812Z"
      },
      {
        "duration": 0,
        "start_time": "2022-08-22T11:42:55.105Z"
      },
      {
        "duration": 0,
        "start_time": "2022-08-22T11:42:55.106Z"
      },
      {
        "duration": 0,
        "start_time": "2022-08-22T11:42:55.108Z"
      },
      {
        "duration": 0,
        "start_time": "2022-08-22T11:42:55.109Z"
      },
      {
        "duration": 0,
        "start_time": "2022-08-22T11:42:55.111Z"
      },
      {
        "duration": 0,
        "start_time": "2022-08-22T11:42:55.112Z"
      },
      {
        "duration": 0,
        "start_time": "2022-08-22T11:42:55.113Z"
      },
      {
        "duration": 0,
        "start_time": "2022-08-22T11:42:55.114Z"
      },
      {
        "duration": 0,
        "start_time": "2022-08-22T11:42:55.115Z"
      },
      {
        "duration": 0,
        "start_time": "2022-08-22T11:42:55.116Z"
      },
      {
        "duration": 0,
        "start_time": "2022-08-22T11:42:55.117Z"
      },
      {
        "duration": 0,
        "start_time": "2022-08-22T11:42:55.119Z"
      },
      {
        "duration": 0,
        "start_time": "2022-08-22T11:42:55.120Z"
      },
      {
        "duration": 0,
        "start_time": "2022-08-22T11:42:55.121Z"
      },
      {
        "duration": 0,
        "start_time": "2022-08-22T11:42:55.122Z"
      },
      {
        "duration": 0,
        "start_time": "2022-08-22T11:42:55.123Z"
      },
      {
        "duration": 0,
        "start_time": "2022-08-22T11:42:55.124Z"
      },
      {
        "duration": 0,
        "start_time": "2022-08-22T11:42:55.126Z"
      },
      {
        "duration": 0,
        "start_time": "2022-08-22T11:42:55.127Z"
      },
      {
        "duration": 0,
        "start_time": "2022-08-22T11:42:55.128Z"
      },
      {
        "duration": 0,
        "start_time": "2022-08-22T11:42:55.129Z"
      },
      {
        "duration": 0,
        "start_time": "2022-08-22T11:42:55.131Z"
      },
      {
        "duration": 0,
        "start_time": "2022-08-22T11:42:55.132Z"
      },
      {
        "duration": 0,
        "start_time": "2022-08-22T11:42:55.133Z"
      },
      {
        "duration": 0,
        "start_time": "2022-08-22T11:42:55.134Z"
      },
      {
        "duration": 0,
        "start_time": "2022-08-22T11:42:55.191Z"
      },
      {
        "duration": 0,
        "start_time": "2022-08-22T11:42:55.192Z"
      },
      {
        "duration": 0,
        "start_time": "2022-08-22T11:42:55.195Z"
      },
      {
        "duration": 0,
        "start_time": "2022-08-22T11:42:55.196Z"
      },
      {
        "duration": 0,
        "start_time": "2022-08-22T11:42:55.197Z"
      },
      {
        "duration": 0,
        "start_time": "2022-08-22T11:42:55.203Z"
      },
      {
        "duration": 0,
        "start_time": "2022-08-22T11:42:55.204Z"
      },
      {
        "duration": 0,
        "start_time": "2022-08-22T11:42:55.206Z"
      },
      {
        "duration": 0,
        "start_time": "2022-08-22T11:42:55.208Z"
      },
      {
        "duration": 0,
        "start_time": "2022-08-22T11:42:55.210Z"
      },
      {
        "duration": 0,
        "start_time": "2022-08-22T11:42:55.211Z"
      },
      {
        "duration": 0,
        "start_time": "2022-08-22T11:42:55.212Z"
      },
      {
        "duration": 1,
        "start_time": "2022-08-22T11:42:55.214Z"
      },
      {
        "duration": 0,
        "start_time": "2022-08-22T11:42:55.216Z"
      },
      {
        "duration": 0,
        "start_time": "2022-08-22T11:42:55.217Z"
      },
      {
        "duration": 0,
        "start_time": "2022-08-22T11:42:55.218Z"
      },
      {
        "duration": 0,
        "start_time": "2022-08-22T11:42:55.220Z"
      },
      {
        "duration": 0,
        "start_time": "2022-08-22T11:42:55.222Z"
      },
      {
        "duration": 0,
        "start_time": "2022-08-22T11:42:55.223Z"
      },
      {
        "duration": 0,
        "start_time": "2022-08-22T11:42:55.224Z"
      },
      {
        "duration": 0,
        "start_time": "2022-08-22T11:42:55.226Z"
      },
      {
        "duration": 0,
        "start_time": "2022-08-22T11:42:55.227Z"
      },
      {
        "duration": 0,
        "start_time": "2022-08-22T11:42:55.229Z"
      },
      {
        "duration": 0,
        "start_time": "2022-08-22T11:42:55.231Z"
      },
      {
        "duration": 0,
        "start_time": "2022-08-22T11:42:55.232Z"
      },
      {
        "duration": 6,
        "start_time": "2022-08-22T11:42:58.575Z"
      },
      {
        "duration": 453,
        "start_time": "2022-08-22T11:42:58.583Z"
      },
      {
        "duration": 369,
        "start_time": "2022-08-22T11:42:59.038Z"
      },
      {
        "duration": 18,
        "start_time": "2022-08-22T11:42:59.409Z"
      },
      {
        "duration": 16,
        "start_time": "2022-08-22T11:42:59.430Z"
      },
      {
        "duration": 11,
        "start_time": "2022-08-22T11:42:59.447Z"
      },
      {
        "duration": 16,
        "start_time": "2022-08-22T11:42:59.459Z"
      },
      {
        "duration": 26,
        "start_time": "2022-08-22T11:42:59.477Z"
      },
      {
        "duration": 16,
        "start_time": "2022-08-22T11:42:59.505Z"
      },
      {
        "duration": 8,
        "start_time": "2022-08-22T11:42:59.523Z"
      },
      {
        "duration": 6,
        "start_time": "2022-08-22T11:42:59.534Z"
      },
      {
        "duration": 5,
        "start_time": "2022-08-22T11:42:59.542Z"
      },
      {
        "duration": 6,
        "start_time": "2022-08-22T11:42:59.548Z"
      },
      {
        "duration": 680,
        "start_time": "2022-08-22T11:42:59.555Z"
      },
      {
        "duration": 3609,
        "start_time": "2022-08-22T11:43:00.237Z"
      },
      {
        "duration": 4,
        "start_time": "2022-08-22T11:43:03.847Z"
      },
      {
        "duration": 3757,
        "start_time": "2022-08-22T11:43:03.852Z"
      },
      {
        "duration": 5,
        "start_time": "2022-08-22T11:43:07.611Z"
      },
      {
        "duration": 677,
        "start_time": "2022-08-22T11:43:07.617Z"
      },
      {
        "duration": 381,
        "start_time": "2022-08-22T11:43:08.296Z"
      },
      {
        "duration": 59,
        "start_time": "2022-08-22T11:43:08.680Z"
      },
      {
        "duration": 1847,
        "start_time": "2022-08-22T11:43:08.741Z"
      },
      {
        "duration": 5,
        "start_time": "2022-08-22T11:43:10.590Z"
      },
      {
        "duration": 6,
        "start_time": "2022-08-22T11:43:10.608Z"
      },
      {
        "duration": 70,
        "start_time": "2022-08-22T11:43:10.615Z"
      },
      {
        "duration": 17,
        "start_time": "2022-08-22T11:43:10.699Z"
      },
      {
        "duration": 3,
        "start_time": "2022-08-22T11:43:10.718Z"
      },
      {
        "duration": 9,
        "start_time": "2022-08-22T11:43:10.723Z"
      },
      {
        "duration": 9,
        "start_time": "2022-08-22T11:43:10.736Z"
      },
      {
        "duration": 5,
        "start_time": "2022-08-22T11:43:10.747Z"
      },
      {
        "duration": 8,
        "start_time": "2022-08-22T11:43:10.754Z"
      },
      {
        "duration": 25,
        "start_time": "2022-08-22T11:43:10.763Z"
      },
      {
        "duration": 13,
        "start_time": "2022-08-22T11:43:10.790Z"
      },
      {
        "duration": 10,
        "start_time": "2022-08-22T11:43:10.805Z"
      },
      {
        "duration": 4292,
        "start_time": "2022-08-22T11:43:10.818Z"
      },
      {
        "duration": 18,
        "start_time": "2022-08-22T11:43:15.193Z"
      },
      {
        "duration": 81,
        "start_time": "2022-08-22T11:43:15.215Z"
      },
      {
        "duration": 65022,
        "start_time": "2022-08-22T11:43:15.300Z"
      },
      {
        "duration": 5,
        "start_time": "2022-08-22T11:44:20.324Z"
      },
      {
        "duration": 15,
        "start_time": "2022-08-22T11:44:20.331Z"
      },
      {
        "duration": 2982235,
        "start_time": "2022-08-22T11:44:20.348Z"
      },
      {
        "duration": 11,
        "start_time": "2022-08-22T12:34:02.584Z"
      },
      {
        "duration": 7,
        "start_time": "2022-08-22T12:34:02.603Z"
      },
      {
        "duration": 5159,
        "start_time": "2022-08-22T12:34:02.611Z"
      },
      {
        "duration": 4,
        "start_time": "2022-08-22T12:34:07.772Z"
      },
      {
        "duration": 20,
        "start_time": "2022-08-22T12:34:07.778Z"
      },
      {
        "duration": 7,
        "start_time": "2022-08-22T12:34:07.800Z"
      },
      {
        "duration": 8,
        "start_time": "2022-08-22T12:34:07.809Z"
      },
      {
        "duration": 7,
        "start_time": "2022-08-22T12:34:07.819Z"
      },
      {
        "duration": 7,
        "start_time": "2022-08-22T12:34:07.828Z"
      }
    ],
    "kernelspec": {
      "display_name": "Python 3 (ipykernel)",
      "language": "python",
      "name": "python3"
    },
    "language_info": {
      "codemirror_mode": {
        "name": "ipython",
        "version": 3
      },
      "file_extension": ".py",
      "mimetype": "text/x-python",
      "name": "python",
      "nbconvert_exporter": "python",
      "pygments_lexer": "ipython3",
      "version": "3.9.5"
    },
    "toc": {
      "base_numbering": 1,
      "nav_menu": {},
      "number_sections": true,
      "sideBar": true,
      "skip_h1_title": true,
      "title_cell": "Содержание",
      "title_sidebar": "Contents",
      "toc_cell": true,
      "toc_position": {
        "height": "calc(100% - 180px)",
        "left": "10px",
        "top": "150px",
        "width": "366.375px"
      },
      "toc_section_display": true,
      "toc_window_display": true
    },
    "colab": {
      "provenance": []
    }
  },
  "nbformat": 4,
  "nbformat_minor": 0
}