{
  "cells": [
    {
      "cell_type": "markdown",
      "metadata": {
        "id": "zDj80WPO84ce"
      },
      "source": [
        "# Рекомендация тарифов"
      ]
    },
    {
      "cell_type": "markdown",
      "metadata": {
        "id": "dDS_ouZw84cf"
      },
      "source": [
        "В вашем распоряжении данные о поведении клиентов, которые уже перешли на эти тарифы (из проекта курса «Статистический анализ данных»). Нужно построить модель для задачи классификации, которая выберет подходящий тариф. Предобработка данных не понадобится — вы её уже сделали.\n",
        "\n",
        "Постройте модель с максимально большим значением *accuracy*. Чтобы сдать проект успешно, нужно довести долю правильных ответов по крайней мере до 0.75. Проверьте *accuracy* на тестовой выборке самостоятельно."
      ]
    },
    {
      "cell_type": "markdown",
      "metadata": {
        "id": "BGBMgufs84cf"
      },
      "source": [
        "## Откройте и изучите файл"
      ]
    },
    {
      "cell_type": "code",
      "execution_count": null,
      "metadata": {
        "id": "8ZMUjsWp84cg"
      },
      "outputs": [],
      "source": [
        "import pandas as pd\n",
        "from sklearn.tree import DecisionTreeClassifier\n",
        "from sklearn.metrics import accuracy_score \n",
        "from sklearn.model_selection import train_test_split \n",
        "from sklearn.ensemble import RandomForestClassifier\n",
        "from sklearn.linear_model import LogisticRegression \n",
        "from sklearn.metrics import mean_squared_error\n",
        "from sklearn.metrics import f1_score\n",
        "from sklearn.metrics import recall_score\n",
        "from sklearn.metrics import precision_score\n",
        "from sklearn.dummy import DummyClassifier"
      ]
    },
    {
      "cell_type": "code",
      "execution_count": null,
      "metadata": {
        "id": "Wp3QerWq84ck"
      },
      "outputs": [],
      "source": [
        "df = pd.read_csv('/datasets/users_behavior.csv')"
      ]
    },
    {
      "cell_type": "code",
      "execution_count": null,
      "metadata": {
        "id": "Eg5SW5D184cl",
        "outputId": "db75f73d-a1e9-49a4-9796-aed98c7ea105"
      },
      "outputs": [
        {
          "name": "stdout",
          "output_type": "stream",
          "text": [
            "<class 'pandas.core.frame.DataFrame'>\n",
            "RangeIndex: 3214 entries, 0 to 3213\n",
            "Data columns (total 5 columns):\n",
            " #   Column    Non-Null Count  Dtype  \n",
            "---  ------    --------------  -----  \n",
            " 0   calls     3214 non-null   float64\n",
            " 1   minutes   3214 non-null   float64\n",
            " 2   messages  3214 non-null   float64\n",
            " 3   mb_used   3214 non-null   float64\n",
            " 4   is_ultra  3214 non-null   int64  \n",
            "dtypes: float64(4), int64(1)\n",
            "memory usage: 125.7 KB\n"
          ]
        }
      ],
      "source": [
        "df.info()"
      ]
    },
    {
      "cell_type": "code",
      "execution_count": null,
      "metadata": {
        "id": "j2LqqX6W84cn",
        "outputId": "4014438f-7799-46a1-86ff-6b2fde65cf0e"
      },
      "outputs": [
        {
          "data": {
            "text/html": [
              "<div>\n",
              "<style scoped>\n",
              "    .dataframe tbody tr th:only-of-type {\n",
              "        vertical-align: middle;\n",
              "    }\n",
              "\n",
              "    .dataframe tbody tr th {\n",
              "        vertical-align: top;\n",
              "    }\n",
              "\n",
              "    .dataframe thead th {\n",
              "        text-align: right;\n",
              "    }\n",
              "</style>\n",
              "<table border=\"1\" class=\"dataframe\">\n",
              "  <thead>\n",
              "    <tr style=\"text-align: right;\">\n",
              "      <th></th>\n",
              "      <th>calls</th>\n",
              "      <th>minutes</th>\n",
              "      <th>messages</th>\n",
              "      <th>mb_used</th>\n",
              "      <th>is_ultra</th>\n",
              "    </tr>\n",
              "  </thead>\n",
              "  <tbody>\n",
              "    <tr>\n",
              "      <th>0</th>\n",
              "      <td>40.0</td>\n",
              "      <td>311.90</td>\n",
              "      <td>83.0</td>\n",
              "      <td>19915.42</td>\n",
              "      <td>0</td>\n",
              "    </tr>\n",
              "    <tr>\n",
              "      <th>1</th>\n",
              "      <td>85.0</td>\n",
              "      <td>516.75</td>\n",
              "      <td>56.0</td>\n",
              "      <td>22696.96</td>\n",
              "      <td>0</td>\n",
              "    </tr>\n",
              "    <tr>\n",
              "      <th>2</th>\n",
              "      <td>77.0</td>\n",
              "      <td>467.66</td>\n",
              "      <td>86.0</td>\n",
              "      <td>21060.45</td>\n",
              "      <td>0</td>\n",
              "    </tr>\n",
              "    <tr>\n",
              "      <th>3</th>\n",
              "      <td>106.0</td>\n",
              "      <td>745.53</td>\n",
              "      <td>81.0</td>\n",
              "      <td>8437.39</td>\n",
              "      <td>1</td>\n",
              "    </tr>\n",
              "    <tr>\n",
              "      <th>4</th>\n",
              "      <td>66.0</td>\n",
              "      <td>418.74</td>\n",
              "      <td>1.0</td>\n",
              "      <td>14502.75</td>\n",
              "      <td>0</td>\n",
              "    </tr>\n",
              "  </tbody>\n",
              "</table>\n",
              "</div>"
            ],
            "text/plain": [
              "   calls  minutes  messages   mb_used  is_ultra\n",
              "0   40.0   311.90      83.0  19915.42         0\n",
              "1   85.0   516.75      56.0  22696.96         0\n",
              "2   77.0   467.66      86.0  21060.45         0\n",
              "3  106.0   745.53      81.0   8437.39         1\n",
              "4   66.0   418.74       1.0  14502.75         0"
            ]
          },
          "execution_count": 32,
          "metadata": {},
          "output_type": "execute_result"
        }
      ],
      "source": [
        "df.head()"
      ]
    },
    {
      "cell_type": "code",
      "execution_count": null,
      "metadata": {
        "id": "GBFL7do784cp",
        "outputId": "230e586f-14c0-4512-cd00-3cdeb599c1c4"
      },
      "outputs": [
        {
          "data": {
            "text/plain": [
              "0    2229\n",
              "1     985\n",
              "Name: is_ultra, dtype: int64"
            ]
          },
          "execution_count": 33,
          "metadata": {},
          "output_type": "execute_result"
        }
      ],
      "source": [
        "df.is_ultra.value_counts( )"
      ]
    },
    {
      "cell_type": "markdown",
      "metadata": {
        "id": "3N1tvj5C84cr"
      },
      "source": [
        "## Разбейте данные на выборки"
      ]
    },
    {
      "cell_type": "code",
      "execution_count": null,
      "metadata": {
        "id": "-XTb7HOn84cr"
      },
      "outputs": [],
      "source": [
        "df_train, df_test = train_test_split(df, test_size=0.20, random_state=12345)"
      ]
    },
    {
      "cell_type": "code",
      "execution_count": null,
      "metadata": {
        "id": "suGMKYVJ84cs"
      },
      "outputs": [],
      "source": [
        "df_train,df_valid = train_test_split(df, test_size=0.20, random_state=12345)"
      ]
    },
    {
      "cell_type": "markdown",
      "metadata": {
        "id": "zUFwaemA84cu"
      },
      "source": [
        "## Исследуйте модели"
      ]
    },
    {
      "cell_type": "markdown",
      "metadata": {
        "id": "nhYQl5_I84cu"
      },
      "source": [
        "Ошибки"
      ]
    },
    {
      "cell_type": "code",
      "execution_count": null,
      "metadata": {
        "id": "tPHvmQ3i84cv"
      },
      "outputs": [],
      "source": [
        "def error_count(answers, predictions):\n",
        "    count = 0\n",
        "    for i in range(len(answers)):\n",
        "        if answers[i] != predictions[i]:\n",
        "            count += 1\n",
        "    return count"
      ]
    },
    {
      "cell_type": "markdown",
      "metadata": {
        "id": "5k71p4fk84cw"
      },
      "source": [
        "Точность"
      ]
    },
    {
      "cell_type": "code",
      "execution_count": null,
      "metadata": {
        "id": "RIEbKkzj84cx"
      },
      "outputs": [],
      "source": [
        "def accuracy(answers, predictions):\n",
        "    accur = 0\n",
        "    for i in range(len(answers)):\n",
        "        if answers[i] != predictions[i]:\n",
        "            accur += 1\n",
        "    accur = (len(answers) - accur) / len(answers)\n",
        "    return accur"
      ]
    },
    {
      "cell_type": "markdown",
      "metadata": {
        "id": "zU2g9hEM84cz"
      },
      "source": [
        "### Классификатор дерева решений (DecisionTreeClassifier)"
      ]
    },
    {
      "cell_type": "markdown",
      "metadata": {
        "id": "X_bouxNt84cz"
      },
      "source": [
        "Определим признаки и цель"
      ]
    },
    {
      "cell_type": "code",
      "execution_count": null,
      "metadata": {
        "id": "MLnk7p2784c0"
      },
      "outputs": [],
      "source": [
        "#Обучающаяся\n",
        "features_train = df_train.drop(['is_ultra'], axis=1)\n",
        "target_train = df_train['is_ultra']\n",
        "#Тестовая\n",
        "features_test = df_test.drop(['is_ultra'], axis=1)\n",
        "target_test = df_test['is_ultra']\n",
        "#Валидная\n",
        "features_valid = df_valid.drop(['is_ultra'], axis=1)\n",
        "target_valid = df_valid['is_ultra']\n"
      ]
    },
    {
      "cell_type": "markdown",
      "metadata": {
        "id": "VkZe_DXq84c1"
      },
      "source": [
        "Тренеруем модель"
      ]
    },
    {
      "cell_type": "code",
      "execution_count": null,
      "metadata": {
        "scrolled": true,
        "id": "sfWcBQnB84c1",
        "outputId": "718987e6-ffe3-44c0-aa29-039aa3a97dd2"
      },
      "outputs": [
        {
          "data": {
            "text/plain": [
              "DecisionTreeClassifier(random_state=12345)"
            ]
          },
          "execution_count": 39,
          "metadata": {},
          "output_type": "execute_result"
        }
      ],
      "source": [
        "model = DecisionTreeClassifier(random_state=12345)\n",
        "model.fit(features_train, target_train)"
      ]
    },
    {
      "cell_type": "markdown",
      "metadata": {
        "id": "pXBc3YJh84c2"
      },
      "source": [
        "### Проверьте модель на тестовой выборке"
      ]
    },
    {
      "cell_type": "code",
      "execution_count": null,
      "metadata": {
        "id": "U48wzQlK84c2"
      },
      "outputs": [],
      "source": [
        "test = model.predict(features_test)"
      ]
    },
    {
      "cell_type": "code",
      "execution_count": null,
      "metadata": {
        "id": "HO2ZCu6F84c3",
        "outputId": "fde69768-7003-490c-f3c5-be57d6b878d1"
      },
      "outputs": [
        {
          "name": "stdout",
          "output_type": "stream",
          "text": [
            "Ошибок: 181\n",
            "Accuracy: 0.71850699844479\n"
          ]
        }
      ],
      "source": [
        "print(\"Ошибок:\", error_count(target_test.values, test))\n",
        "print(\"Accuracy:\", accuracy(target_test.values, test))"
      ]
    },
    {
      "cell_type": "markdown",
      "metadata": {
        "id": "31P9LDSK84c3"
      },
      "source": [
        "На тестовой модели 181 ошибка. Нужно протестировать с разной глубиной depth"
      ]
    },
    {
      "cell_type": "code",
      "execution_count": null,
      "metadata": {
        "scrolled": true,
        "id": "UiADwnMj84c4",
        "outputId": "99918c1f-7e89-447a-ed23-f0763f415382"
      },
      "outputs": [
        {
          "name": "stdout",
          "output_type": "stream",
          "text": [
            "Accuracy лучшей модели: 0.8144690781796966 глубина: 5\n"
          ]
        }
      ],
      "source": [
        "best_model = None\n",
        "best_result = 0\n",
        "depth = None\n",
        "for depth in range(1, 6):\n",
        "    model = DecisionTreeClassifier(random_state=12345, max_depth=depth) # обучите модель с заданной глубиной дерева\n",
        "    model.fit(features_train,target_train) # обучите модель\n",
        "    predictions = model.predict(features_train) # получите предсказания модели\n",
        "    result = accuracy_score(target_train, predictions) # посчитайте качество модели\n",
        "    if result > best_result:\n",
        "        best_model = model\n",
        "        best_result = result\n",
        "        dep = depth\n",
        "print(\"Accuracy лучшей модели:\", best_result,'глубина:',depth)\n"
      ]
    },
    {
      "cell_type": "markdown",
      "metadata": {
        "id": "YOFV6AnP84c5"
      },
      "source": [
        "Лучшая модель на тестовой выборке на 5 глубине."
      ]
    },
    {
      "cell_type": "markdown",
      "metadata": {
        "id": "C0YNDTOV84c5"
      },
      "source": [
        "### Валидация"
      ]
    },
    {
      "cell_type": "code",
      "execution_count": null,
      "metadata": {
        "id": "xJDToLN184c5",
        "outputId": "9d9c8dd8-6c09-41a8-d4dc-d45c81e4f2cb"
      },
      "outputs": [
        {
          "name": "stdout",
          "output_type": "stream",
          "text": [
            "Accuracy лучшей модели: 0.8444790046656299 глубина: 5\n",
            "RMSE: 0.3943615033625495\n"
          ]
        }
      ],
      "source": [
        "best_model = None\n",
        "best_result = 0\n",
        "best_rmse = 1000\n",
        "depth = None\n",
        "for depth in range(1, 6):\n",
        "    model = DecisionTreeClassifier(random_state=12345, max_depth=depth) # обучите модель с заданной глубиной дерева\n",
        "    model.fit(features_valid,target_valid) # обучите модель\n",
        "    predictions_valid = model.predict(features_valid) # получите предсказания модели\n",
        "    result = accuracy_score(target_valid, predictions_valid) # посчитайте качество модели\n",
        "    rmsee = mean_squared_error(target_valid, predictions_valid)**0.5\n",
        "    if result > best_result:\n",
        "        best_model = model\n",
        "        best_result = result\n",
        "        dep = depth\n",
        "    if rmsee < best_rmse:\n",
        "        best_rmse = rmsee\n",
        "print(\"Accuracy лучшей модели:\", best_result,'глубина:',depth)\n",
        "print('RMSE:',best_rmse)"
      ]
    },
    {
      "cell_type": "markdown",
      "metadata": {
        "id": "xBRKX-Dj84c6"
      },
      "source": [
        "### Вывод"
      ]
    },
    {
      "cell_type": "markdown",
      "metadata": {
        "id": "SYshy8DE84c6"
      },
      "source": [
        "При модели DecisionTreeClassifier лучшей моделью является модель с глубиной в 5."
      ]
    },
    {
      "cell_type": "markdown",
      "metadata": {
        "id": "TovYAO9384c7"
      },
      "source": [
        "### Случайный лес (RandomForestClassifier)"
      ]
    },
    {
      "cell_type": "code",
      "execution_count": null,
      "metadata": {
        "id": "EMT_ouH584c7",
        "outputId": "84428dd9-cd33-4e3f-d643-83b40ab97b35"
      },
      "outputs": [
        {
          "name": "stdout",
          "output_type": "stream",
          "text": [
            "Accuracy наилучшей модели на валидационной выборке: 0.7822706065318819 количество оценщиков: 1000\n",
            "RMSE: 0.46661482345519006\n"
          ]
        }
      ],
      "source": [
        "best_model = None\n",
        "best_result = 0\n",
        "est = None\n",
        "best_rmse = 1000\n",
        "for est in range(100, 1001, 100):\n",
        "    model = RandomForestClassifier(random_state=12345, n_estimators=est) # обучите модель с заданным количеством деревьев\n",
        "    model.fit(features_train,target_train) # обучите модель на тренировочной выборке\n",
        "    predict = model.predict(features_train)\n",
        "    predict_valid = model.predict(features_valid)\n",
        "    result = model.score(features_valid,target_valid) # посчитайте качество модели на валидационной выборке\n",
        "    rmsee = mean_squared_error(target_valid, predict_valid)**0.5\n",
        "    if result > best_result:\n",
        "        best_model = model # сохраните наилучшую модель\n",
        "        best_result = result   # сохраните наилучшее значение метрики accuracy на валидационных данных\n",
        "    if rmsee < best_rmse:\n",
        "        best_rmse = rmsee\n",
        "print(\"Accuracy наилучшей модели на валидационной выборке:\", best_result,'количество оценщиков:',est)\n",
        "print('RMSE:',best_rmse)"
      ]
    },
    {
      "cell_type": "markdown",
      "metadata": {
        "id": "KoBeS4Dn84c9"
      },
      "source": [
        "### Логистическая регрессия (LogisticRegression)"
      ]
    },
    {
      "cell_type": "code",
      "execution_count": null,
      "metadata": {
        "scrolled": true,
        "id": "EaRO8VFu84c9",
        "outputId": "e2144296-288e-42ea-eae4-174973ba17d8"
      },
      "outputs": [
        {
          "name": "stdout",
          "output_type": "stream",
          "text": [
            "Accuracy наилучшей модели на валидационной выборке:: 0.7467911318553092\n",
            "RMSE 0.492557359828901\n"
          ]
        }
      ],
      "source": [
        "model = LogisticRegression(random_state=12345, solver='lbfgs', max_iter=1000) \n",
        "model.fit(features_train, target_train) \n",
        "predict_valid = model.predict(features_valid) \n",
        "print('Accuracy наилучшей модели на валидационной выборке::',model.score(features_train, target_train))\n",
        "RMSE = mean_squared_error(target_valid, predict_valid)**0.5\n",
        "print('RMSE',RMSE)"
      ]
    },
    {
      "cell_type": "markdown",
      "metadata": {
        "id": "rJp8RQiE84c_"
      },
      "source": [
        "## (бонус) Проверьте модели на адекватность"
      ]
    },
    {
      "cell_type": "markdown",
      "metadata": {
        "id": "-p14L-xL84dA"
      },
      "source": [
        "Контрастная модель"
      ]
    },
    {
      "cell_type": "code",
      "execution_count": null,
      "metadata": {
        "scrolled": true,
        "id": "VSxIdDfF84dA"
      },
      "outputs": [],
      "source": [
        "# target_train_zeros = df_train['is_ultra']\n",
        "# target_allzero_predicion_constant = pd.Series ([0] * len(target_train_zeros))\n",
        "\n",
        "# model = DecisionTreeClassifier(random_state=12345) #  инициализируйте модель с наилучшим значением метрики RMSE\n",
        "# model.fit(features_train,target_allzero_predicion_constant) # обучите модель на тренировочной выборке\n",
        "# predictions_valid = model.predict(features_valid)\n",
        "# f1_score(target_train_zeros.values,predictions_valid)"
      ]
    },
    {
      "cell_type": "code",
      "execution_count": null,
      "metadata": {
        "id": "pQzZI5Eq84dA",
        "outputId": "fe532ac8-1df6-4fe1-ee31-655a81b3fe97"
      },
      "outputs": [
        {
          "name": "stdout",
          "output_type": "stream",
          "text": [
            "Наивный прогноз: 0.6951788491446346. Наш прогноз: 0.8444790046656299\n"
          ]
        }
      ],
      "source": [
        "dc_mf = DummyClassifier(strategy=\"most_frequent\") \n",
        "dc_mf.fit(features_train, target_train)\n",
        "naive_forecast = dc_mf.score(features_test, target_test)\n",
        "print(f'Наивный прогноз: {naive_forecast}. Наш прогноз: 0.8444790046656299')"
      ]
    },
    {
      "cell_type": "code",
      "execution_count": null,
      "metadata": {
        "id": "rlDlr8O084dB"
      },
      "outputs": [],
      "source": [
        "# model = DecisionTreeClassifier(random_state=12345) #  инициализируйте модель с наилучшим значением метрики RMSE\n",
        "# model.fit(features_train,target_train) # обучите модель на тренировочной выборке\n",
        "# predictions_valid = model.predict(features_valid) # получите предсказания модели на валидационной выборке\n",
        "# result = mean_squared_error(target_valid, predictions_valid)**0.5# посчитайте значение метрики RMSE на валидационной выборке\n",
        "# print(\"RMSE наилучшей модели на валидационной выборке:\", result)"
      ]
    },
    {
      "cell_type": "markdown",
      "metadata": {
        "id": "_Hvgq39Z84dD"
      },
      "source": [
        "## Общий вывод"
      ]
    },
    {
      "cell_type": "markdown",
      "metadata": {
        "id": "Ovf1LPfU84dE"
      },
      "source": [
        "Лучшая модель для данной задачи это Классификатор дерева решений (DecisionTreeClassifier) так как скорость тут не в приоритете и точность наиболее высокая среди всех моделей. RMSE наилучшей модели на валидационной выборке: 0.5305591404878536"
      ]
    },
    {
      "cell_type": "markdown",
      "metadata": {
        "id": "DExLTm4Y84dE"
      },
      "source": [
        "# <font color='orange'>Общее впечатление</font>\n",
        "* Этот проект выполнен очень хорошо\n",
        "* Достигнута необходимая метрика accuracy\n",
        "* Видно, что ты уверенно кодишь и понимаешь базу машинного обучения\n",
        "* Молодец, что структурируешь ноутбук, приятно проверять такие работы\n",
        "* Проект можно уже принимать, но я хочу, чтобы ты исправил дополнительное задание\n",
        "* Можешь вернуть мне проект без правок - я его приму\n",
        "* Также я оставил несколько советов. Исправь их если останется время.\n",
        "* Жду новую версию проекта 👋"
      ]
    },
    {
      "cell_type": "markdown",
      "metadata": {
        "id": "Pr5mMU0p84dF"
      },
      "source": [
        "## Чек-лист готовности проекта"
      ]
    },
    {
      "cell_type": "markdown",
      "metadata": {
        "id": "4X-bgc8g84dG"
      },
      "source": [
        "- [x] Jupyter Notebook открыт\n",
        "- [x] Весь код исполняется без ошибок\n",
        "- [x] Ячейки с кодом расположены в порядке исполнения\n",
        "- [x] Выполнено задание 1: данные загружены и изучены\n",
        "- [x] Выполнено задание 2: данные разбиты на три выборки\n",
        "- [X] Выполнено задание 3: проведено исследование моделей\n",
        "    - [X] Рассмотрено больше одной модели\n",
        "    - [X] Рассмотрено хотя бы 3 значения гипепараметров для какой-нибудь модели\n",
        "    - [X] Написаны выводы по результатам исследования\n",
        "- [X] Выполнено задание 3: Проведено тестирование\n",
        "- [X] Удалось достичь accuracy не меньше 0.75\n"
      ]
    }
  ],
  "metadata": {
    "ExecuteTimeLog": [
      {
        "duration": 732,
        "start_time": "2022-05-25T16:56:06.761Z"
      },
      {
        "duration": 67,
        "start_time": "2022-05-25T16:56:07.496Z"
      },
      {
        "duration": 18,
        "start_time": "2022-05-25T16:56:07.565Z"
      },
      {
        "duration": 12,
        "start_time": "2022-05-25T16:59:37.229Z"
      },
      {
        "duration": 11,
        "start_time": "2022-05-25T17:17:22.343Z"
      },
      {
        "duration": 866,
        "start_time": "2022-05-25T17:29:21.459Z"
      },
      {
        "duration": 31,
        "start_time": "2022-05-25T17:29:22.327Z"
      },
      {
        "duration": 13,
        "start_time": "2022-05-25T17:29:22.360Z"
      },
      {
        "duration": 17,
        "start_time": "2022-05-25T17:29:22.375Z"
      },
      {
        "duration": 7,
        "start_time": "2022-05-25T17:29:22.395Z"
      },
      {
        "duration": 14,
        "start_time": "2022-05-25T17:29:22.404Z"
      },
      {
        "duration": 124,
        "start_time": "2022-05-25T17:29:22.420Z"
      },
      {
        "duration": 0,
        "start_time": "2022-05-25T17:29:22.552Z"
      },
      {
        "duration": 3,
        "start_time": "2022-05-25T17:29:54.612Z"
      },
      {
        "duration": 56,
        "start_time": "2022-05-25T17:29:54.617Z"
      },
      {
        "duration": 11,
        "start_time": "2022-05-25T17:29:54.675Z"
      },
      {
        "duration": 17,
        "start_time": "2022-05-25T17:29:54.689Z"
      },
      {
        "duration": 15,
        "start_time": "2022-05-25T17:29:54.708Z"
      },
      {
        "duration": 11,
        "start_time": "2022-05-25T17:29:54.725Z"
      },
      {
        "duration": 39,
        "start_time": "2022-05-25T17:29:54.738Z"
      },
      {
        "duration": 7,
        "start_time": "2022-05-25T17:29:54.779Z"
      },
      {
        "duration": 4,
        "start_time": "2022-05-25T17:30:02.655Z"
      },
      {
        "duration": 31,
        "start_time": "2022-05-25T17:30:02.662Z"
      },
      {
        "duration": 11,
        "start_time": "2022-05-25T17:30:02.694Z"
      },
      {
        "duration": 13,
        "start_time": "2022-05-25T17:30:02.707Z"
      },
      {
        "duration": 11,
        "start_time": "2022-05-25T17:30:02.722Z"
      },
      {
        "duration": 33,
        "start_time": "2022-05-25T17:30:02.736Z"
      },
      {
        "duration": 22,
        "start_time": "2022-05-25T17:30:02.771Z"
      },
      {
        "duration": 7,
        "start_time": "2022-05-25T17:30:02.795Z"
      },
      {
        "duration": 9,
        "start_time": "2022-05-25T17:39:51.352Z"
      },
      {
        "duration": 9,
        "start_time": "2022-05-25T17:39:56.011Z"
      },
      {
        "duration": 3,
        "start_time": "2022-05-25T17:39:58.985Z"
      },
      {
        "duration": 29,
        "start_time": "2022-05-25T17:39:58.990Z"
      },
      {
        "duration": 11,
        "start_time": "2022-05-25T17:39:59.021Z"
      },
      {
        "duration": 18,
        "start_time": "2022-05-25T17:39:59.033Z"
      },
      {
        "duration": 5,
        "start_time": "2022-05-25T17:39:59.053Z"
      },
      {
        "duration": 4,
        "start_time": "2022-05-25T17:39:59.060Z"
      },
      {
        "duration": 8,
        "start_time": "2022-05-25T17:39:59.066Z"
      },
      {
        "duration": 130,
        "start_time": "2022-05-25T17:39:59.075Z"
      },
      {
        "duration": 0,
        "start_time": "2022-05-25T17:39:59.206Z"
      },
      {
        "duration": 3,
        "start_time": "2022-05-25T17:40:06.673Z"
      },
      {
        "duration": 31,
        "start_time": "2022-05-25T17:40:06.678Z"
      },
      {
        "duration": 11,
        "start_time": "2022-05-25T17:40:06.710Z"
      },
      {
        "duration": 11,
        "start_time": "2022-05-25T17:40:06.723Z"
      },
      {
        "duration": 7,
        "start_time": "2022-05-25T17:40:06.736Z"
      },
      {
        "duration": 3,
        "start_time": "2022-05-25T17:40:06.745Z"
      },
      {
        "duration": 9,
        "start_time": "2022-05-25T17:40:06.749Z"
      },
      {
        "duration": 5,
        "start_time": "2022-05-25T17:40:06.759Z"
      },
      {
        "duration": 21,
        "start_time": "2022-05-25T17:40:06.765Z"
      },
      {
        "duration": 10,
        "start_time": "2022-05-25T17:41:30.640Z"
      },
      {
        "duration": 4,
        "start_time": "2022-05-25T17:41:41.548Z"
      },
      {
        "duration": 35,
        "start_time": "2022-05-25T17:41:41.553Z"
      },
      {
        "duration": 12,
        "start_time": "2022-05-25T17:41:41.589Z"
      },
      {
        "duration": 11,
        "start_time": "2022-05-25T17:41:41.603Z"
      },
      {
        "duration": 10,
        "start_time": "2022-05-25T17:41:41.617Z"
      },
      {
        "duration": 12,
        "start_time": "2022-05-25T17:41:41.629Z"
      },
      {
        "duration": 10,
        "start_time": "2022-05-25T17:41:41.644Z"
      },
      {
        "duration": 6,
        "start_time": "2022-05-25T17:41:41.656Z"
      },
      {
        "duration": 27,
        "start_time": "2022-05-25T17:41:41.663Z"
      },
      {
        "duration": 10,
        "start_time": "2022-05-25T17:41:41.692Z"
      },
      {
        "duration": 19,
        "start_time": "2022-05-25T17:41:58.274Z"
      },
      {
        "duration": 13,
        "start_time": "2022-05-25T17:42:01.092Z"
      },
      {
        "duration": 4,
        "start_time": "2022-05-25T17:44:53.654Z"
      },
      {
        "duration": 10,
        "start_time": "2022-05-25T17:51:16.794Z"
      },
      {
        "duration": 3,
        "start_time": "2022-05-25T17:51:19.205Z"
      },
      {
        "duration": 34,
        "start_time": "2022-05-25T17:51:19.211Z"
      },
      {
        "duration": 16,
        "start_time": "2022-05-25T17:51:19.247Z"
      },
      {
        "duration": 13,
        "start_time": "2022-05-25T17:51:19.264Z"
      },
      {
        "duration": 14,
        "start_time": "2022-05-25T17:51:19.279Z"
      },
      {
        "duration": 0,
        "start_time": "2022-05-25T17:51:19.294Z"
      },
      {
        "duration": 0,
        "start_time": "2022-05-25T17:51:19.296Z"
      },
      {
        "duration": 0,
        "start_time": "2022-05-25T17:51:19.297Z"
      },
      {
        "duration": 0,
        "start_time": "2022-05-25T17:51:19.299Z"
      },
      {
        "duration": 0,
        "start_time": "2022-05-25T17:51:19.300Z"
      },
      {
        "duration": 0,
        "start_time": "2022-05-25T17:51:19.301Z"
      },
      {
        "duration": 0,
        "start_time": "2022-05-25T17:51:19.302Z"
      },
      {
        "duration": 5,
        "start_time": "2022-05-25T17:56:14.896Z"
      },
      {
        "duration": 5,
        "start_time": "2022-05-25T17:56:46.057Z"
      },
      {
        "duration": 4,
        "start_time": "2022-05-25T17:57:23.515Z"
      },
      {
        "duration": 37,
        "start_time": "2022-05-25T17:57:23.521Z"
      },
      {
        "duration": 12,
        "start_time": "2022-05-25T17:57:23.561Z"
      },
      {
        "duration": 10,
        "start_time": "2022-05-25T17:57:23.575Z"
      },
      {
        "duration": 17,
        "start_time": "2022-05-25T17:57:23.589Z"
      },
      {
        "duration": 16,
        "start_time": "2022-05-25T17:57:23.608Z"
      },
      {
        "duration": 40,
        "start_time": "2022-05-25T17:57:23.627Z"
      },
      {
        "duration": 0,
        "start_time": "2022-05-25T17:57:23.670Z"
      },
      {
        "duration": 0,
        "start_time": "2022-05-25T17:57:23.672Z"
      },
      {
        "duration": 0,
        "start_time": "2022-05-25T17:57:23.673Z"
      },
      {
        "duration": 0,
        "start_time": "2022-05-25T17:57:23.674Z"
      },
      {
        "duration": 0,
        "start_time": "2022-05-25T17:57:23.675Z"
      },
      {
        "duration": 3,
        "start_time": "2022-05-25T17:57:43.607Z"
      },
      {
        "duration": 32,
        "start_time": "2022-05-25T17:57:43.611Z"
      },
      {
        "duration": 10,
        "start_time": "2022-05-25T17:57:43.645Z"
      },
      {
        "duration": 9,
        "start_time": "2022-05-25T17:57:43.656Z"
      },
      {
        "duration": 6,
        "start_time": "2022-05-25T17:57:43.667Z"
      },
      {
        "duration": 6,
        "start_time": "2022-05-25T17:57:43.675Z"
      },
      {
        "duration": 8,
        "start_time": "2022-05-25T17:57:43.683Z"
      },
      {
        "duration": 5,
        "start_time": "2022-05-25T17:57:43.692Z"
      },
      {
        "duration": 7,
        "start_time": "2022-05-25T17:57:43.698Z"
      },
      {
        "duration": 5,
        "start_time": "2022-05-25T17:57:43.706Z"
      },
      {
        "duration": 18,
        "start_time": "2022-05-25T17:57:43.742Z"
      },
      {
        "duration": 11,
        "start_time": "2022-05-25T17:57:43.762Z"
      },
      {
        "duration": 4,
        "start_time": "2022-05-25T17:59:35.823Z"
      },
      {
        "duration": 30,
        "start_time": "2022-05-25T17:59:35.829Z"
      },
      {
        "duration": 11,
        "start_time": "2022-05-25T17:59:35.861Z"
      },
      {
        "duration": 11,
        "start_time": "2022-05-25T17:59:35.874Z"
      },
      {
        "duration": 9,
        "start_time": "2022-05-25T17:59:35.887Z"
      },
      {
        "duration": 9,
        "start_time": "2022-05-25T17:59:35.897Z"
      },
      {
        "duration": 33,
        "start_time": "2022-05-25T17:59:35.908Z"
      },
      {
        "duration": 8,
        "start_time": "2022-05-25T17:59:35.944Z"
      },
      {
        "duration": 12,
        "start_time": "2022-05-25T17:59:35.954Z"
      },
      {
        "duration": 12,
        "start_time": "2022-05-25T17:59:35.968Z"
      },
      {
        "duration": 28,
        "start_time": "2022-05-25T17:59:35.982Z"
      },
      {
        "duration": 30,
        "start_time": "2022-05-25T17:59:36.012Z"
      },
      {
        "duration": 9,
        "start_time": "2022-05-25T18:03:37.598Z"
      },
      {
        "duration": 604,
        "start_time": "2022-05-25T18:03:54.876Z"
      },
      {
        "duration": 552,
        "start_time": "2022-05-25T18:04:13.579Z"
      },
      {
        "duration": 3,
        "start_time": "2022-05-25T18:04:20.184Z"
      },
      {
        "duration": 31,
        "start_time": "2022-05-25T18:04:20.189Z"
      },
      {
        "duration": 12,
        "start_time": "2022-05-25T18:04:20.221Z"
      },
      {
        "duration": 16,
        "start_time": "2022-05-25T18:04:20.234Z"
      },
      {
        "duration": 11,
        "start_time": "2022-05-25T18:04:20.252Z"
      },
      {
        "duration": 12,
        "start_time": "2022-05-25T18:04:20.264Z"
      },
      {
        "duration": 6,
        "start_time": "2022-05-25T18:04:20.278Z"
      },
      {
        "duration": 8,
        "start_time": "2022-05-25T18:04:20.286Z"
      },
      {
        "duration": 9,
        "start_time": "2022-05-25T18:04:20.295Z"
      },
      {
        "duration": 12,
        "start_time": "2022-05-25T18:04:20.306Z"
      },
      {
        "duration": 25,
        "start_time": "2022-05-25T18:04:20.320Z"
      },
      {
        "duration": 9,
        "start_time": "2022-05-25T18:04:20.346Z"
      },
      {
        "duration": 474,
        "start_time": "2022-05-25T18:04:20.357Z"
      },
      {
        "duration": 9,
        "start_time": "2022-05-25T18:06:06.801Z"
      },
      {
        "duration": 435,
        "start_time": "2022-05-25T18:06:07.429Z"
      },
      {
        "duration": 10,
        "start_time": "2022-05-25T18:06:54.691Z"
      },
      {
        "duration": 12,
        "start_time": "2022-05-25T18:07:01.623Z"
      },
      {
        "duration": 708,
        "start_time": "2022-05-25T18:07:36.962Z"
      },
      {
        "duration": 517,
        "start_time": "2022-05-25T18:08:00.371Z"
      },
      {
        "duration": 463,
        "start_time": "2022-05-25T18:09:17.841Z"
      },
      {
        "duration": 9,
        "start_time": "2022-05-25T18:09:41.291Z"
      },
      {
        "duration": 6,
        "start_time": "2022-05-25T18:09:44.680Z"
      },
      {
        "duration": 6,
        "start_time": "2022-05-25T18:09:50.680Z"
      },
      {
        "duration": 4,
        "start_time": "2022-05-25T18:10:01.722Z"
      },
      {
        "duration": 3,
        "start_time": "2022-05-25T18:10:04.461Z"
      },
      {
        "duration": 5,
        "start_time": "2022-05-25T18:10:42.341Z"
      },
      {
        "duration": 3,
        "start_time": "2022-05-25T18:10:45.643Z"
      },
      {
        "duration": 40,
        "start_time": "2022-05-25T18:10:45.648Z"
      },
      {
        "duration": 13,
        "start_time": "2022-05-25T18:10:45.689Z"
      },
      {
        "duration": 11,
        "start_time": "2022-05-25T18:10:45.704Z"
      },
      {
        "duration": 14,
        "start_time": "2022-05-25T18:10:45.718Z"
      },
      {
        "duration": 10,
        "start_time": "2022-05-25T18:10:45.734Z"
      },
      {
        "duration": 5,
        "start_time": "2022-05-25T18:10:45.746Z"
      },
      {
        "duration": 7,
        "start_time": "2022-05-25T18:10:45.753Z"
      },
      {
        "duration": 11,
        "start_time": "2022-05-25T18:10:45.762Z"
      },
      {
        "duration": 10,
        "start_time": "2022-05-25T18:10:45.774Z"
      },
      {
        "duration": 20,
        "start_time": "2022-05-25T18:10:45.785Z"
      },
      {
        "duration": 41,
        "start_time": "2022-05-25T18:10:45.807Z"
      },
      {
        "duration": 4,
        "start_time": "2022-05-25T18:10:45.850Z"
      },
      {
        "duration": 6,
        "start_time": "2022-05-25T18:10:45.856Z"
      },
      {
        "duration": 925,
        "start_time": "2022-05-25T18:11:44.294Z"
      },
      {
        "duration": 28,
        "start_time": "2022-05-25T18:11:45.220Z"
      },
      {
        "duration": 13,
        "start_time": "2022-05-25T18:11:45.249Z"
      },
      {
        "duration": 19,
        "start_time": "2022-05-25T18:11:45.263Z"
      },
      {
        "duration": 4,
        "start_time": "2022-05-25T18:11:45.285Z"
      },
      {
        "duration": 7,
        "start_time": "2022-05-25T18:11:45.290Z"
      },
      {
        "duration": 3,
        "start_time": "2022-05-25T18:11:45.299Z"
      },
      {
        "duration": 5,
        "start_time": "2022-05-25T18:11:45.304Z"
      },
      {
        "duration": 7,
        "start_time": "2022-05-25T18:11:45.342Z"
      },
      {
        "duration": 6,
        "start_time": "2022-05-25T18:11:45.350Z"
      },
      {
        "duration": 21,
        "start_time": "2022-05-25T18:11:45.357Z"
      },
      {
        "duration": 11,
        "start_time": "2022-05-25T18:11:45.379Z"
      },
      {
        "duration": 4,
        "start_time": "2022-05-25T18:11:45.391Z"
      },
      {
        "duration": 4,
        "start_time": "2022-05-25T18:11:45.397Z"
      },
      {
        "duration": 710,
        "start_time": "2022-05-25T18:15:04.797Z"
      },
      {
        "duration": 2,
        "start_time": "2022-05-25T18:15:22.593Z"
      },
      {
        "duration": 31,
        "start_time": "2022-05-25T18:15:22.597Z"
      },
      {
        "duration": 22,
        "start_time": "2022-05-25T18:15:22.629Z"
      },
      {
        "duration": 9,
        "start_time": "2022-05-25T18:15:22.653Z"
      },
      {
        "duration": 10,
        "start_time": "2022-05-25T18:15:22.664Z"
      },
      {
        "duration": 9,
        "start_time": "2022-05-25T18:15:22.676Z"
      },
      {
        "duration": 9,
        "start_time": "2022-05-25T18:15:22.686Z"
      },
      {
        "duration": 10,
        "start_time": "2022-05-25T18:15:22.697Z"
      },
      {
        "duration": 34,
        "start_time": "2022-05-25T18:15:22.708Z"
      },
      {
        "duration": 13,
        "start_time": "2022-05-25T18:15:22.744Z"
      },
      {
        "duration": 27,
        "start_time": "2022-05-25T18:15:22.759Z"
      },
      {
        "duration": 10,
        "start_time": "2022-05-25T18:15:22.788Z"
      },
      {
        "duration": 5,
        "start_time": "2022-05-25T18:15:22.800Z"
      },
      {
        "duration": 607,
        "start_time": "2022-05-25T18:15:22.807Z"
      },
      {
        "duration": 1,
        "start_time": "2022-05-25T18:15:23.416Z"
      },
      {
        "duration": 1,
        "start_time": "2022-05-25T18:15:23.418Z"
      },
      {
        "duration": 4,
        "start_time": "2022-05-25T18:15:35.811Z"
      },
      {
        "duration": 4,
        "start_time": "2022-05-25T18:15:48.160Z"
      },
      {
        "duration": 9,
        "start_time": "2022-05-25T18:16:30.319Z"
      },
      {
        "duration": 9,
        "start_time": "2022-05-25T18:16:34.719Z"
      },
      {
        "duration": 5,
        "start_time": "2022-05-25T18:16:38.924Z"
      },
      {
        "duration": 10,
        "start_time": "2022-05-25T18:17:00.560Z"
      },
      {
        "duration": 11,
        "start_time": "2022-05-25T18:17:01.842Z"
      },
      {
        "duration": 11,
        "start_time": "2022-05-25T18:17:02.031Z"
      },
      {
        "duration": 3,
        "start_time": "2022-05-25T18:17:06.251Z"
      },
      {
        "duration": 10,
        "start_time": "2022-05-25T18:17:07.050Z"
      },
      {
        "duration": 11,
        "start_time": "2022-05-25T18:17:19.120Z"
      },
      {
        "duration": 3,
        "start_time": "2022-05-25T18:17:20.820Z"
      },
      {
        "duration": 11,
        "start_time": "2022-05-25T18:17:21.093Z"
      },
      {
        "duration": 3,
        "start_time": "2022-05-25T18:19:55.403Z"
      },
      {
        "duration": 47,
        "start_time": "2022-05-25T18:19:55.409Z"
      },
      {
        "duration": 12,
        "start_time": "2022-05-25T18:19:55.458Z"
      },
      {
        "duration": 16,
        "start_time": "2022-05-25T18:19:55.473Z"
      },
      {
        "duration": 7,
        "start_time": "2022-05-25T18:19:55.491Z"
      },
      {
        "duration": 7,
        "start_time": "2022-05-25T18:19:55.499Z"
      },
      {
        "duration": 8,
        "start_time": "2022-05-25T18:19:55.507Z"
      },
      {
        "duration": 6,
        "start_time": "2022-05-25T18:19:55.516Z"
      },
      {
        "duration": 6,
        "start_time": "2022-05-25T18:19:55.542Z"
      },
      {
        "duration": 19,
        "start_time": "2022-05-25T18:19:55.549Z"
      },
      {
        "duration": 20,
        "start_time": "2022-05-25T18:19:55.570Z"
      },
      {
        "duration": 10,
        "start_time": "2022-05-25T18:19:55.592Z"
      },
      {
        "duration": 3,
        "start_time": "2022-05-25T18:19:55.604Z"
      },
      {
        "duration": 5,
        "start_time": "2022-05-25T18:19:55.609Z"
      },
      {
        "duration": 26,
        "start_time": "2022-05-25T18:19:55.615Z"
      },
      {
        "duration": 6,
        "start_time": "2022-05-25T18:19:55.643Z"
      },
      {
        "duration": 3,
        "start_time": "2022-05-25T18:26:05.818Z"
      },
      {
        "duration": 33,
        "start_time": "2022-05-25T18:26:05.823Z"
      },
      {
        "duration": 11,
        "start_time": "2022-05-25T18:26:05.857Z"
      },
      {
        "duration": 15,
        "start_time": "2022-05-25T18:26:05.870Z"
      },
      {
        "duration": 7,
        "start_time": "2022-05-25T18:26:05.887Z"
      },
      {
        "duration": 6,
        "start_time": "2022-05-25T18:26:05.895Z"
      },
      {
        "duration": 5,
        "start_time": "2022-05-25T18:26:05.903Z"
      },
      {
        "duration": 34,
        "start_time": "2022-05-25T18:26:05.910Z"
      },
      {
        "duration": 7,
        "start_time": "2022-05-25T18:26:05.947Z"
      },
      {
        "duration": 24,
        "start_time": "2022-05-25T18:26:05.956Z"
      },
      {
        "duration": 5,
        "start_time": "2022-05-25T18:26:05.981Z"
      },
      {
        "duration": 10,
        "start_time": "2022-05-25T18:26:05.987Z"
      },
      {
        "duration": 6,
        "start_time": "2022-05-25T18:26:05.998Z"
      },
      {
        "duration": 4,
        "start_time": "2022-05-25T18:26:06.006Z"
      },
      {
        "duration": 6,
        "start_time": "2022-05-25T18:26:06.048Z"
      },
      {
        "duration": 8,
        "start_time": "2022-05-25T18:26:06.055Z"
      },
      {
        "duration": 3,
        "start_time": "2022-05-25T18:26:40.390Z"
      },
      {
        "duration": 4,
        "start_time": "2022-05-25T18:27:14.549Z"
      },
      {
        "duration": 29,
        "start_time": "2022-05-25T18:27:14.554Z"
      },
      {
        "duration": 10,
        "start_time": "2022-05-25T18:27:14.585Z"
      },
      {
        "duration": 15,
        "start_time": "2022-05-25T18:27:14.596Z"
      },
      {
        "duration": 4,
        "start_time": "2022-05-25T18:27:14.613Z"
      },
      {
        "duration": 4,
        "start_time": "2022-05-25T18:27:14.618Z"
      },
      {
        "duration": 4,
        "start_time": "2022-05-25T18:27:14.623Z"
      },
      {
        "duration": 15,
        "start_time": "2022-05-25T18:27:14.628Z"
      },
      {
        "duration": 7,
        "start_time": "2022-05-25T18:27:14.645Z"
      },
      {
        "duration": 19,
        "start_time": "2022-05-25T18:27:14.653Z"
      },
      {
        "duration": 4,
        "start_time": "2022-05-25T18:27:14.674Z"
      },
      {
        "duration": 5,
        "start_time": "2022-05-25T18:27:14.680Z"
      },
      {
        "duration": 6,
        "start_time": "2022-05-25T18:27:14.686Z"
      },
      {
        "duration": 4,
        "start_time": "2022-05-25T18:27:14.694Z"
      },
      {
        "duration": 19,
        "start_time": "2022-05-25T18:27:54.233Z"
      },
      {
        "duration": 11,
        "start_time": "2022-05-25T18:31:18.002Z"
      },
      {
        "duration": 32,
        "start_time": "2022-05-25T18:32:56.717Z"
      },
      {
        "duration": 35,
        "start_time": "2022-05-25T18:40:06.317Z"
      },
      {
        "duration": 33,
        "start_time": "2022-05-25T18:40:08.877Z"
      },
      {
        "duration": 45,
        "start_time": "2022-05-25T18:50:56.169Z"
      },
      {
        "duration": 4,
        "start_time": "2022-05-25T18:51:02.291Z"
      },
      {
        "duration": 49,
        "start_time": "2022-05-25T18:51:02.297Z"
      },
      {
        "duration": 11,
        "start_time": "2022-05-25T18:51:02.353Z"
      },
      {
        "duration": 13,
        "start_time": "2022-05-25T18:51:02.366Z"
      },
      {
        "duration": 6,
        "start_time": "2022-05-25T18:51:02.381Z"
      },
      {
        "duration": 9,
        "start_time": "2022-05-25T18:51:02.388Z"
      },
      {
        "duration": 10,
        "start_time": "2022-05-25T18:51:02.399Z"
      },
      {
        "duration": 8,
        "start_time": "2022-05-25T18:51:02.411Z"
      },
      {
        "duration": 31,
        "start_time": "2022-05-25T18:51:02.420Z"
      },
      {
        "duration": 18,
        "start_time": "2022-05-25T18:51:02.454Z"
      },
      {
        "duration": 4,
        "start_time": "2022-05-25T18:51:02.474Z"
      },
      {
        "duration": 9,
        "start_time": "2022-05-25T18:51:02.480Z"
      },
      {
        "duration": 56,
        "start_time": "2022-05-25T18:51:02.490Z"
      },
      {
        "duration": 77,
        "start_time": "2022-05-25T18:51:20.939Z"
      },
      {
        "duration": 197,
        "start_time": "2022-05-25T18:51:26.020Z"
      },
      {
        "duration": 359,
        "start_time": "2022-05-25T18:51:29.879Z"
      },
      {
        "duration": 70,
        "start_time": "2022-05-25T18:51:34.519Z"
      },
      {
        "duration": 127,
        "start_time": "2022-05-25T18:51:38.519Z"
      },
      {
        "duration": 25,
        "start_time": "2022-05-25T18:52:56.111Z"
      },
      {
        "duration": 49,
        "start_time": "2022-05-25T18:53:00.412Z"
      },
      {
        "duration": 27,
        "start_time": "2022-05-25T18:53:05.067Z"
      },
      {
        "duration": 33,
        "start_time": "2022-05-25T18:53:07.850Z"
      },
      {
        "duration": 3,
        "start_time": "2022-05-25T19:01:50.615Z"
      },
      {
        "duration": 38,
        "start_time": "2022-05-25T19:01:50.620Z"
      },
      {
        "duration": 11,
        "start_time": "2022-05-25T19:01:50.659Z"
      },
      {
        "duration": 25,
        "start_time": "2022-05-25T19:01:50.672Z"
      },
      {
        "duration": 16,
        "start_time": "2022-05-25T19:01:50.701Z"
      },
      {
        "duration": 10,
        "start_time": "2022-05-25T19:01:50.719Z"
      },
      {
        "duration": 5,
        "start_time": "2022-05-25T19:01:50.730Z"
      },
      {
        "duration": 12,
        "start_time": "2022-05-25T19:01:50.736Z"
      },
      {
        "duration": 18,
        "start_time": "2022-05-25T19:01:50.752Z"
      },
      {
        "duration": 23,
        "start_time": "2022-05-25T19:01:50.772Z"
      },
      {
        "duration": 6,
        "start_time": "2022-05-25T19:01:50.797Z"
      },
      {
        "duration": 18,
        "start_time": "2022-05-25T19:01:50.805Z"
      },
      {
        "duration": 38,
        "start_time": "2022-05-25T19:01:50.824Z"
      },
      {
        "duration": 24,
        "start_time": "2022-05-25T19:09:28.215Z"
      },
      {
        "duration": 399,
        "start_time": "2022-05-25T19:19:25.479Z"
      },
      {
        "duration": 700,
        "start_time": "2022-05-25T19:19:54.019Z"
      },
      {
        "duration": 1235,
        "start_time": "2022-05-25T19:19:58.299Z"
      },
      {
        "duration": 1273,
        "start_time": "2022-05-25T19:20:45.340Z"
      },
      {
        "duration": 7543,
        "start_time": "2022-05-25T19:20:53.010Z"
      },
      {
        "duration": 762,
        "start_time": "2022-05-25T19:21:06.801Z"
      },
      {
        "duration": 713,
        "start_time": "2022-05-25T19:21:42.271Z"
      },
      {
        "duration": 37,
        "start_time": "2022-05-25T19:21:59.880Z"
      },
      {
        "duration": 715,
        "start_time": "2022-05-25T19:23:05.911Z"
      },
      {
        "duration": 750,
        "start_time": "2022-05-25T19:25:19.665Z"
      },
      {
        "duration": 1363,
        "start_time": "2022-05-25T19:28:54.677Z"
      },
      {
        "duration": 4,
        "start_time": "2022-05-25T19:30:51.434Z"
      },
      {
        "duration": 28,
        "start_time": "2022-05-25T19:35:17.828Z"
      },
      {
        "duration": 3,
        "start_time": "2022-05-25T19:35:23.539Z"
      },
      {
        "duration": 34,
        "start_time": "2022-05-25T19:35:23.545Z"
      },
      {
        "duration": 11,
        "start_time": "2022-05-25T19:35:23.581Z"
      },
      {
        "duration": 14,
        "start_time": "2022-05-25T19:35:23.594Z"
      },
      {
        "duration": 7,
        "start_time": "2022-05-25T19:35:23.609Z"
      },
      {
        "duration": 4,
        "start_time": "2022-05-25T19:35:23.618Z"
      },
      {
        "duration": 19,
        "start_time": "2022-05-25T19:35:23.624Z"
      },
      {
        "duration": 5,
        "start_time": "2022-05-25T19:35:23.645Z"
      },
      {
        "duration": 9,
        "start_time": "2022-05-25T19:35:23.653Z"
      },
      {
        "duration": 21,
        "start_time": "2022-05-25T19:35:23.665Z"
      },
      {
        "duration": 5,
        "start_time": "2022-05-25T19:35:23.687Z"
      },
      {
        "duration": 10,
        "start_time": "2022-05-25T19:35:23.693Z"
      },
      {
        "duration": 74,
        "start_time": "2022-05-25T19:35:23.705Z"
      },
      {
        "duration": 24,
        "start_time": "2022-05-25T19:35:23.781Z"
      },
      {
        "duration": 751,
        "start_time": "2022-05-25T19:35:23.807Z"
      },
      {
        "duration": 883,
        "start_time": "2022-05-25T19:35:24.560Z"
      },
      {
        "duration": 117,
        "start_time": "2022-05-25T19:35:25.445Z"
      },
      {
        "duration": 37,
        "start_time": "2022-05-25T19:39:54.109Z"
      },
      {
        "duration": 5,
        "start_time": "2022-05-25T19:39:59.885Z"
      },
      {
        "duration": 28,
        "start_time": "2022-05-25T19:39:59.893Z"
      },
      {
        "duration": 15,
        "start_time": "2022-05-25T19:39:59.924Z"
      },
      {
        "duration": 13,
        "start_time": "2022-05-25T19:39:59.942Z"
      },
      {
        "duration": 6,
        "start_time": "2022-05-25T19:39:59.958Z"
      },
      {
        "duration": 7,
        "start_time": "2022-05-25T19:39:59.967Z"
      },
      {
        "duration": 4,
        "start_time": "2022-05-25T19:39:59.976Z"
      },
      {
        "duration": 4,
        "start_time": "2022-05-25T19:39:59.982Z"
      },
      {
        "duration": 10,
        "start_time": "2022-05-25T19:39:59.988Z"
      },
      {
        "duration": 57,
        "start_time": "2022-05-25T19:40:00.000Z"
      },
      {
        "duration": 5,
        "start_time": "2022-05-25T19:40:00.059Z"
      },
      {
        "duration": 10,
        "start_time": "2022-05-25T19:40:00.066Z"
      },
      {
        "duration": 65,
        "start_time": "2022-05-25T19:40:00.077Z"
      },
      {
        "duration": 29,
        "start_time": "2022-05-25T19:40:00.145Z"
      },
      {
        "duration": 764,
        "start_time": "2022-05-25T19:40:00.176Z"
      },
      {
        "duration": 706,
        "start_time": "2022-05-25T19:40:00.942Z"
      },
      {
        "duration": 199,
        "start_time": "2022-05-25T19:40:01.651Z"
      },
      {
        "duration": 28,
        "start_time": "2022-05-25T19:41:41.887Z"
      },
      {
        "duration": 31,
        "start_time": "2022-05-25T19:41:54.857Z"
      },
      {
        "duration": 28,
        "start_time": "2022-05-25T19:42:05.168Z"
      },
      {
        "duration": 27,
        "start_time": "2022-05-25T19:46:15.750Z"
      },
      {
        "duration": 30,
        "start_time": "2022-05-25T19:46:24.349Z"
      },
      {
        "duration": 32,
        "start_time": "2022-05-25T19:47:53.850Z"
      },
      {
        "duration": 27,
        "start_time": "2022-05-25T19:48:41.950Z"
      },
      {
        "duration": 24,
        "start_time": "2022-05-25T19:49:21.840Z"
      },
      {
        "duration": 677,
        "start_time": "2022-05-25T19:49:47.100Z"
      },
      {
        "duration": 679,
        "start_time": "2022-05-25T19:50:00.461Z"
      },
      {
        "duration": 27,
        "start_time": "2022-05-25T19:50:34.951Z"
      },
      {
        "duration": 681,
        "start_time": "2022-05-25T19:50:40.821Z"
      },
      {
        "duration": 29,
        "start_time": "2022-05-25T19:50:55.611Z"
      },
      {
        "duration": 29,
        "start_time": "2022-05-25T19:51:17.413Z"
      },
      {
        "duration": 699,
        "start_time": "2022-05-25T19:51:47.353Z"
      },
      {
        "duration": 742,
        "start_time": "2022-05-25T19:53:22.172Z"
      },
      {
        "duration": 2389,
        "start_time": "2022-05-25T19:54:38.763Z"
      },
      {
        "duration": 820,
        "start_time": "2022-05-25T19:55:40.657Z"
      },
      {
        "duration": 1431,
        "start_time": "2022-05-25T19:57:05.023Z"
      },
      {
        "duration": 1393,
        "start_time": "2022-05-25T19:57:18.965Z"
      },
      {
        "duration": 1712,
        "start_time": "2022-05-25T19:57:32.963Z"
      },
      {
        "duration": 44,
        "start_time": "2022-05-25T20:01:47.250Z"
      },
      {
        "duration": 20,
        "start_time": "2022-05-25T20:01:50.265Z"
      },
      {
        "duration": 15,
        "start_time": "2022-05-25T20:01:55.975Z"
      },
      {
        "duration": 15,
        "start_time": "2022-05-25T20:01:59.869Z"
      },
      {
        "duration": 6,
        "start_time": "2022-05-25T20:02:02.096Z"
      },
      {
        "duration": 11,
        "start_time": "2022-05-25T20:02:04.635Z"
      },
      {
        "duration": 29,
        "start_time": "2022-05-25T20:02:08.767Z"
      },
      {
        "duration": 38,
        "start_time": "2022-05-25T20:02:14.115Z"
      },
      {
        "duration": 838,
        "start_time": "2022-05-25T20:04:06.776Z"
      },
      {
        "duration": 735,
        "start_time": "2022-05-25T20:06:19.877Z"
      },
      {
        "duration": 11,
        "start_time": "2022-05-25T20:06:24.639Z"
      },
      {
        "duration": 38,
        "start_time": "2022-05-25T20:06:24.651Z"
      },
      {
        "duration": 11,
        "start_time": "2022-05-25T20:06:24.690Z"
      },
      {
        "duration": 14,
        "start_time": "2022-05-25T20:06:24.703Z"
      },
      {
        "duration": 6,
        "start_time": "2022-05-25T20:06:24.719Z"
      },
      {
        "duration": 9,
        "start_time": "2022-05-25T20:06:24.727Z"
      },
      {
        "duration": 16,
        "start_time": "2022-05-25T20:06:24.737Z"
      },
      {
        "duration": 6,
        "start_time": "2022-05-25T20:06:24.757Z"
      },
      {
        "duration": 9,
        "start_time": "2022-05-25T20:06:24.764Z"
      },
      {
        "duration": 23,
        "start_time": "2022-05-25T20:06:24.774Z"
      },
      {
        "duration": 4,
        "start_time": "2022-05-25T20:06:24.799Z"
      },
      {
        "duration": 11,
        "start_time": "2022-05-25T20:06:24.804Z"
      },
      {
        "duration": 45,
        "start_time": "2022-05-25T20:06:24.816Z"
      },
      {
        "duration": 25,
        "start_time": "2022-05-25T20:06:24.863Z"
      },
      {
        "duration": 748,
        "start_time": "2022-05-25T20:06:24.890Z"
      },
      {
        "duration": 1219,
        "start_time": "2022-05-25T20:06:25.641Z"
      },
      {
        "duration": 109,
        "start_time": "2022-05-25T20:06:26.940Z"
      },
      {
        "duration": 1160,
        "start_time": "2022-05-25T20:06:39.707Z"
      },
      {
        "duration": 907,
        "start_time": "2022-05-26T07:44:10.516Z"
      },
      {
        "duration": 104,
        "start_time": "2022-05-26T07:44:11.425Z"
      },
      {
        "duration": 13,
        "start_time": "2022-05-26T07:44:11.531Z"
      },
      {
        "duration": 18,
        "start_time": "2022-05-26T07:44:11.546Z"
      },
      {
        "duration": 4,
        "start_time": "2022-05-26T07:44:11.566Z"
      },
      {
        "duration": 6,
        "start_time": "2022-05-26T07:44:11.571Z"
      },
      {
        "duration": 5,
        "start_time": "2022-05-26T07:44:11.578Z"
      },
      {
        "duration": 5,
        "start_time": "2022-05-26T07:44:11.584Z"
      },
      {
        "duration": 8,
        "start_time": "2022-05-26T07:44:11.590Z"
      },
      {
        "duration": 39,
        "start_time": "2022-05-26T07:44:11.600Z"
      },
      {
        "duration": 5,
        "start_time": "2022-05-26T07:44:11.640Z"
      },
      {
        "duration": 5,
        "start_time": "2022-05-26T07:44:11.646Z"
      },
      {
        "duration": 32,
        "start_time": "2022-05-26T07:44:11.652Z"
      },
      {
        "duration": 49,
        "start_time": "2022-05-26T07:44:11.685Z"
      },
      {
        "duration": 666,
        "start_time": "2022-05-26T07:44:11.735Z"
      },
      {
        "duration": 630,
        "start_time": "2022-05-26T07:44:12.402Z"
      },
      {
        "duration": 112,
        "start_time": "2022-05-26T07:44:13.124Z"
      },
      {
        "duration": 16,
        "start_time": "2022-05-26T07:52:43.038Z"
      },
      {
        "duration": 12,
        "start_time": "2022-05-26T07:52:46.107Z"
      },
      {
        "duration": 3,
        "start_time": "2022-05-26T07:52:59.020Z"
      },
      {
        "duration": 40,
        "start_time": "2022-05-26T07:52:59.025Z"
      },
      {
        "duration": 12,
        "start_time": "2022-05-26T07:52:59.067Z"
      },
      {
        "duration": 16,
        "start_time": "2022-05-26T07:52:59.081Z"
      },
      {
        "duration": 9,
        "start_time": "2022-05-26T07:52:59.099Z"
      },
      {
        "duration": 17,
        "start_time": "2022-05-26T07:52:59.109Z"
      },
      {
        "duration": 9,
        "start_time": "2022-05-26T07:52:59.127Z"
      },
      {
        "duration": 6,
        "start_time": "2022-05-26T07:52:59.137Z"
      },
      {
        "duration": 20,
        "start_time": "2022-05-26T07:52:59.145Z"
      },
      {
        "duration": 22,
        "start_time": "2022-05-26T07:52:59.167Z"
      },
      {
        "duration": 6,
        "start_time": "2022-05-26T07:52:59.192Z"
      },
      {
        "duration": 11,
        "start_time": "2022-05-26T07:52:59.200Z"
      },
      {
        "duration": 35,
        "start_time": "2022-05-26T07:52:59.213Z"
      },
      {
        "duration": 29,
        "start_time": "2022-05-26T07:52:59.250Z"
      },
      {
        "duration": 678,
        "start_time": "2022-05-26T07:52:59.280Z"
      },
      {
        "duration": 667,
        "start_time": "2022-05-26T07:52:59.960Z"
      },
      {
        "duration": 103,
        "start_time": "2022-05-26T07:53:00.630Z"
      },
      {
        "duration": 71,
        "start_time": "2022-05-26T07:54:12.252Z"
      },
      {
        "duration": 19,
        "start_time": "2022-05-26T07:54:16.308Z"
      },
      {
        "duration": 25,
        "start_time": "2022-05-26T07:55:13.769Z"
      },
      {
        "duration": 119,
        "start_time": "2022-05-26T07:56:57.297Z"
      },
      {
        "duration": 24,
        "start_time": "2022-05-26T07:57:10.920Z"
      },
      {
        "duration": 52,
        "start_time": "2022-05-27T05:32:26.458Z"
      },
      {
        "duration": 1198,
        "start_time": "2022-05-27T05:32:32.246Z"
      },
      {
        "duration": 123,
        "start_time": "2022-05-27T05:32:33.446Z"
      },
      {
        "duration": 13,
        "start_time": "2022-05-27T05:32:33.572Z"
      },
      {
        "duration": 20,
        "start_time": "2022-05-27T05:32:33.587Z"
      },
      {
        "duration": 6,
        "start_time": "2022-05-27T05:32:33.609Z"
      },
      {
        "duration": 12,
        "start_time": "2022-05-27T05:32:33.616Z"
      },
      {
        "duration": 5,
        "start_time": "2022-05-27T05:32:33.629Z"
      },
      {
        "duration": 6,
        "start_time": "2022-05-27T05:32:33.635Z"
      },
      {
        "duration": 7,
        "start_time": "2022-05-27T05:32:33.643Z"
      },
      {
        "duration": 18,
        "start_time": "2022-05-27T05:32:33.652Z"
      },
      {
        "duration": 4,
        "start_time": "2022-05-27T05:32:33.672Z"
      },
      {
        "duration": 14,
        "start_time": "2022-05-27T05:32:33.677Z"
      },
      {
        "duration": 44,
        "start_time": "2022-05-27T05:32:33.692Z"
      },
      {
        "duration": 23,
        "start_time": "2022-05-27T05:32:33.738Z"
      },
      {
        "duration": 653,
        "start_time": "2022-05-27T05:32:33.763Z"
      },
      {
        "duration": 413,
        "start_time": "2022-05-27T05:32:34.418Z"
      },
      {
        "duration": 97,
        "start_time": "2022-05-27T05:32:34.832Z"
      },
      {
        "duration": 113,
        "start_time": "2022-05-27T05:32:34.931Z"
      },
      {
        "duration": 63,
        "start_time": "2022-05-27T05:34:32.150Z"
      },
      {
        "duration": 3,
        "start_time": "2022-05-27T05:34:35.431Z"
      },
      {
        "duration": 34,
        "start_time": "2022-05-27T05:34:35.436Z"
      },
      {
        "duration": 9,
        "start_time": "2022-05-27T05:34:35.472Z"
      },
      {
        "duration": 14,
        "start_time": "2022-05-27T05:34:35.483Z"
      },
      {
        "duration": 7,
        "start_time": "2022-05-27T05:34:35.499Z"
      },
      {
        "duration": 6,
        "start_time": "2022-05-27T05:34:35.507Z"
      },
      {
        "duration": 8,
        "start_time": "2022-05-27T05:34:35.515Z"
      },
      {
        "duration": 17,
        "start_time": "2022-05-27T05:34:35.525Z"
      },
      {
        "duration": 11,
        "start_time": "2022-05-27T05:34:35.544Z"
      },
      {
        "duration": 18,
        "start_time": "2022-05-27T05:34:35.556Z"
      },
      {
        "duration": 4,
        "start_time": "2022-05-27T05:34:35.576Z"
      },
      {
        "duration": 9,
        "start_time": "2022-05-27T05:34:35.581Z"
      },
      {
        "duration": 31,
        "start_time": "2022-05-27T05:34:35.591Z"
      },
      {
        "duration": 32,
        "start_time": "2022-05-27T05:34:35.624Z"
      },
      {
        "duration": 696,
        "start_time": "2022-05-27T05:34:35.658Z"
      },
      {
        "duration": 579,
        "start_time": "2022-05-27T05:34:36.356Z"
      },
      {
        "duration": 192,
        "start_time": "2022-05-27T05:34:36.937Z"
      },
      {
        "duration": 0,
        "start_time": "2022-05-27T05:34:37.131Z"
      },
      {
        "duration": 11,
        "start_time": "2022-05-27T05:36:59.734Z"
      },
      {
        "duration": 24,
        "start_time": "2022-05-27T05:37:57.124Z"
      },
      {
        "duration": 3,
        "start_time": "2022-05-27T05:39:12.772Z"
      },
      {
        "duration": 35,
        "start_time": "2022-05-27T05:39:12.778Z"
      },
      {
        "duration": 14,
        "start_time": "2022-05-27T05:39:12.815Z"
      },
      {
        "duration": 15,
        "start_time": "2022-05-27T05:39:12.832Z"
      },
      {
        "duration": 7,
        "start_time": "2022-05-27T05:39:12.849Z"
      },
      {
        "duration": 6,
        "start_time": "2022-05-27T05:39:12.858Z"
      },
      {
        "duration": 3,
        "start_time": "2022-05-27T05:39:12.867Z"
      },
      {
        "duration": 10,
        "start_time": "2022-05-27T05:39:12.872Z"
      },
      {
        "duration": 10,
        "start_time": "2022-05-27T05:39:12.885Z"
      },
      {
        "duration": 47,
        "start_time": "2022-05-27T05:39:12.896Z"
      },
      {
        "duration": 4,
        "start_time": "2022-05-27T05:39:12.946Z"
      },
      {
        "duration": 11,
        "start_time": "2022-05-27T05:39:12.953Z"
      },
      {
        "duration": 36,
        "start_time": "2022-05-27T05:39:12.966Z"
      },
      {
        "duration": 44,
        "start_time": "2022-05-27T05:39:13.004Z"
      },
      {
        "duration": 745,
        "start_time": "2022-05-27T05:39:13.051Z"
      },
      {
        "duration": 2842,
        "start_time": "2022-05-27T05:39:13.799Z"
      },
      {
        "duration": 205,
        "start_time": "2022-05-27T05:39:16.644Z"
      },
      {
        "duration": 0,
        "start_time": "2022-05-27T05:39:16.851Z"
      },
      {
        "duration": 49,
        "start_time": "2022-05-27T05:40:06.855Z"
      },
      {
        "duration": 31,
        "start_time": "2022-05-27T05:40:10.141Z"
      },
      {
        "duration": 24,
        "start_time": "2022-05-27T05:40:21.511Z"
      },
      {
        "duration": 7,
        "start_time": "2022-05-27T05:40:24.766Z"
      },
      {
        "duration": 31,
        "start_time": "2022-05-27T05:40:34.133Z"
      },
      {
        "duration": 31,
        "start_time": "2022-05-27T05:40:39.358Z"
      },
      {
        "duration": 29,
        "start_time": "2022-05-27T05:40:49.726Z"
      },
      {
        "duration": 25,
        "start_time": "2022-05-27T05:40:55.399Z"
      },
      {
        "duration": 31,
        "start_time": "2022-05-27T05:40:57.824Z"
      },
      {
        "duration": 14,
        "start_time": "2022-05-27T05:41:04.947Z"
      },
      {
        "duration": 31,
        "start_time": "2022-05-27T05:41:55.096Z"
      },
      {
        "duration": 28,
        "start_time": "2022-05-27T05:42:02.016Z"
      },
      {
        "duration": 8,
        "start_time": "2022-05-27T05:42:05.960Z"
      },
      {
        "duration": 6,
        "start_time": "2022-05-27T05:42:11.025Z"
      },
      {
        "duration": 10,
        "start_time": "2022-05-27T05:42:45.482Z"
      },
      {
        "duration": 6,
        "start_time": "2022-05-27T05:42:47.772Z"
      },
      {
        "duration": 23,
        "start_time": "2022-05-27T05:49:29.472Z"
      },
      {
        "duration": 9,
        "start_time": "2022-05-27T05:51:12.420Z"
      },
      {
        "duration": 14,
        "start_time": "2022-05-27T05:54:14.641Z"
      },
      {
        "duration": 11,
        "start_time": "2022-05-27T05:54:19.347Z"
      },
      {
        "duration": 12,
        "start_time": "2022-05-27T05:56:00.329Z"
      },
      {
        "duration": 10,
        "start_time": "2022-05-27T05:56:07.122Z"
      },
      {
        "duration": 15,
        "start_time": "2022-05-27T05:57:16.545Z"
      },
      {
        "duration": 17,
        "start_time": "2022-05-27T05:57:23.173Z"
      },
      {
        "duration": 11,
        "start_time": "2022-05-27T05:57:28.571Z"
      },
      {
        "duration": 10,
        "start_time": "2022-05-27T05:57:31.597Z"
      },
      {
        "duration": 22,
        "start_time": "2022-05-27T05:57:36.100Z"
      },
      {
        "duration": 15,
        "start_time": "2022-05-27T05:57:41.189Z"
      },
      {
        "duration": 37,
        "start_time": "2022-05-27T05:57:45.724Z"
      },
      {
        "duration": 7,
        "start_time": "2022-05-27T06:02:02.179Z"
      },
      {
        "duration": 33246,
        "start_time": "2022-05-27T06:27:43.303Z"
      },
      {
        "duration": 14,
        "start_time": "2022-05-28T05:18:00.550Z"
      },
      {
        "duration": 65,
        "start_time": "2022-05-28T05:19:55.597Z"
      },
      {
        "duration": 1170,
        "start_time": "2022-05-28T05:20:09.907Z"
      },
      {
        "duration": 10,
        "start_time": "2022-05-28T05:20:27.507Z"
      },
      {
        "duration": 3,
        "start_time": "2022-05-28T05:20:37.078Z"
      },
      {
        "duration": 115,
        "start_time": "2022-05-28T05:20:37.083Z"
      },
      {
        "duration": 11,
        "start_time": "2022-05-28T05:20:37.200Z"
      },
      {
        "duration": 20,
        "start_time": "2022-05-28T05:20:37.212Z"
      },
      {
        "duration": 9,
        "start_time": "2022-05-28T05:20:37.233Z"
      },
      {
        "duration": 0,
        "start_time": "2022-05-28T05:20:37.244Z"
      },
      {
        "duration": 0,
        "start_time": "2022-05-28T05:20:37.246Z"
      },
      {
        "duration": 0,
        "start_time": "2022-05-28T05:20:37.247Z"
      },
      {
        "duration": 0,
        "start_time": "2022-05-28T05:20:37.249Z"
      },
      {
        "duration": 0,
        "start_time": "2022-05-28T05:20:37.251Z"
      },
      {
        "duration": 0,
        "start_time": "2022-05-28T05:20:37.252Z"
      },
      {
        "duration": 0,
        "start_time": "2022-05-28T05:20:37.256Z"
      },
      {
        "duration": 0,
        "start_time": "2022-05-28T05:20:37.257Z"
      },
      {
        "duration": 0,
        "start_time": "2022-05-28T05:20:37.258Z"
      },
      {
        "duration": 0,
        "start_time": "2022-05-28T05:20:37.259Z"
      },
      {
        "duration": 0,
        "start_time": "2022-05-28T05:20:37.261Z"
      },
      {
        "duration": 0,
        "start_time": "2022-05-28T05:20:37.263Z"
      },
      {
        "duration": 0,
        "start_time": "2022-05-28T05:20:37.264Z"
      },
      {
        "duration": 0,
        "start_time": "2022-05-28T05:20:37.265Z"
      },
      {
        "duration": 0,
        "start_time": "2022-05-28T05:20:37.267Z"
      },
      {
        "duration": 4,
        "start_time": "2022-05-28T05:20:56.429Z"
      },
      {
        "duration": 39,
        "start_time": "2022-05-28T05:20:56.435Z"
      },
      {
        "duration": 10,
        "start_time": "2022-05-28T05:20:56.476Z"
      },
      {
        "duration": 13,
        "start_time": "2022-05-28T05:20:56.487Z"
      },
      {
        "duration": 6,
        "start_time": "2022-05-28T05:20:56.502Z"
      },
      {
        "duration": 16,
        "start_time": "2022-05-28T05:20:56.510Z"
      },
      {
        "duration": 4,
        "start_time": "2022-05-28T05:20:56.528Z"
      },
      {
        "duration": 7,
        "start_time": "2022-05-28T05:20:56.533Z"
      },
      {
        "duration": 7,
        "start_time": "2022-05-28T05:20:56.541Z"
      },
      {
        "duration": 16,
        "start_time": "2022-05-28T05:20:56.549Z"
      },
      {
        "duration": 24,
        "start_time": "2022-05-28T05:20:56.568Z"
      },
      {
        "duration": 4,
        "start_time": "2022-05-28T05:20:56.594Z"
      },
      {
        "duration": 7,
        "start_time": "2022-05-28T05:20:56.599Z"
      },
      {
        "duration": 36,
        "start_time": "2022-05-28T05:20:56.608Z"
      },
      {
        "duration": 28,
        "start_time": "2022-05-28T05:20:56.657Z"
      },
      {
        "duration": 32337,
        "start_time": "2022-05-28T05:20:56.687Z"
      },
      {
        "duration": 3450,
        "start_time": "2022-05-28T05:21:29.025Z"
      },
      {
        "duration": 80,
        "start_time": "2022-05-28T05:21:32.477Z"
      },
      {
        "duration": 51,
        "start_time": "2022-05-28T05:21:32.559Z"
      },
      {
        "duration": 0,
        "start_time": "2022-05-28T05:21:32.611Z"
      },
      {
        "duration": 3,
        "start_time": "2022-05-28T05:22:08.069Z"
      },
      {
        "duration": 48,
        "start_time": "2022-05-28T05:22:08.074Z"
      },
      {
        "duration": 11,
        "start_time": "2022-05-28T05:22:08.124Z"
      },
      {
        "duration": 18,
        "start_time": "2022-05-28T05:22:08.137Z"
      },
      {
        "duration": 31,
        "start_time": "2022-05-28T05:22:08.158Z"
      },
      {
        "duration": 8,
        "start_time": "2022-05-28T05:22:08.190Z"
      },
      {
        "duration": 12,
        "start_time": "2022-05-28T05:22:08.199Z"
      },
      {
        "duration": 9,
        "start_time": "2022-05-28T05:22:08.213Z"
      },
      {
        "duration": 5,
        "start_time": "2022-05-28T05:22:08.224Z"
      },
      {
        "duration": 10,
        "start_time": "2022-05-28T05:22:08.231Z"
      },
      {
        "duration": 26,
        "start_time": "2022-05-28T05:22:08.243Z"
      },
      {
        "duration": 6,
        "start_time": "2022-05-28T05:22:08.271Z"
      },
      {
        "duration": 9,
        "start_time": "2022-05-28T05:22:08.279Z"
      },
      {
        "duration": 54,
        "start_time": "2022-05-28T05:22:08.291Z"
      },
      {
        "duration": 35,
        "start_time": "2022-05-28T05:22:08.352Z"
      },
      {
        "duration": 32275,
        "start_time": "2022-05-28T05:22:08.389Z"
      },
      {
        "duration": 1811,
        "start_time": "2022-05-28T05:22:40.668Z"
      },
      {
        "duration": 76,
        "start_time": "2022-05-28T05:22:42.579Z"
      },
      {
        "duration": 49,
        "start_time": "2022-05-28T05:22:42.659Z"
      },
      {
        "duration": 0,
        "start_time": "2022-05-28T05:22:42.710Z"
      },
      {
        "duration": 4,
        "start_time": "2022-05-28T05:24:16.249Z"
      }
    ],
    "kernelspec": {
      "display_name": "Python 3 (ipykernel)",
      "language": "python",
      "name": "python3"
    },
    "language_info": {
      "codemirror_mode": {
        "name": "ipython",
        "version": 3
      },
      "file_extension": ".py",
      "mimetype": "text/x-python",
      "name": "python",
      "nbconvert_exporter": "python",
      "pygments_lexer": "ipython3",
      "version": "3.9.5"
    },
    "toc": {
      "base_numbering": 1,
      "nav_menu": {},
      "number_sections": true,
      "sideBar": true,
      "skip_h1_title": true,
      "title_cell": "Table of Contents",
      "title_sidebar": "Contents",
      "toc_cell": false,
      "toc_position": {},
      "toc_section_display": true,
      "toc_window_display": false
    },
    "colab": {
      "provenance": []
    }
  },
  "nbformat": 4,
  "nbformat_minor": 0
}