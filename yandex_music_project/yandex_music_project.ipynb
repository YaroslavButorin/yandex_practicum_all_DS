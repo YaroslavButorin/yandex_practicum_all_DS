{
  "cells": [
    {
      "cell_type": "markdown",
      "metadata": {
        "id": "E0vqbgi9ay0H"
      },
      "source": [
        "# Яндекс.Музыка"
      ]
    },
    {
      "cell_type": "markdown",
      "metadata": {
        "id": "VUC88oWjTJw2"
      },
      "source": [
        "Сравнение Москвы и Петербурга окружено мифами. Например:\n",
        " * Москва — мегаполис, подчинённый жёсткому ритму рабочей недели;\n",
        " * Петербург — культурная столица, со своими вкусами.\n",
        "\n",
        "На данных Яндекс.Музыки вы сравните поведение пользователей двух столиц.\n",
        "\n",
        "**Цель исследования** — проверьте три гипотезы:\n",
        "1. Активность пользователей зависит от дня недели. Причём в Москве и Петербурге это проявляется по-разному.\n",
        "2. В понедельник утром в Москве преобладают одни жанры, а в Петербурге — другие. Так же и вечером пятницы преобладают разные жанры — в зависимости от города. \n",
        "3. Москва и Петербург предпочитают разные жанры музыки. В Москве чаще слушают поп-музыку, в Петербурге — русский рэп.\n",
        "\n",
        "**Ход исследования**\n",
        "\n",
        "Данные о поведении пользователей вы получите из файла `yandex_music_project.csv`. О качестве данных ничего не известно. Поэтому перед проверкой гипотез понадобится обзор данных. \n",
        "\n",
        "Вы проверите данные на ошибки и оцените их влияние на исследование. Затем, на этапе предобработки вы поищете возможность исправить самые критичные ошибки данных.\n",
        " \n",
        "Таким образом, исследование пройдёт в три этапа:\n",
        " 1. Обзор данных.\n",
        " 2. Предобработка данных.\n",
        " 3. Проверка гипотез.\n",
        "\n"
      ]
    },
    {
      "cell_type": "markdown",
      "metadata": {
        "id": "Ml1hmfXC_Zcs"
      },
      "source": [
        "## Обзор данных\n",
        "\n",
        "Составьте первое представление о данных Яндекс.Музыки.\n",
        "\n",
        "\n"
      ]
    },
    {
      "cell_type": "markdown",
      "metadata": {
        "id": "57eAOGIz_Zcs"
      },
      "source": [
        "Основной инструмент аналитика — `pandas`. Импортируйте эту библиотеку."
      ]
    },
    {
      "cell_type": "code",
      "execution_count": 3,
      "metadata": {
        "id": "AXN7PHPN_Zcs"
      },
      "outputs": [],
      "source": [
        "# импорт библиотеки pandas\n",
        "import pandas as pd"
      ]
    },
    {
      "cell_type": "markdown",
      "metadata": {
        "id": "SG23P8tt_Zcs"
      },
      "source": [
        "Прочитайте файл `yandex_music_project.csv` из папки `/datasets` и сохраните его в переменной `df`:"
      ]
    },
    {
      "cell_type": "code",
      "execution_count": 4,
      "metadata": {
        "id": "fFVu7vqh_Zct"
      },
      "outputs": [],
      "source": [
        "# чтение файла с данными и сохранение в df\n",
        "df = pd.read_csv('/content/yandex_music_project.csv')"
      ]
    },
    {
      "cell_type": "markdown",
      "metadata": {
        "id": "rDoOMd3uTqnZ"
      },
      "source": [
        "Выведите на экран первые десять строк таблицы:"
      ]
    },
    {
      "cell_type": "code",
      "execution_count": 5,
      "metadata": {
        "id": "oWTVX3gW_Zct",
        "scrolled": true,
        "colab": {
          "base_uri": "https://localhost:8080/",
          "height": 363
        },
        "outputId": "eca1cea4-37f8-4447-eb1c-f70636914aa7"
      },
      "outputs": [
        {
          "output_type": "display_data",
          "data": {
            "text/plain": [
              "   Unnamed: 0    userID                        Track            artist  \\\n",
              "0           0  FFB692EC            Kamigata To Boots  The Mass Missile   \n",
              "1           1  55204538  Delayed Because of Accident  Andreas Rönnberg   \n",
              "2           2    20EC38            Funiculì funiculà       Mario Lanza   \n",
              "3           3  A3DD03C9        Dragons in the Sunset        Fire + Ice   \n",
              "4           4  E2DC1FAE                  Soul People        Space Echo   \n",
              "5           5  842029A1                    Преданная         IMPERVTOR   \n",
              "6           6  4CB90AA5                         True      Roman Messer   \n",
              "7           7  F03E1C1F             Feeling This Way   Polina Griffith   \n",
              "8           8  8FA1D3BE     И вновь продолжается бой               NaN   \n",
              "9           9  E772D5C0                    Pessimist               NaN   \n",
              "\n",
              "    genre            City        time        Day  \n",
              "0    rock  Saint-Petersburg  20:28:33  Wednesday  \n",
              "1    rock            Moscow  14:07:09     Friday  \n",
              "2     pop  Saint-Petersburg  20:58:07  Wednesday  \n",
              "3    folk  Saint-Petersburg  08:37:09     Monday  \n",
              "4   dance            Moscow  08:34:34     Monday  \n",
              "5  rusrap  Saint-Petersburg  13:09:41     Friday  \n",
              "6   dance            Moscow  13:00:07  Wednesday  \n",
              "7   dance            Moscow  20:47:49  Wednesday  \n",
              "8  ruspop            Moscow  09:17:40     Friday  \n",
              "9   dance  Saint-Petersburg  21:20:49  Wednesday  "
            ],
            "text/html": [
              "\n",
              "  <div id=\"df-43d42c95-2c94-478c-a68c-d9c32b4e6b94\">\n",
              "    <div class=\"colab-df-container\">\n",
              "      <div>\n",
              "<style scoped>\n",
              "    .dataframe tbody tr th:only-of-type {\n",
              "        vertical-align: middle;\n",
              "    }\n",
              "\n",
              "    .dataframe tbody tr th {\n",
              "        vertical-align: top;\n",
              "    }\n",
              "\n",
              "    .dataframe thead th {\n",
              "        text-align: right;\n",
              "    }\n",
              "</style>\n",
              "<table border=\"1\" class=\"dataframe\">\n",
              "  <thead>\n",
              "    <tr style=\"text-align: right;\">\n",
              "      <th></th>\n",
              "      <th>Unnamed: 0</th>\n",
              "      <th>userID</th>\n",
              "      <th>Track</th>\n",
              "      <th>artist</th>\n",
              "      <th>genre</th>\n",
              "      <th>City</th>\n",
              "      <th>time</th>\n",
              "      <th>Day</th>\n",
              "    </tr>\n",
              "  </thead>\n",
              "  <tbody>\n",
              "    <tr>\n",
              "      <th>0</th>\n",
              "      <td>0</td>\n",
              "      <td>FFB692EC</td>\n",
              "      <td>Kamigata To Boots</td>\n",
              "      <td>The Mass Missile</td>\n",
              "      <td>rock</td>\n",
              "      <td>Saint-Petersburg</td>\n",
              "      <td>20:28:33</td>\n",
              "      <td>Wednesday</td>\n",
              "    </tr>\n",
              "    <tr>\n",
              "      <th>1</th>\n",
              "      <td>1</td>\n",
              "      <td>55204538</td>\n",
              "      <td>Delayed Because of Accident</td>\n",
              "      <td>Andreas Rönnberg</td>\n",
              "      <td>rock</td>\n",
              "      <td>Moscow</td>\n",
              "      <td>14:07:09</td>\n",
              "      <td>Friday</td>\n",
              "    </tr>\n",
              "    <tr>\n",
              "      <th>2</th>\n",
              "      <td>2</td>\n",
              "      <td>20EC38</td>\n",
              "      <td>Funiculì funiculà</td>\n",
              "      <td>Mario Lanza</td>\n",
              "      <td>pop</td>\n",
              "      <td>Saint-Petersburg</td>\n",
              "      <td>20:58:07</td>\n",
              "      <td>Wednesday</td>\n",
              "    </tr>\n",
              "    <tr>\n",
              "      <th>3</th>\n",
              "      <td>3</td>\n",
              "      <td>A3DD03C9</td>\n",
              "      <td>Dragons in the Sunset</td>\n",
              "      <td>Fire + Ice</td>\n",
              "      <td>folk</td>\n",
              "      <td>Saint-Petersburg</td>\n",
              "      <td>08:37:09</td>\n",
              "      <td>Monday</td>\n",
              "    </tr>\n",
              "    <tr>\n",
              "      <th>4</th>\n",
              "      <td>4</td>\n",
              "      <td>E2DC1FAE</td>\n",
              "      <td>Soul People</td>\n",
              "      <td>Space Echo</td>\n",
              "      <td>dance</td>\n",
              "      <td>Moscow</td>\n",
              "      <td>08:34:34</td>\n",
              "      <td>Monday</td>\n",
              "    </tr>\n",
              "    <tr>\n",
              "      <th>5</th>\n",
              "      <td>5</td>\n",
              "      <td>842029A1</td>\n",
              "      <td>Преданная</td>\n",
              "      <td>IMPERVTOR</td>\n",
              "      <td>rusrap</td>\n",
              "      <td>Saint-Petersburg</td>\n",
              "      <td>13:09:41</td>\n",
              "      <td>Friday</td>\n",
              "    </tr>\n",
              "    <tr>\n",
              "      <th>6</th>\n",
              "      <td>6</td>\n",
              "      <td>4CB90AA5</td>\n",
              "      <td>True</td>\n",
              "      <td>Roman Messer</td>\n",
              "      <td>dance</td>\n",
              "      <td>Moscow</td>\n",
              "      <td>13:00:07</td>\n",
              "      <td>Wednesday</td>\n",
              "    </tr>\n",
              "    <tr>\n",
              "      <th>7</th>\n",
              "      <td>7</td>\n",
              "      <td>F03E1C1F</td>\n",
              "      <td>Feeling This Way</td>\n",
              "      <td>Polina Griffith</td>\n",
              "      <td>dance</td>\n",
              "      <td>Moscow</td>\n",
              "      <td>20:47:49</td>\n",
              "      <td>Wednesday</td>\n",
              "    </tr>\n",
              "    <tr>\n",
              "      <th>8</th>\n",
              "      <td>8</td>\n",
              "      <td>8FA1D3BE</td>\n",
              "      <td>И вновь продолжается бой</td>\n",
              "      <td>NaN</td>\n",
              "      <td>ruspop</td>\n",
              "      <td>Moscow</td>\n",
              "      <td>09:17:40</td>\n",
              "      <td>Friday</td>\n",
              "    </tr>\n",
              "    <tr>\n",
              "      <th>9</th>\n",
              "      <td>9</td>\n",
              "      <td>E772D5C0</td>\n",
              "      <td>Pessimist</td>\n",
              "      <td>NaN</td>\n",
              "      <td>dance</td>\n",
              "      <td>Saint-Petersburg</td>\n",
              "      <td>21:20:49</td>\n",
              "      <td>Wednesday</td>\n",
              "    </tr>\n",
              "  </tbody>\n",
              "</table>\n",
              "</div>\n",
              "      <button class=\"colab-df-convert\" onclick=\"convertToInteractive('df-43d42c95-2c94-478c-a68c-d9c32b4e6b94')\"\n",
              "              title=\"Convert this dataframe to an interactive table.\"\n",
              "              style=\"display:none;\">\n",
              "        \n",
              "  <svg xmlns=\"http://www.w3.org/2000/svg\" height=\"24px\"viewBox=\"0 0 24 24\"\n",
              "       width=\"24px\">\n",
              "    <path d=\"M0 0h24v24H0V0z\" fill=\"none\"/>\n",
              "    <path d=\"M18.56 5.44l.94 2.06.94-2.06 2.06-.94-2.06-.94-.94-2.06-.94 2.06-2.06.94zm-11 1L8.5 8.5l.94-2.06 2.06-.94-2.06-.94L8.5 2.5l-.94 2.06-2.06.94zm10 10l.94 2.06.94-2.06 2.06-.94-2.06-.94-.94-2.06-.94 2.06-2.06.94z\"/><path d=\"M17.41 7.96l-1.37-1.37c-.4-.4-.92-.59-1.43-.59-.52 0-1.04.2-1.43.59L10.3 9.45l-7.72 7.72c-.78.78-.78 2.05 0 2.83L4 21.41c.39.39.9.59 1.41.59.51 0 1.02-.2 1.41-.59l7.78-7.78 2.81-2.81c.8-.78.8-2.07 0-2.86zM5.41 20L4 18.59l7.72-7.72 1.47 1.35L5.41 20z\"/>\n",
              "  </svg>\n",
              "      </button>\n",
              "      \n",
              "  <style>\n",
              "    .colab-df-container {\n",
              "      display:flex;\n",
              "      flex-wrap:wrap;\n",
              "      gap: 12px;\n",
              "    }\n",
              "\n",
              "    .colab-df-convert {\n",
              "      background-color: #E8F0FE;\n",
              "      border: none;\n",
              "      border-radius: 50%;\n",
              "      cursor: pointer;\n",
              "      display: none;\n",
              "      fill: #1967D2;\n",
              "      height: 32px;\n",
              "      padding: 0 0 0 0;\n",
              "      width: 32px;\n",
              "    }\n",
              "\n",
              "    .colab-df-convert:hover {\n",
              "      background-color: #E2EBFA;\n",
              "      box-shadow: 0px 1px 2px rgba(60, 64, 67, 0.3), 0px 1px 3px 1px rgba(60, 64, 67, 0.15);\n",
              "      fill: #174EA6;\n",
              "    }\n",
              "\n",
              "    [theme=dark] .colab-df-convert {\n",
              "      background-color: #3B4455;\n",
              "      fill: #D2E3FC;\n",
              "    }\n",
              "\n",
              "    [theme=dark] .colab-df-convert:hover {\n",
              "      background-color: #434B5C;\n",
              "      box-shadow: 0px 1px 3px 1px rgba(0, 0, 0, 0.15);\n",
              "      filter: drop-shadow(0px 1px 2px rgba(0, 0, 0, 0.3));\n",
              "      fill: #FFFFFF;\n",
              "    }\n",
              "  </style>\n",
              "\n",
              "      <script>\n",
              "        const buttonEl =\n",
              "          document.querySelector('#df-43d42c95-2c94-478c-a68c-d9c32b4e6b94 button.colab-df-convert');\n",
              "        buttonEl.style.display =\n",
              "          google.colab.kernel.accessAllowed ? 'block' : 'none';\n",
              "\n",
              "        async function convertToInteractive(key) {\n",
              "          const element = document.querySelector('#df-43d42c95-2c94-478c-a68c-d9c32b4e6b94');\n",
              "          const dataTable =\n",
              "            await google.colab.kernel.invokeFunction('convertToInteractive',\n",
              "                                                     [key], {});\n",
              "          if (!dataTable) return;\n",
              "\n",
              "          const docLinkHtml = 'Like what you see? Visit the ' +\n",
              "            '<a target=\"_blank\" href=https://colab.research.google.com/notebooks/data_table.ipynb>data table notebook</a>'\n",
              "            + ' to learn more about interactive tables.';\n",
              "          element.innerHTML = '';\n",
              "          dataTable['output_type'] = 'display_data';\n",
              "          await google.colab.output.renderOutput(dataTable, element);\n",
              "          const docLink = document.createElement('div');\n",
              "          docLink.innerHTML = docLinkHtml;\n",
              "          element.appendChild(docLink);\n",
              "        }\n",
              "      </script>\n",
              "    </div>\n",
              "  </div>\n",
              "  "
            ]
          },
          "metadata": {}
        }
      ],
      "source": [
        "# получение первых 10 строк таблицы df\n",
        "display(df.head(10))"
      ]
    },
    {
      "cell_type": "markdown",
      "metadata": {
        "id": "EO73Kwic_Zct"
      },
      "source": [
        "Одной командой получить общую информацию о таблице:"
      ]
    },
    {
      "cell_type": "code",
      "execution_count": 6,
      "metadata": {
        "id": "DSf2kIb-_Zct",
        "scrolled": true,
        "colab": {
          "base_uri": "https://localhost:8080/"
        },
        "outputId": "ed50629d-50ca-44a5-d168-964ecfc376d5"
      },
      "outputs": [
        {
          "output_type": "stream",
          "name": "stdout",
          "text": [
            "<class 'pandas.core.frame.DataFrame'>\n",
            "RangeIndex: 26581 entries, 0 to 26580\n",
            "Data columns (total 8 columns):\n",
            " #   Column      Non-Null Count  Dtype \n",
            "---  ------      --------------  ----- \n",
            " 0   Unnamed: 0  26581 non-null  int64 \n",
            " 1     userID    26581 non-null  object\n",
            " 2   Track       26059 non-null  object\n",
            " 3   artist      23591 non-null  object\n",
            " 4   genre       26102 non-null  object\n",
            " 5     City      26580 non-null  object\n",
            " 6   time        26580 non-null  object\n",
            " 7   Day         26580 non-null  object\n",
            "dtypes: int64(1), object(7)\n",
            "memory usage: 1.6+ MB\n"
          ]
        }
      ],
      "source": [
        "# получение общей информации о данных в таблице df\n",
        "df.info()"
      ]
    },
    {
      "cell_type": "markdown",
      "metadata": {
        "id": "TaQ2Iwbr_Zct"
      },
      "source": [
        "Итак, в таблице семь столбцов. Тип данных во всех столбцах — `object`.\n",
        "\n",
        "Согласно документации к данным:\n",
        "* `userID` — идентификатор пользователя;\n",
        "* `Track` — название трека;  \n",
        "* `artist` — имя исполнителя;\n",
        "* `genre` — название жанра;\n",
        "* `City` — город пользователя;\n",
        "* `time` — время начала прослушивания;\n",
        "* `Day` — день недели.\n",
        "\n",
        "В названиях колонок видны три нарушения стиля:\n",
        "1. Строчные буквы сочетаются с прописными.\n",
        "2. Встречаются пробелы.\n",
        "3. Отсутвие питоновского стиля,но это не критично.\n",
        "\n",
        "\n",
        "\n",
        "Количество значений в столбцах различается. Значит, в данных есть пропущенные значения.\n"
      ]
    },
    {
      "cell_type": "markdown",
      "metadata": {
        "id": "MCB6-dXG_Zct"
      },
      "source": [
        "**Выводы**\n",
        "\n",
        "В каждой строке таблицы — данные о прослушанном треке. Часть колонок описывает саму композицию: название, исполнителя и жанр. Остальные данные рассказывают о пользователе: из какого он города, когда он слушал музыку. \n",
        "\n",
        "Предварительно можно утверждать, что, данных достаточно для проверки гипотез. Но встречаются пропуски в данных, а в названиях колонок — расхождения с хорошим стилем.\n",
        "\n",
        "Чтобы двигаться дальше, нужно устранить проблемы в данных."
      ]
    },
    {
      "cell_type": "markdown",
      "metadata": {
        "id": "SjYF6Ub9_Zct"
      },
      "source": [
        "## Предобработка данных\n",
        "Исправьте стиль в заголовках столбцов, исключите пропуски. Затем проверьте данные на дубликаты."
      ]
    },
    {
      "cell_type": "markdown",
      "metadata": {
        "id": "dIaKXr29_Zct"
      },
      "source": [
        "### Стиль заголовков\n",
        "Выведите на экран названия столбцов:"
      ]
    },
    {
      "cell_type": "code",
      "execution_count": 7,
      "metadata": {
        "id": "oKOTdF_Q_Zct",
        "scrolled": true,
        "colab": {
          "base_uri": "https://localhost:8080/"
        },
        "outputId": "00328ff2-1555-4645-e449-038c3631e12a"
      },
      "outputs": [
        {
          "output_type": "execute_result",
          "data": {
            "text/plain": [
              "Index(['Unnamed: 0', '  userID', 'Track', 'artist', 'genre', '  City  ',\n",
              "       'time', 'Day'],\n",
              "      dtype='object')"
            ]
          },
          "metadata": {},
          "execution_count": 7
        }
      ],
      "source": [
        "# перечень названий столбцов таблицы df\n",
        "df.columns"
      ]
    },
    {
      "cell_type": "markdown",
      "metadata": {
        "id": "zj5534cv_Zct"
      },
      "source": [
        "Приведите названия в соответствие с хорошим стилем:\n",
        "* несколько слов в названии запишите в «змеином_регистре»,\n",
        "* все символы сделайте строчными,\n",
        "* устраните пробелы.\n",
        "\n",
        "Для этого переименуйте колонки так:\n",
        "* `'  userID'` → `'user_id'`;\n",
        "* `'Track'` → `'track'`;\n",
        "* `'  City  '` → `'city'`;\n",
        "* `'Day'` → `'day'`."
      ]
    },
    {
      "cell_type": "code",
      "execution_count": 8,
      "metadata": {
        "id": "ISlFqs5y_Zct"
      },
      "outputs": [],
      "source": [
        "# переименование столбцов\n",
        "df = df.rename(columns={'  userID':'user_id','Track':'track','  City  ':'city','Day':'day'})"
      ]
    },
    {
      "cell_type": "markdown",
      "metadata": {
        "id": "1dqbh00J_Zct"
      },
      "source": [
        "Проверьте результат. Для этого ещё раз выведите на экран названия столбцов:"
      ]
    },
    {
      "cell_type": "code",
      "execution_count": 9,
      "metadata": {
        "id": "d4NOAmTW_Zct",
        "scrolled": true,
        "colab": {
          "base_uri": "https://localhost:8080/"
        },
        "outputId": "b30045ec-53bd-4ae3-a92f-8c8e609491ff"
      },
      "outputs": [
        {
          "output_type": "execute_result",
          "data": {
            "text/plain": [
              "Index(['Unnamed: 0', 'user_id', 'track', 'artist', 'genre', 'city', 'time',\n",
              "       'day'],\n",
              "      dtype='object')"
            ]
          },
          "metadata": {},
          "execution_count": 9
        }
      ],
      "source": [
        "# проверка результатов - перечень названий столбцов\n",
        "df.columns"
      ]
    },
    {
      "cell_type": "markdown",
      "metadata": {
        "id": "5ISfbcfY_Zct"
      },
      "source": [
        "### Пропуски значений\n",
        "Сначала посчитайте, сколько в таблице пропущенных значений. Для этого достаточно двух методов `pandas`:"
      ]
    },
    {
      "cell_type": "code",
      "execution_count": 10,
      "metadata": {
        "id": "RskX29qr_Zct",
        "colab": {
          "base_uri": "https://localhost:8080/"
        },
        "outputId": "6d30f6df-8106-471f-bc41-a15576ddf9c4"
      },
      "outputs": [
        {
          "output_type": "execute_result",
          "data": {
            "text/plain": [
              "Unnamed: 0       0\n",
              "user_id          0\n",
              "track          522\n",
              "artist        2990\n",
              "genre          479\n",
              "city             1\n",
              "time             1\n",
              "day              1\n",
              "dtype: int64"
            ]
          },
          "metadata": {},
          "execution_count": 10
        }
      ],
      "source": [
        "# подсчёт пропусков\n",
        "df.isna().sum()"
      ]
    },
    {
      "cell_type": "markdown",
      "metadata": {
        "id": "qubhgnlO_Zct"
      },
      "source": [
        "Не все пропущенные значения влияют на исследование. Так в `track` и `artist` пропуски не важны для вашей работы. Достаточно заменить их явными обозначениями.\n",
        "\n",
        "Но пропуски в `genre` могут помешать сравнению музыкальных вкусов в Москве и Санкт-Петербурге. На практике было бы правильно установить причину пропусков и восстановить данные. Такой возможности нет в учебном проекте. Придётся:\n",
        "* заполнить и эти пропуски явными обозначениями,\n",
        "* оценить, насколько они повредят расчётам. "
      ]
    },
    {
      "cell_type": "markdown",
      "metadata": {
        "id": "fSv2laPA_Zct"
      },
      "source": [
        "Замените пропущенные значения в столбцах `track`, `artist` и `genre` на строку `'unknown'`. Для этого создайте список `columns_to_replace`, переберите его элементы циклом `for` и для каждого столбца выполните замену пропущенных значений:"
      ]
    },
    {
      "cell_type": "code",
      "execution_count": 11,
      "metadata": {
        "id": "KplB5qWs_Zct"
      },
      "outputs": [],
      "source": [
        "# перебор названий столбцов в цикле и замена пропущенных значений на 'unknown'\n",
        "columns_to_replace = ['track','artist','genre']\n",
        "for column in columns_to_replace:\n",
        "    df[column] = df[column].fillna('unknown')"
      ]
    },
    {
      "cell_type": "markdown",
      "metadata": {
        "id": "Ilsm-MZo_Zct"
      },
      "source": [
        "Убедитесь, что в таблице не осталось пропусков. Для этого ещё раз посчитайте пропущенные значения."
      ]
    },
    {
      "cell_type": "code",
      "execution_count": 12,
      "metadata": {
        "id": "Tq4nYRX4_Zct",
        "scrolled": true,
        "colab": {
          "base_uri": "https://localhost:8080/"
        },
        "outputId": "1dc72e15-577c-4f93-f20a-273c3ea1e287"
      },
      "outputs": [
        {
          "output_type": "execute_result",
          "data": {
            "text/plain": [
              "Unnamed: 0    0\n",
              "user_id       0\n",
              "track         0\n",
              "artist        0\n",
              "genre         0\n",
              "city          1\n",
              "time          1\n",
              "day           1\n",
              "dtype: int64"
            ]
          },
          "metadata": {},
          "execution_count": 12
        }
      ],
      "source": [
        "# подсчёт пропусков\n",
        "df.isna().sum()"
      ]
    },
    {
      "cell_type": "markdown",
      "metadata": {
        "id": "BWKRtBJ3_Zct"
      },
      "source": [
        "### Дубликаты\n",
        "Посчитайте явные дубликаты в таблице одной командой:"
      ]
    },
    {
      "cell_type": "code",
      "execution_count": 13,
      "metadata": {
        "id": "36eES_S0_Zct",
        "colab": {
          "base_uri": "https://localhost:8080/"
        },
        "outputId": "91a5d10b-2cc3-4889-c606-cb392ece2a7d"
      },
      "outputs": [
        {
          "output_type": "execute_result",
          "data": {
            "text/plain": [
              "0"
            ]
          },
          "metadata": {},
          "execution_count": 13
        }
      ],
      "source": [
        "# подсчёт явных дубликатов\n",
        "df.duplicated().sum()"
      ]
    },
    {
      "cell_type": "markdown",
      "metadata": {
        "id": "Ot25h6XR_Zct"
      },
      "source": [
        "Вызовите специальный метод `pandas`, чтобы удалить явные дубликаты:"
      ]
    },
    {
      "cell_type": "code",
      "execution_count": 14,
      "metadata": {
        "id": "exFHq6tt_Zct"
      },
      "outputs": [],
      "source": [
        "# удаление явных дубликатов (с удалением старых индексов и формированием новых)\n",
        "df = df.drop_duplicates().reset_index(drop=True)"
      ]
    },
    {
      "cell_type": "markdown",
      "metadata": {
        "id": "Im2YwBEG_Zct"
      },
      "source": [
        "Ещё раз посчитайте явные дубликаты в таблице — убедитесь, что полностью от них избавились:"
      ]
    },
    {
      "cell_type": "code",
      "execution_count": 15,
      "metadata": {
        "id": "-8PuNWQ0_Zct",
        "colab": {
          "base_uri": "https://localhost:8080/"
        },
        "outputId": "3636191e-421f-4df1-b566-2b3133297e28"
      },
      "outputs": [
        {
          "output_type": "execute_result",
          "data": {
            "text/plain": [
              "0"
            ]
          },
          "metadata": {},
          "execution_count": 15
        }
      ],
      "source": [
        "# проверка на отсутствие дубликатов\n",
        "df.duplicated().sum()"
      ]
    },
    {
      "cell_type": "markdown",
      "metadata": {
        "id": "QlFBsxAr_Zct"
      },
      "source": [
        "Теперь избавьтесь от неявных дубликатов в колонке `genre`. Например, название одного и того же жанра может быть записано немного по-разному. Такие ошибки тоже повлияют на результат исследования."
      ]
    },
    {
      "cell_type": "markdown",
      "metadata": {
        "id": "eSjWwsOh_Zct"
      },
      "source": [
        "Выведите на экран список уникальных названий жанров, отсортированный в алфавитном порядке. Для этого:\n",
        "* извлеките нужный столбец датафрейма, \n",
        "* примените к нему метод сортировки,\n",
        "* для отсортированного столбца вызовите метод, который вернёт уникальные значения из столбца."
      ]
    },
    {
      "cell_type": "code",
      "execution_count": 16,
      "metadata": {
        "id": "JIUcqzZN_Zct",
        "scrolled": true,
        "colab": {
          "base_uri": "https://localhost:8080/"
        },
        "outputId": "83ffdd84-2744-49b1-ccf2-c3d8dd50b3ba"
      },
      "outputs": [
        {
          "output_type": "execute_result",
          "data": {
            "text/plain": [
              "array(['acoustic', 'action', 'adult', 'africa', 'afrikaans',\n",
              "       'alternative', 'alternativepunk', 'ambient', 'americana',\n",
              "       'animated', 'anime', 'arabesk', 'argentinetango', 'art',\n",
              "       'audiobook', 'author', 'avantgarde', 'balkan', 'beats', 'bigroom',\n",
              "       'black', 'bluegrass', 'blues', 'bollywood', 'brazilian',\n",
              "       'breakbeat', 'breaks', 'broadway', 'cantopop', 'canzone',\n",
              "       'caribbean', 'caucasian', 'celtic', 'chamber', 'chanson',\n",
              "       'children', 'chill', 'chinese', 'choral', 'christian', 'christmas',\n",
              "       'classical', 'classicmetal', 'club', 'colombian', 'comedy',\n",
              "       'conjazz', 'contemporary', 'country', 'cuban', 'dance',\n",
              "       'dancehall', 'dancepop', 'dark', 'death', 'deep', 'deutschrock',\n",
              "       'deutschspr', 'disco', 'dnb', 'documentary', 'downbeat',\n",
              "       'downtempo', 'drum', 'dub', 'dubstep', 'eastern', 'easy',\n",
              "       'electronic', 'electropop', 'emo', 'entehno', 'epicmetal',\n",
              "       'estrada', 'ethnic', 'eurofolk', 'european', 'experimental',\n",
              "       'extrememetal', 'fairytail', 'film', 'fitness', 'flamenco', 'folk',\n",
              "       'folklore', 'folkmetal', 'folkrock', 'folktronica', 'frankreich',\n",
              "       'french', 'funk', 'future', 'gangsta', 'garage', 'german',\n",
              "       'gitarre', 'glitch', 'gospel', 'gothic', 'grime', 'grunge',\n",
              "       'gypsy', \"hard'n'heavy\", 'hardcore', 'hardstyle', 'hardtechno',\n",
              "       'hip', 'hip-hop', 'hiphop', 'historisch', 'holiday', 'hop',\n",
              "       'house', 'hymn', 'idm', 'indian', 'indie', 'industrial',\n",
              "       'inspirational', 'instrumental', 'international', 'japanese',\n",
              "       'jazz', 'jewish', 'jpop', 'k-pop', 'karadeniz', 'karaoke',\n",
              "       'korean', 'laiko', 'latin', 'leftfield', 'local', 'lounge',\n",
              "       'lovers', 'marschmusik', 'meditative', 'mediterranean', 'melodic',\n",
              "       'metal', 'metalcore', 'mexican', 'middle', 'minimal',\n",
              "       'miscellaneous', 'modern', 'mood', 'mpb', 'muslim', 'new',\n",
              "       'newage', 'newwave', 'nu', 'nujazz', 'numetal', 'oceania', 'old',\n",
              "       'opera', 'other', 'piano', 'podcasts', 'pop', 'popeurodance',\n",
              "       'post', 'posthardcore', 'postrock', 'power', 'progmetal',\n",
              "       'progressive', 'psychedelic', 'punk', 'ragga', 'rancheras', 'rap',\n",
              "       'reggae', 'reggaeton', 'relax', 'religious', 'retro', 'rhythm',\n",
              "       'rnb', 'rnr', 'rock', 'rockabilly', 'rockalternative', 'rockindie',\n",
              "       'rockother', 'romance', 'ruspop', 'rusrap', 'rusrock', 'russian',\n",
              "       'samba', 'schlager', 'self', 'sertanejo', 'shanson', 'shoegazing',\n",
              "       'singer', 'ska', 'smooth', 'soft', 'soul', 'sound', 'soundtrack',\n",
              "       'southern', 'specialty', 'spiritual', 'sport', 'stonerrock',\n",
              "       'surf', 'swing', 'synthrock', 'sängerportrait', 'tango',\n",
              "       'taraftar', 'tatar', 'tech', 'techno', 'thrash', 'top',\n",
              "       'traditional', 'tradjazz', 'trance', 'trip', 'triphop', 'tropical',\n",
              "       'türk', 'türkçe', 'ukrrock', 'unknown', 'urban', 'uzbek',\n",
              "       'variété', 'vi', 'videogame', 'vocal', 'western', 'world', 'ïîï',\n",
              "       'электроника'], dtype=object)"
            ]
          },
          "metadata": {},
          "execution_count": 16
        }
      ],
      "source": [
        "# Просмотр уникальных названий жанров\n",
        "df['genre'].sort_values().unique()"
      ]
    },
    {
      "cell_type": "markdown",
      "metadata": {
        "id": "qej-Qmuo_Zct"
      },
      "source": [
        "Просмотрите список и найдите неявные дубликаты названия `hiphop`. Это могут быть названия с ошибками или альтернативные названия того же жанра.\n",
        "\n",
        "Вы увидите следующие неявные дубликаты:\n",
        "* *hip*,\n",
        "* *hop*,\n",
        "* *hip-hop*.\n",
        "\n",
        "Чтобы очистить от них таблицу, напишите функцию `replace_wrong_genres()` с двумя параметрами: \n",
        "* `wrong_genres` — список дубликатов,\n",
        "* `correct_genre` — строка с правильным значением.\n",
        "\n",
        "Функция должна исправить колонку `genre` в таблице `df`: заменить каждое значение из списка `wrong_genres` на значение из `correct_genre`."
      ]
    },
    {
      "cell_type": "code",
      "execution_count": 17,
      "metadata": {
        "id": "ErNDkmns_Zct"
      },
      "outputs": [],
      "source": [
        "# Функция для замены неявных дубликатов\n",
        "\n",
        "def replace_wrong_genres(wrong_genres,correct_genre):\n",
        "    for wrong in wrong_genres:\n",
        "        df['genre'] = df['genre'].replace(wrong,correct_genre)\n"
      ]
    },
    {
      "cell_type": "markdown",
      "metadata": {
        "id": "aDoBJxbA_Zct"
      },
      "source": [
        "Вызовите `replace_wrong_genres()` и передайте ей такие аргументы, чтобы она устранила неявные дубликаты: вместо `hip`, `hop` и `hip-hop` в таблице должно быть значение `hiphop`:"
      ]
    },
    {
      "cell_type": "code",
      "execution_count": 18,
      "metadata": {
        "id": "YN5i2hpmSo09"
      },
      "outputs": [],
      "source": [
        "# Устранение неявных дубликатов\n",
        "correct_genre = 'hiphop'\n",
        "wrong_genres = ['hip','hop','hip-hop']\n",
        "replace_wrong_genres(wrong_genres,correct_genre)"
      ]
    },
    {
      "cell_type": "markdown",
      "metadata": {
        "id": "zQKF16_RG15m"
      },
      "source": [
        "Проверьте, что заменили неправильные названия:\n",
        "\n",
        "*   hip\n",
        "*   hop\n",
        "*   hip-hop\n",
        "\n",
        "Выведите отсортированный список уникальных значений столбца `genre`:"
      ]
    },
    {
      "cell_type": "code",
      "execution_count": 19,
      "metadata": {
        "id": "wvixALnFG15m",
        "scrolled": true,
        "colab": {
          "base_uri": "https://localhost:8080/"
        },
        "outputId": "646f9466-5914-40df-d971-0269b7dc71ad"
      },
      "outputs": [
        {
          "output_type": "execute_result",
          "data": {
            "text/plain": [
              "array(['acoustic', 'action', 'adult', 'africa', 'afrikaans',\n",
              "       'alternative', 'alternativepunk', 'ambient', 'americana',\n",
              "       'animated', 'anime', 'arabesk', 'argentinetango', 'art',\n",
              "       'audiobook', 'author', 'avantgarde', 'balkan', 'beats', 'bigroom',\n",
              "       'black', 'bluegrass', 'blues', 'bollywood', 'brazilian',\n",
              "       'breakbeat', 'breaks', 'broadway', 'cantopop', 'canzone',\n",
              "       'caribbean', 'caucasian', 'celtic', 'chamber', 'chanson',\n",
              "       'children', 'chill', 'chinese', 'choral', 'christian', 'christmas',\n",
              "       'classical', 'classicmetal', 'club', 'colombian', 'comedy',\n",
              "       'conjazz', 'contemporary', 'country', 'cuban', 'dance',\n",
              "       'dancehall', 'dancepop', 'dark', 'death', 'deep', 'deutschrock',\n",
              "       'deutschspr', 'disco', 'dnb', 'documentary', 'downbeat',\n",
              "       'downtempo', 'drum', 'dub', 'dubstep', 'eastern', 'easy',\n",
              "       'electronic', 'electropop', 'emo', 'entehno', 'epicmetal',\n",
              "       'estrada', 'ethnic', 'eurofolk', 'european', 'experimental',\n",
              "       'extrememetal', 'fairytail', 'film', 'fitness', 'flamenco', 'folk',\n",
              "       'folklore', 'folkmetal', 'folkrock', 'folktronica', 'frankreich',\n",
              "       'french', 'funk', 'future', 'gangsta', 'garage', 'german',\n",
              "       'gitarre', 'glitch', 'gospel', 'gothic', 'grime', 'grunge',\n",
              "       'gypsy', \"hard'n'heavy\", 'hardcore', 'hardstyle', 'hardtechno',\n",
              "       'hiphop', 'historisch', 'holiday', 'house', 'hymn', 'idm',\n",
              "       'indian', 'indie', 'industrial', 'inspirational', 'instrumental',\n",
              "       'international', 'japanese', 'jazz', 'jewish', 'jpop', 'k-pop',\n",
              "       'karadeniz', 'karaoke', 'korean', 'laiko', 'latin', 'leftfield',\n",
              "       'local', 'lounge', 'lovers', 'marschmusik', 'meditative',\n",
              "       'mediterranean', 'melodic', 'metal', 'metalcore', 'mexican',\n",
              "       'middle', 'minimal', 'miscellaneous', 'modern', 'mood', 'mpb',\n",
              "       'muslim', 'new', 'newage', 'newwave', 'nu', 'nujazz', 'numetal',\n",
              "       'oceania', 'old', 'opera', 'other', 'piano', 'podcasts', 'pop',\n",
              "       'popeurodance', 'post', 'posthardcore', 'postrock', 'power',\n",
              "       'progmetal', 'progressive', 'psychedelic', 'punk', 'ragga',\n",
              "       'rancheras', 'rap', 'reggae', 'reggaeton', 'relax', 'religious',\n",
              "       'retro', 'rhythm', 'rnb', 'rnr', 'rock', 'rockabilly',\n",
              "       'rockalternative', 'rockindie', 'rockother', 'romance', 'ruspop',\n",
              "       'rusrap', 'rusrock', 'russian', 'samba', 'schlager', 'self',\n",
              "       'sertanejo', 'shanson', 'shoegazing', 'singer', 'ska', 'smooth',\n",
              "       'soft', 'soul', 'sound', 'soundtrack', 'southern', 'specialty',\n",
              "       'spiritual', 'sport', 'stonerrock', 'surf', 'swing', 'synthrock',\n",
              "       'sängerportrait', 'tango', 'taraftar', 'tatar', 'tech', 'techno',\n",
              "       'thrash', 'top', 'traditional', 'tradjazz', 'trance', 'trip',\n",
              "       'triphop', 'tropical', 'türk', 'türkçe', 'ukrrock', 'unknown',\n",
              "       'urban', 'uzbek', 'variété', 'vi', 'videogame', 'vocal', 'western',\n",
              "       'world', 'ïîï', 'электроника'], dtype=object)"
            ]
          },
          "metadata": {},
          "execution_count": 19
        }
      ],
      "source": [
        "# Проверка на неявные дубликаты\n",
        "df['genre'].sort_values().unique()"
      ]
    },
    {
      "cell_type": "markdown",
      "metadata": {
        "id": "jz6a9-7HQUDd"
      },
      "source": [
        "**Выводы**\n",
        "\n",
        "Предобработка обнаружила три проблемы в данных:\n",
        "\n",
        "- нарушения в стиле заголовков,\n",
        "- пропущенные значения,\n",
        "- дубликаты — явные и неявные.\n",
        "\n",
        "Вы исправили заголовки, чтобы упростить работу с таблицей. Без дубликатов исследование станет более точным.\n",
        "\n",
        "Пропущенные значения вы заменили на `'unknown'`. Ещё предстоит увидеть, не повредят ли исследованию пропуски в колонке `genre`.\n",
        "\n",
        "Теперь можно перейти к проверке гипотез. "
      ]
    },
    {
      "cell_type": "markdown",
      "metadata": {
        "id": "WttZHXH0SqKk"
      },
      "source": [
        "## Проверка гипотез"
      ]
    },
    {
      "cell_type": "markdown",
      "metadata": {
        "id": "Im936VVi_Zcu"
      },
      "source": [
        "### Сравнение поведения пользователей двух столиц"
      ]
    },
    {
      "cell_type": "markdown",
      "metadata": {
        "id": "nwt_MuaL_Zcu"
      },
      "source": [
        "Первая гипотеза утверждает, что пользователи по-разному слушают музыку в Москве и Санкт-Петербурге. Проверьте это предположение по данным о трёх днях недели — понедельнике, среде и пятнице. Для этого:\n",
        "\n",
        "* Разделите пользователей Москвы и Санкт-Петербурга\n",
        "* Сравните, сколько треков послушала каждая группа пользователей в понедельник, среду и пятницу.\n"
      ]
    },
    {
      "cell_type": "markdown",
      "metadata": {
        "id": "8Dw_YMmT_Zcu"
      },
      "source": [
        "Для тренировки сначала выполните каждый из расчётов по отдельности. \n",
        "\n",
        "Оцените активность пользователей в каждом городе. Сгруппируйте данные по городу и посчитайте прослушивания в каждой группе.\n",
        "\n"
      ]
    },
    {
      "cell_type": "code",
      "execution_count": 20,
      "metadata": {
        "id": "0_Qs96oh_Zcu",
        "scrolled": true,
        "colab": {
          "base_uri": "https://localhost:8080/"
        },
        "outputId": "aafb548d-b747-4dda-ee12-cc784296d2ee"
      },
      "outputs": [
        {
          "output_type": "execute_result",
          "data": {
            "text/plain": [
              "city\n",
              "Moscow              18485\n",
              "Saint-Petersburg     8095\n",
              "Name: user_id, dtype: int64"
            ]
          },
          "metadata": {},
          "execution_count": 20
        }
      ],
      "source": [
        "# Подсчёт прослушиваний в каждом городе\n",
        "city_count = df.groupby('city').count()['user_id']\n",
        "city_count"
      ]
    },
    {
      "cell_type": "markdown",
      "metadata": {
        "id": "dzli3w8o_Zcu"
      },
      "source": [
        "В Москве прослушиваний больше, чем в Петербурге. Из этого не следует, что московские пользователи чаще слушают музыку. Просто самих пользователей в Москве больше.\n",
        "\n",
        "Теперь сгруппируйте данные по дню недели и подсчитайте прослушивания в понедельник, среду и пятницу. Учтите, что в данных есть информация только о прослушиваниях только за эти дни.\n"
      ]
    },
    {
      "cell_type": "code",
      "execution_count": 21,
      "metadata": {
        "id": "uZMKjiJz_Zcu",
        "colab": {
          "base_uri": "https://localhost:8080/"
        },
        "outputId": "5603dbee-b608-4269-e23d-917715914517"
      },
      "outputs": [
        {
          "output_type": "execute_result",
          "data": {
            "text/plain": [
              "day\n",
              "Friday       9397\n",
              "Monday       9303\n",
              "Wednesday    7880\n",
              "Name: user_id, dtype: int64"
            ]
          },
          "metadata": {},
          "execution_count": 21
        }
      ],
      "source": [
        "# Подсчёт прослушиваний в каждый из трёх дней\n",
        "days_count = df.groupby('day').count()['user_id']\n",
        "days_count"
      ]
    },
    {
      "cell_type": "markdown",
      "metadata": {
        "id": "cC2tNrlL_Zcu"
      },
      "source": [
        "В среднем пользователи из двух городов менее активны по средам. Но картина может измениться, если рассмотреть каждый город в отдельности."
      ]
    },
    {
      "cell_type": "markdown",
      "metadata": {
        "id": "POzs8bGa_Zcu"
      },
      "source": [
        "Вы видели, как работает группировка по городу и по дням недели. Теперь напишите функцию, которая объединит два эти расчёта.\n",
        "\n",
        "Создайте функцию `number_tracks()`, которая посчитает прослушивания для заданного дня и города. Ей понадобятся два параметра:\n",
        "* день недели,\n",
        "* название города.\n",
        "\n",
        "В функции сохраните в переменную строки исходной таблицы, у которых значение:\n",
        "  * в колонке `day` равно параметру `day`,\n",
        "  * в колонке `city` равно параметру `city`.\n",
        "\n",
        "Для этого примените последовательную фильтрацию с логической индексацией.\n",
        "\n",
        "Затем посчитайте значения в столбце `user_id` получившейся таблицы. Результат сохраните в новую переменную. Верните эту переменную из функции."
      ]
    },
    {
      "cell_type": "code",
      "execution_count": 22,
      "metadata": {
        "id": "Nz3GdQB1_Zcu"
      },
      "outputs": [],
      "source": [
        "# <создание функции number_tracks()>\n",
        "def number_tracks(day,city):\n",
        "    track_list = df.loc[(df['day'] == day)&(df['city'] == city)]\n",
        "    track_list_count = track_list['user_id'].count()\n",
        "    return track_list_count\n",
        "\n",
        "# Объявляется функция с двумя параметрами: day, city.\n",
        "# В переменной track_list сохраняются те строки таблицы df, для которых \n",
        "# значение в столбце 'day' равно параметру day и одновременно значение\n",
        "# в столбце 'city' равно параметру city (используйте последовательную фильтрацию\n",
        "# с помощью логической индексации).\n",
        "# В переменной track_list_count сохраняется число значений столбца 'user_id',\n",
        "# рассчитанное методом count() для таблицы track_list.\n",
        "# Функция возвращает число - значение track_list_count.\n",
        "\n",
        "# Функция для подсчёта прослушиваний для конкретного города и дня.\n",
        "# С помощью последовательной фильтрации с логической индексацией она \n",
        "# сначала получит из исходной таблицы строки с нужным днём,\n",
        "# затем из результата отфильтрует строки с нужным городом,\n",
        "# методом count() посчитает количество значений в колонке user_id. \n",
        "# Это количество функция вернёт в качестве результата"
      ]
    },
    {
      "cell_type": "markdown",
      "metadata": {
        "id": "ytf7xFrFJQ2r"
      },
      "source": [
        "Вызовите `number_tracks()` шесть раз, меняя значение параметров — так, чтобы получить данные для каждого города в каждый из трёх дней."
      ]
    },
    {
      "cell_type": "code",
      "execution_count": 23,
      "metadata": {
        "id": "rJcRATNQ_Zcu",
        "colab": {
          "base_uri": "https://localhost:8080/"
        },
        "outputId": "a9f5617a-4a73-4345-ba83-e62fc5e432c0"
      },
      "outputs": [
        {
          "output_type": "stream",
          "name": "stdout",
          "text": [
            "Количество прослушиваний в Москве по понедельникам: 6850\n"
          ]
        }
      ],
      "source": [
        "# количество прослушиваний в Москве по понедельникам\n",
        "moscow_monday = number_tracks(day='Monday',city='Moscow')\n",
        "print('Количество прослушиваний в Москве по понедельникам:',moscow_monday)"
      ]
    },
    {
      "cell_type": "code",
      "execution_count": 24,
      "metadata": {
        "id": "hq_ncZ5T_Zcu",
        "colab": {
          "base_uri": "https://localhost:8080/"
        },
        "outputId": "5b7c5de5-f921-466a-e006-b2198844247b"
      },
      "outputs": [
        {
          "output_type": "stream",
          "name": "stdout",
          "text": [
            "Количество прослушиваний в Санкт-Петербурге по понедельникам: 2453\n"
          ]
        }
      ],
      "source": [
        "# количество прослушиваний в Санкт-Петербурге по понедельникам\n",
        "peter_monday = number_tracks(day='Monday',city='Saint-Petersburg')\n",
        "print('Количество прослушиваний в Санкт-Петербурге по понедельникам:',peter_monday)"
      ]
    },
    {
      "cell_type": "code",
      "execution_count": 25,
      "metadata": {
        "id": "_NTy2VPU_Zcu",
        "colab": {
          "base_uri": "https://localhost:8080/"
        },
        "outputId": "38fbb6d6-6621-4e45-d102-7a1a703117be"
      },
      "outputs": [
        {
          "output_type": "stream",
          "name": "stdout",
          "text": [
            "Количество прослушиваний в Москве по средам: 4785\n"
          ]
        }
      ],
      "source": [
        "# количество прослушиваний в Москве по средам\n",
        "moscow_wednesday = number_tracks(day='Wednesday',city='Moscow')\n",
        "print('Количество прослушиваний в Москве по средам:',moscow_wednesday)"
      ]
    },
    {
      "cell_type": "code",
      "execution_count": 26,
      "metadata": {
        "id": "j2y3TAwo_Zcu",
        "colab": {
          "base_uri": "https://localhost:8080/"
        },
        "outputId": "7e7ca2ce-2d29-48ab-832f-16b0fa5da8aa"
      },
      "outputs": [
        {
          "output_type": "stream",
          "name": "stdout",
          "text": [
            "Количество прослушиваний в Санкт-Петербурге по средам: 3095\n"
          ]
        }
      ],
      "source": [
        "# количество прослушиваний в Санкт-Петербурге по средам\n",
        "peter_wednesday = number_tracks(day='Wednesday',city='Saint-Petersburg')\n",
        "print('Количество прослушиваний в Санкт-Петербурге по средам:',peter_wednesday)"
      ]
    },
    {
      "cell_type": "code",
      "execution_count": 27,
      "metadata": {
        "id": "vYDw5u_K_Zcu",
        "colab": {
          "base_uri": "https://localhost:8080/"
        },
        "outputId": "74ba0246-28ed-492e-e0dc-1f86ffb031ad"
      },
      "outputs": [
        {
          "output_type": "stream",
          "name": "stdout",
          "text": [
            "Количество прослушиваний в Москве по пятницам: 6850\n"
          ]
        }
      ],
      "source": [
        "# количество прослушиваний в Москве по пятницам\n",
        "moscow_friday = number_tracks(day='Friday',city='Moscow')\n",
        "print('Количество прослушиваний в Москве по пятницам:',moscow_friday)"
      ]
    },
    {
      "cell_type": "code",
      "execution_count": 28,
      "metadata": {
        "id": "8_yzFtW3_Zcu",
        "colab": {
          "base_uri": "https://localhost:8080/"
        },
        "outputId": "80c216be-b228-4de1-a9c0-9c78962c8750"
      },
      "outputs": [
        {
          "output_type": "stream",
          "name": "stdout",
          "text": [
            "Количество прослушиваний в Санкт-Петербурге по пятницам: 2547\n"
          ]
        }
      ],
      "source": [
        "# количество прослушиваний в Санкт-Петербурге по пятницам\n",
        "peter_friday = number_tracks(day='Friday',city='Saint-Petersburg')\n",
        "print('Количество прослушиваний в Санкт-Петербурге по пятницам:',peter_friday)"
      ]
    },
    {
      "cell_type": "markdown",
      "metadata": {
        "id": "7QXffbO-_Zcu"
      },
      "source": [
        "Создайте c помощью конструктора `pd.DataFrame` таблицу, где\n",
        "* названия колонок — `['city', 'monday', 'wednesday', 'friday']`;\n",
        "* данные — результаты, которые вы получили с помощью `number_tracks`."
      ]
    },
    {
      "cell_type": "code",
      "execution_count": 29,
      "metadata": {
        "id": "APAcLpOr_Zcu",
        "colab": {
          "base_uri": "https://localhost:8080/",
          "height": 112
        },
        "outputId": "94033163-640c-402c-9dc8-7a283ff9b07b"
      },
      "outputs": [
        {
          "output_type": "display_data",
          "data": {
            "text/plain": [
              "               city  monday  wednesday  friday\n",
              "0            Moscow    6850       4785    6850\n",
              "1  Saint-Petersburg    2453       3095    2547"
            ],
            "text/html": [
              "\n",
              "  <div id=\"df-d3d1d1d3-fd86-4449-a697-f173d687ebb8\">\n",
              "    <div class=\"colab-df-container\">\n",
              "      <div>\n",
              "<style scoped>\n",
              "    .dataframe tbody tr th:only-of-type {\n",
              "        vertical-align: middle;\n",
              "    }\n",
              "\n",
              "    .dataframe tbody tr th {\n",
              "        vertical-align: top;\n",
              "    }\n",
              "\n",
              "    .dataframe thead th {\n",
              "        text-align: right;\n",
              "    }\n",
              "</style>\n",
              "<table border=\"1\" class=\"dataframe\">\n",
              "  <thead>\n",
              "    <tr style=\"text-align: right;\">\n",
              "      <th></th>\n",
              "      <th>city</th>\n",
              "      <th>monday</th>\n",
              "      <th>wednesday</th>\n",
              "      <th>friday</th>\n",
              "    </tr>\n",
              "  </thead>\n",
              "  <tbody>\n",
              "    <tr>\n",
              "      <th>0</th>\n",
              "      <td>Moscow</td>\n",
              "      <td>6850</td>\n",
              "      <td>4785</td>\n",
              "      <td>6850</td>\n",
              "    </tr>\n",
              "    <tr>\n",
              "      <th>1</th>\n",
              "      <td>Saint-Petersburg</td>\n",
              "      <td>2453</td>\n",
              "      <td>3095</td>\n",
              "      <td>2547</td>\n",
              "    </tr>\n",
              "  </tbody>\n",
              "</table>\n",
              "</div>\n",
              "      <button class=\"colab-df-convert\" onclick=\"convertToInteractive('df-d3d1d1d3-fd86-4449-a697-f173d687ebb8')\"\n",
              "              title=\"Convert this dataframe to an interactive table.\"\n",
              "              style=\"display:none;\">\n",
              "        \n",
              "  <svg xmlns=\"http://www.w3.org/2000/svg\" height=\"24px\"viewBox=\"0 0 24 24\"\n",
              "       width=\"24px\">\n",
              "    <path d=\"M0 0h24v24H0V0z\" fill=\"none\"/>\n",
              "    <path d=\"M18.56 5.44l.94 2.06.94-2.06 2.06-.94-2.06-.94-.94-2.06-.94 2.06-2.06.94zm-11 1L8.5 8.5l.94-2.06 2.06-.94-2.06-.94L8.5 2.5l-.94 2.06-2.06.94zm10 10l.94 2.06.94-2.06 2.06-.94-2.06-.94-.94-2.06-.94 2.06-2.06.94z\"/><path d=\"M17.41 7.96l-1.37-1.37c-.4-.4-.92-.59-1.43-.59-.52 0-1.04.2-1.43.59L10.3 9.45l-7.72 7.72c-.78.78-.78 2.05 0 2.83L4 21.41c.39.39.9.59 1.41.59.51 0 1.02-.2 1.41-.59l7.78-7.78 2.81-2.81c.8-.78.8-2.07 0-2.86zM5.41 20L4 18.59l7.72-7.72 1.47 1.35L5.41 20z\"/>\n",
              "  </svg>\n",
              "      </button>\n",
              "      \n",
              "  <style>\n",
              "    .colab-df-container {\n",
              "      display:flex;\n",
              "      flex-wrap:wrap;\n",
              "      gap: 12px;\n",
              "    }\n",
              "\n",
              "    .colab-df-convert {\n",
              "      background-color: #E8F0FE;\n",
              "      border: none;\n",
              "      border-radius: 50%;\n",
              "      cursor: pointer;\n",
              "      display: none;\n",
              "      fill: #1967D2;\n",
              "      height: 32px;\n",
              "      padding: 0 0 0 0;\n",
              "      width: 32px;\n",
              "    }\n",
              "\n",
              "    .colab-df-convert:hover {\n",
              "      background-color: #E2EBFA;\n",
              "      box-shadow: 0px 1px 2px rgba(60, 64, 67, 0.3), 0px 1px 3px 1px rgba(60, 64, 67, 0.15);\n",
              "      fill: #174EA6;\n",
              "    }\n",
              "\n",
              "    [theme=dark] .colab-df-convert {\n",
              "      background-color: #3B4455;\n",
              "      fill: #D2E3FC;\n",
              "    }\n",
              "\n",
              "    [theme=dark] .colab-df-convert:hover {\n",
              "      background-color: #434B5C;\n",
              "      box-shadow: 0px 1px 3px 1px rgba(0, 0, 0, 0.15);\n",
              "      filter: drop-shadow(0px 1px 2px rgba(0, 0, 0, 0.3));\n",
              "      fill: #FFFFFF;\n",
              "    }\n",
              "  </style>\n",
              "\n",
              "      <script>\n",
              "        const buttonEl =\n",
              "          document.querySelector('#df-d3d1d1d3-fd86-4449-a697-f173d687ebb8 button.colab-df-convert');\n",
              "        buttonEl.style.display =\n",
              "          google.colab.kernel.accessAllowed ? 'block' : 'none';\n",
              "\n",
              "        async function convertToInteractive(key) {\n",
              "          const element = document.querySelector('#df-d3d1d1d3-fd86-4449-a697-f173d687ebb8');\n",
              "          const dataTable =\n",
              "            await google.colab.kernel.invokeFunction('convertToInteractive',\n",
              "                                                     [key], {});\n",
              "          if (!dataTable) return;\n",
              "\n",
              "          const docLinkHtml = 'Like what you see? Visit the ' +\n",
              "            '<a target=\"_blank\" href=https://colab.research.google.com/notebooks/data_table.ipynb>data table notebook</a>'\n",
              "            + ' to learn more about interactive tables.';\n",
              "          element.innerHTML = '';\n",
              "          dataTable['output_type'] = 'display_data';\n",
              "          await google.colab.output.renderOutput(dataTable, element);\n",
              "          const docLink = document.createElement('div');\n",
              "          docLink.innerHTML = docLinkHtml;\n",
              "          element.appendChild(docLink);\n",
              "        }\n",
              "      </script>\n",
              "    </div>\n",
              "  </div>\n",
              "  "
            ]
          },
          "metadata": {}
        }
      ],
      "source": [
        "# Таблица с результатами\n",
        "columns=['city','monday','wednesday','friday']\n",
        "data = {'city':['Moscow','Saint-Petersburg'],'monday':[moscow_monday,peter_monday],'wednesday':[moscow_wednesday,peter_wednesday],'friday':[moscow_friday,peter_friday]}\n",
        "city_days_df = pd.DataFrame(data,columns=columns)\n",
        "display(city_days_df)"
      ]
    },
    {
      "cell_type": "markdown",
      "metadata": {
        "id": "-EgPIHYu_Zcu"
      },
      "source": [
        "**Выводы**\n",
        "\n",
        "Данные показывают разницу поведения пользователей:\n",
        "\n",
        "- В Москве пик прослушиваний приходится на понедельник и пятницу, а в среду заметен спад.\n",
        "- В Петербурге, наоборот, больше слушают музыку по средам. Активность в понедельник и пятницу здесь почти в равной мере уступает среде.\n",
        "\n",
        "Значит, данные говорят в пользу первой гипотезы."
      ]
    },
    {
      "cell_type": "markdown",
      "metadata": {
        "id": "atZAxtq4_Zcu"
      },
      "source": [
        "### Музыка в начале и в конце недели"
      ]
    },
    {
      "cell_type": "markdown",
      "metadata": {
        "id": "eXrQqXFH_Zcu"
      },
      "source": [
        "Согласно второй гипотезе, утром в понедельник в Москве преобладают одни жанры, а в Петербурге — другие. Так же и вечером пятницы преобладают разные жанры — в зависимости от города."
      ]
    },
    {
      "cell_type": "markdown",
      "metadata": {
        "id": "S8UcW6Hw_Zcu"
      },
      "source": [
        "Сохраните таблицы с данными в две переменные:\n",
        "* по Москве — в `moscow_general`;\n",
        "* по Санкт-Петербургу — в `spb_general`."
      ]
    },
    {
      "cell_type": "code",
      "execution_count": 30,
      "metadata": {
        "id": "qeaFfM_P_Zcu"
      },
      "outputs": [],
      "source": [
        "# получение таблицы moscow_general из тех строк таблицы df,\n",
        "moscow_general = df.loc[(df['city'] == 'Moscow')]\n",
        "# для которых значение в столбце 'city' равно 'Moscow'\n",
        "#display(moscow_general)"
      ]
    },
    {
      "cell_type": "code",
      "execution_count": 31,
      "metadata": {
        "id": "ORaVRKto_Zcu"
      },
      "outputs": [],
      "source": [
        "# получение таблицы spb_general из тех строк таблицы df,\n",
        "spb_general = df.loc[(df['city'] == 'Saint-Petersburg')]\n",
        "# для которых значение в столбце 'city' равно 'Saint-Petersburg'\n"
      ]
    },
    {
      "cell_type": "markdown",
      "metadata": {
        "id": "MEJV-CX2_Zcu"
      },
      "source": [
        "Создайте функцию `genre_weekday()` с четырьмя параметрами:\n",
        "* таблица (датафрейм) с данными,\n",
        "* день недели,\n",
        "* начальная временная метка в формате 'hh:mm', \n",
        "* последняя временная метка в формате 'hh:mm'.\n",
        "\n",
        "Функция должна вернуть информацию о топ-10 жанров тех треков, которые прослушивали в указанный день, в промежутке между двумя отметками времени."
      ]
    },
    {
      "cell_type": "code",
      "execution_count": 32,
      "metadata": {
        "id": "laJT9BYl_Zcu"
      },
      "outputs": [],
      "source": [
        "# Объявление функции genre_weekday() с параметрами table, day, time1, time2,\n",
        "def genre_weekday(table,day,time1,time2):\n",
        "    genre_df = table.loc[(table['day']==day)&(table['time']>time1)&(table['time']<time2)]\n",
        "    genre_df_count = genre_df.groupby('genre')['genre'].count()\n",
        "    genre_df_sorted = genre_df_count.sort_values(ascending=False)\n",
        "    return genre_df_sorted.head(10)\n",
        "# которая возвращает информацию о самых популярных жанрах в указанный день в\n",
        "# заданное время:\n",
        "# 1) в переменную genre_df сохраняются те строки переданного датафрейма table, для\n",
        "#    которых одновременно:\n",
        "#    - значение в столбце day равно значению аргумента day\n",
        "#    - значение в столбце time больше значения аргумента time1\n",
        "#    - значение в столбце time меньше значения аргумента time2\n",
        "#    Используйте последовательную фильтрацию с помощью логической индексации.\n",
        "# 2) сгруппировать датафрейм genre_df по столбцу genre, взять один из его\n",
        "#    столбцов и посчитать методом count() количество записей для каждого из\n",
        "#    присутствующих жанров, получившийся Series записать в переменную\n",
        "#    genre_df_count\n",
        "# 3) отсортировать genre_df_count по убыванию встречаемости и сохранить\n",
        "#    в переменную genre_df_sorted\n",
        "# 4) вернуть Series из 10 первых значений genre_df_sorted, это будут топ-10\n",
        "#    популярных жанров (в указанный день, в заданное время)"
      ]
    },
    {
      "cell_type": "markdown",
      "metadata": {
        "id": "la2s2_PF_Zcu"
      },
      "source": [
        "Cравните результаты функции `genre_weekday()` для Москвы и Санкт-Петербурга в понедельник утром (с 7:00 до 11:00) и в пятницу вечером (с 17:00 до 23:00):"
      ]
    },
    {
      "cell_type": "code",
      "execution_count": 33,
      "metadata": {
        "id": "yz7itPUQ_Zcu",
        "scrolled": true,
        "colab": {
          "base_uri": "https://localhost:8080/",
          "height": 225
        },
        "outputId": "3d0d538b-6b47-4a71-f622-7a8e2bf9c3ed"
      },
      "outputs": [
        {
          "output_type": "display_data",
          "data": {
            "text/plain": [
              "genre\n",
              "pop            326\n",
              "dance          239\n",
              "electronic     211\n",
              "rock           209\n",
              "hiphop         132\n",
              "ruspop          91\n",
              "world           81\n",
              "classical       76\n",
              "rusrap          72\n",
              "alternative     72\n",
              "Name: genre, dtype: int64"
            ]
          },
          "metadata": {}
        }
      ],
      "source": [
        "# вызов функции для утра понедельника в Москве (вместо df — таблица moscow_general)\n",
        "moscow_morning = genre_weekday(moscow_general,'Monday','07:00','11:00')\n",
        "# объекты, хранящие время, являются строками и сравниваются как строки\n",
        "# пример вызова: genre_weekday(moscow_general, 'Monday', '07:00', '11:00')\n",
        "display(moscow_morning)"
      ]
    },
    {
      "cell_type": "code",
      "execution_count": 34,
      "metadata": {
        "id": "kwUcHPdy_Zcu"
      },
      "outputs": [],
      "source": [
        "# вызов функции для утра понедельника в Петербурге (вместо df — таблица spb_general)\n",
        "peter_morning = genre_weekday(spb_general,'Monday','07:00','11:00')\n"
      ]
    },
    {
      "cell_type": "code",
      "execution_count": 35,
      "metadata": {
        "id": "EzXVRE1o_Zcu"
      },
      "outputs": [],
      "source": [
        "# вызов функции для вечера пятницы в Москве\n",
        "moscow_evening = genre_weekday(moscow_general,'Friday','17:00','23:00')\n"
      ]
    },
    {
      "cell_type": "code",
      "execution_count": 36,
      "metadata": {
        "id": "JZaEKu5v_Zcu"
      },
      "outputs": [],
      "source": [
        "# вызов функции для вечера пятницы в Петербурге\n",
        "peter_evening = genre_weekday(spb_general,'Friday','17:00','23:00')"
      ]
    },
    {
      "cell_type": "markdown",
      "metadata": {
        "id": "wrCe4MNX_Zcu"
      },
      "source": [
        "**Выводы**\n",
        "\n",
        "Если сравнить топ-10 жанров в понедельник утром, можно сделать такие выводы:\n",
        "\n",
        "1. В Москве и Петербурге слушают похожую музыку. Единственное отличие — в московский рейтинг вошёл жанр “world”, а в петербургский — джаз и классика.\n",
        "\n",
        "2. В Москве пропущенных значений оказалось так много, что значение `'unknown'` заняло десятое место среди самых популярных жанров. Значит, пропущенные значения занимают существенную долю в данных и угрожают достоверности исследования.\n",
        "\n",
        "Вечер пятницы не меняет эту картину. Некоторые жанры поднимаются немного выше, другие спускаются, но в целом топ-10 остаётся тем же самым.\n",
        "\n",
        "Таким образом, вторая гипотеза подтвердилась лишь частично:\n",
        "* Пользователи слушают похожую музыку в начале недели и в конце.\n",
        "* Разница между Москвой и Петербургом не слишком выражена. В Москве чаще слушают русскую популярную музыку, в Петербурге — джаз.\n",
        "\n",
        "Однако пропуски в данных ставят под сомнение этот результат. В Москве их так много, что рейтинг топ-10 мог бы выглядеть иначе, если бы не утерянные  данные о жанрах."
      ]
    },
    {
      "cell_type": "markdown",
      "metadata": {
        "id": "JolODAqr_Zcu"
      },
      "source": [
        "### Жанровые предпочтения в Москве и Петербурге\n",
        "\n",
        "Гипотеза: Петербург — столица рэпа, музыку этого жанра там слушают чаще, чем в Москве.  А Москва — город контрастов, в котором, тем не менее, преобладает поп-музыка."
      ]
    },
    {
      "cell_type": "markdown",
      "metadata": {
        "id": "DlegSvaT_Zcu"
      },
      "source": [
        "Сгруппируйте таблицу `moscow_general` по жанру и посчитайте прослушивания треков каждого жанра методом `count()`. Затем отсортируйте результат в порядке убывания и сохраните его в таблице `moscow_genres`."
      ]
    },
    {
      "cell_type": "code",
      "execution_count": 37,
      "metadata": {
        "id": "r19lIPke_Zcu",
        "scrolled": true
      },
      "outputs": [],
      "source": [
        "# одной строкой: группировка таблицы moscow_general по столбцу 'genre',\n",
        "moscow_genres = moscow_general.groupby('genre')['genre'].count().sort_values(ascending=False)\n",
        "# подсчёт числа значений 'genre' в этой группировке методом count(), \n",
        "# сортировка получившегося Series в порядке убывания и сохранение в moscow_genres"
      ]
    },
    {
      "cell_type": "markdown",
      "metadata": {
        "id": "6kMuomxTiIr8"
      },
      "source": [
        "Выведите на экран первые десять строк `moscow_genres`:"
      ]
    },
    {
      "cell_type": "code",
      "execution_count": 38,
      "metadata": {
        "id": "WhCSooF8_Zcv",
        "scrolled": true,
        "colab": {
          "base_uri": "https://localhost:8080/"
        },
        "outputId": "c858f672-93c3-4212-8b96-4159d835ecf2"
      },
      "outputs": [
        {
          "output_type": "execute_result",
          "data": {
            "text/plain": [
              "genre\n",
              "pop            2567\n",
              "dance          1949\n",
              "rock           1695\n",
              "electronic     1615\n",
              "hiphop          897\n",
              "classical       678\n",
              "world           651\n",
              "alternative     631\n",
              "ruspop          622\n",
              "rusrap          515\n",
              "Name: genre, dtype: int64"
            ]
          },
          "metadata": {},
          "execution_count": 38
        }
      ],
      "source": [
        "# просмотр первых 10 строк moscow_genres\n",
        "moscow_genres.head(10)"
      ]
    },
    {
      "cell_type": "markdown",
      "metadata": {
        "id": "cnPG2vnN_Zcv"
      },
      "source": [
        "Теперь повторите то же и для Петербурга.\n",
        "\n",
        "Сгруппируйте таблицу `spb_general` по жанру. Посчитайте прослушивания треков каждого жанра. Результат отсортируйте в порядке убывания и сохраните в таблице `spb_genres`:\n"
      ]
    },
    {
      "cell_type": "code",
      "execution_count": 39,
      "metadata": {
        "id": "gluLIpE7_Zcv"
      },
      "outputs": [],
      "source": [
        "# одной строкой: группировка таблицы spb_general по столбцу 'genre',\n",
        "spb_genres = spb_general.groupby('genre')['genre'].count().sort_values(ascending=False)\n",
        "# подсчёт числа значений 'genre' в этой группировке методом count(), \n",
        "# сортировка получившегося Series в порядке убывания и сохранение в spb_genres\n",
        "\n",
        "#display(spb_genres)"
      ]
    },
    {
      "cell_type": "markdown",
      "metadata": {
        "id": "5Doha_ODgyQ8"
      },
      "source": [
        "Выведите на экран первые десять строк `spb_genres`:"
      ]
    },
    {
      "cell_type": "code",
      "execution_count": 40,
      "metadata": {
        "id": "uaGJHjVU_Zcv",
        "scrolled": true,
        "colab": {
          "base_uri": "https://localhost:8080/"
        },
        "outputId": "12ee6649-42b2-4a10-9516-2e424656287a"
      },
      "outputs": [
        {
          "output_type": "execute_result",
          "data": {
            "text/plain": [
              "genre\n",
              "pop            1107\n",
              "dance           822\n",
              "rock            822\n",
              "electronic      781\n",
              "hiphop          440\n",
              "alternative     283\n",
              "classical       278\n",
              "rusrap          227\n",
              "ruspop          219\n",
              "world           215\n",
              "Name: genre, dtype: int64"
            ]
          },
          "metadata": {},
          "execution_count": 40
        }
      ],
      "source": [
        "# просмотр первых 10 строк spb_genres\n",
        "spb_genres.head(10)"
      ]
    },
    {
      "cell_type": "markdown",
      "metadata": {
        "id": "RY51YJYu_Zcv"
      },
      "source": [
        "**Выводы**"
      ]
    },
    {
      "cell_type": "markdown",
      "metadata": {
        "id": "nVhnJEm__Zcv"
      },
      "source": [
        "Гипотеза частично подтвердилась:\n",
        "* Поп-музыка — самый популярный жанр в Москве, как и предполагала гипотеза. Более того, в топ-10 жанров встречается близкий жанр — русская популярная музыка.\n",
        "* Вопреки ожиданиям, рэп одинаково популярен в Москве и Петербурге. \n"
      ]
    },
    {
      "cell_type": "markdown",
      "metadata": {
        "id": "ykKQ0N65_Zcv"
      },
      "source": [
        "## Итоги исследования"
      ]
    },
    {
      "cell_type": "markdown",
      "metadata": {
        "id": "tjUwbHb3_Zcv"
      },
      "source": [
        "Вы проверили три гипотезы и установили:\n",
        "\n",
        "1. День недели по-разному влияет на активность пользователей в Москве и Петербурге. \n",
        "\n",
        "Первая гипотеза полностью подтвердилась.\n",
        "\n",
        "2. Музыкальные предпочтения не сильно меняются в течение недели — будь то Москва или Петербург. Небольшие различия заметны в начале недели, по понедельникам:\n",
        "* в Москве слушают музыку жанра “world”,\n",
        "* в Петербурге — джаз и классику.\n",
        "\n",
        "Таким образом, вторая гипотеза подтвердилась лишь отчасти. Этот результат мог оказаться иным, если бы не пропуски в данных.\n",
        "\n",
        "3. Во вкусах пользователей Москвы и Петербурга больше общего чем различий. Вопреки ожиданиям, предпочтения жанров в Петербурге напоминают московские.\n",
        "\n",
        "Третья гипотеза не подтвердилась. Если различия в предпочтениях и существуют, на основной массе пользователей они незаметны.\n",
        "\n",
        "**На практике исследования содержат проверки статистических гипотез.**\n",
        "Из данных одного сервиса не всегда можно сделать вывод о всех жителях города.\n",
        "Проверки статистических гипотез покажут, насколько они достоверны, исходя из имеющихся данных. \n",
        "С методами проверок гипотез вы ещё познакомитесь в следующих темах."
      ]
    },
    {
      "cell_type": "code",
      "execution_count": 40,
      "metadata": {
        "id": "27RYQb1TijZ6"
      },
      "outputs": [],
      "source": []
    }
  ],
  "metadata": {
    "ExecuteTimeLog": [
      {
        "duration": 744,
        "start_time": "2022-03-04T10:11:01.888Z"
      },
      {
        "duration": 4,
        "start_time": "2022-03-04T10:11:04.201Z"
      },
      {
        "duration": 187,
        "start_time": "2022-03-04T10:11:54.395Z"
      },
      {
        "duration": 184,
        "start_time": "2022-03-04T10:11:56.561Z"
      },
      {
        "duration": 4,
        "start_time": "2022-03-04T10:12:16.912Z"
      },
      {
        "duration": 193,
        "start_time": "2022-03-04T10:12:18.904Z"
      },
      {
        "duration": 192,
        "start_time": "2022-03-04T10:12:21.577Z"
      },
      {
        "duration": 188,
        "start_time": "2022-03-04T10:12:22.184Z"
      },
      {
        "duration": 189,
        "start_time": "2022-03-04T10:12:22.617Z"
      },
      {
        "duration": 4,
        "start_time": "2022-03-04T10:12:38.707Z"
      },
      {
        "duration": 3,
        "start_time": "2022-03-04T10:12:40.219Z"
      },
      {
        "duration": 191,
        "start_time": "2022-03-04T10:12:42.267Z"
      },
      {
        "duration": 25,
        "start_time": "2022-03-04T10:13:13.532Z"
      },
      {
        "duration": 33,
        "start_time": "2022-03-04T10:13:30.820Z"
      },
      {
        "duration": 5,
        "start_time": "2022-03-04T10:15:22.679Z"
      },
      {
        "duration": 5,
        "start_time": "2022-03-04T10:24:14.913Z"
      },
      {
        "duration": 5,
        "start_time": "2022-03-04T10:24:23.625Z"
      },
      {
        "duration": 5,
        "start_time": "2022-03-04T10:24:41.969Z"
      },
      {
        "duration": 20,
        "start_time": "2022-03-04T10:24:43.873Z"
      },
      {
        "duration": 5,
        "start_time": "2022-03-04T10:24:45.722Z"
      },
      {
        "duration": 32,
        "start_time": "2022-03-04T10:40:37.230Z"
      },
      {
        "duration": 44,
        "start_time": "2022-03-04T10:40:54.102Z"
      },
      {
        "duration": 36,
        "start_time": "2022-03-04T10:41:03.263Z"
      },
      {
        "duration": 31,
        "start_time": "2022-03-04T10:41:20.927Z"
      },
      {
        "duration": 31,
        "start_time": "2022-03-04T10:42:17.967Z"
      },
      {
        "duration": 70,
        "start_time": "2022-03-04T10:44:37.499Z"
      },
      {
        "duration": 31,
        "start_time": "2022-03-04T10:44:50.443Z"
      },
      {
        "duration": 175,
        "start_time": "2022-03-04T10:48:21.034Z"
      },
      {
        "duration": 20,
        "start_time": "2022-03-04T10:48:34.976Z"
      },
      {
        "duration": 20,
        "start_time": "2022-03-04T10:48:38.456Z"
      },
      {
        "duration": 36,
        "start_time": "2022-03-04T10:48:40.065Z"
      },
      {
        "duration": 31,
        "start_time": "2022-03-04T10:50:27.667Z"
      },
      {
        "duration": 24,
        "start_time": "2022-03-04T10:56:17.953Z"
      },
      {
        "duration": 40,
        "start_time": "2022-03-04T10:56:19.617Z"
      },
      {
        "duration": 4,
        "start_time": "2022-03-04T10:56:33.932Z"
      },
      {
        "duration": 407,
        "start_time": "2022-03-04T10:56:46.637Z"
      },
      {
        "duration": 100,
        "start_time": "2022-03-04T10:58:17.832Z"
      },
      {
        "duration": 82,
        "start_time": "2022-03-04T10:58:25.886Z"
      },
      {
        "duration": 80,
        "start_time": "2022-03-04T10:58:38.356Z"
      },
      {
        "duration": 85,
        "start_time": "2022-03-04T10:59:31.230Z"
      },
      {
        "duration": 84,
        "start_time": "2022-03-04T12:06:57.289Z"
      },
      {
        "duration": 86,
        "start_time": "2022-03-04T12:07:00.273Z"
      },
      {
        "duration": 111,
        "start_time": "2022-03-04T12:07:45.987Z"
      },
      {
        "duration": 82,
        "start_time": "2022-03-04T12:07:53.978Z"
      },
      {
        "duration": 85,
        "start_time": "2022-03-04T12:07:59.146Z"
      },
      {
        "duration": 107,
        "start_time": "2022-03-04T12:08:01.091Z"
      },
      {
        "duration": 87,
        "start_time": "2022-03-04T12:08:04.699Z"
      },
      {
        "duration": 9,
        "start_time": "2022-03-04T12:23:19.409Z"
      },
      {
        "duration": 11,
        "start_time": "2022-03-04T12:24:26.371Z"
      },
      {
        "duration": 9,
        "start_time": "2022-03-04T12:24:49.380Z"
      },
      {
        "duration": 58,
        "start_time": "2022-03-04T12:38:49.398Z"
      },
      {
        "duration": 57,
        "start_time": "2022-03-04T12:39:11.655Z"
      },
      {
        "duration": 4,
        "start_time": "2022-03-04T12:39:46.463Z"
      },
      {
        "duration": 330,
        "start_time": "2022-03-04T12:39:49.663Z"
      },
      {
        "duration": 886,
        "start_time": "2022-03-04T12:40:02.137Z"
      },
      {
        "duration": 555,
        "start_time": "2022-03-04T12:40:22.170Z"
      },
      {
        "duration": 311,
        "start_time": "2022-03-04T12:40:49.809Z"
      },
      {
        "duration": 240,
        "start_time": "2022-03-04T12:41:17.257Z"
      },
      {
        "duration": 282,
        "start_time": "2022-03-04T12:43:07.772Z"
      },
      {
        "duration": 536,
        "start_time": "2022-03-04T12:43:38.556Z"
      },
      {
        "duration": 488,
        "start_time": "2022-03-04T12:43:53.107Z"
      },
      {
        "duration": 445,
        "start_time": "2022-03-04T12:44:47.741Z"
      },
      {
        "duration": 366,
        "start_time": "2022-03-04T12:45:58.878Z"
      },
      {
        "duration": 505,
        "start_time": "2022-03-04T12:46:08.741Z"
      },
      {
        "duration": 261,
        "start_time": "2022-03-04T12:56:38.440Z"
      },
      {
        "duration": 857,
        "start_time": "2022-03-04T12:58:35.393Z"
      },
      {
        "duration": 465,
        "start_time": "2022-03-04T13:00:51.090Z"
      },
      {
        "duration": 572,
        "start_time": "2022-03-04T13:02:36.477Z"
      },
      {
        "duration": 534,
        "start_time": "2022-03-04T13:03:26.053Z"
      },
      {
        "duration": 482,
        "start_time": "2022-03-04T13:04:30.133Z"
      },
      {
        "duration": 466,
        "start_time": "2022-03-04T13:06:01.023Z"
      },
      {
        "duration": 304,
        "start_time": "2022-03-04T13:06:10.110Z"
      },
      {
        "duration": 233,
        "start_time": "2022-03-04T13:06:28.006Z"
      },
      {
        "duration": 133,
        "start_time": "2022-03-04T13:06:33.326Z"
      },
      {
        "duration": 479,
        "start_time": "2022-03-04T13:06:36.993Z"
      },
      {
        "duration": 258,
        "start_time": "2022-03-04T13:06:48.214Z"
      },
      {
        "duration": 520,
        "start_time": "2022-03-04T13:06:50.542Z"
      },
      {
        "duration": 3,
        "start_time": "2022-03-04T13:07:18.505Z"
      },
      {
        "duration": 209,
        "start_time": "2022-03-04T13:07:18.511Z"
      },
      {
        "duration": 16,
        "start_time": "2022-03-04T13:07:18.722Z"
      },
      {
        "duration": 56,
        "start_time": "2022-03-04T13:07:18.741Z"
      },
      {
        "duration": 4,
        "start_time": "2022-03-04T13:07:18.800Z"
      },
      {
        "duration": 25,
        "start_time": "2022-03-04T13:07:18.807Z"
      },
      {
        "duration": 5,
        "start_time": "2022-03-04T13:07:18.836Z"
      },
      {
        "duration": 32,
        "start_time": "2022-03-04T13:07:18.875Z"
      },
      {
        "duration": 22,
        "start_time": "2022-03-04T13:07:18.910Z"
      },
      {
        "duration": 65,
        "start_time": "2022-03-04T13:07:18.935Z"
      },
      {
        "duration": 97,
        "start_time": "2022-03-04T13:07:19.002Z"
      },
      {
        "duration": 105,
        "start_time": "2022-03-04T13:07:19.102Z"
      },
      {
        "duration": 91,
        "start_time": "2022-03-04T13:07:19.210Z"
      },
      {
        "duration": 71,
        "start_time": "2022-03-04T13:07:19.304Z"
      },
      {
        "duration": 242,
        "start_time": "2022-03-04T13:07:19.378Z"
      },
      {
        "duration": -1944,
        "start_time": "2022-03-04T13:07:21.568Z"
      },
      {
        "duration": -1949,
        "start_time": "2022-03-04T13:07:21.574Z"
      },
      {
        "duration": -1952,
        "start_time": "2022-03-04T13:07:21.579Z"
      },
      {
        "duration": -1956,
        "start_time": "2022-03-04T13:07:21.584Z"
      },
      {
        "duration": -1960,
        "start_time": "2022-03-04T13:07:21.590Z"
      },
      {
        "duration": -1964,
        "start_time": "2022-03-04T13:07:21.595Z"
      },
      {
        "duration": -1967,
        "start_time": "2022-03-04T13:07:21.600Z"
      },
      {
        "duration": -1972,
        "start_time": "2022-03-04T13:07:21.606Z"
      },
      {
        "duration": -1975,
        "start_time": "2022-03-04T13:07:21.611Z"
      },
      {
        "duration": -1986,
        "start_time": "2022-03-04T13:07:21.623Z"
      },
      {
        "duration": -1990,
        "start_time": "2022-03-04T13:07:21.628Z"
      },
      {
        "duration": -1993,
        "start_time": "2022-03-04T13:07:21.633Z"
      },
      {
        "duration": -1998,
        "start_time": "2022-03-04T13:07:21.639Z"
      },
      {
        "duration": -2000,
        "start_time": "2022-03-04T13:07:21.643Z"
      },
      {
        "duration": -2005,
        "start_time": "2022-03-04T13:07:21.649Z"
      },
      {
        "duration": -2007,
        "start_time": "2022-03-04T13:07:21.653Z"
      },
      {
        "duration": -2012,
        "start_time": "2022-03-04T13:07:21.659Z"
      },
      {
        "duration": -2015,
        "start_time": "2022-03-04T13:07:21.663Z"
      },
      {
        "duration": -2018,
        "start_time": "2022-03-04T13:07:21.668Z"
      },
      {
        "duration": -2021,
        "start_time": "2022-03-04T13:07:21.672Z"
      },
      {
        "duration": -2025,
        "start_time": "2022-03-04T13:07:21.677Z"
      },
      {
        "duration": -2028,
        "start_time": "2022-03-04T13:07:21.682Z"
      },
      {
        "duration": -2033,
        "start_time": "2022-03-04T13:07:21.688Z"
      },
      {
        "duration": 57,
        "start_time": "2022-03-04T13:07:43.392Z"
      },
      {
        "duration": 268,
        "start_time": "2022-03-04T13:08:39.569Z"
      },
      {
        "duration": 19,
        "start_time": "2022-03-04T13:08:41.264Z"
      },
      {
        "duration": 469,
        "start_time": "2022-03-04T13:08:42.888Z"
      },
      {
        "duration": 246,
        "start_time": "2022-03-04T13:08:46.313Z"
      },
      {
        "duration": 230,
        "start_time": "2022-03-04T13:08:55.271Z"
      },
      {
        "duration": 225,
        "start_time": "2022-03-04T13:09:02.360Z"
      },
      {
        "duration": 3,
        "start_time": "2022-03-04T13:09:11.869Z"
      },
      {
        "duration": 215,
        "start_time": "2022-03-04T13:09:11.874Z"
      },
      {
        "duration": 15,
        "start_time": "2022-03-04T13:09:12.092Z"
      },
      {
        "duration": 36,
        "start_time": "2022-03-04T13:09:12.110Z"
      },
      {
        "duration": 26,
        "start_time": "2022-03-04T13:09:12.149Z"
      },
      {
        "duration": 23,
        "start_time": "2022-03-04T13:09:12.178Z"
      },
      {
        "duration": 5,
        "start_time": "2022-03-04T13:09:12.204Z"
      },
      {
        "duration": 63,
        "start_time": "2022-03-04T13:09:12.212Z"
      },
      {
        "duration": 24,
        "start_time": "2022-03-04T13:09:12.277Z"
      },
      {
        "duration": 32,
        "start_time": "2022-03-04T13:09:12.303Z"
      },
      {
        "duration": 118,
        "start_time": "2022-03-04T13:09:12.337Z"
      },
      {
        "duration": 104,
        "start_time": "2022-03-04T13:09:12.457Z"
      },
      {
        "duration": 82,
        "start_time": "2022-03-04T13:09:12.564Z"
      },
      {
        "duration": 76,
        "start_time": "2022-03-04T13:09:12.649Z"
      },
      {
        "duration": 263,
        "start_time": "2022-03-04T13:09:12.727Z"
      },
      {
        "duration": -1942,
        "start_time": "2022-03-04T13:09:14.935Z"
      },
      {
        "duration": -1944,
        "start_time": "2022-03-04T13:09:14.939Z"
      },
      {
        "duration": -1948,
        "start_time": "2022-03-04T13:09:14.945Z"
      },
      {
        "duration": -1952,
        "start_time": "2022-03-04T13:09:14.950Z"
      },
      {
        "duration": -1955,
        "start_time": "2022-03-04T13:09:14.955Z"
      },
      {
        "duration": -1958,
        "start_time": "2022-03-04T13:09:14.960Z"
      },
      {
        "duration": -1960,
        "start_time": "2022-03-04T13:09:14.964Z"
      },
      {
        "duration": -1964,
        "start_time": "2022-03-04T13:09:14.969Z"
      },
      {
        "duration": -1972,
        "start_time": "2022-03-04T13:09:14.979Z"
      },
      {
        "duration": -1975,
        "start_time": "2022-03-04T13:09:14.983Z"
      },
      {
        "duration": -1978,
        "start_time": "2022-03-04T13:09:14.988Z"
      },
      {
        "duration": -1980,
        "start_time": "2022-03-04T13:09:14.992Z"
      },
      {
        "duration": -1984,
        "start_time": "2022-03-04T13:09:14.997Z"
      },
      {
        "duration": -1987,
        "start_time": "2022-03-04T13:09:15.002Z"
      },
      {
        "duration": -1991,
        "start_time": "2022-03-04T13:09:15.007Z"
      },
      {
        "duration": -1994,
        "start_time": "2022-03-04T13:09:15.012Z"
      },
      {
        "duration": -2003,
        "start_time": "2022-03-04T13:09:15.023Z"
      },
      {
        "duration": -2007,
        "start_time": "2022-03-04T13:09:15.028Z"
      },
      {
        "duration": -2009,
        "start_time": "2022-03-04T13:09:15.032Z"
      },
      {
        "duration": -2012,
        "start_time": "2022-03-04T13:09:15.037Z"
      },
      {
        "duration": -2015,
        "start_time": "2022-03-04T13:09:15.042Z"
      },
      {
        "duration": -2018,
        "start_time": "2022-03-04T13:09:15.046Z"
      },
      {
        "duration": -2026,
        "start_time": "2022-03-04T13:09:15.056Z"
      },
      {
        "duration": 58,
        "start_time": "2022-03-04T13:09:24.017Z"
      },
      {
        "duration": 19,
        "start_time": "2022-03-04T13:10:17.618Z"
      },
      {
        "duration": 470,
        "start_time": "2022-03-04T13:10:20.883Z"
      },
      {
        "duration": 463,
        "start_time": "2022-03-04T13:10:23.953Z"
      },
      {
        "duration": 480,
        "start_time": "2022-03-04T13:10:33.034Z"
      },
      {
        "duration": 283,
        "start_time": "2022-03-04T13:11:34.938Z"
      },
      {
        "duration": 528,
        "start_time": "2022-03-04T13:13:02.837Z"
      },
      {
        "duration": 240,
        "start_time": "2022-03-04T13:13:04.500Z"
      },
      {
        "duration": 441,
        "start_time": "2022-03-04T13:13:12.883Z"
      },
      {
        "duration": 389,
        "start_time": "2022-03-04T13:13:50.390Z"
      },
      {
        "duration": 395,
        "start_time": "2022-03-04T13:15:25.454Z"
      },
      {
        "duration": 483,
        "start_time": "2022-03-04T13:15:30.455Z"
      },
      {
        "duration": 234,
        "start_time": "2022-03-04T13:16:15.076Z"
      },
      {
        "duration": 402,
        "start_time": "2022-03-04T13:16:18.503Z"
      },
      {
        "duration": 232,
        "start_time": "2022-03-04T13:17:08.378Z"
      },
      {
        "duration": 225,
        "start_time": "2022-03-04T13:17:16.823Z"
      },
      {
        "duration": 232,
        "start_time": "2022-03-04T13:17:40.151Z"
      },
      {
        "duration": 426,
        "start_time": "2022-03-04T13:22:07.283Z"
      },
      {
        "duration": 235,
        "start_time": "2022-03-04T13:22:16.163Z"
      },
      {
        "duration": 237,
        "start_time": "2022-03-04T13:22:59.756Z"
      },
      {
        "duration": 225,
        "start_time": "2022-03-04T13:23:15.156Z"
      },
      {
        "duration": 277,
        "start_time": "2022-03-04T13:23:53.845Z"
      },
      {
        "duration": 261,
        "start_time": "2022-03-04T13:24:02.173Z"
      },
      {
        "duration": 456,
        "start_time": "2022-03-04T13:24:10.885Z"
      },
      {
        "duration": 245,
        "start_time": "2022-03-04T13:24:40.844Z"
      },
      {
        "duration": 472,
        "start_time": "2022-03-04T13:24:45.733Z"
      },
      {
        "duration": 418,
        "start_time": "2022-03-04T13:24:51.366Z"
      },
      {
        "duration": 506,
        "start_time": "2022-03-04T13:24:54.366Z"
      },
      {
        "duration": 465,
        "start_time": "2022-03-04T13:25:33.263Z"
      },
      {
        "duration": 500,
        "start_time": "2022-03-04T13:26:52.759Z"
      },
      {
        "duration": 396,
        "start_time": "2022-03-04T13:26:54.745Z"
      },
      {
        "duration": 484,
        "start_time": "2022-03-04T13:27:33.288Z"
      },
      {
        "duration": 390,
        "start_time": "2022-03-04T13:27:35.874Z"
      },
      {
        "duration": 6,
        "start_time": "2022-03-04T13:28:06.857Z"
      },
      {
        "duration": 3,
        "start_time": "2022-03-04T13:28:25.701Z"
      },
      {
        "duration": 201,
        "start_time": "2022-03-04T13:28:25.710Z"
      },
      {
        "duration": 15,
        "start_time": "2022-03-04T13:28:25.914Z"
      },
      {
        "duration": 51,
        "start_time": "2022-03-04T13:28:25.932Z"
      },
      {
        "duration": 4,
        "start_time": "2022-03-04T13:28:25.986Z"
      },
      {
        "duration": 23,
        "start_time": "2022-03-04T13:28:25.993Z"
      },
      {
        "duration": 5,
        "start_time": "2022-03-04T13:28:26.019Z"
      },
      {
        "duration": 67,
        "start_time": "2022-03-04T13:28:26.026Z"
      },
      {
        "duration": 23,
        "start_time": "2022-03-04T13:28:26.096Z"
      },
      {
        "duration": 49,
        "start_time": "2022-03-04T13:28:26.124Z"
      },
      {
        "duration": 105,
        "start_time": "2022-03-04T13:28:26.176Z"
      },
      {
        "duration": 103,
        "start_time": "2022-03-04T13:28:26.283Z"
      },
      {
        "duration": 85,
        "start_time": "2022-03-04T13:28:26.389Z"
      },
      {
        "duration": 59,
        "start_time": "2022-03-04T13:28:26.477Z"
      },
      {
        "duration": 49,
        "start_time": "2022-03-04T13:28:26.539Z"
      },
      {
        "duration": 20,
        "start_time": "2022-03-04T13:28:26.591Z"
      },
      {
        "duration": 88,
        "start_time": "2022-03-04T13:28:26.614Z"
      },
      {
        "duration": 3,
        "start_time": "2022-03-04T13:28:26.705Z"
      },
      {
        "duration": 6,
        "start_time": "2022-03-04T13:28:26.710Z"
      },
      {
        "duration": 15,
        "start_time": "2022-03-04T13:28:26.719Z"
      },
      {
        "duration": 15,
        "start_time": "2022-03-04T13:28:26.737Z"
      },
      {
        "duration": 7,
        "start_time": "2022-03-04T13:28:26.755Z"
      },
      {
        "duration": 9,
        "start_time": "2022-03-04T13:28:26.765Z"
      },
      {
        "duration": 7,
        "start_time": "2022-03-04T13:28:26.777Z"
      },
      {
        "duration": 7,
        "start_time": "2022-03-04T13:28:26.786Z"
      },
      {
        "duration": 10,
        "start_time": "2022-03-04T13:28:26.795Z"
      },
      {
        "duration": 6,
        "start_time": "2022-03-04T13:28:26.808Z"
      },
      {
        "duration": 3,
        "start_time": "2022-03-04T13:28:26.819Z"
      },
      {
        "duration": 11,
        "start_time": "2022-03-04T13:28:26.824Z"
      },
      {
        "duration": 6,
        "start_time": "2022-03-04T13:28:26.838Z"
      },
      {
        "duration": 4,
        "start_time": "2022-03-04T13:28:26.874Z"
      },
      {
        "duration": 6,
        "start_time": "2022-03-04T13:28:26.881Z"
      },
      {
        "duration": 10,
        "start_time": "2022-03-04T13:28:26.889Z"
      },
      {
        "duration": 13,
        "start_time": "2022-03-04T13:28:26.901Z"
      },
      {
        "duration": 9,
        "start_time": "2022-03-04T13:28:26.917Z"
      },
      {
        "duration": 9,
        "start_time": "2022-03-04T13:28:26.929Z"
      },
      {
        "duration": 8,
        "start_time": "2022-03-04T13:28:26.941Z"
      },
      {
        "duration": 24,
        "start_time": "2022-03-04T13:28:26.952Z"
      },
      {
        "duration": 3,
        "start_time": "2022-03-04T13:29:59.392Z"
      },
      {
        "duration": 225,
        "start_time": "2022-03-04T13:29:59.398Z"
      },
      {
        "duration": 15,
        "start_time": "2022-03-04T13:29:59.626Z"
      },
      {
        "duration": 52,
        "start_time": "2022-03-04T13:29:59.644Z"
      },
      {
        "duration": 9,
        "start_time": "2022-03-04T13:29:59.699Z"
      },
      {
        "duration": 45,
        "start_time": "2022-03-04T13:29:59.710Z"
      },
      {
        "duration": 6,
        "start_time": "2022-03-04T13:29:59.759Z"
      },
      {
        "duration": 48,
        "start_time": "2022-03-04T13:29:59.767Z"
      },
      {
        "duration": 35,
        "start_time": "2022-03-04T13:29:59.817Z"
      },
      {
        "duration": 38,
        "start_time": "2022-03-04T13:29:59.855Z"
      },
      {
        "duration": 93,
        "start_time": "2022-03-04T13:29:59.895Z"
      },
      {
        "duration": 116,
        "start_time": "2022-03-04T13:29:59.991Z"
      },
      {
        "duration": 86,
        "start_time": "2022-03-04T13:30:00.110Z"
      },
      {
        "duration": 74,
        "start_time": "2022-03-04T13:30:00.199Z"
      },
      {
        "duration": 28,
        "start_time": "2022-03-04T13:30:00.276Z"
      },
      {
        "duration": 27,
        "start_time": "2022-03-04T13:30:00.307Z"
      },
      {
        "duration": 83,
        "start_time": "2022-03-04T13:30:00.337Z"
      },
      {
        "duration": 11,
        "start_time": "2022-03-04T13:30:00.422Z"
      },
      {
        "duration": 27,
        "start_time": "2022-03-04T13:30:00.438Z"
      },
      {
        "duration": 23,
        "start_time": "2022-03-04T13:30:00.468Z"
      },
      {
        "duration": 32,
        "start_time": "2022-03-04T13:30:00.493Z"
      },
      {
        "duration": 31,
        "start_time": "2022-03-04T13:30:00.528Z"
      },
      {
        "duration": 24,
        "start_time": "2022-03-04T13:30:00.562Z"
      },
      {
        "duration": 30,
        "start_time": "2022-03-04T13:30:00.589Z"
      },
      {
        "duration": 17,
        "start_time": "2022-03-04T13:30:00.621Z"
      },
      {
        "duration": 29,
        "start_time": "2022-03-04T13:30:00.641Z"
      },
      {
        "duration": 32,
        "start_time": "2022-03-04T13:30:00.672Z"
      },
      {
        "duration": 25,
        "start_time": "2022-03-04T13:30:00.706Z"
      },
      {
        "duration": 33,
        "start_time": "2022-03-04T13:30:00.733Z"
      },
      {
        "duration": 16,
        "start_time": "2022-03-04T13:30:00.769Z"
      },
      {
        "duration": 50,
        "start_time": "2022-03-04T13:30:00.788Z"
      },
      {
        "duration": 24,
        "start_time": "2022-03-04T13:30:00.841Z"
      },
      {
        "duration": 39,
        "start_time": "2022-03-04T13:30:00.868Z"
      },
      {
        "duration": 27,
        "start_time": "2022-03-04T13:30:00.910Z"
      },
      {
        "duration": 16,
        "start_time": "2022-03-04T13:30:00.940Z"
      },
      {
        "duration": 30,
        "start_time": "2022-03-04T13:30:00.958Z"
      },
      {
        "duration": 30,
        "start_time": "2022-03-04T13:30:00.991Z"
      },
      {
        "duration": 30,
        "start_time": "2022-03-04T13:30:01.024Z"
      },
      {
        "duration": 11,
        "start_time": "2022-03-04T13:31:32.980Z"
      },
      {
        "duration": 61,
        "start_time": "2022-03-04T13:31:37.570Z"
      },
      {
        "duration": 240,
        "start_time": "2022-03-04T13:32:15.444Z"
      },
      {
        "duration": 261,
        "start_time": "2022-03-04T13:32:32.803Z"
      },
      {
        "duration": 252,
        "start_time": "2022-03-04T13:34:02.894Z"
      },
      {
        "duration": 3,
        "start_time": "2022-03-04T13:34:54.795Z"
      },
      {
        "duration": 203,
        "start_time": "2022-03-04T13:34:54.801Z"
      },
      {
        "duration": 15,
        "start_time": "2022-03-04T13:34:55.007Z"
      },
      {
        "duration": 52,
        "start_time": "2022-03-04T13:34:55.025Z"
      },
      {
        "duration": 5,
        "start_time": "2022-03-04T13:34:55.080Z"
      },
      {
        "duration": 30,
        "start_time": "2022-03-04T13:34:55.087Z"
      },
      {
        "duration": 5,
        "start_time": "2022-03-04T13:34:55.121Z"
      },
      {
        "duration": 66,
        "start_time": "2022-03-04T13:34:55.129Z"
      },
      {
        "duration": 24,
        "start_time": "2022-03-04T13:34:55.197Z"
      },
      {
        "duration": 50,
        "start_time": "2022-03-04T13:34:55.223Z"
      },
      {
        "duration": 102,
        "start_time": "2022-03-04T13:34:55.276Z"
      },
      {
        "duration": 110,
        "start_time": "2022-03-04T13:34:55.381Z"
      },
      {
        "duration": 92,
        "start_time": "2022-03-04T13:34:55.493Z"
      },
      {
        "duration": 58,
        "start_time": "2022-03-04T13:34:55.587Z"
      },
      {
        "duration": 34,
        "start_time": "2022-03-04T13:34:55.647Z"
      },
      {
        "duration": 17,
        "start_time": "2022-03-04T13:34:55.683Z"
      },
      {
        "duration": 82,
        "start_time": "2022-03-04T13:34:55.703Z"
      },
      {
        "duration": 3,
        "start_time": "2022-03-04T13:34:55.787Z"
      },
      {
        "duration": 8,
        "start_time": "2022-03-04T13:34:55.795Z"
      },
      {
        "duration": 6,
        "start_time": "2022-03-04T13:34:55.806Z"
      },
      {
        "duration": 13,
        "start_time": "2022-03-04T13:34:55.814Z"
      },
      {
        "duration": 6,
        "start_time": "2022-03-04T13:34:55.830Z"
      },
      {
        "duration": 6,
        "start_time": "2022-03-04T13:34:55.839Z"
      },
      {
        "duration": 28,
        "start_time": "2022-03-04T13:34:55.847Z"
      },
      {
        "duration": 13,
        "start_time": "2022-03-04T13:34:55.878Z"
      },
      {
        "duration": 9,
        "start_time": "2022-03-04T13:34:55.894Z"
      },
      {
        "duration": 8,
        "start_time": "2022-03-04T13:34:55.905Z"
      },
      {
        "duration": 8,
        "start_time": "2022-03-04T13:34:55.915Z"
      },
      {
        "duration": 10,
        "start_time": "2022-03-04T13:34:55.926Z"
      },
      {
        "duration": 8,
        "start_time": "2022-03-04T13:34:55.938Z"
      },
      {
        "duration": 11,
        "start_time": "2022-03-04T13:34:55.949Z"
      },
      {
        "duration": 11,
        "start_time": "2022-03-04T13:34:55.963Z"
      },
      {
        "duration": 8,
        "start_time": "2022-03-04T13:34:55.977Z"
      },
      {
        "duration": 5,
        "start_time": "2022-03-04T13:34:55.987Z"
      },
      {
        "duration": 5,
        "start_time": "2022-03-04T13:34:55.995Z"
      },
      {
        "duration": 7,
        "start_time": "2022-03-04T13:34:56.002Z"
      },
      {
        "duration": 12,
        "start_time": "2022-03-04T13:34:56.011Z"
      },
      {
        "duration": 20,
        "start_time": "2022-03-04T13:34:56.025Z"
      },
      {
        "duration": 3,
        "start_time": "2022-03-04T13:35:45.337Z"
      },
      {
        "duration": 205,
        "start_time": "2022-03-04T13:35:45.343Z"
      },
      {
        "duration": 24,
        "start_time": "2022-03-04T13:35:45.551Z"
      },
      {
        "duration": 33,
        "start_time": "2022-03-04T13:35:45.578Z"
      },
      {
        "duration": 5,
        "start_time": "2022-03-04T13:35:45.614Z"
      },
      {
        "duration": 60,
        "start_time": "2022-03-04T13:35:45.622Z"
      },
      {
        "duration": 5,
        "start_time": "2022-03-04T13:35:45.685Z"
      },
      {
        "duration": 34,
        "start_time": "2022-03-04T13:35:45.694Z"
      },
      {
        "duration": 52,
        "start_time": "2022-03-04T13:35:45.731Z"
      },
      {
        "duration": 33,
        "start_time": "2022-03-04T13:35:45.786Z"
      },
      {
        "duration": 119,
        "start_time": "2022-03-04T13:35:45.821Z"
      },
      {
        "duration": 108,
        "start_time": "2022-03-04T13:35:45.944Z"
      },
      {
        "duration": 87,
        "start_time": "2022-03-04T13:35:46.055Z"
      },
      {
        "duration": 73,
        "start_time": "2022-03-04T13:35:46.145Z"
      },
      {
        "duration": 31,
        "start_time": "2022-03-04T13:35:46.221Z"
      },
      {
        "duration": 14,
        "start_time": "2022-03-04T13:35:46.275Z"
      },
      {
        "duration": 87,
        "start_time": "2022-03-04T13:35:46.292Z"
      },
      {
        "duration": 4,
        "start_time": "2022-03-04T13:35:46.383Z"
      },
      {
        "duration": 3,
        "start_time": "2022-03-04T13:35:46.394Z"
      },
      {
        "duration": 7,
        "start_time": "2022-03-04T13:35:46.400Z"
      },
      {
        "duration": 8,
        "start_time": "2022-03-04T13:35:46.409Z"
      },
      {
        "duration": 5,
        "start_time": "2022-03-04T13:35:46.419Z"
      },
      {
        "duration": 7,
        "start_time": "2022-03-04T13:35:46.427Z"
      },
      {
        "duration": 3,
        "start_time": "2022-03-04T13:35:46.474Z"
      },
      {
        "duration": 6,
        "start_time": "2022-03-04T13:35:46.479Z"
      },
      {
        "duration": 8,
        "start_time": "2022-03-04T13:35:46.487Z"
      },
      {
        "duration": 12,
        "start_time": "2022-03-04T13:35:46.497Z"
      },
      {
        "duration": 7,
        "start_time": "2022-03-04T13:35:46.512Z"
      },
      {
        "duration": 6,
        "start_time": "2022-03-04T13:35:46.522Z"
      },
      {
        "duration": 11,
        "start_time": "2022-03-04T13:35:46.530Z"
      },
      {
        "duration": 30,
        "start_time": "2022-03-04T13:35:46.543Z"
      },
      {
        "duration": 8,
        "start_time": "2022-03-04T13:35:46.576Z"
      },
      {
        "duration": 9,
        "start_time": "2022-03-04T13:35:46.587Z"
      },
      {
        "duration": 6,
        "start_time": "2022-03-04T13:35:46.598Z"
      },
      {
        "duration": 6,
        "start_time": "2022-03-04T13:35:46.606Z"
      },
      {
        "duration": 6,
        "start_time": "2022-03-04T13:35:46.614Z"
      },
      {
        "duration": 5,
        "start_time": "2022-03-04T13:35:46.623Z"
      },
      {
        "duration": 6,
        "start_time": "2022-03-04T13:35:46.631Z"
      },
      {
        "duration": 3,
        "start_time": "2022-03-04T13:37:56.209Z"
      },
      {
        "duration": 204,
        "start_time": "2022-03-04T13:37:56.214Z"
      },
      {
        "duration": 15,
        "start_time": "2022-03-04T13:37:56.421Z"
      },
      {
        "duration": 49,
        "start_time": "2022-03-04T13:37:56.438Z"
      },
      {
        "duration": 6,
        "start_time": "2022-03-04T13:37:56.489Z"
      },
      {
        "duration": 25,
        "start_time": "2022-03-04T13:37:56.497Z"
      },
      {
        "duration": 5,
        "start_time": "2022-03-04T13:37:56.526Z"
      },
      {
        "duration": 59,
        "start_time": "2022-03-04T13:37:56.534Z"
      },
      {
        "duration": 22,
        "start_time": "2022-03-04T13:37:56.595Z"
      },
      {
        "duration": 54,
        "start_time": "2022-03-04T13:37:56.620Z"
      },
      {
        "duration": 84,
        "start_time": "2022-03-04T13:37:56.677Z"
      },
      {
        "duration": 116,
        "start_time": "2022-03-04T13:37:56.763Z"
      },
      {
        "duration": 92,
        "start_time": "2022-03-04T13:37:56.882Z"
      },
      {
        "duration": 60,
        "start_time": "2022-03-04T13:37:56.976Z"
      },
      {
        "duration": 392,
        "start_time": "2022-03-04T13:37:57.038Z"
      },
      {
        "duration": -1923,
        "start_time": "2022-03-04T13:37:59.356Z"
      },
      {
        "duration": -1926,
        "start_time": "2022-03-04T13:37:59.361Z"
      },
      {
        "duration": -1935,
        "start_time": "2022-03-04T13:37:59.371Z"
      },
      {
        "duration": -1939,
        "start_time": "2022-03-04T13:37:59.377Z"
      },
      {
        "duration": -1943,
        "start_time": "2022-03-04T13:37:59.382Z"
      },
      {
        "duration": -1947,
        "start_time": "2022-03-04T13:37:59.387Z"
      },
      {
        "duration": -1950,
        "start_time": "2022-03-04T13:37:59.392Z"
      },
      {
        "duration": -1954,
        "start_time": "2022-03-04T13:37:59.397Z"
      },
      {
        "duration": -1959,
        "start_time": "2022-03-04T13:37:59.403Z"
      },
      {
        "duration": -1963,
        "start_time": "2022-03-04T13:37:59.408Z"
      },
      {
        "duration": -1966,
        "start_time": "2022-03-04T13:37:59.412Z"
      },
      {
        "duration": -1976,
        "start_time": "2022-03-04T13:37:59.424Z"
      },
      {
        "duration": -1979,
        "start_time": "2022-03-04T13:37:59.428Z"
      },
      {
        "duration": -1983,
        "start_time": "2022-03-04T13:37:59.433Z"
      },
      {
        "duration": -1986,
        "start_time": "2022-03-04T13:37:59.437Z"
      },
      {
        "duration": -1989,
        "start_time": "2022-03-04T13:37:59.442Z"
      },
      {
        "duration": -1991,
        "start_time": "2022-03-04T13:37:59.445Z"
      },
      {
        "duration": -1996,
        "start_time": "2022-03-04T13:37:59.451Z"
      },
      {
        "duration": -1997,
        "start_time": "2022-03-04T13:37:59.454Z"
      },
      {
        "duration": -2001,
        "start_time": "2022-03-04T13:37:59.459Z"
      },
      {
        "duration": -2003,
        "start_time": "2022-03-04T13:37:59.463Z"
      },
      {
        "duration": -2008,
        "start_time": "2022-03-04T13:37:59.469Z"
      },
      {
        "duration": -2011,
        "start_time": "2022-03-04T13:37:59.473Z"
      },
      {
        "duration": 26,
        "start_time": "2022-03-04T13:38:21.977Z"
      },
      {
        "duration": 11,
        "start_time": "2022-03-04T13:38:33.594Z"
      },
      {
        "duration": 58,
        "start_time": "2022-03-04T13:38:36.753Z"
      },
      {
        "duration": 222,
        "start_time": "2022-03-04T13:43:26.110Z"
      },
      {
        "duration": 11,
        "start_time": "2022-03-04T13:43:32.773Z"
      },
      {
        "duration": 11,
        "start_time": "2022-03-04T13:43:34.613Z"
      },
      {
        "duration": 59,
        "start_time": "2022-03-04T13:43:37.549Z"
      },
      {
        "duration": 3,
        "start_time": "2022-03-04T13:43:44.261Z"
      },
      {
        "duration": 237,
        "start_time": "2022-03-04T13:43:44.267Z"
      },
      {
        "duration": 16,
        "start_time": "2022-03-04T13:43:44.507Z"
      },
      {
        "duration": 49,
        "start_time": "2022-03-04T13:43:44.526Z"
      },
      {
        "duration": 6,
        "start_time": "2022-03-04T13:43:44.578Z"
      },
      {
        "duration": 27,
        "start_time": "2022-03-04T13:43:44.587Z"
      },
      {
        "duration": 6,
        "start_time": "2022-03-04T13:43:44.619Z"
      },
      {
        "duration": 78,
        "start_time": "2022-03-04T13:43:44.628Z"
      },
      {
        "duration": 25,
        "start_time": "2022-03-04T13:43:44.708Z"
      },
      {
        "duration": 52,
        "start_time": "2022-03-04T13:43:44.736Z"
      },
      {
        "duration": 121,
        "start_time": "2022-03-04T13:43:44.791Z"
      },
      {
        "duration": 132,
        "start_time": "2022-03-04T13:43:44.914Z"
      },
      {
        "duration": 100,
        "start_time": "2022-03-04T13:43:45.049Z"
      },
      {
        "duration": 74,
        "start_time": "2022-03-04T13:43:45.152Z"
      },
      {
        "duration": 3474,
        "start_time": "2022-03-04T13:43:45.229Z"
      },
      {
        "duration": -1918,
        "start_time": "2022-03-04T13:43:50.625Z"
      },
      {
        "duration": -1923,
        "start_time": "2022-03-04T13:43:50.631Z"
      },
      {
        "duration": -1927,
        "start_time": "2022-03-04T13:43:50.637Z"
      },
      {
        "duration": -1929,
        "start_time": "2022-03-04T13:43:50.641Z"
      },
      {
        "duration": -1933,
        "start_time": "2022-03-04T13:43:50.647Z"
      },
      {
        "duration": -1936,
        "start_time": "2022-03-04T13:43:50.651Z"
      },
      {
        "duration": -1938,
        "start_time": "2022-03-04T13:43:50.655Z"
      },
      {
        "duration": -1948,
        "start_time": "2022-03-04T13:43:50.666Z"
      },
      {
        "duration": -1951,
        "start_time": "2022-03-04T13:43:50.670Z"
      },
      {
        "duration": -1954,
        "start_time": "2022-03-04T13:43:50.675Z"
      },
      {
        "duration": -1958,
        "start_time": "2022-03-04T13:43:50.680Z"
      },
      {
        "duration": -1961,
        "start_time": "2022-03-04T13:43:50.684Z"
      },
      {
        "duration": -1965,
        "start_time": "2022-03-04T13:43:50.689Z"
      },
      {
        "duration": -1972,
        "start_time": "2022-03-04T13:43:50.698Z"
      },
      {
        "duration": -1976,
        "start_time": "2022-03-04T13:43:50.703Z"
      },
      {
        "duration": -1979,
        "start_time": "2022-03-04T13:43:50.707Z"
      },
      {
        "duration": -1983,
        "start_time": "2022-03-04T13:43:50.712Z"
      },
      {
        "duration": -1985,
        "start_time": "2022-03-04T13:43:50.716Z"
      },
      {
        "duration": -1994,
        "start_time": "2022-03-04T13:43:50.726Z"
      },
      {
        "duration": -1997,
        "start_time": "2022-03-04T13:43:50.730Z"
      },
      {
        "duration": -2002,
        "start_time": "2022-03-04T13:43:50.736Z"
      },
      {
        "duration": -1964,
        "start_time": "2022-03-04T13:43:50.740Z"
      },
      {
        "duration": -1966,
        "start_time": "2022-03-04T13:43:50.744Z"
      },
      {
        "duration": 18,
        "start_time": "2022-03-04T13:44:18.006Z"
      },
      {
        "duration": -1918,
        "start_time": "2022-03-04T13:44:56.801Z"
      },
      {
        "duration": 286,
        "start_time": "2022-03-04T13:44:56.487Z"
      },
      {
        "duration": -1918,
        "start_time": "2022-03-04T13:45:19.833Z"
      },
      {
        "duration": 59,
        "start_time": "2022-03-04T13:45:19.294Z"
      },
      {
        "duration": 3786,
        "start_time": "2022-03-04T13:46:58.583Z"
      },
      {
        "duration": -1920,
        "start_time": "2022-03-04T13:47:04.293Z"
      },
      {
        "duration": 4218,
        "start_time": "2022-03-04T13:47:08.135Z"
      },
      {
        "duration": -1942,
        "start_time": "2022-03-04T13:47:14.298Z"
      },
      {
        "duration": 29,
        "start_time": "2022-03-04T13:48:37.762Z"
      },
      {
        "duration": 14,
        "start_time": "2022-03-04T13:48:42.889Z"
      },
      {
        "duration": 60,
        "start_time": "2022-03-04T13:48:44.776Z"
      },
      {
        "duration": 250,
        "start_time": "2022-03-04T13:49:04.850Z"
      },
      {
        "duration": 25,
        "start_time": "2022-03-04T13:49:10.746Z"
      },
      {
        "duration": 97,
        "start_time": "2022-03-04T13:49:12.578Z"
      },
      {
        "duration": 90,
        "start_time": "2022-03-04T13:49:20.002Z"
      },
      {
        "duration": 16,
        "start_time": "2022-03-04T13:49:52.266Z"
      },
      {
        "duration": -1904,
        "start_time": "2022-03-04T13:50:10.480Z"
      },
      {
        "duration": 19,
        "start_time": "2022-03-04T13:50:08.947Z"
      },
      {
        "duration": 91,
        "start_time": "2022-03-04T13:50:10.723Z"
      },
      {
        "duration": 97,
        "start_time": "2022-03-04T13:51:03.957Z"
      },
      {
        "duration": 15,
        "start_time": "2022-03-04T13:51:12.452Z"
      },
      {
        "duration": 3234,
        "start_time": "2022-03-04T13:51:26.691Z"
      },
      {
        "duration": -1917,
        "start_time": "2022-03-04T13:51:31.846Z"
      },
      {
        "duration": 3240,
        "start_time": "2022-03-04T13:51:39.069Z"
      },
      {
        "duration": -1918,
        "start_time": "2022-03-04T13:51:44.230Z"
      },
      {
        "duration": 3124,
        "start_time": "2022-03-04T13:51:45.077Z"
      },
      {
        "duration": -1918,
        "start_time": "2022-03-04T13:51:50.121Z"
      },
      {
        "duration": 3246,
        "start_time": "2022-03-04T13:52:20.093Z"
      },
      {
        "duration": 3415,
        "start_time": "2022-03-04T13:54:54.855Z"
      },
      {
        "duration": 3086,
        "start_time": "2022-03-04T13:55:30.038Z"
      },
      {
        "duration": 3339,
        "start_time": "2022-03-04T13:56:41.889Z"
      },
      {
        "duration": 13,
        "start_time": "2022-03-04T13:56:57.912Z"
      },
      {
        "duration": 3013,
        "start_time": "2022-03-04T13:57:05.567Z"
      },
      {
        "duration": 2873,
        "start_time": "2022-03-04T13:57:43.673Z"
      },
      {
        "duration": 3306,
        "start_time": "2022-03-04T14:55:14.123Z"
      },
      {
        "duration": 3,
        "start_time": "2022-03-04T14:55:24.900Z"
      },
      {
        "duration": 214,
        "start_time": "2022-03-04T14:55:24.906Z"
      },
      {
        "duration": 16,
        "start_time": "2022-03-04T14:55:25.123Z"
      },
      {
        "duration": 48,
        "start_time": "2022-03-04T14:55:25.141Z"
      },
      {
        "duration": 6,
        "start_time": "2022-03-04T14:55:25.192Z"
      },
      {
        "duration": 27,
        "start_time": "2022-03-04T14:55:25.201Z"
      },
      {
        "duration": 16,
        "start_time": "2022-03-04T14:55:25.232Z"
      },
      {
        "duration": 31,
        "start_time": "2022-03-04T14:55:25.274Z"
      },
      {
        "duration": 23,
        "start_time": "2022-03-04T14:55:25.308Z"
      },
      {
        "duration": 58,
        "start_time": "2022-03-04T14:55:25.334Z"
      },
      {
        "duration": 98,
        "start_time": "2022-03-04T14:55:25.394Z"
      },
      {
        "duration": 110,
        "start_time": "2022-03-04T14:55:25.494Z"
      },
      {
        "duration": 90,
        "start_time": "2022-03-04T14:55:25.607Z"
      },
      {
        "duration": 899,
        "start_time": "2022-03-04T14:55:25.699Z"
      },
      {
        "duration": 12,
        "start_time": "2022-03-04T14:55:26.600Z"
      },
      {
        "duration": 1025,
        "start_time": "2022-03-04T14:55:26.614Z"
      },
      {
        "duration": 5246,
        "start_time": "2022-03-04T14:55:22.397Z"
      },
      {
        "duration": 5241,
        "start_time": "2022-03-04T14:55:22.403Z"
      },
      {
        "duration": 5238,
        "start_time": "2022-03-04T14:55:22.408Z"
      },
      {
        "duration": 5235,
        "start_time": "2022-03-04T14:55:22.412Z"
      },
      {
        "duration": 5233,
        "start_time": "2022-03-04T14:55:22.416Z"
      },
      {
        "duration": 5231,
        "start_time": "2022-03-04T14:55:22.419Z"
      },
      {
        "duration": 5229,
        "start_time": "2022-03-04T14:55:22.422Z"
      },
      {
        "duration": 5228,
        "start_time": "2022-03-04T14:55:22.425Z"
      },
      {
        "duration": 5226,
        "start_time": "2022-03-04T14:55:22.428Z"
      },
      {
        "duration": 5217,
        "start_time": "2022-03-04T14:55:22.438Z"
      },
      {
        "duration": 5214,
        "start_time": "2022-03-04T14:55:22.442Z"
      },
      {
        "duration": 5213,
        "start_time": "2022-03-04T14:55:22.445Z"
      },
      {
        "duration": 5210,
        "start_time": "2022-03-04T14:55:22.449Z"
      },
      {
        "duration": 5207,
        "start_time": "2022-03-04T14:55:22.453Z"
      },
      {
        "duration": 5204,
        "start_time": "2022-03-04T14:55:22.457Z"
      },
      {
        "duration": 5203,
        "start_time": "2022-03-04T14:55:22.460Z"
      },
      {
        "duration": 5200,
        "start_time": "2022-03-04T14:55:22.464Z"
      },
      {
        "duration": 5196,
        "start_time": "2022-03-04T14:55:22.469Z"
      },
      {
        "duration": 5192,
        "start_time": "2022-03-04T14:55:22.474Z"
      },
      {
        "duration": 5190,
        "start_time": "2022-03-04T14:55:22.478Z"
      },
      {
        "duration": 5186,
        "start_time": "2022-03-04T14:55:22.483Z"
      },
      {
        "duration": 5181,
        "start_time": "2022-03-04T14:55:22.489Z"
      },
      {
        "duration": 4,
        "start_time": "2022-03-04T15:01:38.768Z"
      },
      {
        "duration": 785,
        "start_time": "2022-03-04T15:09:46.483Z"
      },
      {
        "duration": 197,
        "start_time": "2022-03-04T15:09:47.270Z"
      },
      {
        "duration": 29,
        "start_time": "2022-03-04T15:09:47.471Z"
      },
      {
        "duration": 35,
        "start_time": "2022-03-04T15:09:47.503Z"
      },
      {
        "duration": 36,
        "start_time": "2022-03-04T15:09:47.541Z"
      },
      {
        "duration": 33,
        "start_time": "2022-03-04T15:09:47.580Z"
      },
      {
        "duration": 8,
        "start_time": "2022-03-04T15:09:47.615Z"
      },
      {
        "duration": 70,
        "start_time": "2022-03-04T15:09:47.626Z"
      },
      {
        "duration": 23,
        "start_time": "2022-03-04T15:09:47.699Z"
      },
      {
        "duration": 50,
        "start_time": "2022-03-04T15:09:47.724Z"
      },
      {
        "duration": 100,
        "start_time": "2022-03-04T15:09:47.776Z"
      },
      {
        "duration": 120,
        "start_time": "2022-03-04T15:09:47.878Z"
      },
      {
        "duration": 91,
        "start_time": "2022-03-04T15:09:48.000Z"
      },
      {
        "duration": 740,
        "start_time": "2022-03-04T15:09:48.093Z"
      },
      {
        "duration": 4,
        "start_time": "2022-03-04T15:09:48.835Z"
      },
      {
        "duration": 747,
        "start_time": "2022-03-04T15:13:40.198Z"
      },
      {
        "duration": 186,
        "start_time": "2022-03-04T15:13:40.947Z"
      },
      {
        "duration": 37,
        "start_time": "2022-03-04T15:13:41.136Z"
      },
      {
        "duration": 33,
        "start_time": "2022-03-04T15:13:41.176Z"
      },
      {
        "duration": 6,
        "start_time": "2022-03-04T15:13:41.211Z"
      },
      {
        "duration": 61,
        "start_time": "2022-03-04T15:13:41.220Z"
      },
      {
        "duration": 5,
        "start_time": "2022-03-04T15:13:41.283Z"
      },
      {
        "duration": 33,
        "start_time": "2022-03-04T15:13:41.292Z"
      },
      {
        "duration": 47,
        "start_time": "2022-03-04T15:13:41.328Z"
      },
      {
        "duration": 31,
        "start_time": "2022-03-04T15:13:41.378Z"
      },
      {
        "duration": 110,
        "start_time": "2022-03-04T15:13:41.412Z"
      },
      {
        "duration": 112,
        "start_time": "2022-03-04T15:13:41.524Z"
      },
      {
        "duration": 91,
        "start_time": "2022-03-04T15:13:41.638Z"
      },
      {
        "duration": 62,
        "start_time": "2022-03-04T15:13:41.732Z"
      },
      {
        "duration": 4,
        "start_time": "2022-03-04T15:13:41.797Z"
      },
      {
        "duration": 499916,
        "start_time": "2022-03-04T15:13:41.803Z"
      },
      {
        "duration": 5243,
        "start_time": "2022-03-04T15:21:56.479Z"
      },
      {
        "duration": 5238,
        "start_time": "2022-03-04T15:21:56.486Z"
      },
      {
        "duration": 5235,
        "start_time": "2022-03-04T15:21:56.490Z"
      },
      {
        "duration": 5233,
        "start_time": "2022-03-04T15:21:56.493Z"
      },
      {
        "duration": 5229,
        "start_time": "2022-03-04T15:21:56.499Z"
      },
      {
        "duration": 5226,
        "start_time": "2022-03-04T15:21:56.503Z"
      },
      {
        "duration": 5223,
        "start_time": "2022-03-04T15:21:56.508Z"
      },
      {
        "duration": 5219,
        "start_time": "2022-03-04T15:21:56.513Z"
      },
      {
        "duration": 5210,
        "start_time": "2022-03-04T15:21:56.523Z"
      },
      {
        "duration": 5206,
        "start_time": "2022-03-04T15:21:56.528Z"
      },
      {
        "duration": 5203,
        "start_time": "2022-03-04T15:21:56.533Z"
      },
      {
        "duration": 5199,
        "start_time": "2022-03-04T15:21:56.538Z"
      },
      {
        "duration": 5195,
        "start_time": "2022-03-04T15:21:56.543Z"
      },
      {
        "duration": 5191,
        "start_time": "2022-03-04T15:21:56.548Z"
      },
      {
        "duration": 5188,
        "start_time": "2022-03-04T15:21:56.553Z"
      },
      {
        "duration": 5184,
        "start_time": "2022-03-04T15:21:56.558Z"
      },
      {
        "duration": 5182,
        "start_time": "2022-03-04T15:21:56.561Z"
      },
      {
        "duration": 5181,
        "start_time": "2022-03-04T15:21:56.564Z"
      },
      {
        "duration": 5177,
        "start_time": "2022-03-04T15:21:56.569Z"
      },
      {
        "duration": 5168,
        "start_time": "2022-03-04T15:21:56.579Z"
      },
      {
        "duration": 5165,
        "start_time": "2022-03-04T15:21:56.583Z"
      },
      {
        "duration": 5162,
        "start_time": "2022-03-04T15:21:56.587Z"
      },
      {
        "duration": 5160,
        "start_time": "2022-03-04T15:21:56.591Z"
      },
      {
        "duration": 34,
        "start_time": "2022-03-04T15:22:33.618Z"
      },
      {
        "duration": 31,
        "start_time": "2022-03-04T15:22:36.259Z"
      },
      {
        "duration": 30,
        "start_time": "2022-03-04T15:22:39.971Z"
      },
      {
        "duration": 30,
        "start_time": "2022-03-04T15:22:57.039Z"
      },
      {
        "duration": 31,
        "start_time": "2022-03-04T15:22:59.299Z"
      },
      {
        "duration": 32,
        "start_time": "2022-03-04T15:23:15.490Z"
      },
      {
        "duration": 29,
        "start_time": "2022-03-04T15:23:35.788Z"
      },
      {
        "duration": 5264,
        "start_time": "2022-03-04T15:32:05.084Z"
      },
      {
        "duration": 5260,
        "start_time": "2022-03-04T15:32:05.090Z"
      },
      {
        "duration": 5257,
        "start_time": "2022-03-04T15:32:05.094Z"
      },
      {
        "duration": 5253,
        "start_time": "2022-03-04T15:32:05.099Z"
      },
      {
        "duration": 784,
        "start_time": "2022-03-04T15:35:00.757Z"
      },
      {
        "duration": 206,
        "start_time": "2022-03-04T15:35:03.818Z"
      },
      {
        "duration": 28,
        "start_time": "2022-03-04T15:35:07.319Z"
      },
      {
        "duration": 36,
        "start_time": "2022-03-04T15:35:09.721Z"
      },
      {
        "duration": 7,
        "start_time": "2022-03-04T15:35:16.145Z"
      },
      {
        "duration": 30,
        "start_time": "2022-03-04T15:35:18.616Z"
      },
      {
        "duration": 5,
        "start_time": "2022-03-04T15:35:20.386Z"
      },
      {
        "duration": 31,
        "start_time": "2022-03-04T15:35:23.999Z"
      },
      {
        "duration": 23,
        "start_time": "2022-03-04T15:35:29.119Z"
      },
      {
        "duration": 32,
        "start_time": "2022-03-04T15:35:33.057Z"
      },
      {
        "duration": 89,
        "start_time": "2022-03-04T15:35:35.201Z"
      },
      {
        "duration": 100,
        "start_time": "2022-03-04T15:35:38.727Z"
      },
      {
        "duration": 80,
        "start_time": "2022-03-04T15:35:40.447Z"
      },
      {
        "duration": 90,
        "start_time": "2022-03-04T15:35:43.451Z"
      },
      {
        "duration": 5,
        "start_time": "2022-03-04T15:35:47.787Z"
      },
      {
        "duration": 886,
        "start_time": "2022-03-04T15:36:28.790Z"
      },
      {
        "duration": 195,
        "start_time": "2022-03-04T15:36:29.679Z"
      },
      {
        "duration": 28,
        "start_time": "2022-03-04T15:36:29.877Z"
      },
      {
        "duration": 35,
        "start_time": "2022-03-04T15:36:29.909Z"
      },
      {
        "duration": 30,
        "start_time": "2022-03-04T15:36:29.947Z"
      },
      {
        "duration": 34,
        "start_time": "2022-03-04T15:36:29.980Z"
      },
      {
        "duration": 18,
        "start_time": "2022-03-04T15:36:30.016Z"
      },
      {
        "duration": 50,
        "start_time": "2022-03-04T15:36:30.038Z"
      },
      {
        "duration": 32,
        "start_time": "2022-03-04T15:36:30.091Z"
      },
      {
        "duration": 29,
        "start_time": "2022-03-04T15:36:30.126Z"
      },
      {
        "duration": 118,
        "start_time": "2022-03-04T15:36:30.157Z"
      },
      {
        "duration": 121,
        "start_time": "2022-03-04T15:36:30.277Z"
      },
      {
        "duration": 89,
        "start_time": "2022-03-04T15:36:30.400Z"
      },
      {
        "duration": 57,
        "start_time": "2022-03-04T15:36:30.492Z"
      },
      {
        "duration": 23,
        "start_time": "2022-03-04T15:36:30.551Z"
      },
      {
        "duration": 25,
        "start_time": "2022-03-04T15:36:30.577Z"
      },
      {
        "duration": 74,
        "start_time": "2022-03-04T15:36:30.605Z"
      },
      {
        "duration": 4,
        "start_time": "2022-03-04T15:36:30.682Z"
      },
      {
        "duration": 13,
        "start_time": "2022-03-04T15:36:30.689Z"
      },
      {
        "duration": 26,
        "start_time": "2022-03-04T15:36:30.704Z"
      },
      {
        "duration": 34,
        "start_time": "2022-03-04T15:36:30.733Z"
      },
      {
        "duration": 12,
        "start_time": "2022-03-04T15:36:30.769Z"
      },
      {
        "duration": 10,
        "start_time": "2022-03-04T15:36:30.785Z"
      },
      {
        "duration": 11,
        "start_time": "2022-03-04T15:36:30.798Z"
      },
      {
        "duration": 37,
        "start_time": "2022-03-04T15:36:30.811Z"
      },
      {
        "duration": 32,
        "start_time": "2022-03-04T15:36:30.851Z"
      },
      {
        "duration": 14,
        "start_time": "2022-03-04T15:36:30.886Z"
      },
      {
        "duration": 8,
        "start_time": "2022-03-04T15:36:30.903Z"
      },
      {
        "duration": 11,
        "start_time": "2022-03-04T15:36:30.914Z"
      },
      {
        "duration": 21,
        "start_time": "2022-03-04T15:36:30.929Z"
      },
      {
        "duration": 20,
        "start_time": "2022-03-04T15:36:30.953Z"
      },
      {
        "duration": 11,
        "start_time": "2022-03-04T15:36:30.975Z"
      },
      {
        "duration": 22,
        "start_time": "2022-03-04T15:36:30.989Z"
      },
      {
        "duration": 15,
        "start_time": "2022-03-04T15:36:31.014Z"
      },
      {
        "duration": 19,
        "start_time": "2022-03-04T15:36:31.031Z"
      },
      {
        "duration": 16,
        "start_time": "2022-03-04T15:36:31.052Z"
      },
      {
        "duration": 11,
        "start_time": "2022-03-04T15:36:31.070Z"
      },
      {
        "duration": 12,
        "start_time": "2022-03-04T15:36:31.084Z"
      },
      {
        "duration": 19,
        "start_time": "2022-03-04T15:36:45.403Z"
      },
      {
        "duration": 19,
        "start_time": "2022-03-04T15:36:46.943Z"
      },
      {
        "duration": 312,
        "start_time": "2022-03-04T15:54:21.531Z"
      },
      {
        "duration": 248,
        "start_time": "2022-03-04T15:54:52.380Z"
      },
      {
        "duration": 707,
        "start_time": "2022-03-04T15:55:49.022Z"
      },
      {
        "duration": 191,
        "start_time": "2022-03-04T15:55:50.620Z"
      },
      {
        "duration": 26,
        "start_time": "2022-03-04T15:55:52.451Z"
      },
      {
        "duration": 35,
        "start_time": "2022-03-04T15:55:53.690Z"
      },
      {
        "duration": 5,
        "start_time": "2022-03-04T15:55:58.440Z"
      },
      {
        "duration": 31,
        "start_time": "2022-03-04T15:56:01.703Z"
      },
      {
        "duration": 6,
        "start_time": "2022-03-04T15:56:04.722Z"
      },
      {
        "duration": 33,
        "start_time": "2022-03-04T15:56:06.690Z"
      },
      {
        "duration": 23,
        "start_time": "2022-03-04T15:56:09.622Z"
      },
      {
        "duration": 32,
        "start_time": "2022-03-04T15:56:11.492Z"
      },
      {
        "duration": 87,
        "start_time": "2022-03-04T15:56:14.330Z"
      },
      {
        "duration": 105,
        "start_time": "2022-03-04T15:56:16.371Z"
      },
      {
        "duration": 82,
        "start_time": "2022-03-04T15:56:20.711Z"
      },
      {
        "duration": 61,
        "start_time": "2022-03-04T15:56:29.611Z"
      },
      {
        "duration": 4,
        "start_time": "2022-03-04T15:56:37.853Z"
      },
      {
        "duration": 14,
        "start_time": "2022-03-04T15:56:40.071Z"
      },
      {
        "duration": 65,
        "start_time": "2022-03-04T15:56:42.855Z"
      },
      {
        "duration": 289,
        "start_time": "2022-03-04T15:56:46.501Z"
      },
      {
        "duration": 226,
        "start_time": "2022-03-04T15:56:53.541Z"
      },
      {
        "duration": 248,
        "start_time": "2022-03-04T15:57:07.271Z"
      },
      {
        "duration": 238,
        "start_time": "2022-03-04T16:12:41.996Z"
      },
      {
        "duration": 235,
        "start_time": "2022-03-04T16:14:59.047Z"
      },
      {
        "duration": 253,
        "start_time": "2022-03-04T16:15:03.770Z"
      },
      {
        "duration": 3,
        "start_time": "2022-03-04T16:15:25.101Z"
      },
      {
        "duration": 210,
        "start_time": "2022-03-04T16:15:25.107Z"
      },
      {
        "duration": 17,
        "start_time": "2022-03-04T16:15:25.320Z"
      },
      {
        "duration": 55,
        "start_time": "2022-03-04T16:15:25.340Z"
      },
      {
        "duration": 6,
        "start_time": "2022-03-04T16:15:25.397Z"
      },
      {
        "duration": 36,
        "start_time": "2022-03-04T16:15:25.405Z"
      },
      {
        "duration": 6,
        "start_time": "2022-03-04T16:15:25.443Z"
      },
      {
        "duration": 33,
        "start_time": "2022-03-04T16:15:25.478Z"
      },
      {
        "duration": 57,
        "start_time": "2022-03-04T16:15:25.516Z"
      },
      {
        "duration": 33,
        "start_time": "2022-03-04T16:15:25.576Z"
      },
      {
        "duration": 109,
        "start_time": "2022-03-04T16:15:25.611Z"
      },
      {
        "duration": 113,
        "start_time": "2022-03-04T16:15:25.723Z"
      },
      {
        "duration": 96,
        "start_time": "2022-03-04T16:15:25.839Z"
      },
      {
        "duration": 64,
        "start_time": "2022-03-04T16:15:25.937Z"
      },
      {
        "duration": 4,
        "start_time": "2022-03-04T16:15:26.003Z"
      },
      {
        "duration": 20,
        "start_time": "2022-03-04T16:15:26.010Z"
      },
      {
        "duration": 83,
        "start_time": "2022-03-04T16:15:26.033Z"
      },
      {
        "duration": 4,
        "start_time": "2022-03-04T16:15:26.118Z"
      },
      {
        "duration": 10,
        "start_time": "2022-03-04T16:15:26.124Z"
      },
      {
        "duration": 6,
        "start_time": "2022-03-04T16:15:26.136Z"
      },
      {
        "duration": 29,
        "start_time": "2022-03-04T16:15:26.144Z"
      },
      {
        "duration": 6,
        "start_time": "2022-03-04T16:15:26.176Z"
      },
      {
        "duration": 4,
        "start_time": "2022-03-04T16:15:26.186Z"
      },
      {
        "duration": 6,
        "start_time": "2022-03-04T16:15:26.193Z"
      },
      {
        "duration": 6,
        "start_time": "2022-03-04T16:15:26.202Z"
      },
      {
        "duration": 10,
        "start_time": "2022-03-04T16:15:26.211Z"
      },
      {
        "duration": 8,
        "start_time": "2022-03-04T16:15:26.223Z"
      },
      {
        "duration": 12,
        "start_time": "2022-03-04T16:15:26.234Z"
      },
      {
        "duration": 3,
        "start_time": "2022-03-04T16:15:26.274Z"
      },
      {
        "duration": 13,
        "start_time": "2022-03-04T16:15:26.280Z"
      },
      {
        "duration": 23,
        "start_time": "2022-03-04T16:15:26.295Z"
      },
      {
        "duration": 9,
        "start_time": "2022-03-04T16:15:26.321Z"
      },
      {
        "duration": 13,
        "start_time": "2022-03-04T16:15:26.332Z"
      },
      {
        "duration": 5,
        "start_time": "2022-03-04T16:15:26.348Z"
      },
      {
        "duration": 6,
        "start_time": "2022-03-04T16:15:26.355Z"
      },
      {
        "duration": 12,
        "start_time": "2022-03-04T16:15:26.363Z"
      },
      {
        "duration": 8,
        "start_time": "2022-03-04T16:15:26.377Z"
      },
      {
        "duration": 9,
        "start_time": "2022-03-04T16:15:26.387Z"
      },
      {
        "duration": 7,
        "start_time": "2022-03-04T16:20:25.398Z"
      },
      {
        "duration": 8234,
        "start_time": "2022-03-04T16:21:58.997Z"
      },
      {
        "duration": 307,
        "start_time": "2022-03-04T16:23:37.831Z"
      },
      {
        "duration": 898,
        "start_time": "2022-03-04T16:23:50.391Z"
      },
      {
        "duration": 194,
        "start_time": "2022-03-04T16:23:51.292Z"
      },
      {
        "duration": 26,
        "start_time": "2022-03-04T16:23:51.489Z"
      },
      {
        "duration": 32,
        "start_time": "2022-03-04T16:23:51.517Z"
      },
      {
        "duration": 6,
        "start_time": "2022-03-04T16:23:51.574Z"
      },
      {
        "duration": 33,
        "start_time": "2022-03-04T16:23:51.582Z"
      },
      {
        "duration": 7,
        "start_time": "2022-03-04T16:23:51.618Z"
      },
      {
        "duration": 61,
        "start_time": "2022-03-04T16:23:51.629Z"
      },
      {
        "duration": 24,
        "start_time": "2022-03-04T16:23:51.694Z"
      },
      {
        "duration": 54,
        "start_time": "2022-03-04T16:23:51.721Z"
      },
      {
        "duration": 111,
        "start_time": "2022-03-04T16:23:51.777Z"
      },
      {
        "duration": 120,
        "start_time": "2022-03-04T16:23:51.890Z"
      },
      {
        "duration": 89,
        "start_time": "2022-03-04T16:23:52.013Z"
      },
      {
        "duration": 68,
        "start_time": "2022-03-04T16:23:52.105Z"
      },
      {
        "duration": 17,
        "start_time": "2022-03-04T16:23:52.176Z"
      },
      {
        "duration": 22,
        "start_time": "2022-03-04T16:23:52.195Z"
      },
      {
        "duration": 60,
        "start_time": "2022-03-04T16:23:52.220Z"
      },
      {
        "duration": 3,
        "start_time": "2022-03-04T16:24:01.212Z"
      },
      {
        "duration": 48,
        "start_time": "2022-03-04T16:24:01.218Z"
      },
      {
        "duration": 34,
        "start_time": "2022-03-04T16:24:01.268Z"
      },
      {
        "duration": 20,
        "start_time": "2022-03-04T16:24:01.305Z"
      },
      {
        "duration": 10,
        "start_time": "2022-03-04T16:24:01.330Z"
      },
      {
        "duration": 22,
        "start_time": "2022-03-04T16:24:01.343Z"
      },
      {
        "duration": 16,
        "start_time": "2022-03-04T16:24:01.367Z"
      },
      {
        "duration": 25,
        "start_time": "2022-03-04T16:24:01.385Z"
      },
      {
        "duration": 22,
        "start_time": "2022-03-04T16:24:01.413Z"
      },
      {
        "duration": 42,
        "start_time": "2022-03-04T16:24:01.437Z"
      },
      {
        "duration": 25,
        "start_time": "2022-03-04T16:24:01.482Z"
      },
      {
        "duration": 26,
        "start_time": "2022-03-04T16:24:01.510Z"
      },
      {
        "duration": 34,
        "start_time": "2022-03-04T16:24:01.539Z"
      },
      {
        "duration": 35,
        "start_time": "2022-03-04T16:24:01.575Z"
      },
      {
        "duration": 30,
        "start_time": "2022-03-04T16:24:01.613Z"
      },
      {
        "duration": 21,
        "start_time": "2022-03-04T16:24:01.646Z"
      },
      {
        "duration": 30,
        "start_time": "2022-03-04T16:24:01.669Z"
      },
      {
        "duration": 15,
        "start_time": "2022-03-04T16:24:01.701Z"
      },
      {
        "duration": 36,
        "start_time": "2022-03-04T16:24:01.719Z"
      },
      {
        "duration": 21,
        "start_time": "2022-03-04T16:24:01.758Z"
      },
      {
        "duration": 8186,
        "start_time": "2022-03-04T16:24:10.402Z"
      },
      {
        "duration": 8711,
        "start_time": "2022-03-04T16:26:32.708Z"
      },
      {
        "duration": 4,
        "start_time": "2022-03-04T16:26:41.422Z"
      },
      {
        "duration": 4,
        "start_time": "2022-03-04T16:27:22.085Z"
      },
      {
        "duration": 217,
        "start_time": "2022-03-04T16:27:22.092Z"
      },
      {
        "duration": 18,
        "start_time": "2022-03-04T16:27:22.312Z"
      },
      {
        "duration": 70,
        "start_time": "2022-03-04T16:27:22.332Z"
      },
      {
        "duration": 6,
        "start_time": "2022-03-04T16:27:22.405Z"
      },
      {
        "duration": 46,
        "start_time": "2022-03-04T16:27:22.413Z"
      },
      {
        "duration": 13,
        "start_time": "2022-03-04T16:27:22.462Z"
      },
      {
        "duration": 34,
        "start_time": "2022-03-04T16:27:22.477Z"
      },
      {
        "duration": 27,
        "start_time": "2022-03-04T16:27:22.513Z"
      },
      {
        "duration": 60,
        "start_time": "2022-03-04T16:27:22.542Z"
      },
      {
        "duration": 113,
        "start_time": "2022-03-04T16:27:22.604Z"
      },
      {
        "duration": 123,
        "start_time": "2022-03-04T16:27:22.720Z"
      },
      {
        "duration": 94,
        "start_time": "2022-03-04T16:27:22.846Z"
      },
      {
        "duration": 66,
        "start_time": "2022-03-04T16:27:22.943Z"
      },
      {
        "duration": 4,
        "start_time": "2022-03-04T16:27:23.012Z"
      },
      {
        "duration": 16,
        "start_time": "2022-03-04T16:27:23.018Z"
      },
      {
        "duration": 84,
        "start_time": "2022-03-04T16:27:23.037Z"
      },
      {
        "duration": 8094,
        "start_time": "2022-03-04T16:27:23.124Z"
      },
      {
        "duration": 3,
        "start_time": "2022-03-04T16:27:31.220Z"
      },
      {
        "duration": 15,
        "start_time": "2022-03-04T16:27:31.225Z"
      },
      {
        "duration": 13,
        "start_time": "2022-03-04T16:27:31.243Z"
      },
      {
        "duration": 20,
        "start_time": "2022-03-04T16:27:31.259Z"
      },
      {
        "duration": 10,
        "start_time": "2022-03-04T16:27:31.282Z"
      },
      {
        "duration": 9,
        "start_time": "2022-03-04T16:27:31.294Z"
      },
      {
        "duration": 16,
        "start_time": "2022-03-04T16:27:31.306Z"
      },
      {
        "duration": 19,
        "start_time": "2022-03-04T16:27:31.325Z"
      },
      {
        "duration": 11,
        "start_time": "2022-03-04T16:27:31.346Z"
      },
      {
        "duration": 23,
        "start_time": "2022-03-04T16:27:31.359Z"
      },
      {
        "duration": 14,
        "start_time": "2022-03-04T16:27:31.384Z"
      },
      {
        "duration": 9,
        "start_time": "2022-03-04T16:27:31.400Z"
      },
      {
        "duration": 15,
        "start_time": "2022-03-04T16:27:31.411Z"
      },
      {
        "duration": 17,
        "start_time": "2022-03-04T16:27:31.428Z"
      },
      {
        "duration": 20,
        "start_time": "2022-03-04T16:27:31.448Z"
      },
      {
        "duration": 15,
        "start_time": "2022-03-04T16:27:31.470Z"
      },
      {
        "duration": 8,
        "start_time": "2022-03-04T16:27:31.488Z"
      },
      {
        "duration": 7,
        "start_time": "2022-03-04T16:27:31.498Z"
      },
      {
        "duration": 9,
        "start_time": "2022-03-04T16:27:31.507Z"
      },
      {
        "duration": 11,
        "start_time": "2022-03-04T16:27:31.519Z"
      },
      {
        "duration": 40,
        "start_time": "2022-03-04T16:37:50.326Z"
      },
      {
        "duration": 37,
        "start_time": "2022-03-04T16:37:52.662Z"
      },
      {
        "duration": 49,
        "start_time": "2022-03-04T16:38:01.170Z"
      },
      {
        "duration": 8006,
        "start_time": "2022-03-04T16:39:15.022Z"
      },
      {
        "duration": 41,
        "start_time": "2022-03-04T16:39:42.894Z"
      },
      {
        "duration": 45,
        "start_time": "2022-03-04T16:39:48.631Z"
      },
      {
        "duration": 42,
        "start_time": "2022-03-04T16:40:53.352Z"
      },
      {
        "duration": 46,
        "start_time": "2022-03-04T16:44:48.684Z"
      },
      {
        "duration": 42,
        "start_time": "2022-03-04T16:44:59.512Z"
      },
      {
        "duration": 4,
        "start_time": "2022-03-04T16:50:38.896Z"
      },
      {
        "duration": 266,
        "start_time": "2022-03-04T16:50:58.796Z"
      },
      {
        "duration": 408,
        "start_time": "2022-03-04T16:51:10.376Z"
      },
      {
        "duration": 240,
        "start_time": "2022-03-04T16:51:19.618Z"
      },
      {
        "duration": 22,
        "start_time": "2022-03-04T16:53:47.507Z"
      },
      {
        "duration": 18,
        "start_time": "2022-03-04T16:55:24.456Z"
      },
      {
        "duration": 19,
        "start_time": "2022-03-04T16:57:48.978Z"
      },
      {
        "duration": 25,
        "start_time": "2022-03-04T16:58:13.039Z"
      },
      {
        "duration": 22,
        "start_time": "2022-03-04T16:58:33.948Z"
      },
      {
        "duration": 19,
        "start_time": "2022-03-04T16:59:04.557Z"
      },
      {
        "duration": 251,
        "start_time": "2022-03-04T17:00:28.130Z"
      },
      {
        "duration": 296,
        "start_time": "2022-03-04T17:00:43.770Z"
      },
      {
        "duration": 253,
        "start_time": "2022-03-04T17:01:23.219Z"
      },
      {
        "duration": 18,
        "start_time": "2022-03-04T17:02:24.059Z"
      },
      {
        "duration": 82,
        "start_time": "2022-03-04T17:04:48.150Z"
      },
      {
        "duration": 89,
        "start_time": "2022-03-04T17:04:53.400Z"
      },
      {
        "duration": 269,
        "start_time": "2022-03-04T17:04:59.229Z"
      },
      {
        "duration": 288,
        "start_time": "2022-03-04T17:05:23.581Z"
      },
      {
        "duration": 11,
        "start_time": "2022-03-04T17:06:43.771Z"
      },
      {
        "duration": 12,
        "start_time": "2022-03-04T17:06:51.136Z"
      },
      {
        "duration": 13,
        "start_time": "2022-03-04T17:06:53.270Z"
      },
      {
        "duration": 11,
        "start_time": "2022-03-04T17:07:15.731Z"
      },
      {
        "duration": 11,
        "start_time": "2022-03-04T17:07:23.271Z"
      },
      {
        "duration": 13,
        "start_time": "2022-03-04T17:08:55.840Z"
      },
      {
        "duration": 14,
        "start_time": "2022-03-04T17:09:03.290Z"
      },
      {
        "duration": 88,
        "start_time": "2022-03-04T17:11:09.897Z"
      },
      {
        "duration": 248,
        "start_time": "2022-03-04T17:11:19.161Z"
      },
      {
        "duration": 13,
        "start_time": "2022-03-04T17:11:37.982Z"
      },
      {
        "duration": 20,
        "start_time": "2022-03-04T17:12:20.982Z"
      },
      {
        "duration": 13,
        "start_time": "2022-03-04T17:13:06.623Z"
      },
      {
        "duration": 14,
        "start_time": "2022-03-04T17:15:32.914Z"
      },
      {
        "duration": 14,
        "start_time": "2022-03-04T17:15:52.413Z"
      },
      {
        "duration": 14,
        "start_time": "2022-03-04T17:16:25.913Z"
      },
      {
        "duration": 257,
        "start_time": "2022-03-04T17:16:31.583Z"
      },
      {
        "duration": 9,
        "start_time": "2022-03-04T17:16:42.194Z"
      },
      {
        "duration": 14,
        "start_time": "2022-03-04T17:17:06.433Z"
      },
      {
        "duration": 16,
        "start_time": "2022-03-04T17:17:15.383Z"
      },
      {
        "duration": 260,
        "start_time": "2022-03-04T17:17:34.904Z"
      },
      {
        "duration": 266,
        "start_time": "2022-03-04T17:17:41.124Z"
      },
      {
        "duration": 16,
        "start_time": "2022-03-04T17:17:55.654Z"
      },
      {
        "duration": 17,
        "start_time": "2022-03-04T17:18:12.183Z"
      },
      {
        "duration": 95,
        "start_time": "2022-03-04T17:19:15.295Z"
      },
      {
        "duration": 16,
        "start_time": "2022-03-04T17:19:24.536Z"
      },
      {
        "duration": 15,
        "start_time": "2022-03-04T17:19:58.025Z"
      },
      {
        "duration": 15,
        "start_time": "2022-03-04T17:20:44.444Z"
      },
      {
        "duration": 15,
        "start_time": "2022-03-04T17:21:04.495Z"
      },
      {
        "duration": 21,
        "start_time": "2022-03-04T17:21:07.976Z"
      },
      {
        "duration": 15,
        "start_time": "2022-03-04T17:21:10.245Z"
      },
      {
        "duration": 243,
        "start_time": "2022-03-04T17:24:32.817Z"
      },
      {
        "duration": 260,
        "start_time": "2022-03-04T17:24:52.018Z"
      },
      {
        "duration": 15,
        "start_time": "2022-03-04T17:25:05.258Z"
      },
      {
        "duration": 18,
        "start_time": "2022-03-04T17:25:07.647Z"
      },
      {
        "duration": 34,
        "start_time": "2022-03-04T17:25:14.808Z"
      },
      {
        "duration": 17,
        "start_time": "2022-03-04T17:25:20.440Z"
      },
      {
        "duration": 270,
        "start_time": "2022-03-04T17:36:29.953Z"
      },
      {
        "duration": 234,
        "start_time": "2022-03-04T17:37:15.415Z"
      },
      {
        "duration": 240,
        "start_time": "2022-03-04T17:40:26.605Z"
      },
      {
        "duration": 232,
        "start_time": "2022-03-04T17:40:36.904Z"
      },
      {
        "duration": 6,
        "start_time": "2022-03-04T17:41:02.286Z"
      },
      {
        "duration": 4,
        "start_time": "2022-03-04T17:43:17.511Z"
      },
      {
        "duration": 208,
        "start_time": "2022-03-04T17:43:17.518Z"
      },
      {
        "duration": 16,
        "start_time": "2022-03-04T17:43:17.730Z"
      },
      {
        "duration": 48,
        "start_time": "2022-03-04T17:43:17.749Z"
      },
      {
        "duration": 6,
        "start_time": "2022-03-04T17:43:17.799Z"
      },
      {
        "duration": 30,
        "start_time": "2022-03-04T17:43:17.807Z"
      },
      {
        "duration": 36,
        "start_time": "2022-03-04T17:43:17.839Z"
      },
      {
        "duration": 31,
        "start_time": "2022-03-04T17:43:17.880Z"
      },
      {
        "duration": 23,
        "start_time": "2022-03-04T17:43:17.914Z"
      },
      {
        "duration": 51,
        "start_time": "2022-03-04T17:43:17.940Z"
      },
      {
        "duration": 103,
        "start_time": "2022-03-04T17:43:17.994Z"
      },
      {
        "duration": 110,
        "start_time": "2022-03-04T17:43:18.099Z"
      },
      {
        "duration": 82,
        "start_time": "2022-03-04T17:43:18.211Z"
      },
      {
        "duration": 83,
        "start_time": "2022-03-04T17:43:18.295Z"
      },
      {
        "duration": 4,
        "start_time": "2022-03-04T17:43:18.380Z"
      },
      {
        "duration": 17,
        "start_time": "2022-03-04T17:43:18.386Z"
      },
      {
        "duration": 81,
        "start_time": "2022-03-04T17:43:18.406Z"
      },
      {
        "duration": 43,
        "start_time": "2022-03-04T17:43:18.489Z"
      },
      {
        "duration": 65,
        "start_time": "2022-03-04T17:43:18.534Z"
      },
      {
        "duration": 5,
        "start_time": "2022-03-04T17:43:18.601Z"
      },
      {
        "duration": 28,
        "start_time": "2022-03-04T17:43:18.608Z"
      },
      {
        "duration": 39,
        "start_time": "2022-03-04T17:43:18.638Z"
      },
      {
        "duration": 18,
        "start_time": "2022-03-04T17:43:18.681Z"
      },
      {
        "duration": 17,
        "start_time": "2022-03-04T17:43:18.702Z"
      },
      {
        "duration": 20,
        "start_time": "2022-03-04T17:43:18.722Z"
      },
      {
        "duration": 18,
        "start_time": "2022-03-04T17:43:18.775Z"
      },
      {
        "duration": 14,
        "start_time": "2022-03-04T17:43:18.795Z"
      },
      {
        "duration": 17,
        "start_time": "2022-03-04T17:43:18.812Z"
      },
      {
        "duration": 47,
        "start_time": "2022-03-04T17:43:18.832Z"
      },
      {
        "duration": 5,
        "start_time": "2022-03-04T17:43:18.882Z"
      },
      {
        "duration": 530,
        "start_time": "2022-03-04T17:43:18.889Z"
      },
      {
        "duration": 5161,
        "start_time": "2022-03-04T17:43:14.261Z"
      },
      {
        "duration": 5161,
        "start_time": "2022-03-04T17:43:14.263Z"
      },
      {
        "duration": 5161,
        "start_time": "2022-03-04T17:43:14.265Z"
      },
      {
        "duration": 5162,
        "start_time": "2022-03-04T17:43:14.266Z"
      },
      {
        "duration": 5163,
        "start_time": "2022-03-04T17:43:14.268Z"
      },
      {
        "duration": 5163,
        "start_time": "2022-03-04T17:43:14.270Z"
      },
      {
        "duration": 5164,
        "start_time": "2022-03-04T17:43:14.271Z"
      },
      {
        "duration": 3,
        "start_time": "2022-03-04T17:44:43.798Z"
      },
      {
        "duration": 200,
        "start_time": "2022-03-04T17:44:43.805Z"
      },
      {
        "duration": 16,
        "start_time": "2022-03-04T17:44:44.008Z"
      },
      {
        "duration": 52,
        "start_time": "2022-03-04T17:44:44.027Z"
      },
      {
        "duration": 5,
        "start_time": "2022-03-04T17:44:44.082Z"
      },
      {
        "duration": 24,
        "start_time": "2022-03-04T17:44:44.090Z"
      },
      {
        "duration": 5,
        "start_time": "2022-03-04T17:44:44.117Z"
      },
      {
        "duration": 68,
        "start_time": "2022-03-04T17:44:44.127Z"
      },
      {
        "duration": 24,
        "start_time": "2022-03-04T17:44:44.198Z"
      },
      {
        "duration": 51,
        "start_time": "2022-03-04T17:44:44.224Z"
      },
      {
        "duration": 111,
        "start_time": "2022-03-04T17:44:44.278Z"
      },
      {
        "duration": 113,
        "start_time": "2022-03-04T17:44:44.391Z"
      },
      {
        "duration": 90,
        "start_time": "2022-03-04T17:44:44.506Z"
      },
      {
        "duration": 58,
        "start_time": "2022-03-04T17:44:44.599Z"
      },
      {
        "duration": 17,
        "start_time": "2022-03-04T17:44:44.659Z"
      },
      {
        "duration": 27,
        "start_time": "2022-03-04T17:44:44.678Z"
      },
      {
        "duration": 97,
        "start_time": "2022-03-04T17:44:44.707Z"
      },
      {
        "duration": 73,
        "start_time": "2022-03-04T17:44:44.807Z"
      },
      {
        "duration": 50,
        "start_time": "2022-03-04T17:44:44.883Z"
      },
      {
        "duration": 5,
        "start_time": "2022-03-04T17:44:44.935Z"
      },
      {
        "duration": 57,
        "start_time": "2022-03-04T17:44:44.943Z"
      },
      {
        "duration": 18,
        "start_time": "2022-03-04T17:44:45.003Z"
      },
      {
        "duration": 47,
        "start_time": "2022-03-04T17:44:45.026Z"
      },
      {
        "duration": 21,
        "start_time": "2022-03-04T17:44:45.077Z"
      },
      {
        "duration": 24,
        "start_time": "2022-03-04T17:44:45.102Z"
      },
      {
        "duration": 53,
        "start_time": "2022-03-04T17:44:45.128Z"
      },
      {
        "duration": 15,
        "start_time": "2022-03-04T17:44:45.184Z"
      },
      {
        "duration": 18,
        "start_time": "2022-03-04T17:44:45.201Z"
      },
      {
        "duration": 52,
        "start_time": "2022-03-04T17:44:45.221Z"
      },
      {
        "duration": 93,
        "start_time": "2022-03-04T17:44:45.276Z"
      },
      {
        "duration": 5172,
        "start_time": "2022-03-04T17:44:40.199Z"
      },
      {
        "duration": 5170,
        "start_time": "2022-03-04T17:44:40.203Z"
      },
      {
        "duration": 5170,
        "start_time": "2022-03-04T17:44:40.205Z"
      },
      {
        "duration": 5170,
        "start_time": "2022-03-04T17:44:40.206Z"
      },
      {
        "duration": 5166,
        "start_time": "2022-03-04T17:44:40.212Z"
      },
      {
        "duration": 5166,
        "start_time": "2022-03-04T17:44:40.214Z"
      },
      {
        "duration": 5166,
        "start_time": "2022-03-04T17:44:40.216Z"
      },
      {
        "duration": 5166,
        "start_time": "2022-03-04T17:44:40.218Z"
      },
      {
        "duration": 4,
        "start_time": "2022-03-04T17:45:00.470Z"
      },
      {
        "duration": 221,
        "start_time": "2022-03-04T17:45:00.476Z"
      },
      {
        "duration": 16,
        "start_time": "2022-03-04T17:45:00.699Z"
      },
      {
        "duration": 55,
        "start_time": "2022-03-04T17:45:00.718Z"
      },
      {
        "duration": 16,
        "start_time": "2022-03-04T17:45:00.775Z"
      },
      {
        "duration": 33,
        "start_time": "2022-03-04T17:45:00.793Z"
      },
      {
        "duration": 5,
        "start_time": "2022-03-04T17:45:00.829Z"
      },
      {
        "duration": 50,
        "start_time": "2022-03-04T17:45:00.838Z"
      },
      {
        "duration": 26,
        "start_time": "2022-03-04T17:45:00.891Z"
      },
      {
        "duration": 55,
        "start_time": "2022-03-04T17:45:00.919Z"
      },
      {
        "duration": 103,
        "start_time": "2022-03-04T17:45:00.977Z"
      },
      {
        "duration": 124,
        "start_time": "2022-03-04T17:45:01.082Z"
      },
      {
        "duration": 99,
        "start_time": "2022-03-04T17:45:01.209Z"
      },
      {
        "duration": 67,
        "start_time": "2022-03-04T17:45:01.311Z"
      },
      {
        "duration": 3,
        "start_time": "2022-03-04T17:45:01.381Z"
      },
      {
        "duration": 18,
        "start_time": "2022-03-04T17:45:01.387Z"
      },
      {
        "duration": 80,
        "start_time": "2022-03-04T17:45:01.407Z"
      },
      {
        "duration": 49,
        "start_time": "2022-03-04T17:45:01.490Z"
      },
      {
        "duration": 66,
        "start_time": "2022-03-04T17:45:01.541Z"
      },
      {
        "duration": 5,
        "start_time": "2022-03-04T17:45:01.609Z"
      },
      {
        "duration": 41,
        "start_time": "2022-03-04T17:45:01.616Z"
      },
      {
        "duration": 26,
        "start_time": "2022-03-04T17:45:01.659Z"
      },
      {
        "duration": 30,
        "start_time": "2022-03-04T17:45:01.692Z"
      },
      {
        "duration": 19,
        "start_time": "2022-03-04T17:45:01.725Z"
      },
      {
        "duration": 38,
        "start_time": "2022-03-04T17:45:01.746Z"
      },
      {
        "duration": 19,
        "start_time": "2022-03-04T17:45:01.787Z"
      },
      {
        "duration": 15,
        "start_time": "2022-03-04T17:45:01.808Z"
      },
      {
        "duration": 59,
        "start_time": "2022-03-04T17:45:01.825Z"
      },
      {
        "duration": 23,
        "start_time": "2022-03-04T17:45:01.886Z"
      },
      {
        "duration": 6,
        "start_time": "2022-03-04T17:45:01.911Z"
      },
      {
        "duration": 324,
        "start_time": "2022-03-04T17:45:01.920Z"
      },
      {
        "duration": 5176,
        "start_time": "2022-03-04T17:44:57.071Z"
      },
      {
        "duration": 5172,
        "start_time": "2022-03-04T17:44:57.076Z"
      },
      {
        "duration": 5172,
        "start_time": "2022-03-04T17:44:57.078Z"
      },
      {
        "duration": 5171,
        "start_time": "2022-03-04T17:44:57.080Z"
      },
      {
        "duration": 5170,
        "start_time": "2022-03-04T17:44:57.082Z"
      },
      {
        "duration": 5169,
        "start_time": "2022-03-04T17:44:57.084Z"
      },
      {
        "duration": 5170,
        "start_time": "2022-03-04T17:44:57.085Z"
      },
      {
        "duration": 3,
        "start_time": "2022-03-04T17:45:23.897Z"
      },
      {
        "duration": 205,
        "start_time": "2022-03-04T17:45:23.903Z"
      },
      {
        "duration": 15,
        "start_time": "2022-03-04T17:45:24.111Z"
      },
      {
        "duration": 55,
        "start_time": "2022-03-04T17:45:24.129Z"
      },
      {
        "duration": 7,
        "start_time": "2022-03-04T17:45:24.186Z"
      },
      {
        "duration": 28,
        "start_time": "2022-03-04T17:45:24.195Z"
      },
      {
        "duration": 5,
        "start_time": "2022-03-04T17:45:24.226Z"
      },
      {
        "duration": 61,
        "start_time": "2022-03-04T17:45:24.233Z"
      },
      {
        "duration": 23,
        "start_time": "2022-03-04T17:45:24.298Z"
      },
      {
        "duration": 53,
        "start_time": "2022-03-04T17:45:24.324Z"
      },
      {
        "duration": 101,
        "start_time": "2022-03-04T17:45:24.380Z"
      },
      {
        "duration": 110,
        "start_time": "2022-03-04T17:45:24.483Z"
      },
      {
        "duration": 89,
        "start_time": "2022-03-04T17:45:24.595Z"
      },
      {
        "duration": 58,
        "start_time": "2022-03-04T17:45:24.687Z"
      },
      {
        "duration": 26,
        "start_time": "2022-03-04T17:45:24.747Z"
      },
      {
        "duration": 29,
        "start_time": "2022-03-04T17:45:24.776Z"
      },
      {
        "duration": 58,
        "start_time": "2022-03-04T17:45:24.807Z"
      },
      {
        "duration": 65,
        "start_time": "2022-03-04T17:45:24.868Z"
      },
      {
        "duration": 42,
        "start_time": "2022-03-04T17:45:24.935Z"
      },
      {
        "duration": 4,
        "start_time": "2022-03-04T17:45:24.980Z"
      },
      {
        "duration": 60,
        "start_time": "2022-03-04T17:45:24.986Z"
      },
      {
        "duration": 21,
        "start_time": "2022-03-04T17:45:25.049Z"
      },
      {
        "duration": 24,
        "start_time": "2022-03-04T17:45:25.072Z"
      },
      {
        "duration": 24,
        "start_time": "2022-03-04T17:45:25.098Z"
      },
      {
        "duration": 20,
        "start_time": "2022-03-04T17:45:25.125Z"
      },
      {
        "duration": 38,
        "start_time": "2022-03-04T17:45:25.148Z"
      },
      {
        "duration": 19,
        "start_time": "2022-03-04T17:45:25.191Z"
      },
      {
        "duration": 24,
        "start_time": "2022-03-04T17:45:25.213Z"
      },
      {
        "duration": 43,
        "start_time": "2022-03-04T17:45:25.239Z"
      },
      {
        "duration": 6,
        "start_time": "2022-03-04T17:45:25.284Z"
      },
      {
        "duration": 47,
        "start_time": "2022-03-04T17:45:25.292Z"
      },
      {
        "duration": 22,
        "start_time": "2022-03-04T17:45:25.341Z"
      },
      {
        "duration": 19,
        "start_time": "2022-03-04T17:45:25.366Z"
      },
      {
        "duration": 20,
        "start_time": "2022-03-04T17:45:25.387Z"
      },
      {
        "duration": 15,
        "start_time": "2022-03-04T17:45:25.410Z"
      },
      {
        "duration": 13,
        "start_time": "2022-03-04T17:45:25.427Z"
      },
      {
        "duration": 20,
        "start_time": "2022-03-04T17:45:25.442Z"
      },
      {
        "duration": 11,
        "start_time": "2022-03-04T17:45:25.465Z"
      },
      {
        "duration": 34,
        "start_time": "2022-03-04T17:49:42.645Z"
      },
      {
        "duration": 6,
        "start_time": "2022-03-04T17:50:13.238Z"
      },
      {
        "duration": 508,
        "start_time": "2022-03-04T17:50:14.858Z"
      },
      {
        "duration": 6,
        "start_time": "2022-03-04T17:51:26.559Z"
      },
      {
        "duration": 55,
        "start_time": "2022-03-04T17:51:29.819Z"
      },
      {
        "duration": 6,
        "start_time": "2022-03-04T17:51:43.799Z"
      },
      {
        "duration": 508,
        "start_time": "2022-03-04T17:51:46.918Z"
      },
      {
        "duration": 6,
        "start_time": "2022-03-04T17:52:08.959Z"
      },
      {
        "duration": 28,
        "start_time": "2022-03-04T17:52:11.689Z"
      },
      {
        "duration": 5,
        "start_time": "2022-03-04T17:55:10.659Z"
      },
      {
        "duration": 489,
        "start_time": "2022-03-04T17:55:12.496Z"
      },
      {
        "duration": 5,
        "start_time": "2022-03-04T17:55:23.841Z"
      },
      {
        "duration": 498,
        "start_time": "2022-03-04T17:55:26.851Z"
      },
      {
        "duration": 4,
        "start_time": "2022-03-04T17:55:30.737Z"
      },
      {
        "duration": 195,
        "start_time": "2022-03-04T17:55:30.743Z"
      },
      {
        "duration": 16,
        "start_time": "2022-03-04T17:55:30.941Z"
      },
      {
        "duration": 46,
        "start_time": "2022-03-04T17:55:30.959Z"
      },
      {
        "duration": 11,
        "start_time": "2022-03-04T17:55:31.008Z"
      },
      {
        "duration": 28,
        "start_time": "2022-03-04T17:55:31.021Z"
      },
      {
        "duration": 22,
        "start_time": "2022-03-04T17:55:31.052Z"
      },
      {
        "duration": 40,
        "start_time": "2022-03-04T17:55:31.077Z"
      },
      {
        "duration": 27,
        "start_time": "2022-03-04T17:55:31.119Z"
      },
      {
        "duration": 45,
        "start_time": "2022-03-04T17:55:31.148Z"
      },
      {
        "duration": 102,
        "start_time": "2022-03-04T17:55:31.195Z"
      },
      {
        "duration": 112,
        "start_time": "2022-03-04T17:55:31.299Z"
      },
      {
        "duration": 90,
        "start_time": "2022-03-04T17:55:31.413Z"
      },
      {
        "duration": 69,
        "start_time": "2022-03-04T17:55:31.505Z"
      },
      {
        "duration": 4,
        "start_time": "2022-03-04T17:55:31.577Z"
      },
      {
        "duration": 18,
        "start_time": "2022-03-04T17:55:31.583Z"
      },
      {
        "duration": 81,
        "start_time": "2022-03-04T17:55:31.604Z"
      },
      {
        "duration": 47,
        "start_time": "2022-03-04T17:55:31.687Z"
      },
      {
        "duration": 69,
        "start_time": "2022-03-04T17:55:31.738Z"
      },
      {
        "duration": 4,
        "start_time": "2022-03-04T17:55:31.810Z"
      },
      {
        "duration": 33,
        "start_time": "2022-03-04T17:55:31.817Z"
      },
      {
        "duration": 31,
        "start_time": "2022-03-04T17:55:31.853Z"
      },
      {
        "duration": 21,
        "start_time": "2022-03-04T17:55:31.886Z"
      },
      {
        "duration": 20,
        "start_time": "2022-03-04T17:55:31.910Z"
      },
      {
        "duration": 51,
        "start_time": "2022-03-04T17:55:31.932Z"
      },
      {
        "duration": 18,
        "start_time": "2022-03-04T17:55:31.986Z"
      },
      {
        "duration": 14,
        "start_time": "2022-03-04T17:55:32.006Z"
      },
      {
        "duration": 21,
        "start_time": "2022-03-04T17:55:32.022Z"
      },
      {
        "duration": 16,
        "start_time": "2022-03-04T17:55:32.074Z"
      },
      {
        "duration": 6,
        "start_time": "2022-03-04T17:55:32.093Z"
      },
      {
        "duration": 505,
        "start_time": "2022-03-04T17:55:32.101Z"
      },
      {
        "duration": 5174,
        "start_time": "2022-03-04T17:55:27.435Z"
      },
      {
        "duration": 5173,
        "start_time": "2022-03-04T17:55:27.437Z"
      },
      {
        "duration": 5172,
        "start_time": "2022-03-04T17:55:27.439Z"
      },
      {
        "duration": 5173,
        "start_time": "2022-03-04T17:55:27.440Z"
      },
      {
        "duration": 5172,
        "start_time": "2022-03-04T17:55:27.442Z"
      },
      {
        "duration": 5173,
        "start_time": "2022-03-04T17:55:27.443Z"
      },
      {
        "duration": 5168,
        "start_time": "2022-03-04T17:55:27.449Z"
      },
      {
        "duration": 6,
        "start_time": "2022-03-04T17:55:51.041Z"
      },
      {
        "duration": 26,
        "start_time": "2022-03-04T17:55:52.312Z"
      },
      {
        "duration": 26,
        "start_time": "2022-03-04T17:57:29.892Z"
      },
      {
        "duration": 6,
        "start_time": "2022-03-04T17:57:31.304Z"
      },
      {
        "duration": 24,
        "start_time": "2022-03-04T17:57:32.682Z"
      },
      {
        "duration": 21,
        "start_time": "2022-03-04T17:57:52.892Z"
      },
      {
        "duration": 4,
        "start_time": "2022-03-04T17:58:13.210Z"
      },
      {
        "duration": 202,
        "start_time": "2022-03-04T17:58:13.216Z"
      },
      {
        "duration": 15,
        "start_time": "2022-03-04T17:58:13.421Z"
      },
      {
        "duration": 57,
        "start_time": "2022-03-04T17:58:13.439Z"
      },
      {
        "duration": 5,
        "start_time": "2022-03-04T17:58:13.499Z"
      },
      {
        "duration": 29,
        "start_time": "2022-03-04T17:58:13.507Z"
      },
      {
        "duration": 6,
        "start_time": "2022-03-04T17:58:13.538Z"
      },
      {
        "duration": 58,
        "start_time": "2022-03-04T17:58:13.547Z"
      },
      {
        "duration": 29,
        "start_time": "2022-03-04T17:58:13.609Z"
      },
      {
        "duration": 59,
        "start_time": "2022-03-04T17:58:13.654Z"
      },
      {
        "duration": 111,
        "start_time": "2022-03-04T17:58:13.715Z"
      },
      {
        "duration": 115,
        "start_time": "2022-03-04T17:58:13.828Z"
      },
      {
        "duration": 95,
        "start_time": "2022-03-04T17:58:13.945Z"
      },
      {
        "duration": 62,
        "start_time": "2022-03-04T17:58:14.042Z"
      },
      {
        "duration": 22,
        "start_time": "2022-03-04T17:58:14.106Z"
      },
      {
        "duration": 19,
        "start_time": "2022-03-04T17:58:14.130Z"
      },
      {
        "duration": 164,
        "start_time": "2022-03-04T17:58:14.152Z"
      },
      {
        "duration": 55,
        "start_time": "2022-03-04T17:58:14.319Z"
      },
      {
        "duration": 44,
        "start_time": "2022-03-04T17:58:14.377Z"
      },
      {
        "duration": 5,
        "start_time": "2022-03-04T17:58:14.423Z"
      },
      {
        "duration": 51,
        "start_time": "2022-03-04T17:58:14.430Z"
      },
      {
        "duration": 17,
        "start_time": "2022-03-04T17:58:14.484Z"
      },
      {
        "duration": 33,
        "start_time": "2022-03-04T17:58:14.507Z"
      },
      {
        "duration": 36,
        "start_time": "2022-03-04T17:58:14.543Z"
      },
      {
        "duration": 24,
        "start_time": "2022-03-04T17:58:14.582Z"
      },
      {
        "duration": 20,
        "start_time": "2022-03-04T17:58:14.608Z"
      },
      {
        "duration": 47,
        "start_time": "2022-03-04T17:58:14.630Z"
      },
      {
        "duration": 19,
        "start_time": "2022-03-04T17:58:14.680Z"
      },
      {
        "duration": 23,
        "start_time": "2022-03-04T17:58:14.701Z"
      },
      {
        "duration": 5,
        "start_time": "2022-03-04T17:58:14.728Z"
      },
      {
        "duration": 50,
        "start_time": "2022-03-04T17:58:14.736Z"
      },
      {
        "duration": 3,
        "start_time": "2022-03-04T17:58:14.789Z"
      },
      {
        "duration": 5,
        "start_time": "2022-03-04T17:58:14.796Z"
      },
      {
        "duration": 5,
        "start_time": "2022-03-04T17:58:14.804Z"
      },
      {
        "duration": 6,
        "start_time": "2022-03-04T17:58:14.812Z"
      },
      {
        "duration": 9,
        "start_time": "2022-03-04T17:58:14.820Z"
      },
      {
        "duration": 42,
        "start_time": "2022-03-04T17:58:14.831Z"
      },
      {
        "duration": 3,
        "start_time": "2022-03-04T17:58:14.876Z"
      },
      {
        "duration": 29,
        "start_time": "2022-03-04T18:00:28.074Z"
      },
      {
        "duration": 6,
        "start_time": "2022-03-04T18:00:29.625Z"
      },
      {
        "duration": 23,
        "start_time": "2022-03-04T18:00:30.837Z"
      },
      {
        "duration": 6,
        "start_time": "2022-03-04T18:00:38.835Z"
      },
      {
        "duration": 494,
        "start_time": "2022-03-04T18:00:39.883Z"
      },
      {
        "duration": 6,
        "start_time": "2022-03-04T18:00:58.686Z"
      },
      {
        "duration": 26,
        "start_time": "2022-03-04T18:00:59.900Z"
      },
      {
        "duration": 6,
        "start_time": "2022-03-04T18:01:45.393Z"
      },
      {
        "duration": 472,
        "start_time": "2022-03-04T18:01:46.620Z"
      },
      {
        "duration": 6,
        "start_time": "2022-03-04T18:02:00.474Z"
      },
      {
        "duration": 491,
        "start_time": "2022-03-04T18:02:01.884Z"
      },
      {
        "duration": 6,
        "start_time": "2022-03-04T18:06:28.876Z"
      },
      {
        "duration": 509,
        "start_time": "2022-03-04T18:06:30.465Z"
      },
      {
        "duration": 6,
        "start_time": "2022-03-04T18:06:39.276Z"
      },
      {
        "duration": 24,
        "start_time": "2022-03-04T18:06:42.996Z"
      },
      {
        "duration": 23,
        "start_time": "2022-03-04T18:07:34.804Z"
      },
      {
        "duration": 24,
        "start_time": "2022-03-04T18:07:37.805Z"
      },
      {
        "duration": 31,
        "start_time": "2022-03-04T18:07:59.966Z"
      },
      {
        "duration": 26,
        "start_time": "2022-03-04T18:15:18.990Z"
      },
      {
        "duration": 22,
        "start_time": "2022-03-04T19:05:17.387Z"
      },
      {
        "duration": 36,
        "start_time": "2022-03-04T19:05:18.848Z"
      },
      {
        "duration": 24,
        "start_time": "2022-03-04T19:05:20.502Z"
      },
      {
        "duration": 26,
        "start_time": "2022-03-04T19:05:29.467Z"
      },
      {
        "duration": 20,
        "start_time": "2022-03-04T19:06:11.977Z"
      },
      {
        "duration": 26,
        "start_time": "2022-03-04T19:08:02.718Z"
      },
      {
        "duration": 20,
        "start_time": "2022-03-04T19:08:06.013Z"
      },
      {
        "duration": 17,
        "start_time": "2022-03-04T19:10:14.899Z"
      },
      {
        "duration": 16,
        "start_time": "2022-03-04T19:14:15.653Z"
      },
      {
        "duration": 16,
        "start_time": "2022-03-04T19:14:46.281Z"
      },
      {
        "duration": 310,
        "start_time": "2022-03-04T19:19:06.913Z"
      },
      {
        "duration": 12,
        "start_time": "2022-03-04T19:19:25.332Z"
      },
      {
        "duration": 9,
        "start_time": "2022-03-04T19:20:03.335Z"
      },
      {
        "duration": 9,
        "start_time": "2022-03-04T19:20:05.966Z"
      },
      {
        "duration": 17,
        "start_time": "2022-03-04T19:20:07.444Z"
      },
      {
        "duration": 8,
        "start_time": "2022-03-04T19:20:21.054Z"
      },
      {
        "duration": 16,
        "start_time": "2022-03-04T19:20:41.104Z"
      },
      {
        "duration": 9,
        "start_time": "2022-03-04T19:23:31.386Z"
      },
      {
        "duration": 8,
        "start_time": "2022-03-04T19:23:45.605Z"
      },
      {
        "duration": 11,
        "start_time": "2022-03-04T19:23:51.236Z"
      },
      {
        "duration": 80,
        "start_time": "2022-03-10T18:49:03.641Z"
      },
      {
        "duration": 218,
        "start_time": "2022-03-11T05:48:40.698Z"
      },
      {
        "duration": 188,
        "start_time": "2022-03-11T05:49:11.387Z"
      },
      {
        "duration": 181,
        "start_time": "2022-03-11T05:49:17.356Z"
      },
      {
        "duration": 560,
        "start_time": "2022-03-11T05:49:54.730Z"
      },
      {
        "duration": 133,
        "start_time": "2022-03-11T05:49:55.291Z"
      },
      {
        "duration": 16,
        "start_time": "2022-03-11T05:49:55.427Z"
      },
      {
        "duration": 33,
        "start_time": "2022-03-11T05:49:55.444Z"
      },
      {
        "duration": 3,
        "start_time": "2022-03-11T05:49:55.479Z"
      },
      {
        "duration": 24,
        "start_time": "2022-03-11T05:49:55.483Z"
      },
      {
        "duration": 3,
        "start_time": "2022-03-11T05:49:55.509Z"
      },
      {
        "duration": 23,
        "start_time": "2022-03-11T05:49:55.515Z"
      },
      {
        "duration": 16,
        "start_time": "2022-03-11T05:49:55.560Z"
      },
      {
        "duration": 26,
        "start_time": "2022-03-11T05:49:55.578Z"
      },
      {
        "duration": 78,
        "start_time": "2022-03-11T05:49:55.605Z"
      },
      {
        "duration": 65,
        "start_time": "2022-03-11T05:49:55.684Z"
      },
      {
        "duration": 48,
        "start_time": "2022-03-11T05:49:55.759Z"
      },
      {
        "duration": 51,
        "start_time": "2022-03-11T05:49:55.809Z"
      },
      {
        "duration": 3,
        "start_time": "2022-03-11T05:49:55.862Z"
      },
      {
        "duration": 12,
        "start_time": "2022-03-11T05:49:55.866Z"
      },
      {
        "duration": 39,
        "start_time": "2022-03-11T05:49:55.880Z"
      },
      {
        "duration": 47,
        "start_time": "2022-03-11T05:49:55.920Z"
      },
      {
        "duration": 24,
        "start_time": "2022-03-11T05:49:55.969Z"
      },
      {
        "duration": 4,
        "start_time": "2022-03-11T05:49:55.995Z"
      },
      {
        "duration": 18,
        "start_time": "2022-03-11T05:49:56.001Z"
      },
      {
        "duration": 38,
        "start_time": "2022-03-11T05:49:56.021Z"
      },
      {
        "duration": 15,
        "start_time": "2022-03-11T05:49:56.064Z"
      },
      {
        "duration": 13,
        "start_time": "2022-03-11T05:49:56.081Z"
      },
      {
        "duration": 14,
        "start_time": "2022-03-11T05:49:56.095Z"
      },
      {
        "duration": 13,
        "start_time": "2022-03-11T05:49:56.111Z"
      },
      {
        "duration": 43,
        "start_time": "2022-03-11T05:49:56.125Z"
      },
      {
        "duration": 21,
        "start_time": "2022-03-11T05:49:56.169Z"
      },
      {
        "duration": 8,
        "start_time": "2022-03-11T05:49:56.191Z"
      },
      {
        "duration": 3,
        "start_time": "2022-03-11T05:49:56.201Z"
      },
      {
        "duration": 20,
        "start_time": "2022-03-11T05:49:56.206Z"
      },
      {
        "duration": 36,
        "start_time": "2022-03-11T05:49:56.227Z"
      },
      {
        "duration": 15,
        "start_time": "2022-03-11T05:49:56.264Z"
      },
      {
        "duration": 10,
        "start_time": "2022-03-11T05:49:56.281Z"
      },
      {
        "duration": 9,
        "start_time": "2022-03-11T05:49:56.292Z"
      },
      {
        "duration": 4,
        "start_time": "2022-03-11T05:49:56.302Z"
      },
      {
        "duration": 9,
        "start_time": "2022-03-11T05:49:56.308Z"
      },
      {
        "duration": 4,
        "start_time": "2022-03-11T05:49:56.318Z"
      },
      {
        "duration": 16,
        "start_time": "2022-03-11T05:52:08.577Z"
      },
      {
        "duration": 15,
        "start_time": "2022-03-11T05:52:12.177Z"
      },
      {
        "duration": 16,
        "start_time": "2022-03-11T05:52:13.517Z"
      },
      {
        "duration": 6,
        "start_time": "2022-03-11T05:52:54.477Z"
      },
      {
        "duration": 6,
        "start_time": "2022-03-11T05:52:56.098Z"
      },
      {
        "duration": 3,
        "start_time": "2022-03-11T05:53:01.557Z"
      },
      {
        "duration": 160,
        "start_time": "2022-03-11T05:53:01.561Z"
      },
      {
        "duration": 12,
        "start_time": "2022-03-11T05:53:01.723Z"
      },
      {
        "duration": 35,
        "start_time": "2022-03-11T05:53:01.736Z"
      },
      {
        "duration": 11,
        "start_time": "2022-03-11T05:53:01.772Z"
      },
      {
        "duration": 28,
        "start_time": "2022-03-11T05:53:01.785Z"
      },
      {
        "duration": 4,
        "start_time": "2022-03-11T05:53:01.814Z"
      },
      {
        "duration": 39,
        "start_time": "2022-03-11T05:53:01.821Z"
      },
      {
        "duration": 17,
        "start_time": "2022-03-11T05:53:01.862Z"
      },
      {
        "duration": 23,
        "start_time": "2022-03-11T05:53:01.881Z"
      },
      {
        "duration": 73,
        "start_time": "2022-03-11T05:53:01.905Z"
      },
      {
        "duration": 61,
        "start_time": "2022-03-11T05:53:01.980Z"
      },
      {
        "duration": 59,
        "start_time": "2022-03-11T05:53:02.042Z"
      },
      {
        "duration": 56,
        "start_time": "2022-03-11T05:53:02.104Z"
      },
      {
        "duration": 2,
        "start_time": "2022-03-11T05:53:02.162Z"
      },
      {
        "duration": 13,
        "start_time": "2022-03-11T05:53:02.166Z"
      },
      {
        "duration": 51,
        "start_time": "2022-03-11T05:53:02.181Z"
      },
      {
        "duration": 36,
        "start_time": "2022-03-11T05:53:02.233Z"
      },
      {
        "duration": 25,
        "start_time": "2022-03-11T05:53:02.270Z"
      },
      {
        "duration": 3,
        "start_time": "2022-03-11T05:53:02.297Z"
      },
      {
        "duration": 29,
        "start_time": "2022-03-11T05:53:02.301Z"
      },
      {
        "duration": 13,
        "start_time": "2022-03-11T05:53:02.332Z"
      },
      {
        "duration": 14,
        "start_time": "2022-03-11T05:53:02.358Z"
      },
      {
        "duration": 24,
        "start_time": "2022-03-11T05:53:02.374Z"
      },
      {
        "duration": 16,
        "start_time": "2022-03-11T05:53:02.400Z"
      },
      {
        "duration": 14,
        "start_time": "2022-03-11T05:53:02.417Z"
      },
      {
        "duration": 31,
        "start_time": "2022-03-11T05:53:02.432Z"
      },
      {
        "duration": 25,
        "start_time": "2022-03-11T05:53:02.465Z"
      },
      {
        "duration": 12,
        "start_time": "2022-03-11T05:53:02.492Z"
      },
      {
        "duration": 3,
        "start_time": "2022-03-11T05:53:02.506Z"
      },
      {
        "duration": 20,
        "start_time": "2022-03-11T05:53:02.511Z"
      },
      {
        "duration": 31,
        "start_time": "2022-03-11T05:53:02.532Z"
      },
      {
        "duration": 17,
        "start_time": "2022-03-11T05:53:02.565Z"
      },
      {
        "duration": 10,
        "start_time": "2022-03-11T05:53:02.583Z"
      },
      {
        "duration": 9,
        "start_time": "2022-03-11T05:53:02.595Z"
      },
      {
        "duration": 3,
        "start_time": "2022-03-11T05:53:02.606Z"
      },
      {
        "duration": 8,
        "start_time": "2022-03-11T05:53:02.611Z"
      },
      {
        "duration": 5,
        "start_time": "2022-03-11T05:53:02.621Z"
      },
      {
        "duration": 954,
        "start_time": "2022-03-11T05:58:07.225Z"
      },
      {
        "duration": 3,
        "start_time": "2022-03-11T06:00:27.495Z"
      },
      {
        "duration": 3,
        "start_time": "2022-03-11T06:17:02.098Z"
      },
      {
        "duration": 150,
        "start_time": "2022-03-11T06:17:02.103Z"
      },
      {
        "duration": 11,
        "start_time": "2022-03-11T06:17:02.260Z"
      },
      {
        "duration": 28,
        "start_time": "2022-03-11T06:17:02.274Z"
      },
      {
        "duration": 5,
        "start_time": "2022-03-11T06:17:02.305Z"
      },
      {
        "duration": 22,
        "start_time": "2022-03-11T06:17:02.312Z"
      },
      {
        "duration": 24,
        "start_time": "2022-03-11T06:17:02.337Z"
      },
      {
        "duration": 25,
        "start_time": "2022-03-11T06:17:02.363Z"
      },
      {
        "duration": 18,
        "start_time": "2022-03-11T06:17:02.390Z"
      },
      {
        "duration": 50,
        "start_time": "2022-03-11T06:17:02.410Z"
      },
      {
        "duration": 54,
        "start_time": "2022-03-11T06:17:02.462Z"
      },
      {
        "duration": 83,
        "start_time": "2022-03-11T06:17:02.518Z"
      },
      {
        "duration": 58,
        "start_time": "2022-03-11T06:17:02.602Z"
      },
      {
        "duration": 43,
        "start_time": "2022-03-11T06:17:02.662Z"
      },
      {
        "duration": 3,
        "start_time": "2022-03-11T06:17:02.707Z"
      },
      {
        "duration": 11,
        "start_time": "2022-03-11T06:17:02.712Z"
      },
      {
        "duration": 69,
        "start_time": "2022-03-11T06:17:02.725Z"
      },
      {
        "duration": 27,
        "start_time": "2022-03-11T06:17:02.796Z"
      },
      {
        "duration": 43,
        "start_time": "2022-03-11T06:17:02.826Z"
      },
      {
        "duration": 3,
        "start_time": "2022-03-11T06:17:02.871Z"
      },
      {
        "duration": 19,
        "start_time": "2022-03-11T06:17:02.876Z"
      },
      {
        "duration": 13,
        "start_time": "2022-03-11T06:17:02.897Z"
      },
      {
        "duration": 19,
        "start_time": "2022-03-11T06:17:02.911Z"
      },
      {
        "duration": 34,
        "start_time": "2022-03-11T06:17:02.932Z"
      },
      {
        "duration": 15,
        "start_time": "2022-03-11T06:17:02.968Z"
      },
      {
        "duration": 13,
        "start_time": "2022-03-11T06:17:02.984Z"
      },
      {
        "duration": 8,
        "start_time": "2022-03-11T06:17:02.999Z"
      },
      {
        "duration": 53,
        "start_time": "2022-03-11T06:17:03.009Z"
      },
      {
        "duration": 12,
        "start_time": "2022-03-11T06:17:03.064Z"
      },
      {
        "duration": 3,
        "start_time": "2022-03-11T06:17:03.078Z"
      },
      {
        "duration": 22,
        "start_time": "2022-03-11T06:17:03.082Z"
      },
      {
        "duration": 10,
        "start_time": "2022-03-11T06:17:03.105Z"
      },
      {
        "duration": 19,
        "start_time": "2022-03-11T06:17:03.116Z"
      },
      {
        "duration": 32,
        "start_time": "2022-03-11T06:17:03.136Z"
      },
      {
        "duration": 7,
        "start_time": "2022-03-11T06:17:03.170Z"
      },
      {
        "duration": 5,
        "start_time": "2022-03-11T06:17:03.179Z"
      },
      {
        "duration": 6,
        "start_time": "2022-03-11T06:17:03.185Z"
      },
      {
        "duration": 5,
        "start_time": "2022-03-11T06:17:03.192Z"
      },
      {
        "duration": 2,
        "start_time": "2022-03-11T06:21:42.463Z"
      },
      {
        "duration": 157,
        "start_time": "2022-03-11T06:21:42.467Z"
      },
      {
        "duration": 10,
        "start_time": "2022-03-11T06:21:42.626Z"
      },
      {
        "duration": 38,
        "start_time": "2022-03-11T06:21:42.638Z"
      },
      {
        "duration": 5,
        "start_time": "2022-03-11T06:21:42.678Z"
      },
      {
        "duration": 23,
        "start_time": "2022-03-11T06:21:42.685Z"
      },
      {
        "duration": 4,
        "start_time": "2022-03-11T06:21:42.710Z"
      },
      {
        "duration": 46,
        "start_time": "2022-03-11T06:21:42.716Z"
      },
      {
        "duration": 17,
        "start_time": "2022-03-11T06:21:42.764Z"
      },
      {
        "duration": 26,
        "start_time": "2022-03-11T06:21:42.783Z"
      },
      {
        "duration": 70,
        "start_time": "2022-03-11T06:21:42.810Z"
      },
      {
        "duration": 60,
        "start_time": "2022-03-11T06:21:42.882Z"
      },
      {
        "duration": 56,
        "start_time": "2022-03-11T06:21:42.944Z"
      },
      {
        "duration": 39,
        "start_time": "2022-03-11T06:21:43.002Z"
      },
      {
        "duration": 3,
        "start_time": "2022-03-11T06:21:43.059Z"
      },
      {
        "duration": 11,
        "start_time": "2022-03-11T06:21:43.064Z"
      },
      {
        "duration": 38,
        "start_time": "2022-03-11T06:21:43.077Z"
      },
      {
        "duration": 46,
        "start_time": "2022-03-11T06:21:43.117Z"
      },
      {
        "duration": 26,
        "start_time": "2022-03-11T06:21:43.167Z"
      },
      {
        "duration": 3,
        "start_time": "2022-03-11T06:21:43.195Z"
      },
      {
        "duration": 18,
        "start_time": "2022-03-11T06:21:43.200Z"
      },
      {
        "duration": 14,
        "start_time": "2022-03-11T06:21:43.220Z"
      },
      {
        "duration": 15,
        "start_time": "2022-03-11T06:21:43.258Z"
      },
      {
        "duration": 12,
        "start_time": "2022-03-11T06:21:43.275Z"
      },
      {
        "duration": 16,
        "start_time": "2022-03-11T06:21:43.289Z"
      },
      {
        "duration": 13,
        "start_time": "2022-03-11T06:21:43.307Z"
      },
      {
        "duration": 37,
        "start_time": "2022-03-11T06:21:43.322Z"
      },
      {
        "duration": 15,
        "start_time": "2022-03-11T06:21:43.361Z"
      },
      {
        "duration": 12,
        "start_time": "2022-03-11T06:21:43.377Z"
      },
      {
        "duration": 3,
        "start_time": "2022-03-11T06:21:43.391Z"
      },
      {
        "duration": 20,
        "start_time": "2022-03-11T06:21:43.396Z"
      },
      {
        "duration": 11,
        "start_time": "2022-03-11T06:21:43.418Z"
      },
      {
        "duration": 16,
        "start_time": "2022-03-11T06:21:43.459Z"
      },
      {
        "duration": 11,
        "start_time": "2022-03-11T06:21:43.477Z"
      },
      {
        "duration": 8,
        "start_time": "2022-03-11T06:21:43.490Z"
      },
      {
        "duration": 8,
        "start_time": "2022-03-11T06:21:43.500Z"
      },
      {
        "duration": 10,
        "start_time": "2022-03-11T06:21:43.509Z"
      },
      {
        "duration": 5,
        "start_time": "2022-03-11T06:21:43.521Z"
      },
      {
        "duration": 3,
        "start_time": "2022-03-11T06:38:12.652Z"
      },
      {
        "duration": 143,
        "start_time": "2022-03-11T06:38:12.658Z"
      },
      {
        "duration": 11,
        "start_time": "2022-03-11T06:38:12.803Z"
      },
      {
        "duration": 25,
        "start_time": "2022-03-11T06:38:12.816Z"
      },
      {
        "duration": 17,
        "start_time": "2022-03-11T06:38:12.843Z"
      },
      {
        "duration": 17,
        "start_time": "2022-03-11T06:38:12.862Z"
      },
      {
        "duration": 4,
        "start_time": "2022-03-11T06:38:12.881Z"
      },
      {
        "duration": 24,
        "start_time": "2022-03-11T06:38:12.887Z"
      },
      {
        "duration": 51,
        "start_time": "2022-03-11T06:38:12.913Z"
      },
      {
        "duration": 24,
        "start_time": "2022-03-11T06:38:12.966Z"
      },
      {
        "duration": 77,
        "start_time": "2022-03-11T06:38:12.992Z"
      },
      {
        "duration": 63,
        "start_time": "2022-03-11T06:38:13.071Z"
      },
      {
        "duration": 65,
        "start_time": "2022-03-11T06:38:13.135Z"
      },
      {
        "duration": 42,
        "start_time": "2022-03-11T06:38:13.202Z"
      },
      {
        "duration": 13,
        "start_time": "2022-03-11T06:38:13.246Z"
      },
      {
        "duration": 13,
        "start_time": "2022-03-11T06:38:13.261Z"
      },
      {
        "duration": 42,
        "start_time": "2022-03-11T06:38:13.275Z"
      },
      {
        "duration": 49,
        "start_time": "2022-03-11T06:38:13.318Z"
      },
      {
        "duration": 27,
        "start_time": "2022-03-11T06:38:13.370Z"
      },
      {
        "duration": 4,
        "start_time": "2022-03-11T06:38:13.399Z"
      },
      {
        "duration": 23,
        "start_time": "2022-03-11T06:38:13.404Z"
      },
      {
        "duration": 31,
        "start_time": "2022-03-11T06:38:13.429Z"
      },
      {
        "duration": 15,
        "start_time": "2022-03-11T06:38:13.461Z"
      },
      {
        "duration": 14,
        "start_time": "2022-03-11T06:38:13.478Z"
      },
      {
        "duration": 16,
        "start_time": "2022-03-11T06:38:13.494Z"
      },
      {
        "duration": 15,
        "start_time": "2022-03-11T06:38:13.511Z"
      },
      {
        "duration": 39,
        "start_time": "2022-03-11T06:38:13.527Z"
      },
      {
        "duration": 16,
        "start_time": "2022-03-11T06:38:13.567Z"
      },
      {
        "duration": 12,
        "start_time": "2022-03-11T06:38:13.584Z"
      },
      {
        "duration": 3,
        "start_time": "2022-03-11T06:38:13.598Z"
      },
      {
        "duration": 22,
        "start_time": "2022-03-11T06:38:13.603Z"
      },
      {
        "duration": 40,
        "start_time": "2022-03-11T06:38:13.626Z"
      },
      {
        "duration": 21,
        "start_time": "2022-03-11T06:38:13.668Z"
      },
      {
        "duration": 11,
        "start_time": "2022-03-11T06:38:13.691Z"
      },
      {
        "duration": 8,
        "start_time": "2022-03-11T06:38:13.703Z"
      },
      {
        "duration": 5,
        "start_time": "2022-03-11T06:38:13.713Z"
      },
      {
        "duration": 7,
        "start_time": "2022-03-11T06:38:13.719Z"
      },
      {
        "duration": 34,
        "start_time": "2022-03-11T06:38:13.728Z"
      }
    ],
    "colab": {
      "collapsed_sections": [
        "E0vqbgi9ay0H",
        "VUC88oWjTJw2"
      ],
      "provenance": []
    },
    "kernelspec": {
      "display_name": "Python 3 (ipykernel)",
      "language": "python",
      "name": "python3"
    },
    "language_info": {
      "codemirror_mode": {
        "name": "ipython",
        "version": 3
      },
      "file_extension": ".py",
      "mimetype": "text/x-python",
      "name": "python",
      "nbconvert_exporter": "python",
      "pygments_lexer": "ipython3",
      "version": "3.9.5"
    },
    "toc": {
      "base_numbering": 1,
      "nav_menu": {},
      "number_sections": true,
      "sideBar": true,
      "skip_h1_title": true,
      "title_cell": "Table of Contents",
      "title_sidebar": "Contents",
      "toc_cell": false,
      "toc_position": {},
      "toc_section_display": true,
      "toc_window_display": true
    }
  },
  "nbformat": 4,
  "nbformat_minor": 0
}