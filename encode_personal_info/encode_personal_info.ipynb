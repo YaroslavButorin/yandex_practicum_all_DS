{
  "cells": [
    {
      "cell_type": "markdown",
      "metadata": {
        "toc": true,
        "id": "XXDRrWepkmNd"
      },
      "source": [
        "<h1>Содержание<span class=\"tocSkip\"></span></h1>\n",
        "<div class=\"toc\"><ul class=\"toc-item\"><li><span><a href=\"#Загрузка-данных\" data-toc-modified-id=\"Загрузка-данных-1\"><span class=\"toc-item-num\">1&nbsp;&nbsp;</span>Загрузка данных</a></span><ul class=\"toc-item\"><li><span><a href=\"#Предобработка\" data-toc-modified-id=\"Предобработка-1.1\"><span class=\"toc-item-num\">1.1&nbsp;&nbsp;</span>Предобработка</a></span></li></ul></li><li><span><a href=\"#Умножение-матриц\" data-toc-modified-id=\"Умножение-матриц-2\"><span class=\"toc-item-num\">2&nbsp;&nbsp;</span>Умножение матриц</a></span></li><li><span><a href=\"#Алгоритм-преобразования\" data-toc-modified-id=\"Алгоритм-преобразования-3\"><span class=\"toc-item-num\">3&nbsp;&nbsp;</span>Алгоритм преобразования</a></span></li><li><span><a href=\"#Проверка-алгоритма\" data-toc-modified-id=\"Проверка-алгоритма-4\"><span class=\"toc-item-num\">4&nbsp;&nbsp;</span>Проверка алгоритма</a></span></li><li><span><a href=\"#Чек-лист-проверки\" data-toc-modified-id=\"Чек-лист-проверки-5\"><span class=\"toc-item-num\">5&nbsp;&nbsp;</span>Чек-лист проверки</a></span></li></ul></div>"
      ]
    },
    {
      "cell_type": "markdown",
      "metadata": {
        "id": "pn3ZizqSkmNf"
      },
      "source": [
        "# Защита персональных данных клиентов"
      ]
    },
    {
      "cell_type": "markdown",
      "metadata": {
        "id": "C9GOVx8hkmNg"
      },
      "source": [
        "Вам нужно защитить данные клиентов страховой компании «Хоть потоп». Разработайте такой метод преобразования данных, чтобы по ним было сложно восстановить персональную информацию. Обоснуйте корректность его работы.\n",
        "\n",
        "Нужно защитить данные, чтобы при преобразовании качество моделей машинного обучения не ухудшилось. Подбирать наилучшую модель не требуется."
      ]
    },
    {
      "cell_type": "markdown",
      "metadata": {
        "id": "wzZ4_xjdkmNh"
      },
      "source": [
        "## Загрузка данных"
      ]
    },
    {
      "cell_type": "code",
      "execution_count": null,
      "metadata": {
        "id": "_YoTMsEmkmNj"
      },
      "outputs": [],
      "source": [
        "import pandas as pd\n",
        "import numpy as np\n",
        "from sklearn.model_selection import train_test_split\n",
        "from sklearn.linear_model import LinearRegression\n",
        "from sklearn.preprocessing import StandardScaler \n",
        "from sklearn.metrics import r2_score"
      ]
    },
    {
      "cell_type": "code",
      "execution_count": null,
      "metadata": {
        "id": "KKKvFUeskmNm"
      },
      "outputs": [],
      "source": [
        "data = pd.read_csv('/datasets/insurance.csv')"
      ]
    },
    {
      "cell_type": "code",
      "execution_count": null,
      "metadata": {
        "scrolled": false,
        "id": "2RgYNZr1kmNn",
        "outputId": "4c9b5800-ee73-4459-aca6-59d746e451f9"
      },
      "outputs": [
        {
          "name": "stdout",
          "output_type": "stream",
          "text": [
            "<class 'pandas.core.frame.DataFrame'>\n",
            "RangeIndex: 5000 entries, 0 to 4999\n",
            "Data columns (total 5 columns):\n",
            " #   Column             Non-Null Count  Dtype  \n",
            "---  ------             --------------  -----  \n",
            " 0   Пол                5000 non-null   int64  \n",
            " 1   Возраст            5000 non-null   float64\n",
            " 2   Зарплата           5000 non-null   float64\n",
            " 3   Члены семьи        5000 non-null   int64  \n",
            " 4   Страховые выплаты  5000 non-null   int64  \n",
            "dtypes: float64(2), int64(3)\n",
            "memory usage: 195.4 KB\n"
          ]
        }
      ],
      "source": [
        "data.info()"
      ]
    },
    {
      "cell_type": "code",
      "execution_count": null,
      "metadata": {
        "scrolled": true,
        "id": "WOK1P6zJkmNo",
        "outputId": "04736caa-edf3-489d-b2fd-405426aae0ac"
      },
      "outputs": [
        {
          "data": {
            "text/html": [
              "<div>\n",
              "<style scoped>\n",
              "    .dataframe tbody tr th:only-of-type {\n",
              "        vertical-align: middle;\n",
              "    }\n",
              "\n",
              "    .dataframe tbody tr th {\n",
              "        vertical-align: top;\n",
              "    }\n",
              "\n",
              "    .dataframe thead th {\n",
              "        text-align: right;\n",
              "    }\n",
              "</style>\n",
              "<table border=\"1\" class=\"dataframe\">\n",
              "  <thead>\n",
              "    <tr style=\"text-align: right;\">\n",
              "      <th></th>\n",
              "      <th>Пол</th>\n",
              "      <th>Возраст</th>\n",
              "      <th>Зарплата</th>\n",
              "      <th>Члены семьи</th>\n",
              "      <th>Страховые выплаты</th>\n",
              "    </tr>\n",
              "  </thead>\n",
              "  <tbody>\n",
              "    <tr>\n",
              "      <th>0</th>\n",
              "      <td>1</td>\n",
              "      <td>41.0</td>\n",
              "      <td>49600.0</td>\n",
              "      <td>1</td>\n",
              "      <td>0</td>\n",
              "    </tr>\n",
              "    <tr>\n",
              "      <th>1</th>\n",
              "      <td>0</td>\n",
              "      <td>46.0</td>\n",
              "      <td>38000.0</td>\n",
              "      <td>1</td>\n",
              "      <td>1</td>\n",
              "    </tr>\n",
              "    <tr>\n",
              "      <th>2</th>\n",
              "      <td>0</td>\n",
              "      <td>29.0</td>\n",
              "      <td>21000.0</td>\n",
              "      <td>0</td>\n",
              "      <td>0</td>\n",
              "    </tr>\n",
              "    <tr>\n",
              "      <th>3</th>\n",
              "      <td>0</td>\n",
              "      <td>21.0</td>\n",
              "      <td>41700.0</td>\n",
              "      <td>2</td>\n",
              "      <td>0</td>\n",
              "    </tr>\n",
              "    <tr>\n",
              "      <th>4</th>\n",
              "      <td>1</td>\n",
              "      <td>28.0</td>\n",
              "      <td>26100.0</td>\n",
              "      <td>0</td>\n",
              "      <td>0</td>\n",
              "    </tr>\n",
              "  </tbody>\n",
              "</table>\n",
              "</div>"
            ],
            "text/plain": [
              "   Пол  Возраст  Зарплата  Члены семьи  Страховые выплаты\n",
              "0    1     41.0   49600.0            1                  0\n",
              "1    0     46.0   38000.0            1                  1\n",
              "2    0     29.0   21000.0            0                  0\n",
              "3    0     21.0   41700.0            2                  0\n",
              "4    1     28.0   26100.0            0                  0"
            ]
          },
          "execution_count": 4,
          "metadata": {},
          "output_type": "execute_result"
        }
      ],
      "source": [
        "data.head()"
      ]
    },
    {
      "cell_type": "markdown",
      "metadata": {
        "id": "wF8u_SfCkmNp"
      },
      "source": [
        "### Предобработка"
      ]
    },
    {
      "cell_type": "code",
      "execution_count": null,
      "metadata": {
        "id": "2xmRYilnkmNq"
      },
      "outputs": [],
      "source": [
        "features = data.drop(['Страховые выплаты'], axis=1)\n",
        "target = data['Страховые выплаты']"
      ]
    },
    {
      "cell_type": "code",
      "execution_count": null,
      "metadata": {
        "scrolled": true,
        "id": "j8qH7QYrkmNq",
        "outputId": "064a3094-f79e-4784-c831-631914a506d9"
      },
      "outputs": [
        {
          "data": {
            "text/plain": [
              "count     5000.000000\n",
              "mean     39916.360000\n",
              "std       9900.083569\n",
              "min       5300.000000\n",
              "25%      33300.000000\n",
              "50%      40200.000000\n",
              "75%      46600.000000\n",
              "max      79000.000000\n",
              "Name: Зарплата, dtype: float64"
            ]
          },
          "execution_count": 6,
          "metadata": {},
          "output_type": "execute_result"
        }
      ],
      "source": [
        "features['Зарплата'].describe()"
      ]
    },
    {
      "cell_type": "code",
      "execution_count": null,
      "metadata": {
        "id": "8qBwm7pdkmNr",
        "outputId": "98ed0172-abb0-477a-e18a-4bd93ff21563"
      },
      "outputs": [
        {
          "data": {
            "text/plain": [
              "array([0, 1, 2, 3, 5, 4])"
            ]
          },
          "execution_count": 7,
          "metadata": {},
          "output_type": "execute_result"
        }
      ],
      "source": [
        "target.unique()"
      ]
    },
    {
      "cell_type": "markdown",
      "metadata": {
        "id": "WOqmGzDYkmNt"
      },
      "source": [
        "Разделим на выборки"
      ]
    },
    {
      "cell_type": "code",
      "execution_count": null,
      "metadata": {
        "id": "ZOfYfBjkkmNt"
      },
      "outputs": [],
      "source": [
        "features_train, features_valid, target_train, target_valid = train_test_split(features,target, test_size=0.25, random_state=12345)"
      ]
    },
    {
      "cell_type": "markdown",
      "metadata": {
        "id": "HLiifk7tkmNv"
      },
      "source": [
        "Применим скалирование для зарплаты."
      ]
    },
    {
      "cell_type": "code",
      "execution_count": null,
      "metadata": {
        "scrolled": false,
        "id": "p8f3LOFRkmNw"
      },
      "outputs": [],
      "source": [
        "pd.options.mode.chained_assignment = None\n",
        "numeric = ['Зарплата']\n",
        "scaler = StandardScaler()\n",
        "scaler.fit(features_train[numeric])\n",
        "features_train[numeric] = scaler.transform(features_train[numeric])\n",
        "features_valid[numeric] = scaler.transform(features_valid[numeric]) "
      ]
    },
    {
      "cell_type": "code",
      "execution_count": null,
      "metadata": {
        "id": "GHHSjvWBkmNw"
      },
      "outputs": [],
      "source": [
        "def lineReg(features_train,target_train):\n",
        "    model = LinearRegression()\n",
        "    model.fit(features_train,target_train)\n",
        "    r2 = model.score(features_train, target_train)\n",
        "    return r2"
      ]
    },
    {
      "cell_type": "code",
      "execution_count": null,
      "metadata": {
        "scrolled": true,
        "id": "WZ8e4qVGkmNx",
        "outputId": "735772ab-7645-4474-8cb2-e49486470a08"
      },
      "outputs": [
        {
          "data": {
            "text/plain": [
              "0.4213920242579371"
            ]
          },
          "execution_count": 11,
          "metadata": {},
          "output_type": "execute_result"
        }
      ],
      "source": [
        "lineReg(features_train,target_train)"
      ]
    },
    {
      "cell_type": "markdown",
      "metadata": {
        "id": "ANWu4mllkmNx"
      },
      "source": [
        "Создадим рандомную матрицу."
      ]
    },
    {
      "cell_type": "code",
      "execution_count": null,
      "metadata": {
        "id": "j9Lf37OxkmNx"
      },
      "outputs": [],
      "source": [
        "inv_matrix = np.random.rand(4,4)"
      ]
    },
    {
      "cell_type": "code",
      "execution_count": null,
      "metadata": {
        "scrolled": true,
        "id": "Y73MgfJwkmNy",
        "outputId": "41a7ee0d-baac-403a-ba7e-c87e0f91e34a"
      },
      "outputs": [
        {
          "data": {
            "text/plain": [
              "array([[0.98900511, 0.65389309, 0.11890318, 0.86893309],\n",
              "       [0.45733328, 0.60237123, 0.60763633, 0.39967452],\n",
              "       [0.43443924, 0.16631156, 0.72004593, 0.74670465],\n",
              "       [0.012316  , 0.05402612, 0.09188834, 0.88265106]])"
            ]
          },
          "execution_count": 13,
          "metadata": {},
          "output_type": "execute_result"
        }
      ],
      "source": [
        "inv_matrix"
      ]
    },
    {
      "cell_type": "markdown",
      "metadata": {
        "id": "zSTCQdmvkmNz"
      },
      "source": [
        "Проверим на обратимость"
      ]
    },
    {
      "cell_type": "code",
      "execution_count": null,
      "metadata": {
        "scrolled": true,
        "id": "eDTVqto7kmNz",
        "outputId": "b98143a3-e653-46e3-a71a-65a59e1280b8"
      },
      "outputs": [
        {
          "data": {
            "text/plain": [
              "array([[ 1.16343938, -1.46869416,  1.2427494 , -1.53165635],\n",
              "       [-0.19264769,  2.36352415, -2.07429646,  0.87423493],\n",
              "       [-0.73186929,  0.52575738,  1.12597139, -0.47012288],\n",
              "       [ 0.07174901, -0.17890941, -0.00759434,  1.14975352]])"
            ]
          },
          "execution_count": 14,
          "metadata": {},
          "output_type": "execute_result"
        }
      ],
      "source": [
        "np.linalg.inv(inv_matrix)"
      ]
    },
    {
      "cell_type": "markdown",
      "metadata": {
        "id": "oJ0_MfXmkmNz"
      },
      "source": [
        "Умножим наши признаки на случайную матрицу."
      ]
    },
    {
      "cell_type": "code",
      "execution_count": null,
      "metadata": {
        "id": "j2bZ1GxskmN0",
        "outputId": "c3e4be37-452f-4920-a45f-47695571ca6c"
      },
      "outputs": [
        {
          "data": {
            "text/plain": [
              "0.4213920242579372"
            ]
          },
          "execution_count": 15,
          "metadata": {},
          "output_type": "execute_result"
        }
      ],
      "source": [
        "lineReg(features_train@inv_matrix,target_train)"
      ]
    },
    {
      "cell_type": "markdown",
      "metadata": {
        "id": "DZKzLltCkmN0"
      },
      "source": [
        "Качество не изменилось."
      ]
    },
    {
      "cell_type": "markdown",
      "metadata": {
        "id": "us4ZCWJ3kmN1"
      },
      "source": [
        "## Умножение матриц"
      ]
    },
    {
      "cell_type": "markdown",
      "metadata": {
        "id": "eMMCQyNbkmN1"
      },
      "source": [
        "В этом задании вы можете записывать формулы в *Jupyter Notebook.*\n",
        "\n",
        "Чтобы записать формулу внутри текста, окружите её символами доллара \\\\$; если снаружи —  двойными символами \\\\$\\\\$. Эти формулы записываются на языке вёрстки *LaTeX.* \n",
        "\n",
        "Для примера мы записали формулы линейной регрессии. Можете их скопировать и отредактировать, чтобы решить задачу.\n",
        "\n",
        "Работать в *LaTeX* необязательно."
      ]
    },
    {
      "cell_type": "markdown",
      "metadata": {
        "id": "N5SwuFI9kmN2"
      },
      "source": [
        "Обозначения:\n",
        "\n",
        "- $X$ — матрица признаков (нулевой столбец состоит из единиц)\n",
        "\n",
        "- $y$ — вектор целевого признака\n",
        "\n",
        "- $P$ — матрица, на которую умножаются признаки\n",
        "\n",
        "- $w$ — вектор весов линейной регрессии (нулевой элемент равен сдвигу)\n",
        "\n",
        "- $y$ - предсказания по исходной матрице признаков\n",
        "\n",
        "- $y_1$ - предсказания по матрице полученной домноженной на обратимую матрицу\n",
        "\n",
        "- $w_1$ - вектор весов линейной регрессии матрицы полученной домножение исходной на обратимую матрицу(нулевой элемент равен сдвигу)\n",
        "\n"
      ]
    },
    {
      "cell_type": "markdown",
      "metadata": {
        "id": "R13y3vVKkmN2"
      },
      "source": [
        "Предсказания:\n",
        "\n",
        "$$\n",
        "a = Xw\n",
        "$$\n",
        "\n",
        "Задача обучения:\n",
        "\n",
        "$$\n",
        "w = \\arg\\min_w MSE(Xw, y)\n",
        "$$\n",
        "\n",
        "Формула обучения:\n",
        "\n",
        "$$\n",
        "w = (X^T X)^{-1} X^T y\n",
        "$$"
      ]
    },
    {
      "cell_type": "markdown",
      "metadata": {
        "id": "tV3KIz0ykmN3"
      },
      "source": [
        "**Ответ:** b\n",
        "\n",
        "**Обоснование:** Качество модели не должно измениться. Так как обратная матрица это та же матрица только инвертированая."
      ]
    },
    {
      "cell_type": "markdown",
      "metadata": {
        "id": "KMMa5qw8kmN3"
      },
      "source": [
        "<br>$w_1 = (P^T X^T XP)^{-1} P^TX^T y$\n",
        "<br>$w_1 = (X^T XP)^{-1} (P^T)^{-1} P^TX^T y$.\n",
        "<br>$w_1 = (P)^{-1}(X^T X)^{-1}(P^T)^{-1} P^TX^T y$.\n",
        "<br>$w_1 = (P)^{-1}(X^T X)^{-1}X^T y$. -  тут мы это сокращаем получается $(P^T)^{-1} P^T$ -\n",
        "<br>$w_1 = P^{-1}(X^T X)^{-1}X^T y$ - у нас остается $(P)^{-1}$ можно убрать скобки. Это формула обучения.\n",
        "<br> Подставляя формулу обучения в формулу предсказаний:\n",
        "$$a_1 = XPP^{-1}(X^T X)^{-1}X^T y$$\n",
        "$$XPP^{-1} = X$$\n",
        "$$y_1 = X(X^TX)^{-1}X^T y$$"
      ]
    },
    {
      "cell_type": "markdown",
      "metadata": {
        "id": "ZFYakDA4kmN-"
      },
      "source": [
        "## Алгоритм преобразования"
      ]
    },
    {
      "cell_type": "markdown",
      "metadata": {
        "id": "h67U4n_xkmN-"
      },
      "source": [
        "**Алгоритм**\n",
        "\n",
        "..."
      ]
    },
    {
      "cell_type": "markdown",
      "metadata": {
        "id": "flKlVevbkmN_"
      },
      "source": [
        "**Обоснование**\n",
        "C матрицей признаков можно проделать различные математические операции несколько раз а потом умножить на обратную рандомную матрицу."
      ]
    },
    {
      "cell_type": "markdown",
      "metadata": {
        "id": "wsM4kFJGkmOA"
      },
      "source": [
        "## Проверка алгоритма"
      ]
    },
    {
      "cell_type": "code",
      "execution_count": null,
      "metadata": {
        "id": "93Dbx7QlkmOB"
      },
      "outputs": [],
      "source": [
        "new_feature = ((features_train * 5000 - 100 * 10 - 400) * 10) @ inv_matrix"
      ]
    },
    {
      "cell_type": "code",
      "execution_count": null,
      "metadata": {
        "scrolled": true,
        "id": "Y9IGVpzBkmOB",
        "outputId": "38c420a9-311b-4b70-9264-2c211d8ec97f"
      },
      "outputs": [
        {
          "data": {
            "text/html": [
              "<div>\n",
              "<style scoped>\n",
              "    .dataframe tbody tr th:only-of-type {\n",
              "        vertical-align: middle;\n",
              "    }\n",
              "\n",
              "    .dataframe tbody tr th {\n",
              "        vertical-align: top;\n",
              "    }\n",
              "\n",
              "    .dataframe thead th {\n",
              "        text-align: right;\n",
              "    }\n",
              "</style>\n",
              "<table border=\"1\" class=\"dataframe\">\n",
              "  <thead>\n",
              "    <tr style=\"text-align: right;\">\n",
              "      <th></th>\n",
              "      <th>0</th>\n",
              "      <th>1</th>\n",
              "      <th>2</th>\n",
              "      <th>3</th>\n",
              "    </tr>\n",
              "  </thead>\n",
              "  <tbody>\n",
              "    <tr>\n",
              "      <th>3369</th>\n",
              "      <td>998612.605442</td>\n",
              "      <td>1.306676e+06</td>\n",
              "      <td>1.281801e+06</td>\n",
              "      <td>892185.279810</td>\n",
              "    </tr>\n",
              "    <tr>\n",
              "      <th>1441</th>\n",
              "      <td>839285.267696</td>\n",
              "      <td>1.050934e+06</td>\n",
              "      <td>1.081815e+06</td>\n",
              "      <td>749133.767574</td>\n",
              "    </tr>\n",
              "    <tr>\n",
              "      <th>571</th>\n",
              "      <td>708410.979869</td>\n",
              "      <td>9.468049e+05</td>\n",
              "      <td>9.595256e+05</td>\n",
              "      <td>647449.388633</td>\n",
              "    </tr>\n",
              "    <tr>\n",
              "      <th>225</th>\n",
              "      <td>808679.211984</td>\n",
              "      <td>1.070649e+06</td>\n",
              "      <td>1.095641e+06</td>\n",
              "      <td>742512.249904</td>\n",
              "    </tr>\n",
              "    <tr>\n",
              "      <th>2558</th>\n",
              "      <td>752797.188806</td>\n",
              "      <td>9.876271e+05</td>\n",
              "      <td>1.029148e+06</td>\n",
              "      <td>747494.567219</td>\n",
              "    </tr>\n",
              "  </tbody>\n",
              "</table>\n",
              "</div>"
            ],
            "text/plain": [
              "                  0             1             2              3\n",
              "3369  998612.605442  1.306676e+06  1.281801e+06  892185.279810\n",
              "1441  839285.267696  1.050934e+06  1.081815e+06  749133.767574\n",
              "571   708410.979869  9.468049e+05  9.595256e+05  647449.388633\n",
              "225   808679.211984  1.070649e+06  1.095641e+06  742512.249904\n",
              "2558  752797.188806  9.876271e+05  1.029148e+06  747494.567219"
            ]
          },
          "execution_count": 17,
          "metadata": {},
          "output_type": "execute_result"
        }
      ],
      "source": [
        "new_feature.head()"
      ]
    },
    {
      "cell_type": "code",
      "execution_count": null,
      "metadata": {
        "scrolled": true,
        "id": "eoeyOtN2kmOC",
        "outputId": "4f36be20-0933-42ef-9b7e-a7c82132ea49"
      },
      "outputs": [
        {
          "data": {
            "text/html": [
              "<div>\n",
              "<style scoped>\n",
              "    .dataframe tbody tr th:only-of-type {\n",
              "        vertical-align: middle;\n",
              "    }\n",
              "\n",
              "    .dataframe tbody tr th {\n",
              "        vertical-align: top;\n",
              "    }\n",
              "\n",
              "    .dataframe thead th {\n",
              "        text-align: right;\n",
              "    }\n",
              "</style>\n",
              "<table border=\"1\" class=\"dataframe\">\n",
              "  <thead>\n",
              "    <tr style=\"text-align: right;\">\n",
              "      <th></th>\n",
              "      <th>Пол</th>\n",
              "      <th>Возраст</th>\n",
              "      <th>Зарплата</th>\n",
              "      <th>Члены семьи</th>\n",
              "    </tr>\n",
              "  </thead>\n",
              "  <tbody>\n",
              "    <tr>\n",
              "      <th>0</th>\n",
              "      <td>1</td>\n",
              "      <td>41.0</td>\n",
              "      <td>49600.0</td>\n",
              "      <td>1</td>\n",
              "    </tr>\n",
              "    <tr>\n",
              "      <th>1</th>\n",
              "      <td>0</td>\n",
              "      <td>46.0</td>\n",
              "      <td>38000.0</td>\n",
              "      <td>1</td>\n",
              "    </tr>\n",
              "    <tr>\n",
              "      <th>2</th>\n",
              "      <td>0</td>\n",
              "      <td>29.0</td>\n",
              "      <td>21000.0</td>\n",
              "      <td>0</td>\n",
              "    </tr>\n",
              "    <tr>\n",
              "      <th>3</th>\n",
              "      <td>0</td>\n",
              "      <td>21.0</td>\n",
              "      <td>41700.0</td>\n",
              "      <td>2</td>\n",
              "    </tr>\n",
              "    <tr>\n",
              "      <th>4</th>\n",
              "      <td>1</td>\n",
              "      <td>28.0</td>\n",
              "      <td>26100.0</td>\n",
              "      <td>0</td>\n",
              "    </tr>\n",
              "  </tbody>\n",
              "</table>\n",
              "</div>"
            ],
            "text/plain": [
              "   Пол  Возраст  Зарплата  Члены семьи\n",
              "0    1     41.0   49600.0            1\n",
              "1    0     46.0   38000.0            1\n",
              "2    0     29.0   21000.0            0\n",
              "3    0     21.0   41700.0            2\n",
              "4    1     28.0   26100.0            0"
            ]
          },
          "execution_count": 18,
          "metadata": {},
          "output_type": "execute_result"
        }
      ],
      "source": [
        "features.head()"
      ]
    },
    {
      "cell_type": "code",
      "execution_count": null,
      "metadata": {
        "id": "SMdaT2NlkmOD",
        "outputId": "bd2db3a3-929c-4ade-cff5-ddcd44d731b3"
      },
      "outputs": [
        {
          "data": {
            "text/plain": [
              "0.4213920242579372"
            ]
          },
          "execution_count": 19,
          "metadata": {},
          "output_type": "execute_result"
        }
      ],
      "source": [
        "lineReg(new_feature,target_train)"
      ]
    },
    {
      "cell_type": "code",
      "execution_count": null,
      "metadata": {
        "id": "6hTCq-QkkmOE",
        "outputId": "94ca0ea9-aafd-4d35-d92c-0b3438aac015"
      },
      "outputs": [
        {
          "data": {
            "text/html": [
              "<div>\n",
              "<style scoped>\n",
              "    .dataframe tbody tr th:only-of-type {\n",
              "        vertical-align: middle;\n",
              "    }\n",
              "\n",
              "    .dataframe tbody tr th {\n",
              "        vertical-align: top;\n",
              "    }\n",
              "\n",
              "    .dataframe thead th {\n",
              "        text-align: right;\n",
              "    }\n",
              "</style>\n",
              "<table border=\"1\" class=\"dataframe\">\n",
              "  <thead>\n",
              "    <tr style=\"text-align: right;\">\n",
              "      <th></th>\n",
              "      <th>0</th>\n",
              "      <th>1</th>\n",
              "      <th>2</th>\n",
              "      <th>3</th>\n",
              "    </tr>\n",
              "  </thead>\n",
              "  <tbody>\n",
              "    <tr>\n",
              "      <th>3369</th>\n",
              "      <td>20.502318</td>\n",
              "      <td>26.546972</td>\n",
              "      <td>26.066785</td>\n",
              "      <td>18.655135</td>\n",
              "    </tr>\n",
              "    <tr>\n",
              "      <th>1441</th>\n",
              "      <td>17.315772</td>\n",
              "      <td>21.432132</td>\n",
              "      <td>22.067071</td>\n",
              "      <td>15.794105</td>\n",
              "    </tr>\n",
              "    <tr>\n",
              "      <th>571</th>\n",
              "      <td>14.698286</td>\n",
              "      <td>19.349546</td>\n",
              "      <td>19.621284</td>\n",
              "      <td>13.760418</td>\n",
              "    </tr>\n",
              "    <tr>\n",
              "      <th>225</th>\n",
              "      <td>16.703650</td>\n",
              "      <td>21.826419</td>\n",
              "      <td>22.343587</td>\n",
              "      <td>15.661675</td>\n",
              "    </tr>\n",
              "    <tr>\n",
              "      <th>2558</th>\n",
              "      <td>15.586010</td>\n",
              "      <td>20.165990</td>\n",
              "      <td>21.013733</td>\n",
              "      <td>15.761321</td>\n",
              "    </tr>\n",
              "    <tr>\n",
              "      <th>...</th>\n",
              "      <td>...</td>\n",
              "      <td>...</td>\n",
              "      <td>...</td>\n",
              "      <td>...</td>\n",
              "    </tr>\n",
              "    <tr>\n",
              "      <th>3497</th>\n",
              "      <td>18.863232</td>\n",
              "      <td>25.167609</td>\n",
              "      <td>24.949306</td>\n",
              "      <td>16.193754</td>\n",
              "    </tr>\n",
              "    <tr>\n",
              "      <th>3492</th>\n",
              "      <td>12.096156</td>\n",
              "      <td>16.792154</td>\n",
              "      <td>16.124321</td>\n",
              "      <td>13.417901</td>\n",
              "    </tr>\n",
              "    <tr>\n",
              "      <th>2177</th>\n",
              "      <td>19.961719</td>\n",
              "      <td>25.485430</td>\n",
              "      <td>25.471496</td>\n",
              "      <td>18.498724</td>\n",
              "    </tr>\n",
              "    <tr>\n",
              "      <th>3557</th>\n",
              "      <td>10.557972</td>\n",
              "      <td>13.639536</td>\n",
              "      <td>14.477040</td>\n",
              "      <td>13.092384</td>\n",
              "    </tr>\n",
              "    <tr>\n",
              "      <th>4578</th>\n",
              "      <td>8.727435</td>\n",
              "      <td>11.459640</td>\n",
              "      <td>11.608242</td>\n",
              "      <td>7.659306</td>\n",
              "    </tr>\n",
              "  </tbody>\n",
              "</table>\n",
              "<p>3750 rows × 4 columns</p>\n",
              "</div>"
            ],
            "text/plain": [
              "              0          1          2          3\n",
              "3369  20.502318  26.546972  26.066785  18.655135\n",
              "1441  17.315772  21.432132  22.067071  15.794105\n",
              "571   14.698286  19.349546  19.621284  13.760418\n",
              "225   16.703650  21.826419  22.343587  15.661675\n",
              "2558  15.586010  20.165990  21.013733  15.761321\n",
              "...         ...        ...        ...        ...\n",
              "3497  18.863232  25.167609  24.949306  16.193754\n",
              "3492  12.096156  16.792154  16.124321  13.417901\n",
              "2177  19.961719  25.485430  25.471496  18.498724\n",
              "3557  10.557972  13.639536  14.477040  13.092384\n",
              "4578   8.727435  11.459640  11.608242   7.659306\n",
              "\n",
              "[3750 rows x 4 columns]"
            ]
          },
          "execution_count": 20,
          "metadata": {},
          "output_type": "execute_result"
        }
      ],
      "source": [
        "back = features_train @ inv_matrix\n",
        "back"
      ]
    },
    {
      "cell_type": "markdown",
      "metadata": {
        "id": "TcXCOWQlkmOF"
      },
      "source": [
        "Данные изменились а вот метрика нет."
      ]
    },
    {
      "cell_type": "markdown",
      "metadata": {
        "id": "TIvtfQAakmOG"
      },
      "source": [
        "## Чек-лист проверки"
      ]
    },
    {
      "cell_type": "markdown",
      "metadata": {
        "id": "qlFj1RfykmOH"
      },
      "source": [
        "Поставьте 'x' в выполненных пунктах. Далее нажмите Shift+Enter."
      ]
    },
    {
      "cell_type": "markdown",
      "metadata": {
        "id": "HsfOxYiLkmOI"
      },
      "source": [
        "- [x]  Jupyter Notebook открыт\n",
        "- [x]  Весь код выполняется без ошибок\n",
        "- [x]  Ячейки с кодом расположены в порядке исполнения\n",
        "- [x]  Выполнен шаг 1: данные загружены\n",
        "- [x]  Выполнен шаг 2: получен ответ на вопрос об умножении матриц\n",
        "    - [x]  Указан правильный вариант ответа\n",
        "    - [x]  Вариант обоснован\n",
        "- [x]  Выполнен шаг 3: предложен алгоритм преобразования\n",
        "    - [x]  Алгоритм описан\n",
        "    - [x]  Алгоритм обоснован\n",
        "- [x]  Выполнен шаг 4: алгоритм проверен\n",
        "    - [x]  Алгоритм реализован\n",
        "    - [x]  Проведено сравнение качества моделей до и после преобразования"
      ]
    },
    {
      "cell_type": "code",
      "execution_count": null,
      "metadata": {
        "id": "BelajjmJkmOI"
      },
      "outputs": [],
      "source": []
    }
  ],
  "metadata": {
    "ExecuteTimeLog": [
      {
        "duration": 424,
        "start_time": "2022-07-11T05:14:10.606Z"
      },
      {
        "duration": 55,
        "start_time": "2022-07-11T05:14:32.211Z"
      },
      {
        "duration": 18,
        "start_time": "2022-07-11T05:14:32.691Z"
      },
      {
        "duration": 12,
        "start_time": "2022-07-11T05:14:51.141Z"
      },
      {
        "duration": 771,
        "start_time": "2022-07-11T05:21:54.951Z"
      },
      {
        "duration": 16,
        "start_time": "2022-07-11T05:21:55.724Z"
      },
      {
        "duration": 13,
        "start_time": "2022-07-11T05:21:56.405Z"
      },
      {
        "duration": 10,
        "start_time": "2022-07-11T05:26:59.101Z"
      },
      {
        "duration": 5,
        "start_time": "2022-07-11T05:28:14.927Z"
      },
      {
        "duration": 6,
        "start_time": "2022-07-11T05:28:18.416Z"
      },
      {
        "duration": 4,
        "start_time": "2022-07-11T05:28:52.016Z"
      },
      {
        "duration": 3,
        "start_time": "2022-07-11T05:28:59.169Z"
      },
      {
        "duration": 8,
        "start_time": "2022-07-11T05:29:23.609Z"
      },
      {
        "duration": 93,
        "start_time": "2022-07-11T05:33:08.542Z"
      },
      {
        "duration": 6,
        "start_time": "2022-07-11T05:33:38.678Z"
      },
      {
        "duration": 9,
        "start_time": "2022-07-11T05:33:46.959Z"
      },
      {
        "duration": 4,
        "start_time": "2022-07-11T05:33:50.285Z"
      },
      {
        "duration": 42,
        "start_time": "2022-07-11T05:33:50.291Z"
      },
      {
        "duration": 13,
        "start_time": "2022-07-11T05:33:50.334Z"
      },
      {
        "duration": 11,
        "start_time": "2022-07-11T05:33:50.350Z"
      },
      {
        "duration": 7,
        "start_time": "2022-07-11T05:33:50.362Z"
      },
      {
        "duration": 18,
        "start_time": "2022-07-11T05:33:50.371Z"
      },
      {
        "duration": 14,
        "start_time": "2022-07-11T05:33:50.391Z"
      },
      {
        "duration": 25,
        "start_time": "2022-07-11T05:33:50.416Z"
      },
      {
        "duration": 12,
        "start_time": "2022-07-11T05:34:11.567Z"
      },
      {
        "duration": 7,
        "start_time": "2022-07-11T05:34:15.016Z"
      },
      {
        "duration": 10,
        "start_time": "2022-07-11T05:34:23.207Z"
      },
      {
        "duration": 10,
        "start_time": "2022-07-11T05:35:10.745Z"
      },
      {
        "duration": 6,
        "start_time": "2022-07-11T05:35:25.689Z"
      },
      {
        "duration": 16,
        "start_time": "2022-07-11T05:36:01.131Z"
      },
      {
        "duration": 3,
        "start_time": "2022-07-11T05:36:08.245Z"
      },
      {
        "duration": 25,
        "start_time": "2022-07-11T05:36:08.250Z"
      },
      {
        "duration": 12,
        "start_time": "2022-07-11T05:36:08.277Z"
      },
      {
        "duration": 27,
        "start_time": "2022-07-11T05:36:08.292Z"
      },
      {
        "duration": 12,
        "start_time": "2022-07-11T05:36:08.320Z"
      },
      {
        "duration": 11,
        "start_time": "2022-07-11T05:36:08.334Z"
      },
      {
        "duration": 7,
        "start_time": "2022-07-11T05:36:08.347Z"
      },
      {
        "duration": 17,
        "start_time": "2022-07-11T05:36:08.356Z"
      },
      {
        "duration": 3,
        "start_time": "2022-07-11T05:37:02.725Z"
      },
      {
        "duration": 37,
        "start_time": "2022-07-11T05:37:02.731Z"
      },
      {
        "duration": 11,
        "start_time": "2022-07-11T05:37:02.770Z"
      },
      {
        "duration": 27,
        "start_time": "2022-07-11T05:37:02.783Z"
      },
      {
        "duration": 21,
        "start_time": "2022-07-11T05:37:02.812Z"
      },
      {
        "duration": 30,
        "start_time": "2022-07-11T05:37:02.835Z"
      },
      {
        "duration": 6,
        "start_time": "2022-07-11T05:37:02.867Z"
      },
      {
        "duration": 15,
        "start_time": "2022-07-11T05:37:02.875Z"
      },
      {
        "duration": 26,
        "start_time": "2022-07-11T05:37:38.493Z"
      },
      {
        "duration": 4,
        "start_time": "2022-07-11T05:37:45.252Z"
      },
      {
        "duration": 33,
        "start_time": "2022-07-11T05:37:45.258Z"
      },
      {
        "duration": 20,
        "start_time": "2022-07-11T05:37:45.293Z"
      },
      {
        "duration": 23,
        "start_time": "2022-07-11T05:37:45.315Z"
      },
      {
        "duration": 18,
        "start_time": "2022-07-11T05:37:45.339Z"
      },
      {
        "duration": 22,
        "start_time": "2022-07-11T05:37:45.358Z"
      },
      {
        "duration": 14,
        "start_time": "2022-07-11T05:37:45.382Z"
      },
      {
        "duration": 43,
        "start_time": "2022-07-11T05:37:45.397Z"
      },
      {
        "duration": 3,
        "start_time": "2022-07-11T05:37:52.173Z"
      },
      {
        "duration": 24,
        "start_time": "2022-07-11T05:37:52.179Z"
      },
      {
        "duration": 24,
        "start_time": "2022-07-11T05:37:52.205Z"
      },
      {
        "duration": 11,
        "start_time": "2022-07-11T05:37:52.231Z"
      },
      {
        "duration": 7,
        "start_time": "2022-07-11T05:37:52.244Z"
      },
      {
        "duration": 13,
        "start_time": "2022-07-11T05:37:52.253Z"
      },
      {
        "duration": 5,
        "start_time": "2022-07-11T05:37:52.268Z"
      },
      {
        "duration": 9,
        "start_time": "2022-07-11T05:37:52.275Z"
      },
      {
        "duration": 19,
        "start_time": "2022-07-11T05:37:56.717Z"
      },
      {
        "duration": 10,
        "start_time": "2022-07-11T05:40:18.856Z"
      },
      {
        "duration": 18,
        "start_time": "2022-07-11T05:41:56.715Z"
      },
      {
        "duration": 15,
        "start_time": "2022-07-11T05:42:21.820Z"
      },
      {
        "duration": 6,
        "start_time": "2022-07-11T05:42:45.356Z"
      },
      {
        "duration": 17,
        "start_time": "2022-07-11T05:42:59.700Z"
      },
      {
        "duration": 3,
        "start_time": "2022-07-11T05:46:38.729Z"
      },
      {
        "duration": 30,
        "start_time": "2022-07-11T05:47:13.179Z"
      },
      {
        "duration": 10,
        "start_time": "2022-07-11T05:47:30.019Z"
      },
      {
        "duration": 4,
        "start_time": "2022-07-11T05:47:35.116Z"
      },
      {
        "duration": 5,
        "start_time": "2022-07-11T05:47:43.206Z"
      },
      {
        "duration": 25,
        "start_time": "2022-07-11T05:47:43.218Z"
      },
      {
        "duration": 13,
        "start_time": "2022-07-11T05:47:43.245Z"
      },
      {
        "duration": 11,
        "start_time": "2022-07-11T05:47:43.260Z"
      },
      {
        "duration": 6,
        "start_time": "2022-07-11T05:47:43.274Z"
      },
      {
        "duration": 13,
        "start_time": "2022-07-11T05:47:43.282Z"
      },
      {
        "duration": 33,
        "start_time": "2022-07-11T05:47:43.296Z"
      },
      {
        "duration": 19,
        "start_time": "2022-07-11T05:47:43.330Z"
      },
      {
        "duration": 10,
        "start_time": "2022-07-11T05:47:43.350Z"
      },
      {
        "duration": 7,
        "start_time": "2022-07-11T05:47:43.362Z"
      },
      {
        "duration": 4,
        "start_time": "2022-07-11T05:47:46.275Z"
      },
      {
        "duration": 13,
        "start_time": "2022-07-11T05:48:46.924Z"
      },
      {
        "duration": 4,
        "start_time": "2022-07-11T05:48:56.605Z"
      },
      {
        "duration": 10,
        "start_time": "2022-07-11T05:48:56.764Z"
      },
      {
        "duration": 13,
        "start_time": "2022-07-11T05:48:56.925Z"
      },
      {
        "duration": 4,
        "start_time": "2022-07-11T05:49:09.988Z"
      },
      {
        "duration": 29,
        "start_time": "2022-07-11T05:49:09.994Z"
      },
      {
        "duration": 10,
        "start_time": "2022-07-11T05:49:10.025Z"
      },
      {
        "duration": 11,
        "start_time": "2022-07-11T05:49:10.037Z"
      },
      {
        "duration": 10,
        "start_time": "2022-07-11T05:49:10.050Z"
      },
      {
        "duration": 15,
        "start_time": "2022-07-11T05:49:10.061Z"
      },
      {
        "duration": 11,
        "start_time": "2022-07-11T05:49:10.077Z"
      },
      {
        "duration": 0,
        "start_time": "2022-07-11T05:49:10.089Z"
      },
      {
        "duration": 0,
        "start_time": "2022-07-11T05:49:10.091Z"
      },
      {
        "duration": 0,
        "start_time": "2022-07-11T05:49:10.103Z"
      },
      {
        "duration": 0,
        "start_time": "2022-07-11T05:49:10.108Z"
      },
      {
        "duration": 11,
        "start_time": "2022-07-11T05:49:25.142Z"
      },
      {
        "duration": 9,
        "start_time": "2022-07-11T05:49:32.053Z"
      },
      {
        "duration": 6,
        "start_time": "2022-07-11T05:49:44.662Z"
      },
      {
        "duration": 5,
        "start_time": "2022-07-11T05:49:54.535Z"
      },
      {
        "duration": 13,
        "start_time": "2022-07-11T05:50:25.290Z"
      },
      {
        "duration": 4,
        "start_time": "2022-07-11T05:50:25.782Z"
      },
      {
        "duration": 8,
        "start_time": "2022-07-11T05:51:08.624Z"
      },
      {
        "duration": 5,
        "start_time": "2022-07-11T05:51:13.897Z"
      },
      {
        "duration": 4,
        "start_time": "2022-07-11T10:35:22.049Z"
      },
      {
        "duration": 3,
        "start_time": "2022-07-11T10:35:37.465Z"
      },
      {
        "duration": 21,
        "start_time": "2022-07-11T10:35:37.470Z"
      },
      {
        "duration": 16,
        "start_time": "2022-07-11T10:35:37.493Z"
      },
      {
        "duration": 19,
        "start_time": "2022-07-11T10:35:37.512Z"
      },
      {
        "duration": 8,
        "start_time": "2022-07-11T10:35:37.534Z"
      },
      {
        "duration": 16,
        "start_time": "2022-07-11T10:35:37.543Z"
      },
      {
        "duration": 6,
        "start_time": "2022-07-11T10:35:37.560Z"
      },
      {
        "duration": 32,
        "start_time": "2022-07-11T10:35:37.568Z"
      },
      {
        "duration": 15,
        "start_time": "2022-07-11T10:35:37.602Z"
      },
      {
        "duration": 4,
        "start_time": "2022-07-11T10:35:37.618Z"
      },
      {
        "duration": 34,
        "start_time": "2022-07-11T10:35:37.624Z"
      },
      {
        "duration": 3,
        "start_time": "2022-07-11T10:35:48.598Z"
      },
      {
        "duration": 12,
        "start_time": "2022-07-11T10:35:48.756Z"
      },
      {
        "duration": 9,
        "start_time": "2022-07-11T10:39:00.718Z"
      },
      {
        "duration": 4,
        "start_time": "2022-07-11T10:39:08.727Z"
      },
      {
        "duration": 15,
        "start_time": "2022-07-11T10:39:12.135Z"
      },
      {
        "duration": 3,
        "start_time": "2022-07-11T10:39:21.639Z"
      },
      {
        "duration": 3,
        "start_time": "2022-07-11T10:39:26.631Z"
      },
      {
        "duration": 27,
        "start_time": "2022-07-11T10:39:26.635Z"
      },
      {
        "duration": 10,
        "start_time": "2022-07-11T10:39:26.664Z"
      },
      {
        "duration": 11,
        "start_time": "2022-07-11T10:39:26.675Z"
      },
      {
        "duration": 6,
        "start_time": "2022-07-11T10:39:26.688Z"
      },
      {
        "duration": 10,
        "start_time": "2022-07-11T10:39:26.695Z"
      },
      {
        "duration": 6,
        "start_time": "2022-07-11T10:39:26.707Z"
      },
      {
        "duration": 14,
        "start_time": "2022-07-11T10:39:26.715Z"
      },
      {
        "duration": 12,
        "start_time": "2022-07-11T10:39:26.731Z"
      },
      {
        "duration": 3,
        "start_time": "2022-07-11T10:39:26.745Z"
      },
      {
        "duration": 55,
        "start_time": "2022-07-11T10:39:26.749Z"
      },
      {
        "duration": 96,
        "start_time": "2022-07-11T10:39:26.806Z"
      },
      {
        "duration": 5,
        "start_time": "2022-07-11T10:39:31.959Z"
      },
      {
        "duration": 8,
        "start_time": "2022-07-11T10:40:20.368Z"
      },
      {
        "duration": 6,
        "start_time": "2022-07-11T10:40:25.288Z"
      },
      {
        "duration": 14,
        "start_time": "2022-07-11T10:50:34.168Z"
      },
      {
        "duration": 5,
        "start_time": "2022-07-11T11:35:49.191Z"
      },
      {
        "duration": 4,
        "start_time": "2022-07-11T11:36:21.598Z"
      },
      {
        "duration": 25,
        "start_time": "2022-07-11T11:36:36.159Z"
      },
      {
        "duration": 10,
        "start_time": "2022-07-11T11:37:14.615Z"
      },
      {
        "duration": 8,
        "start_time": "2022-07-11T11:37:32.839Z"
      },
      {
        "duration": 67,
        "start_time": "2022-07-11T11:38:58.616Z"
      },
      {
        "duration": 76,
        "start_time": "2022-07-11T11:39:09.507Z"
      },
      {
        "duration": 268,
        "start_time": "2022-07-11T11:45:19.070Z"
      },
      {
        "duration": 3,
        "start_time": "2022-07-11T11:45:31.360Z"
      },
      {
        "duration": 29,
        "start_time": "2022-07-11T11:45:31.365Z"
      },
      {
        "duration": 18,
        "start_time": "2022-07-11T11:45:31.396Z"
      },
      {
        "duration": 19,
        "start_time": "2022-07-11T11:45:31.417Z"
      },
      {
        "duration": 6,
        "start_time": "2022-07-11T11:45:31.438Z"
      },
      {
        "duration": 15,
        "start_time": "2022-07-11T11:45:31.446Z"
      },
      {
        "duration": 6,
        "start_time": "2022-07-11T11:45:31.462Z"
      },
      {
        "duration": 14,
        "start_time": "2022-07-11T11:45:31.469Z"
      },
      {
        "duration": 25,
        "start_time": "2022-07-11T11:45:31.486Z"
      },
      {
        "duration": 11,
        "start_time": "2022-07-11T11:45:31.513Z"
      },
      {
        "duration": 13,
        "start_time": "2022-07-11T11:45:31.526Z"
      },
      {
        "duration": 117,
        "start_time": "2022-07-11T11:45:31.600Z"
      },
      {
        "duration": 13,
        "start_time": "2022-07-11T11:45:31.718Z"
      },
      {
        "duration": 12,
        "start_time": "2022-07-11T11:45:31.733Z"
      },
      {
        "duration": 161,
        "start_time": "2022-07-11T11:45:31.747Z"
      },
      {
        "duration": 109,
        "start_time": "2022-07-11T11:45:31.910Z"
      },
      {
        "duration": 28,
        "start_time": "2022-07-11T11:45:32.021Z"
      },
      {
        "duration": 22,
        "start_time": "2022-07-11T11:45:32.051Z"
      },
      {
        "duration": 20,
        "start_time": "2022-07-11T11:45:32.074Z"
      },
      {
        "duration": 360,
        "start_time": "2022-07-11T11:45:32.096Z"
      },
      {
        "duration": 4,
        "start_time": "2022-07-11T11:49:34.477Z"
      },
      {
        "duration": 12,
        "start_time": "2022-07-11T11:49:41.067Z"
      },
      {
        "duration": 258,
        "start_time": "2022-07-11T11:49:51.018Z"
      },
      {
        "duration": 11,
        "start_time": "2022-07-11T11:49:58.542Z"
      },
      {
        "duration": 1322,
        "start_time": "2022-07-12T16:40:01.422Z"
      },
      {
        "duration": 17,
        "start_time": "2022-07-12T16:40:02.746Z"
      },
      {
        "duration": 17,
        "start_time": "2022-07-12T16:40:02.765Z"
      },
      {
        "duration": 18,
        "start_time": "2022-07-12T16:40:02.785Z"
      },
      {
        "duration": 7,
        "start_time": "2022-07-12T16:40:02.805Z"
      },
      {
        "duration": 23,
        "start_time": "2022-07-12T16:40:02.814Z"
      },
      {
        "duration": 7,
        "start_time": "2022-07-12T16:40:02.839Z"
      },
      {
        "duration": 7,
        "start_time": "2022-07-12T16:40:02.847Z"
      },
      {
        "duration": 14,
        "start_time": "2022-07-12T16:40:02.856Z"
      },
      {
        "duration": 3,
        "start_time": "2022-07-12T16:40:02.874Z"
      },
      {
        "duration": 61,
        "start_time": "2022-07-12T16:40:02.879Z"
      },
      {
        "duration": 87,
        "start_time": "2022-07-12T16:40:02.942Z"
      },
      {
        "duration": 17,
        "start_time": "2022-07-12T16:40:03.030Z"
      },
      {
        "duration": 13,
        "start_time": "2022-07-12T16:40:03.049Z"
      },
      {
        "duration": 78,
        "start_time": "2022-07-12T16:40:03.065Z"
      },
      {
        "duration": 186,
        "start_time": "2022-07-12T16:40:03.145Z"
      },
      {
        "duration": 19,
        "start_time": "2022-07-12T16:40:03.332Z"
      },
      {
        "duration": 9,
        "start_time": "2022-07-12T16:40:03.353Z"
      },
      {
        "duration": 13,
        "start_time": "2022-07-12T16:40:03.364Z"
      },
      {
        "duration": 158,
        "start_time": "2022-07-12T16:40:03.379Z"
      },
      {
        "duration": 1178,
        "start_time": "2022-07-15T07:29:08.022Z"
      },
      {
        "duration": 119,
        "start_time": "2022-07-15T07:29:09.203Z"
      },
      {
        "duration": 12,
        "start_time": "2022-07-15T07:29:09.324Z"
      },
      {
        "duration": 34,
        "start_time": "2022-07-15T07:29:09.339Z"
      },
      {
        "duration": 25,
        "start_time": "2022-07-15T07:29:09.374Z"
      },
      {
        "duration": 13,
        "start_time": "2022-07-15T07:29:09.400Z"
      },
      {
        "duration": 7,
        "start_time": "2022-07-15T07:29:09.416Z"
      },
      {
        "duration": 9,
        "start_time": "2022-07-15T07:29:09.425Z"
      },
      {
        "duration": 17,
        "start_time": "2022-07-15T07:29:09.435Z"
      },
      {
        "duration": 3,
        "start_time": "2022-07-15T07:29:09.454Z"
      },
      {
        "duration": 53,
        "start_time": "2022-07-15T07:29:09.459Z"
      },
      {
        "duration": 183,
        "start_time": "2022-07-15T07:29:09.514Z"
      },
      {
        "duration": 7,
        "start_time": "2022-07-15T07:29:09.698Z"
      },
      {
        "duration": 7,
        "start_time": "2022-07-15T07:29:09.707Z"
      },
      {
        "duration": 57,
        "start_time": "2022-07-15T07:29:09.716Z"
      },
      {
        "duration": 134,
        "start_time": "2022-07-15T07:29:09.774Z"
      },
      {
        "duration": 9,
        "start_time": "2022-07-15T07:29:09.910Z"
      },
      {
        "duration": 12,
        "start_time": "2022-07-15T07:29:09.968Z"
      },
      {
        "duration": 23,
        "start_time": "2022-07-15T07:29:09.983Z"
      },
      {
        "duration": 85,
        "start_time": "2022-07-15T07:29:10.008Z"
      }
    ],
    "kernelspec": {
      "display_name": "Python 3 (ipykernel)",
      "language": "python",
      "name": "python3"
    },
    "language_info": {
      "codemirror_mode": {
        "name": "ipython",
        "version": 3
      },
      "file_extension": ".py",
      "mimetype": "text/x-python",
      "name": "python",
      "nbconvert_exporter": "python",
      "pygments_lexer": "ipython3",
      "version": "3.9.5"
    },
    "toc": {
      "base_numbering": 1,
      "nav_menu": {},
      "number_sections": true,
      "sideBar": true,
      "skip_h1_title": true,
      "title_cell": "Содержание",
      "title_sidebar": "Contents",
      "toc_cell": true,
      "toc_position": {
        "height": "calc(100% - 180px)",
        "left": "10px",
        "top": "150px",
        "width": "189.861px"
      },
      "toc_section_display": true,
      "toc_window_display": true
    },
    "colab": {
      "provenance": []
    }
  },
  "nbformat": 4,
  "nbformat_minor": 0
}