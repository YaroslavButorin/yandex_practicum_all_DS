{
  "cells": [
    {
      "cell_type": "markdown",
      "metadata": {
        "toc": true,
        "id": "jXaIARLvAOi4"
      },
      "source": [
        "<h1>Содержание<span class=\"tocSkip\"></span></h1>\n",
        "<div class=\"toc\"><ul class=\"toc-item\"><li><span><a href=\"#Подготовка-данных\" data-toc-modified-id=\"Подготовка-данных-1\"><span class=\"toc-item-num\">1&nbsp;&nbsp;</span>Подготовка данных</a></span><ul class=\"toc-item\"><li><span><a href=\"#OrdinalEncoder\" data-toc-modified-id=\"OrdinalEncoder-1.1\"><span class=\"toc-item-num\">1.1&nbsp;&nbsp;</span>OrdinalEncoder</a></span></li></ul></li><li><span><a href=\"#Исследование-задачи\" data-toc-modified-id=\"Исследование-задачи-2\"><span class=\"toc-item-num\">2&nbsp;&nbsp;</span>Исследование задачи</a></span><ul class=\"toc-item\"><li><span><a href=\"#Маштабирование-признаков\" data-toc-modified-id=\"Маштабирование-признаков-2.1\"><span class=\"toc-item-num\">2.1&nbsp;&nbsp;</span>Маштабирование признаков</a></span></li></ul></li><li><span><a href=\"#Построение-моделей\" data-toc-modified-id=\"Построение-моделей-3\"><span class=\"toc-item-num\">3&nbsp;&nbsp;</span>Построение моделей</a></span><ul class=\"toc-item\"><li><span><a href=\"#LogisticRegression_F1\" data-toc-modified-id=\"LogisticRegression_F1-3.1\"><span class=\"toc-item-num\">3.1&nbsp;&nbsp;</span>LogisticRegression_F1</a></span></li><li><span><a href=\"#DecisionTreeClassifier_F1\" data-toc-modified-id=\"DecisionTreeClassifier_F1-3.2\"><span class=\"toc-item-num\">3.2&nbsp;&nbsp;</span>DecisionTreeClassifier_F1</a></span><ul class=\"toc-item\"><li><span><a href=\"#Ищем-параметры\" data-toc-modified-id=\"Ищем-параметры-3.2.1\"><span class=\"toc-item-num\">3.2.1&nbsp;&nbsp;</span>Ищем параметры</a></span></li><li><span><a href=\"#valid-выборка\" data-toc-modified-id=\"valid-выборка-3.2.2\"><span class=\"toc-item-num\">3.2.2&nbsp;&nbsp;</span>valid выборка</a></span></li><li><span><a href=\"#test-выборка\" data-toc-modified-id=\"test-выборка-3.2.3\"><span class=\"toc-item-num\">3.2.3&nbsp;&nbsp;</span>test выборка</a></span></li></ul></li><li><span><a href=\"#RandomForestClassifier_F1\" data-toc-modified-id=\"RandomForestClassifier_F1-3.3\"><span class=\"toc-item-num\">3.3&nbsp;&nbsp;</span>RandomForestClassifier_F1</a></span><ul class=\"toc-item\"><li><span><a href=\"#ищем-параметры\" data-toc-modified-id=\"ищем-параметры-3.3.1\"><span class=\"toc-item-num\">3.3.1&nbsp;&nbsp;</span>ищем параметры</a></span></li><li><span><a href=\"#valid-выборка\" data-toc-modified-id=\"valid-выборка-3.3.2\"><span class=\"toc-item-num\">3.3.2&nbsp;&nbsp;</span>valid выборка</a></span></li><li><span><a href=\"#test-выборка\" data-toc-modified-id=\"test-выборка-3.3.3\"><span class=\"toc-item-num\">3.3.3&nbsp;&nbsp;</span>test выборка</a></span></li></ul></li></ul></li><li><span><a href=\"#Борьба-с-дисбалансом\" data-toc-modified-id=\"Борьба-с-дисбалансом-4\"><span class=\"toc-item-num\">4&nbsp;&nbsp;</span>Борьба с дисбалансом</a></span><ul class=\"toc-item\"><li><span><a href=\"#upsampling\" data-toc-modified-id=\"upsampling-4.1\"><span class=\"toc-item-num\">4.1&nbsp;&nbsp;</span>upsampling</a></span><ul class=\"toc-item\"><li><span><a href=\"#RandomForestClassifier\" data-toc-modified-id=\"RandomForestClassifier-4.1.1\"><span class=\"toc-item-num\">4.1.1&nbsp;&nbsp;</span>RandomForestClassifier</a></span></li><li><span><a href=\"#DecisionTreeClassifier\" data-toc-modified-id=\"DecisionTreeClassifier-4.1.2\"><span class=\"toc-item-num\">4.1.2&nbsp;&nbsp;</span>DecisionTreeClassifier</a></span></li></ul></li></ul></li><li><span><a href=\"#Тестирование-модели\" data-toc-modified-id=\"Тестирование-модели-5\"><span class=\"toc-item-num\">5&nbsp;&nbsp;</span>Тестирование модели</a></span><ul class=\"toc-item\"><li><span><a href=\"#RandomForestClassifier-test\" data-toc-modified-id=\"RandomForestClassifier-test-5.1\"><span class=\"toc-item-num\">5.1&nbsp;&nbsp;</span>RandomForestClassifier test</a></span></li><li><span><a href=\"#DecisionTreeClassifier-test\" data-toc-modified-id=\"DecisionTreeClassifier-test-5.2\"><span class=\"toc-item-num\">5.2&nbsp;&nbsp;</span>DecisionTreeClassifier test</a></span></li></ul></li><li><span><a href=\"#Вывод\" data-toc-modified-id=\"Вывод-6\"><span class=\"toc-item-num\">6&nbsp;&nbsp;</span>Вывод</a></span><ul class=\"toc-item\"><li><span><a href=\"#С-дисбалансом\" data-toc-modified-id=\"С-дисбалансом-6.1\"><span class=\"toc-item-num\">6.1&nbsp;&nbsp;</span>С дисбалансом</a></span></li><li><span><a href=\"#Сбалансированные-выборки\" data-toc-modified-id=\"Сбалансированные-выборки-6.2\"><span class=\"toc-item-num\">6.2&nbsp;&nbsp;</span>Сбалансированные выборки</a></span><ul class=\"toc-item\"><li><span><a href=\"#валидная-выборка\" data-toc-modified-id=\"валидная-выборка-6.2.1\"><span class=\"toc-item-num\">6.2.1&nbsp;&nbsp;</span>валидная выборка</a></span></li><li><span><a href=\"#тестовая-выборка\" data-toc-modified-id=\"тестовая-выборка-6.2.2\"><span class=\"toc-item-num\">6.2.2&nbsp;&nbsp;</span>тестовая выборка</a></span></li></ul></li></ul></li><li><span><a href=\"#Чек-лист-готовности-проекта\" data-toc-modified-id=\"Чек-лист-готовности-проекта-7\"><span class=\"toc-item-num\">7&nbsp;&nbsp;</span>Чек-лист готовности проекта</a></span></li></ul></div>"
      ]
    },
    {
      "cell_type": "markdown",
      "metadata": {
        "id": "cI-zvSuHAOjI"
      },
      "source": [
        "# Отток клиентов"
      ]
    },
    {
      "cell_type": "markdown",
      "metadata": {
        "id": "b9MhDaW3AOjI"
      },
      "source": [
        "Из «Бета-Банка» стали уходить клиенты. Каждый месяц. Немного, но заметно. Банковские маркетологи посчитали: сохранять текущих клиентов дешевле, чем привлекать новых.\n",
        "\n",
        "Нужно спрогнозировать, уйдёт клиент из банка в ближайшее время или нет. Вам предоставлены исторические данные о поведении клиентов и расторжении договоров с банком. \n",
        "\n",
        "Постройте модель с предельно большим значением *F1*-меры. Чтобы сдать проект успешно, нужно довести метрику до 0.59. Проверьте *F1*-меру на тестовой выборке самостоятельно.\n",
        "\n",
        "Дополнительно измеряйте *AUC-ROC*, сравнивайте её значение с *F1*-мерой.\n",
        "\n",
        "Источник данных: [https://www.kaggle.com/barelydedicated/bank-customer-churn-modeling](https://www.kaggle.com/barelydedicated/bank-customer-churn-modeling)"
      ]
    },
    {
      "cell_type": "markdown",
      "metadata": {
        "id": "YnYEekHAAOjK"
      },
      "source": [
        "## Подготовка данных"
      ]
    },
    {
      "cell_type": "code",
      "execution_count": null,
      "metadata": {
        "id": "CdscbQEPAOjL"
      },
      "outputs": [],
      "source": [
        "import pandas as pd\n",
        "from sklearn.tree import DecisionTreeClassifier\n",
        "from sklearn.model_selection import train_test_split\n",
        "from sklearn.preprocessing import StandardScaler\n",
        "from sklearn.preprocessing import OrdinalEncoder\n",
        "from sklearn.ensemble import RandomForestClassifier\n",
        "from sklearn.linear_model import LogisticRegression \n",
        "from sklearn.metrics import mean_squared_error\n",
        "from sklearn.metrics import f1_score\n",
        "from sklearn.metrics import recall_score\n",
        "from sklearn.metrics import precision_score\n",
        "from sklearn.metrics import accuracy_score\n",
        "from sklearn.metrics import confusion_matrix, ConfusionMatrixDisplay\n",
        "from sklearn.metrics import roc_curve\n",
        "from sklearn.metrics import roc_auc_score\n",
        "from sklearn.dummy import DummyClassifier\n",
        "from sklearn.utils import shuffle"
      ]
    },
    {
      "cell_type": "code",
      "execution_count": null,
      "metadata": {
        "id": "jRTm_WpeAOjQ"
      },
      "outputs": [],
      "source": [
        "pd.options.mode.chained_assignment = None\n",
        "data = pd.read_csv('/datasets/Churn.csv',index_col = 0)"
      ]
    },
    {
      "cell_type": "code",
      "execution_count": null,
      "metadata": {
        "scrolled": false,
        "id": "UXJnmoGDAOjR",
        "outputId": "4402d576-12c7-43fe-cb85-72f99daaaea7"
      },
      "outputs": [
        {
          "data": {
            "text/html": [
              "<div>\n",
              "<style scoped>\n",
              "    .dataframe tbody tr th:only-of-type {\n",
              "        vertical-align: middle;\n",
              "    }\n",
              "\n",
              "    .dataframe tbody tr th {\n",
              "        vertical-align: top;\n",
              "    }\n",
              "\n",
              "    .dataframe thead th {\n",
              "        text-align: right;\n",
              "    }\n",
              "</style>\n",
              "<table border=\"1\" class=\"dataframe\">\n",
              "  <thead>\n",
              "    <tr style=\"text-align: right;\">\n",
              "      <th></th>\n",
              "      <th>CustomerId</th>\n",
              "      <th>Surname</th>\n",
              "      <th>CreditScore</th>\n",
              "      <th>Geography</th>\n",
              "      <th>Gender</th>\n",
              "      <th>Age</th>\n",
              "      <th>Tenure</th>\n",
              "      <th>Balance</th>\n",
              "      <th>NumOfProducts</th>\n",
              "      <th>HasCrCard</th>\n",
              "      <th>IsActiveMember</th>\n",
              "      <th>EstimatedSalary</th>\n",
              "      <th>Exited</th>\n",
              "    </tr>\n",
              "    <tr>\n",
              "      <th>RowNumber</th>\n",
              "      <th></th>\n",
              "      <th></th>\n",
              "      <th></th>\n",
              "      <th></th>\n",
              "      <th></th>\n",
              "      <th></th>\n",
              "      <th></th>\n",
              "      <th></th>\n",
              "      <th></th>\n",
              "      <th></th>\n",
              "      <th></th>\n",
              "      <th></th>\n",
              "      <th></th>\n",
              "    </tr>\n",
              "  </thead>\n",
              "  <tbody>\n",
              "    <tr>\n",
              "      <th>1</th>\n",
              "      <td>15634602</td>\n",
              "      <td>Hargrave</td>\n",
              "      <td>619</td>\n",
              "      <td>France</td>\n",
              "      <td>Female</td>\n",
              "      <td>42</td>\n",
              "      <td>2.0</td>\n",
              "      <td>0.00</td>\n",
              "      <td>1</td>\n",
              "      <td>1</td>\n",
              "      <td>1</td>\n",
              "      <td>101348.88</td>\n",
              "      <td>1</td>\n",
              "    </tr>\n",
              "    <tr>\n",
              "      <th>2</th>\n",
              "      <td>15647311</td>\n",
              "      <td>Hill</td>\n",
              "      <td>608</td>\n",
              "      <td>Spain</td>\n",
              "      <td>Female</td>\n",
              "      <td>41</td>\n",
              "      <td>1.0</td>\n",
              "      <td>83807.86</td>\n",
              "      <td>1</td>\n",
              "      <td>0</td>\n",
              "      <td>1</td>\n",
              "      <td>112542.58</td>\n",
              "      <td>0</td>\n",
              "    </tr>\n",
              "    <tr>\n",
              "      <th>3</th>\n",
              "      <td>15619304</td>\n",
              "      <td>Onio</td>\n",
              "      <td>502</td>\n",
              "      <td>France</td>\n",
              "      <td>Female</td>\n",
              "      <td>42</td>\n",
              "      <td>8.0</td>\n",
              "      <td>159660.80</td>\n",
              "      <td>3</td>\n",
              "      <td>1</td>\n",
              "      <td>0</td>\n",
              "      <td>113931.57</td>\n",
              "      <td>1</td>\n",
              "    </tr>\n",
              "    <tr>\n",
              "      <th>4</th>\n",
              "      <td>15701354</td>\n",
              "      <td>Boni</td>\n",
              "      <td>699</td>\n",
              "      <td>France</td>\n",
              "      <td>Female</td>\n",
              "      <td>39</td>\n",
              "      <td>1.0</td>\n",
              "      <td>0.00</td>\n",
              "      <td>2</td>\n",
              "      <td>0</td>\n",
              "      <td>0</td>\n",
              "      <td>93826.63</td>\n",
              "      <td>0</td>\n",
              "    </tr>\n",
              "    <tr>\n",
              "      <th>5</th>\n",
              "      <td>15737888</td>\n",
              "      <td>Mitchell</td>\n",
              "      <td>850</td>\n",
              "      <td>Spain</td>\n",
              "      <td>Female</td>\n",
              "      <td>43</td>\n",
              "      <td>2.0</td>\n",
              "      <td>125510.82</td>\n",
              "      <td>1</td>\n",
              "      <td>1</td>\n",
              "      <td>1</td>\n",
              "      <td>79084.10</td>\n",
              "      <td>0</td>\n",
              "    </tr>\n",
              "    <tr>\n",
              "      <th>6</th>\n",
              "      <td>15574012</td>\n",
              "      <td>Chu</td>\n",
              "      <td>645</td>\n",
              "      <td>Spain</td>\n",
              "      <td>Male</td>\n",
              "      <td>44</td>\n",
              "      <td>8.0</td>\n",
              "      <td>113755.78</td>\n",
              "      <td>2</td>\n",
              "      <td>1</td>\n",
              "      <td>0</td>\n",
              "      <td>149756.71</td>\n",
              "      <td>1</td>\n",
              "    </tr>\n",
              "    <tr>\n",
              "      <th>7</th>\n",
              "      <td>15592531</td>\n",
              "      <td>Bartlett</td>\n",
              "      <td>822</td>\n",
              "      <td>France</td>\n",
              "      <td>Male</td>\n",
              "      <td>50</td>\n",
              "      <td>7.0</td>\n",
              "      <td>0.00</td>\n",
              "      <td>2</td>\n",
              "      <td>1</td>\n",
              "      <td>1</td>\n",
              "      <td>10062.80</td>\n",
              "      <td>0</td>\n",
              "    </tr>\n",
              "    <tr>\n",
              "      <th>8</th>\n",
              "      <td>15656148</td>\n",
              "      <td>Obinna</td>\n",
              "      <td>376</td>\n",
              "      <td>Germany</td>\n",
              "      <td>Female</td>\n",
              "      <td>29</td>\n",
              "      <td>4.0</td>\n",
              "      <td>115046.74</td>\n",
              "      <td>4</td>\n",
              "      <td>1</td>\n",
              "      <td>0</td>\n",
              "      <td>119346.88</td>\n",
              "      <td>1</td>\n",
              "    </tr>\n",
              "    <tr>\n",
              "      <th>9</th>\n",
              "      <td>15792365</td>\n",
              "      <td>He</td>\n",
              "      <td>501</td>\n",
              "      <td>France</td>\n",
              "      <td>Male</td>\n",
              "      <td>44</td>\n",
              "      <td>4.0</td>\n",
              "      <td>142051.07</td>\n",
              "      <td>2</td>\n",
              "      <td>0</td>\n",
              "      <td>1</td>\n",
              "      <td>74940.50</td>\n",
              "      <td>0</td>\n",
              "    </tr>\n",
              "    <tr>\n",
              "      <th>10</th>\n",
              "      <td>15592389</td>\n",
              "      <td>H?</td>\n",
              "      <td>684</td>\n",
              "      <td>France</td>\n",
              "      <td>Male</td>\n",
              "      <td>27</td>\n",
              "      <td>2.0</td>\n",
              "      <td>134603.88</td>\n",
              "      <td>1</td>\n",
              "      <td>1</td>\n",
              "      <td>1</td>\n",
              "      <td>71725.73</td>\n",
              "      <td>0</td>\n",
              "    </tr>\n",
              "    <tr>\n",
              "      <th>11</th>\n",
              "      <td>15767821</td>\n",
              "      <td>Bearce</td>\n",
              "      <td>528</td>\n",
              "      <td>France</td>\n",
              "      <td>Male</td>\n",
              "      <td>31</td>\n",
              "      <td>6.0</td>\n",
              "      <td>102016.72</td>\n",
              "      <td>2</td>\n",
              "      <td>0</td>\n",
              "      <td>0</td>\n",
              "      <td>80181.12</td>\n",
              "      <td>0</td>\n",
              "    </tr>\n",
              "    <tr>\n",
              "      <th>12</th>\n",
              "      <td>15737173</td>\n",
              "      <td>Andrews</td>\n",
              "      <td>497</td>\n",
              "      <td>Spain</td>\n",
              "      <td>Male</td>\n",
              "      <td>24</td>\n",
              "      <td>3.0</td>\n",
              "      <td>0.00</td>\n",
              "      <td>2</td>\n",
              "      <td>1</td>\n",
              "      <td>0</td>\n",
              "      <td>76390.01</td>\n",
              "      <td>0</td>\n",
              "    </tr>\n",
              "    <tr>\n",
              "      <th>13</th>\n",
              "      <td>15632264</td>\n",
              "      <td>Kay</td>\n",
              "      <td>476</td>\n",
              "      <td>France</td>\n",
              "      <td>Female</td>\n",
              "      <td>34</td>\n",
              "      <td>10.0</td>\n",
              "      <td>0.00</td>\n",
              "      <td>2</td>\n",
              "      <td>1</td>\n",
              "      <td>0</td>\n",
              "      <td>26260.98</td>\n",
              "      <td>0</td>\n",
              "    </tr>\n",
              "    <tr>\n",
              "      <th>14</th>\n",
              "      <td>15691483</td>\n",
              "      <td>Chin</td>\n",
              "      <td>549</td>\n",
              "      <td>France</td>\n",
              "      <td>Female</td>\n",
              "      <td>25</td>\n",
              "      <td>5.0</td>\n",
              "      <td>0.00</td>\n",
              "      <td>2</td>\n",
              "      <td>0</td>\n",
              "      <td>0</td>\n",
              "      <td>190857.79</td>\n",
              "      <td>0</td>\n",
              "    </tr>\n",
              "    <tr>\n",
              "      <th>15</th>\n",
              "      <td>15600882</td>\n",
              "      <td>Scott</td>\n",
              "      <td>635</td>\n",
              "      <td>Spain</td>\n",
              "      <td>Female</td>\n",
              "      <td>35</td>\n",
              "      <td>7.0</td>\n",
              "      <td>0.00</td>\n",
              "      <td>2</td>\n",
              "      <td>1</td>\n",
              "      <td>1</td>\n",
              "      <td>65951.65</td>\n",
              "      <td>0</td>\n",
              "    </tr>\n",
              "    <tr>\n",
              "      <th>16</th>\n",
              "      <td>15643966</td>\n",
              "      <td>Goforth</td>\n",
              "      <td>616</td>\n",
              "      <td>Germany</td>\n",
              "      <td>Male</td>\n",
              "      <td>45</td>\n",
              "      <td>3.0</td>\n",
              "      <td>143129.41</td>\n",
              "      <td>2</td>\n",
              "      <td>0</td>\n",
              "      <td>1</td>\n",
              "      <td>64327.26</td>\n",
              "      <td>0</td>\n",
              "    </tr>\n",
              "    <tr>\n",
              "      <th>17</th>\n",
              "      <td>15737452</td>\n",
              "      <td>Romeo</td>\n",
              "      <td>653</td>\n",
              "      <td>Germany</td>\n",
              "      <td>Male</td>\n",
              "      <td>58</td>\n",
              "      <td>1.0</td>\n",
              "      <td>132602.88</td>\n",
              "      <td>1</td>\n",
              "      <td>1</td>\n",
              "      <td>0</td>\n",
              "      <td>5097.67</td>\n",
              "      <td>1</td>\n",
              "    </tr>\n",
              "    <tr>\n",
              "      <th>18</th>\n",
              "      <td>15788218</td>\n",
              "      <td>Henderson</td>\n",
              "      <td>549</td>\n",
              "      <td>Spain</td>\n",
              "      <td>Female</td>\n",
              "      <td>24</td>\n",
              "      <td>9.0</td>\n",
              "      <td>0.00</td>\n",
              "      <td>2</td>\n",
              "      <td>1</td>\n",
              "      <td>1</td>\n",
              "      <td>14406.41</td>\n",
              "      <td>0</td>\n",
              "    </tr>\n",
              "    <tr>\n",
              "      <th>19</th>\n",
              "      <td>15661507</td>\n",
              "      <td>Muldrow</td>\n",
              "      <td>587</td>\n",
              "      <td>Spain</td>\n",
              "      <td>Male</td>\n",
              "      <td>45</td>\n",
              "      <td>6.0</td>\n",
              "      <td>0.00</td>\n",
              "      <td>1</td>\n",
              "      <td>0</td>\n",
              "      <td>0</td>\n",
              "      <td>158684.81</td>\n",
              "      <td>0</td>\n",
              "    </tr>\n",
              "    <tr>\n",
              "      <th>20</th>\n",
              "      <td>15568982</td>\n",
              "      <td>Hao</td>\n",
              "      <td>726</td>\n",
              "      <td>France</td>\n",
              "      <td>Female</td>\n",
              "      <td>24</td>\n",
              "      <td>6.0</td>\n",
              "      <td>0.00</td>\n",
              "      <td>2</td>\n",
              "      <td>1</td>\n",
              "      <td>1</td>\n",
              "      <td>54724.03</td>\n",
              "      <td>0</td>\n",
              "    </tr>\n",
              "    <tr>\n",
              "      <th>21</th>\n",
              "      <td>15577657</td>\n",
              "      <td>McDonald</td>\n",
              "      <td>732</td>\n",
              "      <td>France</td>\n",
              "      <td>Male</td>\n",
              "      <td>41</td>\n",
              "      <td>8.0</td>\n",
              "      <td>0.00</td>\n",
              "      <td>2</td>\n",
              "      <td>1</td>\n",
              "      <td>1</td>\n",
              "      <td>170886.17</td>\n",
              "      <td>0</td>\n",
              "    </tr>\n",
              "    <tr>\n",
              "      <th>22</th>\n",
              "      <td>15597945</td>\n",
              "      <td>Dellucci</td>\n",
              "      <td>636</td>\n",
              "      <td>Spain</td>\n",
              "      <td>Female</td>\n",
              "      <td>32</td>\n",
              "      <td>8.0</td>\n",
              "      <td>0.00</td>\n",
              "      <td>2</td>\n",
              "      <td>1</td>\n",
              "      <td>0</td>\n",
              "      <td>138555.46</td>\n",
              "      <td>0</td>\n",
              "    </tr>\n",
              "    <tr>\n",
              "      <th>23</th>\n",
              "      <td>15699309</td>\n",
              "      <td>Gerasimov</td>\n",
              "      <td>510</td>\n",
              "      <td>Spain</td>\n",
              "      <td>Female</td>\n",
              "      <td>38</td>\n",
              "      <td>4.0</td>\n",
              "      <td>0.00</td>\n",
              "      <td>1</td>\n",
              "      <td>1</td>\n",
              "      <td>0</td>\n",
              "      <td>118913.53</td>\n",
              "      <td>1</td>\n",
              "    </tr>\n",
              "    <tr>\n",
              "      <th>24</th>\n",
              "      <td>15725737</td>\n",
              "      <td>Mosman</td>\n",
              "      <td>669</td>\n",
              "      <td>France</td>\n",
              "      <td>Male</td>\n",
              "      <td>46</td>\n",
              "      <td>3.0</td>\n",
              "      <td>0.00</td>\n",
              "      <td>2</td>\n",
              "      <td>0</td>\n",
              "      <td>1</td>\n",
              "      <td>8487.75</td>\n",
              "      <td>0</td>\n",
              "    </tr>\n",
              "    <tr>\n",
              "      <th>25</th>\n",
              "      <td>15625047</td>\n",
              "      <td>Yen</td>\n",
              "      <td>846</td>\n",
              "      <td>France</td>\n",
              "      <td>Female</td>\n",
              "      <td>38</td>\n",
              "      <td>5.0</td>\n",
              "      <td>0.00</td>\n",
              "      <td>1</td>\n",
              "      <td>1</td>\n",
              "      <td>1</td>\n",
              "      <td>187616.16</td>\n",
              "      <td>0</td>\n",
              "    </tr>\n",
              "  </tbody>\n",
              "</table>\n",
              "</div>"
            ],
            "text/plain": [
              "           CustomerId    Surname  CreditScore Geography  Gender  Age  Tenure  \\\n",
              "RowNumber                                                                      \n",
              "1            15634602   Hargrave          619    France  Female   42     2.0   \n",
              "2            15647311       Hill          608     Spain  Female   41     1.0   \n",
              "3            15619304       Onio          502    France  Female   42     8.0   \n",
              "4            15701354       Boni          699    France  Female   39     1.0   \n",
              "5            15737888   Mitchell          850     Spain  Female   43     2.0   \n",
              "6            15574012        Chu          645     Spain    Male   44     8.0   \n",
              "7            15592531   Bartlett          822    France    Male   50     7.0   \n",
              "8            15656148     Obinna          376   Germany  Female   29     4.0   \n",
              "9            15792365         He          501    France    Male   44     4.0   \n",
              "10           15592389         H?          684    France    Male   27     2.0   \n",
              "11           15767821     Bearce          528    France    Male   31     6.0   \n",
              "12           15737173    Andrews          497     Spain    Male   24     3.0   \n",
              "13           15632264        Kay          476    France  Female   34    10.0   \n",
              "14           15691483       Chin          549    France  Female   25     5.0   \n",
              "15           15600882      Scott          635     Spain  Female   35     7.0   \n",
              "16           15643966    Goforth          616   Germany    Male   45     3.0   \n",
              "17           15737452      Romeo          653   Germany    Male   58     1.0   \n",
              "18           15788218  Henderson          549     Spain  Female   24     9.0   \n",
              "19           15661507    Muldrow          587     Spain    Male   45     6.0   \n",
              "20           15568982        Hao          726    France  Female   24     6.0   \n",
              "21           15577657   McDonald          732    France    Male   41     8.0   \n",
              "22           15597945   Dellucci          636     Spain  Female   32     8.0   \n",
              "23           15699309  Gerasimov          510     Spain  Female   38     4.0   \n",
              "24           15725737     Mosman          669    France    Male   46     3.0   \n",
              "25           15625047        Yen          846    France  Female   38     5.0   \n",
              "\n",
              "             Balance  NumOfProducts  HasCrCard  IsActiveMember  \\\n",
              "RowNumber                                                        \n",
              "1               0.00              1          1               1   \n",
              "2           83807.86              1          0               1   \n",
              "3          159660.80              3          1               0   \n",
              "4               0.00              2          0               0   \n",
              "5          125510.82              1          1               1   \n",
              "6          113755.78              2          1               0   \n",
              "7               0.00              2          1               1   \n",
              "8          115046.74              4          1               0   \n",
              "9          142051.07              2          0               1   \n",
              "10         134603.88              1          1               1   \n",
              "11         102016.72              2          0               0   \n",
              "12              0.00              2          1               0   \n",
              "13              0.00              2          1               0   \n",
              "14              0.00              2          0               0   \n",
              "15              0.00              2          1               1   \n",
              "16         143129.41              2          0               1   \n",
              "17         132602.88              1          1               0   \n",
              "18              0.00              2          1               1   \n",
              "19              0.00              1          0               0   \n",
              "20              0.00              2          1               1   \n",
              "21              0.00              2          1               1   \n",
              "22              0.00              2          1               0   \n",
              "23              0.00              1          1               0   \n",
              "24              0.00              2          0               1   \n",
              "25              0.00              1          1               1   \n",
              "\n",
              "           EstimatedSalary  Exited  \n",
              "RowNumber                           \n",
              "1                101348.88       1  \n",
              "2                112542.58       0  \n",
              "3                113931.57       1  \n",
              "4                 93826.63       0  \n",
              "5                 79084.10       0  \n",
              "6                149756.71       1  \n",
              "7                 10062.80       0  \n",
              "8                119346.88       1  \n",
              "9                 74940.50       0  \n",
              "10                71725.73       0  \n",
              "11                80181.12       0  \n",
              "12                76390.01       0  \n",
              "13                26260.98       0  \n",
              "14               190857.79       0  \n",
              "15                65951.65       0  \n",
              "16                64327.26       0  \n",
              "17                 5097.67       1  \n",
              "18                14406.41       0  \n",
              "19               158684.81       0  \n",
              "20                54724.03       0  \n",
              "21               170886.17       0  \n",
              "22               138555.46       0  \n",
              "23               118913.53       1  \n",
              "24                 8487.75       0  \n",
              "25               187616.16       0  "
            ]
          },
          "execution_count": 121,
          "metadata": {},
          "output_type": "execute_result"
        }
      ],
      "source": [
        "data.head(25)"
      ]
    },
    {
      "cell_type": "markdown",
      "metadata": {
        "id": "sbWcf8PlAOjS"
      },
      "source": [
        "Смотрим пропуски"
      ]
    },
    {
      "cell_type": "code",
      "execution_count": null,
      "metadata": {
        "scrolled": false,
        "id": "1Zo7o0z_AOjT",
        "outputId": "720d0594-2f3a-4118-e474-78b60e725378"
      },
      "outputs": [
        {
          "data": {
            "text/plain": [
              "CustomerId         0.00\n",
              "Surname            0.00\n",
              "CreditScore        0.00\n",
              "Geography          0.00\n",
              "Gender             0.00\n",
              "Age                0.00\n",
              "Balance            0.00\n",
              "NumOfProducts      0.00\n",
              "HasCrCard          0.00\n",
              "IsActiveMember     0.00\n",
              "EstimatedSalary    0.00\n",
              "Exited             0.00\n",
              "Tenure             9.09\n",
              "dtype: float64"
            ]
          },
          "metadata": {},
          "output_type": "display_data"
        }
      ],
      "source": [
        "total_nan = data.isna().sum() * 100 / len(data) \n",
        "display(total_nan.sort_values()) # Процент пропусков по коллонкам"
      ]
    },
    {
      "cell_type": "code",
      "execution_count": null,
      "metadata": {
        "scrolled": true,
        "id": "1QxuftoRAOjU"
      },
      "outputs": [],
      "source": [
        "data['Tenure'] = data['Tenure'].fillna(0)"
      ]
    },
    {
      "cell_type": "markdown",
      "metadata": {
        "id": "2TwO8k4-AOjV"
      },
      "source": [
        "Заполним пропуски нулями."
      ]
    },
    {
      "cell_type": "markdown",
      "metadata": {
        "id": "f0CYLKhuAOjX"
      },
      "source": [
        "Удалим лишнии колонки"
      ]
    },
    {
      "cell_type": "code",
      "execution_count": null,
      "metadata": {
        "id": "aVtvsQrbAOjX"
      },
      "outputs": [],
      "source": [
        "data = data.drop(columns=['Surname','CustomerId'])"
      ]
    },
    {
      "cell_type": "markdown",
      "metadata": {
        "id": "k7tXnduWAOjY"
      },
      "source": [
        "### OrdinalEncoder"
      ]
    },
    {
      "cell_type": "code",
      "execution_count": null,
      "metadata": {
        "id": "9rDOIuCIAOjY"
      },
      "outputs": [],
      "source": [
        "encoder = OrdinalEncoder()\n",
        "data = pd.DataFrame(encoder.fit_transform(data),columns=data.columns)"
      ]
    },
    {
      "cell_type": "markdown",
      "metadata": {
        "id": "cgWXfKUSAOja"
      },
      "source": [
        "## Исследование задачи"
      ]
    },
    {
      "cell_type": "markdown",
      "metadata": {
        "id": "ClPxOD8eAOja"
      },
      "source": [
        "Перед нами задача классификации, модели регресии мы использовать не будем только DecisionTreeClassifier и RandomForestClassifier"
      ]
    },
    {
      "cell_type": "markdown",
      "metadata": {
        "id": "xH5YsquKAOjb"
      },
      "source": [
        "Определим признаки"
      ]
    },
    {
      "cell_type": "code",
      "execution_count": null,
      "metadata": {
        "id": "8Xgo4HuuAOjb"
      },
      "outputs": [],
      "source": [
        "target = data['Exited']\n",
        "features = data.drop(['Exited'] , axis=1)"
      ]
    },
    {
      "cell_type": "markdown",
      "metadata": {
        "id": "dhGsL60LAOjb"
      },
      "source": [
        "Выделим тренеровочную выборку. Размер 80-10-10"
      ]
    },
    {
      "cell_type": "code",
      "execution_count": null,
      "metadata": {
        "id": "qyTfjIVaAOjc"
      },
      "outputs": [],
      "source": [
        "features_train, features_rem, target_train, target_rem = train_test_split(features, target, test_size=0.25, random_state=12345)"
      ]
    },
    {
      "cell_type": "markdown",
      "metadata": {
        "id": "Zgj1XLNrAOjd"
      },
      "source": [
        "Выделим тестовую выборку."
      ]
    },
    {
      "cell_type": "code",
      "execution_count": null,
      "metadata": {
        "id": "N1_DqhvmAOjd"
      },
      "outputs": [],
      "source": [
        "features_valid, features_test, target_valid, target_test = train_test_split(features_rem, target_rem, test_size=0.5, random_state=12345)"
      ]
    },
    {
      "cell_type": "code",
      "execution_count": null,
      "metadata": {
        "id": "fmp7Av1qAOje",
        "outputId": "1ef50cae-a203-4caf-c75c-a6f2ec699178"
      },
      "outputs": [
        {
          "name": "stdout",
          "output_type": "stream",
          "text": [
            "(7500, 10)\n",
            "(7500,)\n",
            "(1250, 10)\n",
            "(1250,)\n",
            "(1250, 10)\n",
            "(1250,)\n"
          ]
        }
      ],
      "source": [
        "print(features_train.shape)\n",
        "print(target_train.shape)\n",
        "\n",
        "print(features_valid.shape)\n",
        "print(target_valid.shape)\n",
        "\n",
        "print(features_test.shape)\n",
        "print(target_test.shape)"
      ]
    },
    {
      "cell_type": "markdown",
      "metadata": {
        "id": "7_VEcvLGAOje"
      },
      "source": [
        "### Маштабирование признаков"
      ]
    },
    {
      "cell_type": "code",
      "execution_count": null,
      "metadata": {
        "id": "W_et_IpeAOjf"
      },
      "outputs": [],
      "source": [
        "numeric = ['Age','Balance','NumOfProducts','EstimatedSalary']"
      ]
    },
    {
      "cell_type": "code",
      "execution_count": null,
      "metadata": {
        "id": "uL51UxizAOjf",
        "outputId": "c4b3ef6c-ee25-4788-c70e-667602c577e5"
      },
      "outputs": [
        {
          "data": {
            "text/plain": [
              "StandardScaler()"
            ]
          },
          "execution_count": 131,
          "metadata": {},
          "output_type": "execute_result"
        }
      ],
      "source": [
        "scaler = StandardScaler()\n",
        "scaler.fit(features_train[numeric])"
      ]
    },
    {
      "cell_type": "code",
      "execution_count": null,
      "metadata": {
        "id": "OgWx5HS-AOjg"
      },
      "outputs": [],
      "source": [
        "features_train[numeric] = scaler.transform(features_train[numeric])\n",
        "features_test[numeric] = scaler.transform(features_test[numeric]) \n",
        "features_valid[numeric] = scaler.transform(features_valid[numeric]) "
      ]
    },
    {
      "cell_type": "markdown",
      "metadata": {
        "id": "ivV6n2uiAOjh"
      },
      "source": [
        "## Построение моделей"
      ]
    },
    {
      "cell_type": "markdown",
      "metadata": {
        "id": "5AXO0pyPAOji"
      },
      "source": [
        "### LogisticRegression_F1"
      ]
    },
    {
      "cell_type": "code",
      "execution_count": null,
      "metadata": {
        "id": "2Zo8BlsxAOji",
        "outputId": "e97011c1-05b4-47b7-efee-c4e53d37a9ea"
      },
      "outputs": [
        {
          "name": "stdout",
          "output_type": "stream",
          "text": [
            "ROC 0.7457017270139186\n",
            "F1 0.22424242424242427\n"
          ]
        }
      ],
      "source": [
        "model = LogisticRegression(random_state=12345, solver='liblinear')\n",
        "model.fit(features_train, target_train)\n",
        "probabilities_valid = model.predict_proba(features_valid)\n",
        "predicted_valid = model.predict(features_valid)\n",
        "probabilities_one_valid = probabilities_valid[:, 1]\n",
        "\n",
        "auc_roc =roc_auc_score(target_valid,probabilities_one_valid)\n",
        "\n",
        "print('ROC',auc_roc)\n",
        "print('F1',f1_score(target_valid,predicted_valid))"
      ]
    },
    {
      "cell_type": "markdown",
      "metadata": {
        "id": "L-xewKKCAOjj"
      },
      "source": [
        "### DecisionTreeClassifier_F1"
      ]
    },
    {
      "cell_type": "markdown",
      "metadata": {
        "id": "paXj8xTxAOjk"
      },
      "source": [
        "#### Ищем параметры"
      ]
    },
    {
      "cell_type": "code",
      "execution_count": null,
      "metadata": {
        "id": "ozNPrUR0AOjk",
        "outputId": "cbea1c61-ddac-4d84-afc6-cfcf3e2ac986"
      },
      "outputs": [
        {
          "name": "stdout",
          "output_type": "stream",
          "text": [
            "ROC 0.6733062127043197\n",
            "F1 0.48543689320388356\n"
          ]
        }
      ],
      "source": [
        "model = DecisionTreeClassifier(random_state=12345)\n",
        "model.fit(features_train, target_train)\n",
        "probabilities_valid = model.predict_proba(features_valid)\n",
        "predicted_valid = model.predict(features_valid)\n",
        "probabilities_one_valid = probabilities_valid[:, 1]\n",
        "auc_roc =roc_auc_score(target_valid,probabilities_one_valid)\n",
        "print('ROC',auc_roc)\n",
        "print('F1',f1_score(target_valid,predicted_valid))"
      ]
    },
    {
      "cell_type": "code",
      "execution_count": null,
      "metadata": {
        "scrolled": false,
        "id": "9917P7eZAOjl",
        "outputId": "c5ab0df8-050b-4447-cae5-5719b725c07c"
      },
      "outputs": [
        {
          "name": "stdout",
          "output_type": "stream",
          "text": [
            "max_depth = 9 : 0.8552\n"
          ]
        }
      ],
      "source": [
        "best_model = None\n",
        "best_result = 0\n",
        "for depth in range(1, 10):\n",
        "    model = DecisionTreeClassifier(random_state=12345, max_depth=depth) # < создайте модель, указав max_depth=depth >\n",
        "    model.fit(features_train,target_train)# < обучите модель >\n",
        "    predictions_valid = model.predict(features_valid) # < найдите предсказания на валидационной выборке >\n",
        "    result = accuracy_score(target_valid, predictions_valid)\n",
        "    if result > best_result:\n",
        "        best_model = model # сохраните наилучшую модель\n",
        "        best_result = result   # сохраните наилучшее значение метрики accuracy на валидационных данных\n",
        "print(\"max_depth =\", depth, \":\",best_result)"
      ]
    },
    {
      "cell_type": "markdown",
      "metadata": {
        "id": "iMjoe3iTAOjl"
      },
      "source": [
        "Лучшая грубина 9"
      ]
    },
    {
      "cell_type": "markdown",
      "metadata": {
        "id": "czIN5BjyAOjm"
      },
      "source": [
        "#### valid выборка"
      ]
    },
    {
      "cell_type": "code",
      "execution_count": null,
      "metadata": {
        "id": "KwF2nI5iAOjm",
        "outputId": "af4ac5af-1487-4154-ea55-5cdd7af8e91e"
      },
      "outputs": [
        {
          "name": "stdout",
          "output_type": "stream",
          "text": [
            "ROC 0.8278456435563466\n",
            "F1 0.5217391304347826\n"
          ]
        }
      ],
      "source": [
        "probabilities_valid = best_model.predict_proba(features_valid)\n",
        "predicted_valid = model.predict(features_valid)\n",
        "probabilities_one_valid = probabilities_valid[:, 1]\n",
        "auc_roc =roc_auc_score(target_valid,probabilities_one_valid)\n",
        "print('ROC',auc_roc)\n",
        "print('F1',f1_score(target_valid,predicted_valid))"
      ]
    },
    {
      "cell_type": "markdown",
      "metadata": {
        "id": "p793WnSjAOjm"
      },
      "source": [
        "#### test выборка"
      ]
    },
    {
      "cell_type": "code",
      "execution_count": null,
      "metadata": {
        "id": "PvoIcTgEAOjn",
        "outputId": "7c031bd4-2343-43e8-fe03-231b2255977d"
      },
      "outputs": [
        {
          "name": "stdout",
          "output_type": "stream",
          "text": [
            "ROC 0.8246064146517502\n",
            "F1 0.16548463356973994\n"
          ]
        }
      ],
      "source": [
        "probabilities_test = best_model.predict_proba(features_test)\n",
        "predicted_test = model.predict(features_test)\n",
        "probabilities_one_test = probabilities_test[:, 1]\n",
        "auc_roc =roc_auc_score(target_test,probabilities_one_test)\n",
        "print('ROC',auc_roc)\n",
        "print('F1',f1_score(target_test,predicted_valid))"
      ]
    },
    {
      "cell_type": "markdown",
      "metadata": {
        "id": "P_24CxarAOjn"
      },
      "source": [
        "### RandomForestClassifier_F1"
      ]
    },
    {
      "cell_type": "markdown",
      "metadata": {
        "id": "pR2KEUZQAOjo"
      },
      "source": [
        "#### ищем параметры"
      ]
    },
    {
      "cell_type": "code",
      "execution_count": null,
      "metadata": {
        "id": "Bt6p_AzyAOjo",
        "outputId": "ab01d97c-8614-45e1-aed2-62e65cfe2e62"
      },
      "outputs": [
        {
          "name": "stdout",
          "output_type": "stream",
          "text": [
            "ROC 0.8545848887245214\n",
            "F1 0.5904761904761904\n"
          ]
        }
      ],
      "source": [
        "model = RandomForestClassifier(random_state=12345)\n",
        "model.fit(features_train, target_train)\n",
        "predicted_valid = model.predict(features_valid)\n",
        "probabilities_valid = model.predict_proba(features_valid)\n",
        "probabilities_one_valid = probabilities_valid[:, 1]\n",
        "\n",
        "auc_roc =roc_auc_score(target_valid,probabilities_one_valid)\n",
        "print('ROC',auc_roc)\n",
        "print('F1',f1_score(target_valid,predicted_valid))"
      ]
    },
    {
      "cell_type": "markdown",
      "metadata": {
        "id": "BuMp9JUHAOjp"
      },
      "source": [
        "На обучающей выборке со стандартными настройками лучше себя показала модель RandomForestClassifier. Далее будем рассматривать ее."
      ]
    },
    {
      "cell_type": "markdown",
      "metadata": {
        "id": "QvUwkWkUAOjp"
      },
      "source": [
        "Найдем примерное наилучшее количество наблюдателей"
      ]
    },
    {
      "cell_type": "code",
      "execution_count": null,
      "metadata": {
        "id": "GM9s1mpbAOjq",
        "outputId": "ee1d2579-bb52-4f50-cd89-c2b1d14523f9"
      },
      "outputs": [
        {
          "name": "stdout",
          "output_type": "stream",
          "text": [
            "Accuracy наилучшей модели на валидационной выборке: 0.8664 96\n"
          ]
        }
      ],
      "source": [
        "best_model = None\n",
        "best_result = 0\n",
        "for est in range(1,100, 5):\n",
        "    model = RandomForestClassifier(random_state=12345, n_estimators=est) # обучите модель с заданным количеством деревьев\n",
        "    model.fit(features_train,target_train) # обучите модель на тренировочной выборке\n",
        "    predict = model.predict(features_train)\n",
        "    result = model.score(features_valid,target_valid) # посчитайте качество модели на валидационной выборке\n",
        "    if result > best_result:\n",
        "        best_model = model # сохраните наилучшую модель\n",
        "        best_result = result   # сохраните наилучшее значение метрики accuracy на валидационных данных\n",
        "\n",
        "print(\"Accuracy наилучшей модели на валидационной выборке:\", best_result,est)"
      ]
    },
    {
      "cell_type": "markdown",
      "metadata": {
        "id": "-6FtE9LaAOjr"
      },
      "source": [
        "n_estimators=96"
      ]
    },
    {
      "cell_type": "markdown",
      "metadata": {
        "id": "z-o4I-cRAOjr"
      },
      "source": [
        "#### valid выборка"
      ]
    },
    {
      "cell_type": "code",
      "execution_count": null,
      "metadata": {
        "scrolled": true,
        "id": "4cwA_ntRAOjr",
        "outputId": "b3040af5-4193-4d38-f223-1dfdc17514ec"
      },
      "outputs": [
        {
          "name": "stdout",
          "output_type": "stream",
          "text": [
            "ROC 0.8539819940596578\n",
            "f1 0.6107226107226107\n"
          ]
        }
      ],
      "source": [
        "predicted_valid = best_model.predict(features_valid)\n",
        "probabilities_valid = model.predict_proba(features_valid)\n",
        "probabilities_one_valid = probabilities_valid[:, 1]\n",
        "auc_roc =roc_auc_score(target_valid,probabilities_one_valid)\n",
        "print('ROC',auc_roc)\n",
        "print('f1',f1_score(target_valid,predicted_valid))"
      ]
    },
    {
      "cell_type": "markdown",
      "metadata": {
        "id": "-ZJhRcA9AOjs"
      },
      "source": [
        "#### test выборка"
      ]
    },
    {
      "cell_type": "markdown",
      "metadata": {
        "id": "Y4wqIoMpAOjt"
      },
      "source": [
        "Проверим F1 на тестовой выборке."
      ]
    },
    {
      "cell_type": "code",
      "execution_count": null,
      "metadata": {
        "scrolled": true,
        "id": "G0FA8k6pAOjt",
        "outputId": "942deaff-a2bd-4e48-ebf5-591f5be6671b"
      },
      "outputs": [
        {
          "name": "stdout",
          "output_type": "stream",
          "text": [
            "ROC 0.4983781555660854\n",
            "f1 0.5364705882352941\n"
          ]
        }
      ],
      "source": [
        "predicted_test = best_model.predict(features_test)\n",
        "probabilities_test = model.predict_proba(features_test)\n",
        "probabilities_one_test = probabilities_test[:, 1]\n",
        "auc_roc =roc_auc_score(target_valid,probabilities_one_test)\n",
        "print('ROC',auc_roc)\n",
        "print('f1',f1_score(target_test,predicted_test))"
      ]
    },
    {
      "cell_type": "markdown",
      "metadata": {
        "id": "tMWHvAlcAOju"
      },
      "source": [
        "Качество ниже, модель переобучена."
      ]
    },
    {
      "cell_type": "markdown",
      "metadata": {
        "id": "sCdmY0nqAOju"
      },
      "source": [
        "В данный момент нет смысла перебирать все возможное вариации, для начала нужно избавится от дисбаланса."
      ]
    },
    {
      "cell_type": "markdown",
      "metadata": {
        "id": "UQbggxRoAOjv"
      },
      "source": [
        "## Борьба с дисбалансом"
      ]
    },
    {
      "cell_type": "markdown",
      "metadata": {
        "id": "IM5LrgPeAOjv"
      },
      "source": [
        "Посмотрим матрицу ошибок."
      ]
    },
    {
      "cell_type": "code",
      "execution_count": null,
      "metadata": {
        "id": "2baVm80AAOjv"
      },
      "outputs": [],
      "source": [
        "cm = confusion_matrix(target_valid,predicted_valid)"
      ]
    },
    {
      "cell_type": "code",
      "execution_count": null,
      "metadata": {
        "id": "BJ2dLlKgAOjv",
        "outputId": "b7cc7ac2-4179-4136-d3d2-c4c763b72225"
      },
      "outputs": [
        {
          "data": {
            "text/plain": [
              "<sklearn.metrics._plot.confusion_matrix.ConfusionMatrixDisplay at 0x7f75d7d937f0>"
            ]
          },
          "execution_count": 143,
          "metadata": {},
          "output_type": "execute_result"
        },
        {
          "data": {
            "image/png": "[encoded data removed]",
            "text/plain": [
              "<Figure size 432x288 with 2 Axes>"
            ]
          },
          "metadata": {
            "needs_background": "light"
          },
          "output_type": "display_data"
        }
      ],
      "source": [
        "disp = ConfusionMatrixDisplay(confusion_matrix=cm,)\n",
        "disp.plot()"
      ]
    },
    {
      "cell_type": "markdown",
      "metadata": {
        "id": "xvJq0f17AOjw"
      },
      "source": [
        "Много ложно отрицательных ответов.  Модель предсказала «0», а действительное значение класса — «1»."
      ]
    },
    {
      "cell_type": "markdown",
      "metadata": {
        "id": "Nr4S83lRAOjw"
      },
      "source": [
        "Так как у нас в целевом признаке класс 0 больше почти в 4 раза чем 1 нужно сделать upsampling 1 классу"
      ]
    },
    {
      "cell_type": "markdown",
      "metadata": {
        "id": "CGRFmPWDAOjw"
      },
      "source": [
        "### upsampling "
      ]
    },
    {
      "cell_type": "markdown",
      "metadata": {
        "id": "pRJrvGLbAOjx"
      },
      "source": [
        "#### RandomForestClassifier"
      ]
    },
    {
      "cell_type": "code",
      "execution_count": null,
      "metadata": {
        "id": "X0V9u4ViAOjx"
      },
      "outputs": [],
      "source": [
        "def upsample(features, target, repeat):\n",
        "    features_zeros = features[target == 0]\n",
        "    features_ones = features[target == 1]\n",
        "    target_zeros = target[target == 0]\n",
        "    target_ones = target[target == 1]\n",
        "    \n",
        "    features_upsampled = pd.concat([features_zeros] + [features_ones] * repeat)\n",
        "    target_upsampled = pd.concat([target_zeros] + [target_ones] * repeat)\n",
        "    \n",
        "    features_upsampled, target_upsampled = shuffle(\n",
        "        features_upsampled, target_upsampled, random_state=12345)\n",
        "    \n",
        "    return features_upsampled, target_upsampled"
      ]
    },
    {
      "cell_type": "code",
      "execution_count": null,
      "metadata": {
        "id": "NhCT602GAOjx"
      },
      "outputs": [],
      "source": [
        "features_upsampled, target_upsampled = upsample(features_train, target_train, 3)"
      ]
    },
    {
      "cell_type": "code",
      "execution_count": null,
      "metadata": {
        "scrolled": true,
        "id": "N_BsU7rvAOjy",
        "outputId": "d4681d09-4205-4ad6-d43d-9067fd1fd94b"
      },
      "outputs": [
        {
          "name": "stdout",
          "output_type": "stream",
          "text": [
            "ROC 0.8533713946706423\n",
            "F1 0.6252676659528907\n"
          ]
        }
      ],
      "source": [
        "best_model_RandomForest = None\n",
        "best_roc = 0\n",
        "best_result = 0.59\n",
        "for est in range(1,100, 5):\n",
        "    model = RandomForestClassifier(random_state=12345,n_estimators=55)\n",
        "    model.fit(features_upsampled, target_upsampled)\n",
        "    predicted_valid = model.predict(features_valid)\n",
        "    probabilities_valid = model.predict_proba(features_valid)\n",
        "    probabilities_one_valid = probabilities_valid[:, 1]\n",
        "    auc_roc =roc_auc_score(target_valid,probabilities_one_valid)\n",
        "    result = f1_score(target_valid,predicted_valid)\n",
        "    if result >= best_result:\n",
        "        best_model_RandomForest = model # сохраните наилучшую модель\n",
        "        best_result = result   # сохраните наилучшее значение метрики accuracy на валидационных данных\n",
        "        best_roc = auc_roc\n",
        "print('ROC',best_roc)\n",
        "print('F1',best_result)"
      ]
    },
    {
      "cell_type": "markdown",
      "metadata": {
        "id": "Au0jioR2AOjy"
      },
      "source": [
        "Та-да! F1 = 0.62 условия задачи выполнены. Мы преобразовали данные в dummy, рассмотрели матрицу ошибок, и сделали upsamlin'g."
      ]
    },
    {
      "cell_type": "markdown",
      "metadata": {
        "id": "ZNiaPQl3AOjz"
      },
      "source": [
        "#### DecisionTreeClassifier"
      ]
    },
    {
      "cell_type": "code",
      "execution_count": null,
      "metadata": {
        "id": "B3wZzjU9AOjz",
        "outputId": "b4bd46e6-0517-4752-90c3-4c7c00c30484"
      },
      "outputs": [
        {
          "name": "stdout",
          "output_type": "stream",
          "text": [
            "ROC 0.8424653576340333\n",
            "F1 0.6256590509666081\n",
            "depth 9\n"
          ]
        }
      ],
      "source": [
        "best_model_DecisionTree = None\n",
        "best_roc = 0\n",
        "best_result = 0.59\n",
        "depth = depth\n",
        "for depth in range(1,10):\n",
        "    model = DecisionTreeClassifier(random_state=12345,max_depth=depth)\n",
        "    model.fit(features_upsampled, target_upsampled)\n",
        "    predicted_valid = model.predict(features_valid)\n",
        "    probabilities_valid = model.predict_proba(features_valid)\n",
        "    probabilities_one_valid = probabilities_valid[:, 1]\n",
        "    auc_roc =roc_auc_score(target_valid,probabilities_one_valid)\n",
        "    result = f1_score(target_valid,predicted_valid)\n",
        "    if result >= best_result:\n",
        "        best_model_DecisionTree = model # сохраните наилучшую модель\n",
        "        best_result = result   # сохраните наилучшее значение метрики accuracy на валидационных данных\n",
        "        best_roc = auc_roc\n",
        "        depth = depth\n",
        "print('ROC',best_roc)\n",
        "print('F1',best_result)\n",
        "print('depth',depth)"
      ]
    },
    {
      "cell_type": "markdown",
      "metadata": {
        "id": "HDpScmlbAOj0"
      },
      "source": [
        "## Тестирование модели"
      ]
    },
    {
      "cell_type": "markdown",
      "metadata": {
        "id": "UJkMheuNAOj0"
      },
      "source": [
        "### RandomForestClassifier test"
      ]
    },
    {
      "cell_type": "code",
      "execution_count": null,
      "metadata": {
        "scrolled": false,
        "id": "x_iyoPI-AOj0",
        "outputId": "42d8f65a-e03b-4952-d170-0a43cb439328"
      },
      "outputs": [
        {
          "name": "stdout",
          "output_type": "stream",
          "text": [
            "ROC 0.5131211452301979\n",
            "F1 0.5636743215031316\n"
          ]
        }
      ],
      "source": [
        "predicted_test = best_model_RandomForest.predict(features_test)\n",
        "probabilities_test = model.predict_proba(features_test)\n",
        "probabilities_one_test = probabilities_test[:, 1]\n",
        "\n",
        "auc_roc =roc_auc_score(target_valid,probabilities_one_test)\n",
        "print('ROC',auc_roc)\n",
        "print('F1',f1_score(target_test,predicted_test))"
      ]
    },
    {
      "cell_type": "markdown",
      "metadata": {
        "id": "jr_mlwmhAOj1"
      },
      "source": [
        " ### DecisionTreeClassifier test"
      ]
    },
    {
      "cell_type": "code",
      "execution_count": null,
      "metadata": {
        "id": "CJfv4umZAOj1",
        "outputId": "dac69e51-bc7b-4a7b-facc-55312a5256f0"
      },
      "outputs": [
        {
          "name": "stdout",
          "output_type": "stream",
          "text": [
            "ROC 0.5131211452301979\n",
            "F1 0.6215277777777777\n"
          ]
        }
      ],
      "source": [
        "predicted_test = best_model_DecisionTree.predict(features_test)\n",
        "probabilities_test = model.predict_proba(features_test)\n",
        "probabilities_one_test = probabilities_test[:, 1]\n",
        "\n",
        "auc_roc =roc_auc_score(target_valid,probabilities_one_test)\n",
        "print('ROC',auc_roc)\n",
        "print('F1',f1_score(target_test,predicted_test))"
      ]
    },
    {
      "cell_type": "markdown",
      "metadata": {
        "id": "wOTfU84xAOj1"
      },
      "source": [
        "DecisionTreeClassifier - Показал лучшие результаты на обоих выборках и валидной и тестовой."
      ]
    },
    {
      "cell_type": "markdown",
      "metadata": {
        "id": "VN6ra7ntAOj2"
      },
      "source": [
        "## Вывод"
      ]
    },
    {
      "cell_type": "markdown",
      "metadata": {
        "id": "P4ybgUS7AOj2"
      },
      "source": [
        "### С дисбалансом"
      ]
    },
    {
      "cell_type": "markdown",
      "metadata": {
        "id": "_xvVt-tUAOj2"
      },
      "source": [
        "DecisionTreeClassifier : ROC 0.82, F1 0.52\n",
        "<br> RandomForestClassifier : ROC 0.85, F1 0.61"
      ]
    },
    {
      "cell_type": "markdown",
      "metadata": {
        "id": "n1vNTGS_AOj2"
      },
      "source": [
        "### Сбалансированные выборки"
      ]
    },
    {
      "cell_type": "markdown",
      "metadata": {
        "id": "BcqY13fXAOj3"
      },
      "source": [
        "#### валидная выборка"
      ]
    },
    {
      "cell_type": "markdown",
      "metadata": {
        "id": "sOODNGKfAOj3"
      },
      "source": [
        "RandomForestClassifier ROC 0.85 , F1 0.62\n",
        "<br> DecisionTreeClassifier ROC 0.84, F1 0.62"
      ]
    },
    {
      "cell_type": "markdown",
      "metadata": {
        "id": "77FEihoPAOj3"
      },
      "source": [
        "Обе модели показали хорошие результаты по метрикам на валидной выборке."
      ]
    },
    {
      "cell_type": "markdown",
      "metadata": {
        "id": "AB1fzWCqAOj4"
      },
      "source": [
        "#### тестовая выборка"
      ]
    },
    {
      "cell_type": "markdown",
      "metadata": {
        "id": "CBatCJY_AOj4"
      },
      "source": [
        "RandomForestClassifier ROC 0.50 , F1 0.56\n",
        "<br> DecisionTreeClassifier ROC 0.51, F1 0.62"
      ]
    },
    {
      "cell_type": "markdown",
      "metadata": {
        "id": "jYEXGbhJAOj4"
      },
      "source": [
        "Модель DecisionTreeClassifier показала лучший результат по полноте и точности обоих выборках."
      ]
    },
    {
      "cell_type": "markdown",
      "metadata": {
        "id": "g3bcrR9cAOj5"
      },
      "source": [
        "## Чек-лист готовности проекта"
      ]
    },
    {
      "cell_type": "markdown",
      "metadata": {
        "id": "Iq72GL0zAOj6"
      },
      "source": [
        "- [x]  Jupyter Notebook открыт\n",
        "- [x]  Весь код выполняется без ошибок\n",
        "- [x]  Ячейки с кодом расположены в порядке исполнения\n",
        "- [x]  Выполнен шаг 1: данные подготовлены\n",
        "- [x]  Выполнен шаг 2: задача исследована\n",
        "    - [x]  Исследован баланс классов\n",
        "    - [x]  Изучены модели без учёта дисбаланса\n",
        "    - [x]  Написаны выводы по результатам исследования\n",
        "- [x]  Выполнен шаг 3: учтён дисбаланс\n",
        "    - [x]  Применено несколько способов борьбы с дисбалансом\n",
        "    - [x]  Написаны выводы по результатам исследования\n",
        "- [x]  Выполнен шаг 4: проведено тестирование\n",
        "- [x]  Удалось достичь *F1*-меры не менее 0.59\n",
        "- [x]  Исследована метрика *AUC-ROC*"
      ]
    }
  ],
  "metadata": {
    "ExecuteTimeLog": [
      {
        "duration": 62,
        "start_time": "2022-06-03T11:07:18.446Z"
      },
      {
        "duration": 6,
        "start_time": "2022-06-03T11:07:20.514Z"
      },
      {
        "duration": 6,
        "start_time": "2022-06-03T11:07:20.786Z"
      },
      {
        "duration": 1015,
        "start_time": "2022-06-03T11:07:22.499Z"
      },
      {
        "duration": 85,
        "start_time": "2022-06-03T11:07:23.516Z"
      },
      {
        "duration": 13,
        "start_time": "2022-06-03T11:07:23.603Z"
      },
      {
        "duration": 67,
        "start_time": "2022-06-03T11:07:56.003Z"
      },
      {
        "duration": 22,
        "start_time": "2022-06-03T11:08:01.981Z"
      },
      {
        "duration": 35,
        "start_time": "2022-06-03T11:09:13.293Z"
      },
      {
        "duration": 32,
        "start_time": "2022-06-03T11:09:16.190Z"
      },
      {
        "duration": 11,
        "start_time": "2022-06-03T11:10:41.388Z"
      },
      {
        "duration": 42,
        "start_time": "2022-06-03T11:13:40.402Z"
      },
      {
        "duration": 12,
        "start_time": "2022-06-03T11:13:40.789Z"
      },
      {
        "duration": 16,
        "start_time": "2022-06-03T11:13:42.179Z"
      },
      {
        "duration": 30,
        "start_time": "2022-06-03T11:13:51.012Z"
      },
      {
        "duration": 13,
        "start_time": "2022-06-03T11:13:51.513Z"
      },
      {
        "duration": 44,
        "start_time": "2022-06-03T11:13:53.612Z"
      },
      {
        "duration": 19,
        "start_time": "2022-06-03T11:13:54.261Z"
      },
      {
        "duration": 19,
        "start_time": "2022-06-03T11:13:55.178Z"
      },
      {
        "duration": 10,
        "start_time": "2022-06-03T11:14:00.097Z"
      },
      {
        "duration": 5,
        "start_time": "2022-06-03T11:15:20.204Z"
      },
      {
        "duration": 6,
        "start_time": "2022-06-03T11:15:43.967Z"
      },
      {
        "duration": 210,
        "start_time": "2022-06-03T11:18:54.453Z"
      },
      {
        "duration": 34,
        "start_time": "2022-06-03T11:18:58.076Z"
      },
      {
        "duration": 2807,
        "start_time": "2022-06-03T11:20:01.561Z"
      },
      {
        "duration": 34,
        "start_time": "2022-06-03T11:20:04.389Z"
      },
      {
        "duration": 512,
        "start_time": "2022-06-03T11:20:08.027Z"
      },
      {
        "duration": 494,
        "start_time": "2022-06-03T11:20:24.441Z"
      },
      {
        "duration": 4,
        "start_time": "2022-06-03T11:20:30.126Z"
      },
      {
        "duration": 73,
        "start_time": "2022-06-03T11:20:30.132Z"
      },
      {
        "duration": 14,
        "start_time": "2022-06-03T11:20:30.207Z"
      },
      {
        "duration": 25,
        "start_time": "2022-06-03T11:20:30.223Z"
      },
      {
        "duration": 53,
        "start_time": "2022-06-03T11:20:30.250Z"
      },
      {
        "duration": 39,
        "start_time": "2022-06-03T11:20:30.305Z"
      },
      {
        "duration": 28,
        "start_time": "2022-06-03T11:20:30.346Z"
      },
      {
        "duration": 43,
        "start_time": "2022-06-03T11:20:30.377Z"
      },
      {
        "duration": 97,
        "start_time": "2022-06-03T11:20:30.424Z"
      },
      {
        "duration": 14,
        "start_time": "2022-06-03T11:20:42.522Z"
      },
      {
        "duration": 31,
        "start_time": "2022-06-03T11:22:02.932Z"
      },
      {
        "duration": 27,
        "start_time": "2022-06-03T11:22:17.775Z"
      },
      {
        "duration": 23,
        "start_time": "2022-06-03T11:23:34.286Z"
      },
      {
        "duration": 34,
        "start_time": "2022-06-03T11:23:45.381Z"
      },
      {
        "duration": 11,
        "start_time": "2022-06-03T11:23:48.238Z"
      },
      {
        "duration": 24,
        "start_time": "2022-06-03T11:23:48.673Z"
      },
      {
        "duration": 6,
        "start_time": "2022-06-03T11:26:28.312Z"
      },
      {
        "duration": 32,
        "start_time": "2022-06-03T11:34:22.389Z"
      },
      {
        "duration": 6,
        "start_time": "2022-06-03T12:06:56.268Z"
      },
      {
        "duration": 10,
        "start_time": "2022-06-03T12:07:06.009Z"
      },
      {
        "duration": 9,
        "start_time": "2022-06-03T12:07:08.737Z"
      },
      {
        "duration": 14,
        "start_time": "2022-06-03T12:07:27.668Z"
      },
      {
        "duration": 11,
        "start_time": "2022-06-03T12:07:33.002Z"
      },
      {
        "duration": 9,
        "start_time": "2022-06-03T12:09:42.980Z"
      },
      {
        "duration": 11,
        "start_time": "2022-06-03T12:09:46.865Z"
      },
      {
        "duration": 5,
        "start_time": "2022-06-03T12:11:33.141Z"
      },
      {
        "duration": 431,
        "start_time": "2022-06-03T12:11:34.605Z"
      },
      {
        "duration": 1,
        "start_time": "2022-06-03T12:11:35.037Z"
      },
      {
        "duration": 3,
        "start_time": "2022-06-03T12:11:39.828Z"
      },
      {
        "duration": 41,
        "start_time": "2022-06-03T12:11:39.834Z"
      },
      {
        "duration": 11,
        "start_time": "2022-06-03T12:11:39.877Z"
      },
      {
        "duration": 16,
        "start_time": "2022-06-03T12:11:39.890Z"
      },
      {
        "duration": 17,
        "start_time": "2022-06-03T12:11:39.908Z"
      },
      {
        "duration": 18,
        "start_time": "2022-06-03T12:11:39.927Z"
      },
      {
        "duration": 14,
        "start_time": "2022-06-03T12:11:39.947Z"
      },
      {
        "duration": 7,
        "start_time": "2022-06-03T12:11:39.963Z"
      },
      {
        "duration": 9,
        "start_time": "2022-06-03T12:11:39.972Z"
      },
      {
        "duration": 7,
        "start_time": "2022-06-03T12:11:39.983Z"
      },
      {
        "duration": 8,
        "start_time": "2022-06-03T12:11:39.992Z"
      },
      {
        "duration": 11,
        "start_time": "2022-06-03T12:11:40.002Z"
      },
      {
        "duration": 3,
        "start_time": "2022-06-03T12:12:03.631Z"
      },
      {
        "duration": 50,
        "start_time": "2022-06-03T12:12:03.636Z"
      },
      {
        "duration": 17,
        "start_time": "2022-06-03T12:12:03.688Z"
      },
      {
        "duration": 20,
        "start_time": "2022-06-03T12:12:03.708Z"
      },
      {
        "duration": 15,
        "start_time": "2022-06-03T12:12:03.730Z"
      },
      {
        "duration": 11,
        "start_time": "2022-06-03T12:12:03.747Z"
      },
      {
        "duration": 13,
        "start_time": "2022-06-03T12:12:03.759Z"
      },
      {
        "duration": 9,
        "start_time": "2022-06-03T12:12:03.773Z"
      },
      {
        "duration": 13,
        "start_time": "2022-06-03T12:12:03.784Z"
      },
      {
        "duration": 15,
        "start_time": "2022-06-03T12:12:03.799Z"
      },
      {
        "duration": 9,
        "start_time": "2022-06-03T12:12:03.815Z"
      },
      {
        "duration": 11,
        "start_time": "2022-06-03T12:12:03.825Z"
      },
      {
        "duration": 20,
        "start_time": "2022-06-03T12:16:01.024Z"
      },
      {
        "duration": 6,
        "start_time": "2022-06-03T12:16:20.157Z"
      },
      {
        "duration": 9,
        "start_time": "2022-06-03T12:23:52.735Z"
      },
      {
        "duration": 7,
        "start_time": "2022-06-03T12:23:54.727Z"
      },
      {
        "duration": 19,
        "start_time": "2022-06-03T12:23:54.973Z"
      },
      {
        "duration": 4,
        "start_time": "2022-06-03T12:39:39.932Z"
      },
      {
        "duration": 35,
        "start_time": "2022-06-03T12:39:40.397Z"
      },
      {
        "duration": 12,
        "start_time": "2022-06-03T12:39:40.573Z"
      },
      {
        "duration": 12,
        "start_time": "2022-06-03T12:39:40.732Z"
      },
      {
        "duration": 8,
        "start_time": "2022-06-03T12:39:41.071Z"
      },
      {
        "duration": 8,
        "start_time": "2022-06-03T12:39:42.093Z"
      },
      {
        "duration": 4,
        "start_time": "2022-06-03T12:39:42.775Z"
      },
      {
        "duration": 5,
        "start_time": "2022-06-03T12:39:42.975Z"
      },
      {
        "duration": 5,
        "start_time": "2022-06-03T12:39:43.141Z"
      },
      {
        "duration": 9,
        "start_time": "2022-06-03T12:39:43.412Z"
      },
      {
        "duration": 5,
        "start_time": "2022-06-03T12:39:43.716Z"
      },
      {
        "duration": 5,
        "start_time": "2022-06-03T12:39:45.398Z"
      },
      {
        "duration": 8,
        "start_time": "2022-06-03T12:39:46.011Z"
      },
      {
        "duration": 8,
        "start_time": "2022-06-03T12:42:21.815Z"
      },
      {
        "duration": 7,
        "start_time": "2022-06-03T12:42:22.886Z"
      },
      {
        "duration": 4,
        "start_time": "2022-06-03T12:42:41.070Z"
      },
      {
        "duration": 18,
        "start_time": "2022-06-03T12:51:58.278Z"
      },
      {
        "duration": 9,
        "start_time": "2022-06-03T12:52:51.408Z"
      },
      {
        "duration": 2,
        "start_time": "2022-06-03T12:52:53.408Z"
      },
      {
        "duration": 6,
        "start_time": "2022-06-03T12:52:53.678Z"
      },
      {
        "duration": 10,
        "start_time": "2022-06-03T12:52:53.962Z"
      },
      {
        "duration": 10,
        "start_time": "2022-06-03T12:53:04.887Z"
      },
      {
        "duration": 9,
        "start_time": "2022-06-03T12:53:37.904Z"
      },
      {
        "duration": 17,
        "start_time": "2022-06-03T12:53:38.168Z"
      },
      {
        "duration": 3,
        "start_time": "2022-06-03T12:53:41.688Z"
      },
      {
        "duration": 10,
        "start_time": "2022-06-03T12:53:42.071Z"
      },
      {
        "duration": 10,
        "start_time": "2022-06-03T12:54:05.625Z"
      },
      {
        "duration": 9,
        "start_time": "2022-06-03T12:54:08.640Z"
      },
      {
        "duration": 9,
        "start_time": "2022-06-03T12:56:59.860Z"
      },
      {
        "duration": 973,
        "start_time": "2022-06-05T06:00:20.613Z"
      },
      {
        "duration": 87,
        "start_time": "2022-06-05T06:00:21.588Z"
      },
      {
        "duration": 13,
        "start_time": "2022-06-05T06:00:21.676Z"
      },
      {
        "duration": 25,
        "start_time": "2022-06-05T06:00:21.691Z"
      },
      {
        "duration": 11,
        "start_time": "2022-06-05T06:00:21.719Z"
      },
      {
        "duration": 9,
        "start_time": "2022-06-05T06:00:21.732Z"
      },
      {
        "duration": 19,
        "start_time": "2022-06-05T06:00:21.742Z"
      },
      {
        "duration": 17,
        "start_time": "2022-06-05T06:00:21.764Z"
      },
      {
        "duration": 7,
        "start_time": "2022-06-05T06:00:21.782Z"
      },
      {
        "duration": 13,
        "start_time": "2022-06-05T06:00:21.791Z"
      },
      {
        "duration": 13,
        "start_time": "2022-06-05T06:00:21.805Z"
      },
      {
        "duration": 7,
        "start_time": "2022-06-05T06:00:21.820Z"
      },
      {
        "duration": 7,
        "start_time": "2022-06-05T06:00:21.828Z"
      },
      {
        "duration": 3,
        "start_time": "2022-06-05T06:00:21.838Z"
      },
      {
        "duration": 41,
        "start_time": "2022-06-05T06:00:21.843Z"
      },
      {
        "duration": 19,
        "start_time": "2022-06-05T06:00:21.887Z"
      },
      {
        "duration": 18,
        "start_time": "2022-06-05T06:00:28.620Z"
      },
      {
        "duration": 61,
        "start_time": "2022-06-05T06:02:31.960Z"
      },
      {
        "duration": 12,
        "start_time": "2022-06-05T06:02:32.529Z"
      },
      {
        "duration": 16,
        "start_time": "2022-06-05T06:02:32.800Z"
      },
      {
        "duration": 9,
        "start_time": "2022-06-05T06:02:33.272Z"
      },
      {
        "duration": 7,
        "start_time": "2022-06-05T06:02:33.639Z"
      },
      {
        "duration": 5,
        "start_time": "2022-06-05T06:02:33.989Z"
      },
      {
        "duration": 5,
        "start_time": "2022-06-05T06:02:34.172Z"
      },
      {
        "duration": 5,
        "start_time": "2022-06-05T06:02:34.349Z"
      },
      {
        "duration": 9,
        "start_time": "2022-06-05T06:02:34.709Z"
      },
      {
        "duration": 5,
        "start_time": "2022-06-05T06:02:35.130Z"
      },
      {
        "duration": 5,
        "start_time": "2022-06-05T06:02:36.408Z"
      },
      {
        "duration": 7,
        "start_time": "2022-06-05T06:02:36.911Z"
      },
      {
        "duration": 3,
        "start_time": "2022-06-05T06:02:37.505Z"
      },
      {
        "duration": 8,
        "start_time": "2022-06-05T06:02:37.689Z"
      },
      {
        "duration": 23,
        "start_time": "2022-06-05T06:02:38.059Z"
      },
      {
        "duration": 27,
        "start_time": "2022-06-05T06:02:42.674Z"
      },
      {
        "duration": 4,
        "start_time": "2022-06-05T06:17:20.007Z"
      },
      {
        "duration": 140,
        "start_time": "2022-06-05T06:18:15.585Z"
      },
      {
        "duration": 12,
        "start_time": "2022-06-05T06:18:22.686Z"
      },
      {
        "duration": 3,
        "start_time": "2022-06-05T06:18:29.445Z"
      },
      {
        "duration": 14,
        "start_time": "2022-06-05T06:18:30.895Z"
      },
      {
        "duration": 5,
        "start_time": "2022-06-05T06:18:55.916Z"
      },
      {
        "duration": 19,
        "start_time": "2022-06-05T06:18:56.116Z"
      },
      {
        "duration": 46,
        "start_time": "2022-06-05T06:19:03.637Z"
      },
      {
        "duration": 11,
        "start_time": "2022-06-05T06:19:05.627Z"
      },
      {
        "duration": 4,
        "start_time": "2022-06-05T06:19:09.996Z"
      },
      {
        "duration": 19,
        "start_time": "2022-06-05T06:19:10.228Z"
      },
      {
        "duration": 6,
        "start_time": "2022-06-05T06:21:13.897Z"
      },
      {
        "duration": 19,
        "start_time": "2022-06-05T06:21:17.927Z"
      },
      {
        "duration": 4,
        "start_time": "2022-06-05T06:21:20.128Z"
      },
      {
        "duration": 71,
        "start_time": "2022-06-05T06:21:20.135Z"
      },
      {
        "duration": 17,
        "start_time": "2022-06-05T06:21:20.208Z"
      },
      {
        "duration": 19,
        "start_time": "2022-06-05T06:21:20.227Z"
      },
      {
        "duration": 17,
        "start_time": "2022-06-05T06:21:20.248Z"
      },
      {
        "duration": 21,
        "start_time": "2022-06-05T06:21:20.267Z"
      },
      {
        "duration": 9,
        "start_time": "2022-06-05T06:21:20.289Z"
      },
      {
        "duration": 5,
        "start_time": "2022-06-05T06:21:20.300Z"
      },
      {
        "duration": 7,
        "start_time": "2022-06-05T06:21:20.307Z"
      },
      {
        "duration": 11,
        "start_time": "2022-06-05T06:21:20.316Z"
      },
      {
        "duration": 14,
        "start_time": "2022-06-05T06:21:20.329Z"
      },
      {
        "duration": 19,
        "start_time": "2022-06-05T06:21:20.344Z"
      },
      {
        "duration": 25,
        "start_time": "2022-06-05T06:21:20.365Z"
      },
      {
        "duration": 10,
        "start_time": "2022-06-05T06:21:20.392Z"
      },
      {
        "duration": 7,
        "start_time": "2022-06-05T06:21:20.404Z"
      },
      {
        "duration": 12,
        "start_time": "2022-06-05T06:21:20.413Z"
      },
      {
        "duration": 21,
        "start_time": "2022-06-05T06:21:20.426Z"
      },
      {
        "duration": 15,
        "start_time": "2022-06-05T06:21:20.449Z"
      },
      {
        "duration": 0,
        "start_time": "2022-06-05T06:21:20.466Z"
      },
      {
        "duration": 0,
        "start_time": "2022-06-05T06:21:20.468Z"
      },
      {
        "duration": 10,
        "start_time": "2022-06-05T06:21:25.177Z"
      },
      {
        "duration": 3,
        "start_time": "2022-06-05T06:21:30.207Z"
      },
      {
        "duration": 3,
        "start_time": "2022-06-05T06:21:30.820Z"
      },
      {
        "duration": 19,
        "start_time": "2022-06-05T06:21:31.077Z"
      },
      {
        "duration": 10,
        "start_time": "2022-06-05T06:21:44.698Z"
      },
      {
        "duration": 6,
        "start_time": "2022-06-05T06:21:47.050Z"
      },
      {
        "duration": 10,
        "start_time": "2022-06-05T06:21:47.218Z"
      },
      {
        "duration": 6,
        "start_time": "2022-06-05T06:21:50.047Z"
      },
      {
        "duration": 78,
        "start_time": "2022-06-05T06:21:50.057Z"
      },
      {
        "duration": 13,
        "start_time": "2022-06-05T06:21:50.136Z"
      },
      {
        "duration": 57,
        "start_time": "2022-06-05T06:21:50.151Z"
      },
      {
        "duration": 17,
        "start_time": "2022-06-05T06:21:50.211Z"
      },
      {
        "duration": 13,
        "start_time": "2022-06-05T06:21:50.230Z"
      },
      {
        "duration": 18,
        "start_time": "2022-06-05T06:21:50.245Z"
      },
      {
        "duration": 45,
        "start_time": "2022-06-05T06:21:50.265Z"
      },
      {
        "duration": 15,
        "start_time": "2022-06-05T06:21:50.312Z"
      },
      {
        "duration": 20,
        "start_time": "2022-06-05T06:21:50.329Z"
      },
      {
        "duration": 11,
        "start_time": "2022-06-05T06:21:50.351Z"
      },
      {
        "duration": 32,
        "start_time": "2022-06-05T06:21:50.363Z"
      },
      {
        "duration": 6,
        "start_time": "2022-06-05T06:21:50.398Z"
      },
      {
        "duration": 23,
        "start_time": "2022-06-05T06:21:50.407Z"
      },
      {
        "duration": 11,
        "start_time": "2022-06-05T06:21:50.432Z"
      },
      {
        "duration": 6,
        "start_time": "2022-06-05T06:21:50.445Z"
      },
      {
        "duration": 40,
        "start_time": "2022-06-05T06:21:50.453Z"
      },
      {
        "duration": 28,
        "start_time": "2022-06-05T06:21:50.495Z"
      },
      {
        "duration": 4,
        "start_time": "2022-06-05T06:21:50.525Z"
      },
      {
        "duration": 50,
        "start_time": "2022-06-05T06:21:50.531Z"
      },
      {
        "duration": 31,
        "start_time": "2022-06-05T06:21:50.582Z"
      },
      {
        "duration": 5,
        "start_time": "2022-06-05T06:22:04.732Z"
      },
      {
        "duration": 59,
        "start_time": "2022-06-05T06:22:04.739Z"
      },
      {
        "duration": 18,
        "start_time": "2022-06-05T06:22:04.800Z"
      },
      {
        "duration": 30,
        "start_time": "2022-06-05T06:22:04.819Z"
      },
      {
        "duration": 21,
        "start_time": "2022-06-05T06:22:04.852Z"
      },
      {
        "duration": 19,
        "start_time": "2022-06-05T06:22:04.875Z"
      },
      {
        "duration": 14,
        "start_time": "2022-06-05T06:22:04.896Z"
      },
      {
        "duration": 7,
        "start_time": "2022-06-05T06:22:04.911Z"
      },
      {
        "duration": 7,
        "start_time": "2022-06-05T06:22:04.920Z"
      },
      {
        "duration": 18,
        "start_time": "2022-06-05T06:22:04.928Z"
      },
      {
        "duration": 12,
        "start_time": "2022-06-05T06:22:04.948Z"
      },
      {
        "duration": 32,
        "start_time": "2022-06-05T06:22:04.962Z"
      },
      {
        "duration": 12,
        "start_time": "2022-06-05T06:22:04.996Z"
      },
      {
        "duration": 11,
        "start_time": "2022-06-05T06:22:05.011Z"
      },
      {
        "duration": 23,
        "start_time": "2022-06-05T06:22:05.024Z"
      },
      {
        "duration": 5,
        "start_time": "2022-06-05T06:22:05.049Z"
      },
      {
        "duration": 26,
        "start_time": "2022-06-05T06:22:05.056Z"
      },
      {
        "duration": 19,
        "start_time": "2022-06-05T06:22:05.084Z"
      },
      {
        "duration": 3,
        "start_time": "2022-06-05T06:22:05.104Z"
      },
      {
        "duration": 9,
        "start_time": "2022-06-05T06:22:05.109Z"
      },
      {
        "duration": 61,
        "start_time": "2022-06-05T06:22:05.119Z"
      },
      {
        "duration": 5,
        "start_time": "2022-06-05T06:23:10.597Z"
      },
      {
        "duration": 66,
        "start_time": "2022-06-05T06:23:10.838Z"
      },
      {
        "duration": 17,
        "start_time": "2022-06-05T06:24:40.687Z"
      },
      {
        "duration": 7,
        "start_time": "2022-06-05T06:24:54.488Z"
      },
      {
        "duration": 3,
        "start_time": "2022-06-05T06:26:17.099Z"
      },
      {
        "duration": 56,
        "start_time": "2022-06-05T06:26:20.139Z"
      },
      {
        "duration": 11,
        "start_time": "2022-06-05T06:26:58.075Z"
      },
      {
        "duration": 3,
        "start_time": "2022-06-05T06:26:59.790Z"
      },
      {
        "duration": 995,
        "start_time": "2022-06-05T06:26:59.948Z"
      },
      {
        "duration": 4,
        "start_time": "2022-06-05T06:27:37.130Z"
      },
      {
        "duration": 171,
        "start_time": "2022-06-05T06:27:42.009Z"
      },
      {
        "duration": 12,
        "start_time": "2022-06-05T06:31:54.129Z"
      },
      {
        "duration": 14,
        "start_time": "2022-06-05T06:32:05.714Z"
      },
      {
        "duration": 6,
        "start_time": "2022-06-05T06:36:56.283Z"
      },
      {
        "duration": 30,
        "start_time": "2022-06-05T06:37:13.848Z"
      },
      {
        "duration": 4,
        "start_time": "2022-06-05T06:37:16.083Z"
      },
      {
        "duration": 75,
        "start_time": "2022-06-05T06:37:16.444Z"
      },
      {
        "duration": 3,
        "start_time": "2022-06-05T06:37:16.876Z"
      },
      {
        "duration": 1066,
        "start_time": "2022-06-05T06:37:17.204Z"
      },
      {
        "duration": 5,
        "start_time": "2022-06-05T06:37:22.908Z"
      },
      {
        "duration": 58,
        "start_time": "2022-06-05T06:37:22.915Z"
      },
      {
        "duration": 15,
        "start_time": "2022-06-05T06:37:22.975Z"
      },
      {
        "duration": 31,
        "start_time": "2022-06-05T06:37:22.992Z"
      },
      {
        "duration": 35,
        "start_time": "2022-06-05T06:37:23.025Z"
      },
      {
        "duration": 24,
        "start_time": "2022-06-05T06:37:23.062Z"
      },
      {
        "duration": 29,
        "start_time": "2022-06-05T06:37:23.088Z"
      },
      {
        "duration": 13,
        "start_time": "2022-06-05T06:37:23.119Z"
      },
      {
        "duration": 11,
        "start_time": "2022-06-05T06:37:23.134Z"
      },
      {
        "duration": 6,
        "start_time": "2022-06-05T06:37:23.148Z"
      },
      {
        "duration": 28,
        "start_time": "2022-06-05T06:37:23.156Z"
      },
      {
        "duration": 6,
        "start_time": "2022-06-05T06:37:23.185Z"
      },
      {
        "duration": 6,
        "start_time": "2022-06-05T06:37:23.192Z"
      },
      {
        "duration": 6,
        "start_time": "2022-06-05T06:37:23.199Z"
      },
      {
        "duration": 5,
        "start_time": "2022-06-05T06:37:23.207Z"
      },
      {
        "duration": 4,
        "start_time": "2022-06-05T06:37:23.214Z"
      },
      {
        "duration": 10,
        "start_time": "2022-06-05T06:37:23.220Z"
      },
      {
        "duration": 38,
        "start_time": "2022-06-05T06:37:23.231Z"
      },
      {
        "duration": 3,
        "start_time": "2022-06-05T06:37:23.271Z"
      },
      {
        "duration": 13,
        "start_time": "2022-06-05T06:37:23.277Z"
      },
      {
        "duration": 68,
        "start_time": "2022-06-05T06:37:23.292Z"
      },
      {
        "duration": 4,
        "start_time": "2022-06-05T06:37:23.363Z"
      },
      {
        "duration": 1036,
        "start_time": "2022-06-05T06:37:23.369Z"
      },
      {
        "duration": 10,
        "start_time": "2022-06-05T06:38:13.072Z"
      },
      {
        "duration": 6,
        "start_time": "2022-06-05T06:38:13.614Z"
      },
      {
        "duration": 3,
        "start_time": "2022-06-05T06:38:14.175Z"
      },
      {
        "duration": 12,
        "start_time": "2022-06-05T06:38:14.356Z"
      },
      {
        "duration": 25,
        "start_time": "2022-06-05T06:38:14.515Z"
      },
      {
        "duration": 3,
        "start_time": "2022-06-05T06:38:14.950Z"
      },
      {
        "duration": 3,
        "start_time": "2022-06-05T06:38:15.156Z"
      },
      {
        "duration": 54,
        "start_time": "2022-06-05T06:38:15.494Z"
      },
      {
        "duration": 3,
        "start_time": "2022-06-05T06:38:15.903Z"
      },
      {
        "duration": 996,
        "start_time": "2022-06-05T06:38:16.195Z"
      },
      {
        "duration": 7,
        "start_time": "2022-06-05T06:38:58.224Z"
      },
      {
        "duration": 3,
        "start_time": "2022-06-05T06:38:58.685Z"
      },
      {
        "duration": 10,
        "start_time": "2022-06-05T06:38:58.852Z"
      },
      {
        "duration": 19,
        "start_time": "2022-06-05T06:38:59.023Z"
      },
      {
        "duration": 3,
        "start_time": "2022-06-05T06:38:59.545Z"
      },
      {
        "duration": 3,
        "start_time": "2022-06-05T06:38:59.807Z"
      },
      {
        "duration": 51,
        "start_time": "2022-06-05T06:39:00.175Z"
      },
      {
        "duration": 3,
        "start_time": "2022-06-05T06:39:00.484Z"
      },
      {
        "duration": 1031,
        "start_time": "2022-06-05T06:39:01.880Z"
      },
      {
        "duration": 7,
        "start_time": "2022-06-05T06:46:33.797Z"
      },
      {
        "duration": 8,
        "start_time": "2022-06-05T06:46:34.257Z"
      },
      {
        "duration": 3,
        "start_time": "2022-06-05T06:46:34.807Z"
      },
      {
        "duration": 9,
        "start_time": "2022-06-05T06:46:34.975Z"
      },
      {
        "duration": 27,
        "start_time": "2022-06-05T06:46:35.128Z"
      },
      {
        "duration": 2,
        "start_time": "2022-06-05T06:46:35.507Z"
      },
      {
        "duration": 4,
        "start_time": "2022-06-05T06:46:35.696Z"
      },
      {
        "duration": 23,
        "start_time": "2022-06-05T06:46:35.987Z"
      },
      {
        "duration": 3,
        "start_time": "2022-06-05T06:46:36.419Z"
      },
      {
        "duration": 402,
        "start_time": "2022-06-05T06:46:36.659Z"
      },
      {
        "duration": 11,
        "start_time": "2022-06-05T06:47:38.748Z"
      },
      {
        "duration": 2,
        "start_time": "2022-06-05T06:47:39.147Z"
      },
      {
        "duration": 7,
        "start_time": "2022-06-05T06:47:39.299Z"
      },
      {
        "duration": 24,
        "start_time": "2022-06-05T06:47:39.457Z"
      },
      {
        "duration": 2,
        "start_time": "2022-06-05T06:47:39.817Z"
      },
      {
        "duration": 3,
        "start_time": "2022-06-05T06:47:40.107Z"
      },
      {
        "duration": 22,
        "start_time": "2022-06-05T06:47:40.396Z"
      },
      {
        "duration": 3,
        "start_time": "2022-06-05T06:47:40.837Z"
      },
      {
        "duration": 348,
        "start_time": "2022-06-05T06:47:41.376Z"
      },
      {
        "duration": 6,
        "start_time": "2022-06-05T06:47:55.027Z"
      },
      {
        "duration": 3,
        "start_time": "2022-06-05T06:47:55.476Z"
      },
      {
        "duration": 7,
        "start_time": "2022-06-05T06:47:55.637Z"
      },
      {
        "duration": 19,
        "start_time": "2022-06-05T06:47:55.818Z"
      },
      {
        "duration": 2,
        "start_time": "2022-06-05T06:47:56.289Z"
      },
      {
        "duration": 3,
        "start_time": "2022-06-05T06:47:56.527Z"
      },
      {
        "duration": 21,
        "start_time": "2022-06-05T06:47:56.871Z"
      },
      {
        "duration": 3,
        "start_time": "2022-06-05T06:47:57.191Z"
      },
      {
        "duration": 356,
        "start_time": "2022-06-05T06:47:57.457Z"
      },
      {
        "duration": 4,
        "start_time": "2022-06-05T06:48:03.654Z"
      },
      {
        "duration": 67,
        "start_time": "2022-06-05T06:48:03.660Z"
      },
      {
        "duration": 21,
        "start_time": "2022-06-05T06:48:03.730Z"
      },
      {
        "duration": 29,
        "start_time": "2022-06-05T06:48:03.754Z"
      },
      {
        "duration": 26,
        "start_time": "2022-06-05T06:48:03.786Z"
      },
      {
        "duration": 21,
        "start_time": "2022-06-05T06:48:03.813Z"
      },
      {
        "duration": 12,
        "start_time": "2022-06-05T06:48:03.836Z"
      },
      {
        "duration": 10,
        "start_time": "2022-06-05T06:48:03.849Z"
      },
      {
        "duration": 23,
        "start_time": "2022-06-05T06:48:03.862Z"
      },
      {
        "duration": 9,
        "start_time": "2022-06-05T06:48:03.887Z"
      },
      {
        "duration": 15,
        "start_time": "2022-06-05T06:48:03.898Z"
      },
      {
        "duration": 6,
        "start_time": "2022-06-05T06:48:03.915Z"
      },
      {
        "duration": 15,
        "start_time": "2022-06-05T06:48:03.923Z"
      },
      {
        "duration": 14,
        "start_time": "2022-06-05T06:48:03.942Z"
      },
      {
        "duration": 21,
        "start_time": "2022-06-05T06:48:03.958Z"
      },
      {
        "duration": 9,
        "start_time": "2022-06-05T06:48:03.981Z"
      },
      {
        "duration": 14,
        "start_time": "2022-06-05T06:48:03.992Z"
      },
      {
        "duration": 30,
        "start_time": "2022-06-05T06:48:04.008Z"
      },
      {
        "duration": 2,
        "start_time": "2022-06-05T06:48:04.040Z"
      },
      {
        "duration": 9,
        "start_time": "2022-06-05T06:48:04.043Z"
      },
      {
        "duration": 42,
        "start_time": "2022-06-05T06:48:04.054Z"
      },
      {
        "duration": 4,
        "start_time": "2022-06-05T06:48:04.098Z"
      },
      {
        "duration": 417,
        "start_time": "2022-06-05T06:48:04.104Z"
      },
      {
        "duration": 3,
        "start_time": "2022-06-05T06:48:45.597Z"
      },
      {
        "duration": 47,
        "start_time": "2022-06-05T06:48:45.602Z"
      },
      {
        "duration": 13,
        "start_time": "2022-06-05T06:48:45.651Z"
      },
      {
        "duration": 28,
        "start_time": "2022-06-05T06:48:45.667Z"
      },
      {
        "duration": 10,
        "start_time": "2022-06-05T06:48:45.696Z"
      },
      {
        "duration": 4,
        "start_time": "2022-06-05T06:48:45.707Z"
      },
      {
        "duration": 13,
        "start_time": "2022-06-05T06:48:45.712Z"
      },
      {
        "duration": 7,
        "start_time": "2022-06-05T06:48:45.727Z"
      },
      {
        "duration": 10,
        "start_time": "2022-06-05T06:48:45.735Z"
      },
      {
        "duration": 6,
        "start_time": "2022-06-05T06:48:45.760Z"
      },
      {
        "duration": 24,
        "start_time": "2022-06-05T06:48:45.768Z"
      },
      {
        "duration": 6,
        "start_time": "2022-06-05T06:48:45.793Z"
      },
      {
        "duration": 10,
        "start_time": "2022-06-05T06:48:45.800Z"
      },
      {
        "duration": 9,
        "start_time": "2022-06-05T06:48:45.811Z"
      },
      {
        "duration": 8,
        "start_time": "2022-06-05T06:48:45.822Z"
      },
      {
        "duration": 4,
        "start_time": "2022-06-05T06:48:45.831Z"
      },
      {
        "duration": 46,
        "start_time": "2022-06-05T06:48:45.837Z"
      },
      {
        "duration": 19,
        "start_time": "2022-06-05T06:48:45.885Z"
      },
      {
        "duration": 2,
        "start_time": "2022-06-05T06:48:45.906Z"
      },
      {
        "duration": 6,
        "start_time": "2022-06-05T06:48:45.910Z"
      },
      {
        "duration": 24,
        "start_time": "2022-06-05T06:48:45.918Z"
      },
      {
        "duration": 3,
        "start_time": "2022-06-05T06:48:45.944Z"
      },
      {
        "duration": 381,
        "start_time": "2022-06-05T06:48:45.949Z"
      },
      {
        "duration": 4,
        "start_time": "2022-06-05T06:50:05.495Z"
      },
      {
        "duration": 69,
        "start_time": "2022-06-05T06:50:05.501Z"
      },
      {
        "duration": 13,
        "start_time": "2022-06-05T06:50:05.572Z"
      },
      {
        "duration": 22,
        "start_time": "2022-06-05T06:50:05.588Z"
      },
      {
        "duration": 11,
        "start_time": "2022-06-05T06:50:05.612Z"
      },
      {
        "duration": 5,
        "start_time": "2022-06-05T06:50:05.625Z"
      },
      {
        "duration": 48,
        "start_time": "2022-06-05T06:50:05.631Z"
      },
      {
        "duration": 5,
        "start_time": "2022-06-05T06:50:05.680Z"
      },
      {
        "duration": 8,
        "start_time": "2022-06-05T06:50:05.687Z"
      },
      {
        "duration": 5,
        "start_time": "2022-06-05T06:50:05.697Z"
      },
      {
        "duration": 12,
        "start_time": "2022-06-05T06:50:05.703Z"
      },
      {
        "duration": 12,
        "start_time": "2022-06-05T06:50:05.717Z"
      },
      {
        "duration": 8,
        "start_time": "2022-06-05T06:50:05.730Z"
      },
      {
        "duration": 20,
        "start_time": "2022-06-05T06:50:05.739Z"
      },
      {
        "duration": 9,
        "start_time": "2022-06-05T06:50:05.761Z"
      },
      {
        "duration": 15,
        "start_time": "2022-06-05T06:50:05.772Z"
      },
      {
        "duration": 11,
        "start_time": "2022-06-05T06:50:05.788Z"
      },
      {
        "duration": 25,
        "start_time": "2022-06-05T06:50:05.800Z"
      },
      {
        "duration": 2,
        "start_time": "2022-06-05T06:50:05.827Z"
      },
      {
        "duration": 7,
        "start_time": "2022-06-05T06:50:05.830Z"
      },
      {
        "duration": 41,
        "start_time": "2022-06-05T06:50:05.839Z"
      },
      {
        "duration": 3,
        "start_time": "2022-06-05T06:50:05.882Z"
      },
      {
        "duration": 389,
        "start_time": "2022-06-05T06:50:05.887Z"
      },
      {
        "duration": 363,
        "start_time": "2022-06-05T06:50:53.875Z"
      },
      {
        "duration": 49,
        "start_time": "2022-06-05T07:52:14.978Z"
      },
      {
        "duration": 3,
        "start_time": "2022-06-05T07:52:38.273Z"
      },
      {
        "duration": 15,
        "start_time": "2022-06-05T07:52:38.784Z"
      },
      {
        "duration": 89,
        "start_time": "2022-06-05T07:52:54.195Z"
      },
      {
        "duration": 230,
        "start_time": "2022-06-05T07:52:59.084Z"
      },
      {
        "duration": 6,
        "start_time": "2022-06-05T07:53:20.071Z"
      },
      {
        "duration": 4,
        "start_time": "2022-06-05T07:53:24.445Z"
      },
      {
        "duration": 22,
        "start_time": "2022-06-05T07:53:24.645Z"
      },
      {
        "duration": 3,
        "start_time": "2022-06-05T07:53:26.307Z"
      },
      {
        "duration": 26,
        "start_time": "2022-06-05T07:53:27.056Z"
      },
      {
        "duration": 2,
        "start_time": "2022-06-05T07:55:42.829Z"
      },
      {
        "duration": 320,
        "start_time": "2022-06-05T07:55:43.077Z"
      },
      {
        "duration": 296,
        "start_time": "2022-06-05T07:56:14.337Z"
      },
      {
        "duration": 51,
        "start_time": "2022-06-05T07:56:20.247Z"
      },
      {
        "duration": 375,
        "start_time": "2022-06-05T07:57:10.836Z"
      },
      {
        "duration": 719,
        "start_time": "2022-06-05T07:57:15.225Z"
      },
      {
        "duration": 1849,
        "start_time": "2022-06-05T07:57:19.705Z"
      },
      {
        "duration": 2595,
        "start_time": "2022-06-05T07:57:35.257Z"
      },
      {
        "duration": 24,
        "start_time": "2022-06-05T07:58:09.257Z"
      },
      {
        "duration": 22,
        "start_time": "2022-06-05T07:58:14.746Z"
      },
      {
        "duration": 18581,
        "start_time": "2022-06-05T07:58:24.027Z"
      },
      {
        "duration": 3572,
        "start_time": "2022-06-05T07:59:37.697Z"
      },
      {
        "duration": 38,
        "start_time": "2022-06-05T08:00:07.211Z"
      },
      {
        "duration": 18198,
        "start_time": "2022-06-05T08:01:46.620Z"
      },
      {
        "duration": 27,
        "start_time": "2022-06-05T08:02:37.951Z"
      },
      {
        "duration": 21838,
        "start_time": "2022-06-05T08:02:57.649Z"
      },
      {
        "duration": 3160,
        "start_time": "2022-06-05T08:07:02.840Z"
      },
      {
        "duration": 10,
        "start_time": "2022-06-05T08:12:42.345Z"
      },
      {
        "duration": 10,
        "start_time": "2022-06-05T08:13:04.428Z"
      },
      {
        "duration": 6,
        "start_time": "2022-06-05T08:13:07.930Z"
      },
      {
        "duration": 71,
        "start_time": "2022-06-05T08:13:07.938Z"
      },
      {
        "duration": 16,
        "start_time": "2022-06-05T08:13:08.011Z"
      },
      {
        "duration": 33,
        "start_time": "2022-06-05T08:13:08.030Z"
      },
      {
        "duration": 31,
        "start_time": "2022-06-05T08:13:08.066Z"
      },
      {
        "duration": 22,
        "start_time": "2022-06-05T08:13:08.099Z"
      },
      {
        "duration": 24,
        "start_time": "2022-06-05T08:13:08.123Z"
      },
      {
        "duration": 29,
        "start_time": "2022-06-05T08:13:08.149Z"
      },
      {
        "duration": 29,
        "start_time": "2022-06-05T08:13:08.180Z"
      },
      {
        "duration": 13,
        "start_time": "2022-06-05T08:13:08.211Z"
      },
      {
        "duration": 25,
        "start_time": "2022-06-05T08:13:08.226Z"
      },
      {
        "duration": 32,
        "start_time": "2022-06-05T08:13:08.253Z"
      },
      {
        "duration": 43,
        "start_time": "2022-06-05T08:13:08.287Z"
      },
      {
        "duration": 47,
        "start_time": "2022-06-05T08:13:08.333Z"
      },
      {
        "duration": 18,
        "start_time": "2022-06-05T08:13:08.382Z"
      },
      {
        "duration": 24,
        "start_time": "2022-06-05T08:13:08.402Z"
      },
      {
        "duration": 19,
        "start_time": "2022-06-05T08:13:08.428Z"
      },
      {
        "duration": 53,
        "start_time": "2022-06-05T08:13:08.449Z"
      },
      {
        "duration": 20,
        "start_time": "2022-06-05T08:13:08.504Z"
      },
      {
        "duration": 34,
        "start_time": "2022-06-05T08:13:08.526Z"
      },
      {
        "duration": 25,
        "start_time": "2022-06-05T08:13:08.563Z"
      },
      {
        "duration": 441,
        "start_time": "2022-06-05T08:13:08.590Z"
      },
      {
        "duration": 18615,
        "start_time": "2022-06-05T08:13:09.032Z"
      },
      {
        "duration": 3293,
        "start_time": "2022-06-05T08:13:27.650Z"
      },
      {
        "duration": 3346,
        "start_time": "2022-06-05T08:13:30.945Z"
      },
      {
        "duration": 6,
        "start_time": "2022-06-05T08:13:34.293Z"
      },
      {
        "duration": 9,
        "start_time": "2022-06-05T08:16:08.496Z"
      },
      {
        "duration": 4,
        "start_time": "2022-06-05T08:16:11.743Z"
      },
      {
        "duration": 64,
        "start_time": "2022-06-05T08:16:11.749Z"
      },
      {
        "duration": 11,
        "start_time": "2022-06-05T08:16:11.815Z"
      },
      {
        "duration": 29,
        "start_time": "2022-06-05T08:16:11.828Z"
      },
      {
        "duration": 30,
        "start_time": "2022-06-05T08:16:11.860Z"
      },
      {
        "duration": 8,
        "start_time": "2022-06-05T08:16:11.891Z"
      },
      {
        "duration": 25,
        "start_time": "2022-06-05T08:16:11.900Z"
      },
      {
        "duration": 17,
        "start_time": "2022-06-05T08:16:11.927Z"
      },
      {
        "duration": 8,
        "start_time": "2022-06-05T08:16:11.946Z"
      },
      {
        "duration": 7,
        "start_time": "2022-06-05T08:16:11.955Z"
      },
      {
        "duration": 27,
        "start_time": "2022-06-05T08:16:11.964Z"
      },
      {
        "duration": 7,
        "start_time": "2022-06-05T08:16:11.992Z"
      },
      {
        "duration": 6,
        "start_time": "2022-06-05T08:16:12.001Z"
      },
      {
        "duration": 4,
        "start_time": "2022-06-05T08:16:12.010Z"
      },
      {
        "duration": 7,
        "start_time": "2022-06-05T08:16:12.016Z"
      },
      {
        "duration": 3,
        "start_time": "2022-06-05T08:16:12.025Z"
      },
      {
        "duration": 31,
        "start_time": "2022-06-05T08:16:12.030Z"
      },
      {
        "duration": 35,
        "start_time": "2022-06-05T08:16:12.063Z"
      },
      {
        "duration": 3,
        "start_time": "2022-06-05T08:16:12.100Z"
      },
      {
        "duration": 21,
        "start_time": "2022-06-05T08:16:12.104Z"
      },
      {
        "duration": 3,
        "start_time": "2022-06-05T08:16:12.127Z"
      },
      {
        "duration": 419,
        "start_time": "2022-06-05T08:16:12.131Z"
      },
      {
        "duration": 18425,
        "start_time": "2022-06-05T08:16:12.552Z"
      },
      {
        "duration": 3176,
        "start_time": "2022-06-05T08:16:30.979Z"
      },
      {
        "duration": 3229,
        "start_time": "2022-06-05T08:16:34.160Z"
      },
      {
        "duration": 8,
        "start_time": "2022-06-05T08:16:37.391Z"
      },
      {
        "duration": 155,
        "start_time": "2022-06-05T08:16:37.401Z"
      },
      {
        "duration": 10,
        "start_time": "2022-06-05T08:16:57.828Z"
      },
      {
        "duration": 16,
        "start_time": "2022-06-05T08:17:34.677Z"
      },
      {
        "duration": 4,
        "start_time": "2022-06-05T08:19:56.884Z"
      },
      {
        "duration": 50,
        "start_time": "2022-06-05T08:19:56.892Z"
      },
      {
        "duration": 13,
        "start_time": "2022-06-05T08:19:56.944Z"
      },
      {
        "duration": 41,
        "start_time": "2022-06-05T08:19:56.960Z"
      },
      {
        "duration": 17,
        "start_time": "2022-06-05T08:19:57.004Z"
      },
      {
        "duration": 6,
        "start_time": "2022-06-05T08:19:57.023Z"
      },
      {
        "duration": 11,
        "start_time": "2022-06-05T08:19:57.030Z"
      },
      {
        "duration": 5,
        "start_time": "2022-06-05T08:19:57.042Z"
      },
      {
        "duration": 10,
        "start_time": "2022-06-05T08:19:57.049Z"
      },
      {
        "duration": 21,
        "start_time": "2022-06-05T08:19:57.061Z"
      },
      {
        "duration": 14,
        "start_time": "2022-06-05T08:19:57.084Z"
      },
      {
        "duration": 5,
        "start_time": "2022-06-05T08:19:57.100Z"
      },
      {
        "duration": 9,
        "start_time": "2022-06-05T08:19:57.107Z"
      },
      {
        "duration": 13,
        "start_time": "2022-06-05T08:19:57.119Z"
      },
      {
        "duration": 21,
        "start_time": "2022-06-05T08:19:57.134Z"
      },
      {
        "duration": 49,
        "start_time": "2022-06-05T08:19:57.158Z"
      },
      {
        "duration": 25,
        "start_time": "2022-06-05T08:19:57.209Z"
      },
      {
        "duration": 31,
        "start_time": "2022-06-05T08:19:57.236Z"
      },
      {
        "duration": 29,
        "start_time": "2022-06-05T08:19:57.269Z"
      },
      {
        "duration": 46,
        "start_time": "2022-06-05T08:19:57.300Z"
      },
      {
        "duration": 5,
        "start_time": "2022-06-05T08:19:57.348Z"
      },
      {
        "duration": 461,
        "start_time": "2022-06-05T08:19:57.355Z"
      },
      {
        "duration": 18207,
        "start_time": "2022-06-05T08:19:57.818Z"
      },
      {
        "duration": 3180,
        "start_time": "2022-06-05T08:20:16.026Z"
      },
      {
        "duration": 3162,
        "start_time": "2022-06-05T08:20:19.208Z"
      },
      {
        "duration": 7,
        "start_time": "2022-06-05T08:20:22.373Z"
      },
      {
        "duration": 10,
        "start_time": "2022-06-05T08:20:22.381Z"
      },
      {
        "duration": 6,
        "start_time": "2022-06-05T08:20:28.229Z"
      },
      {
        "duration": 9,
        "start_time": "2022-06-05T08:20:28.438Z"
      },
      {
        "duration": 548,
        "start_time": "2022-06-05T08:20:35.729Z"
      },
      {
        "duration": 256,
        "start_time": "2022-06-05T08:20:39.908Z"
      },
      {
        "duration": 18,
        "start_time": "2022-06-05T08:22:40.850Z"
      },
      {
        "duration": 10,
        "start_time": "2022-06-05T08:22:45.333Z"
      },
      {
        "duration": 11,
        "start_time": "2022-06-05T08:22:47.009Z"
      },
      {
        "duration": 151,
        "start_time": "2022-06-05T08:22:51.380Z"
      },
      {
        "duration": 3,
        "start_time": "2022-06-05T08:33:07.427Z"
      },
      {
        "duration": 26,
        "start_time": "2022-06-05T08:45:44.860Z"
      },
      {
        "duration": 7,
        "start_time": "2022-06-05T08:45:48.485Z"
      },
      {
        "duration": 41,
        "start_time": "2022-06-05T08:45:48.751Z"
      },
      {
        "duration": 4,
        "start_time": "2022-06-05T08:46:24.209Z"
      },
      {
        "duration": 47,
        "start_time": "2022-06-05T08:46:24.216Z"
      },
      {
        "duration": 19,
        "start_time": "2022-06-05T08:46:24.266Z"
      },
      {
        "duration": 40,
        "start_time": "2022-06-05T08:46:24.287Z"
      },
      {
        "duration": 9,
        "start_time": "2022-06-05T08:46:24.331Z"
      },
      {
        "duration": 6,
        "start_time": "2022-06-05T08:46:24.341Z"
      },
      {
        "duration": 54,
        "start_time": "2022-06-05T08:46:24.348Z"
      },
      {
        "duration": 4,
        "start_time": "2022-06-05T08:46:24.404Z"
      },
      {
        "duration": 9,
        "start_time": "2022-06-05T08:46:24.409Z"
      },
      {
        "duration": 20,
        "start_time": "2022-06-05T08:46:24.420Z"
      },
      {
        "duration": 64,
        "start_time": "2022-06-05T08:46:24.442Z"
      },
      {
        "duration": 6,
        "start_time": "2022-06-05T08:46:24.508Z"
      },
      {
        "duration": 8,
        "start_time": "2022-06-05T08:46:24.515Z"
      },
      {
        "duration": 8,
        "start_time": "2022-06-05T08:46:24.528Z"
      },
      {
        "duration": 14,
        "start_time": "2022-06-05T08:46:24.538Z"
      },
      {
        "duration": 40,
        "start_time": "2022-06-05T08:46:24.553Z"
      },
      {
        "duration": 11,
        "start_time": "2022-06-05T08:46:24.595Z"
      },
      {
        "duration": 22,
        "start_time": "2022-06-05T08:46:24.608Z"
      },
      {
        "duration": 3,
        "start_time": "2022-06-05T08:46:24.632Z"
      },
      {
        "duration": 29,
        "start_time": "2022-06-05T08:46:24.636Z"
      },
      {
        "duration": 5,
        "start_time": "2022-06-05T08:46:24.667Z"
      },
      {
        "duration": 435,
        "start_time": "2022-06-05T08:46:24.674Z"
      },
      {
        "duration": 18727,
        "start_time": "2022-06-05T08:46:25.111Z"
      },
      {
        "duration": 3437,
        "start_time": "2022-06-05T08:46:43.839Z"
      },
      {
        "duration": 3459,
        "start_time": "2022-06-05T08:46:47.278Z"
      },
      {
        "duration": 7,
        "start_time": "2022-06-05T08:46:50.739Z"
      },
      {
        "duration": 187,
        "start_time": "2022-06-05T08:46:50.762Z"
      },
      {
        "duration": 6,
        "start_time": "2022-06-05T08:46:50.962Z"
      },
      {
        "duration": 36,
        "start_time": "2022-06-05T08:46:50.970Z"
      },
      {
        "duration": 4086,
        "start_time": "2022-06-05T08:46:51.008Z"
      },
      {
        "duration": 0,
        "start_time": "2022-06-05T08:46:55.095Z"
      },
      {
        "duration": 9,
        "start_time": "2022-06-05T08:48:34.631Z"
      },
      {
        "duration": 4228,
        "start_time": "2022-06-05T08:48:35.179Z"
      },
      {
        "duration": 4247,
        "start_time": "2022-06-05T08:49:04.521Z"
      },
      {
        "duration": 4,
        "start_time": "2022-06-05T08:49:48.253Z"
      },
      {
        "duration": 11,
        "start_time": "2022-06-05T08:49:49.341Z"
      },
      {
        "duration": 4202,
        "start_time": "2022-06-05T08:49:49.724Z"
      },
      {
        "duration": 24497,
        "start_time": "2022-06-05T08:51:39.351Z"
      },
      {
        "duration": 23993,
        "start_time": "2022-06-05T08:52:49.184Z"
      },
      {
        "duration": 102540,
        "start_time": "2022-06-05T08:53:33.202Z"
      },
      {
        "duration": 266210,
        "start_time": "2022-06-05T08:55:32.533Z"
      },
      {
        "duration": 4670,
        "start_time": "2022-06-05T09:00:28.782Z"
      },
      {
        "duration": 4,
        "start_time": "2022-06-05T09:02:06.385Z"
      },
      {
        "duration": 12,
        "start_time": "2022-06-05T09:02:06.682Z"
      },
      {
        "duration": 27719,
        "start_time": "2022-06-05T09:02:19.956Z"
      },
      {
        "duration": 5248,
        "start_time": "2022-06-05T09:03:04.146Z"
      },
      {
        "duration": 10,
        "start_time": "2022-06-05T09:03:17.984Z"
      },
      {
        "duration": 22446,
        "start_time": "2022-06-05T09:03:19.485Z"
      },
      {
        "duration": 10,
        "start_time": "2022-06-05T09:04:16.045Z"
      },
      {
        "duration": 23257,
        "start_time": "2022-06-05T09:04:16.236Z"
      },
      {
        "duration": 4156,
        "start_time": "2022-06-05T09:04:45.105Z"
      },
      {
        "duration": 63626,
        "start_time": "2022-06-05T09:10:57.989Z"
      },
      {
        "duration": 2247,
        "start_time": "2022-06-05T09:12:12.099Z"
      },
      {
        "duration": 650545,
        "start_time": "2022-06-05T09:12:23.048Z"
      },
      {
        "duration": 2259,
        "start_time": "2022-06-05T09:24:07.257Z"
      },
      {
        "duration": 5,
        "start_time": "2022-06-05T09:25:50.827Z"
      },
      {
        "duration": 31,
        "start_time": "2022-06-05T09:25:51.288Z"
      },
      {
        "duration": 12,
        "start_time": "2022-06-05T09:25:57.086Z"
      },
      {
        "duration": 1130,
        "start_time": "2022-06-05T09:26:13.859Z"
      },
      {
        "duration": 2314,
        "start_time": "2022-06-05T09:26:23.483Z"
      },
      {
        "duration": 4,
        "start_time": "2022-06-05T09:38:17.804Z"
      },
      {
        "duration": 45,
        "start_time": "2022-06-05T09:38:17.810Z"
      },
      {
        "duration": 18,
        "start_time": "2022-06-05T09:38:17.857Z"
      },
      {
        "duration": 19,
        "start_time": "2022-06-05T09:38:17.877Z"
      },
      {
        "duration": 9,
        "start_time": "2022-06-05T09:38:17.898Z"
      },
      {
        "duration": 3,
        "start_time": "2022-06-05T09:38:17.909Z"
      },
      {
        "duration": 8,
        "start_time": "2022-06-05T09:38:17.914Z"
      },
      {
        "duration": 6,
        "start_time": "2022-06-05T09:38:17.924Z"
      },
      {
        "duration": 48,
        "start_time": "2022-06-05T09:38:17.931Z"
      },
      {
        "duration": 7,
        "start_time": "2022-06-05T09:38:17.981Z"
      },
      {
        "duration": 13,
        "start_time": "2022-06-05T09:38:17.989Z"
      },
      {
        "duration": 8,
        "start_time": "2022-06-05T09:38:18.004Z"
      },
      {
        "duration": 16,
        "start_time": "2022-06-05T09:38:18.015Z"
      },
      {
        "duration": 5,
        "start_time": "2022-06-05T09:38:18.033Z"
      },
      {
        "duration": 15,
        "start_time": "2022-06-05T09:38:18.039Z"
      },
      {
        "duration": 24,
        "start_time": "2022-06-05T09:38:18.056Z"
      },
      {
        "duration": 36,
        "start_time": "2022-06-05T09:38:18.082Z"
      },
      {
        "duration": 58,
        "start_time": "2022-06-05T09:38:18.120Z"
      },
      {
        "duration": 34,
        "start_time": "2022-06-05T09:38:18.180Z"
      },
      {
        "duration": 65,
        "start_time": "2022-06-05T09:38:18.216Z"
      },
      {
        "duration": 3,
        "start_time": "2022-06-05T09:38:18.283Z"
      },
      {
        "duration": 655,
        "start_time": "2022-06-05T09:38:18.287Z"
      },
      {
        "duration": 32378,
        "start_time": "2022-06-05T09:38:18.943Z"
      },
      {
        "duration": 6940,
        "start_time": "2022-06-05T09:38:51.322Z"
      },
      {
        "duration": 5760,
        "start_time": "2022-06-05T09:38:58.265Z"
      },
      {
        "duration": 5,
        "start_time": "2022-06-05T09:39:04.027Z"
      },
      {
        "duration": 168,
        "start_time": "2022-06-05T09:39:04.034Z"
      },
      {
        "duration": 4,
        "start_time": "2022-06-05T09:39:04.203Z"
      },
      {
        "duration": 15,
        "start_time": "2022-06-05T09:39:04.208Z"
      },
      {
        "duration": 968,
        "start_time": "2022-06-05T09:39:50.224Z"
      },
      {
        "duration": 42,
        "start_time": "2022-06-05T09:39:51.194Z"
      },
      {
        "duration": 12,
        "start_time": "2022-06-05T09:39:51.237Z"
      },
      {
        "duration": 33,
        "start_time": "2022-06-05T09:39:51.251Z"
      },
      {
        "duration": 10,
        "start_time": "2022-06-05T09:39:51.286Z"
      },
      {
        "duration": 10,
        "start_time": "2022-06-05T09:39:51.297Z"
      },
      {
        "duration": 13,
        "start_time": "2022-06-05T09:39:51.308Z"
      },
      {
        "duration": 6,
        "start_time": "2022-06-05T09:39:51.323Z"
      },
      {
        "duration": 14,
        "start_time": "2022-06-05T09:39:51.330Z"
      },
      {
        "duration": 18,
        "start_time": "2022-06-05T09:39:51.345Z"
      },
      {
        "duration": 28,
        "start_time": "2022-06-05T09:39:51.365Z"
      },
      {
        "duration": 5,
        "start_time": "2022-06-05T09:39:51.395Z"
      },
      {
        "duration": 7,
        "start_time": "2022-06-05T09:39:51.401Z"
      },
      {
        "duration": 6,
        "start_time": "2022-06-05T09:39:51.411Z"
      },
      {
        "duration": 6,
        "start_time": "2022-06-05T09:39:51.419Z"
      },
      {
        "duration": 5,
        "start_time": "2022-06-05T09:39:51.426Z"
      },
      {
        "duration": 11,
        "start_time": "2022-06-05T09:39:51.432Z"
      },
      {
        "duration": 40,
        "start_time": "2022-06-05T09:39:51.444Z"
      },
      {
        "duration": 3,
        "start_time": "2022-06-05T09:39:51.486Z"
      },
      {
        "duration": 53,
        "start_time": "2022-06-05T09:39:51.490Z"
      },
      {
        "duration": 3,
        "start_time": "2022-06-05T09:39:51.544Z"
      },
      {
        "duration": 664,
        "start_time": "2022-06-05T09:39:51.558Z"
      },
      {
        "duration": 32629,
        "start_time": "2022-06-05T09:39:52.224Z"
      },
      {
        "duration": 5753,
        "start_time": "2022-06-05T09:40:24.859Z"
      },
      {
        "duration": 5703,
        "start_time": "2022-06-05T09:40:30.613Z"
      },
      {
        "duration": 7,
        "start_time": "2022-06-05T09:40:36.317Z"
      },
      {
        "duration": 503,
        "start_time": "2022-06-05T09:40:36.326Z"
      },
      {
        "duration": 5,
        "start_time": "2022-06-05T09:40:36.831Z"
      },
      {
        "duration": 25,
        "start_time": "2022-06-05T09:40:36.837Z"
      },
      {
        "duration": 25,
        "start_time": "2022-06-05T09:40:36.864Z"
      },
      {
        "duration": 4237,
        "start_time": "2022-06-05T09:40:36.891Z"
      },
      {
        "duration": 4,
        "start_time": "2022-06-05T09:41:31.373Z"
      },
      {
        "duration": 44,
        "start_time": "2022-06-05T09:41:31.379Z"
      },
      {
        "duration": 12,
        "start_time": "2022-06-05T09:41:31.425Z"
      },
      {
        "duration": 21,
        "start_time": "2022-06-05T09:41:31.439Z"
      },
      {
        "duration": 23,
        "start_time": "2022-06-05T09:41:31.463Z"
      },
      {
        "duration": 4,
        "start_time": "2022-06-05T09:41:31.487Z"
      },
      {
        "duration": 12,
        "start_time": "2022-06-05T09:41:31.493Z"
      },
      {
        "duration": 6,
        "start_time": "2022-06-05T09:41:31.507Z"
      },
      {
        "duration": 13,
        "start_time": "2022-06-05T09:41:31.514Z"
      },
      {
        "duration": 9,
        "start_time": "2022-06-05T09:41:31.529Z"
      },
      {
        "duration": 12,
        "start_time": "2022-06-05T09:41:31.539Z"
      },
      {
        "duration": 12,
        "start_time": "2022-06-05T09:41:31.552Z"
      },
      {
        "duration": 19,
        "start_time": "2022-06-05T09:41:31.566Z"
      },
      {
        "duration": 10,
        "start_time": "2022-06-05T09:41:31.588Z"
      },
      {
        "duration": 6,
        "start_time": "2022-06-05T09:41:31.599Z"
      },
      {
        "duration": 6,
        "start_time": "2022-06-05T09:41:31.606Z"
      },
      {
        "duration": 15,
        "start_time": "2022-06-05T09:41:31.613Z"
      },
      {
        "duration": 22,
        "start_time": "2022-06-05T09:41:31.630Z"
      },
      {
        "duration": 4,
        "start_time": "2022-06-05T09:41:31.658Z"
      },
      {
        "duration": 40,
        "start_time": "2022-06-05T09:41:31.665Z"
      },
      {
        "duration": 3,
        "start_time": "2022-06-05T09:41:31.707Z"
      },
      {
        "duration": 479,
        "start_time": "2022-06-05T09:41:31.711Z"
      },
      {
        "duration": 22908,
        "start_time": "2022-06-05T09:41:32.191Z"
      },
      {
        "duration": 4028,
        "start_time": "2022-06-05T09:41:55.101Z"
      },
      {
        "duration": 4082,
        "start_time": "2022-06-05T09:41:59.131Z"
      },
      {
        "duration": 6,
        "start_time": "2022-06-05T09:42:03.214Z"
      },
      {
        "duration": 164,
        "start_time": "2022-06-05T09:42:03.221Z"
      },
      {
        "duration": 4,
        "start_time": "2022-06-05T09:42:03.386Z"
      },
      {
        "duration": 28,
        "start_time": "2022-06-05T09:42:03.392Z"
      },
      {
        "duration": 9,
        "start_time": "2022-06-05T09:42:03.422Z"
      },
      {
        "duration": 2882,
        "start_time": "2022-06-05T09:42:03.433Z"
      },
      {
        "duration": 5,
        "start_time": "2022-06-05T09:42:56.407Z"
      },
      {
        "duration": 44,
        "start_time": "2022-06-05T09:42:56.415Z"
      },
      {
        "duration": 15,
        "start_time": "2022-06-05T09:42:56.462Z"
      },
      {
        "duration": 18,
        "start_time": "2022-06-05T09:42:56.480Z"
      },
      {
        "duration": 12,
        "start_time": "2022-06-05T09:42:56.500Z"
      },
      {
        "duration": 4,
        "start_time": "2022-06-05T09:42:56.513Z"
      },
      {
        "duration": 50,
        "start_time": "2022-06-05T09:42:56.519Z"
      },
      {
        "duration": 10,
        "start_time": "2022-06-05T09:42:56.572Z"
      },
      {
        "duration": 8,
        "start_time": "2022-06-05T09:42:56.584Z"
      },
      {
        "duration": 6,
        "start_time": "2022-06-05T09:42:56.594Z"
      },
      {
        "duration": 12,
        "start_time": "2022-06-05T09:42:56.602Z"
      },
      {
        "duration": 6,
        "start_time": "2022-06-05T09:42:56.616Z"
      },
      {
        "duration": 36,
        "start_time": "2022-06-05T09:42:56.623Z"
      },
      {
        "duration": 9,
        "start_time": "2022-06-05T09:42:56.661Z"
      },
      {
        "duration": 12,
        "start_time": "2022-06-05T09:42:56.672Z"
      },
      {
        "duration": 9,
        "start_time": "2022-06-05T09:42:56.686Z"
      },
      {
        "duration": 9,
        "start_time": "2022-06-05T09:42:56.697Z"
      },
      {
        "duration": 22,
        "start_time": "2022-06-05T09:42:56.708Z"
      },
      {
        "duration": 3,
        "start_time": "2022-06-05T09:42:56.731Z"
      },
      {
        "duration": 39,
        "start_time": "2022-06-05T09:42:56.735Z"
      },
      {
        "duration": 4,
        "start_time": "2022-06-05T09:42:56.776Z"
      },
      {
        "duration": 387,
        "start_time": "2022-06-05T09:42:56.781Z"
      },
      {
        "duration": 17390,
        "start_time": "2022-06-05T09:42:57.170Z"
      },
      {
        "duration": 3205,
        "start_time": "2022-06-05T09:43:14.562Z"
      },
      {
        "duration": 3168,
        "start_time": "2022-06-05T09:43:17.770Z"
      },
      {
        "duration": 7,
        "start_time": "2022-06-05T09:43:20.940Z"
      },
      {
        "duration": 167,
        "start_time": "2022-06-05T09:43:20.958Z"
      },
      {
        "duration": 3,
        "start_time": "2022-06-05T09:43:21.128Z"
      },
      {
        "duration": 11,
        "start_time": "2022-06-05T09:43:21.133Z"
      },
      {
        "duration": 3,
        "start_time": "2022-06-05T09:43:21.145Z"
      },
      {
        "duration": 2234,
        "start_time": "2022-06-05T09:43:21.159Z"
      },
      {
        "duration": 4,
        "start_time": "2022-06-05T09:50:16.985Z"
      },
      {
        "duration": 45,
        "start_time": "2022-06-05T09:50:16.991Z"
      },
      {
        "duration": 162,
        "start_time": "2022-06-05T09:50:17.038Z"
      },
      {
        "duration": 0,
        "start_time": "2022-06-05T09:50:17.202Z"
      },
      {
        "duration": 4,
        "start_time": "2022-06-05T09:52:13.928Z"
      },
      {
        "duration": 48,
        "start_time": "2022-06-05T09:52:13.940Z"
      },
      {
        "duration": 19,
        "start_time": "2022-06-05T09:52:13.990Z"
      },
      {
        "duration": 10,
        "start_time": "2022-06-05T09:52:14.010Z"
      },
      {
        "duration": 3,
        "start_time": "2022-06-05T09:52:14.022Z"
      },
      {
        "duration": 46,
        "start_time": "2022-06-05T09:52:14.027Z"
      },
      {
        "duration": 21,
        "start_time": "2022-06-05T09:52:16.583Z"
      },
      {
        "duration": 33,
        "start_time": "2022-06-05T09:52:49.515Z"
      },
      {
        "duration": 31,
        "start_time": "2022-06-05T09:52:49.855Z"
      },
      {
        "duration": 4,
        "start_time": "2022-06-05T09:53:46.852Z"
      },
      {
        "duration": 63,
        "start_time": "2022-06-05T09:53:46.859Z"
      },
      {
        "duration": 18,
        "start_time": "2022-06-05T09:53:46.923Z"
      },
      {
        "duration": 11,
        "start_time": "2022-06-05T09:53:46.942Z"
      },
      {
        "duration": 5,
        "start_time": "2022-06-05T09:53:46.955Z"
      },
      {
        "duration": 46,
        "start_time": "2022-06-05T09:53:46.962Z"
      },
      {
        "duration": 22,
        "start_time": "2022-06-05T09:53:47.010Z"
      },
      {
        "duration": 7,
        "start_time": "2022-06-05T09:53:47.034Z"
      },
      {
        "duration": 5,
        "start_time": "2022-06-05T09:53:47.042Z"
      },
      {
        "duration": 7,
        "start_time": "2022-06-05T09:53:47.049Z"
      },
      {
        "duration": 18,
        "start_time": "2022-06-05T09:53:47.057Z"
      },
      {
        "duration": 4,
        "start_time": "2022-06-05T09:53:47.077Z"
      },
      {
        "duration": 6,
        "start_time": "2022-06-05T09:53:47.083Z"
      },
      {
        "duration": 6,
        "start_time": "2022-06-05T09:53:47.092Z"
      },
      {
        "duration": 15,
        "start_time": "2022-06-05T09:53:47.100Z"
      },
      {
        "duration": 13,
        "start_time": "2022-06-05T09:53:47.117Z"
      },
      {
        "duration": 8,
        "start_time": "2022-06-05T09:53:47.132Z"
      },
      {
        "duration": 17,
        "start_time": "2022-06-05T09:53:47.142Z"
      },
      {
        "duration": 32,
        "start_time": "2022-06-05T09:53:47.161Z"
      },
      {
        "duration": 6,
        "start_time": "2022-06-05T09:53:47.196Z"
      },
      {
        "duration": 30,
        "start_time": "2022-06-05T09:53:47.204Z"
      },
      {
        "duration": 4,
        "start_time": "2022-06-05T09:53:47.236Z"
      },
      {
        "duration": 444,
        "start_time": "2022-06-05T09:53:47.242Z"
      },
      {
        "duration": 19625,
        "start_time": "2022-06-05T09:53:47.688Z"
      },
      {
        "duration": 3505,
        "start_time": "2022-06-05T09:54:07.315Z"
      },
      {
        "duration": 3497,
        "start_time": "2022-06-05T09:54:10.821Z"
      },
      {
        "duration": 7,
        "start_time": "2022-06-05T09:54:14.319Z"
      },
      {
        "duration": 171,
        "start_time": "2022-06-05T09:54:14.327Z"
      },
      {
        "duration": 5,
        "start_time": "2022-06-05T09:54:14.500Z"
      },
      {
        "duration": 14,
        "start_time": "2022-06-05T09:54:14.507Z"
      },
      {
        "duration": 3,
        "start_time": "2022-06-05T09:54:14.523Z"
      },
      {
        "duration": 2459,
        "start_time": "2022-06-05T09:54:14.528Z"
      },
      {
        "duration": 5,
        "start_time": "2022-06-05T10:04:53.196Z"
      },
      {
        "duration": 43,
        "start_time": "2022-06-05T10:04:53.203Z"
      },
      {
        "duration": 27,
        "start_time": "2022-06-05T10:04:53.248Z"
      },
      {
        "duration": 19,
        "start_time": "2022-06-05T10:04:53.277Z"
      },
      {
        "duration": 8,
        "start_time": "2022-06-05T10:04:53.298Z"
      },
      {
        "duration": 10,
        "start_time": "2022-06-05T10:04:53.307Z"
      },
      {
        "duration": 4,
        "start_time": "2022-06-05T10:04:53.319Z"
      },
      {
        "duration": 7,
        "start_time": "2022-06-05T10:04:53.325Z"
      },
      {
        "duration": 7,
        "start_time": "2022-06-05T10:04:53.334Z"
      },
      {
        "duration": 25,
        "start_time": "2022-06-05T10:04:53.343Z"
      },
      {
        "duration": 7,
        "start_time": "2022-06-05T10:04:53.371Z"
      },
      {
        "duration": 7,
        "start_time": "2022-06-05T10:04:53.379Z"
      },
      {
        "duration": 13,
        "start_time": "2022-06-05T10:04:53.387Z"
      },
      {
        "duration": 11,
        "start_time": "2022-06-05T10:04:53.402Z"
      },
      {
        "duration": 10,
        "start_time": "2022-06-05T10:04:53.414Z"
      },
      {
        "duration": 11,
        "start_time": "2022-06-05T10:04:53.425Z"
      },
      {
        "duration": 36,
        "start_time": "2022-06-05T10:04:53.438Z"
      },
      {
        "duration": 3,
        "start_time": "2022-06-05T10:04:53.476Z"
      },
      {
        "duration": 21,
        "start_time": "2022-06-05T10:04:53.480Z"
      },
      {
        "duration": 3,
        "start_time": "2022-06-05T10:04:53.503Z"
      },
      {
        "duration": 396,
        "start_time": "2022-06-05T10:04:53.508Z"
      },
      {
        "duration": 18626,
        "start_time": "2022-06-05T10:04:53.906Z"
      },
      {
        "duration": 3446,
        "start_time": "2022-06-05T10:05:12.533Z"
      },
      {
        "duration": 3351,
        "start_time": "2022-06-05T10:05:15.981Z"
      },
      {
        "duration": 6,
        "start_time": "2022-06-05T10:05:19.334Z"
      },
      {
        "duration": 165,
        "start_time": "2022-06-05T10:05:19.341Z"
      },
      {
        "duration": 4,
        "start_time": "2022-06-05T10:05:19.508Z"
      },
      {
        "duration": 15,
        "start_time": "2022-06-05T10:05:19.513Z"
      },
      {
        "duration": 3,
        "start_time": "2022-06-05T10:05:19.529Z"
      },
      {
        "duration": 2264,
        "start_time": "2022-06-05T10:05:19.534Z"
      },
      {
        "duration": 2339,
        "start_time": "2022-06-05T10:07:49.691Z"
      },
      {
        "duration": 2300,
        "start_time": "2022-06-05T10:08:40.192Z"
      },
      {
        "duration": 11,
        "start_time": "2022-06-05T10:08:43.130Z"
      },
      {
        "duration": 3836,
        "start_time": "2022-06-05T10:08:43.400Z"
      },
      {
        "duration": 7152,
        "start_time": "2022-06-05T10:10:40.990Z"
      },
      {
        "duration": 10,
        "start_time": "2022-06-05T10:11:15.377Z"
      },
      {
        "duration": 4058,
        "start_time": "2022-06-05T10:11:16.146Z"
      },
      {
        "duration": 4,
        "start_time": "2022-06-05T10:12:16.011Z"
      },
      {
        "duration": 46,
        "start_time": "2022-06-05T10:12:16.018Z"
      },
      {
        "duration": 20,
        "start_time": "2022-06-05T10:12:16.067Z"
      },
      {
        "duration": 18,
        "start_time": "2022-06-05T10:12:16.088Z"
      },
      {
        "duration": 4,
        "start_time": "2022-06-05T10:12:16.108Z"
      },
      {
        "duration": 10,
        "start_time": "2022-06-05T10:12:16.113Z"
      },
      {
        "duration": 5,
        "start_time": "2022-06-05T10:12:16.124Z"
      },
      {
        "duration": 7,
        "start_time": "2022-06-05T10:12:16.130Z"
      },
      {
        "duration": 26,
        "start_time": "2022-06-05T10:12:16.139Z"
      },
      {
        "duration": 18,
        "start_time": "2022-06-05T10:12:16.168Z"
      },
      {
        "duration": 7,
        "start_time": "2022-06-05T10:12:16.187Z"
      },
      {
        "duration": 6,
        "start_time": "2022-06-05T10:12:16.196Z"
      },
      {
        "duration": 7,
        "start_time": "2022-06-05T10:12:16.203Z"
      },
      {
        "duration": 6,
        "start_time": "2022-06-05T10:12:16.213Z"
      },
      {
        "duration": 3,
        "start_time": "2022-06-05T10:12:16.220Z"
      },
      {
        "duration": 8,
        "start_time": "2022-06-05T10:12:16.225Z"
      },
      {
        "duration": 49,
        "start_time": "2022-06-05T10:12:16.234Z"
      },
      {
        "duration": 3,
        "start_time": "2022-06-05T10:12:16.284Z"
      },
      {
        "duration": 34,
        "start_time": "2022-06-05T10:12:16.289Z"
      },
      {
        "duration": 3,
        "start_time": "2022-06-05T10:12:16.324Z"
      },
      {
        "duration": 381,
        "start_time": "2022-06-05T10:12:16.328Z"
      },
      {
        "duration": 18535,
        "start_time": "2022-06-05T10:12:16.710Z"
      },
      {
        "duration": 3368,
        "start_time": "2022-06-05T10:12:35.246Z"
      },
      {
        "duration": 3298,
        "start_time": "2022-06-05T10:12:38.615Z"
      },
      {
        "duration": 5,
        "start_time": "2022-06-05T10:12:41.915Z"
      },
      {
        "duration": 166,
        "start_time": "2022-06-05T10:12:41.922Z"
      },
      {
        "duration": 3,
        "start_time": "2022-06-05T10:12:42.090Z"
      },
      {
        "duration": 24,
        "start_time": "2022-06-05T10:12:42.095Z"
      },
      {
        "duration": 2345,
        "start_time": "2022-06-05T10:12:42.121Z"
      },
      {
        "duration": 4107,
        "start_time": "2022-06-05T10:12:44.471Z"
      },
      {
        "duration": 2367,
        "start_time": "2022-06-05T10:15:51.216Z"
      },
      {
        "duration": 2243,
        "start_time": "2022-06-05T10:15:57.512Z"
      },
      {
        "duration": 4,
        "start_time": "2022-06-05T10:20:07.905Z"
      },
      {
        "duration": 461,
        "start_time": "2022-06-05T10:31:47.691Z"
      },
      {
        "duration": 31,
        "start_time": "2022-06-05T10:42:06.253Z"
      },
      {
        "duration": 5,
        "start_time": "2022-06-05T10:42:08.974Z"
      },
      {
        "duration": 51,
        "start_time": "2022-06-05T10:42:08.983Z"
      },
      {
        "duration": 27,
        "start_time": "2022-06-05T10:42:09.037Z"
      },
      {
        "duration": 24,
        "start_time": "2022-06-05T10:42:09.066Z"
      },
      {
        "duration": 17,
        "start_time": "2022-06-05T10:42:09.092Z"
      },
      {
        "duration": 6,
        "start_time": "2022-06-05T10:42:09.111Z"
      },
      {
        "duration": 8,
        "start_time": "2022-06-05T10:42:09.119Z"
      },
      {
        "duration": 7,
        "start_time": "2022-06-05T10:42:09.129Z"
      },
      {
        "duration": 8,
        "start_time": "2022-06-05T10:42:09.138Z"
      },
      {
        "duration": 6,
        "start_time": "2022-06-05T10:42:09.149Z"
      },
      {
        "duration": 20,
        "start_time": "2022-06-05T10:42:09.159Z"
      },
      {
        "duration": 27,
        "start_time": "2022-06-05T10:42:09.181Z"
      },
      {
        "duration": 0,
        "start_time": "2022-06-05T10:42:09.211Z"
      },
      {
        "duration": 0,
        "start_time": "2022-06-05T10:42:09.212Z"
      },
      {
        "duration": 0,
        "start_time": "2022-06-05T10:42:09.214Z"
      },
      {
        "duration": 0,
        "start_time": "2022-06-05T10:42:09.216Z"
      },
      {
        "duration": 0,
        "start_time": "2022-06-05T10:42:09.217Z"
      },
      {
        "duration": 0,
        "start_time": "2022-06-05T10:42:09.219Z"
      },
      {
        "duration": 0,
        "start_time": "2022-06-05T10:42:09.220Z"
      },
      {
        "duration": 0,
        "start_time": "2022-06-05T10:42:09.221Z"
      },
      {
        "duration": 0,
        "start_time": "2022-06-05T10:42:09.222Z"
      },
      {
        "duration": 0,
        "start_time": "2022-06-05T10:42:09.223Z"
      },
      {
        "duration": 0,
        "start_time": "2022-06-05T10:42:09.225Z"
      },
      {
        "duration": 0,
        "start_time": "2022-06-05T10:42:09.226Z"
      },
      {
        "duration": 0,
        "start_time": "2022-06-05T10:42:09.227Z"
      },
      {
        "duration": 0,
        "start_time": "2022-06-05T10:42:09.228Z"
      },
      {
        "duration": 0,
        "start_time": "2022-06-05T10:42:09.229Z"
      },
      {
        "duration": 0,
        "start_time": "2022-06-05T10:42:09.230Z"
      },
      {
        "duration": 0,
        "start_time": "2022-06-05T10:42:09.260Z"
      },
      {
        "duration": 0,
        "start_time": "2022-06-05T10:42:09.262Z"
      },
      {
        "duration": 0,
        "start_time": "2022-06-05T10:42:09.264Z"
      },
      {
        "duration": 0,
        "start_time": "2022-06-05T10:42:09.265Z"
      },
      {
        "duration": 4,
        "start_time": "2022-06-05T10:42:15.107Z"
      },
      {
        "duration": 44,
        "start_time": "2022-06-05T10:42:15.115Z"
      },
      {
        "duration": 24,
        "start_time": "2022-06-05T10:42:15.162Z"
      },
      {
        "duration": 10,
        "start_time": "2022-06-05T10:42:15.188Z"
      },
      {
        "duration": 2,
        "start_time": "2022-06-05T10:42:15.201Z"
      },
      {
        "duration": 7,
        "start_time": "2022-06-05T10:42:15.205Z"
      },
      {
        "duration": 5,
        "start_time": "2022-06-05T10:42:15.213Z"
      },
      {
        "duration": 10,
        "start_time": "2022-06-05T10:42:15.220Z"
      },
      {
        "duration": 10,
        "start_time": "2022-06-05T10:42:15.232Z"
      },
      {
        "duration": 21,
        "start_time": "2022-06-05T10:42:15.259Z"
      },
      {
        "duration": 4,
        "start_time": "2022-06-05T10:42:15.284Z"
      },
      {
        "duration": 22,
        "start_time": "2022-06-05T10:42:15.290Z"
      },
      {
        "duration": 0,
        "start_time": "2022-06-05T10:42:15.314Z"
      },
      {
        "duration": 0,
        "start_time": "2022-06-05T10:42:15.316Z"
      },
      {
        "duration": 0,
        "start_time": "2022-06-05T10:42:15.317Z"
      },
      {
        "duration": 0,
        "start_time": "2022-06-05T10:42:15.318Z"
      },
      {
        "duration": 0,
        "start_time": "2022-06-05T10:42:15.320Z"
      },
      {
        "duration": 0,
        "start_time": "2022-06-05T10:42:15.321Z"
      },
      {
        "duration": 0,
        "start_time": "2022-06-05T10:42:15.323Z"
      },
      {
        "duration": 0,
        "start_time": "2022-06-05T10:42:15.324Z"
      },
      {
        "duration": 0,
        "start_time": "2022-06-05T10:42:15.325Z"
      },
      {
        "duration": 0,
        "start_time": "2022-06-05T10:42:15.326Z"
      },
      {
        "duration": 0,
        "start_time": "2022-06-05T10:42:15.327Z"
      },
      {
        "duration": 0,
        "start_time": "2022-06-05T10:42:15.328Z"
      },
      {
        "duration": 0,
        "start_time": "2022-06-05T10:42:15.329Z"
      },
      {
        "duration": 0,
        "start_time": "2022-06-05T10:42:15.330Z"
      },
      {
        "duration": 0,
        "start_time": "2022-06-05T10:42:15.331Z"
      },
      {
        "duration": 0,
        "start_time": "2022-06-05T10:42:15.332Z"
      },
      {
        "duration": 0,
        "start_time": "2022-06-05T10:42:15.333Z"
      },
      {
        "duration": 0,
        "start_time": "2022-06-05T10:42:15.360Z"
      },
      {
        "duration": 0,
        "start_time": "2022-06-05T10:42:15.361Z"
      },
      {
        "duration": 0,
        "start_time": "2022-06-05T10:42:15.363Z"
      },
      {
        "duration": 4,
        "start_time": "2022-06-05T10:42:26.950Z"
      },
      {
        "duration": 65,
        "start_time": "2022-06-05T10:42:26.955Z"
      },
      {
        "duration": 18,
        "start_time": "2022-06-05T10:42:27.021Z"
      },
      {
        "duration": 12,
        "start_time": "2022-06-05T10:42:27.040Z"
      },
      {
        "duration": 2,
        "start_time": "2022-06-05T10:42:27.054Z"
      },
      {
        "duration": 22,
        "start_time": "2022-06-05T10:42:27.058Z"
      },
      {
        "duration": 4,
        "start_time": "2022-06-05T10:42:27.082Z"
      },
      {
        "duration": 8,
        "start_time": "2022-06-05T10:42:27.087Z"
      },
      {
        "duration": 8,
        "start_time": "2022-06-05T10:42:27.096Z"
      },
      {
        "duration": 9,
        "start_time": "2022-06-05T10:42:27.105Z"
      },
      {
        "duration": 8,
        "start_time": "2022-06-05T10:42:27.116Z"
      },
      {
        "duration": 33,
        "start_time": "2022-06-05T10:42:27.125Z"
      },
      {
        "duration": 0,
        "start_time": "2022-06-05T10:42:27.162Z"
      },
      {
        "duration": 0,
        "start_time": "2022-06-05T10:42:27.165Z"
      },
      {
        "duration": 0,
        "start_time": "2022-06-05T10:42:27.166Z"
      },
      {
        "duration": 0,
        "start_time": "2022-06-05T10:42:27.168Z"
      },
      {
        "duration": 0,
        "start_time": "2022-06-05T10:42:27.169Z"
      },
      {
        "duration": 0,
        "start_time": "2022-06-05T10:42:27.171Z"
      },
      {
        "duration": 0,
        "start_time": "2022-06-05T10:42:27.172Z"
      },
      {
        "duration": 0,
        "start_time": "2022-06-05T10:42:27.173Z"
      },
      {
        "duration": 0,
        "start_time": "2022-06-05T10:42:27.174Z"
      },
      {
        "duration": 0,
        "start_time": "2022-06-05T10:42:27.176Z"
      },
      {
        "duration": 0,
        "start_time": "2022-06-05T10:42:27.177Z"
      },
      {
        "duration": 0,
        "start_time": "2022-06-05T10:42:27.179Z"
      },
      {
        "duration": 0,
        "start_time": "2022-06-05T10:42:27.180Z"
      },
      {
        "duration": 0,
        "start_time": "2022-06-05T10:42:27.183Z"
      },
      {
        "duration": 0,
        "start_time": "2022-06-05T10:42:27.185Z"
      },
      {
        "duration": 0,
        "start_time": "2022-06-05T10:42:27.185Z"
      },
      {
        "duration": 0,
        "start_time": "2022-06-05T10:42:27.187Z"
      },
      {
        "duration": 0,
        "start_time": "2022-06-05T10:42:27.188Z"
      },
      {
        "duration": 0,
        "start_time": "2022-06-05T10:42:27.189Z"
      },
      {
        "duration": 0,
        "start_time": "2022-06-05T10:42:27.191Z"
      },
      {
        "duration": 5,
        "start_time": "2022-06-05T10:42:46.640Z"
      },
      {
        "duration": 51,
        "start_time": "2022-06-05T10:42:46.647Z"
      },
      {
        "duration": 19,
        "start_time": "2022-06-05T10:42:46.699Z"
      },
      {
        "duration": 11,
        "start_time": "2022-06-05T10:42:46.720Z"
      },
      {
        "duration": 4,
        "start_time": "2022-06-05T10:42:46.733Z"
      },
      {
        "duration": 7,
        "start_time": "2022-06-05T10:42:46.739Z"
      },
      {
        "duration": 6,
        "start_time": "2022-06-05T10:42:46.748Z"
      },
      {
        "duration": 17,
        "start_time": "2022-06-05T10:42:46.759Z"
      },
      {
        "duration": 19,
        "start_time": "2022-06-05T10:42:46.778Z"
      },
      {
        "duration": 7,
        "start_time": "2022-06-05T10:42:46.800Z"
      },
      {
        "duration": 10,
        "start_time": "2022-06-05T10:42:46.808Z"
      },
      {
        "duration": 37,
        "start_time": "2022-06-05T10:42:46.819Z"
      },
      {
        "duration": 7,
        "start_time": "2022-06-05T10:42:46.857Z"
      },
      {
        "duration": 21,
        "start_time": "2022-06-05T10:42:46.866Z"
      },
      {
        "duration": 6,
        "start_time": "2022-06-05T10:42:46.889Z"
      },
      {
        "duration": 6,
        "start_time": "2022-06-05T10:42:46.896Z"
      },
      {
        "duration": 8,
        "start_time": "2022-06-05T10:42:46.903Z"
      },
      {
        "duration": 16,
        "start_time": "2022-06-05T10:42:46.912Z"
      },
      {
        "duration": 13,
        "start_time": "2022-06-05T10:42:46.930Z"
      },
      {
        "duration": 16,
        "start_time": "2022-06-05T10:42:46.945Z"
      },
      {
        "duration": 39,
        "start_time": "2022-06-05T10:42:46.963Z"
      },
      {
        "duration": 3,
        "start_time": "2022-06-05T10:42:47.003Z"
      },
      {
        "duration": 465,
        "start_time": "2022-06-05T10:42:47.008Z"
      },
      {
        "duration": 20227,
        "start_time": "2022-06-05T10:42:47.475Z"
      },
      {
        "duration": 3618,
        "start_time": "2022-06-05T10:43:07.703Z"
      },
      {
        "duration": 3682,
        "start_time": "2022-06-05T10:43:11.323Z"
      },
      {
        "duration": 7,
        "start_time": "2022-06-05T10:43:15.007Z"
      },
      {
        "duration": 188,
        "start_time": "2022-06-05T10:43:15.018Z"
      },
      {
        "duration": 5,
        "start_time": "2022-06-05T10:43:15.208Z"
      },
      {
        "duration": 11,
        "start_time": "2022-06-05T10:43:15.215Z"
      },
      {
        "duration": 2540,
        "start_time": "2022-06-05T10:43:15.228Z"
      },
      {
        "duration": 354,
        "start_time": "2022-06-05T10:43:17.770Z"
      },
      {
        "duration": 6,
        "start_time": "2022-06-05T10:47:50.871Z"
      },
      {
        "duration": 6,
        "start_time": "2022-06-05T10:47:51.455Z"
      },
      {
        "duration": 4,
        "start_time": "2022-06-05T10:47:51.746Z"
      },
      {
        "duration": 5,
        "start_time": "2022-06-05T10:48:01.890Z"
      },
      {
        "duration": 72,
        "start_time": "2022-06-05T10:48:01.898Z"
      },
      {
        "duration": 24,
        "start_time": "2022-06-05T10:48:01.972Z"
      },
      {
        "duration": 20,
        "start_time": "2022-06-05T10:48:01.998Z"
      },
      {
        "duration": 22,
        "start_time": "2022-06-05T10:48:02.021Z"
      },
      {
        "duration": 7,
        "start_time": "2022-06-05T10:48:02.045Z"
      },
      {
        "duration": 22,
        "start_time": "2022-06-05T10:48:02.053Z"
      },
      {
        "duration": 14,
        "start_time": "2022-06-05T10:48:02.077Z"
      },
      {
        "duration": 8,
        "start_time": "2022-06-05T10:48:02.092Z"
      },
      {
        "duration": 7,
        "start_time": "2022-06-05T10:48:02.101Z"
      },
      {
        "duration": 18,
        "start_time": "2022-06-05T10:48:02.109Z"
      },
      {
        "duration": 47,
        "start_time": "2022-06-05T10:48:02.129Z"
      },
      {
        "duration": 5,
        "start_time": "2022-06-05T10:48:02.178Z"
      },
      {
        "duration": 32,
        "start_time": "2022-06-05T10:48:02.186Z"
      },
      {
        "duration": 23,
        "start_time": "2022-06-05T10:48:02.220Z"
      },
      {
        "duration": 11,
        "start_time": "2022-06-05T10:48:02.246Z"
      },
      {
        "duration": 20,
        "start_time": "2022-06-05T10:48:02.259Z"
      },
      {
        "duration": 19,
        "start_time": "2022-06-05T10:48:02.280Z"
      },
      {
        "duration": 15,
        "start_time": "2022-06-05T10:48:02.301Z"
      },
      {
        "duration": 4,
        "start_time": "2022-06-05T10:48:02.317Z"
      },
      {
        "duration": 77,
        "start_time": "2022-06-05T10:48:02.323Z"
      },
      {
        "duration": 3,
        "start_time": "2022-06-05T10:48:02.402Z"
      },
      {
        "duration": 1179,
        "start_time": "2022-06-05T10:48:02.406Z"
      },
      {
        "duration": 57099,
        "start_time": "2022-06-05T10:48:03.588Z"
      },
      {
        "duration": 10284,
        "start_time": "2022-06-05T10:49:00.689Z"
      },
      {
        "duration": 10202,
        "start_time": "2022-06-05T10:49:10.975Z"
      },
      {
        "duration": 4,
        "start_time": "2022-06-05T10:49:21.179Z"
      },
      {
        "duration": 161,
        "start_time": "2022-06-05T10:49:21.184Z"
      },
      {
        "duration": 4,
        "start_time": "2022-06-05T10:49:21.347Z"
      },
      {
        "duration": 25,
        "start_time": "2022-06-05T10:49:21.360Z"
      },
      {
        "duration": 7916,
        "start_time": "2022-06-05T10:49:21.386Z"
      },
      {
        "duration": 225,
        "start_time": "2022-06-05T10:49:29.304Z"
      },
      {
        "duration": 8,
        "start_time": "2022-06-05T10:58:55.379Z"
      },
      {
        "duration": 6,
        "start_time": "2022-06-05T10:58:56.319Z"
      },
      {
        "duration": 8,
        "start_time": "2022-06-05T10:58:56.681Z"
      },
      {
        "duration": 5,
        "start_time": "2022-06-05T10:59:09.989Z"
      },
      {
        "duration": 55,
        "start_time": "2022-06-05T10:59:09.996Z"
      },
      {
        "duration": 30,
        "start_time": "2022-06-05T10:59:10.053Z"
      },
      {
        "duration": 15,
        "start_time": "2022-06-05T10:59:10.085Z"
      },
      {
        "duration": 4,
        "start_time": "2022-06-05T10:59:10.101Z"
      },
      {
        "duration": 6,
        "start_time": "2022-06-05T10:59:10.107Z"
      },
      {
        "duration": 6,
        "start_time": "2022-06-05T10:59:10.114Z"
      },
      {
        "duration": 5,
        "start_time": "2022-06-05T10:59:10.121Z"
      },
      {
        "duration": 32,
        "start_time": "2022-06-05T10:59:10.127Z"
      },
      {
        "duration": 19,
        "start_time": "2022-06-05T10:59:10.163Z"
      },
      {
        "duration": 5,
        "start_time": "2022-06-05T10:59:10.184Z"
      },
      {
        "duration": 55,
        "start_time": "2022-06-05T10:59:10.191Z"
      },
      {
        "duration": 4,
        "start_time": "2022-06-05T10:59:10.248Z"
      },
      {
        "duration": 30,
        "start_time": "2022-06-05T10:59:10.253Z"
      },
      {
        "duration": 8,
        "start_time": "2022-06-05T10:59:10.285Z"
      },
      {
        "duration": 9,
        "start_time": "2022-06-05T10:59:10.295Z"
      },
      {
        "duration": 7,
        "start_time": "2022-06-05T10:59:10.306Z"
      },
      {
        "duration": 27,
        "start_time": "2022-06-05T10:59:10.314Z"
      },
      {
        "duration": 12,
        "start_time": "2022-06-05T10:59:10.343Z"
      },
      {
        "duration": 20,
        "start_time": "2022-06-05T10:59:10.356Z"
      },
      {
        "duration": 59,
        "start_time": "2022-06-05T10:59:10.378Z"
      },
      {
        "duration": 4,
        "start_time": "2022-06-05T10:59:10.439Z"
      },
      {
        "duration": 1074,
        "start_time": "2022-06-05T10:59:10.445Z"
      },
      {
        "duration": 49061,
        "start_time": "2022-06-05T10:59:11.521Z"
      },
      {
        "duration": 9243,
        "start_time": "2022-06-05T11:00:00.585Z"
      },
      {
        "duration": 9267,
        "start_time": "2022-06-05T11:00:09.829Z"
      },
      {
        "duration": 6,
        "start_time": "2022-06-05T11:00:19.098Z"
      },
      {
        "duration": 199,
        "start_time": "2022-06-05T11:00:19.107Z"
      },
      {
        "duration": 4,
        "start_time": "2022-06-05T11:00:19.308Z"
      },
      {
        "duration": 15,
        "start_time": "2022-06-05T11:00:19.313Z"
      },
      {
        "duration": 7055,
        "start_time": "2022-06-05T11:00:19.329Z"
      },
      {
        "duration": 319,
        "start_time": "2022-06-05T11:00:26.387Z"
      },
      {
        "duration": 8,
        "start_time": "2022-06-05T11:05:47.241Z"
      },
      {
        "duration": 5,
        "start_time": "2022-06-05T11:06:17.379Z"
      },
      {
        "duration": 62,
        "start_time": "2022-06-05T11:06:17.387Z"
      },
      {
        "duration": 27,
        "start_time": "2022-06-05T11:06:17.451Z"
      },
      {
        "duration": 31,
        "start_time": "2022-06-05T11:06:17.482Z"
      },
      {
        "duration": 9,
        "start_time": "2022-06-05T11:06:17.517Z"
      },
      {
        "duration": 17,
        "start_time": "2022-06-05T11:06:17.528Z"
      },
      {
        "duration": 31,
        "start_time": "2022-06-05T11:06:17.547Z"
      },
      {
        "duration": 13,
        "start_time": "2022-06-05T11:06:17.581Z"
      },
      {
        "duration": 5,
        "start_time": "2022-06-05T11:06:17.596Z"
      },
      {
        "duration": 7,
        "start_time": "2022-06-05T11:06:17.602Z"
      },
      {
        "duration": 10,
        "start_time": "2022-06-05T11:06:17.611Z"
      },
      {
        "duration": 40,
        "start_time": "2022-06-05T11:06:17.623Z"
      },
      {
        "duration": 6,
        "start_time": "2022-06-05T11:06:17.666Z"
      },
      {
        "duration": 11,
        "start_time": "2022-06-05T11:06:17.675Z"
      },
      {
        "duration": 7,
        "start_time": "2022-06-05T11:06:17.688Z"
      },
      {
        "duration": 6,
        "start_time": "2022-06-05T11:06:17.696Z"
      },
      {
        "duration": 6,
        "start_time": "2022-06-05T11:06:17.703Z"
      },
      {
        "duration": 13,
        "start_time": "2022-06-05T11:06:17.711Z"
      },
      {
        "duration": 37,
        "start_time": "2022-06-05T11:06:17.725Z"
      },
      {
        "duration": 5,
        "start_time": "2022-06-05T11:06:17.765Z"
      },
      {
        "duration": 65,
        "start_time": "2022-06-05T11:06:17.772Z"
      },
      {
        "duration": 3,
        "start_time": "2022-06-05T11:06:17.839Z"
      },
      {
        "duration": 1158,
        "start_time": "2022-06-05T11:06:17.844Z"
      },
      {
        "duration": 58212,
        "start_time": "2022-06-05T11:06:19.004Z"
      },
      {
        "duration": 10675,
        "start_time": "2022-06-05T11:07:17.219Z"
      },
      {
        "duration": 10771,
        "start_time": "2022-06-05T11:07:27.896Z"
      },
      {
        "duration": 6,
        "start_time": "2022-06-05T11:07:38.669Z"
      },
      {
        "duration": 169,
        "start_time": "2022-06-05T11:07:38.678Z"
      },
      {
        "duration": 13,
        "start_time": "2022-06-05T11:07:38.849Z"
      },
      {
        "duration": 12,
        "start_time": "2022-06-05T11:07:38.866Z"
      },
      {
        "duration": 7932,
        "start_time": "2022-06-05T11:07:38.880Z"
      },
      {
        "duration": 10,
        "start_time": "2022-06-05T11:07:46.814Z"
      },
      {
        "duration": 7923,
        "start_time": "2022-06-05T11:07:46.825Z"
      },
      {
        "duration": 8325,
        "start_time": "2022-06-05T11:09:08.201Z"
      },
      {
        "duration": 8913,
        "start_time": "2022-06-05T11:09:30.153Z"
      },
      {
        "duration": 8650,
        "start_time": "2022-06-05T11:09:56.223Z"
      },
      {
        "duration": 9687,
        "start_time": "2022-06-05T11:10:09.688Z"
      },
      {
        "duration": 6,
        "start_time": "2022-06-05T11:11:40.159Z"
      },
      {
        "duration": 59,
        "start_time": "2022-06-05T11:11:40.183Z"
      },
      {
        "duration": 29,
        "start_time": "2022-06-05T11:11:40.245Z"
      },
      {
        "duration": 39,
        "start_time": "2022-06-05T11:11:40.276Z"
      },
      {
        "duration": 22,
        "start_time": "2022-06-05T11:11:40.317Z"
      },
      {
        "duration": 43,
        "start_time": "2022-06-05T11:11:40.342Z"
      },
      {
        "duration": 17,
        "start_time": "2022-06-05T11:11:40.388Z"
      },
      {
        "duration": 15,
        "start_time": "2022-06-05T11:11:40.407Z"
      },
      {
        "duration": 21,
        "start_time": "2022-06-05T11:11:40.424Z"
      },
      {
        "duration": 12,
        "start_time": "2022-06-05T11:11:40.447Z"
      },
      {
        "duration": 32,
        "start_time": "2022-06-05T11:11:40.461Z"
      },
      {
        "duration": 62,
        "start_time": "2022-06-05T11:11:40.495Z"
      },
      {
        "duration": 6,
        "start_time": "2022-06-05T11:11:40.559Z"
      },
      {
        "duration": 33,
        "start_time": "2022-06-05T11:11:40.567Z"
      },
      {
        "duration": 9,
        "start_time": "2022-06-05T11:11:40.604Z"
      },
      {
        "duration": 11,
        "start_time": "2022-06-05T11:11:40.615Z"
      },
      {
        "duration": 10,
        "start_time": "2022-06-05T11:11:40.628Z"
      },
      {
        "duration": 14,
        "start_time": "2022-06-05T11:11:40.640Z"
      },
      {
        "duration": 39,
        "start_time": "2022-06-05T11:11:40.655Z"
      },
      {
        "duration": 4,
        "start_time": "2022-06-05T11:11:40.696Z"
      },
      {
        "duration": 68,
        "start_time": "2022-06-05T11:11:40.702Z"
      },
      {
        "duration": 4,
        "start_time": "2022-06-05T11:11:40.772Z"
      },
      {
        "duration": 1068,
        "start_time": "2022-06-05T11:11:40.778Z"
      },
      {
        "duration": 50438,
        "start_time": "2022-06-05T11:11:41.848Z"
      },
      {
        "duration": 8863,
        "start_time": "2022-06-05T11:12:32.288Z"
      },
      {
        "duration": 9701,
        "start_time": "2022-06-05T11:12:41.153Z"
      },
      {
        "duration": 10,
        "start_time": "2022-06-05T11:12:50.856Z"
      },
      {
        "duration": 180,
        "start_time": "2022-06-05T11:12:50.868Z"
      },
      {
        "duration": 10,
        "start_time": "2022-06-05T11:12:51.050Z"
      },
      {
        "duration": 34,
        "start_time": "2022-06-05T11:12:51.062Z"
      },
      {
        "duration": 7028,
        "start_time": "2022-06-05T11:12:51.098Z"
      },
      {
        "duration": 11,
        "start_time": "2022-06-05T11:12:58.129Z"
      },
      {
        "duration": 6757,
        "start_time": "2022-06-05T11:12:58.143Z"
      },
      {
        "duration": 71,
        "start_time": "2022-06-05T11:16:37.690Z"
      },
      {
        "duration": 68,
        "start_time": "2022-06-05T11:17:05.298Z"
      },
      {
        "duration": 23,
        "start_time": "2022-06-05T11:17:13.008Z"
      },
      {
        "duration": 112,
        "start_time": "2022-06-05T11:17:13.037Z"
      },
      {
        "duration": 29,
        "start_time": "2022-06-05T11:17:13.152Z"
      },
      {
        "duration": 37,
        "start_time": "2022-06-05T11:17:13.184Z"
      },
      {
        "duration": 7,
        "start_time": "2022-06-05T11:17:13.224Z"
      },
      {
        "duration": 7,
        "start_time": "2022-06-05T11:17:13.233Z"
      },
      {
        "duration": 10,
        "start_time": "2022-06-05T11:17:13.242Z"
      },
      {
        "duration": 36,
        "start_time": "2022-06-05T11:17:13.254Z"
      },
      {
        "duration": 14,
        "start_time": "2022-06-05T11:17:13.293Z"
      },
      {
        "duration": 23,
        "start_time": "2022-06-05T11:17:13.309Z"
      },
      {
        "duration": 13,
        "start_time": "2022-06-05T11:17:13.334Z"
      },
      {
        "duration": 100,
        "start_time": "2022-06-05T11:17:13.350Z"
      },
      {
        "duration": 5,
        "start_time": "2022-06-05T11:17:13.453Z"
      },
      {
        "duration": 43,
        "start_time": "2022-06-05T11:17:13.462Z"
      },
      {
        "duration": 25,
        "start_time": "2022-06-05T11:17:13.509Z"
      },
      {
        "duration": 10,
        "start_time": "2022-06-05T11:17:13.536Z"
      },
      {
        "duration": 12,
        "start_time": "2022-06-05T11:17:13.549Z"
      },
      {
        "duration": 59,
        "start_time": "2022-06-05T11:17:13.563Z"
      },
      {
        "duration": 22,
        "start_time": "2022-06-05T11:17:13.625Z"
      },
      {
        "duration": 109,
        "start_time": "2022-06-05T11:17:13.649Z"
      },
      {
        "duration": 96,
        "start_time": "2022-06-05T11:17:13.765Z"
      },
      {
        "duration": 115,
        "start_time": "2022-06-05T11:17:13.866Z"
      },
      {
        "duration": 4,
        "start_time": "2022-06-05T11:17:13.983Z"
      },
      {
        "duration": 1208,
        "start_time": "2022-06-05T11:17:13.989Z"
      },
      {
        "duration": 51821,
        "start_time": "2022-06-05T11:17:15.200Z"
      },
      {
        "duration": 8966,
        "start_time": "2022-06-05T11:18:07.023Z"
      },
      {
        "duration": 8723,
        "start_time": "2022-06-05T11:18:15.990Z"
      },
      {
        "duration": 6,
        "start_time": "2022-06-05T11:18:24.714Z"
      },
      {
        "duration": 191,
        "start_time": "2022-06-05T11:18:24.721Z"
      },
      {
        "duration": 5,
        "start_time": "2022-06-05T11:18:24.913Z"
      },
      {
        "duration": 12,
        "start_time": "2022-06-05T11:18:24.920Z"
      },
      {
        "duration": 6554,
        "start_time": "2022-06-05T11:18:24.934Z"
      },
      {
        "duration": 8,
        "start_time": "2022-06-05T11:18:31.490Z"
      },
      {
        "duration": 6815,
        "start_time": "2022-06-05T11:18:31.499Z"
      },
      {
        "duration": 53,
        "start_time": "2022-06-05T11:22:32.833Z"
      },
      {
        "duration": 41,
        "start_time": "2022-06-05T11:22:38.796Z"
      },
      {
        "duration": 57,
        "start_time": "2022-06-05T11:23:43.133Z"
      },
      {
        "duration": 62,
        "start_time": "2022-06-05T11:23:55.186Z"
      },
      {
        "duration": 52,
        "start_time": "2022-06-05T11:24:21.533Z"
      },
      {
        "duration": 55,
        "start_time": "2022-06-05T11:24:33.420Z"
      },
      {
        "duration": 999,
        "start_time": "2022-06-05T11:24:50.748Z"
      },
      {
        "duration": 1030,
        "start_time": "2022-06-05T11:25:02.199Z"
      },
      {
        "duration": 62,
        "start_time": "2022-06-05T11:26:07.257Z"
      },
      {
        "duration": 65,
        "start_time": "2022-06-05T11:26:08.257Z"
      },
      {
        "duration": 995,
        "start_time": "2022-06-05T11:26:08.960Z"
      },
      {
        "duration": 78,
        "start_time": "2022-06-05T11:27:52.392Z"
      },
      {
        "duration": 4,
        "start_time": "2022-06-05T11:28:02.722Z"
      },
      {
        "duration": 83,
        "start_time": "2022-06-05T11:28:02.728Z"
      },
      {
        "duration": 18,
        "start_time": "2022-06-05T11:28:02.813Z"
      },
      {
        "duration": 20,
        "start_time": "2022-06-05T11:28:02.833Z"
      },
      {
        "duration": 49,
        "start_time": "2022-06-05T11:28:02.856Z"
      },
      {
        "duration": 21,
        "start_time": "2022-06-05T11:28:02.907Z"
      },
      {
        "duration": 78,
        "start_time": "2022-06-05T11:28:02.930Z"
      },
      {
        "duration": 36,
        "start_time": "2022-06-05T11:28:03.010Z"
      },
      {
        "duration": 59,
        "start_time": "2022-06-05T11:28:03.048Z"
      },
      {
        "duration": 30,
        "start_time": "2022-06-05T11:28:03.112Z"
      },
      {
        "duration": 65,
        "start_time": "2022-06-05T11:28:03.144Z"
      },
      {
        "duration": 87,
        "start_time": "2022-06-05T11:28:03.212Z"
      },
      {
        "duration": 8,
        "start_time": "2022-06-05T11:28:03.301Z"
      },
      {
        "duration": 40,
        "start_time": "2022-06-05T11:28:03.313Z"
      },
      {
        "duration": 50,
        "start_time": "2022-06-05T11:28:03.355Z"
      },
      {
        "duration": 27,
        "start_time": "2022-06-05T11:28:03.407Z"
      },
      {
        "duration": 21,
        "start_time": "2022-06-05T11:28:03.436Z"
      },
      {
        "duration": 47,
        "start_time": "2022-06-05T11:28:03.460Z"
      },
      {
        "duration": 30,
        "start_time": "2022-06-05T11:28:03.508Z"
      },
      {
        "duration": 120,
        "start_time": "2022-06-05T11:28:03.540Z"
      },
      {
        "duration": 149,
        "start_time": "2022-06-05T11:28:03.661Z"
      },
      {
        "duration": 1062,
        "start_time": "2022-06-05T11:28:03.811Z"
      },
      {
        "duration": 49739,
        "start_time": "2022-06-05T11:28:04.874Z"
      },
      {
        "duration": 9027,
        "start_time": "2022-06-05T11:28:54.616Z"
      },
      {
        "duration": 8625,
        "start_time": "2022-06-05T11:29:03.646Z"
      },
      {
        "duration": 8,
        "start_time": "2022-06-05T11:29:12.273Z"
      },
      {
        "duration": 338,
        "start_time": "2022-06-05T11:29:12.284Z"
      },
      {
        "duration": 4,
        "start_time": "2022-06-05T11:29:12.624Z"
      },
      {
        "duration": 21,
        "start_time": "2022-06-05T11:29:12.630Z"
      },
      {
        "duration": 214,
        "start_time": "2022-06-05T11:29:12.653Z"
      },
      {
        "duration": 6543,
        "start_time": "2022-06-05T11:29:12.869Z"
      },
      {
        "duration": 8,
        "start_time": "2022-06-05T11:29:19.414Z"
      },
      {
        "duration": 6608,
        "start_time": "2022-06-05T11:29:19.424Z"
      },
      {
        "duration": 222,
        "start_time": "2022-06-05T11:31:06.644Z"
      },
      {
        "duration": 169,
        "start_time": "2022-06-05T11:31:18.702Z"
      },
      {
        "duration": 235,
        "start_time": "2022-06-05T11:32:10.929Z"
      },
      {
        "duration": 14,
        "start_time": "2022-06-05T11:34:05.929Z"
      },
      {
        "duration": 135,
        "start_time": "2022-06-05T11:34:51.250Z"
      },
      {
        "duration": 6765,
        "start_time": "2022-06-05T11:36:27.686Z"
      },
      {
        "duration": 5036,
        "start_time": "2022-06-05T11:45:31.008Z"
      },
      {
        "duration": 5083,
        "start_time": "2022-06-05T11:45:40.783Z"
      },
      {
        "duration": 80,
        "start_time": "2022-06-05T11:48:53.883Z"
      },
      {
        "duration": 127,
        "start_time": "2022-06-05T11:48:56.052Z"
      },
      {
        "duration": 1101,
        "start_time": "2022-06-05T11:50:02.183Z"
      },
      {
        "duration": 66,
        "start_time": "2022-06-05T11:50:07.520Z"
      },
      {
        "duration": 1266,
        "start_time": "2022-06-05T11:51:01.084Z"
      },
      {
        "duration": 64,
        "start_time": "2022-06-05T11:51:11.109Z"
      },
      {
        "duration": 88,
        "start_time": "2022-06-05T11:51:54.072Z"
      },
      {
        "duration": 5031,
        "start_time": "2022-06-05T11:53:13.984Z"
      },
      {
        "duration": 4984,
        "start_time": "2022-06-05T11:53:19.017Z"
      },
      {
        "duration": 8,
        "start_time": "2022-06-05T11:54:44.525Z"
      },
      {
        "duration": 85,
        "start_time": "2022-06-05T11:54:44.803Z"
      },
      {
        "duration": 7292,
        "start_time": "2022-06-05T11:54:45.512Z"
      },
      {
        "duration": 16,
        "start_time": "2022-06-05T11:54:52.809Z"
      },
      {
        "duration": 6975,
        "start_time": "2022-06-05T11:54:52.827Z"
      },
      {
        "duration": 6,
        "start_time": "2022-06-05T11:55:47.848Z"
      },
      {
        "duration": 89,
        "start_time": "2022-06-05T11:55:47.857Z"
      },
      {
        "duration": 32,
        "start_time": "2022-06-05T11:55:47.948Z"
      },
      {
        "duration": 33,
        "start_time": "2022-06-05T11:55:47.983Z"
      },
      {
        "duration": 5,
        "start_time": "2022-06-05T11:55:48.020Z"
      },
      {
        "duration": 10,
        "start_time": "2022-06-05T11:55:48.028Z"
      },
      {
        "duration": 13,
        "start_time": "2022-06-05T11:55:48.040Z"
      },
      {
        "duration": 41,
        "start_time": "2022-06-05T11:55:48.055Z"
      },
      {
        "duration": 9,
        "start_time": "2022-06-05T11:55:48.098Z"
      },
      {
        "duration": 9,
        "start_time": "2022-06-05T11:55:48.108Z"
      },
      {
        "duration": 5,
        "start_time": "2022-06-05T11:55:48.119Z"
      },
      {
        "duration": 46,
        "start_time": "2022-06-05T11:55:48.126Z"
      },
      {
        "duration": 11,
        "start_time": "2022-06-05T11:55:48.176Z"
      },
      {
        "duration": 17,
        "start_time": "2022-06-05T11:55:48.191Z"
      },
      {
        "duration": 6,
        "start_time": "2022-06-05T11:55:48.210Z"
      },
      {
        "duration": 9,
        "start_time": "2022-06-05T11:55:48.218Z"
      },
      {
        "duration": 5,
        "start_time": "2022-06-05T11:55:48.229Z"
      },
      {
        "duration": 14,
        "start_time": "2022-06-05T11:55:48.236Z"
      },
      {
        "duration": 24,
        "start_time": "2022-06-05T11:55:48.251Z"
      },
      {
        "duration": 228,
        "start_time": "2022-06-05T11:55:48.277Z"
      },
      {
        "duration": 141,
        "start_time": "2022-06-05T11:55:48.507Z"
      },
      {
        "duration": 1395,
        "start_time": "2022-06-05T11:55:48.650Z"
      },
      {
        "duration": 65260,
        "start_time": "2022-06-05T11:55:50.047Z"
      },
      {
        "duration": 6509,
        "start_time": "2022-06-05T11:56:55.309Z"
      },
      {
        "duration": 6716,
        "start_time": "2022-06-05T11:57:01.822Z"
      },
      {
        "duration": 5,
        "start_time": "2022-06-05T11:57:08.540Z"
      },
      {
        "duration": 220,
        "start_time": "2022-06-05T11:57:08.547Z"
      },
      {
        "duration": 5,
        "start_time": "2022-06-05T11:57:08.776Z"
      },
      {
        "duration": 28,
        "start_time": "2022-06-05T11:57:08.783Z"
      },
      {
        "duration": 168,
        "start_time": "2022-06-05T11:57:08.813Z"
      },
      {
        "duration": 9333,
        "start_time": "2022-06-05T11:57:08.983Z"
      },
      {
        "duration": 10,
        "start_time": "2022-06-05T11:57:18.318Z"
      },
      {
        "duration": 9046,
        "start_time": "2022-06-05T11:57:18.329Z"
      },
      {
        "duration": 8945,
        "start_time": "2022-06-05T11:58:31.453Z"
      },
      {
        "duration": 11,
        "start_time": "2022-06-05T12:11:48.884Z"
      },
      {
        "duration": 9330,
        "start_time": "2022-06-05T12:11:49.218Z"
      },
      {
        "duration": 9025,
        "start_time": "2022-06-05T12:12:50.204Z"
      },
      {
        "duration": 8733,
        "start_time": "2022-06-05T12:12:59.231Z"
      },
      {
        "duration": 10,
        "start_time": "2022-06-05T12:15:45.583Z"
      },
      {
        "duration": 4,
        "start_time": "2022-06-05T12:15:46.906Z"
      },
      {
        "duration": 10,
        "start_time": "2022-06-05T12:15:47.279Z"
      },
      {
        "duration": 2105,
        "start_time": "2022-06-05T12:17:03.079Z"
      },
      {
        "duration": 10,
        "start_time": "2022-06-05T12:18:43.479Z"
      },
      {
        "duration": 3956,
        "start_time": "2022-06-05T12:18:43.738Z"
      },
      {
        "duration": 8940,
        "start_time": "2022-06-05T12:34:43.442Z"
      },
      {
        "duration": 9338,
        "start_time": "2022-06-05T12:40:00.438Z"
      },
      {
        "duration": 6,
        "start_time": "2022-06-05T12:44:21.914Z"
      },
      {
        "duration": 52,
        "start_time": "2022-06-05T12:44:21.923Z"
      },
      {
        "duration": 32,
        "start_time": "2022-06-05T12:44:21.977Z"
      },
      {
        "duration": 13,
        "start_time": "2022-06-05T12:44:22.011Z"
      },
      {
        "duration": 5,
        "start_time": "2022-06-05T12:44:22.027Z"
      },
      {
        "duration": 27,
        "start_time": "2022-06-05T12:44:22.033Z"
      },
      {
        "duration": 9,
        "start_time": "2022-06-05T12:44:22.063Z"
      },
      {
        "duration": 7,
        "start_time": "2022-06-05T12:44:22.076Z"
      },
      {
        "duration": 15,
        "start_time": "2022-06-05T12:44:22.086Z"
      },
      {
        "duration": 9,
        "start_time": "2022-06-05T12:44:22.104Z"
      },
      {
        "duration": 8,
        "start_time": "2022-06-05T12:44:22.115Z"
      },
      {
        "duration": 41,
        "start_time": "2022-06-05T12:44:22.124Z"
      },
      {
        "duration": 6,
        "start_time": "2022-06-05T12:44:22.167Z"
      },
      {
        "duration": 23,
        "start_time": "2022-06-05T12:44:22.178Z"
      },
      {
        "duration": 8,
        "start_time": "2022-06-05T12:44:22.203Z"
      },
      {
        "duration": 25,
        "start_time": "2022-06-05T12:44:22.213Z"
      },
      {
        "duration": 6,
        "start_time": "2022-06-05T12:44:22.240Z"
      },
      {
        "duration": 14,
        "start_time": "2022-06-05T12:44:22.248Z"
      },
      {
        "duration": 49,
        "start_time": "2022-06-05T12:44:22.265Z"
      },
      {
        "duration": 146,
        "start_time": "2022-06-05T12:44:22.316Z"
      },
      {
        "duration": 184,
        "start_time": "2022-06-05T12:44:22.464Z"
      },
      {
        "duration": 1424,
        "start_time": "2022-06-05T12:44:22.650Z"
      },
      {
        "duration": 66313,
        "start_time": "2022-06-05T12:44:24.076Z"
      },
      {
        "duration": 6493,
        "start_time": "2022-06-05T12:45:30.391Z"
      },
      {
        "duration": 6649,
        "start_time": "2022-06-05T12:45:36.887Z"
      },
      {
        "duration": 4,
        "start_time": "2022-06-05T12:45:43.538Z"
      },
      {
        "duration": 187,
        "start_time": "2022-06-05T12:45:43.544Z"
      },
      {
        "duration": 4,
        "start_time": "2022-06-05T12:45:43.732Z"
      },
      {
        "duration": 26,
        "start_time": "2022-06-05T12:45:43.738Z"
      },
      {
        "duration": 9247,
        "start_time": "2022-06-05T12:45:43.766Z"
      },
      {
        "duration": 11,
        "start_time": "2022-06-05T12:45:53.014Z"
      },
      {
        "duration": 64,
        "start_time": "2022-06-05T12:45:53.027Z"
      },
      {
        "duration": 9965,
        "start_time": "2022-06-05T12:45:53.094Z"
      },
      {
        "duration": 9506,
        "start_time": "2022-06-05T12:47:23.213Z"
      },
      {
        "duration": 12,
        "start_time": "2022-06-05T12:49:37.559Z"
      },
      {
        "duration": 9716,
        "start_time": "2022-06-05T12:49:37.785Z"
      },
      {
        "duration": 6,
        "start_time": "2022-06-05T12:50:06.675Z"
      },
      {
        "duration": 52,
        "start_time": "2022-06-05T12:50:06.684Z"
      },
      {
        "duration": 23,
        "start_time": "2022-06-05T12:50:06.738Z"
      },
      {
        "duration": 35,
        "start_time": "2022-06-05T12:50:06.763Z"
      },
      {
        "duration": 6,
        "start_time": "2022-06-05T12:50:06.800Z"
      },
      {
        "duration": 9,
        "start_time": "2022-06-05T12:50:06.808Z"
      },
      {
        "duration": 15,
        "start_time": "2022-06-05T12:50:06.819Z"
      },
      {
        "duration": 5,
        "start_time": "2022-06-05T12:50:06.836Z"
      },
      {
        "duration": 6,
        "start_time": "2022-06-05T12:50:06.843Z"
      },
      {
        "duration": 6,
        "start_time": "2022-06-05T12:50:06.850Z"
      },
      {
        "duration": 22,
        "start_time": "2022-06-05T12:50:06.858Z"
      },
      {
        "duration": 36,
        "start_time": "2022-06-05T12:50:06.882Z"
      },
      {
        "duration": 4,
        "start_time": "2022-06-05T12:50:06.920Z"
      },
      {
        "duration": 10,
        "start_time": "2022-06-05T12:50:06.927Z"
      },
      {
        "duration": 18,
        "start_time": "2022-06-05T12:50:06.938Z"
      },
      {
        "duration": 27,
        "start_time": "2022-06-05T12:50:06.958Z"
      },
      {
        "duration": 6,
        "start_time": "2022-06-05T12:50:06.987Z"
      },
      {
        "duration": 14,
        "start_time": "2022-06-05T12:50:06.995Z"
      },
      {
        "duration": 24,
        "start_time": "2022-06-05T12:50:07.010Z"
      },
      {
        "duration": 124,
        "start_time": "2022-06-05T12:50:07.035Z"
      },
      {
        "duration": 164,
        "start_time": "2022-06-05T12:50:07.161Z"
      },
      {
        "duration": 1300,
        "start_time": "2022-06-05T12:50:07.328Z"
      },
      {
        "duration": 61698,
        "start_time": "2022-06-05T12:50:08.630Z"
      },
      {
        "duration": 5990,
        "start_time": "2022-06-05T12:51:10.330Z"
      },
      {
        "duration": 6145,
        "start_time": "2022-06-05T12:51:16.322Z"
      },
      {
        "duration": 10,
        "start_time": "2022-06-05T12:51:22.470Z"
      },
      {
        "duration": 174,
        "start_time": "2022-06-05T12:51:22.482Z"
      },
      {
        "duration": 6,
        "start_time": "2022-06-05T12:51:22.657Z"
      },
      {
        "duration": 28,
        "start_time": "2022-06-05T12:51:22.666Z"
      },
      {
        "duration": 8791,
        "start_time": "2022-06-05T12:51:22.696Z"
      },
      {
        "duration": 9,
        "start_time": "2022-06-05T12:51:31.489Z"
      },
      {
        "duration": 8773,
        "start_time": "2022-06-05T12:51:31.500Z"
      },
      {
        "duration": 5,
        "start_time": "2022-06-05T12:53:40.199Z"
      },
      {
        "duration": 59,
        "start_time": "2022-06-05T12:53:40.206Z"
      },
      {
        "duration": 23,
        "start_time": "2022-06-05T12:53:40.267Z"
      },
      {
        "duration": 10,
        "start_time": "2022-06-05T12:53:40.292Z"
      },
      {
        "duration": 4,
        "start_time": "2022-06-05T12:53:40.304Z"
      },
      {
        "duration": 7,
        "start_time": "2022-06-05T12:53:40.310Z"
      },
      {
        "duration": 10,
        "start_time": "2022-06-05T12:53:40.319Z"
      },
      {
        "duration": 10,
        "start_time": "2022-06-05T12:53:40.331Z"
      },
      {
        "duration": 34,
        "start_time": "2022-06-05T12:53:40.343Z"
      },
      {
        "duration": 7,
        "start_time": "2022-06-05T12:53:40.378Z"
      },
      {
        "duration": 8,
        "start_time": "2022-06-05T12:53:40.386Z"
      },
      {
        "duration": 38,
        "start_time": "2022-06-05T12:53:40.395Z"
      },
      {
        "duration": 4,
        "start_time": "2022-06-05T12:53:40.435Z"
      },
      {
        "duration": 11,
        "start_time": "2022-06-05T12:53:40.441Z"
      },
      {
        "duration": 9,
        "start_time": "2022-06-05T12:53:40.453Z"
      },
      {
        "duration": 24,
        "start_time": "2022-06-05T12:53:40.464Z"
      },
      {
        "duration": 6,
        "start_time": "2022-06-05T12:53:40.489Z"
      },
      {
        "duration": 12,
        "start_time": "2022-06-05T12:53:40.496Z"
      },
      {
        "duration": 15,
        "start_time": "2022-06-05T12:53:40.509Z"
      },
      {
        "duration": 137,
        "start_time": "2022-06-05T12:53:40.525Z"
      },
      {
        "duration": 162,
        "start_time": "2022-06-05T12:53:40.665Z"
      },
      {
        "duration": 1062,
        "start_time": "2022-06-05T12:53:40.829Z"
      },
      {
        "duration": 47396,
        "start_time": "2022-06-05T12:53:41.893Z"
      },
      {
        "duration": 4732,
        "start_time": "2022-06-05T12:54:29.293Z"
      },
      {
        "duration": 4705,
        "start_time": "2022-06-05T12:54:34.026Z"
      },
      {
        "duration": 5,
        "start_time": "2022-06-05T12:54:38.732Z"
      },
      {
        "duration": 178,
        "start_time": "2022-06-05T12:54:38.738Z"
      },
      {
        "duration": 4,
        "start_time": "2022-06-05T12:54:38.918Z"
      },
      {
        "duration": 13,
        "start_time": "2022-06-05T12:54:38.924Z"
      },
      {
        "duration": 6573,
        "start_time": "2022-06-05T12:54:38.939Z"
      },
      {
        "duration": 9,
        "start_time": "2022-06-05T12:54:45.513Z"
      },
      {
        "duration": 6602,
        "start_time": "2022-06-05T12:54:45.523Z"
      },
      {
        "duration": 1392,
        "start_time": "2022-06-05T12:57:17.324Z"
      },
      {
        "duration": 6700,
        "start_time": "2022-06-05T12:57:25.501Z"
      },
      {
        "duration": 19,
        "start_time": "2022-06-05T13:01:43.711Z"
      },
      {
        "duration": 13,
        "start_time": "2022-06-05T13:02:10.945Z"
      },
      {
        "duration": 158,
        "start_time": "2022-06-05T13:02:11.976Z"
      },
      {
        "duration": 14,
        "start_time": "2022-06-05T13:23:56.987Z"
      },
      {
        "duration": 15,
        "start_time": "2022-06-05T13:24:23.019Z"
      },
      {
        "duration": 13,
        "start_time": "2022-06-05T13:25:10.278Z"
      },
      {
        "duration": 12,
        "start_time": "2022-06-05T13:25:23.388Z"
      },
      {
        "duration": 6,
        "start_time": "2022-06-05T13:25:29.889Z"
      },
      {
        "duration": 10,
        "start_time": "2022-06-05T13:25:54.535Z"
      },
      {
        "duration": 10,
        "start_time": "2022-06-05T13:25:58.309Z"
      },
      {
        "duration": 6503,
        "start_time": "2022-06-05T13:26:18.342Z"
      },
      {
        "duration": 6481,
        "start_time": "2022-06-05T13:27:21.439Z"
      },
      {
        "duration": 6,
        "start_time": "2022-06-05T13:27:35.789Z"
      },
      {
        "duration": 53,
        "start_time": "2022-06-05T13:27:35.798Z"
      },
      {
        "duration": 29,
        "start_time": "2022-06-05T13:27:35.853Z"
      },
      {
        "duration": 13,
        "start_time": "2022-06-05T13:27:35.884Z"
      },
      {
        "duration": 8,
        "start_time": "2022-06-05T13:27:35.899Z"
      },
      {
        "duration": 16,
        "start_time": "2022-06-05T13:27:35.909Z"
      },
      {
        "duration": 9,
        "start_time": "2022-06-05T13:27:35.927Z"
      },
      {
        "duration": 7,
        "start_time": "2022-06-05T13:27:35.937Z"
      },
      {
        "duration": 6,
        "start_time": "2022-06-05T13:27:35.945Z"
      },
      {
        "duration": 23,
        "start_time": "2022-06-05T13:27:35.952Z"
      },
      {
        "duration": 8,
        "start_time": "2022-06-05T13:27:35.977Z"
      },
      {
        "duration": 39,
        "start_time": "2022-06-05T13:27:35.986Z"
      },
      {
        "duration": 4,
        "start_time": "2022-06-05T13:27:36.027Z"
      },
      {
        "duration": 11,
        "start_time": "2022-06-05T13:27:36.034Z"
      },
      {
        "duration": 25,
        "start_time": "2022-06-05T13:27:36.046Z"
      },
      {
        "duration": 11,
        "start_time": "2022-06-05T13:27:36.073Z"
      },
      {
        "duration": 9,
        "start_time": "2022-06-05T13:27:36.086Z"
      },
      {
        "duration": 15,
        "start_time": "2022-06-05T13:27:36.096Z"
      },
      {
        "duration": 12,
        "start_time": "2022-06-05T13:27:36.113Z"
      },
      {
        "duration": 133,
        "start_time": "2022-06-05T13:27:36.127Z"
      },
      {
        "duration": 147,
        "start_time": "2022-06-05T13:27:36.263Z"
      },
      {
        "duration": 1039,
        "start_time": "2022-06-05T13:27:36.412Z"
      },
      {
        "duration": 45792,
        "start_time": "2022-06-05T13:27:37.452Z"
      },
      {
        "duration": 4604,
        "start_time": "2022-06-05T13:28:23.246Z"
      },
      {
        "duration": 4669,
        "start_time": "2022-06-05T13:28:27.852Z"
      },
      {
        "duration": 7,
        "start_time": "2022-06-05T13:28:32.523Z"
      },
      {
        "duration": 182,
        "start_time": "2022-06-05T13:28:32.531Z"
      },
      {
        "duration": 4,
        "start_time": "2022-06-05T13:28:32.714Z"
      },
      {
        "duration": 12,
        "start_time": "2022-06-05T13:28:32.719Z"
      },
      {
        "duration": 6716,
        "start_time": "2022-06-05T13:28:32.733Z"
      },
      {
        "duration": 16,
        "start_time": "2022-06-05T13:28:39.451Z"
      },
      {
        "duration": 6521,
        "start_time": "2022-06-05T13:28:39.470Z"
      },
      {
        "duration": 10,
        "start_time": "2022-06-05T13:28:45.994Z"
      },
      {
        "duration": 6603,
        "start_time": "2022-06-05T13:29:40.761Z"
      },
      {
        "duration": 6,
        "start_time": "2022-06-05T13:30:40.157Z"
      },
      {
        "duration": 54,
        "start_time": "2022-06-05T13:30:40.165Z"
      },
      {
        "duration": 17,
        "start_time": "2022-06-05T13:30:40.220Z"
      },
      {
        "duration": 10,
        "start_time": "2022-06-05T13:30:40.239Z"
      },
      {
        "duration": 4,
        "start_time": "2022-06-05T13:30:40.250Z"
      },
      {
        "duration": 18,
        "start_time": "2022-06-05T13:30:40.258Z"
      },
      {
        "duration": 5,
        "start_time": "2022-06-05T13:30:40.278Z"
      },
      {
        "duration": 7,
        "start_time": "2022-06-05T13:30:40.285Z"
      },
      {
        "duration": 6,
        "start_time": "2022-06-05T13:30:40.293Z"
      },
      {
        "duration": 10,
        "start_time": "2022-06-05T13:30:40.302Z"
      },
      {
        "duration": 16,
        "start_time": "2022-06-05T13:30:40.314Z"
      },
      {
        "duration": 41,
        "start_time": "2022-06-05T13:30:40.331Z"
      },
      {
        "duration": 4,
        "start_time": "2022-06-05T13:30:40.374Z"
      },
      {
        "duration": 9,
        "start_time": "2022-06-05T13:30:40.379Z"
      },
      {
        "duration": 6,
        "start_time": "2022-06-05T13:30:40.389Z"
      },
      {
        "duration": 10,
        "start_time": "2022-06-05T13:30:40.396Z"
      },
      {
        "duration": 9,
        "start_time": "2022-06-05T13:30:40.408Z"
      },
      {
        "duration": 14,
        "start_time": "2022-06-05T13:30:40.419Z"
      },
      {
        "duration": 30,
        "start_time": "2022-06-05T13:30:40.434Z"
      },
      {
        "duration": 102,
        "start_time": "2022-06-05T13:30:40.466Z"
      },
      {
        "duration": 207,
        "start_time": "2022-06-05T13:30:40.570Z"
      },
      {
        "duration": 1213,
        "start_time": "2022-06-05T13:30:40.779Z"
      },
      {
        "duration": 56718,
        "start_time": "2022-06-05T13:30:41.994Z"
      },
      {
        "duration": 5598,
        "start_time": "2022-06-05T13:31:38.714Z"
      },
      {
        "duration": 5556,
        "start_time": "2022-06-05T13:31:44.314Z"
      },
      {
        "duration": 5,
        "start_time": "2022-06-05T13:31:49.872Z"
      },
      {
        "duration": 146,
        "start_time": "2022-06-05T13:31:49.879Z"
      },
      {
        "duration": 4,
        "start_time": "2022-06-05T13:31:50.029Z"
      },
      {
        "duration": 24,
        "start_time": "2022-06-05T13:31:50.035Z"
      },
      {
        "duration": 8003,
        "start_time": "2022-06-05T13:31:50.062Z"
      },
      {
        "duration": 10,
        "start_time": "2022-06-05T13:31:58.067Z"
      },
      {
        "duration": 7935,
        "start_time": "2022-06-05T13:31:58.079Z"
      },
      {
        "duration": 11,
        "start_time": "2022-06-05T13:32:06.015Z"
      },
      {
        "duration": 4,
        "start_time": "2022-06-05T13:33:46.984Z"
      },
      {
        "duration": 46,
        "start_time": "2022-06-05T13:33:46.991Z"
      },
      {
        "duration": 18,
        "start_time": "2022-06-05T13:33:47.039Z"
      },
      {
        "duration": 28,
        "start_time": "2022-06-05T13:33:47.060Z"
      },
      {
        "duration": 6,
        "start_time": "2022-06-05T13:33:47.089Z"
      },
      {
        "duration": 9,
        "start_time": "2022-06-05T13:33:47.096Z"
      },
      {
        "duration": 5,
        "start_time": "2022-06-05T13:33:47.107Z"
      },
      {
        "duration": 6,
        "start_time": "2022-06-05T13:33:47.113Z"
      },
      {
        "duration": 10,
        "start_time": "2022-06-05T13:33:47.122Z"
      },
      {
        "duration": 10,
        "start_time": "2022-06-05T13:33:47.134Z"
      },
      {
        "duration": 7,
        "start_time": "2022-06-05T13:33:47.146Z"
      },
      {
        "duration": 62,
        "start_time": "2022-06-05T13:33:47.155Z"
      },
      {
        "duration": 5,
        "start_time": "2022-06-05T13:33:47.221Z"
      },
      {
        "duration": 16,
        "start_time": "2022-06-05T13:33:47.228Z"
      },
      {
        "duration": 11,
        "start_time": "2022-06-05T13:33:47.246Z"
      },
      {
        "duration": 26,
        "start_time": "2022-06-05T13:33:47.260Z"
      },
      {
        "duration": 8,
        "start_time": "2022-06-05T13:33:47.288Z"
      },
      {
        "duration": 24,
        "start_time": "2022-06-05T13:33:47.298Z"
      },
      {
        "duration": 14,
        "start_time": "2022-06-05T13:33:47.324Z"
      },
      {
        "duration": 120,
        "start_time": "2022-06-05T13:33:47.340Z"
      },
      {
        "duration": 156,
        "start_time": "2022-06-05T13:33:47.461Z"
      },
      {
        "duration": 1202,
        "start_time": "2022-06-05T13:33:47.619Z"
      },
      {
        "duration": 56508,
        "start_time": "2022-06-05T13:33:48.822Z"
      },
      {
        "duration": 5627,
        "start_time": "2022-06-05T13:34:45.333Z"
      },
      {
        "duration": 5624,
        "start_time": "2022-06-05T13:34:50.963Z"
      },
      {
        "duration": 4,
        "start_time": "2022-06-05T13:34:56.589Z"
      },
      {
        "duration": 156,
        "start_time": "2022-06-05T13:34:56.594Z"
      },
      {
        "duration": 9,
        "start_time": "2022-06-05T13:34:56.751Z"
      },
      {
        "duration": 27,
        "start_time": "2022-06-05T13:34:56.762Z"
      },
      {
        "duration": 11056,
        "start_time": "2022-06-05T13:34:56.791Z"
      },
      {
        "duration": 22,
        "start_time": "2022-06-05T13:35:07.849Z"
      },
      {
        "duration": 7890,
        "start_time": "2022-06-05T13:35:07.874Z"
      },
      {
        "duration": 4,
        "start_time": "2022-06-05T13:35:15.766Z"
      },
      {
        "duration": 10,
        "start_time": "2022-06-05T13:39:51.545Z"
      },
      {
        "duration": 14,
        "start_time": "2022-06-05T13:39:58.088Z"
      },
      {
        "duration": 13,
        "start_time": "2022-06-05T13:40:47.977Z"
      },
      {
        "duration": 13,
        "start_time": "2022-06-05T13:42:15.225Z"
      },
      {
        "duration": 19,
        "start_time": "2022-06-05T13:42:31.358Z"
      },
      {
        "duration": 6,
        "start_time": "2022-06-05T14:00:36.683Z"
      },
      {
        "duration": 46,
        "start_time": "2022-06-05T14:00:36.691Z"
      },
      {
        "duration": 17,
        "start_time": "2022-06-05T14:00:36.738Z"
      },
      {
        "duration": 45,
        "start_time": "2022-06-05T14:00:36.757Z"
      },
      {
        "duration": 5,
        "start_time": "2022-06-05T14:00:36.804Z"
      },
      {
        "duration": 11,
        "start_time": "2022-06-05T14:00:36.811Z"
      },
      {
        "duration": 5,
        "start_time": "2022-06-05T14:00:36.824Z"
      },
      {
        "duration": 17,
        "start_time": "2022-06-05T14:00:36.831Z"
      },
      {
        "duration": 47,
        "start_time": "2022-06-05T14:00:36.850Z"
      },
      {
        "duration": 7,
        "start_time": "2022-06-05T14:00:36.899Z"
      },
      {
        "duration": 5,
        "start_time": "2022-06-05T14:00:36.908Z"
      },
      {
        "duration": 36,
        "start_time": "2022-06-05T14:00:36.914Z"
      },
      {
        "duration": 3,
        "start_time": "2022-06-05T14:00:36.952Z"
      },
      {
        "duration": 39,
        "start_time": "2022-06-05T14:00:36.958Z"
      },
      {
        "duration": 6,
        "start_time": "2022-06-05T14:00:36.999Z"
      },
      {
        "duration": 8,
        "start_time": "2022-06-05T14:00:37.007Z"
      },
      {
        "duration": 6,
        "start_time": "2022-06-05T14:00:37.016Z"
      },
      {
        "duration": 17,
        "start_time": "2022-06-05T14:00:37.023Z"
      },
      {
        "duration": 13,
        "start_time": "2022-06-05T14:00:37.041Z"
      },
      {
        "duration": 110,
        "start_time": "2022-06-05T14:00:37.056Z"
      },
      {
        "duration": 164,
        "start_time": "2022-06-05T14:00:37.171Z"
      },
      {
        "duration": 1292,
        "start_time": "2022-06-05T14:00:37.337Z"
      },
      {
        "duration": 13157,
        "start_time": "2022-06-05T14:00:38.630Z"
      },
      {
        "duration": 6050,
        "start_time": "2022-06-05T14:00:51.788Z"
      },
      {
        "duration": 5809,
        "start_time": "2022-06-05T14:00:57.840Z"
      },
      {
        "duration": 11,
        "start_time": "2022-06-05T14:01:03.651Z"
      },
      {
        "duration": 309,
        "start_time": "2022-06-05T14:01:03.665Z"
      },
      {
        "duration": 4,
        "start_time": "2022-06-05T14:01:03.977Z"
      },
      {
        "duration": 14,
        "start_time": "2022-06-05T14:01:03.983Z"
      },
      {
        "duration": 11387,
        "start_time": "2022-06-05T14:01:03.999Z"
      },
      {
        "duration": 11,
        "start_time": "2022-06-05T14:01:15.388Z"
      },
      {
        "duration": 8242,
        "start_time": "2022-06-05T14:01:15.401Z"
      },
      {
        "duration": 5,
        "start_time": "2022-06-05T14:03:19.325Z"
      },
      {
        "duration": 55,
        "start_time": "2022-06-05T14:03:19.332Z"
      },
      {
        "duration": 19,
        "start_time": "2022-06-05T14:03:19.389Z"
      },
      {
        "duration": 11,
        "start_time": "2022-06-05T14:03:19.410Z"
      },
      {
        "duration": 4,
        "start_time": "2022-06-05T14:03:19.423Z"
      },
      {
        "duration": 8,
        "start_time": "2022-06-05T14:03:19.428Z"
      },
      {
        "duration": 8,
        "start_time": "2022-06-05T14:03:19.437Z"
      },
      {
        "duration": 9,
        "start_time": "2022-06-05T14:03:19.446Z"
      },
      {
        "duration": 16,
        "start_time": "2022-06-05T14:03:19.457Z"
      },
      {
        "duration": 6,
        "start_time": "2022-06-05T14:03:19.474Z"
      },
      {
        "duration": 5,
        "start_time": "2022-06-05T14:03:19.482Z"
      },
      {
        "duration": 37,
        "start_time": "2022-06-05T14:03:19.488Z"
      },
      {
        "duration": 4,
        "start_time": "2022-06-05T14:03:19.527Z"
      },
      {
        "duration": 9,
        "start_time": "2022-06-05T14:03:19.533Z"
      },
      {
        "duration": 7,
        "start_time": "2022-06-05T14:03:19.543Z"
      },
      {
        "duration": 9,
        "start_time": "2022-06-05T14:03:19.551Z"
      },
      {
        "duration": 18,
        "start_time": "2022-06-05T14:03:19.562Z"
      },
      {
        "duration": 13,
        "start_time": "2022-06-05T14:03:19.581Z"
      },
      {
        "duration": 21,
        "start_time": "2022-06-05T14:03:19.596Z"
      },
      {
        "duration": 152,
        "start_time": "2022-06-05T14:03:19.619Z"
      },
      {
        "duration": 150,
        "start_time": "2022-06-05T14:03:19.773Z"
      },
      {
        "duration": 1170,
        "start_time": "2022-06-05T14:03:19.924Z"
      },
      {
        "duration": 12552,
        "start_time": "2022-06-05T14:03:21.095Z"
      },
      {
        "duration": 5604,
        "start_time": "2022-06-05T14:03:33.649Z"
      },
      {
        "duration": 5659,
        "start_time": "2022-06-05T14:03:39.255Z"
      },
      {
        "duration": 5,
        "start_time": "2022-06-05T14:03:44.915Z"
      },
      {
        "duration": 167,
        "start_time": "2022-06-05T14:03:44.922Z"
      },
      {
        "duration": 4,
        "start_time": "2022-06-05T14:03:45.092Z"
      },
      {
        "duration": 15,
        "start_time": "2022-06-05T14:03:45.100Z"
      },
      {
        "duration": 11280,
        "start_time": "2022-06-05T14:03:45.117Z"
      },
      {
        "duration": 9,
        "start_time": "2022-06-05T14:03:56.400Z"
      },
      {
        "duration": 11209,
        "start_time": "2022-06-05T14:03:56.411Z"
      },
      {
        "duration": 5,
        "start_time": "2022-06-05T14:04:28.773Z"
      },
      {
        "duration": 46,
        "start_time": "2022-06-05T14:04:28.781Z"
      },
      {
        "duration": 17,
        "start_time": "2022-06-05T14:04:28.829Z"
      },
      {
        "duration": 9,
        "start_time": "2022-06-05T14:04:28.848Z"
      },
      {
        "duration": 16,
        "start_time": "2022-06-05T14:04:28.861Z"
      },
      {
        "duration": 6,
        "start_time": "2022-06-05T14:04:28.878Z"
      },
      {
        "duration": 5,
        "start_time": "2022-06-05T14:04:28.886Z"
      },
      {
        "duration": 10,
        "start_time": "2022-06-05T14:04:28.892Z"
      },
      {
        "duration": 9,
        "start_time": "2022-06-05T14:04:28.903Z"
      },
      {
        "duration": 6,
        "start_time": "2022-06-05T14:04:28.914Z"
      },
      {
        "duration": 5,
        "start_time": "2022-06-05T14:04:28.921Z"
      },
      {
        "duration": 42,
        "start_time": "2022-06-05T14:04:28.927Z"
      },
      {
        "duration": 5,
        "start_time": "2022-06-05T14:04:28.971Z"
      },
      {
        "duration": 7,
        "start_time": "2022-06-05T14:04:28.980Z"
      },
      {
        "duration": 6,
        "start_time": "2022-06-05T14:04:28.988Z"
      },
      {
        "duration": 9,
        "start_time": "2022-06-05T14:04:28.996Z"
      },
      {
        "duration": 12,
        "start_time": "2022-06-05T14:04:29.006Z"
      },
      {
        "duration": 21,
        "start_time": "2022-06-05T14:04:29.019Z"
      },
      {
        "duration": 18,
        "start_time": "2022-06-05T14:04:29.042Z"
      },
      {
        "duration": 108,
        "start_time": "2022-06-05T14:04:29.062Z"
      },
      {
        "duration": 146,
        "start_time": "2022-06-05T14:04:29.174Z"
      },
      {
        "duration": 1181,
        "start_time": "2022-06-05T14:04:29.322Z"
      },
      {
        "duration": 12889,
        "start_time": "2022-06-05T14:04:30.505Z"
      },
      {
        "duration": 5692,
        "start_time": "2022-06-05T14:04:43.395Z"
      },
      {
        "duration": 5904,
        "start_time": "2022-06-05T14:04:49.089Z"
      },
      {
        "duration": 5,
        "start_time": "2022-06-05T14:04:54.995Z"
      },
      {
        "duration": 179,
        "start_time": "2022-06-05T14:04:55.001Z"
      },
      {
        "duration": 4,
        "start_time": "2022-06-05T14:04:55.182Z"
      },
      {
        "duration": 21,
        "start_time": "2022-06-05T14:04:55.187Z"
      },
      {
        "duration": 7792,
        "start_time": "2022-06-05T14:04:55.210Z"
      },
      {
        "duration": 13,
        "start_time": "2022-06-05T14:05:03.004Z"
      },
      {
        "duration": 7467,
        "start_time": "2022-06-05T14:05:03.019Z"
      },
      {
        "duration": 12,
        "start_time": "2022-06-05T14:06:20.256Z"
      },
      {
        "duration": 6672,
        "start_time": "2022-06-05T14:06:21.580Z"
      },
      {
        "duration": 10,
        "start_time": "2022-06-05T14:06:37.172Z"
      },
      {
        "duration": 7356,
        "start_time": "2022-06-05T14:06:37.457Z"
      },
      {
        "duration": 2933,
        "start_time": "2022-06-05T14:06:51.218Z"
      },
      {
        "duration": 736,
        "start_time": "2022-06-05T14:06:58.447Z"
      },
      {
        "duration": 710,
        "start_time": "2022-06-05T14:07:11.797Z"
      },
      {
        "duration": 758,
        "start_time": "2022-06-05T14:07:23.520Z"
      },
      {
        "duration": 11,
        "start_time": "2022-06-05T14:07:25.907Z"
      },
      {
        "duration": 720,
        "start_time": "2022-06-05T14:07:26.297Z"
      },
      {
        "duration": 874,
        "start_time": "2022-06-05T14:07:31.898Z"
      },
      {
        "duration": 936,
        "start_time": "2022-06-05T14:07:36.279Z"
      },
      {
        "duration": 800,
        "start_time": "2022-06-05T14:07:43.097Z"
      },
      {
        "duration": 806,
        "start_time": "2022-06-05T14:07:48.839Z"
      },
      {
        "duration": 12218,
        "start_time": "2022-06-05T14:08:14.342Z"
      },
      {
        "duration": 12099,
        "start_time": "2022-06-05T14:10:03.706Z"
      },
      {
        "duration": 1090,
        "start_time": "2022-06-05T14:10:52.160Z"
      },
      {
        "duration": 17365,
        "start_time": "2022-06-05T14:15:39.395Z"
      },
      {
        "duration": 67,
        "start_time": "2022-06-05T14:17:06.720Z"
      },
      {
        "duration": 4,
        "start_time": "2022-06-05T14:17:10.988Z"
      },
      {
        "duration": 53,
        "start_time": "2022-06-05T14:17:10.994Z"
      },
      {
        "duration": 28,
        "start_time": "2022-06-05T14:17:11.049Z"
      },
      {
        "duration": 26,
        "start_time": "2022-06-05T14:17:11.079Z"
      },
      {
        "duration": 4,
        "start_time": "2022-06-05T14:17:11.107Z"
      },
      {
        "duration": 8,
        "start_time": "2022-06-05T14:17:11.112Z"
      },
      {
        "duration": 8,
        "start_time": "2022-06-05T14:17:11.122Z"
      },
      {
        "duration": 8,
        "start_time": "2022-06-05T14:17:11.132Z"
      },
      {
        "duration": 6,
        "start_time": "2022-06-05T14:17:11.142Z"
      },
      {
        "duration": 40,
        "start_time": "2022-06-05T14:17:11.150Z"
      },
      {
        "duration": 4,
        "start_time": "2022-06-05T14:17:11.192Z"
      },
      {
        "duration": 43,
        "start_time": "2022-06-05T14:17:11.197Z"
      },
      {
        "duration": 4,
        "start_time": "2022-06-05T14:17:11.243Z"
      },
      {
        "duration": 12,
        "start_time": "2022-06-05T14:17:11.249Z"
      },
      {
        "duration": 35,
        "start_time": "2022-06-05T14:17:11.263Z"
      },
      {
        "duration": 7,
        "start_time": "2022-06-05T14:17:11.300Z"
      },
      {
        "duration": 9,
        "start_time": "2022-06-05T14:17:11.309Z"
      },
      {
        "duration": 15,
        "start_time": "2022-06-05T14:17:11.319Z"
      },
      {
        "duration": 14,
        "start_time": "2022-06-05T14:17:11.336Z"
      },
      {
        "duration": 113,
        "start_time": "2022-06-05T14:17:11.351Z"
      },
      {
        "duration": 164,
        "start_time": "2022-06-05T14:17:11.468Z"
      },
      {
        "duration": 1279,
        "start_time": "2022-06-05T14:17:11.634Z"
      },
      {
        "duration": 59919,
        "start_time": "2022-06-05T14:17:12.915Z"
      },
      {
        "duration": 1227,
        "start_time": "2022-06-05T14:18:12.835Z"
      },
      {
        "duration": 6114,
        "start_time": "2022-06-05T14:18:14.065Z"
      },
      {
        "duration": 6,
        "start_time": "2022-06-05T14:18:20.183Z"
      },
      {
        "duration": 167,
        "start_time": "2022-06-05T14:18:20.190Z"
      },
      {
        "duration": 7,
        "start_time": "2022-06-05T14:18:20.364Z"
      },
      {
        "duration": 50,
        "start_time": "2022-06-05T14:18:20.373Z"
      },
      {
        "duration": 1151,
        "start_time": "2022-06-06T15:19:35.319Z"
      },
      {
        "duration": 105,
        "start_time": "2022-06-06T15:19:36.472Z"
      },
      {
        "duration": 32,
        "start_time": "2022-06-06T15:19:36.579Z"
      },
      {
        "duration": 14,
        "start_time": "2022-06-06T15:19:36.614Z"
      },
      {
        "duration": 10,
        "start_time": "2022-06-06T15:19:36.640Z"
      },
      {
        "duration": 12,
        "start_time": "2022-06-06T15:19:36.651Z"
      },
      {
        "duration": 8,
        "start_time": "2022-06-06T15:19:36.665Z"
      },
      {
        "duration": 11,
        "start_time": "2022-06-06T15:19:36.676Z"
      },
      {
        "duration": 22,
        "start_time": "2022-06-06T15:19:36.689Z"
      },
      {
        "duration": 7,
        "start_time": "2022-06-06T15:19:36.715Z"
      },
      {
        "duration": 25,
        "start_time": "2022-06-06T15:19:36.725Z"
      },
      {
        "duration": 45,
        "start_time": "2022-06-06T15:19:36.752Z"
      },
      {
        "duration": 4,
        "start_time": "2022-06-06T15:19:36.799Z"
      },
      {
        "duration": 35,
        "start_time": "2022-06-06T15:19:36.805Z"
      },
      {
        "duration": 11,
        "start_time": "2022-06-06T15:19:36.845Z"
      },
      {
        "duration": 6,
        "start_time": "2022-06-06T15:19:36.857Z"
      },
      {
        "duration": 10,
        "start_time": "2022-06-06T15:19:36.864Z"
      },
      {
        "duration": 27,
        "start_time": "2022-06-06T15:19:36.876Z"
      },
      {
        "duration": 32,
        "start_time": "2022-06-06T15:19:36.905Z"
      },
      {
        "duration": 192,
        "start_time": "2022-06-06T15:19:36.939Z"
      },
      {
        "duration": 157,
        "start_time": "2022-06-06T15:19:37.135Z"
      },
      {
        "duration": 1283,
        "start_time": "2022-06-06T15:19:37.294Z"
      },
      {
        "duration": 60753,
        "start_time": "2022-06-06T15:19:38.580Z"
      },
      {
        "duration": 1102,
        "start_time": "2022-06-06T15:20:39.336Z"
      },
      {
        "duration": 5823,
        "start_time": "2022-06-06T15:20:40.441Z"
      },
      {
        "duration": 6,
        "start_time": "2022-06-06T15:20:46.266Z"
      },
      {
        "duration": 676,
        "start_time": "2022-06-06T15:20:46.274Z"
      },
      {
        "duration": 6,
        "start_time": "2022-06-06T15:20:46.955Z"
      },
      {
        "duration": 18,
        "start_time": "2022-06-06T15:20:46.963Z"
      },
      {
        "duration": 17109,
        "start_time": "2022-06-06T15:20:46.983Z"
      },
      {
        "duration": 13,
        "start_time": "2022-06-06T15:21:04.094Z"
      },
      {
        "duration": 79,
        "start_time": "2022-06-06T15:21:04.110Z"
      },
      {
        "duration": 32,
        "start_time": "2022-06-06T15:33:06.856Z"
      },
      {
        "duration": 1204,
        "start_time": "2022-06-06T15:33:14.985Z"
      },
      {
        "duration": 6202,
        "start_time": "2022-06-06T15:33:56.745Z"
      },
      {
        "duration": 1176,
        "start_time": "2022-06-06T15:34:15.814Z"
      },
      {
        "duration": 48,
        "start_time": "2022-06-06T16:18:58.145Z"
      },
      {
        "duration": 26,
        "start_time": "2022-06-06T16:18:58.528Z"
      },
      {
        "duration": 1003,
        "start_time": "2022-06-06T16:26:36.249Z"
      },
      {
        "duration": 42,
        "start_time": "2022-06-06T16:26:37.254Z"
      },
      {
        "duration": 38,
        "start_time": "2022-06-06T16:26:37.299Z"
      },
      {
        "duration": 13,
        "start_time": "2022-06-06T16:26:37.340Z"
      },
      {
        "duration": 12,
        "start_time": "2022-06-06T16:26:37.356Z"
      },
      {
        "duration": 19,
        "start_time": "2022-06-06T16:26:37.371Z"
      },
      {
        "duration": 117,
        "start_time": "2022-06-06T16:26:37.393Z"
      },
      {
        "duration": 12,
        "start_time": "2022-06-06T16:26:37.512Z"
      },
      {
        "duration": 45,
        "start_time": "2022-06-06T16:26:37.526Z"
      },
      {
        "duration": 17,
        "start_time": "2022-06-06T16:26:37.573Z"
      },
      {
        "duration": 17,
        "start_time": "2022-06-06T16:26:37.592Z"
      },
      {
        "duration": 22,
        "start_time": "2022-06-06T16:26:37.611Z"
      },
      {
        "duration": 30,
        "start_time": "2022-06-06T16:26:37.636Z"
      },
      {
        "duration": 22,
        "start_time": "2022-06-06T16:26:37.668Z"
      },
      {
        "duration": 138,
        "start_time": "2022-06-06T16:26:37.693Z"
      },
      {
        "duration": 134,
        "start_time": "2022-06-06T16:26:37.834Z"
      },
      {
        "duration": 975,
        "start_time": "2022-06-06T16:26:37.970Z"
      },
      {
        "duration": 47382,
        "start_time": "2022-06-06T16:26:38.948Z"
      },
      {
        "duration": 966,
        "start_time": "2022-06-06T16:27:26.332Z"
      },
      {
        "duration": 975,
        "start_time": "2022-06-06T16:27:27.300Z"
      },
      {
        "duration": 4,
        "start_time": "2022-06-06T16:27:28.277Z"
      },
      {
        "duration": 526,
        "start_time": "2022-06-06T16:27:28.283Z"
      },
      {
        "duration": 5,
        "start_time": "2022-06-06T16:27:28.811Z"
      },
      {
        "duration": 39,
        "start_time": "2022-06-06T16:27:28.819Z"
      },
      {
        "duration": 14706,
        "start_time": "2022-06-06T16:27:28.860Z"
      },
      {
        "duration": 9,
        "start_time": "2022-06-06T16:27:43.568Z"
      },
      {
        "duration": 76,
        "start_time": "2022-06-06T16:27:43.578Z"
      },
      {
        "duration": 12,
        "start_time": "2022-06-06T16:31:19.029Z"
      },
      {
        "duration": 78,
        "start_time": "2022-06-06T16:31:19.349Z"
      },
      {
        "duration": 11535,
        "start_time": "2022-06-06T16:33:20.121Z"
      },
      {
        "duration": 6,
        "start_time": "2022-06-06T16:33:38.698Z"
      },
      {
        "duration": 64,
        "start_time": "2022-06-06T16:33:38.706Z"
      },
      {
        "duration": 28,
        "start_time": "2022-06-06T16:33:38.773Z"
      },
      {
        "duration": 16,
        "start_time": "2022-06-06T16:33:38.803Z"
      },
      {
        "duration": 5,
        "start_time": "2022-06-06T16:33:38.822Z"
      },
      {
        "duration": 31,
        "start_time": "2022-06-06T16:33:38.829Z"
      },
      {
        "duration": 31,
        "start_time": "2022-06-06T16:33:38.862Z"
      },
      {
        "duration": 4,
        "start_time": "2022-06-06T16:33:38.894Z"
      },
      {
        "duration": 11,
        "start_time": "2022-06-06T16:33:38.899Z"
      },
      {
        "duration": 12,
        "start_time": "2022-06-06T16:33:38.912Z"
      },
      {
        "duration": 30,
        "start_time": "2022-06-06T16:33:38.926Z"
      },
      {
        "duration": 15,
        "start_time": "2022-06-06T16:33:38.958Z"
      },
      {
        "duration": 13,
        "start_time": "2022-06-06T16:33:38.976Z"
      },
      {
        "duration": 22,
        "start_time": "2022-06-06T16:33:38.991Z"
      },
      {
        "duration": 72,
        "start_time": "2022-06-06T16:33:39.015Z"
      },
      {
        "duration": 139,
        "start_time": "2022-06-06T16:33:39.127Z"
      },
      {
        "duration": 1084,
        "start_time": "2022-06-06T16:33:39.267Z"
      },
      {
        "duration": 11451,
        "start_time": "2022-06-06T16:33:40.356Z"
      },
      {
        "duration": 1085,
        "start_time": "2022-06-06T16:33:51.809Z"
      },
      {
        "duration": 1023,
        "start_time": "2022-06-06T16:33:52.897Z"
      },
      {
        "duration": 7,
        "start_time": "2022-06-06T16:33:53.925Z"
      },
      {
        "duration": 198,
        "start_time": "2022-06-06T16:33:53.934Z"
      },
      {
        "duration": 6,
        "start_time": "2022-06-06T16:33:54.134Z"
      },
      {
        "duration": 27,
        "start_time": "2022-06-06T16:33:54.142Z"
      },
      {
        "duration": 16083,
        "start_time": "2022-06-06T16:33:54.170Z"
      },
      {
        "duration": 10,
        "start_time": "2022-06-06T16:34:10.255Z"
      },
      {
        "duration": 72,
        "start_time": "2022-06-06T16:34:10.267Z"
      },
      {
        "duration": 9,
        "start_time": "2022-06-06T16:37:42.750Z"
      },
      {
        "duration": 58,
        "start_time": "2022-06-06T16:37:42.761Z"
      },
      {
        "duration": 32,
        "start_time": "2022-06-06T16:37:42.821Z"
      },
      {
        "duration": 42,
        "start_time": "2022-06-06T16:37:42.855Z"
      },
      {
        "duration": 15,
        "start_time": "2022-06-06T16:37:42.900Z"
      },
      {
        "duration": 12,
        "start_time": "2022-06-06T16:37:42.918Z"
      },
      {
        "duration": 60,
        "start_time": "2022-06-06T16:37:42.932Z"
      },
      {
        "duration": 5,
        "start_time": "2022-06-06T16:37:42.995Z"
      },
      {
        "duration": 13,
        "start_time": "2022-06-06T16:37:43.003Z"
      },
      {
        "duration": 11,
        "start_time": "2022-06-06T16:37:43.018Z"
      },
      {
        "duration": 27,
        "start_time": "2022-06-06T16:37:43.031Z"
      },
      {
        "duration": 7,
        "start_time": "2022-06-06T16:37:43.061Z"
      },
      {
        "duration": 16,
        "start_time": "2022-06-06T16:37:43.070Z"
      },
      {
        "duration": 18,
        "start_time": "2022-06-06T16:37:43.092Z"
      },
      {
        "duration": 115,
        "start_time": "2022-06-06T16:37:43.112Z"
      },
      {
        "duration": 149,
        "start_time": "2022-06-06T16:37:43.233Z"
      },
      {
        "duration": 1144,
        "start_time": "2022-06-06T16:37:43.385Z"
      },
      {
        "duration": 13157,
        "start_time": "2022-06-06T16:37:44.534Z"
      },
      {
        "duration": 1370,
        "start_time": "2022-06-06T16:37:57.695Z"
      },
      {
        "duration": 1237,
        "start_time": "2022-06-06T16:37:59.068Z"
      },
      {
        "duration": 7,
        "start_time": "2022-06-06T16:38:00.308Z"
      },
      {
        "duration": 244,
        "start_time": "2022-06-06T16:38:00.325Z"
      },
      {
        "duration": 5,
        "start_time": "2022-06-06T16:38:00.571Z"
      },
      {
        "duration": 32,
        "start_time": "2022-06-06T16:38:00.578Z"
      },
      {
        "duration": 17626,
        "start_time": "2022-06-06T16:38:00.612Z"
      },
      {
        "duration": 12,
        "start_time": "2022-06-06T16:38:18.241Z"
      },
      {
        "duration": 108,
        "start_time": "2022-06-06T16:38:18.255Z"
      },
      {
        "duration": 13,
        "start_time": "2022-06-06T16:39:38.579Z"
      },
      {
        "duration": 17627,
        "start_time": "2022-06-06T16:39:39.412Z"
      },
      {
        "duration": 84,
        "start_time": "2022-06-06T16:40:09.180Z"
      },
      {
        "duration": 77,
        "start_time": "2022-06-06T16:40:11.259Z"
      },
      {
        "duration": 12,
        "start_time": "2022-06-06T16:40:13.269Z"
      },
      {
        "duration": 64,
        "start_time": "2022-06-06T16:40:13.509Z"
      },
      {
        "duration": 13,
        "start_time": "2022-06-06T16:40:16.942Z"
      },
      {
        "duration": 81,
        "start_time": "2022-06-06T16:40:17.248Z"
      },
      {
        "duration": 12,
        "start_time": "2022-06-06T16:41:08.486Z"
      },
      {
        "duration": 15019,
        "start_time": "2022-06-06T16:41:08.959Z"
      },
      {
        "duration": 11,
        "start_time": "2022-06-06T16:41:34.019Z"
      },
      {
        "duration": 63,
        "start_time": "2022-06-06T16:41:34.808Z"
      },
      {
        "duration": 999,
        "start_time": "2022-06-06T16:48:13.710Z"
      },
      {
        "duration": 98,
        "start_time": "2022-06-06T16:54:10.930Z"
      },
      {
        "duration": 1426,
        "start_time": "2022-06-06T16:54:18.634Z"
      },
      {
        "duration": 183,
        "start_time": "2022-06-06T16:54:28.793Z"
      },
      {
        "duration": 189,
        "start_time": "2022-06-06T16:55:55.164Z"
      },
      {
        "duration": 189,
        "start_time": "2022-06-06T16:57:28.514Z"
      },
      {
        "duration": 214,
        "start_time": "2022-06-06T17:00:35.516Z"
      },
      {
        "duration": 206,
        "start_time": "2022-06-06T17:01:29.176Z"
      },
      {
        "duration": 183,
        "start_time": "2022-06-06T17:02:20.587Z"
      },
      {
        "duration": 118,
        "start_time": "2022-06-06T17:02:37.615Z"
      },
      {
        "duration": 50,
        "start_time": "2022-06-06T17:02:47.266Z"
      },
      {
        "duration": 14,
        "start_time": "2022-06-06T17:04:59.044Z"
      },
      {
        "duration": 13,
        "start_time": "2022-06-06T17:05:55.645Z"
      },
      {
        "duration": 15,
        "start_time": "2022-06-06T17:06:01.376Z"
      },
      {
        "duration": 15,
        "start_time": "2022-06-06T17:07:53.800Z"
      },
      {
        "duration": 1007,
        "start_time": "2022-06-06T17:08:08.147Z"
      },
      {
        "duration": 67,
        "start_time": "2022-06-06T17:10:56.319Z"
      },
      {
        "duration": 11216,
        "start_time": "2022-06-06T17:11:12.885Z"
      },
      {
        "duration": 99,
        "start_time": "2022-06-06T17:11:55.221Z"
      },
      {
        "duration": 93,
        "start_time": "2022-06-06T17:12:14.101Z"
      },
      {
        "duration": 112,
        "start_time": "2022-06-06T17:12:18.102Z"
      },
      {
        "duration": 101,
        "start_time": "2022-06-06T17:12:19.084Z"
      },
      {
        "duration": 7,
        "start_time": "2022-06-06T17:12:22.479Z"
      },
      {
        "duration": 60,
        "start_time": "2022-06-06T17:12:22.489Z"
      },
      {
        "duration": 36,
        "start_time": "2022-06-06T17:12:22.552Z"
      },
      {
        "duration": 38,
        "start_time": "2022-06-06T17:12:22.590Z"
      },
      {
        "duration": 39,
        "start_time": "2022-06-06T17:12:22.631Z"
      },
      {
        "duration": 28,
        "start_time": "2022-06-06T17:12:22.672Z"
      },
      {
        "duration": 58,
        "start_time": "2022-06-06T17:12:22.701Z"
      },
      {
        "duration": 52,
        "start_time": "2022-06-06T17:12:22.765Z"
      },
      {
        "duration": 65,
        "start_time": "2022-06-06T17:12:22.819Z"
      },
      {
        "duration": 34,
        "start_time": "2022-06-06T17:12:22.886Z"
      },
      {
        "duration": 70,
        "start_time": "2022-06-06T17:12:22.922Z"
      },
      {
        "duration": 12,
        "start_time": "2022-06-06T17:12:22.993Z"
      },
      {
        "duration": 21,
        "start_time": "2022-06-06T17:12:23.007Z"
      },
      {
        "duration": 66,
        "start_time": "2022-06-06T17:12:23.033Z"
      },
      {
        "duration": 56,
        "start_time": "2022-06-06T17:12:23.100Z"
      },
      {
        "duration": 129,
        "start_time": "2022-06-06T17:12:23.158Z"
      },
      {
        "duration": 253,
        "start_time": "2022-06-06T17:12:23.289Z"
      },
      {
        "duration": 16,
        "start_time": "2022-06-06T17:12:23.544Z"
      },
      {
        "duration": 50,
        "start_time": "2022-06-06T17:12:23.562Z"
      },
      {
        "duration": 1150,
        "start_time": "2022-06-06T17:12:23.614Z"
      },
      {
        "duration": 12894,
        "start_time": "2022-06-06T17:12:24.766Z"
      },
      {
        "duration": 76,
        "start_time": "2022-06-06T17:12:37.664Z"
      },
      {
        "duration": 84,
        "start_time": "2022-06-06T17:12:37.741Z"
      },
      {
        "duration": 13,
        "start_time": "2022-06-06T17:12:37.827Z"
      },
      {
        "duration": 257,
        "start_time": "2022-06-06T17:12:37.841Z"
      },
      {
        "duration": 4,
        "start_time": "2022-06-06T17:12:38.100Z"
      },
      {
        "duration": 15,
        "start_time": "2022-06-06T17:12:38.105Z"
      },
      {
        "duration": 16657,
        "start_time": "2022-06-06T17:12:38.122Z"
      },
      {
        "duration": 108,
        "start_time": "2022-06-06T17:12:54.791Z"
      },
      {
        "duration": 328,
        "start_time": "2022-06-06T17:16:18.068Z"
      },
      {
        "duration": 316,
        "start_time": "2022-06-06T17:16:23.174Z"
      },
      {
        "duration": 54,
        "start_time": "2022-06-06T17:16:50.753Z"
      },
      {
        "duration": 374,
        "start_time": "2022-06-06T17:16:54.390Z"
      },
      {
        "duration": 335,
        "start_time": "2022-06-06T17:17:10.605Z"
      },
      {
        "duration": 26,
        "start_time": "2022-06-06T17:20:03.426Z"
      },
      {
        "duration": 14993,
        "start_time": "2022-06-06T17:20:21.218Z"
      },
      {
        "duration": 60,
        "start_time": "2022-06-06T17:20:58.326Z"
      },
      {
        "duration": 22,
        "start_time": "2022-06-06T17:21:25.722Z"
      },
      {
        "duration": 268,
        "start_time": "2022-06-06T17:21:28.468Z"
      },
      {
        "duration": 16,
        "start_time": "2022-06-06T17:21:31.563Z"
      },
      {
        "duration": 15,
        "start_time": "2022-06-06T17:21:59.562Z"
      },
      {
        "duration": 249,
        "start_time": "2022-06-06T17:22:08.054Z"
      },
      {
        "duration": 13,
        "start_time": "2022-06-06T17:22:10.102Z"
      },
      {
        "duration": 47,
        "start_time": "2022-06-06T17:42:46.218Z"
      }
    ],
    "kernelspec": {
      "display_name": "Python 3 (ipykernel)",
      "language": "python",
      "name": "python3"
    },
    "language_info": {
      "codemirror_mode": {
        "name": "ipython",
        "version": 3
      },
      "file_extension": ".py",
      "mimetype": "text/x-python",
      "name": "python",
      "nbconvert_exporter": "python",
      "pygments_lexer": "ipython3",
      "version": "3.9.5"
    },
    "toc": {
      "base_numbering": 1,
      "nav_menu": {},
      "number_sections": true,
      "sideBar": true,
      "skip_h1_title": true,
      "title_cell": "Содержание",
      "title_sidebar": "Contents",
      "toc_cell": true,
      "toc_position": {},
      "toc_section_display": true,
      "toc_window_display": true
    },
    "colab": {
      "provenance": []
    }
  },
  "nbformat": 4,
  "nbformat_minor": 0
}